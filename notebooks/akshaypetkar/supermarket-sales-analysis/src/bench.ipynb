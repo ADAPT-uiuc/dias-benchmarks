{
 "cells": [
  {
   "cell_type": "code",
   "execution_count": 1,
   "id": "d37654d9",
   "metadata": {
    "_cell_guid": "b1076dfc-b9ad-4769-8c92-a6c4dae69d19",
    "_uuid": "8f2839f25d086af736a60e9eeb907d3b93b6e0e5",
    "execution": {
     "iopub.execute_input": "2023-09-28T08:14:28.100376Z",
     "iopub.status.busy": "2023-09-28T08:14:28.099948Z",
     "iopub.status.idle": "2023-09-28T08:14:30.212050Z",
     "shell.execute_reply": "2023-09-28T08:14:30.210818Z"
    },
    "papermill": {
     "duration": 2.125484,
     "end_time": "2023-09-28T08:14:30.215033",
     "exception": false,
     "start_time": "2023-09-28T08:14:28.089549",
     "status": "completed"
    },
    "tags": []
   },
   "outputs": [],
   "source": [
    "import pandas as pd \n",
    "import numpy as np"
   ]
  },
  {
   "cell_type": "code",
   "execution_count": 2,
   "id": "148247b9",
   "metadata": {
    "execution": {
     "iopub.execute_input": "2023-09-28T08:14:30.232787Z",
     "iopub.status.busy": "2023-09-28T08:14:30.232193Z",
     "iopub.status.idle": "2023-09-28T08:14:30.278617Z",
     "shell.execute_reply": "2023-09-28T08:14:30.277418Z"
    },
    "papermill": {
     "duration": 0.058647,
     "end_time": "2023-09-28T08:14:30.281588",
     "exception": false,
     "start_time": "2023-09-28T08:14:30.222941",
     "status": "completed"
    },
    "tags": []
   },
   "outputs": [
    {
     "data": {
      "text/html": [
       "<div>\n",
       "<style scoped>\n",
       "    .dataframe tbody tr th:only-of-type {\n",
       "        vertical-align: middle;\n",
       "    }\n",
       "\n",
       "    .dataframe tbody tr th {\n",
       "        vertical-align: top;\n",
       "    }\n",
       "\n",
       "    .dataframe thead th {\n",
       "        text-align: right;\n",
       "    }\n",
       "</style>\n",
       "<table border=\"1\" class=\"dataframe\">\n",
       "  <thead>\n",
       "    <tr style=\"text-align: right;\">\n",
       "      <th></th>\n",
       "      <th>Item Code</th>\n",
       "      <th>Item Name</th>\n",
       "      <th>Category Code</th>\n",
       "      <th>Category Name</th>\n",
       "    </tr>\n",
       "  </thead>\n",
       "  <tbody>\n",
       "    <tr>\n",
       "      <th>0</th>\n",
       "      <td>102900005115168</td>\n",
       "      <td>Niushou Shengcai</td>\n",
       "      <td>1011010101</td>\n",
       "      <td>Flower/Leaf Vegetables</td>\n",
       "    </tr>\n",
       "    <tr>\n",
       "      <th>1</th>\n",
       "      <td>102900005115199</td>\n",
       "      <td>Sichuan Red Cedar</td>\n",
       "      <td>1011010101</td>\n",
       "      <td>Flower/Leaf Vegetables</td>\n",
       "    </tr>\n",
       "    <tr>\n",
       "      <th>2</th>\n",
       "      <td>102900005115625</td>\n",
       "      <td>Local Xiaomao Cabbage</td>\n",
       "      <td>1011010101</td>\n",
       "      <td>Flower/Leaf Vegetables</td>\n",
       "    </tr>\n",
       "    <tr>\n",
       "      <th>3</th>\n",
       "      <td>102900005115748</td>\n",
       "      <td>White Caitai</td>\n",
       "      <td>1011010101</td>\n",
       "      <td>Flower/Leaf Vegetables</td>\n",
       "    </tr>\n",
       "    <tr>\n",
       "      <th>4</th>\n",
       "      <td>102900005115762</td>\n",
       "      <td>Amaranth</td>\n",
       "      <td>1011010101</td>\n",
       "      <td>Flower/Leaf Vegetables</td>\n",
       "    </tr>\n",
       "  </tbody>\n",
       "</table>\n",
       "</div>"
      ],
      "text/plain": [
       "         Item Code              Item Name  Category Code  \\\n",
       "0  102900005115168       Niushou Shengcai     1011010101   \n",
       "1  102900005115199      Sichuan Red Cedar     1011010101   \n",
       "2  102900005115625  Local Xiaomao Cabbage     1011010101   \n",
       "3  102900005115748           White Caitai     1011010101   \n",
       "4  102900005115762               Amaranth     1011010101   \n",
       "\n",
       "            Category Name  \n",
       "0  Flower/Leaf Vegetables  \n",
       "1  Flower/Leaf Vegetables  \n",
       "2  Flower/Leaf Vegetables  \n",
       "3  Flower/Leaf Vegetables  \n",
       "4  Flower/Leaf Vegetables  "
      ]
     },
     "execution_count": 2,
     "metadata": {},
     "output_type": "execute_result"
    }
   ],
   "source": [
    "df = pd.read_csv('../input/annex1.csv')\n",
    "df.head()"
   ]
  },
  {
   "cell_type": "code",
   "execution_count": 3,
   "id": "e762fb5d",
   "metadata": {
    "execution": {
     "iopub.execute_input": "2023-09-28T08:14:30.299219Z",
     "iopub.status.busy": "2023-09-28T08:14:30.298817Z",
     "iopub.status.idle": "2023-09-28T08:14:32.636025Z",
     "shell.execute_reply": "2023-09-28T08:14:32.634677Z"
    },
    "papermill": {
     "duration": 2.349782,
     "end_time": "2023-09-28T08:14:32.639427",
     "exception": false,
     "start_time": "2023-09-28T08:14:30.289645",
     "status": "completed"
    },
    "tags": []
   },
   "outputs": [
    {
     "data": {
      "text/html": [
       "<div>\n",
       "<style scoped>\n",
       "    .dataframe tbody tr th:only-of-type {\n",
       "        vertical-align: middle;\n",
       "    }\n",
       "\n",
       "    .dataframe tbody tr th {\n",
       "        vertical-align: top;\n",
       "    }\n",
       "\n",
       "    .dataframe thead th {\n",
       "        text-align: right;\n",
       "    }\n",
       "</style>\n",
       "<table border=\"1\" class=\"dataframe\">\n",
       "  <thead>\n",
       "    <tr style=\"text-align: right;\">\n",
       "      <th></th>\n",
       "      <th>Date</th>\n",
       "      <th>Time</th>\n",
       "      <th>Item Code</th>\n",
       "      <th>Quantity Sold (kilo)</th>\n",
       "      <th>Unit Selling Price (RMB/kg)</th>\n",
       "      <th>Sale or Return</th>\n",
       "      <th>Discount (Yes/No)</th>\n",
       "    </tr>\n",
       "  </thead>\n",
       "  <tbody>\n",
       "    <tr>\n",
       "      <th>0</th>\n",
       "      <td>2020-07-01</td>\n",
       "      <td>09:15:07.924</td>\n",
       "      <td>102900005117056</td>\n",
       "      <td>0.396</td>\n",
       "      <td>7.6</td>\n",
       "      <td>sale</td>\n",
       "      <td>No</td>\n",
       "    </tr>\n",
       "    <tr>\n",
       "      <th>1</th>\n",
       "      <td>2020-07-01</td>\n",
       "      <td>09:17:27.295</td>\n",
       "      <td>102900005115960</td>\n",
       "      <td>0.849</td>\n",
       "      <td>3.2</td>\n",
       "      <td>sale</td>\n",
       "      <td>No</td>\n",
       "    </tr>\n",
       "    <tr>\n",
       "      <th>2</th>\n",
       "      <td>2020-07-01</td>\n",
       "      <td>09:17:33.905</td>\n",
       "      <td>102900005117056</td>\n",
       "      <td>0.409</td>\n",
       "      <td>7.6</td>\n",
       "      <td>sale</td>\n",
       "      <td>No</td>\n",
       "    </tr>\n",
       "    <tr>\n",
       "      <th>3</th>\n",
       "      <td>2020-07-01</td>\n",
       "      <td>09:19:45.450</td>\n",
       "      <td>102900005115823</td>\n",
       "      <td>0.421</td>\n",
       "      <td>10.0</td>\n",
       "      <td>sale</td>\n",
       "      <td>No</td>\n",
       "    </tr>\n",
       "    <tr>\n",
       "      <th>4</th>\n",
       "      <td>2020-07-01</td>\n",
       "      <td>09:20:23.686</td>\n",
       "      <td>102900005115908</td>\n",
       "      <td>0.539</td>\n",
       "      <td>8.0</td>\n",
       "      <td>sale</td>\n",
       "      <td>No</td>\n",
       "    </tr>\n",
       "  </tbody>\n",
       "</table>\n",
       "</div>"
      ],
      "text/plain": [
       "         Date          Time        Item Code  Quantity Sold (kilo)  \\\n",
       "0  2020-07-01  09:15:07.924  102900005117056                 0.396   \n",
       "1  2020-07-01  09:17:27.295  102900005115960                 0.849   \n",
       "2  2020-07-01  09:17:33.905  102900005117056                 0.409   \n",
       "3  2020-07-01  09:19:45.450  102900005115823                 0.421   \n",
       "4  2020-07-01  09:20:23.686  102900005115908                 0.539   \n",
       "\n",
       "   Unit Selling Price (RMB/kg) Sale or Return Discount (Yes/No)  \n",
       "0                          7.6           sale                No  \n",
       "1                          3.2           sale                No  \n",
       "2                          7.6           sale                No  \n",
       "3                         10.0           sale                No  \n",
       "4                          8.0           sale                No  "
      ]
     },
     "execution_count": 3,
     "metadata": {},
     "output_type": "execute_result"
    }
   ],
   "source": [
    "df1 = pd.read_csv('../input/annex2.csv')\n",
    "df1.head()"
   ]
  },
  {
   "cell_type": "code",
   "execution_count": 4,
   "id": "7944aa78",
   "metadata": {
    "execution": {
     "iopub.execute_input": "2023-09-28T08:14:32.665077Z",
     "iopub.status.busy": "2023-09-28T08:14:32.664494Z",
     "iopub.status.idle": "2023-09-28T08:14:33.287300Z",
     "shell.execute_reply": "2023-09-28T08:14:33.286130Z"
    },
    "papermill": {
     "duration": 0.639584,
     "end_time": "2023-09-28T08:14:33.291157",
     "exception": false,
     "start_time": "2023-09-28T08:14:32.651573",
     "status": "completed"
    },
    "tags": []
   },
   "outputs": [
    {
     "data": {
      "text/html": [
       "<div>\n",
       "<style scoped>\n",
       "    .dataframe tbody tr th:only-of-type {\n",
       "        vertical-align: middle;\n",
       "    }\n",
       "\n",
       "    .dataframe tbody tr th {\n",
       "        vertical-align: top;\n",
       "    }\n",
       "\n",
       "    .dataframe thead th {\n",
       "        text-align: right;\n",
       "    }\n",
       "</style>\n",
       "<table border=\"1\" class=\"dataframe\">\n",
       "  <thead>\n",
       "    <tr style=\"text-align: right;\">\n",
       "      <th></th>\n",
       "      <th>Item Code</th>\n",
       "      <th>Item Name</th>\n",
       "      <th>Category Code</th>\n",
       "      <th>Category Name</th>\n",
       "      <th>Date</th>\n",
       "      <th>Time</th>\n",
       "      <th>Quantity Sold (kilo)</th>\n",
       "      <th>Unit Selling Price (RMB/kg)</th>\n",
       "      <th>Sale or Return</th>\n",
       "      <th>Discount (Yes/No)</th>\n",
       "    </tr>\n",
       "  </thead>\n",
       "  <tbody>\n",
       "    <tr>\n",
       "      <th>0</th>\n",
       "      <td>102900005115168</td>\n",
       "      <td>Niushou Shengcai</td>\n",
       "      <td>1011010101</td>\n",
       "      <td>Flower/Leaf Vegetables</td>\n",
       "      <td>2020-10-30</td>\n",
       "      <td>10:02:13.748</td>\n",
       "      <td>0.743</td>\n",
       "      <td>5.0</td>\n",
       "      <td>sale</td>\n",
       "      <td>No</td>\n",
       "    </tr>\n",
       "    <tr>\n",
       "      <th>1</th>\n",
       "      <td>102900005115168</td>\n",
       "      <td>Niushou Shengcai</td>\n",
       "      <td>1011010101</td>\n",
       "      <td>Flower/Leaf Vegetables</td>\n",
       "      <td>2020-10-30</td>\n",
       "      <td>10:48:42.707</td>\n",
       "      <td>0.502</td>\n",
       "      <td>5.0</td>\n",
       "      <td>sale</td>\n",
       "      <td>No</td>\n",
       "    </tr>\n",
       "    <tr>\n",
       "      <th>2</th>\n",
       "      <td>102900005115168</td>\n",
       "      <td>Niushou Shengcai</td>\n",
       "      <td>1011010101</td>\n",
       "      <td>Flower/Leaf Vegetables</td>\n",
       "      <td>2020-10-30</td>\n",
       "      <td>11:10:13.023</td>\n",
       "      <td>0.301</td>\n",
       "      <td>5.0</td>\n",
       "      <td>sale</td>\n",
       "      <td>No</td>\n",
       "    </tr>\n",
       "    <tr>\n",
       "      <th>3</th>\n",
       "      <td>102900005115168</td>\n",
       "      <td>Niushou Shengcai</td>\n",
       "      <td>1011010101</td>\n",
       "      <td>Flower/Leaf Vegetables</td>\n",
       "      <td>2020-10-30</td>\n",
       "      <td>12:34:32.084</td>\n",
       "      <td>0.382</td>\n",
       "      <td>5.0</td>\n",
       "      <td>sale</td>\n",
       "      <td>No</td>\n",
       "    </tr>\n",
       "    <tr>\n",
       "      <th>4</th>\n",
       "      <td>102900005115168</td>\n",
       "      <td>Niushou Shengcai</td>\n",
       "      <td>1011010101</td>\n",
       "      <td>Flower/Leaf Vegetables</td>\n",
       "      <td>2020-10-30</td>\n",
       "      <td>13:33:59.748</td>\n",
       "      <td>0.261</td>\n",
       "      <td>5.0</td>\n",
       "      <td>sale</td>\n",
       "      <td>No</td>\n",
       "    </tr>\n",
       "  </tbody>\n",
       "</table>\n",
       "</div>"
      ],
      "text/plain": [
       "         Item Code         Item Name  Category Code           Category Name  \\\n",
       "0  102900005115168  Niushou Shengcai     1011010101  Flower/Leaf Vegetables   \n",
       "1  102900005115168  Niushou Shengcai     1011010101  Flower/Leaf Vegetables   \n",
       "2  102900005115168  Niushou Shengcai     1011010101  Flower/Leaf Vegetables   \n",
       "3  102900005115168  Niushou Shengcai     1011010101  Flower/Leaf Vegetables   \n",
       "4  102900005115168  Niushou Shengcai     1011010101  Flower/Leaf Vegetables   \n",
       "\n",
       "         Date          Time  Quantity Sold (kilo)  \\\n",
       "0  2020-10-30  10:02:13.748                 0.743   \n",
       "1  2020-10-30  10:48:42.707                 0.502   \n",
       "2  2020-10-30  11:10:13.023                 0.301   \n",
       "3  2020-10-30  12:34:32.084                 0.382   \n",
       "4  2020-10-30  13:33:59.748                 0.261   \n",
       "\n",
       "   Unit Selling Price (RMB/kg) Sale or Return Discount (Yes/No)  \n",
       "0                          5.0           sale                No  \n",
       "1                          5.0           sale                No  \n",
       "2                          5.0           sale                No  \n",
       "3                          5.0           sale                No  \n",
       "4                          5.0           sale                No  "
      ]
     },
     "execution_count": 4,
     "metadata": {},
     "output_type": "execute_result"
    }
   ],
   "source": [
    "# Join the both DataFrames\n",
    "\n",
    "merge = pd.merge(df, df1, on ='Item Code')\n",
    "merge.head()"
   ]
  },
  {
   "cell_type": "code",
   "execution_count": 5,
   "id": "b1d82437",
   "metadata": {},
   "outputs": [
    {
     "name": "stdout",
     "output_type": "stream",
     "text": [
      "<class 'pandas.core.frame.DataFrame'>\n",
      "RangeIndex: 2635509 entries, 0 to 2635508\n",
      "Data columns (total 10 columns):\n",
      " #   Column                       Dtype  \n",
      "---  ------                       -----  \n",
      " 0   Item Code                    int64  \n",
      " 1   Item Name                    object \n",
      " 2   Category Code                int64  \n",
      " 3   Category Name                object \n",
      " 4   Date                         object \n",
      " 5   Time                         object \n",
      " 6   Quantity Sold (kilo)         float64\n",
      " 7   Unit Selling Price (RMB/kg)  float64\n",
      " 8   Sale or Return               object \n",
      " 9   Discount (Yes/No)            object \n",
      "dtypes: float64(2), int64(2), object(6)\n",
      "memory usage: 201.1+ MB\n"
     ]
    }
   ],
   "source": [
    "df = merge\n",
    "intended_df_size_in_MB = 256\n",
    "factor = intended_df_size_in_MB*(2**20)/df.memory_usage(index=True).sum()\n",
    "if int(factor) > 0:\n",
    "    df = pd.concat([df]*int(factor), ignore_index=True)\n",
    "else:\n",
    "    rowCount = int(df.shape[0]*factor)\n",
    "    df = df[0:rowCount]\n",
    "merge = df\n",
    "merge.info()"
   ]
  },
  {
   "cell_type": "markdown",
   "id": "bc5587d8",
   "metadata": {
    "papermill": {
     "duration": 0.008942,
     "end_time": "2023-09-28T08:14:33.309501",
     "exception": false,
     "start_time": "2023-09-28T08:14:33.300559",
     "status": "completed"
    },
    "tags": []
   },
   "source": [
    "# Data Preparation"
   ]
  },
  {
   "cell_type": "code",
   "execution_count": 6,
   "id": "20bcf1b5",
   "metadata": {
    "execution": {
     "iopub.execute_input": "2023-09-28T08:14:33.328181Z",
     "iopub.status.busy": "2023-09-28T08:14:33.327758Z",
     "iopub.status.idle": "2023-09-28T08:14:33.570119Z",
     "shell.execute_reply": "2023-09-28T08:14:33.568857Z"
    },
    "papermill": {
     "duration": 0.255035,
     "end_time": "2023-09-28T08:14:33.573025",
     "exception": false,
     "start_time": "2023-09-28T08:14:33.317990",
     "status": "completed"
    },
    "tags": []
   },
   "outputs": [],
   "source": [
    "# Rename Columns\n",
    "merge = merge.rename(columns={'Quantity Sold (kilo)':'Quantity Sold', 'Unit Selling Price (RMB/kg)':'Unit Selling Price','Discount (Yes/No)':'Discount'})"
   ]
  },
  {
   "cell_type": "code",
   "execution_count": 7,
   "id": "d040efec",
   "metadata": {
    "execution": {
     "iopub.execute_input": "2023-09-28T08:14:33.593569Z",
     "iopub.status.busy": "2023-09-28T08:14:33.592113Z",
     "iopub.status.idle": "2023-09-28T08:14:33.751803Z",
     "shell.execute_reply": "2023-09-28T08:14:33.750582Z"
    },
    "papermill": {
     "duration": 0.172619,
     "end_time": "2023-09-28T08:14:33.754714",
     "exception": false,
     "start_time": "2023-09-28T08:14:33.582095",
     "status": "completed"
    },
    "tags": []
   },
   "outputs": [],
   "source": [
    "#Change datatype of date column.\n",
    "\n",
    "merge['Date'] = pd.to_datetime(merge['Date'])"
   ]
  },
  {
   "cell_type": "code",
   "execution_count": 8,
   "id": "88009a8f",
   "metadata": {
    "execution": {
     "iopub.execute_input": "2023-09-28T08:14:33.773995Z",
     "iopub.status.busy": "2023-09-28T08:14:33.773558Z",
     "iopub.status.idle": "2023-09-28T08:14:34.293924Z",
     "shell.execute_reply": "2023-09-28T08:14:34.292668Z"
    },
    "papermill": {
     "duration": 0.532994,
     "end_time": "2023-09-28T08:14:34.296437",
     "exception": false,
     "start_time": "2023-09-28T08:14:33.763443",
     "status": "completed"
    },
    "tags": []
   },
   "outputs": [
    {
     "data": {
      "text/plain": [
       "Item Code             0\n",
       "Item Name             0\n",
       "Category Code         0\n",
       "Category Name         0\n",
       "Date                  0\n",
       "Time                  0\n",
       "Quantity Sold         0\n",
       "Unit Selling Price    0\n",
       "Sale or Return        0\n",
       "Discount              0\n",
       "dtype: int64"
      ]
     },
     "execution_count": 8,
     "metadata": {},
     "output_type": "execute_result"
    }
   ],
   "source": [
    "merge.isnull().sum()"
   ]
  },
  {
   "cell_type": "markdown",
   "id": "841813f5",
   "metadata": {
    "papermill": {
     "duration": 0.008278,
     "end_time": "2023-09-28T08:14:34.313916",
     "exception": false,
     "start_time": "2023-09-28T08:14:34.305638",
     "status": "completed"
    },
    "tags": []
   },
   "source": [
    "# Exploratory Data Analysis"
   ]
  },
  {
   "cell_type": "code",
   "execution_count": 9,
   "id": "9663d721",
   "metadata": {
    "execution": {
     "iopub.execute_input": "2023-09-28T08:14:34.333626Z",
     "iopub.status.busy": "2023-09-28T08:14:34.332853Z",
     "iopub.status.idle": "2023-09-28T08:14:34.451731Z",
     "shell.execute_reply": "2023-09-28T08:14:34.450531Z"
    },
    "papermill": {
     "duration": 0.131826,
     "end_time": "2023-09-28T08:14:34.454439",
     "exception": false,
     "start_time": "2023-09-28T08:14:34.322613",
     "status": "completed"
    },
    "tags": []
   },
   "outputs": [
    {
     "data": {
      "text/plain": [
       "Flower/Leaf Vegetables         995904\n",
       "Capsicum                       623988\n",
       "Edible Mushroom                445272\n",
       "Cabbage                        259710\n",
       "Aquatic Tuberous Vegetables    175941\n",
       "Solanum                        134694\n",
       "Name: Category Name, dtype: int64"
      ]
     },
     "execution_count": 9,
     "metadata": {},
     "output_type": "execute_result"
    }
   ],
   "source": [
    "Category_count = merge['Category Name'].value_counts()\n",
    "Category_count"
   ]
  },
  {
   "cell_type": "code",
   "execution_count": 10,
   "id": "d53519d3",
   "metadata": {
    "execution": {
     "iopub.execute_input": "2023-09-28T08:14:34.842022Z",
     "iopub.status.busy": "2023-09-28T08:14:34.841601Z",
     "iopub.status.idle": "2023-09-28T08:14:34.961567Z",
     "shell.execute_reply": "2023-09-28T08:14:34.960376Z"
    },
    "papermill": {
     "duration": 0.134603,
     "end_time": "2023-09-28T08:14:34.964627",
     "exception": false,
     "start_time": "2023-09-28T08:14:34.830024",
     "status": "completed"
    },
    "tags": []
   },
   "outputs": [
    {
     "data": {
      "text/plain": [
       "Wuhu Green Pepper (1)    209835\n",
       "Broccoli                 176718\n",
       "Xixia Mushroom (1)       142527\n",
       "Yunnan Shengcai          119661\n",
       "Net Lotus Root (1)       117855\n",
       "Eggplant (2)              82365\n",
       "Paopaojiao (Jingpin)      76014\n",
       "Yunnan Lettuces           69795\n",
       "Luosi Pepper              68034\n",
       "Chinese Cabbage           57444\n",
       "Name: Item Name, dtype: int64"
      ]
     },
     "execution_count": 10,
     "metadata": {},
     "output_type": "execute_result"
    }
   ],
   "source": [
    "top_10_products = merge['Item Name'].value_counts()[:10]\n",
    "top_10_products"
   ]
  },
  {
   "cell_type": "code",
   "execution_count": 11,
   "id": "5161f1fc",
   "metadata": {
    "execution": {
     "iopub.execute_input": "2023-09-28T08:14:35.386672Z",
     "iopub.status.busy": "2023-09-28T08:14:35.386229Z",
     "iopub.status.idle": "2023-09-28T08:14:35.396864Z",
     "shell.execute_reply": "2023-09-28T08:14:35.395550Z"
    },
    "papermill": {
     "duration": 0.025687,
     "end_time": "2023-09-28T08:14:35.399761",
     "exception": false,
     "start_time": "2023-09-28T08:14:35.374074",
     "status": "completed"
    },
    "tags": []
   },
   "outputs": [],
   "source": [
    "# Creating sales column\n",
    "\n",
    "merge['Sales'] = merge['Unit Selling Price'] * merge['Quantity Sold']"
   ]
  },
  {
   "cell_type": "code",
   "execution_count": 12,
   "id": "989707f2",
   "metadata": {
    "execution": {
     "iopub.execute_input": "2023-09-28T08:14:35.423983Z",
     "iopub.status.busy": "2023-09-28T08:14:35.423560Z",
     "iopub.status.idle": "2023-09-28T08:14:35.538769Z",
     "shell.execute_reply": "2023-09-28T08:14:35.537423Z"
    },
    "papermill": {
     "duration": 0.130696,
     "end_time": "2023-09-28T08:14:35.541589",
     "exception": false,
     "start_time": "2023-09-28T08:14:35.410893",
     "status": "completed"
    },
    "tags": []
   },
   "outputs": [
    {
     "data": {
      "text/html": [
       "<div>\n",
       "<style scoped>\n",
       "    .dataframe tbody tr th:only-of-type {\n",
       "        vertical-align: middle;\n",
       "    }\n",
       "\n",
       "    .dataframe tbody tr th {\n",
       "        vertical-align: top;\n",
       "    }\n",
       "\n",
       "    .dataframe thead th {\n",
       "        text-align: right;\n",
       "    }\n",
       "</style>\n",
       "<table border=\"1\" class=\"dataframe\">\n",
       "  <thead>\n",
       "    <tr style=\"text-align: right;\">\n",
       "      <th></th>\n",
       "      <th>Item Name</th>\n",
       "      <th>Sales</th>\n",
       "    </tr>\n",
       "  </thead>\n",
       "  <tbody>\n",
       "    <tr>\n",
       "      <th>24</th>\n",
       "      <td>Broccoli</td>\n",
       "      <td>809642.8716</td>\n",
       "    </tr>\n",
       "    <tr>\n",
       "      <th>136</th>\n",
       "      <td>Net Lotus Root (1)</td>\n",
       "      <td>634956.3039</td>\n",
       "    </tr>\n",
       "    <tr>\n",
       "      <th>223</th>\n",
       "      <td>Xixia Mushroom (1)</td>\n",
       "      <td>633595.1592</td>\n",
       "    </tr>\n",
       "    <tr>\n",
       "      <th>209</th>\n",
       "      <td>Wuhu Green Pepper (1)</td>\n",
       "      <td>615341.0973</td>\n",
       "    </tr>\n",
       "    <tr>\n",
       "      <th>233</th>\n",
       "      <td>Yunnan Shengcai</td>\n",
       "      <td>389270.8845</td>\n",
       "    </tr>\n",
       "    <tr>\n",
       "      <th>45</th>\n",
       "      <td>Eggplant (2)</td>\n",
       "      <td>353188.2717</td>\n",
       "    </tr>\n",
       "    <tr>\n",
       "      <th>142</th>\n",
       "      <td>Paopaojiao (Jingpin)</td>\n",
       "      <td>286705.9017</td>\n",
       "    </tr>\n",
       "    <tr>\n",
       "      <th>114</th>\n",
       "      <td>Luosi Pepper</td>\n",
       "      <td>246028.0353</td>\n",
       "    </tr>\n",
       "    <tr>\n",
       "      <th>232</th>\n",
       "      <td>Yunnan Lettuces</td>\n",
       "      <td>211995.3183</td>\n",
       "    </tr>\n",
       "    <tr>\n",
       "      <th>32</th>\n",
       "      <td>Chinese Cabbage</td>\n",
       "      <td>197026.3098</td>\n",
       "    </tr>\n",
       "  </tbody>\n",
       "</table>\n",
       "</div>"
      ],
      "text/plain": [
       "                 Item Name        Sales\n",
       "24                Broccoli  809642.8716\n",
       "136     Net Lotus Root (1)  634956.3039\n",
       "223     Xixia Mushroom (1)  633595.1592\n",
       "209  Wuhu Green Pepper (1)  615341.0973\n",
       "233        Yunnan Shengcai  389270.8845\n",
       "45            Eggplant (2)  353188.2717\n",
       "142   Paopaojiao (Jingpin)  286705.9017\n",
       "114           Luosi Pepper  246028.0353\n",
       "232        Yunnan Lettuces  211995.3183\n",
       "32         Chinese Cabbage  197026.3098"
      ]
     },
     "execution_count": 12,
     "metadata": {},
     "output_type": "execute_result"
    }
   ],
   "source": [
    "Item_sales = merge.groupby('Item Name',as_index=False)['Sales'].sum().sort_values(by='Sales',ascending=False).head(10)\n",
    "Item_sales"
   ]
  },
  {
   "cell_type": "code",
   "execution_count": 13,
   "id": "96a2b509",
   "metadata": {
    "execution": {
     "iopub.execute_input": "2023-09-28T08:14:36.040262Z",
     "iopub.status.busy": "2023-09-28T08:14:36.039883Z",
     "iopub.status.idle": "2023-09-28T08:14:36.126126Z",
     "shell.execute_reply": "2023-09-28T08:14:36.124765Z"
    },
    "papermill": {
     "duration": 0.102762,
     "end_time": "2023-09-28T08:14:36.128901",
     "exception": false,
     "start_time": "2023-09-28T08:14:36.026139",
     "status": "completed"
    },
    "tags": []
   },
   "outputs": [],
   "source": [
    "#Add year column in dataframe\n",
    "merge['Year'] = merge['Date'].dt.year"
   ]
  },
  {
   "cell_type": "code",
   "execution_count": 14,
   "id": "22e846a2",
   "metadata": {
    "execution": {
     "iopub.execute_input": "2023-09-28T08:14:36.156438Z",
     "iopub.status.busy": "2023-09-28T08:14:36.155997Z",
     "iopub.status.idle": "2023-09-28T08:14:36.183022Z",
     "shell.execute_reply": "2023-09-28T08:14:36.181348Z"
    },
    "papermill": {
     "duration": 0.043811,
     "end_time": "2023-09-28T08:14:36.185701",
     "exception": false,
     "start_time": "2023-09-28T08:14:36.141890",
     "status": "completed"
    },
    "tags": []
   },
   "outputs": [
    {
     "data": {
      "text/plain": [
       "Year\n",
       "2020    2.008588e+06\n",
       "2021    3.301088e+06\n",
       "2022    3.110317e+06\n",
       "2023    1.689306e+06\n",
       "Name: Sales, dtype: float64"
      ]
     },
     "execution_count": 14,
     "metadata": {},
     "output_type": "execute_result"
    }
   ],
   "source": [
    "Year_wise_sales=merge.groupby('Year')['Sales'].sum()\n",
    "Year_wise_sales"
   ]
  },
  {
   "cell_type": "code",
   "execution_count": 15,
   "id": "004acab6",
   "metadata": {
    "execution": {
     "iopub.execute_input": "2023-09-28T08:14:36.451106Z",
     "iopub.status.busy": "2023-09-28T08:14:36.450672Z",
     "iopub.status.idle": "2023-09-28T08:14:36.606181Z",
     "shell.execute_reply": "2023-09-28T08:14:36.604917Z"
    },
    "papermill": {
     "duration": 0.177342,
     "end_time": "2023-09-28T08:14:36.608685",
     "exception": false,
     "start_time": "2023-09-28T08:14:36.431343",
     "status": "completed"
    },
    "tags": []
   },
   "outputs": [
    {
     "data": {
      "text/html": [
       "<div>\n",
       "<style scoped>\n",
       "    .dataframe tbody tr th:only-of-type {\n",
       "        vertical-align: middle;\n",
       "    }\n",
       "\n",
       "    .dataframe tbody tr th {\n",
       "        vertical-align: top;\n",
       "    }\n",
       "\n",
       "    .dataframe thead th {\n",
       "        text-align: right;\n",
       "    }\n",
       "</style>\n",
       "<table border=\"1\" class=\"dataframe\">\n",
       "  <thead>\n",
       "    <tr style=\"text-align: right;\">\n",
       "      <th></th>\n",
       "      <th>Sale or Return</th>\n",
       "    </tr>\n",
       "  </thead>\n",
       "  <tbody>\n",
       "    <tr>\n",
       "      <th>sale</th>\n",
       "      <td>2634126</td>\n",
       "    </tr>\n",
       "    <tr>\n",
       "      <th>return</th>\n",
       "      <td>1383</td>\n",
       "    </tr>\n",
       "  </tbody>\n",
       "</table>\n",
       "</div>"
      ],
      "text/plain": [
       "        Sale or Return\n",
       "sale           2634126\n",
       "return            1383"
      ]
     },
     "execution_count": 15,
     "metadata": {},
     "output_type": "execute_result"
    }
   ],
   "source": [
    "Sale_Or_Return = merge['Sale or Return'].value_counts()\n",
    "Sale_Or_Return = pd.DataFrame(Sale_Or_Return)\n",
    "Sale_Or_Return"
   ]
  },
  {
   "cell_type": "code",
   "execution_count": 16,
   "id": "5042250b",
   "metadata": {
    "execution": {
     "iopub.execute_input": "2023-09-28T08:14:36.636278Z",
     "iopub.status.busy": "2023-09-28T08:14:36.635843Z",
     "iopub.status.idle": "2023-09-28T08:14:36.791154Z",
     "shell.execute_reply": "2023-09-28T08:14:36.790026Z"
    },
    "papermill": {
     "duration": 0.17219,
     "end_time": "2023-09-28T08:14:36.793910",
     "exception": false,
     "start_time": "2023-09-28T08:14:36.621720",
     "status": "completed"
    },
    "tags": []
   },
   "outputs": [
    {
     "data": {
      "text/html": [
       "<div>\n",
       "<style scoped>\n",
       "    .dataframe tbody tr th:only-of-type {\n",
       "        vertical-align: middle;\n",
       "    }\n",
       "\n",
       "    .dataframe tbody tr th {\n",
       "        vertical-align: top;\n",
       "    }\n",
       "\n",
       "    .dataframe thead th {\n",
       "        text-align: right;\n",
       "    }\n",
       "</style>\n",
       "<table border=\"1\" class=\"dataframe\">\n",
       "  <thead>\n",
       "    <tr style=\"text-align: right;\">\n",
       "      <th></th>\n",
       "      <th>Discount</th>\n",
       "    </tr>\n",
       "  </thead>\n",
       "  <tbody>\n",
       "    <tr>\n",
       "      <th>No</th>\n",
       "      <td>2493411</td>\n",
       "    </tr>\n",
       "    <tr>\n",
       "      <th>Yes</th>\n",
       "      <td>142098</td>\n",
       "    </tr>\n",
       "  </tbody>\n",
       "</table>\n",
       "</div>"
      ],
      "text/plain": [
       "     Discount\n",
       "No    2493411\n",
       "Yes    142098"
      ]
     },
     "execution_count": 16,
     "metadata": {},
     "output_type": "execute_result"
    }
   ],
   "source": [
    "Discount = merge['Discount'].value_counts()\n",
    "Discount = pd.DataFrame(Discount)\n",
    "Discount"
   ]
  },
  {
   "cell_type": "code",
   "execution_count": null,
   "id": "f72292ed",
   "metadata": {
    "papermill": {
     "duration": 0.013362,
     "end_time": "2023-09-28T08:14:36.847861",
     "exception": false,
     "start_time": "2023-09-28T08:14:36.834499",
     "status": "completed"
    },
    "tags": []
   },
   "outputs": [],
   "source": []
  }
 ],
 "metadata": {
  "kernelspec": {
   "display_name": "Python 3 (ipykernel)",
   "language": "python",
   "name": "python3"
  },
  "language_info": {
   "codemirror_mode": {
    "name": "ipython",
    "version": 3
   },
   "file_extension": ".py",
   "mimetype": "text/x-python",
   "name": "python",
   "nbconvert_exporter": "python",
   "pygments_lexer": "ipython3",
   "version": "3.10.13"
  },
  "papermill": {
   "default_parameters": {},
   "duration": 13.381678,
   "end_time": "2023-09-28T08:14:37.685489",
   "environment_variables": {},
   "exception": null,
   "input_path": "__notebook__.ipynb",
   "output_path": "__notebook__.ipynb",
   "parameters": {},
   "start_time": "2023-09-28T08:14:24.303811",
   "version": "2.4.0"
  }
 },
 "nbformat": 4,
 "nbformat_minor": 5
}
