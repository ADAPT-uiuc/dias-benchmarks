{
 "cells": [
  {
   "cell_type": "code",
   "execution_count": 1,
   "metadata": {
    "_cell_guid": "b1076dfc-b9ad-4769-8c92-a6c4dae69d19",
    "_uuid": "8f2839f25d086af736a60e9eeb907d3b93b6e0e5",
    "execution": {
     "iopub.execute_input": "2024-04-14T17:57:54.665786Z",
     "iopub.status.busy": "2024-04-14T17:57:54.665061Z",
     "iopub.status.idle": "2024-04-14T17:57:54.979001Z",
     "shell.execute_reply": "2024-04-14T17:57:54.978628Z",
     "shell.execute_reply.started": "2024-04-14T17:57:54.665746Z"
    }
   },
   "outputs": [
    {
     "name": "stdout",
     "output_type": "stream",
     "text": [
      "../input/animal-crossing-new-horizons-nookplaza-dataset/villagers.csv\n",
      "../input/acnh-villager-popularity/acnh_villager_data.csv\n"
     ]
    }
   ],
   "source": [
    "# This Python 3 environment comes with many helpful analytics libraries installed\n",
    "# It is defined by the kaggle/python Docker image: https://github.com/kaggle/docker-python\n",
    "# For example, here's several helpful packages to load\n",
    "\n",
    "import numpy as np # linear algebra\n",
    "import os\n",
    "# STEFANOS: Conditionally import Modin Pandas\n",
    "if \"IREWR_WITH_MODIN\" in os.environ and os.environ[\"IREWR_WITH_MODIN\"] == \"True\":\n",
    "    # STEFANOS: Import Modin Pandas\n",
    "    import os\n",
    "    os.environ[\"MODIN_ENGINE\"] = \"ray\"\n",
    "    import ray\n",
    "    ray.init(num_cpus=int(os.environ['MODIN_CPUS']), runtime_env={'env_vars': {'__MODIN_AUTOIMPORT_PANDAS__': '1'}})\n",
    "    import modin.pandas as pd\n",
    "else:\n",
    "    # STEFANOS: Import regular Pandas\n",
    "    import pandas as pd\n",
    "# import seaborn as sns  # data visualization\n",
    "# import matplotlib.pyplot as plt\n",
    "\n",
    "\n",
    "# Input data files are available in the read-only \"../input/\" directory\n",
    "# For example, running this (by clicking run or pressing Shift+Enter) will list all files under the input directory\n",
    "\n",
    "import os\n",
    "for dirname, _, filenames in os.walk('../input'):\n",
    "    for filename in filenames:\n",
    "        print(os.path.join(dirname, filename))\n",
    "\n",
    "# You can write up to 20GB to the current directory (/kaggle/working/) that gets preserved as output when you create a version using \"Save & Run All\" \n",
    "# You can also write temporary files to /kaggle/temp/, but they won't be saved outside of the current session"
   ]
  },
  {
   "cell_type": "markdown",
   "metadata": {},
   "source": [
    "# Introduction\n",
    "The goal of this project is to analyse the relationship between animal crossing new horizon villager popularity amongst the player base and certain villager attributes. \n",
    "\n",
    "We will be analysing the Gender,Personality, Species, and Style of a villager. "
   ]
  },
  {
   "cell_type": "markdown",
   "metadata": {},
   "source": [
    "# Data Initilization and Cleaning"
   ]
  },
  {
   "cell_type": "code",
   "execution_count": 2,
   "metadata": {
    "execution": {
     "iopub.execute_input": "2024-04-14T17:57:57.454459Z",
     "iopub.status.busy": "2024-04-14T17:57:57.453720Z",
     "iopub.status.idle": "2024-04-14T17:57:57.483025Z",
     "shell.execute_reply": "2024-04-14T17:57:57.482452Z",
     "shell.execute_reply.started": "2024-04-14T17:57:57.454422Z"
    }
   },
   "outputs": [],
   "source": [
    "vlgr_df = pd.read_csv(\"../input/animal-crossing-new-horizons-nookplaza-dataset/villagers.csv\")\n",
    "popul_df = pd.read_csv(\"../input/acnh-villager-popularity/acnh_villager_data.csv\")"
   ]
  },
  {
   "cell_type": "markdown",
   "metadata": {},
   "source": [
    "# -- STEFANOS -- Replicate Data"
   ]
  },
  {
   "cell_type": "code",
   "execution_count": 3,
   "metadata": {
    "execution": {
     "iopub.execute_input": "2024-04-14T17:58:01.312729Z",
     "iopub.status.busy": "2024-04-14T17:58:01.312141Z",
     "iopub.status.idle": "2024-04-14T17:58:01.434267Z",
     "shell.execute_reply": "2024-04-14T17:58:01.433760Z",
     "shell.execute_reply.started": "2024-04-14T17:58:01.312693Z"
    }
   },
   "outputs": [
    {
     "name": "stdout",
     "output_type": "stream",
     "text": [
      "<class 'pandas.core.frame.DataFrame'>\n",
      "RangeIndex: 165200 entries, 0 to 165199\n",
      "Data columns (total 3 columns):\n",
      " #   Column  Non-Null Count   Dtype \n",
      "---  ------  --------------   ----- \n",
      " 0   tier    165200 non-null  int64 \n",
      " 1   rank    165200 non-null  int64 \n",
      " 2   name    165200 non-null  object\n",
      "dtypes: int64(2), object(1)\n",
      "memory usage: 3.8+ MB\n",
      "None\n",
      "<class 'pandas.core.frame.DataFrame'>\n",
      "RangeIndex: 156400 entries, 0 to 156399\n",
      "Data columns (total 17 columns):\n",
      " #   Column           Non-Null Count   Dtype \n",
      "---  ------           --------------   ----- \n",
      " 0   Name             156400 non-null  object\n",
      " 1   Species          156400 non-null  object\n",
      " 2   Gender           156400 non-null  object\n",
      " 3   Personality      156400 non-null  object\n",
      " 4   Hobby            156400 non-null  object\n",
      " 5   Birthday         156400 non-null  object\n",
      " 6   Catchphrase      156400 non-null  object\n",
      " 7   Favorite Song    156400 non-null  object\n",
      " 8   Style 1          156400 non-null  object\n",
      " 9   Style 2          156400 non-null  object\n",
      " 10  Color 1          156400 non-null  object\n",
      " 11  Color 2          156400 non-null  object\n",
      " 12  Wallpaper        156400 non-null  object\n",
      " 13  Flooring         156400 non-null  object\n",
      " 14  Furniture List   156400 non-null  object\n",
      " 15  Filename         156400 non-null  object\n",
      " 16  Unique Entry ID  156400 non-null  object\n",
      "dtypes: object(17)\n",
      "memory usage: 20.3+ MB\n"
     ]
    }
   ],
   "source": [
    "factor = 400\n",
    "if \"IREWR_LESS_REPLICATION\" in os.environ and os.environ[\"IREWR_LESS_REPLICATION\"] == \"True\":\n",
    "    factor = factor//3\n",
    "popul_df = pd.concat([popul_df]*factor, ignore_index=True)\n",
    "vlgr_df = pd.concat([vlgr_df]*factor, ignore_index=True)\n",
    "print(popul_df.info())\n",
    "vlgr_df.info()"
   ]
  },
  {
   "cell_type": "code",
   "execution_count": 4,
   "metadata": {
    "execution": {
     "iopub.execute_input": "2024-04-14T17:18:05.866631Z",
     "iopub.status.busy": "2024-04-14T17:18:05.866467Z",
     "iopub.status.idle": "2024-04-14T17:18:05.876301Z",
     "shell.execute_reply": "2024-04-14T17:18:05.875923Z",
     "shell.execute_reply.started": "2024-04-14T17:18:05.866561Z"
    }
   },
   "outputs": [
    {
     "data": {
      "text/html": [
       "<div>\n",
       "<style scoped>\n",
       "    .dataframe tbody tr th:only-of-type {\n",
       "        vertical-align: middle;\n",
       "    }\n",
       "\n",
       "    .dataframe tbody tr th {\n",
       "        vertical-align: top;\n",
       "    }\n",
       "\n",
       "    .dataframe thead th {\n",
       "        text-align: right;\n",
       "    }\n",
       "</style>\n",
       "<table border=\"1\" class=\"dataframe\">\n",
       "  <thead>\n",
       "    <tr style=\"text-align: right;\">\n",
       "      <th></th>\n",
       "      <th>Name</th>\n",
       "      <th>Species</th>\n",
       "      <th>Gender</th>\n",
       "      <th>Personality</th>\n",
       "      <th>Hobby</th>\n",
       "      <th>Birthday</th>\n",
       "      <th>Catchphrase</th>\n",
       "      <th>Favorite Song</th>\n",
       "      <th>Style 1</th>\n",
       "      <th>Style 2</th>\n",
       "      <th>Color 1</th>\n",
       "      <th>Color 2</th>\n",
       "      <th>Wallpaper</th>\n",
       "      <th>Flooring</th>\n",
       "      <th>Furniture List</th>\n",
       "      <th>Filename</th>\n",
       "      <th>Unique Entry ID</th>\n",
       "    </tr>\n",
       "  </thead>\n",
       "  <tbody>\n",
       "    <tr>\n",
       "      <th>0</th>\n",
       "      <td>Admiral</td>\n",
       "      <td>Bird</td>\n",
       "      <td>Male</td>\n",
       "      <td>Cranky</td>\n",
       "      <td>Nature</td>\n",
       "      <td>27-Jan</td>\n",
       "      <td>aye aye</td>\n",
       "      <td>Steep Hill</td>\n",
       "      <td>Cool</td>\n",
       "      <td>Cool</td>\n",
       "      <td>Black</td>\n",
       "      <td>Blue</td>\n",
       "      <td>dirt-clod wall</td>\n",
       "      <td>tatami</td>\n",
       "      <td>717;1849;7047;2736;787;5970;3449;3622;3802;410...</td>\n",
       "      <td>brd06</td>\n",
       "      <td>B3RyfNEqwGmcccRC3</td>\n",
       "    </tr>\n",
       "    <tr>\n",
       "      <th>1</th>\n",
       "      <td>Agent S</td>\n",
       "      <td>Squirrel</td>\n",
       "      <td>Female</td>\n",
       "      <td>Peppy</td>\n",
       "      <td>Fitness</td>\n",
       "      <td>2-Jul</td>\n",
       "      <td>sidekick</td>\n",
       "      <td>Go K.K. Rider</td>\n",
       "      <td>Active</td>\n",
       "      <td>Simple</td>\n",
       "      <td>Blue</td>\n",
       "      <td>Black</td>\n",
       "      <td>concrete wall</td>\n",
       "      <td>colorful tile flooring</td>\n",
       "      <td>7845;7150;3468;4080;290;3971;3449;1708;4756;25...</td>\n",
       "      <td>squ05</td>\n",
       "      <td>SGMdki6dzpDZyXAw5</td>\n",
       "    </tr>\n",
       "    <tr>\n",
       "      <th>2</th>\n",
       "      <td>Agnes</td>\n",
       "      <td>Pig</td>\n",
       "      <td>Female</td>\n",
       "      <td>Big Sister</td>\n",
       "      <td>Play</td>\n",
       "      <td>21-Apr</td>\n",
       "      <td>snuffle</td>\n",
       "      <td>K.K. House</td>\n",
       "      <td>Simple</td>\n",
       "      <td>Elegant</td>\n",
       "      <td>Pink</td>\n",
       "      <td>White</td>\n",
       "      <td>gray molded-panel wall</td>\n",
       "      <td>arabesque flooring</td>\n",
       "      <td>4129;7236;7235;7802;896;3428;4027;7325;3958;71...</td>\n",
       "      <td>pig17</td>\n",
       "      <td>jzWCiDPm9MqtCfecP</td>\n",
       "    </tr>\n",
       "    <tr>\n",
       "      <th>3</th>\n",
       "      <td>Al</td>\n",
       "      <td>Gorilla</td>\n",
       "      <td>Male</td>\n",
       "      <td>Lazy</td>\n",
       "      <td>Fitness</td>\n",
       "      <td>18-Oct</td>\n",
       "      <td>ayyyeee</td>\n",
       "      <td>Go K.K. Rider</td>\n",
       "      <td>Active</td>\n",
       "      <td>Active</td>\n",
       "      <td>Red</td>\n",
       "      <td>White</td>\n",
       "      <td>concrete wall</td>\n",
       "      <td>green rubber flooring</td>\n",
       "      <td>1452;4078;4013;833;4116;3697;7845;3307;3946;39...</td>\n",
       "      <td>gor08</td>\n",
       "      <td>LBifxETQJGEaLhBjC</td>\n",
       "    </tr>\n",
       "    <tr>\n",
       "      <th>4</th>\n",
       "      <td>Alfonso</td>\n",
       "      <td>Alligator</td>\n",
       "      <td>Male</td>\n",
       "      <td>Lazy</td>\n",
       "      <td>Play</td>\n",
       "      <td>9-Jun</td>\n",
       "      <td>it'sa me</td>\n",
       "      <td>Forest Life</td>\n",
       "      <td>Simple</td>\n",
       "      <td>Simple</td>\n",
       "      <td>Red</td>\n",
       "      <td>Blue</td>\n",
       "      <td>yellow playroom wall</td>\n",
       "      <td>green honeycomb tile</td>\n",
       "      <td>4763;3205;3701;1557;3623;85;3208;3584;4761;121...</td>\n",
       "      <td>crd00</td>\n",
       "      <td>REpd8KxB8p9aGBRSE</td>\n",
       "    </tr>\n",
       "  </tbody>\n",
       "</table>\n",
       "</div>"
      ],
      "text/plain": [
       "      Name    Species  Gender Personality    Hobby Birthday Catchphrase  \\\n",
       "0  Admiral       Bird    Male      Cranky   Nature   27-Jan     aye aye   \n",
       "1  Agent S   Squirrel  Female       Peppy  Fitness    2-Jul    sidekick   \n",
       "2    Agnes        Pig  Female  Big Sister     Play   21-Apr     snuffle   \n",
       "3       Al    Gorilla    Male        Lazy  Fitness   18-Oct     ayyyeee   \n",
       "4  Alfonso  Alligator    Male        Lazy     Play    9-Jun    it'sa me   \n",
       "\n",
       "   Favorite Song Style 1  Style 2 Color 1 Color 2               Wallpaper  \\\n",
       "0     Steep Hill    Cool     Cool   Black    Blue          dirt-clod wall   \n",
       "1  Go K.K. Rider  Active   Simple    Blue   Black           concrete wall   \n",
       "2     K.K. House  Simple  Elegant    Pink   White  gray molded-panel wall   \n",
       "3  Go K.K. Rider  Active   Active     Red   White           concrete wall   \n",
       "4    Forest Life  Simple   Simple     Red    Blue    yellow playroom wall   \n",
       "\n",
       "                 Flooring                                     Furniture List  \\\n",
       "0                  tatami  717;1849;7047;2736;787;5970;3449;3622;3802;410...   \n",
       "1  colorful tile flooring  7845;7150;3468;4080;290;3971;3449;1708;4756;25...   \n",
       "2      arabesque flooring  4129;7236;7235;7802;896;3428;4027;7325;3958;71...   \n",
       "3   green rubber flooring  1452;4078;4013;833;4116;3697;7845;3307;3946;39...   \n",
       "4    green honeycomb tile  4763;3205;3701;1557;3623;85;3208;3584;4761;121...   \n",
       "\n",
       "  Filename    Unique Entry ID  \n",
       "0    brd06  B3RyfNEqwGmcccRC3  \n",
       "1    squ05  SGMdki6dzpDZyXAw5  \n",
       "2    pig17  jzWCiDPm9MqtCfecP  \n",
       "3    gor08  LBifxETQJGEaLhBjC  \n",
       "4    crd00  REpd8KxB8p9aGBRSE  "
      ]
     },
     "execution_count": 4,
     "metadata": {},
     "output_type": "execute_result"
    }
   ],
   "source": [
    "vlgr_df.head()"
   ]
  },
  {
   "cell_type": "code",
   "execution_count": 5,
   "metadata": {
    "execution": {
     "iopub.execute_input": "2024-04-14T17:18:05.877061Z",
     "iopub.status.busy": "2024-04-14T17:18:05.876951Z",
     "iopub.status.idle": "2024-04-14T17:18:05.880903Z",
     "shell.execute_reply": "2024-04-14T17:18:05.880563Z",
     "shell.execute_reply.started": "2024-04-14T17:18:05.877050Z"
    }
   },
   "outputs": [
    {
     "data": {
      "text/html": [
       "<div>\n",
       "<style scoped>\n",
       "    .dataframe tbody tr th:only-of-type {\n",
       "        vertical-align: middle;\n",
       "    }\n",
       "\n",
       "    .dataframe tbody tr th {\n",
       "        vertical-align: top;\n",
       "    }\n",
       "\n",
       "    .dataframe thead th {\n",
       "        text-align: right;\n",
       "    }\n",
       "</style>\n",
       "<table border=\"1\" class=\"dataframe\">\n",
       "  <thead>\n",
       "    <tr style=\"text-align: right;\">\n",
       "      <th></th>\n",
       "      <th>tier</th>\n",
       "      <th>rank</th>\n",
       "      <th>name</th>\n",
       "    </tr>\n",
       "  </thead>\n",
       "  <tbody>\n",
       "    <tr>\n",
       "      <th>0</th>\n",
       "      <td>1</td>\n",
       "      <td>1</td>\n",
       "      <td>Raymond</td>\n",
       "    </tr>\n",
       "    <tr>\n",
       "      <th>1</th>\n",
       "      <td>1</td>\n",
       "      <td>2</td>\n",
       "      <td>Marshal</td>\n",
       "    </tr>\n",
       "    <tr>\n",
       "      <th>2</th>\n",
       "      <td>1</td>\n",
       "      <td>3</td>\n",
       "      <td>Shino</td>\n",
       "    </tr>\n",
       "    <tr>\n",
       "      <th>3</th>\n",
       "      <td>1</td>\n",
       "      <td>4</td>\n",
       "      <td>Sherb</td>\n",
       "    </tr>\n",
       "    <tr>\n",
       "      <th>4</th>\n",
       "      <td>1</td>\n",
       "      <td>5</td>\n",
       "      <td>Sasha</td>\n",
       "    </tr>\n",
       "  </tbody>\n",
       "</table>\n",
       "</div>"
      ],
      "text/plain": [
       "   tier  rank     name\n",
       "0     1     1  Raymond\n",
       "1     1     2  Marshal\n",
       "2     1     3    Shino\n",
       "3     1     4    Sherb\n",
       "4     1     5    Sasha"
      ]
     },
     "execution_count": 5,
     "metadata": {},
     "output_type": "execute_result"
    }
   ],
   "source": [
    "popul_df.head()"
   ]
  },
  {
   "cell_type": "markdown",
   "metadata": {
    "execution": {
     "iopub.execute_input": "2022-03-15T17:38:56.504763Z",
     "iopub.status.busy": "2022-03-15T17:38:56.504417Z",
     "iopub.status.idle": "2022-03-15T17:38:56.510141Z",
     "shell.execute_reply": "2022-03-15T17:38:56.508955Z",
     "shell.execute_reply.started": "2022-03-15T17:38:56.504732Z"
    }
   },
   "source": [
    "### 1. Checking for null "
   ]
  },
  {
   "cell_type": "code",
   "execution_count": 6,
   "metadata": {
    "execution": {
     "iopub.execute_input": "2024-04-14T17:18:05.881454Z",
     "iopub.status.busy": "2024-04-14T17:18:05.881361Z",
     "iopub.status.idle": "2024-04-14T17:18:05.937689Z",
     "shell.execute_reply": "2024-04-14T17:18:05.937208Z",
     "shell.execute_reply.started": "2024-04-14T17:18:05.881443Z"
    }
   },
   "outputs": [
    {
     "name": "stdout",
     "output_type": "stream",
     "text": [
      "<class 'pandas.core.frame.DataFrame'>\n",
      "RangeIndex: 156400 entries, 0 to 156399\n",
      "Data columns (total 17 columns):\n",
      " #   Column           Non-Null Count   Dtype \n",
      "---  ------           --------------   ----- \n",
      " 0   Name             156400 non-null  object\n",
      " 1   Species          156400 non-null  object\n",
      " 2   Gender           156400 non-null  object\n",
      " 3   Personality      156400 non-null  object\n",
      " 4   Hobby            156400 non-null  object\n",
      " 5   Birthday         156400 non-null  object\n",
      " 6   Catchphrase      156400 non-null  object\n",
      " 7   Favorite Song    156400 non-null  object\n",
      " 8   Style 1          156400 non-null  object\n",
      " 9   Style 2          156400 non-null  object\n",
      " 10  Color 1          156400 non-null  object\n",
      " 11  Color 2          156400 non-null  object\n",
      " 12  Wallpaper        156400 non-null  object\n",
      " 13  Flooring         156400 non-null  object\n",
      " 14  Furniture List   156400 non-null  object\n",
      " 15  Filename         156400 non-null  object\n",
      " 16  Unique Entry ID  156400 non-null  object\n",
      "dtypes: object(17)\n",
      "memory usage: 20.3+ MB\n"
     ]
    }
   ],
   "source": [
    "vlgr_df.info()"
   ]
  },
  {
   "cell_type": "code",
   "execution_count": 7,
   "metadata": {
    "execution": {
     "iopub.execute_input": "2024-04-14T17:18:05.938342Z",
     "iopub.status.busy": "2024-04-14T17:18:05.938188Z",
     "iopub.status.idle": "2024-04-14T17:18:05.946004Z",
     "shell.execute_reply": "2024-04-14T17:18:05.945593Z",
     "shell.execute_reply.started": "2024-04-14T17:18:05.938331Z"
    }
   },
   "outputs": [
    {
     "name": "stdout",
     "output_type": "stream",
     "text": [
      "<class 'pandas.core.frame.DataFrame'>\n",
      "RangeIndex: 165200 entries, 0 to 165199\n",
      "Data columns (total 3 columns):\n",
      " #   Column  Non-Null Count   Dtype \n",
      "---  ------  --------------   ----- \n",
      " 0   tier    165200 non-null  int64 \n",
      " 1   rank    165200 non-null  int64 \n",
      " 2   name    165200 non-null  object\n",
      "dtypes: int64(2), object(1)\n",
      "memory usage: 3.8+ MB\n"
     ]
    }
   ],
   "source": [
    "popul_df.info()"
   ]
  },
  {
   "cell_type": "markdown",
   "metadata": {
    "execution": {
     "iopub.execute_input": "2022-03-15T17:39:15.900431Z",
     "iopub.status.busy": "2022-03-15T17:39:15.900091Z",
     "iopub.status.idle": "2022-03-15T17:39:15.904853Z",
     "shell.execute_reply": "2022-03-15T17:39:15.903683Z",
     "shell.execute_reply.started": "2022-03-15T17:39:15.9004Z"
    }
   },
   "source": [
    "### 2. Checking for mismatched names"
   ]
  },
  {
   "cell_type": "code",
   "execution_count": 8,
   "metadata": {
    "execution": {
     "iopub.execute_input": "2024-04-14T17:18:05.946610Z",
     "iopub.status.busy": "2024-04-14T17:18:05.946505Z",
     "iopub.status.idle": "2024-04-14T17:18:05.954479Z",
     "shell.execute_reply": "2024-04-14T17:18:05.954166Z",
     "shell.execute_reply.started": "2024-04-14T17:18:05.946600Z"
    }
   },
   "outputs": [
    {
     "data": {
      "text/plain": [
       "154400"
      ]
     },
     "execution_count": 8,
     "metadata": {},
     "output_type": "execute_result"
    }
   ],
   "source": [
    "# There are some missing/non-matching names \n",
    "vlgr_df[\"Name\"].isin(popul_df['name']).sum()"
   ]
  },
  {
   "cell_type": "code",
   "execution_count": 9,
   "metadata": {
    "execution": {
     "iopub.execute_input": "2024-04-14T17:18:05.954977Z",
     "iopub.status.busy": "2024-04-14T17:18:05.954877Z",
     "iopub.status.idle": "2024-04-14T17:18:05.964489Z",
     "shell.execute_reply": "2024-04-14T17:18:05.964122Z",
     "shell.execute_reply.started": "2024-04-14T17:18:05.954966Z"
    }
   },
   "outputs": [
    {
     "data": {
      "text/plain": [
       "2                  Shino\n",
       "4                  Sasha\n",
       "5                   Ione\n",
       "25            Cephalobot\n",
       "57                Étoile\n",
       "               ...      \n",
       "165087    Crackle(Spork)\n",
       "165110               Ace\n",
       "165115              Toby\n",
       "165128             Frett\n",
       "165186             Rilla\n",
       "Name: name, Length: 10800, dtype: object"
      ]
     },
     "execution_count": 9,
     "metadata": {},
     "output_type": "execute_result"
    }
   ],
   "source": [
    "# vlgr_df does not have these names...\n",
    "mismatch_names = popul_df[\"name\"][popul_df[\"name\"].isin(vlgr_df[\"Name\"]) == False]\n",
    "mismatch_names"
   ]
  },
  {
   "cell_type": "code",
   "execution_count": 10,
   "metadata": {
    "execution": {
     "iopub.execute_input": "2024-04-14T17:18:05.965077Z",
     "iopub.status.busy": "2024-04-14T17:18:05.964962Z",
     "iopub.status.idle": "2024-04-14T17:18:06.012654Z",
     "shell.execute_reply": "2024-04-14T17:18:06.012350Z",
     "shell.execute_reply.started": "2024-04-14T17:18:05.965067Z"
    }
   },
   "outputs": [],
   "source": [
    "# %%time\n",
    "# Data set is small enough to pick out the same names\n",
    "# Correcting names in popul_df to match vlgr_df\n",
    "popul_df['name'] = popul_df['name'].replace(['OHare'],\"O\\'Hare\")\n",
    "popul_df['name'] = popul_df['name'].replace(['Buck(Brows)'],\"Buck\")\n",
    "popul_df['name'] = popul_df['name'].replace(['Renee'],\"Renée\")\n",
    "popul_df['name'] = popul_df['name'].replace(['WartJr'],\"Wart Jr.\")\n",
    "popul_df['name'] = popul_df['name'].replace(['Crackle(Spork)'],\"Spork\")"
   ]
  },
  {
   "cell_type": "code",
   "execution_count": 4,
   "metadata": {
    "execution": {
     "iopub.execute_input": "2024-04-14T17:58:13.189724Z",
     "iopub.status.busy": "2024-04-14T17:58:13.189169Z",
     "iopub.status.idle": "2024-04-14T17:58:13.215081Z",
     "shell.execute_reply": "2024-04-14T17:58:13.214258Z",
     "shell.execute_reply.started": "2024-04-14T17:58:13.189691Z"
    }
   },
   "outputs": [
    {
     "data": {
      "text/plain": [
       "154400"
      ]
     },
     "execution_count": 4,
     "metadata": {},
     "output_type": "execute_result"
    }
   ],
   "source": [
    "# Checking if All names match\n",
    "vlgr_df[\"Name\"].isin(popul_df['name']).sum()"
   ]
  },
  {
   "cell_type": "code",
   "execution_count": 5,
   "metadata": {
    "execution": {
     "iopub.execute_input": "2024-04-14T17:58:16.166825Z",
     "iopub.status.busy": "2024-04-14T17:58:16.165916Z",
     "iopub.status.idle": "2024-04-14T17:58:16.195302Z",
     "shell.execute_reply": "2024-04-14T17:58:16.194762Z",
     "shell.execute_reply.started": "2024-04-14T17:58:16.166789Z"
    }
   },
   "outputs": [],
   "source": [
    "# drop villagers that are in popul_df but not in vlgr_df\n",
    "popul_df = popul_df.drop(popul_df[popul_df[\"name\"].isin(vlgr_df[\"Name\"]) == False].index)"
   ]
  },
  {
   "cell_type": "markdown",
   "metadata": {
    "execution": {
     "iopub.execute_input": "2022-03-15T17:39:52.992683Z",
     "iopub.status.busy": "2022-03-15T17:39:52.991863Z",
     "iopub.status.idle": "2022-03-15T17:39:52.996919Z",
     "shell.execute_reply": "2022-03-15T17:39:52.995745Z",
     "shell.execute_reply.started": "2022-03-15T17:39:52.992628Z"
    }
   },
   "source": [
    "### 3. Merging the two Dataframes"
   ]
  },
  {
   "cell_type": "code",
   "execution_count": 6,
   "metadata": {
    "execution": {
     "iopub.execute_input": "2024-04-14T17:58:17.798813Z",
     "iopub.status.busy": "2024-04-14T17:58:17.798271Z",
     "iopub.status.idle": "2024-04-14T17:58:17.816721Z",
     "shell.execute_reply": "2024-04-14T17:58:17.815458Z",
     "shell.execute_reply.started": "2024-04-14T17:58:17.798779Z"
    }
   },
   "outputs": [],
   "source": [
    "# Now that both df have same length, we can set index as names and combine the 2 dfs\n",
    "popul_df.set_index('name', drop=True, inplace=True)\n",
    "vlgr_df.set_index('Name', drop=True, inplace=True)"
   ]
  },
  {
   "cell_type": "code",
   "execution_count": 7,
   "metadata": {
    "execution": {
     "iopub.execute_input": "2024-04-14T17:58:19.346806Z",
     "iopub.status.busy": "2024-04-14T17:58:19.346253Z",
     "iopub.status.idle": "2024-04-14T17:59:07.759880Z",
     "shell.execute_reply": "2024-04-14T17:59:07.753630Z",
     "shell.execute_reply.started": "2024-04-14T17:58:19.346769Z"
    }
   },
   "outputs": [],
   "source": [
    "combined_df = popul_df.merge(vlgr_df, left_index=True, right_index=True)"
   ]
  },
  {
   "cell_type": "code",
   "execution_count": 8,
   "metadata": {
    "execution": {
     "iopub.execute_input": "2024-04-14T17:59:07.767674Z",
     "iopub.status.busy": "2024-04-14T17:59:07.767195Z",
     "iopub.status.idle": "2024-04-14T17:59:17.919782Z",
     "shell.execute_reply": "2024-04-14T17:59:17.919085Z",
     "shell.execute_reply.started": "2024-04-14T17:59:07.767660Z"
    }
   },
   "outputs": [],
   "source": [
    "# drop irrelevent columns\n",
    "combined_df.drop(columns=['Furniture List', 'Filename', 'Unique Entry ID', \"Wallpaper\", \"Flooring\", \"Birthday\", \"Favorite Song\"], inplace=True)"
   ]
  },
  {
   "cell_type": "markdown",
   "metadata": {},
   "source": [
    "#### Adding a new row named overall_ranking so we may know a villager's general ranking outside of their tier"
   ]
  },
  {
   "cell_type": "code",
   "execution_count": 9,
   "metadata": {
    "execution": {
     "iopub.execute_input": "2024-04-14T17:59:17.921394Z",
     "iopub.status.busy": "2024-04-14T17:59:17.921180Z",
     "iopub.status.idle": "2024-04-14T17:59:28.555393Z",
     "shell.execute_reply": "2024-04-14T17:59:28.554708Z",
     "shell.execute_reply.started": "2024-04-14T17:59:17.921383Z"
    }
   },
   "outputs": [],
   "source": [
    "combined_df.sort_values(['tier', 'rank'], inplace=True)\n",
    "combined_df['overall_ranking'] = np.arange(1, len(combined_df)+1)\n",
    "combined_df.insert(2, 'overall_ranking', combined_df.pop('overall_ranking'))"
   ]
  },
  {
   "cell_type": "markdown",
   "metadata": {},
   "source": [
    "#### Setting Baseline overall ranking mean to compare against"
   ]
  },
  {
   "cell_type": "code",
   "execution_count": 10,
   "metadata": {
    "execution": {
     "iopub.execute_input": "2024-04-14T17:59:28.558262Z",
     "iopub.status.busy": "2024-04-14T17:59:28.558102Z",
     "iopub.status.idle": "2024-04-14T17:59:28.586081Z",
     "shell.execute_reply": "2024-04-14T17:59:28.585631Z",
     "shell.execute_reply.started": "2024-04-14T17:59:28.558250Z"
    }
   },
   "outputs": [
    {
     "name": "stdout",
     "output_type": "stream",
     "text": [
      "The overall_mean is 30880000.5, this would serve as a baseline for to compare against popularity performance of our features.\n"
     ]
    }
   ],
   "source": [
    "overall_mean = combined_df.overall_ranking.mean()\n",
    "print(f'The overall_mean is {overall_mean}, this would serve as a baseline for to compare against popularity performance of our features.')"
   ]
  },
  {
   "cell_type": "code",
   "execution_count": 18,
   "metadata": {
    "execution": {
     "iopub.execute_input": "2024-04-14T17:19:15.955694Z",
     "iopub.status.busy": "2024-04-14T17:19:15.955575Z",
     "iopub.status.idle": "2024-04-14T17:19:15.960325Z",
     "shell.execute_reply": "2024-04-14T17:19:15.960017Z",
     "shell.execute_reply.started": "2024-04-14T17:19:15.955682Z"
    }
   },
   "outputs": [
    {
     "data": {
      "text/plain": [
       "Index(['tier', 'rank', 'overall_ranking', 'Species', 'Gender', 'Personality',\n",
       "       'Hobby', 'Catchphrase', 'Style 1', 'Style 2', 'Color 1', 'Color 2'],\n",
       "      dtype='object')"
      ]
     },
     "execution_count": 18,
     "metadata": {},
     "output_type": "execute_result"
    }
   ],
   "source": [
    "combined_df.columns"
   ]
  },
  {
   "cell_type": "markdown",
   "metadata": {},
   "source": [
    "# Exploratory Data Analysis\n",
    "As a preface, a higher overall_ranking would mean performing worse on the popularity rankings.\n",
    "### 1. Gender"
   ]
  },
  {
   "cell_type": "code",
   "execution_count": 11,
   "metadata": {
    "execution": {
     "iopub.execute_input": "2024-04-14T17:59:28.586878Z",
     "iopub.status.busy": "2024-04-14T17:59:28.586749Z",
     "iopub.status.idle": "2024-04-14T17:59:29.969983Z",
     "shell.execute_reply": "2024-04-14T17:59:29.969684Z",
     "shell.execute_reply.started": "2024-04-14T17:59:28.586867Z"
    }
   },
   "outputs": [
    {
     "data": {
      "text/plain": [
       "Gender\n",
       "Male      32000000\n",
       "Female    29760000\n",
       "Name: count, dtype: int64"
      ]
     },
     "execution_count": 11,
     "metadata": {},
     "output_type": "execute_result"
    }
   ],
   "source": [
    "combined_df['Gender'].value_counts()"
   ]
  },
  {
   "cell_type": "code",
   "execution_count": 12,
   "metadata": {
    "execution": {
     "iopub.execute_input": "2024-04-14T17:59:29.970506Z",
     "iopub.status.busy": "2024-04-14T17:59:29.970414Z",
     "iopub.status.idle": "2024-04-14T17:59:29.973934Z",
     "shell.execute_reply": "2024-04-14T17:59:29.973540Z",
     "shell.execute_reply.started": "2024-04-14T17:59:29.970495Z"
    }
   },
   "outputs": [
    {
     "data": {
      "text/plain": [
       "<pandas.core.groupby.generic.DataFrameGroupBy object at 0x127616b30>"
      ]
     },
     "execution_count": 12,
     "metadata": {},
     "output_type": "execute_result"
    }
   ],
   "source": [
    "## -- STEFANOS: Disable plotting\n",
    "# combined_df.groupby('tier').Gender.value_counts().plot.barh()\n",
    "## -- STEFANOS-DISABLE-FOR-MODIN: Actually, it seems we can't even run the last part with Modin, so\n",
    "## we only leave the groupby.\n",
    "# combined_df.groupby('tier').Gender.value_counts()\n",
    "combined_df.groupby('tier')"
   ]
  },
  {
   "cell_type": "markdown",
   "metadata": {},
   "source": [
    "For gender, there seems to be a disproporationate amount of male villagers in the lowest tier(6th tier) than female villagers, compared to other tiers. Discounting Tier 6, The number of male and female villagers are fairly even, with Male villagers having a slight lead in all tiers(except tier 6)."
   ]
  },
  {
   "cell_type": "code",
   "execution_count": 21,
   "metadata": {
    "execution": {
     "iopub.execute_input": "2024-04-14T17:19:17.389988Z",
     "iopub.status.busy": "2024-04-14T17:19:17.389845Z",
     "iopub.status.idle": "2024-04-14T17:19:17.391683Z",
     "shell.execute_reply": "2024-04-14T17:19:17.391297Z",
     "shell.execute_reply.started": "2024-04-14T17:19:17.389977Z"
    }
   },
   "outputs": [],
   "source": [
    "## -- STEFANOS: Disable plotting\n",
    "# plt.figure(figsize=(5, 5))\n",
    "# plt.axhline(overall_mean, color='r')\n",
    "# sns.boxplot(x=\"Gender\", y='overall_ranking', data=combined_df)"
   ]
  },
  {
   "cell_type": "markdown",
   "metadata": {},
   "source": [
    "Female villagers generally perform better than Male villagers in terms of overall ranking. "
   ]
  },
  {
   "cell_type": "code",
   "execution_count": 22,
   "metadata": {
    "execution": {
     "iopub.execute_input": "2024-04-14T17:19:17.392129Z",
     "iopub.status.busy": "2024-04-14T17:19:17.392036Z",
     "iopub.status.idle": "2024-04-14T17:19:22.768816Z",
     "shell.execute_reply": "2024-04-14T17:19:22.768526Z",
     "shell.execute_reply.started": "2024-04-14T17:19:17.392119Z"
    }
   },
   "outputs": [
    {
     "data": {
      "text/html": [
       "<div>\n",
       "<style scoped>\n",
       "    .dataframe tbody tr th:only-of-type {\n",
       "        vertical-align: middle;\n",
       "    }\n",
       "\n",
       "    .dataframe tbody tr th {\n",
       "        vertical-align: top;\n",
       "    }\n",
       "\n",
       "    .dataframe thead th {\n",
       "        text-align: right;\n",
       "    }\n",
       "</style>\n",
       "<table border=\"1\" class=\"dataframe\">\n",
       "  <thead>\n",
       "    <tr style=\"text-align: right;\">\n",
       "      <th>Gender</th>\n",
       "      <th>Female</th>\n",
       "      <th>Male</th>\n",
       "    </tr>\n",
       "    <tr>\n",
       "      <th>tier</th>\n",
       "      <th></th>\n",
       "      <th></th>\n",
       "    </tr>\n",
       "  </thead>\n",
       "  <tbody>\n",
       "    <tr>\n",
       "      <th>1</th>\n",
       "      <td>960000</td>\n",
       "      <td>960000</td>\n",
       "    </tr>\n",
       "    <tr>\n",
       "      <th>2</th>\n",
       "      <td>2240000</td>\n",
       "      <td>1600000</td>\n",
       "    </tr>\n",
       "    <tr>\n",
       "      <th>3</th>\n",
       "      <td>2880000</td>\n",
       "      <td>1760000</td>\n",
       "    </tr>\n",
       "    <tr>\n",
       "      <th>4</th>\n",
       "      <td>4800000</td>\n",
       "      <td>4000000</td>\n",
       "    </tr>\n",
       "    <tr>\n",
       "      <th>5</th>\n",
       "      <td>9280000</td>\n",
       "      <td>8800000</td>\n",
       "    </tr>\n",
       "    <tr>\n",
       "      <th>6</th>\n",
       "      <td>9760000</td>\n",
       "      <td>15520000</td>\n",
       "    </tr>\n",
       "  </tbody>\n",
       "</table>\n",
       "</div>"
      ],
      "text/plain": [
       "Gender   Female      Male\n",
       "tier                     \n",
       "1        960000    960000\n",
       "2       2240000   1600000\n",
       "3       2880000   1760000\n",
       "4       4800000   4000000\n",
       "5       9280000   8800000\n",
       "6       9760000  15520000"
      ]
     },
     "execution_count": 22,
     "metadata": {},
     "output_type": "execute_result"
    }
   ],
   "source": [
    "pd.pivot_table(combined_df, index = 'tier', values = 'Catchphrase', columns=\"Gender\", aggfunc='count')"
   ]
  },
  {
   "cell_type": "markdown",
   "metadata": {},
   "source": [
    "### 2. Species"
   ]
  },
  {
   "cell_type": "code",
   "execution_count": 14,
   "metadata": {
    "execution": {
     "iopub.execute_input": "2024-04-14T17:59:54.319867Z",
     "iopub.status.busy": "2024-04-14T17:59:54.319236Z",
     "iopub.status.idle": "2024-04-14T17:59:54.335444Z",
     "shell.execute_reply": "2024-04-14T17:59:54.332370Z",
     "shell.execute_reply.started": "2024-04-14T17:59:54.319793Z"
    }
   },
   "outputs": [
    {
     "name": "stdout",
     "output_type": "stream",
     "text": [
      "<class 'pandas.core.frame.DataFrame'>\n",
      "Index: 61760000 entries, Raymond to Velma\n",
      "Data columns (total 12 columns):\n",
      " #   Column           Dtype \n",
      "---  ------           ----- \n",
      " 0   tier             int64 \n",
      " 1   rank             int64 \n",
      " 2   overall_ranking  int64 \n",
      " 3   Species          object\n",
      " 4   Gender           object\n",
      " 5   Personality      object\n",
      " 6   Hobby            object\n",
      " 7   Catchphrase      object\n",
      " 8   Style 1          object\n",
      " 9   Style 2          object\n",
      " 10  Color 1          object\n",
      " 11  Color 2          object\n",
      "dtypes: int64(3), object(9)\n",
      "memory usage: 6.0+ GB\n"
     ]
    }
   ],
   "source": [
    "combined_df.info()"
   ]
  },
  {
   "cell_type": "code",
   "execution_count": 18,
   "metadata": {
    "execution": {
     "iopub.execute_input": "2024-04-14T18:02:38.342434Z",
     "iopub.status.busy": "2024-04-14T18:02:38.341279Z",
     "iopub.status.idle": "2024-04-14T18:02:42.126118Z",
     "shell.execute_reply": "2024-04-14T18:02:42.125791Z",
     "shell.execute_reply.started": "2024-04-14T18:02:38.342392Z"
    }
   },
   "outputs": [
    {
     "data": {
      "text/html": [
       "<div>\n",
       "<style scoped>\n",
       "    .dataframe tbody tr th:only-of-type {\n",
       "        vertical-align: middle;\n",
       "    }\n",
       "\n",
       "    .dataframe tbody tr th {\n",
       "        vertical-align: top;\n",
       "    }\n",
       "\n",
       "    .dataframe thead th {\n",
       "        text-align: right;\n",
       "    }\n",
       "</style>\n",
       "<table border=\"1\" class=\"dataframe\">\n",
       "  <thead>\n",
       "    <tr style=\"text-align: right;\">\n",
       "      <th></th>\n",
       "      <th>tier</th>\n",
       "      <th>rank</th>\n",
       "      <th>overall_ranking</th>\n",
       "    </tr>\n",
       "    <tr>\n",
       "      <th>Species</th>\n",
       "      <th></th>\n",
       "      <th></th>\n",
       "      <th></th>\n",
       "    </tr>\n",
       "  </thead>\n",
       "  <tbody>\n",
       "    <tr>\n",
       "      <th>Alligator</th>\n",
       "      <td>5.285714</td>\n",
       "      <td>55.428571</td>\n",
       "      <td>3.500571e+07</td>\n",
       "    </tr>\n",
       "    <tr>\n",
       "      <th>Anteater</th>\n",
       "      <td>5.571429</td>\n",
       "      <td>51.000000</td>\n",
       "      <td>3.692571e+07</td>\n",
       "    </tr>\n",
       "    <tr>\n",
       "      <th>Bear</th>\n",
       "      <td>5.400000</td>\n",
       "      <td>67.200000</td>\n",
       "      <td>3.807467e+07</td>\n",
       "    </tr>\n",
       "    <tr>\n",
       "      <th>Bird</th>\n",
       "      <td>5.769231</td>\n",
       "      <td>73.538462</td>\n",
       "      <td>4.373539e+07</td>\n",
       "    </tr>\n",
       "    <tr>\n",
       "      <th>Bull</th>\n",
       "      <td>5.666667</td>\n",
       "      <td>75.000000</td>\n",
       "      <td>4.213333e+07</td>\n",
       "    </tr>\n",
       "    <tr>\n",
       "      <th>Cat</th>\n",
       "      <td>3.434783</td>\n",
       "      <td>28.826087</td>\n",
       "      <td>1.495304e+07</td>\n",
       "    </tr>\n",
       "    <tr>\n",
       "      <th>Chicken</th>\n",
       "      <td>5.555556</td>\n",
       "      <td>74.888889</td>\n",
       "      <td>4.024000e+07</td>\n",
       "    </tr>\n",
       "    <tr>\n",
       "      <th>Cow</th>\n",
       "      <td>5.250000</td>\n",
       "      <td>59.500000</td>\n",
       "      <td>3.260000e+07</td>\n",
       "    </tr>\n",
       "    <tr>\n",
       "      <th>Cub</th>\n",
       "      <td>4.062500</td>\n",
       "      <td>38.437500</td>\n",
       "      <td>2.264000e+07</td>\n",
       "    </tr>\n",
       "    <tr>\n",
       "      <th>Deer</th>\n",
       "      <td>2.800000</td>\n",
       "      <td>19.200000</td>\n",
       "      <td>8.288000e+06</td>\n",
       "    </tr>\n",
       "    <tr>\n",
       "      <th>Dog</th>\n",
       "      <td>4.187500</td>\n",
       "      <td>43.187500</td>\n",
       "      <td>2.212000e+07</td>\n",
       "    </tr>\n",
       "    <tr>\n",
       "      <th>Duck</th>\n",
       "      <td>5.000000</td>\n",
       "      <td>61.823529</td>\n",
       "      <td>3.423529e+07</td>\n",
       "    </tr>\n",
       "    <tr>\n",
       "      <th>Eagle</th>\n",
       "      <td>5.222222</td>\n",
       "      <td>75.888889</td>\n",
       "      <td>3.839111e+07</td>\n",
       "    </tr>\n",
       "    <tr>\n",
       "      <th>Elephant</th>\n",
       "      <td>5.090909</td>\n",
       "      <td>53.454545</td>\n",
       "      <td>3.240000e+07</td>\n",
       "    </tr>\n",
       "    <tr>\n",
       "      <th>Frog</th>\n",
       "      <td>5.058824</td>\n",
       "      <td>49.764706</td>\n",
       "      <td>3.152471e+07</td>\n",
       "    </tr>\n",
       "    <tr>\n",
       "      <th>Goat</th>\n",
       "      <td>4.125000</td>\n",
       "      <td>51.750000</td>\n",
       "      <td>2.566000e+07</td>\n",
       "    </tr>\n",
       "    <tr>\n",
       "      <th>Gorilla</th>\n",
       "      <td>5.888889</td>\n",
       "      <td>91.444444</td>\n",
       "      <td>4.861333e+07</td>\n",
       "    </tr>\n",
       "    <tr>\n",
       "      <th>Hamster</th>\n",
       "      <td>4.375000</td>\n",
       "      <td>39.000000</td>\n",
       "      <td>2.332000e+07</td>\n",
       "    </tr>\n",
       "    <tr>\n",
       "      <th>Hippo</th>\n",
       "      <td>5.714286</td>\n",
       "      <td>87.857143</td>\n",
       "      <td>4.510857e+07</td>\n",
       "    </tr>\n",
       "    <tr>\n",
       "      <th>Horse</th>\n",
       "      <td>5.142857</td>\n",
       "      <td>69.142857</td>\n",
       "      <td>3.685714e+07</td>\n",
       "    </tr>\n",
       "    <tr>\n",
       "      <th>Kangaroo</th>\n",
       "      <td>5.625000</td>\n",
       "      <td>91.875000</td>\n",
       "      <td>4.388000e+07</td>\n",
       "    </tr>\n",
       "    <tr>\n",
       "      <th>Koala</th>\n",
       "      <td>4.444444</td>\n",
       "      <td>44.555556</td>\n",
       "      <td>2.132444e+07</td>\n",
       "    </tr>\n",
       "    <tr>\n",
       "      <th>Lion</th>\n",
       "      <td>5.571429</td>\n",
       "      <td>43.714286</td>\n",
       "      <td>3.710857e+07</td>\n",
       "    </tr>\n",
       "    <tr>\n",
       "      <th>Monkey</th>\n",
       "      <td>5.250000</td>\n",
       "      <td>61.375000</td>\n",
       "      <td>3.390000e+07</td>\n",
       "    </tr>\n",
       "    <tr>\n",
       "      <th>Mouse</th>\n",
       "      <td>5.600000</td>\n",
       "      <td>99.466667</td>\n",
       "      <td>4.528533e+07</td>\n",
       "    </tr>\n",
       "    <tr>\n",
       "      <th>Octopus</th>\n",
       "      <td>1.666667</td>\n",
       "      <td>7.333333</td>\n",
       "      <td>2.693334e+06</td>\n",
       "    </tr>\n",
       "    <tr>\n",
       "      <th>Ostrich</th>\n",
       "      <td>4.800000</td>\n",
       "      <td>57.800000</td>\n",
       "      <td>2.969600e+07</td>\n",
       "    </tr>\n",
       "    <tr>\n",
       "      <th>Penguin</th>\n",
       "      <td>4.769231</td>\n",
       "      <td>60.000000</td>\n",
       "      <td>2.954462e+07</td>\n",
       "    </tr>\n",
       "    <tr>\n",
       "      <th>Pig</th>\n",
       "      <td>5.785714</td>\n",
       "      <td>97.785714</td>\n",
       "      <td>4.840000e+07</td>\n",
       "    </tr>\n",
       "    <tr>\n",
       "      <th>Rabbit</th>\n",
       "      <td>4.578947</td>\n",
       "      <td>45.368421</td>\n",
       "      <td>2.488000e+07</td>\n",
       "    </tr>\n",
       "    <tr>\n",
       "      <th>Rhino</th>\n",
       "      <td>4.200000</td>\n",
       "      <td>39.600000</td>\n",
       "      <td>2.286400e+07</td>\n",
       "    </tr>\n",
       "    <tr>\n",
       "      <th>Sheep</th>\n",
       "      <td>4.846154</td>\n",
       "      <td>59.000000</td>\n",
       "      <td>3.152615e+07</td>\n",
       "    </tr>\n",
       "    <tr>\n",
       "      <th>Squirrel</th>\n",
       "      <td>4.388889</td>\n",
       "      <td>39.611111</td>\n",
       "      <td>2.351111e+07</td>\n",
       "    </tr>\n",
       "    <tr>\n",
       "      <th>Tiger</th>\n",
       "      <td>5.142857</td>\n",
       "      <td>68.000000</td>\n",
       "      <td>3.432000e+07</td>\n",
       "    </tr>\n",
       "    <tr>\n",
       "      <th>Wolf</th>\n",
       "      <td>3.454545</td>\n",
       "      <td>18.909091</td>\n",
       "      <td>1.154182e+07</td>\n",
       "    </tr>\n",
       "  </tbody>\n",
       "</table>\n",
       "</div>"
      ],
      "text/plain": [
       "               tier       rank  overall_ranking\n",
       "Species                                        \n",
       "Alligator  5.285714  55.428571     3.500571e+07\n",
       "Anteater   5.571429  51.000000     3.692571e+07\n",
       "Bear       5.400000  67.200000     3.807467e+07\n",
       "Bird       5.769231  73.538462     4.373539e+07\n",
       "Bull       5.666667  75.000000     4.213333e+07\n",
       "Cat        3.434783  28.826087     1.495304e+07\n",
       "Chicken    5.555556  74.888889     4.024000e+07\n",
       "Cow        5.250000  59.500000     3.260000e+07\n",
       "Cub        4.062500  38.437500     2.264000e+07\n",
       "Deer       2.800000  19.200000     8.288000e+06\n",
       "Dog        4.187500  43.187500     2.212000e+07\n",
       "Duck       5.000000  61.823529     3.423529e+07\n",
       "Eagle      5.222222  75.888889     3.839111e+07\n",
       "Elephant   5.090909  53.454545     3.240000e+07\n",
       "Frog       5.058824  49.764706     3.152471e+07\n",
       "Goat       4.125000  51.750000     2.566000e+07\n",
       "Gorilla    5.888889  91.444444     4.861333e+07\n",
       "Hamster    4.375000  39.000000     2.332000e+07\n",
       "Hippo      5.714286  87.857143     4.510857e+07\n",
       "Horse      5.142857  69.142857     3.685714e+07\n",
       "Kangaroo   5.625000  91.875000     4.388000e+07\n",
       "Koala      4.444444  44.555556     2.132444e+07\n",
       "Lion       5.571429  43.714286     3.710857e+07\n",
       "Monkey     5.250000  61.375000     3.390000e+07\n",
       "Mouse      5.600000  99.466667     4.528533e+07\n",
       "Octopus    1.666667   7.333333     2.693334e+06\n",
       "Ostrich    4.800000  57.800000     2.969600e+07\n",
       "Penguin    4.769231  60.000000     2.954462e+07\n",
       "Pig        5.785714  97.785714     4.840000e+07\n",
       "Rabbit     4.578947  45.368421     2.488000e+07\n",
       "Rhino      4.200000  39.600000     2.286400e+07\n",
       "Sheep      4.846154  59.000000     3.152615e+07\n",
       "Squirrel   4.388889  39.611111     2.351111e+07\n",
       "Tiger      5.142857  68.000000     3.432000e+07\n",
       "Wolf       3.454545  18.909091     1.154182e+07"
      ]
     },
     "execution_count": 18,
     "metadata": {},
     "output_type": "execute_result"
    }
   ],
   "source": [
    "combined_df.groupby('Species').mean(numeric_only=True)"
   ]
  },
  {
   "cell_type": "code",
   "execution_count": 20,
   "metadata": {
    "execution": {
     "iopub.execute_input": "2024-04-14T18:03:08.955280Z",
     "iopub.status.busy": "2024-04-14T18:03:08.954548Z",
     "iopub.status.idle": "2024-04-14T18:03:12.323086Z",
     "shell.execute_reply": "2024-04-14T18:03:12.322704Z",
     "shell.execute_reply.started": "2024-04-14T18:03:08.955235Z"
    }
   },
   "outputs": [
    {
     "data": {
      "text/html": [
       "<div>\n",
       "<style scoped>\n",
       "    .dataframe tbody tr th:only-of-type {\n",
       "        vertical-align: middle;\n",
       "    }\n",
       "\n",
       "    .dataframe tbody tr th {\n",
       "        vertical-align: top;\n",
       "    }\n",
       "\n",
       "    .dataframe thead th {\n",
       "        text-align: right;\n",
       "    }\n",
       "</style>\n",
       "<table border=\"1\" class=\"dataframe\">\n",
       "  <thead>\n",
       "    <tr style=\"text-align: right;\">\n",
       "      <th></th>\n",
       "      <th>Species</th>\n",
       "      <th>overall_ranking</th>\n",
       "    </tr>\n",
       "  </thead>\n",
       "  <tbody>\n",
       "    <tr>\n",
       "      <th>25</th>\n",
       "      <td>Octopus</td>\n",
       "      <td>2.693334e+06</td>\n",
       "    </tr>\n",
       "    <tr>\n",
       "      <th>9</th>\n",
       "      <td>Deer</td>\n",
       "      <td>8.288000e+06</td>\n",
       "    </tr>\n",
       "    <tr>\n",
       "      <th>34</th>\n",
       "      <td>Wolf</td>\n",
       "      <td>1.154182e+07</td>\n",
       "    </tr>\n",
       "    <tr>\n",
       "      <th>5</th>\n",
       "      <td>Cat</td>\n",
       "      <td>1.495304e+07</td>\n",
       "    </tr>\n",
       "    <tr>\n",
       "      <th>21</th>\n",
       "      <td>Koala</td>\n",
       "      <td>2.132444e+07</td>\n",
       "    </tr>\n",
       "    <tr>\n",
       "      <th>10</th>\n",
       "      <td>Dog</td>\n",
       "      <td>2.212000e+07</td>\n",
       "    </tr>\n",
       "    <tr>\n",
       "      <th>8</th>\n",
       "      <td>Cub</td>\n",
       "      <td>2.264000e+07</td>\n",
       "    </tr>\n",
       "    <tr>\n",
       "      <th>30</th>\n",
       "      <td>Rhino</td>\n",
       "      <td>2.286400e+07</td>\n",
       "    </tr>\n",
       "    <tr>\n",
       "      <th>17</th>\n",
       "      <td>Hamster</td>\n",
       "      <td>2.332000e+07</td>\n",
       "    </tr>\n",
       "    <tr>\n",
       "      <th>32</th>\n",
       "      <td>Squirrel</td>\n",
       "      <td>2.351111e+07</td>\n",
       "    </tr>\n",
       "    <tr>\n",
       "      <th>29</th>\n",
       "      <td>Rabbit</td>\n",
       "      <td>2.488000e+07</td>\n",
       "    </tr>\n",
       "    <tr>\n",
       "      <th>15</th>\n",
       "      <td>Goat</td>\n",
       "      <td>2.566000e+07</td>\n",
       "    </tr>\n",
       "    <tr>\n",
       "      <th>27</th>\n",
       "      <td>Penguin</td>\n",
       "      <td>2.954462e+07</td>\n",
       "    </tr>\n",
       "    <tr>\n",
       "      <th>26</th>\n",
       "      <td>Ostrich</td>\n",
       "      <td>2.969600e+07</td>\n",
       "    </tr>\n",
       "    <tr>\n",
       "      <th>14</th>\n",
       "      <td>Frog</td>\n",
       "      <td>3.152471e+07</td>\n",
       "    </tr>\n",
       "    <tr>\n",
       "      <th>31</th>\n",
       "      <td>Sheep</td>\n",
       "      <td>3.152615e+07</td>\n",
       "    </tr>\n",
       "    <tr>\n",
       "      <th>13</th>\n",
       "      <td>Elephant</td>\n",
       "      <td>3.240000e+07</td>\n",
       "    </tr>\n",
       "    <tr>\n",
       "      <th>7</th>\n",
       "      <td>Cow</td>\n",
       "      <td>3.260000e+07</td>\n",
       "    </tr>\n",
       "    <tr>\n",
       "      <th>23</th>\n",
       "      <td>Monkey</td>\n",
       "      <td>3.390000e+07</td>\n",
       "    </tr>\n",
       "    <tr>\n",
       "      <th>11</th>\n",
       "      <td>Duck</td>\n",
       "      <td>3.423529e+07</td>\n",
       "    </tr>\n",
       "    <tr>\n",
       "      <th>33</th>\n",
       "      <td>Tiger</td>\n",
       "      <td>3.432000e+07</td>\n",
       "    </tr>\n",
       "    <tr>\n",
       "      <th>0</th>\n",
       "      <td>Alligator</td>\n",
       "      <td>3.500571e+07</td>\n",
       "    </tr>\n",
       "    <tr>\n",
       "      <th>19</th>\n",
       "      <td>Horse</td>\n",
       "      <td>3.685714e+07</td>\n",
       "    </tr>\n",
       "    <tr>\n",
       "      <th>1</th>\n",
       "      <td>Anteater</td>\n",
       "      <td>3.692571e+07</td>\n",
       "    </tr>\n",
       "    <tr>\n",
       "      <th>22</th>\n",
       "      <td>Lion</td>\n",
       "      <td>3.710857e+07</td>\n",
       "    </tr>\n",
       "    <tr>\n",
       "      <th>2</th>\n",
       "      <td>Bear</td>\n",
       "      <td>3.807467e+07</td>\n",
       "    </tr>\n",
       "    <tr>\n",
       "      <th>12</th>\n",
       "      <td>Eagle</td>\n",
       "      <td>3.839111e+07</td>\n",
       "    </tr>\n",
       "    <tr>\n",
       "      <th>6</th>\n",
       "      <td>Chicken</td>\n",
       "      <td>4.024000e+07</td>\n",
       "    </tr>\n",
       "    <tr>\n",
       "      <th>4</th>\n",
       "      <td>Bull</td>\n",
       "      <td>4.213333e+07</td>\n",
       "    </tr>\n",
       "    <tr>\n",
       "      <th>3</th>\n",
       "      <td>Bird</td>\n",
       "      <td>4.373539e+07</td>\n",
       "    </tr>\n",
       "    <tr>\n",
       "      <th>20</th>\n",
       "      <td>Kangaroo</td>\n",
       "      <td>4.388000e+07</td>\n",
       "    </tr>\n",
       "    <tr>\n",
       "      <th>18</th>\n",
       "      <td>Hippo</td>\n",
       "      <td>4.510857e+07</td>\n",
       "    </tr>\n",
       "    <tr>\n",
       "      <th>24</th>\n",
       "      <td>Mouse</td>\n",
       "      <td>4.528533e+07</td>\n",
       "    </tr>\n",
       "    <tr>\n",
       "      <th>28</th>\n",
       "      <td>Pig</td>\n",
       "      <td>4.840000e+07</td>\n",
       "    </tr>\n",
       "    <tr>\n",
       "      <th>16</th>\n",
       "      <td>Gorilla</td>\n",
       "      <td>4.861333e+07</td>\n",
       "    </tr>\n",
       "  </tbody>\n",
       "</table>\n",
       "</div>"
      ],
      "text/plain": [
       "      Species  overall_ranking\n",
       "25    Octopus     2.693334e+06\n",
       "9        Deer     8.288000e+06\n",
       "34       Wolf     1.154182e+07\n",
       "5         Cat     1.495304e+07\n",
       "21      Koala     2.132444e+07\n",
       "10        Dog     2.212000e+07\n",
       "8         Cub     2.264000e+07\n",
       "30      Rhino     2.286400e+07\n",
       "17    Hamster     2.332000e+07\n",
       "32   Squirrel     2.351111e+07\n",
       "29     Rabbit     2.488000e+07\n",
       "15       Goat     2.566000e+07\n",
       "27    Penguin     2.954462e+07\n",
       "26    Ostrich     2.969600e+07\n",
       "14       Frog     3.152471e+07\n",
       "31      Sheep     3.152615e+07\n",
       "13   Elephant     3.240000e+07\n",
       "7         Cow     3.260000e+07\n",
       "23     Monkey     3.390000e+07\n",
       "11       Duck     3.423529e+07\n",
       "33      Tiger     3.432000e+07\n",
       "0   Alligator     3.500571e+07\n",
       "19      Horse     3.685714e+07\n",
       "1    Anteater     3.692571e+07\n",
       "22       Lion     3.710857e+07\n",
       "2        Bear     3.807467e+07\n",
       "12      Eagle     3.839111e+07\n",
       "6     Chicken     4.024000e+07\n",
       "4        Bull     4.213333e+07\n",
       "3        Bird     4.373539e+07\n",
       "20   Kangaroo     4.388000e+07\n",
       "18      Hippo     4.510857e+07\n",
       "24      Mouse     4.528533e+07\n",
       "28        Pig     4.840000e+07\n",
       "16    Gorilla     4.861333e+07"
      ]
     },
     "execution_count": 20,
     "metadata": {},
     "output_type": "execute_result"
    }
   ],
   "source": [
    "# creating value counts dataframe for each species type\n",
    "species_ranking = combined_df.groupby('Species').mean(numeric_only=True)['overall_ranking'].to_frame().reset_index().sort_values('overall_ranking')\n",
    "species_ranking"
   ]
  },
  {
   "cell_type": "code",
   "execution_count": 24,
   "metadata": {
    "execution": {
     "iopub.execute_input": "2024-04-14T17:49:37.367393Z",
     "iopub.status.busy": "2024-04-14T17:49:37.366125Z",
     "iopub.status.idle": "2024-04-14T17:49:37.377955Z",
     "shell.execute_reply": "2024-04-14T17:49:37.373946Z",
     "shell.execute_reply.started": "2024-04-14T17:49:37.367320Z"
    }
   },
   "outputs": [],
   "source": [
    "## -- STEFANOS: Disable plotting\n",
    "# plt.figure(figsize=(30,5))\n",
    "# sns.set(font_scale=1.4)\n",
    "# plt.xticks(rotation=45)\n",
    "# plt.axhline(overall_mean, color='r')\n",
    "# sns.scatterplot(x='Species', y=\"overall_ranking\", data=species_ranking,label='mean overall-ranking', s=300)"
   ]
  },
  {
   "cell_type": "markdown",
   "metadata": {},
   "source": [
    "Octopus, deer, wolves, cats and Koalas are most likely to be popular; while Kangaroos, Hippos, Mouse Pigs and Gorillas are the least likely to be popular. "
   ]
  },
  {
   "cell_type": "code",
   "execution_count": 25,
   "metadata": {
    "execution": {
     "iopub.execute_input": "2024-04-14T17:49:42.789976Z",
     "iopub.status.busy": "2024-04-14T17:49:42.789562Z",
     "iopub.status.idle": "2024-04-14T17:49:42.797440Z",
     "shell.execute_reply": "2024-04-14T17:49:42.796189Z",
     "shell.execute_reply.started": "2024-04-14T17:49:42.789946Z"
    }
   },
   "outputs": [],
   "source": [
    "## -- STEFANOS: Disable plotting\n",
    "# plt.figure(figsize=(30, 10))\n",
    "# plt.axhline(overall_mean, color='r')\n",
    "# sns.scatterplot(x=\"Species\", y='overall_ranking', hue='tier', s=100, data=combined_df)"
   ]
  },
  {
   "cell_type": "markdown",
   "metadata": {},
   "source": [
    "Although Octopuses seem to be ranking highly in part due to the low amount of Octopuses amongst the villagers. \n",
    "Interesting trend can be observed, there exists a ranking cap for low ranking speices, for example, none of the Gorilla villagers have a ranking lower than 200, it is heavily skewed, and not normally distributed.  Indicating a clear non-preference for certain species by the playerbase. "
   ]
  },
  {
   "cell_type": "markdown",
   "metadata": {},
   "source": [
    "### 3. Personality"
   ]
  },
  {
   "cell_type": "code",
   "execution_count": 26,
   "metadata": {
    "execution": {
     "iopub.execute_input": "2024-04-14T17:49:43.925530Z",
     "iopub.status.busy": "2024-04-14T17:49:43.925009Z",
     "iopub.status.idle": "2024-04-14T17:49:45.470985Z",
     "shell.execute_reply": "2024-04-14T17:49:45.470565Z",
     "shell.execute_reply.started": "2024-04-14T17:49:43.925495Z"
    }
   },
   "outputs": [
    {
     "data": {
      "text/plain": [
       "Personality\n",
       "Lazy          9600000\n",
       "Normal        9440000\n",
       "Snooty        8800000\n",
       "Jock          8800000\n",
       "Cranky        8800000\n",
       "Peppy         7840000\n",
       "Smug          5440000\n",
       "Big Sister    3840000\n",
       "Name: count, dtype: int64"
      ]
     },
     "execution_count": 26,
     "metadata": {},
     "output_type": "execute_result"
    }
   ],
   "source": [
    "combined_df.Personality.value_counts()"
   ]
  },
  {
   "cell_type": "code",
   "execution_count": 22,
   "metadata": {
    "execution": {
     "iopub.execute_input": "2024-04-14T18:04:01.458282Z",
     "iopub.status.busy": "2024-04-14T18:04:01.457533Z",
     "iopub.status.idle": "2024-04-14T18:04:04.853347Z",
     "shell.execute_reply": "2024-04-14T18:04:04.852990Z",
     "shell.execute_reply.started": "2024-04-14T18:04:01.458243Z"
    }
   },
   "outputs": [],
   "source": [
    "# creating value counts dataframe for each personality type\n",
    "personality_ranking = combined_df.groupby('Personality').mean(numeric_only=True)['overall_ranking'].to_frame().reset_index().sort_values('overall_ranking')"
   ]
  },
  {
   "cell_type": "code",
   "execution_count": 23,
   "metadata": {
    "execution": {
     "iopub.execute_input": "2024-04-14T18:04:08.449149Z",
     "iopub.status.busy": "2024-04-14T18:04:08.448682Z",
     "iopub.status.idle": "2024-04-14T18:04:08.453926Z",
     "shell.execute_reply": "2024-04-14T18:04:08.452836Z",
     "shell.execute_reply.started": "2024-04-14T18:04:08.449113Z"
    }
   },
   "outputs": [],
   "source": [
    "## -- STEFANOS: Disable plotting\n",
    "# plt.figure(figsize=(20,5))\n",
    "# sns.set(font_scale=1.4)\n",
    "# plt.xticks(rotation=45)\n",
    "# plt.axhline(overall_mean, color='r')\n",
    "# sns.scatterplot(x='Personality', y=\"overall_ranking\", data=personality_ranking,label='mean personality ranking', s=300)"
   ]
  },
  {
   "cell_type": "markdown",
   "metadata": {},
   "source": [
    "The playerbase seems to have a preference for Big sister, Normal, Peppy and sometimes Lazy type villagers.\n",
    "While they dislike Cranky, Jock and Snooty villagers. "
   ]
  },
  {
   "cell_type": "code",
   "execution_count": 24,
   "metadata": {
    "execution": {
     "iopub.execute_input": "2024-04-14T18:04:08.908511Z",
     "iopub.status.busy": "2024-04-14T18:04:08.907821Z",
     "iopub.status.idle": "2024-04-14T18:04:08.921206Z",
     "shell.execute_reply": "2024-04-14T18:04:08.919587Z",
     "shell.execute_reply.started": "2024-04-14T18:04:08.908446Z"
    }
   },
   "outputs": [],
   "source": [
    "## -- STEFANOS: Disable plotting\n",
    "# plt.figure(figsize=(10, 10))\n",
    "# plt.axhline(overall_mean, color='r')\n",
    "# sns.boxplot(x=\"Personality\", y='overall_ranking', data=combined_df)"
   ]
  },
  {
   "cell_type": "markdown",
   "metadata": {},
   "source": [
    "There seems to be a clear preference for Big Sister, Peppy and Normal Personality villagers, they have means below overall mean. Rankings are fairly normally distributed except for Smug villagers. On the other hand, Cranky and Snooty both have a mean clearly above the overall mean."
   ]
  },
  {
   "cell_type": "code",
   "execution_count": 25,
   "metadata": {
    "execution": {
     "iopub.execute_input": "2024-04-14T18:04:09.440997Z",
     "iopub.status.busy": "2024-04-14T18:04:09.440068Z",
     "iopub.status.idle": "2024-04-14T18:04:15.373208Z",
     "shell.execute_reply": "2024-04-14T18:04:15.372874Z",
     "shell.execute_reply.started": "2024-04-14T18:04:09.440929Z"
    }
   },
   "outputs": [
    {
     "data": {
      "text/html": [
       "<div>\n",
       "<style scoped>\n",
       "    .dataframe tbody tr th:only-of-type {\n",
       "        vertical-align: middle;\n",
       "    }\n",
       "\n",
       "    .dataframe tbody tr th {\n",
       "        vertical-align: top;\n",
       "    }\n",
       "\n",
       "    .dataframe thead th {\n",
       "        text-align: right;\n",
       "    }\n",
       "</style>\n",
       "<table border=\"1\" class=\"dataframe\">\n",
       "  <thead>\n",
       "    <tr style=\"text-align: right;\">\n",
       "      <th>Personality</th>\n",
       "      <th>Big Sister</th>\n",
       "      <th>Cranky</th>\n",
       "      <th>Jock</th>\n",
       "      <th>Lazy</th>\n",
       "      <th>Normal</th>\n",
       "      <th>Peppy</th>\n",
       "      <th>Smug</th>\n",
       "      <th>Snooty</th>\n",
       "    </tr>\n",
       "    <tr>\n",
       "      <th>tier</th>\n",
       "      <th></th>\n",
       "      <th></th>\n",
       "      <th></th>\n",
       "      <th></th>\n",
       "      <th></th>\n",
       "      <th></th>\n",
       "      <th></th>\n",
       "      <th></th>\n",
       "    </tr>\n",
       "  </thead>\n",
       "  <tbody>\n",
       "    <tr>\n",
       "      <th>1</th>\n",
       "      <td>NaN</td>\n",
       "      <td>NaN</td>\n",
       "      <td>NaN</td>\n",
       "      <td>640000.0</td>\n",
       "      <td>640000.0</td>\n",
       "      <td>NaN</td>\n",
       "      <td>320000.0</td>\n",
       "      <td>320000.0</td>\n",
       "    </tr>\n",
       "    <tr>\n",
       "      <th>2</th>\n",
       "      <td>160000.0</td>\n",
       "      <td>320000.0</td>\n",
       "      <td>320000.0</td>\n",
       "      <td>640000.0</td>\n",
       "      <td>960000.0</td>\n",
       "      <td>960000.0</td>\n",
       "      <td>320000.0</td>\n",
       "      <td>160000.0</td>\n",
       "    </tr>\n",
       "    <tr>\n",
       "      <th>3</th>\n",
       "      <td>800000.0</td>\n",
       "      <td>640000.0</td>\n",
       "      <td>480000.0</td>\n",
       "      <td>320000.0</td>\n",
       "      <td>1280000.0</td>\n",
       "      <td>640000.0</td>\n",
       "      <td>320000.0</td>\n",
       "      <td>160000.0</td>\n",
       "    </tr>\n",
       "    <tr>\n",
       "      <th>4</th>\n",
       "      <td>960000.0</td>\n",
       "      <td>800000.0</td>\n",
       "      <td>800000.0</td>\n",
       "      <td>1440000.0</td>\n",
       "      <td>1280000.0</td>\n",
       "      <td>1600000.0</td>\n",
       "      <td>960000.0</td>\n",
       "      <td>960000.0</td>\n",
       "    </tr>\n",
       "    <tr>\n",
       "      <th>5</th>\n",
       "      <td>1120000.0</td>\n",
       "      <td>1920000.0</td>\n",
       "      <td>2720000.0</td>\n",
       "      <td>3040000.0</td>\n",
       "      <td>3040000.0</td>\n",
       "      <td>2560000.0</td>\n",
       "      <td>800000.0</td>\n",
       "      <td>2400000.0</td>\n",
       "    </tr>\n",
       "    <tr>\n",
       "      <th>6</th>\n",
       "      <td>640000.0</td>\n",
       "      <td>4960000.0</td>\n",
       "      <td>4320000.0</td>\n",
       "      <td>3360000.0</td>\n",
       "      <td>2240000.0</td>\n",
       "      <td>2080000.0</td>\n",
       "      <td>2560000.0</td>\n",
       "      <td>4800000.0</td>\n",
       "    </tr>\n",
       "  </tbody>\n",
       "</table>\n",
       "</div>"
      ],
      "text/plain": [
       "Personality  Big Sister     Cranky       Jock       Lazy     Normal  \\\n",
       "tier                                                                  \n",
       "1                   NaN        NaN        NaN   640000.0   640000.0   \n",
       "2              160000.0   320000.0   320000.0   640000.0   960000.0   \n",
       "3              800000.0   640000.0   480000.0   320000.0  1280000.0   \n",
       "4              960000.0   800000.0   800000.0  1440000.0  1280000.0   \n",
       "5             1120000.0  1920000.0  2720000.0  3040000.0  3040000.0   \n",
       "6              640000.0  4960000.0  4320000.0  3360000.0  2240000.0   \n",
       "\n",
       "Personality      Peppy       Smug     Snooty  \n",
       "tier                                          \n",
       "1                  NaN   320000.0   320000.0  \n",
       "2             960000.0   320000.0   160000.0  \n",
       "3             640000.0   320000.0   160000.0  \n",
       "4            1600000.0   960000.0   960000.0  \n",
       "5            2560000.0   800000.0  2400000.0  \n",
       "6            2080000.0  2560000.0  4800000.0  "
      ]
     },
     "execution_count": 25,
     "metadata": {},
     "output_type": "execute_result"
    }
   ],
   "source": [
    "pd.pivot_table(combined_df, index = 'tier', values = 'Catchphrase', columns=\"Personality\", aggfunc='count')"
   ]
  },
  {
   "cell_type": "markdown",
   "metadata": {},
   "source": [
    "### 4. Style"
   ]
  },
  {
   "cell_type": "code",
   "execution_count": null,
   "metadata": {
    "execution": {
     "iopub.execute_input": "2024-04-14T18:04:15.374204Z",
     "iopub.status.busy": "2024-04-14T18:04:15.374097Z"
    }
   },
   "outputs": [],
   "source": [
    "# generating value counts dataframe for each style type\n",
    "style_ranking1 = combined_df.groupby('Style 1').mean(numeric_only=True)['overall_ranking'].to_frame().reset_index().sort_values('overall_ranking')\n",
    "style_ranking2 = combined_df.groupby('Style 2').mean(numeric_only=True)['overall_ranking'].to_frame().reset_index().sort_values('overall_ranking')"
   ]
  },
  {
   "cell_type": "code",
   "execution_count": null,
   "metadata": {},
   "outputs": [],
   "source": [
    "# combining the 2 style columns and finding a mean\n",
    "style_ranking = style_ranking1.copy()\n",
    "style_series = (style_ranking1['overall_ranking'] + style_ranking2['overall_ranking'])/2\n",
    "style_ranking[\"overall_ranking\"] = style_series"
   ]
  },
  {
   "cell_type": "code",
   "execution_count": null,
   "metadata": {},
   "outputs": [],
   "source": [
    "style_ranking"
   ]
  },
  {
   "cell_type": "code",
   "execution_count": null,
   "metadata": {},
   "outputs": [],
   "source": [
    "## -- STEFANOS: Disable plotting\n",
    "# plt.figure(figsize=(20,5))\n",
    "# sns.set(font_scale=1.4)\n",
    "# plt.xticks(rotation=45)\n",
    "# plt.axhline(overall_mean, color='r')\n",
    "# sns.scatterplot(x='Style 1', y=\"overall_ranking\", data=style_ranking, s=300)"
   ]
  },
  {
   "cell_type": "markdown",
   "metadata": {},
   "source": [
    "A very clear preference for Cute styled villagers. Simple Styled Villagers have a ranking mean just about equal to the overall mean, while other style villagers have a slightly above overall mean mean. "
   ]
  },
  {
   "cell_type": "code",
   "execution_count": null,
   "metadata": {},
   "outputs": [],
   "source": [
    "## -- STEFANOS: Disable plotting\n",
    "# plt.figure(figsize=(7, 7))\n",
    "# plt.axhline(overall_mean, color='r')\n",
    "# sns.boxplot(x=\"Style 1\", y='overall_ranking', data=combined_df)\n",
    "# plt.title('Style 1')\n",
    "# plt.figure(figsize=(7, 7))\n",
    "# plt.axhline(overall_mean, color='r')\n",
    "# sns.boxplot(x=\"Style 2\", y='overall_ranking', data=combined_df)\n",
    "# plt.title('Style 2')"
   ]
  },
  {
   "cell_type": "markdown",
   "metadata": {
    "execution": {
     "iopub.execute_input": "2022-03-15T17:01:53.180288Z",
     "iopub.status.busy": "2022-03-15T17:01:53.179907Z",
     "iopub.status.idle": "2022-03-15T17:01:53.188224Z",
     "shell.execute_reply": "2022-03-15T17:01:53.18728Z",
     "shell.execute_reply.started": "2022-03-15T17:01:53.180251Z"
    }
   },
   "source": [
    "The clear preference is Cute style dressing, in both Style columns. In particular, in Style 2 column Cute Styled Villagers have a higher concetration in lower rankings. Other styles seem to have a fairly normally distributed ranking, with the exception of Active Style Villagers in Style 1, right skewed, but the ranking mean is significantly above the overall ranking mean.  "
   ]
  },
  {
   "cell_type": "code",
   "execution_count": null,
   "metadata": {},
   "outputs": [],
   "source": [
    "pd.pivot_table(combined_df, index = 'tier', values = 'Catchphrase', columns=\"Style 1\", aggfunc='count')"
   ]
  },
  {
   "cell_type": "code",
   "execution_count": null,
   "metadata": {},
   "outputs": [],
   "source": [
    "pd.pivot_table(combined_df, index = 'tier', values = 'Catchphrase', columns=\"Style 2\", aggfunc='count')"
   ]
  },
  {
   "cell_type": "markdown",
   "metadata": {},
   "source": [
    "# Conclusion\n",
    "We may come to the conclusion, that the following attributes contribute to a villager's popularity:\n",
    "- Gender: Despite Female Villagers having in general better popularity, this is likely due to the overwheling prescence of male villagers in the lowest tier. Other than the lowest tier, Male villagers in general perform slightly better.\n",
    "- Species: Octopus, Wolf, Deer and Cat villagers perform the best. \n",
    "- Personality: Big Sister, Normal and Peppy villagers are in general the most popular. \n",
    "- Style: Cute Style villagers are very clearly the most popular"
   ]
  },
  {
   "cell_type": "code",
   "execution_count": null,
   "metadata": {},
   "outputs": [],
   "source": []
  },
  {
   "cell_type": "code",
   "execution_count": null,
   "metadata": {},
   "outputs": [],
   "source": []
  }
 ],
 "metadata": {
  "kernelspec": {
   "display_name": "Python 3 (ipykernel)",
   "language": "python",
   "name": "python3"
  },
  "language_info": {
   "codemirror_mode": {
    "name": "ipython",
    "version": 3
   },
   "file_extension": ".py",
   "mimetype": "text/x-python",
   "name": "python",
   "nbconvert_exporter": "python",
   "pygments_lexer": "ipython3",
   "version": "3.10.11"
  }
 },
 "nbformat": 4,
 "nbformat_minor": 4
}
