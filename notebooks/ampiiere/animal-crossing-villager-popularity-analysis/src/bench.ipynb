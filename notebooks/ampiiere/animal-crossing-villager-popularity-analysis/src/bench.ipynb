{
 "cells": [
  {
   "cell_type": "code",
   "execution_count": 1,
   "metadata": {
    "_cell_guid": "b1076dfc-b9ad-4769-8c92-a6c4dae69d19",
    "_uuid": "8f2839f25d086af736a60e9eeb907d3b93b6e0e5",
    "execution": {
     "iopub.execute_input": "2022-08-03T09:38:56.938877Z",
     "iopub.status.busy": "2022-08-03T09:38:56.93726Z",
     "iopub.status.idle": "2022-08-03T09:38:58.097895Z",
     "shell.execute_reply": "2022-08-03T09:38:58.096834Z",
     "shell.execute_reply.started": "2022-08-03T09:38:56.938729Z"
    }
   },
   "outputs": [
    {
     "name": "stderr",
     "output_type": "stream",
     "text": [
      "/Users/sse/opt/anaconda3/envs/py3.10/lib/python3.10/site-packages/scipy/__init__.py:155: UserWarning: A NumPy version >=1.18.5 and <1.26.0 is required for this version of SciPy (detected version 1.26.0\n",
      "  warnings.warn(f\"A NumPy version >={np_minversion} and <{np_maxversion}\"\n"
     ]
    },
    {
     "name": "stdout",
     "output_type": "stream",
     "text": [
      "../input/animal-crossing-new-horizons-nookplaza-dataset/villagers.csv\n",
      "../input/acnh-villager-popularity/acnh_villager_data.csv\n"
     ]
    }
   ],
   "source": [
    "# This Python 3 environment comes with many helpful analytics libraries installed\n",
    "# It is defined by the kaggle/python Docker image: https://github.com/kaggle/docker-python\n",
    "# For example, here's several helpful packages to load\n",
    "\n",
    "import numpy as np # linear algebra\n",
    "import os\n",
    "import pandas as pd\n",
    "import seaborn as sns  # data visualization\n",
    "import matplotlib.pyplot as plt\n",
    "\n",
    "\n",
    "# Input data files are available in the read-only \"../input/\" directory\n",
    "# For example, running this (by clicking run or pressing Shift+Enter) will list all files under the input directory\n",
    "\n",
    "import os\n",
    "for dirname, _, filenames in os.walk('../input'):\n",
    "    for filename in filenames:\n",
    "        print(os.path.join(dirname, filename))\n",
    "\n",
    "# You can write up to 20GB to the current directory (/kaggle/working/) that gets preserved as output when you create a version using \"Save & Run All\" \n",
    "# You can also write temporary files to /kaggle/temp/, but they won't be saved outside of the current session"
   ]
  },
  {
   "cell_type": "markdown",
   "metadata": {},
   "source": [
    "# Introduction\n",
    "The goal of this project is to analyse the relationship between animal crossing new horizon villager popularity amongst the player base and certain villager attributes. \n",
    "\n",
    "We will be analysing the Gender,Personality, Species, and Style of a villager. "
   ]
  },
  {
   "cell_type": "markdown",
   "metadata": {},
   "source": [
    "# Data Initilization and Cleaning"
   ]
  },
  {
   "cell_type": "code",
   "execution_count": 2,
   "metadata": {
    "execution": {
     "iopub.execute_input": "2022-08-03T09:38:58.099842Z",
     "iopub.status.busy": "2022-08-03T09:38:58.099612Z",
     "iopub.status.idle": "2022-08-03T09:38:58.129488Z",
     "shell.execute_reply": "2022-08-03T09:38:58.128394Z",
     "shell.execute_reply.started": "2022-08-03T09:38:58.099813Z"
    }
   },
   "outputs": [],
   "source": [
    "vlgr_df = pd.read_csv(\"../input/animal-crossing-new-horizons-nookplaza-dataset/villagers.csv\")\n",
    "popul_df = pd.read_csv(\"../input/acnh-villager-popularity/acnh_villager_data.csv\")"
   ]
  },
  {
   "cell_type": "markdown",
   "metadata": {},
   "source": [
    "# -- STEFANOS -- Replicate Data"
   ]
  },
  {
   "cell_type": "code",
   "execution_count": 3,
   "metadata": {},
   "outputs": [
    {
     "name": "stdout",
     "output_type": "stream",
     "text": [
      "<class 'pandas.core.frame.DataFrame'>\n",
      "RangeIndex: 1749881 entries, 0 to 1749880\n",
      "Data columns (total 3 columns):\n",
      " #   Column  Dtype \n",
      "---  ------  ----- \n",
      " 0   tier    int64 \n",
      " 1   rank    int64 \n",
      " 2   name    object\n",
      "dtypes: int64(2), object(1)\n",
      "memory usage: 40.1+ MB\n",
      "<class 'pandas.core.frame.DataFrame'>\n",
      "RangeIndex: 1656667 entries, 0 to 1656666\n",
      "Data columns (total 17 columns):\n",
      " #   Column           Non-Null Count    Dtype \n",
      "---  ------           --------------    ----- \n",
      " 0   Name             1656667 non-null  object\n",
      " 1   Species          1656667 non-null  object\n",
      " 2   Gender           1656667 non-null  object\n",
      " 3   Personality      1656667 non-null  object\n",
      " 4   Hobby            1656667 non-null  object\n",
      " 5   Birthday         1656667 non-null  object\n",
      " 6   Catchphrase      1656667 non-null  object\n",
      " 7   Favorite Song    1656667 non-null  object\n",
      " 8   Style 1          1656667 non-null  object\n",
      " 9   Style 2          1656667 non-null  object\n",
      " 10  Color 1          1656667 non-null  object\n",
      " 11  Color 2          1656667 non-null  object\n",
      " 12  Wallpaper        1656667 non-null  object\n",
      " 13  Flooring         1656667 non-null  object\n",
      " 14  Furniture List   1656667 non-null  object\n",
      " 15  Filename         1656667 non-null  object\n",
      " 16  Unique Entry ID  1656667 non-null  object\n",
      "dtypes: object(17)\n",
      "memory usage: 214.9+ MB\n"
     ]
    }
   ],
   "source": [
    "df = vlgr_df\n",
    "intended_df_size_in_MB = 256\n",
    "factor = intended_df_size_in_MB*(2**20)/(vlgr_df.memory_usage(index=True).sum()+popul_df.memory_usage(index=True).sum())\n",
    "if int(factor) > 0:\n",
    "    df = pd.concat([df]*int(factor), ignore_index=True)\n",
    "else:\n",
    "    rowCount = int(df.shape[0]*factor)\n",
    "    df = df[0:rowCount]\n",
    "vlgr_df = df\n",
    "\n",
    "df = popul_df\n",
    "if int(factor) > 0:\n",
    "    df = pd.concat([df]*int(factor), ignore_index=True)\n",
    "else:\n",
    "    rowCount = int(df.shape[0]*factor)\n",
    "    df = df[0:rowCount]\n",
    "popul_df = df\n",
    "\n",
    "popul_df.info()\n",
    "vlgr_df.info()"
   ]
  },
  {
   "cell_type": "code",
   "execution_count": 4,
   "metadata": {
    "execution": {
     "iopub.execute_input": "2022-08-03T09:38:58.132914Z",
     "iopub.status.busy": "2022-08-03T09:38:58.132615Z",
     "iopub.status.idle": "2022-08-03T09:38:58.16439Z",
     "shell.execute_reply": "2022-08-03T09:38:58.163578Z",
     "shell.execute_reply.started": "2022-08-03T09:38:58.132882Z"
    }
   },
   "outputs": [
    {
     "data": {
      "text/html": [
       "<div>\n",
       "<style scoped>\n",
       "    .dataframe tbody tr th:only-of-type {\n",
       "        vertical-align: middle;\n",
       "    }\n",
       "\n",
       "    .dataframe tbody tr th {\n",
       "        vertical-align: top;\n",
       "    }\n",
       "\n",
       "    .dataframe thead th {\n",
       "        text-align: right;\n",
       "    }\n",
       "</style>\n",
       "<table border=\"1\" class=\"dataframe\">\n",
       "  <thead>\n",
       "    <tr style=\"text-align: right;\">\n",
       "      <th></th>\n",
       "      <th>Name</th>\n",
       "      <th>Species</th>\n",
       "      <th>Gender</th>\n",
       "      <th>Personality</th>\n",
       "      <th>Hobby</th>\n",
       "      <th>Birthday</th>\n",
       "      <th>Catchphrase</th>\n",
       "      <th>Favorite Song</th>\n",
       "      <th>Style 1</th>\n",
       "      <th>Style 2</th>\n",
       "      <th>Color 1</th>\n",
       "      <th>Color 2</th>\n",
       "      <th>Wallpaper</th>\n",
       "      <th>Flooring</th>\n",
       "      <th>Furniture List</th>\n",
       "      <th>Filename</th>\n",
       "      <th>Unique Entry ID</th>\n",
       "    </tr>\n",
       "  </thead>\n",
       "  <tbody>\n",
       "    <tr>\n",
       "      <th>0</th>\n",
       "      <td>Admiral</td>\n",
       "      <td>Bird</td>\n",
       "      <td>Male</td>\n",
       "      <td>Cranky</td>\n",
       "      <td>Nature</td>\n",
       "      <td>27-Jan</td>\n",
       "      <td>aye aye</td>\n",
       "      <td>Steep Hill</td>\n",
       "      <td>Cool</td>\n",
       "      <td>Cool</td>\n",
       "      <td>Black</td>\n",
       "      <td>Blue</td>\n",
       "      <td>dirt-clod wall</td>\n",
       "      <td>tatami</td>\n",
       "      <td>717;1849;7047;2736;787;5970;3449;3622;3802;410...</td>\n",
       "      <td>brd06</td>\n",
       "      <td>B3RyfNEqwGmcccRC3</td>\n",
       "    </tr>\n",
       "    <tr>\n",
       "      <th>1</th>\n",
       "      <td>Agent S</td>\n",
       "      <td>Squirrel</td>\n",
       "      <td>Female</td>\n",
       "      <td>Peppy</td>\n",
       "      <td>Fitness</td>\n",
       "      <td>2-Jul</td>\n",
       "      <td>sidekick</td>\n",
       "      <td>Go K.K. Rider</td>\n",
       "      <td>Active</td>\n",
       "      <td>Simple</td>\n",
       "      <td>Blue</td>\n",
       "      <td>Black</td>\n",
       "      <td>concrete wall</td>\n",
       "      <td>colorful tile flooring</td>\n",
       "      <td>7845;7150;3468;4080;290;3971;3449;1708;4756;25...</td>\n",
       "      <td>squ05</td>\n",
       "      <td>SGMdki6dzpDZyXAw5</td>\n",
       "    </tr>\n",
       "    <tr>\n",
       "      <th>2</th>\n",
       "      <td>Agnes</td>\n",
       "      <td>Pig</td>\n",
       "      <td>Female</td>\n",
       "      <td>Big Sister</td>\n",
       "      <td>Play</td>\n",
       "      <td>21-Apr</td>\n",
       "      <td>snuffle</td>\n",
       "      <td>K.K. House</td>\n",
       "      <td>Simple</td>\n",
       "      <td>Elegant</td>\n",
       "      <td>Pink</td>\n",
       "      <td>White</td>\n",
       "      <td>gray molded-panel wall</td>\n",
       "      <td>arabesque flooring</td>\n",
       "      <td>4129;7236;7235;7802;896;3428;4027;7325;3958;71...</td>\n",
       "      <td>pig17</td>\n",
       "      <td>jzWCiDPm9MqtCfecP</td>\n",
       "    </tr>\n",
       "    <tr>\n",
       "      <th>3</th>\n",
       "      <td>Al</td>\n",
       "      <td>Gorilla</td>\n",
       "      <td>Male</td>\n",
       "      <td>Lazy</td>\n",
       "      <td>Fitness</td>\n",
       "      <td>18-Oct</td>\n",
       "      <td>ayyyeee</td>\n",
       "      <td>Go K.K. Rider</td>\n",
       "      <td>Active</td>\n",
       "      <td>Active</td>\n",
       "      <td>Red</td>\n",
       "      <td>White</td>\n",
       "      <td>concrete wall</td>\n",
       "      <td>green rubber flooring</td>\n",
       "      <td>1452;4078;4013;833;4116;3697;7845;3307;3946;39...</td>\n",
       "      <td>gor08</td>\n",
       "      <td>LBifxETQJGEaLhBjC</td>\n",
       "    </tr>\n",
       "    <tr>\n",
       "      <th>4</th>\n",
       "      <td>Alfonso</td>\n",
       "      <td>Alligator</td>\n",
       "      <td>Male</td>\n",
       "      <td>Lazy</td>\n",
       "      <td>Play</td>\n",
       "      <td>9-Jun</td>\n",
       "      <td>it'sa me</td>\n",
       "      <td>Forest Life</td>\n",
       "      <td>Simple</td>\n",
       "      <td>Simple</td>\n",
       "      <td>Red</td>\n",
       "      <td>Blue</td>\n",
       "      <td>yellow playroom wall</td>\n",
       "      <td>green honeycomb tile</td>\n",
       "      <td>4763;3205;3701;1557;3623;85;3208;3584;4761;121...</td>\n",
       "      <td>crd00</td>\n",
       "      <td>REpd8KxB8p9aGBRSE</td>\n",
       "    </tr>\n",
       "  </tbody>\n",
       "</table>\n",
       "</div>"
      ],
      "text/plain": [
       "      Name    Species  Gender Personality    Hobby Birthday Catchphrase  \\\n",
       "0  Admiral       Bird    Male      Cranky   Nature   27-Jan     aye aye   \n",
       "1  Agent S   Squirrel  Female       Peppy  Fitness    2-Jul    sidekick   \n",
       "2    Agnes        Pig  Female  Big Sister     Play   21-Apr     snuffle   \n",
       "3       Al    Gorilla    Male        Lazy  Fitness   18-Oct     ayyyeee   \n",
       "4  Alfonso  Alligator    Male        Lazy     Play    9-Jun    it'sa me   \n",
       "\n",
       "   Favorite Song Style 1  Style 2 Color 1 Color 2               Wallpaper  \\\n",
       "0     Steep Hill    Cool     Cool   Black    Blue          dirt-clod wall   \n",
       "1  Go K.K. Rider  Active   Simple    Blue   Black           concrete wall   \n",
       "2     K.K. House  Simple  Elegant    Pink   White  gray molded-panel wall   \n",
       "3  Go K.K. Rider  Active   Active     Red   White           concrete wall   \n",
       "4    Forest Life  Simple   Simple     Red    Blue    yellow playroom wall   \n",
       "\n",
       "                 Flooring                                     Furniture List  \\\n",
       "0                  tatami  717;1849;7047;2736;787;5970;3449;3622;3802;410...   \n",
       "1  colorful tile flooring  7845;7150;3468;4080;290;3971;3449;1708;4756;25...   \n",
       "2      arabesque flooring  4129;7236;7235;7802;896;3428;4027;7325;3958;71...   \n",
       "3   green rubber flooring  1452;4078;4013;833;4116;3697;7845;3307;3946;39...   \n",
       "4    green honeycomb tile  4763;3205;3701;1557;3623;85;3208;3584;4761;121...   \n",
       "\n",
       "  Filename    Unique Entry ID  \n",
       "0    brd06  B3RyfNEqwGmcccRC3  \n",
       "1    squ05  SGMdki6dzpDZyXAw5  \n",
       "2    pig17  jzWCiDPm9MqtCfecP  \n",
       "3    gor08  LBifxETQJGEaLhBjC  \n",
       "4    crd00  REpd8KxB8p9aGBRSE  "
      ]
     },
     "execution_count": 4,
     "metadata": {},
     "output_type": "execute_result"
    }
   ],
   "source": [
    "vlgr_df.head()"
   ]
  },
  {
   "cell_type": "code",
   "execution_count": 5,
   "metadata": {
    "execution": {
     "iopub.execute_input": "2022-08-03T09:38:58.169016Z",
     "iopub.status.busy": "2022-08-03T09:38:58.168655Z",
     "iopub.status.idle": "2022-08-03T09:38:58.179813Z",
     "shell.execute_reply": "2022-08-03T09:38:58.178969Z",
     "shell.execute_reply.started": "2022-08-03T09:38:58.168974Z"
    }
   },
   "outputs": [
    {
     "data": {
      "text/html": [
       "<div>\n",
       "<style scoped>\n",
       "    .dataframe tbody tr th:only-of-type {\n",
       "        vertical-align: middle;\n",
       "    }\n",
       "\n",
       "    .dataframe tbody tr th {\n",
       "        vertical-align: top;\n",
       "    }\n",
       "\n",
       "    .dataframe thead th {\n",
       "        text-align: right;\n",
       "    }\n",
       "</style>\n",
       "<table border=\"1\" class=\"dataframe\">\n",
       "  <thead>\n",
       "    <tr style=\"text-align: right;\">\n",
       "      <th></th>\n",
       "      <th>tier</th>\n",
       "      <th>rank</th>\n",
       "      <th>name</th>\n",
       "    </tr>\n",
       "  </thead>\n",
       "  <tbody>\n",
       "    <tr>\n",
       "      <th>0</th>\n",
       "      <td>1</td>\n",
       "      <td>1</td>\n",
       "      <td>Raymond</td>\n",
       "    </tr>\n",
       "    <tr>\n",
       "      <th>1</th>\n",
       "      <td>1</td>\n",
       "      <td>2</td>\n",
       "      <td>Marshal</td>\n",
       "    </tr>\n",
       "    <tr>\n",
       "      <th>2</th>\n",
       "      <td>1</td>\n",
       "      <td>3</td>\n",
       "      <td>Shino</td>\n",
       "    </tr>\n",
       "    <tr>\n",
       "      <th>3</th>\n",
       "      <td>1</td>\n",
       "      <td>4</td>\n",
       "      <td>Sherb</td>\n",
       "    </tr>\n",
       "    <tr>\n",
       "      <th>4</th>\n",
       "      <td>1</td>\n",
       "      <td>5</td>\n",
       "      <td>Sasha</td>\n",
       "    </tr>\n",
       "  </tbody>\n",
       "</table>\n",
       "</div>"
      ],
      "text/plain": [
       "   tier  rank     name\n",
       "0     1     1  Raymond\n",
       "1     1     2  Marshal\n",
       "2     1     3    Shino\n",
       "3     1     4    Sherb\n",
       "4     1     5    Sasha"
      ]
     },
     "execution_count": 5,
     "metadata": {},
     "output_type": "execute_result"
    }
   ],
   "source": [
    "popul_df.head()"
   ]
  },
  {
   "cell_type": "markdown",
   "metadata": {
    "execution": {
     "iopub.execute_input": "2022-03-15T17:38:56.504763Z",
     "iopub.status.busy": "2022-03-15T17:38:56.504417Z",
     "iopub.status.idle": "2022-03-15T17:38:56.510141Z",
     "shell.execute_reply": "2022-03-15T17:38:56.508955Z",
     "shell.execute_reply.started": "2022-03-15T17:38:56.504732Z"
    }
   },
   "source": [
    "### 1. Checking for null "
   ]
  },
  {
   "cell_type": "code",
   "execution_count": 6,
   "metadata": {
    "execution": {
     "iopub.execute_input": "2022-08-03T09:38:58.181317Z",
     "iopub.status.busy": "2022-08-03T09:38:58.181083Z",
     "iopub.status.idle": "2022-08-03T09:38:58.216857Z",
     "shell.execute_reply": "2022-08-03T09:38:58.215598Z",
     "shell.execute_reply.started": "2022-08-03T09:38:58.181289Z"
    }
   },
   "outputs": [
    {
     "name": "stdout",
     "output_type": "stream",
     "text": [
      "<class 'pandas.core.frame.DataFrame'>\n",
      "RangeIndex: 156400 entries, 0 to 156399\n",
      "Data columns (total 17 columns):\n",
      " #   Column           Non-Null Count   Dtype \n",
      "---  ------           --------------   ----- \n",
      " 0   Name             156400 non-null  object\n",
      " 1   Species          156400 non-null  object\n",
      " 2   Gender           156400 non-null  object\n",
      " 3   Personality      156400 non-null  object\n",
      " 4   Hobby            156400 non-null  object\n",
      " 5   Birthday         156400 non-null  object\n",
      " 6   Catchphrase      156400 non-null  object\n",
      " 7   Favorite Song    156400 non-null  object\n",
      " 8   Style 1          156400 non-null  object\n",
      " 9   Style 2          156400 non-null  object\n",
      " 10  Color 1          156400 non-null  object\n",
      " 11  Color 2          156400 non-null  object\n",
      " 12  Wallpaper        156400 non-null  object\n",
      " 13  Flooring         156400 non-null  object\n",
      " 14  Furniture List   156400 non-null  object\n",
      " 15  Filename         156400 non-null  object\n",
      " 16  Unique Entry ID  156400 non-null  object\n",
      "dtypes: object(17)\n",
      "memory usage: 20.3+ MB\n"
     ]
    }
   ],
   "source": [
    "vlgr_df.info()"
   ]
  },
  {
   "cell_type": "code",
   "execution_count": 7,
   "metadata": {
    "execution": {
     "iopub.execute_input": "2022-08-03T09:38:58.21919Z",
     "iopub.status.busy": "2022-08-03T09:38:58.218862Z",
     "iopub.status.idle": "2022-08-03T09:38:58.234901Z",
     "shell.execute_reply": "2022-08-03T09:38:58.233452Z",
     "shell.execute_reply.started": "2022-08-03T09:38:58.219154Z"
    }
   },
   "outputs": [
    {
     "name": "stdout",
     "output_type": "stream",
     "text": [
      "<class 'pandas.core.frame.DataFrame'>\n",
      "RangeIndex: 165200 entries, 0 to 165199\n",
      "Data columns (total 3 columns):\n",
      " #   Column  Non-Null Count   Dtype \n",
      "---  ------  --------------   ----- \n",
      " 0   tier    165200 non-null  int64 \n",
      " 1   rank    165200 non-null  int64 \n",
      " 2   name    165200 non-null  object\n",
      "dtypes: int64(2), object(1)\n",
      "memory usage: 3.8+ MB\n"
     ]
    }
   ],
   "source": [
    "popul_df.info()"
   ]
  },
  {
   "cell_type": "markdown",
   "metadata": {
    "execution": {
     "iopub.execute_input": "2022-03-15T17:39:15.900431Z",
     "iopub.status.busy": "2022-03-15T17:39:15.900091Z",
     "iopub.status.idle": "2022-03-15T17:39:15.904853Z",
     "shell.execute_reply": "2022-03-15T17:39:15.903683Z",
     "shell.execute_reply.started": "2022-03-15T17:39:15.9004Z"
    }
   },
   "source": [
    "### 2. Checking for mismatched names"
   ]
  },
  {
   "cell_type": "code",
   "execution_count": 8,
   "metadata": {
    "execution": {
     "iopub.execute_input": "2022-08-03T09:38:58.237371Z",
     "iopub.status.busy": "2022-08-03T09:38:58.237068Z",
     "iopub.status.idle": "2022-08-03T09:38:58.252614Z",
     "shell.execute_reply": "2022-08-03T09:38:58.251664Z",
     "shell.execute_reply.started": "2022-08-03T09:38:58.237337Z"
    }
   },
   "outputs": [
    {
     "data": {
      "text/plain": [
       "154400"
      ]
     },
     "execution_count": 8,
     "metadata": {},
     "output_type": "execute_result"
    }
   ],
   "source": [
    "# There are some missing/non-matching names \n",
    "vlgr_df[\"Name\"].isin(popul_df['name']).sum()"
   ]
  },
  {
   "cell_type": "code",
   "execution_count": 9,
   "metadata": {
    "execution": {
     "iopub.execute_input": "2022-08-03T09:38:58.254881Z",
     "iopub.status.busy": "2022-08-03T09:38:58.254599Z",
     "iopub.status.idle": "2022-08-03T09:38:58.269594Z",
     "shell.execute_reply": "2022-08-03T09:38:58.268832Z",
     "shell.execute_reply.started": "2022-08-03T09:38:58.254849Z"
    }
   },
   "outputs": [
    {
     "data": {
      "text/plain": [
       "2                  Shino\n",
       "4                  Sasha\n",
       "5                   Ione\n",
       "25            Cephalobot\n",
       "57                Étoile\n",
       "               ...      \n",
       "165087    Crackle(Spork)\n",
       "165110               Ace\n",
       "165115              Toby\n",
       "165128             Frett\n",
       "165186             Rilla\n",
       "Name: name, Length: 10800, dtype: object"
      ]
     },
     "execution_count": 9,
     "metadata": {},
     "output_type": "execute_result"
    }
   ],
   "source": [
    "# vlgr_df does not have these names...\n",
    "mismatch_names = popul_df[\"name\"][popul_df[\"name\"].isin(vlgr_df[\"Name\"]) == False]\n",
    "mismatch_names"
   ]
  },
  {
   "cell_type": "code",
   "execution_count": 10,
   "metadata": {
    "execution": {
     "iopub.execute_input": "2022-08-03T09:38:58.272038Z",
     "iopub.status.busy": "2022-08-03T09:38:58.271095Z",
     "iopub.status.idle": "2022-08-03T09:38:58.283855Z",
     "shell.execute_reply": "2022-08-03T09:38:58.282829Z",
     "shell.execute_reply.started": "2022-08-03T09:38:58.272Z"
    }
   },
   "outputs": [
    {
     "name": "stdout",
     "output_type": "stream",
     "text": [
      "CPU times: user 36 ms, sys: 0 ns, total: 36 ms\n",
      "Wall time: 35.6 ms\n"
     ]
    }
   ],
   "source": [
    "# %%time\n",
    "# Data set is small enough to pick out the same names\n",
    "# Correcting names in popul_df to match vlgr_df\n",
    "popul_df['name'] = popul_df['name'].replace(['OHare'],\"O\\'Hare\")\n",
    "popul_df['name'] = popul_df['name'].replace(['Buck(Brows)'],\"Buck\")\n",
    "popul_df['name'] = popul_df['name'].replace(['Renee'],\"Renée\")\n",
    "popul_df['name'] = popul_df['name'].replace(['WartJr'],\"Wart Jr.\")\n",
    "popul_df['name'] = popul_df['name'].replace(['Crackle(Spork)'],\"Spork\")"
   ]
  },
  {
   "cell_type": "code",
   "execution_count": 11,
   "metadata": {
    "execution": {
     "iopub.execute_input": "2022-08-03T09:38:58.290241Z",
     "iopub.status.busy": "2022-08-03T09:38:58.288581Z",
     "iopub.status.idle": "2022-08-03T09:38:58.299752Z",
     "shell.execute_reply": "2022-08-03T09:38:58.298411Z",
     "shell.execute_reply.started": "2022-08-03T09:38:58.290122Z"
    }
   },
   "outputs": [
    {
     "data": {
      "text/plain": [
       "156400"
      ]
     },
     "execution_count": 11,
     "metadata": {},
     "output_type": "execute_result"
    }
   ],
   "source": [
    "# Checking if All names match\n",
    "vlgr_df[\"Name\"].isin(popul_df['name']).sum()"
   ]
  },
  {
   "cell_type": "code",
   "execution_count": 12,
   "metadata": {
    "execution": {
     "iopub.execute_input": "2022-08-03T09:38:58.30245Z",
     "iopub.status.busy": "2022-08-03T09:38:58.302084Z",
     "iopub.status.idle": "2022-08-03T09:38:58.319497Z",
     "shell.execute_reply": "2022-08-03T09:38:58.318406Z",
     "shell.execute_reply.started": "2022-08-03T09:38:58.302399Z"
    }
   },
   "outputs": [],
   "source": [
    "# drop villagers that are in popul_df but not in vlgr_df\n",
    "popul_df = popul_df.drop(popul_df[popul_df[\"name\"].isin(vlgr_df[\"Name\"]) == False].index)"
   ]
  },
  {
   "cell_type": "markdown",
   "metadata": {
    "execution": {
     "iopub.execute_input": "2022-03-15T17:39:52.992683Z",
     "iopub.status.busy": "2022-03-15T17:39:52.991863Z",
     "iopub.status.idle": "2022-03-15T17:39:52.996919Z",
     "shell.execute_reply": "2022-03-15T17:39:52.995745Z",
     "shell.execute_reply.started": "2022-03-15T17:39:52.992628Z"
    }
   },
   "source": [
    "### 3. Merging the two Dataframes"
   ]
  },
  {
   "cell_type": "code",
   "execution_count": 13,
   "metadata": {
    "execution": {
     "iopub.execute_input": "2022-08-03T09:38:58.321862Z",
     "iopub.status.busy": "2022-08-03T09:38:58.321018Z",
     "iopub.status.idle": "2022-08-03T09:38:58.332134Z",
     "shell.execute_reply": "2022-08-03T09:38:58.331312Z",
     "shell.execute_reply.started": "2022-08-03T09:38:58.32182Z"
    }
   },
   "outputs": [],
   "source": [
    "# Now that both df have same length, we can set index as names and combine the 2 dfs\n",
    "popul_df.set_index('name', drop=True, inplace=True)\n",
    "vlgr_df.set_index('Name', drop=True, inplace=True)"
   ]
  },
  {
   "cell_type": "code",
   "execution_count": 14,
   "metadata": {
    "execution": {
     "iopub.execute_input": "2022-08-03T09:38:58.333912Z",
     "iopub.status.busy": "2022-08-03T09:38:58.333259Z",
     "iopub.status.idle": "2022-08-03T09:38:58.353219Z",
     "shell.execute_reply": "2022-08-03T09:38:58.352239Z",
     "shell.execute_reply.started": "2022-08-03T09:38:58.333878Z"
    }
   },
   "outputs": [],
   "source": [
    "combined_df = popul_df.merge(vlgr_df, left_index=True, right_index=True)"
   ]
  },
  {
   "cell_type": "code",
   "execution_count": 15,
   "metadata": {
    "execution": {
     "iopub.execute_input": "2022-08-03T09:38:58.355159Z",
     "iopub.status.busy": "2022-08-03T09:38:58.354468Z",
     "iopub.status.idle": "2022-08-03T09:38:58.370943Z",
     "shell.execute_reply": "2022-08-03T09:38:58.369547Z",
     "shell.execute_reply.started": "2022-08-03T09:38:58.355113Z"
    }
   },
   "outputs": [],
   "source": [
    "# drop irrelevent columns\n",
    "combined_df.drop(columns=['Furniture List', 'Filename', 'Unique Entry ID', \"Wallpaper\", \"Flooring\", \"Birthday\", \"Favorite Song\"], inplace=True)"
   ]
  },
  {
   "cell_type": "markdown",
   "metadata": {},
   "source": [
    "#### Adding a new row named overall_ranking so we may know a villager's general ranking outside of their tier"
   ]
  },
  {
   "cell_type": "code",
   "execution_count": 16,
   "metadata": {
    "execution": {
     "iopub.execute_input": "2022-08-03T09:38:58.374406Z",
     "iopub.status.busy": "2022-08-03T09:38:58.372997Z",
     "iopub.status.idle": "2022-08-03T09:38:58.395839Z",
     "shell.execute_reply": "2022-08-03T09:38:58.394867Z",
     "shell.execute_reply.started": "2022-08-03T09:38:58.374341Z"
    }
   },
   "outputs": [],
   "source": [
    "combined_df.sort_values(['tier', 'rank'], inplace=True)\n",
    "combined_df['overall_ranking'] = np.arange(1, len(combined_df)+1)\n",
    "combined_df.insert(2, 'overall_ranking', combined_df.pop('overall_ranking'))"
   ]
  },
  {
   "cell_type": "markdown",
   "metadata": {},
   "source": [
    "#### Setting Baseline overall ranking mean to compare against"
   ]
  },
  {
   "cell_type": "code",
   "execution_count": 17,
   "metadata": {
    "execution": {
     "iopub.execute_input": "2022-08-03T09:38:58.398796Z",
     "iopub.status.busy": "2022-08-03T09:38:58.398346Z",
     "iopub.status.idle": "2022-08-03T09:38:58.405622Z",
     "shell.execute_reply": "2022-08-03T09:38:58.404606Z",
     "shell.execute_reply.started": "2022-08-03T09:38:58.398749Z"
    }
   },
   "outputs": [
    {
     "name": "stdout",
     "output_type": "stream",
     "text": [
      "The overall_mean is 31280000.5, this would serve as a baseline for to compare against popularity performance of our features.\n"
     ]
    }
   ],
   "source": [
    "overall_mean = combined_df.overall_ranking.mean()\n",
    "print(f'The overall_mean is {overall_mean}, this would serve as a baseline for to compare against popularity performance of our features.')"
   ]
  },
  {
   "cell_type": "code",
   "execution_count": 18,
   "metadata": {
    "execution": {
     "iopub.execute_input": "2022-08-03T09:38:58.407398Z",
     "iopub.status.busy": "2022-08-03T09:38:58.407135Z",
     "iopub.status.idle": "2022-08-03T09:38:58.422377Z",
     "shell.execute_reply": "2022-08-03T09:38:58.421664Z",
     "shell.execute_reply.started": "2022-08-03T09:38:58.407367Z"
    }
   },
   "outputs": [
    {
     "data": {
      "text/plain": [
       "Index(['tier', 'rank', 'overall_ranking', 'Species', 'Gender', 'Personality',\n",
       "       'Hobby', 'Catchphrase', 'Style 1', 'Style 2', 'Color 1', 'Color 2'],\n",
       "      dtype='object')"
      ]
     },
     "execution_count": 18,
     "metadata": {},
     "output_type": "execute_result"
    }
   ],
   "source": [
    "combined_df.columns"
   ]
  },
  {
   "cell_type": "markdown",
   "metadata": {},
   "source": [
    "# Exploratory Data Analysis\n",
    "As a preface, a higher overall_ranking would mean performing worse on the popularity rankings.\n",
    "### 1. Gender"
   ]
  },
  {
   "cell_type": "code",
   "execution_count": 19,
   "metadata": {
    "execution": {
     "iopub.execute_input": "2022-08-03T09:38:58.425314Z",
     "iopub.status.busy": "2022-08-03T09:38:58.424346Z",
     "iopub.status.idle": "2022-08-03T09:38:58.442073Z",
     "shell.execute_reply": "2022-08-03T09:38:58.440342Z",
     "shell.execute_reply.started": "2022-08-03T09:38:58.425238Z"
    }
   },
   "outputs": [
    {
     "data": {
      "text/plain": [
       "Male      32640000\n",
       "Female    29920000\n",
       "Name: Gender, dtype: int64"
      ]
     },
     "execution_count": 19,
     "metadata": {},
     "output_type": "execute_result"
    }
   ],
   "source": [
    "combined_df['Gender'].value_counts()"
   ]
  },
  {
   "cell_type": "code",
   "execution_count": 20,
   "metadata": {
    "execution": {
     "iopub.execute_input": "2022-08-03T09:38:58.44477Z",
     "iopub.status.busy": "2022-08-03T09:38:58.444102Z",
     "iopub.status.idle": "2022-08-03T09:38:58.771442Z",
     "shell.execute_reply": "2022-08-03T09:38:58.770409Z",
     "shell.execute_reply.started": "2022-08-03T09:38:58.444716Z"
    }
   },
   "outputs": [
    {
     "data": {
      "text/plain": [
       "tier  Gender\n",
       "1     Female      960000\n",
       "      Male        960000\n",
       "2     Female     2240000\n",
       "      Male       1600000\n",
       "3     Female     2880000\n",
       "      Male       1760000\n",
       "4     Female     4800000\n",
       "      Male       4000000\n",
       "5     Female     9280000\n",
       "      Male       8800000\n",
       "6     Male      15520000\n",
       "      Female     9760000\n",
       "Name: Gender, dtype: int64"
      ]
     },
     "execution_count": 20,
     "metadata": {},
     "output_type": "execute_result"
    }
   ],
   "source": [
    "## -- STEFANOS: Disable plotting\n",
    "# combined_df.groupby('tier').Gender.value_counts().plot.barh()\n",
    "## -- STEFANOS-DISABLE-FOR-MODIN: Actually, it seems we can't even run the last part with Modin, so\n",
    "## we only leave the groupby.\n",
    "# combined_df.groupby('tier').Gender.value_counts()\n",
    "combined_df.groupby('tier')"
   ]
  },
  {
   "cell_type": "markdown",
   "metadata": {},
   "source": [
    "For gender, there seems to be a disproporationate amount of male villagers in the lowest tier(6th tier) than female villagers, compared to other tiers. Discounting Tier 6, The number of male and female villagers are fairly even, with Male villagers having a slight lead in all tiers(except tier 6)."
   ]
  },
  {
   "cell_type": "code",
   "execution_count": 21,
   "metadata": {
    "execution": {
     "iopub.execute_input": "2022-08-03T09:38:58.773264Z",
     "iopub.status.busy": "2022-08-03T09:38:58.772963Z",
     "iopub.status.idle": "2022-08-03T09:38:59.014729Z",
     "shell.execute_reply": "2022-08-03T09:38:59.013971Z",
     "shell.execute_reply.started": "2022-08-03T09:38:58.773228Z"
    }
   },
   "outputs": [],
   "source": [
    "## -- STEFANOS: Disable plotting\n",
    "# plt.figure(figsize=(5, 5))\n",
    "# plt.axhline(overall_mean, color='r')\n",
    "# sns.boxplot(x=\"Gender\", y='overall_ranking', data=combined_df)"
   ]
  },
  {
   "cell_type": "markdown",
   "metadata": {},
   "source": [
    "Female villagers generally perform better than Male villagers in terms of overall ranking. "
   ]
  },
  {
   "cell_type": "code",
   "execution_count": 22,
   "metadata": {
    "execution": {
     "iopub.execute_input": "2022-08-03T09:38:59.016637Z",
     "iopub.status.busy": "2022-08-03T09:38:59.016178Z",
     "iopub.status.idle": "2022-08-03T09:38:59.040179Z",
     "shell.execute_reply": "2022-08-03T09:38:59.038898Z",
     "shell.execute_reply.started": "2022-08-03T09:38:59.01659Z"
    }
   },
   "outputs": [
    {
     "data": {
      "text/html": [
       "<div>\n",
       "<style scoped>\n",
       "    .dataframe tbody tr th:only-of-type {\n",
       "        vertical-align: middle;\n",
       "    }\n",
       "\n",
       "    .dataframe tbody tr th {\n",
       "        vertical-align: top;\n",
       "    }\n",
       "\n",
       "    .dataframe thead th {\n",
       "        text-align: right;\n",
       "    }\n",
       "</style>\n",
       "<table border=\"1\" class=\"dataframe\">\n",
       "  <thead>\n",
       "    <tr style=\"text-align: right;\">\n",
       "      <th>Gender</th>\n",
       "      <th>Female</th>\n",
       "      <th>Male</th>\n",
       "    </tr>\n",
       "    <tr>\n",
       "      <th>tier</th>\n",
       "      <th></th>\n",
       "      <th></th>\n",
       "    </tr>\n",
       "  </thead>\n",
       "  <tbody>\n",
       "    <tr>\n",
       "      <th>1</th>\n",
       "      <td>960000</td>\n",
       "      <td>960000</td>\n",
       "    </tr>\n",
       "    <tr>\n",
       "      <th>2</th>\n",
       "      <td>2240000</td>\n",
       "      <td>1600000</td>\n",
       "    </tr>\n",
       "    <tr>\n",
       "      <th>3</th>\n",
       "      <td>2880000</td>\n",
       "      <td>1760000</td>\n",
       "    </tr>\n",
       "    <tr>\n",
       "      <th>4</th>\n",
       "      <td>4800000</td>\n",
       "      <td>4000000</td>\n",
       "    </tr>\n",
       "    <tr>\n",
       "      <th>5</th>\n",
       "      <td>9280000</td>\n",
       "      <td>8800000</td>\n",
       "    </tr>\n",
       "    <tr>\n",
       "      <th>6</th>\n",
       "      <td>9760000</td>\n",
       "      <td>15520000</td>\n",
       "    </tr>\n",
       "  </tbody>\n",
       "</table>\n",
       "</div>"
      ],
      "text/plain": [
       "Gender   Female      Male\n",
       "tier                     \n",
       "1        960000    960000\n",
       "2       2240000   1600000\n",
       "3       2880000   1760000\n",
       "4       4800000   4000000\n",
       "5       9280000   8800000\n",
       "6       9760000  15520000"
      ]
     },
     "execution_count": 22,
     "metadata": {},
     "output_type": "execute_result"
    }
   ],
   "source": [
    "pd.pivot_table(combined_df, index = 'tier', values = 'Catchphrase', columns=\"Gender\", aggfunc='count')"
   ]
  },
  {
   "cell_type": "markdown",
   "metadata": {},
   "source": [
    "### 2. Species"
   ]
  },
  {
   "cell_type": "code",
   "execution_count": 23,
   "metadata": {
    "execution": {
     "iopub.execute_input": "2022-08-03T09:38:59.042673Z",
     "iopub.status.busy": "2022-08-03T09:38:59.041952Z",
     "iopub.status.idle": "2022-08-03T09:38:59.065125Z",
     "shell.execute_reply": "2022-08-03T09:38:59.064483Z",
     "shell.execute_reply.started": "2022-08-03T09:38:59.042623Z"
    }
   },
   "outputs": [
    {
     "name": "stderr",
     "output_type": "stream",
     "text": [
      "/tmp/ipykernel_416040/3463245137.py:2: FutureWarning: The default value of numeric_only in DataFrameGroupBy.mean is deprecated. In a future version, numeric_only will default to False. Either specify numeric_only or select only columns which should be valid for the function.\n",
      "  species_ranking = combined_df.groupby('Species').mean()['overall_ranking'].to_frame().reset_index().sort_values('overall_ranking')\n"
     ]
    },
    {
     "data": {
      "text/html": [
       "<div>\n",
       "<style scoped>\n",
       "    .dataframe tbody tr th:only-of-type {\n",
       "        vertical-align: middle;\n",
       "    }\n",
       "\n",
       "    .dataframe tbody tr th {\n",
       "        vertical-align: top;\n",
       "    }\n",
       "\n",
       "    .dataframe thead th {\n",
       "        text-align: right;\n",
       "    }\n",
       "</style>\n",
       "<table border=\"1\" class=\"dataframe\">\n",
       "  <thead>\n",
       "    <tr style=\"text-align: right;\">\n",
       "      <th></th>\n",
       "      <th>Species</th>\n",
       "      <th>overall_ranking</th>\n",
       "    </tr>\n",
       "  </thead>\n",
       "  <tbody>\n",
       "    <tr>\n",
       "      <th>25</th>\n",
       "      <td>Octopus</td>\n",
       "      <td>2.693334e+06</td>\n",
       "    </tr>\n",
       "    <tr>\n",
       "      <th>9</th>\n",
       "      <td>Deer</td>\n",
       "      <td>8.288000e+06</td>\n",
       "    </tr>\n",
       "    <tr>\n",
       "      <th>34</th>\n",
       "      <td>Wolf</td>\n",
       "      <td>1.154182e+07</td>\n",
       "    </tr>\n",
       "    <tr>\n",
       "      <th>5</th>\n",
       "      <td>Cat</td>\n",
       "      <td>1.504348e+07</td>\n",
       "    </tr>\n",
       "    <tr>\n",
       "      <th>21</th>\n",
       "      <td>Koala</td>\n",
       "      <td>2.137778e+07</td>\n",
       "    </tr>\n",
       "    <tr>\n",
       "      <th>10</th>\n",
       "      <td>Dog</td>\n",
       "      <td>2.228000e+07</td>\n",
       "    </tr>\n",
       "    <tr>\n",
       "      <th>8</th>\n",
       "      <td>Cub</td>\n",
       "      <td>2.283000e+07</td>\n",
       "    </tr>\n",
       "    <tr>\n",
       "      <th>17</th>\n",
       "      <td>Hamster</td>\n",
       "      <td>2.348000e+07</td>\n",
       "    </tr>\n",
       "    <tr>\n",
       "      <th>32</th>\n",
       "      <td>Squirrel</td>\n",
       "      <td>2.369778e+07</td>\n",
       "    </tr>\n",
       "    <tr>\n",
       "      <th>30</th>\n",
       "      <td>Rhino</td>\n",
       "      <td>2.477333e+07</td>\n",
       "    </tr>\n",
       "    <tr>\n",
       "      <th>15</th>\n",
       "      <td>Goat</td>\n",
       "      <td>2.592000e+07</td>\n",
       "    </tr>\n",
       "    <tr>\n",
       "      <th>29</th>\n",
       "      <td>Rabbit</td>\n",
       "      <td>2.595200e+07</td>\n",
       "    </tr>\n",
       "    <tr>\n",
       "      <th>27</th>\n",
       "      <td>Penguin</td>\n",
       "      <td>2.982769e+07</td>\n",
       "    </tr>\n",
       "    <tr>\n",
       "      <th>26</th>\n",
       "      <td>Ostrich</td>\n",
       "      <td>2.992000e+07</td>\n",
       "    </tr>\n",
       "    <tr>\n",
       "      <th>14</th>\n",
       "      <td>Frog</td>\n",
       "      <td>3.176000e+07</td>\n",
       "    </tr>\n",
       "    <tr>\n",
       "      <th>31</th>\n",
       "      <td>Sheep</td>\n",
       "      <td>3.184615e+07</td>\n",
       "    </tr>\n",
       "    <tr>\n",
       "      <th>13</th>\n",
       "      <td>Elephant</td>\n",
       "      <td>3.274909e+07</td>\n",
       "    </tr>\n",
       "    <tr>\n",
       "      <th>7</th>\n",
       "      <td>Cow</td>\n",
       "      <td>3.280000e+07</td>\n",
       "    </tr>\n",
       "    <tr>\n",
       "      <th>23</th>\n",
       "      <td>Monkey</td>\n",
       "      <td>3.424000e+07</td>\n",
       "    </tr>\n",
       "    <tr>\n",
       "      <th>11</th>\n",
       "      <td>Duck</td>\n",
       "      <td>3.463059e+07</td>\n",
       "    </tr>\n",
       "    <tr>\n",
       "      <th>33</th>\n",
       "      <td>Tiger</td>\n",
       "      <td>3.475429e+07</td>\n",
       "    </tr>\n",
       "    <tr>\n",
       "      <th>0</th>\n",
       "      <td>Alligator</td>\n",
       "      <td>3.541714e+07</td>\n",
       "    </tr>\n",
       "    <tr>\n",
       "      <th>19</th>\n",
       "      <td>Horse</td>\n",
       "      <td>3.697600e+07</td>\n",
       "    </tr>\n",
       "    <tr>\n",
       "      <th>1</th>\n",
       "      <td>Anteater</td>\n",
       "      <td>3.731429e+07</td>\n",
       "    </tr>\n",
       "    <tr>\n",
       "      <th>22</th>\n",
       "      <td>Lion</td>\n",
       "      <td>3.758857e+07</td>\n",
       "    </tr>\n",
       "    <tr>\n",
       "      <th>2</th>\n",
       "      <td>Bear</td>\n",
       "      <td>3.853333e+07</td>\n",
       "    </tr>\n",
       "    <tr>\n",
       "      <th>12</th>\n",
       "      <td>Eagle</td>\n",
       "      <td>3.887111e+07</td>\n",
       "    </tr>\n",
       "    <tr>\n",
       "      <th>6</th>\n",
       "      <td>Chicken</td>\n",
       "      <td>4.072000e+07</td>\n",
       "    </tr>\n",
       "    <tr>\n",
       "      <th>4</th>\n",
       "      <td>Bull</td>\n",
       "      <td>4.269333e+07</td>\n",
       "    </tr>\n",
       "    <tr>\n",
       "      <th>3</th>\n",
       "      <td>Bird</td>\n",
       "      <td>4.432615e+07</td>\n",
       "    </tr>\n",
       "    <tr>\n",
       "      <th>20</th>\n",
       "      <td>Kangaroo</td>\n",
       "      <td>4.450000e+07</td>\n",
       "    </tr>\n",
       "    <tr>\n",
       "      <th>18</th>\n",
       "      <td>Hippo</td>\n",
       "      <td>4.561143e+07</td>\n",
       "    </tr>\n",
       "    <tr>\n",
       "      <th>24</th>\n",
       "      <td>Mouse</td>\n",
       "      <td>4.588267e+07</td>\n",
       "    </tr>\n",
       "    <tr>\n",
       "      <th>28</th>\n",
       "      <td>Pig</td>\n",
       "      <td>4.881600e+07</td>\n",
       "    </tr>\n",
       "    <tr>\n",
       "      <th>16</th>\n",
       "      <td>Gorilla</td>\n",
       "      <td>4.928889e+07</td>\n",
       "    </tr>\n",
       "  </tbody>\n",
       "</table>\n",
       "</div>"
      ],
      "text/plain": [
       "      Species  overall_ranking\n",
       "25    Octopus     2.693334e+06\n",
       "9        Deer     8.288000e+06\n",
       "34       Wolf     1.154182e+07\n",
       "5         Cat     1.504348e+07\n",
       "21      Koala     2.137778e+07\n",
       "10        Dog     2.228000e+07\n",
       "8         Cub     2.283000e+07\n",
       "17    Hamster     2.348000e+07\n",
       "32   Squirrel     2.369778e+07\n",
       "30      Rhino     2.477333e+07\n",
       "15       Goat     2.592000e+07\n",
       "29     Rabbit     2.595200e+07\n",
       "27    Penguin     2.982769e+07\n",
       "26    Ostrich     2.992000e+07\n",
       "14       Frog     3.176000e+07\n",
       "31      Sheep     3.184615e+07\n",
       "13   Elephant     3.274909e+07\n",
       "7         Cow     3.280000e+07\n",
       "23     Monkey     3.424000e+07\n",
       "11       Duck     3.463059e+07\n",
       "33      Tiger     3.475429e+07\n",
       "0   Alligator     3.541714e+07\n",
       "19      Horse     3.697600e+07\n",
       "1    Anteater     3.731429e+07\n",
       "22       Lion     3.758857e+07\n",
       "2        Bear     3.853333e+07\n",
       "12      Eagle     3.887111e+07\n",
       "6     Chicken     4.072000e+07\n",
       "4        Bull     4.269333e+07\n",
       "3        Bird     4.432615e+07\n",
       "20   Kangaroo     4.450000e+07\n",
       "18      Hippo     4.561143e+07\n",
       "24      Mouse     4.588267e+07\n",
       "28        Pig     4.881600e+07\n",
       "16    Gorilla     4.928889e+07"
      ]
     },
     "execution_count": 23,
     "metadata": {},
     "output_type": "execute_result"
    }
   ],
   "source": [
    "# creating value counts dataframe for each species type\n",
    "species_ranking = combined_df.groupby('Species').mean()['overall_ranking'].to_frame().reset_index().sort_values('overall_ranking')\n",
    "species_ranking"
   ]
  },
  {
   "cell_type": "code",
   "execution_count": 24,
   "metadata": {
    "execution": {
     "iopub.execute_input": "2022-08-03T09:38:59.067132Z",
     "iopub.status.busy": "2022-08-03T09:38:59.066674Z",
     "iopub.status.idle": "2022-08-03T09:38:59.746067Z",
     "shell.execute_reply": "2022-08-03T09:38:59.744808Z",
     "shell.execute_reply.started": "2022-08-03T09:38:59.067089Z"
    }
   },
   "outputs": [],
   "source": [
    "## -- STEFANOS: Disable plotting\n",
    "# plt.figure(figsize=(30,5))\n",
    "# sns.set(font_scale=1.4)\n",
    "# plt.xticks(rotation=45)\n",
    "# plt.axhline(overall_mean, color='r')\n",
    "# sns.scatterplot(x='Species', y=\"overall_ranking\", data=species_ranking,label='mean overall-ranking', s=300)"
   ]
  },
  {
   "cell_type": "markdown",
   "metadata": {},
   "source": [
    "Octopus, deer, wolves, cats and Koalas are most likely to be popular; while Kangaroos, Hippos, Mouse Pigs and Gorillas are the least likely to be popular. "
   ]
  },
  {
   "cell_type": "code",
   "execution_count": 25,
   "metadata": {
    "execution": {
     "iopub.execute_input": "2022-08-03T09:38:59.749701Z",
     "iopub.status.busy": "2022-08-03T09:38:59.748124Z",
     "iopub.status.idle": "2022-08-03T09:39:00.827366Z",
     "shell.execute_reply": "2022-08-03T09:39:00.826406Z",
     "shell.execute_reply.started": "2022-08-03T09:38:59.749575Z"
    }
   },
   "outputs": [],
   "source": [
    "## -- STEFANOS: Disable plotting\n",
    "# plt.figure(figsize=(30, 10))\n",
    "# plt.axhline(overall_mean, color='r')\n",
    "# sns.scatterplot(x=\"Species\", y='overall_ranking', hue='tier', s=100, data=combined_df)"
   ]
  },
  {
   "cell_type": "markdown",
   "metadata": {},
   "source": [
    "Although Octopuses seem to be ranking highly in part due to the low amount of Octopuses amongst the villagers. \n",
    "Interesting trend can be observed, there exists a ranking cap for low ranking speices, for example, none of the Gorilla villagers have a ranking lower than 200, it is heavily skewed, and not normally distributed.  Indicating a clear non-preference for certain species by the playerbase. "
   ]
  },
  {
   "cell_type": "markdown",
   "metadata": {},
   "source": [
    "### 3. Personality"
   ]
  },
  {
   "cell_type": "code",
   "execution_count": 26,
   "metadata": {
    "execution": {
     "iopub.execute_input": "2022-08-03T09:39:00.829081Z",
     "iopub.status.busy": "2022-08-03T09:39:00.828812Z",
     "iopub.status.idle": "2022-08-03T09:39:00.837132Z",
     "shell.execute_reply": "2022-08-03T09:39:00.836585Z",
     "shell.execute_reply.started": "2022-08-03T09:39:00.829047Z"
    }
   },
   "outputs": [
    {
     "data": {
      "text/plain": [
       "Lazy          9600000\n",
       "Normal        9440000\n",
       "Snooty        8800000\n",
       "Jock          8800000\n",
       "Cranky        8800000\n",
       "Peppy         7840000\n",
       "Smug          5440000\n",
       "Big Sister    3840000\n",
       "Name: Personality, dtype: int64"
      ]
     },
     "execution_count": 26,
     "metadata": {},
     "output_type": "execute_result"
    }
   ],
   "source": [
    "combined_df.Personality.value_counts()"
   ]
  },
  {
   "cell_type": "code",
   "execution_count": 27,
   "metadata": {
    "execution": {
     "iopub.execute_input": "2022-08-03T09:39:00.839236Z",
     "iopub.status.busy": "2022-08-03T09:39:00.838187Z",
     "iopub.status.idle": "2022-08-03T09:39:00.854502Z",
     "shell.execute_reply": "2022-08-03T09:39:00.853714Z",
     "shell.execute_reply.started": "2022-08-03T09:39:00.839188Z"
    }
   },
   "outputs": [
    {
     "name": "stderr",
     "output_type": "stream",
     "text": [
      "/tmp/ipykernel_416040/2251499037.py:2: FutureWarning: The default value of numeric_only in DataFrameGroupBy.mean is deprecated. In a future version, numeric_only will default to False. Either specify numeric_only or select only columns which should be valid for the function.\n",
      "  personality_ranking = combined_df.groupby('Personality').mean()['overall_ranking'].to_frame().reset_index().sort_values('overall_ranking')\n"
     ]
    }
   ],
   "source": [
    "# creating value counts dataframe for each personality type\n",
    "personality_ranking = combined_df.groupby('Personality').mean()['overall_ranking'].to_frame().reset_index().sort_values('overall_ranking')"
   ]
  },
  {
   "cell_type": "code",
   "execution_count": 28,
   "metadata": {
    "execution": {
     "iopub.execute_input": "2022-08-03T09:39:00.856388Z",
     "iopub.status.busy": "2022-08-03T09:39:00.855795Z",
     "iopub.status.idle": "2022-08-03T09:39:01.257811Z",
     "shell.execute_reply": "2022-08-03T09:39:01.256657Z",
     "shell.execute_reply.started": "2022-08-03T09:39:00.856354Z"
    }
   },
   "outputs": [],
   "source": [
    "## -- STEFANOS: Disable plotting\n",
    "# plt.figure(figsize=(20,5))\n",
    "# sns.set(font_scale=1.4)\n",
    "# plt.xticks(rotation=45)\n",
    "# plt.axhline(overall_mean, color='r')\n",
    "# sns.scatterplot(x='Personality', y=\"overall_ranking\", data=personality_ranking,label='mean personality ranking', s=300)"
   ]
  },
  {
   "cell_type": "markdown",
   "metadata": {},
   "source": [
    "The playerbase seems to have a preference for Big sister, Normal, Peppy and sometimes Lazy type villagers.\n",
    "While they dislike Cranky, Jock and Snooty villagers. "
   ]
  },
  {
   "cell_type": "code",
   "execution_count": 29,
   "metadata": {
    "execution": {
     "iopub.execute_input": "2022-08-03T09:39:01.262415Z",
     "iopub.status.busy": "2022-08-03T09:39:01.261996Z",
     "iopub.status.idle": "2022-08-03T09:39:01.717871Z",
     "shell.execute_reply": "2022-08-03T09:39:01.716346Z",
     "shell.execute_reply.started": "2022-08-03T09:39:01.262373Z"
    }
   },
   "outputs": [],
   "source": [
    "## -- STEFANOS: Disable plotting\n",
    "# plt.figure(figsize=(10, 10))\n",
    "# plt.axhline(overall_mean, color='r')\n",
    "# sns.boxplot(x=\"Personality\", y='overall_ranking', data=combined_df)"
   ]
  },
  {
   "cell_type": "markdown",
   "metadata": {},
   "source": [
    "There seems to be a clear preference for Big Sister, Peppy and Normal Personality villagers, they have means below overall mean. Rankings are fairly normally distributed except for Smug villagers. On the other hand, Cranky and Snooty both have a mean clearly above the overall mean."
   ]
  },
  {
   "cell_type": "code",
   "execution_count": 30,
   "metadata": {
    "execution": {
     "iopub.execute_input": "2022-08-03T09:39:01.720024Z",
     "iopub.status.busy": "2022-08-03T09:39:01.719482Z",
     "iopub.status.idle": "2022-08-03T09:39:01.762874Z",
     "shell.execute_reply": "2022-08-03T09:39:01.761833Z",
     "shell.execute_reply.started": "2022-08-03T09:39:01.719844Z"
    }
   },
   "outputs": [
    {
     "data": {
      "text/html": [
       "<div>\n",
       "<style scoped>\n",
       "    .dataframe tbody tr th:only-of-type {\n",
       "        vertical-align: middle;\n",
       "    }\n",
       "\n",
       "    .dataframe tbody tr th {\n",
       "        vertical-align: top;\n",
       "    }\n",
       "\n",
       "    .dataframe thead th {\n",
       "        text-align: right;\n",
       "    }\n",
       "</style>\n",
       "<table border=\"1\" class=\"dataframe\">\n",
       "  <thead>\n",
       "    <tr style=\"text-align: right;\">\n",
       "      <th>Personality</th>\n",
       "      <th>Big Sister</th>\n",
       "      <th>Cranky</th>\n",
       "      <th>Jock</th>\n",
       "      <th>Lazy</th>\n",
       "      <th>Normal</th>\n",
       "      <th>Peppy</th>\n",
       "      <th>Smug</th>\n",
       "      <th>Snooty</th>\n",
       "    </tr>\n",
       "    <tr>\n",
       "      <th>tier</th>\n",
       "      <th></th>\n",
       "      <th></th>\n",
       "      <th></th>\n",
       "      <th></th>\n",
       "      <th></th>\n",
       "      <th></th>\n",
       "      <th></th>\n",
       "      <th></th>\n",
       "    </tr>\n",
       "  </thead>\n",
       "  <tbody>\n",
       "    <tr>\n",
       "      <th>1</th>\n",
       "      <td>NaN</td>\n",
       "      <td>NaN</td>\n",
       "      <td>NaN</td>\n",
       "      <td>640000.0</td>\n",
       "      <td>640000.0</td>\n",
       "      <td>NaN</td>\n",
       "      <td>320000.0</td>\n",
       "      <td>320000.0</td>\n",
       "    </tr>\n",
       "    <tr>\n",
       "      <th>2</th>\n",
       "      <td>160000.0</td>\n",
       "      <td>320000.0</td>\n",
       "      <td>320000.0</td>\n",
       "      <td>640000.0</td>\n",
       "      <td>960000.0</td>\n",
       "      <td>960000.0</td>\n",
       "      <td>320000.0</td>\n",
       "      <td>160000.0</td>\n",
       "    </tr>\n",
       "    <tr>\n",
       "      <th>3</th>\n",
       "      <td>800000.0</td>\n",
       "      <td>640000.0</td>\n",
       "      <td>480000.0</td>\n",
       "      <td>320000.0</td>\n",
       "      <td>1280000.0</td>\n",
       "      <td>640000.0</td>\n",
       "      <td>320000.0</td>\n",
       "      <td>160000.0</td>\n",
       "    </tr>\n",
       "    <tr>\n",
       "      <th>4</th>\n",
       "      <td>960000.0</td>\n",
       "      <td>800000.0</td>\n",
       "      <td>800000.0</td>\n",
       "      <td>1440000.0</td>\n",
       "      <td>1280000.0</td>\n",
       "      <td>1600000.0</td>\n",
       "      <td>960000.0</td>\n",
       "      <td>960000.0</td>\n",
       "    </tr>\n",
       "    <tr>\n",
       "      <th>5</th>\n",
       "      <td>1280000.0</td>\n",
       "      <td>2080000.0</td>\n",
       "      <td>2880000.0</td>\n",
       "      <td>3040000.0</td>\n",
       "      <td>3040000.0</td>\n",
       "      <td>2560000.0</td>\n",
       "      <td>800000.0</td>\n",
       "      <td>2400000.0</td>\n",
       "    </tr>\n",
       "    <tr>\n",
       "      <th>6</th>\n",
       "      <td>640000.0</td>\n",
       "      <td>4960000.0</td>\n",
       "      <td>4320000.0</td>\n",
       "      <td>3520000.0</td>\n",
       "      <td>2240000.0</td>\n",
       "      <td>2080000.0</td>\n",
       "      <td>2720000.0</td>\n",
       "      <td>4800000.0</td>\n",
       "    </tr>\n",
       "  </tbody>\n",
       "</table>\n",
       "</div>"
      ],
      "text/plain": [
       "Personality  Big Sister     Cranky       Jock       Lazy     Normal  \\\n",
       "tier                                                                  \n",
       "1                   NaN        NaN        NaN   640000.0   640000.0   \n",
       "2              160000.0   320000.0   320000.0   640000.0   960000.0   \n",
       "3              800000.0   640000.0   480000.0   320000.0  1280000.0   \n",
       "4              960000.0   800000.0   800000.0  1440000.0  1280000.0   \n",
       "5             1280000.0  2080000.0  2880000.0  3040000.0  3040000.0   \n",
       "6              640000.0  4960000.0  4320000.0  3520000.0  2240000.0   \n",
       "\n",
       "Personality      Peppy       Smug     Snooty  \n",
       "tier                                          \n",
       "1                  NaN   320000.0   320000.0  \n",
       "2             960000.0   320000.0   160000.0  \n",
       "3             640000.0   320000.0   160000.0  \n",
       "4            1600000.0   960000.0   960000.0  \n",
       "5            2560000.0   800000.0  2400000.0  \n",
       "6            2080000.0  2720000.0  4800000.0  "
      ]
     },
     "execution_count": 30,
     "metadata": {},
     "output_type": "execute_result"
    }
   ],
   "source": [
    "pd.pivot_table(combined_df, index = 'tier', values = 'Catchphrase', columns=\"Personality\", aggfunc='count')"
   ]
  },
  {
   "cell_type": "markdown",
   "metadata": {},
   "source": [
    "### 4. Style"
   ]
  },
  {
   "cell_type": "code",
   "execution_count": 31,
   "metadata": {
    "execution": {
     "iopub.execute_input": "2022-08-03T09:39:01.765277Z",
     "iopub.status.busy": "2022-08-03T09:39:01.764788Z",
     "iopub.status.idle": "2022-08-03T09:39:01.784999Z",
     "shell.execute_reply": "2022-08-03T09:39:01.783601Z",
     "shell.execute_reply.started": "2022-08-03T09:39:01.765218Z"
    }
   },
   "outputs": [
    {
     "name": "stderr",
     "output_type": "stream",
     "text": [
      "/tmp/ipykernel_416040/3035286731.py:2: FutureWarning: The default value of numeric_only in DataFrameGroupBy.mean is deprecated. In a future version, numeric_only will default to False. Either specify numeric_only or select only columns which should be valid for the function.\n",
      "  style_ranking1 = combined_df.groupby('Style 1').mean()['overall_ranking'].to_frame().reset_index().sort_values('overall_ranking')\n",
      "/tmp/ipykernel_416040/3035286731.py:3: FutureWarning: The default value of numeric_only in DataFrameGroupBy.mean is deprecated. In a future version, numeric_only will default to False. Either specify numeric_only or select only columns which should be valid for the function.\n",
      "  style_ranking2 = combined_df.groupby('Style 2').mean()['overall_ranking'].to_frame().reset_index().sort_values('overall_ranking')\n"
     ]
    }
   ],
   "source": [
    "# generating value counts dataframe for each style type\n",
    "style_ranking1 = combined_df.groupby('Style 1').mean()['overall_ranking'].to_frame().reset_index().sort_values('overall_ranking')\n",
    "style_ranking2 = combined_df.groupby('Style 2').mean()['overall_ranking'].to_frame().reset_index().sort_values('overall_ranking')"
   ]
  },
  {
   "cell_type": "code",
   "execution_count": 32,
   "metadata": {
    "execution": {
     "iopub.execute_input": "2022-08-03T09:39:01.787505Z",
     "iopub.status.busy": "2022-08-03T09:39:01.786617Z",
     "iopub.status.idle": "2022-08-03T09:39:01.797223Z",
     "shell.execute_reply": "2022-08-03T09:39:01.796Z",
     "shell.execute_reply.started": "2022-08-03T09:39:01.78746Z"
    }
   },
   "outputs": [],
   "source": [
    "# combining the 2 style columns and finding a mean\n",
    "style_ranking = style_ranking1.copy()\n",
    "style_series = (style_ranking1['overall_ranking'] + style_ranking2['overall_ranking'])/2\n",
    "style_ranking[\"overall_ranking\"] = style_series"
   ]
  },
  {
   "cell_type": "code",
   "execution_count": 33,
   "metadata": {
    "execution": {
     "iopub.execute_input": "2022-08-03T09:39:01.799467Z",
     "iopub.status.busy": "2022-08-03T09:39:01.799127Z",
     "iopub.status.idle": "2022-08-03T09:39:01.817217Z",
     "shell.execute_reply": "2022-08-03T09:39:01.815837Z",
     "shell.execute_reply.started": "2022-08-03T09:39:01.799432Z"
    }
   },
   "outputs": [
    {
     "data": {
      "text/html": [
       "<div>\n",
       "<style scoped>\n",
       "    .dataframe tbody tr th:only-of-type {\n",
       "        vertical-align: middle;\n",
       "    }\n",
       "\n",
       "    .dataframe tbody tr th {\n",
       "        vertical-align: top;\n",
       "    }\n",
       "\n",
       "    .dataframe thead th {\n",
       "        text-align: right;\n",
       "    }\n",
       "</style>\n",
       "<table border=\"1\" class=\"dataframe\">\n",
       "  <thead>\n",
       "    <tr style=\"text-align: right;\">\n",
       "      <th></th>\n",
       "      <th>Style 1</th>\n",
       "      <th>overall_ranking</th>\n",
       "    </tr>\n",
       "  </thead>\n",
       "  <tbody>\n",
       "    <tr>\n",
       "      <th>2</th>\n",
       "      <td>Cute</td>\n",
       "      <td>2.200213e+07</td>\n",
       "    </tr>\n",
       "    <tr>\n",
       "      <th>5</th>\n",
       "      <td>Simple</td>\n",
       "      <td>2.976031e+07</td>\n",
       "    </tr>\n",
       "    <tr>\n",
       "      <th>3</th>\n",
       "      <td>Elegant</td>\n",
       "      <td>3.350778e+07</td>\n",
       "    </tr>\n",
       "    <tr>\n",
       "      <th>1</th>\n",
       "      <td>Cool</td>\n",
       "      <td>3.460626e+07</td>\n",
       "    </tr>\n",
       "    <tr>\n",
       "      <th>4</th>\n",
       "      <td>Gorgeous</td>\n",
       "      <td>3.504125e+07</td>\n",
       "    </tr>\n",
       "    <tr>\n",
       "      <th>0</th>\n",
       "      <td>Active</td>\n",
       "      <td>3.610720e+07</td>\n",
       "    </tr>\n",
       "  </tbody>\n",
       "</table>\n",
       "</div>"
      ],
      "text/plain": [
       "    Style 1  overall_ranking\n",
       "2      Cute     2.200213e+07\n",
       "5    Simple     2.976031e+07\n",
       "3   Elegant     3.350778e+07\n",
       "1      Cool     3.460626e+07\n",
       "4  Gorgeous     3.504125e+07\n",
       "0    Active     3.610720e+07"
      ]
     },
     "execution_count": 33,
     "metadata": {},
     "output_type": "execute_result"
    }
   ],
   "source": [
    "style_ranking"
   ]
  },
  {
   "cell_type": "code",
   "execution_count": 34,
   "metadata": {
    "execution": {
     "iopub.execute_input": "2022-08-03T09:39:01.819647Z",
     "iopub.status.busy": "2022-08-03T09:39:01.818808Z",
     "iopub.status.idle": "2022-08-03T09:39:02.161413Z",
     "shell.execute_reply": "2022-08-03T09:39:02.159862Z",
     "shell.execute_reply.started": "2022-08-03T09:39:01.819592Z"
    }
   },
   "outputs": [],
   "source": [
    "## -- STEFANOS: Disable plotting\n",
    "# plt.figure(figsize=(20,5))\n",
    "# sns.set(font_scale=1.4)\n",
    "# plt.xticks(rotation=45)\n",
    "# plt.axhline(overall_mean, color='r')\n",
    "# sns.scatterplot(x='Style 1', y=\"overall_ranking\", data=style_ranking, s=300)"
   ]
  },
  {
   "cell_type": "markdown",
   "metadata": {},
   "source": [
    "A very clear preference for Cute styled villagers. Simple Styled Villagers have a ranking mean just about equal to the overall mean, while other style villagers have a slightly above overall mean mean. "
   ]
  },
  {
   "cell_type": "code",
   "execution_count": 35,
   "metadata": {
    "execution": {
     "iopub.execute_input": "2022-08-03T09:39:02.163669Z",
     "iopub.status.busy": "2022-08-03T09:39:02.163328Z",
     "iopub.status.idle": "2022-08-03T09:39:03.118875Z",
     "shell.execute_reply": "2022-08-03T09:39:03.117807Z",
     "shell.execute_reply.started": "2022-08-03T09:39:02.163631Z"
    }
   },
   "outputs": [],
   "source": [
    "## -- STEFANOS: Disable plotting\n",
    "# plt.figure(figsize=(7, 7))\n",
    "# plt.axhline(overall_mean, color='r')\n",
    "# sns.boxplot(x=\"Style 1\", y='overall_ranking', data=combined_df)\n",
    "# plt.title('Style 1')\n",
    "# plt.figure(figsize=(7, 7))\n",
    "# plt.axhline(overall_mean, color='r')\n",
    "# sns.boxplot(x=\"Style 2\", y='overall_ranking', data=combined_df)\n",
    "# plt.title('Style 2')"
   ]
  },
  {
   "cell_type": "markdown",
   "metadata": {
    "execution": {
     "iopub.execute_input": "2022-03-15T17:01:53.180288Z",
     "iopub.status.busy": "2022-03-15T17:01:53.179907Z",
     "iopub.status.idle": "2022-03-15T17:01:53.188224Z",
     "shell.execute_reply": "2022-03-15T17:01:53.18728Z",
     "shell.execute_reply.started": "2022-03-15T17:01:53.180251Z"
    }
   },
   "source": [
    "The clear preference is Cute style dressing, in both Style columns. In particular, in Style 2 column Cute Styled Villagers have a higher concetration in lower rankings. Other styles seem to have a fairly normally distributed ranking, with the exception of Active Style Villagers in Style 1, right skewed, but the ranking mean is significantly above the overall ranking mean.  "
   ]
  },
  {
   "cell_type": "code",
   "execution_count": 36,
   "metadata": {
    "execution": {
     "iopub.execute_input": "2022-08-03T09:39:03.120432Z",
     "iopub.status.busy": "2022-08-03T09:39:03.120188Z",
     "iopub.status.idle": "2022-08-03T09:39:03.149607Z",
     "shell.execute_reply": "2022-08-03T09:39:03.148625Z",
     "shell.execute_reply.started": "2022-08-03T09:39:03.120403Z"
    }
   },
   "outputs": [
    {
     "data": {
      "text/html": [
       "<div>\n",
       "<style scoped>\n",
       "    .dataframe tbody tr th:only-of-type {\n",
       "        vertical-align: middle;\n",
       "    }\n",
       "\n",
       "    .dataframe tbody tr th {\n",
       "        vertical-align: top;\n",
       "    }\n",
       "\n",
       "    .dataframe thead th {\n",
       "        text-align: right;\n",
       "    }\n",
       "</style>\n",
       "<table border=\"1\" class=\"dataframe\">\n",
       "  <thead>\n",
       "    <tr style=\"text-align: right;\">\n",
       "      <th>Style 1</th>\n",
       "      <th>Active</th>\n",
       "      <th>Cool</th>\n",
       "      <th>Cute</th>\n",
       "      <th>Elegant</th>\n",
       "      <th>Gorgeous</th>\n",
       "      <th>Simple</th>\n",
       "    </tr>\n",
       "    <tr>\n",
       "      <th>tier</th>\n",
       "      <th></th>\n",
       "      <th></th>\n",
       "      <th></th>\n",
       "      <th></th>\n",
       "      <th></th>\n",
       "      <th></th>\n",
       "    </tr>\n",
       "  </thead>\n",
       "  <tbody>\n",
       "    <tr>\n",
       "      <th>1</th>\n",
       "      <td>NaN</td>\n",
       "      <td>NaN</td>\n",
       "      <td>480000.0</td>\n",
       "      <td>320000.0</td>\n",
       "      <td>160000.0</td>\n",
       "      <td>960000.0</td>\n",
       "    </tr>\n",
       "    <tr>\n",
       "      <th>2</th>\n",
       "      <td>320000.0</td>\n",
       "      <td>320000.0</td>\n",
       "      <td>1280000.0</td>\n",
       "      <td>160000.0</td>\n",
       "      <td>320000.0</td>\n",
       "      <td>1440000.0</td>\n",
       "    </tr>\n",
       "    <tr>\n",
       "      <th>3</th>\n",
       "      <td>480000.0</td>\n",
       "      <td>1120000.0</td>\n",
       "      <td>1280000.0</td>\n",
       "      <td>800000.0</td>\n",
       "      <td>NaN</td>\n",
       "      <td>960000.0</td>\n",
       "    </tr>\n",
       "    <tr>\n",
       "      <th>4</th>\n",
       "      <td>320000.0</td>\n",
       "      <td>1760000.0</td>\n",
       "      <td>1760000.0</td>\n",
       "      <td>1120000.0</td>\n",
       "      <td>960000.0</td>\n",
       "      <td>2880000.0</td>\n",
       "    </tr>\n",
       "    <tr>\n",
       "      <th>5</th>\n",
       "      <td>2400000.0</td>\n",
       "      <td>2720000.0</td>\n",
       "      <td>2240000.0</td>\n",
       "      <td>2720000.0</td>\n",
       "      <td>1760000.0</td>\n",
       "      <td>6240000.0</td>\n",
       "    </tr>\n",
       "    <tr>\n",
       "      <th>6</th>\n",
       "      <td>4480000.0</td>\n",
       "      <td>4960000.0</td>\n",
       "      <td>3040000.0</td>\n",
       "      <td>3520000.0</td>\n",
       "      <td>2880000.0</td>\n",
       "      <td>6400000.0</td>\n",
       "    </tr>\n",
       "  </tbody>\n",
       "</table>\n",
       "</div>"
      ],
      "text/plain": [
       "Style 1     Active       Cool       Cute    Elegant   Gorgeous     Simple\n",
       "tier                                                                     \n",
       "1              NaN        NaN   480000.0   320000.0   160000.0   960000.0\n",
       "2         320000.0   320000.0  1280000.0   160000.0   320000.0  1440000.0\n",
       "3         480000.0  1120000.0  1280000.0   800000.0        NaN   960000.0\n",
       "4         320000.0  1760000.0  1760000.0  1120000.0   960000.0  2880000.0\n",
       "5        2400000.0  2720000.0  2240000.0  2720000.0  1760000.0  6240000.0\n",
       "6        4480000.0  4960000.0  3040000.0  3520000.0  2880000.0  6400000.0"
      ]
     },
     "execution_count": 36,
     "metadata": {},
     "output_type": "execute_result"
    }
   ],
   "source": [
    "pd.pivot_table(combined_df, index = 'tier', values = 'Catchphrase', columns=\"Style 1\", aggfunc='count')"
   ]
  },
  {
   "cell_type": "code",
   "execution_count": 37,
   "metadata": {
    "execution": {
     "iopub.execute_input": "2022-08-03T09:39:03.151204Z",
     "iopub.status.busy": "2022-08-03T09:39:03.150975Z",
     "iopub.status.idle": "2022-08-03T09:39:03.179701Z",
     "shell.execute_reply": "2022-08-03T09:39:03.178397Z",
     "shell.execute_reply.started": "2022-08-03T09:39:03.151177Z"
    }
   },
   "outputs": [
    {
     "data": {
      "text/html": [
       "<div>\n",
       "<style scoped>\n",
       "    .dataframe tbody tr th:only-of-type {\n",
       "        vertical-align: middle;\n",
       "    }\n",
       "\n",
       "    .dataframe tbody tr th {\n",
       "        vertical-align: top;\n",
       "    }\n",
       "\n",
       "    .dataframe thead th {\n",
       "        text-align: right;\n",
       "    }\n",
       "</style>\n",
       "<table border=\"1\" class=\"dataframe\">\n",
       "  <thead>\n",
       "    <tr style=\"text-align: right;\">\n",
       "      <th>Style 2</th>\n",
       "      <th>Active</th>\n",
       "      <th>Cool</th>\n",
       "      <th>Cute</th>\n",
       "      <th>Elegant</th>\n",
       "      <th>Gorgeous</th>\n",
       "      <th>Simple</th>\n",
       "    </tr>\n",
       "    <tr>\n",
       "      <th>tier</th>\n",
       "      <th></th>\n",
       "      <th></th>\n",
       "      <th></th>\n",
       "      <th></th>\n",
       "      <th></th>\n",
       "      <th></th>\n",
       "    </tr>\n",
       "  </thead>\n",
       "  <tbody>\n",
       "    <tr>\n",
       "      <th>1</th>\n",
       "      <td>NaN</td>\n",
       "      <td>320000.0</td>\n",
       "      <td>1120000.0</td>\n",
       "      <td>160000.0</td>\n",
       "      <td>NaN</td>\n",
       "      <td>320000.0</td>\n",
       "    </tr>\n",
       "    <tr>\n",
       "      <th>2</th>\n",
       "      <td>320000.0</td>\n",
       "      <td>320000.0</td>\n",
       "      <td>960000.0</td>\n",
       "      <td>320000.0</td>\n",
       "      <td>160000.0</td>\n",
       "      <td>1760000.0</td>\n",
       "    </tr>\n",
       "    <tr>\n",
       "      <th>3</th>\n",
       "      <td>320000.0</td>\n",
       "      <td>480000.0</td>\n",
       "      <td>1600000.0</td>\n",
       "      <td>480000.0</td>\n",
       "      <td>320000.0</td>\n",
       "      <td>1440000.0</td>\n",
       "    </tr>\n",
       "    <tr>\n",
       "      <th>4</th>\n",
       "      <td>1280000.0</td>\n",
       "      <td>1120000.0</td>\n",
       "      <td>2080000.0</td>\n",
       "      <td>1280000.0</td>\n",
       "      <td>1280000.0</td>\n",
       "      <td>1760000.0</td>\n",
       "    </tr>\n",
       "    <tr>\n",
       "      <th>5</th>\n",
       "      <td>2080000.0</td>\n",
       "      <td>2400000.0</td>\n",
       "      <td>2880000.0</td>\n",
       "      <td>2400000.0</td>\n",
       "      <td>2880000.0</td>\n",
       "      <td>5440000.0</td>\n",
       "    </tr>\n",
       "    <tr>\n",
       "      <th>6</th>\n",
       "      <td>4000000.0</td>\n",
       "      <td>4800000.0</td>\n",
       "      <td>1280000.0</td>\n",
       "      <td>4320000.0</td>\n",
       "      <td>4000000.0</td>\n",
       "      <td>6880000.0</td>\n",
       "    </tr>\n",
       "  </tbody>\n",
       "</table>\n",
       "</div>"
      ],
      "text/plain": [
       "Style 2     Active       Cool       Cute    Elegant   Gorgeous     Simple\n",
       "tier                                                                     \n",
       "1              NaN   320000.0  1120000.0   160000.0        NaN   320000.0\n",
       "2         320000.0   320000.0   960000.0   320000.0   160000.0  1760000.0\n",
       "3         320000.0   480000.0  1600000.0   480000.0   320000.0  1440000.0\n",
       "4        1280000.0  1120000.0  2080000.0  1280000.0  1280000.0  1760000.0\n",
       "5        2080000.0  2400000.0  2880000.0  2400000.0  2880000.0  5440000.0\n",
       "6        4000000.0  4800000.0  1280000.0  4320000.0  4000000.0  6880000.0"
      ]
     },
     "execution_count": 37,
     "metadata": {},
     "output_type": "execute_result"
    }
   ],
   "source": [
    "pd.pivot_table(combined_df, index = 'tier', values = 'Catchphrase', columns=\"Style 2\", aggfunc='count')"
   ]
  },
  {
   "cell_type": "markdown",
   "metadata": {},
   "source": [
    "# Conclusion\n",
    "We may come to the conclusion, that the following attributes contribute to a villager's popularity:\n",
    "- Gender: Despite Female Villagers having in general better popularity, this is likely due to the overwheling prescence of male villagers in the lowest tier. Other than the lowest tier, Male villagers in general perform slightly better.\n",
    "- Species: Octopus, Wolf, Deer and Cat villagers perform the best. \n",
    "- Personality: Big Sister, Normal and Peppy villagers are in general the most popular. \n",
    "- Style: Cute Style villagers are very clearly the most popular"
   ]
  }
 ],
 "metadata": {
  "kernelspec": {
   "display_name": "Python 3 (ipykernel)",
   "language": "python",
   "name": "python3"
  },
  "language_info": {
   "codemirror_mode": {
    "name": "ipython",
    "version": 3
   },
   "file_extension": ".py",
   "mimetype": "text/x-python",
   "name": "python",
   "nbconvert_exporter": "python",
   "pygments_lexer": "ipython3",
   "version": "3.10.13"
  }
 },
 "nbformat": 4,
 "nbformat_minor": 4
}
