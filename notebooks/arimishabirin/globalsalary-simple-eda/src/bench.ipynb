{
 "cells": [
  {
   "cell_type": "code",
   "execution_count": 1,
   "id": "588e80c4",
   "metadata": {
    "_cell_guid": "b1076dfc-b9ad-4769-8c92-a6c4dae69d19",
    "_uuid": "8f2839f25d086af736a60e9eeb907d3b93b6e0e5",
    "execution": {
     "iopub.execute_input": "2023-10-11T08:23:19.482424Z",
     "iopub.status.busy": "2023-10-11T08:23:19.481952Z",
     "iopub.status.idle": "2023-10-11T08:23:19.756841Z",
     "shell.execute_reply": "2023-10-11T08:23:19.755934Z"
    },
    "papermill": {
     "duration": 0.280766,
     "end_time": "2023-10-11T08:23:19.758719",
     "exception": false,
     "start_time": "2023-10-11T08:23:19.477953",
     "status": "completed"
    },
    "tags": []
   },
   "outputs": [],
   "source": [
    "# This Python 3 environment comes with many helpful analytics libraries installed\n",
    "# It is defined by the kaggle/python Docker image: https://github.com/kaggle/docker-python\n",
    "# For example, here's several helpful packages to load\n",
    "\n",
    "import numpy as np # linear algebra\n",
    "import pandas as pd # data processing, CSV file I/O (e.g. pd.read_csv)\n",
    "\n",
    "# Input data files are available in the read-only \"../input/\" directory\n",
    "# For example, running this (by clicking run or pressing Shift+Enter) will list all files under the input directory\n",
    "\n",
    "import os\n",
    "for dirname, _, filenames in os.walk('../input'):\n",
    "    for filename in filenames:\n",
    "        file_  = os.path.join(dirname, filename)\n",
    "\n",
    "# You can write up to 20GB to the current directory (/kaggle/working/) that gets preserved as output when you create a version using \"Save & Run All\" \n",
    "# You can also write temporary files to /kaggle/temp/, but they won't be saved outside of the current session"
   ]
  },
  {
   "cell_type": "code",
   "execution_count": 2,
   "id": "70c7139a",
   "metadata": {
    "execution": {
     "iopub.execute_input": "2023-10-11T08:23:21.242040Z",
     "iopub.status.busy": "2023-10-11T08:23:21.241162Z",
     "iopub.status.idle": "2023-10-11T08:23:21.282549Z",
     "shell.execute_reply": "2023-10-11T08:23:21.281755Z"
    },
    "papermill": {
     "duration": 0.049428,
     "end_time": "2023-10-11T08:23:21.285232",
     "exception": false,
     "start_time": "2023-10-11T08:23:21.235804",
     "status": "completed"
    },
    "tags": []
   },
   "outputs": [
    {
     "data": {
      "text/html": [
       "<div>\n",
       "<style scoped>\n",
       "    .dataframe tbody tr th:only-of-type {\n",
       "        vertical-align: middle;\n",
       "    }\n",
       "\n",
       "    .dataframe tbody tr th {\n",
       "        vertical-align: top;\n",
       "    }\n",
       "\n",
       "    .dataframe thead th {\n",
       "        text-align: right;\n",
       "    }\n",
       "</style>\n",
       "<table border=\"1\" class=\"dataframe\">\n",
       "  <thead>\n",
       "    <tr style=\"text-align: right;\">\n",
       "      <th></th>\n",
       "      <th>country_name</th>\n",
       "      <th>continent_name</th>\n",
       "      <th>wage_span</th>\n",
       "      <th>median_salary</th>\n",
       "      <th>average_salary</th>\n",
       "      <th>lowest_salary</th>\n",
       "      <th>highest_salary</th>\n",
       "    </tr>\n",
       "  </thead>\n",
       "  <tbody>\n",
       "    <tr>\n",
       "      <th>0</th>\n",
       "      <td>Afghanistan</td>\n",
       "      <td>Asia</td>\n",
       "      <td>Monthly</td>\n",
       "      <td>853.74</td>\n",
       "      <td>1001.15</td>\n",
       "      <td>252.53</td>\n",
       "      <td>4460.97</td>\n",
       "    </tr>\n",
       "    <tr>\n",
       "      <th>1</th>\n",
       "      <td>Aland Islands</td>\n",
       "      <td>Europe</td>\n",
       "      <td>Monthly</td>\n",
       "      <td>3319.24</td>\n",
       "      <td>3858.35</td>\n",
       "      <td>972.52</td>\n",
       "      <td>17124.74</td>\n",
       "    </tr>\n",
       "    <tr>\n",
       "      <th>2</th>\n",
       "      <td>Albania</td>\n",
       "      <td>Europe</td>\n",
       "      <td>Monthly</td>\n",
       "      <td>832.84</td>\n",
       "      <td>956.92</td>\n",
       "      <td>241.22</td>\n",
       "      <td>4258.49</td>\n",
       "    </tr>\n",
       "    <tr>\n",
       "      <th>3</th>\n",
       "      <td>Algeria</td>\n",
       "      <td>Africa</td>\n",
       "      <td>Monthly</td>\n",
       "      <td>1148.84</td>\n",
       "      <td>1308.81</td>\n",
       "      <td>330.11</td>\n",
       "      <td>5824.18</td>\n",
       "    </tr>\n",
       "    <tr>\n",
       "      <th>4</th>\n",
       "      <td>American Samoa</td>\n",
       "      <td>Oceania</td>\n",
       "      <td>Monthly</td>\n",
       "      <td>1390.00</td>\n",
       "      <td>1570.00</td>\n",
       "      <td>400.00</td>\n",
       "      <td>6980.00</td>\n",
       "    </tr>\n",
       "  </tbody>\n",
       "</table>\n",
       "</div>"
      ],
      "text/plain": [
       "     country_name continent_name wage_span  median_salary  average_salary  \\\n",
       "0     Afghanistan           Asia   Monthly         853.74         1001.15   \n",
       "1   Aland Islands         Europe   Monthly        3319.24         3858.35   \n",
       "2         Albania         Europe   Monthly         832.84          956.92   \n",
       "3         Algeria         Africa   Monthly        1148.84         1308.81   \n",
       "4  American Samoa        Oceania   Monthly        1390.00         1570.00   \n",
       "\n",
       "   lowest_salary  highest_salary  \n",
       "0         252.53         4460.97  \n",
       "1         972.52        17124.74  \n",
       "2         241.22         4258.49  \n",
       "3         330.11         5824.18  \n",
       "4         400.00         6980.00  "
      ]
     },
     "execution_count": 2,
     "metadata": {},
     "output_type": "execute_result"
    }
   ],
   "source": [
    "df = pd.read_csv(file_)\n",
    "\n",
    "df.head(5)"
   ]
  },
  {
   "cell_type": "code",
   "execution_count": 3,
   "id": "c40859a3",
   "metadata": {},
   "outputs": [
    {
     "name": "stdout",
     "output_type": "stream",
     "text": [
      "<class 'pandas.core.frame.DataFrame'>\n",
      "RangeIndex: 4744207 entries, 0 to 4744206\n",
      "Data columns (total 7 columns):\n",
      " #   Column          Dtype  \n",
      "---  ------          -----  \n",
      " 0   country_name    object \n",
      " 1   continent_name  object \n",
      " 2   wage_span       object \n",
      " 3   median_salary   float64\n",
      " 4   average_salary  float64\n",
      " 5   lowest_salary   float64\n",
      " 6   highest_salary  float64\n",
      "dtypes: float64(4), object(3)\n",
      "memory usage: 253.4+ MB\n"
     ]
    }
   ],
   "source": [
    "df = df\n",
    "intended_df_size_in_MB = 256\n",
    "factor = intended_df_size_in_MB*(2**20)/df.memory_usage(index=True).sum()\n",
    "if int(factor) > 0:\n",
    "    df = pd.concat([df]*int(factor), ignore_index=True)\n",
    "else:\n",
    "    rowCount = int(df.shape[0]*factor)\n",
    "    df = df[0:rowCount]\n",
    "df = df\n",
    "df.info()"
   ]
  },
  {
   "cell_type": "code",
   "execution_count": 8,
   "id": "bcde48ee",
   "metadata": {
    "execution": {
     "iopub.execute_input": "2023-10-11T08:23:21.292101Z",
     "iopub.status.busy": "2023-10-11T08:23:21.291801Z",
     "iopub.status.idle": "2023-10-11T08:23:21.313358Z",
     "shell.execute_reply": "2023-10-11T08:23:21.311756Z"
    },
    "papermill": {
     "duration": 0.027565,
     "end_time": "2023-10-11T08:23:21.315457",
     "exception": false,
     "start_time": "2023-10-11T08:23:21.287892",
     "status": "completed"
    },
    "tags": []
   },
   "outputs": [
    {
     "data": {
      "text/plain": [
       "4743986"
      ]
     },
     "execution_count": 8,
     "metadata": {},
     "output_type": "execute_result"
    }
   ],
   "source": [
    "df.duplicated().sum()"
   ]
  },
  {
   "cell_type": "code",
   "execution_count": 5,
   "id": "828e88a9",
   "metadata": {
    "execution": {
     "iopub.execute_input": "2023-10-11T08:23:21.322835Z",
     "iopub.status.busy": "2023-10-11T08:23:21.322060Z",
     "iopub.status.idle": "2023-10-11T08:23:21.328462Z",
     "shell.execute_reply": "2023-10-11T08:23:21.327396Z"
    },
    "papermill": {
     "duration": 0.012037,
     "end_time": "2023-10-11T08:23:21.330376",
     "exception": false,
     "start_time": "2023-10-11T08:23:21.318339",
     "status": "completed"
    },
    "tags": []
   },
   "outputs": [
    {
     "data": {
      "text/plain": [
       "country_name      0\n",
       "continent_name    0\n",
       "wage_span         0\n",
       "median_salary     0\n",
       "average_salary    0\n",
       "lowest_salary     0\n",
       "highest_salary    0\n",
       "dtype: int64"
      ]
     },
     "execution_count": 5,
     "metadata": {},
     "output_type": "execute_result"
    }
   ],
   "source": [
    "df.isnull().sum()"
   ]
  },
  {
   "cell_type": "code",
   "execution_count": 6,
   "id": "de61a609",
   "metadata": {
    "execution": {
     "iopub.execute_input": "2023-10-11T08:23:21.338503Z",
     "iopub.status.busy": "2023-10-11T08:23:21.337452Z",
     "iopub.status.idle": "2023-10-11T08:23:21.371094Z",
     "shell.execute_reply": "2023-10-11T08:23:21.370498Z"
    },
    "papermill": {
     "duration": 0.039594,
     "end_time": "2023-10-11T08:23:21.372769",
     "exception": false,
     "start_time": "2023-10-11T08:23:21.333175",
     "status": "completed"
    },
    "tags": []
   },
   "outputs": [
    {
     "data": {
      "text/html": [
       "<div>\n",
       "<style scoped>\n",
       "    .dataframe tbody tr th:only-of-type {\n",
       "        vertical-align: middle;\n",
       "    }\n",
       "\n",
       "    .dataframe tbody tr th {\n",
       "        vertical-align: top;\n",
       "    }\n",
       "\n",
       "    .dataframe thead th {\n",
       "        text-align: right;\n",
       "    }\n",
       "</style>\n",
       "<table border=\"1\" class=\"dataframe\">\n",
       "  <thead>\n",
       "    <tr style=\"text-align: right;\">\n",
       "      <th></th>\n",
       "      <th>country_name</th>\n",
       "      <th>continent_name</th>\n",
       "      <th>wage_span</th>\n",
       "      <th>median_salary</th>\n",
       "      <th>average_salary</th>\n",
       "      <th>lowest_salary</th>\n",
       "      <th>highest_salary</th>\n",
       "    </tr>\n",
       "  </thead>\n",
       "  <tbody>\n",
       "    <tr>\n",
       "      <th>count</th>\n",
       "      <td>4744207</td>\n",
       "      <td>4744207</td>\n",
       "      <td>4744207</td>\n",
       "      <td>4.744207e+06</td>\n",
       "      <td>4.744207e+06</td>\n",
       "      <td>4.744207e+06</td>\n",
       "      <td>4.744207e+06</td>\n",
       "    </tr>\n",
       "    <tr>\n",
       "      <th>unique</th>\n",
       "      <td>221</td>\n",
       "      <td>9</td>\n",
       "      <td>1</td>\n",
       "      <td>NaN</td>\n",
       "      <td>NaN</td>\n",
       "      <td>NaN</td>\n",
       "      <td>NaN</td>\n",
       "    </tr>\n",
       "    <tr>\n",
       "      <th>top</th>\n",
       "      <td>Zimbabwe</td>\n",
       "      <td>Africa</td>\n",
       "      <td>Monthly</td>\n",
       "      <td>NaN</td>\n",
       "      <td>NaN</td>\n",
       "      <td>NaN</td>\n",
       "      <td>NaN</td>\n",
       "    </tr>\n",
       "    <tr>\n",
       "      <th>freq</th>\n",
       "      <td>21467</td>\n",
       "      <td>1223619</td>\n",
       "      <td>4744207</td>\n",
       "      <td>NaN</td>\n",
       "      <td>NaN</td>\n",
       "      <td>NaN</td>\n",
       "      <td>NaN</td>\n",
       "    </tr>\n",
       "    <tr>\n",
       "      <th>mean</th>\n",
       "      <td>NaN</td>\n",
       "      <td>NaN</td>\n",
       "      <td>NaN</td>\n",
       "      <td>1.762632e+03</td>\n",
       "      <td>1.982340e+03</td>\n",
       "      <td>5.027832e+02</td>\n",
       "      <td>8.802166e+03</td>\n",
       "    </tr>\n",
       "    <tr>\n",
       "      <th>std</th>\n",
       "      <td>NaN</td>\n",
       "      <td>NaN</td>\n",
       "      <td>NaN</td>\n",
       "      <td>1.631006e+03</td>\n",
       "      <td>1.831272e+03</td>\n",
       "      <td>4.690087e+02</td>\n",
       "      <td>8.121774e+03</td>\n",
       "    </tr>\n",
       "    <tr>\n",
       "      <th>min</th>\n",
       "      <td>NaN</td>\n",
       "      <td>NaN</td>\n",
       "      <td>NaN</td>\n",
       "      <td>2.613350e-01</td>\n",
       "      <td>2.855239e-01</td>\n",
       "      <td>7.209242e-02</td>\n",
       "      <td>1.271103e+00</td>\n",
       "    </tr>\n",
       "    <tr>\n",
       "      <th>25%</th>\n",
       "      <td>NaN</td>\n",
       "      <td>NaN</td>\n",
       "      <td>NaN</td>\n",
       "      <td>5.672100e+02</td>\n",
       "      <td>6.510000e+02</td>\n",
       "      <td>1.639300e+02</td>\n",
       "      <td>2.900480e+03</td>\n",
       "    </tr>\n",
       "    <tr>\n",
       "      <th>50%</th>\n",
       "      <td>NaN</td>\n",
       "      <td>NaN</td>\n",
       "      <td>NaN</td>\n",
       "      <td>1.227460e+03</td>\n",
       "      <td>1.344230e+03</td>\n",
       "      <td>3.394500e+02</td>\n",
       "      <td>5.974360e+03</td>\n",
       "    </tr>\n",
       "    <tr>\n",
       "      <th>75%</th>\n",
       "      <td>NaN</td>\n",
       "      <td>NaN</td>\n",
       "      <td>NaN</td>\n",
       "      <td>2.389010e+03</td>\n",
       "      <td>2.740000e+03</td>\n",
       "      <td>6.900000e+02</td>\n",
       "      <td>1.205074e+04</td>\n",
       "    </tr>\n",
       "    <tr>\n",
       "      <th>max</th>\n",
       "      <td>NaN</td>\n",
       "      <td>NaN</td>\n",
       "      <td>NaN</td>\n",
       "      <td>9.836070e+03</td>\n",
       "      <td>1.129290e+04</td>\n",
       "      <td>2.850270e+03</td>\n",
       "      <td>5.036393e+04</td>\n",
       "    </tr>\n",
       "  </tbody>\n",
       "</table>\n",
       "</div>"
      ],
      "text/plain": [
       "       country_name continent_name wage_span  median_salary  average_salary  \\\n",
       "count       4744207        4744207   4744207   4.744207e+06    4.744207e+06   \n",
       "unique          221              9         1            NaN             NaN   \n",
       "top        Zimbabwe         Africa   Monthly            NaN             NaN   \n",
       "freq          21467        1223619   4744207            NaN             NaN   \n",
       "mean            NaN            NaN       NaN   1.762632e+03    1.982340e+03   \n",
       "std             NaN            NaN       NaN   1.631006e+03    1.831272e+03   \n",
       "min             NaN            NaN       NaN   2.613350e-01    2.855239e-01   \n",
       "25%             NaN            NaN       NaN   5.672100e+02    6.510000e+02   \n",
       "50%             NaN            NaN       NaN   1.227460e+03    1.344230e+03   \n",
       "75%             NaN            NaN       NaN   2.389010e+03    2.740000e+03   \n",
       "max             NaN            NaN       NaN   9.836070e+03    1.129290e+04   \n",
       "\n",
       "        lowest_salary  highest_salary  \n",
       "count    4.744207e+06    4.744207e+06  \n",
       "unique            NaN             NaN  \n",
       "top               NaN             NaN  \n",
       "freq              NaN             NaN  \n",
       "mean     5.027832e+02    8.802166e+03  \n",
       "std      4.690087e+02    8.121774e+03  \n",
       "min      7.209242e-02    1.271103e+00  \n",
       "25%      1.639300e+02    2.900480e+03  \n",
       "50%      3.394500e+02    5.974360e+03  \n",
       "75%      6.900000e+02    1.205074e+04  \n",
       "max      2.850270e+03    5.036393e+04  "
      ]
     },
     "execution_count": 6,
     "metadata": {},
     "output_type": "execute_result"
    }
   ],
   "source": [
    "df.describe(include = 'all')"
   ]
  },
  {
   "cell_type": "code",
   "execution_count": 7,
   "id": "a263f694",
   "metadata": {
    "execution": {
     "iopub.execute_input": "2023-10-11T08:23:21.379511Z",
     "iopub.status.busy": "2023-10-11T08:23:21.379169Z",
     "iopub.status.idle": "2023-10-11T08:23:21.386617Z",
     "shell.execute_reply": "2023-10-11T08:23:21.385494Z"
    },
    "papermill": {
     "duration": 0.013679,
     "end_time": "2023-10-11T08:23:21.389229",
     "exception": false,
     "start_time": "2023-10-11T08:23:21.375550",
     "status": "completed"
    },
    "tags": []
   },
   "outputs": [],
   "source": [
    "df = df.drop(['wage_span'] , axis = 1)"
   ]
  },
  {
   "cell_type": "code",
   "execution_count": 8,
   "id": "15aa215a",
   "metadata": {
    "execution": {
     "iopub.execute_input": "2023-10-11T08:23:21.396419Z",
     "iopub.status.busy": "2023-10-11T08:23:21.396037Z",
     "iopub.status.idle": "2023-10-11T08:23:21.410535Z",
     "shell.execute_reply": "2023-10-11T08:23:21.409567Z"
    },
    "papermill": {
     "duration": 0.02003,
     "end_time": "2023-10-11T08:23:21.412406",
     "exception": false,
     "start_time": "2023-10-11T08:23:21.392376",
     "status": "completed"
    },
    "tags": []
   },
   "outputs": [
    {
     "data": {
      "text/html": [
       "<div>\n",
       "<style scoped>\n",
       "    .dataframe tbody tr th:only-of-type {\n",
       "        vertical-align: middle;\n",
       "    }\n",
       "\n",
       "    .dataframe tbody tr th {\n",
       "        vertical-align: top;\n",
       "    }\n",
       "\n",
       "    .dataframe thead th {\n",
       "        text-align: right;\n",
       "    }\n",
       "</style>\n",
       "<table border=\"1\" class=\"dataframe\">\n",
       "  <thead>\n",
       "    <tr style=\"text-align: right;\">\n",
       "      <th></th>\n",
       "      <th>country_name</th>\n",
       "      <th>continent_name</th>\n",
       "      <th>median_salary</th>\n",
       "      <th>average_salary</th>\n",
       "      <th>lowest_salary</th>\n",
       "      <th>highest_salary</th>\n",
       "    </tr>\n",
       "  </thead>\n",
       "  <tbody>\n",
       "    <tr>\n",
       "      <th>4744206</th>\n",
       "      <td>Zimbabwe</td>\n",
       "      <td>Africa</td>\n",
       "      <td>555.402040</td>\n",
       "      <td>602.376350</td>\n",
       "      <td>151.423050</td>\n",
       "      <td>2674.772000</td>\n",
       "    </tr>\n",
       "    <tr>\n",
       "      <th>3012877</th>\n",
       "      <td>Uganda</td>\n",
       "      <td>Africa</td>\n",
       "      <td>645.210000</td>\n",
       "      <td>698.310000</td>\n",
       "      <td>176.040000</td>\n",
       "      <td>3106.550000</td>\n",
       "    </tr>\n",
       "    <tr>\n",
       "      <th>3012889</th>\n",
       "      <td>Western Sahara</td>\n",
       "      <td>Africa</td>\n",
       "      <td>908.560000</td>\n",
       "      <td>1011.670000</td>\n",
       "      <td>254.860000</td>\n",
       "      <td>4503.890000</td>\n",
       "    </tr>\n",
       "    <tr>\n",
       "      <th>3012891</th>\n",
       "      <td>Zambia</td>\n",
       "      <td>Africa</td>\n",
       "      <td>0.261335</td>\n",
       "      <td>0.285524</td>\n",
       "      <td>0.072092</td>\n",
       "      <td>1.271103</td>\n",
       "    </tr>\n",
       "    <tr>\n",
       "      <th>3012892</th>\n",
       "      <td>Zimbabwe</td>\n",
       "      <td>Africa</td>\n",
       "      <td>555.402040</td>\n",
       "      <td>602.376350</td>\n",
       "      <td>151.423050</td>\n",
       "      <td>2674.772000</td>\n",
       "    </tr>\n",
       "    <tr>\n",
       "      <th>...</th>\n",
       "      <td>...</td>\n",
       "      <td>...</td>\n",
       "      <td>...</td>\n",
       "      <td>...</td>\n",
       "      <td>...</td>\n",
       "      <td>...</td>\n",
       "    </tr>\n",
       "    <tr>\n",
       "      <th>4043384</th>\n",
       "      <td>Suriname</td>\n",
       "      <td>South America</td>\n",
       "      <td>122.180000</td>\n",
       "      <td>133.570000</td>\n",
       "      <td>33.650000</td>\n",
       "      <td>592.800000</td>\n",
       "    </tr>\n",
       "    <tr>\n",
       "      <th>1572572</th>\n",
       "      <td>Paraguay</td>\n",
       "      <td>South America</td>\n",
       "      <td>1019.690000</td>\n",
       "      <td>1126.170000</td>\n",
       "      <td>283.930000</td>\n",
       "      <td>5009.740000</td>\n",
       "    </tr>\n",
       "    <tr>\n",
       "      <th>1161568</th>\n",
       "      <td>Venezuela</td>\n",
       "      <td>South America</td>\n",
       "      <td>3282.020000</td>\n",
       "      <td>3862.910000</td>\n",
       "      <td>972.990000</td>\n",
       "      <td>17165.260000</td>\n",
       "    </tr>\n",
       "    <tr>\n",
       "      <th>662747</th>\n",
       "      <td>Suriname</td>\n",
       "      <td>South America</td>\n",
       "      <td>122.180000</td>\n",
       "      <td>133.570000</td>\n",
       "      <td>33.650000</td>\n",
       "      <td>592.800000</td>\n",
       "    </tr>\n",
       "    <tr>\n",
       "      <th>2589614</th>\n",
       "      <td>Paraguay</td>\n",
       "      <td>South America</td>\n",
       "      <td>1019.690000</td>\n",
       "      <td>1126.170000</td>\n",
       "      <td>283.930000</td>\n",
       "      <td>5009.740000</td>\n",
       "    </tr>\n",
       "  </tbody>\n",
       "</table>\n",
       "<p>4744207 rows × 6 columns</p>\n",
       "</div>"
      ],
      "text/plain": [
       "           country_name continent_name  median_salary  average_salary  \\\n",
       "4744206        Zimbabwe         Africa     555.402040      602.376350   \n",
       "3012877          Uganda         Africa     645.210000      698.310000   \n",
       "3012889  Western Sahara         Africa     908.560000     1011.670000   \n",
       "3012891          Zambia         Africa       0.261335        0.285524   \n",
       "3012892        Zimbabwe         Africa     555.402040      602.376350   \n",
       "...                 ...            ...            ...             ...   \n",
       "4043384        Suriname  South America     122.180000      133.570000   \n",
       "1572572        Paraguay  South America    1019.690000     1126.170000   \n",
       "1161568       Venezuela  South America    3282.020000     3862.910000   \n",
       "662747         Suriname  South America     122.180000      133.570000   \n",
       "2589614        Paraguay  South America    1019.690000     1126.170000   \n",
       "\n",
       "         lowest_salary  highest_salary  \n",
       "4744206     151.423050     2674.772000  \n",
       "3012877     176.040000     3106.550000  \n",
       "3012889     254.860000     4503.890000  \n",
       "3012891       0.072092        1.271103  \n",
       "3012892     151.423050     2674.772000  \n",
       "...                ...             ...  \n",
       "4043384      33.650000      592.800000  \n",
       "1572572     283.930000     5009.740000  \n",
       "1161568     972.990000    17165.260000  \n",
       "662747       33.650000      592.800000  \n",
       "2589614     283.930000     5009.740000  \n",
       "\n",
       "[4744207 rows x 6 columns]"
      ]
     },
     "execution_count": 8,
     "metadata": {},
     "output_type": "execute_result"
    }
   ],
   "source": [
    "df.sort_values('continent_name')"
   ]
  },
  {
   "cell_type": "code",
   "execution_count": 9,
   "id": "4806df4e",
   "metadata": {
    "execution": {
     "iopub.execute_input": "2023-10-11T08:23:21.422066Z",
     "iopub.status.busy": "2023-10-11T08:23:21.421736Z",
     "iopub.status.idle": "2023-10-11T08:23:21.730627Z",
     "shell.execute_reply": "2023-10-11T08:23:21.729179Z"
    },
    "papermill": {
     "duration": 0.316685,
     "end_time": "2023-10-11T08:23:21.732757",
     "exception": false,
     "start_time": "2023-10-11T08:23:21.416072",
     "status": "completed"
    },
    "tags": []
   },
   "outputs": [],
   "source": [
    "sorted_order = (\n",
    "    df.groupby('continent_name' , as_index = False)\n",
    "    .agg({'median_salary':'mean'})\n",
    "    .sort_values('median_salary' , ascending = True)\n",
    ")['continent_name'].values"
   ]
  },
  {
   "cell_type": "code",
   "execution_count": 10,
   "id": "dae4e1c4",
   "metadata": {
    "execution": {
     "iopub.execute_input": "2023-10-11T08:23:21.742326Z",
     "iopub.status.busy": "2023-10-11T08:23:21.741945Z",
     "iopub.status.idle": "2023-10-11T08:23:23.032039Z",
     "shell.execute_reply": "2023-10-11T08:23:23.030720Z"
    },
    "papermill": {
     "duration": 1.298131,
     "end_time": "2023-10-11T08:23:23.034703",
     "exception": false,
     "start_time": "2023-10-11T08:23:21.736572",
     "status": "completed"
    },
    "tags": []
   },
   "outputs": [],
   "source": [
    "tp5_highestslry_contry_conti = (\n",
    "    df.sort_values('highest_salary' , ascending = False).groupby('continent_name')\n",
    "    .head(5)\n",
    "    .sort_values(['continent_name','highest_salary'] , ascending = [True, False])\n",
    ")\n",
    "\n",
    "cont_order = (\n",
    "    df.groupby('continent_name')\n",
    "    .agg({'highest_salary':\"max\"})\n",
    "    .sort_values('highest_salary' , ascending = False)\n",
    "    .index\n",
    ").tolist()"
   ]
  },
  {
   "cell_type": "code",
   "execution_count": 11,
   "id": "28b2d12b",
   "metadata": {
    "execution": {
     "iopub.execute_input": "2023-10-11T08:23:23.045860Z",
     "iopub.status.busy": "2023-10-11T08:23:23.045395Z",
     "iopub.status.idle": "2023-10-11T08:23:24.448385Z",
     "shell.execute_reply": "2023-10-11T08:23:24.447524Z"
    },
    "papermill": {
     "duration": 1.410749,
     "end_time": "2023-10-11T08:23:24.450262",
     "exception": false,
     "start_time": "2023-10-11T08:23:23.039513",
     "status": "completed"
    },
    "tags": []
   },
   "outputs": [],
   "source": [
    "cont_order = (\n",
    "    df.groupby('continent_name')\n",
    "    .agg({'lowest_salary':\"min\"})\n",
    "    .sort_values('lowest_salary' , ascending = False)\n",
    "    .index\n",
    ").tolist()\n",
    "\n",
    "tp5_lwstslry_contry_conti = (\n",
    "    df.sort_values('lowest_salary' , ascending = True).groupby('continent_name')\n",
    "    .head(5)\n",
    "    .sort_values(['continent_name','lowest_salary'] , ascending = [True, True])\n",
    ")"
   ]
  }
 ],
 "metadata": {
  "kernelspec": {
   "display_name": "Python 3 (ipykernel)",
   "language": "python",
   "name": "python3"
  },
  "language_info": {
   "codemirror_mode": {
    "name": "ipython",
    "version": 3
   },
   "file_extension": ".py",
   "mimetype": "text/x-python",
   "name": "python",
   "nbconvert_exporter": "python",
   "pygments_lexer": "ipython3",
   "version": "3.10.13"
  },
  "papermill": {
   "default_parameters": {},
   "duration": 8.092481,
   "end_time": "2023-10-11T08:23:25.086864",
   "environment_variables": {},
   "exception": null,
   "input_path": "__notebook__.ipynb",
   "output_path": "__notebook__.ipynb",
   "parameters": {},
   "start_time": "2023-10-11T08:23:16.994383",
   "version": "2.4.0"
  }
 },
 "nbformat": 4,
 "nbformat_minor": 5
}
