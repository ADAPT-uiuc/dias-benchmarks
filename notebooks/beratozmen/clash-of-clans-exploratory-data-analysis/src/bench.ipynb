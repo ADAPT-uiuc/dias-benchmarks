{
 "cells": [
  {
   "cell_type": "markdown",
   "id": "0fb48db3",
   "metadata": {
    "papermill": {
     "duration": 0.006134,
     "end_time": "2023-10-13T15:36:13.242405",
     "exception": false,
     "start_time": "2023-10-13T15:36:13.236271",
     "status": "completed"
    },
    "tags": []
   },
   "source": [
    "# Clash of Clans - Explatory Data Analysis (Chosen for larger Dataset size)\n",
    "\n",
    "Let's start with importing libraries and see what the data will take us! First, explore the data."
   ]
  },
  {
   "cell_type": "code",
   "execution_count": 1,
   "id": "18c35eee",
   "metadata": {
    "_cell_guid": "b1076dfc-b9ad-4769-8c92-a6c4dae69d19",
    "_uuid": "8f2839f25d086af736a60e9eeb907d3b93b6e0e5",
    "execution": {
     "iopub.execute_input": "2023-10-13T15:36:13.257123Z",
     "iopub.status.busy": "2023-10-13T15:36:13.255949Z",
     "iopub.status.idle": "2023-10-13T15:36:15.319276Z",
     "shell.execute_reply": "2023-10-13T15:36:15.318195Z"
    },
    "papermill": {
     "duration": 2.073391,
     "end_time": "2023-10-13T15:36:15.321796",
     "exception": false,
     "start_time": "2023-10-13T15:36:13.248405",
     "status": "completed"
    },
    "tags": []
   },
   "outputs": [],
   "source": [
    "import numpy as np\n",
    "import pandas as pd"
   ]
  },
  {
   "cell_type": "code",
   "execution_count": 2,
   "id": "d90e49ba",
   "metadata": {
    "execution": {
     "iopub.execute_input": "2023-10-13T15:36:15.335610Z",
     "iopub.status.busy": "2023-10-13T15:36:15.335097Z",
     "iopub.status.idle": "2023-10-13T15:37:01.172386Z",
     "shell.execute_reply": "2023-10-13T15:37:01.171286Z"
    },
    "papermill": {
     "duration": 45.847093,
     "end_time": "2023-10-13T15:37:01.174983",
     "exception": false,
     "start_time": "2023-10-13T15:36:15.327890",
     "status": "completed"
    },
    "tags": []
   },
   "outputs": [],
   "source": [
    "df = pd.read_csv('../input/coc_clans_dataset.csv', index_col = 0)"
   ]
  },
  {
   "cell_type": "code",
   "execution_count": 3,
   "id": "dde43935",
   "metadata": {},
   "outputs": [
    {
     "name": "stdout",
     "output_type": "stream",
     "text": [
      "<class 'pandas.core.frame.DataFrame'>\n",
      "Index: 3559743 entries, #UQVQRJQ0 to #2YRU29GGL\n",
      "Data columns (total 26 columns):\n",
      " #   Column                          Dtype \n",
      "---  ------                          ----- \n",
      " 0   clan_name                       object\n",
      " 1   clan_type                       object\n",
      " 2   clan_description                object\n",
      " 3   clan_location                   object\n",
      " 4   isFamilyFriendly                bool  \n",
      " 5   clan_badge_url                  object\n",
      " 6   clan_level                      int64 \n",
      " 7   clan_points                     int64 \n",
      " 8   clan_builder_base_points        int64 \n",
      " 9   clan_versus_points              int64 \n",
      " 10  required_trophies               int64 \n",
      " 11  war_frequency                   object\n",
      " 12  war_win_streak                  int64 \n",
      " 13  war_wins                        int64 \n",
      " 14  war_ties                        int64 \n",
      " 15  war_losses                      int64 \n",
      " 16  clan_war_league                 object\n",
      " 17  num_members                     int64 \n",
      " 18  required_builder_base_trophies  int64 \n",
      " 19  required_versus_trophies        int64 \n",
      " 20  required_townhall_level         int64 \n",
      " 21  clan_capital_hall_level         int64 \n",
      " 22  clan_capital_points             int64 \n",
      " 23  capital_league                  object\n",
      " 24  mean_member_level               int64 \n",
      " 25  mean_member_trophies            int64 \n",
      "dtypes: bool(1), int64(17), object(8)\n",
      "memory usage: 709.5+ MB\n"
     ]
    }
   ],
   "source": [
    "df = df\n",
    "intended_df_size_in_MB = 256\n",
    "factor = intended_df_size_in_MB*(2**20)//df.memory_usage(index=True).sum()\n",
    "if factor > 0:\n",
    "    df = pd.concat([df]*factor, ignore_index=True)\n",
    "df = df\n",
    "df.info()"
   ]
  },
  {
   "cell_type": "markdown",
   "id": "b0baba24",
   "metadata": {
    "papermill": {
     "duration": 0.005398,
     "end_time": "2023-10-13T15:37:01.186694",
     "exception": false,
     "start_time": "2023-10-13T15:37:01.181296",
     "status": "completed"
    },
    "tags": []
   },
   "source": [
    "### I try to recognize which columns I will use and which colums are unnecessary for me."
   ]
  },
  {
   "cell_type": "code",
   "execution_count": 4,
   "id": "3e00ea95",
   "metadata": {
    "execution": {
     "iopub.execute_input": "2023-10-13T15:37:01.199732Z",
     "iopub.status.busy": "2023-10-13T15:37:01.199383Z",
     "iopub.status.idle": "2023-10-13T15:37:01.230019Z",
     "shell.execute_reply": "2023-10-13T15:37:01.228787Z"
    },
    "papermill": {
     "duration": 0.040482,
     "end_time": "2023-10-13T15:37:01.232874",
     "exception": false,
     "start_time": "2023-10-13T15:37:01.192392",
     "status": "completed"
    },
    "tags": []
   },
   "outputs": [
    {
     "data": {
      "text/html": [
       "<div>\n",
       "<style scoped>\n",
       "    .dataframe tbody tr th:only-of-type {\n",
       "        vertical-align: middle;\n",
       "    }\n",
       "\n",
       "    .dataframe tbody tr th {\n",
       "        vertical-align: top;\n",
       "    }\n",
       "\n",
       "    .dataframe thead th {\n",
       "        text-align: right;\n",
       "    }\n",
       "</style>\n",
       "<table border=\"1\" class=\"dataframe\">\n",
       "  <thead>\n",
       "    <tr style=\"text-align: right;\">\n",
       "      <th></th>\n",
       "      <th>clan_name</th>\n",
       "      <th>clan_type</th>\n",
       "      <th>clan_description</th>\n",
       "      <th>clan_location</th>\n",
       "      <th>isFamilyFriendly</th>\n",
       "      <th>clan_badge_url</th>\n",
       "      <th>clan_level</th>\n",
       "      <th>clan_points</th>\n",
       "      <th>clan_builder_base_points</th>\n",
       "      <th>clan_versus_points</th>\n",
       "      <th>...</th>\n",
       "      <th>clan_war_league</th>\n",
       "      <th>num_members</th>\n",
       "      <th>required_builder_base_trophies</th>\n",
       "      <th>required_versus_trophies</th>\n",
       "      <th>required_townhall_level</th>\n",
       "      <th>clan_capital_hall_level</th>\n",
       "      <th>clan_capital_points</th>\n",
       "      <th>capital_league</th>\n",
       "      <th>mean_member_level</th>\n",
       "      <th>mean_member_trophies</th>\n",
       "    </tr>\n",
       "    <tr>\n",
       "      <th>clan_tag</th>\n",
       "      <th></th>\n",
       "      <th></th>\n",
       "      <th></th>\n",
       "      <th></th>\n",
       "      <th></th>\n",
       "      <th></th>\n",
       "      <th></th>\n",
       "      <th></th>\n",
       "      <th></th>\n",
       "      <th></th>\n",
       "      <th></th>\n",
       "      <th></th>\n",
       "      <th></th>\n",
       "      <th></th>\n",
       "      <th></th>\n",
       "      <th></th>\n",
       "      <th></th>\n",
       "      <th></th>\n",
       "      <th></th>\n",
       "      <th></th>\n",
       "      <th></th>\n",
       "    </tr>\n",
       "  </thead>\n",
       "  <tbody>\n",
       "    <tr>\n",
       "      <th>#UQVQRJQ0</th>\n",
       "      <td>KOJIS' CLAN</td>\n",
       "      <td>closed</td>\n",
       "      <td>STRATEGY IS MUST...RESPECT THE OTHERS...FORGIV...</td>\n",
       "      <td>International</td>\n",
       "      <td>True</td>\n",
       "      <td>https://api-assets.clashofclans.com/badges/200...</td>\n",
       "      <td>6</td>\n",
       "      <td>6887</td>\n",
       "      <td>5213</td>\n",
       "      <td>5213</td>\n",
       "      <td>...</td>\n",
       "      <td>Unranked</td>\n",
       "      <td>11</td>\n",
       "      <td>1000</td>\n",
       "      <td>1000</td>\n",
       "      <td>1</td>\n",
       "      <td>1</td>\n",
       "      <td>0</td>\n",
       "      <td>Unranked</td>\n",
       "      <td>83</td>\n",
       "      <td>1254</td>\n",
       "    </tr>\n",
       "    <tr>\n",
       "      <th>#2QC9Y0CQU</th>\n",
       "      <td>uye</td>\n",
       "      <td>open</td>\n",
       "      <td>NaN</td>\n",
       "      <td>Indonesia</td>\n",
       "      <td>True</td>\n",
       "      <td>https://api-assets.clashofclans.com/badges/200...</td>\n",
       "      <td>1</td>\n",
       "      <td>876</td>\n",
       "      <td>1019</td>\n",
       "      <td>1019</td>\n",
       "      <td>...</td>\n",
       "      <td>Unranked</td>\n",
       "      <td>1</td>\n",
       "      <td>0</td>\n",
       "      <td>0</td>\n",
       "      <td>1</td>\n",
       "      <td>0</td>\n",
       "      <td>0</td>\n",
       "      <td>Unranked</td>\n",
       "      <td>90</td>\n",
       "      <td>1752</td>\n",
       "    </tr>\n",
       "    <tr>\n",
       "      <th>#202CJRP2U</th>\n",
       "      <td>Uprising rivals</td>\n",
       "      <td>open</td>\n",
       "      <td>💥official uprising rivals clan💥we bring 10% lu...</td>\n",
       "      <td>Indonesia</td>\n",
       "      <td>True</td>\n",
       "      <td>https://api-assets.clashofclans.com/badges/200...</td>\n",
       "      <td>1</td>\n",
       "      <td>732</td>\n",
       "      <td>670</td>\n",
       "      <td>670</td>\n",
       "      <td>...</td>\n",
       "      <td>Unranked</td>\n",
       "      <td>2</td>\n",
       "      <td>0</td>\n",
       "      <td>0</td>\n",
       "      <td>1</td>\n",
       "      <td>0</td>\n",
       "      <td>0</td>\n",
       "      <td>Unranked</td>\n",
       "      <td>30</td>\n",
       "      <td>733</td>\n",
       "    </tr>\n",
       "    <tr>\n",
       "      <th>#2Y89RRGLY</th>\n",
       "      <td>2inchersonly</td>\n",
       "      <td>open</td>\n",
       "      <td>Whom is not packing the meat, Shall be packing...</td>\n",
       "      <td>International</td>\n",
       "      <td>True</td>\n",
       "      <td>https://api-assets.clashofclans.com/badges/200...</td>\n",
       "      <td>2</td>\n",
       "      <td>1156</td>\n",
       "      <td>457</td>\n",
       "      <td>457</td>\n",
       "      <td>...</td>\n",
       "      <td>Bronze League I</td>\n",
       "      <td>2</td>\n",
       "      <td>0</td>\n",
       "      <td>0</td>\n",
       "      <td>1</td>\n",
       "      <td>1</td>\n",
       "      <td>0</td>\n",
       "      <td>Unranked</td>\n",
       "      <td>61</td>\n",
       "      <td>1156</td>\n",
       "    </tr>\n",
       "    <tr>\n",
       "      <th>#99PU9QPY</th>\n",
       "      <td>aymil</td>\n",
       "      <td>open</td>\n",
       "      <td>regla1=no empezar la guerra sin mi permiso reg...</td>\n",
       "      <td>International</td>\n",
       "      <td>True</td>\n",
       "      <td>https://api-assets.clashofclans.com/badges/200...</td>\n",
       "      <td>2</td>\n",
       "      <td>674</td>\n",
       "      <td>399</td>\n",
       "      <td>399</td>\n",
       "      <td>...</td>\n",
       "      <td>Unranked</td>\n",
       "      <td>2</td>\n",
       "      <td>0</td>\n",
       "      <td>0</td>\n",
       "      <td>1</td>\n",
       "      <td>0</td>\n",
       "      <td>0</td>\n",
       "      <td>Unranked</td>\n",
       "      <td>23</td>\n",
       "      <td>674</td>\n",
       "    </tr>\n",
       "  </tbody>\n",
       "</table>\n",
       "<p>5 rows × 26 columns</p>\n",
       "</div>"
      ],
      "text/plain": [
       "                  clan_name clan_type  \\\n",
       "clan_tag                                \n",
       "#UQVQRJQ0       KOJIS' CLAN    closed   \n",
       "#2QC9Y0CQU              uye      open   \n",
       "#202CJRP2U  Uprising rivals      open   \n",
       "#2Y89RRGLY     2inchersonly      open   \n",
       "#99PU9QPY             aymil      open   \n",
       "\n",
       "                                             clan_description  clan_location  \\\n",
       "clan_tag                                                                       \n",
       "#UQVQRJQ0   STRATEGY IS MUST...RESPECT THE OTHERS...FORGIV...  International   \n",
       "#2QC9Y0CQU                                                NaN      Indonesia   \n",
       "#202CJRP2U  💥official uprising rivals clan💥we bring 10% lu...      Indonesia   \n",
       "#2Y89RRGLY  Whom is not packing the meat, Shall be packing...  International   \n",
       "#99PU9QPY   regla1=no empezar la guerra sin mi permiso reg...  International   \n",
       "\n",
       "            isFamilyFriendly  \\\n",
       "clan_tag                       \n",
       "#UQVQRJQ0               True   \n",
       "#2QC9Y0CQU              True   \n",
       "#202CJRP2U              True   \n",
       "#2Y89RRGLY              True   \n",
       "#99PU9QPY               True   \n",
       "\n",
       "                                               clan_badge_url  clan_level  \\\n",
       "clan_tag                                                                    \n",
       "#UQVQRJQ0   https://api-assets.clashofclans.com/badges/200...           6   \n",
       "#2QC9Y0CQU  https://api-assets.clashofclans.com/badges/200...           1   \n",
       "#202CJRP2U  https://api-assets.clashofclans.com/badges/200...           1   \n",
       "#2Y89RRGLY  https://api-assets.clashofclans.com/badges/200...           2   \n",
       "#99PU9QPY   https://api-assets.clashofclans.com/badges/200...           2   \n",
       "\n",
       "            clan_points  clan_builder_base_points  clan_versus_points  ...  \\\n",
       "clan_tag                                                               ...   \n",
       "#UQVQRJQ0          6887                      5213                5213  ...   \n",
       "#2QC9Y0CQU          876                      1019                1019  ...   \n",
       "#202CJRP2U          732                       670                 670  ...   \n",
       "#2Y89RRGLY         1156                       457                 457  ...   \n",
       "#99PU9QPY           674                       399                 399  ...   \n",
       "\n",
       "            clan_war_league num_members  required_builder_base_trophies  \\\n",
       "clan_tag                                                                  \n",
       "#UQVQRJQ0          Unranked          11                            1000   \n",
       "#2QC9Y0CQU         Unranked           1                               0   \n",
       "#202CJRP2U         Unranked           2                               0   \n",
       "#2Y89RRGLY  Bronze League I           2                               0   \n",
       "#99PU9QPY          Unranked           2                               0   \n",
       "\n",
       "            required_versus_trophies  required_townhall_level  \\\n",
       "clan_tag                                                        \n",
       "#UQVQRJQ0                       1000                        1   \n",
       "#2QC9Y0CQU                         0                        1   \n",
       "#202CJRP2U                         0                        1   \n",
       "#2Y89RRGLY                         0                        1   \n",
       "#99PU9QPY                          0                        1   \n",
       "\n",
       "            clan_capital_hall_level clan_capital_points  capital_league  \\\n",
       "clan_tag                                                                  \n",
       "#UQVQRJQ0                         1                   0        Unranked   \n",
       "#2QC9Y0CQU                        0                   0        Unranked   \n",
       "#202CJRP2U                        0                   0        Unranked   \n",
       "#2Y89RRGLY                        1                   0        Unranked   \n",
       "#99PU9QPY                         0                   0        Unranked   \n",
       "\n",
       "            mean_member_level  mean_member_trophies  \n",
       "clan_tag                                             \n",
       "#UQVQRJQ0                  83                  1254  \n",
       "#2QC9Y0CQU                 90                  1752  \n",
       "#202CJRP2U                 30                   733  \n",
       "#2Y89RRGLY                 61                  1156  \n",
       "#99PU9QPY                  23                   674  \n",
       "\n",
       "[5 rows x 26 columns]"
      ]
     },
     "execution_count": 4,
     "metadata": {},
     "output_type": "execute_result"
    }
   ],
   "source": [
    "df.head()"
   ]
  },
  {
   "cell_type": "code",
   "execution_count": 5,
   "id": "b9661e43",
   "metadata": {
    "execution": {
     "iopub.execute_input": "2023-10-13T15:37:01.247467Z",
     "iopub.status.busy": "2023-10-13T15:37:01.247092Z",
     "iopub.status.idle": "2023-10-13T15:37:01.272079Z",
     "shell.execute_reply": "2023-10-13T15:37:01.270539Z"
    },
    "papermill": {
     "duration": 0.035071,
     "end_time": "2023-10-13T15:37:01.274444",
     "exception": false,
     "start_time": "2023-10-13T15:37:01.239373",
     "status": "completed"
    },
    "tags": []
   },
   "outputs": [
    {
     "name": "stdout",
     "output_type": "stream",
     "text": [
      "<class 'pandas.core.frame.DataFrame'>\n",
      "Index: 3559743 entries, #UQVQRJQ0 to #2YRU29GGL\n",
      "Data columns (total 26 columns):\n",
      " #   Column                          Dtype \n",
      "---  ------                          ----- \n",
      " 0   clan_name                       object\n",
      " 1   clan_type                       object\n",
      " 2   clan_description                object\n",
      " 3   clan_location                   object\n",
      " 4   isFamilyFriendly                bool  \n",
      " 5   clan_badge_url                  object\n",
      " 6   clan_level                      int64 \n",
      " 7   clan_points                     int64 \n",
      " 8   clan_builder_base_points        int64 \n",
      " 9   clan_versus_points              int64 \n",
      " 10  required_trophies               int64 \n",
      " 11  war_frequency                   object\n",
      " 12  war_win_streak                  int64 \n",
      " 13  war_wins                        int64 \n",
      " 14  war_ties                        int64 \n",
      " 15  war_losses                      int64 \n",
      " 16  clan_war_league                 object\n",
      " 17  num_members                     int64 \n",
      " 18  required_builder_base_trophies  int64 \n",
      " 19  required_versus_trophies        int64 \n",
      " 20  required_townhall_level         int64 \n",
      " 21  clan_capital_hall_level         int64 \n",
      " 22  clan_capital_points             int64 \n",
      " 23  capital_league                  object\n",
      " 24  mean_member_level               int64 \n",
      " 25  mean_member_trophies            int64 \n",
      "dtypes: bool(1), int64(17), object(8)\n",
      "memory usage: 709.5+ MB\n"
     ]
    }
   ],
   "source": [
    "df.info()"
   ]
  },
  {
   "cell_type": "markdown",
   "id": "f9be1a58",
   "metadata": {
    "papermill": {
     "duration": 0.0062,
     "end_time": "2023-10-13T15:37:01.287392",
     "exception": false,
     "start_time": "2023-10-13T15:37:01.281192",
     "status": "completed"
    },
    "tags": []
   },
   "source": [
    "#### I like to use visualizations, pretty much for everything :) Let's see how many null data we have.\n"
   ]
  },
  {
   "cell_type": "markdown",
   "id": "36d58662",
   "metadata": {
    "papermill": {
     "duration": 0.008382,
     "end_time": "2023-10-13T15:39:05.240561",
     "exception": false,
     "start_time": "2023-10-13T15:39:05.232179",
     "status": "completed"
    },
    "tags": []
   },
   "source": [
    "## Let's explore one of those columns with empty cells, \"clan_location\".\n",
    "## I want to see how many empty cells we have, after that explore its distribution.\n"
   ]
  },
  {
   "cell_type": "code",
   "execution_count": 6,
   "id": "d02f7243",
   "metadata": {
    "execution": {
     "iopub.execute_input": "2023-10-13T15:39:05.259144Z",
     "iopub.status.busy": "2023-10-13T15:39:05.258776Z",
     "iopub.status.idle": "2023-10-13T15:39:05.560512Z",
     "shell.execute_reply": "2023-10-13T15:39:05.558726Z"
    },
    "papermill": {
     "duration": 0.315464,
     "end_time": "2023-10-13T15:39:05.564756",
     "exception": false,
     "start_time": "2023-10-13T15:39:05.249292",
     "status": "completed"
    },
    "tags": []
   },
   "outputs": [],
   "source": [
    "missing_count = df['clan_location'].isnull().sum()\n",
    "\n",
    "non_missing_count = len(df) - missing_count\n",
    "\n",
    "labels = ['Missing Data', 'Non-Missing Data']\n",
    "sizes = [missing_count, non_missing_count]"
   ]
  },
  {
   "cell_type": "code",
   "execution_count": 7,
   "id": "552e949a",
   "metadata": {
    "execution": {
     "iopub.execute_input": "2023-10-13T15:39:05.613379Z",
     "iopub.status.busy": "2023-10-13T15:39:05.612668Z",
     "iopub.status.idle": "2023-10-13T15:39:06.053260Z",
     "shell.execute_reply": "2023-10-13T15:39:06.052023Z"
    },
    "papermill": {
     "duration": 0.465863,
     "end_time": "2023-10-13T15:39:06.055636",
     "exception": false,
     "start_time": "2023-10-13T15:39:05.589773",
     "status": "completed"
    },
    "tags": []
   },
   "outputs": [
    {
     "data": {
      "text/plain": [
       "(array(['International', 'Indonesia', 'Pakistan', nan, 'Türkiye',\n",
       "        'Bahamas', 'Chile', 'Brazil', 'Philippines', 'Italy', 'Canada',\n",
       "        'Mexico', 'Malaysia', 'India', 'Afghanistan', 'United States',\n",
       "        'Iran', 'Germany', 'Uruguay', 'American Samoa', 'Thailand',\n",
       "        'Vietnam', 'Greenland', 'Latvia', 'South Africa', 'Albania',\n",
       "        'Japan', 'Hungary', 'Bangladesh', 'Norway', 'France',\n",
       "        'Myanmar (Burma)', 'Kuwait', 'Australia', 'Bosnia and Herzegovina',\n",
       "        'Ecuador', 'Kazakhstan', 'North Korea', 'Saudi Arabia',\n",
       "        'New Zealand', 'Jamaica', 'China', 'Hong Kong', 'Panama',\n",
       "        'United Kingdom', 'Barbados', 'Netherlands', 'Belgium', 'Russia',\n",
       "        'Fiji', 'Uzbekistan', 'Swaziland', 'Dominican Republic', 'Iraq',\n",
       "        'Portugal', 'Egypt', 'Israel', 'Western Sahara', 'Ireland',\n",
       "        'Côte d’Ivoire', 'Heard & McDonald Islands', 'Åland Islands',\n",
       "        'Bolivia', 'Samoa', 'Honduras', 'French Polynesia', 'Azerbaijan',\n",
       "        'Andorra', 'Algeria', 'Anguilla', 'Central African Republic',\n",
       "        'Syria', 'El Salvador', 'Poland', 'Ukraine', 'Cambodia', 'Chad',\n",
       "        'Costa Rica', 'Sri Lanka', 'Zambia', 'Sweden', 'Czech Republic',\n",
       "        'Lesotho', 'Peru', 'Argentina', 'Nepal', 'Denmark',\n",
       "        'Congo (Republic)', 'Belarus', 'Austria', 'Antarctica', 'Angola',\n",
       "        'Turkmenistan', 'Slovakia', 'Spain', 'Cuba', 'Christmas Island',\n",
       "        'Wallis and Futuna', 'Guadeloupe', 'Guatemala', 'Singapore',\n",
       "        'Micronesia', 'Romania', 'Niger', 'Northern Mariana Islands',\n",
       "        'Jordan', 'Paraguay', 'Colombia', 'Venezuela', 'Croatia', 'Yemen',\n",
       "        'South Korea', 'Benin', 'Jersey', 'Burkina Faso', 'Diego Garcia',\n",
       "        'Switzerland', 'Georgia', 'U.S. Virgin Islands', 'Bahrain',\n",
       "        'British Indian Ocean Territory', 'Greece', 'Comoros', 'Lebanon',\n",
       "        'Morocco', 'Iceland', 'Bermuda', 'Cook Islands', 'Zimbabwe',\n",
       "        'Nigeria', 'Palestine', 'Canary Islands', 'Marshall Islands',\n",
       "        'Finland', 'Tajikistan', 'Belize', 'Brunei', 'Antigua and Barbuda',\n",
       "        'Togo', 'Slovenia', 'Aruba', 'Sudan', 'Guam', 'Kyrgyzstan',\n",
       "        'Taiwan', 'Vatican City', 'Nicaragua', 'Luxembourg', 'Kiribati',\n",
       "        'Laos', 'Djibouti', 'Oman', 'Bhutan', 'Puerto Rico', 'Serbia',\n",
       "        'Moldova', 'Armenia', 'Suriname', 'Mali', 'Libya', 'Madagascar',\n",
       "        'Bouvet Island', 'Guyana', 'Isle of Man', 'Somalia',\n",
       "        'Tristan da Cunha', 'North Macedonia', 'Mongolia', 'Réunion',\n",
       "        'United Arab Emirates', 'Ethiopia', 'Equatorial Guinea',\n",
       "        'Caribbean Netherlands', 'Qatar', 'Cyprus', 'Vanuatu', 'Botswana',\n",
       "        'Kosovo', 'Sint Maarten', 'Cocos (Keeling) Islands', 'Bulgaria',\n",
       "        'Namibia', 'Trinidad and Tobago', 'Ghana', 'Tunisia',\n",
       "        'U.S. Outlying Islands', 'Nauru', 'Haiti', 'Falkland Islands',\n",
       "        'Palau', 'Martinique', 'Saint Helena', 'Lithuania', 'Estonia',\n",
       "        'Malta', 'Ascension Island', 'Faroe Islands',\n",
       "        'St. Vincent & Grenadines', 'Macau', 'Mozambique',\n",
       "        'British Virgin Islands', 'Grenada', 'Curaçao', 'Saint Martin',\n",
       "        'Liberia', 'New Caledonia', 'Kenya', 'Saint Pierre and Miquelon',\n",
       "        'Liechtenstein', 'Mauritius', 'Eritrea', 'Maldives', 'Cape Verde',\n",
       "        'Guernsey', 'Tuvalu', 'Ceuta and Melilla', 'Timor-Leste',\n",
       "        'Cameroon', 'Gabon', 'French Guiana', 'Congo (DRC)', 'Montenegro',\n",
       "        'Uganda', 'Mayotte', 'Rwanda', 'French Southern Territories',\n",
       "        'Papua New Guinea', 'Gibraltar', 'Malawi', 'Cayman Islands',\n",
       "        'Montserrat', 'Niue', 'South Sudan', 'São Tomé and Príncipe',\n",
       "        'Senegal', 'Burundi', 'Saint Lucia', 'Saint Kitts and Nevis',\n",
       "        'Tonga', 'Dominica', 'Mauritania', 'Monaco', 'Seychelles',\n",
       "        'Pitcairn Islands', 'Gambia', 'Sierra Leone', 'Norfolk Island',\n",
       "        'Turks and Caicos Islands', 'Guinea-Bissau', 'Tokelau', 'Tanzania',\n",
       "        'Guinea', 'San Marino', 'Svalbard and Jan Mayen',\n",
       "        'Saint Barthélemy', 'Solomon Islands'], dtype=object),\n",
       " International       504866\n",
       " Indonesia           242039\n",
       " United States       147021\n",
       " Philippines         102493\n",
       " India                96483\n",
       "                      ...  \n",
       " Tokelau                 59\n",
       " Saint Barthélemy        58\n",
       " Saint Helena            56\n",
       " Sierra Leone            50\n",
       " Liberia                 47\n",
       " Name: clan_location, Length: 255, dtype: int64)"
      ]
     },
     "execution_count": 7,
     "metadata": {},
     "output_type": "execute_result"
    }
   ],
   "source": [
    "df['clan_location'].unique(), df['clan_location'].value_counts()"
   ]
  },
  {
   "cell_type": "code",
   "execution_count": 8,
   "id": "aea711e1",
   "metadata": {
    "execution": {
     "iopub.execute_input": "2023-10-13T15:39:06.075902Z",
     "iopub.status.busy": "2023-10-13T15:39:06.075478Z",
     "iopub.status.idle": "2023-10-13T15:39:06.292866Z",
     "shell.execute_reply": "2023-10-13T15:39:06.291679Z"
    },
    "papermill": {
     "duration": 0.230175,
     "end_time": "2023-10-13T15:39:06.295012",
     "exception": false,
     "start_time": "2023-10-13T15:39:06.064837",
     "status": "completed"
    },
    "tags": []
   },
   "outputs": [
    {
     "data": {
      "text/plain": [
       "68730"
      ]
     },
     "execution_count": 8,
     "metadata": {},
     "output_type": "execute_result"
    }
   ],
   "source": [
    "count = (df['clan_location'] == 'Türkiye').sum()\n",
    "count"
   ]
  },
  {
   "cell_type": "markdown",
   "id": "95c1d082",
   "metadata": {
    "papermill": {
     "duration": 0.009887,
     "end_time": "2023-10-13T15:39:11.515288",
     "exception": false,
     "start_time": "2023-10-13T15:39:11.505401",
     "status": "completed"
    },
    "tags": []
   },
   "source": [
    "## This was a simple exploration for a column. Let's dive deep into remaining of the data."
   ]
  },
  {
   "cell_type": "markdown",
   "id": "3e0f9a82",
   "metadata": {
    "papermill": {
     "duration": 0.009597,
     "end_time": "2023-10-13T15:39:11.534978",
     "exception": false,
     "start_time": "2023-10-13T15:39:11.525381",
     "status": "completed"
    },
    "tags": []
   },
   "source": [
    "### Is Family Friendly? Let's find out."
   ]
  },
  {
   "cell_type": "markdown",
   "id": "fa78afb1",
   "metadata": {
    "papermill": {
     "duration": 0.010387,
     "end_time": "2023-10-13T15:39:12.270165",
     "exception": false,
     "start_time": "2023-10-13T15:39:12.259778",
     "status": "completed"
    },
    "tags": []
   },
   "source": [
    "### When we look into the clan_level column, we see that most clans are just level 1 and the frequency decreases sharply. So even with the bins, visualization is not very pleasant, but I'll keep it either way :)"
   ]
  },
  {
   "cell_type": "code",
   "execution_count": 9,
   "id": "5d4aef1c",
   "metadata": {
    "execution": {
     "iopub.execute_input": "2023-10-13T15:39:12.294005Z",
     "iopub.status.busy": "2023-10-13T15:39:12.293151Z",
     "iopub.status.idle": "2023-10-13T15:39:12.330747Z",
     "shell.execute_reply": "2023-10-13T15:39:12.329597Z"
    },
    "papermill": {
     "duration": 0.052259,
     "end_time": "2023-10-13T15:39:12.333197",
     "exception": false,
     "start_time": "2023-10-13T15:39:12.280938",
     "status": "completed"
    },
    "tags": []
   },
   "outputs": [
    {
     "data": {
      "text/plain": [
       "1     2452736\n",
       "2      371010\n",
       "3      191613\n",
       "4      122426\n",
       "5       83669\n",
       "6       62030\n",
       "7       47044\n",
       "8       36859\n",
       "9       32036\n",
       "10      24932\n",
       "11      19981\n",
       "12      15919\n",
       "14      14728\n",
       "13      12963\n",
       "15      11791\n",
       "16       9317\n",
       "17       8247\n",
       "19       7421\n",
       "18       6851\n",
       "20       6067\n",
       "21       5276\n",
       "22       4427\n",
       "23       3528\n",
       "24       3067\n",
       "25       2295\n",
       "26       1463\n",
       "27        906\n",
       "28        524\n",
       "29        298\n",
       "30        160\n",
       "31         75\n",
       "32         39\n",
       "33         29\n",
       "34         13\n",
       "35          2\n",
       "36          1\n",
       "Name: clan_level, dtype: int64"
      ]
     },
     "execution_count": 9,
     "metadata": {},
     "output_type": "execute_result"
    }
   ],
   "source": [
    "df['clan_level'].value_counts()"
   ]
  },
  {
   "cell_type": "code",
   "execution_count": 10,
   "id": "216309cf",
   "metadata": {
    "execution": {
     "iopub.execute_input": "2023-10-13T15:39:12.357418Z",
     "iopub.status.busy": "2023-10-13T15:39:12.356977Z",
     "iopub.status.idle": "2023-10-13T15:39:12.925825Z",
     "shell.execute_reply": "2023-10-13T15:39:12.924723Z"
    },
    "papermill": {
     "duration": 0.58379,
     "end_time": "2023-10-13T15:39:12.928091",
     "exception": false,
     "start_time": "2023-10-13T15:39:12.344301",
     "status": "completed"
    },
    "tags": []
   },
   "outputs": [],
   "source": [
    "bins = [0, 6, 12, 18, 24, 30, 36]  # Group levels 1-6, 7-12, 13-18, and so on\n",
    "\n",
    "# Group the clan levels and create a new column to represent the groups\n",
    "df['clan_level_group'] = pd.cut(df['clan_level'], bins=bins, labels=['1-6', '7-12', '13-18', '19-24', '25-30', '31-36'])"
   ]
  },
  {
   "cell_type": "markdown",
   "id": "cf2ee530",
   "metadata": {
    "papermill": {
     "duration": 0.011364,
     "end_time": "2023-10-13T15:39:12.951294",
     "exception": false,
     "start_time": "2023-10-13T15:39:12.939930",
     "status": "completed"
    },
    "tags": []
   },
   "source": [
    "#### Let's show something obvious:"
   ]
  },
  {
   "cell_type": "markdown",
   "id": "69014931",
   "metadata": {
    "papermill": {
     "duration": 0.013734,
     "end_time": "2023-10-13T15:49:49.079254",
     "exception": false,
     "start_time": "2023-10-13T15:49:49.065520",
     "status": "completed"
    },
    "tags": []
   },
   "source": [
    "### This lmplot took some time to process, most probably because of the size of the data. "
   ]
  },
  {
   "cell_type": "markdown",
   "id": "09273e54",
   "metadata": {
    "papermill": {
     "duration": 0.013028,
     "end_time": "2023-10-13T15:49:49.107101",
     "exception": false,
     "start_time": "2023-10-13T15:49:49.094073",
     "status": "completed"
    },
    "tags": []
   },
   "source": [
    "## Distribution of Clan Leagues"
   ]
  },
  {
   "cell_type": "code",
   "execution_count": 11,
   "id": "db4ba75a",
   "metadata": {
    "execution": {
     "iopub.execute_input": "2023-10-13T15:49:49.136588Z",
     "iopub.status.busy": "2023-10-13T15:49:49.136154Z",
     "iopub.status.idle": "2023-10-13T15:49:49.436569Z",
     "shell.execute_reply": "2023-10-13T15:49:49.435069Z"
    },
    "papermill": {
     "duration": 0.319095,
     "end_time": "2023-10-13T15:49:49.439323",
     "exception": false,
     "start_time": "2023-10-13T15:49:49.120228",
     "status": "completed"
    },
    "tags": []
   },
   "outputs": [
    {
     "data": {
      "text/plain": [
       "Unranked               3386262\n",
       "Bronze League III        23486\n",
       "Bronze League II         20708\n",
       "Bronze League I          16887\n",
       "Silver League III        14662\n",
       "Silver League II         13419\n",
       "Silver League I          12484\n",
       "Gold League III          11442\n",
       "Gold League II           10251\n",
       "Gold League I             9006\n",
       "Crystal League III        7919\n",
       "Crystal League II         6753\n",
       "Crystal League I          5617\n",
       "Master League III         4594\n",
       "Master League II          3675\n",
       "Champion League III       3480\n",
       "Master League I           2932\n",
       "Champion League II        2342\n",
       "Champion League I         1582\n",
       "Titan League III          1018\n",
       "Titan League II            605\n",
       "Titan League I             353\n",
       "Legend League              266\n",
       "Name: capital_league, dtype: int64"
      ]
     },
     "execution_count": 11,
     "metadata": {},
     "output_type": "execute_result"
    }
   ],
   "source": [
    "df['capital_league'].value_counts()"
   ]
  },
  {
   "cell_type": "markdown",
   "id": "d6fdc2db",
   "metadata": {
    "papermill": {
     "duration": 0.014797,
     "end_time": "2023-10-13T15:49:51.818403",
     "exception": false,
     "start_time": "2023-10-13T15:49:51.803606",
     "status": "completed"
    },
    "tags": []
   },
   "source": [
    "### So many unranked, just exclude it for the sake of the graph."
   ]
  },
  {
   "cell_type": "code",
   "execution_count": 12,
   "id": "dc4b4e0f",
   "metadata": {
    "execution": {
     "iopub.execute_input": "2023-10-13T15:49:51.851000Z",
     "iopub.status.busy": "2023-10-13T15:49:51.850323Z",
     "iopub.status.idle": "2023-10-13T15:49:52.954818Z",
     "shell.execute_reply": "2023-10-13T15:49:52.953503Z"
    },
    "papermill": {
     "duration": 1.124177,
     "end_time": "2023-10-13T15:49:52.957736",
     "exception": false,
     "start_time": "2023-10-13T15:49:51.833559",
     "status": "completed"
    },
    "tags": []
   },
   "outputs": [],
   "source": [
    "df_ranked = df[df['capital_league'] != 'Unranked']"
   ]
  },
  {
   "cell_type": "markdown",
   "id": "4a6aaba5",
   "metadata": {
    "papermill": {
     "duration": 0.016918,
     "end_time": "2023-10-13T15:49:52.993342",
     "exception": false,
     "start_time": "2023-10-13T15:49:52.976424",
     "status": "completed"
    },
    "tags": []
   },
   "source": [
    "## Correlation Map"
   ]
  },
  {
   "cell_type": "code",
   "execution_count": 13,
   "id": "63813af7",
   "metadata": {
    "execution": {
     "iopub.execute_input": "2023-10-13T15:49:53.030413Z",
     "iopub.status.busy": "2023-10-13T15:49:53.029994Z",
     "iopub.status.idle": "2023-10-13T15:49:53.042182Z",
     "shell.execute_reply": "2023-10-13T15:49:53.040928Z"
    },
    "papermill": {
     "duration": 0.03396,
     "end_time": "2023-10-13T15:49:53.044616",
     "exception": false,
     "start_time": "2023-10-13T15:49:53.010656",
     "status": "completed"
    },
    "tags": []
   },
   "outputs": [
    {
     "name": "stdout",
     "output_type": "stream",
     "text": [
      "<class 'pandas.core.frame.DataFrame'>\n",
      "Index: 3559743 entries, #UQVQRJQ0 to #2YRU29GGL\n",
      "Data columns (total 27 columns):\n",
      " #   Column                          Dtype   \n",
      "---  ------                          -----   \n",
      " 0   clan_name                       object  \n",
      " 1   clan_type                       object  \n",
      " 2   clan_description                object  \n",
      " 3   clan_location                   object  \n",
      " 4   isFamilyFriendly                bool    \n",
      " 5   clan_badge_url                  object  \n",
      " 6   clan_level                      int64   \n",
      " 7   clan_points                     int64   \n",
      " 8   clan_builder_base_points        int64   \n",
      " 9   clan_versus_points              int64   \n",
      " 10  required_trophies               int64   \n",
      " 11  war_frequency                   object  \n",
      " 12  war_win_streak                  int64   \n",
      " 13  war_wins                        int64   \n",
      " 14  war_ties                        int64   \n",
      " 15  war_losses                      int64   \n",
      " 16  clan_war_league                 object  \n",
      " 17  num_members                     int64   \n",
      " 18  required_builder_base_trophies  int64   \n",
      " 19  required_versus_trophies        int64   \n",
      " 20  required_townhall_level         int64   \n",
      " 21  clan_capital_hall_level         int64   \n",
      " 22  clan_capital_points             int64   \n",
      " 23  capital_league                  object  \n",
      " 24  mean_member_level               int64   \n",
      " 25  mean_member_trophies            int64   \n",
      " 26  clan_level_group                category\n",
      "dtypes: bool(1), category(1), int64(17), object(8)\n",
      "memory usage: 712.9+ MB\n"
     ]
    }
   ],
   "source": [
    "df.info()"
   ]
  },
  {
   "cell_type": "code",
   "execution_count": 14,
   "id": "81e3bc13",
   "metadata": {
    "execution": {
     "iopub.execute_input": "2023-10-13T15:49:53.081189Z",
     "iopub.status.busy": "2023-10-13T15:49:53.080184Z",
     "iopub.status.idle": "2023-10-13T15:49:58.460539Z",
     "shell.execute_reply": "2023-10-13T15:49:58.459401Z"
    },
    "papermill": {
     "duration": 5.405409,
     "end_time": "2023-10-13T15:49:58.467251",
     "exception": false,
     "start_time": "2023-10-13T15:49:53.061842",
     "status": "completed"
    },
    "tags": []
   },
   "outputs": [],
   "source": [
    "selected_columns = ['clan_level', 'clan_points', 'clan_builder_base_points', 'clan_versus_points',\n",
    "                    'required_trophies', 'war_win_streak', 'war_wins', 'war_ties', 'war_losses',\n",
    "                    'num_members', 'required_builder_base_trophies','required_versus_trophies', \n",
    "                    'required_townhall_level', 'clan_capital_hall_level','clan_capital_points', \n",
    "                    'mean_member_level', 'mean_member_trophies',\n",
    "                    ]\n",
    "\n",
    "correlation_matrix = df[selected_columns].corr()"
   ]
  }
 ],
 "metadata": {
  "kernelspec": {
   "display_name": "Python 3 (ipykernel)",
   "language": "python",
   "name": "python3"
  },
  "language_info": {
   "codemirror_mode": {
    "name": "ipython",
    "version": 3
   },
   "file_extension": ".py",
   "mimetype": "text/x-python",
   "name": "python",
   "nbconvert_exporter": "python",
   "pygments_lexer": "ipython3",
   "version": "3.10.13"
  },
  "papermill": {
   "default_parameters": {},
   "duration": 830.072997,
   "end_time": "2023-10-13T15:49:59.935053",
   "environment_variables": {},
   "exception": null,
   "input_path": "__notebook__.ipynb",
   "output_path": "__notebook__.ipynb",
   "parameters": {},
   "start_time": "2023-10-13T15:36:09.862056",
   "version": "2.4.0"
  }
 },
 "nbformat": 4,
 "nbformat_minor": 5
}
