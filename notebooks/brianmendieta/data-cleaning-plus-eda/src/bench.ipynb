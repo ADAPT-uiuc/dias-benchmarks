{
 "cells": [
  {
   "cell_type": "markdown",
   "metadata": {},
   "source": [
    "# Project Information\n",
    "* **Objective:** The main focus of this project is to showcase the ability of data cleaning in order to obtain a suitable dataset for its analysis. Also, The summary statistics and unvariate analysis will be obtained through data exploration.\n",
    "* **Additional Aim:** As an engineer who has switched career paths to data science/analytics I believe that having information about the most demanded skills according to the role can be really useful for the ones who are trying to get into the world of data analytics. Therefore working and summarizing this data to obtain such an indicator is part of my personal objective in this project. \n",
    "* **Dataset:** The choosen dataset will be The 'Data Science job posting on Glassdoor' \n",
    "* **Data Privacy and Availability:** The data is available for its public use along with its license on kaggle.com\n"
   ]
  },
  {
   "cell_type": "markdown",
   "metadata": {},
   "source": [
    "# Data Cleaning Process\n",
    "* **Introduction:** It is crucial to explore and make a detailed check on each column of the data we will be working on, as it needs to be cleaned/processed afterwards. \n",
    "* **Data Issues:** The data has consistency issues in the text formats and types of some data columns. Additionally, it has handled the missing values replacing them with '-1' which in some cases it is no adequate."
   ]
  },
  {
   "cell_type": "code",
   "execution_count": 1,
   "metadata": {
    "tags": []
   },
   "outputs": [],
   "source": [
    "# Import the necessary libraries\n",
    "import pandas as pd\n",
    "import numpy as np\n",
    "from datetime import datetime\n",
    "#import zipfile\n",
    "#import kaggle"
   ]
  },
  {
   "cell_type": "code",
   "execution_count": 2,
   "metadata": {
    "tags": []
   },
   "outputs": [],
   "source": [
    "# Uncomment the import to extract the file from Kaggle with your key\n",
    "#!kaggle datasets download -d rashikrahmanpritom/data-science-job-posting-on-glassdoor"
   ]
  },
  {
   "cell_type": "code",
   "execution_count": 3,
   "metadata": {
    "tags": []
   },
   "outputs": [],
   "source": [
    "# Extract the files from the ZIP file\n",
    "#zip_name = 'data-science-job-posting-on-glassdoor.zip'\n",
    "#with zipfile.ZipFile(zip_name,'r') as file:\n",
    "#    file.extractall()"
   ]
  },
  {
   "cell_type": "code",
   "execution_count": 4,
   "metadata": {
    "tags": []
   },
   "outputs": [],
   "source": [
    "# Read the .csv file as a pandas dataframe\n",
    "job_data = pd.read_csv(\"../input/Uncleaned_DS_jobs.csv\")"
   ]
  },
  {
   "cell_type": "code",
   "execution_count": 5,
   "metadata": {},
   "outputs": [
    {
     "name": "stdout",
     "output_type": "stream",
     "text": [
      "<class 'pandas.core.frame.DataFrame'>\n",
      "RangeIndex: 2233056 entries, 0 to 2233055\n",
      "Data columns (total 15 columns):\n",
      " #   Column             Dtype  \n",
      "---  ------             -----  \n",
      " 0   index              int64  \n",
      " 1   Job Title          object \n",
      " 2   Salary Estimate    object \n",
      " 3   Job Description    object \n",
      " 4   Rating             float64\n",
      " 5   Company Name       object \n",
      " 6   Location           object \n",
      " 7   Headquarters       object \n",
      " 8   Size               object \n",
      " 9   Founded            int64  \n",
      " 10  Type of ownership  object \n",
      " 11  Industry           object \n",
      " 12  Sector             object \n",
      " 13  Revenue            object \n",
      " 14  Competitors        object \n",
      "dtypes: float64(1), int64(2), object(12)\n",
      "memory usage: 255.6+ MB\n"
     ]
    }
   ],
   "source": [
    "df = job_data\n",
    "intended_df_size_in_MB = 256\n",
    "factor = intended_df_size_in_MB*(2**20)/df.memory_usage(index=True).sum()\n",
    "if int(factor) > 0:\n",
    "    df = pd.concat([df]*int(factor), ignore_index=True)\n",
    "else:\n",
    "    rowCount = int(df.shape[0]*factor)\n",
    "    df = df[0:rowCount]\n",
    "job_data = df\n",
    "job_data.info()"
   ]
  },
  {
   "cell_type": "code",
   "execution_count": 6,
   "metadata": {
    "tags": []
   },
   "outputs": [
    {
     "name": "stdout",
     "output_type": "stream",
     "text": [
      "<class 'pandas.core.frame.DataFrame'>\n",
      "RangeIndex: 2233056 entries, 0 to 2233055\n",
      "Data columns (total 15 columns):\n",
      " #   Column             Dtype  \n",
      "---  ------             -----  \n",
      " 0   index              int64  \n",
      " 1   Job Title          object \n",
      " 2   Salary Estimate    object \n",
      " 3   Job Description    object \n",
      " 4   Rating             float64\n",
      " 5   Company Name       object \n",
      " 6   Location           object \n",
      " 7   Headquarters       object \n",
      " 8   Size               object \n",
      " 9   Founded            int64  \n",
      " 10  Type of ownership  object \n",
      " 11  Industry           object \n",
      " 12  Sector             object \n",
      " 13  Revenue            object \n",
      " 14  Competitors        object \n",
      "dtypes: float64(1), int64(2), object(12)\n",
      "memory usage: 255.6+ MB\n"
     ]
    }
   ],
   "source": [
    "# Explore the data\n",
    "job_data.info()"
   ]
  },
  {
   "cell_type": "code",
   "execution_count": 7,
   "metadata": {
    "tags": []
   },
   "outputs": [
    {
     "data": {
      "text/plain": [
       "(2233056, 15)"
      ]
     },
     "execution_count": 7,
     "metadata": {},
     "output_type": "execute_result"
    }
   ],
   "source": [
    "job_data.shape"
   ]
  },
  {
   "cell_type": "code",
   "execution_count": 8,
   "metadata": {
    "tags": []
   },
   "outputs": [
    {
     "data": {
      "text/html": [
       "<div>\n",
       "<style scoped>\n",
       "    .dataframe tbody tr th:only-of-type {\n",
       "        vertical-align: middle;\n",
       "    }\n",
       "\n",
       "    .dataframe tbody tr th {\n",
       "        vertical-align: top;\n",
       "    }\n",
       "\n",
       "    .dataframe thead th {\n",
       "        text-align: right;\n",
       "    }\n",
       "</style>\n",
       "<table border=\"1\" class=\"dataframe\">\n",
       "  <thead>\n",
       "    <tr style=\"text-align: right;\">\n",
       "      <th></th>\n",
       "      <th>index</th>\n",
       "      <th>Job Title</th>\n",
       "      <th>Salary Estimate</th>\n",
       "      <th>Job Description</th>\n",
       "      <th>Rating</th>\n",
       "      <th>Company Name</th>\n",
       "      <th>Location</th>\n",
       "      <th>Headquarters</th>\n",
       "      <th>Size</th>\n",
       "      <th>Founded</th>\n",
       "      <th>Type of ownership</th>\n",
       "      <th>Industry</th>\n",
       "      <th>Sector</th>\n",
       "      <th>Revenue</th>\n",
       "      <th>Competitors</th>\n",
       "    </tr>\n",
       "  </thead>\n",
       "  <tbody>\n",
       "    <tr>\n",
       "      <th>0</th>\n",
       "      <td>0</td>\n",
       "      <td>Sr Data Scientist</td>\n",
       "      <td>$137K-$171K (Glassdoor est.)</td>\n",
       "      <td>Description\\n\\nThe Senior Data Scientist is re...</td>\n",
       "      <td>3.1</td>\n",
       "      <td>Healthfirst\\n3.1</td>\n",
       "      <td>New York, NY</td>\n",
       "      <td>New York, NY</td>\n",
       "      <td>1001 to 5000 employees</td>\n",
       "      <td>1993</td>\n",
       "      <td>Nonprofit Organization</td>\n",
       "      <td>Insurance Carriers</td>\n",
       "      <td>Insurance</td>\n",
       "      <td>Unknown / Non-Applicable</td>\n",
       "      <td>EmblemHealth, UnitedHealth Group, Aetna</td>\n",
       "    </tr>\n",
       "    <tr>\n",
       "      <th>1</th>\n",
       "      <td>1</td>\n",
       "      <td>Data Scientist</td>\n",
       "      <td>$137K-$171K (Glassdoor est.)</td>\n",
       "      <td>Secure our Nation, Ignite your Future\\n\\nJoin ...</td>\n",
       "      <td>4.2</td>\n",
       "      <td>ManTech\\n4.2</td>\n",
       "      <td>Chantilly, VA</td>\n",
       "      <td>Herndon, VA</td>\n",
       "      <td>5001 to 10000 employees</td>\n",
       "      <td>1968</td>\n",
       "      <td>Company - Public</td>\n",
       "      <td>Research &amp; Development</td>\n",
       "      <td>Business Services</td>\n",
       "      <td>$1 to $2 billion (USD)</td>\n",
       "      <td>-1</td>\n",
       "    </tr>\n",
       "    <tr>\n",
       "      <th>2</th>\n",
       "      <td>2</td>\n",
       "      <td>Data Scientist</td>\n",
       "      <td>$137K-$171K (Glassdoor est.)</td>\n",
       "      <td>Overview\\n\\n\\nAnalysis Group is one of the lar...</td>\n",
       "      <td>3.8</td>\n",
       "      <td>Analysis Group\\n3.8</td>\n",
       "      <td>Boston, MA</td>\n",
       "      <td>Boston, MA</td>\n",
       "      <td>1001 to 5000 employees</td>\n",
       "      <td>1981</td>\n",
       "      <td>Private Practice / Firm</td>\n",
       "      <td>Consulting</td>\n",
       "      <td>Business Services</td>\n",
       "      <td>$100 to $500 million (USD)</td>\n",
       "      <td>-1</td>\n",
       "    </tr>\n",
       "    <tr>\n",
       "      <th>3</th>\n",
       "      <td>3</td>\n",
       "      <td>Data Scientist</td>\n",
       "      <td>$137K-$171K (Glassdoor est.)</td>\n",
       "      <td>JOB DESCRIPTION:\\n\\nDo you have a passion for ...</td>\n",
       "      <td>3.5</td>\n",
       "      <td>INFICON\\n3.5</td>\n",
       "      <td>Newton, MA</td>\n",
       "      <td>Bad Ragaz, Switzerland</td>\n",
       "      <td>501 to 1000 employees</td>\n",
       "      <td>2000</td>\n",
       "      <td>Company - Public</td>\n",
       "      <td>Electrical &amp; Electronic Manufacturing</td>\n",
       "      <td>Manufacturing</td>\n",
       "      <td>$100 to $500 million (USD)</td>\n",
       "      <td>MKS Instruments, Pfeiffer Vacuum, Agilent Tech...</td>\n",
       "    </tr>\n",
       "    <tr>\n",
       "      <th>4</th>\n",
       "      <td>4</td>\n",
       "      <td>Data Scientist</td>\n",
       "      <td>$137K-$171K (Glassdoor est.)</td>\n",
       "      <td>Data Scientist\\nAffinity Solutions / Marketing...</td>\n",
       "      <td>2.9</td>\n",
       "      <td>Affinity Solutions\\n2.9</td>\n",
       "      <td>New York, NY</td>\n",
       "      <td>New York, NY</td>\n",
       "      <td>51 to 200 employees</td>\n",
       "      <td>1998</td>\n",
       "      <td>Company - Private</td>\n",
       "      <td>Advertising &amp; Marketing</td>\n",
       "      <td>Business Services</td>\n",
       "      <td>Unknown / Non-Applicable</td>\n",
       "      <td>Commerce Signals, Cardlytics, Yodlee</td>\n",
       "    </tr>\n",
       "  </tbody>\n",
       "</table>\n",
       "</div>"
      ],
      "text/plain": [
       "   index          Job Title               Salary Estimate  \\\n",
       "0      0  Sr Data Scientist  $137K-$171K (Glassdoor est.)   \n",
       "1      1     Data Scientist  $137K-$171K (Glassdoor est.)   \n",
       "2      2     Data Scientist  $137K-$171K (Glassdoor est.)   \n",
       "3      3     Data Scientist  $137K-$171K (Glassdoor est.)   \n",
       "4      4     Data Scientist  $137K-$171K (Glassdoor est.)   \n",
       "\n",
       "                                     Job Description  Rating  \\\n",
       "0  Description\\n\\nThe Senior Data Scientist is re...     3.1   \n",
       "1  Secure our Nation, Ignite your Future\\n\\nJoin ...     4.2   \n",
       "2  Overview\\n\\n\\nAnalysis Group is one of the lar...     3.8   \n",
       "3  JOB DESCRIPTION:\\n\\nDo you have a passion for ...     3.5   \n",
       "4  Data Scientist\\nAffinity Solutions / Marketing...     2.9   \n",
       "\n",
       "              Company Name       Location            Headquarters  \\\n",
       "0         Healthfirst\\n3.1   New York, NY            New York, NY   \n",
       "1             ManTech\\n4.2  Chantilly, VA             Herndon, VA   \n",
       "2      Analysis Group\\n3.8     Boston, MA              Boston, MA   \n",
       "3             INFICON\\n3.5     Newton, MA  Bad Ragaz, Switzerland   \n",
       "4  Affinity Solutions\\n2.9   New York, NY            New York, NY   \n",
       "\n",
       "                      Size  Founded        Type of ownership  \\\n",
       "0   1001 to 5000 employees     1993   Nonprofit Organization   \n",
       "1  5001 to 10000 employees     1968         Company - Public   \n",
       "2   1001 to 5000 employees     1981  Private Practice / Firm   \n",
       "3    501 to 1000 employees     2000         Company - Public   \n",
       "4      51 to 200 employees     1998        Company - Private   \n",
       "\n",
       "                                Industry             Sector  \\\n",
       "0                     Insurance Carriers          Insurance   \n",
       "1                 Research & Development  Business Services   \n",
       "2                             Consulting  Business Services   \n",
       "3  Electrical & Electronic Manufacturing      Manufacturing   \n",
       "4                Advertising & Marketing  Business Services   \n",
       "\n",
       "                      Revenue  \\\n",
       "0    Unknown / Non-Applicable   \n",
       "1      $1 to $2 billion (USD)   \n",
       "2  $100 to $500 million (USD)   \n",
       "3  $100 to $500 million (USD)   \n",
       "4    Unknown / Non-Applicable   \n",
       "\n",
       "                                         Competitors  \n",
       "0            EmblemHealth, UnitedHealth Group, Aetna  \n",
       "1                                                 -1  \n",
       "2                                                 -1  \n",
       "3  MKS Instruments, Pfeiffer Vacuum, Agilent Tech...  \n",
       "4               Commerce Signals, Cardlytics, Yodlee  "
      ]
     },
     "execution_count": 8,
     "metadata": {},
     "output_type": "execute_result"
    }
   ],
   "source": [
    "# Check the information structure\n",
    "job_data.head()"
   ]
  },
  {
   "cell_type": "code",
   "execution_count": 9,
   "metadata": {
    "tags": []
   },
   "outputs": [],
   "source": [
    "# Drop the index column\n",
    "job_data.drop('index',axis=1,inplace=True)"
   ]
  },
  {
   "cell_type": "code",
   "execution_count": 10,
   "metadata": {
    "tags": []
   },
   "outputs": [
    {
     "data": {
      "text/html": [
       "<div>\n",
       "<style scoped>\n",
       "    .dataframe tbody tr th:only-of-type {\n",
       "        vertical-align: middle;\n",
       "    }\n",
       "\n",
       "    .dataframe tbody tr th {\n",
       "        vertical-align: top;\n",
       "    }\n",
       "\n",
       "    .dataframe thead th {\n",
       "        text-align: right;\n",
       "    }\n",
       "</style>\n",
       "<table border=\"1\" class=\"dataframe\">\n",
       "  <thead>\n",
       "    <tr style=\"text-align: right;\">\n",
       "      <th></th>\n",
       "      <th>Job Title</th>\n",
       "      <th>Salary Estimate</th>\n",
       "      <th>Job Description</th>\n",
       "      <th>Rating</th>\n",
       "      <th>Company Name</th>\n",
       "      <th>Location</th>\n",
       "      <th>Headquarters</th>\n",
       "      <th>Size</th>\n",
       "      <th>Founded</th>\n",
       "      <th>Type of ownership</th>\n",
       "      <th>Industry</th>\n",
       "      <th>Sector</th>\n",
       "      <th>Revenue</th>\n",
       "      <th>Competitors</th>\n",
       "    </tr>\n",
       "  </thead>\n",
       "  <tbody>\n",
       "    <tr>\n",
       "      <th>135</th>\n",
       "      <td>Machine Learning Engineer</td>\n",
       "      <td>$90K-$109K (Glassdoor est.)</td>\n",
       "      <td>Role Description\\nTriplebyte screens and evalu...</td>\n",
       "      <td>3.2</td>\n",
       "      <td>Triplebyte\\n3.2</td>\n",
       "      <td>Remote</td>\n",
       "      <td>San Francisco, CA</td>\n",
       "      <td>51 to 200 employees</td>\n",
       "      <td>2015</td>\n",
       "      <td>Company - Private</td>\n",
       "      <td>Computer Hardware &amp; Software</td>\n",
       "      <td>Information Technology</td>\n",
       "      <td>Unknown / Non-Applicable</td>\n",
       "      <td>-1</td>\n",
       "    </tr>\n",
       "    <tr>\n",
       "      <th>136</th>\n",
       "      <td>Senior Data Engineer</td>\n",
       "      <td>$90K-$109K (Glassdoor est.)</td>\n",
       "      <td>Lendio is looking to fill a position for a Sen...</td>\n",
       "      <td>4.9</td>\n",
       "      <td>Lendio\\n4.9</td>\n",
       "      <td>Lehi, UT</td>\n",
       "      <td>Lehi, UT</td>\n",
       "      <td>201 to 500 employees</td>\n",
       "      <td>2011</td>\n",
       "      <td>Company - Private</td>\n",
       "      <td>Lending</td>\n",
       "      <td>Finance</td>\n",
       "      <td>$50 to $100 million (USD)</td>\n",
       "      <td>-1</td>\n",
       "    </tr>\n",
       "    <tr>\n",
       "      <th>358</th>\n",
       "      <td>Data Scientist</td>\n",
       "      <td>$122K-$146K (Glassdoor est.)</td>\n",
       "      <td>Job Overview: The Data Scientist is a key memb...</td>\n",
       "      <td>-1.0</td>\n",
       "      <td>Hatch Data Inc</td>\n",
       "      <td>San Francisco, CA</td>\n",
       "      <td>-1</td>\n",
       "      <td>-1</td>\n",
       "      <td>-1</td>\n",
       "      <td>-1</td>\n",
       "      <td>-1</td>\n",
       "      <td>-1</td>\n",
       "      <td>-1</td>\n",
       "      <td>-1</td>\n",
       "    </tr>\n",
       "    <tr>\n",
       "      <th>359</th>\n",
       "      <td>Data Scientist</td>\n",
       "      <td>$122K-$146K (Glassdoor est.)</td>\n",
       "      <td>Job Overview: The Data Scientist is a key memb...</td>\n",
       "      <td>-1.0</td>\n",
       "      <td>Hatch Data Inc</td>\n",
       "      <td>San Francisco, CA</td>\n",
       "      <td>-1</td>\n",
       "      <td>-1</td>\n",
       "      <td>-1</td>\n",
       "      <td>-1</td>\n",
       "      <td>-1</td>\n",
       "      <td>-1</td>\n",
       "      <td>-1</td>\n",
       "      <td>-1</td>\n",
       "    </tr>\n",
       "    <tr>\n",
       "      <th>360</th>\n",
       "      <td>Data Scientist</td>\n",
       "      <td>$122K-$146K (Glassdoor est.)</td>\n",
       "      <td>Job Overview: The Data Scientist is a key memb...</td>\n",
       "      <td>-1.0</td>\n",
       "      <td>Hatch Data Inc</td>\n",
       "      <td>San Francisco, CA</td>\n",
       "      <td>-1</td>\n",
       "      <td>-1</td>\n",
       "      <td>-1</td>\n",
       "      <td>-1</td>\n",
       "      <td>-1</td>\n",
       "      <td>-1</td>\n",
       "      <td>-1</td>\n",
       "      <td>-1</td>\n",
       "    </tr>\n",
       "    <tr>\n",
       "      <th>...</th>\n",
       "      <td>...</td>\n",
       "      <td>...</td>\n",
       "      <td>...</td>\n",
       "      <td>...</td>\n",
       "      <td>...</td>\n",
       "      <td>...</td>\n",
       "      <td>...</td>\n",
       "      <td>...</td>\n",
       "      <td>...</td>\n",
       "      <td>...</td>\n",
       "      <td>...</td>\n",
       "      <td>...</td>\n",
       "      <td>...</td>\n",
       "      <td>...</td>\n",
       "    </tr>\n",
       "    <tr>\n",
       "      <th>2233051</th>\n",
       "      <td>Data Scientist</td>\n",
       "      <td>$105K-$167K (Glassdoor est.)</td>\n",
       "      <td>Summary\\n\\nWe’re looking for a data scientist ...</td>\n",
       "      <td>3.6</td>\n",
       "      <td>TRANZACT\\n3.6</td>\n",
       "      <td>Fort Lee, NJ</td>\n",
       "      <td>Fort Lee, NJ</td>\n",
       "      <td>1001 to 5000 employees</td>\n",
       "      <td>1989</td>\n",
       "      <td>Company - Private</td>\n",
       "      <td>Advertising &amp; Marketing</td>\n",
       "      <td>Business Services</td>\n",
       "      <td>Unknown / Non-Applicable</td>\n",
       "      <td>-1</td>\n",
       "    </tr>\n",
       "    <tr>\n",
       "      <th>2233052</th>\n",
       "      <td>Data Scientist</td>\n",
       "      <td>$105K-$167K (Glassdoor est.)</td>\n",
       "      <td>Job Description\\nBecome a thought leader withi...</td>\n",
       "      <td>-1.0</td>\n",
       "      <td>JKGT</td>\n",
       "      <td>San Francisco, CA</td>\n",
       "      <td>-1</td>\n",
       "      <td>-1</td>\n",
       "      <td>-1</td>\n",
       "      <td>-1</td>\n",
       "      <td>-1</td>\n",
       "      <td>-1</td>\n",
       "      <td>-1</td>\n",
       "      <td>-1</td>\n",
       "    </tr>\n",
       "    <tr>\n",
       "      <th>2233053</th>\n",
       "      <td>Data Scientist</td>\n",
       "      <td>$105K-$167K (Glassdoor est.)</td>\n",
       "      <td>Join a thriving company that is changing the w...</td>\n",
       "      <td>-1.0</td>\n",
       "      <td>AccessHope</td>\n",
       "      <td>Irwindale, CA</td>\n",
       "      <td>-1</td>\n",
       "      <td>-1</td>\n",
       "      <td>-1</td>\n",
       "      <td>-1</td>\n",
       "      <td>-1</td>\n",
       "      <td>-1</td>\n",
       "      <td>-1</td>\n",
       "      <td>-1</td>\n",
       "    </tr>\n",
       "    <tr>\n",
       "      <th>2233054</th>\n",
       "      <td>Data Scientist</td>\n",
       "      <td>$105K-$167K (Glassdoor est.)</td>\n",
       "      <td>100 Remote Opportunity As an AINLP Data Scient...</td>\n",
       "      <td>5.0</td>\n",
       "      <td>ChaTeck Incorporated\\n5.0</td>\n",
       "      <td>San Francisco, CA</td>\n",
       "      <td>Santa Clara, CA</td>\n",
       "      <td>1 to 50 employees</td>\n",
       "      <td>-1</td>\n",
       "      <td>Company - Private</td>\n",
       "      <td>Advertising &amp; Marketing</td>\n",
       "      <td>Business Services</td>\n",
       "      <td>$1 to $5 million (USD)</td>\n",
       "      <td>-1</td>\n",
       "    </tr>\n",
       "    <tr>\n",
       "      <th>2233055</th>\n",
       "      <td>Data Scientist</td>\n",
       "      <td>$105K-$167K (Glassdoor est.)</td>\n",
       "      <td>Description\\n\\nThe Data Scientist will be part...</td>\n",
       "      <td>2.7</td>\n",
       "      <td>1-800-Flowers\\n2.7</td>\n",
       "      <td>New York, NY</td>\n",
       "      <td>Carle Place, NY</td>\n",
       "      <td>1001 to 5000 employees</td>\n",
       "      <td>1976</td>\n",
       "      <td>Company - Public</td>\n",
       "      <td>Wholesale</td>\n",
       "      <td>Business Services</td>\n",
       "      <td>$1 to $2 billion (USD)</td>\n",
       "      <td>-1</td>\n",
       "    </tr>\n",
       "  </tbody>\n",
       "</table>\n",
       "<p>2232397 rows × 14 columns</p>\n",
       "</div>"
      ],
      "text/plain": [
       "                         Job Title               Salary Estimate  \\\n",
       "135      Machine Learning Engineer   $90K-$109K (Glassdoor est.)   \n",
       "136           Senior Data Engineer   $90K-$109K (Glassdoor est.)   \n",
       "358                 Data Scientist  $122K-$146K (Glassdoor est.)   \n",
       "359                 Data Scientist  $122K-$146K (Glassdoor est.)   \n",
       "360                 Data Scientist  $122K-$146K (Glassdoor est.)   \n",
       "...                            ...                           ...   \n",
       "2233051             Data Scientist  $105K-$167K (Glassdoor est.)   \n",
       "2233052             Data Scientist  $105K-$167K (Glassdoor est.)   \n",
       "2233053             Data Scientist  $105K-$167K (Glassdoor est.)   \n",
       "2233054             Data Scientist  $105K-$167K (Glassdoor est.)   \n",
       "2233055             Data Scientist  $105K-$167K (Glassdoor est.)   \n",
       "\n",
       "                                           Job Description  Rating  \\\n",
       "135      Role Description\\nTriplebyte screens and evalu...     3.2   \n",
       "136      Lendio is looking to fill a position for a Sen...     4.9   \n",
       "358      Job Overview: The Data Scientist is a key memb...    -1.0   \n",
       "359      Job Overview: The Data Scientist is a key memb...    -1.0   \n",
       "360      Job Overview: The Data Scientist is a key memb...    -1.0   \n",
       "...                                                    ...     ...   \n",
       "2233051  Summary\\n\\nWe’re looking for a data scientist ...     3.6   \n",
       "2233052  Job Description\\nBecome a thought leader withi...    -1.0   \n",
       "2233053  Join a thriving company that is changing the w...    -1.0   \n",
       "2233054  100 Remote Opportunity As an AINLP Data Scient...     5.0   \n",
       "2233055  Description\\n\\nThe Data Scientist will be part...     2.7   \n",
       "\n",
       "                      Company Name           Location       Headquarters  \\\n",
       "135                Triplebyte\\n3.2             Remote  San Francisco, CA   \n",
       "136                    Lendio\\n4.9           Lehi, UT           Lehi, UT   \n",
       "358                 Hatch Data Inc  San Francisco, CA                 -1   \n",
       "359                 Hatch Data Inc  San Francisco, CA                 -1   \n",
       "360                 Hatch Data Inc  San Francisco, CA                 -1   \n",
       "...                            ...                ...                ...   \n",
       "2233051              TRANZACT\\n3.6       Fort Lee, NJ       Fort Lee, NJ   \n",
       "2233052                       JKGT  San Francisco, CA                 -1   \n",
       "2233053                 AccessHope      Irwindale, CA                 -1   \n",
       "2233054  ChaTeck Incorporated\\n5.0  San Francisco, CA    Santa Clara, CA   \n",
       "2233055         1-800-Flowers\\n2.7       New York, NY    Carle Place, NY   \n",
       "\n",
       "                           Size  Founded  Type of ownership  \\\n",
       "135         51 to 200 employees     2015  Company - Private   \n",
       "136        201 to 500 employees     2011  Company - Private   \n",
       "358                          -1       -1                 -1   \n",
       "359                          -1       -1                 -1   \n",
       "360                          -1       -1                 -1   \n",
       "...                         ...      ...                ...   \n",
       "2233051  1001 to 5000 employees     1989  Company - Private   \n",
       "2233052                      -1       -1                 -1   \n",
       "2233053                      -1       -1                 -1   \n",
       "2233054       1 to 50 employees       -1  Company - Private   \n",
       "2233055  1001 to 5000 employees     1976   Company - Public   \n",
       "\n",
       "                             Industry                  Sector  \\\n",
       "135      Computer Hardware & Software  Information Technology   \n",
       "136                           Lending                 Finance   \n",
       "358                                -1                      -1   \n",
       "359                                -1                      -1   \n",
       "360                                -1                      -1   \n",
       "...                               ...                     ...   \n",
       "2233051       Advertising & Marketing       Business Services   \n",
       "2233052                            -1                      -1   \n",
       "2233053                            -1                      -1   \n",
       "2233054       Advertising & Marketing       Business Services   \n",
       "2233055                     Wholesale       Business Services   \n",
       "\n",
       "                           Revenue Competitors  \n",
       "135       Unknown / Non-Applicable          -1  \n",
       "136      $50 to $100 million (USD)          -1  \n",
       "358                             -1          -1  \n",
       "359                             -1          -1  \n",
       "360                             -1          -1  \n",
       "...                            ...         ...  \n",
       "2233051   Unknown / Non-Applicable          -1  \n",
       "2233052                         -1          -1  \n",
       "2233053                         -1          -1  \n",
       "2233054     $1 to $5 million (USD)          -1  \n",
       "2233055     $1 to $2 billion (USD)          -1  \n",
       "\n",
       "[2232397 rows x 14 columns]"
      ]
     },
     "execution_count": 10,
     "metadata": {},
     "output_type": "execute_result"
    }
   ],
   "source": [
    "# Check for duplicates\n",
    "job_data[job_data.duplicated()].shape\n",
    "job_data[job_data.duplicated()]"
   ]
  },
  {
   "cell_type": "code",
   "execution_count": 11,
   "metadata": {
    "tags": []
   },
   "outputs": [],
   "source": [
    "# Drop duplicates\n",
    "job_data.drop_duplicates(inplace=True)"
   ]
  },
  {
   "cell_type": "code",
   "execution_count": 12,
   "metadata": {
    "tags": []
   },
   "outputs": [
    {
     "data": {
      "text/plain": [
       "(659, 14)"
      ]
     },
     "execution_count": 12,
     "metadata": {},
     "output_type": "execute_result"
    }
   ],
   "source": [
    "# Check the shape again\n",
    "job_data.shape"
   ]
  },
  {
   "cell_type": "code",
   "execution_count": 13,
   "metadata": {
    "tags": []
   },
   "outputs": [],
   "source": [
    "# Set appropiate column names in the form of lowercase words separated by '_'\n",
    "job_data.rename(columns= lambda header: header.lower().replace(\" \",\"_\"), inplace= True)"
   ]
  },
  {
   "cell_type": "code",
   "execution_count": 14,
   "metadata": {
    "tags": []
   },
   "outputs": [
    {
     "data": {
      "text/plain": [
       "0                             Sr Data Scientist\n",
       "1                                Data Scientist\n",
       "2                                Data Scientist\n",
       "3                                Data Scientist\n",
       "4                                Data Scientist\n",
       "                         ...                   \n",
       "147    Scientist - Biomarker and Flow Cytometry\n",
       "148                              Data Scientist\n",
       "149                           Analytics Manager\n",
       "150                              Data Scientist\n",
       "151                Staff Scientist- Upstream PD\n",
       "Name: job_title, Length: 150, dtype: object"
      ]
     },
     "execution_count": 14,
     "metadata": {},
     "output_type": "execute_result"
    }
   ],
   "source": [
    "# Inspect the Job title column\n",
    "job_data[\"job_title\"][:150]"
   ]
  },
  {
   "cell_type": "markdown",
   "metadata": {},
   "source": [
    "_The first encountered issue with this column is that it has data that clarifies some information related to the description of the role. e.g. skills, abbreviations, etc. This text is irrelevant except in the case it specifies the seniority. e.g. (Sr.) which should be replaced to sr. after that all the parenthesis instances along with its information can be deleted_"
   ]
  },
  {
   "cell_type": "code",
   "execution_count": 15,
   "metadata": {
    "tags": []
   },
   "outputs": [
    {
     "name": "stderr",
     "output_type": "stream",
     "text": [
      "/var/folders/9f/h2dr6r6j21xby0_p48_973200000gn/T/ipykernel_73000/436471043.py:2: FutureWarning: The default value of regex will change from True to False in a future version.\n",
      "  job_data[\"job_title\"]=job_data.loc[:,\"job_title\"].str.replace(\"(Sr.)\",\"sr.\")\n"
     ]
    }
   ],
   "source": [
    "# Make the replacement\n",
    "job_data[\"job_title\"]=job_data.loc[:,\"job_title\"].str.replace(\"(Sr.)\",\"sr.\")"
   ]
  },
  {
   "cell_type": "code",
   "execution_count": 16,
   "metadata": {
    "tags": []
   },
   "outputs": [],
   "source": [
    "# Delete the rest of the instances using a regex\n",
    "job_data[\"job_title\"]=job_data.loc[:,\"job_title\"].str.extract('([^()]+)')"
   ]
  },
  {
   "cell_type": "markdown",
   "metadata": {},
   "source": [
    "_Another issue is that there seems to be special characters in some of the rows. It is important to be careful here since some symbols are useful like '-' or ',' or numbers. Therefore, checking for non-alphanumeric symbols other than the ones previuosly mentioned can be also achieved._"
   ]
  },
  {
   "cell_type": "code",
   "execution_count": 17,
   "metadata": {
    "tags": []
   },
   "outputs": [],
   "source": [
    "#Replace the special characters with an empty value by defining a regex pattern\n",
    "job_data['job_title'] = job_data['job_title'].str.replace(r'[^a-zA-Z0-9-,/\\s]','',regex=True)"
   ]
  },
  {
   "cell_type": "code",
   "execution_count": 18,
   "metadata": {
    "tags": []
   },
   "outputs": [
    {
     "data": {
      "text/plain": [
       "100    $99K-$132K (Glassdoor est.)\n",
       "101    $99K-$132K (Glassdoor est.)\n",
       "102    $99K-$132K (Glassdoor est.)\n",
       "103    $99K-$132K (Glassdoor est.)\n",
       "104    $99K-$132K (Glassdoor est.)\n",
       "                  ...             \n",
       "197     $56K-$97K (Glassdoor est.)\n",
       "198     $56K-$97K (Glassdoor est.)\n",
       "199    $79K-$106K (Glassdoor est.)\n",
       "200    $79K-$106K (Glassdoor est.)\n",
       "201    $79K-$106K (Glassdoor est.)\n",
       "Name: salary_estimate, Length: 100, dtype: object"
      ]
     },
     "execution_count": 18,
     "metadata": {},
     "output_type": "execute_result"
    }
   ],
   "source": [
    "#Inspect the salary estimate column\n",
    "job_data['salary_estimate'][100:200]"
   ]
  },
  {
   "cell_type": "markdown",
   "metadata": {},
   "source": [
    "_This column can be transformed into three columns expressing the min, the max and the avg. salaries for a specific role._"
   ]
  },
  {
   "cell_type": "code",
   "execution_count": 19,
   "metadata": {
    "tags": []
   },
   "outputs": [],
   "source": [
    "# Define a function to extract the salary limits\n",
    "def extract_values(text):\n",
    "    extracted_integer = ''\n",
    "    modified_string = ''\n",
    "    \n",
    "    for i in range(len(text)):\n",
    "        if i+1 < len(text):\n",
    "            if text[i].isdigit():\n",
    "                extracted_integer += text[i]\n",
    "                if not text[i+1].isdigit():\n",
    "                    break\n",
    "        if i == len(text) - 1 and text[i].isdigit():\n",
    "            extracted_integer += text[i]\n",
    "    \n",
    "    if extracted_integer:\n",
    "        modified_string = text[:text.find(extracted_integer)] + text[text.find(extracted_integer) + len(extracted_integer):]\n",
    "        extracted_integer = int(extracted_integer)\n",
    "    \n",
    "    return extracted_integer, modified_string"
   ]
  },
  {
   "cell_type": "code",
   "execution_count": 20,
   "metadata": {
    "tags": []
   },
   "outputs": [],
   "source": [
    "#Obtain the minimum salary in the range\n",
    "job_data['min_salary_K$'], job_data['salary_estimate'] = zip(*job_data['salary_estimate'].apply(extract_values))"
   ]
  },
  {
   "cell_type": "code",
   "execution_count": 21,
   "metadata": {
    "tags": []
   },
   "outputs": [],
   "source": [
    "#Obtain the maximum salary in the range\n",
    "job_data['max_salary_K$'], job_data['salary_estimate'] = zip(*job_data['salary_estimate'].apply(extract_values))"
   ]
  },
  {
   "cell_type": "code",
   "execution_count": 22,
   "metadata": {
    "tags": []
   },
   "outputs": [],
   "source": [
    "#Drop the old salary range column\n",
    "job_data.drop('salary_estimate', axis=1, inplace=True)"
   ]
  },
  {
   "cell_type": "code",
   "execution_count": 23,
   "metadata": {
    "tags": []
   },
   "outputs": [
    {
     "data": {
      "text/html": [
       "<div>\n",
       "<style scoped>\n",
       "    .dataframe tbody tr th:only-of-type {\n",
       "        vertical-align: middle;\n",
       "    }\n",
       "\n",
       "    .dataframe tbody tr th {\n",
       "        vertical-align: top;\n",
       "    }\n",
       "\n",
       "    .dataframe thead th {\n",
       "        text-align: right;\n",
       "    }\n",
       "</style>\n",
       "<table border=\"1\" class=\"dataframe\">\n",
       "  <thead>\n",
       "    <tr style=\"text-align: right;\">\n",
       "      <th></th>\n",
       "      <th>job_title</th>\n",
       "      <th>job_description</th>\n",
       "      <th>rating</th>\n",
       "      <th>company_name</th>\n",
       "      <th>location</th>\n",
       "      <th>headquarters</th>\n",
       "      <th>size</th>\n",
       "      <th>founded</th>\n",
       "      <th>type_of_ownership</th>\n",
       "      <th>industry</th>\n",
       "      <th>sector</th>\n",
       "      <th>revenue</th>\n",
       "      <th>competitors</th>\n",
       "      <th>min_salary_K$</th>\n",
       "      <th>max_salary_K$</th>\n",
       "      <th>avg_salary_estimate</th>\n",
       "    </tr>\n",
       "  </thead>\n",
       "  <tbody>\n",
       "    <tr>\n",
       "      <th>0</th>\n",
       "      <td>srData Scientist</td>\n",
       "      <td>Description\\n\\nThe Senior Data Scientist is re...</td>\n",
       "      <td>3.1</td>\n",
       "      <td>Healthfirst\\n3.1</td>\n",
       "      <td>New York, NY</td>\n",
       "      <td>New York, NY</td>\n",
       "      <td>1001 to 5000 employees</td>\n",
       "      <td>1993</td>\n",
       "      <td>Nonprofit Organization</td>\n",
       "      <td>Insurance Carriers</td>\n",
       "      <td>Insurance</td>\n",
       "      <td>Unknown / Non-Applicable</td>\n",
       "      <td>EmblemHealth, UnitedHealth Group, Aetna</td>\n",
       "      <td>137</td>\n",
       "      <td>171</td>\n",
       "      <td>154</td>\n",
       "    </tr>\n",
       "    <tr>\n",
       "      <th>1</th>\n",
       "      <td>Data Scientist</td>\n",
       "      <td>Secure our Nation, Ignite your Future\\n\\nJoin ...</td>\n",
       "      <td>4.2</td>\n",
       "      <td>ManTech\\n4.2</td>\n",
       "      <td>Chantilly, VA</td>\n",
       "      <td>Herndon, VA</td>\n",
       "      <td>5001 to 10000 employees</td>\n",
       "      <td>1968</td>\n",
       "      <td>Company - Public</td>\n",
       "      <td>Research &amp; Development</td>\n",
       "      <td>Business Services</td>\n",
       "      <td>$1 to $2 billion (USD)</td>\n",
       "      <td>-1</td>\n",
       "      <td>137</td>\n",
       "      <td>171</td>\n",
       "      <td>154</td>\n",
       "    </tr>\n",
       "    <tr>\n",
       "      <th>2</th>\n",
       "      <td>Data Scientist</td>\n",
       "      <td>Overview\\n\\n\\nAnalysis Group is one of the lar...</td>\n",
       "      <td>3.8</td>\n",
       "      <td>Analysis Group\\n3.8</td>\n",
       "      <td>Boston, MA</td>\n",
       "      <td>Boston, MA</td>\n",
       "      <td>1001 to 5000 employees</td>\n",
       "      <td>1981</td>\n",
       "      <td>Private Practice / Firm</td>\n",
       "      <td>Consulting</td>\n",
       "      <td>Business Services</td>\n",
       "      <td>$100 to $500 million (USD)</td>\n",
       "      <td>-1</td>\n",
       "      <td>137</td>\n",
       "      <td>171</td>\n",
       "      <td>154</td>\n",
       "    </tr>\n",
       "    <tr>\n",
       "      <th>3</th>\n",
       "      <td>Data Scientist</td>\n",
       "      <td>JOB DESCRIPTION:\\n\\nDo you have a passion for ...</td>\n",
       "      <td>3.5</td>\n",
       "      <td>INFICON\\n3.5</td>\n",
       "      <td>Newton, MA</td>\n",
       "      <td>Bad Ragaz, Switzerland</td>\n",
       "      <td>501 to 1000 employees</td>\n",
       "      <td>2000</td>\n",
       "      <td>Company - Public</td>\n",
       "      <td>Electrical &amp; Electronic Manufacturing</td>\n",
       "      <td>Manufacturing</td>\n",
       "      <td>$100 to $500 million (USD)</td>\n",
       "      <td>MKS Instruments, Pfeiffer Vacuum, Agilent Tech...</td>\n",
       "      <td>137</td>\n",
       "      <td>171</td>\n",
       "      <td>154</td>\n",
       "    </tr>\n",
       "    <tr>\n",
       "      <th>4</th>\n",
       "      <td>Data Scientist</td>\n",
       "      <td>Data Scientist\\nAffinity Solutions / Marketing...</td>\n",
       "      <td>2.9</td>\n",
       "      <td>Affinity Solutions\\n2.9</td>\n",
       "      <td>New York, NY</td>\n",
       "      <td>New York, NY</td>\n",
       "      <td>51 to 200 employees</td>\n",
       "      <td>1998</td>\n",
       "      <td>Company - Private</td>\n",
       "      <td>Advertising &amp; Marketing</td>\n",
       "      <td>Business Services</td>\n",
       "      <td>Unknown / Non-Applicable</td>\n",
       "      <td>Commerce Signals, Cardlytics, Yodlee</td>\n",
       "      <td>137</td>\n",
       "      <td>171</td>\n",
       "      <td>154</td>\n",
       "    </tr>\n",
       "  </tbody>\n",
       "</table>\n",
       "</div>"
      ],
      "text/plain": [
       "          job_title                                    job_description  \\\n",
       "0  srData Scientist  Description\\n\\nThe Senior Data Scientist is re...   \n",
       "1    Data Scientist  Secure our Nation, Ignite your Future\\n\\nJoin ...   \n",
       "2    Data Scientist  Overview\\n\\n\\nAnalysis Group is one of the lar...   \n",
       "3    Data Scientist  JOB DESCRIPTION:\\n\\nDo you have a passion for ...   \n",
       "4    Data Scientist  Data Scientist\\nAffinity Solutions / Marketing...   \n",
       "\n",
       "   rating             company_name       location            headquarters  \\\n",
       "0     3.1         Healthfirst\\n3.1   New York, NY            New York, NY   \n",
       "1     4.2             ManTech\\n4.2  Chantilly, VA             Herndon, VA   \n",
       "2     3.8      Analysis Group\\n3.8     Boston, MA              Boston, MA   \n",
       "3     3.5             INFICON\\n3.5     Newton, MA  Bad Ragaz, Switzerland   \n",
       "4     2.9  Affinity Solutions\\n2.9   New York, NY            New York, NY   \n",
       "\n",
       "                      size  founded        type_of_ownership  \\\n",
       "0   1001 to 5000 employees     1993   Nonprofit Organization   \n",
       "1  5001 to 10000 employees     1968         Company - Public   \n",
       "2   1001 to 5000 employees     1981  Private Practice / Firm   \n",
       "3    501 to 1000 employees     2000         Company - Public   \n",
       "4      51 to 200 employees     1998        Company - Private   \n",
       "\n",
       "                                industry             sector  \\\n",
       "0                     Insurance Carriers          Insurance   \n",
       "1                 Research & Development  Business Services   \n",
       "2                             Consulting  Business Services   \n",
       "3  Electrical & Electronic Manufacturing      Manufacturing   \n",
       "4                Advertising & Marketing  Business Services   \n",
       "\n",
       "                      revenue  \\\n",
       "0    Unknown / Non-Applicable   \n",
       "1      $1 to $2 billion (USD)   \n",
       "2  $100 to $500 million (USD)   \n",
       "3  $100 to $500 million (USD)   \n",
       "4    Unknown / Non-Applicable   \n",
       "\n",
       "                                         competitors  min_salary_K$  \\\n",
       "0            EmblemHealth, UnitedHealth Group, Aetna            137   \n",
       "1                                                 -1            137   \n",
       "2                                                 -1            137   \n",
       "3  MKS Instruments, Pfeiffer Vacuum, Agilent Tech...            137   \n",
       "4               Commerce Signals, Cardlytics, Yodlee            137   \n",
       "\n",
       "   max_salary_K$  avg_salary_estimate  \n",
       "0            171                  154  \n",
       "1            171                  154  \n",
       "2            171                  154  \n",
       "3            171                  154  \n",
       "4            171                  154  "
      ]
     },
     "execution_count": 23,
     "metadata": {},
     "output_type": "execute_result"
    }
   ],
   "source": [
    "#Let's obtain the average of these ranges\n",
    "job_data['avg_salary_estimate'] = (np.round((job_data['min_salary_K$'] + job_data['max_salary_K$'])/2,decimals=0)).astype(int)\n",
    "job_data.head()"
   ]
  },
  {
   "cell_type": "code",
   "execution_count": 24,
   "metadata": {
    "tags": []
   },
   "outputs": [
    {
     "data": {
      "text/plain": [
       "0      Description\\n\\nThe Senior Data Scientist is re...\n",
       "1      Secure our Nation, Ignite your Future\\n\\nJoin ...\n",
       "2      Overview\\n\\n\\nAnalysis Group is one of the lar...\n",
       "3      JOB DESCRIPTION:\\n\\nDo you have a passion for ...\n",
       "4      Data Scientist\\nAffinity Solutions / Marketing...\n",
       "                             ...                        \n",
       "147    Crown Bioscience, a JSR Life Sciences company,...\n",
       "148    Company Overview\\n\\nImagine if we could match ...\n",
       "149    Responsible for both high level and granular m...\n",
       "150    JOB SUMMARY\\nResponsible for designing, analyz...\n",
       "151    As a Staff Scientist in Upstream Process Devel...\n",
       "Name: job_description, Length: 150, dtype: object"
      ]
     },
     "execution_count": 24,
     "metadata": {},
     "output_type": "execute_result"
    }
   ],
   "source": [
    "#Inspect the job description column\n",
    "job_data['job_description'][:150]"
   ]
  },
  {
   "cell_type": "markdown",
   "metadata": {},
   "source": [
    "_This data can be used for categorizing the job skills. For now, we check if there are no missing/null values '-1'._"
   ]
  },
  {
   "cell_type": "code",
   "execution_count": 25,
   "metadata": {
    "tags": []
   },
   "outputs": [
    {
     "data": {
      "text/html": [
       "<div>\n",
       "<style scoped>\n",
       "    .dataframe tbody tr th:only-of-type {\n",
       "        vertical-align: middle;\n",
       "    }\n",
       "\n",
       "    .dataframe tbody tr th {\n",
       "        vertical-align: top;\n",
       "    }\n",
       "\n",
       "    .dataframe thead th {\n",
       "        text-align: right;\n",
       "    }\n",
       "</style>\n",
       "<table border=\"1\" class=\"dataframe\">\n",
       "  <thead>\n",
       "    <tr style=\"text-align: right;\">\n",
       "      <th></th>\n",
       "      <th>job_title</th>\n",
       "      <th>job_description</th>\n",
       "      <th>rating</th>\n",
       "      <th>company_name</th>\n",
       "      <th>location</th>\n",
       "      <th>headquarters</th>\n",
       "      <th>size</th>\n",
       "      <th>founded</th>\n",
       "      <th>type_of_ownership</th>\n",
       "      <th>industry</th>\n",
       "      <th>sector</th>\n",
       "      <th>revenue</th>\n",
       "      <th>competitors</th>\n",
       "      <th>min_salary_K$</th>\n",
       "      <th>max_salary_K$</th>\n",
       "      <th>avg_salary_estimate</th>\n",
       "    </tr>\n",
       "  </thead>\n",
       "  <tbody>\n",
       "  </tbody>\n",
       "</table>\n",
       "</div>"
      ],
      "text/plain": [
       "Empty DataFrame\n",
       "Columns: [job_title, job_description, rating, company_name, location, headquarters, size, founded, type_of_ownership, industry, sector, revenue, competitors, min_salary_K$, max_salary_K$, avg_salary_estimate]\n",
       "Index: []"
      ]
     },
     "execution_count": 25,
     "metadata": {},
     "output_type": "execute_result"
    }
   ],
   "source": [
    "job_data.loc[:,\"job_description\"]\n",
    "job_data.loc[job_data.loc[:,\"job_description\"]==\"-1\"]"
   ]
  },
  {
   "cell_type": "code",
   "execution_count": 26,
   "metadata": {
    "tags": []
   },
   "outputs": [
    {
     "data": {
      "text/plain": [
       "0      3.1\n",
       "1      4.2\n",
       "2      3.8\n",
       "3      3.5\n",
       "4      2.9\n",
       "      ... \n",
       "147    2.4\n",
       "148    2.9\n",
       "149    4.4\n",
       "150    2.9\n",
       "151    2.7\n",
       "Name: rating, Length: 150, dtype: float64"
      ]
     },
     "execution_count": 26,
     "metadata": {},
     "output_type": "execute_result"
    }
   ],
   "source": [
    "#Inspect the rating column\n",
    "job_data['rating'][:150]"
   ]
  },
  {
   "cell_type": "markdown",
   "metadata": {},
   "source": [
    "_Check for inconsistencies or missing values as well._"
   ]
  },
  {
   "cell_type": "code",
   "execution_count": 27,
   "metadata": {
    "tags": []
   },
   "outputs": [
    {
     "data": {
      "text/plain": [
       "array([ 3.1,  4.2,  3.8,  3.5,  2.9,  3.9,  4.4,  3.6,  4.5,  4.7,  3.7,\n",
       "        3.4,  4.1,  3.2,  4.3,  2.8,  5. ,  4.8,  3.3,  2.7,  2.2,  2.6,\n",
       "        4. ,  2.5,  4.9,  2.4, -1. ,  2.3,  4.6,  3. ,  2.1,  2. ])"
      ]
     },
     "execution_count": 27,
     "metadata": {},
     "output_type": "execute_result"
    }
   ],
   "source": [
    "job_data['rating'].unique()"
   ]
  },
  {
   "cell_type": "markdown",
   "metadata": {},
   "source": [
    "_As we can see there are some rows that have missing values. We should be careful in this case. If we decide to replace the value with 0 or -1 it would mean a low rating score since the values in the column are within the range of 0.0 - 5.0. If we change it to something like 'N/A' it would change the type of the column which can be counter productive for its future usage. Dropping the rows can result in a loss of valuable information about the skills required for the roles or the salary range. A good apprach would be to change it to a NaN value since it will not alter the column's type and can correctly represent a missing value_"
   ]
  },
  {
   "cell_type": "code",
   "execution_count": 28,
   "metadata": {
    "tags": []
   },
   "outputs": [],
   "source": [
    "# Replace rating mising values with NaN across the entire column\n",
    "job_data['rating'].replace(-1.0,np.nan,inplace=True)"
   ]
  },
  {
   "cell_type": "code",
   "execution_count": 29,
   "metadata": {
    "tags": []
   },
   "outputs": [
    {
     "data": {
      "text/plain": [
       "array([3.1, 4.2, 3.8, 3.5, 2.9, 3.9, 4.4, 3.6, 4.5, 4.7, 3.7, 3.4, 4.1,\n",
       "       3.2, 4.3, 2.8, 5. , 4.8, 3.3, 2.7, 2.2, 2.6, 4. , 2.5, 4.9, 2.4,\n",
       "       nan, 2.3, 4.6, 3. , 2.1, 2. ])"
      ]
     },
     "execution_count": 29,
     "metadata": {},
     "output_type": "execute_result"
    }
   ],
   "source": [
    "job_data['rating'].unique()"
   ]
  },
  {
   "cell_type": "code",
   "execution_count": 30,
   "metadata": {
    "tags": []
   },
   "outputs": [
    {
     "data": {
      "text/plain": [
       "0           Healthfirst\\n3.1\n",
       "1               ManTech\\n4.2\n",
       "2        Analysis Group\\n3.8\n",
       "3               INFICON\\n3.5\n",
       "4    Affinity Solutions\\n2.9\n",
       "5           HG Insights\\n4.2\n",
       "6              Novartis\\n3.9\n",
       "7                iRobot\\n3.5\n",
       "8         Intuit - Data\\n4.4\n",
       "9    XSELL Technologies\\n3.6\n",
       "Name: company_name, dtype: object"
      ]
     },
     "execution_count": 30,
     "metadata": {},
     "output_type": "execute_result"
    }
   ],
   "source": [
    "# Inspect the company name column\n",
    "job_data['company_name'][:10]"
   ]
  },
  {
   "cell_type": "markdown",
   "metadata": {},
   "source": [
    "_We can remove the delimiter and the numbers after them using a regex to obtain only the names_"
   ]
  },
  {
   "cell_type": "code",
   "execution_count": 31,
   "metadata": {
    "tags": []
   },
   "outputs": [
    {
     "data": {
      "text/plain": [
       "0           Healthfirst\n",
       "1               ManTech\n",
       "2        Analysis Group\n",
       "3               INFICON\n",
       "4    Affinity Solutions\n",
       "5           HG Insights\n",
       "6              Novartis\n",
       "7                iRobot\n",
       "8         Intuit - Data\n",
       "9    XSELL Technologies\n",
       "Name: company_name, dtype: object"
      ]
     },
     "execution_count": 31,
     "metadata": {},
     "output_type": "execute_result"
    }
   ],
   "source": [
    "job_data['company_name'] = job_data.loc[:,'company_name'].str.replace(r\"\\n\\d+(\\.\\d+)?\",'',regex=True)\n",
    "job_data.loc[:,\"company_name\"][:10]"
   ]
  },
  {
   "cell_type": "code",
   "execution_count": 32,
   "metadata": {
    "tags": []
   },
   "outputs": [
    {
     "data": {
      "text/plain": [
       "0         New York, NY\n",
       "1        Chantilly, VA\n",
       "2           Boston, MA\n",
       "3           Newton, MA\n",
       "4         New York, NY\n",
       "5    Santa Barbara, CA\n",
       "6        Cambridge, MA\n",
       "7          Bedford, MA\n",
       "8        San Diego, CA\n",
       "9          Chicago, IL\n",
       "Name: location, dtype: object"
      ]
     },
     "execution_count": 32,
     "metadata": {},
     "output_type": "execute_result"
    }
   ],
   "source": [
    "# Inspect the location column\n",
    "job_data['location'][:10]"
   ]
  },
  {
   "cell_type": "markdown",
   "metadata": {},
   "source": [
    "_We can add a new column specifying the state of the job_"
   ]
  },
  {
   "cell_type": "code",
   "execution_count": 33,
   "metadata": {
    "tags": []
   },
   "outputs": [
    {
     "data": {
      "text/plain": [
       " CA              154\n",
       " VA               89\n",
       " MA               62\n",
       " NY               52\n",
       " MD               40\n",
       " IL               30\n",
       " DC               26\n",
       " TX               17\n",
       " WA               16\n",
       " OH               14\n",
       " MO               12\n",
       " PA               12\n",
       "United States     11\n",
       " CO               10\n",
       " NJ               10\n",
       " GA                9\n",
       " NC                9\n",
       " TN                8\n",
       " FL                8\n",
       " OK                6\n",
       " WI                6\n",
       "Remote             5\n",
       " IN                5\n",
       " MI                5\n",
       " AL                4\n",
       " AZ                4\n",
       " MN                4\n",
       " CT                4\n",
       " IA                3\n",
       " NE                3\n",
       " OR                2\n",
       "New Jersey         2\n",
       " NH                2\n",
       " RI                2\n",
       "Utah               2\n",
       " UT                2\n",
       " SC                2\n",
       " KS                1\n",
       " LA                1\n",
       " MS                1\n",
       "Texas              1\n",
       " DE                1\n",
       "California         1\n",
       " WV                1\n",
       "Name: location, dtype: int64"
      ]
     },
     "execution_count": 33,
     "metadata": {},
     "output_type": "execute_result"
    }
   ],
   "source": [
    "# Check the counts of each unique location state\n",
    "job_data.loc[:,\"location\"].apply(lambda x: x.split(\",\")[-1]).value_counts()"
   ]
  },
  {
   "cell_type": "code",
   "execution_count": 34,
   "metadata": {
    "tags": []
   },
   "outputs": [],
   "source": [
    "# Create the state column\n",
    "job_data['location_state'] = job_data['location'].apply(lambda x: x.split(',')[-1].strip())"
   ]
  },
  {
   "cell_type": "code",
   "execution_count": 35,
   "metadata": {
    "tags": []
   },
   "outputs": [],
   "source": [
    "# Replace the inconsistencies with their correct state abbreviation\n",
    "def clean_location(jobs):\n",
    "    return (\n",
    "        jobs.loc[:, \"location_state\"]\n",
    "        .replace(\"California\",\"CA\")\n",
    "        .replace(\"Texas\",\"TX\")\n",
    "        .replace(\"Utah\",\"UT\")\n",
    "        .replace(\"New Jersey\",\"NJ\")\n",
    "        .replace(\"Remote\",\"n/a\")\n",
    "        .replace(\"United States\",\"n/a\")\n",
    "    )\n",
    "\n",
    "job_data = job_data.assign(\n",
    "    location_state = clean_location\n",
    ")"
   ]
  },
  {
   "cell_type": "code",
   "execution_count": 36,
   "metadata": {
    "tags": []
   },
   "outputs": [
    {
     "data": {
      "text/plain": [
       "CA     155\n",
       "VA      89\n",
       "MA      62\n",
       "NY      52\n",
       "MD      40\n",
       "IL      30\n",
       "DC      26\n",
       "TX      18\n",
       "WA      16\n",
       "n/a     16\n",
       "OH      14\n",
       "MO      12\n",
       "NJ      12\n",
       "PA      12\n",
       "CO      10\n",
       "GA       9\n",
       "NC       9\n",
       "FL       8\n",
       "TN       8\n",
       "OK       6\n",
       "WI       6\n",
       "IN       5\n",
       "MI       5\n",
       "MN       4\n",
       "CT       4\n",
       "AL       4\n",
       "UT       4\n",
       "AZ       4\n",
       "IA       3\n",
       "NE       3\n",
       "NH       2\n",
       "RI       2\n",
       "SC       2\n",
       "OR       2\n",
       "KS       1\n",
       "LA       1\n",
       "MS       1\n",
       "DE       1\n",
       "WV       1\n",
       "Name: location_state, dtype: int64"
      ]
     },
     "execution_count": 36,
     "metadata": {},
     "output_type": "execute_result"
    }
   ],
   "source": [
    "job_data[\"location_state\"].value_counts()"
   ]
  },
  {
   "cell_type": "code",
   "execution_count": 37,
   "metadata": {
    "tags": []
   },
   "outputs": [],
   "source": [
    "# Check if the location of the job and the HQ are in the place\n",
    "job_data['same_state'] = (job_data['location'] == job_data['headquarters']).astype(int)"
   ]
  },
  {
   "cell_type": "code",
   "execution_count": 38,
   "metadata": {
    "tags": []
   },
   "outputs": [
    {
     "data": {
      "text/html": [
       "<div>\n",
       "<style scoped>\n",
       "    .dataframe tbody tr th:only-of-type {\n",
       "        vertical-align: middle;\n",
       "    }\n",
       "\n",
       "    .dataframe tbody tr th {\n",
       "        vertical-align: top;\n",
       "    }\n",
       "\n",
       "    .dataframe thead th {\n",
       "        text-align: right;\n",
       "    }\n",
       "</style>\n",
       "<table border=\"1\" class=\"dataframe\">\n",
       "  <thead>\n",
       "    <tr style=\"text-align: right;\">\n",
       "      <th></th>\n",
       "      <th>job_title</th>\n",
       "      <th>job_description</th>\n",
       "      <th>rating</th>\n",
       "      <th>company_name</th>\n",
       "      <th>location</th>\n",
       "      <th>headquarters</th>\n",
       "      <th>size</th>\n",
       "      <th>founded</th>\n",
       "      <th>type_of_ownership</th>\n",
       "      <th>industry</th>\n",
       "      <th>sector</th>\n",
       "      <th>revenue</th>\n",
       "      <th>competitors</th>\n",
       "      <th>min_salary_K$</th>\n",
       "      <th>max_salary_K$</th>\n",
       "      <th>avg_salary_estimate</th>\n",
       "      <th>location_state</th>\n",
       "      <th>same_state</th>\n",
       "    </tr>\n",
       "  </thead>\n",
       "  <tbody>\n",
       "    <tr>\n",
       "      <th>0</th>\n",
       "      <td>srData Scientist</td>\n",
       "      <td>Description\\n\\nThe Senior Data Scientist is re...</td>\n",
       "      <td>3.1</td>\n",
       "      <td>Healthfirst</td>\n",
       "      <td>New York, NY</td>\n",
       "      <td>New York, NY</td>\n",
       "      <td>1001 to 5000 employees</td>\n",
       "      <td>1993</td>\n",
       "      <td>Nonprofit Organization</td>\n",
       "      <td>Insurance Carriers</td>\n",
       "      <td>Insurance</td>\n",
       "      <td>Unknown / Non-Applicable</td>\n",
       "      <td>EmblemHealth, UnitedHealth Group, Aetna</td>\n",
       "      <td>137</td>\n",
       "      <td>171</td>\n",
       "      <td>154</td>\n",
       "      <td>NY</td>\n",
       "      <td>1</td>\n",
       "    </tr>\n",
       "    <tr>\n",
       "      <th>1</th>\n",
       "      <td>Data Scientist</td>\n",
       "      <td>Secure our Nation, Ignite your Future\\n\\nJoin ...</td>\n",
       "      <td>4.2</td>\n",
       "      <td>ManTech</td>\n",
       "      <td>Chantilly, VA</td>\n",
       "      <td>Herndon, VA</td>\n",
       "      <td>5001 to 10000 employees</td>\n",
       "      <td>1968</td>\n",
       "      <td>Company - Public</td>\n",
       "      <td>Research &amp; Development</td>\n",
       "      <td>Business Services</td>\n",
       "      <td>$1 to $2 billion (USD)</td>\n",
       "      <td>-1</td>\n",
       "      <td>137</td>\n",
       "      <td>171</td>\n",
       "      <td>154</td>\n",
       "      <td>VA</td>\n",
       "      <td>0</td>\n",
       "    </tr>\n",
       "    <tr>\n",
       "      <th>2</th>\n",
       "      <td>Data Scientist</td>\n",
       "      <td>Overview\\n\\n\\nAnalysis Group is one of the lar...</td>\n",
       "      <td>3.8</td>\n",
       "      <td>Analysis Group</td>\n",
       "      <td>Boston, MA</td>\n",
       "      <td>Boston, MA</td>\n",
       "      <td>1001 to 5000 employees</td>\n",
       "      <td>1981</td>\n",
       "      <td>Private Practice / Firm</td>\n",
       "      <td>Consulting</td>\n",
       "      <td>Business Services</td>\n",
       "      <td>$100 to $500 million (USD)</td>\n",
       "      <td>-1</td>\n",
       "      <td>137</td>\n",
       "      <td>171</td>\n",
       "      <td>154</td>\n",
       "      <td>MA</td>\n",
       "      <td>1</td>\n",
       "    </tr>\n",
       "    <tr>\n",
       "      <th>3</th>\n",
       "      <td>Data Scientist</td>\n",
       "      <td>JOB DESCRIPTION:\\n\\nDo you have a passion for ...</td>\n",
       "      <td>3.5</td>\n",
       "      <td>INFICON</td>\n",
       "      <td>Newton, MA</td>\n",
       "      <td>Bad Ragaz, Switzerland</td>\n",
       "      <td>501 to 1000 employees</td>\n",
       "      <td>2000</td>\n",
       "      <td>Company - Public</td>\n",
       "      <td>Electrical &amp; Electronic Manufacturing</td>\n",
       "      <td>Manufacturing</td>\n",
       "      <td>$100 to $500 million (USD)</td>\n",
       "      <td>MKS Instruments, Pfeiffer Vacuum, Agilent Tech...</td>\n",
       "      <td>137</td>\n",
       "      <td>171</td>\n",
       "      <td>154</td>\n",
       "      <td>MA</td>\n",
       "      <td>0</td>\n",
       "    </tr>\n",
       "    <tr>\n",
       "      <th>4</th>\n",
       "      <td>Data Scientist</td>\n",
       "      <td>Data Scientist\\nAffinity Solutions / Marketing...</td>\n",
       "      <td>2.9</td>\n",
       "      <td>Affinity Solutions</td>\n",
       "      <td>New York, NY</td>\n",
       "      <td>New York, NY</td>\n",
       "      <td>51 to 200 employees</td>\n",
       "      <td>1998</td>\n",
       "      <td>Company - Private</td>\n",
       "      <td>Advertising &amp; Marketing</td>\n",
       "      <td>Business Services</td>\n",
       "      <td>Unknown / Non-Applicable</td>\n",
       "      <td>Commerce Signals, Cardlytics, Yodlee</td>\n",
       "      <td>137</td>\n",
       "      <td>171</td>\n",
       "      <td>154</td>\n",
       "      <td>NY</td>\n",
       "      <td>1</td>\n",
       "    </tr>\n",
       "  </tbody>\n",
       "</table>\n",
       "</div>"
      ],
      "text/plain": [
       "          job_title                                    job_description  \\\n",
       "0  srData Scientist  Description\\n\\nThe Senior Data Scientist is re...   \n",
       "1    Data Scientist  Secure our Nation, Ignite your Future\\n\\nJoin ...   \n",
       "2    Data Scientist  Overview\\n\\n\\nAnalysis Group is one of the lar...   \n",
       "3    Data Scientist  JOB DESCRIPTION:\\n\\nDo you have a passion for ...   \n",
       "4    Data Scientist  Data Scientist\\nAffinity Solutions / Marketing...   \n",
       "\n",
       "   rating        company_name       location            headquarters  \\\n",
       "0     3.1         Healthfirst   New York, NY            New York, NY   \n",
       "1     4.2             ManTech  Chantilly, VA             Herndon, VA   \n",
       "2     3.8      Analysis Group     Boston, MA              Boston, MA   \n",
       "3     3.5             INFICON     Newton, MA  Bad Ragaz, Switzerland   \n",
       "4     2.9  Affinity Solutions   New York, NY            New York, NY   \n",
       "\n",
       "                      size  founded        type_of_ownership  \\\n",
       "0   1001 to 5000 employees     1993   Nonprofit Organization   \n",
       "1  5001 to 10000 employees     1968         Company - Public   \n",
       "2   1001 to 5000 employees     1981  Private Practice / Firm   \n",
       "3    501 to 1000 employees     2000         Company - Public   \n",
       "4      51 to 200 employees     1998        Company - Private   \n",
       "\n",
       "                                industry             sector  \\\n",
       "0                     Insurance Carriers          Insurance   \n",
       "1                 Research & Development  Business Services   \n",
       "2                             Consulting  Business Services   \n",
       "3  Electrical & Electronic Manufacturing      Manufacturing   \n",
       "4                Advertising & Marketing  Business Services   \n",
       "\n",
       "                      revenue  \\\n",
       "0    Unknown / Non-Applicable   \n",
       "1      $1 to $2 billion (USD)   \n",
       "2  $100 to $500 million (USD)   \n",
       "3  $100 to $500 million (USD)   \n",
       "4    Unknown / Non-Applicable   \n",
       "\n",
       "                                         competitors  min_salary_K$  \\\n",
       "0            EmblemHealth, UnitedHealth Group, Aetna            137   \n",
       "1                                                 -1            137   \n",
       "2                                                 -1            137   \n",
       "3  MKS Instruments, Pfeiffer Vacuum, Agilent Tech...            137   \n",
       "4               Commerce Signals, Cardlytics, Yodlee            137   \n",
       "\n",
       "   max_salary_K$  avg_salary_estimate location_state  same_state  \n",
       "0            171                  154             NY           1  \n",
       "1            171                  154             VA           0  \n",
       "2            171                  154             MA           1  \n",
       "3            171                  154             MA           0  \n",
       "4            171                  154             NY           1  "
      ]
     },
     "execution_count": 38,
     "metadata": {},
     "output_type": "execute_result"
    }
   ],
   "source": [
    "job_data.head()"
   ]
  },
  {
   "cell_type": "code",
   "execution_count": 39,
   "metadata": {
    "tags": []
   },
   "outputs": [
    {
     "data": {
      "text/plain": [
       "New York, NY         33\n",
       "San Francisco, CA    30\n",
       "Chicago, IL          23\n",
       "-1                   20\n",
       "Boston, MA           19\n",
       "                     ..\n",
       "Albertville, AL       1\n",
       "Orange, CA            1\n",
       "Littleton, CO         1\n",
       "Manalapan, NJ         1\n",
       "Charlotte, NC         1\n",
       "Name: headquarters, Length: 229, dtype: int64"
      ]
     },
     "execution_count": 39,
     "metadata": {},
     "output_type": "execute_result"
    }
   ],
   "source": [
    "# Inspect the headquarters column\n",
    "job_data['headquarters'].value_counts()"
   ]
  },
  {
   "cell_type": "markdown",
   "metadata": {},
   "source": [
    "_We need to correctly handle the -1 as missing values._"
   ]
  },
  {
   "cell_type": "code",
   "execution_count": 40,
   "metadata": {
    "tags": []
   },
   "outputs": [
    {
     "data": {
      "text/plain": [
       "New York, NY         33\n",
       "San Francisco, CA    30\n",
       "Chicago, IL          23\n",
       "n/a                  20\n",
       "Boston, MA           19\n",
       "                     ..\n",
       "Albertville, AL       1\n",
       "Orange, CA            1\n",
       "Littleton, CO         1\n",
       "Manalapan, NJ         1\n",
       "Charlotte, NC         1\n",
       "Name: headquarters, Length: 229, dtype: int64"
      ]
     },
     "execution_count": 40,
     "metadata": {},
     "output_type": "execute_result"
    }
   ],
   "source": [
    "job_data['headquarters'] = job_data['headquarters'].apply(lambda x: x.replace('-1','n/a'))\n",
    "job_data[\"headquarters\"].value_counts()"
   ]
  },
  {
   "cell_type": "code",
   "execution_count": 41,
   "metadata": {
    "tags": []
   },
   "outputs": [
    {
     "name": "stdout",
     "output_type": "stream",
     "text": [
      "0      1001 to 5000 employees\n",
      "1     5001 to 10000 employees\n",
      "2      1001 to 5000 employees\n",
      "3       501 to 1000 employees\n",
      "4         51 to 200 employees\n",
      "               ...           \n",
      "95    5001 to 10000 employees\n",
      "96        51 to 200 employees\n",
      "97           10000+ employees\n",
      "98        51 to 200 employees\n",
      "99     1001 to 5000 employees\n",
      "Name: size, Length: 100, dtype: object\n"
     ]
    },
    {
     "data": {
      "text/plain": [
       "array(['1001 to 5000 employees', '5001 to 10000 employees',\n",
       "       '501 to 1000 employees', '51 to 200 employees', '10000+ employees',\n",
       "       '201 to 500 employees', '1 to 50 employees', '-1', 'Unknown'],\n",
       "      dtype=object)"
      ]
     },
     "execution_count": 41,
     "metadata": {},
     "output_type": "execute_result"
    }
   ],
   "source": [
    "# Inspect the size column\n",
    "print(job_data['size'][:100])\n",
    "job_data['size'].unique()"
   ]
  },
  {
   "cell_type": "markdown",
   "metadata": {},
   "source": [
    "_We can handle the missing values of -1 and Unknown in a more appropiate way. Let's say 'n/a' so we do not change the type of the column and we have a unique value to represent the missing ones._"
   ]
  },
  {
   "cell_type": "code",
   "execution_count": 42,
   "metadata": {
    "tags": []
   },
   "outputs": [],
   "source": [
    "# Handle the missing values correctly\n",
    "def size_cleaning(jobs):\n",
    "    return (\n",
    "        jobs.loc[:, \"size\"]\n",
    "        .replace(\"-1\",\"n/a\")\n",
    "        .replace(\"Unknown\",\"n/a\")\n",
    "    )\n",
    "\n",
    "job_data = job_data.assign(\n",
    "    size = size_cleaning\n",
    ")"
   ]
  },
  {
   "cell_type": "code",
   "execution_count": 43,
   "metadata": {
    "tags": []
   },
   "outputs": [
    {
     "data": {
      "text/plain": [
       "array(['1001 to 5000 employees', '5001 to 10000 employees',\n",
       "       '501 to 1000 employees', '51 to 200 employees', '10000+ employees',\n",
       "       '201 to 500 employees', '1 to 50 employees', 'n/a'], dtype=object)"
      ]
     },
     "execution_count": 43,
     "metadata": {},
     "output_type": "execute_result"
    }
   ],
   "source": [
    "job_data['size'].unique()"
   ]
  },
  {
   "cell_type": "code",
   "execution_count": 44,
   "metadata": {
    "tags": []
   },
   "outputs": [
    {
     "data": {
      "text/plain": [
       "0     1993\n",
       "1     1968\n",
       "2     1981\n",
       "3     2000\n",
       "4     1998\n",
       "      ... \n",
       "95    1983\n",
       "96    2015\n",
       "97    1911\n",
       "98    2009\n",
       "99    1959\n",
       "Name: founded, Length: 100, dtype: int64"
      ]
     },
     "execution_count": 44,
     "metadata": {},
     "output_type": "execute_result"
    }
   ],
   "source": [
    "# Inspect the founded column\n",
    "job_data['founded'][:100]"
   ]
  },
  {
   "cell_type": "code",
   "execution_count": 45,
   "metadata": {
    "tags": []
   },
   "outputs": [
    {
     "data": {
      "text/plain": [
       "array([1993., 1968., 1981., 2000., 1998., 2010., 1996., 1990., 1983.,\n",
       "       2014., 2012., 2016., 1965., 1973., 1986., 1997., 2015., 1945.,\n",
       "       1988., 2017., 2011., 1967., 1860., 1992., 2003., 1951., 2005.,\n",
       "       2019., 1925., 2008., 1999., 1978., 1966., 1912., 1958., 2013.,\n",
       "       1849., 1781., 1926., 2006., 1994., 1863., 1995.,   nan, 1982.,\n",
       "       1974., 2001., 1985., 1913., 1971., 1911., 2009., 1959., 2007.,\n",
       "       1939., 2002., 1961., 1963., 1969., 1946., 1957., 1953., 1948.,\n",
       "       1850., 1851., 2004., 1976., 1918., 1954., 1947., 1955., 2018.,\n",
       "       1937., 1917., 1935., 1929., 1820., 1952., 1932., 1894., 1960.,\n",
       "       1788., 1830., 1984., 1933., 1880., 1887., 1970., 1942., 1980.,\n",
       "       1989., 1908., 1853., 1875., 1914., 1898., 1956., 1977., 1987.,\n",
       "       1896., 1972., 1949., 1962.])"
      ]
     },
     "execution_count": 45,
     "metadata": {},
     "output_type": "execute_result"
    }
   ],
   "source": [
    "#Clean the missing values\n",
    "job_data['founded'].replace(-1,np.nan,inplace=True)\n",
    "job_data['founded'].unique()"
   ]
  },
  {
   "cell_type": "markdown",
   "metadata": {},
   "source": [
    "_This column represents the year when the company was founded. We can obtain the number of years the company has been in the market, which can be useful for future analysis, then drop the original column._"
   ]
  },
  {
   "cell_type": "code",
   "execution_count": 46,
   "metadata": {
    "tags": []
   },
   "outputs": [
    {
     "data": {
      "text/html": [
       "<div>\n",
       "<style scoped>\n",
       "    .dataframe tbody tr th:only-of-type {\n",
       "        vertical-align: middle;\n",
       "    }\n",
       "\n",
       "    .dataframe tbody tr th {\n",
       "        vertical-align: top;\n",
       "    }\n",
       "\n",
       "    .dataframe thead th {\n",
       "        text-align: right;\n",
       "    }\n",
       "</style>\n",
       "<table border=\"1\" class=\"dataframe\">\n",
       "  <thead>\n",
       "    <tr style=\"text-align: right;\">\n",
       "      <th></th>\n",
       "      <th>job_title</th>\n",
       "      <th>job_description</th>\n",
       "      <th>rating</th>\n",
       "      <th>company_name</th>\n",
       "      <th>location</th>\n",
       "      <th>headquarters</th>\n",
       "      <th>size</th>\n",
       "      <th>type_of_ownership</th>\n",
       "      <th>industry</th>\n",
       "      <th>sector</th>\n",
       "      <th>revenue</th>\n",
       "      <th>competitors</th>\n",
       "      <th>min_salary_K$</th>\n",
       "      <th>max_salary_K$</th>\n",
       "      <th>avg_salary_estimate</th>\n",
       "      <th>location_state</th>\n",
       "      <th>same_state</th>\n",
       "      <th>years_in_market</th>\n",
       "    </tr>\n",
       "  </thead>\n",
       "  <tbody>\n",
       "    <tr>\n",
       "      <th>0</th>\n",
       "      <td>srData Scientist</td>\n",
       "      <td>Description\\n\\nThe Senior Data Scientist is re...</td>\n",
       "      <td>3.1</td>\n",
       "      <td>Healthfirst</td>\n",
       "      <td>New York, NY</td>\n",
       "      <td>New York, NY</td>\n",
       "      <td>1001 to 5000 employees</td>\n",
       "      <td>Nonprofit Organization</td>\n",
       "      <td>Insurance Carriers</td>\n",
       "      <td>Insurance</td>\n",
       "      <td>Unknown / Non-Applicable</td>\n",
       "      <td>EmblemHealth, UnitedHealth Group, Aetna</td>\n",
       "      <td>137</td>\n",
       "      <td>171</td>\n",
       "      <td>154</td>\n",
       "      <td>NY</td>\n",
       "      <td>1</td>\n",
       "      <td>30.0</td>\n",
       "    </tr>\n",
       "    <tr>\n",
       "      <th>1</th>\n",
       "      <td>Data Scientist</td>\n",
       "      <td>Secure our Nation, Ignite your Future\\n\\nJoin ...</td>\n",
       "      <td>4.2</td>\n",
       "      <td>ManTech</td>\n",
       "      <td>Chantilly, VA</td>\n",
       "      <td>Herndon, VA</td>\n",
       "      <td>5001 to 10000 employees</td>\n",
       "      <td>Company - Public</td>\n",
       "      <td>Research &amp; Development</td>\n",
       "      <td>Business Services</td>\n",
       "      <td>$1 to $2 billion (USD)</td>\n",
       "      <td>-1</td>\n",
       "      <td>137</td>\n",
       "      <td>171</td>\n",
       "      <td>154</td>\n",
       "      <td>VA</td>\n",
       "      <td>0</td>\n",
       "      <td>55.0</td>\n",
       "    </tr>\n",
       "    <tr>\n",
       "      <th>2</th>\n",
       "      <td>Data Scientist</td>\n",
       "      <td>Overview\\n\\n\\nAnalysis Group is one of the lar...</td>\n",
       "      <td>3.8</td>\n",
       "      <td>Analysis Group</td>\n",
       "      <td>Boston, MA</td>\n",
       "      <td>Boston, MA</td>\n",
       "      <td>1001 to 5000 employees</td>\n",
       "      <td>Private Practice / Firm</td>\n",
       "      <td>Consulting</td>\n",
       "      <td>Business Services</td>\n",
       "      <td>$100 to $500 million (USD)</td>\n",
       "      <td>-1</td>\n",
       "      <td>137</td>\n",
       "      <td>171</td>\n",
       "      <td>154</td>\n",
       "      <td>MA</td>\n",
       "      <td>1</td>\n",
       "      <td>42.0</td>\n",
       "    </tr>\n",
       "    <tr>\n",
       "      <th>3</th>\n",
       "      <td>Data Scientist</td>\n",
       "      <td>JOB DESCRIPTION:\\n\\nDo you have a passion for ...</td>\n",
       "      <td>3.5</td>\n",
       "      <td>INFICON</td>\n",
       "      <td>Newton, MA</td>\n",
       "      <td>Bad Ragaz, Switzerland</td>\n",
       "      <td>501 to 1000 employees</td>\n",
       "      <td>Company - Public</td>\n",
       "      <td>Electrical &amp; Electronic Manufacturing</td>\n",
       "      <td>Manufacturing</td>\n",
       "      <td>$100 to $500 million (USD)</td>\n",
       "      <td>MKS Instruments, Pfeiffer Vacuum, Agilent Tech...</td>\n",
       "      <td>137</td>\n",
       "      <td>171</td>\n",
       "      <td>154</td>\n",
       "      <td>MA</td>\n",
       "      <td>0</td>\n",
       "      <td>23.0</td>\n",
       "    </tr>\n",
       "    <tr>\n",
       "      <th>4</th>\n",
       "      <td>Data Scientist</td>\n",
       "      <td>Data Scientist\\nAffinity Solutions / Marketing...</td>\n",
       "      <td>2.9</td>\n",
       "      <td>Affinity Solutions</td>\n",
       "      <td>New York, NY</td>\n",
       "      <td>New York, NY</td>\n",
       "      <td>51 to 200 employees</td>\n",
       "      <td>Company - Private</td>\n",
       "      <td>Advertising &amp; Marketing</td>\n",
       "      <td>Business Services</td>\n",
       "      <td>Unknown / Non-Applicable</td>\n",
       "      <td>Commerce Signals, Cardlytics, Yodlee</td>\n",
       "      <td>137</td>\n",
       "      <td>171</td>\n",
       "      <td>154</td>\n",
       "      <td>NY</td>\n",
       "      <td>1</td>\n",
       "      <td>25.0</td>\n",
       "    </tr>\n",
       "  </tbody>\n",
       "</table>\n",
       "</div>"
      ],
      "text/plain": [
       "          job_title                                    job_description  \\\n",
       "0  srData Scientist  Description\\n\\nThe Senior Data Scientist is re...   \n",
       "1    Data Scientist  Secure our Nation, Ignite your Future\\n\\nJoin ...   \n",
       "2    Data Scientist  Overview\\n\\n\\nAnalysis Group is one of the lar...   \n",
       "3    Data Scientist  JOB DESCRIPTION:\\n\\nDo you have a passion for ...   \n",
       "4    Data Scientist  Data Scientist\\nAffinity Solutions / Marketing...   \n",
       "\n",
       "   rating        company_name       location            headquarters  \\\n",
       "0     3.1         Healthfirst   New York, NY            New York, NY   \n",
       "1     4.2             ManTech  Chantilly, VA             Herndon, VA   \n",
       "2     3.8      Analysis Group     Boston, MA              Boston, MA   \n",
       "3     3.5             INFICON     Newton, MA  Bad Ragaz, Switzerland   \n",
       "4     2.9  Affinity Solutions   New York, NY            New York, NY   \n",
       "\n",
       "                      size        type_of_ownership  \\\n",
       "0   1001 to 5000 employees   Nonprofit Organization   \n",
       "1  5001 to 10000 employees         Company - Public   \n",
       "2   1001 to 5000 employees  Private Practice / Firm   \n",
       "3    501 to 1000 employees         Company - Public   \n",
       "4      51 to 200 employees        Company - Private   \n",
       "\n",
       "                                industry             sector  \\\n",
       "0                     Insurance Carriers          Insurance   \n",
       "1                 Research & Development  Business Services   \n",
       "2                             Consulting  Business Services   \n",
       "3  Electrical & Electronic Manufacturing      Manufacturing   \n",
       "4                Advertising & Marketing  Business Services   \n",
       "\n",
       "                      revenue  \\\n",
       "0    Unknown / Non-Applicable   \n",
       "1      $1 to $2 billion (USD)   \n",
       "2  $100 to $500 million (USD)   \n",
       "3  $100 to $500 million (USD)   \n",
       "4    Unknown / Non-Applicable   \n",
       "\n",
       "                                         competitors  min_salary_K$  \\\n",
       "0            EmblemHealth, UnitedHealth Group, Aetna            137   \n",
       "1                                                 -1            137   \n",
       "2                                                 -1            137   \n",
       "3  MKS Instruments, Pfeiffer Vacuum, Agilent Tech...            137   \n",
       "4               Commerce Signals, Cardlytics, Yodlee            137   \n",
       "\n",
       "   max_salary_K$  avg_salary_estimate location_state  same_state  \\\n",
       "0            171                  154             NY           1   \n",
       "1            171                  154             VA           0   \n",
       "2            171                  154             MA           1   \n",
       "3            171                  154             MA           0   \n",
       "4            171                  154             NY           1   \n",
       "\n",
       "   years_in_market  \n",
       "0             30.0  \n",
       "1             55.0  \n",
       "2             42.0  \n",
       "3             23.0  \n",
       "4             25.0  "
      ]
     },
     "execution_count": 46,
     "metadata": {},
     "output_type": "execute_result"
    }
   ],
   "source": [
    "# obtain the years the company has been in the market and drop the founed column\n",
    "current_year = datetime.now().year\n",
    "job_data['years_in_market'] = current_year - job_data['founded']\n",
    "job_data.drop('founded',axis=1,inplace=True)\n",
    "job_data.head()"
   ]
  },
  {
   "cell_type": "code",
   "execution_count": 47,
   "metadata": {
    "tags": []
   },
   "outputs": [
    {
     "data": {
      "text/plain": [
       "0      Nonprofit Organization\n",
       "1            Company - Public\n",
       "2     Private Practice / Firm\n",
       "3            Company - Public\n",
       "4           Company - Private\n",
       "               ...           \n",
       "95           Company - Public\n",
       "96          Company - Private\n",
       "97          Company - Private\n",
       "98          Company - Private\n",
       "99         Other Organization\n",
       "Name: type_of_ownership, Length: 100, dtype: object"
      ]
     },
     "execution_count": 47,
     "metadata": {},
     "output_type": "execute_result"
    }
   ],
   "source": [
    "# Inspect the Type of ownership column\n",
    "job_data['type_of_ownership'][:100]"
   ]
  },
  {
   "cell_type": "code",
   "execution_count": 48,
   "metadata": {
    "tags": []
   },
   "outputs": [
    {
     "data": {
      "text/plain": [
       "array(['Nonprofit Organization', 'Company - Public',\n",
       "       'Private Practice / Firm', 'Company - Private', 'Government',\n",
       "       'Subsidiary or Business Segment', 'Other Organization', '-1',\n",
       "       'Unknown', 'Hospital', 'Self-employed', 'College / University',\n",
       "       'Contract'], dtype=object)"
      ]
     },
     "execution_count": 48,
     "metadata": {},
     "output_type": "execute_result"
    }
   ],
   "source": [
    "job_data['type_of_ownership'].unique()"
   ]
  },
  {
   "cell_type": "markdown",
   "metadata": {},
   "source": [
    "_We can change the format of some values like 'Public' or 'Private' while also dealing with the missing values like the previous column._"
   ]
  },
  {
   "cell_type": "code",
   "execution_count": 49,
   "metadata": {
    "tags": []
   },
   "outputs": [],
   "source": [
    "def ownership(jobs):\n",
    "    return (\n",
    "        jobs.loc[:, \"type_of_ownership\"]\n",
    "        .replace(\"Nonprofit Organization\",\"Nonprofit\")\n",
    "        .replace(\"-1\",\"n/a\")\n",
    "        .replace(\"Unknown\",\"n/a\")\n",
    "        .replace(\"Company - Public\",\"Public\")\n",
    "        .replace(\"Company - Private\",\"Private\")\n",
    "        .replace(\"Other Organization\",\"Other\")   \n",
    "    )\n",
    "\n",
    "job_data = job_data.assign(\n",
    "    type_of_ownership = ownership\n",
    ")"
   ]
  },
  {
   "cell_type": "code",
   "execution_count": 50,
   "metadata": {
    "tags": []
   },
   "outputs": [
    {
     "data": {
      "text/plain": [
       "array(['Nonprofit', 'Public', 'Private Practice / Firm', 'Private',\n",
       "       'Government', 'Subsidiary or Business Segment', 'Other', 'n/a',\n",
       "       'Hospital', 'Self-employed', 'College / University', 'Contract'],\n",
       "      dtype=object)"
      ]
     },
     "execution_count": 50,
     "metadata": {},
     "output_type": "execute_result"
    }
   ],
   "source": [
    "job_data['type_of_ownership'].unique()"
   ]
  },
  {
   "cell_type": "code",
   "execution_count": 51,
   "metadata": {
    "tags": []
   },
   "outputs": [
    {
     "data": {
      "text/plain": [
       "Biotech & Pharmaceuticals                   66\n",
       "IT Services                                 61\n",
       "-1                                          60\n",
       "Computer Hardware & Software                56\n",
       "Aerospace & Defense                         46\n",
       "Enterprise Software & Network Solutions     43\n",
       "Consulting                                  38\n",
       "Staffing & Outsourcing                      36\n",
       "Insurance Carriers                          28\n",
       "Internet                                    27\n",
       "Advertising & Marketing                     23\n",
       "Health Care Services & Hospitals            21\n",
       "Research & Development                      17\n",
       "Federal Agencies                            16\n",
       "Investment Banking & Asset Management       13\n",
       "Banks & Credit Unions                        8\n",
       "Lending                                      7\n",
       "Energy                                       5\n",
       "Telecommunications Services                  5\n",
       "Consumer Products Manufacturing              5\n",
       "Food & Beverage Manufacturing                4\n",
       "Insurance Agencies & Brokerages              4\n",
       "Industrial Manufacturing                     3\n",
       "Chemical Manufacturing                       3\n",
       "Utilities                                    3\n",
       "Electrical & Electronic Manufacturing        3\n",
       "Colleges & Universities                      3\n",
       "Wholesale                                    3\n",
       "Video Games                                  3\n",
       "Real Estate                                  3\n",
       "Miscellaneous Manufacturing                  3\n",
       "Other Retail Stores                          3\n",
       "Architectural & Engineering Services         3\n",
       "Accounting                                   3\n",
       "Express Delivery Services                    2\n",
       "Consumer Electronics & Appliances Stores     2\n",
       "Oil & Gas Services                           2\n",
       "Travel Agencies                              2\n",
       "Timber Operations                            2\n",
       "Transportation Equipment Manufacturing       2\n",
       "Health, Beauty, & Fitness                    2\n",
       "Venture Capital & Private Equity             2\n",
       "Construction                                 2\n",
       "Financial Transaction Processing             2\n",
       "Food & Beverage Stores                       1\n",
       "News Outlet                                  1\n",
       "Shipping                                     1\n",
       "Cable, Internet & Telephone Providers        1\n",
       "Telecommunications Manufacturing             1\n",
       "Transportation Management                    1\n",
       "Logistics & Supply Chain                     1\n",
       "Hotels, Motels, & Resorts                    1\n",
       "State & Regional Agencies                    1\n",
       "Farm Support Services                        1\n",
       "Department, Clothing, & Shoe Stores          1\n",
       "Social Assistance                            1\n",
       "Publishing                                   1\n",
       "Rail                                         1\n",
       "Name: industry, dtype: int64"
      ]
     },
     "execution_count": 51,
     "metadata": {},
     "output_type": "execute_result"
    }
   ],
   "source": [
    "# Inspect the industry column\n",
    "job_data['industry'].value_counts()"
   ]
  },
  {
   "cell_type": "markdown",
   "metadata": {},
   "source": [
    "_In this case we just need to handle the missing values correctly._"
   ]
  },
  {
   "cell_type": "code",
   "execution_count": 52,
   "metadata": {
    "tags": []
   },
   "outputs": [
    {
     "data": {
      "text/plain": [
       "array(['Insurance Carriers', 'Research & Development', 'Consulting',\n",
       "       'Electrical & Electronic Manufacturing', 'Advertising & Marketing',\n",
       "       'Computer Hardware & Software', 'Biotech & Pharmaceuticals',\n",
       "       'Consumer Electronics & Appliances Stores',\n",
       "       'Enterprise Software & Network Solutions', 'IT Services', 'Energy',\n",
       "       'Chemical Manufacturing', 'Federal Agencies', 'Internet',\n",
       "       'Health Care Services & Hospitals',\n",
       "       'Investment Banking & Asset Management', 'Aerospace & Defense',\n",
       "       'Utilities', 'n/a', 'Express Delivery Services',\n",
       "       'Staffing & Outsourcing', 'Insurance Agencies & Brokerages',\n",
       "       'Consumer Products Manufacturing', 'Industrial Manufacturing',\n",
       "       'Food & Beverage Manufacturing', 'Banks & Credit Unions',\n",
       "       'Video Games', 'Shipping', 'Telecommunications Services',\n",
       "       'Lending', 'Cable, Internet & Telephone Providers', 'Real Estate',\n",
       "       'Venture Capital & Private Equity', 'Miscellaneous Manufacturing',\n",
       "       'Oil & Gas Services', 'Transportation Equipment Manufacturing',\n",
       "       'Telecommunications Manufacturing', 'Transportation Management',\n",
       "       'News Outlet', 'Architectural & Engineering Services',\n",
       "       'Food & Beverage Stores', 'Other Retail Stores',\n",
       "       'Hotels, Motels, & Resorts', 'State & Regional Agencies',\n",
       "       'Financial Transaction Processing', 'Timber Operations',\n",
       "       'Colleges & Universities', 'Travel Agencies', 'Accounting',\n",
       "       'Logistics & Supply Chain', 'Farm Support Services',\n",
       "       'Social Assistance', 'Construction',\n",
       "       'Department, Clothing, & Shoe Stores', 'Publishing',\n",
       "       'Health, Beauty, & Fitness', 'Wholesale', 'Rail'], dtype=object)"
      ]
     },
     "execution_count": 52,
     "metadata": {},
     "output_type": "execute_result"
    }
   ],
   "source": [
    "job_data[\"industry\"] = job_data[\"industry\"].apply(lambda x: x.replace(\"-1\",\"n/a\"))\n",
    "job_data['industry'].unique()"
   ]
  },
  {
   "cell_type": "code",
   "execution_count": 53,
   "metadata": {
    "tags": []
   },
   "outputs": [
    {
     "data": {
      "text/plain": [
       "Information Technology                187\n",
       "Business Services                     120\n",
       "Biotech & Pharmaceuticals              66\n",
       "-1                                     60\n",
       "Aerospace & Defense                    46\n",
       "Insurance                              32\n",
       "Finance                                32\n",
       "Manufacturing                          23\n",
       "Health Care                            21\n",
       "Government                             17\n",
       "Oil, Gas, Energy & Utilities           10\n",
       "Retail                                  7\n",
       "Telecommunications                      7\n",
       "Transportation & Logistics              6\n",
       "Media                                   5\n",
       "Real Estate                             3\n",
       "Travel & Tourism                        3\n",
       "Agriculture & Forestry                  3\n",
       "Education                               3\n",
       "Accounting & Legal                      3\n",
       "Construction, Repair & Maintenance      2\n",
       "Consumer Services                       2\n",
       "Non-Profit                              1\n",
       "Name: sector, dtype: int64"
      ]
     },
     "execution_count": 53,
     "metadata": {},
     "output_type": "execute_result"
    }
   ],
   "source": [
    "# Inspect the sector column\n",
    "job_data['sector'].value_counts()"
   ]
  },
  {
   "cell_type": "code",
   "execution_count": 54,
   "metadata": {
    "tags": []
   },
   "outputs": [
    {
     "data": {
      "text/plain": [
       "array(['Insurance', 'Business Services', 'Manufacturing',\n",
       "       'Information Technology', 'Biotech & Pharmaceuticals', 'Retail',\n",
       "       'Oil, Gas, Energy & Utilities', 'Government', 'Health Care',\n",
       "       'Finance', 'Aerospace & Defense', 'n/a',\n",
       "       'Transportation & Logistics', 'Media', 'Telecommunications',\n",
       "       'Real Estate', 'Travel & Tourism', 'Agriculture & Forestry',\n",
       "       'Education', 'Accounting & Legal', 'Non-Profit',\n",
       "       'Construction, Repair & Maintenance', 'Consumer Services'],\n",
       "      dtype=object)"
      ]
     },
     "execution_count": 54,
     "metadata": {},
     "output_type": "execute_result"
    }
   ],
   "source": [
    "job_data['sector'] = job_data['sector'].apply(lambda x: x.replace(\"-1\",\"n/a\"))\n",
    "job_data['sector'].unique()"
   ]
  },
  {
   "cell_type": "code",
   "execution_count": 55,
   "metadata": {
    "tags": []
   },
   "outputs": [
    {
     "data": {
      "text/plain": [
       "Unknown / Non-Applicable            212\n",
       "$100 to $500 million (USD)           94\n",
       "$10+ billion (USD)                   63\n",
       "$2 to $5 billion (USD)               45\n",
       "$10 to $25 million (USD)             41\n",
       "$1 to $2 billion (USD)               36\n",
       "$25 to $50 million (USD)             36\n",
       "$1 to $5 million (USD)               31\n",
       "$50 to $100 million (USD)            30\n",
       "$500 million to $1 billion (USD)     19\n",
       "-1                                   16\n",
       "$5 to $10 million (USD)              14\n",
       "Less than $1 million (USD)           14\n",
       "$5 to $10 billion (USD)               8\n",
       "Name: revenue, dtype: int64"
      ]
     },
     "execution_count": 55,
     "metadata": {},
     "output_type": "execute_result"
    }
   ],
   "source": [
    "# Inspect the revenue column\n",
    "job_data['revenue'].value_counts()"
   ]
  },
  {
   "cell_type": "markdown",
   "metadata": {},
   "source": [
    "_we should follow the same process for missing numbers and also get rid of the parenthesis._"
   ]
  },
  {
   "cell_type": "code",
   "execution_count": 56,
   "metadata": {
    "tags": []
   },
   "outputs": [],
   "source": [
    "def revenue_cleanup(jobs):\n",
    "    return (\n",
    "        jobs.loc[:, \"revenue\"]\n",
    "        .replace(\"-1\",\"n/a\")\n",
    "        .replace(\"Unknown / Non-Applicable\",\"n/a\")\n",
    "    )\n",
    "\n",
    "job_data = job_data.assign(\n",
    "    revenue = revenue_cleanup\n",
    ")"
   ]
  },
  {
   "cell_type": "code",
   "execution_count": 57,
   "metadata": {
    "tags": []
   },
   "outputs": [
    {
     "data": {
      "text/plain": [
       "n/a                            228\n",
       "$100 to $500 million            94\n",
       "$10+ billion                    63\n",
       "$2 to $5 billion                45\n",
       "$10 to $25 million              41\n",
       "$1 to $2 billion                36\n",
       "$25 to $50 million              36\n",
       "$1 to $5 million                31\n",
       "$50 to $100 million             30\n",
       "$500 million to $1 billion      19\n",
       "$5 to $10 million               14\n",
       "Less than $1 million            14\n",
       "$5 to $10 billion                8\n",
       "Name: revenue, dtype: int64"
      ]
     },
     "execution_count": 57,
     "metadata": {},
     "output_type": "execute_result"
    }
   ],
   "source": [
    "job_data['revenue']=job_data.loc[:,'revenue'].str.extract('([^()]+)')\n",
    "job_data['revenue'].value_counts()"
   ]
  },
  {
   "cell_type": "code",
   "execution_count": 58,
   "metadata": {
    "tags": []
   },
   "outputs": [
    {
     "data": {
      "text/plain": [
       "-1                                                             488\n",
       "Roche, GlaxoSmithKline, Novartis                                10\n",
       "Leidos, CACI International, Booz Allen Hamilton                  6\n",
       "Los Alamos National Laboratory, Battelle, SRI International      6\n",
       "IMAGE Skincare, Aveda, Kiehl's                                   3\n",
       "                                                              ... \n",
       "United Natural Foods, US Foods, DPI Specialty Foods              1\n",
       "Arbella Insurance, Safety Insurance                              1\n",
       "Engagio, Bombora, Terminus                                       1\n",
       "SAIC, Leidos, Northrop Grumman                                   1\n",
       "Bosch, Lear Corporation, Faurecia                                1\n",
       "Name: competitors, Length: 108, dtype: int64"
      ]
     },
     "execution_count": 58,
     "metadata": {},
     "output_type": "execute_result"
    }
   ],
   "source": [
    "# Finally inspect the competitors column\n",
    "job_data['competitors'].value_counts()\n"
   ]
  },
  {
   "cell_type": "markdown",
   "metadata": {},
   "source": [
    "_The most frequent value of this column is '-1'. We can check the percentage of this in order to decide to drop it or not. In addition to this, we also consider the low importance of this information._"
   ]
  },
  {
   "cell_type": "code",
   "execution_count": 59,
   "metadata": {
    "tags": []
   },
   "outputs": [
    {
     "data": {
      "text/plain": [
       "74.05"
      ]
     },
     "execution_count": 59,
     "metadata": {},
     "output_type": "execute_result"
    }
   ],
   "source": [
    "np.round((488/659)*100,decimals=2)"
   ]
  },
  {
   "cell_type": "code",
   "execution_count": 60,
   "metadata": {
    "tags": []
   },
   "outputs": [],
   "source": [
    "#The percentage is too high so we drop this column\n",
    "job_data.drop('competitors',axis=1,inplace=True)"
   ]
  },
  {
   "cell_type": "code",
   "execution_count": 61,
   "metadata": {
    "tags": []
   },
   "outputs": [
    {
     "data": {
      "text/html": [
       "<div>\n",
       "<style scoped>\n",
       "    .dataframe tbody tr th:only-of-type {\n",
       "        vertical-align: middle;\n",
       "    }\n",
       "\n",
       "    .dataframe tbody tr th {\n",
       "        vertical-align: top;\n",
       "    }\n",
       "\n",
       "    .dataframe thead th {\n",
       "        text-align: right;\n",
       "    }\n",
       "</style>\n",
       "<table border=\"1\" class=\"dataframe\">\n",
       "  <thead>\n",
       "    <tr style=\"text-align: right;\">\n",
       "      <th></th>\n",
       "      <th>job_title</th>\n",
       "      <th>job_description</th>\n",
       "      <th>rating</th>\n",
       "      <th>company_name</th>\n",
       "      <th>location</th>\n",
       "      <th>headquarters</th>\n",
       "      <th>size</th>\n",
       "      <th>type_of_ownership</th>\n",
       "      <th>industry</th>\n",
       "      <th>sector</th>\n",
       "      <th>revenue</th>\n",
       "      <th>min_salary_K$</th>\n",
       "      <th>max_salary_K$</th>\n",
       "      <th>avg_salary_estimate</th>\n",
       "      <th>location_state</th>\n",
       "      <th>same_state</th>\n",
       "      <th>years_in_market</th>\n",
       "    </tr>\n",
       "  </thead>\n",
       "  <tbody>\n",
       "    <tr>\n",
       "      <th>0</th>\n",
       "      <td>srData Scientist</td>\n",
       "      <td>Description\\n\\nThe Senior Data Scientist is re...</td>\n",
       "      <td>3.1</td>\n",
       "      <td>Healthfirst</td>\n",
       "      <td>New York, NY</td>\n",
       "      <td>New York, NY</td>\n",
       "      <td>1001 to 5000 employees</td>\n",
       "      <td>Nonprofit</td>\n",
       "      <td>Insurance Carriers</td>\n",
       "      <td>Insurance</td>\n",
       "      <td>n/a</td>\n",
       "      <td>137</td>\n",
       "      <td>171</td>\n",
       "      <td>154</td>\n",
       "      <td>NY</td>\n",
       "      <td>1</td>\n",
       "      <td>30.0</td>\n",
       "    </tr>\n",
       "    <tr>\n",
       "      <th>1</th>\n",
       "      <td>Data Scientist</td>\n",
       "      <td>Secure our Nation, Ignite your Future\\n\\nJoin ...</td>\n",
       "      <td>4.2</td>\n",
       "      <td>ManTech</td>\n",
       "      <td>Chantilly, VA</td>\n",
       "      <td>Herndon, VA</td>\n",
       "      <td>5001 to 10000 employees</td>\n",
       "      <td>Public</td>\n",
       "      <td>Research &amp; Development</td>\n",
       "      <td>Business Services</td>\n",
       "      <td>$1 to $2 billion</td>\n",
       "      <td>137</td>\n",
       "      <td>171</td>\n",
       "      <td>154</td>\n",
       "      <td>VA</td>\n",
       "      <td>0</td>\n",
       "      <td>55.0</td>\n",
       "    </tr>\n",
       "    <tr>\n",
       "      <th>2</th>\n",
       "      <td>Data Scientist</td>\n",
       "      <td>Overview\\n\\n\\nAnalysis Group is one of the lar...</td>\n",
       "      <td>3.8</td>\n",
       "      <td>Analysis Group</td>\n",
       "      <td>Boston, MA</td>\n",
       "      <td>Boston, MA</td>\n",
       "      <td>1001 to 5000 employees</td>\n",
       "      <td>Private Practice / Firm</td>\n",
       "      <td>Consulting</td>\n",
       "      <td>Business Services</td>\n",
       "      <td>$100 to $500 million</td>\n",
       "      <td>137</td>\n",
       "      <td>171</td>\n",
       "      <td>154</td>\n",
       "      <td>MA</td>\n",
       "      <td>1</td>\n",
       "      <td>42.0</td>\n",
       "    </tr>\n",
       "    <tr>\n",
       "      <th>3</th>\n",
       "      <td>Data Scientist</td>\n",
       "      <td>JOB DESCRIPTION:\\n\\nDo you have a passion for ...</td>\n",
       "      <td>3.5</td>\n",
       "      <td>INFICON</td>\n",
       "      <td>Newton, MA</td>\n",
       "      <td>Bad Ragaz, Switzerland</td>\n",
       "      <td>501 to 1000 employees</td>\n",
       "      <td>Public</td>\n",
       "      <td>Electrical &amp; Electronic Manufacturing</td>\n",
       "      <td>Manufacturing</td>\n",
       "      <td>$100 to $500 million</td>\n",
       "      <td>137</td>\n",
       "      <td>171</td>\n",
       "      <td>154</td>\n",
       "      <td>MA</td>\n",
       "      <td>0</td>\n",
       "      <td>23.0</td>\n",
       "    </tr>\n",
       "    <tr>\n",
       "      <th>4</th>\n",
       "      <td>Data Scientist</td>\n",
       "      <td>Data Scientist\\nAffinity Solutions / Marketing...</td>\n",
       "      <td>2.9</td>\n",
       "      <td>Affinity Solutions</td>\n",
       "      <td>New York, NY</td>\n",
       "      <td>New York, NY</td>\n",
       "      <td>51 to 200 employees</td>\n",
       "      <td>Private</td>\n",
       "      <td>Advertising &amp; Marketing</td>\n",
       "      <td>Business Services</td>\n",
       "      <td>n/a</td>\n",
       "      <td>137</td>\n",
       "      <td>171</td>\n",
       "      <td>154</td>\n",
       "      <td>NY</td>\n",
       "      <td>1</td>\n",
       "      <td>25.0</td>\n",
       "    </tr>\n",
       "  </tbody>\n",
       "</table>\n",
       "</div>"
      ],
      "text/plain": [
       "          job_title                                    job_description  \\\n",
       "0  srData Scientist  Description\\n\\nThe Senior Data Scientist is re...   \n",
       "1    Data Scientist  Secure our Nation, Ignite your Future\\n\\nJoin ...   \n",
       "2    Data Scientist  Overview\\n\\n\\nAnalysis Group is one of the lar...   \n",
       "3    Data Scientist  JOB DESCRIPTION:\\n\\nDo you have a passion for ...   \n",
       "4    Data Scientist  Data Scientist\\nAffinity Solutions / Marketing...   \n",
       "\n",
       "   rating        company_name       location            headquarters  \\\n",
       "0     3.1         Healthfirst   New York, NY            New York, NY   \n",
       "1     4.2             ManTech  Chantilly, VA             Herndon, VA   \n",
       "2     3.8      Analysis Group     Boston, MA              Boston, MA   \n",
       "3     3.5             INFICON     Newton, MA  Bad Ragaz, Switzerland   \n",
       "4     2.9  Affinity Solutions   New York, NY            New York, NY   \n",
       "\n",
       "                      size        type_of_ownership  \\\n",
       "0   1001 to 5000 employees                Nonprofit   \n",
       "1  5001 to 10000 employees                   Public   \n",
       "2   1001 to 5000 employees  Private Practice / Firm   \n",
       "3    501 to 1000 employees                   Public   \n",
       "4      51 to 200 employees                  Private   \n",
       "\n",
       "                                industry             sector  \\\n",
       "0                     Insurance Carriers          Insurance   \n",
       "1                 Research & Development  Business Services   \n",
       "2                             Consulting  Business Services   \n",
       "3  Electrical & Electronic Manufacturing      Manufacturing   \n",
       "4                Advertising & Marketing  Business Services   \n",
       "\n",
       "                 revenue  min_salary_K$  max_salary_K$  avg_salary_estimate  \\\n",
       "0                    n/a            137            171                  154   \n",
       "1      $1 to $2 billion             137            171                  154   \n",
       "2  $100 to $500 million             137            171                  154   \n",
       "3  $100 to $500 million             137            171                  154   \n",
       "4                    n/a            137            171                  154   \n",
       "\n",
       "  location_state  same_state  years_in_market  \n",
       "0             NY           1             30.0  \n",
       "1             VA           0             55.0  \n",
       "2             MA           1             42.0  \n",
       "3             MA           0             23.0  \n",
       "4             NY           1             25.0  "
      ]
     },
     "execution_count": 61,
     "metadata": {},
     "output_type": "execute_result"
    }
   ],
   "source": [
    "job_data.head()"
   ]
  },
  {
   "cell_type": "code",
   "execution_count": 62,
   "metadata": {
    "tags": []
   },
   "outputs": [
    {
     "data": {
      "text/html": [
       "<div>\n",
       "<style scoped>\n",
       "    .dataframe tbody tr th:only-of-type {\n",
       "        vertical-align: middle;\n",
       "    }\n",
       "\n",
       "    .dataframe tbody tr th {\n",
       "        vertical-align: top;\n",
       "    }\n",
       "\n",
       "    .dataframe thead th {\n",
       "        text-align: right;\n",
       "    }\n",
       "</style>\n",
       "<table border=\"1\" class=\"dataframe\">\n",
       "  <thead>\n",
       "    <tr style=\"text-align: right;\">\n",
       "      <th></th>\n",
       "      <th>job_title</th>\n",
       "      <th>job_description</th>\n",
       "      <th>rating</th>\n",
       "      <th>company_name</th>\n",
       "      <th>location</th>\n",
       "      <th>headquarters</th>\n",
       "      <th>size</th>\n",
       "      <th>type_of_ownership</th>\n",
       "      <th>industry</th>\n",
       "      <th>sector</th>\n",
       "      <th>revenue</th>\n",
       "      <th>min_salary_K$</th>\n",
       "      <th>max_salary_K$</th>\n",
       "      <th>avg_salary_estimate</th>\n",
       "      <th>location_state</th>\n",
       "      <th>same_state</th>\n",
       "      <th>years_in_market</th>\n",
       "    </tr>\n",
       "  </thead>\n",
       "  <tbody>\n",
       "  </tbody>\n",
       "</table>\n",
       "</div>"
      ],
      "text/plain": [
       "Empty DataFrame\n",
       "Columns: [job_title, job_description, rating, company_name, location, headquarters, size, type_of_ownership, industry, sector, revenue, min_salary_K$, max_salary_K$, avg_salary_estimate, location_state, same_state, years_in_market]\n",
       "Index: []"
      ]
     },
     "execution_count": 62,
     "metadata": {},
     "output_type": "execute_result"
    }
   ],
   "source": [
    "# Check if we have any '-1' as missing values\n",
    "job_data[job_data.eq('-1').any(axis = 1)]"
   ]
  },
  {
   "cell_type": "code",
   "execution_count": 63,
   "metadata": {
    "tags": []
   },
   "outputs": [
    {
     "data": {
      "text/html": [
       "<div>\n",
       "<style scoped>\n",
       "    .dataframe tbody tr th:only-of-type {\n",
       "        vertical-align: middle;\n",
       "    }\n",
       "\n",
       "    .dataframe tbody tr th {\n",
       "        vertical-align: top;\n",
       "    }\n",
       "\n",
       "    .dataframe thead th {\n",
       "        text-align: right;\n",
       "    }\n",
       "</style>\n",
       "<table border=\"1\" class=\"dataframe\">\n",
       "  <thead>\n",
       "    <tr style=\"text-align: right;\">\n",
       "      <th></th>\n",
       "      <th>job_title</th>\n",
       "      <th>job_description</th>\n",
       "      <th>rating</th>\n",
       "      <th>company_name</th>\n",
       "      <th>location</th>\n",
       "      <th>headquarters</th>\n",
       "      <th>size</th>\n",
       "      <th>type_of_ownership</th>\n",
       "      <th>industry</th>\n",
       "      <th>sector</th>\n",
       "      <th>revenue</th>\n",
       "      <th>min_salary_K$</th>\n",
       "      <th>max_salary_K$</th>\n",
       "      <th>avg_salary_estimate</th>\n",
       "      <th>location_state</th>\n",
       "      <th>same_state</th>\n",
       "      <th>years_in_market</th>\n",
       "    </tr>\n",
       "  </thead>\n",
       "  <tbody>\n",
       "  </tbody>\n",
       "</table>\n",
       "</div>"
      ],
      "text/plain": [
       "Empty DataFrame\n",
       "Columns: [job_title, job_description, rating, company_name, location, headquarters, size, type_of_ownership, industry, sector, revenue, min_salary_K$, max_salary_K$, avg_salary_estimate, location_state, same_state, years_in_market]\n",
       "Index: []"
      ]
     },
     "execution_count": 63,
     "metadata": {},
     "output_type": "execute_result"
    }
   ],
   "source": [
    "# Check if we have a numerical missing value in any column \n",
    "job_data[job_data.eq(-1).any(axis = 1)]"
   ]
  },
  {
   "cell_type": "markdown",
   "metadata": {},
   "source": [
    "_We can proceed by adding an additional column that can help us catergorize the job roles into 4 specific roles for the EDA part._"
   ]
  },
  {
   "cell_type": "code",
   "execution_count": 64,
   "metadata": {
    "tags": []
   },
   "outputs": [],
   "source": [
    "# Define a simplification function\n",
    "\n",
    "def role_defining(title): \n",
    "    if any(keyword in title.lower() for keyword in ['data scientist', 'data science']):\n",
    "        return 'Data Scientist'\n",
    "    elif any(keyword in title.lower() for keyword in ['data analyst', 'analyst']):\n",
    "        return 'Data Analyst'\n",
    "    elif 'data engineer' in title.lower():\n",
    "        return 'Data Engineer'\n",
    "    elif any(keyword in title.lower() for keyword in ['machine learning', 'ai']):\n",
    "        return 'Machine Learning Engineer'\n",
    "    else:\n",
    "        return 'Other'"
   ]
  },
  {
   "cell_type": "code",
   "execution_count": 65,
   "metadata": {
    "tags": []
   },
   "outputs": [
    {
     "data": {
      "text/plain": [
       "Data Scientist               460\n",
       "Other                         65\n",
       "Data Analyst                  54\n",
       "Data Engineer                 45\n",
       "Machine Learning Engineer     35\n",
       "Name: job_role, dtype: int64"
      ]
     },
     "execution_count": 65,
     "metadata": {},
     "output_type": "execute_result"
    }
   ],
   "source": [
    "# Apply the function to the new column\n",
    "job_data['job_role']= job_data['job_title'].apply(role_defining)\n",
    "job_data['job_role'].value_counts()"
   ]
  },
  {
   "cell_type": "markdown",
   "metadata": {},
   "source": [
    "_Proceed in a similar way to obtain the level of seniority in a new column._"
   ]
  },
  {
   "cell_type": "code",
   "execution_count": 66,
   "metadata": {
    "tags": []
   },
   "outputs": [
    {
     "data": {
      "text/plain": [
       "Mid-Level    422\n",
       "Sr           201\n",
       "Jr            36\n",
       "Name: job_seniority, dtype: int64"
      ]
     },
     "execution_count": 66,
     "metadata": {},
     "output_type": "execute_result"
    }
   ],
   "source": [
    "def seniority_defining(title,description):\n",
    "    if any(keyword in title.lower() for keyword in ['jr.','jr','junior']) or any(keyword in description.lower() for keyword in ['jr.','jr','junior']):\n",
    "        return 'Jr'\n",
    "    elif any(keyword in title.lower() for keyword in ['sr.','sr','vp','senior']) or any(keyword in description.lower() for keyword in ['sr.','sr','vp','senior']):\n",
    "        return 'Sr'\n",
    "    else:\n",
    "        return 'Mid-Level'\n",
    "    \n",
    "\n",
    "job_data['job_seniority'] = job_data.apply(lambda row: seniority_defining(row['job_title'], row['job_description']), axis=1)\n",
    "job_data['job_seniority'].value_counts()"
   ]
  },
  {
   "cell_type": "code",
   "execution_count": 67,
   "metadata": {
    "tags": []
   },
   "outputs": [
    {
     "data": {
      "text/html": [
       "<div>\n",
       "<style scoped>\n",
       "    .dataframe tbody tr th:only-of-type {\n",
       "        vertical-align: middle;\n",
       "    }\n",
       "\n",
       "    .dataframe tbody tr th {\n",
       "        vertical-align: top;\n",
       "    }\n",
       "\n",
       "    .dataframe thead th {\n",
       "        text-align: right;\n",
       "    }\n",
       "</style>\n",
       "<table border=\"1\" class=\"dataframe\">\n",
       "  <thead>\n",
       "    <tr style=\"text-align: right;\">\n",
       "      <th></th>\n",
       "      <th>job_title</th>\n",
       "      <th>job_description</th>\n",
       "      <th>rating</th>\n",
       "      <th>company_name</th>\n",
       "      <th>location</th>\n",
       "      <th>headquarters</th>\n",
       "      <th>size</th>\n",
       "      <th>type_of_ownership</th>\n",
       "      <th>industry</th>\n",
       "      <th>sector</th>\n",
       "      <th>revenue</th>\n",
       "      <th>min_salary_K$</th>\n",
       "      <th>max_salary_K$</th>\n",
       "      <th>avg_salary_estimate</th>\n",
       "      <th>location_state</th>\n",
       "      <th>same_state</th>\n",
       "      <th>years_in_market</th>\n",
       "      <th>job_role</th>\n",
       "      <th>job_seniority</th>\n",
       "    </tr>\n",
       "  </thead>\n",
       "  <tbody>\n",
       "    <tr>\n",
       "      <th>0</th>\n",
       "      <td>srData Scientist</td>\n",
       "      <td>Description\\n\\nThe Senior Data Scientist is re...</td>\n",
       "      <td>3.1</td>\n",
       "      <td>Healthfirst</td>\n",
       "      <td>New York, NY</td>\n",
       "      <td>New York, NY</td>\n",
       "      <td>1001 to 5000 employees</td>\n",
       "      <td>Nonprofit</td>\n",
       "      <td>Insurance Carriers</td>\n",
       "      <td>Insurance</td>\n",
       "      <td>n/a</td>\n",
       "      <td>137</td>\n",
       "      <td>171</td>\n",
       "      <td>154</td>\n",
       "      <td>NY</td>\n",
       "      <td>1</td>\n",
       "      <td>30.0</td>\n",
       "      <td>Data Scientist</td>\n",
       "      <td>Sr</td>\n",
       "    </tr>\n",
       "    <tr>\n",
       "      <th>1</th>\n",
       "      <td>Data Scientist</td>\n",
       "      <td>Secure our Nation, Ignite your Future\\n\\nJoin ...</td>\n",
       "      <td>4.2</td>\n",
       "      <td>ManTech</td>\n",
       "      <td>Chantilly, VA</td>\n",
       "      <td>Herndon, VA</td>\n",
       "      <td>5001 to 10000 employees</td>\n",
       "      <td>Public</td>\n",
       "      <td>Research &amp; Development</td>\n",
       "      <td>Business Services</td>\n",
       "      <td>$1 to $2 billion</td>\n",
       "      <td>137</td>\n",
       "      <td>171</td>\n",
       "      <td>154</td>\n",
       "      <td>VA</td>\n",
       "      <td>0</td>\n",
       "      <td>55.0</td>\n",
       "      <td>Data Scientist</td>\n",
       "      <td>Mid-Level</td>\n",
       "    </tr>\n",
       "    <tr>\n",
       "      <th>2</th>\n",
       "      <td>Data Scientist</td>\n",
       "      <td>Overview\\n\\n\\nAnalysis Group is one of the lar...</td>\n",
       "      <td>3.8</td>\n",
       "      <td>Analysis Group</td>\n",
       "      <td>Boston, MA</td>\n",
       "      <td>Boston, MA</td>\n",
       "      <td>1001 to 5000 employees</td>\n",
       "      <td>Private Practice / Firm</td>\n",
       "      <td>Consulting</td>\n",
       "      <td>Business Services</td>\n",
       "      <td>$100 to $500 million</td>\n",
       "      <td>137</td>\n",
       "      <td>171</td>\n",
       "      <td>154</td>\n",
       "      <td>MA</td>\n",
       "      <td>1</td>\n",
       "      <td>42.0</td>\n",
       "      <td>Data Scientist</td>\n",
       "      <td>Mid-Level</td>\n",
       "    </tr>\n",
       "    <tr>\n",
       "      <th>3</th>\n",
       "      <td>Data Scientist</td>\n",
       "      <td>JOB DESCRIPTION:\\n\\nDo you have a passion for ...</td>\n",
       "      <td>3.5</td>\n",
       "      <td>INFICON</td>\n",
       "      <td>Newton, MA</td>\n",
       "      <td>Bad Ragaz, Switzerland</td>\n",
       "      <td>501 to 1000 employees</td>\n",
       "      <td>Public</td>\n",
       "      <td>Electrical &amp; Electronic Manufacturing</td>\n",
       "      <td>Manufacturing</td>\n",
       "      <td>$100 to $500 million</td>\n",
       "      <td>137</td>\n",
       "      <td>171</td>\n",
       "      <td>154</td>\n",
       "      <td>MA</td>\n",
       "      <td>0</td>\n",
       "      <td>23.0</td>\n",
       "      <td>Data Scientist</td>\n",
       "      <td>Mid-Level</td>\n",
       "    </tr>\n",
       "    <tr>\n",
       "      <th>4</th>\n",
       "      <td>Data Scientist</td>\n",
       "      <td>Data Scientist\\nAffinity Solutions / Marketing...</td>\n",
       "      <td>2.9</td>\n",
       "      <td>Affinity Solutions</td>\n",
       "      <td>New York, NY</td>\n",
       "      <td>New York, NY</td>\n",
       "      <td>51 to 200 employees</td>\n",
       "      <td>Private</td>\n",
       "      <td>Advertising &amp; Marketing</td>\n",
       "      <td>Business Services</td>\n",
       "      <td>n/a</td>\n",
       "      <td>137</td>\n",
       "      <td>171</td>\n",
       "      <td>154</td>\n",
       "      <td>NY</td>\n",
       "      <td>1</td>\n",
       "      <td>25.0</td>\n",
       "      <td>Data Scientist</td>\n",
       "      <td>Mid-Level</td>\n",
       "    </tr>\n",
       "  </tbody>\n",
       "</table>\n",
       "</div>"
      ],
      "text/plain": [
       "          job_title                                    job_description  \\\n",
       "0  srData Scientist  Description\\n\\nThe Senior Data Scientist is re...   \n",
       "1    Data Scientist  Secure our Nation, Ignite your Future\\n\\nJoin ...   \n",
       "2    Data Scientist  Overview\\n\\n\\nAnalysis Group is one of the lar...   \n",
       "3    Data Scientist  JOB DESCRIPTION:\\n\\nDo you have a passion for ...   \n",
       "4    Data Scientist  Data Scientist\\nAffinity Solutions / Marketing...   \n",
       "\n",
       "   rating        company_name       location            headquarters  \\\n",
       "0     3.1         Healthfirst   New York, NY            New York, NY   \n",
       "1     4.2             ManTech  Chantilly, VA             Herndon, VA   \n",
       "2     3.8      Analysis Group     Boston, MA              Boston, MA   \n",
       "3     3.5             INFICON     Newton, MA  Bad Ragaz, Switzerland   \n",
       "4     2.9  Affinity Solutions   New York, NY            New York, NY   \n",
       "\n",
       "                      size        type_of_ownership  \\\n",
       "0   1001 to 5000 employees                Nonprofit   \n",
       "1  5001 to 10000 employees                   Public   \n",
       "2   1001 to 5000 employees  Private Practice / Firm   \n",
       "3    501 to 1000 employees                   Public   \n",
       "4      51 to 200 employees                  Private   \n",
       "\n",
       "                                industry             sector  \\\n",
       "0                     Insurance Carriers          Insurance   \n",
       "1                 Research & Development  Business Services   \n",
       "2                             Consulting  Business Services   \n",
       "3  Electrical & Electronic Manufacturing      Manufacturing   \n",
       "4                Advertising & Marketing  Business Services   \n",
       "\n",
       "                 revenue  min_salary_K$  max_salary_K$  avg_salary_estimate  \\\n",
       "0                    n/a            137            171                  154   \n",
       "1      $1 to $2 billion             137            171                  154   \n",
       "2  $100 to $500 million             137            171                  154   \n",
       "3  $100 to $500 million             137            171                  154   \n",
       "4                    n/a            137            171                  154   \n",
       "\n",
       "  location_state  same_state  years_in_market        job_role job_seniority  \n",
       "0             NY           1             30.0  Data Scientist            Sr  \n",
       "1             VA           0             55.0  Data Scientist     Mid-Level  \n",
       "2             MA           1             42.0  Data Scientist     Mid-Level  \n",
       "3             MA           0             23.0  Data Scientist     Mid-Level  \n",
       "4             NY           1             25.0  Data Scientist     Mid-Level  "
      ]
     },
     "execution_count": 67,
     "metadata": {},
     "output_type": "execute_result"
    }
   ],
   "source": [
    "job_data.head()"
   ]
  },
  {
   "cell_type": "markdown",
   "metadata": {},
   "source": [
    "_Finally we need to obtain the technical skills required for each job posting. We can achieve this by creating binary columns named after each skill and then checking if the skill is found in the description column. According to that result we can set 1 or 0 to each binary column for each job post._"
   ]
  },
  {
   "cell_type": "code",
   "execution_count": 68,
   "metadata": {
    "tags": []
   },
   "outputs": [],
   "source": [
    "# Create dummy columns for each of the skill considered.\n",
    "job_data['excel'] = job_data.apply(lambda x: 1 if 'excel' in x.job_description.lower() else 0, axis=1)\n",
    "job_data['sql'] = job_data.apply(lambda x: 1 if 'sql' in x.job_description.lower() else 0, axis=1)\n",
    "job_data['python'] = job_data.apply(lambda x: 1 if 'python' in x.job_description.lower() else 0, axis=1)\n",
    "job_data['power_bi'] = job_data.apply(lambda x: 1 if 'power bi' in x.job_description.lower() else 0, axis=1)\n",
    "job_data['tableau'] = job_data.apply(lambda x: 1 if 'tableau' in x.job_description.lower() else 0, axis=1)\n",
    "job_data['scikit'] = job_data.apply(lambda x: 1 if 'scikit' in x.job_description.lower() else 0, axis=1)\n",
    "job_data['spark'] = job_data.apply(lambda x: 1 if 'spark' in x.job_description.lower() else 0, axis=1)"
   ]
  },
  {
   "cell_type": "code",
   "execution_count": 69,
   "metadata": {
    "tags": []
   },
   "outputs": [
    {
     "name": "stdout",
     "output_type": "stream",
     "text": [
      "0    364\n",
      "1    295\n",
      "Name: excel, dtype: int64\n",
      "1    354\n",
      "0    305\n",
      "Name: sql, dtype: int64\n",
      "1    479\n",
      "0    180\n",
      "Name: python, dtype: int64\n",
      "0    625\n",
      "1     34\n",
      "Name: power_bi, dtype: int64\n",
      "0    537\n",
      "1    122\n",
      "Name: tableau, dtype: int64\n",
      "0    592\n",
      "1     67\n",
      "Name: scikit, dtype: int64\n",
      "0    482\n",
      "1    177\n",
      "Name: spark, dtype: int64\n"
     ]
    }
   ],
   "source": [
    "print(job_data['excel'].value_counts())\n",
    "print(job_data['sql'].value_counts())\n",
    "print(job_data['python'].value_counts())\n",
    "print(job_data['power_bi'].value_counts())\n",
    "print(job_data['tableau'].value_counts())\n",
    "print(job_data['scikit'].value_counts())\n",
    "print(job_data['spark'].value_counts())"
   ]
  },
  {
   "cell_type": "code",
   "execution_count": 70,
   "metadata": {
    "tags": []
   },
   "outputs": [
    {
     "data": {
      "text/html": [
       "<div>\n",
       "<style scoped>\n",
       "    .dataframe tbody tr th:only-of-type {\n",
       "        vertical-align: middle;\n",
       "    }\n",
       "\n",
       "    .dataframe tbody tr th {\n",
       "        vertical-align: top;\n",
       "    }\n",
       "\n",
       "    .dataframe thead th {\n",
       "        text-align: right;\n",
       "    }\n",
       "</style>\n",
       "<table border=\"1\" class=\"dataframe\">\n",
       "  <thead>\n",
       "    <tr style=\"text-align: right;\">\n",
       "      <th></th>\n",
       "      <th>job_title</th>\n",
       "      <th>job_description</th>\n",
       "      <th>rating</th>\n",
       "      <th>company_name</th>\n",
       "      <th>location</th>\n",
       "      <th>headquarters</th>\n",
       "      <th>size</th>\n",
       "      <th>type_of_ownership</th>\n",
       "      <th>industry</th>\n",
       "      <th>sector</th>\n",
       "      <th>...</th>\n",
       "      <th>years_in_market</th>\n",
       "      <th>job_role</th>\n",
       "      <th>job_seniority</th>\n",
       "      <th>excel</th>\n",
       "      <th>sql</th>\n",
       "      <th>python</th>\n",
       "      <th>power_bi</th>\n",
       "      <th>tableau</th>\n",
       "      <th>scikit</th>\n",
       "      <th>spark</th>\n",
       "    </tr>\n",
       "  </thead>\n",
       "  <tbody>\n",
       "    <tr>\n",
       "      <th>0</th>\n",
       "      <td>srData Scientist</td>\n",
       "      <td>Description\\n\\nThe Senior Data Scientist is re...</td>\n",
       "      <td>3.1</td>\n",
       "      <td>Healthfirst</td>\n",
       "      <td>New York, NY</td>\n",
       "      <td>New York, NY</td>\n",
       "      <td>1001 to 5000 employees</td>\n",
       "      <td>Nonprofit</td>\n",
       "      <td>Insurance Carriers</td>\n",
       "      <td>Insurance</td>\n",
       "      <td>...</td>\n",
       "      <td>30.0</td>\n",
       "      <td>Data Scientist</td>\n",
       "      <td>Sr</td>\n",
       "      <td>0</td>\n",
       "      <td>0</td>\n",
       "      <td>0</td>\n",
       "      <td>0</td>\n",
       "      <td>0</td>\n",
       "      <td>0</td>\n",
       "      <td>0</td>\n",
       "    </tr>\n",
       "    <tr>\n",
       "      <th>1</th>\n",
       "      <td>Data Scientist</td>\n",
       "      <td>Secure our Nation, Ignite your Future\\n\\nJoin ...</td>\n",
       "      <td>4.2</td>\n",
       "      <td>ManTech</td>\n",
       "      <td>Chantilly, VA</td>\n",
       "      <td>Herndon, VA</td>\n",
       "      <td>5001 to 10000 employees</td>\n",
       "      <td>Public</td>\n",
       "      <td>Research &amp; Development</td>\n",
       "      <td>Business Services</td>\n",
       "      <td>...</td>\n",
       "      <td>55.0</td>\n",
       "      <td>Data Scientist</td>\n",
       "      <td>Mid-Level</td>\n",
       "      <td>0</td>\n",
       "      <td>1</td>\n",
       "      <td>0</td>\n",
       "      <td>0</td>\n",
       "      <td>0</td>\n",
       "      <td>0</td>\n",
       "      <td>0</td>\n",
       "    </tr>\n",
       "    <tr>\n",
       "      <th>2</th>\n",
       "      <td>Data Scientist</td>\n",
       "      <td>Overview\\n\\n\\nAnalysis Group is one of the lar...</td>\n",
       "      <td>3.8</td>\n",
       "      <td>Analysis Group</td>\n",
       "      <td>Boston, MA</td>\n",
       "      <td>Boston, MA</td>\n",
       "      <td>1001 to 5000 employees</td>\n",
       "      <td>Private Practice / Firm</td>\n",
       "      <td>Consulting</td>\n",
       "      <td>Business Services</td>\n",
       "      <td>...</td>\n",
       "      <td>42.0</td>\n",
       "      <td>Data Scientist</td>\n",
       "      <td>Mid-Level</td>\n",
       "      <td>1</td>\n",
       "      <td>0</td>\n",
       "      <td>1</td>\n",
       "      <td>0</td>\n",
       "      <td>0</td>\n",
       "      <td>0</td>\n",
       "      <td>0</td>\n",
       "    </tr>\n",
       "    <tr>\n",
       "      <th>3</th>\n",
       "      <td>Data Scientist</td>\n",
       "      <td>JOB DESCRIPTION:\\n\\nDo you have a passion for ...</td>\n",
       "      <td>3.5</td>\n",
       "      <td>INFICON</td>\n",
       "      <td>Newton, MA</td>\n",
       "      <td>Bad Ragaz, Switzerland</td>\n",
       "      <td>501 to 1000 employees</td>\n",
       "      <td>Public</td>\n",
       "      <td>Electrical &amp; Electronic Manufacturing</td>\n",
       "      <td>Manufacturing</td>\n",
       "      <td>...</td>\n",
       "      <td>23.0</td>\n",
       "      <td>Data Scientist</td>\n",
       "      <td>Mid-Level</td>\n",
       "      <td>1</td>\n",
       "      <td>1</td>\n",
       "      <td>1</td>\n",
       "      <td>0</td>\n",
       "      <td>0</td>\n",
       "      <td>0</td>\n",
       "      <td>0</td>\n",
       "    </tr>\n",
       "    <tr>\n",
       "      <th>4</th>\n",
       "      <td>Data Scientist</td>\n",
       "      <td>Data Scientist\\nAffinity Solutions / Marketing...</td>\n",
       "      <td>2.9</td>\n",
       "      <td>Affinity Solutions</td>\n",
       "      <td>New York, NY</td>\n",
       "      <td>New York, NY</td>\n",
       "      <td>51 to 200 employees</td>\n",
       "      <td>Private</td>\n",
       "      <td>Advertising &amp; Marketing</td>\n",
       "      <td>Business Services</td>\n",
       "      <td>...</td>\n",
       "      <td>25.0</td>\n",
       "      <td>Data Scientist</td>\n",
       "      <td>Mid-Level</td>\n",
       "      <td>1</td>\n",
       "      <td>1</td>\n",
       "      <td>1</td>\n",
       "      <td>0</td>\n",
       "      <td>0</td>\n",
       "      <td>0</td>\n",
       "      <td>0</td>\n",
       "    </tr>\n",
       "  </tbody>\n",
       "</table>\n",
       "<p>5 rows × 26 columns</p>\n",
       "</div>"
      ],
      "text/plain": [
       "          job_title                                    job_description  \\\n",
       "0  srData Scientist  Description\\n\\nThe Senior Data Scientist is re...   \n",
       "1    Data Scientist  Secure our Nation, Ignite your Future\\n\\nJoin ...   \n",
       "2    Data Scientist  Overview\\n\\n\\nAnalysis Group is one of the lar...   \n",
       "3    Data Scientist  JOB DESCRIPTION:\\n\\nDo you have a passion for ...   \n",
       "4    Data Scientist  Data Scientist\\nAffinity Solutions / Marketing...   \n",
       "\n",
       "   rating        company_name       location            headquarters  \\\n",
       "0     3.1         Healthfirst   New York, NY            New York, NY   \n",
       "1     4.2             ManTech  Chantilly, VA             Herndon, VA   \n",
       "2     3.8      Analysis Group     Boston, MA              Boston, MA   \n",
       "3     3.5             INFICON     Newton, MA  Bad Ragaz, Switzerland   \n",
       "4     2.9  Affinity Solutions   New York, NY            New York, NY   \n",
       "\n",
       "                      size        type_of_ownership  \\\n",
       "0   1001 to 5000 employees                Nonprofit   \n",
       "1  5001 to 10000 employees                   Public   \n",
       "2   1001 to 5000 employees  Private Practice / Firm   \n",
       "3    501 to 1000 employees                   Public   \n",
       "4      51 to 200 employees                  Private   \n",
       "\n",
       "                                industry             sector  ...  \\\n",
       "0                     Insurance Carriers          Insurance  ...   \n",
       "1                 Research & Development  Business Services  ...   \n",
       "2                             Consulting  Business Services  ...   \n",
       "3  Electrical & Electronic Manufacturing      Manufacturing  ...   \n",
       "4                Advertising & Marketing  Business Services  ...   \n",
       "\n",
       "  years_in_market        job_role  job_seniority  excel sql  python  power_bi  \\\n",
       "0            30.0  Data Scientist             Sr      0   0       0         0   \n",
       "1            55.0  Data Scientist      Mid-Level      0   1       0         0   \n",
       "2            42.0  Data Scientist      Mid-Level      1   0       1         0   \n",
       "3            23.0  Data Scientist      Mid-Level      1   1       1         0   \n",
       "4            25.0  Data Scientist      Mid-Level      1   1       1         0   \n",
       "\n",
       "  tableau scikit  spark  \n",
       "0       0      0      0  \n",
       "1       0      0      0  \n",
       "2       0      0      0  \n",
       "3       0      0      0  \n",
       "4       0      0      0  \n",
       "\n",
       "[5 rows x 26 columns]"
      ]
     },
     "execution_count": 70,
     "metadata": {},
     "output_type": "execute_result"
    }
   ],
   "source": [
    "job_data.head()"
   ]
  },
  {
   "cell_type": "code",
   "execution_count": 71,
   "metadata": {
    "tags": []
   },
   "outputs": [],
   "source": [
    "# job_data.to_csv('Cleaned_Job_Data.csv',index= False)\n",
    "# job_data.to_excel('Cleaned_Job_Data.xlsx',index=False)"
   ]
  },
  {
   "cell_type": "markdown",
   "metadata": {},
   "source": [
    "# Exploratory Data Analysis\n",
    "Now that we have covered the cleaning section and obtained a robust dataset, we can proceed to analyze the data to obtain the most significant features and statistics from it."
   ]
  },
  {
   "cell_type": "code",
   "execution_count": 72,
   "metadata": {
    "tags": []
   },
   "outputs": [
    {
     "name": "stderr",
     "output_type": "stream",
     "text": [
      "/Users/sse/opt/anaconda3/envs/py3.10/lib/python3.10/site-packages/scipy/__init__.py:155: UserWarning: A NumPy version >=1.18.5 and <1.26.0 is required for this version of SciPy (detected version 1.26.0\n",
      "  warnings.warn(f\"A NumPy version >={np_minversion} and <{np_maxversion}\"\n"
     ]
    }
   ],
   "source": [
    "# Include the necessary packages fro analysisi and visualization\n",
    "import matplotlib.pyplot as plt\n",
    "import seaborn as sns\n",
    "%matplotlib inline"
   ]
  },
  {
   "cell_type": "code",
   "execution_count": 73,
   "metadata": {
    "tags": []
   },
   "outputs": [
    {
     "data": {
      "text/html": [
       "<div>\n",
       "<style scoped>\n",
       "    .dataframe tbody tr th:only-of-type {\n",
       "        vertical-align: middle;\n",
       "    }\n",
       "\n",
       "    .dataframe tbody tr th {\n",
       "        vertical-align: top;\n",
       "    }\n",
       "\n",
       "    .dataframe thead th {\n",
       "        text-align: right;\n",
       "    }\n",
       "</style>\n",
       "<table border=\"1\" class=\"dataframe\">\n",
       "  <thead>\n",
       "    <tr style=\"text-align: right;\">\n",
       "      <th></th>\n",
       "      <th>rating</th>\n",
       "      <th>min_salary_K$</th>\n",
       "      <th>max_salary_K$</th>\n",
       "      <th>avg_salary_estimate</th>\n",
       "      <th>same_state</th>\n",
       "      <th>years_in_market</th>\n",
       "      <th>excel</th>\n",
       "      <th>sql</th>\n",
       "      <th>python</th>\n",
       "      <th>power_bi</th>\n",
       "      <th>tableau</th>\n",
       "      <th>scikit</th>\n",
       "      <th>spark</th>\n",
       "    </tr>\n",
       "  </thead>\n",
       "  <tbody>\n",
       "    <tr>\n",
       "      <th>count</th>\n",
       "      <td>620.000000</td>\n",
       "      <td>659.000000</td>\n",
       "      <td>659.000000</td>\n",
       "      <td>659.000000</td>\n",
       "      <td>659.000000</td>\n",
       "      <td>552.000000</td>\n",
       "      <td>659.000000</td>\n",
       "      <td>659.000000</td>\n",
       "      <td>659.000000</td>\n",
       "      <td>659.000000</td>\n",
       "      <td>659.000000</td>\n",
       "      <td>659.000000</td>\n",
       "      <td>659.000000</td>\n",
       "    </tr>\n",
       "    <tr>\n",
       "      <th>mean</th>\n",
       "      <td>3.881290</td>\n",
       "      <td>99.066768</td>\n",
       "      <td>148.464340</td>\n",
       "      <td>123.761760</td>\n",
       "      <td>0.406677</td>\n",
       "      <td>39.000000</td>\n",
       "      <td>0.447648</td>\n",
       "      <td>0.537178</td>\n",
       "      <td>0.726859</td>\n",
       "      <td>0.051593</td>\n",
       "      <td>0.185129</td>\n",
       "      <td>0.101669</td>\n",
       "      <td>0.268589</td>\n",
       "    </tr>\n",
       "    <tr>\n",
       "      <th>std</th>\n",
       "      <td>0.609805</td>\n",
       "      <td>33.266335</td>\n",
       "      <td>48.387744</td>\n",
       "      <td>39.944445</td>\n",
       "      <td>0.491587</td>\n",
       "      <td>40.689787</td>\n",
       "      <td>0.497629</td>\n",
       "      <td>0.498995</td>\n",
       "      <td>0.445911</td>\n",
       "      <td>0.221373</td>\n",
       "      <td>0.388697</td>\n",
       "      <td>0.302442</td>\n",
       "      <td>0.443562</td>\n",
       "    </tr>\n",
       "    <tr>\n",
       "      <th>min</th>\n",
       "      <td>2.000000</td>\n",
       "      <td>31.000000</td>\n",
       "      <td>56.000000</td>\n",
       "      <td>44.000000</td>\n",
       "      <td>0.000000</td>\n",
       "      <td>4.000000</td>\n",
       "      <td>0.000000</td>\n",
       "      <td>0.000000</td>\n",
       "      <td>0.000000</td>\n",
       "      <td>0.000000</td>\n",
       "      <td>0.000000</td>\n",
       "      <td>0.000000</td>\n",
       "      <td>0.000000</td>\n",
       "    </tr>\n",
       "    <tr>\n",
       "      <th>25%</th>\n",
       "      <td>3.500000</td>\n",
       "      <td>79.000000</td>\n",
       "      <td>119.000000</td>\n",
       "      <td>103.000000</td>\n",
       "      <td>0.000000</td>\n",
       "      <td>13.000000</td>\n",
       "      <td>0.000000</td>\n",
       "      <td>0.000000</td>\n",
       "      <td>0.000000</td>\n",
       "      <td>0.000000</td>\n",
       "      <td>0.000000</td>\n",
       "      <td>0.000000</td>\n",
       "      <td>0.000000</td>\n",
       "    </tr>\n",
       "    <tr>\n",
       "      <th>50%</th>\n",
       "      <td>3.800000</td>\n",
       "      <td>91.000000</td>\n",
       "      <td>133.000000</td>\n",
       "      <td>114.000000</td>\n",
       "      <td>0.000000</td>\n",
       "      <td>24.000000</td>\n",
       "      <td>0.000000</td>\n",
       "      <td>1.000000</td>\n",
       "      <td>1.000000</td>\n",
       "      <td>0.000000</td>\n",
       "      <td>0.000000</td>\n",
       "      <td>0.000000</td>\n",
       "      <td>0.000000</td>\n",
       "    </tr>\n",
       "    <tr>\n",
       "      <th>75%</th>\n",
       "      <td>4.400000</td>\n",
       "      <td>122.000000</td>\n",
       "      <td>165.000000</td>\n",
       "      <td>136.000000</td>\n",
       "      <td>1.000000</td>\n",
       "      <td>49.000000</td>\n",
       "      <td>1.000000</td>\n",
       "      <td>1.000000</td>\n",
       "      <td>1.000000</td>\n",
       "      <td>0.000000</td>\n",
       "      <td>0.000000</td>\n",
       "      <td>0.000000</td>\n",
       "      <td>1.000000</td>\n",
       "    </tr>\n",
       "    <tr>\n",
       "      <th>max</th>\n",
       "      <td>5.000000</td>\n",
       "      <td>212.000000</td>\n",
       "      <td>331.000000</td>\n",
       "      <td>272.000000</td>\n",
       "      <td>1.000000</td>\n",
       "      <td>242.000000</td>\n",
       "      <td>1.000000</td>\n",
       "      <td>1.000000</td>\n",
       "      <td>1.000000</td>\n",
       "      <td>1.000000</td>\n",
       "      <td>1.000000</td>\n",
       "      <td>1.000000</td>\n",
       "      <td>1.000000</td>\n",
       "    </tr>\n",
       "  </tbody>\n",
       "</table>\n",
       "</div>"
      ],
      "text/plain": [
       "           rating  min_salary_K$  max_salary_K$  avg_salary_estimate  \\\n",
       "count  620.000000     659.000000     659.000000           659.000000   \n",
       "mean     3.881290      99.066768     148.464340           123.761760   \n",
       "std      0.609805      33.266335      48.387744            39.944445   \n",
       "min      2.000000      31.000000      56.000000            44.000000   \n",
       "25%      3.500000      79.000000     119.000000           103.000000   \n",
       "50%      3.800000      91.000000     133.000000           114.000000   \n",
       "75%      4.400000     122.000000     165.000000           136.000000   \n",
       "max      5.000000     212.000000     331.000000           272.000000   \n",
       "\n",
       "       same_state  years_in_market       excel         sql      python  \\\n",
       "count  659.000000       552.000000  659.000000  659.000000  659.000000   \n",
       "mean     0.406677        39.000000    0.447648    0.537178    0.726859   \n",
       "std      0.491587        40.689787    0.497629    0.498995    0.445911   \n",
       "min      0.000000         4.000000    0.000000    0.000000    0.000000   \n",
       "25%      0.000000        13.000000    0.000000    0.000000    0.000000   \n",
       "50%      0.000000        24.000000    0.000000    1.000000    1.000000   \n",
       "75%      1.000000        49.000000    1.000000    1.000000    1.000000   \n",
       "max      1.000000       242.000000    1.000000    1.000000    1.000000   \n",
       "\n",
       "         power_bi     tableau      scikit       spark  \n",
       "count  659.000000  659.000000  659.000000  659.000000  \n",
       "mean     0.051593    0.185129    0.101669    0.268589  \n",
       "std      0.221373    0.388697    0.302442    0.443562  \n",
       "min      0.000000    0.000000    0.000000    0.000000  \n",
       "25%      0.000000    0.000000    0.000000    0.000000  \n",
       "50%      0.000000    0.000000    0.000000    0.000000  \n",
       "75%      0.000000    0.000000    0.000000    1.000000  \n",
       "max      1.000000    1.000000    1.000000    1.000000  "
      ]
     },
     "execution_count": 73,
     "metadata": {},
     "output_type": "execute_result"
    }
   ],
   "source": [
    "# Obtain the basic statistics of the data frame\n",
    "job_data.describe()"
   ]
  },
  {
   "cell_type": "code",
   "execution_count": 74,
   "metadata": {},
   "outputs": [],
   "source": [
    "#Obtain the relationships between columns\n",
    "# sns.pairplot(job_data)"
   ]
  },
  {
   "cell_type": "code",
   "execution_count": 75,
   "metadata": {
    "tags": []
   },
   "outputs": [],
   "source": [
    "industry_salary = [\n",
    "    round(job_data.loc[job_data[\"industry\"]==\"Biotech & Pharmaceuticals\",\"avg_salary_estimate\"].mean(), 2),\n",
    "    round(job_data.loc[job_data[\"industry\"]==\"IT Services\",\"avg_salary_estimate\"].mean(), 2),\n",
    "    round(job_data.loc[job_data[\"industry\"]==\"Computer Hardware & Software\",\"avg_salary_estimate\"].mean(), 2),\n",
    "    round(job_data.loc[job_data[\"industry\"]==\"Aerospace & Defense\",\"avg_salary_estimate\"].mean(), 2),\n",
    "    round(job_data.loc[job_data[\"industry\"]==\"Enterprise Software & Network Solutions\",\"avg_salary_estimate\"].mean(), 2)\n",
    "]\n",
    "\n",
    "top_paying_industries = [\n",
    "    \"Biotech & Pharmaceuticals\",\n",
    "    \"IT Services\",\n",
    "    \"Computer Hardware & Software\",\n",
    "    \"Aerospace & Defense\",\n",
    "    \"Enterprise Software & Network Solutions\"\n",
    "]\n",
    "\n",
    "# plt.bar(top_paying_industries, industry_salary)\n",
    "# plt.ylim(110, 140)\n",
    "# plt.xlabel(\"Job Industry\")\n",
    "# plt.ylabel(\"Average Salary\")\n",
    "\n",
    "# # Rotate the x-axis labels by 70 degrees\n",
    "# plt.xticks(rotation=70)\n",
    "\n",
    "# plt.show()"
   ]
  },
  {
   "cell_type": "code",
   "execution_count": 76,
   "metadata": {
    "tags": []
   },
   "outputs": [],
   "source": [
    "# Let's start by analyzing the average salary for job postings\n",
    "# sns.boxplot(x=job_data['avg_salary_estimate'])"
   ]
  },
  {
   "cell_type": "code",
   "execution_count": 77,
   "metadata": {
    "tags": []
   },
   "outputs": [],
   "source": [
    "# We can define a new data frame to fit in better inside the avg. salary range\n",
    "df = job_data[(job_data.avg_salary_estimate > 50) & (job_data.avg_salary_estimate < 200)] "
   ]
  },
  {
   "cell_type": "code",
   "execution_count": 78,
   "metadata": {
    "tags": []
   },
   "outputs": [
    {
     "data": {
      "text/plain": [
       "(618, 26)"
      ]
     },
     "execution_count": 78,
     "metadata": {},
     "output_type": "execute_result"
    }
   ],
   "source": [
    "df.shape"
   ]
  },
  {
   "cell_type": "code",
   "execution_count": 79,
   "metadata": {
    "tags": []
   },
   "outputs": [],
   "source": [
    "# Make a comparison between the years the company has been in the market and the avg. salary.\n",
    "# sns.lmplot(x='years_in_market',y='avg_salary_estimate',data=df)\n"
   ]
  },
  {
   "cell_type": "code",
   "execution_count": 80,
   "metadata": {
    "tags": []
   },
   "outputs": [],
   "source": [
    "# Generate a heatmap based on the numerical columns of the dataframe\n",
    "# fig, ax = plt.subplots(figsize=(10,10)) \n",
    "matrix = np.triu(df.select_dtypes(include=[np.number]).corr())\n",
    "# sns.heatmap(df.select_dtypes(include=[np.number]).corr(),annot=True, fmt='.1g', vmin=-1, vmax=1, center= 0,  ax=ax)"
   ]
  },
  {
   "cell_type": "code",
   "execution_count": 81,
   "metadata": {
    "tags": []
   },
   "outputs": [],
   "source": [
    "# # Check the sector values\n",
    "# fig, ax = plt.subplots(figsize=(10,10)) \n",
    "# chart = sns.barplot(x=df.sector.value_counts().index, y=df.sector.value_counts())\n",
    "# _= chart.set_xticklabels(chart.get_xticklabels(), rotation=75)"
   ]
  },
  {
   "cell_type": "code",
   "execution_count": 82,
   "metadata": {
    "tags": []
   },
   "outputs": [
    {
     "name": "stderr",
     "output_type": "stream",
     "text": [
      "/var/folders/9f/h2dr6r6j21xby0_p48_973200000gn/T/ipykernel_73000/3862270992.py:2: SettingWithCopyWarning: \n",
      "A value is trying to be set on a copy of a slice from a DataFrame\n",
      "\n",
      "See the caveats in the documentation: https://pandas.pydata.org/pandas-docs/stable/user_guide/indexing.html#returning-a-view-versus-a-copy\n",
      "  df.rename(columns={'avg_salary_estimate':'avg_salary'}, inplace= True)\n"
     ]
    }
   ],
   "source": [
    "# Set a simpler name\n",
    "df.rename(columns={'avg_salary_estimate':'avg_salary'}, inplace= True)"
   ]
  },
  {
   "cell_type": "code",
   "execution_count": 83,
   "metadata": {
    "tags": []
   },
   "outputs": [
    {
     "data": {
      "text/html": [
       "<div>\n",
       "<style scoped>\n",
       "    .dataframe tbody tr th:only-of-type {\n",
       "        vertical-align: middle;\n",
       "    }\n",
       "\n",
       "    .dataframe tbody tr th {\n",
       "        vertical-align: top;\n",
       "    }\n",
       "\n",
       "    .dataframe thead th {\n",
       "        text-align: right;\n",
       "    }\n",
       "</style>\n",
       "<table border=\"1\" class=\"dataframe\">\n",
       "  <thead>\n",
       "    <tr style=\"text-align: right;\">\n",
       "      <th></th>\n",
       "      <th>avg_salary</th>\n",
       "    </tr>\n",
       "    <tr>\n",
       "      <th>job_role</th>\n",
       "      <th></th>\n",
       "    </tr>\n",
       "  </thead>\n",
       "  <tbody>\n",
       "    <tr>\n",
       "      <th>Data Analyst</th>\n",
       "      <td>118.923077</td>\n",
       "    </tr>\n",
       "    <tr>\n",
       "      <th>Data Engineer</th>\n",
       "      <td>115.318182</td>\n",
       "    </tr>\n",
       "    <tr>\n",
       "      <th>Data Scientist</th>\n",
       "      <td>122.808858</td>\n",
       "    </tr>\n",
       "    <tr>\n",
       "      <th>Machine Learning Engineer</th>\n",
       "      <td>113.727273</td>\n",
       "    </tr>\n",
       "    <tr>\n",
       "      <th>Other</th>\n",
       "      <td>121.183333</td>\n",
       "    </tr>\n",
       "  </tbody>\n",
       "</table>\n",
       "</div>"
      ],
      "text/plain": [
       "                           avg_salary\n",
       "job_role                             \n",
       "Data Analyst               118.923077\n",
       "Data Engineer              115.318182\n",
       "Data Scientist             122.808858\n",
       "Machine Learning Engineer  113.727273\n",
       "Other                      121.183333"
      ]
     },
     "execution_count": 83,
     "metadata": {},
     "output_type": "execute_result"
    }
   ],
   "source": [
    "# Obtain the avg. salary for each type of role\n",
    "pd.pivot_table(df,index='job_role', values='avg_salary')"
   ]
  },
  {
   "cell_type": "code",
   "execution_count": 84,
   "metadata": {
    "tags": []
   },
   "outputs": [
    {
     "data": {
      "text/html": [
       "<div>\n",
       "<style scoped>\n",
       "    .dataframe tbody tr th:only-of-type {\n",
       "        vertical-align: middle;\n",
       "    }\n",
       "\n",
       "    .dataframe tbody tr th {\n",
       "        vertical-align: top;\n",
       "    }\n",
       "\n",
       "    .dataframe thead th {\n",
       "        text-align: right;\n",
       "    }\n",
       "</style>\n",
       "<table border=\"1\" class=\"dataframe\">\n",
       "  <thead>\n",
       "    <tr style=\"text-align: right;\">\n",
       "      <th></th>\n",
       "      <th></th>\n",
       "      <th>avg_salary</th>\n",
       "    </tr>\n",
       "    <tr>\n",
       "      <th>job_role</th>\n",
       "      <th>job_seniority</th>\n",
       "      <th></th>\n",
       "    </tr>\n",
       "  </thead>\n",
       "  <tbody>\n",
       "    <tr>\n",
       "      <th>Other</th>\n",
       "      <th>Mid-Level</th>\n",
       "      <td>126.131579</td>\n",
       "    </tr>\n",
       "    <tr>\n",
       "      <th>Data Analyst</th>\n",
       "      <th>Sr</th>\n",
       "      <td>125.384615</td>\n",
       "    </tr>\n",
       "    <tr>\n",
       "      <th>Data Scientist</th>\n",
       "      <th>Mid-Level</th>\n",
       "      <td>124.335689</td>\n",
       "    </tr>\n",
       "    <tr>\n",
       "      <th>Machine Learning Engineer</th>\n",
       "      <th>Sr</th>\n",
       "      <td>122.642857</td>\n",
       "    </tr>\n",
       "    <tr>\n",
       "      <th>Data Scientist</th>\n",
       "      <th>Sr</th>\n",
       "      <td>121.736000</td>\n",
       "    </tr>\n",
       "    <tr>\n",
       "      <th>Other</th>\n",
       "      <th>Sr</th>\n",
       "      <td>116.500000</td>\n",
       "    </tr>\n",
       "    <tr>\n",
       "      <th>Data Engineer</th>\n",
       "      <th>Mid-Level</th>\n",
       "      <td>116.062500</td>\n",
       "    </tr>\n",
       "    <tr>\n",
       "      <th>Data Analyst</th>\n",
       "      <th>Mid-Level</th>\n",
       "      <td>114.833333</td>\n",
       "    </tr>\n",
       "    <tr>\n",
       "      <th rowspan=\"2\" valign=\"top\">Data Engineer</th>\n",
       "      <th>Sr</th>\n",
       "      <td>113.888889</td>\n",
       "    </tr>\n",
       "    <tr>\n",
       "      <th>Jr</th>\n",
       "      <td>111.666667</td>\n",
       "    </tr>\n",
       "    <tr>\n",
       "      <th>Data Scientist</th>\n",
       "      <th>Jr</th>\n",
       "      <td>108.619048</td>\n",
       "    </tr>\n",
       "    <tr>\n",
       "      <th>Machine Learning Engineer</th>\n",
       "      <th>Mid-Level</th>\n",
       "      <td>107.157895</td>\n",
       "    </tr>\n",
       "    <tr>\n",
       "      <th>Other</th>\n",
       "      <th>Jr</th>\n",
       "      <td>105.875000</td>\n",
       "    </tr>\n",
       "    <tr>\n",
       "      <th>Data Analyst</th>\n",
       "      <th>Jr</th>\n",
       "      <td>84.000000</td>\n",
       "    </tr>\n",
       "  </tbody>\n",
       "</table>\n",
       "</div>"
      ],
      "text/plain": [
       "                                         avg_salary\n",
       "job_role                  job_seniority            \n",
       "Other                     Mid-Level      126.131579\n",
       "Data Analyst              Sr             125.384615\n",
       "Data Scientist            Mid-Level      124.335689\n",
       "Machine Learning Engineer Sr             122.642857\n",
       "Data Scientist            Sr             121.736000\n",
       "Other                     Sr             116.500000\n",
       "Data Engineer             Mid-Level      116.062500\n",
       "Data Analyst              Mid-Level      114.833333\n",
       "Data Engineer             Sr             113.888889\n",
       "                          Jr             111.666667\n",
       "Data Scientist            Jr             108.619048\n",
       "Machine Learning Engineer Mid-Level      107.157895\n",
       "Other                     Jr             105.875000\n",
       "Data Analyst              Jr              84.000000"
      ]
     },
     "execution_count": 84,
     "metadata": {},
     "output_type": "execute_result"
    }
   ],
   "source": [
    "# Obtain the avg. salary based on the seniority of the roles\n",
    "pd.pivot_table(df, index=['job_role','job_seniority'], values='avg_salary').sort_values('avg_salary', ascending =False)"
   ]
  },
  {
   "cell_type": "code",
   "execution_count": 85,
   "metadata": {
    "tags": []
   },
   "outputs": [
    {
     "data": {
      "text/html": [
       "<div>\n",
       "<style scoped>\n",
       "    .dataframe tbody tr th:only-of-type {\n",
       "        vertical-align: middle;\n",
       "    }\n",
       "\n",
       "    .dataframe tbody tr th {\n",
       "        vertical-align: top;\n",
       "    }\n",
       "\n",
       "    .dataframe thead th {\n",
       "        text-align: right;\n",
       "    }\n",
       "</style>\n",
       "<table border=\"1\" class=\"dataframe\">\n",
       "  <thead>\n",
       "    <tr style=\"text-align: right;\">\n",
       "      <th></th>\n",
       "      <th>job_title</th>\n",
       "      <th>job_description</th>\n",
       "      <th>rating</th>\n",
       "      <th>company_name</th>\n",
       "      <th>location</th>\n",
       "      <th>headquarters</th>\n",
       "      <th>size</th>\n",
       "      <th>type_of_ownership</th>\n",
       "      <th>industry</th>\n",
       "      <th>sector</th>\n",
       "      <th>...</th>\n",
       "      <th>years_in_market</th>\n",
       "      <th>job_role</th>\n",
       "      <th>job_seniority</th>\n",
       "      <th>excel</th>\n",
       "      <th>sql</th>\n",
       "      <th>python</th>\n",
       "      <th>power_bi</th>\n",
       "      <th>tableau</th>\n",
       "      <th>scikit</th>\n",
       "      <th>spark</th>\n",
       "    </tr>\n",
       "  </thead>\n",
       "  <tbody>\n",
       "    <tr>\n",
       "      <th>0</th>\n",
       "      <td>srData Scientist</td>\n",
       "      <td>Description\\n\\nThe Senior Data Scientist is re...</td>\n",
       "      <td>3.1</td>\n",
       "      <td>Healthfirst</td>\n",
       "      <td>New York, NY</td>\n",
       "      <td>New York, NY</td>\n",
       "      <td>1001 to 5000 employees</td>\n",
       "      <td>Nonprofit</td>\n",
       "      <td>Insurance Carriers</td>\n",
       "      <td>Insurance</td>\n",
       "      <td>...</td>\n",
       "      <td>30.0</td>\n",
       "      <td>Data Scientist</td>\n",
       "      <td>Sr</td>\n",
       "      <td>0</td>\n",
       "      <td>0</td>\n",
       "      <td>0</td>\n",
       "      <td>0</td>\n",
       "      <td>0</td>\n",
       "      <td>0</td>\n",
       "      <td>0</td>\n",
       "    </tr>\n",
       "    <tr>\n",
       "      <th>1</th>\n",
       "      <td>Data Scientist</td>\n",
       "      <td>Secure our Nation, Ignite your Future\\n\\nJoin ...</td>\n",
       "      <td>4.2</td>\n",
       "      <td>ManTech</td>\n",
       "      <td>Chantilly, VA</td>\n",
       "      <td>Herndon, VA</td>\n",
       "      <td>5001 to 10000 employees</td>\n",
       "      <td>Public</td>\n",
       "      <td>Research &amp; Development</td>\n",
       "      <td>Business Services</td>\n",
       "      <td>...</td>\n",
       "      <td>55.0</td>\n",
       "      <td>Data Scientist</td>\n",
       "      <td>Mid-Level</td>\n",
       "      <td>0</td>\n",
       "      <td>1</td>\n",
       "      <td>0</td>\n",
       "      <td>0</td>\n",
       "      <td>0</td>\n",
       "      <td>0</td>\n",
       "      <td>0</td>\n",
       "    </tr>\n",
       "    <tr>\n",
       "      <th>2</th>\n",
       "      <td>Data Scientist</td>\n",
       "      <td>Overview\\n\\n\\nAnalysis Group is one of the lar...</td>\n",
       "      <td>3.8</td>\n",
       "      <td>Analysis Group</td>\n",
       "      <td>Boston, MA</td>\n",
       "      <td>Boston, MA</td>\n",
       "      <td>1001 to 5000 employees</td>\n",
       "      <td>Private Practice / Firm</td>\n",
       "      <td>Consulting</td>\n",
       "      <td>Business Services</td>\n",
       "      <td>...</td>\n",
       "      <td>42.0</td>\n",
       "      <td>Data Scientist</td>\n",
       "      <td>Mid-Level</td>\n",
       "      <td>1</td>\n",
       "      <td>0</td>\n",
       "      <td>1</td>\n",
       "      <td>0</td>\n",
       "      <td>0</td>\n",
       "      <td>0</td>\n",
       "      <td>0</td>\n",
       "    </tr>\n",
       "    <tr>\n",
       "      <th>3</th>\n",
       "      <td>Data Scientist</td>\n",
       "      <td>JOB DESCRIPTION:\\n\\nDo you have a passion for ...</td>\n",
       "      <td>3.5</td>\n",
       "      <td>INFICON</td>\n",
       "      <td>Newton, MA</td>\n",
       "      <td>Bad Ragaz, Switzerland</td>\n",
       "      <td>501 to 1000 employees</td>\n",
       "      <td>Public</td>\n",
       "      <td>Electrical &amp; Electronic Manufacturing</td>\n",
       "      <td>Manufacturing</td>\n",
       "      <td>...</td>\n",
       "      <td>23.0</td>\n",
       "      <td>Data Scientist</td>\n",
       "      <td>Mid-Level</td>\n",
       "      <td>1</td>\n",
       "      <td>1</td>\n",
       "      <td>1</td>\n",
       "      <td>0</td>\n",
       "      <td>0</td>\n",
       "      <td>0</td>\n",
       "      <td>0</td>\n",
       "    </tr>\n",
       "    <tr>\n",
       "      <th>4</th>\n",
       "      <td>Data Scientist</td>\n",
       "      <td>Data Scientist\\nAffinity Solutions / Marketing...</td>\n",
       "      <td>2.9</td>\n",
       "      <td>Affinity Solutions</td>\n",
       "      <td>New York, NY</td>\n",
       "      <td>New York, NY</td>\n",
       "      <td>51 to 200 employees</td>\n",
       "      <td>Private</td>\n",
       "      <td>Advertising &amp; Marketing</td>\n",
       "      <td>Business Services</td>\n",
       "      <td>...</td>\n",
       "      <td>25.0</td>\n",
       "      <td>Data Scientist</td>\n",
       "      <td>Mid-Level</td>\n",
       "      <td>1</td>\n",
       "      <td>1</td>\n",
       "      <td>1</td>\n",
       "      <td>0</td>\n",
       "      <td>0</td>\n",
       "      <td>0</td>\n",
       "      <td>0</td>\n",
       "    </tr>\n",
       "  </tbody>\n",
       "</table>\n",
       "<p>5 rows × 26 columns</p>\n",
       "</div>"
      ],
      "text/plain": [
       "          job_title                                    job_description  \\\n",
       "0  srData Scientist  Description\\n\\nThe Senior Data Scientist is re...   \n",
       "1    Data Scientist  Secure our Nation, Ignite your Future\\n\\nJoin ...   \n",
       "2    Data Scientist  Overview\\n\\n\\nAnalysis Group is one of the lar...   \n",
       "3    Data Scientist  JOB DESCRIPTION:\\n\\nDo you have a passion for ...   \n",
       "4    Data Scientist  Data Scientist\\nAffinity Solutions / Marketing...   \n",
       "\n",
       "   rating        company_name       location            headquarters  \\\n",
       "0     3.1         Healthfirst   New York, NY            New York, NY   \n",
       "1     4.2             ManTech  Chantilly, VA             Herndon, VA   \n",
       "2     3.8      Analysis Group     Boston, MA              Boston, MA   \n",
       "3     3.5             INFICON     Newton, MA  Bad Ragaz, Switzerland   \n",
       "4     2.9  Affinity Solutions   New York, NY            New York, NY   \n",
       "\n",
       "                      size        type_of_ownership  \\\n",
       "0   1001 to 5000 employees                Nonprofit   \n",
       "1  5001 to 10000 employees                   Public   \n",
       "2   1001 to 5000 employees  Private Practice / Firm   \n",
       "3    501 to 1000 employees                   Public   \n",
       "4      51 to 200 employees                  Private   \n",
       "\n",
       "                                industry             sector  ...  \\\n",
       "0                     Insurance Carriers          Insurance  ...   \n",
       "1                 Research & Development  Business Services  ...   \n",
       "2                             Consulting  Business Services  ...   \n",
       "3  Electrical & Electronic Manufacturing      Manufacturing  ...   \n",
       "4                Advertising & Marketing  Business Services  ...   \n",
       "\n",
       "  years_in_market        job_role  job_seniority  excel sql  python  power_bi  \\\n",
       "0            30.0  Data Scientist             Sr      0   0       0         0   \n",
       "1            55.0  Data Scientist      Mid-Level      0   1       0         0   \n",
       "2            42.0  Data Scientist      Mid-Level      1   0       1         0   \n",
       "3            23.0  Data Scientist      Mid-Level      1   1       1         0   \n",
       "4            25.0  Data Scientist      Mid-Level      1   1       1         0   \n",
       "\n",
       "  tableau scikit  spark  \n",
       "0       0      0      0  \n",
       "1       0      0      0  \n",
       "2       0      0      0  \n",
       "3       0      0      0  \n",
       "4       0      0      0  \n",
       "\n",
       "[5 rows x 26 columns]"
      ]
     },
     "execution_count": 85,
     "metadata": {},
     "output_type": "execute_result"
    }
   ],
   "source": [
    "df.head()"
   ]
  },
  {
   "cell_type": "markdown",
   "metadata": {},
   "source": [
    "_Finally we can generate a table which shows the percentage of job posts that required certain skill for a determined job role._"
   ]
  },
  {
   "cell_type": "code",
   "execution_count": 86,
   "metadata": {
    "tags": []
   },
   "outputs": [
    {
     "name": "stdout",
     "output_type": "stream",
     "text": [
      "                           excel  power_bi  python  scikit  spark    sql  \\\n",
      "job_role                                                                   \n",
      "Data Analyst               55.77      9.62   51.92    0.00   9.62  73.08   \n",
      "Data Engineer              47.73     11.36   79.55    0.00  40.91  84.09   \n",
      "Data Scientist             43.59      4.66   79.25   13.05  30.07  52.91   \n",
      "Machine Learning Engineer  18.18      0.00   75.76   27.27  15.15  36.36   \n",
      "Other                      48.33      0.00   36.67    0.00  13.33  30.00   \n",
      "\n",
      "                           tableau  \n",
      "job_role                            \n",
      "Data Analyst                 51.92  \n",
      "Data Engineer                13.64  \n",
      "Data Scientist               17.95  \n",
      "Machine Learning Engineer     0.00  \n",
      "Other                         8.33  \n"
     ]
    }
   ],
   "source": [
    "\n",
    "# Define a custom aggregation function to get the percentage of descriptions that include certain skill.\n",
    "def ones_percentage(x):\n",
    "    return round((sum(1 for value in x if value == 1)/len(x))*100,2)\n",
    "\n",
    "# Create the pivot table with the custom aggregation function\n",
    "pivot_table = pd.pivot_table(df, index='job_role', values=['excel', 'sql', 'python', 'power_bi', 'tableau', 'scikit', 'spark'], aggfunc=ones_percentage)\n",
    "\n",
    "print(pivot_table)"
   ]
  },
  {
   "cell_type": "markdown",
   "metadata": {},
   "source": [
    "# Share\n",
    "* **Findings:** Based on the summary statistics and the calculations of the average salary per role, it's evident that the 'Data Scientist' role commands the highest compensation among all the job postings that have been analyzed. However, it's important to note that the data collection process and the primary focus of this database were centered around data science positions. Consequently, these results may be inherently biased toward data science roles. In addition to the provided information, it is evident that many data-related roles prioritize candidates with extensive seniority, emphasizing the importance of a candidate's experience level. When we examine the most in-demand industries, we not only identify the top five industries but also discover that the \"aerospace and defense\" sector stands out as the highest-paying industry in demand.\n",
    "Furthermore, when delving into the skill-related data, a clear trend emerges: 'Python' and 'SQL' are not only predominant but also essential for virtually all data science and analysis positions. It's worth noting that other popular tools like 'Excel' also demonstrate significant demand across all the analyzed roles."
   ]
  },
  {
   "cell_type": "markdown",
   "metadata": {},
   "source": [
    "# Act\n",
    "* **Conclusion:** After conducting thorough and extensive data cleaning, we have obtained a robust and comprehensible database. Upon exploring this data, several key insights emerge. Data-related roles exhibit substantial demand across various industries, with hardware, aerospace and defense, biotech, and networking sectors standing out due to their high-paying positions.\n",
    "Moreover, it's evident that many of the higher-paying roles require a significant level of experience, which may be a concern for individuals aspiring to become data scientists or those transitioning to this field. However, it's important to note that the most sought-after skills for these roles, such as 'Python,' 'SQL,' and 'Tableau,' are skills that can be successfully mastered with dedicated effort. They also serve as an excellent entry point into the world of data science."
   ]
  }
 ],
 "metadata": {
  "kernelspec": {
   "display_name": "Python 3 (ipykernel)",
   "language": "python",
   "name": "python3"
  },
  "language_info": {
   "codemirror_mode": {
    "name": "ipython",
    "version": 3
   },
   "file_extension": ".py",
   "mimetype": "text/x-python",
   "name": "python",
   "nbconvert_exporter": "python",
   "pygments_lexer": "ipython3",
   "version": "3.10.13"
  }
 },
 "nbformat": 4,
 "nbformat_minor": 4
}
