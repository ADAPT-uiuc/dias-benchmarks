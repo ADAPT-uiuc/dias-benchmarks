{
 "cells": [
  {
   "cell_type": "code",
   "execution_count": 1,
   "metadata": {
    "_cell_guid": "b1076dfc-b9ad-4769-8c92-a6c4dae69d19",
    "_uuid": "8f2839f25d086af736a60e9eeb907d3b93b6e0e5",
    "papermill": {
     "duration": 0.074537,
     "end_time": "2020-12-29T10:01:58.900747",
     "exception": false,
     "start_time": "2020-12-29T10:01:58.826210",
     "status": "completed"
    },
    "tags": []
   },
   "outputs": [
    {
     "name": "stdout",
     "output_type": "stream",
     "text": [
      "../input/kaggle_survey_2020_responses.csv\n"
     ]
    }
   ],
   "source": [
    "# This Python 3 environment comes with many helpful analytics libraries installed\n",
    "# It is defined by the kaggle/python Docker image: https://github.com/kaggle/docker-python\n",
    "# For example, here's several helpful packages to load\n",
    "\n",
    "import numpy as np # linear algebra\n",
    "import pandas as pd # data processing, CSV file I/O (e.g. pd.read_csv)\n",
    "\n",
    "# Input data files are available in the read-only \"../input/\" directory\n",
    "# For example, running this (by clicking run or pressing Shift+Enter) will list all files under the input directory\n",
    "\n",
    "import os\n",
    "for dirname, _, filenames in os.walk('../input'):\n",
    "    for filename in filenames:\n",
    "        print(os.path.join(dirname, filename))\n",
    "\n",
    "# You can write up to 20GB to the current directory (/kaggle/working/) that gets preserved as output when you create a version using \"Save & Run All\" \n",
    "# You can also write temporary files to /kaggle/temp/, but they won't be saved outside of the current session"
   ]
  },
  {
   "cell_type": "code",
   "execution_count": 2,
   "metadata": {
    "papermill": {
     "duration": 1.242428,
     "end_time": "2020-12-29T10:02:00.198241",
     "exception": false,
     "start_time": "2020-12-29T10:01:58.955813",
     "status": "completed"
    },
    "tags": []
   },
   "outputs": [],
   "source": [
    "# # import seaborn as sns\n",
    "# # import matplotlib.pyplot as plt\n",
    "\n",
    "# from IPython.display import set_matplotlib_formats\n",
    "# set_matplotlib_formats(\"retina\")\n",
    "\n",
    "# plt.style.use(\"seaborn-whitegrid\")"
   ]
  },
  {
   "cell_type": "code",
   "execution_count": 3,
   "metadata": {
    "papermill": {
     "duration": 1.530367,
     "end_time": "2020-12-29T10:02:01.784008",
     "exception": false,
     "start_time": "2020-12-29T10:02:00.253641",
     "status": "completed"
    },
    "tags": []
   },
   "outputs": [
    {
     "data": {
      "text/plain": [
       "(20037, 355)"
      ]
     },
     "execution_count": 3,
     "metadata": {},
     "output_type": "execute_result"
    }
   ],
   "source": [
    "raw = pd.read_csv(r\"../input/kaggle_survey_2020_responses.csv\", low_memory=False)\n",
    "raw.shape"
   ]
  },
  {
   "cell_type": "code",
   "execution_count": 4,
   "metadata": {
    "papermill": {
     "duration": 0.099403,
     "end_time": "2020-12-29T10:02:01.938628",
     "exception": false,
     "start_time": "2020-12-29T10:02:01.839225",
     "status": "completed"
    },
    "tags": []
   },
   "outputs": [
    {
     "data": {
      "text/html": [
       "<div>\n",
       "<style scoped>\n",
       "    .dataframe tbody tr th:only-of-type {\n",
       "        vertical-align: middle;\n",
       "    }\n",
       "\n",
       "    .dataframe tbody tr th {\n",
       "        vertical-align: top;\n",
       "    }\n",
       "\n",
       "    .dataframe thead th {\n",
       "        text-align: right;\n",
       "    }\n",
       "</style>\n",
       "<table border=\"1\" class=\"dataframe\">\n",
       "  <thead>\n",
       "    <tr style=\"text-align: right;\">\n",
       "      <th></th>\n",
       "      <th>Time from Start to Finish (seconds)</th>\n",
       "      <th>Q1</th>\n",
       "      <th>Q2</th>\n",
       "      <th>Q3</th>\n",
       "      <th>Q4</th>\n",
       "      <th>Q5</th>\n",
       "      <th>Q6</th>\n",
       "      <th>Q7_Part_1</th>\n",
       "      <th>Q7_Part_2</th>\n",
       "      <th>Q7_Part_3</th>\n",
       "      <th>...</th>\n",
       "      <th>Q35_B_Part_2</th>\n",
       "      <th>Q35_B_Part_3</th>\n",
       "      <th>Q35_B_Part_4</th>\n",
       "      <th>Q35_B_Part_5</th>\n",
       "      <th>Q35_B_Part_6</th>\n",
       "      <th>Q35_B_Part_7</th>\n",
       "      <th>Q35_B_Part_8</th>\n",
       "      <th>Q35_B_Part_9</th>\n",
       "      <th>Q35_B_Part_10</th>\n",
       "      <th>Q35_B_OTHER</th>\n",
       "    </tr>\n",
       "  </thead>\n",
       "  <tbody>\n",
       "    <tr>\n",
       "      <th>0</th>\n",
       "      <td>Duration (in seconds)</td>\n",
       "      <td>What is your age (# years)?</td>\n",
       "      <td>What is your gender? - Selected Choice</td>\n",
       "      <td>In which country do you currently reside?</td>\n",
       "      <td>What is the highest level of formal education ...</td>\n",
       "      <td>Select the title most similar to your current ...</td>\n",
       "      <td>For how many years have you been writing code ...</td>\n",
       "      <td>What programming languages do you use on a reg...</td>\n",
       "      <td>What programming languages do you use on a reg...</td>\n",
       "      <td>What programming languages do you use on a reg...</td>\n",
       "      <td>...</td>\n",
       "      <td>In the next 2 years, do you hope to become mor...</td>\n",
       "      <td>In the next 2 years, do you hope to become mor...</td>\n",
       "      <td>In the next 2 years, do you hope to become mor...</td>\n",
       "      <td>In the next 2 years, do you hope to become mor...</td>\n",
       "      <td>In the next 2 years, do you hope to become mor...</td>\n",
       "      <td>In the next 2 years, do you hope to become mor...</td>\n",
       "      <td>In the next 2 years, do you hope to become mor...</td>\n",
       "      <td>In the next 2 years, do you hope to become mor...</td>\n",
       "      <td>In the next 2 years, do you hope to become mor...</td>\n",
       "      <td>In the next 2 years, do you hope to become mor...</td>\n",
       "    </tr>\n",
       "    <tr>\n",
       "      <th>1</th>\n",
       "      <td>1838</td>\n",
       "      <td>35-39</td>\n",
       "      <td>Man</td>\n",
       "      <td>Colombia</td>\n",
       "      <td>Doctoral degree</td>\n",
       "      <td>Student</td>\n",
       "      <td>5-10 years</td>\n",
       "      <td>Python</td>\n",
       "      <td>R</td>\n",
       "      <td>SQL</td>\n",
       "      <td>...</td>\n",
       "      <td>NaN</td>\n",
       "      <td>NaN</td>\n",
       "      <td>NaN</td>\n",
       "      <td>TensorBoard</td>\n",
       "      <td>NaN</td>\n",
       "      <td>NaN</td>\n",
       "      <td>NaN</td>\n",
       "      <td>NaN</td>\n",
       "      <td>NaN</td>\n",
       "      <td>NaN</td>\n",
       "    </tr>\n",
       "    <tr>\n",
       "      <th>2</th>\n",
       "      <td>289287</td>\n",
       "      <td>30-34</td>\n",
       "      <td>Man</td>\n",
       "      <td>United States of America</td>\n",
       "      <td>Master’s degree</td>\n",
       "      <td>Data Engineer</td>\n",
       "      <td>5-10 years</td>\n",
       "      <td>Python</td>\n",
       "      <td>R</td>\n",
       "      <td>SQL</td>\n",
       "      <td>...</td>\n",
       "      <td>NaN</td>\n",
       "      <td>NaN</td>\n",
       "      <td>NaN</td>\n",
       "      <td>NaN</td>\n",
       "      <td>NaN</td>\n",
       "      <td>NaN</td>\n",
       "      <td>NaN</td>\n",
       "      <td>NaN</td>\n",
       "      <td>NaN</td>\n",
       "      <td>NaN</td>\n",
       "    </tr>\n",
       "    <tr>\n",
       "      <th>3</th>\n",
       "      <td>860</td>\n",
       "      <td>35-39</td>\n",
       "      <td>Man</td>\n",
       "      <td>Argentina</td>\n",
       "      <td>Bachelor’s degree</td>\n",
       "      <td>Software Engineer</td>\n",
       "      <td>10-20 years</td>\n",
       "      <td>NaN</td>\n",
       "      <td>NaN</td>\n",
       "      <td>NaN</td>\n",
       "      <td>...</td>\n",
       "      <td>NaN</td>\n",
       "      <td>NaN</td>\n",
       "      <td>NaN</td>\n",
       "      <td>NaN</td>\n",
       "      <td>NaN</td>\n",
       "      <td>NaN</td>\n",
       "      <td>NaN</td>\n",
       "      <td>NaN</td>\n",
       "      <td>NaN</td>\n",
       "      <td>NaN</td>\n",
       "    </tr>\n",
       "    <tr>\n",
       "      <th>4</th>\n",
       "      <td>507</td>\n",
       "      <td>30-34</td>\n",
       "      <td>Man</td>\n",
       "      <td>United States of America</td>\n",
       "      <td>Master’s degree</td>\n",
       "      <td>Data Scientist</td>\n",
       "      <td>5-10 years</td>\n",
       "      <td>Python</td>\n",
       "      <td>NaN</td>\n",
       "      <td>SQL</td>\n",
       "      <td>...</td>\n",
       "      <td>NaN</td>\n",
       "      <td>NaN</td>\n",
       "      <td>NaN</td>\n",
       "      <td>NaN</td>\n",
       "      <td>NaN</td>\n",
       "      <td>NaN</td>\n",
       "      <td>NaN</td>\n",
       "      <td>NaN</td>\n",
       "      <td>NaN</td>\n",
       "      <td>NaN</td>\n",
       "    </tr>\n",
       "  </tbody>\n",
       "</table>\n",
       "<p>5 rows × 355 columns</p>\n",
       "</div>"
      ],
      "text/plain": [
       "  Time from Start to Finish (seconds)                           Q1  \\\n",
       "0               Duration (in seconds)  What is your age (# years)?   \n",
       "1                                1838                        35-39   \n",
       "2                              289287                        30-34   \n",
       "3                                 860                        35-39   \n",
       "4                                 507                        30-34   \n",
       "\n",
       "                                       Q2  \\\n",
       "0  What is your gender? - Selected Choice   \n",
       "1                                     Man   \n",
       "2                                     Man   \n",
       "3                                     Man   \n",
       "4                                     Man   \n",
       "\n",
       "                                          Q3  \\\n",
       "0  In which country do you currently reside?   \n",
       "1                                   Colombia   \n",
       "2                   United States of America   \n",
       "3                                  Argentina   \n",
       "4                   United States of America   \n",
       "\n",
       "                                                  Q4  \\\n",
       "0  What is the highest level of formal education ...   \n",
       "1                                    Doctoral degree   \n",
       "2                                    Master’s degree   \n",
       "3                                  Bachelor’s degree   \n",
       "4                                    Master’s degree   \n",
       "\n",
       "                                                  Q5  \\\n",
       "0  Select the title most similar to your current ...   \n",
       "1                                            Student   \n",
       "2                                      Data Engineer   \n",
       "3                                  Software Engineer   \n",
       "4                                     Data Scientist   \n",
       "\n",
       "                                                  Q6  \\\n",
       "0  For how many years have you been writing code ...   \n",
       "1                                         5-10 years   \n",
       "2                                         5-10 years   \n",
       "3                                        10-20 years   \n",
       "4                                         5-10 years   \n",
       "\n",
       "                                           Q7_Part_1  \\\n",
       "0  What programming languages do you use on a reg...   \n",
       "1                                             Python   \n",
       "2                                             Python   \n",
       "3                                                NaN   \n",
       "4                                             Python   \n",
       "\n",
       "                                           Q7_Part_2  \\\n",
       "0  What programming languages do you use on a reg...   \n",
       "1                                                  R   \n",
       "2                                                  R   \n",
       "3                                                NaN   \n",
       "4                                                NaN   \n",
       "\n",
       "                                           Q7_Part_3  ...  \\\n",
       "0  What programming languages do you use on a reg...  ...   \n",
       "1                                                SQL  ...   \n",
       "2                                                SQL  ...   \n",
       "3                                                NaN  ...   \n",
       "4                                                SQL  ...   \n",
       "\n",
       "                                        Q35_B_Part_2  \\\n",
       "0  In the next 2 years, do you hope to become mor...   \n",
       "1                                                NaN   \n",
       "2                                                NaN   \n",
       "3                                                NaN   \n",
       "4                                                NaN   \n",
       "\n",
       "                                        Q35_B_Part_3  \\\n",
       "0  In the next 2 years, do you hope to become mor...   \n",
       "1                                                NaN   \n",
       "2                                                NaN   \n",
       "3                                                NaN   \n",
       "4                                                NaN   \n",
       "\n",
       "                                        Q35_B_Part_4  \\\n",
       "0  In the next 2 years, do you hope to become mor...   \n",
       "1                                                NaN   \n",
       "2                                                NaN   \n",
       "3                                                NaN   \n",
       "4                                                NaN   \n",
       "\n",
       "                                        Q35_B_Part_5  \\\n",
       "0  In the next 2 years, do you hope to become mor...   \n",
       "1                                       TensorBoard    \n",
       "2                                                NaN   \n",
       "3                                                NaN   \n",
       "4                                                NaN   \n",
       "\n",
       "                                        Q35_B_Part_6  \\\n",
       "0  In the next 2 years, do you hope to become mor...   \n",
       "1                                                NaN   \n",
       "2                                                NaN   \n",
       "3                                                NaN   \n",
       "4                                                NaN   \n",
       "\n",
       "                                        Q35_B_Part_7  \\\n",
       "0  In the next 2 years, do you hope to become mor...   \n",
       "1                                                NaN   \n",
       "2                                                NaN   \n",
       "3                                                NaN   \n",
       "4                                                NaN   \n",
       "\n",
       "                                        Q35_B_Part_8  \\\n",
       "0  In the next 2 years, do you hope to become mor...   \n",
       "1                                                NaN   \n",
       "2                                                NaN   \n",
       "3                                                NaN   \n",
       "4                                                NaN   \n",
       "\n",
       "                                        Q35_B_Part_9  \\\n",
       "0  In the next 2 years, do you hope to become mor...   \n",
       "1                                                NaN   \n",
       "2                                                NaN   \n",
       "3                                                NaN   \n",
       "4                                                NaN   \n",
       "\n",
       "                                       Q35_B_Part_10  \\\n",
       "0  In the next 2 years, do you hope to become mor...   \n",
       "1                                                NaN   \n",
       "2                                                NaN   \n",
       "3                                                NaN   \n",
       "4                                                NaN   \n",
       "\n",
       "                                         Q35_B_OTHER  \n",
       "0  In the next 2 years, do you hope to become mor...  \n",
       "1                                                NaN  \n",
       "2                                                NaN  \n",
       "3                                                NaN  \n",
       "4                                                NaN  \n",
       "\n",
       "[5 rows x 355 columns]"
      ]
     },
     "execution_count": 4,
     "metadata": {},
     "output_type": "execute_result"
    }
   ],
   "source": [
    "raw.head()"
   ]
  },
  {
   "cell_type": "code",
   "execution_count": 5,
   "metadata": {
    "_cell_guid": "79c7e3d0-c299-4dcb-8224-4455121ee9b0",
    "_uuid": "d629ff2d2480ee46fbb7e2d37f6b5fab8052498a",
    "papermill": {
     "duration": 0.066873,
     "end_time": "2020-12-29T10:02:02.060097",
     "exception": false,
     "start_time": "2020-12-29T10:02:01.993224",
     "status": "completed"
    },
    "tags": []
   },
   "outputs": [
    {
     "data": {
      "text/plain": [
       "Time from Start to Finish (seconds)                                Duration (in seconds)\n",
       "Q1                                                           What is your age (# years)?\n",
       "Q2                                                What is your gender? - Selected Choice\n",
       "Q3                                             In which country do you currently reside?\n",
       "Q4                                     What is the highest level of formal education ...\n",
       "                                                             ...                        \n",
       "Q35_B_Part_7                           In the next 2 years, do you hope to become mor...\n",
       "Q35_B_Part_8                           In the next 2 years, do you hope to become mor...\n",
       "Q35_B_Part_9                           In the next 2 years, do you hope to become mor...\n",
       "Q35_B_Part_10                          In the next 2 years, do you hope to become mor...\n",
       "Q35_B_OTHER                            In the next 2 years, do you hope to become mor...\n",
       "Name: 0, Length: 355, dtype: object"
      ]
     },
     "execution_count": 5,
     "metadata": {},
     "output_type": "execute_result"
    }
   ],
   "source": [
    "question = raw.iloc[0]\n",
    "question"
   ]
  },
  {
   "cell_type": "code",
   "execution_count": 6,
   "metadata": {
    "papermill": {
     "duration": 0.170613,
     "end_time": "2020-12-29T10:02:02.285674",
     "exception": false,
     "start_time": "2020-12-29T10:02:02.115061",
     "status": "completed"
    },
    "tags": []
   },
   "outputs": [
    {
     "data": {
      "text/html": [
       "<div>\n",
       "<style scoped>\n",
       "    .dataframe tbody tr th:only-of-type {\n",
       "        vertical-align: middle;\n",
       "    }\n",
       "\n",
       "    .dataframe tbody tr th {\n",
       "        vertical-align: top;\n",
       "    }\n",
       "\n",
       "    .dataframe thead th {\n",
       "        text-align: right;\n",
       "    }\n",
       "</style>\n",
       "<table border=\"1\" class=\"dataframe\">\n",
       "  <thead>\n",
       "    <tr style=\"text-align: right;\">\n",
       "      <th></th>\n",
       "      <th>Time from Start to Finish (seconds)</th>\n",
       "      <th>Q1</th>\n",
       "      <th>Q2</th>\n",
       "      <th>Q3</th>\n",
       "      <th>Q4</th>\n",
       "      <th>Q5</th>\n",
       "      <th>Q6</th>\n",
       "      <th>Q7_Part_1</th>\n",
       "      <th>Q7_Part_2</th>\n",
       "      <th>Q7_Part_3</th>\n",
       "      <th>...</th>\n",
       "      <th>Q35_B_Part_2</th>\n",
       "      <th>Q35_B_Part_3</th>\n",
       "      <th>Q35_B_Part_4</th>\n",
       "      <th>Q35_B_Part_5</th>\n",
       "      <th>Q35_B_Part_6</th>\n",
       "      <th>Q35_B_Part_7</th>\n",
       "      <th>Q35_B_Part_8</th>\n",
       "      <th>Q35_B_Part_9</th>\n",
       "      <th>Q35_B_Part_10</th>\n",
       "      <th>Q35_B_OTHER</th>\n",
       "    </tr>\n",
       "  </thead>\n",
       "  <tbody>\n",
       "    <tr>\n",
       "      <th>1</th>\n",
       "      <td>1838</td>\n",
       "      <td>35-39</td>\n",
       "      <td>Man</td>\n",
       "      <td>Colombia</td>\n",
       "      <td>Doctoral degree</td>\n",
       "      <td>Student</td>\n",
       "      <td>5-10 years</td>\n",
       "      <td>Python</td>\n",
       "      <td>R</td>\n",
       "      <td>SQL</td>\n",
       "      <td>...</td>\n",
       "      <td>NaN</td>\n",
       "      <td>NaN</td>\n",
       "      <td>NaN</td>\n",
       "      <td>TensorBoard</td>\n",
       "      <td>NaN</td>\n",
       "      <td>NaN</td>\n",
       "      <td>NaN</td>\n",
       "      <td>NaN</td>\n",
       "      <td>NaN</td>\n",
       "      <td>NaN</td>\n",
       "    </tr>\n",
       "    <tr>\n",
       "      <th>2</th>\n",
       "      <td>289287</td>\n",
       "      <td>30-34</td>\n",
       "      <td>Man</td>\n",
       "      <td>United States of America</td>\n",
       "      <td>Master’s degree</td>\n",
       "      <td>Data Engineer</td>\n",
       "      <td>5-10 years</td>\n",
       "      <td>Python</td>\n",
       "      <td>R</td>\n",
       "      <td>SQL</td>\n",
       "      <td>...</td>\n",
       "      <td>NaN</td>\n",
       "      <td>NaN</td>\n",
       "      <td>NaN</td>\n",
       "      <td>NaN</td>\n",
       "      <td>NaN</td>\n",
       "      <td>NaN</td>\n",
       "      <td>NaN</td>\n",
       "      <td>NaN</td>\n",
       "      <td>NaN</td>\n",
       "      <td>NaN</td>\n",
       "    </tr>\n",
       "    <tr>\n",
       "      <th>3</th>\n",
       "      <td>860</td>\n",
       "      <td>35-39</td>\n",
       "      <td>Man</td>\n",
       "      <td>Argentina</td>\n",
       "      <td>Bachelor’s degree</td>\n",
       "      <td>Software Engineer</td>\n",
       "      <td>10-20 years</td>\n",
       "      <td>NaN</td>\n",
       "      <td>NaN</td>\n",
       "      <td>NaN</td>\n",
       "      <td>...</td>\n",
       "      <td>NaN</td>\n",
       "      <td>NaN</td>\n",
       "      <td>NaN</td>\n",
       "      <td>NaN</td>\n",
       "      <td>NaN</td>\n",
       "      <td>NaN</td>\n",
       "      <td>NaN</td>\n",
       "      <td>NaN</td>\n",
       "      <td>NaN</td>\n",
       "      <td>NaN</td>\n",
       "    </tr>\n",
       "    <tr>\n",
       "      <th>4</th>\n",
       "      <td>507</td>\n",
       "      <td>30-34</td>\n",
       "      <td>Man</td>\n",
       "      <td>United States of America</td>\n",
       "      <td>Master’s degree</td>\n",
       "      <td>Data Scientist</td>\n",
       "      <td>5-10 years</td>\n",
       "      <td>Python</td>\n",
       "      <td>NaN</td>\n",
       "      <td>SQL</td>\n",
       "      <td>...</td>\n",
       "      <td>NaN</td>\n",
       "      <td>NaN</td>\n",
       "      <td>NaN</td>\n",
       "      <td>NaN</td>\n",
       "      <td>NaN</td>\n",
       "      <td>NaN</td>\n",
       "      <td>NaN</td>\n",
       "      <td>NaN</td>\n",
       "      <td>NaN</td>\n",
       "      <td>NaN</td>\n",
       "    </tr>\n",
       "    <tr>\n",
       "      <th>5</th>\n",
       "      <td>78</td>\n",
       "      <td>30-34</td>\n",
       "      <td>Man</td>\n",
       "      <td>Japan</td>\n",
       "      <td>Master’s degree</td>\n",
       "      <td>Software Engineer</td>\n",
       "      <td>3-5 years</td>\n",
       "      <td>Python</td>\n",
       "      <td>NaN</td>\n",
       "      <td>NaN</td>\n",
       "      <td>...</td>\n",
       "      <td>NaN</td>\n",
       "      <td>NaN</td>\n",
       "      <td>NaN</td>\n",
       "      <td>NaN</td>\n",
       "      <td>NaN</td>\n",
       "      <td>NaN</td>\n",
       "      <td>NaN</td>\n",
       "      <td>NaN</td>\n",
       "      <td>NaN</td>\n",
       "      <td>NaN</td>\n",
       "    </tr>\n",
       "    <tr>\n",
       "      <th>...</th>\n",
       "      <td>...</td>\n",
       "      <td>...</td>\n",
       "      <td>...</td>\n",
       "      <td>...</td>\n",
       "      <td>...</td>\n",
       "      <td>...</td>\n",
       "      <td>...</td>\n",
       "      <td>...</td>\n",
       "      <td>...</td>\n",
       "      <td>...</td>\n",
       "      <td>...</td>\n",
       "      <td>...</td>\n",
       "      <td>...</td>\n",
       "      <td>...</td>\n",
       "      <td>...</td>\n",
       "      <td>...</td>\n",
       "      <td>...</td>\n",
       "      <td>...</td>\n",
       "      <td>...</td>\n",
       "      <td>...</td>\n",
       "      <td>...</td>\n",
       "    </tr>\n",
       "    <tr>\n",
       "      <th>20032</th>\n",
       "      <td>126</td>\n",
       "      <td>18-21</td>\n",
       "      <td>Man</td>\n",
       "      <td>Turkey</td>\n",
       "      <td>Some college/university study without earning ...</td>\n",
       "      <td>NaN</td>\n",
       "      <td>NaN</td>\n",
       "      <td>NaN</td>\n",
       "      <td>NaN</td>\n",
       "      <td>NaN</td>\n",
       "      <td>...</td>\n",
       "      <td>NaN</td>\n",
       "      <td>NaN</td>\n",
       "      <td>NaN</td>\n",
       "      <td>NaN</td>\n",
       "      <td>NaN</td>\n",
       "      <td>NaN</td>\n",
       "      <td>NaN</td>\n",
       "      <td>NaN</td>\n",
       "      <td>NaN</td>\n",
       "      <td>NaN</td>\n",
       "    </tr>\n",
       "    <tr>\n",
       "      <th>20033</th>\n",
       "      <td>566</td>\n",
       "      <td>55-59</td>\n",
       "      <td>Woman</td>\n",
       "      <td>United Kingdom of Great Britain and Northern I...</td>\n",
       "      <td>Master’s degree</td>\n",
       "      <td>Currently not employed</td>\n",
       "      <td>20+ years</td>\n",
       "      <td>Python</td>\n",
       "      <td>NaN</td>\n",
       "      <td>NaN</td>\n",
       "      <td>...</td>\n",
       "      <td>NaN</td>\n",
       "      <td>NaN</td>\n",
       "      <td>NaN</td>\n",
       "      <td>NaN</td>\n",
       "      <td>NaN</td>\n",
       "      <td>NaN</td>\n",
       "      <td>NaN</td>\n",
       "      <td>NaN</td>\n",
       "      <td>NaN</td>\n",
       "      <td>NaN</td>\n",
       "    </tr>\n",
       "    <tr>\n",
       "      <th>20034</th>\n",
       "      <td>238</td>\n",
       "      <td>30-34</td>\n",
       "      <td>Man</td>\n",
       "      <td>Brazil</td>\n",
       "      <td>Master’s degree</td>\n",
       "      <td>Research Scientist</td>\n",
       "      <td>&lt; 1 years</td>\n",
       "      <td>Python</td>\n",
       "      <td>NaN</td>\n",
       "      <td>NaN</td>\n",
       "      <td>...</td>\n",
       "      <td>NaN</td>\n",
       "      <td>NaN</td>\n",
       "      <td>NaN</td>\n",
       "      <td>NaN</td>\n",
       "      <td>NaN</td>\n",
       "      <td>NaN</td>\n",
       "      <td>NaN</td>\n",
       "      <td>NaN</td>\n",
       "      <td>NaN</td>\n",
       "      <td>NaN</td>\n",
       "    </tr>\n",
       "    <tr>\n",
       "      <th>20035</th>\n",
       "      <td>625</td>\n",
       "      <td>22-24</td>\n",
       "      <td>Man</td>\n",
       "      <td>India</td>\n",
       "      <td>Bachelor’s degree</td>\n",
       "      <td>Software Engineer</td>\n",
       "      <td>3-5 years</td>\n",
       "      <td>Python</td>\n",
       "      <td>NaN</td>\n",
       "      <td>SQL</td>\n",
       "      <td>...</td>\n",
       "      <td>Weights &amp; Biases</td>\n",
       "      <td>NaN</td>\n",
       "      <td>NaN</td>\n",
       "      <td>TensorBoard</td>\n",
       "      <td>NaN</td>\n",
       "      <td>NaN</td>\n",
       "      <td>Trains</td>\n",
       "      <td>NaN</td>\n",
       "      <td>NaN</td>\n",
       "      <td>NaN</td>\n",
       "    </tr>\n",
       "    <tr>\n",
       "      <th>20036</th>\n",
       "      <td>1031</td>\n",
       "      <td>22-24</td>\n",
       "      <td>Man</td>\n",
       "      <td>Pakistan</td>\n",
       "      <td>Master’s degree</td>\n",
       "      <td>Machine Learning Engineer</td>\n",
       "      <td>&lt; 1 years</td>\n",
       "      <td>Python</td>\n",
       "      <td>NaN</td>\n",
       "      <td>NaN</td>\n",
       "      <td>...</td>\n",
       "      <td>Weights &amp; Biases</td>\n",
       "      <td>NaN</td>\n",
       "      <td>NaN</td>\n",
       "      <td>NaN</td>\n",
       "      <td>NaN</td>\n",
       "      <td>NaN</td>\n",
       "      <td>Trains</td>\n",
       "      <td>NaN</td>\n",
       "      <td>NaN</td>\n",
       "      <td>NaN</td>\n",
       "    </tr>\n",
       "  </tbody>\n",
       "</table>\n",
       "<p>20036 rows × 355 columns</p>\n",
       "</div>"
      ],
      "text/plain": [
       "      Time from Start to Finish (seconds)     Q1     Q2  \\\n",
       "1                                    1838  35-39    Man   \n",
       "2                                  289287  30-34    Man   \n",
       "3                                     860  35-39    Man   \n",
       "4                                     507  30-34    Man   \n",
       "5                                      78  30-34    Man   \n",
       "...                                   ...    ...    ...   \n",
       "20032                                 126  18-21    Man   \n",
       "20033                                 566  55-59  Woman   \n",
       "20034                                 238  30-34    Man   \n",
       "20035                                 625  22-24    Man   \n",
       "20036                                1031  22-24    Man   \n",
       "\n",
       "                                                      Q3  \\\n",
       "1                                               Colombia   \n",
       "2                               United States of America   \n",
       "3                                              Argentina   \n",
       "4                               United States of America   \n",
       "5                                                  Japan   \n",
       "...                                                  ...   \n",
       "20032                                             Turkey   \n",
       "20033  United Kingdom of Great Britain and Northern I...   \n",
       "20034                                             Brazil   \n",
       "20035                                              India   \n",
       "20036                                           Pakistan   \n",
       "\n",
       "                                                      Q4  \\\n",
       "1                                        Doctoral degree   \n",
       "2                                        Master’s degree   \n",
       "3                                      Bachelor’s degree   \n",
       "4                                        Master’s degree   \n",
       "5                                        Master’s degree   \n",
       "...                                                  ...   \n",
       "20032  Some college/university study without earning ...   \n",
       "20033                                    Master’s degree   \n",
       "20034                                    Master’s degree   \n",
       "20035                                  Bachelor’s degree   \n",
       "20036                                    Master’s degree   \n",
       "\n",
       "                              Q5           Q6 Q7_Part_1 Q7_Part_2 Q7_Part_3  \\\n",
       "1                        Student   5-10 years    Python         R       SQL   \n",
       "2                  Data Engineer   5-10 years    Python         R       SQL   \n",
       "3              Software Engineer  10-20 years       NaN       NaN       NaN   \n",
       "4                 Data Scientist   5-10 years    Python       NaN       SQL   \n",
       "5              Software Engineer    3-5 years    Python       NaN       NaN   \n",
       "...                          ...          ...       ...       ...       ...   \n",
       "20032                        NaN          NaN       NaN       NaN       NaN   \n",
       "20033     Currently not employed    20+ years    Python       NaN       NaN   \n",
       "20034         Research Scientist    < 1 years    Python       NaN       NaN   \n",
       "20035          Software Engineer    3-5 years    Python       NaN       SQL   \n",
       "20036  Machine Learning Engineer    < 1 years    Python       NaN       NaN   \n",
       "\n",
       "       ...        Q35_B_Part_2 Q35_B_Part_3 Q35_B_Part_4   Q35_B_Part_5  \\\n",
       "1      ...                 NaN          NaN          NaN   TensorBoard    \n",
       "2      ...                 NaN          NaN          NaN            NaN   \n",
       "3      ...                 NaN          NaN          NaN            NaN   \n",
       "4      ...                 NaN          NaN          NaN            NaN   \n",
       "5      ...                 NaN          NaN          NaN            NaN   \n",
       "...    ...                 ...          ...          ...            ...   \n",
       "20032  ...                 NaN          NaN          NaN            NaN   \n",
       "20033  ...                 NaN          NaN          NaN            NaN   \n",
       "20034  ...                 NaN          NaN          NaN            NaN   \n",
       "20035  ...   Weights & Biases           NaN          NaN   TensorBoard    \n",
       "20036  ...   Weights & Biases           NaN          NaN            NaN   \n",
       "\n",
       "      Q35_B_Part_6 Q35_B_Part_7 Q35_B_Part_8 Q35_B_Part_9 Q35_B_Part_10  \\\n",
       "1              NaN          NaN          NaN          NaN           NaN   \n",
       "2              NaN          NaN          NaN          NaN           NaN   \n",
       "3              NaN          NaN          NaN          NaN           NaN   \n",
       "4              NaN          NaN          NaN          NaN           NaN   \n",
       "5              NaN          NaN          NaN          NaN           NaN   \n",
       "...            ...          ...          ...          ...           ...   \n",
       "20032          NaN          NaN          NaN          NaN           NaN   \n",
       "20033          NaN          NaN          NaN          NaN           NaN   \n",
       "20034          NaN          NaN          NaN          NaN           NaN   \n",
       "20035          NaN          NaN      Trains           NaN           NaN   \n",
       "20036          NaN          NaN      Trains           NaN           NaN   \n",
       "\n",
       "      Q35_B_OTHER  \n",
       "1             NaN  \n",
       "2             NaN  \n",
       "3             NaN  \n",
       "4             NaN  \n",
       "5             NaN  \n",
       "...           ...  \n",
       "20032         NaN  \n",
       "20033         NaN  \n",
       "20034         NaN  \n",
       "20035         NaN  \n",
       "20036         NaN  \n",
       "\n",
       "[20036 rows x 355 columns]"
      ]
     },
     "execution_count": 6,
     "metadata": {},
     "output_type": "execute_result"
    }
   ],
   "source": [
    "answer = raw.drop([0])\n",
    "answer"
   ]
  },
  {
   "cell_type": "code",
   "execution_count": 7,
   "metadata": {
    "papermill": {
     "duration": 0.083419,
     "end_time": "2020-12-29T10:02:02.425087",
     "exception": false,
     "start_time": "2020-12-29T10:02:02.341668",
     "status": "completed"
    },
    "tags": []
   },
   "outputs": [
    {
     "name": "stdout",
     "output_type": "stream",
     "text": [
      "<class 'pandas.core.frame.DataFrame'>\n",
      "RangeIndex: 20036 entries, 1 to 20036\n",
      "Columns: 355 entries, Time from Start to Finish (seconds) to Q35_B_OTHER\n",
      "dtypes: object(355)\n",
      "memory usage: 54.3+ MB\n"
     ]
    }
   ],
   "source": [
    "answer.info()"
   ]
  },
  {
   "cell_type": "markdown",
   "metadata": {
    "papermill": {
     "duration": 0.056052,
     "end_time": "2020-12-29T10:02:02.536947",
     "exception": false,
     "start_time": "2020-12-29T10:02:02.480895",
     "status": "completed"
    },
    "tags": []
   },
   "source": [
    "## Q1 What is your age (# years)?"
   ]
  },
  {
   "cell_type": "code",
   "execution_count": 8,
   "metadata": {
    "papermill": {
     "duration": 0.067087,
     "end_time": "2020-12-29T10:02:02.660514",
     "exception": false,
     "start_time": "2020-12-29T10:02:02.593427",
     "status": "completed"
    },
    "tags": []
   },
   "outputs": [
    {
     "data": {
      "text/plain": [
       "'What is your age (# years)?'"
      ]
     },
     "execution_count": 8,
     "metadata": {},
     "output_type": "execute_result"
    }
   ],
   "source": [
    "question[\"Q1\"]"
   ]
  },
  {
   "cell_type": "code",
   "execution_count": 9,
   "metadata": {
    "papermill": {
     "duration": 0.445051,
     "end_time": "2020-12-29T10:02:03.163029",
     "exception": false,
     "start_time": "2020-12-29T10:02:02.717978",
     "status": "completed"
    },
    "tags": []
   },
   "outputs": [],
   "source": [
    "Q1 = answer['Q1'].value_counts().sort_index()\n",
    "# sns.countplot(data=answer.sort_values(\"Q1\"), x=\"Q1\", \n",
    "#               palette=\"Blues_r\").set_title(question[\"Q1\"])"
   ]
  },
  {
   "cell_type": "markdown",
   "metadata": {
    "papermill": {
     "duration": 0.062876,
     "end_time": "2020-12-29T10:02:03.284739",
     "exception": false,
     "start_time": "2020-12-29T10:02:03.221863",
     "status": "completed"
    },
    "tags": []
   },
   "source": [
    "## Q2 What is your gender? - Selected Choice"
   ]
  },
  {
   "cell_type": "code",
   "execution_count": 10,
   "metadata": {
    "papermill": {
     "duration": 0.084981,
     "end_time": "2020-12-29T10:02:03.443844",
     "exception": false,
     "start_time": "2020-12-29T10:02:03.358863",
     "status": "completed"
    },
    "tags": []
   },
   "outputs": [
    {
     "data": {
      "text/plain": [
       "Q2\n",
       "Man                        15789\n",
       "Woman                       3878\n",
       "Prefer not to say            263\n",
       "Prefer to self-describe       54\n",
       "Nonbinary                     52\n",
       "Name: count, dtype: int64"
      ]
     },
     "execution_count": 10,
     "metadata": {},
     "output_type": "execute_result"
    }
   ],
   "source": [
    "question_no = \"Q2\"\n",
    "Q2 = answer[question_no].value_counts()\n",
    "Q2"
   ]
  },
  {
   "cell_type": "code",
   "execution_count": 11,
   "metadata": {
    "papermill": {
     "duration": 0.2272,
     "end_time": "2020-12-29T10:02:03.730273",
     "exception": false,
     "start_time": "2020-12-29T10:02:03.503073",
     "status": "completed"
    },
    "tags": []
   },
   "outputs": [],
   "source": [
    "# sns.countplot(data=answer, \n",
    "#               y=question_no).set_title(question[question_no])"
   ]
  },
  {
   "cell_type": "code",
   "execution_count": 12,
   "metadata": {
    "papermill": {
     "duration": 0.339823,
     "end_time": "2020-12-29T10:02:04.130902",
     "exception": false,
     "start_time": "2020-12-29T10:02:03.791079",
     "status": "completed"
    },
    "tags": []
   },
   "outputs": [],
   "source": [
    "q1q2 = pd.crosstab(answer[\"Q1\"], answer[\"Q2\"])\n",
    "# q1q2[[\"Man\", \"Woman\"]].plot.bar(rot=0)"
   ]
  },
  {
   "cell_type": "code",
   "execution_count": 13,
   "metadata": {
    "papermill": {
     "duration": 0.42559,
     "end_time": "2020-12-29T10:02:04.617840",
     "exception": false,
     "start_time": "2020-12-29T10:02:04.192250",
     "status": "completed"
    },
    "tags": []
   },
   "outputs": [
    {
     "data": {
      "text/html": [
       "<div>\n",
       "<style scoped>\n",
       "    .dataframe tbody tr th:only-of-type {\n",
       "        vertical-align: middle;\n",
       "    }\n",
       "\n",
       "    .dataframe tbody tr th {\n",
       "        vertical-align: top;\n",
       "    }\n",
       "\n",
       "    .dataframe thead th {\n",
       "        text-align: right;\n",
       "    }\n",
       "</style>\n",
       "<table border=\"1\" class=\"dataframe\">\n",
       "  <thead>\n",
       "    <tr style=\"text-align: right;\">\n",
       "      <th>Q2</th>\n",
       "      <th>Man</th>\n",
       "      <th>Woman</th>\n",
       "    </tr>\n",
       "    <tr>\n",
       "      <th>Q1</th>\n",
       "      <th></th>\n",
       "      <th></th>\n",
       "    </tr>\n",
       "  </thead>\n",
       "  <tbody>\n",
       "    <tr>\n",
       "      <th>70+</th>\n",
       "      <td>72</td>\n",
       "      <td>2</td>\n",
       "    </tr>\n",
       "    <tr>\n",
       "      <th>60-69</th>\n",
       "      <td>362</td>\n",
       "      <td>29</td>\n",
       "    </tr>\n",
       "    <tr>\n",
       "      <th>55-59</th>\n",
       "      <td>353</td>\n",
       "      <td>45</td>\n",
       "    </tr>\n",
       "    <tr>\n",
       "      <th>50-54</th>\n",
       "      <td>605</td>\n",
       "      <td>81</td>\n",
       "    </tr>\n",
       "    <tr>\n",
       "      <th>45-49</th>\n",
       "      <td>840</td>\n",
       "      <td>126</td>\n",
       "    </tr>\n",
       "    <tr>\n",
       "      <th>40-44</th>\n",
       "      <td>1153</td>\n",
       "      <td>222</td>\n",
       "    </tr>\n",
       "    <tr>\n",
       "      <th>35-39</th>\n",
       "      <td>1581</td>\n",
       "      <td>368</td>\n",
       "    </tr>\n",
       "    <tr>\n",
       "      <th>30-34</th>\n",
       "      <td>2246</td>\n",
       "      <td>504</td>\n",
       "    </tr>\n",
       "    <tr>\n",
       "      <th>25-29</th>\n",
       "      <td>3128</td>\n",
       "      <td>819</td>\n",
       "    </tr>\n",
       "    <tr>\n",
       "      <th>22-24</th>\n",
       "      <td>2838</td>\n",
       "      <td>886</td>\n",
       "    </tr>\n",
       "    <tr>\n",
       "      <th>18-21</th>\n",
       "      <td>2611</td>\n",
       "      <td>796</td>\n",
       "    </tr>\n",
       "  </tbody>\n",
       "</table>\n",
       "</div>"
      ],
      "text/plain": [
       "Q2      Man  Woman\n",
       "Q1                \n",
       "70+      72      2\n",
       "60-69   362     29\n",
       "55-59   353     45\n",
       "50-54   605     81\n",
       "45-49   840    126\n",
       "40-44  1153    222\n",
       "35-39  1581    368\n",
       "30-34  2246    504\n",
       "25-29  3128    819\n",
       "22-24  2838    886\n",
       "18-21  2611    796"
      ]
     },
     "execution_count": 13,
     "metadata": {},
     "output_type": "execute_result"
    }
   ],
   "source": [
    "q1q2[[\"Man\", \"Woman\"]].sort_index(ascending=False)"
   ]
  },
  {
   "cell_type": "code",
   "execution_count": 14,
   "metadata": {
    "papermill": {
     "duration": 0.566235,
     "end_time": "2020-12-29T10:02:05.247531",
     "exception": false,
     "start_time": "2020-12-29T10:02:04.681296",
     "status": "completed"
    },
    "tags": []
   },
   "outputs": [],
   "source": [
    "# plt.figure(figsize=(10, 6))\n",
    "# sns.countplot(data=answer.sort_values(\"Q1\"), x=\"Q1\", hue=\"Q2\").set_title(\"Age & Gender\")"
   ]
  },
  {
   "cell_type": "markdown",
   "metadata": {
    "papermill": {
     "duration": 0.065993,
     "end_time": "2020-12-29T10:02:05.378894",
     "exception": false,
     "start_time": "2020-12-29T10:02:05.312901",
     "status": "completed"
    },
    "tags": []
   },
   "source": [
    "## Q3 In which country do you currently reside?"
   ]
  },
  {
   "cell_type": "markdown",
   "metadata": {
    "papermill": {
     "duration": 0.066027,
     "end_time": "2020-12-29T10:02:05.511079",
     "exception": false,
     "start_time": "2020-12-29T10:02:05.445052",
     "status": "completed"
    },
    "tags": []
   },
   "source": [
    "### 📊define show_countplot_by_qno"
   ]
  },
  {
   "cell_type": "code",
   "execution_count": 15,
   "metadata": {
    "papermill": {
     "duration": 0.078311,
     "end_time": "2020-12-29T10:02:05.655649",
     "exception": false,
     "start_time": "2020-12-29T10:02:05.577338",
     "status": "completed"
    },
    "tags": []
   },
   "outputs": [],
   "source": [
    "def show_countplot_by_qno(qno, fsize=(10, 6), order=None):\n",
    "    \"\"\"\n",
    "    qno : question_no, ex) Q12\n",
    "    fsize : figsize default (10, 6)\n",
    "    order : optional order list, default value_counts().index\n",
    "    \"\"\"\n",
    "    if not order :\n",
    "        order = answer[qno].value_counts().index\n",
    "        \n",
    "    # plt.figure(figsize=fsize)\n",
    "    # sns.countplot(data=answer, \n",
    "    #               y=qno,\n",
    "    #               order=order,\n",
    "    #               palette=\"Blues_r\"\n",
    "    #              ).set_title(question[qno])"
   ]
  },
  {
   "cell_type": "code",
   "execution_count": 16,
   "metadata": {
    "papermill": {
     "duration": 0.872891,
     "end_time": "2020-12-29T10:02:06.594927",
     "exception": false,
     "start_time": "2020-12-29T10:02:05.722036",
     "status": "completed"
    },
    "tags": []
   },
   "outputs": [],
   "source": [
    "show_countplot_by_qno(\"Q3\", fsize=(12, 12))"
   ]
  },
  {
   "cell_type": "markdown",
   "metadata": {
    "papermill": {
     "duration": 0.070974,
     "end_time": "2020-12-29T10:02:06.737334",
     "exception": false,
     "start_time": "2020-12-29T10:02:06.666360",
     "status": "completed"
    },
    "tags": []
   },
   "source": [
    "## Q4 🎓 What is the highest level of formal education that you have attained or plan to attain within the next 2 years?"
   ]
  },
  {
   "cell_type": "code",
   "execution_count": 17,
   "metadata": {
    "papermill": {
     "duration": 0.322219,
     "end_time": "2020-12-29T10:02:07.131696",
     "exception": false,
     "start_time": "2020-12-29T10:02:06.809477",
     "status": "completed"
    },
    "tags": []
   },
   "outputs": [],
   "source": [
    "show_countplot_by_qno(\"Q4\")"
   ]
  },
  {
   "cell_type": "markdown",
   "metadata": {
    "papermill": {
     "duration": 0.073941,
     "end_time": "2020-12-29T10:02:07.279799",
     "exception": false,
     "start_time": "2020-12-29T10:02:07.205858",
     "status": "completed"
    },
    "tags": []
   },
   "source": [
    "## Q5 Select the title most similar to your current role (or most recent title if retired):"
   ]
  },
  {
   "cell_type": "code",
   "execution_count": 18,
   "metadata": {
    "papermill": {
     "duration": 0.326296,
     "end_time": "2020-12-29T10:02:07.680190",
     "exception": false,
     "start_time": "2020-12-29T10:02:07.353894",
     "status": "completed"
    },
    "tags": []
   },
   "outputs": [],
   "source": [
    "show_countplot_by_qno(\"Q5\")"
   ]
  },
  {
   "cell_type": "markdown",
   "metadata": {
    "papermill": {
     "duration": 0.078326,
     "end_time": "2020-12-29T10:02:07.835914",
     "exception": false,
     "start_time": "2020-12-29T10:02:07.757588",
     "status": "completed"
    },
    "tags": []
   },
   "source": [
    "## Q6 For how many years have you been writing code and/or programming?"
   ]
  },
  {
   "cell_type": "code",
   "execution_count": 19,
   "metadata": {
    "papermill": {
     "duration": 0.286395,
     "end_time": "2020-12-29T10:02:08.200918",
     "exception": false,
     "start_time": "2020-12-29T10:02:07.914523",
     "status": "completed"
    },
    "tags": []
   },
   "outputs": [],
   "source": [
    "show_countplot_by_qno(\"Q6\")"
   ]
  },
  {
   "cell_type": "code",
   "execution_count": 20,
   "metadata": {
    "papermill": {
     "duration": 0.088313,
     "end_time": "2020-12-29T10:02:08.368428",
     "exception": false,
     "start_time": "2020-12-29T10:02:08.280115",
     "status": "completed"
    },
    "tags": []
   },
   "outputs": [],
   "source": [
    "q6_cols = ['I have never written code', '< 1 years', '1-2 years', '3-5 years', '5-10 years',  \n",
    "       '10-20 years', '20+ years']"
   ]
  },
  {
   "cell_type": "code",
   "execution_count": 21,
   "metadata": {
    "papermill": {
     "duration": 0.279361,
     "end_time": "2020-12-29T10:02:08.727199",
     "exception": false,
     "start_time": "2020-12-29T10:02:08.447838",
     "status": "completed"
    },
    "tags": []
   },
   "outputs": [],
   "source": [
    "show_countplot_by_qno(\"Q6\", order=q6_cols)"
   ]
  },
  {
   "cell_type": "markdown",
   "metadata": {
    "papermill": {
     "duration": 0.081851,
     "end_time": "2020-12-29T10:02:08.890459",
     "exception": false,
     "start_time": "2020-12-29T10:02:08.808608",
     "status": "completed"
    },
    "tags": []
   },
   "source": [
    "## Q7 What programming languages do you use on a regular basis? (Select all that apply)\n",
    "\n",
    "### 🐼 pandas filter & describe 🗂"
   ]
  },
  {
   "cell_type": "code",
   "execution_count": 22,
   "metadata": {
    "papermill": {
     "duration": 0.092032,
     "end_time": "2020-12-29T10:02:09.064820",
     "exception": false,
     "start_time": "2020-12-29T10:02:08.972788",
     "status": "completed"
    },
    "tags": []
   },
   "outputs": [
    {
     "data": {
      "text/plain": [
       "'What programming languages do you use on a regular basis? (Select all that apply) '"
      ]
     },
     "execution_count": 22,
     "metadata": {},
     "output_type": "execute_result"
    }
   ],
   "source": [
    "question.filter(regex=\"Q7\")[0].split(\"-\")[0]"
   ]
  },
  {
   "cell_type": "code",
   "execution_count": 23,
   "metadata": {
    "papermill": {
     "duration": 0.124307,
     "end_time": "2020-12-29T10:02:09.270858",
     "exception": false,
     "start_time": "2020-12-29T10:02:09.146551",
     "status": "completed"
    },
    "tags": []
   },
   "outputs": [
    {
     "data": {
      "text/html": [
       "<div>\n",
       "<style scoped>\n",
       "    .dataframe tbody tr th:only-of-type {\n",
       "        vertical-align: middle;\n",
       "    }\n",
       "\n",
       "    .dataframe tbody tr th {\n",
       "        vertical-align: top;\n",
       "    }\n",
       "\n",
       "    .dataframe thead th {\n",
       "        text-align: right;\n",
       "    }\n",
       "</style>\n",
       "<table border=\"1\" class=\"dataframe\">\n",
       "  <thead>\n",
       "    <tr style=\"text-align: right;\">\n",
       "      <th></th>\n",
       "      <th>Q7_Part_1</th>\n",
       "      <th>Q7_Part_2</th>\n",
       "      <th>Q7_Part_3</th>\n",
       "      <th>Q7_Part_4</th>\n",
       "      <th>Q7_Part_5</th>\n",
       "      <th>Q7_Part_6</th>\n",
       "      <th>Q7_Part_7</th>\n",
       "      <th>Q7_Part_8</th>\n",
       "      <th>Q7_Part_9</th>\n",
       "      <th>Q7_Part_10</th>\n",
       "      <th>Q7_Part_11</th>\n",
       "      <th>Q7_Part_12</th>\n",
       "      <th>Q7_OTHER</th>\n",
       "    </tr>\n",
       "  </thead>\n",
       "  <tbody>\n",
       "    <tr>\n",
       "      <th>1</th>\n",
       "      <td>Python</td>\n",
       "      <td>R</td>\n",
       "      <td>SQL</td>\n",
       "      <td>C</td>\n",
       "      <td>NaN</td>\n",
       "      <td>NaN</td>\n",
       "      <td>Javascript</td>\n",
       "      <td>NaN</td>\n",
       "      <td>NaN</td>\n",
       "      <td>NaN</td>\n",
       "      <td>MATLAB</td>\n",
       "      <td>NaN</td>\n",
       "      <td>Other</td>\n",
       "    </tr>\n",
       "    <tr>\n",
       "      <th>2</th>\n",
       "      <td>Python</td>\n",
       "      <td>R</td>\n",
       "      <td>SQL</td>\n",
       "      <td>NaN</td>\n",
       "      <td>NaN</td>\n",
       "      <td>NaN</td>\n",
       "      <td>NaN</td>\n",
       "      <td>NaN</td>\n",
       "      <td>NaN</td>\n",
       "      <td>NaN</td>\n",
       "      <td>NaN</td>\n",
       "      <td>NaN</td>\n",
       "      <td>NaN</td>\n",
       "    </tr>\n",
       "    <tr>\n",
       "      <th>3</th>\n",
       "      <td>NaN</td>\n",
       "      <td>NaN</td>\n",
       "      <td>NaN</td>\n",
       "      <td>NaN</td>\n",
       "      <td>NaN</td>\n",
       "      <td>Java</td>\n",
       "      <td>Javascript</td>\n",
       "      <td>NaN</td>\n",
       "      <td>NaN</td>\n",
       "      <td>Bash</td>\n",
       "      <td>NaN</td>\n",
       "      <td>NaN</td>\n",
       "      <td>NaN</td>\n",
       "    </tr>\n",
       "    <tr>\n",
       "      <th>4</th>\n",
       "      <td>Python</td>\n",
       "      <td>NaN</td>\n",
       "      <td>SQL</td>\n",
       "      <td>NaN</td>\n",
       "      <td>NaN</td>\n",
       "      <td>NaN</td>\n",
       "      <td>NaN</td>\n",
       "      <td>NaN</td>\n",
       "      <td>NaN</td>\n",
       "      <td>Bash</td>\n",
       "      <td>NaN</td>\n",
       "      <td>NaN</td>\n",
       "      <td>NaN</td>\n",
       "    </tr>\n",
       "    <tr>\n",
       "      <th>5</th>\n",
       "      <td>Python</td>\n",
       "      <td>NaN</td>\n",
       "      <td>NaN</td>\n",
       "      <td>NaN</td>\n",
       "      <td>NaN</td>\n",
       "      <td>NaN</td>\n",
       "      <td>NaN</td>\n",
       "      <td>NaN</td>\n",
       "      <td>NaN</td>\n",
       "      <td>NaN</td>\n",
       "      <td>NaN</td>\n",
       "      <td>NaN</td>\n",
       "      <td>NaN</td>\n",
       "    </tr>\n",
       "    <tr>\n",
       "      <th>...</th>\n",
       "      <td>...</td>\n",
       "      <td>...</td>\n",
       "      <td>...</td>\n",
       "      <td>...</td>\n",
       "      <td>...</td>\n",
       "      <td>...</td>\n",
       "      <td>...</td>\n",
       "      <td>...</td>\n",
       "      <td>...</td>\n",
       "      <td>...</td>\n",
       "      <td>...</td>\n",
       "      <td>...</td>\n",
       "      <td>...</td>\n",
       "    </tr>\n",
       "    <tr>\n",
       "      <th>20032</th>\n",
       "      <td>NaN</td>\n",
       "      <td>NaN</td>\n",
       "      <td>NaN</td>\n",
       "      <td>NaN</td>\n",
       "      <td>NaN</td>\n",
       "      <td>NaN</td>\n",
       "      <td>NaN</td>\n",
       "      <td>NaN</td>\n",
       "      <td>NaN</td>\n",
       "      <td>NaN</td>\n",
       "      <td>NaN</td>\n",
       "      <td>NaN</td>\n",
       "      <td>NaN</td>\n",
       "    </tr>\n",
       "    <tr>\n",
       "      <th>20033</th>\n",
       "      <td>Python</td>\n",
       "      <td>NaN</td>\n",
       "      <td>NaN</td>\n",
       "      <td>NaN</td>\n",
       "      <td>NaN</td>\n",
       "      <td>NaN</td>\n",
       "      <td>NaN</td>\n",
       "      <td>NaN</td>\n",
       "      <td>NaN</td>\n",
       "      <td>NaN</td>\n",
       "      <td>NaN</td>\n",
       "      <td>NaN</td>\n",
       "      <td>NaN</td>\n",
       "    </tr>\n",
       "    <tr>\n",
       "      <th>20034</th>\n",
       "      <td>Python</td>\n",
       "      <td>NaN</td>\n",
       "      <td>NaN</td>\n",
       "      <td>NaN</td>\n",
       "      <td>NaN</td>\n",
       "      <td>NaN</td>\n",
       "      <td>NaN</td>\n",
       "      <td>NaN</td>\n",
       "      <td>NaN</td>\n",
       "      <td>NaN</td>\n",
       "      <td>NaN</td>\n",
       "      <td>NaN</td>\n",
       "      <td>NaN</td>\n",
       "    </tr>\n",
       "    <tr>\n",
       "      <th>20035</th>\n",
       "      <td>Python</td>\n",
       "      <td>NaN</td>\n",
       "      <td>SQL</td>\n",
       "      <td>C</td>\n",
       "      <td>NaN</td>\n",
       "      <td>Java</td>\n",
       "      <td>Javascript</td>\n",
       "      <td>NaN</td>\n",
       "      <td>NaN</td>\n",
       "      <td>NaN</td>\n",
       "      <td>NaN</td>\n",
       "      <td>NaN</td>\n",
       "      <td>NaN</td>\n",
       "    </tr>\n",
       "    <tr>\n",
       "      <th>20036</th>\n",
       "      <td>Python</td>\n",
       "      <td>NaN</td>\n",
       "      <td>NaN</td>\n",
       "      <td>NaN</td>\n",
       "      <td>NaN</td>\n",
       "      <td>NaN</td>\n",
       "      <td>NaN</td>\n",
       "      <td>NaN</td>\n",
       "      <td>NaN</td>\n",
       "      <td>NaN</td>\n",
       "      <td>NaN</td>\n",
       "      <td>NaN</td>\n",
       "      <td>NaN</td>\n",
       "    </tr>\n",
       "  </tbody>\n",
       "</table>\n",
       "<p>20036 rows × 13 columns</p>\n",
       "</div>"
      ],
      "text/plain": [
       "      Q7_Part_1 Q7_Part_2 Q7_Part_3 Q7_Part_4 Q7_Part_5 Q7_Part_6   Q7_Part_7  \\\n",
       "1        Python         R       SQL         C       NaN       NaN  Javascript   \n",
       "2        Python         R       SQL       NaN       NaN       NaN         NaN   \n",
       "3           NaN       NaN       NaN       NaN       NaN      Java  Javascript   \n",
       "4        Python       NaN       SQL       NaN       NaN       NaN         NaN   \n",
       "5        Python       NaN       NaN       NaN       NaN       NaN         NaN   \n",
       "...         ...       ...       ...       ...       ...       ...         ...   \n",
       "20032       NaN       NaN       NaN       NaN       NaN       NaN         NaN   \n",
       "20033    Python       NaN       NaN       NaN       NaN       NaN         NaN   \n",
       "20034    Python       NaN       NaN       NaN       NaN       NaN         NaN   \n",
       "20035    Python       NaN       SQL         C       NaN      Java  Javascript   \n",
       "20036    Python       NaN       NaN       NaN       NaN       NaN         NaN   \n",
       "\n",
       "      Q7_Part_8 Q7_Part_9 Q7_Part_10 Q7_Part_11 Q7_Part_12 Q7_OTHER  \n",
       "1           NaN       NaN        NaN     MATLAB        NaN    Other  \n",
       "2           NaN       NaN        NaN        NaN        NaN      NaN  \n",
       "3           NaN       NaN       Bash        NaN        NaN      NaN  \n",
       "4           NaN       NaN       Bash        NaN        NaN      NaN  \n",
       "5           NaN       NaN        NaN        NaN        NaN      NaN  \n",
       "...         ...       ...        ...        ...        ...      ...  \n",
       "20032       NaN       NaN        NaN        NaN        NaN      NaN  \n",
       "20033       NaN       NaN        NaN        NaN        NaN      NaN  \n",
       "20034       NaN       NaN        NaN        NaN        NaN      NaN  \n",
       "20035       NaN       NaN        NaN        NaN        NaN      NaN  \n",
       "20036       NaN       NaN        NaN        NaN        NaN      NaN  \n",
       "\n",
       "[20036 rows x 13 columns]"
      ]
     },
     "execution_count": 23,
     "metadata": {},
     "output_type": "execute_result"
    }
   ],
   "source": [
    "answer_Q7 = answer.filter(regex=\"Q7\")\n",
    "answer_Q7"
   ]
  },
  {
   "cell_type": "code",
   "execution_count": 24,
   "metadata": {
    "papermill": {
     "duration": 0.165881,
     "end_time": "2020-12-29T10:02:09.538514",
     "exception": false,
     "start_time": "2020-12-29T10:02:09.372633",
     "status": "completed"
    },
    "tags": []
   },
   "outputs": [
    {
     "data": {
      "text/html": [
       "<div>\n",
       "<style scoped>\n",
       "    .dataframe tbody tr th:only-of-type {\n",
       "        vertical-align: middle;\n",
       "    }\n",
       "\n",
       "    .dataframe tbody tr th {\n",
       "        vertical-align: top;\n",
       "    }\n",
       "\n",
       "    .dataframe thead th {\n",
       "        text-align: right;\n",
       "    }\n",
       "</style>\n",
       "<table border=\"1\" class=\"dataframe\">\n",
       "  <thead>\n",
       "    <tr style=\"text-align: right;\">\n",
       "      <th></th>\n",
       "      <th>Q7_Part_1</th>\n",
       "      <th>Q7_Part_2</th>\n",
       "      <th>Q7_Part_3</th>\n",
       "      <th>Q7_Part_4</th>\n",
       "      <th>Q7_Part_5</th>\n",
       "      <th>Q7_Part_6</th>\n",
       "      <th>Q7_Part_7</th>\n",
       "      <th>Q7_Part_8</th>\n",
       "      <th>Q7_Part_9</th>\n",
       "      <th>Q7_Part_10</th>\n",
       "      <th>Q7_Part_11</th>\n",
       "      <th>Q7_Part_12</th>\n",
       "      <th>Q7_OTHER</th>\n",
       "    </tr>\n",
       "  </thead>\n",
       "  <tbody>\n",
       "    <tr>\n",
       "      <th>count</th>\n",
       "      <td>15530</td>\n",
       "      <td>4277</td>\n",
       "      <td>7535</td>\n",
       "      <td>3315</td>\n",
       "      <td>3827</td>\n",
       "      <td>3367</td>\n",
       "      <td>2995</td>\n",
       "      <td>262</td>\n",
       "      <td>198</td>\n",
       "      <td>1776</td>\n",
       "      <td>2217</td>\n",
       "      <td>0</td>\n",
       "      <td>1945</td>\n",
       "    </tr>\n",
       "    <tr>\n",
       "      <th>unique</th>\n",
       "      <td>1</td>\n",
       "      <td>1</td>\n",
       "      <td>1</td>\n",
       "      <td>1</td>\n",
       "      <td>1</td>\n",
       "      <td>1</td>\n",
       "      <td>1</td>\n",
       "      <td>1</td>\n",
       "      <td>1</td>\n",
       "      <td>1</td>\n",
       "      <td>1</td>\n",
       "      <td>0</td>\n",
       "      <td>1</td>\n",
       "    </tr>\n",
       "    <tr>\n",
       "      <th>top</th>\n",
       "      <td>Python</td>\n",
       "      <td>R</td>\n",
       "      <td>SQL</td>\n",
       "      <td>C</td>\n",
       "      <td>C++</td>\n",
       "      <td>Java</td>\n",
       "      <td>Javascript</td>\n",
       "      <td>Julia</td>\n",
       "      <td>Swift</td>\n",
       "      <td>Bash</td>\n",
       "      <td>MATLAB</td>\n",
       "      <td>NaN</td>\n",
       "      <td>Other</td>\n",
       "    </tr>\n",
       "    <tr>\n",
       "      <th>freq</th>\n",
       "      <td>15530</td>\n",
       "      <td>4277</td>\n",
       "      <td>7535</td>\n",
       "      <td>3315</td>\n",
       "      <td>3827</td>\n",
       "      <td>3367</td>\n",
       "      <td>2995</td>\n",
       "      <td>262</td>\n",
       "      <td>198</td>\n",
       "      <td>1776</td>\n",
       "      <td>2217</td>\n",
       "      <td>NaN</td>\n",
       "      <td>1945</td>\n",
       "    </tr>\n",
       "  </tbody>\n",
       "</table>\n",
       "</div>"
      ],
      "text/plain": [
       "       Q7_Part_1 Q7_Part_2 Q7_Part_3 Q7_Part_4 Q7_Part_5 Q7_Part_6  \\\n",
       "count      15530      4277      7535      3315      3827      3367   \n",
       "unique         1         1         1         1         1         1   \n",
       "top       Python         R       SQL         C       C++      Java   \n",
       "freq       15530      4277      7535      3315      3827      3367   \n",
       "\n",
       "         Q7_Part_7 Q7_Part_8 Q7_Part_9 Q7_Part_10 Q7_Part_11 Q7_Part_12  \\\n",
       "count         2995       262       198       1776       2217          0   \n",
       "unique           1         1         1          1          1          0   \n",
       "top     Javascript     Julia     Swift       Bash     MATLAB        NaN   \n",
       "freq          2995       262       198       1776       2217        NaN   \n",
       "\n",
       "       Q7_OTHER  \n",
       "count      1945  \n",
       "unique        1  \n",
       "top       Other  \n",
       "freq       1945  "
      ]
     },
     "execution_count": 24,
     "metadata": {},
     "output_type": "execute_result"
    }
   ],
   "source": [
    "answer_Q7_desc = answer_Q7.describe()\n",
    "answer_Q7_desc"
   ]
  },
  {
   "cell_type": "code",
   "execution_count": 25,
   "metadata": {
    "papermill": {
     "duration": 0.107974,
     "end_time": "2020-12-29T10:02:09.737323",
     "exception": false,
     "start_time": "2020-12-29T10:02:09.629349",
     "status": "completed"
    },
    "tags": []
   },
   "outputs": [
    {
     "data": {
      "text/html": [
       "<div>\n",
       "<style scoped>\n",
       "    .dataframe tbody tr th:only-of-type {\n",
       "        vertical-align: middle;\n",
       "    }\n",
       "\n",
       "    .dataframe tbody tr th {\n",
       "        vertical-align: top;\n",
       "    }\n",
       "\n",
       "    .dataframe thead th {\n",
       "        text-align: right;\n",
       "    }\n",
       "</style>\n",
       "<table border=\"1\" class=\"dataframe\">\n",
       "  <thead>\n",
       "    <tr style=\"text-align: right;\">\n",
       "      <th></th>\n",
       "      <th>count</th>\n",
       "    </tr>\n",
       "    <tr>\n",
       "      <th>top</th>\n",
       "      <th></th>\n",
       "    </tr>\n",
       "  </thead>\n",
       "  <tbody>\n",
       "    <tr>\n",
       "      <th>Python</th>\n",
       "      <td>15530</td>\n",
       "    </tr>\n",
       "    <tr>\n",
       "      <th>SQL</th>\n",
       "      <td>7535</td>\n",
       "    </tr>\n",
       "    <tr>\n",
       "      <th>R</th>\n",
       "      <td>4277</td>\n",
       "    </tr>\n",
       "    <tr>\n",
       "      <th>C++</th>\n",
       "      <td>3827</td>\n",
       "    </tr>\n",
       "    <tr>\n",
       "      <th>Java</th>\n",
       "      <td>3367</td>\n",
       "    </tr>\n",
       "    <tr>\n",
       "      <th>C</th>\n",
       "      <td>3315</td>\n",
       "    </tr>\n",
       "    <tr>\n",
       "      <th>Javascript</th>\n",
       "      <td>2995</td>\n",
       "    </tr>\n",
       "    <tr>\n",
       "      <th>MATLAB</th>\n",
       "      <td>2217</td>\n",
       "    </tr>\n",
       "    <tr>\n",
       "      <th>Other</th>\n",
       "      <td>1945</td>\n",
       "    </tr>\n",
       "    <tr>\n",
       "      <th>Bash</th>\n",
       "      <td>1776</td>\n",
       "    </tr>\n",
       "    <tr>\n",
       "      <th>Julia</th>\n",
       "      <td>262</td>\n",
       "    </tr>\n",
       "    <tr>\n",
       "      <th>Swift</th>\n",
       "      <td>198</td>\n",
       "    </tr>\n",
       "    <tr>\n",
       "      <th>NaN</th>\n",
       "      <td>0</td>\n",
       "    </tr>\n",
       "  </tbody>\n",
       "</table>\n",
       "</div>"
      ],
      "text/plain": [
       "            count\n",
       "top              \n",
       "Python      15530\n",
       "SQL          7535\n",
       "R            4277\n",
       "C++          3827\n",
       "Java         3367\n",
       "C            3315\n",
       "Javascript   2995\n",
       "MATLAB       2217\n",
       "Other        1945\n",
       "Bash         1776\n",
       "Julia         262\n",
       "Swift         198\n",
       "NaN             0"
      ]
     },
     "execution_count": 25,
     "metadata": {},
     "output_type": "execute_result"
    }
   ],
   "source": [
    "answer_Q7_count = answer_Q7_desc.loc[[\"top\", \"count\"]].T\n",
    "answer_Q7_count = answer_Q7_count.set_index(\"top\")\n",
    "answer_Q7_count = answer_Q7_count.sort_values(\"count\", ascending=False)\n",
    "answer_Q7_count"
   ]
  },
  {
   "cell_type": "markdown",
   "metadata": {
    "papermill": {
     "duration": 0.083135,
     "end_time": "2020-12-29T10:02:09.905699",
     "exception": false,
     "start_time": "2020-12-29T10:02:09.822564",
     "status": "completed"
    },
    "tags": []
   },
   "source": [
    "### 🗂 How to get title in multiple choice question"
   ]
  },
  {
   "cell_type": "code",
   "execution_count": 26,
   "metadata": {
    "papermill": {
     "duration": 0.105673,
     "end_time": "2020-12-29T10:02:10.095672",
     "exception": false,
     "start_time": "2020-12-29T10:02:09.989999",
     "status": "completed"
    },
    "tags": []
   },
   "outputs": [],
   "source": [
    "q7_title = question.filter(regex=\"Q7\")[0].split(\"-\")[0]"
   ]
  },
  {
   "cell_type": "code",
   "execution_count": 27,
   "metadata": {
    "papermill": {
     "duration": 0.30397,
     "end_time": "2020-12-29T10:02:10.483129",
     "exception": false,
     "start_time": "2020-12-29T10:02:10.179159",
     "status": "completed"
    },
    "tags": []
   },
   "outputs": [],
   "source": [
    "# sns.barplot(data=answer_Q7_count, \n",
    "#             y=answer_Q7_count.index, x=\"count\", palette=\"Blues_r\").set_title(q7_title)"
   ]
  },
  {
   "cell_type": "markdown",
   "metadata": {
    "papermill": {
     "duration": 0.085259,
     "end_time": "2020-12-29T10:02:10.655742",
     "exception": false,
     "start_time": "2020-12-29T10:02:10.570483",
     "status": "completed"
    },
    "tags": []
   },
   "source": [
    "### 🏷 define get_question_title function"
   ]
  },
  {
   "cell_type": "code",
   "execution_count": 28,
   "metadata": {
    "papermill": {
     "duration": 0.100017,
     "end_time": "2020-12-29T10:02:10.841791",
     "exception": false,
     "start_time": "2020-12-29T10:02:10.741774",
     "status": "completed"
    },
    "tags": []
   },
   "outputs": [
    {
     "data": {
      "text/plain": [
       "'What programming languages do you use on a regular basis? (Select all that apply) '"
      ]
     },
     "execution_count": 28,
     "metadata": {},
     "output_type": "execute_result"
    }
   ],
   "source": [
    "def get_question_title_by_qno(qno):\n",
    "    if qno in question.index:\n",
    "        return question[qno]\n",
    "    else:\n",
    "        q_no = question.filter(regex=qno)[0].split(\"-\")[0]\n",
    "        return q_no\n",
    "\n",
    "get_question_title_by_qno(\"Q7\")"
   ]
  },
  {
   "cell_type": "markdown",
   "metadata": {
    "papermill": {
     "duration": 0.085921,
     "end_time": "2020-12-29T10:02:11.012716",
     "exception": false,
     "start_time": "2020-12-29T10:02:10.926795",
     "status": "completed"
    },
    "tags": []
   },
   "source": [
    "### 🗂 define get_multiple_choice_answer"
   ]
  },
  {
   "cell_type": "code",
   "execution_count": 29,
   "metadata": {
    "papermill": {
     "duration": 0.139571,
     "end_time": "2020-12-29T10:02:11.237990",
     "exception": false,
     "start_time": "2020-12-29T10:02:11.098419",
     "status": "completed"
    },
    "tags": []
   },
   "outputs": [],
   "source": [
    "def get_multiple_choice_answer_by_qno(qno):\n",
    "    df_answer = answer.filter(regex=qno)\n",
    "    answer_desc = df_answer.describe()\n",
    "    answer_count = answer_desc.loc[[\"top\", \"count\"]].T.set_index(\"top\")\n",
    "    answer_count = answer_count.sort_values(by=\"count\", ascending=False)\n",
    "    return answer_count"
   ]
  },
  {
   "cell_type": "code",
   "execution_count": 30,
   "metadata": {
    "papermill": {
     "duration": 0.159919,
     "end_time": "2020-12-29T10:02:11.504560",
     "exception": false,
     "start_time": "2020-12-29T10:02:11.344641",
     "status": "completed"
    },
    "tags": []
   },
   "outputs": [
    {
     "data": {
      "text/html": [
       "<div>\n",
       "<style scoped>\n",
       "    .dataframe tbody tr th:only-of-type {\n",
       "        vertical-align: middle;\n",
       "    }\n",
       "\n",
       "    .dataframe tbody tr th {\n",
       "        vertical-align: top;\n",
       "    }\n",
       "\n",
       "    .dataframe thead th {\n",
       "        text-align: right;\n",
       "    }\n",
       "</style>\n",
       "<table border=\"1\" class=\"dataframe\">\n",
       "  <thead>\n",
       "    <tr style=\"text-align: right;\">\n",
       "      <th></th>\n",
       "      <th>count</th>\n",
       "    </tr>\n",
       "    <tr>\n",
       "      <th>top</th>\n",
       "      <th></th>\n",
       "    </tr>\n",
       "  </thead>\n",
       "  <tbody>\n",
       "    <tr>\n",
       "      <th>Jupyter (JupyterLab, Jupyter Notebooks, etc)</th>\n",
       "      <td>11211</td>\n",
       "    </tr>\n",
       "    <tr>\n",
       "      <th>Visual Studio Code (VSCode)</th>\n",
       "      <td>5873</td>\n",
       "    </tr>\n",
       "    <tr>\n",
       "      <th>PyCharm</th>\n",
       "      <td>5099</td>\n",
       "    </tr>\n",
       "    <tr>\n",
       "      <th>RStudio</th>\n",
       "      <td>3826</td>\n",
       "    </tr>\n",
       "    <tr>\n",
       "      <th>Spyder</th>\n",
       "      <td>3290</td>\n",
       "    </tr>\n",
       "    <tr>\n",
       "      <th>Notepad++</th>\n",
       "      <td>3132</td>\n",
       "    </tr>\n",
       "    <tr>\n",
       "      <th>Sublime Text</th>\n",
       "      <td>2452</td>\n",
       "    </tr>\n",
       "    <tr>\n",
       "      <th>Visual Studio</th>\n",
       "      <td>2445</td>\n",
       "    </tr>\n",
       "    <tr>\n",
       "      <th>MATLAB</th>\n",
       "      <td>1604</td>\n",
       "    </tr>\n",
       "    <tr>\n",
       "      <th>Vim / Emacs</th>\n",
       "      <td>1502</td>\n",
       "    </tr>\n",
       "    <tr>\n",
       "      <th>Other</th>\n",
       "      <td>1162</td>\n",
       "    </tr>\n",
       "    <tr>\n",
       "      <th>NaN</th>\n",
       "      <td>0</td>\n",
       "    </tr>\n",
       "  </tbody>\n",
       "</table>\n",
       "</div>"
      ],
      "text/plain": [
       "                                               count\n",
       "top                                                 \n",
       "Jupyter (JupyterLab, Jupyter Notebooks, etc)   11211\n",
       "Visual Studio Code (VSCode)                     5873\n",
       " PyCharm                                        5099\n",
       " RStudio                                        3826\n",
       "  Spyder                                        3290\n",
       "  Notepad++                                     3132\n",
       "  Sublime Text                                  2452\n",
       "Visual Studio                                   2445\n",
       " MATLAB                                         1604\n",
       "  Vim / Emacs                                   1502\n",
       "Other                                           1162\n",
       "NaN                                                0"
      ]
     },
     "execution_count": 30,
     "metadata": {},
     "output_type": "execute_result"
    }
   ],
   "source": [
    "get_multiple_choice_answer_by_qno(\"Q9\")"
   ]
  },
  {
   "cell_type": "markdown",
   "metadata": {
    "papermill": {
     "duration": 0.092735,
     "end_time": "2020-12-29T10:02:11.684695",
     "exception": false,
     "start_time": "2020-12-29T10:02:11.591960",
     "status": "completed"
    },
    "tags": []
   },
   "source": [
    "### 📊 define show_multiple_choice_bar_plot_by_qno function"
   ]
  },
  {
   "cell_type": "code",
   "execution_count": 31,
   "metadata": {
    "papermill": {
     "duration": 0.099927,
     "end_time": "2020-12-29T10:02:11.876203",
     "exception": false,
     "start_time": "2020-12-29T10:02:11.776276",
     "status": "completed"
    },
    "tags": []
   },
   "outputs": [],
   "source": [
    "def show_multiple_choice_bar_plot_by_qno(qno):\n",
    "    multiple_choice_answer = get_multiple_choice_answer_by_qno(qno)\n",
    "     \n",
    "    # plt.figure(figsize=(10, 6))\n",
    "    # sns.barplot(data=multiple_choice_answer,\n",
    "    #             y=multiple_choice_answer.index, \n",
    "    #             x=\"count\", \n",
    "    #             palette=\"Blues_r\").set_title(get_question_title_by_qno(qno))"
   ]
  },
  {
   "cell_type": "code",
   "execution_count": 32,
   "metadata": {
    "papermill": {
     "duration": 0.419868,
     "end_time": "2020-12-29T10:02:12.385521",
     "exception": false,
     "start_time": "2020-12-29T10:02:11.965653",
     "status": "completed"
    },
    "tags": []
   },
   "outputs": [],
   "source": [
    "show_multiple_choice_bar_plot_by_qno(\"Q7\")"
   ]
  },
  {
   "cell_type": "code",
   "execution_count": 33,
   "metadata": {
    "papermill": {
     "duration": 0.161518,
     "end_time": "2020-12-29T10:02:12.640483",
     "exception": false,
     "start_time": "2020-12-29T10:02:12.478965",
     "status": "completed"
    },
    "tags": []
   },
   "outputs": [],
   "source": [
    "q7_cols = answer.filter(regex=\"Q7\").describe().loc[\"top\"].tolist()"
   ]
  },
  {
   "cell_type": "code",
   "execution_count": 34,
   "metadata": {
    "papermill": {
     "duration": 0.131067,
     "end_time": "2020-12-29T10:02:12.861990",
     "exception": false,
     "start_time": "2020-12-29T10:02:12.730923",
     "status": "completed"
    },
    "tags": []
   },
   "outputs": [
    {
     "data": {
      "text/html": [
       "<div>\n",
       "<style scoped>\n",
       "    .dataframe tbody tr th:only-of-type {\n",
       "        vertical-align: middle;\n",
       "    }\n",
       "\n",
       "    .dataframe tbody tr th {\n",
       "        vertical-align: top;\n",
       "    }\n",
       "\n",
       "    .dataframe thead th {\n",
       "        text-align: right;\n",
       "    }\n",
       "</style>\n",
       "<table border=\"1\" class=\"dataframe\">\n",
       "  <thead>\n",
       "    <tr style=\"text-align: right;\">\n",
       "      <th></th>\n",
       "      <th>Python</th>\n",
       "      <th>R</th>\n",
       "      <th>SQL</th>\n",
       "      <th>C</th>\n",
       "      <th>C++</th>\n",
       "      <th>Java</th>\n",
       "      <th>Javascript</th>\n",
       "      <th>Julia</th>\n",
       "      <th>Swift</th>\n",
       "      <th>Bash</th>\n",
       "      <th>MATLAB</th>\n",
       "      <th>NaN</th>\n",
       "      <th>Other</th>\n",
       "    </tr>\n",
       "    <tr>\n",
       "      <th>Q2</th>\n",
       "      <th></th>\n",
       "      <th></th>\n",
       "      <th></th>\n",
       "      <th></th>\n",
       "      <th></th>\n",
       "      <th></th>\n",
       "      <th></th>\n",
       "      <th></th>\n",
       "      <th></th>\n",
       "      <th></th>\n",
       "      <th></th>\n",
       "      <th></th>\n",
       "      <th></th>\n",
       "    </tr>\n",
       "  </thead>\n",
       "  <tbody>\n",
       "    <tr>\n",
       "      <th>Man</th>\n",
       "      <td>12530</td>\n",
       "      <td>3299</td>\n",
       "      <td>5940</td>\n",
       "      <td>2552</td>\n",
       "      <td>3063</td>\n",
       "      <td>2641</td>\n",
       "      <td>2487</td>\n",
       "      <td>238</td>\n",
       "      <td>171</td>\n",
       "      <td>1561</td>\n",
       "      <td>1679</td>\n",
       "      <td>0</td>\n",
       "      <td>1634</td>\n",
       "    </tr>\n",
       "    <tr>\n",
       "      <th>Nonbinary</th>\n",
       "      <td>41</td>\n",
       "      <td>14</td>\n",
       "      <td>20</td>\n",
       "      <td>8</td>\n",
       "      <td>10</td>\n",
       "      <td>1</td>\n",
       "      <td>6</td>\n",
       "      <td>1</td>\n",
       "      <td>2</td>\n",
       "      <td>10</td>\n",
       "      <td>7</td>\n",
       "      <td>0</td>\n",
       "      <td>7</td>\n",
       "    </tr>\n",
       "    <tr>\n",
       "      <th>Prefer not to say</th>\n",
       "      <td>182</td>\n",
       "      <td>48</td>\n",
       "      <td>97</td>\n",
       "      <td>36</td>\n",
       "      <td>43</td>\n",
       "      <td>42</td>\n",
       "      <td>41</td>\n",
       "      <td>5</td>\n",
       "      <td>4</td>\n",
       "      <td>31</td>\n",
       "      <td>28</td>\n",
       "      <td>0</td>\n",
       "      <td>31</td>\n",
       "    </tr>\n",
       "    <tr>\n",
       "      <th>Prefer to self-describe</th>\n",
       "      <td>41</td>\n",
       "      <td>8</td>\n",
       "      <td>18</td>\n",
       "      <td>12</td>\n",
       "      <td>13</td>\n",
       "      <td>9</td>\n",
       "      <td>12</td>\n",
       "      <td>2</td>\n",
       "      <td>1</td>\n",
       "      <td>10</td>\n",
       "      <td>6</td>\n",
       "      <td>0</td>\n",
       "      <td>7</td>\n",
       "    </tr>\n",
       "    <tr>\n",
       "      <th>Woman</th>\n",
       "      <td>2736</td>\n",
       "      <td>908</td>\n",
       "      <td>1460</td>\n",
       "      <td>707</td>\n",
       "      <td>698</td>\n",
       "      <td>674</td>\n",
       "      <td>449</td>\n",
       "      <td>16</td>\n",
       "      <td>20</td>\n",
       "      <td>164</td>\n",
       "      <td>497</td>\n",
       "      <td>0</td>\n",
       "      <td>266</td>\n",
       "    </tr>\n",
       "  </tbody>\n",
       "</table>\n",
       "</div>"
      ],
      "text/plain": [
       "                         Python     R   SQL     C   C++  Java  Javascript  \\\n",
       "Q2                                                                          \n",
       "Man                       12530  3299  5940  2552  3063  2641        2487   \n",
       "Nonbinary                    41    14    20     8    10     1           6   \n",
       "Prefer not to say           182    48    97    36    43    42          41   \n",
       "Prefer to self-describe      41     8    18    12    13     9          12   \n",
       "Woman                      2736   908  1460   707   698   674         449   \n",
       "\n",
       "                         Julia  Swift  Bash  MATLAB  NaN  Other  \n",
       "Q2                                                               \n",
       "Man                        238    171  1561    1679    0   1634  \n",
       "Nonbinary                    1      2    10       7    0      7  \n",
       "Prefer not to say            5      4    31      28    0     31  \n",
       "Prefer to self-describe      2      1    10       6    0      7  \n",
       "Woman                       16     20   164     497    0    266  "
      ]
     },
     "execution_count": 34,
     "metadata": {},
     "output_type": "execute_result"
    }
   ],
   "source": [
    "q2q7 = answer.filter(regex=\"Q7|Q2$\")\n",
    "q2q7_count = q2q7.groupby(\"Q2\").count()\n",
    "q2q7_count.columns = q7_cols\n",
    "q2q7_count"
   ]
  },
  {
   "cell_type": "code",
   "execution_count": 35,
   "metadata": {
    "papermill": {
     "duration": 0.339272,
     "end_time": "2020-12-29T10:02:13.291659",
     "exception": false,
     "start_time": "2020-12-29T10:02:12.952387",
     "status": "completed"
    },
    "tags": []
   },
   "outputs": [],
   "source": [
    "g = q2q7_count.loc[[\"Man\", \"Woman\"]].T.sort_values(\"Woman\")"
   ]
  },
  {
   "cell_type": "markdown",
   "metadata": {
    "papermill": {
     "duration": 0.089883,
     "end_time": "2020-12-29T10:02:13.472063",
     "exception": false,
     "start_time": "2020-12-29T10:02:13.382180",
     "status": "completed"
    },
    "tags": []
   },
   "source": [
    "### define 📊 show_plot_by_qno "
   ]
  },
  {
   "cell_type": "code",
   "execution_count": 36,
   "metadata": {
    "papermill": {
     "duration": 0.102767,
     "end_time": "2020-12-29T10:02:13.666365",
     "exception": false,
     "start_time": "2020-12-29T10:02:13.563598",
     "status": "completed"
    },
    "tags": []
   },
   "outputs": [],
   "source": [
    "# show_countplot_by_qno(\"Q7\")\n",
    "# show_multiple_choice_bar_plot_by_qno(\"Q1\")"
   ]
  },
  {
   "cell_type": "code",
   "execution_count": 37,
   "metadata": {
    "papermill": {
     "duration": 0.102789,
     "end_time": "2020-12-29T10:02:13.862516",
     "exception": false,
     "start_time": "2020-12-29T10:02:13.759727",
     "status": "completed"
    },
    "tags": []
   },
   "outputs": [
    {
     "data": {
      "text/plain": [
       "Index(['Time from Start to Finish (seconds)', 'Q1', 'Q2', 'Q3', 'Q4', 'Q5',\n",
       "       'Q6', 'Q7_Part_1', 'Q7_Part_2', 'Q7_Part_3',\n",
       "       ...\n",
       "       'Q35_B_Part_2', 'Q35_B_Part_3', 'Q35_B_Part_4', 'Q35_B_Part_5',\n",
       "       'Q35_B_Part_6', 'Q35_B_Part_7', 'Q35_B_Part_8', 'Q35_B_Part_9',\n",
       "       'Q35_B_Part_10', 'Q35_B_OTHER'],\n",
       "      dtype='object', length=355)"
      ]
     },
     "execution_count": 37,
     "metadata": {},
     "output_type": "execute_result"
    }
   ],
   "source": [
    "question.index"
   ]
  },
  {
   "cell_type": "code",
   "execution_count": 38,
   "metadata": {
    "papermill": {
     "duration": 0.102185,
     "end_time": "2020-12-29T10:02:14.056510",
     "exception": false,
     "start_time": "2020-12-29T10:02:13.954325",
     "status": "completed"
    },
    "tags": []
   },
   "outputs": [],
   "source": [
    "def show_plot_by_qno(qno):\n",
    "    if qno in question.index:\n",
    "        show_countplot_by_qno(qno)\n",
    "    else:\n",
    "        show_multiple_choice_bar_plot_by_qno(qno)"
   ]
  },
  {
   "cell_type": "markdown",
   "metadata": {
    "papermill": {
     "duration": 0.101297,
     "end_time": "2020-12-29T10:02:14.250628",
     "exception": false,
     "start_time": "2020-12-29T10:02:14.149331",
     "status": "completed"
    },
    "tags": []
   },
   "source": [
    "## Q8 What programming language would you recommend an aspiring data scientist to learn first? - Selected Choice"
   ]
  },
  {
   "cell_type": "code",
   "execution_count": 39,
   "metadata": {
    "papermill": {
     "duration": 0.497461,
     "end_time": "2020-12-29T10:02:14.874654",
     "exception": false,
     "start_time": "2020-12-29T10:02:14.377193",
     "status": "completed"
    },
    "tags": []
   },
   "outputs": [],
   "source": [
    "show_plot_by_qno(\"Q8\")"
   ]
  },
  {
   "cell_type": "markdown",
   "metadata": {
    "papermill": {
     "duration": 0.097915,
     "end_time": "2020-12-29T10:02:15.067343",
     "exception": false,
     "start_time": "2020-12-29T10:02:14.969428",
     "status": "completed"
    },
    "tags": []
   },
   "source": [
    "## Q9 Which of the following integrated development environments (IDE's) do you use on a regular basis?  (Select all that apply)"
   ]
  },
  {
   "cell_type": "code",
   "execution_count": 40,
   "metadata": {
    "papermill": {
     "duration": 0.44686,
     "end_time": "2020-12-29T10:02:15.610118",
     "exception": false,
     "start_time": "2020-12-29T10:02:15.163258",
     "status": "completed"
    },
    "tags": []
   },
   "outputs": [],
   "source": [
    "show_plot_by_qno(\"Q9\")"
   ]
  },
  {
   "cell_type": "markdown",
   "metadata": {
    "papermill": {
     "duration": 0.097232,
     "end_time": "2020-12-29T10:02:15.808335",
     "exception": false,
     "start_time": "2020-12-29T10:02:15.711103",
     "status": "completed"
    },
    "tags": []
   },
   "source": [
    "## Q10 Which of the following hosted notebook products do you use on a regular basis?  (Select all that apply)"
   ]
  },
  {
   "cell_type": "code",
   "execution_count": 41,
   "metadata": {
    "papermill": {
     "duration": 0.455879,
     "end_time": "2020-12-29T10:02:16.379163",
     "exception": false,
     "start_time": "2020-12-29T10:02:15.923284",
     "status": "completed"
    },
    "tags": []
   },
   "outputs": [],
   "source": [
    "show_plot_by_qno(\"Q10\")"
   ]
  },
  {
   "cell_type": "markdown",
   "metadata": {
    "papermill": {
     "duration": 0.101713,
     "end_time": "2020-12-29T10:02:16.588170",
     "exception": false,
     "start_time": "2020-12-29T10:02:16.486457",
     "status": "completed"
    },
    "tags": []
   },
   "source": [
    "## Q11 What type of computing platform do you use most often for your data science projects? - Selected Choice"
   ]
  },
  {
   "cell_type": "code",
   "execution_count": 42,
   "metadata": {
    "papermill": {
     "duration": 0.33379,
     "end_time": "2020-12-29T10:02:17.031747",
     "exception": false,
     "start_time": "2020-12-29T10:02:16.697957",
     "status": "completed"
    },
    "tags": []
   },
   "outputs": [],
   "source": [
    "show_plot_by_qno(\"Q11\")"
   ]
  },
  {
   "cell_type": "markdown",
   "metadata": {
    "papermill": {
     "duration": 0.10906,
     "end_time": "2020-12-29T10:02:17.250126",
     "exception": false,
     "start_time": "2020-12-29T10:02:17.141066",
     "status": "completed"
    },
    "tags": []
   },
   "source": [
    "## Q12 Which types of specialized hardware do you use on a regular basis?"
   ]
  },
  {
   "cell_type": "code",
   "execution_count": 43,
   "metadata": {
    "papermill": {
     "duration": 0.318959,
     "end_time": "2020-12-29T10:02:17.671756",
     "exception": false,
     "start_time": "2020-12-29T10:02:17.352797",
     "status": "completed"
    },
    "tags": []
   },
   "outputs": [],
   "source": [
    "show_plot_by_qno(\"Q12\")"
   ]
  },
  {
   "cell_type": "markdown",
   "metadata": {
    "papermill": {
     "duration": 0.10571,
     "end_time": "2020-12-29T10:02:17.880968",
     "exception": false,
     "start_time": "2020-12-29T10:02:17.775258",
     "status": "completed"
    },
    "tags": []
   },
   "source": [
    "## Q13 🧮 Approximately how many times have you used a TPU (tensor processing unit)?"
   ]
  },
  {
   "cell_type": "code",
   "execution_count": 44,
   "metadata": {
    "papermill": {
     "duration": 0.306732,
     "end_time": "2020-12-29T10:02:18.291991",
     "exception": false,
     "start_time": "2020-12-29T10:02:17.985259",
     "status": "completed"
    },
    "tags": []
   },
   "outputs": [],
   "source": [
    "show_plot_by_qno(\"Q13\")"
   ]
  },
  {
   "cell_type": "markdown",
   "metadata": {
    "papermill": {
     "duration": 0.103531,
     "end_time": "2020-12-29T10:02:18.504240",
     "exception": false,
     "start_time": "2020-12-29T10:02:18.400709",
     "status": "completed"
    },
    "tags": []
   },
   "source": [
    "## Q14 🎨 What data visualization libraries or tools do you use on a regular basis? (Select all that apply)"
   ]
  },
  {
   "cell_type": "code",
   "execution_count": 45,
   "metadata": {
    "papermill": {
     "duration": 0.402969,
     "end_time": "2020-12-29T10:02:19.012471",
     "exception": false,
     "start_time": "2020-12-29T10:02:18.609502",
     "status": "completed"
    },
    "tags": []
   },
   "outputs": [],
   "source": [
    "show_plot_by_qno(\"Q14\")"
   ]
  },
  {
   "cell_type": "markdown",
   "metadata": {
    "papermill": {
     "duration": 0.11104,
     "end_time": "2020-12-29T10:02:19.233203",
     "exception": false,
     "start_time": "2020-12-29T10:02:19.122163",
     "status": "completed"
    },
    "tags": []
   },
   "source": [
    "## Q15 For how many years have you used machine learning methods?"
   ]
  },
  {
   "cell_type": "code",
   "execution_count": 46,
   "metadata": {
    "papermill": {
     "duration": 0.33617,
     "end_time": "2020-12-29T10:02:19.678164",
     "exception": false,
     "start_time": "2020-12-29T10:02:19.341994",
     "status": "completed"
    },
    "tags": []
   },
   "outputs": [],
   "source": [
    "show_plot_by_qno(\"Q15\")"
   ]
  },
  {
   "cell_type": "markdown",
   "metadata": {
    "papermill": {
     "duration": 0.112021,
     "end_time": "2020-12-29T10:02:19.901232",
     "exception": false,
     "start_time": "2020-12-29T10:02:19.789211",
     "status": "completed"
    },
    "tags": []
   },
   "source": [
    "## Q16 Which of the following machine learning frameworks do you use on a regular basis? (Select all that apply)"
   ]
  },
  {
   "cell_type": "code",
   "execution_count": 47,
   "metadata": {
    "papermill": {
     "duration": 0.445082,
     "end_time": "2020-12-29T10:02:20.457680",
     "exception": false,
     "start_time": "2020-12-29T10:02:20.012598",
     "status": "completed"
    },
    "tags": []
   },
   "outputs": [],
   "source": [
    "show_plot_by_qno(\"Q16\")"
   ]
  },
  {
   "cell_type": "markdown",
   "metadata": {
    "papermill": {
     "duration": 0.111751,
     "end_time": "2020-12-29T10:02:20.682268",
     "exception": false,
     "start_time": "2020-12-29T10:02:20.570517",
     "status": "completed"
    },
    "tags": []
   },
   "source": [
    "## Q17 Which of the following ML algorithms do you use on a regular basis? (Select all that apply):"
   ]
  },
  {
   "cell_type": "code",
   "execution_count": 48,
   "metadata": {
    "papermill": {
     "duration": 0.461074,
     "end_time": "2020-12-29T10:02:21.256244",
     "exception": false,
     "start_time": "2020-12-29T10:02:20.795170",
     "status": "completed"
    },
    "tags": []
   },
   "outputs": [],
   "source": [
    "show_plot_by_qno(\"Q17\")"
   ]
  },
  {
   "cell_type": "markdown",
   "metadata": {
    "papermill": {
     "duration": 0.11449,
     "end_time": "2020-12-29T10:02:21.495777",
     "exception": false,
     "start_time": "2020-12-29T10:02:21.381287",
     "status": "completed"
    },
    "tags": []
   },
   "source": [
    "## Q18 Which categories of computer vision methods do you use on a regular basis?  (Select all that apply)"
   ]
  },
  {
   "cell_type": "code",
   "execution_count": 49,
   "metadata": {
    "papermill": {
     "duration": 0.438045,
     "end_time": "2020-12-29T10:02:22.049251",
     "exception": false,
     "start_time": "2020-12-29T10:02:21.611206",
     "status": "completed"
    },
    "tags": []
   },
   "outputs": [],
   "source": [
    "show_plot_by_qno(\"Q18\")"
   ]
  },
  {
   "cell_type": "markdown",
   "metadata": {
    "papermill": {
     "duration": 0.119686,
     "end_time": "2020-12-29T10:02:22.289548",
     "exception": false,
     "start_time": "2020-12-29T10:02:22.169862",
     "status": "completed"
    },
    "tags": []
   },
   "source": [
    "## Q19 📚 Which of the following natural language processing (NLP) methods do you use on a regular basis?  (Select all that apply)"
   ]
  },
  {
   "cell_type": "code",
   "execution_count": 50,
   "metadata": {
    "papermill": {
     "duration": 0.411669,
     "end_time": "2020-12-29T10:02:22.820942",
     "exception": false,
     "start_time": "2020-12-29T10:02:22.409273",
     "status": "completed"
    },
    "tags": []
   },
   "outputs": [],
   "source": [
    "show_plot_by_qno(\"Q19\")"
   ]
  },
  {
   "cell_type": "markdown",
   "metadata": {
    "papermill": {
     "duration": 0.123199,
     "end_time": "2020-12-29T10:02:23.072041",
     "exception": false,
     "start_time": "2020-12-29T10:02:22.948842",
     "status": "completed"
    },
    "tags": []
   },
   "source": [
    "## Q20 🏢 What is the size of the company where you are employed?"
   ]
  },
  {
   "cell_type": "code",
   "execution_count": 51,
   "metadata": {
    "papermill": {
     "duration": 0.335977,
     "end_time": "2020-12-29T10:02:23.529916",
     "exception": false,
     "start_time": "2020-12-29T10:02:23.193939",
     "status": "completed"
    },
    "tags": []
   },
   "outputs": [],
   "source": [
    "show_plot_by_qno(\"Q20\")"
   ]
  },
  {
   "cell_type": "markdown",
   "metadata": {
    "papermill": {
     "duration": 0.187621,
     "end_time": "2020-12-29T10:02:23.841794",
     "exception": false,
     "start_time": "2020-12-29T10:02:23.654173",
     "status": "completed"
    },
    "tags": []
   },
   "source": [
    "## Q21 Approximately how many individuals are responsible for data science workloads at your place of business?"
   ]
  },
  {
   "cell_type": "code",
   "execution_count": 52,
   "metadata": {
    "papermill": {
     "duration": 0.330947,
     "end_time": "2020-12-29T10:02:24.300816",
     "exception": false,
     "start_time": "2020-12-29T10:02:23.969869",
     "status": "completed"
    },
    "tags": []
   },
   "outputs": [],
   "source": [
    "show_plot_by_qno(\"Q21\")"
   ]
  },
  {
   "cell_type": "markdown",
   "metadata": {
    "papermill": {
     "duration": 0.125981,
     "end_time": "2020-12-29T10:02:24.554471",
     "exception": false,
     "start_time": "2020-12-29T10:02:24.428490",
     "status": "completed"
    },
    "tags": []
   },
   "source": [
    "## Q22 Does your current employer incorporate machine learning methods into their business?"
   ]
  },
  {
   "cell_type": "code",
   "execution_count": 53,
   "metadata": {
    "papermill": {
     "duration": 0.382861,
     "end_time": "2020-12-29T10:02:25.065184",
     "exception": false,
     "start_time": "2020-12-29T10:02:24.682323",
     "status": "completed"
    },
    "tags": []
   },
   "outputs": [],
   "source": [
    "show_plot_by_qno(\"Q22\")"
   ]
  },
  {
   "cell_type": "markdown",
   "metadata": {
    "papermill": {
     "duration": 0.144892,
     "end_time": "2020-12-29T10:02:25.340105",
     "exception": false,
     "start_time": "2020-12-29T10:02:25.195213",
     "status": "completed"
    },
    "tags": []
   },
   "source": [
    "## Q23 Select any activities that make up an important part of your role at work: (Select all that apply) "
   ]
  },
  {
   "cell_type": "code",
   "execution_count": 54,
   "metadata": {
    "papermill": {
     "duration": 0.669978,
     "end_time": "2020-12-29T10:02:26.166399",
     "exception": false,
     "start_time": "2020-12-29T10:02:25.496421",
     "status": "completed"
    },
    "tags": []
   },
   "outputs": [],
   "source": [
    "show_plot_by_qno(\"Q23\")"
   ]
  },
  {
   "cell_type": "markdown",
   "metadata": {
    "papermill": {
     "duration": 0.132319,
     "end_time": "2020-12-29T10:02:26.434005",
     "exception": false,
     "start_time": "2020-12-29T10:02:26.301686",
     "status": "completed"
    },
    "tags": []
   },
   "source": [
    "## Q24 What is your current yearly compensation (approximate $USD)"
   ]
  },
  {
   "cell_type": "code",
   "execution_count": 55,
   "metadata": {
    "papermill": {
     "duration": 0.445458,
     "end_time": "2020-12-29T10:02:27.011066",
     "exception": false,
     "start_time": "2020-12-29T10:02:26.565608",
     "status": "completed"
    },
    "tags": []
   },
   "outputs": [],
   "source": [
    "show_plot_by_qno(\"Q24\")"
   ]
  },
  {
   "cell_type": "code",
   "execution_count": 56,
   "metadata": {
    "papermill": {
     "duration": 0.156884,
     "end_time": "2020-12-29T10:02:27.305393",
     "exception": false,
     "start_time": "2020-12-29T10:02:27.148509",
     "status": "completed"
    },
    "tags": []
   },
   "outputs": [
    {
     "data": {
      "text/html": [
       "<div>\n",
       "<style scoped>\n",
       "    .dataframe tbody tr th:only-of-type {\n",
       "        vertical-align: middle;\n",
       "    }\n",
       "\n",
       "    .dataframe tbody tr th {\n",
       "        vertical-align: top;\n",
       "    }\n",
       "\n",
       "    .dataframe thead th {\n",
       "        text-align: right;\n",
       "    }\n",
       "</style>\n",
       "<table border=\"1\" class=\"dataframe\">\n",
       "  <thead>\n",
       "    <tr style=\"text-align: right;\">\n",
       "      <th></th>\n",
       "      <th>range</th>\n",
       "      <th>count</th>\n",
       "    </tr>\n",
       "  </thead>\n",
       "  <tbody>\n",
       "    <tr>\n",
       "      <th>0</th>\n",
       "      <td>$0-999</td>\n",
       "      <td>2128</td>\n",
       "    </tr>\n",
       "    <tr>\n",
       "      <th>1</th>\n",
       "      <td>10,000-14,999</td>\n",
       "      <td>665</td>\n",
       "    </tr>\n",
       "    <tr>\n",
       "      <th>2</th>\n",
       "      <td>1,000-1,999</td>\n",
       "      <td>581</td>\n",
       "    </tr>\n",
       "    <tr>\n",
       "      <th>3</th>\n",
       "      <td>100,000-124,999</td>\n",
       "      <td>573</td>\n",
       "    </tr>\n",
       "    <tr>\n",
       "      <th>4</th>\n",
       "      <td>40,000-49,999</td>\n",
       "      <td>552</td>\n",
       "    </tr>\n",
       "    <tr>\n",
       "      <th>5</th>\n",
       "      <td>30,000-39,999</td>\n",
       "      <td>540</td>\n",
       "    </tr>\n",
       "    <tr>\n",
       "      <th>6</th>\n",
       "      <td>50,000-59,999</td>\n",
       "      <td>510</td>\n",
       "    </tr>\n",
       "    <tr>\n",
       "      <th>7</th>\n",
       "      <td>5,000-7,499</td>\n",
       "      <td>488</td>\n",
       "    </tr>\n",
       "    <tr>\n",
       "      <th>8</th>\n",
       "      <td>15,000-19,999</td>\n",
       "      <td>449</td>\n",
       "    </tr>\n",
       "    <tr>\n",
       "      <th>9</th>\n",
       "      <td>60,000-69,999</td>\n",
       "      <td>408</td>\n",
       "    </tr>\n",
       "    <tr>\n",
       "      <th>10</th>\n",
       "      <td>20,000-24,999</td>\n",
       "      <td>404</td>\n",
       "    </tr>\n",
       "    <tr>\n",
       "      <th>11</th>\n",
       "      <td>70,000-79,999</td>\n",
       "      <td>394</td>\n",
       "    </tr>\n",
       "    <tr>\n",
       "      <th>12</th>\n",
       "      <td>7,500-9,999</td>\n",
       "      <td>371</td>\n",
       "    </tr>\n",
       "    <tr>\n",
       "      <th>13</th>\n",
       "      <td>150,000-199,999</td>\n",
       "      <td>347</td>\n",
       "    </tr>\n",
       "    <tr>\n",
       "      <th>14</th>\n",
       "      <td>2,000-2,999</td>\n",
       "      <td>330</td>\n",
       "    </tr>\n",
       "    <tr>\n",
       "      <th>15</th>\n",
       "      <td>125,000-149,999</td>\n",
       "      <td>315</td>\n",
       "    </tr>\n",
       "    <tr>\n",
       "      <th>16</th>\n",
       "      <td>25,000-29,999</td>\n",
       "      <td>310</td>\n",
       "    </tr>\n",
       "    <tr>\n",
       "      <th>17</th>\n",
       "      <td>90,000-99,999</td>\n",
       "      <td>280</td>\n",
       "    </tr>\n",
       "    <tr>\n",
       "      <th>18</th>\n",
       "      <td>4,000-4,999</td>\n",
       "      <td>279</td>\n",
       "    </tr>\n",
       "    <tr>\n",
       "      <th>19</th>\n",
       "      <td>80,000-89,999</td>\n",
       "      <td>273</td>\n",
       "    </tr>\n",
       "    <tr>\n",
       "      <th>20</th>\n",
       "      <td>3,000-3,999</td>\n",
       "      <td>264</td>\n",
       "    </tr>\n",
       "    <tr>\n",
       "      <th>21</th>\n",
       "      <td>200,000-249,999</td>\n",
       "      <td>115</td>\n",
       "    </tr>\n",
       "    <tr>\n",
       "      <th>22</th>\n",
       "      <td>300,000-500,000</td>\n",
       "      <td>55</td>\n",
       "    </tr>\n",
       "    <tr>\n",
       "      <th>23</th>\n",
       "      <td>&gt; $500,000</td>\n",
       "      <td>50</td>\n",
       "    </tr>\n",
       "    <tr>\n",
       "      <th>24</th>\n",
       "      <td>250,000-299,999</td>\n",
       "      <td>48</td>\n",
       "    </tr>\n",
       "  </tbody>\n",
       "</table>\n",
       "</div>"
      ],
      "text/plain": [
       "              range  count\n",
       "0            $0-999   2128\n",
       "1     10,000-14,999    665\n",
       "2       1,000-1,999    581\n",
       "3   100,000-124,999    573\n",
       "4     40,000-49,999    552\n",
       "5     30,000-39,999    540\n",
       "6     50,000-59,999    510\n",
       "7       5,000-7,499    488\n",
       "8     15,000-19,999    449\n",
       "9     60,000-69,999    408\n",
       "10    20,000-24,999    404\n",
       "11    70,000-79,999    394\n",
       "12      7,500-9,999    371\n",
       "13  150,000-199,999    347\n",
       "14      2,000-2,999    330\n",
       "15  125,000-149,999    315\n",
       "16    25,000-29,999    310\n",
       "17    90,000-99,999    280\n",
       "18      4,000-4,999    279\n",
       "19    80,000-89,999    273\n",
       "20      3,000-3,999    264\n",
       "21  200,000-249,999    115\n",
       "22  300,000-500,000     55\n",
       "23       > $500,000     50\n",
       "24  250,000-299,999     48"
      ]
     },
     "execution_count": 56,
     "metadata": {},
     "output_type": "execute_result"
    }
   ],
   "source": [
    "q24_count = answer[\"Q24\"].value_counts().reset_index()\n",
    "q24_count.columns = [\"range\", \"count\"]\n",
    "q24_count"
   ]
  },
  {
   "cell_type": "code",
   "execution_count": 57,
   "metadata": {
    "papermill": {
     "duration": 0.168131,
     "end_time": "2020-12-29T10:02:27.613487",
     "exception": false,
     "start_time": "2020-12-29T10:02:27.445356",
     "status": "completed"
    },
    "tags": []
   },
   "outputs": [
    {
     "data": {
      "text/html": [
       "<div>\n",
       "<style scoped>\n",
       "    .dataframe tbody tr th:only-of-type {\n",
       "        vertical-align: middle;\n",
       "    }\n",
       "\n",
       "    .dataframe tbody tr th {\n",
       "        vertical-align: top;\n",
       "    }\n",
       "\n",
       "    .dataframe thead th {\n",
       "        text-align: right;\n",
       "    }\n",
       "</style>\n",
       "<table border=\"1\" class=\"dataframe\">\n",
       "  <thead>\n",
       "    <tr style=\"text-align: right;\">\n",
       "      <th></th>\n",
       "      <th>range</th>\n",
       "      <th>count</th>\n",
       "      <th>min</th>\n",
       "      <th>max</th>\n",
       "    </tr>\n",
       "  </thead>\n",
       "  <tbody>\n",
       "    <tr>\n",
       "      <th>0</th>\n",
       "      <td>$0-999</td>\n",
       "      <td>2128</td>\n",
       "      <td>0</td>\n",
       "      <td>999</td>\n",
       "    </tr>\n",
       "    <tr>\n",
       "      <th>2</th>\n",
       "      <td>1,000-1,999</td>\n",
       "      <td>581</td>\n",
       "      <td>1000</td>\n",
       "      <td>1,999</td>\n",
       "    </tr>\n",
       "    <tr>\n",
       "      <th>14</th>\n",
       "      <td>2,000-2,999</td>\n",
       "      <td>330</td>\n",
       "      <td>2000</td>\n",
       "      <td>2,999</td>\n",
       "    </tr>\n",
       "    <tr>\n",
       "      <th>20</th>\n",
       "      <td>3,000-3,999</td>\n",
       "      <td>264</td>\n",
       "      <td>3000</td>\n",
       "      <td>3,999</td>\n",
       "    </tr>\n",
       "    <tr>\n",
       "      <th>18</th>\n",
       "      <td>4,000-4,999</td>\n",
       "      <td>279</td>\n",
       "      <td>4000</td>\n",
       "      <td>4,999</td>\n",
       "    </tr>\n",
       "    <tr>\n",
       "      <th>7</th>\n",
       "      <td>5,000-7,499</td>\n",
       "      <td>488</td>\n",
       "      <td>5000</td>\n",
       "      <td>7,499</td>\n",
       "    </tr>\n",
       "    <tr>\n",
       "      <th>12</th>\n",
       "      <td>7,500-9,999</td>\n",
       "      <td>371</td>\n",
       "      <td>7500</td>\n",
       "      <td>9,999</td>\n",
       "    </tr>\n",
       "    <tr>\n",
       "      <th>1</th>\n",
       "      <td>10,000-14,999</td>\n",
       "      <td>665</td>\n",
       "      <td>10000</td>\n",
       "      <td>14,999</td>\n",
       "    </tr>\n",
       "    <tr>\n",
       "      <th>8</th>\n",
       "      <td>15,000-19,999</td>\n",
       "      <td>449</td>\n",
       "      <td>15000</td>\n",
       "      <td>19,999</td>\n",
       "    </tr>\n",
       "    <tr>\n",
       "      <th>10</th>\n",
       "      <td>20,000-24,999</td>\n",
       "      <td>404</td>\n",
       "      <td>20000</td>\n",
       "      <td>24,999</td>\n",
       "    </tr>\n",
       "    <tr>\n",
       "      <th>16</th>\n",
       "      <td>25,000-29,999</td>\n",
       "      <td>310</td>\n",
       "      <td>25000</td>\n",
       "      <td>29,999</td>\n",
       "    </tr>\n",
       "    <tr>\n",
       "      <th>5</th>\n",
       "      <td>30,000-39,999</td>\n",
       "      <td>540</td>\n",
       "      <td>30000</td>\n",
       "      <td>39,999</td>\n",
       "    </tr>\n",
       "    <tr>\n",
       "      <th>4</th>\n",
       "      <td>40,000-49,999</td>\n",
       "      <td>552</td>\n",
       "      <td>40000</td>\n",
       "      <td>49,999</td>\n",
       "    </tr>\n",
       "    <tr>\n",
       "      <th>6</th>\n",
       "      <td>50,000-59,999</td>\n",
       "      <td>510</td>\n",
       "      <td>50000</td>\n",
       "      <td>59,999</td>\n",
       "    </tr>\n",
       "    <tr>\n",
       "      <th>9</th>\n",
       "      <td>60,000-69,999</td>\n",
       "      <td>408</td>\n",
       "      <td>60000</td>\n",
       "      <td>69,999</td>\n",
       "    </tr>\n",
       "    <tr>\n",
       "      <th>11</th>\n",
       "      <td>70,000-79,999</td>\n",
       "      <td>394</td>\n",
       "      <td>70000</td>\n",
       "      <td>79,999</td>\n",
       "    </tr>\n",
       "    <tr>\n",
       "      <th>19</th>\n",
       "      <td>80,000-89,999</td>\n",
       "      <td>273</td>\n",
       "      <td>80000</td>\n",
       "      <td>89,999</td>\n",
       "    </tr>\n",
       "    <tr>\n",
       "      <th>17</th>\n",
       "      <td>90,000-99,999</td>\n",
       "      <td>280</td>\n",
       "      <td>90000</td>\n",
       "      <td>99,999</td>\n",
       "    </tr>\n",
       "    <tr>\n",
       "      <th>3</th>\n",
       "      <td>100,000-124,999</td>\n",
       "      <td>573</td>\n",
       "      <td>100000</td>\n",
       "      <td>124,999</td>\n",
       "    </tr>\n",
       "    <tr>\n",
       "      <th>15</th>\n",
       "      <td>125,000-149,999</td>\n",
       "      <td>315</td>\n",
       "      <td>125000</td>\n",
       "      <td>149,999</td>\n",
       "    </tr>\n",
       "    <tr>\n",
       "      <th>13</th>\n",
       "      <td>150,000-199,999</td>\n",
       "      <td>347</td>\n",
       "      <td>150000</td>\n",
       "      <td>199,999</td>\n",
       "    </tr>\n",
       "    <tr>\n",
       "      <th>21</th>\n",
       "      <td>200,000-249,999</td>\n",
       "      <td>115</td>\n",
       "      <td>200000</td>\n",
       "      <td>249,999</td>\n",
       "    </tr>\n",
       "    <tr>\n",
       "      <th>24</th>\n",
       "      <td>250,000-299,999</td>\n",
       "      <td>48</td>\n",
       "      <td>250000</td>\n",
       "      <td>299,999</td>\n",
       "    </tr>\n",
       "    <tr>\n",
       "      <th>22</th>\n",
       "      <td>300,000-500,000</td>\n",
       "      <td>55</td>\n",
       "      <td>300000</td>\n",
       "      <td>500,000</td>\n",
       "    </tr>\n",
       "    <tr>\n",
       "      <th>23</th>\n",
       "      <td>&gt; $500,000</td>\n",
       "      <td>50</td>\n",
       "      <td>500000</td>\n",
       "      <td>None</td>\n",
       "    </tr>\n",
       "  </tbody>\n",
       "</table>\n",
       "</div>"
      ],
      "text/plain": [
       "              range  count     min      max\n",
       "0            $0-999   2128       0      999\n",
       "2       1,000-1,999    581    1000    1,999\n",
       "14      2,000-2,999    330    2000    2,999\n",
       "20      3,000-3,999    264    3000    3,999\n",
       "18      4,000-4,999    279    4000    4,999\n",
       "7       5,000-7,499    488    5000    7,499\n",
       "12      7,500-9,999    371    7500    9,999\n",
       "1     10,000-14,999    665   10000   14,999\n",
       "8     15,000-19,999    449   15000   19,999\n",
       "10    20,000-24,999    404   20000   24,999\n",
       "16    25,000-29,999    310   25000   29,999\n",
       "5     30,000-39,999    540   30000   39,999\n",
       "4     40,000-49,999    552   40000   49,999\n",
       "6     50,000-59,999    510   50000   59,999\n",
       "9     60,000-69,999    408   60000   69,999\n",
       "11    70,000-79,999    394   70000   79,999\n",
       "19    80,000-89,999    273   80000   89,999\n",
       "17    90,000-99,999    280   90000   99,999\n",
       "3   100,000-124,999    573  100000  124,999\n",
       "15  125,000-149,999    315  125000  149,999\n",
       "13  150,000-199,999    347  150000  199,999\n",
       "21  200,000-249,999    115  200000  249,999\n",
       "24  250,000-299,999     48  250000  299,999\n",
       "22  300,000-500,000     55  300000  500,000\n",
       "23       > $500,000     50  500000     None"
      ]
     },
     "execution_count": 57,
     "metadata": {},
     "output_type": "execute_result"
    }
   ],
   "source": [
    "q24_count[\"min\"] = q24_count[\"range\"].str.split(\"-\", expand=True)[0]\n",
    "q24_count[\"max\"] = q24_count[\"range\"].str.split(\"-\", expand=True)[1]\n",
    "q24_count[\"min\"] = q24_count[\"min\"].str.replace(\",\", \"\")\n",
    "q24_count[\"min\"] = q24_count[\"min\"].str.replace(\"|\", \"\")\n",
    "q24_count[\"min\"] = q24_count[\"min\"].str.replace(\"\\\\\", \"\")\n",
    "q24_count[\"min\"] = q24_count[\"min\"].str.replace(\"$\", \"\")\n",
    "q24_count[\"min\"] = q24_count[\"min\"].str.replace(\">\", \"\")\n",
    "q24_count[\"min\"] = q24_count[\"min\"].astype(int)\n",
    "q24_count = q24_count.sort_values(\"min\")\n",
    "q24_count"
   ]
  },
  {
   "cell_type": "code",
   "execution_count": 58,
   "metadata": {
    "papermill": {
     "duration": 0.485404,
     "end_time": "2020-12-29T10:02:28.241145",
     "exception": false,
     "start_time": "2020-12-29T10:02:27.755741",
     "status": "completed"
    },
    "tags": []
   },
   "outputs": [],
   "source": [
    "# plt.figure(figsize=(10, 6))\n",
    "# g = sns.barplot(data=q24_count, \n",
    "#                 y=\"range\", x=\"count\", \n",
    "#                 palette=\"Blues\").set_title(get_question_title_by_qno(\"Q24\"))"
   ]
  },
  {
   "cell_type": "code",
   "execution_count": 59,
   "metadata": {
    "papermill": {
     "duration": 0.151467,
     "end_time": "2020-12-29T10:02:28.535104",
     "exception": false,
     "start_time": "2020-12-29T10:02:28.383637",
     "status": "completed"
    },
    "tags": []
   },
   "outputs": [],
   "source": [
    "q24_cols = q24_count.range.tolist()"
   ]
  },
  {
   "cell_type": "code",
   "execution_count": 60,
   "metadata": {
    "papermill": {
     "duration": 0.46175,
     "end_time": "2020-12-29T10:02:29.142780",
     "exception": false,
     "start_time": "2020-12-29T10:02:28.681030",
     "status": "completed"
    },
    "tags": []
   },
   "outputs": [],
   "source": [
    "q3_usa = answer[answer[\"Q3\"].isin([\"United States of America\"])]\n",
    "# plt.figure(figsize=(10, 6))\n",
    "# g= sns.countplot(data=q3_usa, \n",
    "#               y=\"Q24\", \n",
    "#               order=q24_cols, \n",
    "#               palette=\"Blues\").set_title(\"USA yearly compensation\")"
   ]
  },
  {
   "cell_type": "code",
   "execution_count": 61,
   "metadata": {
    "papermill": {
     "duration": 0.469763,
     "end_time": "2020-12-29T10:02:29.759315",
     "exception": false,
     "start_time": "2020-12-29T10:02:29.289552",
     "status": "completed"
    },
    "tags": []
   },
   "outputs": [],
   "source": [
    "q3_korea = answer[answer[\"Q3\"].isin([\"South Korea\"])]\n",
    "# plt.figure(figsize=(10, 6))\n",
    "# g = sns.countplot(data=q3_korea, \n",
    "#                   y=\"Q24\", \n",
    "#                   order=q24_cols, \n",
    "#                   palette=\"Blues\").set_title(\"South Korea yearly compensation\")"
   ]
  },
  {
   "cell_type": "markdown",
   "metadata": {
    "papermill": {
     "duration": 0.14888,
     "end_time": "2020-12-29T10:02:30.061350",
     "exception": false,
     "start_time": "2020-12-29T10:02:29.912470",
     "status": "completed"
    },
    "tags": []
   },
   "source": [
    "## Q25 Approximately how much money have you (or your team) spent on machine learning and/or cloud computing services at home (or at work) in the past 5 years (approximate $USD)?"
   ]
  },
  {
   "cell_type": "code",
   "execution_count": 62,
   "metadata": {
    "papermill": {
     "duration": 0.615194,
     "end_time": "2020-12-29T10:02:30.828318",
     "exception": false,
     "start_time": "2020-12-29T10:02:30.213124",
     "status": "completed"
    },
    "tags": []
   },
   "outputs": [],
   "source": [
    "show_plot_by_qno(\"Q25\")"
   ]
  },
  {
   "cell_type": "markdown",
   "metadata": {
    "papermill": {
     "duration": 0.152695,
     "end_time": "2020-12-29T10:02:31.133812",
     "exception": false,
     "start_time": "2020-12-29T10:02:30.981117",
     "status": "completed"
    },
    "tags": []
   },
   "source": [
    "## Q26 cloud computing platforms\n",
    "### Q26_A Which of the following cloud computing platforms do you use on a regular basis? (Select all that apply)"
   ]
  },
  {
   "cell_type": "code",
   "execution_count": 63,
   "metadata": {
    "papermill": {
     "duration": 0.464296,
     "end_time": "2020-12-29T10:02:31.755014",
     "exception": false,
     "start_time": "2020-12-29T10:02:31.290718",
     "status": "completed"
    },
    "tags": []
   },
   "outputs": [],
   "source": [
    "show_plot_by_qno(\"Q26_A\")"
   ]
  },
  {
   "cell_type": "markdown",
   "metadata": {
    "papermill": {
     "duration": 0.153948,
     "end_time": "2020-12-29T10:02:32.063740",
     "exception": false,
     "start_time": "2020-12-29T10:02:31.909792",
     "status": "completed"
    },
    "tags": []
   },
   "source": [
    "### Q26_B Which of the following cloud computing platforms do you hope to become more familiar with in the next 2 years?"
   ]
  },
  {
   "cell_type": "code",
   "execution_count": 64,
   "metadata": {
    "papermill": {
     "duration": 0.462942,
     "end_time": "2020-12-29T10:02:32.684297",
     "exception": false,
     "start_time": "2020-12-29T10:02:32.221355",
     "status": "completed"
    },
    "tags": []
   },
   "outputs": [],
   "source": [
    "show_plot_by_qno(\"Q26_B\")"
   ]
  },
  {
   "cell_type": "markdown",
   "metadata": {
    "papermill": {
     "duration": 0.157282,
     "end_time": "2020-12-29T10:02:32.999518",
     "exception": false,
     "start_time": "2020-12-29T10:02:32.842236",
     "status": "completed"
    },
    "tags": []
   },
   "source": [
    "## Q27 cloud computing products\n",
    "\n",
    "### Q27_A Do you use any of the following cloud computing products on a regular basis? (Select all that apply)"
   ]
  },
  {
   "cell_type": "code",
   "execution_count": 65,
   "metadata": {
    "papermill": {
     "duration": 0.477946,
     "end_time": "2020-12-29T10:02:33.637954",
     "exception": false,
     "start_time": "2020-12-29T10:02:33.160008",
     "status": "completed"
    },
    "tags": []
   },
   "outputs": [],
   "source": [
    "show_plot_by_qno(\"Q27_A\")"
   ]
  },
  {
   "cell_type": "markdown",
   "metadata": {
    "papermill": {
     "duration": 0.162191,
     "end_time": "2020-12-29T10:02:33.962227",
     "exception": false,
     "start_time": "2020-12-29T10:02:33.800036",
     "status": "completed"
    },
    "tags": []
   },
   "source": [
    "### Q27_B In the next 2 years, do you hope to become more familiar with any of these specific cloud computing products? (Select all that apply)"
   ]
  },
  {
   "cell_type": "code",
   "execution_count": 66,
   "metadata": {
    "papermill": {
     "duration": 0.661284,
     "end_time": "2020-12-29T10:02:34.786008",
     "exception": false,
     "start_time": "2020-12-29T10:02:34.124724",
     "status": "completed"
    },
    "tags": []
   },
   "outputs": [],
   "source": [
    "show_plot_by_qno(\"Q27_B\")"
   ]
  },
  {
   "cell_type": "markdown",
   "metadata": {
    "papermill": {
     "duration": 0.180129,
     "end_time": "2020-12-29T10:02:35.133854",
     "exception": false,
     "start_time": "2020-12-29T10:02:34.953725",
     "status": "completed"
    },
    "tags": []
   },
   "source": [
    "## Q28 machine learning products \n",
    "### Q28_A Do you use any of the following machine learning products on a regular basis? (Select all that apply)"
   ]
  },
  {
   "cell_type": "code",
   "execution_count": 67,
   "metadata": {
    "papermill": {
     "duration": 0.47619,
     "end_time": "2020-12-29T10:02:35.777732",
     "exception": false,
     "start_time": "2020-12-29T10:02:35.301542",
     "status": "completed"
    },
    "tags": []
   },
   "outputs": [],
   "source": [
    "show_plot_by_qno(\"Q28_A\")"
   ]
  },
  {
   "cell_type": "markdown",
   "metadata": {
    "papermill": {
     "duration": 0.166139,
     "end_time": "2020-12-29T10:02:36.110170",
     "exception": false,
     "start_time": "2020-12-29T10:02:35.944031",
     "status": "completed"
    },
    "tags": []
   },
   "source": [
    "### Q28_B In the next 2 years, do you hope to become more familiar with any of these specific machine learning products? (Select all that apply) "
   ]
  },
  {
   "cell_type": "code",
   "execution_count": 68,
   "metadata": {
    "papermill": {
     "duration": 0.54327,
     "end_time": "2020-12-29T10:02:36.824156",
     "exception": false,
     "start_time": "2020-12-29T10:02:36.280886",
     "status": "completed"
    },
    "tags": []
   },
   "outputs": [],
   "source": [
    "show_plot_by_qno(\"Q28_B\")"
   ]
  },
  {
   "cell_type": "markdown",
   "metadata": {
    "papermill": {
     "duration": 0.17183,
     "end_time": "2020-12-29T10:02:37.170954",
     "exception": false,
     "start_time": "2020-12-29T10:02:36.999124",
     "status": "completed"
    },
    "tags": []
   },
   "source": [
    "## Q29  big data products\n",
    "\n",
    "### Q29_A Which of the following big data products (relational databases, data warehouses, data lakes, or similar) do you use on a regular basis? (Select all that apply) "
   ]
  },
  {
   "cell_type": "code",
   "execution_count": 69,
   "metadata": {
    "papermill": {
     "duration": 0.566773,
     "end_time": "2020-12-29T10:02:37.919647",
     "exception": false,
     "start_time": "2020-12-29T10:02:37.352874",
     "status": "completed"
    },
    "tags": []
   },
   "outputs": [],
   "source": [
    "show_plot_by_qno(\"Q29_A\")"
   ]
  },
  {
   "cell_type": "markdown",
   "metadata": {
    "papermill": {
     "duration": 0.173497,
     "end_time": "2020-12-29T10:02:38.266958",
     "exception": false,
     "start_time": "2020-12-29T10:02:38.093461",
     "status": "completed"
    },
    "tags": []
   },
   "source": [
    "### Q29_B Which of the following big data products (relational databases, data warehouses, data lakes, or similar) do you hope to become more familiar with in the next 2 years? (Select all that apply)"
   ]
  },
  {
   "cell_type": "code",
   "execution_count": 70,
   "metadata": {
    "papermill": {
     "duration": 0.581972,
     "end_time": "2020-12-29T10:02:39.022728",
     "exception": false,
     "start_time": "2020-12-29T10:02:38.440756",
     "status": "completed"
    },
    "tags": []
   },
   "outputs": [],
   "source": [
    "show_plot_by_qno(\"Q29_B\")"
   ]
  },
  {
   "cell_type": "markdown",
   "metadata": {
    "papermill": {
     "duration": 0.174477,
     "end_time": "2020-12-29T10:02:39.375052",
     "exception": false,
     "start_time": "2020-12-29T10:02:39.200575",
     "status": "completed"
    },
    "tags": []
   },
   "source": [
    "## Q30 Which of the following big data products (relational database, data warehouse, data lake, or similar) do you use most often? - Selected Choice"
   ]
  },
  {
   "cell_type": "code",
   "execution_count": 71,
   "metadata": {
    "papermill": {
     "duration": 0.481668,
     "end_time": "2020-12-29T10:02:40.032595",
     "exception": false,
     "start_time": "2020-12-29T10:02:39.550927",
     "status": "completed"
    },
    "tags": []
   },
   "outputs": [],
   "source": [
    "show_plot_by_qno(\"Q30\")"
   ]
  },
  {
   "cell_type": "markdown",
   "metadata": {
    "papermill": {
     "duration": 0.201568,
     "end_time": "2020-12-29T10:02:40.425866",
     "exception": false,
     "start_time": "2020-12-29T10:02:40.224298",
     "status": "completed"
    },
    "tags": []
   },
   "source": [
    "## Q31 business intelligence tools\n",
    "\n",
    "### Q31_A Which of the following business intelligence tools do you use on a regular basis? (Select all that apply)"
   ]
  },
  {
   "cell_type": "code",
   "execution_count": 72,
   "metadata": {
    "papermill": {
     "duration": 0.565759,
     "end_time": "2020-12-29T10:02:41.191847",
     "exception": false,
     "start_time": "2020-12-29T10:02:40.626088",
     "status": "completed"
    },
    "tags": []
   },
   "outputs": [],
   "source": [
    "show_plot_by_qno(\"Q31_A\")"
   ]
  },
  {
   "cell_type": "markdown",
   "metadata": {
    "papermill": {
     "duration": 0.182017,
     "end_time": "2020-12-29T10:02:41.597675",
     "exception": false,
     "start_time": "2020-12-29T10:02:41.415658",
     "status": "completed"
    },
    "tags": []
   },
   "source": [
    "### Q31_B Which of the following business intelligence tools do you hope to become more familiar with in the next 2 years? (Select all that apply)"
   ]
  },
  {
   "cell_type": "code",
   "execution_count": 73,
   "metadata": {
    "papermill": {
     "duration": 0.532141,
     "end_time": "2020-12-29T10:02:42.313792",
     "exception": false,
     "start_time": "2020-12-29T10:02:41.781651",
     "status": "completed"
    },
    "tags": []
   },
   "outputs": [],
   "source": [
    "show_plot_by_qno(\"Q31_B\")"
   ]
  },
  {
   "cell_type": "markdown",
   "metadata": {
    "papermill": {
     "duration": 0.183322,
     "end_time": "2020-12-29T10:02:42.681458",
     "exception": false,
     "start_time": "2020-12-29T10:02:42.498136",
     "status": "completed"
    },
    "tags": []
   },
   "source": [
    "## Q32 Which of the following business intelligence tools do you use most often? - Selected Choice"
   ]
  },
  {
   "cell_type": "code",
   "execution_count": 74,
   "metadata": {
    "papermill": {
     "duration": 0.433713,
     "end_time": "2020-12-29T10:02:43.301021",
     "exception": false,
     "start_time": "2020-12-29T10:02:42.867308",
     "status": "completed"
    },
    "tags": []
   },
   "outputs": [],
   "source": [
    "show_plot_by_qno(\"Q32\")"
   ]
  },
  {
   "cell_type": "markdown",
   "metadata": {
    "papermill": {
     "duration": 0.196298,
     "end_time": "2020-12-29T10:02:43.685892",
     "exception": false,
     "start_time": "2020-12-29T10:02:43.489594",
     "status": "completed"
    },
    "tags": []
   },
   "source": [
    "## Q33 automated machine learning tools (or partial AutoML tools)\n",
    "### Q33_A Do you use any automated machine learning tools (or partial AutoML tools) on a regular basis?  (Select all that apply)"
   ]
  },
  {
   "cell_type": "code",
   "execution_count": 75,
   "metadata": {
    "papermill": {
     "duration": 0.487574,
     "end_time": "2020-12-29T10:02:44.364292",
     "exception": false,
     "start_time": "2020-12-29T10:02:43.876718",
     "status": "completed"
    },
    "tags": []
   },
   "outputs": [],
   "source": [
    "show_plot_by_qno(\"Q33_A\")"
   ]
  },
  {
   "cell_type": "markdown",
   "metadata": {
    "papermill": {
     "duration": 0.192511,
     "end_time": "2020-12-29T10:02:44.749018",
     "exception": false,
     "start_time": "2020-12-29T10:02:44.556507",
     "status": "completed"
    },
    "tags": []
   },
   "source": [
    "### Q33_B Which categories of automated machine learning tools (or partial AutoML tools) do you hope to become more familiar with in the next 2 years?  (Select all that apply)"
   ]
  },
  {
   "cell_type": "code",
   "execution_count": 76,
   "metadata": {
    "papermill": {
     "duration": 0.51692,
     "end_time": "2020-12-29T10:02:45.461269",
     "exception": false,
     "start_time": "2020-12-29T10:02:44.944349",
     "status": "completed"
    },
    "tags": []
   },
   "outputs": [],
   "source": [
    "show_plot_by_qno(\"Q33_B\")"
   ]
  },
  {
   "cell_type": "markdown",
   "metadata": {
    "papermill": {
     "duration": 0.242258,
     "end_time": "2020-12-29T10:02:45.901342",
     "exception": false,
     "start_time": "2020-12-29T10:02:45.659084",
     "status": "completed"
    },
    "tags": []
   },
   "source": [
    "## Q34 automated machine learning tools (or partial AutoML tools)\n",
    "### Q34_A Which of the following automated machine learning tools (or partial AutoML tools) do you use on a regular basis?  (Select all that apply) "
   ]
  },
  {
   "cell_type": "code",
   "execution_count": 77,
   "metadata": {
    "papermill": {
     "duration": 0.505422,
     "end_time": "2020-12-29T10:02:46.605311",
     "exception": false,
     "start_time": "2020-12-29T10:02:46.099889",
     "status": "completed"
    },
    "tags": []
   },
   "outputs": [],
   "source": [
    "show_plot_by_qno(\"Q34_A\")"
   ]
  },
  {
   "cell_type": "markdown",
   "metadata": {
    "papermill": {
     "duration": 0.20124,
     "end_time": "2020-12-29T10:02:47.021243",
     "exception": false,
     "start_time": "2020-12-29T10:02:46.820003",
     "status": "completed"
    },
    "tags": []
   },
   "source": [
    "### Q34_B Which specific automated machine learning tools (or partial AutoML tools) do you hope to become more familiar with in the next 2 years?  (Select all that apply)"
   ]
  },
  {
   "cell_type": "code",
   "execution_count": 78,
   "metadata": {
    "papermill": {
     "duration": 0.7873,
     "end_time": "2020-12-29T10:02:48.008096",
     "exception": false,
     "start_time": "2020-12-29T10:02:47.220796",
     "status": "completed"
    },
    "tags": []
   },
   "outputs": [],
   "source": [
    "show_plot_by_qno(\"Q34_B\")"
   ]
  },
  {
   "cell_type": "markdown",
   "metadata": {
    "papermill": {
     "duration": 0.200575,
     "end_time": "2020-12-29T10:02:48.409534",
     "exception": false,
     "start_time": "2020-12-29T10:02:48.208959",
     "status": "completed"
    },
    "tags": []
   },
   "source": [
    "## Q35 Do you use any tools to help manage machine learning experiments? (Select all that apply)"
   ]
  },
  {
   "cell_type": "code",
   "execution_count": 79,
   "metadata": {
    "papermill": {
     "duration": 0.48331,
     "end_time": "2020-12-29T10:02:49.094486",
     "exception": false,
     "start_time": "2020-12-29T10:02:48.611176",
     "status": "completed"
    },
    "tags": []
   },
   "outputs": [],
   "source": [
    "show_plot_by_qno(\"Q35_A\")"
   ]
  },
  {
   "cell_type": "code",
   "execution_count": 80,
   "metadata": {
    "papermill": {
     "duration": 0.49967,
     "end_time": "2020-12-29T10:02:49.801011",
     "exception": false,
     "start_time": "2020-12-29T10:02:49.301341",
     "status": "completed"
    },
    "tags": []
   },
   "outputs": [],
   "source": [
    "show_plot_by_qno(\"Q35_B\")"
   ]
  },
  {
   "cell_type": "markdown",
   "metadata": {
    "papermill": {
     "duration": 0.205431,
     "end_time": "2020-12-29T10:02:50.214247",
     "exception": false,
     "start_time": "2020-12-29T10:02:50.008816",
     "status": "completed"
    },
    "tags": []
   },
   "source": [
    "## Q36 Where do you publicly share or deploy your data analysis or machine learning applications? (Select all that apply)"
   ]
  },
  {
   "cell_type": "code",
   "execution_count": 81,
   "metadata": {
    "papermill": {
     "duration": 0.496979,
     "end_time": "2020-12-29T10:02:50.918164",
     "exception": false,
     "start_time": "2020-12-29T10:02:50.421185",
     "status": "completed"
    },
    "tags": []
   },
   "outputs": [],
   "source": [
    "show_plot_by_qno(\"Q36\")"
   ]
  },
  {
   "cell_type": "markdown",
   "metadata": {
    "papermill": {
     "duration": 0.242639,
     "end_time": "2020-12-29T10:02:51.375145",
     "exception": false,
     "start_time": "2020-12-29T10:02:51.132506",
     "status": "completed"
    },
    "tags": []
   },
   "source": [
    "## Q37 On which platforms have you begun or completed data science courses? (Select all that apply)"
   ]
  },
  {
   "cell_type": "code",
   "execution_count": 82,
   "metadata": {
    "papermill": {
     "duration": 0.548012,
     "end_time": "2020-12-29T10:02:52.134156",
     "exception": false,
     "start_time": "2020-12-29T10:02:51.586144",
     "status": "completed"
    },
    "tags": []
   },
   "outputs": [],
   "source": [
    "show_plot_by_qno(\"Q37\")"
   ]
  },
  {
   "cell_type": "markdown",
   "metadata": {
    "papermill": {
     "duration": 0.209661,
     "end_time": "2020-12-29T10:02:52.559408",
     "exception": false,
     "start_time": "2020-12-29T10:02:52.349747",
     "status": "completed"
    },
    "tags": []
   },
   "source": [
    "## Q38 What is the primary tool that you use at work or school to analyze data? (Include text response) - Selected Choice"
   ]
  },
  {
   "cell_type": "code",
   "execution_count": 83,
   "metadata": {
    "papermill": {
     "duration": 0.463756,
     "end_time": "2020-12-29T10:02:53.235039",
     "exception": false,
     "start_time": "2020-12-29T10:02:52.771283",
     "status": "completed"
    },
    "tags": []
   },
   "outputs": [],
   "source": [
    "show_plot_by_qno(\"Q38\")"
   ]
  },
  {
   "cell_type": "markdown",
   "metadata": {
    "papermill": {
     "duration": 0.210879,
     "end_time": "2020-12-29T10:02:53.662946",
     "exception": false,
     "start_time": "2020-12-29T10:02:53.452067",
     "status": "completed"
    },
    "tags": []
   },
   "source": [
    "## Q39 Who/what are your favorite media sources that report on data science topics? (Select all that apply) "
   ]
  },
  {
   "cell_type": "code",
   "execution_count": 84,
   "metadata": {
    "papermill": {
     "duration": 0.581844,
     "end_time": "2020-12-29T10:02:54.460195",
     "exception": false,
     "start_time": "2020-12-29T10:02:53.878351",
     "status": "completed"
    },
    "tags": []
   },
   "outputs": [],
   "source": [
    "show_plot_by_qno(\"Q39\")"
   ]
  },
  {
   "cell_type": "code",
   "execution_count": null,
   "metadata": {
    "papermill": {
     "duration": 0.217505,
     "end_time": "2020-12-29T10:02:54.896504",
     "exception": false,
     "start_time": "2020-12-29T10:02:54.678999",
     "status": "completed"
    },
    "tags": []
   },
   "outputs": [],
   "source": []
  },
  {
   "cell_type": "code",
   "execution_count": null,
   "metadata": {},
   "outputs": [],
   "source": []
  }
 ],
 "metadata": {
  "kernelspec": {
   "display_name": "Python 3",
   "language": "python",
   "name": "python3"
  },
  "language_info": {
   "codemirror_mode": {
    "name": "ipython",
    "version": 3
   },
   "file_extension": ".py",
   "mimetype": "text/x-python",
   "name": "python",
   "nbconvert_exporter": "python",
   "pygments_lexer": "ipython3",
   "version": "3.8.8"
  },
  "papermill": {
   "duration": 61.395257,
   "end_time": "2020-12-29T10:02:55.227861",
   "environment_variables": {},
   "exception": null,
   "input_path": "__notebook__.ipynb",
   "output_path": "__notebook__.ipynb",
   "parameters": {},
   "start_time": "2020-12-29T10:01:53.832604",
   "version": "2.1.0"
  }
 },
 "nbformat": 4,
 "nbformat_minor": 4
}
