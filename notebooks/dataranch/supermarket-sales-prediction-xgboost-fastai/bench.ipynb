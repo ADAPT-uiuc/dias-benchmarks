{
 "cells": [
  {
   "cell_type": "code",
   "execution_count": 1,
   "id": "09cd3ab3",
   "metadata": {},
   "outputs": [],
   "source": [
    "import os\n",
    "SNAPPY_notebook_path = os.path.join(os.path.abspath(\"\"), \"bench.ipynb\")"
   ]
  },
  {
   "cell_type": "code",
   "execution_count": 2,
   "id": "a0a1e2ea",
   "metadata": {},
   "outputs": [],
   "source": [
    "import time\n",
    "SNAPPY_start_time = time.perf_counter_ns()"
   ]
  },
  {
   "cell_type": "code",
   "execution_count": 3,
   "id": "adaab906",
   "metadata": {},
   "outputs": [
    {
     "name": "stdout",
     "output_type": "stream",
     "text": [
      "time: 55.6 µs (started: 2024-05-07 14:44:37 -04:00)\n"
     ]
    }
   ],
   "source": [
    "%load_ext autotime"
   ]
  },
  {
   "cell_type": "code",
   "execution_count": 4,
   "metadata": {
    "_kg_hide-output": true,
    "execution": {
     "iopub.execute_input": "2024-04-14T18:29:37.628026Z",
     "iopub.status.busy": "2024-04-14T18:29:37.627606Z",
     "iopub.status.idle": "2024-04-14T18:29:37.636606Z",
     "shell.execute_reply": "2024-04-14T18:29:37.635807Z",
     "shell.execute_reply.started": "2024-04-14T18:29:37.627984Z"
    },
    "papermill": {
     "duration": 0.036786,
     "end_time": "2022-10-07T15:09:56.3504",
     "exception": false,
     "start_time": "2022-10-07T15:09:56.313614",
     "status": "completed"
    },
    "tags": []
   },
   "outputs": [
    {
     "name": "stdout",
     "output_type": "stream",
     "text": [
      "time: 295 µs (started: 2024-05-07 14:44:37 -04:00)\n"
     ]
    }
   ],
   "source": [
    "import warnings\n",
    "warnings.filterwarnings('ignore')"
   ]
  },
  {
   "cell_type": "code",
   "execution_count": 5,
   "metadata": {
    "_cell_guid": "b1076dfc-b9ad-4769-8c92-a6c4dae69d19",
    "_kg_hide-output": true,
    "_uuid": "8f2839f25d086af736a60e9eeb907d3b93b6e0e5",
    "execution": {
     "iopub.execute_input": "2024-04-14T18:29:37.637471Z",
     "iopub.status.busy": "2024-04-14T18:29:37.637275Z",
     "iopub.status.idle": "2024-04-14T18:29:37.640305Z",
     "shell.execute_reply": "2024-04-14T18:29:37.639587Z",
     "shell.execute_reply.started": "2024-04-14T18:29:37.637449Z"
    },
    "papermill": {
     "duration": 14.462558,
     "end_time": "2022-10-07T15:10:10.824138",
     "exception": false,
     "start_time": "2022-10-07T15:09:56.36158",
     "status": "completed"
    },
    "tags": []
   },
   "outputs": [
    {
     "name": "stdout",
     "output_type": "stream",
     "text": [
      "time: 162 µs (started: 2024-05-07 14:44:37 -04:00)\n"
     ]
    }
   ],
   "source": [
    "# STEFANOS: Disable pip install\n",
    "# !pip install lazypredict\n",
    "# !pip install --upgrade pandas\n",
    "# !pip install fast-tabnet\n",
    "# !pip install fastai\n",
    "# !pip install pandas-profiling"
   ]
  },
  {
   "cell_type": "code",
   "execution_count": 6,
   "metadata": {
    "execution": {
     "iopub.execute_input": "2024-04-14T18:29:37.643999Z",
     "iopub.status.busy": "2024-04-14T18:29:37.643096Z",
     "iopub.status.idle": "2024-04-14T18:29:39.385573Z",
     "shell.execute_reply": "2024-04-14T18:29:39.385222Z",
     "shell.execute_reply.started": "2024-04-14T18:29:37.643975Z"
    },
    "papermill": {
     "duration": 7.638058,
     "end_time": "2022-10-07T15:11:23.043238",
     "exception": false,
     "start_time": "2022-10-07T15:11:15.40518",
     "status": "completed"
    },
    "tags": []
   },
   "outputs": [
    {
     "name": "stdout",
     "output_type": "stream",
     "text": [
      "time: 2.77 s (started: 2024-05-07 14:44:37 -04:00)\n"
     ]
    }
   ],
   "source": [
    "#A program that takes a csv and trains models on it. Streamlined model selection.\n",
    "#==============================================================================\n",
    "\n",
    "# STEFANOS: Disable unneeded modules\n",
    "# #LazyPredict\n",
    "# import lazypredict\n",
    "# from lazypredict.Supervised import LazyRegressor\n",
    "# from lazypredict.Supervised import LazyClassifier\n",
    "# #Baysian Optimization\n",
    "# from bayes_opt import BayesianOptimization\n",
    "#Pandas stack\n",
    "import os\n",
    "# STEFANOS: Conditionally import Modin Pandas\n",
    "import pandas as pd\n",
    "import numpy as np\n",
    "# STEFANOS: Disable unneeded modules\n",
    "# #FastAI\n",
    "from fastai.tabular.all import *\n",
    "from fastai.tabular.core import *\n",
    "# #Plots\n",
    "# import matplotlib.pyplot as plt\n",
    "# import seaborn as sns\n",
    "#System\n",
    "import os\n",
    "import sys\n",
    "import traceback\n",
    "#Fit an xgboost model\n",
    "# STEFANOS: Disable unneeded modules\n",
    "# from xgboost import XGBRegressor\n",
    "# from xgboost import XGBClassifier\n",
    "# from xgboost import plot_importance\n",
    "# from sklearn.metrics import mean_squared_error\n",
    "# from sklearn.metrics import roc_auc_score\n",
    "#Random\n",
    "import random\n",
    "\n",
    "#TabNet\n",
    "from fast_tabnet.core import *\n",
    "\n",
    "import shutil"
   ]
  },
  {
   "cell_type": "code",
   "execution_count": 7,
   "metadata": {
    "execution": {
     "iopub.execute_input": "2024-04-14T18:29:39.386162Z",
     "iopub.status.busy": "2024-04-14T18:29:39.386031Z",
     "iopub.status.idle": "2024-04-14T18:29:39.387864Z",
     "shell.execute_reply": "2024-04-14T18:29:39.387558Z",
     "shell.execute_reply.started": "2024-04-14T18:29:39.386152Z"
    },
    "papermill": {
     "duration": 0.026152,
     "end_time": "2022-10-07T15:11:23.083625",
     "exception": false,
     "start_time": "2022-10-07T15:11:23.057473",
     "status": "completed"
    },
    "tags": []
   },
   "outputs": [
    {
     "name": "stdout",
     "output_type": "stream",
     "text": [
      "time: 208 µs (started: 2024-05-07 14:44:40 -04:00)\n"
     ]
    }
   ],
   "source": [
    "# STEFANOS: Disable matplotlib inline\n",
    "# %matplotlib inline"
   ]
  },
  {
   "cell_type": "code",
   "execution_count": 8,
   "metadata": {
    "execution": {
     "iopub.execute_input": "2024-04-14T18:29:39.388509Z",
     "iopub.status.busy": "2024-04-14T18:29:39.388373Z",
     "iopub.status.idle": "2024-04-14T18:29:39.390076Z",
     "shell.execute_reply": "2024-04-14T18:29:39.389731Z",
     "shell.execute_reply.started": "2024-04-14T18:29:39.388499Z"
    },
    "papermill": {
     "duration": 0.023527,
     "end_time": "2022-10-07T15:11:23.121387",
     "exception": false,
     "start_time": "2022-10-07T15:11:23.09786",
     "status": "completed"
    },
    "tags": []
   },
   "outputs": [
    {
     "name": "stdout",
     "output_type": "stream",
     "text": [
      "time: 12.2 ms (started: 2024-05-07 14:44:40 -04:00)\n"
     ]
    }
   ],
   "source": [
    "# For Styling\n",
    "# STEFANOS: Disbale plotting\n",
    "# plt.style.use('seaborn-bright')"
   ]
  },
  {
   "cell_type": "code",
   "execution_count": 9,
   "metadata": {
    "execution": {
     "iopub.execute_input": "2024-04-14T18:29:39.390842Z",
     "iopub.status.busy": "2024-04-14T18:29:39.390695Z",
     "iopub.status.idle": "2024-04-14T18:29:39.393210Z",
     "shell.execute_reply": "2024-04-14T18:29:39.392785Z",
     "shell.execute_reply.started": "2024-04-14T18:29:39.390831Z"
    },
    "papermill": {
     "duration": 0.024691,
     "end_time": "2022-10-07T15:11:23.160088",
     "exception": false,
     "start_time": "2022-10-07T15:11:23.135397",
     "status": "completed"
    },
    "tags": []
   },
   "outputs": [
    {
     "name": "stdout",
     "output_type": "stream",
     "text": [
      "time: 10.6 ms (started: 2024-05-07 14:44:40 -04:00)\n"
     ]
    }
   ],
   "source": [
    "#Project Variables\n",
    "#===================================================================================================\n",
    "PROJECT_NAME = 'superstore'\n",
    "VARIABLE_FILES = False\n",
    "#Maximum amount of rows to take\n",
    "\n",
    "## -- STEFANOS -- Remove sample\n",
    "\n",
    "# SAMPLE_COUNT = 4000\n",
    "FASTAI_LEARNING_RATE = 1e-1\n",
    "AUTO_ADJUST_LEARNING_RATE = False\n",
    "#Set to True automatically infer if variables are categorical or continuous\n",
    "ENABLE_BREAKPOINT = True\n",
    "#When trying to declare a column a continuous variable, if it fails, convert it to a categorical variable\n",
    "CONVERT_TO_CAT = False\n",
    "REGRESSOR = True\n",
    "SEP_DOLLAR = False\n",
    "SEP_COMMA = True\n",
    "SHUFFLE_DATA = True"
   ]
  },
  {
   "cell_type": "code",
   "execution_count": 10,
   "metadata": {
    "execution": {
     "iopub.execute_input": "2024-04-14T18:29:39.393929Z",
     "iopub.status.busy": "2024-04-14T18:29:39.393785Z",
     "iopub.status.idle": "2024-04-14T18:29:39.408626Z",
     "shell.execute_reply": "2024-04-14T18:29:39.408329Z",
     "shell.execute_reply.started": "2024-04-14T18:29:39.393914Z"
    },
    "papermill": {
     "duration": 0.060326,
     "end_time": "2022-10-07T15:11:23.234384",
     "exception": false,
     "start_time": "2022-10-07T15:11:23.174058",
     "status": "completed"
    },
    "tags": []
   },
   "outputs": [
    {
     "name": "stdout",
     "output_type": "stream",
     "text": [
      "param_dir: /home/sam/dias-benchmarks/dias-benchmarks/notebooks/dataranch/supermarket-sales-prediction-xgboost-fastai/working/superstore\n",
      "CSV!\n",
      "time: 39.7 ms (started: 2024-05-07 14:44:40 -04:00)\n"
     ]
    }
   ],
   "source": [
    "input_dir = os.path.abspath('') + f'/input/{PROJECT_NAME}'\n",
    "# STEFANOS: Change the working path\n",
    "# param_dir = f'/kaggle/working/{PROJECT_NAME}'\n",
    "param_dir = os.path.abspath('') + f'/working/{PROJECT_NAME}'\n",
    "TARGET = ''\n",
    "PARAM_DIR = param_dir\n",
    "print(f'param_dir: {param_dir}')\n",
    "if not os.path.exists(param_dir):\n",
    "    os.makedirs(param_dir)\n",
    "#rename any file in param_dir/file that ends with csv to data.csv\n",
    "for file in os.listdir(input_dir):\n",
    "    if file.endswith('.csv'):\n",
    "        print('CSV!')\n",
    "        if 'classification_results' not in file and 'regression_results' not in file:\n",
    "            #os.rename(f'{input_dir}/{file}', f'{param_dir}/data.csv')\n",
    "            shutil.copy(f'{input_dir}/{file}', f'{param_dir}/data.csv')\n",
    "        #os.rename(f'{param_dir}/{file}', f'{param_dir}/data.csv')\n",
    "try:\n",
    "    # STEFANOS: Remove sample\n",
    "#     df = pd.read_csv(f'{param_dir}/data.csv', nrows=SAMPLE_COUNT)\n",
    "    df = pd.read_csv(f'{param_dir}/data.csv')\n",
    "except:\n",
    "    print(f'Please place a file named data.csv in {param_dir}')\n",
    "    #sys.exit()"
   ]
  },
  {
   "cell_type": "code",
   "execution_count": null,
   "metadata": {
    "papermill": {
     "duration": 0.013228,
     "end_time": "2022-10-07T15:11:23.261497",
     "exception": false,
     "start_time": "2022-10-07T15:11:23.248269",
     "status": "completed"
    },
    "tags": []
   },
   "outputs": [],
   "source": []
  },
  {
   "cell_type": "code",
   "execution_count": 11,
   "metadata": {
    "execution": {
     "iopub.execute_input": "2024-04-14T18:29:39.409487Z",
     "iopub.status.busy": "2024-04-14T18:29:39.409324Z",
     "iopub.status.idle": "2024-04-14T18:29:39.419569Z",
     "shell.execute_reply": "2024-04-14T18:29:39.419273Z",
     "shell.execute_reply.started": "2024-04-14T18:29:39.409471Z"
    },
    "papermill": {
     "duration": 0.043613,
     "end_time": "2022-10-07T15:11:23.318836",
     "exception": false,
     "start_time": "2022-10-07T15:11:23.275223",
     "status": "completed"
    },
    "tags": []
   },
   "outputs": [
    {
     "data": {
      "text/html": [
       "<div>\n",
       "<style scoped>\n",
       "    .dataframe tbody tr th:only-of-type {\n",
       "        vertical-align: middle;\n",
       "    }\n",
       "\n",
       "    .dataframe tbody tr th {\n",
       "        vertical-align: top;\n",
       "    }\n",
       "\n",
       "    .dataframe thead th {\n",
       "        text-align: right;\n",
       "    }\n",
       "</style>\n",
       "<table border=\"1\" class=\"dataframe\">\n",
       "  <thead>\n",
       "    <tr style=\"text-align: right;\">\n",
       "      <th></th>\n",
       "      <th>Ship Mode</th>\n",
       "      <th>Segment</th>\n",
       "      <th>Country</th>\n",
       "      <th>City</th>\n",
       "      <th>State</th>\n",
       "      <th>Postal Code</th>\n",
       "      <th>Region</th>\n",
       "      <th>Category</th>\n",
       "      <th>Sub-Category</th>\n",
       "      <th>Sales</th>\n",
       "      <th>Quantity</th>\n",
       "      <th>Discount</th>\n",
       "      <th>Profit</th>\n",
       "    </tr>\n",
       "  </thead>\n",
       "  <tbody>\n",
       "    <tr>\n",
       "      <th>0</th>\n",
       "      <td>Second Class</td>\n",
       "      <td>Consumer</td>\n",
       "      <td>United States</td>\n",
       "      <td>Henderson</td>\n",
       "      <td>Kentucky</td>\n",
       "      <td>42420</td>\n",
       "      <td>South</td>\n",
       "      <td>Furniture</td>\n",
       "      <td>Bookcases</td>\n",
       "      <td>261.9600</td>\n",
       "      <td>2</td>\n",
       "      <td>0.00</td>\n",
       "      <td>41.9136</td>\n",
       "    </tr>\n",
       "    <tr>\n",
       "      <th>1</th>\n",
       "      <td>Second Class</td>\n",
       "      <td>Consumer</td>\n",
       "      <td>United States</td>\n",
       "      <td>Henderson</td>\n",
       "      <td>Kentucky</td>\n",
       "      <td>42420</td>\n",
       "      <td>South</td>\n",
       "      <td>Furniture</td>\n",
       "      <td>Chairs</td>\n",
       "      <td>731.9400</td>\n",
       "      <td>3</td>\n",
       "      <td>0.00</td>\n",
       "      <td>219.5820</td>\n",
       "    </tr>\n",
       "    <tr>\n",
       "      <th>2</th>\n",
       "      <td>Second Class</td>\n",
       "      <td>Corporate</td>\n",
       "      <td>United States</td>\n",
       "      <td>Los Angeles</td>\n",
       "      <td>California</td>\n",
       "      <td>90036</td>\n",
       "      <td>West</td>\n",
       "      <td>Office Supplies</td>\n",
       "      <td>Labels</td>\n",
       "      <td>14.6200</td>\n",
       "      <td>2</td>\n",
       "      <td>0.00</td>\n",
       "      <td>6.8714</td>\n",
       "    </tr>\n",
       "    <tr>\n",
       "      <th>3</th>\n",
       "      <td>Standard Class</td>\n",
       "      <td>Consumer</td>\n",
       "      <td>United States</td>\n",
       "      <td>Fort Lauderdale</td>\n",
       "      <td>Florida</td>\n",
       "      <td>33311</td>\n",
       "      <td>South</td>\n",
       "      <td>Furniture</td>\n",
       "      <td>Tables</td>\n",
       "      <td>957.5775</td>\n",
       "      <td>5</td>\n",
       "      <td>0.45</td>\n",
       "      <td>-383.0310</td>\n",
       "    </tr>\n",
       "    <tr>\n",
       "      <th>4</th>\n",
       "      <td>Standard Class</td>\n",
       "      <td>Consumer</td>\n",
       "      <td>United States</td>\n",
       "      <td>Fort Lauderdale</td>\n",
       "      <td>Florida</td>\n",
       "      <td>33311</td>\n",
       "      <td>South</td>\n",
       "      <td>Office Supplies</td>\n",
       "      <td>Storage</td>\n",
       "      <td>22.3680</td>\n",
       "      <td>2</td>\n",
       "      <td>0.20</td>\n",
       "      <td>2.5164</td>\n",
       "    </tr>\n",
       "    <tr>\n",
       "      <th>...</th>\n",
       "      <td>...</td>\n",
       "      <td>...</td>\n",
       "      <td>...</td>\n",
       "      <td>...</td>\n",
       "      <td>...</td>\n",
       "      <td>...</td>\n",
       "      <td>...</td>\n",
       "      <td>...</td>\n",
       "      <td>...</td>\n",
       "      <td>...</td>\n",
       "      <td>...</td>\n",
       "      <td>...</td>\n",
       "      <td>...</td>\n",
       "    </tr>\n",
       "    <tr>\n",
       "      <th>9989</th>\n",
       "      <td>Second Class</td>\n",
       "      <td>Consumer</td>\n",
       "      <td>United States</td>\n",
       "      <td>Miami</td>\n",
       "      <td>Florida</td>\n",
       "      <td>33180</td>\n",
       "      <td>South</td>\n",
       "      <td>Furniture</td>\n",
       "      <td>Furnishings</td>\n",
       "      <td>25.2480</td>\n",
       "      <td>3</td>\n",
       "      <td>0.20</td>\n",
       "      <td>4.1028</td>\n",
       "    </tr>\n",
       "    <tr>\n",
       "      <th>9990</th>\n",
       "      <td>Standard Class</td>\n",
       "      <td>Consumer</td>\n",
       "      <td>United States</td>\n",
       "      <td>Costa Mesa</td>\n",
       "      <td>California</td>\n",
       "      <td>92627</td>\n",
       "      <td>West</td>\n",
       "      <td>Furniture</td>\n",
       "      <td>Furnishings</td>\n",
       "      <td>91.9600</td>\n",
       "      <td>2</td>\n",
       "      <td>0.00</td>\n",
       "      <td>15.6332</td>\n",
       "    </tr>\n",
       "    <tr>\n",
       "      <th>9991</th>\n",
       "      <td>Standard Class</td>\n",
       "      <td>Consumer</td>\n",
       "      <td>United States</td>\n",
       "      <td>Costa Mesa</td>\n",
       "      <td>California</td>\n",
       "      <td>92627</td>\n",
       "      <td>West</td>\n",
       "      <td>Technology</td>\n",
       "      <td>Phones</td>\n",
       "      <td>258.5760</td>\n",
       "      <td>2</td>\n",
       "      <td>0.20</td>\n",
       "      <td>19.3932</td>\n",
       "    </tr>\n",
       "    <tr>\n",
       "      <th>9992</th>\n",
       "      <td>Standard Class</td>\n",
       "      <td>Consumer</td>\n",
       "      <td>United States</td>\n",
       "      <td>Costa Mesa</td>\n",
       "      <td>California</td>\n",
       "      <td>92627</td>\n",
       "      <td>West</td>\n",
       "      <td>Office Supplies</td>\n",
       "      <td>Paper</td>\n",
       "      <td>29.6000</td>\n",
       "      <td>4</td>\n",
       "      <td>0.00</td>\n",
       "      <td>13.3200</td>\n",
       "    </tr>\n",
       "    <tr>\n",
       "      <th>9993</th>\n",
       "      <td>Second Class</td>\n",
       "      <td>Consumer</td>\n",
       "      <td>United States</td>\n",
       "      <td>Westminster</td>\n",
       "      <td>California</td>\n",
       "      <td>92683</td>\n",
       "      <td>West</td>\n",
       "      <td>Office Supplies</td>\n",
       "      <td>Appliances</td>\n",
       "      <td>243.1600</td>\n",
       "      <td>2</td>\n",
       "      <td>0.00</td>\n",
       "      <td>72.9480</td>\n",
       "    </tr>\n",
       "  </tbody>\n",
       "</table>\n",
       "<p>9994 rows × 13 columns</p>\n",
       "</div>"
      ],
      "text/plain": [
       "           Ship Mode    Segment        Country             City       State  \\\n",
       "0       Second Class   Consumer  United States        Henderson    Kentucky   \n",
       "1       Second Class   Consumer  United States        Henderson    Kentucky   \n",
       "2       Second Class  Corporate  United States      Los Angeles  California   \n",
       "3     Standard Class   Consumer  United States  Fort Lauderdale     Florida   \n",
       "4     Standard Class   Consumer  United States  Fort Lauderdale     Florida   \n",
       "...              ...        ...            ...              ...         ...   \n",
       "9989    Second Class   Consumer  United States            Miami     Florida   \n",
       "9990  Standard Class   Consumer  United States       Costa Mesa  California   \n",
       "9991  Standard Class   Consumer  United States       Costa Mesa  California   \n",
       "9992  Standard Class   Consumer  United States       Costa Mesa  California   \n",
       "9993    Second Class   Consumer  United States      Westminster  California   \n",
       "\n",
       "      Postal Code Region         Category Sub-Category     Sales  Quantity  \\\n",
       "0           42420  South        Furniture    Bookcases  261.9600         2   \n",
       "1           42420  South        Furniture       Chairs  731.9400         3   \n",
       "2           90036   West  Office Supplies       Labels   14.6200         2   \n",
       "3           33311  South        Furniture       Tables  957.5775         5   \n",
       "4           33311  South  Office Supplies      Storage   22.3680         2   \n",
       "...           ...    ...              ...          ...       ...       ...   \n",
       "9989        33180  South        Furniture  Furnishings   25.2480         3   \n",
       "9990        92627   West        Furniture  Furnishings   91.9600         2   \n",
       "9991        92627   West       Technology       Phones  258.5760         2   \n",
       "9992        92627   West  Office Supplies        Paper   29.6000         4   \n",
       "9993        92683   West  Office Supplies   Appliances  243.1600         2   \n",
       "\n",
       "      Discount    Profit  \n",
       "0         0.00   41.9136  \n",
       "1         0.00  219.5820  \n",
       "2         0.00    6.8714  \n",
       "3         0.45 -383.0310  \n",
       "4         0.20    2.5164  \n",
       "...        ...       ...  \n",
       "9989      0.20    4.1028  \n",
       "9990      0.00   15.6332  \n",
       "9991      0.20   19.3932  \n",
       "9992      0.00   13.3200  \n",
       "9993      0.00   72.9480  \n",
       "\n",
       "[9994 rows x 13 columns]"
      ]
     },
     "execution_count": 11,
     "metadata": {},
     "output_type": "execute_result"
    },
    {
     "name": "stdout",
     "output_type": "stream",
     "text": [
      "time: 12.2 ms (started: 2024-05-07 14:44:40 -04:00)\n"
     ]
    }
   ],
   "source": [
    "df"
   ]
  },
  {
   "cell_type": "markdown",
   "metadata": {},
   "source": [
    "# -- STEFANOS -- Replicate Data"
   ]
  },
  {
   "cell_type": "code",
   "execution_count": 12,
   "metadata": {
    "execution": {
     "iopub.execute_input": "2024-04-14T18:29:39.420338Z",
     "iopub.status.busy": "2024-04-14T18:29:39.420118Z",
     "iopub.status.idle": "2024-04-14T18:29:39.444463Z",
     "shell.execute_reply": "2024-04-14T18:29:39.444126Z",
     "shell.execute_reply.started": "2024-04-14T18:29:39.420314Z"
    }
   },
   "outputs": [
    {
     "name": "stdout",
     "output_type": "stream",
     "text": [
      "time: 3.99 ms (started: 2024-05-07 14:44:40 -04:00)\n"
     ]
    }
   ],
   "source": [
    "factor = 10\n",
    "df = pd.concat([df]*factor)\n",
    "# df.info()"
   ]
  },
  {
   "cell_type": "code",
   "execution_count": 13,
   "metadata": {
    "execution": {
     "iopub.execute_input": "2024-04-14T18:33:11.395909Z",
     "iopub.status.busy": "2024-04-14T18:33:11.395477Z",
     "iopub.status.idle": "2024-04-14T18:33:12.302588Z",
     "shell.execute_reply": "2024-04-14T18:33:12.302222Z",
     "shell.execute_reply.started": "2024-04-14T18:33:11.395875Z"
    },
    "papermill": {
     "duration": 0.243518,
     "end_time": "2022-10-07T15:11:23.576548",
     "exception": false,
     "start_time": "2022-10-07T15:11:23.33303",
     "status": "completed"
    },
    "tags": []
   },
   "outputs": [
    {
     "name": "stdout",
     "output_type": "stream",
     "text": [
      "time: 13.5 s (started: 2024-05-07 14:44:40 -04:00)\n"
     ]
    }
   ],
   "source": [
    "# if SEP_DOLLAR:\n",
    "#     #For every column in df, if the column contains a $, make a new column with the value without the $\n",
    "#     for col in df.columns:\n",
    "#         if '$' in df[col].to_string():\n",
    "#             df[col + '_no_dollar'] = df[col].str.replace('$', '').str.replace(',', '')\n",
    "#             #Try to convert this new column to a numeric type\n",
    "#             try:\n",
    "#                 df[col + '_no_dollar'] = df[col + '_no_dollar'].apply(pd.to_numeric, errors='coerce').dropna()\n",
    "#             except Exception:\n",
    "#                 print(f'{col} can not be converted to a float!')\n",
    "\n",
    "\n",
    "# if SEP_COMMA:\n",
    "#For every column in df, if the column contains a %, make a new column with the value without the %\n",
    "for col in df.columns:\n",
    "    if '%' in df[col].to_string() or ',' in df[col].to_string():\n",
    "        df[col + '_processed'] = df[col].str.replace('%', '').str.replace(',', '')\n",
    "        #Try to convert this new column to a numeric type\n",
    "        try:\n",
    "            df[col + '_processed'] = df[col + '_processed'].apply(pd.to_numeric, errors='coerce').dropna()\n",
    "        except Exception:\n",
    "            print(f'{col} can not be converted to a float!')"
   ]
  },
  {
   "cell_type": "code",
   "execution_count": null,
   "metadata": {
    "papermill": {
     "duration": 0.026533,
     "end_time": "2022-10-07T15:11:23.617132",
     "exception": false,
     "start_time": "2022-10-07T15:11:23.590599",
     "status": "completed"
    },
    "tags": []
   },
   "outputs": [],
   "source": []
  },
  {
   "cell_type": "code",
   "execution_count": 14,
   "metadata": {
    "execution": {
     "iopub.execute_input": "2024-04-14T18:29:49.926644Z",
     "iopub.status.busy": "2024-04-14T18:29:49.926541Z",
     "iopub.status.idle": "2024-04-14T18:29:49.934629Z",
     "shell.execute_reply": "2024-04-14T18:29:49.934222Z",
     "shell.execute_reply.started": "2024-04-14T18:29:49.926632Z"
    },
    "papermill": {
     "duration": 0.033304,
     "end_time": "2022-10-07T15:11:23.664424",
     "exception": false,
     "start_time": "2022-10-07T15:11:23.63112",
     "status": "completed"
    },
    "tags": []
   },
   "outputs": [
    {
     "data": {
      "text/html": [
       "<div>\n",
       "<style scoped>\n",
       "    .dataframe tbody tr th:only-of-type {\n",
       "        vertical-align: middle;\n",
       "    }\n",
       "\n",
       "    .dataframe tbody tr th {\n",
       "        vertical-align: top;\n",
       "    }\n",
       "\n",
       "    .dataframe thead th {\n",
       "        text-align: right;\n",
       "    }\n",
       "</style>\n",
       "<table border=\"1\" class=\"dataframe\">\n",
       "  <thead>\n",
       "    <tr style=\"text-align: right;\">\n",
       "      <th></th>\n",
       "      <th>Ship Mode</th>\n",
       "      <th>Segment</th>\n",
       "      <th>Country</th>\n",
       "      <th>City</th>\n",
       "      <th>State</th>\n",
       "      <th>Postal Code</th>\n",
       "      <th>Region</th>\n",
       "      <th>Category</th>\n",
       "      <th>Sub-Category</th>\n",
       "      <th>Sales</th>\n",
       "      <th>Quantity</th>\n",
       "      <th>Discount</th>\n",
       "      <th>Profit</th>\n",
       "    </tr>\n",
       "  </thead>\n",
       "  <tbody>\n",
       "    <tr>\n",
       "      <th>0</th>\n",
       "      <td>Second Class</td>\n",
       "      <td>Consumer</td>\n",
       "      <td>United States</td>\n",
       "      <td>Henderson</td>\n",
       "      <td>Kentucky</td>\n",
       "      <td>42420</td>\n",
       "      <td>South</td>\n",
       "      <td>Furniture</td>\n",
       "      <td>Bookcases</td>\n",
       "      <td>261.9600</td>\n",
       "      <td>2</td>\n",
       "      <td>0.00</td>\n",
       "      <td>41.9136</td>\n",
       "    </tr>\n",
       "    <tr>\n",
       "      <th>1</th>\n",
       "      <td>Second Class</td>\n",
       "      <td>Consumer</td>\n",
       "      <td>United States</td>\n",
       "      <td>Henderson</td>\n",
       "      <td>Kentucky</td>\n",
       "      <td>42420</td>\n",
       "      <td>South</td>\n",
       "      <td>Furniture</td>\n",
       "      <td>Chairs</td>\n",
       "      <td>731.9400</td>\n",
       "      <td>3</td>\n",
       "      <td>0.00</td>\n",
       "      <td>219.5820</td>\n",
       "    </tr>\n",
       "    <tr>\n",
       "      <th>2</th>\n",
       "      <td>Second Class</td>\n",
       "      <td>Corporate</td>\n",
       "      <td>United States</td>\n",
       "      <td>Los Angeles</td>\n",
       "      <td>California</td>\n",
       "      <td>90036</td>\n",
       "      <td>West</td>\n",
       "      <td>Office Supplies</td>\n",
       "      <td>Labels</td>\n",
       "      <td>14.6200</td>\n",
       "      <td>2</td>\n",
       "      <td>0.00</td>\n",
       "      <td>6.8714</td>\n",
       "    </tr>\n",
       "    <tr>\n",
       "      <th>3</th>\n",
       "      <td>Standard Class</td>\n",
       "      <td>Consumer</td>\n",
       "      <td>United States</td>\n",
       "      <td>Fort Lauderdale</td>\n",
       "      <td>Florida</td>\n",
       "      <td>33311</td>\n",
       "      <td>South</td>\n",
       "      <td>Furniture</td>\n",
       "      <td>Tables</td>\n",
       "      <td>957.5775</td>\n",
       "      <td>5</td>\n",
       "      <td>0.45</td>\n",
       "      <td>-383.0310</td>\n",
       "    </tr>\n",
       "    <tr>\n",
       "      <th>4</th>\n",
       "      <td>Standard Class</td>\n",
       "      <td>Consumer</td>\n",
       "      <td>United States</td>\n",
       "      <td>Fort Lauderdale</td>\n",
       "      <td>Florida</td>\n",
       "      <td>33311</td>\n",
       "      <td>South</td>\n",
       "      <td>Office Supplies</td>\n",
       "      <td>Storage</td>\n",
       "      <td>22.3680</td>\n",
       "      <td>2</td>\n",
       "      <td>0.20</td>\n",
       "      <td>2.5164</td>\n",
       "    </tr>\n",
       "    <tr>\n",
       "      <th>...</th>\n",
       "      <td>...</td>\n",
       "      <td>...</td>\n",
       "      <td>...</td>\n",
       "      <td>...</td>\n",
       "      <td>...</td>\n",
       "      <td>...</td>\n",
       "      <td>...</td>\n",
       "      <td>...</td>\n",
       "      <td>...</td>\n",
       "      <td>...</td>\n",
       "      <td>...</td>\n",
       "      <td>...</td>\n",
       "      <td>...</td>\n",
       "    </tr>\n",
       "    <tr>\n",
       "      <th>9989</th>\n",
       "      <td>Second Class</td>\n",
       "      <td>Consumer</td>\n",
       "      <td>United States</td>\n",
       "      <td>Miami</td>\n",
       "      <td>Florida</td>\n",
       "      <td>33180</td>\n",
       "      <td>South</td>\n",
       "      <td>Furniture</td>\n",
       "      <td>Furnishings</td>\n",
       "      <td>25.2480</td>\n",
       "      <td>3</td>\n",
       "      <td>0.20</td>\n",
       "      <td>4.1028</td>\n",
       "    </tr>\n",
       "    <tr>\n",
       "      <th>9990</th>\n",
       "      <td>Standard Class</td>\n",
       "      <td>Consumer</td>\n",
       "      <td>United States</td>\n",
       "      <td>Costa Mesa</td>\n",
       "      <td>California</td>\n",
       "      <td>92627</td>\n",
       "      <td>West</td>\n",
       "      <td>Furniture</td>\n",
       "      <td>Furnishings</td>\n",
       "      <td>91.9600</td>\n",
       "      <td>2</td>\n",
       "      <td>0.00</td>\n",
       "      <td>15.6332</td>\n",
       "    </tr>\n",
       "    <tr>\n",
       "      <th>9991</th>\n",
       "      <td>Standard Class</td>\n",
       "      <td>Consumer</td>\n",
       "      <td>United States</td>\n",
       "      <td>Costa Mesa</td>\n",
       "      <td>California</td>\n",
       "      <td>92627</td>\n",
       "      <td>West</td>\n",
       "      <td>Technology</td>\n",
       "      <td>Phones</td>\n",
       "      <td>258.5760</td>\n",
       "      <td>2</td>\n",
       "      <td>0.20</td>\n",
       "      <td>19.3932</td>\n",
       "    </tr>\n",
       "    <tr>\n",
       "      <th>9992</th>\n",
       "      <td>Standard Class</td>\n",
       "      <td>Consumer</td>\n",
       "      <td>United States</td>\n",
       "      <td>Costa Mesa</td>\n",
       "      <td>California</td>\n",
       "      <td>92627</td>\n",
       "      <td>West</td>\n",
       "      <td>Office Supplies</td>\n",
       "      <td>Paper</td>\n",
       "      <td>29.6000</td>\n",
       "      <td>4</td>\n",
       "      <td>0.00</td>\n",
       "      <td>13.3200</td>\n",
       "    </tr>\n",
       "    <tr>\n",
       "      <th>9993</th>\n",
       "      <td>Second Class</td>\n",
       "      <td>Consumer</td>\n",
       "      <td>United States</td>\n",
       "      <td>Westminster</td>\n",
       "      <td>California</td>\n",
       "      <td>92683</td>\n",
       "      <td>West</td>\n",
       "      <td>Office Supplies</td>\n",
       "      <td>Appliances</td>\n",
       "      <td>243.1600</td>\n",
       "      <td>2</td>\n",
       "      <td>0.00</td>\n",
       "      <td>72.9480</td>\n",
       "    </tr>\n",
       "  </tbody>\n",
       "</table>\n",
       "<p>99940 rows × 13 columns</p>\n",
       "</div>"
      ],
      "text/plain": [
       "           Ship Mode    Segment        Country             City       State  \\\n",
       "0       Second Class   Consumer  United States        Henderson    Kentucky   \n",
       "1       Second Class   Consumer  United States        Henderson    Kentucky   \n",
       "2       Second Class  Corporate  United States      Los Angeles  California   \n",
       "3     Standard Class   Consumer  United States  Fort Lauderdale     Florida   \n",
       "4     Standard Class   Consumer  United States  Fort Lauderdale     Florida   \n",
       "...              ...        ...            ...              ...         ...   \n",
       "9989    Second Class   Consumer  United States            Miami     Florida   \n",
       "9990  Standard Class   Consumer  United States       Costa Mesa  California   \n",
       "9991  Standard Class   Consumer  United States       Costa Mesa  California   \n",
       "9992  Standard Class   Consumer  United States       Costa Mesa  California   \n",
       "9993    Second Class   Consumer  United States      Westminster  California   \n",
       "\n",
       "      Postal Code Region         Category Sub-Category     Sales  Quantity  \\\n",
       "0           42420  South        Furniture    Bookcases  261.9600         2   \n",
       "1           42420  South        Furniture       Chairs  731.9400         3   \n",
       "2           90036   West  Office Supplies       Labels   14.6200         2   \n",
       "3           33311  South        Furniture       Tables  957.5775         5   \n",
       "4           33311  South  Office Supplies      Storage   22.3680         2   \n",
       "...           ...    ...              ...          ...       ...       ...   \n",
       "9989        33180  South        Furniture  Furnishings   25.2480         3   \n",
       "9990        92627   West        Furniture  Furnishings   91.9600         2   \n",
       "9991        92627   West       Technology       Phones  258.5760         2   \n",
       "9992        92627   West  Office Supplies        Paper   29.6000         4   \n",
       "9993        92683   West  Office Supplies   Appliances  243.1600         2   \n",
       "\n",
       "      Discount    Profit  \n",
       "0         0.00   41.9136  \n",
       "1         0.00  219.5820  \n",
       "2         0.00    6.8714  \n",
       "3         0.45 -383.0310  \n",
       "4         0.20    2.5164  \n",
       "...        ...       ...  \n",
       "9989      0.20    4.1028  \n",
       "9990      0.00   15.6332  \n",
       "9991      0.20   19.3932  \n",
       "9992      0.00   13.3200  \n",
       "9993      0.00   72.9480  \n",
       "\n",
       "[99940 rows x 13 columns]"
      ]
     },
     "execution_count": 14,
     "metadata": {},
     "output_type": "execute_result"
    },
    {
     "name": "stdout",
     "output_type": "stream",
     "text": [
      "time: 7.97 ms (started: 2024-05-07 14:44:53 -04:00)\n"
     ]
    }
   ],
   "source": [
    "df"
   ]
  },
  {
   "cell_type": "code",
   "execution_count": 15,
   "metadata": {
    "execution": {
     "iopub.execute_input": "2024-04-14T18:29:49.938264Z",
     "iopub.status.busy": "2024-04-14T18:29:49.937862Z",
     "iopub.status.idle": "2024-04-14T18:29:49.958348Z",
     "shell.execute_reply": "2024-04-14T18:29:49.958032Z",
     "shell.execute_reply.started": "2024-04-14T18:29:49.938241Z"
    },
    "papermill": {
     "duration": 0.032059,
     "end_time": "2022-10-07T15:11:23.712183",
     "exception": false,
     "start_time": "2022-10-07T15:11:23.680124",
     "status": "completed"
    },
    "tags": []
   },
   "outputs": [
    {
     "data": {
      "text/plain": [
       "Ship Mode       0\n",
       "Segment         0\n",
       "Country         0\n",
       "City            0\n",
       "State           0\n",
       "Postal Code     0\n",
       "Region          0\n",
       "Category        0\n",
       "Sub-Category    0\n",
       "Sales           0\n",
       "Quantity        0\n",
       "Discount        0\n",
       "Profit          0\n",
       "dtype: int64"
      ]
     },
     "execution_count": 15,
     "metadata": {},
     "output_type": "execute_result"
    },
    {
     "name": "stdout",
     "output_type": "stream",
     "text": [
      "time: 26.5 ms (started: 2024-05-07 14:44:53 -04:00)\n"
     ]
    }
   ],
   "source": [
    "df.isna().sum()"
   ]
  },
  {
   "cell_type": "code",
   "execution_count": 16,
   "metadata": {
    "execution": {
     "iopub.execute_input": "2024-04-14T18:29:49.958846Z",
     "iopub.status.busy": "2024-04-14T18:29:49.958739Z",
     "iopub.status.idle": "2024-04-14T18:29:49.960979Z",
     "shell.execute_reply": "2024-04-14T18:29:49.960623Z",
     "shell.execute_reply.started": "2024-04-14T18:29:49.958835Z"
    },
    "papermill": {
     "duration": 8.493223,
     "end_time": "2022-10-07T15:11:32.221543",
     "exception": false,
     "start_time": "2022-10-07T15:11:23.72832",
     "status": "completed"
    },
    "tags": []
   },
   "outputs": [
    {
     "name": "stdout",
     "output_type": "stream",
     "text": [
      "time: 2.83 ms (started: 2024-05-07 14:44:53 -04:00)\n"
     ]
    }
   ],
   "source": [
    "# df.profile_report()"
   ]
  },
  {
   "cell_type": "code",
   "execution_count": 17,
   "metadata": {
    "execution": {
     "iopub.execute_input": "2024-04-14T18:31:02.765365Z",
     "iopub.status.busy": "2024-04-14T18:31:02.764684Z",
     "iopub.status.idle": "2024-04-14T18:31:02.775094Z",
     "shell.execute_reply": "2024-04-14T18:31:02.773039Z",
     "shell.execute_reply.started": "2024-04-14T18:31:02.765331Z"
    },
    "papermill": {
     "duration": 0.29353,
     "end_time": "2022-10-07T15:11:32.580004",
     "exception": false,
     "start_time": "2022-10-07T15:11:32.286474",
     "status": "completed"
    },
    "tags": []
   },
   "outputs": [
    {
     "name": "stdout",
     "output_type": "stream",
     "text": [
      "time: 8.13 ms (started: 2024-05-07 14:44:53 -04:00)\n"
     ]
    }
   ],
   "source": [
    "# STEFANOS: Disable plotting\n",
    "# sns.heatmap(df.corr(numeric_only=True))\n",
    "# _ = df.corr(numeric_only=True)"
   ]
  },
  {
   "cell_type": "code",
   "execution_count": 18,
   "metadata": {
    "execution": {
     "iopub.execute_input": "2024-04-14T18:31:06.204380Z",
     "iopub.status.busy": "2024-04-14T18:31:06.203907Z",
     "iopub.status.idle": "2024-04-14T18:31:06.228474Z",
     "shell.execute_reply": "2024-04-14T18:31:06.227869Z",
     "shell.execute_reply.started": "2024-04-14T18:31:06.204332Z"
    },
    "papermill": {
     "duration": 0.145962,
     "end_time": "2022-10-07T15:11:32.790667",
     "exception": false,
     "start_time": "2022-10-07T15:11:32.644705",
     "status": "completed"
    },
    "tags": []
   },
   "outputs": [
    {
     "data": {
      "text/html": [
       "<div>\n",
       "<style scoped>\n",
       "    .dataframe tbody tr th:only-of-type {\n",
       "        vertical-align: middle;\n",
       "    }\n",
       "\n",
       "    .dataframe tbody tr th {\n",
       "        vertical-align: top;\n",
       "    }\n",
       "\n",
       "    .dataframe thead th {\n",
       "        text-align: right;\n",
       "    }\n",
       "</style>\n",
       "<table border=\"1\" class=\"dataframe\">\n",
       "  <thead>\n",
       "    <tr style=\"text-align: right;\">\n",
       "      <th></th>\n",
       "      <th>Ship Mode</th>\n",
       "      <th>Segment</th>\n",
       "      <th>Country</th>\n",
       "      <th>City</th>\n",
       "      <th>State</th>\n",
       "      <th>Postal Code</th>\n",
       "      <th>Region</th>\n",
       "      <th>Category</th>\n",
       "      <th>Sub-Category</th>\n",
       "      <th>Sales</th>\n",
       "      <th>Quantity</th>\n",
       "      <th>Discount</th>\n",
       "      <th>Profit</th>\n",
       "    </tr>\n",
       "  </thead>\n",
       "  <tbody>\n",
       "    <tr>\n",
       "      <th>0</th>\n",
       "      <td>Second Class</td>\n",
       "      <td>Consumer</td>\n",
       "      <td>United States</td>\n",
       "      <td>Henderson</td>\n",
       "      <td>Kentucky</td>\n",
       "      <td>42420</td>\n",
       "      <td>South</td>\n",
       "      <td>Furniture</td>\n",
       "      <td>Bookcases</td>\n",
       "      <td>261.9600</td>\n",
       "      <td>2</td>\n",
       "      <td>0.00</td>\n",
       "      <td>41.9136</td>\n",
       "    </tr>\n",
       "    <tr>\n",
       "      <th>1</th>\n",
       "      <td>Second Class</td>\n",
       "      <td>Consumer</td>\n",
       "      <td>United States</td>\n",
       "      <td>Henderson</td>\n",
       "      <td>Kentucky</td>\n",
       "      <td>42420</td>\n",
       "      <td>South</td>\n",
       "      <td>Furniture</td>\n",
       "      <td>Chairs</td>\n",
       "      <td>731.9400</td>\n",
       "      <td>3</td>\n",
       "      <td>0.00</td>\n",
       "      <td>219.5820</td>\n",
       "    </tr>\n",
       "    <tr>\n",
       "      <th>2</th>\n",
       "      <td>Second Class</td>\n",
       "      <td>Corporate</td>\n",
       "      <td>United States</td>\n",
       "      <td>Los Angeles</td>\n",
       "      <td>California</td>\n",
       "      <td>90036</td>\n",
       "      <td>West</td>\n",
       "      <td>Office Supplies</td>\n",
       "      <td>Labels</td>\n",
       "      <td>14.6200</td>\n",
       "      <td>2</td>\n",
       "      <td>0.00</td>\n",
       "      <td>6.8714</td>\n",
       "    </tr>\n",
       "    <tr>\n",
       "      <th>3</th>\n",
       "      <td>Standard Class</td>\n",
       "      <td>Consumer</td>\n",
       "      <td>United States</td>\n",
       "      <td>Fort Lauderdale</td>\n",
       "      <td>Florida</td>\n",
       "      <td>33311</td>\n",
       "      <td>South</td>\n",
       "      <td>Furniture</td>\n",
       "      <td>Tables</td>\n",
       "      <td>957.5775</td>\n",
       "      <td>5</td>\n",
       "      <td>0.45</td>\n",
       "      <td>-383.0310</td>\n",
       "    </tr>\n",
       "    <tr>\n",
       "      <th>4</th>\n",
       "      <td>Standard Class</td>\n",
       "      <td>Consumer</td>\n",
       "      <td>United States</td>\n",
       "      <td>Fort Lauderdale</td>\n",
       "      <td>Florida</td>\n",
       "      <td>33311</td>\n",
       "      <td>South</td>\n",
       "      <td>Office Supplies</td>\n",
       "      <td>Storage</td>\n",
       "      <td>22.3680</td>\n",
       "      <td>2</td>\n",
       "      <td>0.20</td>\n",
       "      <td>2.5164</td>\n",
       "    </tr>\n",
       "  </tbody>\n",
       "</table>\n",
       "</div>"
      ],
      "text/plain": [
       "        Ship Mode    Segment        Country             City       State  \\\n",
       "0    Second Class   Consumer  United States        Henderson    Kentucky   \n",
       "1    Second Class   Consumer  United States        Henderson    Kentucky   \n",
       "2    Second Class  Corporate  United States      Los Angeles  California   \n",
       "3  Standard Class   Consumer  United States  Fort Lauderdale     Florida   \n",
       "4  Standard Class   Consumer  United States  Fort Lauderdale     Florida   \n",
       "\n",
       "   Postal Code Region         Category Sub-Category     Sales  Quantity  \\\n",
       "0        42420  South        Furniture    Bookcases  261.9600         2   \n",
       "1        42420  South        Furniture       Chairs  731.9400         3   \n",
       "2        90036   West  Office Supplies       Labels   14.6200         2   \n",
       "3        33311  South        Furniture       Tables  957.5775         5   \n",
       "4        33311  South  Office Supplies      Storage   22.3680         2   \n",
       "\n",
       "   Discount    Profit  \n",
       "0      0.00   41.9136  \n",
       "1      0.00  219.5820  \n",
       "2      0.00    6.8714  \n",
       "3      0.45 -383.0310  \n",
       "4      0.20    2.5164  "
      ]
     },
     "execution_count": 18,
     "metadata": {},
     "output_type": "execute_result"
    },
    {
     "name": "stdout",
     "output_type": "stream",
     "text": [
      "time: 13.5 ms (started: 2024-05-07 14:44:53 -04:00)\n"
     ]
    }
   ],
   "source": [
    "# STEFANOS: Disable plotting\n",
    "# df.head().style.background_gradient(cmap = \"inferno\")\n",
    "df.head()"
   ]
  },
  {
   "cell_type": "code",
   "execution_count": 19,
   "metadata": {
    "execution": {
     "iopub.execute_input": "2024-04-14T18:31:07.351064Z",
     "iopub.status.busy": "2024-04-14T18:31:07.350286Z",
     "iopub.status.idle": "2024-04-14T18:31:07.406695Z",
     "shell.execute_reply": "2024-04-14T18:31:07.406029Z",
     "shell.execute_reply.started": "2024-04-14T18:31:07.351027Z"
    },
    "papermill": {
     "duration": 0.098283,
     "end_time": "2022-10-07T15:11:32.95184",
     "exception": false,
     "start_time": "2022-10-07T15:11:32.853557",
     "status": "completed"
    },
    "tags": []
   },
   "outputs": [
    {
     "name": "stdout",
     "output_type": "stream",
     "text": [
      "time: 10.4 ms (started: 2024-05-07 14:44:54 -04:00)\n"
     ]
    }
   ],
   "source": [
    "# STEFANOS: Disable plotting\n",
    "# df.describe().T.style.background_gradient(cmap = \"viridis\")\n",
    "# df.describe().T"
   ]
  },
  {
   "cell_type": "code",
   "execution_count": 20,
   "metadata": {
    "execution": {
     "iopub.execute_input": "2024-04-14T18:31:08.271523Z",
     "iopub.status.busy": "2024-04-14T18:31:08.270968Z",
     "iopub.status.idle": "2024-04-14T18:31:08.280781Z",
     "shell.execute_reply": "2024-04-14T18:31:08.279845Z",
     "shell.execute_reply.started": "2024-04-14T18:31:08.271487Z"
    },
    "papermill": {
     "duration": 0.072186,
     "end_time": "2022-10-07T15:11:33.086871",
     "exception": false,
     "start_time": "2022-10-07T15:11:33.014685",
     "status": "completed"
    },
    "tags": []
   },
   "outputs": [
    {
     "data": {
      "text/plain": [
       "Index(['Ship Mode', 'Segment', 'Country', 'City', 'State', 'Postal Code',\n",
       "       'Region', 'Category', 'Sub-Category', 'Sales', 'Quantity', 'Discount',\n",
       "       'Profit'],\n",
       "      dtype='object')"
      ]
     },
     "execution_count": 20,
     "metadata": {},
     "output_type": "execute_result"
    },
    {
     "name": "stdout",
     "output_type": "stream",
     "text": [
      "time: 11.3 ms (started: 2024-05-07 14:44:54 -04:00)\n"
     ]
    }
   ],
   "source": [
    "df.columns"
   ]
  },
  {
   "cell_type": "code",
   "execution_count": 21,
   "metadata": {
    "execution": {
     "iopub.execute_input": "2024-04-14T18:33:50.262378Z",
     "iopub.status.busy": "2024-04-14T18:33:50.261773Z",
     "iopub.status.idle": "2024-04-14T18:33:55.597934Z",
     "shell.execute_reply": "2024-04-14T18:33:55.597564Z",
     "shell.execute_reply.started": "2024-04-14T18:33:50.262342Z"
    },
    "papermill": {
     "duration": 38.066019,
     "end_time": "2022-10-07T15:12:11.215337",
     "exception": false,
     "start_time": "2022-10-07T15:11:33.149318",
     "status": "completed"
    },
    "tags": []
   },
   "outputs": [
    {
     "name": "stdout",
     "output_type": "stream",
     "text": [
      "Target Variable: Profit\n",
      "CATS=====================\n",
      "['Ship Mode', 'Segment', 'Country', 'State', 'Region', 'Category', 'Sub-Category', 'Quantity', 'Discount']\n",
      "CONTS=====================\n",
      "['City', 'Postal Code', 'Sales']\n",
      "12\n",
      "Looping through continuous variables to find breakpoint\n",
      "Continuous variables that made the cut : ['City', 'Postal Code', 'Sales']\n",
      "Categorical variables that made the cut : ['Ship Mode', 'Segment', 'Country', 'State', 'Region', 'Category', 'Sub-Category', 'Quantity', 'Discount', 'City_na']\n",
      "Target Variable: Discount\n",
      "CATS=====================\n",
      "['Ship Mode', 'Segment', 'Country', 'State', 'Region', 'Category', 'Sub-Category', 'Quantity', 'Discount']\n",
      "CONTS=====================\n",
      "['City', 'Postal Code', 'Sales', 'Profit']\n",
      "13\n",
      "Looping through continuous variables to find breakpoint\n",
      "Continuous variables that made the cut : ['City', 'Postal Code', 'Sales', 'Profit']\n",
      "Categorical variables that made the cut : ['Ship Mode', 'Segment', 'Country', 'State', 'Region', 'Category', 'Sub-Category', 'Quantity', 'Discount', 'City_na']\n",
      "Target Variable: Quantity\n",
      "CATS=====================\n",
      "['Ship Mode', 'Segment', 'Country', 'State', 'Region', 'Category', 'Sub-Category', 'Quantity', 'Discount']\n",
      "CONTS=====================\n",
      "['City', 'Postal Code', 'Sales', 'Profit']\n",
      "13\n",
      "Looping through continuous variables to find breakpoint\n",
      "Continuous variables that made the cut : ['City', 'Postal Code', 'Sales', 'Profit']\n",
      "Categorical variables that made the cut : ['Ship Mode', 'Segment', 'Country', 'State', 'Region', 'Category', 'Sub-Category', 'Quantity', 'Discount', 'City_na']\n",
      "Target Variable: Sales\n",
      "CATS=====================\n",
      "['Ship Mode', 'Segment', 'Country', 'State', 'Region', 'Category', 'Sub-Category', 'Quantity', 'Discount']\n",
      "CONTS=====================\n",
      "['City', 'Postal Code', 'Profit']\n",
      "12\n",
      "Looping through continuous variables to find breakpoint\n",
      "Continuous variables that made the cut : ['City', 'Postal Code', 'Profit']\n",
      "Categorical variables that made the cut : ['Ship Mode', 'Segment', 'Country', 'State', 'Region', 'Category', 'Sub-Category', 'Quantity', 'Discount', 'City_na']\n",
      "Target Variable: Sub-Category\n",
      "CATS=====================\n",
      "['Ship Mode', 'Segment', 'Country', 'State', 'Region', 'Category', 'Quantity', 'Discount']\n",
      "CONTS=====================\n",
      "['City', 'Postal Code', 'Sales', 'Profit']\n",
      "12\n",
      "Looping through continuous variables to find breakpoint\n",
      "Continuous variables that made the cut : ['City', 'Postal Code', 'Sales', 'Profit']\n",
      "Categorical variables that made the cut : ['Ship Mode', 'Segment', 'Country', 'State', 'Region', 'Category', 'Quantity', 'Discount', 'City_na']\n",
      "Target Variable: Category\n",
      "CATS=====================\n",
      "['Ship Mode', 'Segment', 'Country', 'State', 'Region', 'Quantity', 'Discount']\n",
      "CONTS=====================\n",
      "['City', 'Postal Code', 'Sub-Category', 'Sales', 'Profit']\n",
      "12\n",
      "Looping through continuous variables to find breakpoint\n",
      "Continuous variables that made the cut : ['City', 'Postal Code', 'Sub-Category', 'Sales', 'Profit']\n",
      "Categorical variables that made the cut : ['Ship Mode', 'Segment', 'Country', 'State', 'Region', 'Quantity', 'Discount', 'City_na', 'Sub-Category_na']\n",
      "Target Variable: Region\n",
      "CATS=====================\n",
      "['Ship Mode', 'Segment', 'Country', 'State', 'Quantity', 'Discount']\n",
      "CONTS=====================\n",
      "['City', 'Postal Code', 'Category', 'Sub-Category', 'Sales', 'Profit']\n",
      "12\n",
      "Looping through continuous variables to find breakpoint\n",
      "Continuous variables that made the cut : ['City', 'Postal Code', 'Category', 'Sub-Category', 'Sales', 'Profit']\n",
      "Categorical variables that made the cut : ['Ship Mode', 'Segment', 'Country', 'State', 'Quantity', 'Discount', 'City_na', 'Category_na', 'Sub-Category_na']\n",
      "Target Variable: Postal Code\n",
      "CATS=====================\n",
      "['Ship Mode', 'Segment', 'Country', 'State', 'Quantity', 'Discount']\n",
      "CONTS=====================\n",
      "['City', 'Region', 'Category', 'Sub-Category', 'Sales', 'Profit']\n",
      "12\n",
      "Looping through continuous variables to find breakpoint\n",
      "Continuous variables that made the cut : ['City', 'Region', 'Category', 'Sub-Category', 'Sales', 'Profit']\n",
      "Categorical variables that made the cut : ['Ship Mode', 'Segment', 'Country', 'State', 'Quantity', 'Discount', 'City_na', 'Region_na', 'Category_na', 'Sub-Category_na']\n",
      "Target Variable: State\n",
      "CATS=====================\n",
      "['Ship Mode', 'Segment', 'Country', 'Quantity', 'Discount']\n",
      "CONTS=====================\n",
      "['City', 'Postal Code', 'Region', 'Category', 'Sub-Category', 'Sales', 'Profit']\n",
      "12\n",
      "Looping through continuous variables to find breakpoint\n",
      "Continuous variables that made the cut : ['City', 'Postal Code', 'Region', 'Category', 'Sub-Category', 'Sales', 'Profit']\n",
      "Categorical variables that made the cut : ['Ship Mode', 'Segment', 'Country', 'Quantity', 'Discount', 'City_na', 'Region_na', 'Category_na', 'Sub-Category_na']\n",
      "Target Variable: City\n",
      "CATS=====================\n",
      "['Ship Mode', 'Segment', 'Country', 'Quantity', 'Discount']\n",
      "CONTS=====================\n",
      "['State', 'Postal Code', 'Region', 'Category', 'Sub-Category', 'Sales', 'Profit']\n",
      "12\n",
      "Looping through continuous variables to find breakpoint\n",
      "Continuous variables that made the cut : ['State', 'Postal Code', 'Region', 'Category', 'Sub-Category', 'Sales', 'Profit']\n",
      "Categorical variables that made the cut : ['Ship Mode', 'Segment', 'Country', 'Quantity', 'Discount', 'State_na', 'Region_na', 'Category_na', 'Sub-Category_na']\n",
      "Target Variable: Country\n",
      "CATS=====================\n",
      "['Ship Mode', 'Segment', 'Quantity', 'Discount']\n",
      "CONTS=====================\n",
      "['City', 'State', 'Postal Code', 'Region', 'Category', 'Sub-Category', 'Sales', 'Profit']\n",
      "12\n",
      "Looping through continuous variables to find breakpoint\n",
      "Continuous variables that made the cut : ['City', 'State', 'Postal Code', 'Region', 'Category', 'Sub-Category', 'Sales', 'Profit']\n",
      "Categorical variables that made the cut : ['Ship Mode', 'Segment', 'Quantity', 'Discount', 'City_na', 'State_na', 'Region_na', 'Category_na', 'Sub-Category_na']\n",
      "Target Variable: Segment\n",
      "CATS=====================\n",
      "['Ship Mode', 'Quantity', 'Discount']\n",
      "CONTS=====================\n",
      "['Country', 'City', 'State', 'Postal Code', 'Region', 'Category', 'Sub-Category', 'Sales', 'Profit']\n",
      "12\n",
      "Looping through continuous variables to find breakpoint\n",
      "Continuous variables that made the cut : ['Country', 'City', 'State', 'Postal Code', 'Region', 'Category', 'Sub-Category', 'Sales', 'Profit']\n",
      "Categorical variables that made the cut : ['Ship Mode', 'Quantity', 'Discount', 'Country_na', 'City_na', 'State_na', 'Region_na', 'Category_na', 'Sub-Category_na']\n",
      "time: 3.57 s (started: 2024-05-07 14:44:54 -04:00)\n"
     ]
    }
   ],
   "source": [
    "target = ''\n",
    "target_str = ''\n",
    "#The column closest to the end isPARAM_DIR the target variable that can be represented as a float is the target variable\n",
    "targets = []\n",
    "#Loop through every possible target column (Continuous)\n",
    "for i in range(len(df.columns)-1, 0, -1):\n",
    "    try:\n",
    "        df[df.columns[i]] = df[df.columns[i]].apply(pd.to_numeric, errors='coerce').dropna()\n",
    "        target = df.columns[i]\n",
    "        target_str = target.replace('/', '-')\n",
    "    except:\n",
    "        continue\n",
    "    print(f'Target Variable: {target}')\n",
    "    #Will be determined by the file name\n",
    "\n",
    "\n",
    "    #===================================================================================================\n",
    "\n",
    "    #Create project config files if they don't exist.\n",
    "    if not os.path.exists(param_dir):\n",
    "        #create param_dir\n",
    "        os.makedirs(PARAM_DIR)\n",
    "    if not os.path.exists(f'{PARAM_DIR}/cats.txt'):\n",
    "        #create param_dir\n",
    "        with open(f'{PARAM_DIR}/cats.txt', 'w') as f:\n",
    "            f.write('')\n",
    "    if not os.path.exists(f'{PARAM_DIR}/conts.txt'):\n",
    "        #create param_dir\n",
    "        with open(f'{PARAM_DIR}/conts.txt', 'w') as f:\n",
    "            f.write('')\n",
    "    if not os.path.exists(f'{PARAM_DIR}/cols_to_delete.txt'):\n",
    "        with open(f'{PARAM_DIR}/cols_to_delete.txt', 'w') as f:\n",
    "            f.write('')\n",
    "\n",
    "    df = df.drop_duplicates()\n",
    "    if SHUFFLE_DATA:\n",
    "        df = df.sample(frac=1).reset_index(drop=True)\n",
    "\n",
    "    # workaround for fastai/pytorch bug where bool is treated as object and thus erroring out.\n",
    "    for n in df:\n",
    "        if pd.api.types.is_bool_dtype(df[n]):\n",
    "            df[n] = df[n].astype('uint8')\n",
    "\n",
    "    with open(f'{PARAM_DIR}/cols_to_delete.txt', 'r') as f:\n",
    "        cols_to_delete = f.read().splitlines()\n",
    "    for col in cols_to_delete:\n",
    "        try:\n",
    "            del(df[col])\n",
    "        except:\n",
    "            pass\n",
    "    #try to fill in missing values now, otherwise FastAI will do it for us later\n",
    "    try:\n",
    "        df = df.fillna(0)\n",
    "    except:\n",
    "        pass\n",
    "    #print missing values\n",
    "    #print(df.isna().sum().sort_values(ascending=False))\n",
    "    #shrink df as much as possible\n",
    "    df = df_shrink(df)\n",
    "\n",
    "\n",
    "    #print types inside of df\n",
    "    #print(df.dtypes)\n",
    "\n",
    "\n",
    "    #Auto detect categorical and continuous variables\n",
    "    #==============================================================================\n",
    "    likely_cat = {}\n",
    "    for var in df.columns:\n",
    "        likely_cat[var] = 1.*df[var].nunique()/df[var].count() < 0.05 #or some other threshold\n",
    "\n",
    "    cats = [var for var in df.columns if likely_cat[var]]\n",
    "    conts = [var for var in df.columns if not likely_cat[var]]\n",
    "\n",
    "    #remove target from lists\n",
    "    try:\n",
    "        conts.remove(target)\n",
    "        cats.remove(target)\n",
    "    except:\n",
    "        pass\n",
    "    #Convert target to float\n",
    "    df[target] = df[target].apply(pd.to_numeric, errors='coerce').dropna()\n",
    "\n",
    "    print('CATS=====================')\n",
    "    print(cats)\n",
    "    print('CONTS=====================')\n",
    "    print(conts)\n",
    "\n",
    "    #Populate categorical and continuous lists\n",
    "    #==============================================================================\n",
    "\n",
    "    if VARIABLE_FILES == True:\n",
    "        with open(f'{PARAM_DIR}/cats.txt', 'r') as f:\n",
    "            cats = f.read().splitlines()\n",
    "\n",
    "        with open(f'{PARAM_DIR}/conts.txt', 'r') as f:\n",
    "            conts = f.read().splitlines()\n",
    "\n",
    "    #==============================================================================\n",
    "\n",
    "    #==============================================================================\n",
    "    procs = [Categorify, FillMissing, Normalize]\n",
    "    #print(df.describe().T)\n",
    "    # STEFANOS: Remove samples\n",
    "#     df = df[0:SAMPLE_COUNT]\n",
    "    splits = RandomSplitter()(range_of(df))\n",
    "\n",
    "    print((len(cats)) + len(conts))\n",
    "    #conts = []\n",
    "\n",
    "    #Convert cont variables to floats\n",
    "    #==============================================================================\n",
    "\n",
    "    #Convert cont variables to floats\n",
    "    #==============================================================================\n",
    "\n",
    "    for var in conts:\n",
    "        try:\n",
    "            df[var] = df[var].apply(pd.to_numeric, errors='coerce').dropna()\n",
    "        except:\n",
    "            print(f'Could not convert {var} to float.')\n",
    "            pass\n",
    "\n",
    "    #==============================================================================\n",
    "\n",
    "    #Experimental logic to add columns one-by-one to find a breakpoint\n",
    "    #==============================================================================\n",
    "    # if ENABLE_BREAKPOINT == True:\n",
    "    temp_procs = [Categorify, FillMissing]\n",
    "    print('Looping through continuous variables to find breakpoint')\n",
    "    cont_list = []\n",
    "    for cont in conts:\n",
    "        focus_cont = cont\n",
    "        cont_list.append(cont)\n",
    "        #print(focus_cont)\n",
    "        try:\n",
    "            to = TabularPandas(df, procs=procs, cat_names=cats, cont_names=cont_list, y_names=target, y_block=RegressionBlock(), splits=splits)\n",
    "            del(to)\n",
    "        except:\n",
    "            print('Error with ', focus_cont)\n",
    "            #remove focus_cont from list\n",
    "            cont_list.remove(focus_cont)\n",
    "            #traceback.print_exc()\n",
    "            continue\n",
    "    #convert all continuous variables to floats\n",
    "    for var in cont_list:\n",
    "        try:\n",
    "            df[var] = df[var].apply(pd.to_numeric, errors='coerce').dropna()\n",
    "        except:\n",
    "            print(f'Could not convert {var} to float.')\n",
    "            cont_list.remove(var)\n",
    "            if CONVERT_TO_CAT == True:\n",
    "                cats.append(var)\n",
    "            pass\n",
    "    print(f'Continuous variables that made the cut : {cont_list}')\n",
    "    print(f'Categorical variables that made the cut : {cats}')\n",
    "    #shrink df as much as possible\n",
    "    df = df_shrink(df)\n",
    "    #print(df.dtypes)\n",
    "\n",
    "    #==============================================================================\n",
    "\n",
    "    #Creating tabular object + quick preprocessing\n",
    "    #==============================================================================\n",
    "    to = None\n",
    "    # if REGRESSOR == True:\n",
    "    try:\n",
    "        to = TabularPandas(df, procs, cats, conts, target, y_block=RegressionBlock(), splits=splits)\n",
    "    except:\n",
    "        conts = []\n",
    "        to = TabularPandas(df, procs, cats, conts, target, y_block=RegressionBlock(), splits=splits)\n",
    "    # else:\n",
    "    #     try:\n",
    "    #         to = TabularPandas(df, procs, cats, conts, target, splits=splits)\n",
    "    #     except:\n",
    "    #         conts = []\n",
    "    #         to = TabularPandas(df, procs, cats, conts, target, splits=splits)\n",
    "\n",
    "### STEFANOS - Disabled ML code ###\n",
    "            \n",
    "#     #print(dir(to))\n",
    "#     #print(to.xs)\n",
    "#     dls = to.dataloaders()\n",
    "#     print(f'Tabular Object size: {len(to)}')\n",
    "#     try:\n",
    "#         dls.one_batch()\n",
    "#     except:\n",
    "#         print(f'problem with getting one batch of {PROJECT_NAME}')\n",
    "#     #==============================================================================\n",
    "\n",
    "#     #Extracting train and test sets from tabular object\n",
    "#     #==============================================================================\n",
    "\n",
    "#     X_train, y_train = to.train.xs, to.train.ys.values.ravel()\n",
    "#     X_test, y_test = to.valid.xs, to.valid.ys.values.ravel()\n",
    "\n",
    "#     #Make sure target isn't in independent columns\n",
    "#     if target in X_train and target in X_test:\n",
    "#         del(X_train[target])\n",
    "#         del(X_test[target])\n",
    "#     #create dataframe from X_train and y_train\n",
    "#     #export tabular object to csv\n",
    "#     pd.DataFrame(X_train).to_csv(f'{PARAM_DIR}/X_train_{target_str}.csv', index=False)\n",
    "#     pd.DataFrame(X_test).to_csv(f'{PARAM_DIR}/X_test_{target_str}.csv', index=False)\n",
    "#     pd.DataFrame(y_train).to_csv(f'{PARAM_DIR}/y_train_{target_str}.csv', index=False)\n",
    "#     pd.DataFrame(y_test).to_csv(f'{PARAM_DIR}/y_test_{target_str}.csv', index=False)\n",
    "\n",
    "#     #==============================================================================\n",
    "\n",
    "#     #==============================================================================\n",
    "\n",
    "#     #Ready for model selection!\n",
    "\n",
    "#     if REGRESSOR == True:\n",
    "#         try:\n",
    "#             reg = LazyRegressor(verbose=2, ignore_warnings=False, custom_metric=None)\n",
    "#             models, predictions = reg.fit(X_train, X_test, y_train, y_test)\n",
    "#             print(f'Project: {PROJECT_NAME}')\n",
    "#             print(PROJECT_NAME)\n",
    "#             print(f'Target: {target}')\n",
    "#             print(target)\n",
    "#             target_std = y_train.std()\n",
    "#             print(f'Target Standard Deviation: {target_std}')\n",
    "#             print(models)\n",
    "#             models['project'] = PROJECT_NAME\n",
    "#             models['target'] = target\n",
    "#             models['target_std'] = target_std\n",
    "#             #rename index of \n",
    "#             models.to_csv(f'{PARAM_DIR}/regression_results_{target_str}.csv', mode='a', header=True, index=True)\n",
    "#         except:\n",
    "#             print('Issue during lazypredict analysis')\n",
    "#     else:\n",
    "#         #TODO: remove this\n",
    "#         try:\n",
    "#             clf = LazyClassifier(verbose=2, ignore_warnings=False, custom_metric=None)\n",
    "#             models, predictions = clf.fit(X_train, X_test, y_train, y_test)\n",
    "#             print(f'Project: {PROJECT_NAME}')\n",
    "#             print(PROJECT_NAME)\n",
    "#             print(f'Target: {target}')\n",
    "#             print(target)\n",
    "#             print(f'Target Standard Deviation: {y_train.std()}')\n",
    "#             print(models)\n",
    "#             models.to_csv(f'{PARAM_DIR}/classification_results.csv', mode='a', header=False)\n",
    "#         except:\n",
    "#             print('Issue during lazypredict analysis')\n",
    "\n",
    "#     model_name = 'tabnet'\n",
    "\n",
    "#     # FastAI + pre-trained TabNet\n",
    "#     #==============================================================================\n",
    "#     learn = None\n",
    "#     i = 0\n",
    "#     while True:\n",
    "#         try:\n",
    "#             del learn\n",
    "#         except:\n",
    "#             pass\n",
    "#         try:\n",
    "#             learn = 0\n",
    "#             model = TabNetModel(get_emb_sz(to), len(to.cont_names), dls.c, n_d=64, n_a=64, n_steps=5, virtual_batch_size=256)\n",
    "#             # save the best model so far, determined by early stopping\n",
    "#             cbs = [SaveModelCallback(monitor='_rmse', comp=np.less, fname=f'{model_name}_{PROJECT_NAME}_{target_str}_best'), EarlyStoppingCallback()]\n",
    "#             learn = Learner(dls, model, loss_func=MSELossFlat(), metrics=rmse, cbs=cbs)\n",
    "#             #learn = get_learner(to)\n",
    "#             if(learn != 0):\n",
    "#                 break\n",
    "#             if i > 50:\n",
    "#                 break\n",
    "#         except:\n",
    "#             i += 1\n",
    "#             print('Error in FastAI TabNet')\n",
    "#             traceback.print_exc()\n",
    "#             continue\n",
    "#     try:\n",
    "#         #display learning rate finder results\n",
    "#         x = learn.lr_find()\n",
    "#     except:\n",
    "#         pass\n",
    "#     if AUTO_ADJUST_LEARNING_RATE == True:\n",
    "#         FASTAI_LEARNING_RATE = x.valley\n",
    "#     print(f'LEARNING RATE: {FASTAI_LEARNING_RATE}')\n",
    "#     try:\n",
    "#         if i < 50:\n",
    "#             learn.fit_one_cycle(20, FASTAI_LEARNING_RATE)\n",
    "#             plt.figure(figsize=(10, 10))\n",
    "#             try:\n",
    "#                 ax = learn.show_results()\n",
    "#                 plt.show(block=True)\n",
    "#             except:\n",
    "#                 print('Could not show results')\n",
    "#                 pass\n",
    "#     except:\n",
    "#         print('Could not fit model')\n",
    "#         traceback.print_exc()\n",
    "#         pass\n",
    "\n",
    "#     #==============================================================================\n",
    "\n",
    "#     #fit an xgboost model\n",
    "#     #==============================================================================\n",
    "#     if REGRESSOR == True:\n",
    "#         xgb = XGBRegressor()\n",
    "#     else:\n",
    "#         xgb = XGBClassifier()\n",
    "#     try:\n",
    "#         xgb = XGBRegressor()\n",
    "#         xgb.fit(X_train, y_train)\n",
    "#         y_pred = xgb.predict(X_test)\n",
    "#         print('XGBoost Predictions vs Actual==========')\n",
    "#         print(pd.DataFrame({'actual': y_test, 'predicted': y_pred}).head())\n",
    "#         print('XGBoost RMSE: ', np.sqrt(mean_squared_error(y_test, y_pred)))\n",
    "#         #save feature importance plot to file\n",
    "#         plot_importance(xgb)\n",
    "#         plt.title(f'XGBoost Feature Importance for {PROJECT_NAME} | Target : {target}', wrap=True)\n",
    "#         plt.tight_layout()\n",
    "#         plt.show()\n",
    "#         plt.savefig(f'{PARAM_DIR}/xgb_feature_importance_{target_str}.png')\n",
    "#         fi_df = pd.DataFrame([xgb.get_booster().get_score()]).T\n",
    "#         fi_df.columns = ['importance']\n",
    "#         #create a column based off the index called feature\n",
    "#         fi_df['feature'] = fi_df.index\n",
    "#         #create a dataframe of feature importance\n",
    "#         fi_df = fi_df[['feature', 'importance']]\n",
    "#         fi_df.to_csv(f'{PARAM_DIR}/xgb_feature_importance_{target_str}.csv', index=False)\n",
    "#         #xgb_fi = pd.DataFrame(xgb.feature_importances_, index=X_train.columns, columns=['importance'])\n",
    "#         #xgb_fi.to_csv(f'{PARAM_DIR}/xgb_feature_importance_{target_str}.csv')\n",
    "#         #print('XGBoost AUC: ', roc_auc_score(y_test, y_pred))\n",
    "#     except:\n",
    "#         traceback.print_exc()\n",
    "#         print('XGBoost failed')"
   ]
  },
  {
   "cell_type": "markdown",
   "metadata": {},
   "source": [
    "# -- STEFANOS -- We have to disable the following too because even though it's Pandas code, it uses results from ML"
   ]
  },
  {
   "cell_type": "code",
   "execution_count": 22,
   "metadata": {
    "execution": {
     "iopub.status.busy": "2024-04-14T18:29:50.517059Z",
     "iopub.status.idle": "2024-04-14T18:29:50.517277Z",
     "shell.execute_reply": "2024-04-14T18:29:50.517180Z",
     "shell.execute_reply.started": "2024-04-14T18:29:50.517173Z"
    },
    "papermill": {
     "duration": 0.356534,
     "end_time": "2022-10-07T15:12:11.787974",
     "exception": false,
     "start_time": "2022-10-07T15:12:11.43144",
     "status": "completed"
    },
    "tags": []
   },
   "outputs": [
    {
     "name": "stdout",
     "output_type": "stream",
     "text": [
      "time: 280 µs (started: 2024-05-07 14:44:57 -04:00)\n"
     ]
    }
   ],
   "source": [
    "# out_dir = f'./{PROJECT_NAME}'\n",
    "# xgb_feature_importance_csvs = []\n",
    "\n",
    "# for file in os.listdir(out_dir):\n",
    "#     if 'xgb_feature_importance' in file and '.csv' in file:\n",
    "#         xgb_feature_importance_csvs.append(pd.read_csv(os.path.join(out_dir, file)))\n",
    "\n",
    "# xgb_feature_importance = pd.concat(xgb_feature_importance_csvs,axis=0)\n",
    "# xgb_feature_importance.rename(columns={'Unnamed: 0': 'feature'}, inplace=True)\n",
    "# print(xgb_feature_importance.head())\n",
    "# xgb_feature_importance.groupby('feature')['importance'].mean().sort_values(ascending=False).plot(kind='bar', title='XGBoost Overall Feature Importance', figsize=(20, 10))"
   ]
  },
  {
   "cell_type": "code",
   "execution_count": 23,
   "metadata": {
    "execution": {
     "iopub.status.busy": "2024-04-14T18:29:50.517800Z",
     "iopub.status.idle": "2024-04-14T18:29:50.518049Z",
     "shell.execute_reply": "2024-04-14T18:29:50.517873Z",
     "shell.execute_reply.started": "2024-04-14T18:29:50.517867Z"
    },
    "papermill": {
     "duration": 0.085291,
     "end_time": "2022-10-07T15:12:11.947839",
     "exception": false,
     "start_time": "2022-10-07T15:12:11.862548",
     "status": "completed"
    },
    "tags": []
   },
   "outputs": [
    {
     "data": {
      "text/plain": [
       "Ship Mode          0\n",
       "Segment         9962\n",
       "Country         9962\n",
       "City            9962\n",
       "State           9962\n",
       "Postal Code        0\n",
       "Region          9962\n",
       "Category        9962\n",
       "Sub-Category    9962\n",
       "Sales              0\n",
       "Quantity           0\n",
       "Discount           0\n",
       "Profit             0\n",
       "dtype: int64"
      ]
     },
     "execution_count": 23,
     "metadata": {},
     "output_type": "execute_result"
    },
    {
     "name": "stdout",
     "output_type": "stream",
     "text": [
      "time: 13.7 ms (started: 2024-05-07 14:44:57 -04:00)\n"
     ]
    }
   ],
   "source": [
    "df.isna().sum()"
   ]
  },
  {
   "cell_type": "code",
   "execution_count": 24,
   "id": "e3cdcff2",
   "metadata": {},
   "outputs": [
    {
     "name": "stdout",
     "output_type": "stream",
     "text": [
      "Total elapsed time: 20.163642186\n",
      "time: 9.95 ms (started: 2024-05-07 14:44:57 -04:00)\n"
     ]
    }
   ],
   "source": [
    "SNAPPY_end_time = time.perf_counter_ns()\n",
    "print(\"Total elapsed time:\", (SNAPPY_end_time - SNAPPY_start_time) / (10 ** 9))"
   ]
  },
  {
   "cell_type": "markdown",
   "metadata": {
    "papermill": {
     "duration": 0.071387,
     "end_time": "2022-10-07T15:12:12.091982",
     "exception": false,
     "start_time": "2022-10-07T15:12:12.020595",
     "status": "completed"
    },
    "tags": []
   },
   "source": [
    "# **To Be Continued...**"
   ]
  }
 ],
 "metadata": {
  "kernelspec": {
   "display_name": "Python 3 (ipykernel)",
   "language": "python",
   "name": "python3"
  },
  "language_info": {
   "codemirror_mode": {
    "name": "ipython",
    "version": 3
   },
   "file_extension": ".py",
   "mimetype": "text/x-python",
   "name": "python",
   "nbconvert_exporter": "python",
   "pygments_lexer": "ipython3",
   "version": "3.10.11"
  }
 },
 "nbformat": 4,
 "nbformat_minor": 4
}
