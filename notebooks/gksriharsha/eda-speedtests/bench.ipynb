{
 "cells": [
  {
   "cell_type": "code",
   "execution_count": 83,
   "id": "9f6629bc",
   "metadata": {},
   "outputs": [
    {
     "name": "stdout",
     "output_type": "stream",
     "text": [
      "time: 21 ms (started: 2024-05-07 14:49:03 -04:00)\n"
     ]
    }
   ],
   "source": [
    "import os\n",
    "SNAPPY_notebook_path = os.path.join(os.path.abspath(\"\"), \"bench.ipynb\")"
   ]
  },
  {
   "cell_type": "code",
   "execution_count": 84,
   "id": "1ff41fe1",
   "metadata": {},
   "outputs": [
    {
     "name": "stdout",
     "output_type": "stream",
     "text": [
      "time: 766 µs (started: 2024-05-07 14:49:03 -04:00)\n"
     ]
    }
   ],
   "source": [
    "import time\n",
    "SNAPPY_start_time = time.perf_counter_ns()"
   ]
  },
  {
   "cell_type": "code",
   "execution_count": 85,
   "id": "40a6557b",
   "metadata": {},
   "outputs": [
    {
     "name": "stdout",
     "output_type": "stream",
     "text": [
      "The autotime extension is already loaded. To reload it, use:\n",
      "  %reload_ext autotime\n",
      "time: 9.33 ms (started: 2024-05-07 14:49:03 -04:00)\n"
     ]
    }
   ],
   "source": [
    "%load_ext autotime"
   ]
  },
  {
   "cell_type": "markdown",
   "metadata": {},
   "source": [
    "# Exploratory Data Analysis\n",
    "\n",
    "In this notebook we will look into the speedtest data gathered from ookla and draw some useful insights from the dataset. Additional dataset would also be utilized to make some meaningful insights into the appropriately combined wholistic data"
   ]
  },
  {
   "cell_type": "markdown",
   "metadata": {},
   "source": [
    "## File Exploration\n",
    "\n",
    "In the following block we see all the files available for this kernel. The relevant libraries are also imported to process the data extracted from the dataset."
   ]
  },
  {
   "cell_type": "code",
   "execution_count": 86,
   "metadata": {},
   "outputs": [
    {
     "name": "stdout",
     "output_type": "stream",
     "text": [
      "time: 889 µs (started: 2024-05-07 14:49:03 -04:00)\n"
     ]
    }
   ],
   "source": [
    "# !pip install dias"
   ]
  },
  {
   "cell_type": "code",
   "execution_count": 87,
   "metadata": {
    "_cell_guid": "b1076dfc-b9ad-4769-8c92-a6c4dae69d19",
    "_uuid": "8f2839f25d086af736a60e9eeb907d3b93b6e0e5",
    "execution": {
     "iopub.execute_input": "2024-04-14T18:50:40.393661Z",
     "iopub.status.busy": "2024-04-14T18:50:40.393396Z",
     "iopub.status.idle": "2024-04-14T18:50:40.741955Z",
     "shell.execute_reply": "2024-04-14T18:50:40.740551Z",
     "shell.execute_reply.started": "2024-04-14T18:50:40.393630Z"
    }
   },
   "outputs": [
    {
     "name": "stdout",
     "output_type": "stream",
     "text": [
      "/home/sam/dias-benchmarks/dias-benchmarks/notebooks/gksriharsha/eda-speedtests/input/speedtest-data-by-ookla/mobile_year_2020_quarter_02.csv\n",
      "/home/sam/dias-benchmarks/dias-benchmarks/notebooks/gksriharsha/eda-speedtests/input/speedtest-data-by-ookla/mobile_year_2022_quarter_03.csv\n",
      "/home/sam/dias-benchmarks/dias-benchmarks/notebooks/gksriharsha/eda-speedtests/input/speedtest-data-by-ookla/mobile_year_2022_quarter_01.csv\n",
      "/home/sam/dias-benchmarks/dias-benchmarks/notebooks/gksriharsha/eda-speedtests/input/speedtest-data-by-ookla/mobile_year_2020_quarter_01.csv\n",
      "/home/sam/dias-benchmarks/dias-benchmarks/notebooks/gksriharsha/eda-speedtests/input/speedtest-data-by-ookla/fixed_year_2021_quarter_01.csv\n",
      "/home/sam/dias-benchmarks/dias-benchmarks/notebooks/gksriharsha/eda-speedtests/input/speedtest-data-by-ookla/fixed_year_2022_quarter_01.csv\n",
      "/home/sam/dias-benchmarks/dias-benchmarks/notebooks/gksriharsha/eda-speedtests/input/speedtest-data-by-ookla/fixed_year_2020_quarter_02.csv\n",
      "/home/sam/dias-benchmarks/dias-benchmarks/notebooks/gksriharsha/eda-speedtests/input/speedtest-data-by-ookla/mobile_year_2021_quarter_04.csv\n",
      "/home/sam/dias-benchmarks/dias-benchmarks/notebooks/gksriharsha/eda-speedtests/input/speedtest-data-by-ookla/fixed_year_2020_quarter_03.csv\n",
      "/home/sam/dias-benchmarks/dias-benchmarks/notebooks/gksriharsha/eda-speedtests/input/speedtest-data-by-ookla/fixed_year_2020_quarter_01.csv\n",
      "/home/sam/dias-benchmarks/dias-benchmarks/notebooks/gksriharsha/eda-speedtests/input/speedtest-data-by-ookla/mobile_year_2020_quarter_03.csv\n",
      "/home/sam/dias-benchmarks/dias-benchmarks/notebooks/gksriharsha/eda-speedtests/input/speedtest-data-by-ookla/mobile_year_2020_quarter_04.csv\n",
      "/home/sam/dias-benchmarks/dias-benchmarks/notebooks/gksriharsha/eda-speedtests/input/speedtest-data-by-ookla/fixed_year_2022_quarter_03.csv\n",
      "/home/sam/dias-benchmarks/dias-benchmarks/notebooks/gksriharsha/eda-speedtests/input/speedtest-data-by-ookla/mobile_year_2021_quarter_01.csv\n",
      "/home/sam/dias-benchmarks/dias-benchmarks/notebooks/gksriharsha/eda-speedtests/input/speedtest-data-by-ookla/fixed_year_2021_quarter_04.csv\n",
      "/home/sam/dias-benchmarks/dias-benchmarks/notebooks/gksriharsha/eda-speedtests/input/speedtest-data-by-ookla/fixed_year_2020_quarter_04.csv\n",
      "/home/sam/dias-benchmarks/dias-benchmarks/notebooks/gksriharsha/eda-speedtests/input/speedtest-data-by-ookla/fixed_year_2022_quarter_02.csv\n",
      "/home/sam/dias-benchmarks/dias-benchmarks/notebooks/gksriharsha/eda-speedtests/input/speedtest-data-by-ookla/mobile_year_2021_quarter_02.csv\n",
      "/home/sam/dias-benchmarks/dias-benchmarks/notebooks/gksriharsha/eda-speedtests/input/speedtest-data-by-ookla/mobile_year_2022_quarter_02.csv\n",
      "/home/sam/dias-benchmarks/dias-benchmarks/notebooks/gksriharsha/eda-speedtests/input/speedtest-data-by-ookla/fixed_year_2021_quarter_02.csv\n",
      "/home/sam/dias-benchmarks/dias-benchmarks/notebooks/gksriharsha/eda-speedtests/input/speedtest-data-by-ookla/mobile_year_2021_quarter_03.csv\n",
      "/home/sam/dias-benchmarks/dias-benchmarks/notebooks/gksriharsha/eda-speedtests/input/speedtest-data-by-ookla/fixed_year_2021_quarter_03.csv\n",
      "time: 17.2 ms (started: 2024-05-07 14:49:03 -04:00)\n"
     ]
    }
   ],
   "source": [
    "# This Python 3 environment comes with many helpful analytics libraries installed\n",
    "# It is defined by the kaggle/python Docker image: https://github.com/kaggle/docker-python\n",
    "# For example, here's several helpful packages to load\n",
    "\n",
    "import numpy as np # linear algebra\n",
    "import os\n",
    "# STEFANOS: Conditionally import Modin Pandas\n",
    "if \"IREWR_WITH_MODIN\" in os.environ and os.environ[\"IREWR_WITH_MODIN\"] == \"True\":\n",
    "    # STEFANOS: Import Modin Pandas\n",
    "    import os\n",
    "    os.environ[\"MODIN_ENGINE\"] = \"ray\"\n",
    "    import ray\n",
    "    ray.init(num_cpus=int(os.environ['MODIN_CPUS']), runtime_env={'env_vars': {'__MODIN_AUTOIMPORT_PANDAS__': '1'}})\n",
    "    import modin.pandas as pd\n",
    "else:\n",
    "    # STEFANOS: Import regular Pandas\n",
    "    import pandas as pd\n",
    "import regex as re # For String searches\n",
    "# import plotly.graph_objects as go\n",
    "# import plotly.express as px\n",
    "# Input data files are available in the read-only \"input/\" directory\n",
    "# For example, running this (by clicking run or pressing Shift+Enter) will list all files under the input directory\n",
    "\n",
    "import os\n",
    "for dirname, _, filenames in os.walk(os.path.abspath('') +'/input'):\n",
    "    for filename in filenames:\n",
    "        print(os.path.join(dirname, filename))\n",
    "\n",
    "# You can write up to 20GB to the current directory (/kaggle/working/) that gets preserved as output when you create a version using \"Save & Run All\" \n",
    "# You can also write temporary files to /kaggle/temp/, but they won't be saved outside of the current session"
   ]
  },
  {
   "cell_type": "code",
   "execution_count": 88,
   "metadata": {
    "execution": {
     "iopub.execute_input": "2024-04-14T18:50:40.754111Z",
     "iopub.status.busy": "2024-04-14T18:50:40.753554Z",
     "iopub.status.idle": "2024-04-14T18:50:40.786258Z",
     "shell.execute_reply": "2024-04-14T18:50:40.771485Z",
     "shell.execute_reply.started": "2024-04-14T18:50:40.754089Z"
    }
   },
   "outputs": [
    {
     "data": {
      "text/html": [
       "<div>\n",
       "<style scoped>\n",
       "    .dataframe tbody tr th:only-of-type {\n",
       "        vertical-align: middle;\n",
       "    }\n",
       "\n",
       "    .dataframe tbody tr th {\n",
       "        vertical-align: top;\n",
       "    }\n",
       "\n",
       "    .dataframe thead th {\n",
       "        text-align: right;\n",
       "    }\n",
       "</style>\n",
       "<table border=\"1\" class=\"dataframe\">\n",
       "  <thead>\n",
       "    <tr style=\"text-align: right;\">\n",
       "      <th></th>\n",
       "      <th>Name</th>\n",
       "      <th>Number of Records</th>\n",
       "      <th>Devices</th>\n",
       "      <th>Tests</th>\n",
       "      <th>Avg. Avg U Kbps</th>\n",
       "      <th>Avg. Avg D Kbps</th>\n",
       "      <th>Avg Lat Ms</th>\n",
       "      <th>Avg. Pop2005</th>\n",
       "      <th>Rank Upload</th>\n",
       "      <th>Rank Download</th>\n",
       "      <th>Rank Latency</th>\n",
       "    </tr>\n",
       "  </thead>\n",
       "  <tbody>\n",
       "    <tr>\n",
       "      <th>0</th>\n",
       "      <td>Afghanistan</td>\n",
       "      <td>897</td>\n",
       "      <td>2,312</td>\n",
       "      <td>9,003</td>\n",
       "      <td>3,983</td>\n",
       "      <td>4,823</td>\n",
       "      <td>70</td>\n",
       "      <td>25,067,407</td>\n",
       "      <td>217</td>\n",
       "      <td>231</td>\n",
       "      <td>33</td>\n",
       "    </tr>\n",
       "    <tr>\n",
       "      <th>1</th>\n",
       "      <td>Åland Islands</td>\n",
       "      <td>284</td>\n",
       "      <td>580</td>\n",
       "      <td>1,341</td>\n",
       "      <td>58,693</td>\n",
       "      <td>82,767</td>\n",
       "      <td>11</td>\n",
       "      <td>0</td>\n",
       "      <td>27</td>\n",
       "      <td>47</td>\n",
       "      <td>215</td>\n",
       "    </tr>\n",
       "    <tr>\n",
       "      <th>2</th>\n",
       "      <td>Albania</td>\n",
       "      <td>7,215</td>\n",
       "      <td>38,905</td>\n",
       "      <td>104,752</td>\n",
       "      <td>17,354</td>\n",
       "      <td>25,803</td>\n",
       "      <td>20</td>\n",
       "      <td>3,153,731</td>\n",
       "      <td>100</td>\n",
       "      <td>127</td>\n",
       "      <td>159</td>\n",
       "    </tr>\n",
       "    <tr>\n",
       "      <th>3</th>\n",
       "      <td>Algeria</td>\n",
       "      <td>16,056</td>\n",
       "      <td>70,929</td>\n",
       "      <td>413,666</td>\n",
       "      <td>1,508</td>\n",
       "      <td>9,057</td>\n",
       "      <td>43</td>\n",
       "      <td>32,854,159</td>\n",
       "      <td>234</td>\n",
       "      <td>211</td>\n",
       "      <td>68</td>\n",
       "    </tr>\n",
       "    <tr>\n",
       "      <th>4</th>\n",
       "      <td>American Samoa</td>\n",
       "      <td>80</td>\n",
       "      <td>202</td>\n",
       "      <td>900</td>\n",
       "      <td>14,345</td>\n",
       "      <td>33,078</td>\n",
       "      <td>18</td>\n",
       "      <td>64,051</td>\n",
       "      <td>119</td>\n",
       "      <td>104</td>\n",
       "      <td>171</td>\n",
       "    </tr>\n",
       "  </tbody>\n",
       "</table>\n",
       "</div>"
      ],
      "text/plain": [
       "             Name Number of Records Devices    Tests Avg. Avg U Kbps  \\\n",
       "0     Afghanistan               897   2,312    9,003           3,983   \n",
       "1   Åland Islands               284     580    1,341          58,693   \n",
       "2         Albania             7,215  38,905  104,752          17,354   \n",
       "3         Algeria            16,056  70,929  413,666           1,508   \n",
       "4  American Samoa                80     202      900          14,345   \n",
       "\n",
       "  Avg. Avg D Kbps  Avg Lat Ms Avg. Pop2005  Rank Upload  Rank Download  \\\n",
       "0           4,823          70   25,067,407          217            231   \n",
       "1          82,767          11            0           27             47   \n",
       "2          25,803          20    3,153,731          100            127   \n",
       "3           9,057          43   32,854,159          234            211   \n",
       "4          33,078          18       64,051          119            104   \n",
       "\n",
       "   Rank Latency  \n",
       "0            33  \n",
       "1           215  \n",
       "2           159  \n",
       "3            68  \n",
       "4           171  "
      ]
     },
     "execution_count": 88,
     "metadata": {},
     "output_type": "execute_result"
    },
    {
     "name": "stdout",
     "output_type": "stream",
     "text": [
      "time: 146 ms (started: 2024-05-07 14:49:03 -04:00)\n"
     ]
    }
   ],
   "source": [
    "data = pd.read_csv('./input/speedtest-data-by-ookla/fixed_year_2021_quarter_03.csv')\n",
    "data.head()"
   ]
  },
  {
   "cell_type": "code",
   "execution_count": 89,
   "metadata": {
    "execution": {
     "iopub.execute_input": "2024-04-14T18:50:40.788913Z",
     "iopub.status.busy": "2024-04-14T18:50:40.788738Z",
     "iopub.status.idle": "2024-04-14T18:50:40.799119Z",
     "shell.execute_reply": "2024-04-14T18:50:40.798518Z",
     "shell.execute_reply.started": "2024-04-14T18:50:40.788901Z"
    }
   },
   "outputs": [
    {
     "name": "stdout",
     "output_type": "stream",
     "text": [
      "time: 297 µs (started: 2024-05-07 14:49:03 -04:00)\n"
     ]
    }
   ],
   "source": [
    "# data.info()"
   ]
  },
  {
   "cell_type": "code",
   "execution_count": 90,
   "metadata": {
    "execution": {
     "iopub.execute_input": "2024-04-14T18:50:40.799844Z",
     "iopub.status.busy": "2024-04-14T18:50:40.799720Z",
     "iopub.status.idle": "2024-04-14T18:50:40.852841Z",
     "shell.execute_reply": "2024-04-14T18:50:40.852466Z",
     "shell.execute_reply.started": "2024-04-14T18:50:40.799832Z"
    }
   },
   "outputs": [
    {
     "name": "stdout",
     "output_type": "stream",
     "text": [
      "(2597, 13)\n",
      "(2487, 13)\n",
      "time: 193 ms (started: 2024-05-07 14:49:03 -04:00)\n"
     ]
    },
    {
     "name": "stderr",
     "output_type": "stream",
     "text": [
      "/tmp/ipykernel_12645/2027441289.py:17: FutureWarning: The behavior of DataFrame concatenation with empty or all-NA entries is deprecated. In a future version, this will no longer exclude empty or all-NA columns when determining the result dtypes. To retain the old behavior, exclude the relevant entries before the concat operation.\n",
      "  Mobile_df = pd.concat([Mobile_df,data])\n",
      "/tmp/ipykernel_12645/2027441289.py:19: FutureWarning: The behavior of DataFrame concatenation with empty or all-NA entries is deprecated. In a future version, this will no longer exclude empty or all-NA columns when determining the result dtypes. To retain the old behavior, exclude the relevant entries before the concat operation.\n",
      "  Broadband_df = pd.concat([Broadband_df,data])\n"
     ]
    }
   ],
   "source": [
    "Mobile_df = pd.DataFrame([],columns=data.columns)\n",
    "Broadband_df = pd.DataFrame([],columns=data.columns)\n",
    "\n",
    "def col_name_corrections(df,correction_pair):\n",
    "    if set(df.columns).intersection(set(correction_pair.keys())):\n",
    "        df.rename(columns=correction_pair,inplace=True)\n",
    "    return df\n",
    "\n",
    "for dirname, _, filenames in os.walk('./input'):\n",
    "    for filename in filenames:\n",
    "        meta_info = filename.split('/')[-1]\n",
    "        data = pd.read_csv(dirname+'/'+filename,thousands=r',').convert_dtypes()\n",
    "        data = col_name_corrections(data,{'Number of Record':'Number of Records'})\n",
    "        data['Year'] = np.int64(re.search('year_(.*)_quarter',meta_info).group(1))\n",
    "        data['Quarter'] = np.int64(re.search('quarter_(.*).csv',meta_info).group(1))\n",
    "        if 'mobile' in meta_info:\n",
    "            Mobile_df = pd.concat([Mobile_df,data])\n",
    "        else:\n",
    "            Broadband_df = pd.concat([Broadband_df,data]) \n",
    "print(Broadband_df.shape)\n",
    "print(Mobile_df.shape)\n",
    "Mobile_df = Mobile_df.astype({'Year':np.int64,'Quarter':np.int64})\n",
    "Broadband_df = Broadband_df.astype({'Year':np.int64,'Quarter':np.int64})\n",
    "Mobile_df.sort_values(by=['Year','Quarter'],ascending=[True,True],inplace=True)\n",
    "Broadband_df.sort_values(by=['Year','Quarter'],ascending=[True,True],inplace=True)"
   ]
  },
  {
   "cell_type": "markdown",
   "metadata": {},
   "source": [
    "It can be seen that there are more broadband rows than Mobile rows. This is a point that should be noted each row corresponds to a country's statistics in the particular year and quarter. Missing data indicates lack of speed test data from the country."
   ]
  },
  {
   "cell_type": "code",
   "execution_count": 91,
   "metadata": {
    "execution": {
     "iopub.execute_input": "2024-04-14T18:50:40.853727Z",
     "iopub.status.busy": "2024-04-14T18:50:40.853588Z",
     "iopub.status.idle": "2024-04-14T18:50:40.858111Z",
     "shell.execute_reply": "2024-04-14T18:50:40.857766Z",
     "shell.execute_reply.started": "2024-04-14T18:50:40.853715Z"
    }
   },
   "outputs": [
    {
     "name": "stdout",
     "output_type": "stream",
     "text": [
      "time: 278 µs (started: 2024-05-07 14:49:03 -04:00)\n"
     ]
    }
   ],
   "source": [
    "# Mobile_df.info()"
   ]
  },
  {
   "cell_type": "markdown",
   "metadata": {},
   "source": [
    "# -- STEFANOS -- Replicate Data"
   ]
  },
  {
   "cell_type": "code",
   "execution_count": 92,
   "metadata": {
    "execution": {
     "iopub.execute_input": "2024-04-14T18:50:40.859016Z",
     "iopub.status.busy": "2024-04-14T18:50:40.858752Z",
     "iopub.status.idle": "2024-04-14T18:50:41.184187Z",
     "shell.execute_reply": "2024-04-14T18:50:41.183803Z",
     "shell.execute_reply.started": "2024-04-14T18:50:40.858995Z"
    }
   },
   "outputs": [
    {
     "name": "stdout",
     "output_type": "stream",
     "text": [
      "time: 971 ms (started: 2024-05-07 14:49:03 -04:00)\n"
     ]
    }
   ],
   "source": [
    "factor = 2000\n",
    "Mobile_df = pd.concat([Mobile_df]*factor, ignore_index=True)\n",
    "# Mobile_df.info()"
   ]
  },
  {
   "cell_type": "code",
   "execution_count": 93,
   "metadata": {
    "execution": {
     "iopub.execute_input": "2024-04-14T18:50:41.184822Z",
     "iopub.status.busy": "2024-04-14T18:50:41.184716Z",
     "iopub.status.idle": "2024-04-14T18:50:41.317801Z",
     "shell.execute_reply": "2024-04-14T18:50:41.317405Z",
     "shell.execute_reply.started": "2024-04-14T18:50:41.184811Z"
    }
   },
   "outputs": [
    {
     "name": "stdout",
     "output_type": "stream",
     "text": [
      "time: 161 ms (started: 2024-05-07 14:49:04 -04:00)\n"
     ]
    }
   ],
   "source": [
    "factor = 1000\n",
    "Broadband_df = pd.concat([Broadband_df]*factor, ignore_index=True)\n",
    "# Broadband_df.info()"
   ]
  },
  {
   "cell_type": "code",
   "execution_count": 94,
   "metadata": {
    "execution": {
     "iopub.execute_input": "2024-04-14T18:50:41.318841Z",
     "iopub.status.busy": "2024-04-14T18:50:41.318701Z",
     "iopub.status.idle": "2024-04-14T18:50:41.334132Z",
     "shell.execute_reply": "2024-04-14T18:50:41.333609Z",
     "shell.execute_reply.started": "2024-04-14T18:50:41.318829Z"
    }
   },
   "outputs": [
    {
     "data": {
      "text/html": [
       "<div>\n",
       "<style scoped>\n",
       "    .dataframe tbody tr th:only-of-type {\n",
       "        vertical-align: middle;\n",
       "    }\n",
       "\n",
       "    .dataframe tbody tr th {\n",
       "        vertical-align: top;\n",
       "    }\n",
       "\n",
       "    .dataframe thead th {\n",
       "        text-align: right;\n",
       "    }\n",
       "</style>\n",
       "<table border=\"1\" class=\"dataframe\">\n",
       "  <thead>\n",
       "    <tr style=\"text-align: right;\">\n",
       "      <th></th>\n",
       "      <th>Name</th>\n",
       "      <th>Number of Records</th>\n",
       "      <th>Devices</th>\n",
       "      <th>Tests</th>\n",
       "      <th>Avg. Avg U Kbps</th>\n",
       "      <th>Avg. Avg D Kbps</th>\n",
       "      <th>Avg Lat Ms</th>\n",
       "      <th>Avg. Pop2005</th>\n",
       "      <th>Rank Upload</th>\n",
       "      <th>Rank Download</th>\n",
       "      <th>Rank Latency</th>\n",
       "      <th>Year</th>\n",
       "      <th>Quarter</th>\n",
       "    </tr>\n",
       "  </thead>\n",
       "  <tbody>\n",
       "    <tr>\n",
       "      <th>0</th>\n",
       "      <td>Afghanistan</td>\n",
       "      <td>789</td>\n",
       "      <td>1241</td>\n",
       "      <td>3541</td>\n",
       "      <td>3099</td>\n",
       "      <td>6387</td>\n",
       "      <td>70</td>\n",
       "      <td>25067407</td>\n",
       "      <td>220</td>\n",
       "      <td>220</td>\n",
       "      <td>32</td>\n",
       "      <td>2020</td>\n",
       "      <td>1</td>\n",
       "    </tr>\n",
       "    <tr>\n",
       "      <th>1</th>\n",
       "      <td>Albania</td>\n",
       "      <td>1626</td>\n",
       "      <td>4513</td>\n",
       "      <td>7228</td>\n",
       "      <td>11414</td>\n",
       "      <td>40238</td>\n",
       "      <td>26</td>\n",
       "      <td>3153731</td>\n",
       "      <td>75</td>\n",
       "      <td>42</td>\n",
       "      <td>197</td>\n",
       "      <td>2020</td>\n",
       "      <td>1</td>\n",
       "    </tr>\n",
       "    <tr>\n",
       "      <th>2</th>\n",
       "      <td>Algeria</td>\n",
       "      <td>14174</td>\n",
       "      <td>48699</td>\n",
       "      <td>124160</td>\n",
       "      <td>6150</td>\n",
       "      <td>7724</td>\n",
       "      <td>65</td>\n",
       "      <td>32854159</td>\n",
       "      <td>197</td>\n",
       "      <td>213</td>\n",
       "      <td>35</td>\n",
       "      <td>2020</td>\n",
       "      <td>1</td>\n",
       "    </tr>\n",
       "    <tr>\n",
       "      <th>3</th>\n",
       "      <td>American Samoa</td>\n",
       "      <td>23</td>\n",
       "      <td>33</td>\n",
       "      <td>63</td>\n",
       "      <td>8488</td>\n",
       "      <td>22792</td>\n",
       "      <td>62</td>\n",
       "      <td>64051</td>\n",
       "      <td>156</td>\n",
       "      <td>111</td>\n",
       "      <td>38</td>\n",
       "      <td>2020</td>\n",
       "      <td>1</td>\n",
       "    </tr>\n",
       "    <tr>\n",
       "      <th>4</th>\n",
       "      <td>Andorra</td>\n",
       "      <td>45</td>\n",
       "      <td>83</td>\n",
       "      <td>110</td>\n",
       "      <td>18160</td>\n",
       "      <td>72764</td>\n",
       "      <td>39</td>\n",
       "      <td>73483</td>\n",
       "      <td>9</td>\n",
       "      <td>6</td>\n",
       "      <td>112</td>\n",
       "      <td>2020</td>\n",
       "      <td>1</td>\n",
       "    </tr>\n",
       "  </tbody>\n",
       "</table>\n",
       "</div>"
      ],
      "text/plain": [
       "             Name  Number of Records  Devices   Tests  Avg. Avg U Kbps  \\\n",
       "0     Afghanistan                789     1241    3541             3099   \n",
       "1         Albania               1626     4513    7228            11414   \n",
       "2         Algeria              14174    48699  124160             6150   \n",
       "3  American Samoa                 23       33      63             8488   \n",
       "4         Andorra                 45       83     110            18160   \n",
       "\n",
       "   Avg. Avg D Kbps  Avg Lat Ms  Avg. Pop2005  Rank Upload  Rank Download  \\\n",
       "0             6387          70      25067407          220            220   \n",
       "1            40238          26       3153731           75             42   \n",
       "2             7724          65      32854159          197            213   \n",
       "3            22792          62         64051          156            111   \n",
       "4            72764          39         73483            9              6   \n",
       "\n",
       "   Rank Latency  Year  Quarter  \n",
       "0            32  2020        1  \n",
       "1           197  2020        1  \n",
       "2            35  2020        1  \n",
       "3            38  2020        1  \n",
       "4           112  2020        1  "
      ]
     },
     "execution_count": 94,
     "metadata": {},
     "output_type": "execute_result"
    },
    {
     "name": "stdout",
     "output_type": "stream",
     "text": [
      "time: 6.07 ms (started: 2024-05-07 14:49:04 -04:00)\n"
     ]
    }
   ],
   "source": [
    "Mobile_df.head()"
   ]
  },
  {
   "cell_type": "code",
   "execution_count": 95,
   "metadata": {
    "execution": {
     "iopub.execute_input": "2024-04-14T18:50:41.335365Z",
     "iopub.status.busy": "2024-04-14T18:50:41.335155Z",
     "iopub.status.idle": "2024-04-14T18:50:41.528072Z",
     "shell.execute_reply": "2024-04-14T18:50:41.527631Z",
     "shell.execute_reply.started": "2024-04-14T18:50:41.335347Z"
    }
   },
   "outputs": [
    {
     "data": {
      "text/html": [
       "<div>\n",
       "<style scoped>\n",
       "    .dataframe tbody tr th:only-of-type {\n",
       "        vertical-align: middle;\n",
       "    }\n",
       "\n",
       "    .dataframe tbody tr th {\n",
       "        vertical-align: top;\n",
       "    }\n",
       "\n",
       "    .dataframe thead th {\n",
       "        text-align: right;\n",
       "    }\n",
       "</style>\n",
       "<table border=\"1\" class=\"dataframe\">\n",
       "  <thead>\n",
       "    <tr style=\"text-align: right;\">\n",
       "      <th></th>\n",
       "      <th>Number of Records</th>\n",
       "      <th>Devices</th>\n",
       "      <th>Tests</th>\n",
       "      <th>Avg. Avg U Kbps</th>\n",
       "      <th>Avg. Avg D Kbps</th>\n",
       "      <th>Avg Lat Ms</th>\n",
       "      <th>Avg. Pop2005</th>\n",
       "      <th>Rank Upload</th>\n",
       "      <th>Rank Download</th>\n",
       "      <th>Rank Latency</th>\n",
       "      <th>Year</th>\n",
       "      <th>Quarter</th>\n",
       "    </tr>\n",
       "    <tr>\n",
       "      <th>Name</th>\n",
       "      <th></th>\n",
       "      <th></th>\n",
       "      <th></th>\n",
       "      <th></th>\n",
       "      <th></th>\n",
       "      <th></th>\n",
       "      <th></th>\n",
       "      <th></th>\n",
       "      <th></th>\n",
       "      <th></th>\n",
       "      <th></th>\n",
       "      <th></th>\n",
       "    </tr>\n",
       "  </thead>\n",
       "  <tbody>\n",
       "    <tr>\n",
       "      <th>Afghanistan</th>\n",
       "      <td>11000</td>\n",
       "      <td>11000</td>\n",
       "      <td>11000</td>\n",
       "      <td>11000</td>\n",
       "      <td>11000</td>\n",
       "      <td>11000</td>\n",
       "      <td>11000</td>\n",
       "      <td>11000</td>\n",
       "      <td>11000</td>\n",
       "      <td>11000</td>\n",
       "      <td>11000</td>\n",
       "      <td>11000</td>\n",
       "    </tr>\n",
       "    <tr>\n",
       "      <th>Albania</th>\n",
       "      <td>11000</td>\n",
       "      <td>11000</td>\n",
       "      <td>11000</td>\n",
       "      <td>11000</td>\n",
       "      <td>11000</td>\n",
       "      <td>11000</td>\n",
       "      <td>11000</td>\n",
       "      <td>11000</td>\n",
       "      <td>11000</td>\n",
       "      <td>11000</td>\n",
       "      <td>11000</td>\n",
       "      <td>11000</td>\n",
       "    </tr>\n",
       "    <tr>\n",
       "      <th>Algeria</th>\n",
       "      <td>11000</td>\n",
       "      <td>11000</td>\n",
       "      <td>11000</td>\n",
       "      <td>11000</td>\n",
       "      <td>11000</td>\n",
       "      <td>11000</td>\n",
       "      <td>11000</td>\n",
       "      <td>11000</td>\n",
       "      <td>11000</td>\n",
       "      <td>11000</td>\n",
       "      <td>11000</td>\n",
       "      <td>11000</td>\n",
       "    </tr>\n",
       "    <tr>\n",
       "      <th>American Samoa</th>\n",
       "      <td>11000</td>\n",
       "      <td>11000</td>\n",
       "      <td>11000</td>\n",
       "      <td>11000</td>\n",
       "      <td>11000</td>\n",
       "      <td>11000</td>\n",
       "      <td>11000</td>\n",
       "      <td>11000</td>\n",
       "      <td>11000</td>\n",
       "      <td>11000</td>\n",
       "      <td>11000</td>\n",
       "      <td>11000</td>\n",
       "    </tr>\n",
       "    <tr>\n",
       "      <th>Andorra</th>\n",
       "      <td>11000</td>\n",
       "      <td>11000</td>\n",
       "      <td>11000</td>\n",
       "      <td>11000</td>\n",
       "      <td>11000</td>\n",
       "      <td>11000</td>\n",
       "      <td>11000</td>\n",
       "      <td>11000</td>\n",
       "      <td>11000</td>\n",
       "      <td>11000</td>\n",
       "      <td>11000</td>\n",
       "      <td>11000</td>\n",
       "    </tr>\n",
       "  </tbody>\n",
       "</table>\n",
       "</div>"
      ],
      "text/plain": [
       "                Number of Records  Devices  Tests  Avg. Avg U Kbps  \\\n",
       "Name                                                                 \n",
       "Afghanistan                 11000    11000  11000            11000   \n",
       "Albania                     11000    11000  11000            11000   \n",
       "Algeria                     11000    11000  11000            11000   \n",
       "American Samoa              11000    11000  11000            11000   \n",
       "Andorra                     11000    11000  11000            11000   \n",
       "\n",
       "                Avg. Avg D Kbps  Avg Lat Ms  Avg. Pop2005  Rank Upload  \\\n",
       "Name                                                                     \n",
       "Afghanistan               11000       11000         11000        11000   \n",
       "Albania                   11000       11000         11000        11000   \n",
       "Algeria                   11000       11000         11000        11000   \n",
       "American Samoa            11000       11000         11000        11000   \n",
       "Andorra                   11000       11000         11000        11000   \n",
       "\n",
       "                Rank Download  Rank Latency   Year  Quarter  \n",
       "Name                                                         \n",
       "Afghanistan             11000         11000  11000    11000  \n",
       "Albania                 11000         11000  11000    11000  \n",
       "Algeria                 11000         11000  11000    11000  \n",
       "American Samoa          11000         11000  11000    11000  \n",
       "Andorra                 11000         11000  11000    11000  "
      ]
     },
     "execution_count": 95,
     "metadata": {},
     "output_type": "execute_result"
    },
    {
     "name": "stdout",
     "output_type": "stream",
     "text": [
      "time: 167 ms (started: 2024-05-07 14:49:04 -04:00)\n"
     ]
    }
   ],
   "source": [
    "unique_countries_broadband = Broadband_df.groupby('Name').count()\n",
    "unique_countries_broadband.head()"
   ]
  },
  {
   "cell_type": "code",
   "execution_count": 96,
   "metadata": {
    "execution": {
     "iopub.execute_input": "2024-04-14T18:50:41.529098Z",
     "iopub.status.busy": "2024-04-14T18:50:41.528829Z",
     "iopub.status.idle": "2024-04-14T18:50:41.903292Z",
     "shell.execute_reply": "2024-04-14T18:50:41.902757Z",
     "shell.execute_reply.started": "2024-04-14T18:50:41.529085Z"
    }
   },
   "outputs": [
    {
     "data": {
      "text/html": [
       "<div>\n",
       "<style scoped>\n",
       "    .dataframe tbody tr th:only-of-type {\n",
       "        vertical-align: middle;\n",
       "    }\n",
       "\n",
       "    .dataframe tbody tr th {\n",
       "        vertical-align: top;\n",
       "    }\n",
       "\n",
       "    .dataframe thead th {\n",
       "        text-align: right;\n",
       "    }\n",
       "</style>\n",
       "<table border=\"1\" class=\"dataframe\">\n",
       "  <thead>\n",
       "    <tr style=\"text-align: right;\">\n",
       "      <th></th>\n",
       "      <th>Number of Records</th>\n",
       "      <th>Devices</th>\n",
       "      <th>Tests</th>\n",
       "      <th>Avg. Avg U Kbps</th>\n",
       "      <th>Avg. Avg D Kbps</th>\n",
       "      <th>Avg Lat Ms</th>\n",
       "      <th>Avg. Pop2005</th>\n",
       "      <th>Rank Upload</th>\n",
       "      <th>Rank Download</th>\n",
       "      <th>Rank Latency</th>\n",
       "      <th>Year</th>\n",
       "      <th>Quarter</th>\n",
       "    </tr>\n",
       "    <tr>\n",
       "      <th>Name</th>\n",
       "      <th></th>\n",
       "      <th></th>\n",
       "      <th></th>\n",
       "      <th></th>\n",
       "      <th></th>\n",
       "      <th></th>\n",
       "      <th></th>\n",
       "      <th></th>\n",
       "      <th></th>\n",
       "      <th></th>\n",
       "      <th></th>\n",
       "      <th></th>\n",
       "    </tr>\n",
       "  </thead>\n",
       "  <tbody>\n",
       "    <tr>\n",
       "      <th>Afghanistan</th>\n",
       "      <td>22000</td>\n",
       "      <td>22000</td>\n",
       "      <td>22000</td>\n",
       "      <td>22000</td>\n",
       "      <td>22000</td>\n",
       "      <td>22000</td>\n",
       "      <td>22000</td>\n",
       "      <td>22000</td>\n",
       "      <td>22000</td>\n",
       "      <td>22000</td>\n",
       "      <td>22000</td>\n",
       "      <td>22000</td>\n",
       "    </tr>\n",
       "    <tr>\n",
       "      <th>Albania</th>\n",
       "      <td>22000</td>\n",
       "      <td>22000</td>\n",
       "      <td>22000</td>\n",
       "      <td>22000</td>\n",
       "      <td>22000</td>\n",
       "      <td>22000</td>\n",
       "      <td>22000</td>\n",
       "      <td>22000</td>\n",
       "      <td>22000</td>\n",
       "      <td>22000</td>\n",
       "      <td>22000</td>\n",
       "      <td>22000</td>\n",
       "    </tr>\n",
       "    <tr>\n",
       "      <th>Algeria</th>\n",
       "      <td>22000</td>\n",
       "      <td>22000</td>\n",
       "      <td>22000</td>\n",
       "      <td>22000</td>\n",
       "      <td>22000</td>\n",
       "      <td>22000</td>\n",
       "      <td>22000</td>\n",
       "      <td>22000</td>\n",
       "      <td>22000</td>\n",
       "      <td>22000</td>\n",
       "      <td>22000</td>\n",
       "      <td>22000</td>\n",
       "    </tr>\n",
       "    <tr>\n",
       "      <th>American Samoa</th>\n",
       "      <td>22000</td>\n",
       "      <td>22000</td>\n",
       "      <td>22000</td>\n",
       "      <td>22000</td>\n",
       "      <td>22000</td>\n",
       "      <td>22000</td>\n",
       "      <td>22000</td>\n",
       "      <td>22000</td>\n",
       "      <td>22000</td>\n",
       "      <td>22000</td>\n",
       "      <td>22000</td>\n",
       "      <td>22000</td>\n",
       "    </tr>\n",
       "    <tr>\n",
       "      <th>Andorra</th>\n",
       "      <td>22000</td>\n",
       "      <td>22000</td>\n",
       "      <td>22000</td>\n",
       "      <td>22000</td>\n",
       "      <td>22000</td>\n",
       "      <td>22000</td>\n",
       "      <td>22000</td>\n",
       "      <td>22000</td>\n",
       "      <td>22000</td>\n",
       "      <td>22000</td>\n",
       "      <td>22000</td>\n",
       "      <td>22000</td>\n",
       "    </tr>\n",
       "  </tbody>\n",
       "</table>\n",
       "</div>"
      ],
      "text/plain": [
       "                Number of Records  Devices  Tests  Avg. Avg U Kbps  \\\n",
       "Name                                                                 \n",
       "Afghanistan                 22000    22000  22000            22000   \n",
       "Albania                     22000    22000  22000            22000   \n",
       "Algeria                     22000    22000  22000            22000   \n",
       "American Samoa              22000    22000  22000            22000   \n",
       "Andorra                     22000    22000  22000            22000   \n",
       "\n",
       "                Avg. Avg D Kbps  Avg Lat Ms  Avg. Pop2005  Rank Upload  \\\n",
       "Name                                                                     \n",
       "Afghanistan               22000       22000         22000        22000   \n",
       "Albania                   22000       22000         22000        22000   \n",
       "Algeria                   22000       22000         22000        22000   \n",
       "American Samoa            22000       22000         22000        22000   \n",
       "Andorra                   22000       22000         22000        22000   \n",
       "\n",
       "                Rank Download  Rank Latency   Year  Quarter  \n",
       "Name                                                         \n",
       "Afghanistan             22000         22000  22000    22000  \n",
       "Albania                 22000         22000  22000    22000  \n",
       "Algeria                 22000         22000  22000    22000  \n",
       "American Samoa          22000         22000  22000    22000  \n",
       "Andorra                 22000         22000  22000    22000  "
      ]
     },
     "execution_count": 96,
     "metadata": {},
     "output_type": "execute_result"
    },
    {
     "name": "stdout",
     "output_type": "stream",
     "text": [
      "time: 312 ms (started: 2024-05-07 14:49:05 -04:00)\n"
     ]
    }
   ],
   "source": [
    "unique_countries_mobile = Mobile_df.groupby('Name').count()\n",
    "unique_countries_mobile.head()"
   ]
  },
  {
   "cell_type": "markdown",
   "metadata": {},
   "source": [
    "## Insights\n",
    "\n",
    "The following countries do have mobile speedtest data for all the years and quarters, thereby making less than 10 reports (one per quarter)."
   ]
  },
  {
   "cell_type": "code",
   "execution_count": 97,
   "metadata": {
    "execution": {
     "iopub.execute_input": "2024-04-14T18:50:41.903880Z",
     "iopub.status.busy": "2024-04-14T18:50:41.903776Z",
     "iopub.status.idle": "2024-04-14T18:50:42.015400Z",
     "shell.execute_reply": "2024-04-14T18:50:42.014928Z",
     "shell.execute_reply.started": "2024-04-14T18:50:41.903869Z"
    }
   },
   "outputs": [
    {
     "data": {
      "text/plain": [
       "Name                 False\n",
       "Number of Records    False\n",
       "Devices              False\n",
       "Tests                False\n",
       "Avg. Avg U Kbps      False\n",
       "Avg. Avg D Kbps      False\n",
       "Avg Lat Ms           False\n",
       "Avg. Pop2005         False\n",
       "Rank Upload          False\n",
       "Rank Download        False\n",
       "Rank Latency         False\n",
       "Year                 False\n",
       "Quarter              False\n",
       "dtype: bool"
      ]
     },
     "execution_count": 97,
     "metadata": {},
     "output_type": "execute_result"
    },
    {
     "name": "stdout",
     "output_type": "stream",
     "text": [
      "time: 106 ms (started: 2024-05-07 14:49:05 -04:00)\n"
     ]
    }
   ],
   "source": [
    "# Check for missing values\n",
    "Mobile_df.isna().any()"
   ]
  },
  {
   "cell_type": "code",
   "execution_count": 98,
   "metadata": {
    "execution": {
     "iopub.execute_input": "2024-04-14T18:50:42.018999Z",
     "iopub.status.busy": "2024-04-14T18:50:42.018832Z",
     "iopub.status.idle": "2024-04-14T18:50:42.077392Z",
     "shell.execute_reply": "2024-04-14T18:50:42.077094Z",
     "shell.execute_reply.started": "2024-04-14T18:50:42.018986Z"
    }
   },
   "outputs": [
    {
     "data": {
      "text/plain": [
       "Name                 False\n",
       "Number of Records    False\n",
       "Devices              False\n",
       "Tests                False\n",
       "Avg. Avg U Kbps      False\n",
       "Avg. Avg D Kbps      False\n",
       "Avg Lat Ms           False\n",
       "Avg. Pop2005         False\n",
       "Rank Upload          False\n",
       "Rank Download        False\n",
       "Rank Latency         False\n",
       "Year                 False\n",
       "Quarter              False\n",
       "dtype: bool"
      ]
     },
     "execution_count": 98,
     "metadata": {},
     "output_type": "execute_result"
    },
    {
     "name": "stdout",
     "output_type": "stream",
     "text": [
      "time: 55.8 ms (started: 2024-05-07 14:49:05 -04:00)\n"
     ]
    }
   ],
   "source": [
    "Broadband_df.isna().any()"
   ]
  },
  {
   "cell_type": "code",
   "execution_count": 99,
   "metadata": {
    "execution": {
     "iopub.execute_input": "2024-04-14T18:50:42.078144Z",
     "iopub.status.busy": "2024-04-14T18:50:42.077985Z",
     "iopub.status.idle": "2024-04-14T18:50:42.082013Z",
     "shell.execute_reply": "2024-04-14T18:50:42.081534Z",
     "shell.execute_reply.started": "2024-04-14T18:50:42.078121Z"
    }
   },
   "outputs": [
    {
     "data": {
      "text/plain": [
       "Series([], Name: Year, dtype: int64)"
      ]
     },
     "execution_count": 99,
     "metadata": {},
     "output_type": "execute_result"
    },
    {
     "name": "stdout",
     "output_type": "stream",
     "text": [
      "time: 2.44 ms (started: 2024-05-07 14:49:05 -04:00)\n"
     ]
    }
   ],
   "source": [
    "unique_countries_mobile[unique_countries_mobile.Year < 10]['Year']"
   ]
  },
  {
   "cell_type": "code",
   "execution_count": 100,
   "metadata": {
    "execution": {
     "iopub.execute_input": "2024-04-14T18:50:42.082608Z",
     "iopub.status.busy": "2024-04-14T18:50:42.082491Z",
     "iopub.status.idle": "2024-04-14T18:50:42.086485Z",
     "shell.execute_reply": "2024-04-14T18:50:42.086026Z",
     "shell.execute_reply.started": "2024-04-14T18:50:42.082597Z"
    }
   },
   "outputs": [
    {
     "data": {
      "text/plain": [
       "Series([], Name: Year, dtype: int64)"
      ]
     },
     "execution_count": 100,
     "metadata": {},
     "output_type": "execute_result"
    },
    {
     "name": "stdout",
     "output_type": "stream",
     "text": [
      "time: 11.6 ms (started: 2024-05-07 14:49:05 -04:00)\n"
     ]
    }
   ],
   "source": [
    "unique_countries_broadband[unique_countries_broadband.Year < 10]['Year']"
   ]
  },
  {
   "cell_type": "markdown",
   "metadata": {},
   "source": [
    "## Raw Download Speed Visualization\n",
    "\n",
    "This visualization can be used to show change of values per country. The improvement values cannot be understood by laymen because an improvement of 50 Kbps **national average** (given) means differnt things to different countries based on economy, population, GDP, Infrastructure, etc."
   ]
  },
  {
   "cell_type": "code",
   "execution_count": null,
   "metadata": {},
   "outputs": [],
   "source": []
  },
  {
   "cell_type": "code",
   "execution_count": 101,
   "metadata": {
    "execution": {
     "iopub.execute_input": "2024-04-14T18:50:42.087629Z",
     "iopub.status.busy": "2024-04-14T18:50:42.087459Z",
     "iopub.status.idle": "2024-04-14T18:50:44.477842Z",
     "shell.execute_reply": "2024-04-14T18:50:44.477311Z",
     "shell.execute_reply.started": "2024-04-14T18:50:42.087617Z"
    }
   },
   "outputs": [
    {
     "name": "stdout",
     "output_type": "stream",
     "text": [
      "time: 2.38 s (started: 2024-05-07 14:49:05 -04:00)\n"
     ]
    }
   ],
   "source": [
    "# DIAS_VERBOSE\n",
    "Mobile_Stats = Mobile_df.groupby('Name').agg(\n",
    "    Change_Download=('Avg. Avg D Kbps', lambda x: list(x)[-1] - list(x)[0]),\n",
    "    Change_Upload=('Avg. Avg U Kbps', lambda x: list(x)[-1] - list(x)[0]),\n",
    "    Change_Latency=('Avg Lat Ms', lambda x: list(x)[-1] - list(x)[0])\n",
    ")\n",
    "Broadband_Stats = Broadband_df.groupby('Name').agg(\n",
    "    Change_Download=('Avg. Avg D Kbps', lambda x: list(x)[-1] - list(x)[0]),\n",
    "    Change_Upload=('Avg. Avg U Kbps', lambda x: list(x)[-1] - list(x)[0]),\n",
    "    Change_Latency=('Avg Lat Ms', lambda x: list(x)[-1] - list(x)[0])\n",
    ")\n",
    "# fig = px.histogram(Mobile_Stats['Change_Download'],title='Frequency distribution of Mobile Speed change',\n",
    "#                    labels={'count':'Frequency','value':'$\\Delta Speed (Kpbs)$','variable':'property'},\n",
    "#                    nbins=100)\n",
    "# fig.show()\n",
    "\n",
    "# fig = px.histogram(Broadband_Stats['Change_Download'],title='Frequency distribution of Broadband Speed change',\n",
    "#                    labels={'count':'Frequency','value':'$\\Delta Speed (Kpbs)$','variable':'property'},\n",
    "#                    nbins=100)\n",
    "# fig.show()\n",
    "Total_Stats = pd.concat([Broadband_Stats['Change_Download'],Mobile_Stats['Change_Download']],axis=1)\n",
    "Total_Stats.columns=['Mobile','Broadband']\n",
    "\n",
    "# STEFANOS: Disable plotting\n",
    "# fig = go.Figure(data=[go.Histogram(x=Broadband_Stats['Change_Download'],opacity=0.65,name='Broadband')])\n",
    "# fig.add_trace(go.Histogram(x=Mobile_Stats['Change_Download'],opacity=0.65,name='Mobile'))\n",
    "# fig.update_layout(barmode='overlay',\n",
    "#                   title='Frequency Distribution of Speed change',\n",
    "#                   xaxis_title=\"$\\Delta\\ Speed\\ (Kbps)$\", yaxis_title=\"Number of Countries\",\n",
    "#                   legend_title='Color')\n",
    "# fig.show()"
   ]
  },
  {
   "cell_type": "markdown",
   "metadata": {},
   "source": [
    "It can see that most of the countries changed between -5000 Kbps to 5000 kbps. A common graph for all the countries is possible but makes it difficult to understand. Therefore it is better we split the countries into different visualizations, for seperate degrees of change"
   ]
  },
  {
   "cell_type": "code",
   "execution_count": 102,
   "metadata": {
    "execution": {
     "iopub.execute_input": "2024-04-14T18:50:44.478442Z",
     "iopub.status.busy": "2024-04-14T18:50:44.478285Z",
     "iopub.status.idle": "2024-04-14T18:50:44.480658Z",
     "shell.execute_reply": "2024-04-14T18:50:44.480106Z",
     "shell.execute_reply.started": "2024-04-14T18:50:44.478421Z"
    }
   },
   "outputs": [
    {
     "name": "stdout",
     "output_type": "stream",
     "text": [
      "time: 201 µs (started: 2024-05-07 14:49:08 -04:00)\n"
     ]
    }
   ],
   "source": [
    "# STEFANOS: Disable plotting\n",
    "# px.bar(Mobile_Stats,y='Change_Download',labels={'Name':'Country','Change_Download':'Observed Change'},title='Summary of all changes 2020 Q1 - 2022 Q2 ')"
   ]
  },
  {
   "cell_type": "code",
   "execution_count": 103,
   "metadata": {
    "execution": {
     "iopub.execute_input": "2024-04-14T18:50:44.481294Z",
     "iopub.status.busy": "2024-04-14T18:50:44.481178Z",
     "iopub.status.idle": "2024-04-14T18:50:44.484492Z",
     "shell.execute_reply": "2024-04-14T18:50:44.484181Z",
     "shell.execute_reply.started": "2024-04-14T18:50:44.481284Z"
    }
   },
   "outputs": [
    {
     "name": "stdout",
     "output_type": "stream",
     "text": [
      "time: 7.63 ms (started: 2024-05-07 14:49:08 -04:00)\n"
     ]
    }
   ],
   "source": [
    "#ImprovedCountries_M = Mobile_Stats[(Mobile_Stats['Change_Download'] < 3000) &\n",
    "#                                (Mobile_Stats['Change_Download'] >0)]\n",
    "#px.bar(ImprovedCountries_M,y='Change_Download',labels={'Name':'Country','Change_Download':'Improved Download Speed'},title='Countries that improved download speeds')\n",
    "\n",
    "ImprovedCountries_B = Broadband_Stats[(Broadband_Stats['Change_Download'] < 3000) &\n",
    "                                (Broadband_Stats['Change_Download'] > 0)]\n",
    "\n",
    "# STEFANOS: Disable plotting\n",
    "# fig = go.Figure()\n",
    "# fig.add_trace(go.Bar(x=ImprovedCountries_B.index,y=ImprovedCountries_B['Change_Download'],opacity=0.6,name='Broadband'))\n",
    "# fig.add_trace(go.Bar(x=ImprovedCountries_B.index,y=Mobile_Stats.query(\"index in @ImprovedCountries_B.index\")['Change_Download'],opacity=0.6,name='Mobile'))\n",
    "# fig.update_layout(barmode='group',\n",
    "#                   title='Bar Chart of Speed change',\n",
    "#                   xaxis_title=\"Country\", yaxis_title=\"Improved Speed (Kbps)\",\n",
    "#                   legend_title='Color')\n",
    "# fig.show()"
   ]
  },
  {
   "cell_type": "code",
   "execution_count": 104,
   "metadata": {
    "execution": {
     "iopub.execute_input": "2024-04-14T18:50:44.484969Z",
     "iopub.status.busy": "2024-04-14T18:50:44.484880Z",
     "iopub.status.idle": "2024-04-14T18:50:44.487973Z",
     "shell.execute_reply": "2024-04-14T18:50:44.487663Z",
     "shell.execute_reply.started": "2024-04-14T18:50:44.484959Z"
    }
   },
   "outputs": [
    {
     "name": "stdout",
     "output_type": "stream",
     "text": [
      "time: 12.5 ms (started: 2024-05-07 14:49:08 -04:00)\n"
     ]
    }
   ],
   "source": [
    "#ImprovedCountries2 = Mobile_Stats[(Mobile_Stats['Change_Download'] >= 10000)]\n",
    "#px.bar(ImprovedCountries2,y='Change_Download',labels={'Name':'Country','Change_Download':'Improved Download Speed'},title='Countries that improved download speeds')\n",
    "#ImprovedCountries_M = Mobile_Stats[(Mobile_Stats['Change_Download'] < 8000) &\n",
    "#                                (Mobile_Stats['Change_Download'] >3000)]\n",
    "#px.bar(ImprovedCountries_M,y='Change_Download',labels={'Name':'Country','Change_Download':'Improved Download Speed'},title='Countries that improved download speeds')\n",
    "\n",
    "ImprovedCountries_B = Broadband_Stats[(Broadband_Stats['Change_Download'] < 8000) &\n",
    "                                (Broadband_Stats['Change_Download'] > 3000)]\n",
    "# STEFANOS: Disable plotting\n",
    "# fig = go.Figure()\n",
    "# fig.add_trace(go.Bar(x=ImprovedCountries_B.index,y=ImprovedCountries_B['Change_Download'],opacity=0.6,name='Broadband'))\n",
    "# fig.add_trace(go.Bar(x=ImprovedCountries_B.index,y=Mobile_Stats.query(\"index in @ImprovedCountries_B.index\")['Change_Download'],opacity=0.6,name='Mobile'))\n",
    "# fig.update_layout(barmode='group',\n",
    "#                   title='Bar Chart of Speed change',\n",
    "#                   xaxis_title=\"Country\", yaxis_title=\"Improved Speed (Kbps)\",\n",
    "#                   legend_title='Color')\n",
    "# fig.show()"
   ]
  },
  {
   "cell_type": "code",
   "execution_count": 105,
   "metadata": {
    "execution": {
     "iopub.execute_input": "2024-04-14T18:50:44.488650Z",
     "iopub.status.busy": "2024-04-14T18:50:44.488527Z",
     "iopub.status.idle": "2024-04-14T18:50:44.491293Z",
     "shell.execute_reply": "2024-04-14T18:50:44.491020Z",
     "shell.execute_reply.started": "2024-04-14T18:50:44.488639Z"
    }
   },
   "outputs": [
    {
     "name": "stdout",
     "output_type": "stream",
     "text": [
      "time: 13.1 ms (started: 2024-05-07 14:49:08 -04:00)\n"
     ]
    }
   ],
   "source": [
    "ImprovedCountries_B = Broadband_Stats[(Broadband_Stats['Change_Download'] < 16000) &\n",
    "                                (Broadband_Stats['Change_Download'] > 8000)]\n",
    "# STEFANOS: Disable plotting\n",
    "# fig = go.Figure()\n",
    "# fig.add_trace(go.Bar(x=ImprovedCountries_B.index,y=ImprovedCountries_B['Change_Download'],opacity=0.6,name='Broadband'))\n",
    "# fig.add_trace(go.Bar(x=ImprovedCountries_B.index,y=Mobile_Stats.query(\"index in @ImprovedCountries_B.index\")['Change_Download'],opacity=0.6,name='Mobile'))\n",
    "# fig.update_layout(barmode='group',\n",
    "#                   title='Bar Chart of Speed change',\n",
    "#                   xaxis_title=\"Country\", yaxis_title=\"Improved Speed (Kbps)\",\n",
    "#                   legend_title='Color')\n",
    "# fig.show()"
   ]
  },
  {
   "cell_type": "code",
   "execution_count": 106,
   "metadata": {
    "execution": {
     "iopub.execute_input": "2024-04-14T18:50:44.491906Z",
     "iopub.status.busy": "2024-04-14T18:50:44.491785Z",
     "iopub.status.idle": "2024-04-14T18:50:44.494248Z",
     "shell.execute_reply": "2024-04-14T18:50:44.493960Z",
     "shell.execute_reply.started": "2024-04-14T18:50:44.491893Z"
    }
   },
   "outputs": [
    {
     "name": "stdout",
     "output_type": "stream",
     "text": [
      "time: 11.3 ms (started: 2024-05-07 14:49:08 -04:00)\n"
     ]
    }
   ],
   "source": [
    "ImprovedCountries_B = Broadband_Stats[(Broadband_Stats['Change_Download'] < 60000) &\n",
    "                                (Broadband_Stats['Change_Download'] > 16000)]\n",
    "# STEFANOS: Disable plotting\n",
    "# fig = go.Figure()\n",
    "# fig.add_trace(go.Bar(x=ImprovedCountries_B.index,y=ImprovedCountries_B['Change_Download'],opacity=0.6,name='Broadband'))\n",
    "# fig.add_trace(go.Bar(x=ImprovedCountries_B.index,y=Mobile_Stats.query(\"index in @ImprovedCountries_B.index\")['Change_Download'],opacity=0.6,name='Mobile'))\n",
    "# fig.update_layout(barmode='group',\n",
    "#                   title='Bar Chart of Speed change',\n",
    "#                   xaxis_title=\"Country\", yaxis_title=\"Improved Speed (Kbps)\",\n",
    "#                   legend_title='Color')\n",
    "# fig.show()"
   ]
  },
  {
   "cell_type": "code",
   "execution_count": 107,
   "metadata": {
    "execution": {
     "iopub.execute_input": "2024-04-14T18:50:44.494718Z",
     "iopub.status.busy": "2024-04-14T18:50:44.494624Z",
     "iopub.status.idle": "2024-04-14T18:50:44.497217Z",
     "shell.execute_reply": "2024-04-14T18:50:44.496830Z",
     "shell.execute_reply.started": "2024-04-14T18:50:44.494708Z"
    }
   },
   "outputs": [
    {
     "name": "stdout",
     "output_type": "stream",
     "text": [
      "time: 11.7 ms (started: 2024-05-07 14:49:08 -04:00)\n"
     ]
    }
   ],
   "source": [
    "ImprovedCountries_B = Broadband_Stats[(Broadband_Stats['Change_Download'] >= 60000)]\n",
    "# STEFANOS: Disable plotting\n",
    "# fig = go.Figure()\n",
    "# fig.add_trace(go.Bar(x=ImprovedCountries_B.index,y=ImprovedCountries_B['Change_Download'],opacity=0.6,name='Broadband'))\n",
    "# fig.add_trace(go.Bar(x=ImprovedCountries_B.index,y=Mobile_Stats.query(\"index in @ImprovedCountries_B.index\")['Change_Download'],opacity=0.6,name='Mobile'))\n",
    "# fig.update_layout(barmode='group',\n",
    "#                   title='Bar Chart of Speed change',\n",
    "#                   xaxis_title=\"Country\", yaxis_title=\"Improved Speed (Kbps)\",\n",
    "#                   legend_title='Color')\n",
    "# fig.show()"
   ]
  },
  {
   "cell_type": "code",
   "execution_count": 108,
   "metadata": {
    "execution": {
     "iopub.execute_input": "2024-04-14T18:50:44.498115Z",
     "iopub.status.busy": "2024-04-14T18:50:44.497944Z",
     "iopub.status.idle": "2024-04-14T18:50:44.500891Z",
     "shell.execute_reply": "2024-04-14T18:50:44.500512Z",
     "shell.execute_reply.started": "2024-04-14T18:50:44.498103Z"
    }
   },
   "outputs": [
    {
     "name": "stdout",
     "output_type": "stream",
     "text": [
      "time: 5.2 ms (started: 2024-05-07 14:49:08 -04:00)\n"
     ]
    }
   ],
   "source": [
    "#DeterioratedSpeeds = Mobile_Stats[(Mobile_Stats['Change_Download'] < 0 )]\n",
    "#px.bar(DeterioratedSpeeds,y='Change_Download',labels={'Name':'Country','Change_Download':'Improved Download Speed'},title='Decreasing Countries\\' download speeds')\n",
    "ImprovedCountries_B = Broadband_Stats[(Broadband_Stats['Change_Download'] < 0)]\n",
    "Countries = ImprovedCountries_B.index\n",
    "\n",
    "# STEFANOS: Disable plotting\n",
    "# fig = go.Figure()\n",
    "# fig.add_trace(go.Bar(x=ImprovedCountries_B.index,y=ImprovedCountries_B['Change_Download'],opacity=0.6,name='Broadband'))\n",
    "# fig.add_trace(go.Bar(x=ImprovedCountries_B.index,y=Mobile_Stats.query(\"index in @ImprovedCountries_B.index\")['Change_Download'],opacity=0.6,name='Mobile'))\n",
    "# fig.update_layout(barmode='group',\n",
    "#                   title='Bar Chart of Speed change',\n",
    "#                   xaxis_title=\"Country\", yaxis_title=\"Improved Speed (Kbps)\",\n",
    "#                   legend_title='Color')\n",
    "# fig.show()"
   ]
  },
  {
   "cell_type": "code",
   "execution_count": 109,
   "metadata": {
    "execution": {
     "iopub.execute_input": "2024-04-14T18:50:44.501593Z",
     "iopub.status.busy": "2024-04-14T18:50:44.501483Z",
     "iopub.status.idle": "2024-04-14T18:50:44.506638Z",
     "shell.execute_reply": "2024-04-14T18:50:44.506345Z",
     "shell.execute_reply.started": "2024-04-14T18:50:44.501582Z"
    }
   },
   "outputs": [
    {
     "data": {
      "text/html": [
       "<div>\n",
       "<style scoped>\n",
       "    .dataframe tbody tr th:only-of-type {\n",
       "        vertical-align: middle;\n",
       "    }\n",
       "\n",
       "    .dataframe tbody tr th {\n",
       "        vertical-align: top;\n",
       "    }\n",
       "\n",
       "    .dataframe thead th {\n",
       "        text-align: right;\n",
       "    }\n",
       "</style>\n",
       "<table border=\"1\" class=\"dataframe\">\n",
       "  <thead>\n",
       "    <tr style=\"text-align: right;\">\n",
       "      <th></th>\n",
       "      <th>Change_Download</th>\n",
       "      <th>Change_Upload</th>\n",
       "      <th>Change_Latency</th>\n",
       "    </tr>\n",
       "    <tr>\n",
       "      <th>Name</th>\n",
       "      <th></th>\n",
       "      <th></th>\n",
       "      <th></th>\n",
       "    </tr>\n",
       "  </thead>\n",
       "  <tbody>\n",
       "    <tr>\n",
       "      <th>Svalbard</th>\n",
       "      <td>-60722</td>\n",
       "      <td>-7622</td>\n",
       "      <td>26</td>\n",
       "    </tr>\n",
       "    <tr>\n",
       "      <th>Cook Islands</th>\n",
       "      <td>-53299</td>\n",
       "      <td>-12437</td>\n",
       "      <td>96</td>\n",
       "    </tr>\n",
       "    <tr>\n",
       "      <th>Kiribati</th>\n",
       "      <td>-16481</td>\n",
       "      <td>-6388</td>\n",
       "      <td>323</td>\n",
       "    </tr>\n",
       "    <tr>\n",
       "      <th>Cuba</th>\n",
       "      <td>-13664</td>\n",
       "      <td>-3164</td>\n",
       "      <td>22</td>\n",
       "    </tr>\n",
       "    <tr>\n",
       "      <th>Lesotho</th>\n",
       "      <td>-10968</td>\n",
       "      <td>149</td>\n",
       "      <td>2</td>\n",
       "    </tr>\n",
       "    <tr>\n",
       "      <th>...</th>\n",
       "      <td>...</td>\n",
       "      <td>...</td>\n",
       "      <td>...</td>\n",
       "    </tr>\n",
       "    <tr>\n",
       "      <th>Bahrain</th>\n",
       "      <td>112317</td>\n",
       "      <td>7053</td>\n",
       "      <td>1</td>\n",
       "    </tr>\n",
       "    <tr>\n",
       "      <th>United Arab Emirates</th>\n",
       "      <td>113202</td>\n",
       "      <td>6452</td>\n",
       "      <td>3</td>\n",
       "    </tr>\n",
       "    <tr>\n",
       "      <th>Kuwait</th>\n",
       "      <td>120812</td>\n",
       "      <td>9258</td>\n",
       "      <td>-2</td>\n",
       "    </tr>\n",
       "    <tr>\n",
       "      <th>Qatar</th>\n",
       "      <td>121470</td>\n",
       "      <td>6862</td>\n",
       "      <td>7</td>\n",
       "    </tr>\n",
       "    <tr>\n",
       "      <th>Korea, Republic of</th>\n",
       "      <td>144033</td>\n",
       "      <td>7028</td>\n",
       "      <td>-7</td>\n",
       "    </tr>\n",
       "  </tbody>\n",
       "</table>\n",
       "<p>236 rows × 3 columns</p>\n",
       "</div>"
      ],
      "text/plain": [
       "                      Change_Download  Change_Upload  Change_Latency\n",
       "Name                                                                \n",
       "Svalbard                       -60722          -7622              26\n",
       "Cook Islands                   -53299         -12437              96\n",
       "Kiribati                       -16481          -6388             323\n",
       "Cuba                           -13664          -3164              22\n",
       "Lesotho                        -10968            149               2\n",
       "...                               ...            ...             ...\n",
       "Bahrain                        112317           7053               1\n",
       "United Arab Emirates           113202           6452               3\n",
       "Kuwait                         120812           9258              -2\n",
       "Qatar                          121470           6862               7\n",
       "Korea, Republic of             144033           7028              -7\n",
       "\n",
       "[236 rows x 3 columns]"
      ]
     },
     "execution_count": 109,
     "metadata": {},
     "output_type": "execute_result"
    },
    {
     "name": "stdout",
     "output_type": "stream",
     "text": [
      "time: 19.2 ms (started: 2024-05-07 14:49:08 -04:00)\n"
     ]
    }
   ],
   "source": [
    "Mobile_Stats.sort_values(by=['Change_Download'])"
   ]
  },
  {
   "cell_type": "code",
   "execution_count": 110,
   "metadata": {
    "execution": {
     "iopub.execute_input": "2024-04-14T18:50:44.507401Z",
     "iopub.status.busy": "2024-04-14T18:50:44.507219Z",
     "iopub.status.idle": "2024-04-14T18:50:44.512123Z",
     "shell.execute_reply": "2024-04-14T18:50:44.511725Z",
     "shell.execute_reply.started": "2024-04-14T18:50:44.507384Z"
    }
   },
   "outputs": [
    {
     "data": {
      "text/html": [
       "<div>\n",
       "<style scoped>\n",
       "    .dataframe tbody tr th:only-of-type {\n",
       "        vertical-align: middle;\n",
       "    }\n",
       "\n",
       "    .dataframe tbody tr th {\n",
       "        vertical-align: top;\n",
       "    }\n",
       "\n",
       "    .dataframe thead th {\n",
       "        text-align: right;\n",
       "    }\n",
       "</style>\n",
       "<table border=\"1\" class=\"dataframe\">\n",
       "  <thead>\n",
       "    <tr style=\"text-align: right;\">\n",
       "      <th></th>\n",
       "      <th>Change_Download</th>\n",
       "      <th>Change_Upload</th>\n",
       "      <th>Change_Latency</th>\n",
       "    </tr>\n",
       "    <tr>\n",
       "      <th>Name</th>\n",
       "      <th></th>\n",
       "      <th></th>\n",
       "      <th></th>\n",
       "    </tr>\n",
       "  </thead>\n",
       "  <tbody>\n",
       "    <tr>\n",
       "      <th>Marshall Islands</th>\n",
       "      <td>-9495</td>\n",
       "      <td>-2082</td>\n",
       "      <td>-13</td>\n",
       "    </tr>\n",
       "    <tr>\n",
       "      <th>Comoros</th>\n",
       "      <td>-7547</td>\n",
       "      <td>-18156</td>\n",
       "      <td>38</td>\n",
       "    </tr>\n",
       "    <tr>\n",
       "      <th>United States Minor Outlying Islands</th>\n",
       "      <td>-7465</td>\n",
       "      <td>-18425</td>\n",
       "      <td>461</td>\n",
       "    </tr>\n",
       "    <tr>\n",
       "      <th>Guinea-Bissau</th>\n",
       "      <td>-5363</td>\n",
       "      <td>-2684</td>\n",
       "      <td>30</td>\n",
       "    </tr>\n",
       "    <tr>\n",
       "      <th>Cape Verde</th>\n",
       "      <td>-4525</td>\n",
       "      <td>-8908</td>\n",
       "      <td>-10</td>\n",
       "    </tr>\n",
       "    <tr>\n",
       "      <th>...</th>\n",
       "      <td>...</td>\n",
       "      <td>...</td>\n",
       "      <td>...</td>\n",
       "    </tr>\n",
       "    <tr>\n",
       "      <th>France</th>\n",
       "      <td>106223</td>\n",
       "      <td>82203</td>\n",
       "      <td>-10</td>\n",
       "    </tr>\n",
       "    <tr>\n",
       "      <th>Uruguay</th>\n",
       "      <td>109183</td>\n",
       "      <td>21217</td>\n",
       "      <td>-18</td>\n",
       "    </tr>\n",
       "    <tr>\n",
       "      <th>China</th>\n",
       "      <td>127467</td>\n",
       "      <td>23571</td>\n",
       "      <td>3</td>\n",
       "    </tr>\n",
       "    <tr>\n",
       "      <th>Chile</th>\n",
       "      <td>131498</td>\n",
       "      <td>111798</td>\n",
       "      <td>-12</td>\n",
       "    </tr>\n",
       "    <tr>\n",
       "      <th>Korea, Democratic People's Republic of</th>\n",
       "      <td>185155</td>\n",
       "      <td>63642</td>\n",
       "      <td>-76</td>\n",
       "    </tr>\n",
       "  </tbody>\n",
       "</table>\n",
       "<p>241 rows × 3 columns</p>\n",
       "</div>"
      ],
      "text/plain": [
       "                                        Change_Download  Change_Upload  \\\n",
       "Name                                                                     \n",
       "Marshall Islands                                  -9495          -2082   \n",
       "Comoros                                           -7547         -18156   \n",
       "United States Minor Outlying Islands              -7465         -18425   \n",
       "Guinea-Bissau                                     -5363          -2684   \n",
       "Cape Verde                                        -4525          -8908   \n",
       "...                                                 ...            ...   \n",
       "France                                           106223          82203   \n",
       "Uruguay                                          109183          21217   \n",
       "China                                            127467          23571   \n",
       "Chile                                            131498         111798   \n",
       "Korea, Democratic People's Republic of           185155          63642   \n",
       "\n",
       "                                        Change_Latency  \n",
       "Name                                                    \n",
       "Marshall Islands                                   -13  \n",
       "Comoros                                             38  \n",
       "United States Minor Outlying Islands               461  \n",
       "Guinea-Bissau                                       30  \n",
       "Cape Verde                                         -10  \n",
       "...                                                ...  \n",
       "France                                             -10  \n",
       "Uruguay                                            -18  \n",
       "China                                                3  \n",
       "Chile                                              -12  \n",
       "Korea, Democratic People's Republic of             -76  \n",
       "\n",
       "[241 rows x 3 columns]"
      ]
     },
     "execution_count": 110,
     "metadata": {},
     "output_type": "execute_result"
    },
    {
     "name": "stdout",
     "output_type": "stream",
     "text": [
      "time: 5.78 ms (started: 2024-05-07 14:49:08 -04:00)\n"
     ]
    }
   ],
   "source": [
    "Broadband_Stats.sort_values(by=['Change_Download'])"
   ]
  },
  {
   "cell_type": "markdown",
   "metadata": {},
   "source": [
    "Different graphs are used to show different degrees of Average download speed change for each country. These are the capacities by which countries have changed. \n",
    "\n",
    "From the above graphs it can be seen that **China** has improved the most average (boardband) download speed and **Antarctica** has lost the most average download internet speed (broadband). Meanwhile **Korea** has the highest improvement in Mobile internet download speed, while **Cook Islands** has lost the most average mobile download speed\n",
    "\n",
    "These metrics can be misleading as they show average speed change for the whole country. The infrastructure investment/deterioration of the country can only be known after the number is multiplied by population of the country."
   ]
  },
  {
   "cell_type": "markdown",
   "metadata": {},
   "source": [
    "## Percentage Download speed Visualization\n",
    "\n",
    "In this view, we have normalized all improvements or depreciation to the original value, therefore large countries such as china which already have large infrastructure will be given less weightage and small countries that are developing would be given more preference. This view can be used everywhere as the values are normalized to percentages. Therefore larger internet speed nations will be given lower priority to the smaller speed nations. This is NOT a metric of a nation's total bandwidth as that will require denormalization with the nation's population. This metric can be used to compare the rate of national speed improvement between nations."
   ]
  },
  {
   "cell_type": "code",
   "execution_count": 111,
   "metadata": {
    "execution": {
     "iopub.execute_input": "2024-04-14T18:50:44.513041Z",
     "iopub.status.busy": "2024-04-14T18:50:44.512737Z",
     "iopub.status.idle": "2024-04-14T18:50:47.620825Z",
     "shell.execute_reply": "2024-04-14T18:50:47.620417Z",
     "shell.execute_reply.started": "2024-04-14T18:50:44.513019Z"
    }
   },
   "outputs": [
    {
     "name": "stdout",
     "output_type": "stream",
     "text": [
      "time: 3.19 s (started: 2024-05-07 14:49:08 -04:00)\n"
     ]
    }
   ],
   "source": [
    "Mobile_Stats_relative = Mobile_df.groupby('Name').agg(\n",
    "    Change_Download=('Avg. Avg D Kbps', lambda x: (list(x)[-1] - list(x)[0])/list(x)[0]),\n",
    "    Change_Upload=('Avg. Avg U Kbps', lambda x: (list(x)[-1] - list(x)[0])/list(x)[0]),\n",
    "    Change_Latency=('Avg Lat Ms', lambda x: (list(x)[-1] - list(x)[0])/list(x)[0])\n",
    ")\n",
    "Broadband_Stats_relative = Broadband_df.groupby('Name').agg(\n",
    "    Change_Download=('Avg. Avg D Kbps', lambda x: (list(x)[-1] - list(x)[0])/list(x)[0]),\n",
    "    Change_Upload=('Avg. Avg U Kbps', lambda x: (list(x)[-1] - list(x)[0])/list(x)[0]),\n",
    "    Change_Latency=('Avg Lat Ms', lambda x: (list(x)[-1] - list(x)[0])/list(x)[0])\n",
    ")"
   ]
  },
  {
   "cell_type": "code",
   "execution_count": 112,
   "metadata": {
    "execution": {
     "iopub.execute_input": "2024-04-14T18:50:47.621405Z",
     "iopub.status.busy": "2024-04-14T18:50:47.621304Z",
     "iopub.status.idle": "2024-04-14T18:50:47.624047Z",
     "shell.execute_reply": "2024-04-14T18:50:47.623717Z",
     "shell.execute_reply.started": "2024-04-14T18:50:47.621394Z"
    }
   },
   "outputs": [
    {
     "name": "stdout",
     "output_type": "stream",
     "text": [
      "time: 1.27 ms (started: 2024-05-07 14:49:11 -04:00)\n"
     ]
    }
   ],
   "source": [
    "ImprovedCountries_B = Broadband_Stats_relative[(Broadband_Stats_relative['Change_Download'] >= 2)]\n",
    "# STEFANOS: Disable plotting\n",
    "# fig = go.Figure()\n",
    "# fig.add_trace(go.Bar(x=ImprovedCountries_B.index,y=ImprovedCountries_B['Change_Download'],opacity=0.6,name='Broadband'))\n",
    "# fig.add_trace(go.Bar(x=ImprovedCountries_B.index,y=Mobile_Stats_relative.query(\"index in @ImprovedCountries_B.index\")['Change_Download'],opacity=0.6,name='Mobile'))\n",
    "# fig.update_layout(barmode='group',\n",
    "#                   title='Bar Chart of Relative Speed change',\n",
    "#                   xaxis_title=\"Country\", yaxis_title=\"Relative Improvement of Speed\",\n",
    "#                   legend_title='Color')\n",
    "# fig.show()"
   ]
  },
  {
   "cell_type": "code",
   "execution_count": 113,
   "metadata": {
    "execution": {
     "iopub.execute_input": "2024-04-14T18:50:47.624751Z",
     "iopub.status.busy": "2024-04-14T18:50:47.624652Z",
     "iopub.status.idle": "2024-04-14T18:50:47.627614Z",
     "shell.execute_reply": "2024-04-14T18:50:47.627322Z",
     "shell.execute_reply.started": "2024-04-14T18:50:47.624740Z"
    }
   },
   "outputs": [
    {
     "name": "stdout",
     "output_type": "stream",
     "text": [
      "time: 11.7 ms (started: 2024-05-07 14:49:11 -04:00)\n"
     ]
    }
   ],
   "source": [
    "ImprovedCountries_B = Broadband_Stats_relative[(Broadband_Stats_relative['Change_Download'] >= 1) & (Broadband_Stats_relative['Change_Download'] < 2)]\n",
    "# STEFANOS: Disable plotting\n",
    "# fig = go.Figure()\n",
    "# fig.add_trace(go.Bar(x=ImprovedCountries_B.index,y=ImprovedCountries_B['Change_Download'],opacity=0.6,name='Broadband'))\n",
    "# fig.add_trace(go.Bar(x=ImprovedCountries_B.index,y=Mobile_Stats_relative.query(\"index in @ImprovedCountries_B.index\")['Change_Download'],opacity=0.6,name='Mobile'))\n",
    "# fig.update_layout(barmode='group',\n",
    "#                   title='Bar Chart of Relative Speed change',\n",
    "#                   xaxis_title=\"Country\", yaxis_title=\"Relative Improvement of Speed\",\n",
    "#                   legend_title='Color')\n",
    "# fig.show()"
   ]
  },
  {
   "cell_type": "code",
   "execution_count": 114,
   "metadata": {
    "execution": {
     "iopub.execute_input": "2024-04-14T18:50:47.628325Z",
     "iopub.status.busy": "2024-04-14T18:50:47.628179Z",
     "iopub.status.idle": "2024-04-14T18:50:47.630703Z",
     "shell.execute_reply": "2024-04-14T18:50:47.630326Z",
     "shell.execute_reply.started": "2024-04-14T18:50:47.628314Z"
    }
   },
   "outputs": [
    {
     "name": "stdout",
     "output_type": "stream",
     "text": [
      "time: 10.6 ms (started: 2024-05-07 14:49:11 -04:00)\n"
     ]
    }
   ],
   "source": [
    "ImprovedCountries_B = Broadband_Stats_relative[(Broadband_Stats_relative['Change_Download'] >= 0.5) & (Broadband_Stats_relative['Change_Download'] < 1)]\n",
    "# STEFANOS: Disable plotting\n",
    "# fig = go.Figure()\n",
    "# fig.add_trace(go.Bar(x=ImprovedCountries_B.index,y=ImprovedCountries_B['Change_Download'],opacity=0.6,name='Broadband'))\n",
    "# fig.add_trace(go.Bar(x=ImprovedCountries_B.index,y=Mobile_Stats_relative.query(\"index in @ImprovedCountries_B.index\")['Change_Download'],opacity=0.6,name='Mobile'))\n",
    "# fig.update_layout(barmode='group',\n",
    "#                   title='Bar Chart of Relative Speed change',\n",
    "#                   xaxis_title=\"Country\", yaxis_title=\"Relative Improvement of Speed\",\n",
    "#                   legend_title='Color')\n",
    "# fig.show()"
   ]
  },
  {
   "cell_type": "code",
   "execution_count": 115,
   "metadata": {
    "execution": {
     "iopub.execute_input": "2024-04-14T18:50:47.631318Z",
     "iopub.status.busy": "2024-04-14T18:50:47.631224Z",
     "iopub.status.idle": "2024-04-14T18:50:47.633767Z",
     "shell.execute_reply": "2024-04-14T18:50:47.633385Z",
     "shell.execute_reply.started": "2024-04-14T18:50:47.631308Z"
    }
   },
   "outputs": [
    {
     "name": "stdout",
     "output_type": "stream",
     "text": [
      "time: 12.2 ms (started: 2024-05-07 14:49:11 -04:00)\n"
     ]
    }
   ],
   "source": [
    "ImprovedCountries_B = Broadband_Stats_relative[(Broadband_Stats_relative['Change_Download'] >= 0.2) & (Broadband_Stats_relative['Change_Download'] < 0.5)]\n",
    "# STEFANOS: Disable plotting\n",
    "# fig = go.Figure()\n",
    "# fig.add_trace(go.Bar(x=ImprovedCountries_B.index,y=ImprovedCountries_B['Change_Download'],opacity=0.6,name='Broadband'))\n",
    "# fig.add_trace(go.Bar(x=ImprovedCountries_B.index,y=Mobile_Stats_relative.query(\"index in @ImprovedCountries_B.index\")['Change_Download'],opacity=0.6,name='Mobile'))\n",
    "# fig.update_layout(barmode='group',\n",
    "#                   title='Bar Chart of Relative Speed change',\n",
    "#                   xaxis_title=\"Country\", yaxis_title=\"Relative Improvement of Speed\",\n",
    "#                   legend_title='Color')\n",
    "# fig.show()"
   ]
  },
  {
   "cell_type": "code",
   "execution_count": 116,
   "metadata": {
    "execution": {
     "iopub.execute_input": "2024-04-14T18:50:47.634416Z",
     "iopub.status.busy": "2024-04-14T18:50:47.634293Z",
     "iopub.status.idle": "2024-04-14T18:50:47.637162Z",
     "shell.execute_reply": "2024-04-14T18:50:47.636688Z",
     "shell.execute_reply.started": "2024-04-14T18:50:47.634405Z"
    }
   },
   "outputs": [
    {
     "name": "stdout",
     "output_type": "stream",
     "text": [
      "time: 11 ms (started: 2024-05-07 14:49:11 -04:00)\n"
     ]
    }
   ],
   "source": [
    "ImprovedCountries_B = Broadband_Stats_relative[(Broadband_Stats_relative['Change_Download'] >= 0) & (Broadband_Stats_relative['Change_Download'] < 0.2)]\n",
    "# STEFANOS: Disable plotting\n",
    "# fig = go.Figure()\n",
    "# fig.add_trace(go.Bar(x=ImprovedCountries_B.index,y=ImprovedCountries_B['Change_Download'],opacity=0.6,name='Broadband'))\n",
    "# fig.add_trace(go.Bar(x=ImprovedCountries_B.index,y=Mobile_Stats_relative.query(\"index in @ImprovedCountries_B.index\")['Change_Download'],opacity=0.6,name='Mobile'))\n",
    "# fig.update_layout(barmode='group',\n",
    "#                   title='Bar Chart of Relative Speed change',\n",
    "#                   xaxis_title=\"Country\", yaxis_title=\"Relative Improvement of Speed\",\n",
    "#                   legend_title='Color')\n",
    "# fig.show()"
   ]
  },
  {
   "cell_type": "code",
   "execution_count": 117,
   "metadata": {
    "execution": {
     "iopub.execute_input": "2024-04-14T18:50:47.637770Z",
     "iopub.status.busy": "2024-04-14T18:50:47.637648Z",
     "iopub.status.idle": "2024-04-14T18:50:47.640585Z",
     "shell.execute_reply": "2024-04-14T18:50:47.640163Z",
     "shell.execute_reply.started": "2024-04-14T18:50:47.637758Z"
    }
   },
   "outputs": [
    {
     "name": "stdout",
     "output_type": "stream",
     "text": [
      "time: 12.1 ms (started: 2024-05-07 14:49:11 -04:00)\n"
     ]
    }
   ],
   "source": [
    "ImprovedCountries_B = Broadband_Stats_relative[(Broadband_Stats_relative['Change_Download'] < 0)]\n",
    "# STEFANOS: Disable plotting\n",
    "# fig = go.Figure()\n",
    "# fig.add_trace(go.Bar(x=ImprovedCountries_B.index,y=ImprovedCountries_B['Change_Download'],opacity=0.6,name='Broadband'))\n",
    "# fig.add_trace(go.Bar(x=ImprovedCountries_B.index,y=Mobile_Stats_relative.query(\"index in @ImprovedCountries_B.index\")['Change_Download'],opacity=0.6,name='Mobile'))\n",
    "# fig.update_layout(barmode='group',\n",
    "#                   title='Bar Chart of Relative Speed change',\n",
    "#                   xaxis_title=\"Country\", yaxis_title=\"Relative Improvement of Speed\",\n",
    "#                   legend_title='Color')\n",
    "# fig.show()"
   ]
  },
  {
   "cell_type": "code",
   "execution_count": 118,
   "metadata": {
    "execution": {
     "iopub.execute_input": "2024-04-14T18:50:47.641286Z",
     "iopub.status.busy": "2024-04-14T18:50:47.641166Z",
     "iopub.status.idle": "2024-04-14T18:50:47.646177Z",
     "shell.execute_reply": "2024-04-14T18:50:47.645882Z",
     "shell.execute_reply.started": "2024-04-14T18:50:47.641275Z"
    }
   },
   "outputs": [
    {
     "data": {
      "text/html": [
       "<div>\n",
       "<style scoped>\n",
       "    .dataframe tbody tr th:only-of-type {\n",
       "        vertical-align: middle;\n",
       "    }\n",
       "\n",
       "    .dataframe tbody tr th {\n",
       "        vertical-align: top;\n",
       "    }\n",
       "\n",
       "    .dataframe thead th {\n",
       "        text-align: right;\n",
       "    }\n",
       "</style>\n",
       "<table border=\"1\" class=\"dataframe\">\n",
       "  <thead>\n",
       "    <tr style=\"text-align: right;\">\n",
       "      <th></th>\n",
       "      <th>Change_Download</th>\n",
       "      <th>Change_Upload</th>\n",
       "      <th>Change_Latency</th>\n",
       "    </tr>\n",
       "    <tr>\n",
       "      <th>Name</th>\n",
       "      <th></th>\n",
       "      <th></th>\n",
       "      <th></th>\n",
       "    </tr>\n",
       "  </thead>\n",
       "  <tbody>\n",
       "    <tr>\n",
       "      <th>Marshall Islands</th>\n",
       "      <td>-0.838855</td>\n",
       "      <td>-0.435747</td>\n",
       "      <td>-0.141304</td>\n",
       "    </tr>\n",
       "    <tr>\n",
       "      <th>Comoros</th>\n",
       "      <td>-0.726721</td>\n",
       "      <td>-0.973147</td>\n",
       "      <td>0.236025</td>\n",
       "    </tr>\n",
       "    <tr>\n",
       "      <th>Guinea-Bissau</th>\n",
       "      <td>-0.492244</td>\n",
       "      <td>-0.403185</td>\n",
       "      <td>0.405405</td>\n",
       "    </tr>\n",
       "    <tr>\n",
       "      <th>United States Minor Outlying Islands</th>\n",
       "      <td>-0.406104</td>\n",
       "      <td>-0.920698</td>\n",
       "      <td>1.945148</td>\n",
       "    </tr>\n",
       "    <tr>\n",
       "      <th>Saint Helena</th>\n",
       "      <td>-0.399552</td>\n",
       "      <td>-0.162749</td>\n",
       "      <td>-0.015524</td>\n",
       "    </tr>\n",
       "    <tr>\n",
       "      <th>...</th>\n",
       "      <td>...</td>\n",
       "      <td>...</td>\n",
       "      <td>...</td>\n",
       "    </tr>\n",
       "    <tr>\n",
       "      <th>Nauru</th>\n",
       "      <td>6.308000</td>\n",
       "      <td>23.425648</td>\n",
       "      <td>-0.641304</td>\n",
       "    </tr>\n",
       "    <tr>\n",
       "      <th>Tonga</th>\n",
       "      <td>6.369925</td>\n",
       "      <td>5.602930</td>\n",
       "      <td>-0.219388</td>\n",
       "    </tr>\n",
       "    <tr>\n",
       "      <th>Wallis and Futuna Islands</th>\n",
       "      <td>7.068718</td>\n",
       "      <td>8.957143</td>\n",
       "      <td>-0.109718</td>\n",
       "    </tr>\n",
       "    <tr>\n",
       "      <th>Kiribati</th>\n",
       "      <td>11.596980</td>\n",
       "      <td>54.074689</td>\n",
       "      <td>-0.685371</td>\n",
       "    </tr>\n",
       "    <tr>\n",
       "      <th>British Indian Ocean Territory</th>\n",
       "      <td>19.223150</td>\n",
       "      <td>3.389358</td>\n",
       "      <td>-0.433834</td>\n",
       "    </tr>\n",
       "  </tbody>\n",
       "</table>\n",
       "<p>241 rows × 3 columns</p>\n",
       "</div>"
      ],
      "text/plain": [
       "                                      Change_Download  Change_Upload  \\\n",
       "Name                                                                   \n",
       "Marshall Islands                            -0.838855      -0.435747   \n",
       "Comoros                                     -0.726721      -0.973147   \n",
       "Guinea-Bissau                               -0.492244      -0.403185   \n",
       "United States Minor Outlying Islands        -0.406104      -0.920698   \n",
       "Saint Helena                                -0.399552      -0.162749   \n",
       "...                                               ...            ...   \n",
       "Nauru                                        6.308000      23.425648   \n",
       "Tonga                                        6.369925       5.602930   \n",
       "Wallis and Futuna Islands                    7.068718       8.957143   \n",
       "Kiribati                                    11.596980      54.074689   \n",
       "British Indian Ocean Territory              19.223150       3.389358   \n",
       "\n",
       "                                      Change_Latency  \n",
       "Name                                                  \n",
       "Marshall Islands                           -0.141304  \n",
       "Comoros                                     0.236025  \n",
       "Guinea-Bissau                               0.405405  \n",
       "United States Minor Outlying Islands        1.945148  \n",
       "Saint Helena                               -0.015524  \n",
       "...                                              ...  \n",
       "Nauru                                      -0.641304  \n",
       "Tonga                                      -0.219388  \n",
       "Wallis and Futuna Islands                  -0.109718  \n",
       "Kiribati                                   -0.685371  \n",
       "British Indian Ocean Territory             -0.433834  \n",
       "\n",
       "[241 rows x 3 columns]"
      ]
     },
     "execution_count": 118,
     "metadata": {},
     "output_type": "execute_result"
    },
    {
     "name": "stdout",
     "output_type": "stream",
     "text": [
      "time: 15 ms (started: 2024-05-07 14:49:11 -04:00)\n"
     ]
    }
   ],
   "source": [
    "Broadband_Stats_relative.sort_values(by=['Change_Download'])"
   ]
  },
  {
   "cell_type": "code",
   "execution_count": 119,
   "metadata": {
    "execution": {
     "iopub.execute_input": "2024-04-14T18:50:47.646668Z",
     "iopub.status.busy": "2024-04-14T18:50:47.646566Z",
     "iopub.status.idle": "2024-04-14T18:50:47.651665Z",
     "shell.execute_reply": "2024-04-14T18:50:47.651254Z",
     "shell.execute_reply.started": "2024-04-14T18:50:47.646657Z"
    }
   },
   "outputs": [
    {
     "data": {
      "text/html": [
       "<div>\n",
       "<style scoped>\n",
       "    .dataframe tbody tr th:only-of-type {\n",
       "        vertical-align: middle;\n",
       "    }\n",
       "\n",
       "    .dataframe tbody tr th {\n",
       "        vertical-align: top;\n",
       "    }\n",
       "\n",
       "    .dataframe thead th {\n",
       "        text-align: right;\n",
       "    }\n",
       "</style>\n",
       "<table border=\"1\" class=\"dataframe\">\n",
       "  <thead>\n",
       "    <tr style=\"text-align: right;\">\n",
       "      <th></th>\n",
       "      <th>Change_Download</th>\n",
       "      <th>Change_Upload</th>\n",
       "      <th>Change_Latency</th>\n",
       "    </tr>\n",
       "    <tr>\n",
       "      <th>Name</th>\n",
       "      <th></th>\n",
       "      <th></th>\n",
       "      <th></th>\n",
       "    </tr>\n",
       "  </thead>\n",
       "  <tbody>\n",
       "    <tr>\n",
       "      <th>Wallis and Futuna Islands</th>\n",
       "      <td>-0.991780</td>\n",
       "      <td>-0.973705</td>\n",
       "      <td>0.237410</td>\n",
       "    </tr>\n",
       "    <tr>\n",
       "      <th>Cook Islands</th>\n",
       "      <td>-0.821603</td>\n",
       "      <td>-0.653204</td>\n",
       "      <td>3.692308</td>\n",
       "    </tr>\n",
       "    <tr>\n",
       "      <th>Kiribati</th>\n",
       "      <td>-0.801917</td>\n",
       "      <td>-0.697532</td>\n",
       "      <td>1.362869</td>\n",
       "    </tr>\n",
       "    <tr>\n",
       "      <th>Cuba</th>\n",
       "      <td>-0.567984</td>\n",
       "      <td>-0.303181</td>\n",
       "      <td>0.176000</td>\n",
       "    </tr>\n",
       "    <tr>\n",
       "      <th>Timor-Leste</th>\n",
       "      <td>-0.543723</td>\n",
       "      <td>-0.483994</td>\n",
       "      <td>-0.027027</td>\n",
       "    </tr>\n",
       "    <tr>\n",
       "      <th>...</th>\n",
       "      <td>...</td>\n",
       "      <td>...</td>\n",
       "      <td>...</td>\n",
       "    </tr>\n",
       "    <tr>\n",
       "      <th>Cayman Islands</th>\n",
       "      <td>3.223961</td>\n",
       "      <td>1.128062</td>\n",
       "      <td>-0.026316</td>\n",
       "    </tr>\n",
       "    <tr>\n",
       "      <th>Mauritania</th>\n",
       "      <td>3.328165</td>\n",
       "      <td>4.981119</td>\n",
       "      <td>0.153846</td>\n",
       "    </tr>\n",
       "    <tr>\n",
       "      <th>Guinea-Bissau</th>\n",
       "      <td>3.554574</td>\n",
       "      <td>1.512042</td>\n",
       "      <td>-0.583333</td>\n",
       "    </tr>\n",
       "    <tr>\n",
       "      <th>Iraq</th>\n",
       "      <td>3.821616</td>\n",
       "      <td>3.225883</td>\n",
       "      <td>-0.500000</td>\n",
       "    </tr>\n",
       "    <tr>\n",
       "      <th>Saint Pierre and Miquelon</th>\n",
       "      <td>14.014474</td>\n",
       "      <td>4.000000</td>\n",
       "      <td>-0.424242</td>\n",
       "    </tr>\n",
       "  </tbody>\n",
       "</table>\n",
       "<p>236 rows × 3 columns</p>\n",
       "</div>"
      ],
      "text/plain": [
       "                           Change_Download  Change_Upload  Change_Latency\n",
       "Name                                                                     \n",
       "Wallis and Futuna Islands        -0.991780      -0.973705        0.237410\n",
       "Cook Islands                     -0.821603      -0.653204        3.692308\n",
       "Kiribati                         -0.801917      -0.697532        1.362869\n",
       "Cuba                             -0.567984      -0.303181        0.176000\n",
       "Timor-Leste                      -0.543723      -0.483994       -0.027027\n",
       "...                                    ...            ...             ...\n",
       "Cayman Islands                    3.223961       1.128062       -0.026316\n",
       "Mauritania                        3.328165       4.981119        0.153846\n",
       "Guinea-Bissau                     3.554574       1.512042       -0.583333\n",
       "Iraq                              3.821616       3.225883       -0.500000\n",
       "Saint Pierre and Miquelon        14.014474       4.000000       -0.424242\n",
       "\n",
       "[236 rows x 3 columns]"
      ]
     },
     "execution_count": 119,
     "metadata": {},
     "output_type": "execute_result"
    },
    {
     "name": "stdout",
     "output_type": "stream",
     "text": [
      "time: 6.15 ms (started: 2024-05-07 14:49:11 -04:00)\n"
     ]
    }
   ],
   "source": [
    "Mobile_Stats_relative.sort_values(by=['Change_Download'])"
   ]
  },
  {
   "cell_type": "code",
   "execution_count": 120,
   "id": "3a0ee65e",
   "metadata": {},
   "outputs": [
    {
     "name": "stdout",
     "output_type": "stream",
     "text": [
      "Total elapsed time: 8.165380904\n",
      "time: 378 µs (started: 2024-05-07 14:49:11 -04:00)\n"
     ]
    }
   ],
   "source": [
    "SNAPPY_end_time = time.perf_counter_ns()\n",
    "print(\"Total elapsed time:\", (SNAPPY_end_time - SNAPPY_start_time) / (10 ** 9))"
   ]
  },
  {
   "cell_type": "markdown",
   "metadata": {},
   "source": [
    "In this view we have **Saint Pierre and Miquelon** improving the most relative to its baseline speed and **Wallis and Futuna Islands** losing almost all of its original national average download speed for mobile devices. On the other hand, we have **Antarctica** losing 0.82x its original average speed while Tongo improve its speed by 5x for broadband downloads. Either ends of this view of data would be filled with countries that have low download speeds to begin with, as in that case a minute improvement would also be amplified due to its relative nature."
   ]
  }
 ],
 "metadata": {
  "kernelspec": {
   "display_name": "Python 3 (ipykernel)",
   "language": "python",
   "name": "python3"
  },
  "language_info": {
   "codemirror_mode": {
    "name": "ipython",
    "version": 3
   },
   "file_extension": ".py",
   "mimetype": "text/x-python",
   "name": "python",
   "nbconvert_exporter": "python",
   "pygments_lexer": "ipython3",
   "version": "3.10.11"
  }
 },
 "nbformat": 4,
 "nbformat_minor": 4
}
