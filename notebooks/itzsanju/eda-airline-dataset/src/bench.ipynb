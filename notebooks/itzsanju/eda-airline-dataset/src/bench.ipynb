{
 "cells": [
  {
   "cell_type": "markdown",
   "id": "084c201e",
   "metadata": {
    "papermill": {
     "duration": 0.010821,
     "end_time": "2023-09-26T09:13:24.697310",
     "exception": false,
     "start_time": "2023-09-26T09:13:24.686489",
     "status": "completed"
    },
    "tags": []
   },
   "source": [
    "# Data Analysis on Airline Dataset"
   ]
  },
  {
   "cell_type": "markdown",
   "id": "f0749f22",
   "metadata": {
    "papermill": {
     "duration": 0.009862,
     "end_time": "2023-09-26T09:13:24.717339",
     "exception": false,
     "start_time": "2023-09-26T09:13:24.707477",
     "status": "completed"
    },
    "tags": []
   },
   "source": [
    "### Importing required packages"
   ]
  },
  {
   "cell_type": "code",
   "execution_count": 1,
   "id": "8abc0c38",
   "metadata": {
    "_cell_guid": "b1076dfc-b9ad-4769-8c92-a6c4dae69d19",
    "_uuid": "8f2839f25d086af736a60e9eeb907d3b93b6e0e5",
    "execution": {
     "iopub.execute_input": "2023-09-26T09:13:24.739500Z",
     "iopub.status.busy": "2023-09-26T09:13:24.738789Z",
     "iopub.status.idle": "2023-09-26T09:13:27.602152Z",
     "shell.execute_reply": "2023-09-26T09:13:27.600736Z"
    },
    "papermill": {
     "duration": 2.877242,
     "end_time": "2023-09-26T09:13:27.604535",
     "exception": false,
     "start_time": "2023-09-26T09:13:24.727293",
     "status": "completed"
    },
    "tags": []
   },
   "outputs": [
    {
     "name": "stdout",
     "output_type": "stream",
     "text": [
      "../input/Airline Dataset.csv\n",
      "../input/Airline Dataset Updated.csv\n",
      "../input/Airline Dataset Updated - v2.csv\n"
     ]
    }
   ],
   "source": [
    "import numpy as np # linear algebra\n",
    "import pandas as pd # data processing, CSV file I/O (e.g. pd.read_csv)\n",
    "import os\n",
    "for dirname, _, filenames in os.walk('../input'):\n",
    "    for filename in filenames:\n",
    "        print(os.path.join(dirname, filename))\n"
   ]
  },
  {
   "cell_type": "markdown",
   "id": "509e6573",
   "metadata": {
    "execution": {
     "iopub.execute_input": "2023-09-23T16:39:04.702360Z",
     "iopub.status.busy": "2023-09-23T16:39:04.701933Z",
     "iopub.status.idle": "2023-09-23T16:39:04.708065Z",
     "shell.execute_reply": "2023-09-23T16:39:04.706729Z",
     "shell.execute_reply.started": "2023-09-23T16:39:04.702326Z"
    },
    "papermill": {
     "duration": 0.009978,
     "end_time": "2023-09-26T09:13:27.624863",
     "exception": false,
     "start_time": "2023-09-26T09:13:27.614885",
     "status": "completed"
    },
    "tags": []
   },
   "source": [
    "### Reading the Data"
   ]
  },
  {
   "cell_type": "code",
   "execution_count": 2,
   "id": "0d51dc03",
   "metadata": {
    "execution": {
     "iopub.execute_input": "2023-09-26T09:13:27.647680Z",
     "iopub.status.busy": "2023-09-26T09:13:27.647028Z",
     "iopub.status.idle": "2023-09-26T09:13:28.441403Z",
     "shell.execute_reply": "2023-09-26T09:13:28.440382Z"
    },
    "papermill": {
     "duration": 0.808856,
     "end_time": "2023-09-26T09:13:28.443927",
     "exception": false,
     "start_time": "2023-09-26T09:13:27.635071",
     "status": "completed"
    },
    "tags": []
   },
   "outputs": [],
   "source": [
    "df=pd.read_csv(\"../input/Airline Dataset Updated.csv\", parse_dates=[\"Departure Date\"])"
   ]
  },
  {
   "cell_type": "code",
   "execution_count": 3,
   "id": "05feacab",
   "metadata": {},
   "outputs": [
    {
     "name": "stdout",
     "output_type": "stream",
     "text": [
      "<class 'pandas.core.frame.DataFrame'>\n",
      "RangeIndex: 2169618 entries, 0 to 2169617\n",
      "Data columns (total 15 columns):\n",
      " #   Column                Dtype         \n",
      "---  ------                -----         \n",
      " 0   Passenger ID          object        \n",
      " 1   First Name            object        \n",
      " 2   Last Name             object        \n",
      " 3   Gender                object        \n",
      " 4   Age                   int64         \n",
      " 5   Nationality           object        \n",
      " 6   Airport Name          object        \n",
      " 7   Airport Country Code  object        \n",
      " 8   Country Name          object        \n",
      " 9   Airport Continent     object        \n",
      " 10  Continents            object        \n",
      " 11  Departure Date        datetime64[ns]\n",
      " 12  Arrival Airport       object        \n",
      " 13  Pilot Name            object        \n",
      " 14  Flight Status         object        \n",
      "dtypes: datetime64[ns](1), int64(1), object(13)\n",
      "memory usage: 248.3+ MB\n"
     ]
    }
   ],
   "source": [
    "df = df\n",
    "intended_df_size_in_MB = 256\n",
    "factor = intended_df_size_in_MB*(2**20)/df.memory_usage(index=True).sum()\n",
    "if int(factor) > 0:\n",
    "    df = pd.concat([df]*int(factor), ignore_index=True)\n",
    "else:\n",
    "    rowCount = int(df.shape[0]*factor)\n",
    "    df = df[0:rowCount]\n",
    "df = df\n",
    "df.info()"
   ]
  },
  {
   "cell_type": "markdown",
   "id": "0d9822ff",
   "metadata": {
    "execution": {
     "iopub.execute_input": "2023-09-23T16:39:23.288320Z",
     "iopub.status.busy": "2023-09-23T16:39:23.287926Z",
     "iopub.status.idle": "2023-09-23T16:39:23.293738Z",
     "shell.execute_reply": "2023-09-23T16:39:23.292456Z",
     "shell.execute_reply.started": "2023-09-23T16:39:23.288288Z"
    },
    "papermill": {
     "duration": 0.010141,
     "end_time": "2023-09-26T09:13:28.464340",
     "exception": false,
     "start_time": "2023-09-26T09:13:28.454199",
     "status": "completed"
    },
    "tags": []
   },
   "source": [
    "### Overview of the Data"
   ]
  },
  {
   "cell_type": "code",
   "execution_count": 4,
   "id": "7cab045d",
   "metadata": {
    "execution": {
     "iopub.execute_input": "2023-09-26T09:13:28.486916Z",
     "iopub.status.busy": "2023-09-26T09:13:28.485704Z",
     "iopub.status.idle": "2023-09-26T09:13:28.515542Z",
     "shell.execute_reply": "2023-09-26T09:13:28.514094Z"
    },
    "papermill": {
     "duration": 0.044173,
     "end_time": "2023-09-26T09:13:28.518581",
     "exception": false,
     "start_time": "2023-09-26T09:13:28.474408",
     "status": "completed"
    },
    "tags": []
   },
   "outputs": [
    {
     "data": {
      "text/html": [
       "<div>\n",
       "<style scoped>\n",
       "    .dataframe tbody tr th:only-of-type {\n",
       "        vertical-align: middle;\n",
       "    }\n",
       "\n",
       "    .dataframe tbody tr th {\n",
       "        vertical-align: top;\n",
       "    }\n",
       "\n",
       "    .dataframe thead th {\n",
       "        text-align: right;\n",
       "    }\n",
       "</style>\n",
       "<table border=\"1\" class=\"dataframe\">\n",
       "  <thead>\n",
       "    <tr style=\"text-align: right;\">\n",
       "      <th></th>\n",
       "      <th>Passenger ID</th>\n",
       "      <th>First Name</th>\n",
       "      <th>Last Name</th>\n",
       "      <th>Gender</th>\n",
       "      <th>Age</th>\n",
       "      <th>Nationality</th>\n",
       "      <th>Airport Name</th>\n",
       "      <th>Airport Country Code</th>\n",
       "      <th>Country Name</th>\n",
       "      <th>Airport Continent</th>\n",
       "      <th>Continents</th>\n",
       "      <th>Departure Date</th>\n",
       "      <th>Arrival Airport</th>\n",
       "      <th>Pilot Name</th>\n",
       "      <th>Flight Status</th>\n",
       "    </tr>\n",
       "  </thead>\n",
       "  <tbody>\n",
       "    <tr>\n",
       "      <th>0</th>\n",
       "      <td>ABVWIg</td>\n",
       "      <td>Edithe</td>\n",
       "      <td>Leggis</td>\n",
       "      <td>Female</td>\n",
       "      <td>62</td>\n",
       "      <td>Japan</td>\n",
       "      <td>Coldfoot Airport</td>\n",
       "      <td>US</td>\n",
       "      <td>United States</td>\n",
       "      <td>NAM</td>\n",
       "      <td>North America</td>\n",
       "      <td>2022-06-28</td>\n",
       "      <td>CXF</td>\n",
       "      <td>Edithe Leggis</td>\n",
       "      <td>On Time</td>\n",
       "    </tr>\n",
       "    <tr>\n",
       "      <th>1</th>\n",
       "      <td>jkXXAX</td>\n",
       "      <td>Elwood</td>\n",
       "      <td>Catt</td>\n",
       "      <td>Male</td>\n",
       "      <td>62</td>\n",
       "      <td>Nicaragua</td>\n",
       "      <td>Kugluktuk Airport</td>\n",
       "      <td>CA</td>\n",
       "      <td>Canada</td>\n",
       "      <td>NAM</td>\n",
       "      <td>North America</td>\n",
       "      <td>2022-12-26</td>\n",
       "      <td>YCO</td>\n",
       "      <td>Elwood Catt</td>\n",
       "      <td>On Time</td>\n",
       "    </tr>\n",
       "    <tr>\n",
       "      <th>2</th>\n",
       "      <td>CdUz2g</td>\n",
       "      <td>Darby</td>\n",
       "      <td>Felgate</td>\n",
       "      <td>Male</td>\n",
       "      <td>67</td>\n",
       "      <td>Russia</td>\n",
       "      <td>Grenoble-Isère Airport</td>\n",
       "      <td>FR</td>\n",
       "      <td>France</td>\n",
       "      <td>EU</td>\n",
       "      <td>Europe</td>\n",
       "      <td>2022-01-18</td>\n",
       "      <td>GNB</td>\n",
       "      <td>Darby Felgate</td>\n",
       "      <td>On Time</td>\n",
       "    </tr>\n",
       "    <tr>\n",
       "      <th>3</th>\n",
       "      <td>BRS38V</td>\n",
       "      <td>Dominica</td>\n",
       "      <td>Pyle</td>\n",
       "      <td>Female</td>\n",
       "      <td>71</td>\n",
       "      <td>China</td>\n",
       "      <td>Ottawa / Gatineau Airport</td>\n",
       "      <td>CA</td>\n",
       "      <td>Canada</td>\n",
       "      <td>NAM</td>\n",
       "      <td>North America</td>\n",
       "      <td>2022-09-16</td>\n",
       "      <td>YND</td>\n",
       "      <td>Dominica Pyle</td>\n",
       "      <td>Delayed</td>\n",
       "    </tr>\n",
       "    <tr>\n",
       "      <th>4</th>\n",
       "      <td>9kvTLo</td>\n",
       "      <td>Bay</td>\n",
       "      <td>Pencost</td>\n",
       "      <td>Male</td>\n",
       "      <td>21</td>\n",
       "      <td>China</td>\n",
       "      <td>Gillespie Field</td>\n",
       "      <td>US</td>\n",
       "      <td>United States</td>\n",
       "      <td>NAM</td>\n",
       "      <td>North America</td>\n",
       "      <td>2022-02-25</td>\n",
       "      <td>SEE</td>\n",
       "      <td>Bay Pencost</td>\n",
       "      <td>On Time</td>\n",
       "    </tr>\n",
       "    <tr>\n",
       "      <th>5</th>\n",
       "      <td>nMJKVh</td>\n",
       "      <td>Lora</td>\n",
       "      <td>Durbann</td>\n",
       "      <td>Female</td>\n",
       "      <td>55</td>\n",
       "      <td>Brazil</td>\n",
       "      <td>Coronel Horácio de Mattos Airport</td>\n",
       "      <td>BR</td>\n",
       "      <td>Brazil</td>\n",
       "      <td>SAM</td>\n",
       "      <td>South America</td>\n",
       "      <td>2022-06-10</td>\n",
       "      <td>LEC</td>\n",
       "      <td>Lora Durbann</td>\n",
       "      <td>On Time</td>\n",
       "    </tr>\n",
       "    <tr>\n",
       "      <th>6</th>\n",
       "      <td>8IPFPE</td>\n",
       "      <td>Rand</td>\n",
       "      <td>Bram</td>\n",
       "      <td>Male</td>\n",
       "      <td>73</td>\n",
       "      <td>Ivory Coast</td>\n",
       "      <td>Duxford Aerodrome</td>\n",
       "      <td>GB</td>\n",
       "      <td>United Kingdom</td>\n",
       "      <td>EU</td>\n",
       "      <td>Europe</td>\n",
       "      <td>2022-10-30</td>\n",
       "      <td>QFO</td>\n",
       "      <td>Rand Bram</td>\n",
       "      <td>Cancelled</td>\n",
       "    </tr>\n",
       "    <tr>\n",
       "      <th>7</th>\n",
       "      <td>pqixbY</td>\n",
       "      <td>Perceval</td>\n",
       "      <td>Dallosso</td>\n",
       "      <td>Male</td>\n",
       "      <td>36</td>\n",
       "      <td>Vietnam</td>\n",
       "      <td>Maestro Wilson Fonseca Airport</td>\n",
       "      <td>BR</td>\n",
       "      <td>Brazil</td>\n",
       "      <td>SAM</td>\n",
       "      <td>South America</td>\n",
       "      <td>2022-04-07</td>\n",
       "      <td>STM</td>\n",
       "      <td>Perceval Dallosso</td>\n",
       "      <td>Cancelled</td>\n",
       "    </tr>\n",
       "    <tr>\n",
       "      <th>8</th>\n",
       "      <td>QNAs2R</td>\n",
       "      <td>Aleda</td>\n",
       "      <td>Pigram</td>\n",
       "      <td>Female</td>\n",
       "      <td>35</td>\n",
       "      <td>Palestinian Territory</td>\n",
       "      <td>Venice Marco Polo Airport</td>\n",
       "      <td>IT</td>\n",
       "      <td>Italy</td>\n",
       "      <td>EU</td>\n",
       "      <td>Europe</td>\n",
       "      <td>2022-08-20</td>\n",
       "      <td>VCE</td>\n",
       "      <td>Aleda Pigram</td>\n",
       "      <td>On Time</td>\n",
       "    </tr>\n",
       "    <tr>\n",
       "      <th>9</th>\n",
       "      <td>3jmudz</td>\n",
       "      <td>Burlie</td>\n",
       "      <td>Schustl</td>\n",
       "      <td>Male</td>\n",
       "      <td>13</td>\n",
       "      <td>Thailand</td>\n",
       "      <td>Vermilion Airport</td>\n",
       "      <td>CA</td>\n",
       "      <td>Canada</td>\n",
       "      <td>NAM</td>\n",
       "      <td>North America</td>\n",
       "      <td>2022-04-06</td>\n",
       "      <td>YVG</td>\n",
       "      <td>Burlie Schustl</td>\n",
       "      <td>On Time</td>\n",
       "    </tr>\n",
       "    <tr>\n",
       "      <th>10</th>\n",
       "      <td>2P41gZ</td>\n",
       "      <td>Porty</td>\n",
       "      <td>Jori</td>\n",
       "      <td>Male</td>\n",
       "      <td>39</td>\n",
       "      <td>Tunisia</td>\n",
       "      <td>Nuevo Casas Grandes Airport</td>\n",
       "      <td>MX</td>\n",
       "      <td>Mexico</td>\n",
       "      <td>NAM</td>\n",
       "      <td>North America</td>\n",
       "      <td>2022-05-27</td>\n",
       "      <td>NCG</td>\n",
       "      <td>Porty Jori</td>\n",
       "      <td>Cancelled</td>\n",
       "    </tr>\n",
       "  </tbody>\n",
       "</table>\n",
       "</div>"
      ],
      "text/plain": [
       "   Passenger ID First Name Last Name  Gender  Age            Nationality  \\\n",
       "0        ABVWIg     Edithe    Leggis  Female   62                  Japan   \n",
       "1        jkXXAX     Elwood      Catt    Male   62              Nicaragua   \n",
       "2        CdUz2g      Darby   Felgate    Male   67                 Russia   \n",
       "3        BRS38V   Dominica      Pyle  Female   71                  China   \n",
       "4        9kvTLo        Bay   Pencost    Male   21                  China   \n",
       "5        nMJKVh       Lora   Durbann  Female   55                 Brazil   \n",
       "6        8IPFPE       Rand      Bram    Male   73            Ivory Coast   \n",
       "7        pqixbY   Perceval  Dallosso    Male   36                Vietnam   \n",
       "8        QNAs2R      Aleda    Pigram  Female   35  Palestinian Territory   \n",
       "9        3jmudz     Burlie   Schustl    Male   13               Thailand   \n",
       "10       2P41gZ      Porty      Jori    Male   39                Tunisia   \n",
       "\n",
       "                         Airport Name Airport Country Code    Country Name  \\\n",
       "0                    Coldfoot Airport                   US   United States   \n",
       "1                   Kugluktuk Airport                   CA          Canada   \n",
       "2              Grenoble-Isère Airport                   FR          France   \n",
       "3           Ottawa / Gatineau Airport                   CA          Canada   \n",
       "4                     Gillespie Field                   US   United States   \n",
       "5   Coronel Horácio de Mattos Airport                   BR          Brazil   \n",
       "6                   Duxford Aerodrome                   GB  United Kingdom   \n",
       "7      Maestro Wilson Fonseca Airport                   BR          Brazil   \n",
       "8           Venice Marco Polo Airport                   IT           Italy   \n",
       "9                   Vermilion Airport                   CA          Canada   \n",
       "10        Nuevo Casas Grandes Airport                   MX          Mexico   \n",
       "\n",
       "   Airport Continent     Continents Departure Date Arrival Airport  \\\n",
       "0                NAM  North America     2022-06-28             CXF   \n",
       "1                NAM  North America     2022-12-26             YCO   \n",
       "2                 EU         Europe     2022-01-18             GNB   \n",
       "3                NAM  North America     2022-09-16             YND   \n",
       "4                NAM  North America     2022-02-25             SEE   \n",
       "5                SAM  South America     2022-06-10             LEC   \n",
       "6                 EU         Europe     2022-10-30             QFO   \n",
       "7                SAM  South America     2022-04-07             STM   \n",
       "8                 EU         Europe     2022-08-20             VCE   \n",
       "9                NAM  North America     2022-04-06             YVG   \n",
       "10               NAM  North America     2022-05-27             NCG   \n",
       "\n",
       "           Pilot Name Flight Status  \n",
       "0       Edithe Leggis       On Time  \n",
       "1         Elwood Catt       On Time  \n",
       "2       Darby Felgate       On Time  \n",
       "3       Dominica Pyle       Delayed  \n",
       "4         Bay Pencost       On Time  \n",
       "5        Lora Durbann       On Time  \n",
       "6           Rand Bram     Cancelled  \n",
       "7   Perceval Dallosso     Cancelled  \n",
       "8        Aleda Pigram       On Time  \n",
       "9      Burlie Schustl       On Time  \n",
       "10         Porty Jori     Cancelled  "
      ]
     },
     "execution_count": 4,
     "metadata": {},
     "output_type": "execute_result"
    }
   ],
   "source": [
    "df.head(11)"
   ]
  },
  {
   "cell_type": "code",
   "execution_count": 5,
   "id": "c762526a",
   "metadata": {
    "execution": {
     "iopub.execute_input": "2023-09-26T09:13:28.543020Z",
     "iopub.status.busy": "2023-09-26T09:13:28.542614Z",
     "iopub.status.idle": "2023-09-26T09:13:28.694841Z",
     "shell.execute_reply": "2023-09-26T09:13:28.693135Z"
    },
    "papermill": {
     "duration": 0.167562,
     "end_time": "2023-09-26T09:13:28.697774",
     "exception": false,
     "start_time": "2023-09-26T09:13:28.530212",
     "status": "completed"
    },
    "tags": []
   },
   "outputs": [
    {
     "name": "stdout",
     "output_type": "stream",
     "text": [
      "<class 'pandas.core.frame.DataFrame'>\n",
      "RangeIndex: 2169618 entries, 0 to 2169617\n",
      "Data columns (total 15 columns):\n",
      " #   Column                Dtype         \n",
      "---  ------                -----         \n",
      " 0   Passenger ID          object        \n",
      " 1   First Name            object        \n",
      " 2   Last Name             object        \n",
      " 3   Gender                object        \n",
      " 4   Age                   int64         \n",
      " 5   Nationality           object        \n",
      " 6   Airport Name          object        \n",
      " 7   Airport Country Code  object        \n",
      " 8   Country Name          object        \n",
      " 9   Airport Continent     object        \n",
      " 10  Continents            object        \n",
      " 11  Departure Date        datetime64[ns]\n",
      " 12  Arrival Airport       object        \n",
      " 13  Pilot Name            object        \n",
      " 14  Flight Status         object        \n",
      "dtypes: datetime64[ns](1), int64(1), object(13)\n",
      "memory usage: 248.3+ MB\n"
     ]
    }
   ],
   "source": [
    "df.info() "
   ]
  },
  {
   "cell_type": "code",
   "execution_count": 6,
   "id": "a57e3307",
   "metadata": {
    "execution": {
     "iopub.execute_input": "2023-09-26T09:13:28.723869Z",
     "iopub.status.busy": "2023-09-26T09:13:28.722741Z",
     "iopub.status.idle": "2023-09-26T09:13:28.919364Z",
     "shell.execute_reply": "2023-09-26T09:13:28.918222Z"
    },
    "papermill": {
     "duration": 0.212284,
     "end_time": "2023-09-26T09:13:28.921825",
     "exception": false,
     "start_time": "2023-09-26T09:13:28.709541",
     "status": "completed"
    },
    "tags": []
   },
   "outputs": [
    {
     "data": {
      "text/plain": [
       "Passenger ID            98619\n",
       "First Name               8437\n",
       "Last Name               41658\n",
       "Gender                      2\n",
       "Age                        90\n",
       "Nationality               240\n",
       "Airport Name             9062\n",
       "Airport Country Code      235\n",
       "Country Name              235\n",
       "Airport Continent           6\n",
       "Continents                  6\n",
       "Departure Date            364\n",
       "Arrival Airport          9024\n",
       "Pilot Name              98610\n",
       "Flight Status               3\n",
       "dtype: int64"
      ]
     },
     "execution_count": 6,
     "metadata": {},
     "output_type": "execute_result"
    }
   ],
   "source": [
    "df.nunique()"
   ]
  },
  {
   "cell_type": "markdown",
   "id": "7643ac8d",
   "metadata": {
    "execution": {
     "iopub.execute_input": "2023-09-23T16:47:39.248406Z",
     "iopub.status.busy": "2023-09-23T16:47:39.247023Z",
     "iopub.status.idle": "2023-09-23T16:47:39.253260Z",
     "shell.execute_reply": "2023-09-23T16:47:39.251594Z",
     "shell.execute_reply.started": "2023-09-23T16:47:39.248365Z"
    },
    "papermill": {
     "duration": 0.010775,
     "end_time": "2023-09-26T09:13:28.943765",
     "exception": false,
     "start_time": "2023-09-26T09:13:28.932990",
     "status": "completed"
    },
    "tags": []
   },
   "source": [
    "### Data Preparation"
   ]
  },
  {
   "cell_type": "code",
   "execution_count": 7,
   "id": "f1ad7300",
   "metadata": {
    "execution": {
     "iopub.execute_input": "2023-09-26T09:13:28.968108Z",
     "iopub.status.busy": "2023-09-26T09:13:28.967425Z",
     "iopub.status.idle": "2023-09-26T09:13:29.107077Z",
     "shell.execute_reply": "2023-09-26T09:13:29.105969Z"
    },
    "papermill": {
     "duration": 0.154941,
     "end_time": "2023-09-26T09:13:29.109861",
     "exception": false,
     "start_time": "2023-09-26T09:13:28.954920",
     "status": "completed"
    },
    "tags": []
   },
   "outputs": [
    {
     "data": {
      "text/plain": [
       "0"
      ]
     },
     "execution_count": 7,
     "metadata": {},
     "output_type": "execute_result"
    }
   ],
   "source": [
    "df.isnull().sum().sum() #Checking if Null value is present"
   ]
  },
  {
   "cell_type": "code",
   "execution_count": 8,
   "id": "b9b42de2",
   "metadata": {
    "execution": {
     "iopub.execute_input": "2023-09-26T09:13:29.134766Z",
     "iopub.status.busy": "2023-09-26T09:13:29.134348Z",
     "iopub.status.idle": "2023-09-26T09:13:29.157439Z",
     "shell.execute_reply": "2023-09-26T09:13:29.156403Z"
    },
    "papermill": {
     "duration": 0.038143,
     "end_time": "2023-09-26T09:13:29.159514",
     "exception": false,
     "start_time": "2023-09-26T09:13:29.121371",
     "status": "completed"
    },
    "tags": []
   },
   "outputs": [
    {
     "data": {
      "text/plain": [
       "['Female', 'Male']\n",
       "Categories (2, object): ['Female', 'Male']"
      ]
     },
     "execution_count": 8,
     "metadata": {},
     "output_type": "execute_result"
    }
   ],
   "source": [
    "df['Gender']=df['Gender'].astype('category')\n",
    "df['Gender'].unique()"
   ]
  },
  {
   "cell_type": "code",
   "execution_count": 9,
   "id": "61e1fd3a",
   "metadata": {
    "execution": {
     "iopub.execute_input": "2023-09-26T09:13:29.185187Z",
     "iopub.status.busy": "2023-09-26T09:13:29.184447Z",
     "iopub.status.idle": "2023-09-26T09:13:29.190217Z",
     "shell.execute_reply": "2023-09-26T09:13:29.189121Z"
    },
    "papermill": {
     "duration": 0.021513,
     "end_time": "2023-09-26T09:13:29.192485",
     "exception": false,
     "start_time": "2023-09-26T09:13:29.170972",
     "status": "completed"
    },
    "tags": []
   },
   "outputs": [],
   "source": [
    "df['Age']=df['Age'].astype(int)"
   ]
  },
  {
   "cell_type": "markdown",
   "id": "f73cea24",
   "metadata": {
    "papermill": {
     "duration": 0.011528,
     "end_time": "2023-09-26T09:13:29.215912",
     "exception": false,
     "start_time": "2023-09-26T09:13:29.204384",
     "status": "completed"
    },
    "tags": []
   },
   "source": [
    "### Exploratory Data Analysis"
   ]
  },
  {
   "cell_type": "code",
   "execution_count": 10,
   "id": "782a8d64",
   "metadata": {
    "execution": {
     "iopub.execute_input": "2023-09-26T09:13:29.240656Z",
     "iopub.status.busy": "2023-09-26T09:13:29.240278Z",
     "iopub.status.idle": "2023-09-26T09:13:30.497238Z",
     "shell.execute_reply": "2023-09-26T09:13:30.495905Z"
    },
    "papermill": {
     "duration": 1.27245,
     "end_time": "2023-09-26T09:13:30.499784",
     "exception": false,
     "start_time": "2023-09-26T09:13:29.227334",
     "status": "completed"
    },
    "tags": []
   },
   "outputs": [],
   "source": [
    "columns = [key for key, value in df.nunique().to_dict().items() if value < 10]"
   ]
  },
  {
   "cell_type": "code",
   "execution_count": 11,
   "id": "3465eaa9",
   "metadata": {
    "execution": {
     "iopub.execute_input": "2023-09-26T09:13:30.554290Z",
     "iopub.status.busy": "2023-09-26T09:13:30.553382Z",
     "iopub.status.idle": "2023-09-26T09:13:30.563348Z",
     "shell.execute_reply": "2023-09-26T09:13:30.562111Z"
    },
    "papermill": {
     "duration": 0.025991,
     "end_time": "2023-09-26T09:13:30.565584",
     "exception": false,
     "start_time": "2023-09-26T09:13:30.539593",
     "status": "completed"
    },
    "tags": []
   },
   "outputs": [
    {
     "data": {
      "text/plain": [
       "Male      1091156\n",
       "Female    1078462\n",
       "Name: Gender, dtype: int64"
      ]
     },
     "execution_count": 11,
     "metadata": {},
     "output_type": "execute_result"
    }
   ],
   "source": [
    "count_1 = df['Gender'].value_counts()\n",
    "count_1"
   ]
  },
  {
   "cell_type": "code",
   "execution_count": 12,
   "id": "b9869d17",
   "metadata": {
    "execution": {
     "iopub.execute_input": "2023-09-26T09:13:32.483987Z",
     "iopub.status.busy": "2023-09-26T09:13:32.483331Z",
     "iopub.status.idle": "2023-09-26T09:13:32.602294Z",
     "shell.execute_reply": "2023-09-26T09:13:32.601223Z"
    },
    "papermill": {
     "duration": 0.136203,
     "end_time": "2023-09-26T09:13:32.604947",
     "exception": false,
     "start_time": "2023-09-26T09:13:32.468744",
     "status": "completed"
    },
    "tags": []
   },
   "outputs": [],
   "source": [
    "count_2 = df['Country Name'].value_counts()"
   ]
  },
  {
   "cell_type": "code",
   "execution_count": 13,
   "id": "e945a866",
   "metadata": {
    "execution": {
     "iopub.execute_input": "2023-09-26T09:13:32.634201Z",
     "iopub.status.busy": "2023-09-26T09:13:32.633700Z",
     "iopub.status.idle": "2023-09-26T09:13:32.641457Z",
     "shell.execute_reply": "2023-09-26T09:13:32.640199Z"
    },
    "papermill": {
     "duration": 0.025117,
     "end_time": "2023-09-26T09:13:32.643886",
     "exception": false,
     "start_time": "2023-09-26T09:13:32.618769",
     "status": "completed"
    },
    "tags": []
   },
   "outputs": [],
   "source": [
    "df_c= pd.DataFrame(count_2).reset_index().rename(columns={\"index\": \"value\", 0: \"count\"})"
   ]
  },
  {
   "cell_type": "code",
   "execution_count": 14,
   "id": "c8329978",
   "metadata": {
    "execution": {
     "iopub.execute_input": "2023-09-26T09:13:32.672993Z",
     "iopub.status.busy": "2023-09-26T09:13:32.672573Z",
     "iopub.status.idle": "2023-09-26T09:13:32.712387Z",
     "shell.execute_reply": "2023-09-26T09:13:32.711383Z"
    },
    "papermill": {
     "duration": 0.057548,
     "end_time": "2023-09-26T09:13:32.715091",
     "exception": false,
     "start_time": "2023-09-26T09:13:32.657543",
     "status": "completed"
    },
    "tags": []
   },
   "outputs": [],
   "source": [
    "con=df.loc[:,['Country Name','Continents']]\n",
    "con=con.drop_duplicates()\n",
    "#new_df=pd.merge_ordered(df_c,con, fill_method= 'ffill', on= 'Country Name')"
   ]
  },
  {
   "cell_type": "code",
   "execution_count": 15,
   "id": "1ef32ac2",
   "metadata": {
    "execution": {
     "iopub.execute_input": "2023-09-26T09:13:34.986589Z",
     "iopub.status.busy": "2023-09-26T09:13:34.986173Z",
     "iopub.status.idle": "2023-09-26T09:13:35.008384Z",
     "shell.execute_reply": "2023-09-26T09:13:35.007403Z"
    },
    "papermill": {
     "duration": 0.069159,
     "end_time": "2023-09-26T09:13:35.010510",
     "exception": false,
     "start_time": "2023-09-26T09:13:34.941351",
     "status": "completed"
    },
    "tags": []
   },
   "outputs": [],
   "source": [
    "nationality = pd.DataFrame(df['Nationality'].value_counts()).reset_index()"
   ]
  },
  {
   "cell_type": "code",
   "execution_count": 16,
   "id": "41a3233d",
   "metadata": {
    "execution": {
     "iopub.execute_input": "2023-09-26T09:13:35.072617Z",
     "iopub.status.busy": "2023-09-26T09:13:35.072229Z",
     "iopub.status.idle": "2023-09-26T09:13:35.077593Z",
     "shell.execute_reply": "2023-09-26T09:13:35.076516Z"
    },
    "papermill": {
     "duration": 0.039982,
     "end_time": "2023-09-26T09:13:35.080459",
     "exception": false,
     "start_time": "2023-09-26T09:13:35.040477",
     "status": "completed"
    },
    "tags": []
   },
   "outputs": [],
   "source": [
    "nationality = nationality.head(20)"
   ]
  },
  {
   "cell_type": "code",
   "execution_count": 17,
   "id": "ec7f9aa0",
   "metadata": {
    "execution": {
     "iopub.execute_input": "2023-09-26T09:13:35.209404Z",
     "iopub.status.busy": "2023-09-26T09:13:35.208100Z",
     "iopub.status.idle": "2023-09-26T09:13:35.215897Z",
     "shell.execute_reply": "2023-09-26T09:13:35.214563Z"
    },
    "papermill": {
     "duration": 0.043778,
     "end_time": "2023-09-26T09:13:35.219234",
     "exception": false,
     "start_time": "2023-09-26T09:13:35.175456",
     "status": "completed"
    },
    "tags": []
   },
   "outputs": [],
   "source": [
    "nationality.sort_values(by='Nationality', ascending=False, inplace=True)"
   ]
  },
  {
   "cell_type": "code",
   "execution_count": 18,
   "id": "7ae15953",
   "metadata": {
    "execution": {
     "iopub.execute_input": "2023-09-26T09:13:35.477685Z",
     "iopub.status.busy": "2023-09-26T09:13:35.476819Z",
     "iopub.status.idle": "2023-09-26T09:13:35.498158Z",
     "shell.execute_reply": "2023-09-26T09:13:35.497164Z"
    },
    "papermill": {
     "duration": 0.05631,
     "end_time": "2023-09-26T09:13:35.501047",
     "exception": false,
     "start_time": "2023-09-26T09:13:35.444737",
     "status": "completed"
    },
    "tags": []
   },
   "outputs": [],
   "source": [
    "fl_stat = pd.DataFrame(df['Flight Status'].value_counts()).reset_index()"
   ]
  },
  {
   "cell_type": "code",
   "execution_count": null,
   "id": "fb838d54",
   "metadata": {},
   "outputs": [],
   "source": []
  }
 ],
 "metadata": {
  "kernelspec": {
   "display_name": "Python 3 (ipykernel)",
   "language": "python",
   "name": "python3"
  },
  "language_info": {
   "codemirror_mode": {
    "name": "ipython",
    "version": 3
   },
   "file_extension": ".py",
   "mimetype": "text/x-python",
   "name": "python",
   "nbconvert_exporter": "python",
   "pygments_lexer": "ipython3",
   "version": "3.10.13"
  },
  "papermill": {
   "default_parameters": {},
   "duration": 15.426095,
   "end_time": "2023-09-26T09:13:36.501074",
   "environment_variables": {},
   "exception": null,
   "input_path": "__notebook__.ipynb",
   "output_path": "__notebook__.ipynb",
   "parameters": {},
   "start_time": "2023-09-26T09:13:21.074979",
   "version": "2.4.0"
  }
 },
 "nbformat": 4,
 "nbformat_minor": 5
}
