{
 "cells": [
  {
   "cell_type": "code",
   "execution_count": 1,
   "id": "3b40e28c",
   "metadata": {},
   "outputs": [],
   "source": [
    "import os\n",
    "SNAPPY_notebook_path = os.path.join(os.path.abspath(\"\"), \"bench.ipynb\")"
   ]
  },
  {
   "cell_type": "code",
   "execution_count": 2,
   "id": "64f406fe",
   "metadata": {},
   "outputs": [],
   "source": [
    "import time\n",
    "SNAPPY_start_time = time.perf_counter_ns()"
   ]
  },
  {
   "cell_type": "code",
   "execution_count": 3,
   "id": "068bc7b3",
   "metadata": {},
   "outputs": [
    {
     "name": "stdout",
     "output_type": "stream",
     "text": [
      "time: 51.3 µs (started: 2024-05-07 14:57:17 -04:00)\n"
     ]
    }
   ],
   "source": [
    "%load_ext autotime"
   ]
  },
  {
   "cell_type": "code",
   "execution_count": 4,
   "id": "8093eed3",
   "metadata": {
    "_cell_guid": "b1076dfc-b9ad-4769-8c92-a6c4dae69d19",
    "_uuid": "8f2839f25d086af736a60e9eeb907d3b93b6e0e5",
    "execution": {
     "iopub.execute_input": "2023-10-05T12:48:56.720675Z",
     "iopub.status.busy": "2023-10-05T12:48:56.720297Z",
     "iopub.status.idle": "2023-10-05T12:48:58.512517Z",
     "shell.execute_reply": "2023-10-05T12:48:58.511318Z"
    },
    "papermill": {
     "duration": 1.801807,
     "end_time": "2023-10-05T12:48:58.514546",
     "exception": false,
     "start_time": "2023-10-05T12:48:56.712739",
     "status": "completed"
    },
    "tags": []
   },
   "outputs": [
    {
     "name": "stdout",
     "output_type": "stream",
     "text": [
      "time: 234 ms (started: 2024-05-07 14:57:17 -04:00)\n"
     ]
    }
   ],
   "source": [
    "# This Python 3 environment comes with many helpful analytics libraries installed\n",
    "# It is defined by the kaggle/python Docker image: https://github.com/kaggle/docker-python\n",
    "# For example, here's several helpful packages to load\n",
    "\n",
    "import numpy as np # linear algebra\n",
    "import os\n",
    "\n",
    "import pandas as pd\n",
    "\n",
    "\n",
    "# You can write up to 20GB to the current directory (/kaggle/working/) that gets preserved as output when you create a version using \"Save & Run All\" \n",
    "# You can also write temporary files to /kaggle/temp/, but they won't be saved outside of the current session"
   ]
  },
  {
   "cell_type": "code",
   "execution_count": 5,
   "id": "c92d8fa9",
   "metadata": {
    "execution": {
     "iopub.execute_input": "2023-10-05T12:48:58.527194Z",
     "iopub.status.busy": "2023-10-05T12:48:58.526747Z",
     "iopub.status.idle": "2023-10-05T12:48:58.596829Z",
     "shell.execute_reply": "2023-10-05T12:48:58.595857Z"
    },
    "papermill": {
     "duration": 0.078925,
     "end_time": "2023-10-05T12:48:58.599102",
     "exception": false,
     "start_time": "2023-10-05T12:48:58.520177",
     "status": "completed"
    },
    "tags": []
   },
   "outputs": [
    {
     "name": "stdout",
     "output_type": "stream",
     "text": [
      "time: 20.7 ms (started: 2024-05-07 14:57:17 -04:00)\n"
     ]
    }
   ],
   "source": [
    "data = pd.read_csv(os.path.abspath('') + \"/input/Billionaires Statistics Dataset.csv\", index_col=\"rank\")"
   ]
  },
  {
   "cell_type": "code",
   "execution_count": 6,
   "id": "fca07636",
   "metadata": {},
   "outputs": [
    {
     "name": "stdout",
     "output_type": "stream",
     "text": [
      "time: 185 ms (started: 2024-05-07 14:57:17 -04:00)\n"
     ]
    }
   ],
   "source": [
    "factor = 800\n",
    "data = pd.concat([data]*factor, ignore_index=True)\n",
    "# data.info()"
   ]
  },
  {
   "cell_type": "code",
   "execution_count": 7,
   "id": "1ce3661e",
   "metadata": {
    "execution": {
     "iopub.execute_input": "2023-10-05T12:48:58.611857Z",
     "iopub.status.busy": "2023-10-05T12:48:58.611553Z",
     "iopub.status.idle": "2023-10-05T12:48:58.641232Z",
     "shell.execute_reply": "2023-10-05T12:48:58.640194Z"
    },
    "papermill": {
     "duration": 0.038634,
     "end_time": "2023-10-05T12:48:58.643480",
     "exception": false,
     "start_time": "2023-10-05T12:48:58.604846",
     "status": "completed"
    },
    "tags": []
   },
   "outputs": [
    {
     "data": {
      "text/html": [
       "<div>\n",
       "<style scoped>\n",
       "    .dataframe tbody tr th:only-of-type {\n",
       "        vertical-align: middle;\n",
       "    }\n",
       "\n",
       "    .dataframe tbody tr th {\n",
       "        vertical-align: top;\n",
       "    }\n",
       "\n",
       "    .dataframe thead th {\n",
       "        text-align: right;\n",
       "    }\n",
       "</style>\n",
       "<table border=\"1\" class=\"dataframe\">\n",
       "  <thead>\n",
       "    <tr style=\"text-align: right;\">\n",
       "      <th></th>\n",
       "      <th>finalWorth</th>\n",
       "      <th>category</th>\n",
       "      <th>personName</th>\n",
       "      <th>age</th>\n",
       "      <th>country</th>\n",
       "      <th>city</th>\n",
       "      <th>source</th>\n",
       "      <th>industries</th>\n",
       "      <th>countryOfCitizenship</th>\n",
       "      <th>organization</th>\n",
       "      <th>...</th>\n",
       "      <th>cpi_change_country</th>\n",
       "      <th>gdp_country</th>\n",
       "      <th>gross_tertiary_education_enrollment</th>\n",
       "      <th>gross_primary_education_enrollment_country</th>\n",
       "      <th>life_expectancy_country</th>\n",
       "      <th>tax_revenue_country_country</th>\n",
       "      <th>total_tax_rate_country</th>\n",
       "      <th>population_country</th>\n",
       "      <th>latitude_country</th>\n",
       "      <th>longitude_country</th>\n",
       "    </tr>\n",
       "  </thead>\n",
       "  <tbody>\n",
       "    <tr>\n",
       "      <th>0</th>\n",
       "      <td>211000</td>\n",
       "      <td>Fashion &amp; Retail</td>\n",
       "      <td>Bernard Arnault &amp; family</td>\n",
       "      <td>74.0</td>\n",
       "      <td>France</td>\n",
       "      <td>Paris</td>\n",
       "      <td>LVMH</td>\n",
       "      <td>Fashion &amp; Retail</td>\n",
       "      <td>France</td>\n",
       "      <td>LVMH Moët Hennessy Louis Vuitton</td>\n",
       "      <td>...</td>\n",
       "      <td>1.1</td>\n",
       "      <td>$2,715,518,274,227</td>\n",
       "      <td>65.6</td>\n",
       "      <td>102.5</td>\n",
       "      <td>82.5</td>\n",
       "      <td>24.2</td>\n",
       "      <td>60.7</td>\n",
       "      <td>67059887.0</td>\n",
       "      <td>46.227638</td>\n",
       "      <td>2.213749</td>\n",
       "    </tr>\n",
       "    <tr>\n",
       "      <th>1</th>\n",
       "      <td>180000</td>\n",
       "      <td>Automotive</td>\n",
       "      <td>Elon Musk</td>\n",
       "      <td>51.0</td>\n",
       "      <td>United States</td>\n",
       "      <td>Austin</td>\n",
       "      <td>Tesla, SpaceX</td>\n",
       "      <td>Automotive</td>\n",
       "      <td>United States</td>\n",
       "      <td>Tesla</td>\n",
       "      <td>...</td>\n",
       "      <td>7.5</td>\n",
       "      <td>$21,427,700,000,000</td>\n",
       "      <td>88.2</td>\n",
       "      <td>101.8</td>\n",
       "      <td>78.5</td>\n",
       "      <td>9.6</td>\n",
       "      <td>36.6</td>\n",
       "      <td>328239523.0</td>\n",
       "      <td>37.090240</td>\n",
       "      <td>-95.712891</td>\n",
       "    </tr>\n",
       "    <tr>\n",
       "      <th>2</th>\n",
       "      <td>114000</td>\n",
       "      <td>Technology</td>\n",
       "      <td>Jeff Bezos</td>\n",
       "      <td>59.0</td>\n",
       "      <td>United States</td>\n",
       "      <td>Medina</td>\n",
       "      <td>Amazon</td>\n",
       "      <td>Technology</td>\n",
       "      <td>United States</td>\n",
       "      <td>Amazon</td>\n",
       "      <td>...</td>\n",
       "      <td>7.5</td>\n",
       "      <td>$21,427,700,000,000</td>\n",
       "      <td>88.2</td>\n",
       "      <td>101.8</td>\n",
       "      <td>78.5</td>\n",
       "      <td>9.6</td>\n",
       "      <td>36.6</td>\n",
       "      <td>328239523.0</td>\n",
       "      <td>37.090240</td>\n",
       "      <td>-95.712891</td>\n",
       "    </tr>\n",
       "    <tr>\n",
       "      <th>3</th>\n",
       "      <td>107000</td>\n",
       "      <td>Technology</td>\n",
       "      <td>Larry Ellison</td>\n",
       "      <td>78.0</td>\n",
       "      <td>United States</td>\n",
       "      <td>Lanai</td>\n",
       "      <td>Oracle</td>\n",
       "      <td>Technology</td>\n",
       "      <td>United States</td>\n",
       "      <td>Oracle</td>\n",
       "      <td>...</td>\n",
       "      <td>7.5</td>\n",
       "      <td>$21,427,700,000,000</td>\n",
       "      <td>88.2</td>\n",
       "      <td>101.8</td>\n",
       "      <td>78.5</td>\n",
       "      <td>9.6</td>\n",
       "      <td>36.6</td>\n",
       "      <td>328239523.0</td>\n",
       "      <td>37.090240</td>\n",
       "      <td>-95.712891</td>\n",
       "    </tr>\n",
       "    <tr>\n",
       "      <th>4</th>\n",
       "      <td>106000</td>\n",
       "      <td>Finance &amp; Investments</td>\n",
       "      <td>Warren Buffett</td>\n",
       "      <td>92.0</td>\n",
       "      <td>United States</td>\n",
       "      <td>Omaha</td>\n",
       "      <td>Berkshire Hathaway</td>\n",
       "      <td>Finance &amp; Investments</td>\n",
       "      <td>United States</td>\n",
       "      <td>Berkshire Hathaway Inc. (Cl A)</td>\n",
       "      <td>...</td>\n",
       "      <td>7.5</td>\n",
       "      <td>$21,427,700,000,000</td>\n",
       "      <td>88.2</td>\n",
       "      <td>101.8</td>\n",
       "      <td>78.5</td>\n",
       "      <td>9.6</td>\n",
       "      <td>36.6</td>\n",
       "      <td>328239523.0</td>\n",
       "      <td>37.090240</td>\n",
       "      <td>-95.712891</td>\n",
       "    </tr>\n",
       "  </tbody>\n",
       "</table>\n",
       "<p>5 rows × 34 columns</p>\n",
       "</div>"
      ],
      "text/plain": [
       "   finalWorth               category                personName   age  \\\n",
       "0      211000       Fashion & Retail  Bernard Arnault & family  74.0   \n",
       "1      180000             Automotive                 Elon Musk  51.0   \n",
       "2      114000             Technology                Jeff Bezos  59.0   \n",
       "3      107000             Technology             Larry Ellison  78.0   \n",
       "4      106000  Finance & Investments            Warren Buffett  92.0   \n",
       "\n",
       "         country    city              source             industries  \\\n",
       "0         France   Paris                LVMH       Fashion & Retail   \n",
       "1  United States  Austin       Tesla, SpaceX             Automotive   \n",
       "2  United States  Medina              Amazon             Technology   \n",
       "3  United States   Lanai              Oracle             Technology   \n",
       "4  United States   Omaha  Berkshire Hathaway  Finance & Investments   \n",
       "\n",
       "  countryOfCitizenship                      organization  ...  \\\n",
       "0               France  LVMH Moët Hennessy Louis Vuitton  ...   \n",
       "1        United States                             Tesla  ...   \n",
       "2        United States                            Amazon  ...   \n",
       "3        United States                            Oracle  ...   \n",
       "4        United States    Berkshire Hathaway Inc. (Cl A)  ...   \n",
       "\n",
       "   cpi_change_country           gdp_country  \\\n",
       "0                 1.1   $2,715,518,274,227    \n",
       "1                 7.5  $21,427,700,000,000    \n",
       "2                 7.5  $21,427,700,000,000    \n",
       "3                 7.5  $21,427,700,000,000    \n",
       "4                 7.5  $21,427,700,000,000    \n",
       "\n",
       "  gross_tertiary_education_enrollment  \\\n",
       "0                                65.6   \n",
       "1                                88.2   \n",
       "2                                88.2   \n",
       "3                                88.2   \n",
       "4                                88.2   \n",
       "\n",
       "  gross_primary_education_enrollment_country life_expectancy_country  \\\n",
       "0                                      102.5                    82.5   \n",
       "1                                      101.8                    78.5   \n",
       "2                                      101.8                    78.5   \n",
       "3                                      101.8                    78.5   \n",
       "4                                      101.8                    78.5   \n",
       "\n",
       "  tax_revenue_country_country total_tax_rate_country population_country  \\\n",
       "0                        24.2                   60.7         67059887.0   \n",
       "1                         9.6                   36.6        328239523.0   \n",
       "2                         9.6                   36.6        328239523.0   \n",
       "3                         9.6                   36.6        328239523.0   \n",
       "4                         9.6                   36.6        328239523.0   \n",
       "\n",
       "  latitude_country longitude_country  \n",
       "0        46.227638          2.213749  \n",
       "1        37.090240        -95.712891  \n",
       "2        37.090240        -95.712891  \n",
       "3        37.090240        -95.712891  \n",
       "4        37.090240        -95.712891  \n",
       "\n",
       "[5 rows x 34 columns]"
      ]
     },
     "execution_count": 7,
     "metadata": {},
     "output_type": "execute_result"
    },
    {
     "name": "stdout",
     "output_type": "stream",
     "text": [
      "time: 12.8 ms (started: 2024-05-07 14:57:18 -04:00)\n"
     ]
    }
   ],
   "source": [
    "data.head(5)"
   ]
  },
  {
   "cell_type": "code",
   "execution_count": 8,
   "id": "2ed8b733",
   "metadata": {
    "execution": {
     "iopub.execute_input": "2023-10-05T12:48:58.657039Z",
     "iopub.status.busy": "2023-10-05T12:48:58.656722Z",
     "iopub.status.idle": "2023-10-05T12:48:58.707528Z",
     "shell.execute_reply": "2023-10-05T12:48:58.706383Z"
    },
    "papermill": {
     "duration": 0.059827,
     "end_time": "2023-10-05T12:48:58.709529",
     "exception": false,
     "start_time": "2023-10-05T12:48:58.649702",
     "status": "completed"
    },
    "scrolled": true,
    "tags": []
   },
   "outputs": [
    {
     "name": "stdout",
     "output_type": "stream",
     "text": [
      "time: 8.31 ms (started: 2024-05-07 14:57:18 -04:00)\n"
     ]
    }
   ],
   "source": [
    "# data.describe()"
   ]
  },
  {
   "cell_type": "code",
   "execution_count": 9,
   "id": "d0a74f57",
   "metadata": {
    "execution": {
     "iopub.execute_input": "2023-10-05T12:48:58.980864Z",
     "iopub.status.busy": "2023-10-05T12:48:58.979951Z",
     "iopub.status.idle": "2023-10-05T12:48:58.984988Z",
     "shell.execute_reply": "2023-10-05T12:48:58.984353Z"
    },
    "papermill": {
     "duration": 0.014377,
     "end_time": "2023-10-05T12:48:58.986779",
     "exception": false,
     "start_time": "2023-10-05T12:48:58.972402",
     "status": "completed"
    },
    "tags": []
   },
   "outputs": [
    {
     "name": "stdout",
     "output_type": "stream",
     "text": [
      "time: 58.6 ms (started: 2024-05-07 14:57:18 -04:00)\n"
     ]
    }
   ],
   "source": [
    "country_names =data[\"country\"].value_counts() #List of how many billionaires there are in the country"
   ]
  },
  {
   "cell_type": "code",
   "execution_count": 10,
   "id": "6411036f",
   "metadata": {
    "execution": {
     "iopub.execute_input": "2023-10-05T12:48:59.001756Z",
     "iopub.status.busy": "2023-10-05T12:48:59.000825Z",
     "iopub.status.idle": "2023-10-05T12:48:59.008217Z",
     "shell.execute_reply": "2023-10-05T12:48:59.007383Z"
    },
    "papermill": {
     "duration": 0.01679,
     "end_time": "2023-10-05T12:48:59.010068",
     "exception": false,
     "start_time": "2023-10-05T12:48:58.993278",
     "status": "completed"
    },
    "tags": []
   },
   "outputs": [
    {
     "data": {
      "text/plain": [
       "country\n",
       "United States           603200\n",
       "China                   418400\n",
       "India                   125600\n",
       "Germany                  81600\n",
       "United Kingdom           65600\n",
       "                         ...  \n",
       "Portugal                   800\n",
       "Georgia                    800\n",
       "Eswatini (Swaziland)       800\n",
       "Uzbekistan                 800\n",
       "Armenia                    800\n",
       "Name: count, Length: 78, dtype: int64"
      ]
     },
     "execution_count": 10,
     "metadata": {},
     "output_type": "execute_result"
    },
    {
     "name": "stdout",
     "output_type": "stream",
     "text": [
      "time: 11 ms (started: 2024-05-07 14:57:18 -04:00)\n"
     ]
    }
   ],
   "source": [
    "country_names "
   ]
  },
  {
   "cell_type": "markdown",
   "id": "ccba6ac4",
   "metadata": {
    "papermill": {
     "duration": 0.006346,
     "end_time": "2023-10-05T12:48:59.023067",
     "exception": false,
     "start_time": "2023-10-05T12:48:59.016721",
     "status": "completed"
    },
    "tags": []
   },
   "source": [
    "> > > > >  ****10 countries with the most billionaires****"
   ]
  },
  {
   "cell_type": "code",
   "execution_count": 11,
   "id": "bcc42f26",
   "metadata": {
    "execution": {
     "iopub.execute_input": "2023-10-05T12:48:59.342314Z",
     "iopub.status.busy": "2023-10-05T12:48:59.341999Z",
     "iopub.status.idle": "2023-10-05T12:48:59.349356Z",
     "shell.execute_reply": "2023-10-05T12:48:59.348693Z"
    },
    "papermill": {
     "duration": 0.017534,
     "end_time": "2023-10-05T12:48:59.351259",
     "exception": false,
     "start_time": "2023-10-05T12:48:59.333725",
     "status": "completed"
    },
    "tags": []
   },
   "outputs": [
    {
     "name": "stdout",
     "output_type": "stream",
     "text": [
      "time: 25.4 ms (started: 2024-05-07 14:57:18 -04:00)\n"
     ]
    }
   ],
   "source": [
    "data_100 = data.loc[:100,[\"finalWorth\",\"category\",\"country\"]]\n"
   ]
  },
  {
   "cell_type": "code",
   "execution_count": 12,
   "id": "85a5e4e0",
   "metadata": {
    "execution": {
     "iopub.execute_input": "2023-10-05T12:48:59.366442Z",
     "iopub.status.busy": "2023-10-05T12:48:59.366113Z",
     "iopub.status.idle": "2023-10-05T12:48:59.370688Z",
     "shell.execute_reply": "2023-10-05T12:48:59.369858Z"
    },
    "papermill": {
     "duration": 0.014096,
     "end_time": "2023-10-05T12:48:59.372404",
     "exception": false,
     "start_time": "2023-10-05T12:48:59.358308",
     "status": "completed"
    },
    "tags": []
   },
   "outputs": [
    {
     "name": "stdout",
     "output_type": "stream",
     "text": [
      "time: 580 µs (started: 2024-05-07 14:57:18 -04:00)\n"
     ]
    }
   ],
   "source": [
    "data_100_category = data_100[\"category\"].value_counts()"
   ]
  },
  {
   "cell_type": "markdown",
   "id": "e8077d4b",
   "metadata": {
    "papermill": {
     "duration": 0.006672,
     "end_time": "2023-10-05T12:48:59.386169",
     "exception": false,
     "start_time": "2023-10-05T12:48:59.379497",
     "status": "completed"
    },
    "tags": []
   },
   "source": [
    "> > > > > ****Most Richest 100 person in the world and their categories****"
   ]
  },
  {
   "cell_type": "code",
   "execution_count": 13,
   "id": "b35df750",
   "metadata": {
    "execution": {
     "iopub.execute_input": "2023-10-05T12:48:59.761479Z",
     "iopub.status.busy": "2023-10-05T12:48:59.761122Z",
     "iopub.status.idle": "2023-10-05T12:48:59.768869Z",
     "shell.execute_reply": "2023-10-05T12:48:59.767911Z"
    },
    "papermill": {
     "duration": 0.018839,
     "end_time": "2023-10-05T12:48:59.770902",
     "exception": false,
     "start_time": "2023-10-05T12:48:59.752063",
     "status": "completed"
    },
    "tags": []
   },
   "outputs": [
    {
     "name": "stdout",
     "output_type": "stream",
     "text": [
      "time: 158 ms (started: 2024-05-07 14:57:18 -04:00)\n"
     ]
    }
   ],
   "source": [
    "data_usa = data[data[\"country\"]== \"United States\"] #We focus on billionaires based in United States\n"
   ]
  },
  {
   "cell_type": "code",
   "execution_count": 14,
   "id": "1d972925",
   "metadata": {
    "execution": {
     "iopub.execute_input": "2023-10-05T12:48:59.787448Z",
     "iopub.status.busy": "2023-10-05T12:48:59.787140Z",
     "iopub.status.idle": "2023-10-05T12:48:59.795151Z",
     "shell.execute_reply": "2023-10-05T12:48:59.794027Z"
    },
    "papermill": {
     "duration": 0.018482,
     "end_time": "2023-10-05T12:48:59.797174",
     "exception": false,
     "start_time": "2023-10-05T12:48:59.778692",
     "status": "completed"
    },
    "tags": []
   },
   "outputs": [
    {
     "data": {
      "text/plain": [
       "category\n",
       "Finance & Investments         152000\n",
       "Technology                    112800\n",
       "Food & Beverage                59200\n",
       "Fashion & Retail               50400\n",
       "Real Estate                    40800\n",
       "Media & Entertainment          29600\n",
       "Energy                         28000\n",
       "Sports                         28000\n",
       "Healthcare                     27200\n",
       "Manufacturing                  22400\n",
       "Service                        15200\n",
       "Diversified                    10400\n",
       "Automotive                      9600\n",
       "Gambling & Casinos              4800\n",
       "Telecom                         4000\n",
       "Construction & Engineering      4000\n",
       "Logistics                       4000\n",
       "Metals & Mining                  800\n",
       "Name: count, dtype: int64"
      ]
     },
     "execution_count": 14,
     "metadata": {},
     "output_type": "execute_result"
    },
    {
     "name": "stdout",
     "output_type": "stream",
     "text": [
      "time: 16.2 ms (started: 2024-05-07 14:57:18 -04:00)\n"
     ]
    }
   ],
   "source": [
    "data_usa_category = data_usa[\"category\"].value_counts()\n",
    "data_usa_category"
   ]
  },
  {
   "cell_type": "markdown",
   "id": "a5a3bdc1",
   "metadata": {
    "papermill": {
     "duration": 0.007751,
     "end_time": "2023-10-05T12:48:59.812952",
     "exception": false,
     "start_time": "2023-10-05T12:48:59.805201",
     "status": "completed"
    },
    "tags": []
   },
   "source": [
    "> > > > > ****All Billionaires in the USA and their categories****"
   ]
  },
  {
   "cell_type": "code",
   "execution_count": 15,
   "id": "21086dd3",
   "metadata": {
    "execution": {
     "iopub.execute_input": "2023-10-05T12:49:00.213911Z",
     "iopub.status.busy": "2023-10-05T12:49:00.213595Z",
     "iopub.status.idle": "2023-10-05T12:49:00.227664Z",
     "shell.execute_reply": "2023-10-05T12:49:00.226649Z"
    },
    "papermill": {
     "duration": 0.026256,
     "end_time": "2023-10-05T12:49:00.229836",
     "exception": false,
     "start_time": "2023-10-05T12:49:00.203580",
     "status": "completed"
    },
    "tags": []
   },
   "outputs": [
    {
     "name": "stdout",
     "output_type": "stream",
     "text": [
      "city\n",
      "New York             79200\n",
      "San Francisco        29600\n",
      "Los Angeles          27200\n",
      "Palm Beach           16800\n",
      "Dallas               16000\n",
      "                     ...  \n",
      "Steamboat Springs      800\n",
      "Westlake               800\n",
      "Coconut Grove          800\n",
      "Short Hills            800\n",
      "Pottsville             800\n",
      "Name: count, Length: 268, dtype: int64\n",
      "time: 24.8 ms (started: 2024-05-07 14:57:18 -04:00)\n"
     ]
    }
   ],
   "source": [
    "data_usa_city = data_usa[\"city\"].value_counts()\n",
    "print(data_usa_city)\n",
    "# data_usa_city.info()"
   ]
  },
  {
   "cell_type": "markdown",
   "id": "fd7e10cd",
   "metadata": {
    "papermill": {
     "duration": 0.008638,
     "end_time": "2023-10-05T12:49:00.247730",
     "exception": false,
     "start_time": "2023-10-05T12:49:00.239092",
     "status": "completed"
    },
    "tags": []
   },
   "source": [
    "268 city exist, I'll try .head(20)"
   ]
  },
  {
   "cell_type": "markdown",
   "id": "1f465d66",
   "metadata": {
    "papermill": {
     "duration": 0.008475,
     "end_time": "2023-10-05T12:49:00.265130",
     "exception": false,
     "start_time": "2023-10-05T12:49:00.256655",
     "status": "completed"
    },
    "tags": []
   },
   "source": [
    "> > > > > **The 20 cities has most billionaires in usa**"
   ]
  },
  {
   "cell_type": "code",
   "execution_count": 16,
   "id": "d9d04a55",
   "metadata": {
    "execution": {
     "iopub.execute_input": "2023-10-05T12:49:00.661895Z",
     "iopub.status.busy": "2023-10-05T12:49:00.661552Z",
     "iopub.status.idle": "2023-10-05T12:49:00.685266Z",
     "shell.execute_reply": "2023-10-05T12:49:00.684226Z"
    },
    "papermill": {
     "duration": 0.036446,
     "end_time": "2023-10-05T12:49:00.687072",
     "exception": false,
     "start_time": "2023-10-05T12:49:00.650626",
     "status": "completed"
    },
    "tags": []
   },
   "outputs": [
    {
     "data": {
      "text/html": [
       "<div>\n",
       "<style scoped>\n",
       "    .dataframe tbody tr th:only-of-type {\n",
       "        vertical-align: middle;\n",
       "    }\n",
       "\n",
       "    .dataframe tbody tr th {\n",
       "        vertical-align: top;\n",
       "    }\n",
       "\n",
       "    .dataframe thead th {\n",
       "        text-align: right;\n",
       "    }\n",
       "</style>\n",
       "<table border=\"1\" class=\"dataframe\">\n",
       "  <thead>\n",
       "    <tr style=\"text-align: right;\">\n",
       "      <th></th>\n",
       "      <th>finalWorth</th>\n",
       "      <th>category</th>\n",
       "      <th>personName</th>\n",
       "      <th>age</th>\n",
       "      <th>country</th>\n",
       "      <th>city</th>\n",
       "      <th>source</th>\n",
       "      <th>industries</th>\n",
       "      <th>countryOfCitizenship</th>\n",
       "      <th>organization</th>\n",
       "      <th>...</th>\n",
       "      <th>cpi_change_country</th>\n",
       "      <th>gdp_country</th>\n",
       "      <th>gross_tertiary_education_enrollment</th>\n",
       "      <th>gross_primary_education_enrollment_country</th>\n",
       "      <th>life_expectancy_country</th>\n",
       "      <th>tax_revenue_country_country</th>\n",
       "      <th>total_tax_rate_country</th>\n",
       "      <th>population_country</th>\n",
       "      <th>latitude_country</th>\n",
       "      <th>longitude_country</th>\n",
       "    </tr>\n",
       "  </thead>\n",
       "  <tbody>\n",
       "    <tr>\n",
       "      <th>0</th>\n",
       "      <td>211000</td>\n",
       "      <td>Fashion &amp; Retail</td>\n",
       "      <td>Bernard Arnault &amp; family</td>\n",
       "      <td>74.0</td>\n",
       "      <td>France</td>\n",
       "      <td>Paris</td>\n",
       "      <td>LVMH</td>\n",
       "      <td>Fashion &amp; Retail</td>\n",
       "      <td>France</td>\n",
       "      <td>LVMH Moët Hennessy Louis Vuitton</td>\n",
       "      <td>...</td>\n",
       "      <td>1.1</td>\n",
       "      <td>$2,715,518,274,227</td>\n",
       "      <td>65.6</td>\n",
       "      <td>102.5</td>\n",
       "      <td>82.5</td>\n",
       "      <td>24.2</td>\n",
       "      <td>60.7</td>\n",
       "      <td>67059887.0</td>\n",
       "      <td>46.227638</td>\n",
       "      <td>2.213749</td>\n",
       "    </tr>\n",
       "    <tr>\n",
       "      <th>1</th>\n",
       "      <td>180000</td>\n",
       "      <td>Automotive</td>\n",
       "      <td>Elon Musk</td>\n",
       "      <td>51.0</td>\n",
       "      <td>United States</td>\n",
       "      <td>Austin</td>\n",
       "      <td>Tesla, SpaceX</td>\n",
       "      <td>Automotive</td>\n",
       "      <td>United States</td>\n",
       "      <td>Tesla</td>\n",
       "      <td>...</td>\n",
       "      <td>7.5</td>\n",
       "      <td>$21,427,700,000,000</td>\n",
       "      <td>88.2</td>\n",
       "      <td>101.8</td>\n",
       "      <td>78.5</td>\n",
       "      <td>9.6</td>\n",
       "      <td>36.6</td>\n",
       "      <td>328239523.0</td>\n",
       "      <td>37.090240</td>\n",
       "      <td>-95.712891</td>\n",
       "    </tr>\n",
       "    <tr>\n",
       "      <th>2</th>\n",
       "      <td>114000</td>\n",
       "      <td>Technology</td>\n",
       "      <td>Jeff Bezos</td>\n",
       "      <td>59.0</td>\n",
       "      <td>United States</td>\n",
       "      <td>Medina</td>\n",
       "      <td>Amazon</td>\n",
       "      <td>Technology</td>\n",
       "      <td>United States</td>\n",
       "      <td>Amazon</td>\n",
       "      <td>...</td>\n",
       "      <td>7.5</td>\n",
       "      <td>$21,427,700,000,000</td>\n",
       "      <td>88.2</td>\n",
       "      <td>101.8</td>\n",
       "      <td>78.5</td>\n",
       "      <td>9.6</td>\n",
       "      <td>36.6</td>\n",
       "      <td>328239523.0</td>\n",
       "      <td>37.090240</td>\n",
       "      <td>-95.712891</td>\n",
       "    </tr>\n",
       "    <tr>\n",
       "      <th>3</th>\n",
       "      <td>107000</td>\n",
       "      <td>Technology</td>\n",
       "      <td>Larry Ellison</td>\n",
       "      <td>78.0</td>\n",
       "      <td>United States</td>\n",
       "      <td>Lanai</td>\n",
       "      <td>Oracle</td>\n",
       "      <td>Technology</td>\n",
       "      <td>United States</td>\n",
       "      <td>Oracle</td>\n",
       "      <td>...</td>\n",
       "      <td>7.5</td>\n",
       "      <td>$21,427,700,000,000</td>\n",
       "      <td>88.2</td>\n",
       "      <td>101.8</td>\n",
       "      <td>78.5</td>\n",
       "      <td>9.6</td>\n",
       "      <td>36.6</td>\n",
       "      <td>328239523.0</td>\n",
       "      <td>37.090240</td>\n",
       "      <td>-95.712891</td>\n",
       "    </tr>\n",
       "    <tr>\n",
       "      <th>4</th>\n",
       "      <td>106000</td>\n",
       "      <td>Finance &amp; Investments</td>\n",
       "      <td>Warren Buffett</td>\n",
       "      <td>92.0</td>\n",
       "      <td>United States</td>\n",
       "      <td>Omaha</td>\n",
       "      <td>Berkshire Hathaway</td>\n",
       "      <td>Finance &amp; Investments</td>\n",
       "      <td>United States</td>\n",
       "      <td>Berkshire Hathaway Inc. (Cl A)</td>\n",
       "      <td>...</td>\n",
       "      <td>7.5</td>\n",
       "      <td>$21,427,700,000,000</td>\n",
       "      <td>88.2</td>\n",
       "      <td>101.8</td>\n",
       "      <td>78.5</td>\n",
       "      <td>9.6</td>\n",
       "      <td>36.6</td>\n",
       "      <td>328239523.0</td>\n",
       "      <td>37.090240</td>\n",
       "      <td>-95.712891</td>\n",
       "    </tr>\n",
       "  </tbody>\n",
       "</table>\n",
       "<p>5 rows × 34 columns</p>\n",
       "</div>"
      ],
      "text/plain": [
       "   finalWorth               category                personName   age  \\\n",
       "0      211000       Fashion & Retail  Bernard Arnault & family  74.0   \n",
       "1      180000             Automotive                 Elon Musk  51.0   \n",
       "2      114000             Technology                Jeff Bezos  59.0   \n",
       "3      107000             Technology             Larry Ellison  78.0   \n",
       "4      106000  Finance & Investments            Warren Buffett  92.0   \n",
       "\n",
       "         country    city              source             industries  \\\n",
       "0         France   Paris                LVMH       Fashion & Retail   \n",
       "1  United States  Austin       Tesla, SpaceX             Automotive   \n",
       "2  United States  Medina              Amazon             Technology   \n",
       "3  United States   Lanai              Oracle             Technology   \n",
       "4  United States   Omaha  Berkshire Hathaway  Finance & Investments   \n",
       "\n",
       "  countryOfCitizenship                      organization  ...  \\\n",
       "0               France  LVMH Moët Hennessy Louis Vuitton  ...   \n",
       "1        United States                             Tesla  ...   \n",
       "2        United States                            Amazon  ...   \n",
       "3        United States                            Oracle  ...   \n",
       "4        United States    Berkshire Hathaway Inc. (Cl A)  ...   \n",
       "\n",
       "   cpi_change_country           gdp_country  \\\n",
       "0                 1.1   $2,715,518,274,227    \n",
       "1                 7.5  $21,427,700,000,000    \n",
       "2                 7.5  $21,427,700,000,000    \n",
       "3                 7.5  $21,427,700,000,000    \n",
       "4                 7.5  $21,427,700,000,000    \n",
       "\n",
       "  gross_tertiary_education_enrollment  \\\n",
       "0                                65.6   \n",
       "1                                88.2   \n",
       "2                                88.2   \n",
       "3                                88.2   \n",
       "4                                88.2   \n",
       "\n",
       "  gross_primary_education_enrollment_country life_expectancy_country  \\\n",
       "0                                      102.5                    82.5   \n",
       "1                                      101.8                    78.5   \n",
       "2                                      101.8                    78.5   \n",
       "3                                      101.8                    78.5   \n",
       "4                                      101.8                    78.5   \n",
       "\n",
       "  tax_revenue_country_country total_tax_rate_country population_country  \\\n",
       "0                        24.2                   60.7         67059887.0   \n",
       "1                         9.6                   36.6        328239523.0   \n",
       "2                         9.6                   36.6        328239523.0   \n",
       "3                         9.6                   36.6        328239523.0   \n",
       "4                         9.6                   36.6        328239523.0   \n",
       "\n",
       "  latitude_country longitude_country  \n",
       "0        46.227638          2.213749  \n",
       "1        37.090240        -95.712891  \n",
       "2        37.090240        -95.712891  \n",
       "3        37.090240        -95.712891  \n",
       "4        37.090240        -95.712891  \n",
       "\n",
       "[5 rows x 34 columns]"
      ]
     },
     "execution_count": 16,
     "metadata": {},
     "output_type": "execute_result"
    },
    {
     "name": "stdout",
     "output_type": "stream",
     "text": [
      "time: 20.1 ms (started: 2024-05-07 14:57:18 -04:00)\n"
     ]
    }
   ],
   "source": [
    "data.head(5)"
   ]
  },
  {
   "cell_type": "code",
   "execution_count": 17,
   "id": "cb8f10ed",
   "metadata": {
    "execution": {
     "iopub.execute_input": "2023-10-05T12:49:00.708498Z",
     "iopub.status.busy": "2023-10-05T12:49:00.707915Z",
     "iopub.status.idle": "2023-10-05T12:49:00.715155Z",
     "shell.execute_reply": "2023-10-05T12:49:00.714406Z"
    },
    "papermill": {
     "duration": 0.020096,
     "end_time": "2023-10-05T12:49:00.717198",
     "exception": false,
     "start_time": "2023-10-05T12:49:00.697102",
     "status": "completed"
    },
    "tags": []
   },
   "outputs": [
    {
     "data": {
      "text/plain": [
       "['Fashion & Retail',\n",
       " 'Automotive',\n",
       " 'Technology',\n",
       " 'Finance & Investments',\n",
       " 'Media & Entertainment',\n",
       " 'Telecom',\n",
       " 'Diversified',\n",
       " 'Food & Beverage',\n",
       " 'Logistics',\n",
       " 'Gambling & Casinos',\n",
       " 'Manufacturing',\n",
       " 'Real Estate',\n",
       " 'Metals & Mining',\n",
       " 'Energy',\n",
       " 'Healthcare',\n",
       " 'Service',\n",
       " 'Construction & Engineering',\n",
       " 'Sports']"
      ]
     },
     "execution_count": 17,
     "metadata": {},
     "output_type": "execute_result"
    },
    {
     "name": "stdout",
     "output_type": "stream",
     "text": [
      "time: 65.7 ms (started: 2024-05-07 14:57:18 -04:00)\n"
     ]
    }
   ],
   "source": [
    "category_list = list(data.category.unique())\n",
    "category_list"
   ]
  },
  {
   "cell_type": "code",
   "execution_count": 18,
   "id": "07f86cd4",
   "metadata": {
    "execution": {
     "iopub.execute_input": "2023-10-05T12:49:00.739164Z",
     "iopub.status.busy": "2023-10-05T12:49:00.738526Z",
     "iopub.status.idle": "2023-10-05T12:49:00.759569Z",
     "shell.execute_reply": "2023-10-05T12:49:00.758491Z"
    },
    "papermill": {
     "duration": 0.034351,
     "end_time": "2023-10-05T12:49:00.761812",
     "exception": false,
     "start_time": "2023-10-05T12:49:00.727461",
     "status": "completed"
    },
    "tags": []
   },
   "outputs": [
    {
     "name": "stdout",
     "output_type": "stream",
     "text": [
      "time: 2.01 s (started: 2024-05-07 14:57:18 -04:00)\n"
     ]
    }
   ],
   "source": [
    "data.finalWorth = data.finalWorth.astype(float)\n",
    "worth_average = []\n",
    "for i in category_list:\n",
    "    x = data[data['category']==i]\n",
    "    worth_ratio = sum(x.finalWorth)/len(x)\n",
    "    worth_average.append(worth_ratio)\n",
    "data2 = pd.DataFrame({'category_list': category_list,'worth_average':worth_average})\n",
    "new_index = (data2['worth_average'].sort_values(ascending=False)).index.values\n",
    "new_data = data2.reindex(new_index)"
   ]
  },
  {
   "cell_type": "code",
   "execution_count": 19,
   "id": "29d6dba7",
   "metadata": {
    "execution": {
     "iopub.execute_input": "2023-10-05T12:49:01.302030Z",
     "iopub.status.busy": "2023-10-05T12:49:01.301709Z",
     "iopub.status.idle": "2023-10-05T12:49:01.310054Z",
     "shell.execute_reply": "2023-10-05T12:49:01.309180Z"
    },
    "papermill": {
     "duration": 0.023845,
     "end_time": "2023-10-05T12:49:01.311993",
     "exception": false,
     "start_time": "2023-10-05T12:49:01.288148",
     "status": "completed"
    },
    "tags": []
   },
   "outputs": [
    {
     "name": "stdout",
     "output_type": "stream",
     "text": [
      "time: 800 ms (started: 2024-05-07 14:57:20 -04:00)\n"
     ]
    }
   ],
   "source": [
    "data3 =data.dropna(axis=\"index\",how=\"any\",inplace=False) # ı created new df because so many nan values was exist"
   ]
  },
  {
   "cell_type": "code",
   "execution_count": 20,
   "id": "ed5bb7fe",
   "metadata": {
    "execution": {
     "iopub.execute_input": "2023-10-05T12:49:01.338546Z",
     "iopub.status.busy": "2023-10-05T12:49:01.337664Z",
     "iopub.status.idle": "2023-10-05T12:49:01.360149Z",
     "shell.execute_reply": "2023-10-05T12:49:01.359236Z"
    },
    "papermill": {
     "duration": 0.037351,
     "end_time": "2023-10-05T12:49:01.362068",
     "exception": false,
     "start_time": "2023-10-05T12:49:01.324717",
     "status": "completed"
    },
    "tags": []
   },
   "outputs": [
    {
     "data": {
      "text/html": [
       "<div>\n",
       "<style scoped>\n",
       "    .dataframe tbody tr th:only-of-type {\n",
       "        vertical-align: middle;\n",
       "    }\n",
       "\n",
       "    .dataframe tbody tr th {\n",
       "        vertical-align: top;\n",
       "    }\n",
       "\n",
       "    .dataframe thead th {\n",
       "        text-align: right;\n",
       "    }\n",
       "</style>\n",
       "<table border=\"1\" class=\"dataframe\">\n",
       "  <thead>\n",
       "    <tr style=\"text-align: right;\">\n",
       "      <th></th>\n",
       "      <th>finalWorth</th>\n",
       "      <th>category</th>\n",
       "      <th>personName</th>\n",
       "      <th>age</th>\n",
       "      <th>country</th>\n",
       "      <th>city</th>\n",
       "      <th>source</th>\n",
       "      <th>industries</th>\n",
       "      <th>countryOfCitizenship</th>\n",
       "      <th>organization</th>\n",
       "      <th>...</th>\n",
       "      <th>cpi_change_country</th>\n",
       "      <th>gdp_country</th>\n",
       "      <th>gross_tertiary_education_enrollment</th>\n",
       "      <th>gross_primary_education_enrollment_country</th>\n",
       "      <th>life_expectancy_country</th>\n",
       "      <th>tax_revenue_country_country</th>\n",
       "      <th>total_tax_rate_country</th>\n",
       "      <th>population_country</th>\n",
       "      <th>latitude_country</th>\n",
       "      <th>longitude_country</th>\n",
       "    </tr>\n",
       "  </thead>\n",
       "  <tbody>\n",
       "    <tr>\n",
       "      <th>1</th>\n",
       "      <td>180000.0</td>\n",
       "      <td>Automotive</td>\n",
       "      <td>Elon Musk</td>\n",
       "      <td>51.0</td>\n",
       "      <td>United States</td>\n",
       "      <td>Austin</td>\n",
       "      <td>Tesla, SpaceX</td>\n",
       "      <td>Automotive</td>\n",
       "      <td>United States</td>\n",
       "      <td>Tesla</td>\n",
       "      <td>...</td>\n",
       "      <td>7.5</td>\n",
       "      <td>$21,427,700,000,000</td>\n",
       "      <td>88.2</td>\n",
       "      <td>101.8</td>\n",
       "      <td>78.5</td>\n",
       "      <td>9.6</td>\n",
       "      <td>36.6</td>\n",
       "      <td>328239523.0</td>\n",
       "      <td>37.09024</td>\n",
       "      <td>-95.712891</td>\n",
       "    </tr>\n",
       "    <tr>\n",
       "      <th>2</th>\n",
       "      <td>114000.0</td>\n",
       "      <td>Technology</td>\n",
       "      <td>Jeff Bezos</td>\n",
       "      <td>59.0</td>\n",
       "      <td>United States</td>\n",
       "      <td>Medina</td>\n",
       "      <td>Amazon</td>\n",
       "      <td>Technology</td>\n",
       "      <td>United States</td>\n",
       "      <td>Amazon</td>\n",
       "      <td>...</td>\n",
       "      <td>7.5</td>\n",
       "      <td>$21,427,700,000,000</td>\n",
       "      <td>88.2</td>\n",
       "      <td>101.8</td>\n",
       "      <td>78.5</td>\n",
       "      <td>9.6</td>\n",
       "      <td>36.6</td>\n",
       "      <td>328239523.0</td>\n",
       "      <td>37.09024</td>\n",
       "      <td>-95.712891</td>\n",
       "    </tr>\n",
       "    <tr>\n",
       "      <th>3</th>\n",
       "      <td>107000.0</td>\n",
       "      <td>Technology</td>\n",
       "      <td>Larry Ellison</td>\n",
       "      <td>78.0</td>\n",
       "      <td>United States</td>\n",
       "      <td>Lanai</td>\n",
       "      <td>Oracle</td>\n",
       "      <td>Technology</td>\n",
       "      <td>United States</td>\n",
       "      <td>Oracle</td>\n",
       "      <td>...</td>\n",
       "      <td>7.5</td>\n",
       "      <td>$21,427,700,000,000</td>\n",
       "      <td>88.2</td>\n",
       "      <td>101.8</td>\n",
       "      <td>78.5</td>\n",
       "      <td>9.6</td>\n",
       "      <td>36.6</td>\n",
       "      <td>328239523.0</td>\n",
       "      <td>37.09024</td>\n",
       "      <td>-95.712891</td>\n",
       "    </tr>\n",
       "    <tr>\n",
       "      <th>4</th>\n",
       "      <td>106000.0</td>\n",
       "      <td>Finance &amp; Investments</td>\n",
       "      <td>Warren Buffett</td>\n",
       "      <td>92.0</td>\n",
       "      <td>United States</td>\n",
       "      <td>Omaha</td>\n",
       "      <td>Berkshire Hathaway</td>\n",
       "      <td>Finance &amp; Investments</td>\n",
       "      <td>United States</td>\n",
       "      <td>Berkshire Hathaway Inc. (Cl A)</td>\n",
       "      <td>...</td>\n",
       "      <td>7.5</td>\n",
       "      <td>$21,427,700,000,000</td>\n",
       "      <td>88.2</td>\n",
       "      <td>101.8</td>\n",
       "      <td>78.5</td>\n",
       "      <td>9.6</td>\n",
       "      <td>36.6</td>\n",
       "      <td>328239523.0</td>\n",
       "      <td>37.09024</td>\n",
       "      <td>-95.712891</td>\n",
       "    </tr>\n",
       "    <tr>\n",
       "      <th>5</th>\n",
       "      <td>104000.0</td>\n",
       "      <td>Technology</td>\n",
       "      <td>Bill Gates</td>\n",
       "      <td>67.0</td>\n",
       "      <td>United States</td>\n",
       "      <td>Medina</td>\n",
       "      <td>Microsoft</td>\n",
       "      <td>Technology</td>\n",
       "      <td>United States</td>\n",
       "      <td>Bill &amp; Melinda Gates Foundation</td>\n",
       "      <td>...</td>\n",
       "      <td>7.5</td>\n",
       "      <td>$21,427,700,000,000</td>\n",
       "      <td>88.2</td>\n",
       "      <td>101.8</td>\n",
       "      <td>78.5</td>\n",
       "      <td>9.6</td>\n",
       "      <td>36.6</td>\n",
       "      <td>328239523.0</td>\n",
       "      <td>37.09024</td>\n",
       "      <td>-95.712891</td>\n",
       "    </tr>\n",
       "  </tbody>\n",
       "</table>\n",
       "<p>5 rows × 34 columns</p>\n",
       "</div>"
      ],
      "text/plain": [
       "   finalWorth               category      personName   age        country  \\\n",
       "1    180000.0             Automotive       Elon Musk  51.0  United States   \n",
       "2    114000.0             Technology      Jeff Bezos  59.0  United States   \n",
       "3    107000.0             Technology   Larry Ellison  78.0  United States   \n",
       "4    106000.0  Finance & Investments  Warren Buffett  92.0  United States   \n",
       "5    104000.0             Technology      Bill Gates  67.0  United States   \n",
       "\n",
       "     city              source             industries countryOfCitizenship  \\\n",
       "1  Austin       Tesla, SpaceX             Automotive        United States   \n",
       "2  Medina              Amazon             Technology        United States   \n",
       "3   Lanai              Oracle             Technology        United States   \n",
       "4   Omaha  Berkshire Hathaway  Finance & Investments        United States   \n",
       "5  Medina           Microsoft             Technology        United States   \n",
       "\n",
       "                      organization  ...  cpi_change_country  \\\n",
       "1                            Tesla  ...                 7.5   \n",
       "2                           Amazon  ...                 7.5   \n",
       "3                           Oracle  ...                 7.5   \n",
       "4   Berkshire Hathaway Inc. (Cl A)  ...                 7.5   \n",
       "5  Bill & Melinda Gates Foundation  ...                 7.5   \n",
       "\n",
       "            gdp_country gross_tertiary_education_enrollment  \\\n",
       "1  $21,427,700,000,000                                 88.2   \n",
       "2  $21,427,700,000,000                                 88.2   \n",
       "3  $21,427,700,000,000                                 88.2   \n",
       "4  $21,427,700,000,000                                 88.2   \n",
       "5  $21,427,700,000,000                                 88.2   \n",
       "\n",
       "  gross_primary_education_enrollment_country life_expectancy_country  \\\n",
       "1                                      101.8                    78.5   \n",
       "2                                      101.8                    78.5   \n",
       "3                                      101.8                    78.5   \n",
       "4                                      101.8                    78.5   \n",
       "5                                      101.8                    78.5   \n",
       "\n",
       "  tax_revenue_country_country total_tax_rate_country population_country  \\\n",
       "1                         9.6                   36.6        328239523.0   \n",
       "2                         9.6                   36.6        328239523.0   \n",
       "3                         9.6                   36.6        328239523.0   \n",
       "4                         9.6                   36.6        328239523.0   \n",
       "5                         9.6                   36.6        328239523.0   \n",
       "\n",
       "  latitude_country longitude_country  \n",
       "1         37.09024        -95.712891  \n",
       "2         37.09024        -95.712891  \n",
       "3         37.09024        -95.712891  \n",
       "4         37.09024        -95.712891  \n",
       "5         37.09024        -95.712891  \n",
       "\n",
       "[5 rows x 34 columns]"
      ]
     },
     "execution_count": 20,
     "metadata": {},
     "output_type": "execute_result"
    },
    {
     "name": "stdout",
     "output_type": "stream",
     "text": [
      "time: 10.8 ms (started: 2024-05-07 14:57:21 -04:00)\n"
     ]
    }
   ],
   "source": [
    "data3.head() "
   ]
  },
  {
   "cell_type": "code",
   "execution_count": 21,
   "id": "db7aa30b",
   "metadata": {
    "execution": {
     "iopub.execute_input": "2023-10-05T12:49:01.388844Z",
     "iopub.status.busy": "2023-10-05T12:49:01.388169Z",
     "iopub.status.idle": "2023-10-05T12:49:01.402524Z",
     "shell.execute_reply": "2023-10-05T12:49:01.401216Z"
    },
    "papermill": {
     "duration": 0.029659,
     "end_time": "2023-10-05T12:49:01.404273",
     "exception": false,
     "start_time": "2023-10-05T12:49:01.374614",
     "status": "completed"
    },
    "tags": []
   },
   "outputs": [
    {
     "name": "stdout",
     "output_type": "stream",
     "text": [
      "time: 8.59 ms (started: 2024-05-07 14:57:21 -04:00)\n"
     ]
    }
   ],
   "source": [
    "# data3.info() #in the new df we have 238 rows for each column"
   ]
  },
  {
   "cell_type": "code",
   "execution_count": 22,
   "id": "e654f34e",
   "metadata": {
    "execution": {
     "iopub.execute_input": "2023-10-05T12:49:01.430399Z",
     "iopub.status.busy": "2023-10-05T12:49:01.429586Z",
     "iopub.status.idle": "2023-10-05T12:49:01.435031Z",
     "shell.execute_reply": "2023-10-05T12:49:01.434409Z"
    },
    "papermill": {
     "duration": 0.020284,
     "end_time": "2023-10-05T12:49:01.436678",
     "exception": false,
     "start_time": "2023-10-05T12:49:01.416394",
     "status": "completed"
    },
    "tags": []
   },
   "outputs": [
    {
     "data": {
      "text/plain": [
       "array(['United States'], dtype=object)"
      ]
     },
     "execution_count": 22,
     "metadata": {},
     "output_type": "execute_result"
    },
    {
     "name": "stdout",
     "output_type": "stream",
     "text": [
      "time: 18.3 ms (started: 2024-05-07 14:57:21 -04:00)\n"
     ]
    }
   ],
   "source": [
    "data3.country.unique()  # and 238 billionaires in usa, others deleted."
   ]
  },
  {
   "cell_type": "code",
   "execution_count": 23,
   "id": "ccd8652f",
   "metadata": {},
   "outputs": [
    {
     "name": "stdout",
     "output_type": "stream",
     "text": [
      "Total elapsed time: 3.785565175\n",
      "time: 3.03 ms (started: 2024-05-07 14:57:21 -04:00)\n"
     ]
    }
   ],
   "source": [
    "SNAPPY_end_time = time.perf_counter_ns()\n",
    "print(\"Total elapsed time:\", (SNAPPY_end_time - SNAPPY_start_time) / (10 ** 9))"
   ]
  },
  {
   "cell_type": "markdown",
   "id": "5e405333",
   "metadata": {
    "papermill": {
     "duration": 0.065056,
     "end_time": "2023-10-05T12:49:01.513840",
     "exception": false,
     "start_time": "2023-10-05T12:49:01.448784",
     "status": "completed"
    },
    "tags": []
   },
   "source": [
    "**kernel will continue...**"
   ]
  }
 ],
 "metadata": {
  "kernelspec": {
   "display_name": "Python 3 (ipykernel)",
   "language": "python",
   "name": "python3"
  },
  "language_info": {
   "codemirror_mode": {
    "name": "ipython",
    "version": 3
   },
   "file_extension": ".py",
   "mimetype": "text/x-python",
   "name": "python",
   "nbconvert_exporter": "python",
   "pygments_lexer": "ipython3",
   "version": "3.10.11"
  },
  "papermill": {
   "default_parameters": {},
   "duration": 8.541586,
   "end_time": "2023-10-05T12:49:02.151996",
   "environment_variables": {},
   "exception": null,
   "input_path": "__notebook__.ipynb",
   "output_path": "__notebook__.ipynb",
   "parameters": {},
   "start_time": "2023-10-05T12:48:53.610410",
   "version": "2.4.0"
  }
 },
 "nbformat": 4,
 "nbformat_minor": 5
}
