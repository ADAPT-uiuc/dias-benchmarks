{
 "cells": [
  {
   "cell_type": "code",
   "execution_count": 1,
   "id": "a8120e01",
   "metadata": {},
   "outputs": [],
   "source": [
    "import os\n",
    "SNAPPY_notebook_path = os.path.join(os.path.abspath(\"\"), \"bench.ipynb\")"
   ]
  },
  {
   "cell_type": "code",
   "execution_count": 2,
   "id": "f2de5cf5",
   "metadata": {},
   "outputs": [],
   "source": [
    "import time\n",
    "SNAPPY_start_time = time.perf_counter_ns()"
   ]
  },
  {
   "cell_type": "code",
   "execution_count": 3,
   "id": "d717941a",
   "metadata": {},
   "outputs": [
    {
     "name": "stdout",
     "output_type": "stream",
     "text": [
      "time: 62.3 µs (started: 2024-05-07 16:37:31 -04:00)\n"
     ]
    }
   ],
   "source": [
    "%load_ext autotime"
   ]
  },
  {
   "cell_type": "markdown",
   "metadata": {},
   "source": [
    "# Data Visualization\n",
    "\n",
    "The purpose of this notebook is to practice data visualization, and hopefully communicate some best-practices along the way.\n",
    "\n",
    "\n",
    "# Please upvote if you find this useful\n",
    "\n",
    "Some sources I'd reccomend for data visualization principles are:\n",
    "\n",
    "- Storytelling with data, C. Knaflic\n",
    "\n",
    "- The visual display of quantitative information, E. Tufte\n",
    "\n",
    "- Better data visualizations, J. Schwabish\n",
    "\n",
    "\n",
    "I have other notebooks that also incoroprate some nice visuals:\n",
    "\n",
    "**UK COVID-19 Vaccination Data Visualization**\n",
    "\n",
    "https://www.kaggle.com/joshuaswords/uk-covid-19-vaccination-progress-data-vis\n",
    "\n",
    "\n",
    "**Exploratory Data Visualization - Student Performance**\n",
    "\n",
    "https://www.kaggle.com/joshuaswords/data-visualisation-student-results\n",
    "\n",
    "**HR Data Set - Visuals & Predictions**\n",
    "\n",
    "https://www.kaggle.com/joshuaswords/awesome-hr-data-visualization-prediction\n",
    "\n",
    "\n",
    "**Visuals & Customer Segmentation**\n",
    "\n",
    "https://www.kaggle.com/joshuaswords/data-visualization-clustering-mall-data\n",
    "\n",
    "\n",
    "As well as learning from other Kagglers who enjoy data viz.\n",
    "\n",
    "With that said, let's go..."
   ]
  },
  {
   "cell_type": "code",
   "execution_count": 4,
   "metadata": {
    "_cell_guid": "b1076dfc-b9ad-4769-8c92-a6c4dae69d19",
    "_kg_hide-input": true,
    "_uuid": "8f2839f25d086af736a60e9eeb907d3b93b6e0e5"
   },
   "outputs": [
    {
     "name": "stdout",
     "output_type": "stream",
     "text": [
      "/home/sam/dias-benchmarks/dias-benchmarks/notebooks/joshuaswords/netflix-data-visualization/input/netflix-shows/netflix_titles.csv\n",
      "time: 223 ms (started: 2024-05-07 16:37:31 -04:00)\n"
     ]
    }
   ],
   "source": [
    "# This Python 3 environment comes with many helpful analytics libraries installed\n",
    "# It is defined by the kaggle/python Docker image: https://github.com/kaggle/docker-python\n",
    "# For example, here's several helpful packages to load\n",
    "\n",
    "import numpy as np # linear algebra\n",
    "import os\n",
    "# STEFANOS: Conditionally import Modin Pandas\n",
    "\n",
    "import pandas as pd\n",
    "\n",
    "\n",
    "# Input data files are available in the read-only \"input/\" directory\n",
    "# For example, running this (by clicking run or pressing Shift+Enter) will list all files under the input directory\n",
    "\n",
    "import os\n",
    "for dirname, _, filenames in os.walk(os.path.abspath('') +'/input'):\n",
    "    for filename in filenames:\n",
    "        print(os.path.join(dirname, filename))\n",
    "\n",
    "# You can write up to 20GB to the current directory (/kaggle/working/) that gets preserved as output when you create a version using \"Save & Run All\" \n",
    "# You can also write temporary files to /kaggle/temp/, but they won't be saved outside of the current session"
   ]
  },
  {
   "cell_type": "code",
   "execution_count": 5,
   "metadata": {
    "_kg_hide-input": true
   },
   "outputs": [
    {
     "name": "stdout",
     "output_type": "stream",
     "text": [
      "time: 366 µs (started: 2024-05-07 16:37:31 -04:00)\n"
     ]
    }
   ],
   "source": [
    "# Importing libs\n",
    "import numpy as np\n",
    "# STEFANOS: Disable unneeded modules\n",
    "# from sklearn.preprocessing import StandardScaler\n",
    "# from sklearn.cluster import KMeans, AffinityPropagation\n",
    "# import matplotlib.pyplot as plt\n",
    "# import seaborn as sns\n",
    "# %matplotlib inline\n",
    "import warnings\n",
    "warnings.filterwarnings(\"ignore\")\n",
    "# import plotly as py\n",
    "# import plotly.graph_objs as go\n",
    "import os\n",
    "# py.offline.init_notebook_mode(connected = True)\n",
    "#print(os.listdir(\"input\"))\n",
    "import datetime as dt\n",
    "# STEFANOS: Disable unneeded modules\n",
    "# import missingno as msno\n",
    "# plt.rcParams['figure.dpi'] = 140"
   ]
  },
  {
   "cell_type": "code",
   "execution_count": 6,
   "metadata": {
    "_kg_hide-input": true
   },
   "outputs": [
    {
     "data": {
      "text/html": [
       "<div>\n",
       "<style scoped>\n",
       "    .dataframe tbody tr th:only-of-type {\n",
       "        vertical-align: middle;\n",
       "    }\n",
       "\n",
       "    .dataframe tbody tr th {\n",
       "        vertical-align: top;\n",
       "    }\n",
       "\n",
       "    .dataframe thead th {\n",
       "        text-align: right;\n",
       "    }\n",
       "</style>\n",
       "<table border=\"1\" class=\"dataframe\">\n",
       "  <thead>\n",
       "    <tr style=\"text-align: right;\">\n",
       "      <th></th>\n",
       "      <th>show_id</th>\n",
       "      <th>type</th>\n",
       "      <th>title</th>\n",
       "      <th>director</th>\n",
       "      <th>cast</th>\n",
       "      <th>country</th>\n",
       "      <th>date_added</th>\n",
       "      <th>release_year</th>\n",
       "      <th>rating</th>\n",
       "      <th>duration</th>\n",
       "      <th>listed_in</th>\n",
       "      <th>description</th>\n",
       "    </tr>\n",
       "  </thead>\n",
       "  <tbody>\n",
       "    <tr>\n",
       "      <th>0</th>\n",
       "      <td>s1</td>\n",
       "      <td>Movie</td>\n",
       "      <td>Dick Johnson Is Dead</td>\n",
       "      <td>Kirsten Johnson</td>\n",
       "      <td>NaN</td>\n",
       "      <td>United States</td>\n",
       "      <td>September 25, 2021</td>\n",
       "      <td>2020</td>\n",
       "      <td>PG-13</td>\n",
       "      <td>90 min</td>\n",
       "      <td>Documentaries</td>\n",
       "      <td>As her father nears the end of his life, filmm...</td>\n",
       "    </tr>\n",
       "    <tr>\n",
       "      <th>1</th>\n",
       "      <td>s2</td>\n",
       "      <td>TV Show</td>\n",
       "      <td>Blood &amp; Water</td>\n",
       "      <td>NaN</td>\n",
       "      <td>Ama Qamata, Khosi Ngema, Gail Mabalane, Thaban...</td>\n",
       "      <td>South Africa</td>\n",
       "      <td>September 24, 2021</td>\n",
       "      <td>2021</td>\n",
       "      <td>TV-MA</td>\n",
       "      <td>2 Seasons</td>\n",
       "      <td>International TV Shows, TV Dramas, TV Mysteries</td>\n",
       "      <td>After crossing paths at a party, a Cape Town t...</td>\n",
       "    </tr>\n",
       "    <tr>\n",
       "      <th>2</th>\n",
       "      <td>s3</td>\n",
       "      <td>TV Show</td>\n",
       "      <td>Ganglands</td>\n",
       "      <td>Julien Leclercq</td>\n",
       "      <td>Sami Bouajila, Tracy Gotoas, Samuel Jouy, Nabi...</td>\n",
       "      <td>NaN</td>\n",
       "      <td>September 24, 2021</td>\n",
       "      <td>2021</td>\n",
       "      <td>TV-MA</td>\n",
       "      <td>1 Season</td>\n",
       "      <td>Crime TV Shows, International TV Shows, TV Act...</td>\n",
       "      <td>To protect his family from a powerful drug lor...</td>\n",
       "    </tr>\n",
       "  </tbody>\n",
       "</table>\n",
       "</div>"
      ],
      "text/plain": [
       "  show_id     type                 title         director  \\\n",
       "0      s1    Movie  Dick Johnson Is Dead  Kirsten Johnson   \n",
       "1      s2  TV Show         Blood & Water              NaN   \n",
       "2      s3  TV Show             Ganglands  Julien Leclercq   \n",
       "\n",
       "                                                cast        country  \\\n",
       "0                                                NaN  United States   \n",
       "1  Ama Qamata, Khosi Ngema, Gail Mabalane, Thaban...   South Africa   \n",
       "2  Sami Bouajila, Tracy Gotoas, Samuel Jouy, Nabi...            NaN   \n",
       "\n",
       "           date_added  release_year rating   duration  \\\n",
       "0  September 25, 2021          2020  PG-13     90 min   \n",
       "1  September 24, 2021          2021  TV-MA  2 Seasons   \n",
       "2  September 24, 2021          2021  TV-MA   1 Season   \n",
       "\n",
       "                                           listed_in  \\\n",
       "0                                      Documentaries   \n",
       "1    International TV Shows, TV Dramas, TV Mysteries   \n",
       "2  Crime TV Shows, International TV Shows, TV Act...   \n",
       "\n",
       "                                         description  \n",
       "0  As her father nears the end of his life, filmm...  \n",
       "1  After crossing paths at a party, a Cape Town t...  \n",
       "2  To protect his family from a powerful drug lor...  "
      ]
     },
     "execution_count": 6,
     "metadata": {},
     "output_type": "execute_result"
    },
    {
     "name": "stdout",
     "output_type": "stream",
     "text": [
      "time: 35.5 ms (started: 2024-05-07 16:37:31 -04:00)\n"
     ]
    }
   ],
   "source": [
    "df = pd.read_csv(os.path.abspath('') +'/input/netflix-shows/netflix_titles.csv')\n",
    "\n",
    "df.head(3)"
   ]
  },
  {
   "cell_type": "markdown",
   "metadata": {},
   "source": [
    "# -- STEFANOS -- Replicate Data"
   ]
  },
  {
   "cell_type": "code",
   "execution_count": 7,
   "metadata": {},
   "outputs": [
    {
     "name": "stdout",
     "output_type": "stream",
     "text": [
      "time: 142 ms (started: 2024-05-07 16:37:32 -04:00)\n"
     ]
    }
   ],
   "source": [
    "factor = 500\n",
    "df = pd.concat([df]*factor, ignore_index=True)"
   ]
  },
  {
   "cell_type": "code",
   "execution_count": 8,
   "metadata": {
    "_kg_hide-input": true
   },
   "outputs": [
    {
     "name": "stdout",
     "output_type": "stream",
     "text": [
      "director null rate: 29.91%\n",
      "cast null rate: 9.37%\n",
      "country null rate: 9.44%\n",
      "date_added null rate: 0.11%\n",
      "rating null rate: 0.05%\n",
      "duration null rate: 0.03%\n",
      "time: 879 ms (started: 2024-05-07 16:37:32 -04:00)\n"
     ]
    }
   ],
   "source": [
    "# Missing data\n",
    "\n",
    "for i in df.columns:\n",
    "    null_rate = df[i].isna().sum() / len(df) * 100 \n",
    "    if null_rate > 0 :\n",
    "        print(\"{} null rate: {}%\".format(i,round(null_rate,2)))"
   ]
  },
  {
   "cell_type": "markdown",
   "metadata": {},
   "source": [
    "- 5 columns have missing values, with Director missing 1/3 of the time"
   ]
  },
  {
   "cell_type": "markdown",
   "metadata": {},
   "source": [
    "# Dealing with the missing data\n",
    "\n",
    "- This is always scenario dependant, but in this case, I will:\n",
    "    - replace blank countries with the mode (most common) country\n",
    "    - I want to keep director as it could be interesting to look at a certain director's films\n",
    "    - I want to keep cast as it could be interesting to look at a certain cast's films\n",
    "    "
   ]
  },
  {
   "cell_type": "code",
   "execution_count": 9,
   "metadata": {},
   "outputs": [
    {
     "name": "stdout",
     "output_type": "stream",
     "text": [
      "time: 1.84 s (started: 2024-05-07 16:37:33 -04:00)\n"
     ]
    }
   ],
   "source": [
    "# Replacments\n",
    "\n",
    "df['country'] = df['country'].fillna(df['country'].mode()[0])\n",
    "\n",
    "\n",
    "df['cast'].replace(np.nan, 'No Data',inplace  = True)\n",
    "df['director'].replace(np.nan, 'No Data',inplace  = True)\n",
    "\n",
    "# Drops\n",
    "\n",
    "df.dropna(inplace=True)\n",
    "\n",
    "# Drop Duplicates\n",
    "\n",
    "# STEFANOS: Remove this because it makes the dataset same as the original.\n",
    "# df.drop_duplicates(inplace= True)"
   ]
  },
  {
   "cell_type": "code",
   "execution_count": 10,
   "metadata": {},
   "outputs": [
    {
     "data": {
      "text/plain": [
       "show_id         0\n",
       "type            0\n",
       "title           0\n",
       "director        0\n",
       "cast            0\n",
       "country         0\n",
       "date_added      0\n",
       "release_year    0\n",
       "rating          0\n",
       "duration        0\n",
       "listed_in       0\n",
       "description     0\n",
       "dtype: int64"
      ]
     },
     "execution_count": 10,
     "metadata": {},
     "output_type": "execute_result"
    },
    {
     "name": "stdout",
     "output_type": "stream",
     "text": [
      "time: 971 ms (started: 2024-05-07 16:37:34 -04:00)\n"
     ]
    }
   ],
   "source": [
    "df.isnull().sum()"
   ]
  },
  {
   "cell_type": "code",
   "execution_count": 11,
   "metadata": {},
   "outputs": [
    {
     "name": "stdout",
     "output_type": "stream",
     "text": [
      "time: 159 µs (started: 2024-05-07 16:37:35 -04:00)\n"
     ]
    }
   ],
   "source": [
    "# df.info()"
   ]
  },
  {
   "cell_type": "markdown",
   "metadata": {},
   "source": [
    "# Missing values dealt with, but the date isn't quite right yet..."
   ]
  },
  {
   "cell_type": "code",
   "execution_count": 12,
   "metadata": {},
   "outputs": [
    {
     "data": {
      "text/html": [
       "<div>\n",
       "<style scoped>\n",
       "    .dataframe tbody tr th:only-of-type {\n",
       "        vertical-align: middle;\n",
       "    }\n",
       "\n",
       "    .dataframe tbody tr th {\n",
       "        vertical-align: top;\n",
       "    }\n",
       "\n",
       "    .dataframe thead th {\n",
       "        text-align: right;\n",
       "    }\n",
       "</style>\n",
       "<table border=\"1\" class=\"dataframe\">\n",
       "  <thead>\n",
       "    <tr style=\"text-align: right;\">\n",
       "      <th></th>\n",
       "      <th>show_id</th>\n",
       "      <th>type</th>\n",
       "      <th>title</th>\n",
       "      <th>director</th>\n",
       "      <th>cast</th>\n",
       "      <th>country</th>\n",
       "      <th>date_added</th>\n",
       "      <th>release_year</th>\n",
       "      <th>rating</th>\n",
       "      <th>duration</th>\n",
       "      <th>listed_in</th>\n",
       "      <th>description</th>\n",
       "      <th>month_added</th>\n",
       "      <th>month_name_added</th>\n",
       "      <th>year_added</th>\n",
       "    </tr>\n",
       "  </thead>\n",
       "  <tbody>\n",
       "    <tr>\n",
       "      <th>0</th>\n",
       "      <td>s1</td>\n",
       "      <td>Movie</td>\n",
       "      <td>Dick Johnson Is Dead</td>\n",
       "      <td>Kirsten Johnson</td>\n",
       "      <td>No Data</td>\n",
       "      <td>United States</td>\n",
       "      <td>2021-09-25</td>\n",
       "      <td>2020</td>\n",
       "      <td>PG-13</td>\n",
       "      <td>90 min</td>\n",
       "      <td>Documentaries</td>\n",
       "      <td>As her father nears the end of his life, filmm...</td>\n",
       "      <td>9</td>\n",
       "      <td>September</td>\n",
       "      <td>2021</td>\n",
       "    </tr>\n",
       "    <tr>\n",
       "      <th>1</th>\n",
       "      <td>s2</td>\n",
       "      <td>TV Show</td>\n",
       "      <td>Blood &amp; Water</td>\n",
       "      <td>No Data</td>\n",
       "      <td>Ama Qamata, Khosi Ngema, Gail Mabalane, Thaban...</td>\n",
       "      <td>South Africa</td>\n",
       "      <td>2021-09-24</td>\n",
       "      <td>2021</td>\n",
       "      <td>TV-MA</td>\n",
       "      <td>2 Seasons</td>\n",
       "      <td>International TV Shows, TV Dramas, TV Mysteries</td>\n",
       "      <td>After crossing paths at a party, a Cape Town t...</td>\n",
       "      <td>9</td>\n",
       "      <td>September</td>\n",
       "      <td>2021</td>\n",
       "    </tr>\n",
       "    <tr>\n",
       "      <th>2</th>\n",
       "      <td>s3</td>\n",
       "      <td>TV Show</td>\n",
       "      <td>Ganglands</td>\n",
       "      <td>Julien Leclercq</td>\n",
       "      <td>Sami Bouajila, Tracy Gotoas, Samuel Jouy, Nabi...</td>\n",
       "      <td>United States</td>\n",
       "      <td>2021-09-24</td>\n",
       "      <td>2021</td>\n",
       "      <td>TV-MA</td>\n",
       "      <td>1 Season</td>\n",
       "      <td>Crime TV Shows, International TV Shows, TV Act...</td>\n",
       "      <td>To protect his family from a powerful drug lor...</td>\n",
       "      <td>9</td>\n",
       "      <td>September</td>\n",
       "      <td>2021</td>\n",
       "    </tr>\n",
       "  </tbody>\n",
       "</table>\n",
       "</div>"
      ],
      "text/plain": [
       "  show_id     type                 title         director  \\\n",
       "0      s1    Movie  Dick Johnson Is Dead  Kirsten Johnson   \n",
       "1      s2  TV Show         Blood & Water          No Data   \n",
       "2      s3  TV Show             Ganglands  Julien Leclercq   \n",
       "\n",
       "                                                cast        country  \\\n",
       "0                                            No Data  United States   \n",
       "1  Ama Qamata, Khosi Ngema, Gail Mabalane, Thaban...   South Africa   \n",
       "2  Sami Bouajila, Tracy Gotoas, Samuel Jouy, Nabi...  United States   \n",
       "\n",
       "  date_added  release_year rating   duration  \\\n",
       "0 2021-09-25          2020  PG-13     90 min   \n",
       "1 2021-09-24          2021  TV-MA  2 Seasons   \n",
       "2 2021-09-24          2021  TV-MA   1 Season   \n",
       "\n",
       "                                           listed_in  \\\n",
       "0                                      Documentaries   \n",
       "1    International TV Shows, TV Dramas, TV Mysteries   \n",
       "2  Crime TV Shows, International TV Shows, TV Act...   \n",
       "\n",
       "                                         description  month_added  \\\n",
       "0  As her father nears the end of his life, filmm...            9   \n",
       "1  After crossing paths at a party, a Cape Town t...            9   \n",
       "2  To protect his family from a powerful drug lor...            9   \n",
       "\n",
       "  month_name_added  year_added  \n",
       "0        September        2021  \n",
       "1        September        2021  \n",
       "2        September        2021  "
      ]
     },
     "execution_count": 12,
     "metadata": {},
     "output_type": "execute_result"
    },
    {
     "name": "stdout",
     "output_type": "stream",
     "text": [
      "time: 1.12 s (started: 2024-05-07 16:37:35 -04:00)\n"
     ]
    }
   ],
   "source": [
    "df[\"date_added\"] = pd.to_datetime(df['date_added'].str.strip())\n",
    "\n",
    "df['month_added']=df['date_added'].dt.month\n",
    "df['month_name_added']=df['date_added'].dt.month_name()\n",
    "df['year_added'] = df['date_added'].dt.year\n",
    "\n",
    "df.head(3)"
   ]
  },
  {
   "cell_type": "markdown",
   "metadata": {},
   "source": [
    "# Okay, let's visualize\n",
    "\n",
    "# Where possible, I'll use the Netflix brand colours\n",
    "\n",
    "https://brand.netflix.com/en/assets/brand-symbol/\n",
    "\n",
    "\n",
    "Using a consistent color palette is a great way to give your work credibility. It looks professional, and keeps the reader engaged. \n",
    "\n",
    "It's an easy-to-implement tip that really helps."
   ]
  },
  {
   "cell_type": "code",
   "execution_count": 13,
   "metadata": {},
   "outputs": [
    {
     "name": "stdout",
     "output_type": "stream",
     "text": [
      "time: 181 µs (started: 2024-05-07 16:37:36 -04:00)\n"
     ]
    }
   ],
   "source": [
    "# Palette\n",
    "# STEFANOS: Disable plotting\n",
    "# sns.palplot(['#221f1f', '#b20710', '#e50914','#f5f5f1'])\n",
    "\n",
    "# plt.title(\"Netflix brand palette \",loc='left',fontfamily='serif',fontsize=15,y=1.2)\n",
    "# plt.show()"
   ]
  },
  {
   "cell_type": "markdown",
   "metadata": {},
   "source": [
    "# Netflix through the years"
   ]
  },
  {
   "cell_type": "markdown",
   "metadata": {},
   "source": [
    "Netflix started as DVD rentals, and now they have an audience of over 150m people - this is their story...\n",
    "\n",
    "Timeline code from Subin An's awesome notebook\n",
    "https://www.kaggle.com/subinium/awesome-visualization-with-titanic-dataset"
   ]
  },
  {
   "cell_type": "code",
   "execution_count": 14,
   "metadata": {
    "_kg_hide-input": true
   },
   "outputs": [
    {
     "name": "stdout",
     "output_type": "stream",
     "text": [
      "time: 2.2 ms (started: 2024-05-07 16:37:37 -04:00)\n"
     ]
    }
   ],
   "source": [
    "# STEFANOS: Disable plotting\n",
    "\n",
    "# # Timeline code from Subin An's awesome notebook\n",
    "# # https://www.kaggle.com/subinium/awesome-visualization-with-titanic-dataset\n",
    "\n",
    "\n",
    "# from datetime import datetime\n",
    "\n",
    "# ## these go on the numbers below\n",
    "# tl_dates = [\n",
    "#     \"1997\\nFounded\",\n",
    "#     \"1998\\nMail Service\",\n",
    "#     \"2003\\nGoes Public\",\n",
    "#     \"2007\\nStreaming service\",\n",
    "#     \"2016\\nGoes Global\",\n",
    "#     \"2021\\nNetflix & Chill\"\n",
    "# ]\n",
    "\n",
    "# tl_x = [1, 2, 4, 5.3, 8,9]\n",
    "\n",
    "# ## these go on the numbers\n",
    "# tl_sub_x = [1.5,3,5,6.5,7]\n",
    "\n",
    "\n",
    "# tl_sub_times = [\n",
    "#     \"1998\",\"2000\",\"2006\",\"2010\",\"2012\"\n",
    "# ]\n",
    "\n",
    "# tl_text = [\n",
    "#     \"Netflix.com launched\",\n",
    "#     \"Starts\\nPersonal\\nRecommendations\",\"Billionth DVD Delivery\",\"Canadian\\nLaunch\",\"UK Launch\\n(my birthplace)\"]\n",
    "\n",
    "\n",
    "\n",
    "# # Set figure & Axes\n",
    "# fig, ax = plt.subplots(figsize=(15, 4), constrained_layout=True)\n",
    "# ax.set_ylim(-2, 1.75)\n",
    "# ax.set_xlim(0, 10)\n",
    "\n",
    "\n",
    "# # Timeline : line\n",
    "# ax.axhline(0, xmin=0.1, xmax=0.9, c='#4a4a4a', zorder=1)\n",
    "\n",
    "\n",
    "# # Timeline : Date Points\n",
    "# ax.scatter(tl_x, np.zeros(len(tl_x)), s=120, c='#4a4a4a', zorder=2)\n",
    "# ax.scatter(tl_x, np.zeros(len(tl_x)), s=30, c='#fafafa', zorder=3)\n",
    "# # Timeline : Time Points\n",
    "# ax.scatter(tl_sub_x, np.zeros(len(tl_sub_x)), s=50, c='#4a4a4a',zorder=4)\n",
    "\n",
    "# # Date Text\n",
    "# for x, date in zip(tl_x, tl_dates):\n",
    "#     ax.text(x, -0.55, date, ha='center', \n",
    "#             fontfamily='serif', fontweight='bold',\n",
    "#             color='#4a4a4a',fontsize=12)\n",
    "    \n",
    "\n",
    "# # Stemplot : vertical line\n",
    "# levels = np.zeros(len(tl_sub_x))    \n",
    "# levels[::2] = 0.3\n",
    "# levels[1::2] = -0.3\n",
    "# markerline, stemline, baseline = ax.stem(tl_sub_x, levels, use_line_collection=True)    \n",
    "# plt.setp(baseline, zorder=0)\n",
    "# plt.setp(markerline, marker=',', color='#4a4a4a')\n",
    "# plt.setp(stemline, color='#4a4a4a')\n",
    "\n",
    "# # Text\n",
    "# for idx, x, time, txt in zip(range(1, len(tl_sub_x)+1), tl_sub_x, tl_sub_times, tl_text):\n",
    "#     ax.text(x, 1.3*(idx%2)-0.5, time, ha='center', \n",
    "#             fontfamily='serif', fontweight='bold',\n",
    "#             color='#4a4a4a' if idx!=len(tl_sub_x) else '#b20710', fontsize=11)\n",
    "    \n",
    "#     ax.text(x, 1.3*(idx%2)-0.6, txt, va='top', ha='center', \n",
    "#         fontfamily='serif',color='#4a4a4a' if idx!=len(tl_sub_x) else '#b20710')\n",
    "\n",
    "\n",
    "\n",
    "# # Spine\n",
    "# for spine in [\"left\", \"top\", \"right\", \"bottom\"]:\n",
    "#     ax.spines[spine].set_visible(False)\n",
    "\n",
    "# # Ticks    \n",
    "# ax.set_xticks([]) \n",
    "# ax.set_yticks([]) \n",
    "\n",
    "# # Title\n",
    "# ax.set_title(\"Netflix through the years\", fontweight=\"bold\", fontfamily='serif', fontsize=16, color='#4a4a4a')\n",
    "# ax.text(2.4,1.57,\"From DVD rentals to a global audience of over 150m people - is it time for Netflix to Chill?\", fontfamily='serif', fontsize=12, color='#4a4a4a')\n",
    "\n",
    "# plt.show()"
   ]
  },
  {
   "cell_type": "markdown",
   "metadata": {},
   "source": [
    "# Content - Let's explore\n",
    "\n",
    "Now we've seen how Netflix came to dominate our TV screens, let's have a look at the content they offer..."
   ]
  },
  {
   "cell_type": "code",
   "execution_count": 15,
   "metadata": {},
   "outputs": [
    {
     "name": "stdout",
     "output_type": "stream",
     "text": [
      "time: 204 ms (started: 2024-05-07 16:37:37 -04:00)\n"
     ]
    }
   ],
   "source": [
    "# For viz: Ratio of Movies & TV shows\n",
    "\n",
    "x=df.groupby(['type'])['type'].count()\n",
    "y=len(df)\n",
    "r=((x/y)).round(2)\n",
    "\n",
    "mf_ratio = pd.DataFrame(r).T\n"
   ]
  },
  {
   "cell_type": "code",
   "execution_count": 16,
   "metadata": {
    "_kg_hide-input": true
   },
   "outputs": [
    {
     "name": "stdout",
     "output_type": "stream",
     "text": [
      "time: 968 µs (started: 2024-05-07 16:37:37 -04:00)\n"
     ]
    }
   ],
   "source": [
    "# STEFANOS: Disable plotting\n",
    "\n",
    "\n",
    "# fig, ax = plt.subplots(1,1,figsize=(6.5, 2.5))\n",
    "\n",
    "# ax.barh(mf_ratio.index, mf_ratio['Movie'], \n",
    "#         color='#b20710', alpha=0.9, label='Male')\n",
    "# ax.barh(mf_ratio.index, mf_ratio['TV Show'], left=mf_ratio['Movie'], \n",
    "#         color='#221f1f', alpha=0.9, label='Female')\n",
    "\n",
    "# ax.set_xlim(0, 1)\n",
    "# ax.set_xticks([])\n",
    "# ax.set_yticks([])\n",
    "# #ax.set_yticklabels(mf_ratio.index, fontfamily='serif', fontsize=11)\n",
    "\n",
    "\n",
    "# # movie percentage\n",
    "# for i in mf_ratio.index:\n",
    "#     ax.annotate(f\"{int(mf_ratio['Movie'][i]*100)}%\", \n",
    "#                    xy=(mf_ratio['Movie'][i]/2, i),\n",
    "#                    va = 'center', ha='center',fontsize=40, fontweight='light', fontfamily='serif',\n",
    "#                    color='white')\n",
    "\n",
    "#     ax.annotate(\"Movie\", \n",
    "#                    xy=(mf_ratio['Movie'][i]/2, -0.25),\n",
    "#                    va = 'center', ha='center',fontsize=15, fontweight='light', fontfamily='serif',\n",
    "#                    color='white')\n",
    "    \n",
    "    \n",
    "# for i in mf_ratio.index:\n",
    "#     ax.annotate(f\"{int(mf_ratio['TV Show'][i]*100)}%\", \n",
    "#                    xy=(mf_ratio['Movie'][i]+mf_ratio['TV Show'][i]/2, i),\n",
    "#                    va = 'center', ha='center',fontsize=40, fontweight='light', fontfamily='serif',\n",
    "#                    color='white')\n",
    "#     ax.annotate(\"TV Show\", \n",
    "#                    xy=(mf_ratio['Movie'][i]+mf_ratio['TV Show'][i]/2, -0.25),\n",
    "#                    va = 'center', ha='center',fontsize=15, fontweight='light', fontfamily='serif',\n",
    "#                    color='white')\n",
    "\n",
    "\n",
    "\n",
    "\n",
    "\n",
    "\n",
    "# # Title & Subtitle\n",
    "# fig.text(0.125,1.03,'Movie & TV Show distribution', fontfamily='serif',fontsize=15, fontweight='bold')\n",
    "# fig.text(0.125,0.92,'We see vastly more movies than TV shows on Netflix.',fontfamily='serif',fontsize=12)  \n",
    "\n",
    "# for s in ['top', 'left', 'right', 'bottom']:\n",
    "#     ax.spines[s].set_visible(False)\n",
    "    \n",
    "\n",
    "\n",
    "# #ax.legend(loc='lower center', ncol=3, bbox_to_anchor=(0.5, -0.06))\n",
    "\n",
    "# # Removing legend due to labelled plot\n",
    "# ax.legend().set_visible(False)\n",
    "# plt.show()\n",
    "\n",
    "\n",
    "\n",
    "\n",
    "\n",
    "\n",
    "\n",
    "\n",
    "\n",
    "for i in mf_ratio.index:\n",
    "    _ = int(mf_ratio['Movie'][i]*100)\n",
    "    _ = mf_ratio['Movie'][i]/2\n",
    "    _ = mf_ratio['Movie'][i]/2\n",
    "    \n",
    "for i in mf_ratio.index:\n",
    "    _ = int(mf_ratio['TV Show'][i]*100)\n",
    "    _ = mf_ratio['Movie'][i]+mf_ratio['TV Show'][i]/2\n",
    "    _ = mf_ratio['Movie'][i]+mf_ratio['TV Show'][i]/2"
   ]
  },
  {
   "cell_type": "markdown",
   "metadata": {},
   "source": [
    "# By Country\n",
    "\n",
    "So we now know there are much more movies than TV shows on Netflix (which surprises me!).\n",
    "\n",
    "What about if we look at content by country? \n",
    "\n",
    "I would imagine that the USA will have the most content. I wonder how my country, the UK, will compare?"
   ]
  },
  {
   "cell_type": "code",
   "execution_count": 17,
   "metadata": {
    "_kg_hide-input": true
   },
   "outputs": [
    {
     "name": "stdout",
     "output_type": "stream",
     "text": [
      "time: 5.96 s (started: 2024-05-07 16:37:37 -04:00)\n"
     ]
    }
   ],
   "source": [
    "# Quick feature engineering\n",
    "\n",
    "# Helper column for various plots\n",
    "df['count'] = 1\n",
    "\n",
    "# Many productions have several countries listed - this will skew our results , we'll grab the first one mentioned\n",
    "\n",
    "# Lets retrieve just the first country\n",
    "df['first_country'] = df['country'].apply(lambda x: x.split(\",\")[0])\n",
    "df['first_country'].head()\n",
    "\n",
    "# Rating ages from this notebook: https://www.kaggle.com/andreshg/eda-beginner-to-expert-plotly (thank you!)\n",
    "\n",
    "ratings_ages = {\n",
    "    'TV-PG': 'Older Kids',\n",
    "    'TV-MA': 'Adults',\n",
    "    'TV-Y7-FV': 'Older Kids',\n",
    "    'TV-Y7': 'Older Kids',\n",
    "    'TV-14': 'Teens',\n",
    "    'R': 'Adults',\n",
    "    'TV-Y': 'Kids',\n",
    "    'NR': 'Adults',\n",
    "    'PG-13': 'Teens',\n",
    "    'TV-G': 'Kids',\n",
    "    'PG': 'Older Kids',\n",
    "    'G': 'Kids',\n",
    "    'UR': 'Adults',\n",
    "    'NC-17': 'Adults'\n",
    "}\n",
    "\n",
    "df['target_ages'] = df['rating'].replace(ratings_ages)\n",
    "df['target_ages'].unique()\n",
    "\n",
    "# Genre\n",
    "\n",
    "df['genre'] = df['listed_in'].apply(lambda x :  x.replace(' ,',',').replace(', ',',').split(',')) \n",
    "\n",
    "# Reducing name length\n",
    "\n",
    "df['first_country'].replace('United States', 'USA', inplace=True)\n",
    "df['first_country'].replace('United Kingdom', 'UK',inplace=True)\n",
    "df['first_country'].replace('South Korea', 'S. Korea',inplace=True)"
   ]
  },
  {
   "cell_type": "code",
   "execution_count": 18,
   "metadata": {
    "_kg_hide-input": true
   },
   "outputs": [
    {
     "name": "stdout",
     "output_type": "stream",
     "text": [
      "time: 141 ms (started: 2024-05-07 16:37:43 -04:00)\n"
     ]
    }
   ],
   "source": [
    "data = df.groupby('first_country')['count'].sum().sort_values(ascending=False)[:10]\n",
    "\n",
    "# STEFANOS: Disable plotting\n",
    "\n",
    "# # Plot\n",
    "\n",
    "# color_map = ['#f5f5f1' for _ in range(10)]\n",
    "# color_map[0] = color_map[1] = color_map[2] =  '#b20710' # color highlight\n",
    "\n",
    "# fig, ax = plt.subplots(1,1, figsize=(12, 6))\n",
    "# ax.bar(data.index, data, width=0.5, \n",
    "#        edgecolor='darkgray',\n",
    "#        linewidth=0.6,color=color_map)\n",
    "\n",
    "# #annotations\n",
    "# for i in data.index:\n",
    "#     ax.annotate(f\"{data[i]}\", \n",
    "#                    xy=(i, data[i] + 150), #i like to change this to roughly 5% of the highest cat\n",
    "#                    va = 'center', ha='center',fontweight='light', fontfamily='serif')\n",
    "\n",
    "\n",
    "\n",
    "# # Remove border from plot\n",
    "\n",
    "# for s in ['top', 'left', 'right']:\n",
    "#     ax.spines[s].set_visible(False)\n",
    "    \n",
    "# # Tick labels\n",
    "\n",
    "# ax.set_xticklabels(data.index, fontfamily='serif', rotation=0)\n",
    "\n",
    "# # Title and sub-title\n",
    "\n",
    "# fig.text(0.09, 1, 'Top 10 countries on Netflix', fontsize=15, fontweight='bold', fontfamily='serif')\n",
    "# fig.text(0.09, 0.95, 'The three most frequent countries have been highlighted.', fontsize=12, fontweight='light', fontfamily='serif')\n",
    "\n",
    "# fig.text(1.1, 1.01, 'Insight', fontsize=15, fontweight='bold', fontfamily='serif')\n",
    "\n",
    "# fig.text(1.1, 0.67, '''\n",
    "# The most prolific producers of\n",
    "# content for Netflix are, primarily,\n",
    "# the USA, with India and the UK\n",
    "# a significant distance behind.\n",
    "\n",
    "# It makes sense that the USA produces \n",
    "# the most content as, afterall, \n",
    "# Netflix is a US company.\n",
    "# '''\n",
    "#          , fontsize=12, fontweight='light', fontfamily='serif')\n",
    "\n",
    "# ax.grid(axis='y', linestyle='-', alpha=0.4)   \n",
    "\n",
    "# grid_y_ticks = np.arange(0, 4000, 500) # y ticks, min, max, then step\n",
    "# ax.set_yticks(grid_y_ticks)\n",
    "# ax.set_axisbelow(True)\n",
    "\n",
    "# #Axis labels\n",
    "\n",
    "# #plt.xlabel(\"Country\", fontsize=12, fontweight='light', fontfamily='serif',loc='left',y=-1.5)\n",
    "# #plt.ylabel(\"Count\", fontsize=12, fontweight='light', fontfamily='serif')\n",
    "#  #plt.legend(loc='upper right')\n",
    "    \n",
    "# # thicken the bottom line if you want to\n",
    "# plt.axhline(y = 0, color = 'black', linewidth = 1.3, alpha = .7)\n",
    "\n",
    "# ax.tick_params(axis='both', which='major', labelsize=12)\n",
    "\n",
    "\n",
    "# import matplotlib.lines as lines\n",
    "# l1 = lines.Line2D([1, 1], [0, 1], transform=fig.transFigure, figure=fig,color='black',lw=0.2)\n",
    "# fig.lines.extend([l1])\n",
    "\n",
    "# ax.tick_params(axis=u'both', which=u'both',length=0)\n",
    "\n",
    "# plt.show()\n"
   ]
  },
  {
   "cell_type": "markdown",
   "metadata": {},
   "source": [
    "As predicted, the USA dominates. \n",
    "\n",
    "The UK is a top contender too, but still some way behind India.\n",
    "\n",
    "How does content by country vary? "
   ]
  },
  {
   "cell_type": "code",
   "execution_count": 19,
   "metadata": {
    "_kg_hide-input": false
   },
   "outputs": [
    {
     "name": "stdout",
     "output_type": "stream",
     "text": [
      "time: 457 ms (started: 2024-05-07 16:37:43 -04:00)\n"
     ]
    }
   ],
   "source": [
    "country_order = df['first_country'].value_counts()[:11].index\n",
    "### STEFANOS: I didn't find a way to run the original with Modin. We're converting to Pandas and then\n",
    "### back to Modin.\n",
    "### ORIGINAL:\n",
    "# data_q2q3 = df[['type', 'first_country']].groupby('first_country')['type'].value_counts().unstack().loc[country_order]\n",
    "### MODIFIED:\n",
    "if \"IREWR_WITH_MODIN\" in os.environ and os.environ[\"IREWR_WITH_MODIN\"] == \"True\":\n",
    "  df = df._to_pandas()\n",
    "\n",
    "data_q2q3 = df[['type', 'first_country']].groupby('first_country')['type'].value_counts().unstack().loc[country_order]\n",
    "if \"IREWR_WITH_MODIN\" in os.environ and os.environ[\"IREWR_WITH_MODIN\"] == \"True\":\n",
    "  df = pd.DataFrame(df)\n",
    "  data_q2q3 = pd.DataFrame(data_q2q3)\n",
    "\n",
    "data_q2q3['sum'] = data_q2q3.sum(axis=1)\n",
    "data_q2q3_ratio = (data_q2q3.T / data_q2q3['sum']).T[['Movie', 'TV Show']].sort_values(by='Movie',ascending=False)[::-1]\n",
    "\n",
    "\n",
    "# STEFANOS: Disable plotting\n",
    "\n",
    "# ###\n",
    "# fig, ax = plt.subplots(1,1,figsize=(15, 8),)\n",
    "\n",
    "# ax.barh(data_q2q3_ratio.index, data_q2q3_ratio['Movie'], \n",
    "#         color='#b20710', alpha=0.8, label='Movie')\n",
    "# ax.barh(data_q2q3_ratio.index, data_q2q3_ratio['TV Show'], left=data_q2q3_ratio['Movie'], \n",
    "#         color='#221f1f', alpha=0.8, label='TV Show')\n",
    "\n",
    "\n",
    "# ax.set_xlim(0, 1)\n",
    "# ax.set_xticks([])\n",
    "# ax.set_yticklabels(data_q2q3_ratio.index, fontfamily='serif', fontsize=11)\n",
    "\n",
    "# # male percentage\n",
    "# for i in data_q2q3_ratio.index:\n",
    "#     ax.annotate(f\"{data_q2q3_ratio['Movie'][i]*100:.3}%\", \n",
    "#                    xy=(data_q2q3_ratio['Movie'][i]/2, i),\n",
    "#                    va = 'center', ha='center',fontsize=12, fontweight='light', fontfamily='serif',\n",
    "#                    color='white')\n",
    "\n",
    "# for i in data_q2q3_ratio.index:\n",
    "#     ax.annotate(f\"{data_q2q3_ratio['TV Show'][i]*100:.3}%\", \n",
    "#                    xy=(data_q2q3_ratio['Movie'][i]+data_q2q3_ratio['TV Show'][i]/2, i),\n",
    "#                    va = 'center', ha='center',fontsize=12, fontweight='light', fontfamily='serif',\n",
    "#                    color='white')\n",
    "    \n",
    "\n",
    "# fig.text(0.13, 0.93, 'Top 10 countries Movie & TV Show split', fontsize=15, fontweight='bold', fontfamily='serif')   \n",
    "# fig.text(0.131, 0.89, 'Percent Stacked Bar Chart', fontsize=12,fontfamily='serif')   \n",
    "\n",
    "# for s in ['top', 'left', 'right', 'bottom']:\n",
    "#     ax.spines[s].set_visible(False)\n",
    "    \n",
    "# #ax.legend(loc='lower center', ncol=3, bbox_to_anchor=(0.5, -0.06))\n",
    "\n",
    "# fig.text(0.75,0.9,\"Movie\", fontweight=\"bold\", fontfamily='serif', fontsize=15, color='#b20710')\n",
    "# fig.text(0.81,0.9,\"|\", fontweight=\"bold\", fontfamily='serif', fontsize=15, color='black')\n",
    "# fig.text(0.82,0.9,\"TV Show\", fontweight=\"bold\", fontfamily='serif', fontsize=15, color='#221f1f')\n",
    "\n",
    "\n",
    "# fig.text(1.1, 0.93, 'Insight', fontsize=15, fontweight='bold', fontfamily='serif')\n",
    "\n",
    "# fig.text(1.1, 0.44, '''\n",
    "# Interestingly, Netflix in India\n",
    "# is made up nearly entirely of Movies. \n",
    "\n",
    "# Bollywood is big business, and perhaps\n",
    "# the main focus of this industry is Movies\n",
    "# and not TV Shows.\n",
    "\n",
    "# South Korean Netflix on the other hand is \n",
    "# almost entirely TV Shows.\n",
    "\n",
    "# The underlying resons for the difference \n",
    "# in content must be due to market research\n",
    "# conducted by Netflix.\n",
    "# '''\n",
    "#          , fontsize=12, fontweight='light', fontfamily='serif')\n",
    "\n",
    "\n",
    "\n",
    "# import matplotlib.lines as lines\n",
    "# l1 = lines.Line2D([1, 1], [0, 1], transform=fig.transFigure, figure=fig,color='black',lw=0.2)\n",
    "# fig.lines.extend([l1])\n",
    "\n",
    "\n",
    "\n",
    "\n",
    "# ax.tick_params(axis='both', which='major', labelsize=12)\n",
    "# ax.tick_params(axis=u'both', which=u'both',length=0)\n",
    "\n",
    "# plt.show()"
   ]
  },
  {
   "cell_type": "markdown",
   "metadata": {},
   "source": [
    "As I've noted in the insights on the plot, it is really interesting to see how the split of TV Shows and Movies varies by country.\n",
    "\n",
    "South Korea is dominated by TV Shows - why is this? I am a huge fan of South Korean cinema so I know they have a great movie selection.\n",
    "\n",
    "Equally, India is dominated by Movies. I think this might be due to Bollywood - comment below if you have any other ideas!\n",
    "\n",
    "# Ratings\n",
    "\n",
    "Let's briefly check out how ratings are distributed"
   ]
  },
  {
   "cell_type": "code",
   "execution_count": 20,
   "metadata": {},
   "outputs": [
    {
     "name": "stdout",
     "output_type": "stream",
     "text": [
      "time: 123 ms (started: 2024-05-07 16:37:43 -04:00)\n"
     ]
    }
   ],
   "source": [
    "order = pd.DataFrame(df.groupby('rating')['count'].sum().sort_values(ascending=False).reset_index())\n",
    "rating_order = list(order['rating'])"
   ]
  },
  {
   "cell_type": "code",
   "execution_count": 21,
   "metadata": {
    "_kg_hide-input": true
   },
   "outputs": [
    {
     "name": "stdout",
     "output_type": "stream",
     "text": [
      "time: 275 ms (started: 2024-05-07 16:37:43 -04:00)\n"
     ]
    }
   ],
   "source": [
    "### STEFANOS: I didn't find a way to run the original with Modin. We're converting to Pandas and then\n",
    "### back to Modin.\n",
    "### ORIGINAL:\n",
    "# mf = df.groupby('type')['rating'].value_counts().unstack().sort_index().fillna(0).astype(int)[rating_order]\n",
    "### MODIFIED:\n",
    "\n",
    "if \"IREWR_WITH_MODIN\" in os.environ and os.environ[\"IREWR_WITH_MODIN\"] == \"True\":\n",
    "  df = df._to_pandas()\n",
    "\n",
    "mf = df.groupby('type')['rating'].value_counts().unstack().sort_index().fillna(0).astype(int)[rating_order]\n",
    "if \"IREWR_WITH_MODIN\" in os.environ and os.environ[\"IREWR_WITH_MODIN\"] == \"True\":\n",
    "  df = pd.DataFrame(df)\n",
    "  mf = pd.DataFrame(mf)\n",
    "\n",
    "movie = mf.loc['Movie']\n",
    "tv = - mf.loc['TV Show']\n",
    "\n",
    "# STEFANOS: Disable plotting\n",
    "\n",
    "# fig, ax = plt.subplots(1,1, figsize=(12, 6))\n",
    "# ax.bar(movie.index, movie, width=0.5, color='#b20710', alpha=0.8, label='Movie')\n",
    "# ax.bar(tv.index, tv, width=0.5, color='#221f1f', alpha=0.8, label='TV Show')\n",
    "# #ax.set_ylim(-35, 50)\n",
    "\n",
    "# # Annotations\n",
    "# for i in tv.index:\n",
    "#     ax.annotate(f\"{-tv[i]}\", \n",
    "#                    xy=(i, tv[i] - 60),\n",
    "#                    va = 'center', ha='center',fontweight='light', fontfamily='serif',\n",
    "#                    color='#4a4a4a')   \n",
    "\n",
    "# for i in movie.index:\n",
    "#     ax.annotate(f\"{movie[i]}\", \n",
    "#                    xy=(i, movie[i] + 60),\n",
    "#                    va = 'center', ha='center',fontweight='light', fontfamily='serif',\n",
    "#                    color='#4a4a4a')\n",
    "    \n",
    " \n",
    "\n",
    "# for s in ['top', 'left', 'right', 'bottom']:\n",
    "#     ax.spines[s].set_visible(False)\n",
    "\n",
    "# ax.set_xticklabels(mf.columns, fontfamily='serif')\n",
    "# ax.set_yticks([])    \n",
    "\n",
    "# ax.legend().set_visible(False)\n",
    "# fig.text(0.16, 1, 'Rating distribution by Film & TV Show', fontsize=15, fontweight='bold', fontfamily='serif')\n",
    "# fig.text(0.16, 0.89, \n",
    "# '''We observe that some ratings are only applicable to Movies. \n",
    "# The most common for both Movies & TV Shows are TV-MA and TV-14.\n",
    "# '''\n",
    "\n",
    "# , fontsize=12, fontweight='light', fontfamily='serif')\n",
    "\n",
    "\n",
    "# fig.text(0.755,0.924,\"Movie\", fontweight=\"bold\", fontfamily='serif', fontsize=15, color='#b20710')\n",
    "# fig.text(0.815,0.924,\"|\", fontweight=\"bold\", fontfamily='serif', fontsize=15, color='black')\n",
    "# fig.text(0.825,0.924,\"TV Show\", fontweight=\"bold\", fontfamily='serif', fontsize=15, color='#221f1f')\n",
    "\n",
    "# plt.show()"
   ]
  },
  {
   "cell_type": "markdown",
   "metadata": {},
   "source": [
    "# How has content been added over the years?"
   ]
  },
  {
   "cell_type": "markdown",
   "metadata": {},
   "source": [
    "As we saw in the timeline at the start of this analysis, Netflix went global in 2016 - and it is extremely noticeable in this plot.\n",
    "\n",
    "The increase is Movie content is remarkable."
   ]
  },
  {
   "cell_type": "code",
   "execution_count": 22,
   "metadata": {
    "_kg_hide-input": true
   },
   "outputs": [
    {
     "name": "stdout",
     "output_type": "stream",
     "text": [
      "time: 463 µs (started: 2024-05-07 16:37:44 -04:00)\n"
     ]
    }
   ],
   "source": [
    "# STEFANOS: Disable plotting\n",
    "\n",
    "# fig, ax = plt.subplots(1, 1, figsize=(12, 6))\n",
    "# color = [\"#b20710\", \"#221f1f\"]\n",
    "\n",
    "# for i, mtv in enumerate(df['type'].value_counts().index):\n",
    "#     mtv_rel = df[df['type']==mtv]['year_added'].value_counts().sort_index()\n",
    "#     ax.plot(mtv_rel.index, mtv_rel, color=color[i], label=mtv)\n",
    "#     ax.fill_between(mtv_rel.index, 0, mtv_rel, color=color[i], alpha=0.9)\n",
    "    \n",
    "# ax.yaxis.tick_right()\n",
    "    \n",
    "# ax.axhline(y = 0, color = 'black', linewidth = 1.3, alpha = .7)\n",
    "\n",
    "# #ax.set_ylim(0, 50)\n",
    "# #ax.legend(loc='upper left')\n",
    "# for s in ['top', 'right','bottom','left']:\n",
    "#     ax.spines[s].set_visible(False)\n",
    "\n",
    "# ax.grid(False)\n",
    "\n",
    "# ax.set_xlim(2008,2020)\n",
    "# plt.xticks(np.arange(2008, 2021, 1))\n",
    "\n",
    "# fig.text(0.13, 0.85, 'Movies & TV Shows added over time', fontsize=15, fontweight='bold', fontfamily='serif')\n",
    "# fig.text(0.13, 0.59, \n",
    "# '''We see a slow start for Netflix over several years. \n",
    "# Things begin to pick up in 2015 and then there is a \n",
    "# rapid increase from 2016.\n",
    "\n",
    "# It looks like content additions have slowed down in 2020, \n",
    "# likely due to the COVID-19 pandemic.\n",
    "# '''\n",
    "\n",
    "# , fontsize=12, fontweight='light', fontfamily='serif')\n",
    "\n",
    "\n",
    "# fig.text(0.13,0.2,\"Movie\", fontweight=\"bold\", fontfamily='serif', fontsize=15, color='#b20710')\n",
    "# fig.text(0.19,0.2,\"|\", fontweight=\"bold\", fontfamily='serif', fontsize=15, color='black')\n",
    "# fig.text(0.2,0.2,\"TV Show\", fontweight=\"bold\", fontfamily='serif', fontsize=15, color='#221f1f')\n",
    "\n",
    "# ax.tick_params(axis=u'both', which=u'both',length=0)\n",
    "\n",
    "# plt.show()"
   ]
  },
  {
   "cell_type": "markdown",
   "metadata": {},
   "source": [
    "# We can view the same plot, but as a cumulative total..."
   ]
  },
  {
   "cell_type": "code",
   "execution_count": 23,
   "metadata": {
    "_kg_hide-input": false
   },
   "outputs": [
    {
     "name": "stdout",
     "output_type": "stream",
     "text": [
      "time: 187 ms (started: 2024-05-07 16:37:44 -04:00)\n"
     ]
    }
   ],
   "source": [
    "### STEFANOS: I didn't find a way to run the original with Modin. We're converting to Pandas and then\n",
    "### back to Modin.\n",
    "### ORIGINAL:\n",
    "# data_sub = df.groupby('type')['year_added'].value_counts().unstack().fillna(0).loc[['TV Show','Movie']].cumsum(axis=0).T\n",
    "### MODIFIED:\n",
    "\n",
    "if \"IREWR_WITH_MODIN\" in os.environ and os.environ[\"IREWR_WITH_MODIN\"] == \"True\":\n",
    "  df = df._to_pandas()\n",
    "\n",
    "data_sub = df.groupby('type')['year_added'].value_counts().unstack().fillna(0).loc[['TV Show','Movie']].cumsum(axis=0).T\n",
    "if \"IREWR_WITH_MODIN\" in os.environ and os.environ[\"IREWR_WITH_MODIN\"] == \"True\":\n",
    "  df = pd.DataFrame(df)\n",
    "  data_sub = pd.DataFrame(data_sub)\n",
    "\n",
    "# STEFANOS: Disable plotting\n",
    "\n",
    "# fig, ax = plt.subplots(1, 1, figsize=(12, 6))\n",
    "# color = [\"#b20710\", \"#221f1f\"]\n",
    "\n",
    "# for i, mtv in enumerate(df['type'].value_counts().index):\n",
    "#     mtv_rel = data_sub[mtv]\n",
    "#     ax.fill_between(mtv_rel.index, 0, mtv_rel, color=color[i], label=mtv,alpha=0.9)\n",
    "    \n",
    "\n",
    "    \n",
    "# ax.yaxis.tick_right()\n",
    "    \n",
    "# ax.axhline(y = 0, color = 'black', linewidth = 1.3, alpha = .7)\n",
    "\n",
    "# #ax.set_ylim(0, 50)\n",
    "# #ax.legend(loc='upper left')\n",
    "# for s in ['top', 'right','bottom','left']:\n",
    "#     ax.spines[s].set_visible(False)\n",
    "\n",
    "# ax.grid(False)\n",
    "\n",
    "# ax.set_xlim(2008,2020)\n",
    "# plt.xticks(np.arange(2008, 2021, 1))\n",
    "\n",
    "# fig.text(0.13, 0.85, 'Movies & TV Shows added over time [Cumulative Total]', fontsize=15, fontweight='bold', fontfamily='serif')\n",
    "# fig.text(0.13, 0.58, \n",
    "# '''Netflix peak global content amount was in 2019.\n",
    "\n",
    "# It appears that Netflix has focused more attention\n",
    "# on increasing Movie content that TV Shows. \n",
    "# Movies have increased much more dramatically\n",
    "# than TV shows.\n",
    "# '''\n",
    "\n",
    "# , fontsize=12, fontweight='light', fontfamily='serif')\n",
    "\n",
    "\n",
    "\n",
    "# fig.text(0.13,0.2,\"Movie\", fontweight=\"bold\", fontfamily='serif', fontsize=15, color='#b20710')\n",
    "# fig.text(0.19,0.2,\"|\", fontweight=\"bold\", fontfamily='serif', fontsize=15, color='black')\n",
    "# fig.text(0.2,0.2,\"TV Show\", fontweight=\"bold\", fontfamily='serif', fontsize=15, color='#221f1f')\n",
    "\n",
    "# ax.tick_params(axis=u'both', which=u'both',length=0)\n",
    "\n",
    "\n",
    "# plt.show()"
   ]
  },
  {
   "cell_type": "markdown",
   "metadata": {},
   "source": [
    "# Month-by-Month\n",
    "\n",
    "We've seen how content has increased over the years, but are there certain months that, on average, tend to enjoy more content being added?\n",
    "\n",
    "I'll show this in a couple of ways - a cumulative year view, and also as a radial plot..."
   ]
  },
  {
   "cell_type": "code",
   "execution_count": 24,
   "metadata": {
    "_kg_hide-input": true
   },
   "outputs": [
    {
     "name": "stdout",
     "output_type": "stream",
     "text": [
      "time: 165 ms (started: 2024-05-07 16:37:44 -04:00)\n"
     ]
    }
   ],
   "source": [
    "month_order = ['January',\n",
    " 'February',\n",
    " 'March',\n",
    " 'April',\n",
    " 'May',\n",
    " 'June',\n",
    " 'July',\n",
    " 'August',\n",
    " 'September',\n",
    " 'October',\n",
    " 'November',\n",
    " 'December']\n",
    "\n",
    "df['month_name_added'] = pd.Categorical(df['month_name_added'], categories=month_order, ordered=True)"
   ]
  },
  {
   "cell_type": "code",
   "execution_count": 25,
   "metadata": {
    "_kg_hide-input": true
   },
   "outputs": [
    {
     "name": "stdout",
     "output_type": "stream",
     "text": [
      "time: 173 ms (started: 2024-05-07 16:37:44 -04:00)\n"
     ]
    }
   ],
   "source": [
    "\n",
    "\n",
    "### STEFANOS: I didn't find a way to run the original with Modin. We're converting to Pandas and then\n",
    "### back to Modin.\n",
    "### ORIGINAL:\n",
    "# data_sub = df.groupby('type')['month_name_added'].value_counts().unstack().fillna(0).loc[['TV Show','Movie']].cumsum(axis=0).T\n",
    "### MODIFIED:\n",
    "\n",
    "if \"IREWR_WITH_MODIN\" in os.environ and os.environ[\"IREWR_WITH_MODIN\"] == \"True\":\n",
    "  df = df._to_pandas()\n",
    "\n",
    "data_sub = df.groupby('type')['month_name_added'].value_counts().unstack().fillna(0).loc[['TV Show','Movie']].cumsum(axis=0).T\n",
    "if \"IREWR_WITH_MODIN\" in os.environ and os.environ[\"IREWR_WITH_MODIN\"] == \"True\":\n",
    "  df = pd.DataFrame(df)\n",
    "  data_sub = pd.DataFrame(data_sub)\n",
    "\n",
    "# STEFANOS: Disable plotting\n",
    "\n",
    "# fig, ax = plt.subplots(1, 1, figsize=(12, 6))\n",
    "# color = [\"#b20710\", \"#221f1f\"]\n",
    "\n",
    "# for i, mtv in enumerate(df['type'].value_counts().index):\n",
    "#     mtv_rel = data_sub[mtv]\n",
    "#     ax.fill_between(mtv_rel.index, 0, mtv_rel, color=color[i], label=mtv,alpha=0.9)\n",
    "    \n",
    "\n",
    "    \n",
    "# ax.yaxis.tick_right()\n",
    "    \n",
    "# ax.axhline(y = 0, color = 'black', linewidth = 1.3, alpha = .4)\n",
    "\n",
    "# #ax.set_ylim(0, 50)\n",
    "# #ax.legend(loc='upper left')\n",
    "# for s in ['top', 'right','bottom','left']:\n",
    "#     ax.spines[s].set_visible(False)\n",
    "\n",
    "# ax.grid(False)\n",
    "# ax.set_xticklabels(data_sub.index, fontfamily='serif', rotation=0)\n",
    "# ax.margins(x=0) # remove white spaces next to margins\n",
    "\n",
    "# #ax.set_xlim(2008,2020)\n",
    "# #plt.xticks(np.arange(2008, 2021, 1))\n",
    "\n",
    "# fig.text(0.13, 0.95, 'Content added by month [Cumulative Total]', fontsize=15, fontweight='bold', fontfamily='serif')\n",
    "# fig.text(0.13, 0.905, \n",
    "# \"The end & beginnings of each year seem to be Netflix's preference for adding content.\"\n",
    "\n",
    "# , fontsize=12, fontweight='light', fontfamily='serif')\n",
    "\n",
    "\n",
    "\n",
    "# fig.text(0.13,0.855,\"Movie\", fontweight=\"bold\", fontfamily='serif', fontsize=15, color='#b20710')\n",
    "# fig.text(0.19,0.855,\"|\", fontweight=\"bold\", fontfamily='serif', fontsize=15, color='black')\n",
    "# fig.text(0.2,0.855,\"TV Show\", fontweight=\"bold\", fontfamily='serif', fontsize=15, color='#221f1f')\n",
    "\n",
    "\n",
    "# ax.tick_params(axis=u'both', which=u'both',length=0)\n",
    "\n",
    "# plt.show()"
   ]
  },
  {
   "cell_type": "markdown",
   "metadata": {},
   "source": [
    "# What about a more interesting way to view how content is added across the year?\n",
    "\n",
    "Sometimes visualizations should be eye-catching & attention grabbing - I think this visual acheives that, even if it isn't the most precise.\n",
    "\n",
    "By highlighting certain months, the reader's eye is drawn exactly where we want it. "
   ]
  },
  {
   "cell_type": "code",
   "execution_count": 26,
   "metadata": {
    "_kg_hide-input": true
   },
   "outputs": [
    {
     "data": {
      "text/plain": [
       "[0.5235987755982988,\n",
       " 1.0471975511965976,\n",
       " 1.5707963267948966,\n",
       " 2.0943951023931953,\n",
       " 2.617993877991494,\n",
       " 3.141592653589793,\n",
       " 3.665191429188092,\n",
       " 4.1887902047863905,\n",
       " 4.71238898038469,\n",
       " 5.235987755982988,\n",
       " 5.759586531581287,\n",
       " 6.283185307179586]"
      ]
     },
     "execution_count": 26,
     "metadata": {},
     "output_type": "execute_result"
    },
    {
     "name": "stdout",
     "output_type": "stream",
     "text": [
      "time: 3.99 ms (started: 2024-05-07 16:37:44 -04:00)\n"
     ]
    }
   ],
   "source": [
    "data_sub2 = data_sub\n",
    "\n",
    "data_sub2['Value'] = data_sub2['Movie'] + data_sub2['TV Show']\n",
    "data_sub2 = data_sub2.reset_index()\n",
    "\n",
    "df_polar = data_sub2.sort_values(by='month_name_added',ascending=False)\n",
    "\n",
    "\n",
    "color_map = ['#221f1f' for _ in range(12)]\n",
    "color_map[0] = color_map[11] =  '#b20710' # color highlight\n",
    "\n",
    "\n",
    "# initialize the figure\n",
    "# STEFANOS: Disable plotting\n",
    "# plt.figure(figsize=(8,8))\n",
    "# ax = plt.subplot(111, polar=True)\n",
    "# plt.axis('off')\n",
    "\n",
    "# Constants = parameters controling the plot layout:\n",
    "upperLimit = 30\n",
    "lowerLimit = 1\n",
    "labelPadding = 30\n",
    "\n",
    "# Compute max and min in the dataset\n",
    "max = df_polar['Value'].max()\n",
    "\n",
    "# Let's compute heights: they are a conversion of each item value in those new coordinates\n",
    "# In our example, 0 in the dataset will be converted to the lowerLimit (10)\n",
    "# The maximum will be converted to the upperLimit (100)\n",
    "slope = (max - lowerLimit) / max\n",
    "heights = slope * df_polar.Value + lowerLimit\n",
    "\n",
    "# Compute the width of each bar. In total we have 2*Pi = 360°\n",
    "width = 2*np.pi / len(df_polar.index)\n",
    "\n",
    "# Compute the angle each bar is centered on:\n",
    "indexes = list(range(1, len(df_polar.index)+1))\n",
    "angles = [element * width for element in indexes]\n",
    "angles\n",
    "\n",
    "# STEFANOS: Disable plotting\n",
    "\n",
    "# # Draw bars\n",
    "# bars = ax.bar(\n",
    "#     x=angles, \n",
    "#     height=heights, \n",
    "#     width=width, \n",
    "#     bottom=lowerLimit,\n",
    "#     linewidth=2, \n",
    "#     edgecolor=\"white\",\n",
    "#     color=color_map,alpha=0.8\n",
    "# )\n",
    "\n",
    "# # Add labels\n",
    "# for bar, angle, height, label in zip(bars,angles, heights, df_polar[\"month_name_added\"]):\n",
    "\n",
    "#     # Labels are rotated. Rotation must be specified in degrees :(\n",
    "#     rotation = np.rad2deg(angle)\n",
    "\n",
    "#     # Flip some labels upside down\n",
    "#     alignment = \"\"\n",
    "#     if angle >= np.pi/2 and angle < 3*np.pi/2:\n",
    "#         alignment = \"right\"\n",
    "#         rotation = rotation + 180\n",
    "#     else: \n",
    "#         alignment = \"left\"\n",
    "\n",
    "#     # Finally add the labels\n",
    "#     ax.text(\n",
    "#         x=angle, \n",
    "#         y=lowerLimit + bar.get_height() + labelPadding, \n",
    "#         s=label, \n",
    "#         ha=alignment, fontsize=10,fontfamily='serif',\n",
    "#         va='center', \n",
    "#         rotation=rotation, \n",
    "#         rotation_mode=\"anchor\") "
   ]
  },
  {
   "cell_type": "markdown",
   "metadata": {},
   "source": [
    "Yes, December & January are definitely the best months for new content. Maybe Netflix knows that people have a lot of time off from work over this period and that it is a good time to reel people in?\n",
    "\n",
    "February is the worst - why might this be? Ideas welcomed!"
   ]
  },
  {
   "cell_type": "markdown",
   "metadata": {},
   "source": [
    "# Movie Genres\n",
    "\n",
    "Let's now explore movie genres a little..."
   ]
  },
  {
   "cell_type": "code",
   "execution_count": 27,
   "metadata": {
    "_kg_hide-input": true
   },
   "outputs": [
    {
     "name": "stdout",
     "output_type": "stream",
     "text": [
      "time: 267 ms (started: 2024-05-07 16:37:44 -04:00)\n"
     ]
    }
   ],
   "source": [
    "# Genres\n",
    "from sklearn.preprocessing import MultiLabelBinarizer \n",
    "\n",
    "import matplotlib.colors\n",
    "\n",
    "\n",
    "# Custom colour map based on Netflix palette\n",
    "cmap = matplotlib.colors.LinearSegmentedColormap.from_list(\"\", ['#221f1f', '#b20710','#f5f5f1'])\n",
    "\n",
    "\n",
    "\n",
    "def genre_heatmap(df, title):\n",
    "    df['genre'] = df['listed_in'].apply(lambda x :  x.replace(' ,',',').replace(', ',',').split(',')) \n",
    "    Types = []\n",
    "    for i in df['genre']: Types += i\n",
    "    Types = set(Types)\n",
    "    print(\"There are {} types in the Netflix {} Dataset\".format(len(Types),title))    \n",
    "    test = df['genre']\n",
    "# STEFANOS: Disable ML and plotting\n",
    "#     mlb = MultiLabelBinarizer()\n",
    "#     res = pd.DataFrame(mlb.fit_transform(test), columns=mlb.classes_, index=test.index)\n",
    "#     corr = res.corr(numeric_only=True)\n",
    "#     mask = np.zeros_like(corr, dtype=np.bool)\n",
    "#     mask[np.triu_indices_from(mask)] = True\n",
    "#     fig, ax = plt.subplots(figsize=(10, 7))\n",
    "#     fig.text(.54,.88,'Genre correlation', fontfamily='serif',fontweight='bold',fontsize=15)\n",
    "#     fig.text(.75,.665,\n",
    "#             '''\n",
    "#              It is interesting that Independant Movies\n",
    "#              tend to be Dramas. \n",
    "             \n",
    "#              Another observation is that \n",
    "#              Internatinal Movies are rarely\n",
    "#              in the Children's genre.\n",
    "#              ''', fontfamily='serif',fontsize=12,ha='right')\n",
    "#     pl = sns.heatmap(corr, mask=mask, cmap=cmap, vmax=.3, vmin=-.3, center=0, square=True, linewidths=2.5)\n",
    "    \n",
    "#     plt.show()"
   ]
  },
  {
   "cell_type": "code",
   "execution_count": 28,
   "metadata": {
    "_kg_hide-input": true
   },
   "outputs": [
    {
     "name": "stdout",
     "output_type": "stream",
     "text": [
      "There are 20 types in the Netflix Movie Dataset\n",
      "time: 3.5 s (started: 2024-05-07 16:37:45 -04:00)\n"
     ]
    }
   ],
   "source": [
    "df_tv = df[df[\"type\"] == \"TV Show\"]\n",
    "df_movies = df[df[\"type\"] == \"Movie\"]\n",
    "\n",
    "\n",
    "genre_heatmap(df_movies, 'Movie')\n",
    "# STEFANOS: Disable plotting\n",
    "# plt.show()"
   ]
  },
  {
   "cell_type": "code",
   "execution_count": 29,
   "metadata": {
    "_kg_hide-input": true
   },
   "outputs": [
    {
     "name": "stdout",
     "output_type": "stream",
     "text": [
      "time: 8min 18s (started: 2024-05-07 16:37:48 -04:00)\n"
     ]
    }
   ],
   "source": [
    "\n",
    "\n",
    "data = df.groupby('first_country')[['first_country','count']].sum().sort_values(by='count',ascending=False).reset_index(drop=True)[:10]\n",
    "data = data['first_country']\n",
    "\n",
    "\n",
    "df_heatmap = df.loc[df['first_country'].isin(data)]"
   ]
  },
  {
   "cell_type": "code",
   "execution_count": 30,
   "metadata": {
    "_kg_hide-input": true
   },
   "outputs": [
    {
     "name": "stdout",
     "output_type": "stream",
     "text": [
      "time: 4.39 ms (started: 2024-05-07 16:46:07 -04:00)\n"
     ]
    }
   ],
   "source": [
    "df_heatmap = pd.crosstab(df_heatmap['first_country'],df_heatmap['target_ages'],normalize = \"index\").T"
   ]
  },
  {
   "cell_type": "markdown",
   "metadata": {},
   "source": [
    "# Target Ages\n",
    "\n",
    "Does Netflix uniformly target certain demographics? Or does this vary by country?\n",
    "\n"
   ]
  },
  {
   "cell_type": "code",
   "execution_count": 31,
   "metadata": {
    "_kg_hide-input": true
   },
   "outputs": [
    {
     "name": "stdout",
     "output_type": "stream",
     "text": [
      "time: 2.62 ms (started: 2024-05-07 16:46:07 -04:00)\n"
     ]
    }
   ],
   "source": [
    "# STEFANOS: Disable plotting\n",
    "\n",
    "# fig, ax = plt.subplots(1, 1, figsize=(12, 12))\n",
    "\n",
    "# country_order2 = ['USA', 'India', 'UK', 'Canada', 'Japan', 'France', 'S. Korea', 'Spain',\n",
    "#        'Mexico', 'Turkey']\n",
    "\n",
    "# age_order = ['Kids','Older Kids','Teens','Adults']\n",
    "\n",
    "# sns.heatmap(df_heatmap.loc[age_order,country_order2],cmap=cmap,square=True, linewidth=2.5,cbar=False,\n",
    "#             annot=True,fmt='1.0%',vmax=.6,vmin=0.05,ax=ax,annot_kws={\"fontsize\":12})\n",
    "\n",
    "# ax.spines['top'].set_visible(True)\n",
    "\n",
    "\n",
    "# fig.text(.99, .725, 'Target ages proportion of total content by country', fontweight='bold', fontfamily='serif', fontsize=15,ha='right')   \n",
    "# fig.text(0.99, 0.7, 'Here we see interesting differences between countries. Most shows in India are targeted to teens, for instance.',ha='right', fontsize=12,fontfamily='serif') \n",
    "\n",
    "# ax.set_yticklabels(ax.get_yticklabels(), fontfamily='serif', rotation = 0, fontsize=11)\n",
    "# ax.set_xticklabels(ax.get_xticklabels(), fontfamily='serif', rotation=90, fontsize=11)\n",
    "\n",
    "# ax.set_ylabel('')    \n",
    "# ax.set_xlabel('')\n",
    "# ax.tick_params(axis=u'both', which=u'both',length=0)\n",
    "# plt.tight_layout()\n",
    "# plt.show()"
   ]
  },
  {
   "cell_type": "markdown",
   "metadata": {},
   "source": [
    "Very interesting results. \n",
    "\n",
    "It is also interesting to note similarities between culturally similar countries - the US & UK are closey aligned with their Netflix target ages, yet vastly different to say, India or Japan!"
   ]
  },
  {
   "cell_type": "markdown",
   "metadata": {},
   "source": [
    "# Let's have a quick look at the lag between when content is released and when it is added on Netflix\n",
    "\n",
    "Spain looks to have a lot of new content. Great for them!"
   ]
  },
  {
   "cell_type": "code",
   "execution_count": 32,
   "metadata": {
    "_kg_hide-input": true
   },
   "outputs": [
    {
     "name": "stdout",
     "output_type": "stream",
     "text": [
      "time: 4min 40s (started: 2024-05-07 16:46:07 -04:00)\n"
     ]
    }
   ],
   "source": [
    "# Data\n",
    "\n",
    "df_movies\n",
    "df_tv\n",
    "\n",
    "### Relevant groupings\n",
    "\n",
    "data = df_movies.groupby('first_country')[['first_country','count']].sum().sort_values(by='count',ascending=False).reset_index(drop=True)[:10]\n",
    "data = data['first_country']\n",
    "df_loli = df_movies.loc[df_movies['first_country'].isin(data)]\n",
    "\n",
    "loli = df_loli.groupby('first_country')[['release_year','year_added']].mean().round()\n",
    "\n",
    "\n",
    "# Reorder it following the values of the first value\n",
    "ordered_df = loli.sort_values(by='release_year')\n",
    "\n",
    "ordered_df_rev = loli.sort_values(by='release_year',ascending=False)\n",
    "\n",
    "# STEFANOS: Disable plotting\n",
    "# my_range=range(1,len(loli.index)+1)\n",
    "\n",
    "\n",
    "# fig, ax = plt.subplots(1, 1, figsize=(7, 5))\n",
    "\n",
    "# fig.text(0.13, 0.9, 'How old are the movies? [Average]', fontsize=15, fontweight='bold', fontfamily='serif')\n",
    "# plt.hlines(y=my_range, xmin=ordered_df['release_year'], xmax=ordered_df['year_added'], color='grey', alpha=0.4)\n",
    "# plt.scatter(ordered_df['release_year'], my_range, color='#221f1f',s=100, alpha=0.9, label='Average release date')\n",
    "# plt.scatter(ordered_df['year_added'], my_range, color='#b20710',s=100, alpha=0.9 , label='Average added date')\n",
    "# #plt.legend()\n",
    "\n",
    "# for s in ['top', 'left', 'right', 'bottom']:\n",
    "#     ax.spines[s].set_visible(False)\n",
    "    \n",
    "\n",
    "# # Removes the tick marks but keeps the labels\n",
    "# ax.tick_params(axis=u'both', which=u'both',length=0)\n",
    "# # Move Y axis to the right side\n",
    "# ax.yaxis.tick_right()\n",
    "\n",
    "# plt.yticks(my_range, ordered_df.index)\n",
    "# plt.yticks(fontname = \"serif\",fontsize=12)\n",
    "\n",
    "# # Custome legend\n",
    "# fig.text(0.19,0.175,\"Released\", fontweight=\"bold\", fontfamily='serif', fontsize=12, color='#221f1f')\n",
    "# fig.text(0.76,0.175,\"Added\", fontweight=\"bold\", fontfamily='serif', fontsize=12, color='#b20710')\n",
    "\n",
    "\n",
    "# fig.text(0.13, 0.46, \n",
    "# '''The average gap between when \n",
    "# content is released, and when it\n",
    "# is then added on Netflix varies\n",
    "# by country. \n",
    "\n",
    "# In Spain, Netflix appears to be \n",
    "# dominated by newer movies \n",
    "# whereas Egypt & India have\n",
    "# an older average movie.\n",
    "# '''\n",
    "\n",
    "# , fontsize=12, fontweight='light', fontfamily='serif')\n",
    "\n",
    "\n",
    "# #plt.xlabel('Year')\n",
    "# #plt.ylabel('Country')\n",
    "# plt.show()"
   ]
  },
  {
   "cell_type": "markdown",
   "metadata": {},
   "source": [
    "What about TV shows..."
   ]
  },
  {
   "cell_type": "code",
   "execution_count": 33,
   "metadata": {
    "_kg_hide-input": true
   },
   "outputs": [
    {
     "name": "stdout",
     "output_type": "stream",
     "text": [
      "time: 38.3 s (started: 2024-05-07 16:50:47 -04:00)\n"
     ]
    }
   ],
   "source": [
    "data = df_tv.groupby('first_country')[['first_country','count']].sum().sort_values(by='count',ascending=False).reset_index(drop=True)[:10]\n",
    "data = data['first_country']\n",
    "df_loli = df_tv.loc[df_tv['first_country'].isin(data)]\n",
    "\n",
    "loli = df_loli.groupby('first_country')[['release_year','year_added']].mean().round()\n",
    "\n",
    "\n",
    "# Reorder it following the values of the first value:\n",
    "ordered_df = loli.sort_values(by='release_year')\n",
    "\n",
    "ordered_df_rev = loli.sort_values(by='release_year',ascending=False)\n",
    "\n",
    "# STEFANOS: Disable plotting\n",
    "\n",
    "\n",
    "# my_range=range(1,len(loli.index)+1)\n",
    "\n",
    "\n",
    "# fig, ax = plt.subplots(1, 1, figsize=(7, 5))\n",
    "\n",
    "# fig.text(0.13, 0.9, 'How old are the TV shows? [Average]', fontsize=15, fontweight='bold', fontfamily='serif')\n",
    "# plt.hlines(y=my_range, xmin=ordered_df['release_year'], xmax=ordered_df['year_added'], color='grey', alpha=0.4)\n",
    "# plt.scatter(ordered_df['release_year'], my_range, color='#221f1f',s=100, alpha=0.9, label='Average release date')\n",
    "# plt.scatter(ordered_df['year_added'], my_range, color='#b20710',s=100, alpha=0.9 , label='Average added date')\n",
    "# #plt.legend()\n",
    "\n",
    "# for s in ['top', 'left', 'right', 'bottom']:\n",
    "#     ax.spines[s].set_visible(False)\n",
    "    \n",
    "# ax.yaxis.tick_right()\n",
    "# plt.yticks(my_range, ordered_df.index)\n",
    "# plt.yticks(fontname = \"serif\",fontsize=12)\n",
    "\n",
    "\n",
    "# fig.text(0.19,0.175,\"Released\", fontweight=\"bold\", fontfamily='serif', fontsize=12, color='#221f1f')\n",
    "\n",
    "# fig.text(0.47,0.175,\"Added\", fontweight=\"bold\", fontfamily='serif', fontsize=12, color='#b20710')\n",
    "\n",
    "\n",
    "# fig.text(0.13, 0.42, \n",
    "# '''The gap for TV shows seems\n",
    "# more regular than for movies.\n",
    "\n",
    "# This is likely due to subsequent\n",
    "# series being released\n",
    "# year-on-year.\n",
    "\n",
    "# Spain seems to have\n",
    "# the newest content\n",
    "# overall.\n",
    "# '''\n",
    "\n",
    "# , fontsize=12, fontweight='light', fontfamily='serif')\n",
    "\n",
    "\n",
    "# ax.tick_params(axis=u'both', which=u'both',length=0)\n",
    "# #plt.xlabel('Value of the variables')\n",
    "# #plt.ylabel('Group')\n",
    "# plt.show()"
   ]
  },
  {
   "cell_type": "code",
   "execution_count": 34,
   "metadata": {},
   "outputs": [
    {
     "name": "stdout",
     "output_type": "stream",
     "text": [
      "time: 749 ms (started: 2024-05-07 16:51:26 -04:00)\n"
     ]
    }
   ],
   "source": [
    "\n",
    "us_ind = df[(df['first_country'] == 'USA') | (df['first_country'] == 'India' )]\n",
    "\n",
    "\n",
    "### STEFANOS: I didn't find a way to run the original with Modin. We're converting to Pandas and then\n",
    "### back to Modin.\n",
    "### ORIGINAL:\n",
    "# data_sub = df.groupby('first_country')['year_added'].value_counts().unstack().fillna(0).loc[['USA','India']].cumsum(axis=0).T\n",
    "### MODIFIED:\n",
    "\n",
    "if \"IREWR_WITH_MODIN\" in os.environ and os.environ[\"IREWR_WITH_MODIN\"] == \"True\":\n",
    "  df = df._to_pandas()\n",
    "\n",
    "data_sub = df.groupby('first_country')['year_added'].value_counts().unstack().fillna(0).loc[['USA','India']].cumsum(axis=0).T\n",
    "if \"IREWR_WITH_MODIN\" in os.environ and os.environ[\"IREWR_WITH_MODIN\"] == \"True\":\n",
    "  df = pd.DataFrame(df)\n",
    "  data_sub = pd.DataFrame(data_sub)"
   ]
  },
  {
   "cell_type": "markdown",
   "metadata": {},
   "source": [
    "# USA & India\n",
    "\n",
    "As the two largest content countries, it might be fun to compare the two"
   ]
  },
  {
   "cell_type": "code",
   "execution_count": 35,
   "metadata": {},
   "outputs": [
    {
     "name": "stdout",
     "output_type": "stream",
     "text": [
      "time: 609 µs (started: 2024-05-07 16:51:26 -04:00)\n"
     ]
    }
   ],
   "source": [
    "# STEFANOS: Disable plotting\n",
    "\n",
    "# fig, ax = plt.subplots(1, 1, figsize=(12, 6))\n",
    "# color = ['#221f1f', '#b20710','#f5f5f1']\n",
    "\n",
    "# for i, hs in enumerate(us_ind['first_country'].value_counts().index):\n",
    "#     hs_built = us_ind[us_ind['first_country']==hs]['year_added'].value_counts().sort_index()\n",
    "#     ax.plot(hs_built.index, hs_built, color=color[i], label=hs)\n",
    "#     #ax.fill_between(hs_built.index, 0, hs_built, color=color[i], alpha=0.4)\n",
    "#     ax.fill_between(hs_built.index, 0, hs_built, color=color[i], label=hs)\n",
    "    \n",
    "\n",
    "# ax.set_ylim(0, 1000)\n",
    "# #ax.legend(loc='upper left')\n",
    "# for s in ['top', 'right']:\n",
    "#     ax.spines[s].set_visible(False)\n",
    "\n",
    "# ax.yaxis.tick_right()\n",
    "    \n",
    "# ax.axhline(y = 0, color = 'black', linewidth = 1.3, alpha = .4)\n",
    "\n",
    "# #ax.set_ylim(0, 50)\n",
    "# #ax.legend(loc='upper left')\n",
    "# for s in ['top', 'right','bottom','left']:\n",
    "#     ax.spines[s].set_visible(False)\n",
    "\n",
    "# ax.grid(False)\n",
    "# ax.set_xticklabels(data_sub.index, fontfamily='serif', rotation=0)\n",
    "# ax.margins(x=0) # remove white spaces next to margins\n",
    "\n",
    "# ax.set_xlim(2008,2020)\n",
    "# plt.xticks(np.arange(2008, 2021, 1))\n",
    "\n",
    "# fig.text(0.13, 0.85, 'USA vs. India: When was content added?', fontsize=15, fontweight='bold', fontfamily='serif')\n",
    "# fig.text(0.13, 0.58, \n",
    "# '''\n",
    "# We know from our work above that Netflix is dominated by the USA & India.\n",
    "# It would also be reasonable to assume that, since Netflix is an American\n",
    "# compnany, Netflix increased content first in the USA, before \n",
    "# other nations. \n",
    "\n",
    "# That is exactly what we see here; a slow and then rapid\n",
    "# increase in content for the USA, followed by Netflix \n",
    "# being launched to the Indian market in 2016.'''\n",
    "\n",
    "# , fontsize=12, fontweight='light', fontfamily='serif')\n",
    "\n",
    "\n",
    "\n",
    "# fig.text(0.13,0.15,\"India\", fontweight=\"bold\", fontfamily='serif', fontsize=15, color='#b20710')\n",
    "# fig.text(0.188,0.15,\"|\", fontweight=\"bold\", fontfamily='serif', fontsize=15, color='black')\n",
    "# fig.text(0.198,0.15,\"USA\", fontweight=\"bold\", fontfamily='serif', fontsize=15, color='#221f1f')\n",
    "\n",
    "\n",
    "# ax.tick_params(axis=u'both', which=u'both',length=0)\n",
    "\n",
    "\n",
    "# plt.show()"
   ]
  },
  {
   "cell_type": "code",
   "execution_count": 36,
   "metadata": {
    "_kg_hide-input": true
   },
   "outputs": [
    {
     "name": "stdout",
     "output_type": "stream",
     "text": [
      "time: 783 ms (started: 2024-05-07 16:51:26 -04:00)\n"
     ]
    }
   ],
   "source": [
    "us_ind = df[(df['first_country'] == 'USA') | (df['first_country'] == 'India' )]\n",
    "\n",
    "### STEFANOS: I didn't find a way to run the original with Modin. We're converting to Pandas and then\n",
    "### back to Modin.\n",
    "### ORIGINAL:\n",
    "# data_sub = df.groupby('first_country')['year_added'].value_counts().unstack().fillna(0).loc[['USA','India']].cumsum(axis=0).T\n",
    "### MODIFIED:\n",
    "\n",
    "if \"IREWR_WITH_MODIN\" in os.environ and os.environ[\"IREWR_WITH_MODIN\"] == \"True\":\n",
    "  df = df._to_pandas()\n",
    "\n",
    "data_sub = df.groupby('first_country')['year_added'].value_counts().unstack().fillna(0).loc[['USA','India']].cumsum(axis=0).T\n",
    "if \"IREWR_WITH_MODIN\" in os.environ and os.environ[\"IREWR_WITH_MODIN\"] == \"True\":\n",
    "  df = pd.DataFrame(df)\n",
    "  data_sub = pd.DataFrame(data_sub)\n",
    "\n",
    "\n",
    "data_sub.insert(0, \"base\", np.zeros(len(data_sub)))\n",
    "\n",
    "data_sub = data_sub.add(-us_ind['year_added'].value_counts()/2, axis=0)\n"
   ]
  },
  {
   "cell_type": "markdown",
   "metadata": {},
   "source": [
    "So the USA dominates. But is there a plot that can convey this in another way?"
   ]
  },
  {
   "cell_type": "code",
   "execution_count": 37,
   "metadata": {},
   "outputs": [
    {
     "name": "stdout",
     "output_type": "stream",
     "text": [
      "time: 434 µs (started: 2024-05-07 16:51:27 -04:00)\n"
     ]
    }
   ],
   "source": [
    "# STEFANOS: Disable plotting\n",
    "\n",
    "# fig, ax = plt.subplots(1, 1, figsize=(14, 6))\n",
    "# color = ['#b20710','#221f1f'][::-1]\n",
    "# hs_list = data_sub.columns\n",
    "# hs_built = data_sub[hs]\n",
    "\n",
    "# for i, hs in enumerate(hs_list):\n",
    "#     if i == 0 : continue\n",
    "#     ax.fill_between(hs_built.index, data_sub.iloc[:,i-1], data_sub.iloc[:,i], color=color[i-1])\n",
    "    \n",
    "# for s in ['top', 'right', 'bottom', 'left']:\n",
    "#     ax.spines[s].set_visible(False)\n",
    "# ax.set_axisbelow(True)\n",
    "# ax.set_yticks([])\n",
    "# #ax.legend(loc='upper left')\n",
    "# ax.grid(False)\n",
    "\n",
    "# fig.text(0.16, 0.76, 'USA vs. India: Stream graph of new content added', fontsize=15, fontweight='bold', fontfamily='serif')\n",
    "# fig.text(0.16, 0.575, \n",
    "# '''\n",
    "# Seeing the data displayed like this helps \n",
    "# us to realise just how much content is added in the USA.\n",
    "# Remember, India has the second largest amount of\n",
    "# content yet is dwarfed by the USA.'''\n",
    "\n",
    "# , fontsize=12, fontweight='light', fontfamily='serif')\n",
    "\n",
    "# fig.text(0.16,0.41,\"India\", fontweight=\"bold\", fontfamily='serif', fontsize=15, color='#b20710')\n",
    "# fig.text(0.208,0.41,\"|\", fontweight=\"bold\", fontfamily='serif', fontsize=15, color='black')\n",
    "# fig.text(0.218,0.41,\"USA\", fontweight=\"bold\", fontfamily='serif', fontsize=15, color='#221f1f')\n",
    "\n",
    "\n",
    "# ax.tick_params(axis=u'y', which=u'both',length=0)\n",
    "\n",
    "# plt.show()"
   ]
  },
  {
   "cell_type": "markdown",
   "metadata": {},
   "source": [
    "# Lastly, we can view a wordcloud to get an overview of Netflix titles\n",
    "\n",
    "\n",
    "It is interesting to note that many films share the same key words in their titles.\n",
    "\n",
    "\n",
    "\n",
    "Credit to Dmitry Uarov for figuring this visual out. His notebook is here:\n",
    "\n",
    "https://www.kaggle.com/dmitryuarov/netflix-eda-with-plotly\n",
    "\n"
   ]
  },
  {
   "cell_type": "code",
   "execution_count": 38,
   "metadata": {
    "_kg_hide-input": true
   },
   "outputs": [
    {
     "name": "stdout",
     "output_type": "stream",
     "text": [
      "time: 1.13 s (started: 2024-05-07 16:51:27 -04:00)\n"
     ]
    }
   ],
   "source": [
    "# STEFANOS: Uneeded\n",
    "# from wordcloud import WordCloud\n",
    "import random\n",
    "from PIL import Image\n",
    "import matplotlib\n",
    "\n",
    "# Custom colour map based on Netflix palette\n",
    "# STEFANOS: Disable plotting\n",
    "# cmap = matplotlib.colors.LinearSegmentedColormap.from_list(\"\", ['#221f1f', '#b20710'])\n",
    "\n",
    "text = str(list(df['title'])).replace(',', '').replace('[', '').replace(\"'\", '').replace(']', '').replace('.', '')\n",
    "\n",
    "# STEFANOS: Can't find the icon\n",
    "# mask = np.array(Image.open('input/netflix-icon-new/f6974e017d3f6196c4cbe284ee3eaf4e.png'))\n",
    "\n",
    "\n",
    "# STEFANOS: Disable ML and plotting\n",
    "# wordcloud = WordCloud(background_color = 'white', width = 500,  height = 200,colormap=cmap, max_words = 150, mask = mask).generate(text)\n",
    "\n",
    "# plt.figure( figsize=(5,5))\n",
    "# plt.imshow(wordcloud, interpolation = 'bilinear')\n",
    "# plt.axis('off')\n",
    "# plt.tight_layout(pad=0)\n",
    "# plt.show()"
   ]
  },
  {
   "cell_type": "code",
   "execution_count": 39,
   "id": "7d1406fa",
   "metadata": {},
   "outputs": [
    {
     "name": "stdout",
     "output_type": "stream",
     "text": [
      "Total elapsed time: 837.140161457\n",
      "time: 294 µs (started: 2024-05-07 16:51:28 -04:00)\n"
     ]
    }
   ],
   "source": [
    "SNAPPY_end_time = time.perf_counter_ns()\n",
    "print(\"Total elapsed time:\", (SNAPPY_end_time - SNAPPY_start_time) / (10 ** 9))"
   ]
  },
  {
   "cell_type": "markdown",
   "metadata": {},
   "source": [
    "\n",
    "# Thanks for reading!\n",
    "\n",
    "# I hope you enjoyed my visuals \n",
    "\n",
    "# Please consider upvoting if you did\n",
    "\n",
    "# Have a great day\n",
    "\n",
    "\n",
    "View more of my work:\n",
    "\n",
    "**Exploratory Data Visualization - Student Performance**\n",
    "\n",
    "https://www.kaggle.com/joshuaswords/data-visualisation-student-results\n",
    "\n",
    "**Visuals & Modelling**\n",
    "\n",
    "https://www.kaggle.com/joshuaswords/awesome-hr-data-visualization-prediction\n",
    "\n",
    "**Visuals & Customer Segmentation**\n",
    "\n",
    "https://www.kaggle.com/joshuaswords/data-visualization-clustering-mall-data\n",
    "\n",
    "**March 2021 Tabular Playground Series**\n",
    "\n",
    "https://www.kaggle.com/joshuaswords/tps-eda-model-march-2020\n",
    "\n"
   ]
  }
 ],
 "metadata": {
  "kernelspec": {
   "display_name": "Python 3 (ipykernel)",
   "language": "python",
   "name": "python3"
  },
  "language_info": {
   "codemirror_mode": {
    "name": "ipython",
    "version": 3
   },
   "file_extension": ".py",
   "mimetype": "text/x-python",
   "name": "python",
   "nbconvert_exporter": "python",
   "pygments_lexer": "ipython3",
   "version": "3.10.11"
  }
 },
 "nbformat": 4,
 "nbformat_minor": 4
}
