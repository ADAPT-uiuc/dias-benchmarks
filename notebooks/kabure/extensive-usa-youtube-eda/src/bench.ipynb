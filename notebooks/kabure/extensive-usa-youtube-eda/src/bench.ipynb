{
 "cells": [
  {
   "cell_type": "markdown",
   "metadata": {
    "_cell_guid": "28a6526f-d9d1-4f7b-9894-9383fb570b07",
    "_uuid": "449477506ccff5337a64f342c4c5e03aa7555137"
   },
   "source": [
    "<h2>Importing librarys and data</h2>"
   ]
  },
  {
   "cell_type": "code",
   "execution_count": 1,
   "metadata": {
    "_cell_guid": "79c7e3d0-c299-4dcb-8224-4455121ee9b0",
    "_uuid": "d629ff2d2480ee46fbb7e2d37f6b5fab8052498a"
   },
   "outputs": [
    {
     "name": "stderr",
     "output_type": "stream",
     "text": [
      "/Users/sse/opt/anaconda3/envs/py3.10/lib/python3.10/site-packages/scipy/__init__.py:155: UserWarning: A NumPy version >=1.18.5 and <1.26.0 is required for this version of SciPy (detected version 1.26.0\n",
      "  warnings.warn(f\"A NumPy version >={np_minversion} and <{np_maxversion}\"\n"
     ]
    }
   ],
   "source": [
    "import pandas as pd\n",
    "import numpy as np\n",
    "import seaborn as sns\n",
    "import matplotlib.pyplot as plt\n",
    "import matplotlib as mpl\n",
    "import os\n",
    "from subprocess import check_output\n",
    "from wordcloud import WordCloud, STOPWORDS"
   ]
  },
  {
   "cell_type": "code",
   "execution_count": 2,
   "metadata": {
    "_cell_guid": "9e56b11f-6d35-43eb-be32-582dc06d98f6",
    "_uuid": "16b0901fa8513f638c3328d58a24aee2b09c9ce4"
   },
   "outputs": [
    {
     "ename": "FileNotFoundError",
     "evalue": "[Errno 2] No such file or directory: '../input/youtube-new/USvideos.csv'",
     "output_type": "error",
     "traceback": [
      "\u001b[0;31m---------------------------------------------------------------------------\u001b[0m",
      "\u001b[0;31mFileNotFoundError\u001b[0m                         Traceback (most recent call last)",
      "Cell \u001b[0;32mIn[2], line 1\u001b[0m\n\u001b[0;32m----> 1\u001b[0m df_yout \u001b[38;5;241m=\u001b[39m \u001b[43mpd\u001b[49m\u001b[38;5;241;43m.\u001b[39;49m\u001b[43mread_csv\u001b[49m\u001b[43m(\u001b[49m\u001b[38;5;124;43m\"\u001b[39;49m\u001b[38;5;124;43m../input/youtube-new/USvideos.csv\u001b[39;49m\u001b[38;5;124;43m\"\u001b[39;49m\u001b[43m)\u001b[49m\n",
      "File \u001b[0;32m~/opt/anaconda3/envs/py3.10/lib/python3.10/site-packages/pandas/util/_decorators.py:211\u001b[0m, in \u001b[0;36mdeprecate_kwarg.<locals>._deprecate_kwarg.<locals>.wrapper\u001b[0;34m(*args, **kwargs)\u001b[0m\n\u001b[1;32m    209\u001b[0m     \u001b[38;5;28;01melse\u001b[39;00m:\n\u001b[1;32m    210\u001b[0m         kwargs[new_arg_name] \u001b[38;5;241m=\u001b[39m new_arg_value\n\u001b[0;32m--> 211\u001b[0m \u001b[38;5;28;01mreturn\u001b[39;00m \u001b[43mfunc\u001b[49m\u001b[43m(\u001b[49m\u001b[38;5;241;43m*\u001b[39;49m\u001b[43margs\u001b[49m\u001b[43m,\u001b[49m\u001b[43m \u001b[49m\u001b[38;5;241;43m*\u001b[39;49m\u001b[38;5;241;43m*\u001b[39;49m\u001b[43mkwargs\u001b[49m\u001b[43m)\u001b[49m\n",
      "File \u001b[0;32m~/opt/anaconda3/envs/py3.10/lib/python3.10/site-packages/pandas/util/_decorators.py:331\u001b[0m, in \u001b[0;36mdeprecate_nonkeyword_arguments.<locals>.decorate.<locals>.wrapper\u001b[0;34m(*args, **kwargs)\u001b[0m\n\u001b[1;32m    325\u001b[0m \u001b[38;5;28;01mif\u001b[39;00m \u001b[38;5;28mlen\u001b[39m(args) \u001b[38;5;241m>\u001b[39m num_allow_args:\n\u001b[1;32m    326\u001b[0m     warnings\u001b[38;5;241m.\u001b[39mwarn(\n\u001b[1;32m    327\u001b[0m         msg\u001b[38;5;241m.\u001b[39mformat(arguments\u001b[38;5;241m=\u001b[39m_format_argument_list(allow_args)),\n\u001b[1;32m    328\u001b[0m         \u001b[38;5;167;01mFutureWarning\u001b[39;00m,\n\u001b[1;32m    329\u001b[0m         stacklevel\u001b[38;5;241m=\u001b[39mfind_stack_level(),\n\u001b[1;32m    330\u001b[0m     )\n\u001b[0;32m--> 331\u001b[0m \u001b[38;5;28;01mreturn\u001b[39;00m \u001b[43mfunc\u001b[49m\u001b[43m(\u001b[49m\u001b[38;5;241;43m*\u001b[39;49m\u001b[43margs\u001b[49m\u001b[43m,\u001b[49m\u001b[43m \u001b[49m\u001b[38;5;241;43m*\u001b[39;49m\u001b[38;5;241;43m*\u001b[39;49m\u001b[43mkwargs\u001b[49m\u001b[43m)\u001b[49m\n",
      "File \u001b[0;32m~/opt/anaconda3/envs/py3.10/lib/python3.10/site-packages/pandas/io/parsers/readers.py:950\u001b[0m, in \u001b[0;36mread_csv\u001b[0;34m(filepath_or_buffer, sep, delimiter, header, names, index_col, usecols, squeeze, prefix, mangle_dupe_cols, dtype, engine, converters, true_values, false_values, skipinitialspace, skiprows, skipfooter, nrows, na_values, keep_default_na, na_filter, verbose, skip_blank_lines, parse_dates, infer_datetime_format, keep_date_col, date_parser, dayfirst, cache_dates, iterator, chunksize, compression, thousands, decimal, lineterminator, quotechar, quoting, doublequote, escapechar, comment, encoding, encoding_errors, dialect, error_bad_lines, warn_bad_lines, on_bad_lines, delim_whitespace, low_memory, memory_map, float_precision, storage_options)\u001b[0m\n\u001b[1;32m    935\u001b[0m kwds_defaults \u001b[38;5;241m=\u001b[39m _refine_defaults_read(\n\u001b[1;32m    936\u001b[0m     dialect,\n\u001b[1;32m    937\u001b[0m     delimiter,\n\u001b[0;32m   (...)\u001b[0m\n\u001b[1;32m    946\u001b[0m     defaults\u001b[38;5;241m=\u001b[39m{\u001b[38;5;124m\"\u001b[39m\u001b[38;5;124mdelimiter\u001b[39m\u001b[38;5;124m\"\u001b[39m: \u001b[38;5;124m\"\u001b[39m\u001b[38;5;124m,\u001b[39m\u001b[38;5;124m\"\u001b[39m},\n\u001b[1;32m    947\u001b[0m )\n\u001b[1;32m    948\u001b[0m kwds\u001b[38;5;241m.\u001b[39mupdate(kwds_defaults)\n\u001b[0;32m--> 950\u001b[0m \u001b[38;5;28;01mreturn\u001b[39;00m \u001b[43m_read\u001b[49m\u001b[43m(\u001b[49m\u001b[43mfilepath_or_buffer\u001b[49m\u001b[43m,\u001b[49m\u001b[43m \u001b[49m\u001b[43mkwds\u001b[49m\u001b[43m)\u001b[49m\n",
      "File \u001b[0;32m~/opt/anaconda3/envs/py3.10/lib/python3.10/site-packages/pandas/io/parsers/readers.py:605\u001b[0m, in \u001b[0;36m_read\u001b[0;34m(filepath_or_buffer, kwds)\u001b[0m\n\u001b[1;32m    602\u001b[0m _validate_names(kwds\u001b[38;5;241m.\u001b[39mget(\u001b[38;5;124m\"\u001b[39m\u001b[38;5;124mnames\u001b[39m\u001b[38;5;124m\"\u001b[39m, \u001b[38;5;28;01mNone\u001b[39;00m))\n\u001b[1;32m    604\u001b[0m \u001b[38;5;66;03m# Create the parser.\u001b[39;00m\n\u001b[0;32m--> 605\u001b[0m parser \u001b[38;5;241m=\u001b[39m \u001b[43mTextFileReader\u001b[49m\u001b[43m(\u001b[49m\u001b[43mfilepath_or_buffer\u001b[49m\u001b[43m,\u001b[49m\u001b[43m \u001b[49m\u001b[38;5;241;43m*\u001b[39;49m\u001b[38;5;241;43m*\u001b[39;49m\u001b[43mkwds\u001b[49m\u001b[43m)\u001b[49m\n\u001b[1;32m    607\u001b[0m \u001b[38;5;28;01mif\u001b[39;00m chunksize \u001b[38;5;129;01mor\u001b[39;00m iterator:\n\u001b[1;32m    608\u001b[0m     \u001b[38;5;28;01mreturn\u001b[39;00m parser\n",
      "File \u001b[0;32m~/opt/anaconda3/envs/py3.10/lib/python3.10/site-packages/pandas/io/parsers/readers.py:1442\u001b[0m, in \u001b[0;36mTextFileReader.__init__\u001b[0;34m(self, f, engine, **kwds)\u001b[0m\n\u001b[1;32m   1439\u001b[0m     \u001b[38;5;28mself\u001b[39m\u001b[38;5;241m.\u001b[39moptions[\u001b[38;5;124m\"\u001b[39m\u001b[38;5;124mhas_index_names\u001b[39m\u001b[38;5;124m\"\u001b[39m] \u001b[38;5;241m=\u001b[39m kwds[\u001b[38;5;124m\"\u001b[39m\u001b[38;5;124mhas_index_names\u001b[39m\u001b[38;5;124m\"\u001b[39m]\n\u001b[1;32m   1441\u001b[0m \u001b[38;5;28mself\u001b[39m\u001b[38;5;241m.\u001b[39mhandles: IOHandles \u001b[38;5;241m|\u001b[39m \u001b[38;5;28;01mNone\u001b[39;00m \u001b[38;5;241m=\u001b[39m \u001b[38;5;28;01mNone\u001b[39;00m\n\u001b[0;32m-> 1442\u001b[0m \u001b[38;5;28mself\u001b[39m\u001b[38;5;241m.\u001b[39m_engine \u001b[38;5;241m=\u001b[39m \u001b[38;5;28;43mself\u001b[39;49m\u001b[38;5;241;43m.\u001b[39;49m\u001b[43m_make_engine\u001b[49m\u001b[43m(\u001b[49m\u001b[43mf\u001b[49m\u001b[43m,\u001b[49m\u001b[43m \u001b[49m\u001b[38;5;28;43mself\u001b[39;49m\u001b[38;5;241;43m.\u001b[39;49m\u001b[43mengine\u001b[49m\u001b[43m)\u001b[49m\n",
      "File \u001b[0;32m~/opt/anaconda3/envs/py3.10/lib/python3.10/site-packages/pandas/io/parsers/readers.py:1735\u001b[0m, in \u001b[0;36mTextFileReader._make_engine\u001b[0;34m(self, f, engine)\u001b[0m\n\u001b[1;32m   1733\u001b[0m     \u001b[38;5;28;01mif\u001b[39;00m \u001b[38;5;124m\"\u001b[39m\u001b[38;5;124mb\u001b[39m\u001b[38;5;124m\"\u001b[39m \u001b[38;5;129;01mnot\u001b[39;00m \u001b[38;5;129;01min\u001b[39;00m mode:\n\u001b[1;32m   1734\u001b[0m         mode \u001b[38;5;241m+\u001b[39m\u001b[38;5;241m=\u001b[39m \u001b[38;5;124m\"\u001b[39m\u001b[38;5;124mb\u001b[39m\u001b[38;5;124m\"\u001b[39m\n\u001b[0;32m-> 1735\u001b[0m \u001b[38;5;28mself\u001b[39m\u001b[38;5;241m.\u001b[39mhandles \u001b[38;5;241m=\u001b[39m \u001b[43mget_handle\u001b[49m\u001b[43m(\u001b[49m\n\u001b[1;32m   1736\u001b[0m \u001b[43m    \u001b[49m\u001b[43mf\u001b[49m\u001b[43m,\u001b[49m\n\u001b[1;32m   1737\u001b[0m \u001b[43m    \u001b[49m\u001b[43mmode\u001b[49m\u001b[43m,\u001b[49m\n\u001b[1;32m   1738\u001b[0m \u001b[43m    \u001b[49m\u001b[43mencoding\u001b[49m\u001b[38;5;241;43m=\u001b[39;49m\u001b[38;5;28;43mself\u001b[39;49m\u001b[38;5;241;43m.\u001b[39;49m\u001b[43moptions\u001b[49m\u001b[38;5;241;43m.\u001b[39;49m\u001b[43mget\u001b[49m\u001b[43m(\u001b[49m\u001b[38;5;124;43m\"\u001b[39;49m\u001b[38;5;124;43mencoding\u001b[39;49m\u001b[38;5;124;43m\"\u001b[39;49m\u001b[43m,\u001b[49m\u001b[43m \u001b[49m\u001b[38;5;28;43;01mNone\u001b[39;49;00m\u001b[43m)\u001b[49m\u001b[43m,\u001b[49m\n\u001b[1;32m   1739\u001b[0m \u001b[43m    \u001b[49m\u001b[43mcompression\u001b[49m\u001b[38;5;241;43m=\u001b[39;49m\u001b[38;5;28;43mself\u001b[39;49m\u001b[38;5;241;43m.\u001b[39;49m\u001b[43moptions\u001b[49m\u001b[38;5;241;43m.\u001b[39;49m\u001b[43mget\u001b[49m\u001b[43m(\u001b[49m\u001b[38;5;124;43m\"\u001b[39;49m\u001b[38;5;124;43mcompression\u001b[39;49m\u001b[38;5;124;43m\"\u001b[39;49m\u001b[43m,\u001b[49m\u001b[43m \u001b[49m\u001b[38;5;28;43;01mNone\u001b[39;49;00m\u001b[43m)\u001b[49m\u001b[43m,\u001b[49m\n\u001b[1;32m   1740\u001b[0m \u001b[43m    \u001b[49m\u001b[43mmemory_map\u001b[49m\u001b[38;5;241;43m=\u001b[39;49m\u001b[38;5;28;43mself\u001b[39;49m\u001b[38;5;241;43m.\u001b[39;49m\u001b[43moptions\u001b[49m\u001b[38;5;241;43m.\u001b[39;49m\u001b[43mget\u001b[49m\u001b[43m(\u001b[49m\u001b[38;5;124;43m\"\u001b[39;49m\u001b[38;5;124;43mmemory_map\u001b[39;49m\u001b[38;5;124;43m\"\u001b[39;49m\u001b[43m,\u001b[49m\u001b[43m \u001b[49m\u001b[38;5;28;43;01mFalse\u001b[39;49;00m\u001b[43m)\u001b[49m\u001b[43m,\u001b[49m\n\u001b[1;32m   1741\u001b[0m \u001b[43m    \u001b[49m\u001b[43mis_text\u001b[49m\u001b[38;5;241;43m=\u001b[39;49m\u001b[43mis_text\u001b[49m\u001b[43m,\u001b[49m\n\u001b[1;32m   1742\u001b[0m \u001b[43m    \u001b[49m\u001b[43merrors\u001b[49m\u001b[38;5;241;43m=\u001b[39;49m\u001b[38;5;28;43mself\u001b[39;49m\u001b[38;5;241;43m.\u001b[39;49m\u001b[43moptions\u001b[49m\u001b[38;5;241;43m.\u001b[39;49m\u001b[43mget\u001b[49m\u001b[43m(\u001b[49m\u001b[38;5;124;43m\"\u001b[39;49m\u001b[38;5;124;43mencoding_errors\u001b[39;49m\u001b[38;5;124;43m\"\u001b[39;49m\u001b[43m,\u001b[49m\u001b[43m \u001b[49m\u001b[38;5;124;43m\"\u001b[39;49m\u001b[38;5;124;43mstrict\u001b[39;49m\u001b[38;5;124;43m\"\u001b[39;49m\u001b[43m)\u001b[49m\u001b[43m,\u001b[49m\n\u001b[1;32m   1743\u001b[0m \u001b[43m    \u001b[49m\u001b[43mstorage_options\u001b[49m\u001b[38;5;241;43m=\u001b[39;49m\u001b[38;5;28;43mself\u001b[39;49m\u001b[38;5;241;43m.\u001b[39;49m\u001b[43moptions\u001b[49m\u001b[38;5;241;43m.\u001b[39;49m\u001b[43mget\u001b[49m\u001b[43m(\u001b[49m\u001b[38;5;124;43m\"\u001b[39;49m\u001b[38;5;124;43mstorage_options\u001b[39;49m\u001b[38;5;124;43m\"\u001b[39;49m\u001b[43m,\u001b[49m\u001b[43m \u001b[49m\u001b[38;5;28;43;01mNone\u001b[39;49;00m\u001b[43m)\u001b[49m\u001b[43m,\u001b[49m\n\u001b[1;32m   1744\u001b[0m \u001b[43m\u001b[49m\u001b[43m)\u001b[49m\n\u001b[1;32m   1745\u001b[0m \u001b[38;5;28;01massert\u001b[39;00m \u001b[38;5;28mself\u001b[39m\u001b[38;5;241m.\u001b[39mhandles \u001b[38;5;129;01mis\u001b[39;00m \u001b[38;5;129;01mnot\u001b[39;00m \u001b[38;5;28;01mNone\u001b[39;00m\n\u001b[1;32m   1746\u001b[0m f \u001b[38;5;241m=\u001b[39m \u001b[38;5;28mself\u001b[39m\u001b[38;5;241m.\u001b[39mhandles\u001b[38;5;241m.\u001b[39mhandle\n",
      "File \u001b[0;32m~/opt/anaconda3/envs/py3.10/lib/python3.10/site-packages/pandas/io/common.py:856\u001b[0m, in \u001b[0;36mget_handle\u001b[0;34m(path_or_buf, mode, encoding, compression, memory_map, is_text, errors, storage_options)\u001b[0m\n\u001b[1;32m    851\u001b[0m \u001b[38;5;28;01melif\u001b[39;00m \u001b[38;5;28misinstance\u001b[39m(handle, \u001b[38;5;28mstr\u001b[39m):\n\u001b[1;32m    852\u001b[0m     \u001b[38;5;66;03m# Check whether the filename is to be opened in binary mode.\u001b[39;00m\n\u001b[1;32m    853\u001b[0m     \u001b[38;5;66;03m# Binary mode does not support 'encoding' and 'newline'.\u001b[39;00m\n\u001b[1;32m    854\u001b[0m     \u001b[38;5;28;01mif\u001b[39;00m ioargs\u001b[38;5;241m.\u001b[39mencoding \u001b[38;5;129;01mand\u001b[39;00m \u001b[38;5;124m\"\u001b[39m\u001b[38;5;124mb\u001b[39m\u001b[38;5;124m\"\u001b[39m \u001b[38;5;129;01mnot\u001b[39;00m \u001b[38;5;129;01min\u001b[39;00m ioargs\u001b[38;5;241m.\u001b[39mmode:\n\u001b[1;32m    855\u001b[0m         \u001b[38;5;66;03m# Encoding\u001b[39;00m\n\u001b[0;32m--> 856\u001b[0m         handle \u001b[38;5;241m=\u001b[39m \u001b[38;5;28;43mopen\u001b[39;49m\u001b[43m(\u001b[49m\n\u001b[1;32m    857\u001b[0m \u001b[43m            \u001b[49m\u001b[43mhandle\u001b[49m\u001b[43m,\u001b[49m\n\u001b[1;32m    858\u001b[0m \u001b[43m            \u001b[49m\u001b[43mioargs\u001b[49m\u001b[38;5;241;43m.\u001b[39;49m\u001b[43mmode\u001b[49m\u001b[43m,\u001b[49m\n\u001b[1;32m    859\u001b[0m \u001b[43m            \u001b[49m\u001b[43mencoding\u001b[49m\u001b[38;5;241;43m=\u001b[39;49m\u001b[43mioargs\u001b[49m\u001b[38;5;241;43m.\u001b[39;49m\u001b[43mencoding\u001b[49m\u001b[43m,\u001b[49m\n\u001b[1;32m    860\u001b[0m \u001b[43m            \u001b[49m\u001b[43merrors\u001b[49m\u001b[38;5;241;43m=\u001b[39;49m\u001b[43merrors\u001b[49m\u001b[43m,\u001b[49m\n\u001b[1;32m    861\u001b[0m \u001b[43m            \u001b[49m\u001b[43mnewline\u001b[49m\u001b[38;5;241;43m=\u001b[39;49m\u001b[38;5;124;43m\"\u001b[39;49m\u001b[38;5;124;43m\"\u001b[39;49m\u001b[43m,\u001b[49m\n\u001b[1;32m    862\u001b[0m \u001b[43m        \u001b[49m\u001b[43m)\u001b[49m\n\u001b[1;32m    863\u001b[0m     \u001b[38;5;28;01melse\u001b[39;00m:\n\u001b[1;32m    864\u001b[0m         \u001b[38;5;66;03m# Binary mode\u001b[39;00m\n\u001b[1;32m    865\u001b[0m         handle \u001b[38;5;241m=\u001b[39m \u001b[38;5;28mopen\u001b[39m(handle, ioargs\u001b[38;5;241m.\u001b[39mmode)\n",
      "\u001b[0;31mFileNotFoundError\u001b[0m: [Errno 2] No such file or directory: '../input/youtube-new/USvideos.csv'"
     ]
    }
   ],
   "source": [
    "df_yout = pd.read_csv(\"../input/youtube-new/USvideos.csv\")"
   ]
  },
  {
   "cell_type": "code",
   "execution_count": null,
   "metadata": {},
   "outputs": [],
   "source": [
    "df = df_yout\n",
    "intended_df_size_in_MB = 256\n",
    "factor = intended_df_size_in_MB*(2**20)//df.memory_usage(index=True).sum()\n",
    "if factor > 0:\n",
    "    df = pd.concat([df]*factor, ignore_index=True)\n",
    "df_yout = df"
   ]
  },
  {
   "cell_type": "code",
   "execution_count": null,
   "metadata": {
    "_cell_guid": "91027b81-bead-42b6-9944-8560899ba7d8",
    "_uuid": "33b732062bc8aad3025b9848eed819ee77d42e2f"
   },
   "outputs": [],
   "source": [
    "#Looking some information of the data\n",
    "print(df_yout.shape)\n",
    "print(df_yout.nunique())"
   ]
  },
  {
   "cell_type": "code",
   "execution_count": null,
   "metadata": {
    "_cell_guid": "eaf6757f-0315-4199-b44b-9850ff1750c9",
    "_uuid": "a0fdd30e11cd9a43db4c6c7b2e4cb2f4de395468"
   },
   "outputs": [],
   "source": [
    "#Looking for Nulls and type of our data\n",
    "df_yout.info()"
   ]
  },
  {
   "cell_type": "code",
   "execution_count": null,
   "metadata": {
    "_cell_guid": "da26ca13-554b-41fb-a832-4b4813650224",
    "_uuid": "7302a37fcfceeb8296b06096c6f28abe0d1107f4"
   },
   "outputs": [],
   "source": [
    "df_yout.head(n=2)"
   ]
  },
  {
   "cell_type": "markdown",
   "metadata": {
    "_cell_guid": "39346e35-b697-4d0c-a76e-b66f4a92a41e",
    "_uuid": "ecd2c542990e07e8921a96aaa236033448ba47f7"
   },
   "source": [
    "<h2>Let's start looking if Views, likes, dislikes and comment counts have a normal distribuition</h2>"
   ]
  },
  {
   "cell_type": "code",
   "execution_count": null,
   "metadata": {
    "_cell_guid": "e60aa373-b941-4a8d-bebd-984667331a9e",
    "_uuid": "1d3ab5314e4b9744644f21f4cffc2112340e6ac9"
   },
   "outputs": [],
   "source": [
    "df_yout['likes_log'] = np.log(df_yout['likes'] + 1)\n",
    "df_yout['views_log'] = np.log(df_yout['views'] + 1)\n",
    "df_yout['dislikes_log'] = np.log(df_yout['dislikes'] + 1)\n",
    "df_yout['comment_log'] = np.log(df_yout['comment_count'] + 1)\n",
    "\n",
    "# plt.figure(figsize = (12,6))\n",
    "\n",
    "# plt.subplot(221)\n",
    "# g1 = sns.distplot(df_yout['views_log'])\n",
    "# g1.set_title(\"VIEWS LOG DISTRIBUITION\", fontsize=16)\n",
    "\n",
    "# plt.subplot(224)\n",
    "# g2 = sns.distplot(df_yout['likes_log'],color='green')\n",
    "# g2.set_title('LIKES LOG DISTRIBUITION', fontsize=16)\n",
    "\n",
    "# plt.subplot(223)\n",
    "# g3 = sns.distplot(df_yout['dislikes_log'], color='r')\n",
    "# g3.set_title(\"DISLIKES LOG DISTRIBUITION\", fontsize=16)\n",
    "\n",
    "# plt.subplot(222)\n",
    "# g4 = sns.distplot(df_yout['comment_log'])\n",
    "# g4.set_title(\"COMMENTS LOG DISTRIBUITION\", fontsize=16)\n",
    "\n",
    "# plt.subplots_adjust(wspace = 0.2, hspace = 0.4,top = 0.9)\n",
    "\n",
    "# plt.show()"
   ]
  },
  {
   "cell_type": "code",
   "execution_count": null,
   "metadata": {
    "_cell_guid": "a440907a-155d-4d29-a68c-0f9a90cdeb96",
    "_kg_hide-input": true,
    "_uuid": "f9d6c4151301dff9bbb0618b28f012e285fa7ea0"
   },
   "outputs": [],
   "source": [
    "print(\"Views quantiles\")\n",
    "print(df_yout['views'].quantile([.01,.25,.5,.75,.99]))\n",
    "print(\"\")\n",
    "print(\"Likes quantiles\")\n",
    "print(df_yout['likes'].quantile([.01,.25,.5,.75,.99]))\n",
    "print(\"\")\n",
    "print(\"Dislikes quantiles\")\n",
    "print(df_yout['dislikes'].quantile([.01,.25,.5,.75,.99]))\n",
    "print(\"\")\n",
    "print(\"Comment quantiles\")\n",
    "print(df_yout['comment_count'].quantile([.01,.25,.5,.75,.99]))"
   ]
  },
  {
   "cell_type": "code",
   "execution_count": null,
   "metadata": {
    "_cell_guid": "c2d20c5c-a239-413b-9880-744fd8da2d64",
    "_kg_hide-input": false,
    "_uuid": "57b70543d2b3e486a62deab1d3e9c88edb13f459"
   },
   "outputs": [],
   "source": [
    "df_yout['category_name'] = np.nan\n",
    "\n",
    "df_yout.loc[(df_yout[\"category_id\"] == 1),\"category_name\"] = 'Film and Animation'\n",
    "df_yout.loc[(df_yout[\"category_id\"] == 2),\"category_name\"] = 'Cars and Vehicles'\n",
    "df_yout.loc[(df_yout[\"category_id\"] == 10),\"category_name\"] = 'Music'\n",
    "df_yout.loc[(df_yout[\"category_id\"] == 15),\"category_name\"] = 'Pets and Animals'\n",
    "df_yout.loc[(df_yout[\"category_id\"] == 17),\"category_name\"] = 'Sport'\n",
    "df_yout.loc[(df_yout[\"category_id\"] == 19),\"category_name\"] = 'Travel and Events'\n",
    "df_yout.loc[(df_yout[\"category_id\"] == 20),\"category_name\"] = 'Gaming'\n",
    "df_yout.loc[(df_yout[\"category_id\"] == 22),\"category_name\"] = 'People and Blogs'\n",
    "df_yout.loc[(df_yout[\"category_id\"] == 23),\"category_name\"] = 'Comedy'\n",
    "df_yout.loc[(df_yout[\"category_id\"] == 24),\"category_name\"] = 'Entertainment'\n",
    "df_yout.loc[(df_yout[\"category_id\"] == 25),\"category_name\"] = 'News and Politics'\n",
    "df_yout.loc[(df_yout[\"category_id\"] == 26),\"category_name\"] = 'How to and Style'\n",
    "df_yout.loc[(df_yout[\"category_id\"] == 27),\"category_name\"] = 'Education'\n",
    "df_yout.loc[(df_yout[\"category_id\"] == 28),\"category_name\"] = 'Science and Technology'\n",
    "df_yout.loc[(df_yout[\"category_id\"] == 29),\"category_name\"] = 'Non Profits and Activism'\n",
    "df_yout.loc[(df_yout[\"category_id\"] == 25),\"category_name\"] = 'News & Politics'"
   ]
  },
  {
   "cell_type": "markdown",
   "metadata": {
    "_cell_guid": "e2a3c5a8-bcad-44ce-b2c8-c71b2d7f766e",
    "_uuid": "218561bfdbe1ed4ff568baeb9e168f29ca735d4a",
    "collapsed": true
   },
   "source": [
    "<h2>Looking the Views, likes, dislikes distribuition by category_name's</h2>"
   ]
  },
  {
   "cell_type": "code",
   "execution_count": null,
   "metadata": {
    "_cell_guid": "ea229c14-b2f6-4653-aedd-3d47c756ef30",
    "_kg_hide-input": true,
    "_uuid": "d05809a5f781e8c328085cf27f2aef7a43972eff"
   },
   "outputs": [],
   "source": [
    "print(\"Category Name count\")\n",
    "print(df_yout.category_name.value_counts()[:5])\n",
    "\n",
    "# plt.figure(figsize = (14,9))\n",
    "\n",
    "# plt.subplot(211)\n",
    "# g = sns.countplot('category_name', data=df_yout, palette=\"Set1\")\n",
    "# g.set_xticklabels(g.get_xticklabels(),rotation=45)\n",
    "# g.set_title(\"Counting the Video Category's \", fontsize=15)\n",
    "# g.set_xlabel(\"\", fontsize=12)\n",
    "# g.set_ylabel(\"Count\", fontsize=12)\n",
    "\n",
    "# plt.subplot(212)\n",
    "# g1 = sns.boxplot(x='category_name', y='views_log', data=df_yout, palette=\"Set1\")\n",
    "# g1.set_xticklabels(g.get_xticklabels(),rotation=45)\n",
    "# g1.set_title(\"Views Distribuition by Category Names\", fontsize=20)\n",
    "# g1.set_xlabel(\"\", fontsize=15)\n",
    "# g1.set_ylabel(\"Views(log)\", fontsize=15)\n",
    "\n",
    "# plt.subplots_adjust(hspace = 0.9, top = 0.9)\n",
    "\n",
    "# plt.show()"
   ]
  },
  {
   "cell_type": "markdown",
   "metadata": {
    "_cell_guid": "bc2cafbb-117d-4888-91d1-728c49779c4b",
    "_uuid": "3d8566c4903027df72d335f0e1753877762dd15f"
   },
   "source": [
    "Significant number of politics and news videos.\n",
    "\n",
    "The unique difference is in Non Profits and Activism videos that have less views than the \"normal\" videos\n"
   ]
  },
  {
   "cell_type": "markdown",
   "metadata": {
    "_cell_guid": "2939e0d5-8ba9-4f59-94c2-37834b4ce220",
    "_uuid": "7643e5511617fe8a280305dfdb8c5daf1aa047df"
   },
   "source": [
    "<h2>Looking the Views, likes, dislikes distribuition by category_name's</h2>"
   ]
  },
  {
   "cell_type": "code",
   "execution_count": null,
   "metadata": {
    "_cell_guid": "8d5d11bb-eeba-4615-9787-9163f090d5d0",
    "_uuid": "bfcb33bd057c3749b85d92baaf68b436714db798"
   },
   "outputs": [],
   "source": [
    "# plt.figure(figsize = (14,6))\n",
    "\n",
    "# g = sns.boxplot(x='category_name', y='likes_log', data=df_yout, palette=\"Set1\")\n",
    "# g.set_xticklabels(g.get_xticklabels(),rotation=45)\n",
    "# g.set_title(\"Likes Distribuition by Category Names \", fontsize=15)\n",
    "# g.set_xlabel(\"\", fontsize=12)\n",
    "# g.set_ylabel(\"Likes(log)\", fontsize=12)\n",
    "# plt.show()"
   ]
  },
  {
   "cell_type": "markdown",
   "metadata": {
    "_cell_guid": "8247a0ac-bca3-4b0c-a7b2-5a97e267b1ac",
    "_uuid": "8f20e18329f19af50f1933196d89a1bac325d99a"
   },
   "source": [
    "News and Politics have a the same of Non Profits of engagement likes"
   ]
  },
  {
   "cell_type": "code",
   "execution_count": null,
   "metadata": {
    "_cell_guid": "31eb1ce1-73df-4ecf-a83f-703d8c05c668",
    "_uuid": "513708f3e3e9e0b50325d2987c89dbeba29001c9"
   },
   "outputs": [],
   "source": [
    "# plt.figure(figsize = (14,6))\n",
    "\n",
    "# g = sns.boxplot(x='category_name', y='dislikes_log', data=df_yout, palette=\"Set1\")\n",
    "# g.set_xticklabels(g.get_xticklabels(),rotation=45)\n",
    "# g.set_title(\"Dislikes distribuition by Category's\", fontsize=15)\n",
    "# g.set_xlabel(\"\", fontsize=12)\n",
    "# g.set_ylabel(\"Dislikes(log)\", fontsize=12)\n",
    "# plt.show()"
   ]
  },
  {
   "cell_type": "code",
   "execution_count": null,
   "metadata": {
    "_cell_guid": "2444a85f-100e-4fa6-b5c1-f34c3b7a599e",
    "_uuid": "53c63dcb29f5806de29cc6b79e7ec0ef34ac2084"
   },
   "outputs": [],
   "source": [
    "# plt.figure(figsize = (14,6))\n",
    "\n",
    "# g = sns.boxplot(x='category_name', y='comment_log', data=df_yout, palette=\"Set1\")\n",
    "# g.set_xticklabels(g.get_xticklabels(),rotation=45)\n",
    "# g.set_title(\"Comments Distribuition by Category Names\", fontsize=15)\n",
    "# g.set_xlabel(\"\", fontsize=12)\n",
    "# g.set_ylabel(\"Comments Count(log)\", fontsize=12)\n",
    "\n",
    "# plt.show()"
   ]
  },
  {
   "cell_type": "markdown",
   "metadata": {
    "_cell_guid": "b7d9bd87-8815-4f3a-85e5-9b24b6484a2d",
    "_uuid": "c77cb307d932cb21178791f1f72e139e1412c260"
   },
   "source": [
    "<h1>Engagement Features </h1>"
   ]
  },
  {
   "cell_type": "markdown",
   "metadata": {
    "_cell_guid": "9602fae1-6b53-44ca-b8be-6f56f71f4e52",
    "_uuid": "ab5c408404400b85f7639cf8444a8485727faefb"
   },
   "source": [
    "I will create some new variables to us analyse the percent of likes, dislikes, comment by each category to discover what category have the highest engagement"
   ]
  },
  {
   "cell_type": "code",
   "execution_count": null,
   "metadata": {
    "_cell_guid": "7ab7c299-9387-4ea5-8e45-1abc0f9e2e33",
    "_kg_hide-input": false,
    "_uuid": "41f39afce518660506b5b4833774dcc2510e78ef"
   },
   "outputs": [],
   "source": [
    "df_yout['like_rate'] =  df_yout ['likes'] / df_yout['views'] * 100\n",
    "df_yout['dislike_rate'] =  df_yout ['dislikes'] / df_yout['views'] * 100\n",
    "df_yout['comment_rate'] =  df_yout ['comment_count'] / df_yout['views'] * 100"
   ]
  },
  {
   "cell_type": "code",
   "execution_count": null,
   "metadata": {
    "_cell_guid": "2ef33e3b-3f08-4a62-b29d-59abea37b8b1",
    "_uuid": "604268dcd90773f386e1dbbcac18c0cdd8be8800"
   },
   "outputs": [],
   "source": [
    "# plt.figure(figsize = (9,6))\n",
    "\n",
    "# g1 = sns.distplot(df_yout['dislike_rate'], color='red',hist=False, label=\"Dislike\")\n",
    "# g1 = sns.distplot(df_yout['like_rate'], color='green',hist=False, label=\"Like\")\n",
    "# g1 = sns.distplot(df_yout['comment_rate'],hist=False,label=\"Comment\")\n",
    "# g1.set_title('CONVERT RATE DISTRIBUITION', fontsize=16)\n",
    "# plt.legend()\n",
    "# plt.show()"
   ]
  },
  {
   "cell_type": "markdown",
   "metadata": {
    "_cell_guid": "ca9c3d1e-a2ea-4579-aece-36bb08270996",
    "_uuid": "c0877e4f59ae2674f68ec54e13c9b4ea275cdf49"
   },
   "source": [
    "Very meaningful distribuition! Like x Dislikes rate have interesting differences"
   ]
  },
  {
   "cell_type": "code",
   "execution_count": null,
   "metadata": {
    "_cell_guid": "2107722d-0a4d-4fd3-b151-2ee780f01116",
    "_kg_hide-input": true,
    "_uuid": "5d01243e60c55d4b5f2b8919b545a84cbd73ae68"
   },
   "outputs": [],
   "source": [
    "# plt.figure(figsize = (12,18))\n",
    "\n",
    "# plt.subplot(311)\n",
    "# g= sns.boxplot(x='category_name',y='like_rate',  data=df_yout)\n",
    "# g.set_xticklabels(g.get_xticklabels(),rotation=45)\n",
    "# g.set_title(\"LIKE RATE DISTRIBUITIONS\", fontsize=15)\n",
    "# g.set_xlabel(\"\", fontsize=12)\n",
    "# g.set_ylabel(\"Like rate\", fontsize=12)\n",
    "\n",
    "# plt.subplot(312)\n",
    "# g1= sns.boxplot(y='dislike_rate', x='category_name', data=df_yout)\n",
    "# g1.set_xticklabels(g.get_xticklabels(),rotation=45)\n",
    "# g1.set_title(\"DISLIKE RATE DISTRIBUITIONS\", fontsize=15)\n",
    "# g1.set_xlabel(\"\", fontsize=12)\n",
    "# g1.set_ylabel(\"Dislike rate\", fontsize=12)\n",
    "\n",
    "# plt.subplot(313)\n",
    "# g2= sns.boxplot(y='comment_rate', x='category_name', data=df_yout)\n",
    "# g2.set_xticklabels(g.get_xticklabels(),rotation=45)\n",
    "# g2.set_title(\"COMMENT RATE BY CATEGORY NAME\", fontsize=15)\n",
    "# g2.set_xlabel(\"Category Names\", fontsize=12)\n",
    "# g2.set_ylabel(\"Comment Rate\", fontsize=12)\n",
    "\n",
    "# plt.subplots_adjust(wspace = 0.2, hspace = 0.5,top = 0.9)\n",
    "\n",
    "# plt.show()"
   ]
  },
  {
   "cell_type": "markdown",
   "metadata": {
    "_cell_guid": "d43374d2-5065-40b2-9d8e-8eed8bb63b88",
    "_uuid": "967285ed197b8dbd6fa47c89f3ff8b4d07a7f24b"
   },
   "source": [
    "We can see that the Dislike rate is very low in almost all categories but some outliers in 'People and Blogs' and News & Politics that we can might can consider \"Normal\"\n",
    "\n",
    "The mean of ike distribuition is less than 5% but in music we have a very interesting pattern of like rate... The music category have the highest engagement rate.\n",
    "\n",
    "And at the Comment rate we can see the how-to category with the highest rates of commments. Interesting because isn't politics LOL"
   ]
  },
  {
   "cell_type": "markdown",
   "metadata": {
    "_cell_guid": "2a785a06-c234-4ff5-b32a-b300ff0b2534",
    "_uuid": "caf1da8999a2cb22cad16ddc46594cd46f3d69a7"
   },
   "source": [
    "<h2>Looking through the anothers categoricals variables </h2>\n",
    "We have the variables:\n",
    "- Comments Disable\n",
    "- Rating disable\n",
    "- Video error\n"
   ]
  },
  {
   "cell_type": "code",
   "execution_count": null,
   "metadata": {
    "_cell_guid": "a7830d1a-dca9-420c-bd94-cc3cada00db9",
    "_kg_hide-input": true,
    "_uuid": "599d1f9ad12421a6b4787e2b2d2e9f998e5de437"
   },
   "outputs": [],
   "source": [
    "# plt.figure(figsize = (14,8))\n",
    "# plt.subplots_adjust(wspace = 0.2, hspace = 0.4,top = 0.9)\n",
    "\n",
    "# plt.subplot(2,2,1)\n",
    "# g = sns.countplot(x='comments_disabled', data=df_yout)\n",
    "# g.set_title(\"Comments Disabled\", fontsize=16)\n",
    "\n",
    "# plt.subplot(2,2,2)\n",
    "# g1 = sns.countplot(x='ratings_disabled', data=df_yout)\n",
    "# g1.set_title(\"Rating Disabled\", fontsize=16)\n",
    "\n",
    "# plt.subplot(2,2,3)\n",
    "# g2 = sns.countplot(x='video_error_or_removed', data=df_yout)\n",
    "# g2.set_title(\"Video Error or Removed\", fontsize=16)\n",
    "# plt.show()"
   ]
  },
  {
   "cell_type": "markdown",
   "metadata": {
    "_cell_guid": "c7cc28c5-08a9-48ed-8c18-4f3be5d50b52",
    "_uuid": "4a230b1ff7194e2878b2bbe5248f4c375b98ada8"
   },
   "source": [
    "<h2>Let's look the kde of this variables separated to deep understand them</h2>"
   ]
  },
  {
   "cell_type": "code",
   "execution_count": null,
   "metadata": {
    "_cell_guid": "834a9981-bf7d-4156-9942-4fd4d3291874",
    "_kg_hide-input": true,
    "_uuid": "0f7c4f798d68b228c7004c19f87f361d943b40be"
   },
   "outputs": [],
   "source": [
    "# plt.figure(figsize = (12,10))\n",
    "\n",
    "# plt.subplot(221)\n",
    "_ = df_yout[df_yout['comments_disabled'] == True]['views_log']\n",
    "_ = df_yout[df_yout['ratings_disabled'] == True]['views_log']\n",
    "_ = df_yout[df_yout['video_error_or_removed'] == True]['views_log']\n",
    "\n",
    "# plt.subplot(222)\n",
    "_ = df_yout[df_yout['comments_disabled'] == True]['comment_log']\n",
    "_ = df_yout[df_yout['ratings_disabled'] == True]['comment_log']\n",
    "_ = df_yout[df_yout['video_error_or_removed'] == True]['comment_log']\n",
    "\n",
    "_ = df_yout[df_yout['comments_disabled'] == True]['dislikes_log']\n",
    "_ = df_yout[df_yout['ratings_disabled'] == True]['dislikes_log']\n",
    "_ = df_yout[df_yout['video_error_or_removed'] == True]['dislikes_log']\n",
    "\n",
    "_ = df_yout[df_yout['comments_disabled'] == True]['likes_log']\n",
    "_ = df_yout[df_yout['ratings_disabled'] == True]['likes_log']\n",
    "_ = df_yout[df_yout['video_error_or_removed'] == True]['likes_log']"
   ]
  },
  {
   "cell_type": "markdown",
   "metadata": {
    "_cell_guid": "0611e2a1-4ca4-4a95-9ed8-d37060726b2a",
    "_uuid": "9185d48fa97005d0f4805859ac02e5ed2bd2c1c5"
   },
   "source": [
    "Removed videos no have some views until be moreved... <br>Rating disable and Comments disable have the same distribuition "
   ]
  },
  {
   "cell_type": "markdown",
   "metadata": {
    "_cell_guid": "b6900e85-d3c2-4f87-a3e8-f9c2a965fa97",
    "_uuid": "aa6140ddbf8751a7920519e31f83779a5f1f4831"
   },
   "source": [
    "<h2>Analysing the Correlation Matrix of the numerical variables</h2>"
   ]
  },
  {
   "cell_type": "code",
   "execution_count": null,
   "metadata": {
    "_cell_guid": "708c42ff-d6a6-4ee3-8f82-40fe3c479cb8",
    "_uuid": "7a867e8a907c406ad9d173919b8a47306a320df9"
   },
   "outputs": [],
   "source": [
    "# plt.figure(figsize = (10,8))\n",
    "\n",
    "#Let's verify the correlation of each value\n",
    "_ = df_yout[['like_rate', 'dislike_rate', 'comment_rate', 'comment_log',\n",
    "         'views_log','likes_log','dislikes_log', \"category_name\"]].corr()"
   ]
  },
  {
   "cell_type": "markdown",
   "metadata": {
    "_cell_guid": "2676285e-643c-4f02-b12f-e7c9e40d203b",
    "_uuid": "da5207bcd2bb4666229b230ebbbbb3f9c31dcbd7"
   },
   "source": [
    "<h2>I will start creating some features from texts using Title and Tags columns</h2>"
   ]
  },
  {
   "cell_type": "code",
   "execution_count": null,
   "metadata": {
    "_cell_guid": "0f5184c7-1dc8-4c99-981b-9d9429815597",
    "_uuid": "98c3f13584e00021de2dfe852f977b53f654397d"
   },
   "outputs": [],
   "source": [
    "#nlp\n",
    "import string\n",
    "import re    #for regex\n",
    "import nltk\n",
    "from nltk.corpus import stopwords\n",
    "import spacy\n",
    "from nltk import pos_tag\n",
    "from nltk.stem.wordnet import WordNetLemmatizer \n",
    "from nltk.tokenize import word_tokenize\n",
    "# Tweet tokenizer does not split at apostophes which is what we want\n",
    "from nltk.tokenize import TweetTokenizer   "
   ]
  },
  {
   "cell_type": "code",
   "execution_count": null,
   "metadata": {
    "_cell_guid": "2533937b-f7ce-447b-a73e-bd929938e8b1",
    "_uuid": "ac29aadfc98768305ef36fd95651191dab167d40"
   },
   "outputs": [],
   "source": [
    "#Setting the stopwords\n",
    "eng_stopwords = set(stopwords.words(\"english\"))\n"
   ]
  },
  {
   "cell_type": "code",
   "execution_count": null,
   "metadata": {
    "_cell_guid": "01c8a679-07cb-40a3-ac6f-087b5e216761",
    "_kg_hide-input": false,
    "_kg_hide-output": false,
    "_uuid": "8f3103349df22b1c8f758a12a128b524f0bdc153"
   },
   "outputs": [],
   "source": [
    "#Word count in each comment:\n",
    "df_yout['count_word']=df_yout[\"title\"].apply(lambda x: len(str(x).split()))\n",
    "df_yout['count_word_tags']=df_yout[\"tags\"].apply(lambda x: len(str(x).split()))\n",
    "\n",
    "#Unique word count\n",
    "df_yout['count_unique_word']=df_yout[\"title\"].apply(lambda x: len(set(str(x).split())))\n",
    "df_yout['count_unique_word_tags']=df_yout[\"tags\"].apply(lambda x: len(set(str(x).split())))\n",
    "\n",
    "#Letter count\n",
    "df_yout['count_letters']=df_yout[\"title\"].apply(lambda x: len(str(x)))\n",
    "df_yout['count_letters_tags']=df_yout[\"tags\"].apply(lambda x: len(str(x)))\n",
    "\n",
    "#punctuation count\n",
    "df_yout[\"count_punctuations\"] =df_yout[\"title\"].apply(lambda x: len([c for c in str(x) if c in string.punctuation]))\n",
    "df_yout[\"count_punctuations_tags\"] =df_yout[\"tags\"].apply(lambda x: len([c for c in str(x) if c in string.punctuation]))\n",
    "\n",
    "#upper case words count\n",
    "df_yout[\"count_words_upper\"] = df_yout[\"title\"].apply(lambda x: len([w for w in str(x).split() if w.isupper()]))\n",
    "df_yout[\"count_words_upper_tags\"] = df_yout[\"tags\"].apply(lambda x: len([w for w in str(x).split() if w.isupper()]))\n",
    "\n",
    "#title case words count\n",
    "df_yout[\"count_words_title\"] = df_yout[\"title\"].apply(lambda x: len([w for w in str(x).split() if w.istitle()]))\n",
    "df_yout[\"count_words_title_tags\"] = df_yout[\"tags\"].apply(lambda x: len([w for w in str(x).split() if w.istitle()]))\n",
    "\n",
    "#Number of stopwords\n",
    "df_yout[\"count_stopwords\"] = df_yout[\"title\"].apply(lambda x: len([w for w in str(x).lower().split() if w in eng_stopwords]))\n",
    "df_yout[\"count_stopwords_tags\"] = df_yout[\"tags\"].apply(lambda x: len([w for w in str(x).lower().split() if w in eng_stopwords]))\n",
    "\n",
    "#Average length of the words\n",
    "df_yout[\"mean_word_len\"] = df_yout[\"title\"].apply(lambda x: np.mean([len(w) for w in str(x).split()]))\n",
    "df_yout[\"mean_word_len_tags\"] = df_yout[\"tags\"].apply(lambda x: np.mean([len(w) for w in str(x).split()]))"
   ]
  },
  {
   "cell_type": "code",
   "execution_count": null,
   "metadata": {
    "_cell_guid": "d341e916-22d8-486c-8b04-79a0950e2c09",
    "_uuid": "0ce28ced2d40f1f14f33227080753cb545a9952a"
   },
   "outputs": [],
   "source": [
    "#derived features\n",
    "#Word count percent in each comment:\n",
    "df_yout['word_unique_percent']=df_yout['count_unique_word']*100/df_yout['count_word']\n",
    "df_yout['word_unique_percent_tags']=df_yout['count_unique_word_tags']*100/df_yout['count_word_tags']\n",
    "\n",
    "#Punct percent in each comment:\n",
    "df_yout['punct_percent']=df_yout['count_punctuations']*100/df_yout['count_word']\n",
    "df_yout['punct_percent_tags']=df_yout['count_punctuations_tags']*100/df_yout['count_word_tags']"
   ]
  },
  {
   "cell_type": "code",
   "execution_count": null,
   "metadata": {
    "_cell_guid": "be1498bd-11ce-4ed9-ba7f-9499b44743d1",
    "_kg_hide-input": true,
    "_kg_hide-output": false,
    "_uuid": "4c8175093c263625b5104c89f77cb976dcdf0631"
   },
   "outputs": [],
   "source": [
    "# plt.figure(figsize = (12,18))\n",
    "\n",
    "# plt.subplot(421)\n",
    "# g1 = sns.distplot(df_yout['count_word'], \n",
    "#                   hist=False, label='Text')\n",
    "# g1 = sns.distplot(df_yout['count_word_tags'], \n",
    "#                   hist=False, label='Tags')\n",
    "# g1.set_title(\"COUNT WORDS DISTRIBUITION\", fontsize=16)\n",
    "\n",
    "# plt.subplot(422)\n",
    "# g2 = sns.distplot(df_yout['count_unique_word'],\n",
    "#                   hist=False, label='Text')\n",
    "# g2 = sns.distplot(df_yout['count_unique_word_tags'], \n",
    "#                   hist=False, label='Tags')\n",
    "# g2.set_title(\"COUNT UNIQUE DISTRIBUITION\", fontsize=16)\n",
    "\n",
    "# plt.subplot(423)\n",
    "# g3 = sns.distplot(df_yout['count_letters'], \n",
    "#                   hist=False, label='Text')\n",
    "# g3 = sns.distplot(df_yout['count_letters_tags'], \n",
    "#                   hist=False, label='Tags')\n",
    "# g3.set_title(\"COUNT LETTERS DISTRIBUITION\", fontsize=16)\n",
    "\n",
    "# plt.subplot(424)\n",
    "# g4 = sns.distplot(df_yout[\"count_punctuations\"], \n",
    "#                   hist=False, label='Text')\n",
    "# g4 = sns.distplot(df_yout[\"count_punctuations_tags\"], \n",
    "#                   hist=False, label='Tags')\n",
    "# g4.set_xlim([-2,50])\n",
    "# g4.set_title('COUNT PONCTUATIONS DISTRIBUITION', fontsize=16)\n",
    "\n",
    "# plt.subplot(425)\n",
    "# g5 = sns.distplot(df_yout[\"count_words_upper\"] , \n",
    "#                   hist=False, label='Text')\n",
    "# g5 = sns.distplot(df_yout[\"count_words_upper_tags\"] , \n",
    "#                   hist=False, label='Tags')\n",
    "# g5.set_title('COUNT WORDS UPPER DISTRIBUITION', fontsize=16)\n",
    "\n",
    "# plt.subplot(426)\n",
    "# g6 = sns.distplot(df_yout[\"count_words_title\"], \n",
    "#                   hist=False, label='Text')\n",
    "# g6 = sns.distplot(df_yout[\"count_words_title_tags\"], \n",
    "#                   hist=False, label='Tags')\n",
    "# g6.set_title('WORDS DISTRIBUITION', fontsize=16)\n",
    "\n",
    "# plt.subplot(427)\n",
    "# g7 = sns.distplot(df_yout[\"count_stopwords\"], \n",
    "#                   hist=False, label='Title')\n",
    "# g7 = sns.distplot(df_yout[\"count_stopwords_tags\"], \n",
    "#                   hist=False, label='Tags')\n",
    "# g7.set_title('STOPWORDS DISTRIBUITION', fontsize=16)\n",
    "\n",
    "# plt.subplot(428)\n",
    "# g8 = sns.distplot(df_yout[\"mean_word_len\"], \n",
    "#                   hist=False, label='Text')\n",
    "# g8 = sns.distplot(df_yout[\"mean_word_len_tags\"], \n",
    "#                   hist=False, label='Tags')\n",
    "# g8.set_xlim([-2,100])\n",
    "# g8.set_title('MEAN WORD LEN DISTRIBUITION', fontsize=16)\n",
    "\n",
    "# plt.subplots_adjust(wspace = 0.2, hspace = 0.4,top = 0.9)\n",
    "# plt.legend()\n",
    "# plt.show()"
   ]
  },
  {
   "cell_type": "markdown",
   "metadata": {
    "_cell_guid": "da1a3215-ab44-4f71-9d53-1005861633eb",
    "_uuid": "66f579a75511c1047d93dc75928293dd71db6c3f"
   },
   "source": [
    "<h2>Have the Punctuations title and tags any relation with views, likes, dislikes comments? </h2>"
   ]
  },
  {
   "cell_type": "code",
   "execution_count": null,
   "metadata": {
    "_cell_guid": "13ea937b-7a57-4731-82fb-a989af68385a",
    "_kg_hide-input": true,
    "_kg_hide-output": false,
    "_uuid": "6a0b5db23e1e0f950c01cf68701004a2b9194bca",
    "scrolled": false
   },
   "outputs": [],
   "source": [
    "# plt.figure(figsize = (12,8))\n",
    "\n",
    "# plt.subplot(221)\n",
    "# g=sns.boxplot(x='count_punctuations', y='views_log',data=df_yout)\n",
    "# g.set_title(\"Vews by Ponctuations\")\n",
    "# g.set_xlabel(\"Numer of Punctuations\")\n",
    "# g.set_ylabel(\"Vews log\")\n",
    "\n",
    "# plt.subplot(222)\n",
    "# g1 = sns.boxplot(x='count_punctuations', y='likes_log',data=df_yout)\n",
    "# g1.set_title(\"Likes by Ponctuations\")\n",
    "# g1.set_xlabel(\"Numer of Punctuations\")\n",
    "# g1.set_ylabel(\"Likes log\")\n",
    "\n",
    "# plt.subplot(223)\n",
    "# g2 = sns.boxplot(x='count_punctuations', y='dislikes_log',data=df_yout)\n",
    "# g2.set_title(\"Dislikes by Ponctuations\")\n",
    "# g2.set_xlabel(\"Numer of Punctuations\")\n",
    "# g2.set_ylabel(\"Dislikes log\")\n",
    "\n",
    "# plt.subplot(224)\n",
    "# g3 = sns.boxplot(x='count_punctuations', y='comment_log',data=df_yout)\n",
    "# g3.set_title(\"Comments by Ponctuations\")\n",
    "# g3.set_xlabel(\"Numer of Punctuations\")\n",
    "# g3.set_ylabel(\"Comments log\")\n",
    "\n",
    "# plt.subplots_adjust(wspace = 0.2, hspace = 0.4,top = 0.9)\n",
    "\n",
    "# plt.show()"
   ]
  },
  {
   "cell_type": "markdown",
   "metadata": {
    "_cell_guid": "b8716287-a6a9-4da8-ae66-e18c60e50acc",
    "_uuid": "4084861fc7a9182905f03d3552305fc099d75d2c"
   },
   "source": [
    "<h2>The same view using Tags punctuations values</h2>"
   ]
  },
  {
   "cell_type": "code",
   "execution_count": null,
   "metadata": {
    "_cell_guid": "846adeac-0c4b-4df1-9f13-0a650ac1b50e",
    "_kg_hide-input": true,
    "_kg_hide-output": false,
    "_uuid": "5f8915d09894b3bdb295e449b4a3c6d21af9c72b"
   },
   "outputs": [],
   "source": [
    "_=df_yout[df_yout['count_punctuations_tags'] < 20]\n",
    "\n",
    "_=df_yout[df_yout['count_punctuations_tags'] < 20]\n",
    "\n",
    "_ =df_yout[df_yout['count_punctuations_tags'] < 20]\n",
    "_ =df_yout[df_yout['count_punctuations_tags'] < 20]"
   ]
  },
  {
   "cell_type": "markdown",
   "metadata": {
    "_cell_guid": "9fd5e548-7a43-4a02-8b5d-463bffd710d0",
    "_uuid": "a2d11d085d0339202efa120d07a524fc53c9a65b"
   },
   "source": [
    "<h2>Let's verify the correlation of title and tags values with views</h2>\n",
    "- exploring the Correlation matrix to see if have any interesting relation"
   ]
  },
  {
   "cell_type": "code",
   "execution_count": null,
   "metadata": {
    "_cell_guid": "b8632e9d-9e1f-43ef-b404-58e890d1c2c6",
    "_kg_hide-input": true,
    "_uuid": "53f89730c1216f8e91c236fe7aaabf4bc51421e0"
   },
   "outputs": [],
   "source": [
    "_ = df_yout[['count_word', 'count_unique_word','count_letters',\n",
    "                     \"count_punctuations\",\"count_words_upper\", \"count_words_title\", \n",
    "                     \"count_stopwords\",\"mean_word_len\", \n",
    "                     'views_log', 'likes_log','dislikes_log','comment_log',\n",
    "                     'ratings_disabled', 'comments_disabled', 'video_error_or_removed']].corr()"
   ]
  },
  {
   "cell_type": "markdown",
   "metadata": {
    "_cell_guid": "205ce1fe-39fe-4f6e-9e15-4441b4d21c53",
    "_uuid": "a703558363d43bfbb8e927f7d2fa640c2aae47e7"
   },
   "source": [
    "<h1>Visualizing  the Word Cloud of Tagged videos </h1>\n",
    "- Ratings Disable \n",
    "- Comments Disable\n",
    "- Video Error or Removed"
   ]
  },
  {
   "cell_type": "code",
   "execution_count": null,
   "metadata": {
    "_cell_guid": "2ac83877-49d2-4409-a9fb-dee0c415f574",
    "_uuid": "7b7d65bd6ebff1df1a2f7a87587ead863f4ce9ad"
   },
   "outputs": [],
   "source": [
    "# mpl.rcParams['font.size']= 15              \n",
    "# mpl.rcParams['savefig.dpi']= 100         \n",
    "# mpl.rcParams['figure.subplot.bottom']= .1 "
   ]
  },
  {
   "cell_type": "markdown",
   "metadata": {
    "_cell_guid": "2b814991-bbb1-4c9d-af0c-03c6505784d6",
    "_uuid": "bdf494408c137b5d20dfa34cbd0fd2fb8828b003",
    "collapsed": true
   },
   "source": [
    "<h3>Rating Disabled</h3>"
   ]
  },
  {
   "cell_type": "code",
   "execution_count": null,
   "metadata": {
    "_cell_guid": "b23fabcb-0034-475d-b0c3-a3ee8bbda327",
    "_kg_hide-input": true,
    "_uuid": "edef6bfe244c46826fac05b1bef6c5505c6665af"
   },
   "outputs": [],
   "source": [
    "# plt.figure(figsize = (15,15))\n",
    "\n",
    "stopwords = set(STOPWORDS)\n",
    "\n",
    "# wordcloud = WordCloud(\n",
    "#                           background_color='black',\n",
    "#                           stopwords=stopwords,\n",
    "#                           max_words=1000,\n",
    "#                           max_font_size=120, \n",
    "#                           random_state=42\n",
    "#                          ).generate(str(df_yout['title']))\n",
    "\n",
    "# print(wordcloud)\n",
    "# fig = plt.figure(1)\n",
    "# plt.imshow(wordcloud)\n",
    "# plt.title(\"WORD CLOUD - TITLES\")\n",
    "# plt.axis('off')\n",
    "# plt.show()"
   ]
  },
  {
   "cell_type": "markdown",
   "metadata": {
    "_cell_guid": "8a2f8588-246e-455c-8050-76586e3a77eb",
    "_uuid": "f43e1d70fe17700674ef0319001b84dc73519504"
   },
   "source": [
    "<h3>Comments Disabled</h3>"
   ]
  },
  {
   "cell_type": "markdown",
   "metadata": {
    "_cell_guid": "2563ed70-ef5a-42d9-bd56-d9b03e1c88fc",
    "_uuid": "5a9f19a773d2def7c9a16a8a3047c332fc084f6e"
   },
   "source": [
    "<h2>General Title Word Cloud</h2>"
   ]
  },
  {
   "cell_type": "code",
   "execution_count": null,
   "metadata": {
    "_cell_guid": "77d39f61-e179-4036-81fc-b8443f25ab26",
    "_kg_hide-input": true,
    "_uuid": "ba4fe3108b4479d5f22f6135217947aefb39e9be"
   },
   "outputs": [],
   "source": [
    "plt.figure(figsize = (15,15))\n",
    "\n",
    "stopwords = set(STOPWORDS)\n",
    "# wordcloud = WordCloud(\n",
    "#                           background_color='black',\n",
    "#                           stopwords=stopwords,\n",
    "#                           max_words=150,\n",
    "#                           max_font_size=40, \n",
    "#                           random_state=42\n",
    "#                          ).generate(str(df_yout['title']))\n",
    "\n",
    "# print(wordcloud)\n",
    "# fig = plt.figure(1)\n",
    "# plt.imshow(wordcloud)\n",
    "# plt.title(\"WORD CLOUD - DESCRIPTION\")\n",
    "# plt.axis('off')\n",
    "# plt.show()"
   ]
  },
  {
   "cell_type": "markdown",
   "metadata": {
    "_cell_guid": "4b0639ef-29f8-4c60-9696-7aedaa34865d",
    "_uuid": "514776b1141b021bc35577e9dcff0d74add4d3b9"
   },
   "source": [
    "<h1>Visualizing the WordCloud of Description</h1>"
   ]
  },
  {
   "cell_type": "code",
   "execution_count": null,
   "metadata": {
    "_cell_guid": "b9129b26-db7f-4d9e-a7d1-9ee1f44d7a12",
    "_kg_hide-input": true,
    "_uuid": "52c57bf1336dac57ef10de65ef434f04df8eda37"
   },
   "outputs": [],
   "source": [
    "plt.figure(figsize = (15,15))\n",
    "\n",
    "stopwords = set(STOPWORDS)\n",
    "\n",
    "newStopWords= ['https', 'youtube', 'VIDEO','youtu','CHANNEL', 'WATCH']\n",
    "\n",
    "stopwords.update(newStopWords)\n",
    "\n",
    "# wordcloud = WordCloud(\n",
    "#                           background_color='black',\n",
    "#                           stopwords=stopwords,\n",
    "#                           max_words=1200,\n",
    "#                           max_font_size=80, \n",
    "#                           random_state=42\n",
    "#                          ).generate(str(df_yout['description']))\n",
    "\n",
    "# print(wordcloud)\n",
    "# fig = plt.figure(1)\n",
    "# plt.imshow(wordcloud)\n",
    "# plt.title(\"WORD CLOUD - DESCRIPTION\")\n",
    "# plt.axis('off')\n",
    "# plt.show()\n"
   ]
  },
  {
   "cell_type": "markdown",
   "metadata": {
    "_cell_guid": "aaf00dfc-b16a-4f70-bec9-3f4b6b1e5d9a",
    "_uuid": "49800adeb3e6612babe18ef97e143d71f48d9c2f"
   },
   "source": [
    "<h1>Analysing the Wordcloud of Tags</h1>"
   ]
  },
  {
   "cell_type": "code",
   "execution_count": null,
   "metadata": {
    "_cell_guid": "4d63c35a-91e0-4e95-abe8-69b77a418e56",
    "_kg_hide-input": true,
    "_uuid": "9b0578711ae29172a980f3688651169a022d88cd"
   },
   "outputs": [],
   "source": [
    "# plt.figure(figsize = (15,15))\n",
    "\n",
    "stopwords = set(STOPWORDS)\n",
    "# wordcloud = WordCloud(\n",
    "#                           background_color='black',\n",
    "#                           stopwords=stopwords,\n",
    "#                           max_words=1200,\n",
    "#                           max_font_size=120, \n",
    "#                           random_state=42\n",
    "#                          ).generate(str(df_yout['tags']))\n",
    "# print(wordcloud)\n",
    "# fig = plt.figure(1)\n",
    "# plt.imshow(wordcloud)\n",
    "# plt.title(\"WORD CLOUD - TAGS\")\n",
    "# plt.axis('off')\n",
    "# plt.show()"
   ]
  },
  {
   "cell_type": "markdown",
   "metadata": {
    "_cell_guid": "ec28c8ee-55d9-4c73-8a09-bd39e2be1d57",
    "_uuid": "6cfa87f68f7775d0dad67a2826514157f022107f"
   },
   "source": [
    "I will continue implementing this analysis because I want learn about text data! <br>\n",
    "\n",
    "Thank you very much for your view and <b> votes up</b> my kernel "
   ]
  },
  {
   "cell_type": "code",
   "execution_count": null,
   "metadata": {
    "_cell_guid": "0c37a3d2-0fa1-436f-b6df-478c60bbc620",
    "_uuid": "f53e74a1b60b13a51771cd3e50047f9ca1ea166a"
   },
   "outputs": [],
   "source": [
    "df_yout['publish_time'] = pd.to_datetime(df_yout['publish_time'], format='%Y-%m-%dT%H:%M:%S.%fZ')"
   ]
  },
  {
   "cell_type": "code",
   "execution_count": null,
   "metadata": {
    "_cell_guid": "2a52d81a-80de-49e5-83d5-ac93049eaaab",
    "_uuid": "9b92d63e6c1c139db07a92cd8eea9a404e935bef"
   },
   "outputs": [],
   "source": [
    "df_yout['month'] = df_yout['publish_time'].dt.month\n",
    "\n",
    "print(\"Category Name count\")\n",
    "print(df_yout['month'].value_counts()[:5])\n",
    "\n",
    "# plt.figure(figsize = (14,9))\n",
    "\n",
    "# plt.subplot(211)\n",
    "# g = sns.countplot('month', data=df_yout, palette=\"Set1\")\n",
    "# g.set_xticklabels(g.get_xticklabels(),rotation=45)\n",
    "# g.set_title(\"Counting Months \", fontsize=20)\n",
    "# g.set_xlabel(\"Months\", fontsize=15)\n",
    "# g.set_ylabel(\"Count\", fontsize=15)\n",
    "\n",
    "# plt.subplot(212)\n",
    "# g1 = sns.lvplot(x='month', y='like_rate', data=df_yout, palette=\"Set1\")\n",
    "# g1.set_xticklabels(g.get_xticklabels(),rotation=45)\n",
    "# g1.set_title(\"Like Rate by Month\", fontsize=20)\n",
    "# g1.set_xlabel(\"Months\", fontsize=15)\n",
    "# g1.set_ylabel(\"Like Rate(log)\", fontsize=15)\n",
    "\n",
    "# plt.subplots_adjust(hspace = 0.5, top = 0.9)\n",
    "\n",
    "# plt.show()"
   ]
  },
  {
   "cell_type": "markdown",
   "metadata": {
    "_uuid": "a6931cf2f8761c5ad7b7c22296cc47c30ba53dff"
   },
   "source": [
    "## Let's extract the hour value of datetime'"
   ]
  },
  {
   "cell_type": "code",
   "execution_count": null,
   "metadata": {
    "_cell_guid": "5462b74a-a426-43b2-8c8d-d1ae9f0a9e2f",
    "_uuid": "6aa65c03d3f8249206c5df25a264bcc51427e447"
   },
   "outputs": [],
   "source": [
    "# separates date and time into two columns from 'publish_time' column\n",
    "df_yout.insert(4, 'publish_date', df_yout['publish_time'].dt.date)\n",
    "df_yout['publish_time'] = df_yout['publish_time'].dt.time\n",
    "df_yout[['hour','min','sec']] = df_yout['publish_time'].astype(str).str.split(':', expand=True).astype(int)"
   ]
  },
  {
   "cell_type": "markdown",
   "metadata": {
    "_uuid": "45312d05f0d277df9b8c134e4e5dd25ad330b2d1"
   },
   "source": [
    "## Knowning the Hour feature"
   ]
  },
  {
   "cell_type": "code",
   "execution_count": null,
   "metadata": {
    "_cell_guid": "18689e29-ee93-47b0-aa6b-eec4b475b82d",
    "_kg_hide-input": true,
    "_uuid": "9fba35e1898d41d0ab0e3ae24e880d32c7874346"
   },
   "outputs": [],
   "source": [
    "print(\"TOP 5 Hour values\")\n",
    "print(df_yout['hour'].value_counts()[:5])\n",
    "\n",
    "# plt.figure(figsize = (14,9))\n",
    "\n",
    "# plt.subplot(211)\n",
    "# g = sns.countplot('hour', data=df_yout, palette=\"Set1\")\n",
    "# g.set_xticklabels(g.get_xticklabels(),rotation=45)\n",
    "# g.set_title(\"Counting Hour \", fontsize=20)\n",
    "# g.set_xlabel(\"Hours\", fontsize=15)\n",
    "# g.set_ylabel(\"Count\", fontsize=15)\n",
    "\n",
    "# plt.subplot(212)\n",
    "# g1 = sns.lvplot(x='hour', y='like_rate', data=df_yout, palette=\"Set1\")\n",
    "# g1.set_xticklabels(g.get_xticklabels(),rotation=45)\n",
    "# g1.set_title(\"Like Rate by Hour\", fontsize=20)\n",
    "# g1.set_xlabel(\"Hours\", fontsize=15)\n",
    "# g1.set_ylabel(\"Like Rate(log)\", fontsize=15)\n",
    "\n",
    "# plt.subplots_adjust(hspace = 0.5, top = 0.9)\n",
    "\n",
    "# plt.show()"
   ]
  },
  {
   "cell_type": "markdown",
   "metadata": {
    "_cell_guid": "fe139cbc-0de5-4b20-810e-7e85ea7fba18",
    "_uuid": "18ddeefa1af004acb5bb780a354fe895b05a2d10",
    "collapsed": true
   },
   "source": [
    "Very interesting distribuition by hour"
   ]
  },
  {
   "cell_type": "markdown",
   "metadata": {
    "_uuid": "2e50ac230c1e2b0117f5acad505b4f8ad26be5d4"
   },
   "source": [
    "# Votesup and stay Tuned because I will continue this analysis"
   ]
  }
 ],
 "metadata": {
  "kernelspec": {
   "display_name": "Python 3 (ipykernel)",
   "language": "python",
   "name": "python3"
  },
  "language_info": {
   "codemirror_mode": {
    "name": "ipython",
    "version": 3
   },
   "file_extension": ".py",
   "mimetype": "text/x-python",
   "name": "python",
   "nbconvert_exporter": "python",
   "pygments_lexer": "ipython3",
   "version": "3.10.13"
  }
 },
 "nbformat": 4,
 "nbformat_minor": 1
}
