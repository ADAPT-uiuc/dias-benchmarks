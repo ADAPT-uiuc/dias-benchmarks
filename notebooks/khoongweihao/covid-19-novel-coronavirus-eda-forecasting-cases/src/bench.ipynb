{
 "cells": [
  {
   "cell_type": "markdown",
   "metadata": {},
   "source": [
    "# COVID-19 Novel Coronavirus: EDA & Forecast Number of Cases"
   ]
  },
  {
   "cell_type": "markdown",
   "metadata": {},
   "source": [
    "## Background\n",
    "\n",
    "COVID-19 (previously known as 2019 Novel Coronavirus, or 2019-nCoV), is a new respiratory virus first identified in Wuhan, Hubei Province, China. A novel coronavirus (nCoV) is a new coronavirus that has not been previously identified. The 2019 novel coronavirus (2019-nCoV), is not that same as the coronaviruses that commonly circulate among humans and cause mild illness, like the common cold.\n",
    "\n",
    "A diagnosis with coronavirus 229E, NL63, OC43, or HKU1 is not the same as a 2019-nCoV diagnosis. These are different viruses and patients with 2019-nCoV will be evaluated and cared for differently than patients with common coronavirus diagnosis. \n",
    "\n",
    "Public health officials and partners are working hard to identify the source of the 2019-nCoV. Coronaviruses are a large family of viruses, some causing illness in people and others that circulate among animals, including camels, cats and bats. Analysis of the genetic tree of this virus is ongoing to know the specific source of the virus. SARS, another coronavirus that emerged to infect people, came from civet cats, while MERS, another coronavirus that emerged to infect people, came from camels. More information about the source and spread of 2019-nCoV is available on the 2019-nCoV Situation Summary: Source and Spread of the Virus.\n",
    "\n",
    "This virus probably originally emerged from an animal source but now seems to be spreading from person-to-person. It’s important to note that person-to-person spread can happen on a continuum. Some viruses are highly contagious (like measles), while other viruses are less so. At this time, it’s unclear how easily or sustainably this virus is spreading between people. Learn what is known about the spread of newly emerged coronaviruses.\n",
    "\n",
    "**Reference:** https://www.cdc.gov/coronavirus/2019-ncov/faq.html"
   ]
  },
  {
   "cell_type": "code",
   "execution_count": 1,
   "metadata": {
    "_cell_guid": "79c7e3d0-c299-4dcb-8224-4455121ee9b0",
    "_kg_hide-input": true,
    "_uuid": "d629ff2d2480ee46fbb7e2d37f6b5fab8052498a"
   },
   "outputs": [
    {
     "name": "stderr",
     "output_type": "stream",
     "text": [
      "/Users/sse/opt/anaconda3/envs/py3.10/lib/python3.10/site-packages/scipy/__init__.py:155: UserWarning: A NumPy version >=1.18.5 and <1.26.0 is required for this version of SciPy (detected version 1.26.0\n",
      "  warnings.warn(f\"A NumPy version >={np_minversion} and <{np_maxversion}\"\n"
     ]
    }
   ],
   "source": [
    "import pandas as pd\n",
    "import numpy as np\n",
    "import seaborn as sns\n",
    "from matplotlib import pyplot as plt\n",
    "# import plotly.graph_objects as go\n",
    "# from fbprophet import Prophet\n",
    "import pycountry\n",
    "# import plotly.express as px\n",
    "from collections import namedtuple"
   ]
  },
  {
   "cell_type": "markdown",
   "metadata": {},
   "source": [
    "# Data Import, Preprocessing and EDA"
   ]
  },
  {
   "cell_type": "code",
   "execution_count": 2,
   "metadata": {
    "_kg_hide-input": true
   },
   "outputs": [],
   "source": [
    "df = pd.read_csv('../input/covid_19_data.csv',parse_dates=['Last Update'])\n",
    "df.rename(columns={'ObservationDate':'Date', 'Country/Region':'Country'}, inplace=True)\n",
    "\n",
    "df_confirmed = pd.read_csv(\"../input/time_series_covid_19_confirmed.csv\")\n",
    "df_recovered = pd.read_csv(\"../input/time_series_covid_19_recovered.csv\")\n",
    "df_deaths = pd.read_csv(\"../input/time_series_covid_19_deaths.csv\")\n",
    "\n",
    "df_confirmed.rename(columns={'Country/Region':'Country'}, inplace=True)\n",
    "df_recovered.rename(columns={'Country/Region':'Country'}, inplace=True)\n",
    "df_deaths.rename(columns={'Country/Region':'Country'}, inplace=True)"
   ]
  },
  {
   "cell_type": "code",
   "execution_count": 3,
   "metadata": {},
   "outputs": [
    {
     "name": "stdout",
     "output_type": "stream",
     "text": [
      "<class 'pandas.core.frame.DataFrame'>\n",
      "RangeIndex: 3069066 entries, 0 to 3069065\n",
      "Data columns (total 8 columns):\n",
      " #   Column          Dtype         \n",
      "---  ------          -----         \n",
      " 0   SNo             int64         \n",
      " 1   Date            object        \n",
      " 2   Province/State  object        \n",
      " 3   Country         object        \n",
      " 4   Last Update     datetime64[ns]\n",
      " 5   Confirmed       float64       \n",
      " 6   Deaths          float64       \n",
      " 7   Recovered       float64       \n",
      "dtypes: datetime64[ns](1), float64(3), int64(1), object(3)\n",
      "memory usage: 187.3+ MB\n",
      "<class 'pandas.core.frame.DataFrame'>\n",
      "RangeIndex: 20748 entries, 0 to 20747\n",
      "Columns: 145 entries, Province/State to 6/10/20\n",
      "dtypes: float64(2), int64(141), object(2)\n",
      "memory usage: 23.0+ MB\n",
      "<class 'pandas.core.frame.DataFrame'>\n",
      "RangeIndex: 19734 entries, 0 to 19733\n",
      "Columns: 145 entries, Province/State to 6/10/20\n",
      "dtypes: float64(2), int64(141), object(2)\n",
      "memory usage: 21.8+ MB\n",
      "<class 'pandas.core.frame.DataFrame'>\n",
      "RangeIndex: 20748 entries, 0 to 20747\n",
      "Columns: 145 entries, Province/State to 6/10/20\n",
      "dtypes: float64(2), int64(141), object(2)\n",
      "memory usage: 23.0+ MB\n"
     ]
    }
   ],
   "source": [
    "df = df\n",
    "intended_df_size_in_MB = 256\n",
    "factor = intended_df_size_in_MB*(2**20)/(df_confirmed.memory_usage(index=True).sum()+df_recovered.memory_usage(index=True).sum()+df_deaths.memory_usage(index=True).sum()+df.memory_usage(index=True).sum())\n",
    "if int(factor) > 0:\n",
    "    df = pd.concat([df]*int(factor), ignore_index=True)\n",
    "else:\n",
    "    rowCount = int(df.shape[0]*factor)\n",
    "    df = df[0:rowCount]\n",
    "df = df\n",
    "\n",
    "df2 = df_confirmed\n",
    "if int(factor) > 0:\n",
    "    df2 = pd.concat([df2]*int(factor), ignore_index=True)\n",
    "else:\n",
    "    rowCount = int(df2.shape[0]*factor)\n",
    "    df2 = df2[0:rowCount]\n",
    "df_confirmed = df2\n",
    "\n",
    "df2 = df_recovered\n",
    "if int(factor) > 0:\n",
    "    df2 = pd.concat([df2]*int(factor), ignore_index=True)\n",
    "else:\n",
    "    rowCount = int(df2.shape[0]*factor)\n",
    "    df2 = df2[0:rowCount]\n",
    "df_recovered = df2\n",
    "\n",
    "df2 = df_deaths\n",
    "if int(factor) > 0:\n",
    "    df2 = pd.concat([df2]*int(factor), ignore_index=True)\n",
    "else:\n",
    "    rowCount = int(df2.shape[0]*factor)\n",
    "    df2 = df2[0:rowCount]\n",
    "df_deaths = df2\n",
    "\n",
    "df.info()\n",
    "df_confirmed.info()\n",
    "df_recovered.info()\n",
    "df_deaths.info()"
   ]
  },
  {
   "cell_type": "code",
   "execution_count": 4,
   "metadata": {
    "_kg_hide-input": true
   },
   "outputs": [
    {
     "data": {
      "text/html": [
       "<div>\n",
       "<style scoped>\n",
       "    .dataframe tbody tr th:only-of-type {\n",
       "        vertical-align: middle;\n",
       "    }\n",
       "\n",
       "    .dataframe tbody tr th {\n",
       "        vertical-align: top;\n",
       "    }\n",
       "\n",
       "    .dataframe thead th {\n",
       "        text-align: right;\n",
       "    }\n",
       "</style>\n",
       "<table border=\"1\" class=\"dataframe\">\n",
       "  <thead>\n",
       "    <tr style=\"text-align: right;\">\n",
       "      <th></th>\n",
       "      <th>Province/State</th>\n",
       "      <th>Country</th>\n",
       "      <th>Lat</th>\n",
       "      <th>Long</th>\n",
       "      <th>1/22/20</th>\n",
       "      <th>1/23/20</th>\n",
       "      <th>1/24/20</th>\n",
       "      <th>1/25/20</th>\n",
       "      <th>1/26/20</th>\n",
       "      <th>1/27/20</th>\n",
       "      <th>...</th>\n",
       "      <th>6/1/20</th>\n",
       "      <th>6/2/20</th>\n",
       "      <th>6/3/20</th>\n",
       "      <th>6/4/20</th>\n",
       "      <th>6/5/20</th>\n",
       "      <th>6/6/20</th>\n",
       "      <th>6/7/20</th>\n",
       "      <th>6/8/20</th>\n",
       "      <th>6/9/20</th>\n",
       "      <th>6/10/20</th>\n",
       "    </tr>\n",
       "  </thead>\n",
       "  <tbody>\n",
       "    <tr>\n",
       "      <th>0</th>\n",
       "      <td>NaN</td>\n",
       "      <td>Afghanistan</td>\n",
       "      <td>33.0000</td>\n",
       "      <td>65.0000</td>\n",
       "      <td>0</td>\n",
       "      <td>0</td>\n",
       "      <td>0</td>\n",
       "      <td>0</td>\n",
       "      <td>0</td>\n",
       "      <td>0</td>\n",
       "      <td>...</td>\n",
       "      <td>15750</td>\n",
       "      <td>16509</td>\n",
       "      <td>17267</td>\n",
       "      <td>18054</td>\n",
       "      <td>18969</td>\n",
       "      <td>19551</td>\n",
       "      <td>20342</td>\n",
       "      <td>20917</td>\n",
       "      <td>21459</td>\n",
       "      <td>22142</td>\n",
       "    </tr>\n",
       "    <tr>\n",
       "      <th>1</th>\n",
       "      <td>NaN</td>\n",
       "      <td>Albania</td>\n",
       "      <td>41.1533</td>\n",
       "      <td>20.1683</td>\n",
       "      <td>0</td>\n",
       "      <td>0</td>\n",
       "      <td>0</td>\n",
       "      <td>0</td>\n",
       "      <td>0</td>\n",
       "      <td>0</td>\n",
       "      <td>...</td>\n",
       "      <td>1143</td>\n",
       "      <td>1164</td>\n",
       "      <td>1184</td>\n",
       "      <td>1197</td>\n",
       "      <td>1212</td>\n",
       "      <td>1232</td>\n",
       "      <td>1246</td>\n",
       "      <td>1263</td>\n",
       "      <td>1299</td>\n",
       "      <td>1341</td>\n",
       "    </tr>\n",
       "    <tr>\n",
       "      <th>2</th>\n",
       "      <td>NaN</td>\n",
       "      <td>Algeria</td>\n",
       "      <td>28.0339</td>\n",
       "      <td>1.6596</td>\n",
       "      <td>0</td>\n",
       "      <td>0</td>\n",
       "      <td>0</td>\n",
       "      <td>0</td>\n",
       "      <td>0</td>\n",
       "      <td>0</td>\n",
       "      <td>...</td>\n",
       "      <td>9513</td>\n",
       "      <td>9626</td>\n",
       "      <td>9733</td>\n",
       "      <td>9831</td>\n",
       "      <td>9935</td>\n",
       "      <td>10050</td>\n",
       "      <td>10154</td>\n",
       "      <td>10265</td>\n",
       "      <td>10382</td>\n",
       "      <td>10484</td>\n",
       "    </tr>\n",
       "    <tr>\n",
       "      <th>3</th>\n",
       "      <td>NaN</td>\n",
       "      <td>Andorra</td>\n",
       "      <td>42.5063</td>\n",
       "      <td>1.5218</td>\n",
       "      <td>0</td>\n",
       "      <td>0</td>\n",
       "      <td>0</td>\n",
       "      <td>0</td>\n",
       "      <td>0</td>\n",
       "      <td>0</td>\n",
       "      <td>...</td>\n",
       "      <td>765</td>\n",
       "      <td>844</td>\n",
       "      <td>851</td>\n",
       "      <td>852</td>\n",
       "      <td>852</td>\n",
       "      <td>852</td>\n",
       "      <td>852</td>\n",
       "      <td>852</td>\n",
       "      <td>852</td>\n",
       "      <td>852</td>\n",
       "    </tr>\n",
       "    <tr>\n",
       "      <th>4</th>\n",
       "      <td>NaN</td>\n",
       "      <td>Angola</td>\n",
       "      <td>-11.2027</td>\n",
       "      <td>17.8739</td>\n",
       "      <td>0</td>\n",
       "      <td>0</td>\n",
       "      <td>0</td>\n",
       "      <td>0</td>\n",
       "      <td>0</td>\n",
       "      <td>0</td>\n",
       "      <td>...</td>\n",
       "      <td>86</td>\n",
       "      <td>86</td>\n",
       "      <td>86</td>\n",
       "      <td>86</td>\n",
       "      <td>86</td>\n",
       "      <td>88</td>\n",
       "      <td>91</td>\n",
       "      <td>92</td>\n",
       "      <td>96</td>\n",
       "      <td>113</td>\n",
       "    </tr>\n",
       "  </tbody>\n",
       "</table>\n",
       "<p>5 rows × 145 columns</p>\n",
       "</div>"
      ],
      "text/plain": [
       "  Province/State      Country      Lat     Long  1/22/20  1/23/20  1/24/20  \\\n",
       "0            NaN  Afghanistan  33.0000  65.0000        0        0        0   \n",
       "1            NaN      Albania  41.1533  20.1683        0        0        0   \n",
       "2            NaN      Algeria  28.0339   1.6596        0        0        0   \n",
       "3            NaN      Andorra  42.5063   1.5218        0        0        0   \n",
       "4            NaN       Angola -11.2027  17.8739        0        0        0   \n",
       "\n",
       "   1/25/20  1/26/20  1/27/20  ...  6/1/20  6/2/20  6/3/20  6/4/20  6/5/20  \\\n",
       "0        0        0        0  ...   15750   16509   17267   18054   18969   \n",
       "1        0        0        0  ...    1143    1164    1184    1197    1212   \n",
       "2        0        0        0  ...    9513    9626    9733    9831    9935   \n",
       "3        0        0        0  ...     765     844     851     852     852   \n",
       "4        0        0        0  ...      86      86      86      86      86   \n",
       "\n",
       "   6/6/20  6/7/20  6/8/20  6/9/20  6/10/20  \n",
       "0   19551   20342   20917   21459    22142  \n",
       "1    1232    1246    1263    1299     1341  \n",
       "2   10050   10154   10265   10382    10484  \n",
       "3     852     852     852     852      852  \n",
       "4      88      91      92      96      113  \n",
       "\n",
       "[5 rows x 145 columns]"
      ]
     },
     "execution_count": 4,
     "metadata": {},
     "output_type": "execute_result"
    }
   ],
   "source": [
    "df_confirmed.head()"
   ]
  },
  {
   "cell_type": "markdown",
   "metadata": {},
   "source": [
    "## Earliest Cases"
   ]
  },
  {
   "cell_type": "code",
   "execution_count": 4,
   "metadata": {
    "_kg_hide-input": true
   },
   "outputs": [
    {
     "data": {
      "text/html": [
       "<div>\n",
       "<style scoped>\n",
       "    .dataframe tbody tr th:only-of-type {\n",
       "        vertical-align: middle;\n",
       "    }\n",
       "\n",
       "    .dataframe tbody tr th {\n",
       "        vertical-align: top;\n",
       "    }\n",
       "\n",
       "    .dataframe thead th {\n",
       "        text-align: right;\n",
       "    }\n",
       "</style>\n",
       "<table border=\"1\" class=\"dataframe\">\n",
       "  <thead>\n",
       "    <tr style=\"text-align: right;\">\n",
       "      <th></th>\n",
       "      <th>SNo</th>\n",
       "      <th>Date</th>\n",
       "      <th>Province/State</th>\n",
       "      <th>Country</th>\n",
       "      <th>Last Update</th>\n",
       "      <th>Confirmed</th>\n",
       "      <th>Deaths</th>\n",
       "      <th>Recovered</th>\n",
       "    </tr>\n",
       "  </thead>\n",
       "  <tbody>\n",
       "    <tr>\n",
       "      <th>0</th>\n",
       "      <td>1</td>\n",
       "      <td>01/22/2020</td>\n",
       "      <td>Anhui</td>\n",
       "      <td>Mainland China</td>\n",
       "      <td>2020-01-22 17:00:00</td>\n",
       "      <td>1.0</td>\n",
       "      <td>0.0</td>\n",
       "      <td>0.0</td>\n",
       "    </tr>\n",
       "    <tr>\n",
       "      <th>1</th>\n",
       "      <td>2</td>\n",
       "      <td>01/22/2020</td>\n",
       "      <td>Beijing</td>\n",
       "      <td>Mainland China</td>\n",
       "      <td>2020-01-22 17:00:00</td>\n",
       "      <td>14.0</td>\n",
       "      <td>0.0</td>\n",
       "      <td>0.0</td>\n",
       "    </tr>\n",
       "    <tr>\n",
       "      <th>2</th>\n",
       "      <td>3</td>\n",
       "      <td>01/22/2020</td>\n",
       "      <td>Chongqing</td>\n",
       "      <td>Mainland China</td>\n",
       "      <td>2020-01-22 17:00:00</td>\n",
       "      <td>6.0</td>\n",
       "      <td>0.0</td>\n",
       "      <td>0.0</td>\n",
       "    </tr>\n",
       "    <tr>\n",
       "      <th>3</th>\n",
       "      <td>4</td>\n",
       "      <td>01/22/2020</td>\n",
       "      <td>Fujian</td>\n",
       "      <td>Mainland China</td>\n",
       "      <td>2020-01-22 17:00:00</td>\n",
       "      <td>1.0</td>\n",
       "      <td>0.0</td>\n",
       "      <td>0.0</td>\n",
       "    </tr>\n",
       "    <tr>\n",
       "      <th>4</th>\n",
       "      <td>5</td>\n",
       "      <td>01/22/2020</td>\n",
       "      <td>Gansu</td>\n",
       "      <td>Mainland China</td>\n",
       "      <td>2020-01-22 17:00:00</td>\n",
       "      <td>0.0</td>\n",
       "      <td>0.0</td>\n",
       "      <td>0.0</td>\n",
       "    </tr>\n",
       "  </tbody>\n",
       "</table>\n",
       "</div>"
      ],
      "text/plain": [
       "   SNo        Date Province/State         Country         Last Update  \\\n",
       "0    1  01/22/2020          Anhui  Mainland China 2020-01-22 17:00:00   \n",
       "1    2  01/22/2020        Beijing  Mainland China 2020-01-22 17:00:00   \n",
       "2    3  01/22/2020      Chongqing  Mainland China 2020-01-22 17:00:00   \n",
       "3    4  01/22/2020         Fujian  Mainland China 2020-01-22 17:00:00   \n",
       "4    5  01/22/2020          Gansu  Mainland China 2020-01-22 17:00:00   \n",
       "\n",
       "   Confirmed  Deaths  Recovered  \n",
       "0        1.0     0.0        0.0  \n",
       "1       14.0     0.0        0.0  \n",
       "2        6.0     0.0        0.0  \n",
       "3        1.0     0.0        0.0  \n",
       "4        0.0     0.0        0.0  "
      ]
     },
     "execution_count": 4,
     "metadata": {},
     "output_type": "execute_result"
    }
   ],
   "source": [
    "df.head()"
   ]
  },
  {
   "cell_type": "markdown",
   "metadata": {},
   "source": [
    "## Latest Cases"
   ]
  },
  {
   "cell_type": "code",
   "execution_count": 5,
   "metadata": {
    "_kg_hide-input": true
   },
   "outputs": [
    {
     "data": {
      "text/html": [
       "<div>\n",
       "<style scoped>\n",
       "    .dataframe tbody tr th:only-of-type {\n",
       "        vertical-align: middle;\n",
       "    }\n",
       "\n",
       "    .dataframe tbody tr th {\n",
       "        vertical-align: top;\n",
       "    }\n",
       "\n",
       "    .dataframe thead th {\n",
       "        text-align: right;\n",
       "    }\n",
       "</style>\n",
       "<table border=\"1\" class=\"dataframe\">\n",
       "  <thead>\n",
       "    <tr style=\"text-align: right;\">\n",
       "      <th></th>\n",
       "      <th>SNo</th>\n",
       "      <th>Date</th>\n",
       "      <th>Province/State</th>\n",
       "      <th>Country</th>\n",
       "      <th>Last Update</th>\n",
       "      <th>Confirmed</th>\n",
       "      <th>Deaths</th>\n",
       "      <th>Recovered</th>\n",
       "    </tr>\n",
       "  </thead>\n",
       "  <tbody>\n",
       "    <tr>\n",
       "      <th>39342</th>\n",
       "      <td>39343</td>\n",
       "      <td>06/10/2020</td>\n",
       "      <td>Zacatecas</td>\n",
       "      <td>Mexico</td>\n",
       "      <td>2020-06-11 03:33:41</td>\n",
       "      <td>423.0</td>\n",
       "      <td>53.0</td>\n",
       "      <td>266.0</td>\n",
       "    </tr>\n",
       "    <tr>\n",
       "      <th>39343</th>\n",
       "      <td>39344</td>\n",
       "      <td>06/10/2020</td>\n",
       "      <td>Zakarpattia Oblast</td>\n",
       "      <td>Ukraine</td>\n",
       "      <td>2020-06-11 03:33:41</td>\n",
       "      <td>1448.0</td>\n",
       "      <td>33.0</td>\n",
       "      <td>628.0</td>\n",
       "    </tr>\n",
       "    <tr>\n",
       "      <th>39344</th>\n",
       "      <td>39345</td>\n",
       "      <td>06/10/2020</td>\n",
       "      <td>Zaporizhia Oblast</td>\n",
       "      <td>Ukraine</td>\n",
       "      <td>2020-06-11 03:33:41</td>\n",
       "      <td>502.0</td>\n",
       "      <td>15.0</td>\n",
       "      <td>296.0</td>\n",
       "    </tr>\n",
       "    <tr>\n",
       "      <th>39345</th>\n",
       "      <td>39346</td>\n",
       "      <td>06/10/2020</td>\n",
       "      <td>Zhejiang</td>\n",
       "      <td>Mainland China</td>\n",
       "      <td>2020-06-11 03:33:41</td>\n",
       "      <td>1268.0</td>\n",
       "      <td>1.0</td>\n",
       "      <td>1267.0</td>\n",
       "    </tr>\n",
       "    <tr>\n",
       "      <th>39346</th>\n",
       "      <td>39347</td>\n",
       "      <td>06/10/2020</td>\n",
       "      <td>Zhytomyr Oblast</td>\n",
       "      <td>Ukraine</td>\n",
       "      <td>2020-06-11 03:33:41</td>\n",
       "      <td>973.0</td>\n",
       "      <td>17.0</td>\n",
       "      <td>501.0</td>\n",
       "    </tr>\n",
       "  </tbody>\n",
       "</table>\n",
       "</div>"
      ],
      "text/plain": [
       "         SNo        Date      Province/State         Country  \\\n",
       "39342  39343  06/10/2020           Zacatecas          Mexico   \n",
       "39343  39344  06/10/2020  Zakarpattia Oblast         Ukraine   \n",
       "39344  39345  06/10/2020   Zaporizhia Oblast         Ukraine   \n",
       "39345  39346  06/10/2020            Zhejiang  Mainland China   \n",
       "39346  39347  06/10/2020     Zhytomyr Oblast         Ukraine   \n",
       "\n",
       "              Last Update  Confirmed  Deaths  Recovered  \n",
       "39342 2020-06-11 03:33:41      423.0    53.0      266.0  \n",
       "39343 2020-06-11 03:33:41     1448.0    33.0      628.0  \n",
       "39344 2020-06-11 03:33:41      502.0    15.0      296.0  \n",
       "39345 2020-06-11 03:33:41     1268.0     1.0     1267.0  \n",
       "39346 2020-06-11 03:33:41      973.0    17.0      501.0  "
      ]
     },
     "execution_count": 5,
     "metadata": {},
     "output_type": "execute_result"
    }
   ],
   "source": [
    "df.tail()"
   ]
  },
  {
   "cell_type": "code",
   "execution_count": 6,
   "metadata": {
    "_kg_hide-input": true
   },
   "outputs": [
    {
     "name": "stderr",
     "output_type": "stream",
     "text": [
      "<ipython-input-6-9b5103502a98>:1: FutureWarning: The default value of numeric_only in DataFrameGroupBy.sum is deprecated. In a future version, numeric_only will default to False. Either specify numeric_only or select only columns which should be valid for the function.\n",
      "  df2 = df.groupby([\"Date\", \"Country\", \"Province/State\"])[['SNo', 'Date', 'Province/State', 'Country', 'Confirmed', 'Deaths', 'Recovered']].sum().reset_index()\n"
     ]
    }
   ],
   "source": [
    "df2 = df.groupby([\"Date\", \"Country\", \"Province/State\"])[['SNo', 'Date', 'Province/State', 'Country', 'Confirmed', 'Deaths', 'Recovered']].sum().reset_index()"
   ]
  },
  {
   "cell_type": "markdown",
   "metadata": {},
   "source": [
    "## By Country View (World)"
   ]
  },
  {
   "cell_type": "code",
   "execution_count": 7,
   "metadata": {
    "_kg_hide-input": true
   },
   "outputs": [
    {
     "data": {
      "text/html": [
       "<div>\n",
       "<style scoped>\n",
       "    .dataframe tbody tr th:only-of-type {\n",
       "        vertical-align: middle;\n",
       "    }\n",
       "\n",
       "    .dataframe tbody tr th {\n",
       "        vertical-align: top;\n",
       "    }\n",
       "\n",
       "    .dataframe thead th {\n",
       "        text-align: right;\n",
       "    }\n",
       "</style>\n",
       "<table border=\"1\" class=\"dataframe\">\n",
       "  <thead>\n",
       "    <tr style=\"text-align: right;\">\n",
       "      <th></th>\n",
       "      <th>Date</th>\n",
       "      <th>Country</th>\n",
       "      <th>Province/State</th>\n",
       "      <th>SNo</th>\n",
       "      <th>Confirmed</th>\n",
       "      <th>Deaths</th>\n",
       "      <th>Recovered</th>\n",
       "    </tr>\n",
       "  </thead>\n",
       "  <tbody>\n",
       "    <tr>\n",
       "      <th>0</th>\n",
       "      <td>01/22/2020</td>\n",
       "      <td>Hong Kong</td>\n",
       "      <td>Hong Kong</td>\n",
       "      <td>13</td>\n",
       "      <td>0.0</td>\n",
       "      <td>0.0</td>\n",
       "      <td>0.0</td>\n",
       "    </tr>\n",
       "    <tr>\n",
       "      <th>1</th>\n",
       "      <td>01/22/2020</td>\n",
       "      <td>Macau</td>\n",
       "      <td>Macau</td>\n",
       "      <td>21</td>\n",
       "      <td>1.0</td>\n",
       "      <td>0.0</td>\n",
       "      <td>0.0</td>\n",
       "    </tr>\n",
       "    <tr>\n",
       "      <th>2</th>\n",
       "      <td>01/22/2020</td>\n",
       "      <td>Mainland China</td>\n",
       "      <td>Anhui</td>\n",
       "      <td>1</td>\n",
       "      <td>1.0</td>\n",
       "      <td>0.0</td>\n",
       "      <td>0.0</td>\n",
       "    </tr>\n",
       "    <tr>\n",
       "      <th>3</th>\n",
       "      <td>01/22/2020</td>\n",
       "      <td>Mainland China</td>\n",
       "      <td>Beijing</td>\n",
       "      <td>2</td>\n",
       "      <td>14.0</td>\n",
       "      <td>0.0</td>\n",
       "      <td>0.0</td>\n",
       "    </tr>\n",
       "    <tr>\n",
       "      <th>4</th>\n",
       "      <td>01/22/2020</td>\n",
       "      <td>Mainland China</td>\n",
       "      <td>Chongqing</td>\n",
       "      <td>3</td>\n",
       "      <td>6.0</td>\n",
       "      <td>0.0</td>\n",
       "      <td>0.0</td>\n",
       "    </tr>\n",
       "    <tr>\n",
       "      <th>...</th>\n",
       "      <td>...</td>\n",
       "      <td>...</td>\n",
       "      <td>...</td>\n",
       "      <td>...</td>\n",
       "      <td>...</td>\n",
       "      <td>...</td>\n",
       "      <td>...</td>\n",
       "    </tr>\n",
       "    <tr>\n",
       "      <th>21661</th>\n",
       "      <td>06/10/2020</td>\n",
       "      <td>Ukraine</td>\n",
       "      <td>Vinnytsia Oblast</td>\n",
       "      <td>39318</td>\n",
       "      <td>1192.0</td>\n",
       "      <td>20.0</td>\n",
       "      <td>767.0</td>\n",
       "    </tr>\n",
       "    <tr>\n",
       "      <th>21662</th>\n",
       "      <td>06/10/2020</td>\n",
       "      <td>Ukraine</td>\n",
       "      <td>Volyn Oblast</td>\n",
       "      <td>39324</td>\n",
       "      <td>1214.0</td>\n",
       "      <td>37.0</td>\n",
       "      <td>310.0</td>\n",
       "    </tr>\n",
       "    <tr>\n",
       "      <th>21663</th>\n",
       "      <td>06/10/2020</td>\n",
       "      <td>Ukraine</td>\n",
       "      <td>Zakarpattia Oblast</td>\n",
       "      <td>39344</td>\n",
       "      <td>1448.0</td>\n",
       "      <td>33.0</td>\n",
       "      <td>628.0</td>\n",
       "    </tr>\n",
       "    <tr>\n",
       "      <th>21664</th>\n",
       "      <td>06/10/2020</td>\n",
       "      <td>Ukraine</td>\n",
       "      <td>Zaporizhia Oblast</td>\n",
       "      <td>39345</td>\n",
       "      <td>502.0</td>\n",
       "      <td>15.0</td>\n",
       "      <td>296.0</td>\n",
       "    </tr>\n",
       "    <tr>\n",
       "      <th>21665</th>\n",
       "      <td>06/10/2020</td>\n",
       "      <td>Ukraine</td>\n",
       "      <td>Zhytomyr Oblast</td>\n",
       "      <td>39347</td>\n",
       "      <td>973.0</td>\n",
       "      <td>17.0</td>\n",
       "      <td>501.0</td>\n",
       "    </tr>\n",
       "  </tbody>\n",
       "</table>\n",
       "<p>21666 rows × 7 columns</p>\n",
       "</div>"
      ],
      "text/plain": [
       "             Date         Country      Province/State    SNo  Confirmed  \\\n",
       "0      01/22/2020       Hong Kong           Hong Kong     13        0.0   \n",
       "1      01/22/2020           Macau               Macau     21        1.0   \n",
       "2      01/22/2020  Mainland China               Anhui      1        1.0   \n",
       "3      01/22/2020  Mainland China             Beijing      2       14.0   \n",
       "4      01/22/2020  Mainland China           Chongqing      3        6.0   \n",
       "...           ...             ...                 ...    ...        ...   \n",
       "21661  06/10/2020         Ukraine    Vinnytsia Oblast  39318     1192.0   \n",
       "21662  06/10/2020         Ukraine        Volyn Oblast  39324     1214.0   \n",
       "21663  06/10/2020         Ukraine  Zakarpattia Oblast  39344     1448.0   \n",
       "21664  06/10/2020         Ukraine   Zaporizhia Oblast  39345      502.0   \n",
       "21665  06/10/2020         Ukraine     Zhytomyr Oblast  39347      973.0   \n",
       "\n",
       "       Deaths  Recovered  \n",
       "0         0.0        0.0  \n",
       "1         0.0        0.0  \n",
       "2         0.0        0.0  \n",
       "3         0.0        0.0  \n",
       "4         0.0        0.0  \n",
       "...       ...        ...  \n",
       "21661    20.0      767.0  \n",
       "21662    37.0      310.0  \n",
       "21663    33.0      628.0  \n",
       "21664    15.0      296.0  \n",
       "21665    17.0      501.0  \n",
       "\n",
       "[21666 rows x 7 columns]"
      ]
     },
     "execution_count": 7,
     "metadata": {},
     "output_type": "execute_result"
    }
   ],
   "source": [
    "df2"
   ]
  },
  {
   "cell_type": "markdown",
   "metadata": {},
   "source": [
    "## By Country View (China)"
   ]
  },
  {
   "cell_type": "code",
   "execution_count": 8,
   "metadata": {
    "_kg_hide-input": true,
    "_kg_hide-output": false
   },
   "outputs": [
    {
     "data": {
      "text/html": [
       "<div>\n",
       "<style scoped>\n",
       "    .dataframe tbody tr th:only-of-type {\n",
       "        vertical-align: middle;\n",
       "    }\n",
       "\n",
       "    .dataframe tbody tr th {\n",
       "        vertical-align: top;\n",
       "    }\n",
       "\n",
       "    .dataframe thead th {\n",
       "        text-align: right;\n",
       "    }\n",
       "</style>\n",
       "<table border=\"1\" class=\"dataframe\">\n",
       "  <thead>\n",
       "    <tr style=\"text-align: right;\">\n",
       "      <th></th>\n",
       "      <th>Last Update</th>\n",
       "      <th>Confirmed</th>\n",
       "      <th>Deaths</th>\n",
       "      <th>Recovered</th>\n",
       "    </tr>\n",
       "  </thead>\n",
       "  <tbody>\n",
       "    <tr>\n",
       "      <th>0</th>\n",
       "      <td>2020-01-22 17:00:00</td>\n",
       "      <td>547.0</td>\n",
       "      <td>17.0</td>\n",
       "      <td>28.0</td>\n",
       "    </tr>\n",
       "    <tr>\n",
       "      <th>1</th>\n",
       "      <td>2020-01-23 17:00:00</td>\n",
       "      <td>639.0</td>\n",
       "      <td>18.0</td>\n",
       "      <td>30.0</td>\n",
       "    </tr>\n",
       "    <tr>\n",
       "      <th>2</th>\n",
       "      <td>2020-01-24 17:00:00</td>\n",
       "      <td>916.0</td>\n",
       "      <td>26.0</td>\n",
       "      <td>36.0</td>\n",
       "    </tr>\n",
       "    <tr>\n",
       "      <th>3</th>\n",
       "      <td>2020-01-25 17:00:00</td>\n",
       "      <td>1399.0</td>\n",
       "      <td>42.0</td>\n",
       "      <td>39.0</td>\n",
       "    </tr>\n",
       "    <tr>\n",
       "      <th>4</th>\n",
       "      <td>2020-01-26 16:00:00</td>\n",
       "      <td>2062.0</td>\n",
       "      <td>56.0</td>\n",
       "      <td>49.0</td>\n",
       "    </tr>\n",
       "    <tr>\n",
       "      <th>...</th>\n",
       "      <td>...</td>\n",
       "      <td>...</td>\n",
       "      <td>...</td>\n",
       "      <td>...</td>\n",
       "    </tr>\n",
       "    <tr>\n",
       "      <th>857</th>\n",
       "      <td>2020-06-07 03:53:30</td>\n",
       "      <td>83036.0</td>\n",
       "      <td>4634.0</td>\n",
       "      <td>78331.0</td>\n",
       "    </tr>\n",
       "    <tr>\n",
       "      <th>858</th>\n",
       "      <td>2020-06-08 03:33:22</td>\n",
       "      <td>83040.0</td>\n",
       "      <td>4634.0</td>\n",
       "      <td>78340.0</td>\n",
       "    </tr>\n",
       "    <tr>\n",
       "      <th>859</th>\n",
       "      <td>2020-06-09 03:33:03</td>\n",
       "      <td>83043.0</td>\n",
       "      <td>4634.0</td>\n",
       "      <td>78350.0</td>\n",
       "    </tr>\n",
       "    <tr>\n",
       "      <th>860</th>\n",
       "      <td>2020-06-10 04:07:00</td>\n",
       "      <td>83046.0</td>\n",
       "      <td>4634.0</td>\n",
       "      <td>78356.0</td>\n",
       "    </tr>\n",
       "    <tr>\n",
       "      <th>861</th>\n",
       "      <td>2020-06-11 03:33:41</td>\n",
       "      <td>83057.0</td>\n",
       "      <td>4634.0</td>\n",
       "      <td>78360.0</td>\n",
       "    </tr>\n",
       "  </tbody>\n",
       "</table>\n",
       "<p>862 rows × 4 columns</p>\n",
       "</div>"
      ],
      "text/plain": [
       "            Last Update  Confirmed  Deaths  Recovered\n",
       "0   2020-01-22 17:00:00      547.0    17.0       28.0\n",
       "1   2020-01-23 17:00:00      639.0    18.0       30.0\n",
       "2   2020-01-24 17:00:00      916.0    26.0       36.0\n",
       "3   2020-01-25 17:00:00     1399.0    42.0       39.0\n",
       "4   2020-01-26 16:00:00     2062.0    56.0       49.0\n",
       "..                  ...        ...     ...        ...\n",
       "857 2020-06-07 03:53:30    83036.0  4634.0    78331.0\n",
       "858 2020-06-08 03:33:22    83040.0  4634.0    78340.0\n",
       "859 2020-06-09 03:33:03    83043.0  4634.0    78350.0\n",
       "860 2020-06-10 04:07:00    83046.0  4634.0    78356.0\n",
       "861 2020-06-11 03:33:41    83057.0  4634.0    78360.0\n",
       "\n",
       "[862 rows x 4 columns]"
      ]
     },
     "execution_count": 8,
     "metadata": {},
     "output_type": "execute_result"
    }
   ],
   "source": [
    "df.query('Country==\"Mainland China\"').groupby(\"Last Update\")[['Confirmed', 'Deaths', 'Recovered']].sum().reset_index()"
   ]
  },
  {
   "cell_type": "markdown",
   "metadata": {},
   "source": [
    "## By Country (Sorted)"
   ]
  },
  {
   "cell_type": "code",
   "execution_count": 9,
   "metadata": {
    "_kg_hide-input": true,
    "_kg_hide-output": false
   },
   "outputs": [
    {
     "data": {
      "text/html": [
       "<div>\n",
       "<style scoped>\n",
       "    .dataframe tbody tr th:only-of-type {\n",
       "        vertical-align: middle;\n",
       "    }\n",
       "\n",
       "    .dataframe tbody tr th {\n",
       "        vertical-align: top;\n",
       "    }\n",
       "\n",
       "    .dataframe thead th {\n",
       "        text-align: right;\n",
       "    }\n",
       "</style>\n",
       "<table border=\"1\" class=\"dataframe\">\n",
       "  <thead>\n",
       "    <tr style=\"text-align: right;\">\n",
       "      <th></th>\n",
       "      <th>Country</th>\n",
       "      <th>Confirmed</th>\n",
       "      <th>Deaths</th>\n",
       "      <th>Recovered</th>\n",
       "    </tr>\n",
       "  </thead>\n",
       "  <tbody>\n",
       "    <tr>\n",
       "      <th>0</th>\n",
       "      <td>Azerbaijan</td>\n",
       "      <td>1.0</td>\n",
       "      <td>0.0</td>\n",
       "      <td>0.0</td>\n",
       "    </tr>\n",
       "    <tr>\n",
       "      <th>1</th>\n",
       "      <td>('St. Martin',)</td>\n",
       "      <td>2.0</td>\n",
       "      <td>0.0</td>\n",
       "      <td>0.0</td>\n",
       "    </tr>\n",
       "    <tr>\n",
       "      <th>2</th>\n",
       "      <td>Afghanistan</td>\n",
       "      <td>445077.0</td>\n",
       "      <td>9163.0</td>\n",
       "      <td>46369.0</td>\n",
       "    </tr>\n",
       "    <tr>\n",
       "      <th>3</th>\n",
       "      <td>Albania</td>\n",
       "      <td>59018.0</td>\n",
       "      <td>2129.0</td>\n",
       "      <td>39125.0</td>\n",
       "    </tr>\n",
       "    <tr>\n",
       "      <th>4</th>\n",
       "      <td>Algeria</td>\n",
       "      <td>385692.0</td>\n",
       "      <td>33370.0</td>\n",
       "      <td>199571.0</td>\n",
       "    </tr>\n",
       "    <tr>\n",
       "      <th>...</th>\n",
       "      <td>...</td>\n",
       "      <td>...</td>\n",
       "      <td>...</td>\n",
       "      <td>...</td>\n",
       "    </tr>\n",
       "    <tr>\n",
       "      <th>218</th>\n",
       "      <td>Western Sahara</td>\n",
       "      <td>442.0</td>\n",
       "      <td>16.0</td>\n",
       "      <td>276.0</td>\n",
       "    </tr>\n",
       "    <tr>\n",
       "      <th>219</th>\n",
       "      <td>Yemen</td>\n",
       "      <td>8786.0</td>\n",
       "      <td>1863.0</td>\n",
       "      <td>352.0</td>\n",
       "    </tr>\n",
       "    <tr>\n",
       "      <th>220</th>\n",
       "      <td>Zambia</td>\n",
       "      <td>31793.0</td>\n",
       "      <td>329.0</td>\n",
       "      <td>18296.0</td>\n",
       "    </tr>\n",
       "    <tr>\n",
       "      <th>221</th>\n",
       "      <td>Zimbabwe</td>\n",
       "      <td>5157.0</td>\n",
       "      <td>259.0</td>\n",
       "      <td>871.0</td>\n",
       "    </tr>\n",
       "    <tr>\n",
       "      <th>222</th>\n",
       "      <td>occupied Palestinian territory</td>\n",
       "      <td>25.0</td>\n",
       "      <td>0.0</td>\n",
       "      <td>0.0</td>\n",
       "    </tr>\n",
       "  </tbody>\n",
       "</table>\n",
       "<p>223 rows × 4 columns</p>\n",
       "</div>"
      ],
      "text/plain": [
       "                            Country  Confirmed   Deaths  Recovered\n",
       "0                        Azerbaijan        1.0      0.0        0.0\n",
       "1                   ('St. Martin',)        2.0      0.0        0.0\n",
       "2                       Afghanistan   445077.0   9163.0    46369.0\n",
       "3                           Albania    59018.0   2129.0    39125.0\n",
       "4                           Algeria   385692.0  33370.0   199571.0\n",
       "..                              ...        ...      ...        ...\n",
       "218                  Western Sahara      442.0     16.0      276.0\n",
       "219                           Yemen     8786.0   1863.0      352.0\n",
       "220                          Zambia    31793.0    329.0    18296.0\n",
       "221                        Zimbabwe     5157.0    259.0      871.0\n",
       "222  occupied Palestinian territory       25.0      0.0        0.0\n",
       "\n",
       "[223 rows x 4 columns]"
      ]
     },
     "execution_count": 9,
     "metadata": {},
     "output_type": "execute_result"
    }
   ],
   "source": [
    "df.groupby(\"Country\")[['Confirmed', 'Deaths', 'Recovered']].sum().reset_index()"
   ]
  },
  {
   "cell_type": "markdown",
   "metadata": {},
   "source": [
    "# Visualizations"
   ]
  },
  {
   "cell_type": "code",
   "execution_count": 10,
   "metadata": {
    "_kg_hide-input": true,
    "_kg_hide-output": true
   },
   "outputs": [
    {
     "name": "stderr",
     "output_type": "stream",
     "text": [
      "<ipython-input-10-052aac34dfb2>:1: FutureWarning: The default value of numeric_only in DataFrameGroupBy.sum is deprecated. In a future version, numeric_only will default to False. Either specify numeric_only or select only columns which should be valid for the function.\n",
      "  df.groupby('Date').sum()\n"
     ]
    },
    {
     "data": {
      "text/html": [
       "<div>\n",
       "<style scoped>\n",
       "    .dataframe tbody tr th:only-of-type {\n",
       "        vertical-align: middle;\n",
       "    }\n",
       "\n",
       "    .dataframe tbody tr th {\n",
       "        vertical-align: top;\n",
       "    }\n",
       "\n",
       "    .dataframe thead th {\n",
       "        text-align: right;\n",
       "    }\n",
       "</style>\n",
       "<table border=\"1\" class=\"dataframe\">\n",
       "  <thead>\n",
       "    <tr style=\"text-align: right;\">\n",
       "      <th></th>\n",
       "      <th>SNo</th>\n",
       "      <th>Confirmed</th>\n",
       "      <th>Deaths</th>\n",
       "      <th>Recovered</th>\n",
       "    </tr>\n",
       "    <tr>\n",
       "      <th>Date</th>\n",
       "      <th></th>\n",
       "      <th></th>\n",
       "      <th></th>\n",
       "      <th></th>\n",
       "    </tr>\n",
       "  </thead>\n",
       "  <tbody>\n",
       "    <tr>\n",
       "      <th>01/22/2020</th>\n",
       "      <td>741</td>\n",
       "      <td>555.0</td>\n",
       "      <td>17.0</td>\n",
       "      <td>28.0</td>\n",
       "    </tr>\n",
       "    <tr>\n",
       "      <th>01/23/2020</th>\n",
       "      <td>2829</td>\n",
       "      <td>653.0</td>\n",
       "      <td>18.0</td>\n",
       "      <td>30.0</td>\n",
       "    </tr>\n",
       "    <tr>\n",
       "      <th>01/24/2020</th>\n",
       "      <td>4305</td>\n",
       "      <td>941.0</td>\n",
       "      <td>26.0</td>\n",
       "      <td>36.0</td>\n",
       "    </tr>\n",
       "    <tr>\n",
       "      <th>01/25/2020</th>\n",
       "      <td>6490</td>\n",
       "      <td>1438.0</td>\n",
       "      <td>42.0</td>\n",
       "      <td>39.0</td>\n",
       "    </tr>\n",
       "    <tr>\n",
       "      <th>01/26/2020</th>\n",
       "      <td>9071</td>\n",
       "      <td>2118.0</td>\n",
       "      <td>56.0</td>\n",
       "      <td>52.0</td>\n",
       "    </tr>\n",
       "    <tr>\n",
       "      <th>...</th>\n",
       "      <td>...</td>\n",
       "      <td>...</td>\n",
       "      <td>...</td>\n",
       "      <td>...</td>\n",
       "    </tr>\n",
       "    <tr>\n",
       "      <th>06/06/2020</th>\n",
       "      <td>24780294</td>\n",
       "      <td>6896917.0</td>\n",
       "      <td>399999.0</td>\n",
       "      <td>3085833.0</td>\n",
       "    </tr>\n",
       "    <tr>\n",
       "      <th>06/07/2020</th>\n",
       "      <td>25248150</td>\n",
       "      <td>7010582.0</td>\n",
       "      <td>402744.0</td>\n",
       "      <td>3140920.0</td>\n",
       "    </tr>\n",
       "    <tr>\n",
       "      <th>06/08/2020</th>\n",
       "      <td>25716006</td>\n",
       "      <td>7119002.0</td>\n",
       "      <td>406543.0</td>\n",
       "      <td>3293408.0</td>\n",
       "    </tr>\n",
       "    <tr>\n",
       "      <th>06/09/2020</th>\n",
       "      <td>26183862</td>\n",
       "      <td>7242235.0</td>\n",
       "      <td>411436.0</td>\n",
       "      <td>3375668.0</td>\n",
       "    </tr>\n",
       "    <tr>\n",
       "      <th>06/10/2020</th>\n",
       "      <td>28264125</td>\n",
       "      <td>7360239.0</td>\n",
       "      <td>416201.0</td>\n",
       "      <td>3454807.0</td>\n",
       "    </tr>\n",
       "  </tbody>\n",
       "</table>\n",
       "<p>141 rows × 4 columns</p>\n",
       "</div>"
      ],
      "text/plain": [
       "                 SNo  Confirmed    Deaths  Recovered\n",
       "Date                                                \n",
       "01/22/2020       741      555.0      17.0       28.0\n",
       "01/23/2020      2829      653.0      18.0       30.0\n",
       "01/24/2020      4305      941.0      26.0       36.0\n",
       "01/25/2020      6490     1438.0      42.0       39.0\n",
       "01/26/2020      9071     2118.0      56.0       52.0\n",
       "...              ...        ...       ...        ...\n",
       "06/06/2020  24780294  6896917.0  399999.0  3085833.0\n",
       "06/07/2020  25248150  7010582.0  402744.0  3140920.0\n",
       "06/08/2020  25716006  7119002.0  406543.0  3293408.0\n",
       "06/09/2020  26183862  7242235.0  411436.0  3375668.0\n",
       "06/10/2020  28264125  7360239.0  416201.0  3454807.0\n",
       "\n",
       "[141 rows x 4 columns]"
      ]
     },
     "execution_count": 10,
     "metadata": {},
     "output_type": "execute_result"
    }
   ],
   "source": [
    "df.groupby('Date').sum()"
   ]
  },
  {
   "cell_type": "markdown",
   "metadata": {},
   "source": [
    "## Summary Plot of Worldwide Cases - Confirmed, Deaths & Recovered"
   ]
  },
  {
   "cell_type": "code",
   "execution_count": 11,
   "metadata": {
    "_kg_hide-input": true
   },
   "outputs": [
    {
     "name": "stderr",
     "output_type": "stream",
     "text": [
      "<ipython-input-11-c140b9f511a6>:1: FutureWarning: The default value of numeric_only in DataFrameGroupBy.sum is deprecated. In a future version, numeric_only will default to False. Either specify numeric_only or select only columns which should be valid for the function.\n",
      "  confirmed = df.groupby('Date').sum()['Confirmed'].reset_index()\n",
      "<ipython-input-11-c140b9f511a6>:2: FutureWarning: The default value of numeric_only in DataFrameGroupBy.sum is deprecated. In a future version, numeric_only will default to False. Either specify numeric_only or select only columns which should be valid for the function.\n",
      "  deaths = df.groupby('Date').sum()['Deaths'].reset_index()\n",
      "<ipython-input-11-c140b9f511a6>:3: FutureWarning: The default value of numeric_only in DataFrameGroupBy.sum is deprecated. In a future version, numeric_only will default to False. Either specify numeric_only or select only columns which should be valid for the function.\n",
      "  recovered = df.groupby('Date').sum()['Recovered'].reset_index()\n"
     ]
    }
   ],
   "source": [
    "confirmed = df.groupby('Date').sum()['Confirmed'].reset_index()\n",
    "deaths = df.groupby('Date').sum()['Deaths'].reset_index()\n",
    "recovered = df.groupby('Date').sum()['Recovered'].reset_index()"
   ]
  },
  {
   "cell_type": "code",
   "execution_count": 12,
   "metadata": {
    "_kg_hide-input": true
   },
   "outputs": [],
   "source": [
    "# fig = go.Figure()\n",
    "# fig.add_trace(go.Bar(x=confirmed['Date'],\n",
    "#                 y=confirmed['Confirmed'],\n",
    "#                 name='Confirmed',\n",
    "#                 marker_color='blue'\n",
    "#                 ))\n",
    "# fig.add_trace(go.Bar(x=deaths['Date'],\n",
    "#                 y=deaths['Deaths'],\n",
    "#                 name='Deaths',\n",
    "#                 marker_color='Red'\n",
    "#                 ))\n",
    "# fig.add_trace(go.Bar(x=recovered['Date'],\n",
    "#                 y=recovered['Recovered'],\n",
    "#                 name='Recovered',\n",
    "#                 marker_color='Green'\n",
    "#                 ))\n",
    "\n",
    "# fig.update_layout(\n",
    "#     title='Worldwide Corona Virus Cases - Confirmed, Deaths, Recovered (Bar Chart)',\n",
    "#     xaxis_tickfont_size=14,\n",
    "#     yaxis=dict(\n",
    "#         title='Number of Cases',\n",
    "#         titlefont_size=16,\n",
    "#         tickfont_size=14,\n",
    "#     ),\n",
    "#     legend=dict(\n",
    "#         x=0,\n",
    "#         y=1.0,\n",
    "#         bgcolor='rgba(255, 255, 255, 0)',\n",
    "#         bordercolor='rgba(255, 255, 255, 0)'\n",
    "#     ),\n",
    "#     barmode='group',\n",
    "#     bargap=0.15, # gap between bars of adjacent location coordinates.\n",
    "#     bargroupgap=0.1 # gap between bars of the same location coordinate.\n",
    "# )\n",
    "# fig.show()"
   ]
  },
  {
   "cell_type": "code",
   "execution_count": 13,
   "metadata": {
    "_kg_hide-input": true
   },
   "outputs": [],
   "source": [
    "# fig = go.Figure()\n",
    "# fig.add_trace(go.Scatter(x=confirmed['Date'], \n",
    "#                          y=confirmed['Confirmed'],\n",
    "#                          mode='lines+markers',\n",
    "#                          name='Confirmed',\n",
    "#                          line=dict(color='blue', width=2)\n",
    "#                         ))\n",
    "# fig.add_trace(go.Scatter(x=deaths['Date'], \n",
    "#                          y=deaths['Deaths'],\n",
    "#                          mode='lines+markers',\n",
    "#                          name='Deaths',\n",
    "#                          line=dict(color='Red', width=2)\n",
    "#                         ))\n",
    "# fig.add_trace(go.Scatter(x=recovered['Date'], \n",
    "#                          y=recovered['Recovered'],\n",
    "#                          mode='lines+markers',\n",
    "#                          name='Recovered',\n",
    "#                          line=dict(color='Green', width=2)\n",
    "#                         ))\n",
    "# fig.update_layout(\n",
    "#     title='Worldwide Corona Virus Cases - Confirmed, Deaths, Recovered (Line Chart)',\n",
    "#     xaxis_tickfont_size=14,\n",
    "#     yaxis=dict(\n",
    "#         title='Number of Cases',\n",
    "#         titlefont_size=16,\n",
    "#         tickfont_size=14,\n",
    "#     ),\n",
    "#     legend=dict(\n",
    "#         x=0,\n",
    "#         y=1.0,\n",
    "#         bgcolor='rgba(255, 255, 255, 0)',\n",
    "#         bordercolor='rgba(255, 255, 255, 0)'\n",
    "#     )\n",
    "# )\n",
    "# fig.show()"
   ]
  },
  {
   "cell_type": "code",
   "execution_count": 14,
   "metadata": {
    "_kg_hide-input": true
   },
   "outputs": [],
   "source": [
    "df_confirmed = df_confirmed[[\"Province/State\",\"Lat\",\"Long\",\"Country\"]]\n",
    "df_temp = df.copy()\n",
    "df_temp['Country'].replace({'Mainland China': 'China'}, inplace=True)\n",
    "df_latlong = pd.merge(df_temp, df_confirmed, on=[\"Country\", \"Province/State\"])"
   ]
  },
  {
   "cell_type": "code",
   "execution_count": 15,
   "metadata": {
    "_kg_hide-input": true
   },
   "outputs": [],
   "source": [
    "# fig = px.density_mapbox(df_latlong, \n",
    "#                         lat=\"Lat\", \n",
    "#                         lon=\"Long\", \n",
    "#                         hover_name=\"Province/State\", \n",
    "#                         hover_data=[\"Confirmed\",\"Deaths\",\"Recovered\"], \n",
    "#                         animation_frame=\"Date\",\n",
    "#                         color_continuous_scale=\"Portland\",\n",
    "#                         radius=7, \n",
    "#                         zoom=0,height=700)\n",
    "# fig.update_layout(title='Worldwide Corona Virus Cases Time Lapse - Confirmed, Deaths, Recovered',\n",
    "#                   font=dict(family=\"Courier New, monospace\",\n",
    "#                             size=18,\n",
    "#                             color=\"#7f7f7f\")\n",
    "#                  )\n",
    "# fig.update_layout(mapbox_style=\"open-street-map\", mapbox_center_lon=0)\n",
    "# fig.update_layout(margin={\"r\":0,\"t\":0,\"l\":0,\"b\":0})\n",
    "\n",
    "\n",
    "# fig.show()"
   ]
  },
  {
   "cell_type": "markdown",
   "metadata": {},
   "source": [
    "## Analysis by Country\n",
    "\n",
    "We use Plotly (https://plot.ly/python/bubble-maps/) for the visuals\n",
    "\n",
    "### Latest Date in Data"
   ]
  },
  {
   "cell_type": "code",
   "execution_count": null,
   "metadata": {},
   "outputs": [],
   "source": [
    "df2 = df2.reset_index()"
   ]
  },
  {
   "cell_type": "code",
   "execution_count": 16,
   "metadata": {},
   "outputs": [
    {
     "name": "stderr",
     "output_type": "stream",
     "text": [
      "<ipython-input-16-03443cefe432>:1: FutureWarning: The default value of numeric_only in DataFrameGroupBy.sum is deprecated. In a future version, numeric_only will default to False. Either specify numeric_only or select only columns which should be valid for the function.\n",
      "  confirmed = df2.groupby(['Date', 'Country']).sum()[['Confirmed']].reset_index()\n",
      "<ipython-input-16-03443cefe432>:2: FutureWarning: The default value of numeric_only in DataFrameGroupBy.sum is deprecated. In a future version, numeric_only will default to False. Either specify numeric_only or select only columns which should be valid for the function.\n",
      "  deaths = df2.groupby(['Date', 'Country']).sum()[['Deaths']].reset_index()\n",
      "<ipython-input-16-03443cefe432>:3: FutureWarning: The default value of numeric_only in DataFrameGroupBy.sum is deprecated. In a future version, numeric_only will default to False. Either specify numeric_only or select only columns which should be valid for the function.\n",
      "  recovered = df2.groupby(['Date', 'Country']).sum()[['Recovered']].reset_index()\n"
     ]
    }
   ],
   "source": [
    "confirmed = df2.groupby(['Date', 'Country']).sum()[['Confirmed']].reset_index()\n",
    "deaths = df2.groupby(['Date', 'Country']).sum()[['Deaths']].reset_index()\n",
    "recovered = df2.groupby(['Date', 'Country']).sum()[['Recovered']].reset_index()"
   ]
  },
  {
   "cell_type": "code",
   "execution_count": 17,
   "metadata": {
    "_kg_hide-input": true
   },
   "outputs": [
    {
     "data": {
      "text/plain": [
       "'06/10/2020'"
      ]
     },
     "execution_count": 17,
     "metadata": {},
     "output_type": "execute_result"
    }
   ],
   "source": [
    "latest_date = confirmed['Date'].max()\n",
    "latest_date"
   ]
  },
  {
   "cell_type": "code",
   "execution_count": 18,
   "metadata": {
    "_kg_hide-input": true
   },
   "outputs": [],
   "source": [
    "confirmed = confirmed[(confirmed['Date']==latest_date)][['Country', 'Confirmed']]\n",
    "deaths = deaths[(deaths['Date']==latest_date)][['Country', 'Deaths']]\n",
    "recovered = recovered[(recovered['Date']==latest_date)][['Country', 'Recovered']]"
   ]
  },
  {
   "cell_type": "markdown",
   "metadata": {},
   "source": [
    "### Countries/Regions Affected"
   ]
  },
  {
   "cell_type": "code",
   "execution_count": 19,
   "metadata": {
    "_kg_hide-input": true
   },
   "outputs": [
    {
     "name": "stdout",
     "output_type": "stream",
     "text": [
      "Number of countries/regions with cases: 24\n",
      "Countries/Regions with cases: \n",
      "    Australia\n",
      "    Brazil\n",
      "    Canada\n",
      "    Chile\n",
      "    Colombia\n",
      "    Denmark\n",
      "    France\n",
      "    Germany\n",
      "    Hong Kong\n",
      "    India\n",
      "    Italy\n",
      "    Japan\n",
      "    Macau\n",
      "    Mainland China\n",
      "    Mexico\n",
      "    Netherlands\n",
      "    Pakistan\n",
      "    Peru\n",
      "    Russia\n",
      "    Spain\n",
      "    Sweden\n",
      "    UK\n",
      "    US\n",
      "    Ukraine\n"
     ]
    }
   ],
   "source": [
    "all_countries = confirmed['Country'].unique()\n",
    "print(\"Number of countries/regions with cases: \" + str(len(all_countries)))\n",
    "print(\"Countries/Regions with cases: \")\n",
    "for i in all_countries:\n",
    "    print(\"    \" + str(i))"
   ]
  },
  {
   "cell_type": "markdown",
   "metadata": {},
   "source": [
    "We need to do some processing to the country names for this bubble plot as some of the countries are not found in `pycountry.countries` although they are, just that its due to them being listed acronyms and with additional words, such as Mainland China instead of China."
   ]
  },
  {
   "cell_type": "code",
   "execution_count": 20,
   "metadata": {
    "_kg_hide-input": false
   },
   "outputs": [
    {
     "name": "stdout",
     "output_type": "stream",
     "text": [
      "['Aruba', 'Afghanistan', 'Angola', 'Anguilla', 'Åland Islands', 'Albania', 'Andorra', 'United Arab Emirates', 'Argentina', 'Armenia', 'American Samoa', 'Antarctica', 'French Southern Territories', 'Antigua and Barbuda', 'Australia', 'Austria', 'Azerbaijan', 'Burundi', 'Belgium', 'Benin', 'Bonaire, Sint Eustatius and Saba', 'Burkina Faso', 'Bangladesh', 'Bulgaria', 'Bahrain', 'Bahamas', 'Bosnia and Herzegovina', 'Saint Barthélemy', 'Belarus', 'Belize', 'Bermuda', 'Bolivia, Plurinational State of', 'Brazil', 'Barbados', 'Brunei Darussalam', 'Bhutan', 'Bouvet Island', 'Botswana', 'Central African Republic', 'Canada', 'Cocos (Keeling) Islands', 'Switzerland', 'Chile', 'China', \"Côte d'Ivoire\", 'Cameroon', 'Congo, The Democratic Republic of the', 'Congo', 'Cook Islands', 'Colombia', 'Comoros', 'Cabo Verde', 'Costa Rica', 'Cuba', 'Curaçao', 'Christmas Island', 'Cayman Islands', 'Cyprus', 'Czechia', 'Germany', 'Djibouti', 'Dominica', 'Denmark', 'Dominican Republic', 'Algeria', 'Ecuador', 'Egypt', 'Eritrea', 'Western Sahara', 'Spain', 'Estonia', 'Ethiopia', 'Finland', 'Fiji', 'Falkland Islands (Malvinas)', 'France', 'Faroe Islands', 'Micronesia, Federated States of', 'Gabon', 'United Kingdom', 'Georgia', 'Guernsey', 'Ghana', 'Gibraltar', 'Guinea', 'Guadeloupe', 'Gambia', 'Guinea-Bissau', 'Equatorial Guinea', 'Greece', 'Grenada', 'Greenland', 'Guatemala', 'French Guiana', 'Guam', 'Guyana', 'Hong Kong', 'Heard Island and McDonald Islands', 'Honduras', 'Croatia', 'Haiti', 'Hungary', 'Indonesia', 'Isle of Man', 'India', 'British Indian Ocean Territory', 'Ireland', 'Iran, Islamic Republic of', 'Iraq', 'Iceland', 'Israel', 'Italy', 'Jamaica', 'Jersey', 'Jordan', 'Japan', 'Kazakhstan', 'Kenya', 'Kyrgyzstan', 'Cambodia', 'Kiribati', 'Saint Kitts and Nevis', 'Korea, Republic of', 'Kuwait', \"Lao People's Democratic Republic\", 'Lebanon', 'Liberia', 'Libya', 'Saint Lucia', 'Liechtenstein', 'Sri Lanka', 'Lesotho', 'Lithuania', 'Luxembourg', 'Latvia', 'Macao', 'Saint Martin (French part)', 'Morocco', 'Monaco', 'Moldova, Republic of', 'Madagascar', 'Maldives', 'Mexico', 'Marshall Islands', 'North Macedonia', 'Mali', 'Malta', 'Myanmar', 'Montenegro', 'Mongolia', 'Northern Mariana Islands', 'Mozambique', 'Mauritania', 'Montserrat', 'Martinique', 'Mauritius', 'Malawi', 'Malaysia', 'Mayotte', 'Namibia', 'New Caledonia', 'Niger', 'Norfolk Island', 'Nigeria', 'Nicaragua', 'Niue', 'Netherlands', 'Norway', 'Nepal', 'Nauru', 'New Zealand', 'Oman', 'Pakistan', 'Panama', 'Pitcairn', 'Peru', 'Philippines', 'Palau', 'Papua New Guinea', 'Poland', 'Puerto Rico', \"Korea, Democratic People's Republic of\", 'Portugal', 'Paraguay', 'Palestine, State of', 'French Polynesia', 'Qatar', 'Réunion', 'Romania', 'Russian Federation', 'Rwanda', 'Saudi Arabia', 'Sudan', 'Senegal', 'Singapore', 'South Georgia and the South Sandwich Islands', 'Saint Helena, Ascension and Tristan da Cunha', 'Svalbard and Jan Mayen', 'Solomon Islands', 'Sierra Leone', 'El Salvador', 'San Marino', 'Somalia', 'Saint Pierre and Miquelon', 'Serbia', 'South Sudan', 'Sao Tome and Principe', 'Suriname', 'Slovakia', 'Slovenia', 'Sweden', 'Eswatini', 'Sint Maarten (Dutch part)', 'Seychelles', 'Syrian Arab Republic', 'Turks and Caicos Islands', 'Chad', 'Togo', 'Thailand', 'Tajikistan', 'Tokelau', 'Turkmenistan', 'Timor-Leste', 'Tonga', 'Trinidad and Tobago', 'Tunisia', 'Turkey', 'Tuvalu', 'Taiwan, Province of China', 'Tanzania, United Republic of', 'Uganda', 'Ukraine', 'United States Minor Outlying Islands', 'Uruguay', 'United States', 'Uzbekistan', 'Holy See (Vatican City State)', 'Saint Vincent and the Grenadines', 'Venezuela, Bolivarian Republic of', 'Virgin Islands, British', 'Virgin Islands, U.S.', 'Viet Nam', 'Vanuatu', 'Wallis and Futuna', 'Samoa', 'Yemen', 'South Africa', 'Zambia', 'Zimbabwe']\n"
     ]
    }
   ],
   "source": [
    "print(list(country.name for country in pycountry.countries))"
   ]
  },
  {
   "cell_type": "code",
   "execution_count": 21,
   "metadata": {
    "_kg_hide-input": false,
    "_kg_hide-output": false
   },
   "outputs": [
    {
     "name": "stdout",
     "output_type": "stream",
     "text": [
      "False\n",
      "True\n"
     ]
    }
   ],
   "source": [
    "print('UK' in list(country.name for country in pycountry.countries))\n",
    "print('United Kingdom' in list(country.name for country in pycountry.countries))"
   ]
  },
  {
   "cell_type": "code",
   "execution_count": 22,
   "metadata": {
    "_kg_hide-input": true
   },
   "outputs": [],
   "source": [
    "confirmed2 = confirmed.copy()\n",
    "deaths2 = deaths.copy()\n",
    "recovered2 = recovered.copy()\n",
    "bubble_plot_dfs = [confirmed2, deaths2, recovered2]\n",
    "for df_ in bubble_plot_dfs:\n",
    "    df_[\"Country\"].replace({'Mainland China': 'China'}, inplace=True)\n",
    "    df_[\"Country\"].replace({'UK': 'United Kingdom'}, inplace=True)\n",
    "    df_[\"Country\"].replace({'US': 'United States'}, inplace=True)"
   ]
  },
  {
   "cell_type": "code",
   "execution_count": 23,
   "metadata": {
    "_kg_hide-input": true
   },
   "outputs": [],
   "source": [
    "countries = {}\n",
    "for country in pycountry.countries:\n",
    "    countries[country.name] = country.alpha_3\n",
    "    \n",
    "confirmed2[\"iso_alpha\"] = confirmed2[\"Country\"].map(countries.get)\n",
    "deaths2[\"iso_alpha\"] = deaths2[\"Country\"].map(countries.get)\n",
    "recovered2[\"iso_alpha\"] = recovered2[\"Country\"].map(countries.get)"
   ]
  },
  {
   "cell_type": "code",
   "execution_count": 24,
   "metadata": {
    "_kg_hide-input": true
   },
   "outputs": [],
   "source": [
    "plot_data_confirmed = confirmed2[[\"iso_alpha\",\"Confirmed\", \"Country\"]]\n",
    "plot_data_deaths = deaths2[[\"iso_alpha\",\"Deaths\"]]\n",
    "plot_data_recovered = recovered2[[\"iso_alpha\",\"Recovered\"]]"
   ]
  },
  {
   "cell_type": "code",
   "execution_count": 25,
   "metadata": {
    "_kg_hide-input": true
   },
   "outputs": [],
   "source": [
    "# fig = px.scatter_geo(plot_data_confirmed, locations=\"iso_alpha\", color=\"Country\",\n",
    "#                      hover_name=\"iso_alpha\", size=\"Confirmed\",\n",
    "#                      projection=\"natural earth\", title = 'Worldwide Confirmed Cases')\n",
    "# fig.show()"
   ]
  },
  {
   "cell_type": "code",
   "execution_count": 26,
   "metadata": {
    "_kg_hide-input": true
   },
   "outputs": [],
   "source": [
    "# fig = px.scatter_geo(plot_data_deaths, locations=\"iso_alpha\", color=\"Deaths\",\n",
    "#                      hover_name=\"iso_alpha\", size=\"Deaths\",\n",
    "#                      projection=\"natural earth\", title=\"Worldwide Death Cases\")\n",
    "# fig.show()"
   ]
  },
  {
   "cell_type": "code",
   "execution_count": 27,
   "metadata": {
    "_kg_hide-input": true
   },
   "outputs": [],
   "source": [
    "# fig = px.scatter_geo(plot_data_recovered, locations=\"iso_alpha\", color=\"Recovered\",\n",
    "#                      hover_name=\"iso_alpha\", size=\"Recovered\",\n",
    "#                      projection=\"natural earth\", title=\"Worldwide Recovered Cases\")\n",
    "# fig.show()"
   ]
  },
  {
   "cell_type": "markdown",
   "metadata": {},
   "source": [
    "## Transforming Data for Forecasting"
   ]
  },
  {
   "cell_type": "code",
   "execution_count": 28,
   "metadata": {
    "_kg_hide-input": true
   },
   "outputs": [
    {
     "name": "stderr",
     "output_type": "stream",
     "text": [
      "<ipython-input-28-c140b9f511a6>:1: FutureWarning: The default value of numeric_only in DataFrameGroupBy.sum is deprecated. In a future version, numeric_only will default to False. Either specify numeric_only or select only columns which should be valid for the function.\n",
      "  confirmed = df.groupby('Date').sum()['Confirmed'].reset_index()\n",
      "<ipython-input-28-c140b9f511a6>:2: FutureWarning: The default value of numeric_only in DataFrameGroupBy.sum is deprecated. In a future version, numeric_only will default to False. Either specify numeric_only or select only columns which should be valid for the function.\n",
      "  deaths = df.groupby('Date').sum()['Deaths'].reset_index()\n",
      "<ipython-input-28-c140b9f511a6>:3: FutureWarning: The default value of numeric_only in DataFrameGroupBy.sum is deprecated. In a future version, numeric_only will default to False. Either specify numeric_only or select only columns which should be valid for the function.\n",
      "  recovered = df.groupby('Date').sum()['Recovered'].reset_index()\n"
     ]
    }
   ],
   "source": [
    "confirmed = df.groupby('Date').sum()['Confirmed'].reset_index()\n",
    "deaths = df.groupby('Date').sum()['Deaths'].reset_index()\n",
    "recovered = df.groupby('Date').sum()['Recovered'].reset_index()"
   ]
  },
  {
   "cell_type": "code",
   "execution_count": 29,
   "metadata": {
    "_kg_hide-input": true
   },
   "outputs": [],
   "source": [
    "confirmed.columns = ['ds','y']\n",
    "#confirmed['ds'] = confirmed['ds'].dt.date\n",
    "confirmed['ds'] = pd.to_datetime(confirmed['ds'])"
   ]
  },
  {
   "cell_type": "code",
   "execution_count": 30,
   "metadata": {
    "_kg_hide-input": true,
    "_kg_hide-output": false
   },
   "outputs": [
    {
     "data": {
      "text/html": [
       "<div>\n",
       "<style scoped>\n",
       "    .dataframe tbody tr th:only-of-type {\n",
       "        vertical-align: middle;\n",
       "    }\n",
       "\n",
       "    .dataframe tbody tr th {\n",
       "        vertical-align: top;\n",
       "    }\n",
       "\n",
       "    .dataframe thead th {\n",
       "        text-align: right;\n",
       "    }\n",
       "</style>\n",
       "<table border=\"1\" class=\"dataframe\">\n",
       "  <thead>\n",
       "    <tr style=\"text-align: right;\">\n",
       "      <th></th>\n",
       "      <th>ds</th>\n",
       "      <th>y</th>\n",
       "    </tr>\n",
       "  </thead>\n",
       "  <tbody>\n",
       "    <tr>\n",
       "      <th>0</th>\n",
       "      <td>2020-01-22</td>\n",
       "      <td>555.0</td>\n",
       "    </tr>\n",
       "    <tr>\n",
       "      <th>1</th>\n",
       "      <td>2020-01-23</td>\n",
       "      <td>653.0</td>\n",
       "    </tr>\n",
       "    <tr>\n",
       "      <th>2</th>\n",
       "      <td>2020-01-24</td>\n",
       "      <td>941.0</td>\n",
       "    </tr>\n",
       "    <tr>\n",
       "      <th>3</th>\n",
       "      <td>2020-01-25</td>\n",
       "      <td>1438.0</td>\n",
       "    </tr>\n",
       "    <tr>\n",
       "      <th>4</th>\n",
       "      <td>2020-01-26</td>\n",
       "      <td>2118.0</td>\n",
       "    </tr>\n",
       "  </tbody>\n",
       "</table>\n",
       "</div>"
      ],
      "text/plain": [
       "          ds       y\n",
       "0 2020-01-22   555.0\n",
       "1 2020-01-23   653.0\n",
       "2 2020-01-24   941.0\n",
       "3 2020-01-25  1438.0\n",
       "4 2020-01-26  2118.0"
      ]
     },
     "execution_count": 30,
     "metadata": {},
     "output_type": "execute_result"
    }
   ],
   "source": [
    "confirmed.head()"
   ]
  },
  {
   "cell_type": "markdown",
   "metadata": {},
   "source": [
    "# Forecasting Total Number of Cases Worldwide\n",
    "\n",
    "## Prophet\n",
    "\n",
    "We use Prophet, a procedure for forecasting time series data based on an additive model where non-linear trends are fit with yearly, weekly, and daily seasonality, plus holiday effects. It works best with time series that have strong seasonal effects and several seasons of historical data. Prophet is robust to missing data and shifts in the trend, and typically handles outliers well. It is also an open source software released by Facebook’s Core Data Science team. It is available for download on CRAN and PyPI.\n",
    "\n",
    "## Why Prophet?\n",
    "\n",
    "Prophet is easy to customize and use, and to produce accurate forecasts which can be explained intuitively with supporting evidence such as forecast seasonality components. It allows the analyst to explain in an intuitive and convinving manner to higher management as to why the forecasts are as such, and the plausible underlying factors that contribute to its result. Furthermore, it is also open-source! :)\n",
    "\n",
    "## References \n",
    "- https://facebook.github.io/prophet/\n",
    "- https://facebook.github.io/prophet/docs/\n",
    "- https://github.com/facebook/prophet"
   ]
  },
  {
   "cell_type": "markdown",
   "metadata": {},
   "source": [
    "## Forecasting Confirmed Cases Worldwide with Prophet (Baseline)\n",
    "\n",
    "We perform a week's ahead forecast with Prophet, with 95% prediction intervals. Here, no tweaking of seasonality-related parameters and additional regressors are performed."
   ]
  },
  {
   "cell_type": "code",
   "execution_count": 31,
   "metadata": {
    "_kg_hide-input": true,
    "_kg_hide-output": true
   },
   "outputs": [
    {
     "ename": "NameError",
     "evalue": "name 'Prophet' is not defined",
     "output_type": "error",
     "traceback": [
      "\u001b[0;31m---------------------------------------------------------------------------\u001b[0m",
      "\u001b[0;31mNameError\u001b[0m                                 Traceback (most recent call last)",
      "\u001b[0;32m<ipython-input-31-6ce4ae6ff5f2>\u001b[0m in \u001b[0;36m<module>\u001b[0;34m\u001b[0m\n\u001b[0;32m----> 1\u001b[0;31m \u001b[0mm\u001b[0m \u001b[0;34m=\u001b[0m \u001b[0mProphet\u001b[0m\u001b[0;34m(\u001b[0m\u001b[0minterval_width\u001b[0m\u001b[0;34m=\u001b[0m\u001b[0;36m0.95\u001b[0m\u001b[0;34m)\u001b[0m\u001b[0;34m\u001b[0m\u001b[0;34m\u001b[0m\u001b[0m\n\u001b[0m\u001b[1;32m      2\u001b[0m \u001b[0mm\u001b[0m\u001b[0;34m.\u001b[0m\u001b[0mfit\u001b[0m\u001b[0;34m(\u001b[0m\u001b[0mconfirmed\u001b[0m\u001b[0;34m)\u001b[0m\u001b[0;34m\u001b[0m\u001b[0;34m\u001b[0m\u001b[0m\n\u001b[1;32m      3\u001b[0m \u001b[0mfuture\u001b[0m \u001b[0;34m=\u001b[0m \u001b[0mm\u001b[0m\u001b[0;34m.\u001b[0m\u001b[0mmake_future_dataframe\u001b[0m\u001b[0;34m(\u001b[0m\u001b[0mperiods\u001b[0m\u001b[0;34m=\u001b[0m\u001b[0;36m7\u001b[0m\u001b[0;34m)\u001b[0m\u001b[0;34m\u001b[0m\u001b[0;34m\u001b[0m\u001b[0m\n\u001b[1;32m      4\u001b[0m \u001b[0mfuture_confirmed\u001b[0m \u001b[0;34m=\u001b[0m \u001b[0mfuture\u001b[0m\u001b[0;34m.\u001b[0m\u001b[0mcopy\u001b[0m\u001b[0;34m(\u001b[0m\u001b[0;34m)\u001b[0m \u001b[0;31m# for non-baseline predictions later on\u001b[0m\u001b[0;34m\u001b[0m\u001b[0;34m\u001b[0m\u001b[0m\n\u001b[1;32m      5\u001b[0m \u001b[0mfuture\u001b[0m\u001b[0;34m.\u001b[0m\u001b[0mtail\u001b[0m\u001b[0;34m(\u001b[0m\u001b[0;34m)\u001b[0m\u001b[0;34m\u001b[0m\u001b[0;34m\u001b[0m\u001b[0m\n",
      "\u001b[0;31mNameError\u001b[0m: name 'Prophet' is not defined"
     ]
    }
   ],
   "source": [
    "# m = Prophet(interval_width=0.95)\n",
    "# m.fit(confirmed)\n",
    "# future = m.make_future_dataframe(periods=7)\n",
    "# future_confirmed = future.copy() # for non-baseline predictions later on\n",
    "# future.tail()"
   ]
  },
  {
   "cell_type": "code",
   "execution_count": 32,
   "metadata": {
    "_kg_hide-input": true,
    "_kg_hide-output": true
   },
   "outputs": [
    {
     "data": {
      "text/html": [
       "<div>\n",
       "<style scoped>\n",
       "    .dataframe tbody tr th:only-of-type {\n",
       "        vertical-align: middle;\n",
       "    }\n",
       "\n",
       "    .dataframe tbody tr th {\n",
       "        vertical-align: top;\n",
       "    }\n",
       "\n",
       "    .dataframe thead th {\n",
       "        text-align: right;\n",
       "    }\n",
       "</style>\n",
       "<table border=\"1\" class=\"dataframe\">\n",
       "  <thead>\n",
       "    <tr style=\"text-align: right;\">\n",
       "      <th></th>\n",
       "      <th>ds</th>\n",
       "      <th>yhat</th>\n",
       "      <th>yhat_lower</th>\n",
       "      <th>yhat_upper</th>\n",
       "    </tr>\n",
       "  </thead>\n",
       "  <tbody>\n",
       "    <tr>\n",
       "      <th>143</th>\n",
       "      <td>2020-06-13</td>\n",
       "      <td>7.578970e+06</td>\n",
       "      <td>7.520471e+06</td>\n",
       "      <td>7.636156e+06</td>\n",
       "    </tr>\n",
       "    <tr>\n",
       "      <th>144</th>\n",
       "      <td>2020-06-14</td>\n",
       "      <td>7.682422e+06</td>\n",
       "      <td>7.623995e+06</td>\n",
       "      <td>7.745819e+06</td>\n",
       "    </tr>\n",
       "    <tr>\n",
       "      <th>145</th>\n",
       "      <td>2020-06-15</td>\n",
       "      <td>7.782925e+06</td>\n",
       "      <td>7.717268e+06</td>\n",
       "      <td>7.849877e+06</td>\n",
       "    </tr>\n",
       "    <tr>\n",
       "      <th>146</th>\n",
       "      <td>2020-06-16</td>\n",
       "      <td>7.887346e+06</td>\n",
       "      <td>7.817621e+06</td>\n",
       "      <td>7.953485e+06</td>\n",
       "    </tr>\n",
       "    <tr>\n",
       "      <th>147</th>\n",
       "      <td>2020-06-17</td>\n",
       "      <td>7.993367e+06</td>\n",
       "      <td>7.917455e+06</td>\n",
       "      <td>8.073574e+06</td>\n",
       "    </tr>\n",
       "  </tbody>\n",
       "</table>\n",
       "</div>"
      ],
      "text/plain": [
       "            ds          yhat    yhat_lower    yhat_upper\n",
       "143 2020-06-13  7.578970e+06  7.520471e+06  7.636156e+06\n",
       "144 2020-06-14  7.682422e+06  7.623995e+06  7.745819e+06\n",
       "145 2020-06-15  7.782925e+06  7.717268e+06  7.849877e+06\n",
       "146 2020-06-16  7.887346e+06  7.817621e+06  7.953485e+06\n",
       "147 2020-06-17  7.993367e+06  7.917455e+06  8.073574e+06"
      ]
     },
     "execution_count": 32,
     "metadata": {},
     "output_type": "execute_result"
    }
   ],
   "source": [
    "# forecast = m.predict(future)\n",
    "# forecast[['ds', 'yhat', 'yhat_lower', 'yhat_upper']].tail()"
   ]
  },
  {
   "cell_type": "code",
   "execution_count": 33,
   "metadata": {
    "_kg_hide-input": true
   },
   "outputs": [
    {
     "data": {
      "image/png": "[encoded data removed]",
      "text/plain": [
       "<Figure size 720x432 with 1 Axes>"
      ]
     },
     "metadata": {},
     "output_type": "display_data"
    }
   ],
   "source": [
    "# confirmed_forecast_plot = m.plot(forecast)"
   ]
  },
  {
   "cell_type": "code",
   "execution_count": 34,
   "metadata": {
    "_kg_hide-input": true
   },
   "outputs": [
    {
     "data": {
      "image/png": "[encoded data removed]",
      "text/plain": [
       "<Figure size 648x432 with 2 Axes>"
      ]
     },
     "metadata": {},
     "output_type": "display_data"
    }
   ],
   "source": [
    "# forecast_components = m.plot_components(forecast)"
   ]
  },
  {
   "cell_type": "markdown",
   "metadata": {},
   "source": [
    "## Forecasting Deaths Worldwide with Prophet (Baseline)\n",
    "\n",
    "We perform a week's ahead forecast with Prophet, with 95% prediction intervals. Here, no tweaking of seasonality-related parameters and additional regressors are performed."
   ]
  },
  {
   "cell_type": "code",
   "execution_count": 32,
   "metadata": {
    "_kg_hide-input": true
   },
   "outputs": [],
   "source": [
    "deaths.columns = ['ds','y']\n",
    "deaths['ds'] = pd.to_datetime(deaths['ds'])"
   ]
  },
  {
   "cell_type": "code",
   "execution_count": 36,
   "metadata": {
    "_kg_hide-input": true
   },
   "outputs": [
    {
     "data": {
      "text/html": [
       "<div>\n",
       "<style scoped>\n",
       "    .dataframe tbody tr th:only-of-type {\n",
       "        vertical-align: middle;\n",
       "    }\n",
       "\n",
       "    .dataframe tbody tr th {\n",
       "        vertical-align: top;\n",
       "    }\n",
       "\n",
       "    .dataframe thead th {\n",
       "        text-align: right;\n",
       "    }\n",
       "</style>\n",
       "<table border=\"1\" class=\"dataframe\">\n",
       "  <thead>\n",
       "    <tr style=\"text-align: right;\">\n",
       "      <th></th>\n",
       "      <th>ds</th>\n",
       "    </tr>\n",
       "  </thead>\n",
       "  <tbody>\n",
       "    <tr>\n",
       "      <th>143</th>\n",
       "      <td>2020-06-13</td>\n",
       "    </tr>\n",
       "    <tr>\n",
       "      <th>144</th>\n",
       "      <td>2020-06-14</td>\n",
       "    </tr>\n",
       "    <tr>\n",
       "      <th>145</th>\n",
       "      <td>2020-06-15</td>\n",
       "    </tr>\n",
       "    <tr>\n",
       "      <th>146</th>\n",
       "      <td>2020-06-16</td>\n",
       "    </tr>\n",
       "    <tr>\n",
       "      <th>147</th>\n",
       "      <td>2020-06-17</td>\n",
       "    </tr>\n",
       "  </tbody>\n",
       "</table>\n",
       "</div>"
      ],
      "text/plain": [
       "            ds\n",
       "143 2020-06-13\n",
       "144 2020-06-14\n",
       "145 2020-06-15\n",
       "146 2020-06-16\n",
       "147 2020-06-17"
      ]
     },
     "execution_count": 36,
     "metadata": {},
     "output_type": "execute_result"
    }
   ],
   "source": [
    "# m = Prophet(interval_width=0.95)\n",
    "# m.fit(deaths)\n",
    "# future = m.make_future_dataframe(periods=7)\n",
    "# future_deaths = future.copy() # for non-baseline predictions later on\n",
    "# future.tail()"
   ]
  },
  {
   "cell_type": "code",
   "execution_count": 37,
   "metadata": {
    "_kg_hide-input": true
   },
   "outputs": [
    {
     "data": {
      "text/html": [
       "<div>\n",
       "<style scoped>\n",
       "    .dataframe tbody tr th:only-of-type {\n",
       "        vertical-align: middle;\n",
       "    }\n",
       "\n",
       "    .dataframe tbody tr th {\n",
       "        vertical-align: top;\n",
       "    }\n",
       "\n",
       "    .dataframe thead th {\n",
       "        text-align: right;\n",
       "    }\n",
       "</style>\n",
       "<table border=\"1\" class=\"dataframe\">\n",
       "  <thead>\n",
       "    <tr style=\"text-align: right;\">\n",
       "      <th></th>\n",
       "      <th>ds</th>\n",
       "      <th>yhat</th>\n",
       "      <th>yhat_lower</th>\n",
       "      <th>yhat_upper</th>\n",
       "    </tr>\n",
       "  </thead>\n",
       "  <tbody>\n",
       "    <tr>\n",
       "      <th>143</th>\n",
       "      <td>2020-06-13</td>\n",
       "      <td>428818.222675</td>\n",
       "      <td>426729.744585</td>\n",
       "      <td>431106.492410</td>\n",
       "    </tr>\n",
       "    <tr>\n",
       "      <th>144</th>\n",
       "      <td>2020-06-14</td>\n",
       "      <td>432292.502398</td>\n",
       "      <td>429537.399420</td>\n",
       "      <td>435150.972568</td>\n",
       "    </tr>\n",
       "    <tr>\n",
       "      <th>145</th>\n",
       "      <td>2020-06-15</td>\n",
       "      <td>435762.110160</td>\n",
       "      <td>432171.449218</td>\n",
       "      <td>439573.492427</td>\n",
       "    </tr>\n",
       "    <tr>\n",
       "      <th>146</th>\n",
       "      <td>2020-06-16</td>\n",
       "      <td>440156.423145</td>\n",
       "      <td>435553.558264</td>\n",
       "      <td>445389.991865</td>\n",
       "    </tr>\n",
       "    <tr>\n",
       "      <th>147</th>\n",
       "      <td>2020-06-17</td>\n",
       "      <td>444967.163381</td>\n",
       "      <td>439291.395862</td>\n",
       "      <td>451501.355514</td>\n",
       "    </tr>\n",
       "  </tbody>\n",
       "</table>\n",
       "</div>"
      ],
      "text/plain": [
       "            ds           yhat     yhat_lower     yhat_upper\n",
       "143 2020-06-13  428818.222675  426729.744585  431106.492410\n",
       "144 2020-06-14  432292.502398  429537.399420  435150.972568\n",
       "145 2020-06-15  435762.110160  432171.449218  439573.492427\n",
       "146 2020-06-16  440156.423145  435553.558264  445389.991865\n",
       "147 2020-06-17  444967.163381  439291.395862  451501.355514"
      ]
     },
     "execution_count": 37,
     "metadata": {},
     "output_type": "execute_result"
    }
   ],
   "source": [
    "# forecast = m.predict(future)\n",
    "# forecast[['ds', 'yhat', 'yhat_lower', 'yhat_upper']].tail()"
   ]
  },
  {
   "cell_type": "code",
   "execution_count": 38,
   "metadata": {
    "_kg_hide-input": true
   },
   "outputs": [
    {
     "data": {
      "image/png": "[encoded data removed]",
      "text/plain": [
       "<Figure size 720x432 with 1 Axes>"
      ]
     },
     "metadata": {},
     "output_type": "display_data"
    }
   ],
   "source": [
    "# deaths_forecast_plot = m.plot(forecast)"
   ]
  },
  {
   "cell_type": "code",
   "execution_count": 39,
   "metadata": {
    "_kg_hide-input": true
   },
   "outputs": [
    {
     "data": {
      "image/png": "[encoded data removed]",
      "text/plain": [
       "<Figure size 648x432 with 2 Axes>"
      ]
     },
     "metadata": {},
     "output_type": "display_data"
    }
   ],
   "source": [
    "# forecast_components = m.plot_components(forecast)"
   ]
  },
  {
   "cell_type": "markdown",
   "metadata": {},
   "source": [
    "## Forecasting Recovered Cases Worldwide with Prophet (Baseline)\n",
    "\n",
    "We perform a week's ahead forecast with Prophet, with 95% prediction intervals. Here, no tweaking of seasonality-related parameters and additional regressors are performed."
   ]
  },
  {
   "cell_type": "code",
   "execution_count": 33,
   "metadata": {
    "_kg_hide-input": true
   },
   "outputs": [],
   "source": [
    "recovered.columns = ['ds','y']\n",
    "recovered['ds'] = pd.to_datetime(recovered['ds'])"
   ]
  },
  {
   "cell_type": "code",
   "execution_count": 41,
   "metadata": {
    "_kg_hide-input": true
   },
   "outputs": [
    {
     "data": {
      "text/html": [
       "<div>\n",
       "<style scoped>\n",
       "    .dataframe tbody tr th:only-of-type {\n",
       "        vertical-align: middle;\n",
       "    }\n",
       "\n",
       "    .dataframe tbody tr th {\n",
       "        vertical-align: top;\n",
       "    }\n",
       "\n",
       "    .dataframe thead th {\n",
       "        text-align: right;\n",
       "    }\n",
       "</style>\n",
       "<table border=\"1\" class=\"dataframe\">\n",
       "  <thead>\n",
       "    <tr style=\"text-align: right;\">\n",
       "      <th></th>\n",
       "      <th>ds</th>\n",
       "    </tr>\n",
       "  </thead>\n",
       "  <tbody>\n",
       "    <tr>\n",
       "      <th>143</th>\n",
       "      <td>2020-06-13</td>\n",
       "    </tr>\n",
       "    <tr>\n",
       "      <th>144</th>\n",
       "      <td>2020-06-14</td>\n",
       "    </tr>\n",
       "    <tr>\n",
       "      <th>145</th>\n",
       "      <td>2020-06-15</td>\n",
       "    </tr>\n",
       "    <tr>\n",
       "      <th>146</th>\n",
       "      <td>2020-06-16</td>\n",
       "    </tr>\n",
       "    <tr>\n",
       "      <th>147</th>\n",
       "      <td>2020-06-17</td>\n",
       "    </tr>\n",
       "  </tbody>\n",
       "</table>\n",
       "</div>"
      ],
      "text/plain": [
       "            ds\n",
       "143 2020-06-13\n",
       "144 2020-06-14\n",
       "145 2020-06-15\n",
       "146 2020-06-16\n",
       "147 2020-06-17"
      ]
     },
     "execution_count": 41,
     "metadata": {},
     "output_type": "execute_result"
    }
   ],
   "source": [
    "# m = Prophet(interval_width=0.95)\n",
    "# m.fit(recovered)\n",
    "# future = m.make_future_dataframe(periods=7)\n",
    "# future_recovered = future.copy() # for non-baseline predictions later on\n",
    "# future.tail()"
   ]
  },
  {
   "cell_type": "code",
   "execution_count": 42,
   "metadata": {
    "_kg_hide-input": true
   },
   "outputs": [
    {
     "data": {
      "text/html": [
       "<div>\n",
       "<style scoped>\n",
       "    .dataframe tbody tr th:only-of-type {\n",
       "        vertical-align: middle;\n",
       "    }\n",
       "\n",
       "    .dataframe tbody tr th {\n",
       "        vertical-align: top;\n",
       "    }\n",
       "\n",
       "    .dataframe thead th {\n",
       "        text-align: right;\n",
       "    }\n",
       "</style>\n",
       "<table border=\"1\" class=\"dataframe\">\n",
       "  <thead>\n",
       "    <tr style=\"text-align: right;\">\n",
       "      <th></th>\n",
       "      <th>ds</th>\n",
       "      <th>yhat</th>\n",
       "      <th>yhat_lower</th>\n",
       "      <th>yhat_upper</th>\n",
       "    </tr>\n",
       "  </thead>\n",
       "  <tbody>\n",
       "    <tr>\n",
       "      <th>143</th>\n",
       "      <td>2020-06-13</td>\n",
       "      <td>3.507794e+06</td>\n",
       "      <td>3.454379e+06</td>\n",
       "      <td>3.557137e+06</td>\n",
       "    </tr>\n",
       "    <tr>\n",
       "      <th>144</th>\n",
       "      <td>2020-06-14</td>\n",
       "      <td>3.570938e+06</td>\n",
       "      <td>3.512544e+06</td>\n",
       "      <td>3.626594e+06</td>\n",
       "    </tr>\n",
       "    <tr>\n",
       "      <th>145</th>\n",
       "      <td>2020-06-15</td>\n",
       "      <td>3.638672e+06</td>\n",
       "      <td>3.582822e+06</td>\n",
       "      <td>3.693451e+06</td>\n",
       "    </tr>\n",
       "    <tr>\n",
       "      <th>146</th>\n",
       "      <td>2020-06-16</td>\n",
       "      <td>3.701761e+06</td>\n",
       "      <td>3.635566e+06</td>\n",
       "      <td>3.761146e+06</td>\n",
       "    </tr>\n",
       "    <tr>\n",
       "      <th>147</th>\n",
       "      <td>2020-06-17</td>\n",
       "      <td>3.768568e+06</td>\n",
       "      <td>3.702332e+06</td>\n",
       "      <td>3.833140e+06</td>\n",
       "    </tr>\n",
       "  </tbody>\n",
       "</table>\n",
       "</div>"
      ],
      "text/plain": [
       "            ds          yhat    yhat_lower    yhat_upper\n",
       "143 2020-06-13  3.507794e+06  3.454379e+06  3.557137e+06\n",
       "144 2020-06-14  3.570938e+06  3.512544e+06  3.626594e+06\n",
       "145 2020-06-15  3.638672e+06  3.582822e+06  3.693451e+06\n",
       "146 2020-06-16  3.701761e+06  3.635566e+06  3.761146e+06\n",
       "147 2020-06-17  3.768568e+06  3.702332e+06  3.833140e+06"
      ]
     },
     "execution_count": 42,
     "metadata": {},
     "output_type": "execute_result"
    }
   ],
   "source": [
    "# forecast = m.predict(future)\n",
    "# forecast[['ds', 'yhat', 'yhat_lower', 'yhat_upper']].tail()"
   ]
  },
  {
   "cell_type": "code",
   "execution_count": 43,
   "metadata": {
    "_kg_hide-input": true
   },
   "outputs": [
    {
     "data": {
      "image/png": "[encoded data removed]",
      "text/plain": [
       "<Figure size 720x432 with 1 Axes>"
      ]
     },
     "metadata": {},
     "output_type": "display_data"
    }
   ],
   "source": [
    "# recovered_forecast_plot = m.plot(forecast)"
   ]
  },
  {
   "cell_type": "code",
   "execution_count": 44,
   "metadata": {
    "_kg_hide-input": true
   },
   "outputs": [
    {
     "data": {
      "image/png": "[encoded data removed]",
      "text/plain": [
       "<Figure size 648x432 with 2 Axes>"
      ]
     },
     "metadata": {},
     "output_type": "display_data"
    }
   ],
   "source": [
    "# forecast_components = m.plot_components(forecast)"
   ]
  },
  {
   "cell_type": "markdown",
   "metadata": {},
   "source": [
    "Seems pretty decent for a baseline Prophet model in the case of the number of recovered! :)\n",
    "\n",
    "From the forecast component plots, it is clear that there exists an upward trend in the number of cases worldwide. In the weekly trends plot, interestingly, it is the **highest at the weekends**!"
   ]
  },
  {
   "cell_type": "markdown",
   "metadata": {},
   "source": [
    "# Forecasting Confirmed, Death & Recovered Cases Worldwide with Prophet (by Country/Region & Province/State)"
   ]
  },
  {
   "cell_type": "markdown",
   "metadata": {},
   "source": [
    "## With Baseline Prophet Model (Using Default Parameters), Prophet Model with Custom Seasonalities & Fourier Orders"
   ]
  },
  {
   "cell_type": "markdown",
   "metadata": {},
   "source": [
    "### Data Preparation\n",
    "\n",
    "As we are now forecasting at country and state/province level, for small values, it is possible for forecasts to become negative. To counter this, we round negative values to zero. To perform forecast evaluations using mean absolute error (MAE), we require to partition the dataset into train & validation sets. Here, the test set will contain the dates for which the Prophet model is trained on and where forecasts were made."
   ]
  },
  {
   "cell_type": "code",
   "execution_count": 34,
   "metadata": {},
   "outputs": [
    {
     "name": "stdout",
     "output_type": "stream",
     "text": [
      "The first date to perform forecasts for is: 06/04/2020\n"
     ]
    }
   ],
   "source": [
    "days_to_forecast = 7 # changable\n",
    "first_forecasted_date = sorted(list(set(df2['Date'].values)))[-days_to_forecast]\n",
    "\n",
    "print('The first date to perform forecasts for is: ' + str(first_forecasted_date))"
   ]
  },
  {
   "cell_type": "code",
   "execution_count": 35,
   "metadata": {},
   "outputs": [
    {
     "data": {
      "text/html": [
       "<div>\n",
       "<style scoped>\n",
       "    .dataframe tbody tr th:only-of-type {\n",
       "        vertical-align: middle;\n",
       "    }\n",
       "\n",
       "    .dataframe tbody tr th {\n",
       "        vertical-align: top;\n",
       "    }\n",
       "\n",
       "    .dataframe thead th {\n",
       "        text-align: right;\n",
       "    }\n",
       "</style>\n",
       "<table border=\"1\" class=\"dataframe\">\n",
       "  <thead>\n",
       "    <tr style=\"text-align: right;\">\n",
       "      <th></th>\n",
       "      <th>SNo</th>\n",
       "      <th>Date</th>\n",
       "      <th>Province/State</th>\n",
       "      <th>Country</th>\n",
       "      <th>Confirmed</th>\n",
       "    </tr>\n",
       "  </thead>\n",
       "  <tbody>\n",
       "    <tr>\n",
       "      <th>0</th>\n",
       "      <td>13</td>\n",
       "      <td>01/22/2020</td>\n",
       "      <td>Hong Kong</td>\n",
       "      <td>Hong Kong</td>\n",
       "      <td>0.0</td>\n",
       "    </tr>\n",
       "    <tr>\n",
       "      <th>1</th>\n",
       "      <td>21</td>\n",
       "      <td>01/22/2020</td>\n",
       "      <td>Macau</td>\n",
       "      <td>Macau</td>\n",
       "      <td>1.0</td>\n",
       "    </tr>\n",
       "    <tr>\n",
       "      <th>2</th>\n",
       "      <td>1</td>\n",
       "      <td>01/22/2020</td>\n",
       "      <td>Anhui</td>\n",
       "      <td>Mainland China</td>\n",
       "      <td>1.0</td>\n",
       "    </tr>\n",
       "    <tr>\n",
       "      <th>3</th>\n",
       "      <td>2</td>\n",
       "      <td>01/22/2020</td>\n",
       "      <td>Beijing</td>\n",
       "      <td>Mainland China</td>\n",
       "      <td>14.0</td>\n",
       "    </tr>\n",
       "    <tr>\n",
       "      <th>4</th>\n",
       "      <td>3</td>\n",
       "      <td>01/22/2020</td>\n",
       "      <td>Chongqing</td>\n",
       "      <td>Mainland China</td>\n",
       "      <td>6.0</td>\n",
       "    </tr>\n",
       "    <tr>\n",
       "      <th>...</th>\n",
       "      <td>...</td>\n",
       "      <td>...</td>\n",
       "      <td>...</td>\n",
       "      <td>...</td>\n",
       "      <td>...</td>\n",
       "    </tr>\n",
       "    <tr>\n",
       "      <th>21661</th>\n",
       "      <td>39318</td>\n",
       "      <td>06/10/2020</td>\n",
       "      <td>Vinnytsia Oblast</td>\n",
       "      <td>Ukraine</td>\n",
       "      <td>1192.0</td>\n",
       "    </tr>\n",
       "    <tr>\n",
       "      <th>21662</th>\n",
       "      <td>39324</td>\n",
       "      <td>06/10/2020</td>\n",
       "      <td>Volyn Oblast</td>\n",
       "      <td>Ukraine</td>\n",
       "      <td>1214.0</td>\n",
       "    </tr>\n",
       "    <tr>\n",
       "      <th>21663</th>\n",
       "      <td>39344</td>\n",
       "      <td>06/10/2020</td>\n",
       "      <td>Zakarpattia Oblast</td>\n",
       "      <td>Ukraine</td>\n",
       "      <td>1448.0</td>\n",
       "    </tr>\n",
       "    <tr>\n",
       "      <th>21664</th>\n",
       "      <td>39345</td>\n",
       "      <td>06/10/2020</td>\n",
       "      <td>Zaporizhia Oblast</td>\n",
       "      <td>Ukraine</td>\n",
       "      <td>502.0</td>\n",
       "    </tr>\n",
       "    <tr>\n",
       "      <th>21665</th>\n",
       "      <td>39347</td>\n",
       "      <td>06/10/2020</td>\n",
       "      <td>Zhytomyr Oblast</td>\n",
       "      <td>Ukraine</td>\n",
       "      <td>973.0</td>\n",
       "    </tr>\n",
       "  </tbody>\n",
       "</table>\n",
       "<p>21666 rows × 5 columns</p>\n",
       "</div>"
      ],
      "text/plain": [
       "         SNo        Date      Province/State         Country  Confirmed\n",
       "0         13  01/22/2020           Hong Kong       Hong Kong        0.0\n",
       "1         21  01/22/2020               Macau           Macau        1.0\n",
       "2          1  01/22/2020               Anhui  Mainland China        1.0\n",
       "3          2  01/22/2020             Beijing  Mainland China       14.0\n",
       "4          3  01/22/2020           Chongqing  Mainland China        6.0\n",
       "...      ...         ...                 ...             ...        ...\n",
       "21661  39318  06/10/2020    Vinnytsia Oblast         Ukraine     1192.0\n",
       "21662  39324  06/10/2020        Volyn Oblast         Ukraine     1214.0\n",
       "21663  39344  06/10/2020  Zakarpattia Oblast         Ukraine     1448.0\n",
       "21664  39345  06/10/2020   Zaporizhia Oblast         Ukraine      502.0\n",
       "21665  39347  06/10/2020     Zhytomyr Oblast         Ukraine      973.0\n",
       "\n",
       "[21666 rows x 5 columns]"
      ]
     },
     "execution_count": 35,
     "metadata": {},
     "output_type": "execute_result"
    }
   ],
   "source": [
    "confirmed_df = df2[['SNo', 'Date','Province/State', 'Country', 'Confirmed']]\n",
    "confirmed_df"
   ]
  },
  {
   "cell_type": "code",
   "execution_count": 36,
   "metadata": {},
   "outputs": [
    {
     "data": {
      "text/html": [
       "<div>\n",
       "<style scoped>\n",
       "    .dataframe tbody tr th:only-of-type {\n",
       "        vertical-align: middle;\n",
       "    }\n",
       "\n",
       "    .dataframe tbody tr th {\n",
       "        vertical-align: top;\n",
       "    }\n",
       "\n",
       "    .dataframe thead th {\n",
       "        text-align: right;\n",
       "    }\n",
       "</style>\n",
       "<table border=\"1\" class=\"dataframe\">\n",
       "  <thead>\n",
       "    <tr style=\"text-align: right;\">\n",
       "      <th></th>\n",
       "      <th>SNo</th>\n",
       "      <th>Date</th>\n",
       "      <th>Province/State</th>\n",
       "      <th>Country</th>\n",
       "      <th>Deaths</th>\n",
       "    </tr>\n",
       "  </thead>\n",
       "  <tbody>\n",
       "    <tr>\n",
       "      <th>0</th>\n",
       "      <td>13</td>\n",
       "      <td>01/22/2020</td>\n",
       "      <td>Hong Kong</td>\n",
       "      <td>Hong Kong</td>\n",
       "      <td>0.0</td>\n",
       "    </tr>\n",
       "    <tr>\n",
       "      <th>1</th>\n",
       "      <td>21</td>\n",
       "      <td>01/22/2020</td>\n",
       "      <td>Macau</td>\n",
       "      <td>Macau</td>\n",
       "      <td>0.0</td>\n",
       "    </tr>\n",
       "    <tr>\n",
       "      <th>2</th>\n",
       "      <td>1</td>\n",
       "      <td>01/22/2020</td>\n",
       "      <td>Anhui</td>\n",
       "      <td>Mainland China</td>\n",
       "      <td>0.0</td>\n",
       "    </tr>\n",
       "    <tr>\n",
       "      <th>3</th>\n",
       "      <td>2</td>\n",
       "      <td>01/22/2020</td>\n",
       "      <td>Beijing</td>\n",
       "      <td>Mainland China</td>\n",
       "      <td>0.0</td>\n",
       "    </tr>\n",
       "    <tr>\n",
       "      <th>4</th>\n",
       "      <td>3</td>\n",
       "      <td>01/22/2020</td>\n",
       "      <td>Chongqing</td>\n",
       "      <td>Mainland China</td>\n",
       "      <td>0.0</td>\n",
       "    </tr>\n",
       "    <tr>\n",
       "      <th>...</th>\n",
       "      <td>...</td>\n",
       "      <td>...</td>\n",
       "      <td>...</td>\n",
       "      <td>...</td>\n",
       "      <td>...</td>\n",
       "    </tr>\n",
       "    <tr>\n",
       "      <th>21661</th>\n",
       "      <td>39318</td>\n",
       "      <td>06/10/2020</td>\n",
       "      <td>Vinnytsia Oblast</td>\n",
       "      <td>Ukraine</td>\n",
       "      <td>20.0</td>\n",
       "    </tr>\n",
       "    <tr>\n",
       "      <th>21662</th>\n",
       "      <td>39324</td>\n",
       "      <td>06/10/2020</td>\n",
       "      <td>Volyn Oblast</td>\n",
       "      <td>Ukraine</td>\n",
       "      <td>37.0</td>\n",
       "    </tr>\n",
       "    <tr>\n",
       "      <th>21663</th>\n",
       "      <td>39344</td>\n",
       "      <td>06/10/2020</td>\n",
       "      <td>Zakarpattia Oblast</td>\n",
       "      <td>Ukraine</td>\n",
       "      <td>33.0</td>\n",
       "    </tr>\n",
       "    <tr>\n",
       "      <th>21664</th>\n",
       "      <td>39345</td>\n",
       "      <td>06/10/2020</td>\n",
       "      <td>Zaporizhia Oblast</td>\n",
       "      <td>Ukraine</td>\n",
       "      <td>15.0</td>\n",
       "    </tr>\n",
       "    <tr>\n",
       "      <th>21665</th>\n",
       "      <td>39347</td>\n",
       "      <td>06/10/2020</td>\n",
       "      <td>Zhytomyr Oblast</td>\n",
       "      <td>Ukraine</td>\n",
       "      <td>17.0</td>\n",
       "    </tr>\n",
       "  </tbody>\n",
       "</table>\n",
       "<p>21666 rows × 5 columns</p>\n",
       "</div>"
      ],
      "text/plain": [
       "         SNo        Date      Province/State         Country  Deaths\n",
       "0         13  01/22/2020           Hong Kong       Hong Kong     0.0\n",
       "1         21  01/22/2020               Macau           Macau     0.0\n",
       "2          1  01/22/2020               Anhui  Mainland China     0.0\n",
       "3          2  01/22/2020             Beijing  Mainland China     0.0\n",
       "4          3  01/22/2020           Chongqing  Mainland China     0.0\n",
       "...      ...         ...                 ...             ...     ...\n",
       "21661  39318  06/10/2020    Vinnytsia Oblast         Ukraine    20.0\n",
       "21662  39324  06/10/2020        Volyn Oblast         Ukraine    37.0\n",
       "21663  39344  06/10/2020  Zakarpattia Oblast         Ukraine    33.0\n",
       "21664  39345  06/10/2020   Zaporizhia Oblast         Ukraine    15.0\n",
       "21665  39347  06/10/2020     Zhytomyr Oblast         Ukraine    17.0\n",
       "\n",
       "[21666 rows x 5 columns]"
      ]
     },
     "execution_count": 36,
     "metadata": {},
     "output_type": "execute_result"
    }
   ],
   "source": [
    "deaths_df = df2[['SNo', 'Date','Province/State', 'Country', 'Deaths']]\n",
    "deaths_df"
   ]
  },
  {
   "cell_type": "code",
   "execution_count": 37,
   "metadata": {
    "_kg_hide-input": false,
    "_kg_hide-output": false
   },
   "outputs": [
    {
     "data": {
      "text/html": [
       "<div>\n",
       "<style scoped>\n",
       "    .dataframe tbody tr th:only-of-type {\n",
       "        vertical-align: middle;\n",
       "    }\n",
       "\n",
       "    .dataframe tbody tr th {\n",
       "        vertical-align: top;\n",
       "    }\n",
       "\n",
       "    .dataframe thead th {\n",
       "        text-align: right;\n",
       "    }\n",
       "</style>\n",
       "<table border=\"1\" class=\"dataframe\">\n",
       "  <thead>\n",
       "    <tr style=\"text-align: right;\">\n",
       "      <th></th>\n",
       "      <th>SNo</th>\n",
       "      <th>Date</th>\n",
       "      <th>Province/State</th>\n",
       "      <th>Country</th>\n",
       "      <th>Recovered</th>\n",
       "    </tr>\n",
       "  </thead>\n",
       "  <tbody>\n",
       "    <tr>\n",
       "      <th>0</th>\n",
       "      <td>13</td>\n",
       "      <td>01/22/2020</td>\n",
       "      <td>Hong Kong</td>\n",
       "      <td>Hong Kong</td>\n",
       "      <td>0.0</td>\n",
       "    </tr>\n",
       "    <tr>\n",
       "      <th>1</th>\n",
       "      <td>21</td>\n",
       "      <td>01/22/2020</td>\n",
       "      <td>Macau</td>\n",
       "      <td>Macau</td>\n",
       "      <td>0.0</td>\n",
       "    </tr>\n",
       "    <tr>\n",
       "      <th>2</th>\n",
       "      <td>1</td>\n",
       "      <td>01/22/2020</td>\n",
       "      <td>Anhui</td>\n",
       "      <td>Mainland China</td>\n",
       "      <td>0.0</td>\n",
       "    </tr>\n",
       "    <tr>\n",
       "      <th>3</th>\n",
       "      <td>2</td>\n",
       "      <td>01/22/2020</td>\n",
       "      <td>Beijing</td>\n",
       "      <td>Mainland China</td>\n",
       "      <td>0.0</td>\n",
       "    </tr>\n",
       "    <tr>\n",
       "      <th>4</th>\n",
       "      <td>3</td>\n",
       "      <td>01/22/2020</td>\n",
       "      <td>Chongqing</td>\n",
       "      <td>Mainland China</td>\n",
       "      <td>0.0</td>\n",
       "    </tr>\n",
       "    <tr>\n",
       "      <th>...</th>\n",
       "      <td>...</td>\n",
       "      <td>...</td>\n",
       "      <td>...</td>\n",
       "      <td>...</td>\n",
       "      <td>...</td>\n",
       "    </tr>\n",
       "    <tr>\n",
       "      <th>21661</th>\n",
       "      <td>39318</td>\n",
       "      <td>06/10/2020</td>\n",
       "      <td>Vinnytsia Oblast</td>\n",
       "      <td>Ukraine</td>\n",
       "      <td>767.0</td>\n",
       "    </tr>\n",
       "    <tr>\n",
       "      <th>21662</th>\n",
       "      <td>39324</td>\n",
       "      <td>06/10/2020</td>\n",
       "      <td>Volyn Oblast</td>\n",
       "      <td>Ukraine</td>\n",
       "      <td>310.0</td>\n",
       "    </tr>\n",
       "    <tr>\n",
       "      <th>21663</th>\n",
       "      <td>39344</td>\n",
       "      <td>06/10/2020</td>\n",
       "      <td>Zakarpattia Oblast</td>\n",
       "      <td>Ukraine</td>\n",
       "      <td>628.0</td>\n",
       "    </tr>\n",
       "    <tr>\n",
       "      <th>21664</th>\n",
       "      <td>39345</td>\n",
       "      <td>06/10/2020</td>\n",
       "      <td>Zaporizhia Oblast</td>\n",
       "      <td>Ukraine</td>\n",
       "      <td>296.0</td>\n",
       "    </tr>\n",
       "    <tr>\n",
       "      <th>21665</th>\n",
       "      <td>39347</td>\n",
       "      <td>06/10/2020</td>\n",
       "      <td>Zhytomyr Oblast</td>\n",
       "      <td>Ukraine</td>\n",
       "      <td>501.0</td>\n",
       "    </tr>\n",
       "  </tbody>\n",
       "</table>\n",
       "<p>21666 rows × 5 columns</p>\n",
       "</div>"
      ],
      "text/plain": [
       "         SNo        Date      Province/State         Country  Recovered\n",
       "0         13  01/22/2020           Hong Kong       Hong Kong        0.0\n",
       "1         21  01/22/2020               Macau           Macau        0.0\n",
       "2          1  01/22/2020               Anhui  Mainland China        0.0\n",
       "3          2  01/22/2020             Beijing  Mainland China        0.0\n",
       "4          3  01/22/2020           Chongqing  Mainland China        0.0\n",
       "...      ...         ...                 ...             ...        ...\n",
       "21661  39318  06/10/2020    Vinnytsia Oblast         Ukraine      767.0\n",
       "21662  39324  06/10/2020        Volyn Oblast         Ukraine      310.0\n",
       "21663  39344  06/10/2020  Zakarpattia Oblast         Ukraine      628.0\n",
       "21664  39345  06/10/2020   Zaporizhia Oblast         Ukraine      296.0\n",
       "21665  39347  06/10/2020     Zhytomyr Oblast         Ukraine      501.0\n",
       "\n",
       "[21666 rows x 5 columns]"
      ]
     },
     "execution_count": 37,
     "metadata": {},
     "output_type": "execute_result"
    }
   ],
   "source": [
    "recovered_df = df2[['SNo', 'Date','Province/State', 'Country', 'Recovered']]\n",
    "recovered_df"
   ]
  },
  {
   "cell_type": "markdown",
   "metadata": {},
   "source": [
    "### Forecasting Confirmed Cases, Deaths & Recovered Cases and Computing Mean Absolute Error (MAE)\n",
    "\n",
    "Next, we perform predictions for each country and state. Note that we compute MAE with the raw predictions before rounding."
   ]
  },
  {
   "cell_type": "code",
   "execution_count": 38,
   "metadata": {
    "_kg_hide-output": true
   },
   "outputs": [],
   "source": [
    "def make_forecasts(all_countries, confirmed_df, deaths_df, recovered_df, days_to_forecast, first_forecasted_date, mode):\n",
    "    forecast_dfs = []\n",
    "    absolute_errors = [] # collate absolute errors so that we can find MAE later on\n",
    "    counter = 0 # arbitrary counter to output snippet of result_val_df only once, when it is 1\n",
    "    for country in all_countries:\n",
    "        try:\n",
    "            assert(country in confirmed_df['Country'].values)\n",
    "            print('Country ' + str(country) + ' is listed! ')\n",
    "            country_confirmed_df = confirmed_df[(confirmed_df['Country'] == country)]\n",
    "            country_deaths_df = deaths_df[(deaths_df['Country'] == country)]\n",
    "            country_recovered_df = recovered_df[(recovered_df['Country'] == country)]\n",
    "            country_dfs = [('Confirmed', country_confirmed_df), \n",
    "                           ('Deaths', country_deaths_df), \n",
    "                           ('Recovered', country_recovered_df)]\n",
    "            states_in_country = country_confirmed_df['Province/State'].unique()\n",
    "            for state in states_in_country:\n",
    "                try:\n",
    "                    state_dfs = [] # to store forecasts for Confirmed, Deaths and Recovered\n",
    "\n",
    "                    assert(state in country_confirmed_df['Province/State'].values)\n",
    "\n",
    "                    # make forecasts for each case type (Confirmed, Deaths, Recovered)\n",
    "                    for country_df_tup in country_dfs:\n",
    "                        case_type = country_df_tup[0]\n",
    "                        country_df = country_df_tup[1]\n",
    "                        state_df = country_df[(country_df['Province/State'] == state)]\n",
    "\n",
    "                        # data preparation for forecast with Prophet at state level\n",
    "                        state_df = state_df[['Date', case_type]]\n",
    "                        state_df.columns = ['ds','y']\n",
    "                        state_df['ds'] = pd.to_datetime(state_df['ds'])\n",
    "\n",
    "                        state_df_val = state_df[(state_df['ds'] >= pd.to_datetime(first_forecasted_date))] # validation set\n",
    "                        state_df = state_df[(state_df['ds'] < pd.to_datetime(first_forecasted_date))] # train set\n",
    "\n",
    "                        # if mode == 'default':\n",
    "                        #     m = Prophet()\n",
    "                        # elif mode == 'custom':\n",
    "                        #     m = Prophet(daily_seasonality=False, weekly_seasonality=False, yearly_seasonality=False)\n",
    "                        #     m.add_seasonality(name='monthly', period=30.5, fourier_order=10)\n",
    "                        #     m.add_seasonality(name='weekly', period=7, fourier_order=21)\n",
    "                        #     m.add_seasonality(name='daily', period=1, fourier_order=3)\n",
    "                        # m.fit(state_df)\n",
    "                        # future = m.make_future_dataframe(periods=days_to_forecast)\n",
    "                        # forecast = m.predict(future)\n",
    "\n",
    "                        # # evaluate forecasts with validation set and save absolute errors to absolute_errors\n",
    "                        # forecast_df = forecast[['ds', 'yhat']]\n",
    "                        # result_df = forecast_df[(forecast_df['ds'] >= pd.to_datetime(first_forecasted_date))]\n",
    "                        # result_val_df = result_df.merge(state_df_val, on=['ds'])\n",
    "                        # result_val_df['abs_diff'] = (result_val_df['y'] - result_val_df['yhat']).abs()\n",
    "                        # absolute_errors += list(result_val_df['abs_diff'].values)\n",
    "\n",
    "                        # # the following allows the user to check the output at particular checkpoints. Feel free to change!\n",
    "                        # if counter == 1:\n",
    "                        #     print('Printing snippet of result_val_df: \\n')\n",
    "                        #     print(result_val_df)\n",
    "                        #     print(absolute_errors)\n",
    "                        # counter += 1\n",
    "\n",
    "                        # # save results to dataframe\n",
    "                        # forecast_df['Province/State'] = state\n",
    "                        # forecast_df['Country/Region'] = country\n",
    "                        # forecast_df.rename(columns={'yhat':case_type}, inplace=True)\n",
    "                        # state_dfs += [forecast_df.tail(days_to_forecast)]\n",
    "\n",
    "                    merged_df = state_dfs[0].merge(state_dfs[1],on=['ds', 'Province/State', 'Country/Region']).merge(state_dfs[2],on=['ds', 'Province/State', 'Country/Region'])\n",
    "                    forecast_dfs += [merged_df]\n",
    "                except:\n",
    "                    continue\n",
    "        except:\n",
    "            print('Country ' + str(country) + ' is not listed! ')\n",
    "            continue\n",
    "    results_tup = namedtuple('results_tup', ['forecast_dfs', 'absolute_errors'])\n",
    "    return results_tup(forecast_dfs, absolute_errors)"
   ]
  },
  {
   "cell_type": "code",
   "execution_count": 39,
   "metadata": {
    "_kg_hide-output": true
   },
   "outputs": [
    {
     "name": "stdout",
     "output_type": "stream",
     "text": [
      "Country Australia is listed! \n",
      "Country Brazil is listed! \n",
      "Country Canada is listed! \n",
      "Country Chile is listed! \n",
      "Country Colombia is listed! \n",
      "Country Denmark is listed! \n",
      "Country France is listed! \n",
      "Country Germany is listed! \n",
      "Country Hong Kong is listed! \n",
      "Country India is listed! \n",
      "Country Italy is listed! \n",
      "Country Japan is listed! \n",
      "Country Macau is listed! \n",
      "Country Mainland China is listed! \n",
      "Country Mexico is listed! \n",
      "Country Netherlands is listed! \n",
      "Country Pakistan is listed! \n",
      "Country Peru is listed! \n",
      "Country Russia is listed! \n",
      "Country Spain is listed! \n",
      "Country Sweden is listed! \n",
      "Country UK is listed! \n",
      "Country US is listed! \n",
      "Country Ukraine is listed! \n"
     ]
    }
   ],
   "source": [
    "forecast_results = make_forecasts(all_countries, confirmed_df, deaths_df, recovered_df, days_to_forecast, first_forecasted_date, 'default')\n",
    "absolute_errors = forecast_results.absolute_errors"
   ]
  },
  {
   "cell_type": "code",
   "execution_count": 41,
   "metadata": {
    "_kg_hide-input": false
   },
   "outputs": [],
   "source": [
    "# forecast_results.forecast_dfs[0].tail(days_to_forecast) # example of a forecast"
   ]
  },
  {
   "cell_type": "markdown",
   "metadata": {},
   "source": [
    "### Some Final Touch-ups.."
   ]
  },
  {
   "cell_type": "code",
   "execution_count": 43,
   "metadata": {
    "_kg_hide-input": false
   },
   "outputs": [],
   "source": [
    "# forecasts_final = pd.concat(forecast_results.forecast_dfs, axis=0)\n",
    "# forecasts_final.sort_values(by='ds')\n",
    "# forecasts_final = forecasts_final[['ds', 'Province/State', 'Country/Region', 'Confirmed', 'Deaths', 'Recovered']]\n",
    "# forecasts_final.rename(columns={'ds':'ObservationDate'}, inplace=True)\n",
    "# for case_type in ['Confirmed', 'Deaths', 'Recovered']:\n",
    "#     forecasts_final[case_type] = forecasts_final[case_type].round() # round forecasts to integer as humans cannot be floats\n",
    "#     forecasts_final[forecasts_final[case_type] < 0] = 0 # replace negative forecasts to zero\n",
    "\n",
    "# forecasts_final"
   ]
  },
  {
   "cell_type": "code",
   "execution_count": 53,
   "metadata": {
    "_kg_hide-input": true
   },
   "outputs": [],
   "source": [
    "# forecasts_final.to_csv(\"forecasts_default_prophet.csv\", index=False) # save forecasts to CSV"
   ]
  },
  {
   "cell_type": "markdown",
   "metadata": {},
   "source": [
    "## Prophet with Daily & Weekly Seasonality (with custom Fourier orders)\n",
    "\n",
    "Prophet will by default fit weekly and yearly seasonalities, if the time series is more than two cycles long. It will also fit daily seasonality for a sub-daily time series. You can add other seasonalities (monthly, quarterly, hourly) using the add_seasonality method (Python) or function (R).\n",
    "\n",
    "The inputs to this function are a name, the period of the seasonality in days, and the Fourier order for the seasonality. For reference, by default Prophet uses a Fourier order of 3 for weekly seasonality and 10 for yearly seasonality. An optional input to add_seasonality is the prior scale for that seasonal component - this is discussed below.\n",
    "\n",
    "**Source:** https://facebook.github.io/prophet/docs/seasonality,_holiday_effects,_and_regressors.html#fourier-order-for-seasonalities"
   ]
  },
  {
   "cell_type": "code",
   "execution_count": 54,
   "metadata": {
    "_kg_hide-input": true,
    "_kg_hide-output": true
   },
   "outputs": [
    {
     "name": "stdout",
     "output_type": "stream",
     "text": [
      "Country Australia is listed! \n"
     ]
    },
    {
     "name": "stderr",
     "output_type": "stream",
     "text": [
      "/opt/conda/lib/python3.6/site-packages/ipykernel_launcher.py:62: SettingWithCopyWarning:\n",
      "\n",
      "\n",
      "A value is trying to be set on a copy of a slice from a DataFrame.\n",
      "Try using .loc[row_indexer,col_indexer] = value instead\n",
      "\n",
      "See the caveats in the documentation: http://pandas.pydata.org/pandas-docs/stable/user_guide/indexing.html#returning-a-view-versus-a-copy\n",
      "\n",
      "/opt/conda/lib/python3.6/site-packages/ipykernel_launcher.py:63: SettingWithCopyWarning:\n",
      "\n",
      "\n",
      "A value is trying to be set on a copy of a slice from a DataFrame.\n",
      "Try using .loc[row_indexer,col_indexer] = value instead\n",
      "\n",
      "See the caveats in the documentation: http://pandas.pydata.org/pandas-docs/stable/user_guide/indexing.html#returning-a-view-versus-a-copy\n",
      "\n",
      "/opt/conda/lib/python3.6/site-packages/pandas/core/frame.py:4238: SettingWithCopyWarning:\n",
      "\n",
      "\n",
      "A value is trying to be set on a copy of a slice from a DataFrame\n",
      "\n",
      "See the caveats in the documentation: http://pandas.pydata.org/pandas-docs/stable/user_guide/indexing.html#returning-a-view-versus-a-copy\n",
      "\n"
     ]
    },
    {
     "name": "stdout",
     "output_type": "stream",
     "text": [
      "Printing snippet of result_val_df: \n",
      "\n",
      "          ds       yhat     y  abs_diff\n",
      "0 2020-06-04  50.682941  48.0  2.682941\n",
      "1 2020-06-05  51.445227  48.0  3.445227\n",
      "2 2020-06-06  51.719144  48.0  3.719144\n",
      "3 2020-06-07  52.561980  48.0  4.561980\n",
      "4 2020-06-08  52.786540  48.0  4.786540\n",
      "5 2020-06-09  52.748871  48.0  4.748871\n",
      "6 2020-06-10  52.570948  48.0  4.570948\n",
      "[909.4965320918454, 972.0698455614297, 965.8950033878668, 972.5168373821957, 1006.5485155178367, 989.5970759376405, 995.3228294805795, 2.6829405974052065, 3.4452274047267295, 3.71914368148542, 4.561980315430638, 4.78653966101848, 4.7488708684223155, 4.570947575967125]\n",
      "Country Brazil is listed! \n",
      "Country Canada is listed! \n",
      "Country Chile is listed! \n",
      "Country Colombia is listed! \n",
      "Country Denmark is listed! \n",
      "Country France is listed! \n",
      "Country Germany is listed! \n",
      "Country Hong Kong is listed! \n",
      "Country India is listed! \n",
      "Country Italy is listed! \n",
      "Country Japan is listed! \n",
      "Country Macau is listed! \n",
      "Country Mainland China is listed! \n",
      "Country Mexico is listed! \n",
      "Country Netherlands is listed! \n",
      "Country Pakistan is listed! \n",
      "Country Peru is listed! \n",
      "Country Russia is listed! \n",
      "Country Spain is listed! \n",
      "Country Sweden is listed! \n",
      "Country UK is listed! \n",
      "Country US is listed! \n",
      "Country Ukraine is listed! \n"
     ]
    }
   ],
   "source": [
    "# forecast_results_custom = make_forecasts(all_countries, confirmed_df, deaths_df, recovered_df, days_to_forecast, first_forecasted_date, 'custom')\n",
    "# absolute_errors_custom = forecast_results_custom.absolute_errors\n",
    "# forecast_dfs_custom = forecast_results_custom.forecast_dfs"
   ]
  },
  {
   "cell_type": "code",
   "execution_count": 55,
   "metadata": {
    "_kg_hide-input": true,
    "_kg_hide-output": false
   },
   "outputs": [
    {
     "data": {
      "text/html": [
       "<div>\n",
       "<style scoped>\n",
       "    .dataframe tbody tr th:only-of-type {\n",
       "        vertical-align: middle;\n",
       "    }\n",
       "\n",
       "    .dataframe tbody tr th {\n",
       "        vertical-align: top;\n",
       "    }\n",
       "\n",
       "    .dataframe thead th {\n",
       "        text-align: right;\n",
       "    }\n",
       "</style>\n",
       "<table border=\"1\" class=\"dataframe\">\n",
       "  <thead>\n",
       "    <tr style=\"text-align: right;\">\n",
       "      <th></th>\n",
       "      <th>ObservationDate</th>\n",
       "      <th>Province/State</th>\n",
       "      <th>Country/Region</th>\n",
       "      <th>Confirmed</th>\n",
       "      <th>Deaths</th>\n",
       "      <th>Recovered</th>\n",
       "    </tr>\n",
       "  </thead>\n",
       "  <tbody>\n",
       "    <tr>\n",
       "      <th>0</th>\n",
       "      <td>2020-06-04 00:00:00</td>\n",
       "      <td>New South Wales</td>\n",
       "      <td>Australia</td>\n",
       "      <td>4019.0</td>\n",
       "      <td>51.0</td>\n",
       "      <td>3321.0</td>\n",
       "    </tr>\n",
       "    <tr>\n",
       "      <th>1</th>\n",
       "      <td>2020-06-05 00:00:00</td>\n",
       "      <td>New South Wales</td>\n",
       "      <td>Australia</td>\n",
       "      <td>4082.0</td>\n",
       "      <td>51.0</td>\n",
       "      <td>3465.0</td>\n",
       "    </tr>\n",
       "    <tr>\n",
       "      <th>2</th>\n",
       "      <td>2020-06-06 00:00:00</td>\n",
       "      <td>New South Wales</td>\n",
       "      <td>Australia</td>\n",
       "      <td>4075.0</td>\n",
       "      <td>52.0</td>\n",
       "      <td>3494.0</td>\n",
       "    </tr>\n",
       "    <tr>\n",
       "      <th>3</th>\n",
       "      <td>2020-06-07 00:00:00</td>\n",
       "      <td>New South Wales</td>\n",
       "      <td>Australia</td>\n",
       "      <td>4085.0</td>\n",
       "      <td>53.0</td>\n",
       "      <td>3493.0</td>\n",
       "    </tr>\n",
       "    <tr>\n",
       "      <th>4</th>\n",
       "      <td>2020-06-08 00:00:00</td>\n",
       "      <td>New South Wales</td>\n",
       "      <td>Australia</td>\n",
       "      <td>4121.0</td>\n",
       "      <td>53.0</td>\n",
       "      <td>3480.0</td>\n",
       "    </tr>\n",
       "    <tr>\n",
       "      <th>...</th>\n",
       "      <td>...</td>\n",
       "      <td>...</td>\n",
       "      <td>...</td>\n",
       "      <td>...</td>\n",
       "      <td>...</td>\n",
       "      <td>...</td>\n",
       "    </tr>\n",
       "    <tr>\n",
       "      <th>2</th>\n",
       "      <td>0</td>\n",
       "      <td>0</td>\n",
       "      <td>0</td>\n",
       "      <td>0.0</td>\n",
       "      <td>0.0</td>\n",
       "      <td>0.0</td>\n",
       "    </tr>\n",
       "    <tr>\n",
       "      <th>3</th>\n",
       "      <td>0</td>\n",
       "      <td>0</td>\n",
       "      <td>0</td>\n",
       "      <td>0.0</td>\n",
       "      <td>0.0</td>\n",
       "      <td>0.0</td>\n",
       "    </tr>\n",
       "    <tr>\n",
       "      <th>4</th>\n",
       "      <td>0</td>\n",
       "      <td>0</td>\n",
       "      <td>0</td>\n",
       "      <td>0.0</td>\n",
       "      <td>0.0</td>\n",
       "      <td>0.0</td>\n",
       "    </tr>\n",
       "    <tr>\n",
       "      <th>5</th>\n",
       "      <td>0</td>\n",
       "      <td>0</td>\n",
       "      <td>0</td>\n",
       "      <td>0.0</td>\n",
       "      <td>0.0</td>\n",
       "      <td>0.0</td>\n",
       "    </tr>\n",
       "    <tr>\n",
       "      <th>6</th>\n",
       "      <td>0</td>\n",
       "      <td>0</td>\n",
       "      <td>0</td>\n",
       "      <td>0.0</td>\n",
       "      <td>0.0</td>\n",
       "      <td>0.0</td>\n",
       "    </tr>\n",
       "  </tbody>\n",
       "</table>\n",
       "<p>4389 rows × 6 columns</p>\n",
       "</div>"
      ],
      "text/plain": [
       "        ObservationDate   Province/State Country/Region  Confirmed  Deaths  \\\n",
       "0   2020-06-04 00:00:00  New South Wales      Australia     4019.0    51.0   \n",
       "1   2020-06-05 00:00:00  New South Wales      Australia     4082.0    51.0   \n",
       "2   2020-06-06 00:00:00  New South Wales      Australia     4075.0    52.0   \n",
       "3   2020-06-07 00:00:00  New South Wales      Australia     4085.0    53.0   \n",
       "4   2020-06-08 00:00:00  New South Wales      Australia     4121.0    53.0   \n",
       "..                  ...              ...            ...        ...     ...   \n",
       "2                     0                0              0        0.0     0.0   \n",
       "3                     0                0              0        0.0     0.0   \n",
       "4                     0                0              0        0.0     0.0   \n",
       "5                     0                0              0        0.0     0.0   \n",
       "6                     0                0              0        0.0     0.0   \n",
       "\n",
       "    Recovered  \n",
       "0      3321.0  \n",
       "1      3465.0  \n",
       "2      3494.0  \n",
       "3      3493.0  \n",
       "4      3480.0  \n",
       "..        ...  \n",
       "2         0.0  \n",
       "3         0.0  \n",
       "4         0.0  \n",
       "5         0.0  \n",
       "6         0.0  \n",
       "\n",
       "[4389 rows x 6 columns]"
      ]
     },
     "execution_count": 55,
     "metadata": {},
     "output_type": "execute_result"
    }
   ],
   "source": [
    "# forecasts_final_custom = pd.concat(forecast_dfs_custom, axis=0)\n",
    "# forecasts_final_custom.sort_values(by='ds')\n",
    "# forecasts_final_custom = forecasts_final_custom[['ds', 'Province/State', 'Country/Region', 'Confirmed', 'Deaths', 'Recovered']]\n",
    "# forecasts_final_custom.rename(columns={'ds':'ObservationDate'}, inplace=True)\n",
    "# for case_type in ['Confirmed', 'Deaths', 'Recovered']:\n",
    "#     forecasts_final_custom[case_type] = forecasts_final_custom[case_type].round() # round forecasts to integer as humans cannot be floats\n",
    "#     forecasts_final_custom[forecasts_final_custom[case_type] < 0] = 0 # replace negative forecasts to zero\n",
    "\n",
    "# forecasts_final_custom"
   ]
  },
  {
   "cell_type": "code",
   "execution_count": 56,
   "metadata": {
    "_kg_hide-input": false
   },
   "outputs": [],
   "source": [
    "# forecasts_final_custom.to_csv(\"forecasts_custom_prophet.csv\", index=False) # save forecasts to CSV"
   ]
  },
  {
   "cell_type": "markdown",
   "metadata": {},
   "source": [
    "# Evaluation of Forecasts (Mean Absolute Error)"
   ]
  },
  {
   "cell_type": "code",
   "execution_count": 57,
   "metadata": {
    "_kg_hide-input": true,
    "_kg_hide-output": false
   },
   "outputs": [
    {
     "name": "stdout",
     "output_type": "stream",
     "text": [
      "The mean absolute error for 7 days of forecasts with the default Prophet model is: 361.31\n"
     ]
    }
   ],
   "source": [
    "# N = len(absolute_errors)\n",
    "# mean_absolute_error = sum(absolute_errors)/N\n",
    "# print('The mean absolute error for ' + str(days_to_forecast) + ' days of forecasts with the default Prophet model is: ' + str(round(mean_absolute_error, 2))) # round to 2 decimal places"
   ]
  },
  {
   "cell_type": "code",
   "execution_count": 58,
   "metadata": {
    "_kg_hide-input": true
   },
   "outputs": [
    {
     "name": "stdout",
     "output_type": "stream",
     "text": [
      "The mean absolute error for 7 days of forecasts with the custom Prophet model is: 30364.02\n"
     ]
    }
   ],
   "source": [
    "# mean_absolute_error_custom = sum(absolute_errors_custom)/N\n",
    "# print('The mean absolute error for ' + str(days_to_forecast) + ' days of forecasts with the custom Prophet model is: ' + str(round(mean_absolute_error_custom, 2))) # round to 2 decimal places"
   ]
  },
  {
   "cell_type": "markdown",
   "metadata": {},
   "source": [
    "## This kernel will be periodically updated, with refresh in visualizations and forecasts (with new models)"
   ]
  }
 ],
 "metadata": {
  "kernelspec": {
   "display_name": "Python 3 (ipykernel)",
   "language": "python",
   "name": "python3"
  },
  "language_info": {
   "codemirror_mode": {
    "name": "ipython",
    "version": 3
   },
   "file_extension": ".py",
   "mimetype": "text/x-python",
   "name": "python",
   "nbconvert_exporter": "python",
   "pygments_lexer": "ipython3",
   "version": "3.10.13"
  }
 },
 "nbformat": 4,
 "nbformat_minor": 4
}
