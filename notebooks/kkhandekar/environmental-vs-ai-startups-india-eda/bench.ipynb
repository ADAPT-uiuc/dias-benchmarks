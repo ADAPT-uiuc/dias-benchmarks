{
 "cells": [
  {
   "cell_type": "code",
   "execution_count": 12,
   "id": "e4b05658",
   "metadata": {},
   "outputs": [
    {
     "name": "stdout",
     "output_type": "stream",
     "text": [
      "time: 267 µs (started: 2024-05-07 16:56:49 -04:00)\n"
     ]
    }
   ],
   "source": [
    "import os\n",
    "SNAPPY_notebook_path = os.path.join(os.path.abspath(\"\"), \"bench.ipynb\")"
   ]
  },
  {
   "cell_type": "code",
   "execution_count": 13,
   "id": "058d384b",
   "metadata": {},
   "outputs": [
    {
     "name": "stdout",
     "output_type": "stream",
     "text": [
      "time: 2.26 ms (started: 2024-05-07 16:56:49 -04:00)\n"
     ]
    }
   ],
   "source": [
    "import time\n",
    "SNAPPY_start_time = time.perf_counter_ns()"
   ]
  },
  {
   "cell_type": "code",
   "execution_count": 14,
   "id": "0fcc3803",
   "metadata": {},
   "outputs": [
    {
     "name": "stdout",
     "output_type": "stream",
     "text": [
      "The autotime extension is already loaded. To reload it, use:\n",
      "  %reload_ext autotime\n",
      "time: 474 µs (started: 2024-05-07 16:56:49 -04:00)\n"
     ]
    }
   ],
   "source": [
    "%load_ext autotime"
   ]
  },
  {
   "cell_type": "code",
   "execution_count": 15,
   "metadata": {
    "_cell_guid": "b1076dfc-b9ad-4769-8c92-a6c4dae69d19",
    "_uuid": "8f2839f25d086af736a60e9eeb907d3b93b6e0e5",
    "execution": {
     "iopub.execute_input": "2022-10-14T00:50:26.243017Z",
     "iopub.status.busy": "2022-10-14T00:50:26.242594Z",
     "iopub.status.idle": "2022-10-14T00:50:26.250212Z",
     "shell.execute_reply": "2022-10-14T00:50:26.24882Z",
     "shell.execute_reply.started": "2022-10-14T00:50:26.242983Z"
    }
   },
   "outputs": [
    {
     "name": "stdout",
     "output_type": "stream",
     "text": [
      "time: 221 µs (started: 2024-05-07 16:56:49 -04:00)\n"
     ]
    }
   ],
   "source": [
    "import numpy as np # linear algebra\n",
    "import os\n",
    "# STEFANOS: Conditionally import Modin Pandas\n",
    "import pandas as pd\n",
    "\n",
    "\n"
   ]
  },
  {
   "cell_type": "code",
   "execution_count": 16,
   "metadata": {},
   "outputs": [
    {
     "name": "stdout",
     "output_type": "stream",
     "text": [
      "time: 701 µs (started: 2024-05-07 16:56:49 -04:00)\n"
     ]
    }
   ],
   "source": [
    "def hash_anything(obj):\n",
    "    import pandas.util\n",
    "    if isinstance(obj, pd.DataFrame):\n",
    "        return pandas.util.hash_pandas_object(obj, index=False).to_numpy().data\n",
    "    elif isinstance(obj, np.ndarray):\n",
    "        return obj.data\n",
    "    elif isinstance(obj, list):\n",
    "        return str(obj).encode()\n",
    "    else:\n",
    "        return str(obj).encode()\n",
    "\n",
    "\n",
    "def hash_dataframe(df):\n",
    "    import xxhash\n",
    "    h = xxhash.xxh64()\n",
    "    for column in df.round(6).columns:\n",
    "        h.update(hash_anything(df[column]))\n",
    "    return h.digest()\n"
   ]
  },
  {
   "cell_type": "code",
   "execution_count": 17,
   "metadata": {
    "execution": {
     "iopub.execute_input": "2022-10-14T00:50:28.214583Z",
     "iopub.status.busy": "2022-10-14T00:50:28.213556Z",
     "iopub.status.idle": "2022-10-14T00:50:28.281273Z",
     "shell.execute_reply": "2022-10-14T00:50:28.279737Z",
     "shell.execute_reply.started": "2022-10-14T00:50:28.214515Z"
    }
   },
   "outputs": [
    {
     "name": "stdout",
     "output_type": "stream",
     "text": [
      "time: 3.77 ms (started: 2024-05-07 16:56:49 -04:00)\n"
     ]
    }
   ],
   "source": [
    "# load & cleanup\n",
    "file = os.path.abspath('') + '/input/indian-startup-recognized-by-dpiit/Startup_Counts_Across_India.csv'\n",
    "df = pd.read_csv(file)"
   ]
  },
  {
   "cell_type": "markdown",
   "metadata": {},
   "source": [
    "# -- STEFANOS -- Replicate Data"
   ]
  },
  {
   "cell_type": "code",
   "execution_count": 18,
   "metadata": {},
   "outputs": [
    {
     "name": "stdout",
     "output_type": "stream",
     "text": [
      "time: 359 ms (started: 2024-05-07 16:56:49 -04:00)\n"
     ]
    }
   ],
   "source": [
    "factor = 3000\n",
    "df = pd.concat([df]*factor)\n",
    "# df.info()"
   ]
  },
  {
   "cell_type": "code",
   "execution_count": 19,
   "metadata": {},
   "outputs": [
    {
     "data": {
      "text/html": [
       "<div>\n",
       "<style scoped>\n",
       "    .dataframe tbody tr th:only-of-type {\n",
       "        vertical-align: middle;\n",
       "    }\n",
       "\n",
       "    .dataframe tbody tr th {\n",
       "        vertical-align: top;\n",
       "    }\n",
       "\n",
       "    .dataframe thead th {\n",
       "        text-align: right;\n",
       "    }\n",
       "</style>\n",
       "<table border=\"1\" class=\"dataframe\">\n",
       "  <thead>\n",
       "    <tr style=\"text-align: right;\">\n",
       "      <th></th>\n",
       "      <th>Year</th>\n",
       "      <th>State</th>\n",
       "      <th>Industry</th>\n",
       "      <th>Count</th>\n",
       "    </tr>\n",
       "  </thead>\n",
       "  <tbody>\n",
       "    <tr>\n",
       "      <th>0</th>\n",
       "      <td>2022</td>\n",
       "      <td>Andaman and Nicobar Islands</td>\n",
       "      <td>Agriculture</td>\n",
       "      <td>1</td>\n",
       "    </tr>\n",
       "    <tr>\n",
       "      <th>1</th>\n",
       "      <td>2022</td>\n",
       "      <td>Andaman and Nicobar Islands</td>\n",
       "      <td>AR VR (Augmented + Virtual Reality)</td>\n",
       "      <td>1</td>\n",
       "    </tr>\n",
       "    <tr>\n",
       "      <th>2</th>\n",
       "      <td>2022</td>\n",
       "      <td>Andaman and Nicobar Islands</td>\n",
       "      <td>Construction</td>\n",
       "      <td>1</td>\n",
       "    </tr>\n",
       "    <tr>\n",
       "      <th>3</th>\n",
       "      <td>2022</td>\n",
       "      <td>Andaman and Nicobar Islands</td>\n",
       "      <td>Internet of Things</td>\n",
       "      <td>1</td>\n",
       "    </tr>\n",
       "    <tr>\n",
       "      <th>4</th>\n",
       "      <td>2022</td>\n",
       "      <td>Andaman and Nicobar Islands</td>\n",
       "      <td>Marketing</td>\n",
       "      <td>1</td>\n",
       "    </tr>\n",
       "  </tbody>\n",
       "</table>\n",
       "</div>"
      ],
      "text/plain": [
       "   Year                        State                             Industry  \\\n",
       "0  2022  Andaman and Nicobar Islands                          Agriculture   \n",
       "1  2022  Andaman and Nicobar Islands  AR VR (Augmented + Virtual Reality)   \n",
       "2  2022  Andaman and Nicobar Islands                         Construction   \n",
       "3  2022  Andaman and Nicobar Islands                   Internet of Things   \n",
       "4  2022  Andaman and Nicobar Islands                            Marketing   \n",
       "\n",
       "   Count  \n",
       "0      1  \n",
       "1      1  \n",
       "2      1  \n",
       "3      1  \n",
       "4      1  "
      ]
     },
     "execution_count": 19,
     "metadata": {},
     "output_type": "execute_result"
    },
    {
     "name": "stdout",
     "output_type": "stream",
     "text": [
      "time: 1.88 s (started: 2024-05-07 16:56:49 -04:00)\n"
     ]
    }
   ],
   "source": [
    "df.drop('S No.',axis=1,inplace=True)\n",
    "df.dropna(inplace=True)\n",
    "df.reset_index(inplace=True,drop=True)\n",
    "\n",
    "#view\n",
    "df.head()"
   ]
  },
  {
   "cell_type": "code",
   "execution_count": 20,
   "metadata": {
    "execution": {
     "iopub.execute_input": "2022-10-14T00:51:47.771123Z",
     "iopub.status.busy": "2022-10-14T00:51:47.770673Z",
     "iopub.status.idle": "2022-10-14T00:51:47.788885Z",
     "shell.execute_reply": "2022-10-14T00:51:47.787668Z",
     "shell.execute_reply.started": "2022-10-14T00:51:47.771084Z"
    }
   },
   "outputs": [
    {
     "name": "stdout",
     "output_type": "stream",
     "text": [
      "A total of 2361000 startups were started in India between 2016 & 2022, out of which 1473000 are environmental related & 888000 are AI startups.\n",
      "time: 1.08 s (started: 2024-05-07 16:56:51 -04:00)\n"
     ]
    }
   ],
   "source": [
    "# %%time\n",
    "# Industry sub-categories for environmental & AI startups\n",
    "env = ['Agriculture','Green Technology','Renewable Energy','Waste Management']\n",
    "ai = ['AI','Robotics','Computer Vision']\n",
    "\n",
    "# combined df - environmental & AI startups only\n",
    "df_ea = df.loc[(df['Industry'].isin(env)) | (df['Industry'].isin(ai))].reset_index(drop=True,inplace=False)\n",
    "\n",
    "# custom function to set Main Industry\n",
    "def set_MainIndustry(ind):\n",
    "    if ind in env:\n",
    "        return 'ENV'\n",
    "    else:\n",
    "        return 'AI'\n",
    "\n",
    "# adding a new column\n",
    "df_ea['MainIndustry'] = df_ea.Industry.apply(lambda x: set_MainIndustry(x))\n",
    "\n",
    "# basic stats\n",
    "print(f\"A total of {df_ea.shape[0]} startups were started in India between 2016 & 2022, out of which {df_ea.groupby('MainIndustry').size()['ENV']} are environmental related & {df_ea.groupby('MainIndustry').size()['AI']} are AI startups.\")"
   ]
  },
  {
   "cell_type": "code",
   "execution_count": 21,
   "metadata": {},
   "outputs": [
    {
     "name": "stdout",
     "output_type": "stream",
     "text": [
      "b'\\xe5\\xb5\\xc4@\\xd2\\x03k\\xd1'\n",
      "time: 32.1 ms (started: 2024-05-07 16:56:52 -04:00)\n"
     ]
    }
   ],
   "source": [
    "print(hash_dataframe(df_ea))"
   ]
  },
  {
   "cell_type": "code",
   "execution_count": 22,
   "id": "37d8114a",
   "metadata": {},
   "outputs": [
    {
     "name": "stdout",
     "output_type": "stream",
     "text": [
      "Total elapsed time: 3.40474768\n",
      "time: 299 µs (started: 2024-05-07 16:56:52 -04:00)\n"
     ]
    }
   ],
   "source": [
    "SNAPPY_end_time = time.perf_counter_ns()\n",
    "print(\"Total elapsed time:\", (SNAPPY_end_time - SNAPPY_start_time) / (10 ** 9))"
   ]
  },
  {
   "cell_type": "markdown",
   "metadata": {},
   "source": [
    "# -- STEFANOS -- Disable the rest of the code because it's plotting"
   ]
  }
 ],
 "metadata": {
  "kernelspec": {
   "display_name": "Python 3 (ipykernel)",
   "language": "python",
   "name": "python3"
  },
  "language_info": {
   "codemirror_mode": {
    "name": "ipython",
    "version": 3
   },
   "file_extension": ".py",
   "mimetype": "text/x-python",
   "name": "python",
   "nbconvert_exporter": "python",
   "pygments_lexer": "ipython3",
   "version": "3.10.11"
  }
 },
 "nbformat": 4,
 "nbformat_minor": 4
}
