{
 "cells": [
  {
   "cell_type": "markdown",
   "metadata": {
    "papermill": {
     "duration": 0.058649,
     "end_time": "2020-10-16T17:54:52.182923",
     "exception": false,
     "start_time": "2020-10-16T17:54:52.124274",
     "status": "completed"
    },
    "tags": []
   },
   "source": [
    "<font size=+3 color=\"#3B3534\"><center><b>Housing in London 🏘️💷💂</b></center></font>\n",
    "\n",
    "<img src=\"https://images.unsplash.com/photo-1501683567677-568cfd15361c?ixlib=rb-1.2.1&ixid=eyJhcHBfaWQiOjEyMDd9&auto=format&fit=crop&w=1414&q=80\" width=\"750\">\n",
    "<center>Photo by Nigel Tadyanehondo on Unsplash</center>\n",
    "\n",
    "<br>\n",
    "\n",
    "# Introduction\n",
    "\n",
    "Hello readers! The topic of this notebook is the housing market of London in the years between 1995 and 2020. We are going to perform exploratory data analysis with the goal of discovering new information and answering the following questions:\n",
    "\n",
    "- How has the housing market (average house price and number of houses sold) changed over the years in different boroughs of London? How does it compare to England?\n",
    "- What factors affected it the most?\n",
    "\n",
    "<br>\n",
    "\n",
    "**Table of Contents**\n",
    "\n",
    "1. [Introduction](#Introduction)\n",
    "2. [Libraries](#Libraries)\n",
    "3. [Meet the Datasets](#Datasets)\n",
    "4. [London Housing over the Years](#Housing-over-the-Years)\n",
    "5. [Factors Affecting Housing](#Factors-Affecting-Housing)\n",
    "6. [Conclusions](#Conclusions)\n",
    "7. [Future Developement](#Future-Developement)"
   ]
  },
  {
   "cell_type": "markdown",
   "metadata": {
    "papermill": {
     "duration": 0.056582,
     "end_time": "2020-10-16T17:54:52.295841",
     "exception": false,
     "start_time": "2020-10-16T17:54:52.239259",
     "status": "completed"
    },
    "tags": []
   },
   "source": [
    "# Libraries\n",
    "\n",
    "We start by importing the necessary libraries and setting some parameters for the whole notebook (e.g. the display format for the pandas library)."
   ]
  },
  {
   "cell_type": "code",
   "execution_count": 1,
   "metadata": {
    "ExecuteTime": {
     "end_time": "2020-10-16T15:49:54.712688Z",
     "start_time": "2020-10-16T15:49:44.318711Z"
    },
    "papermill": {
     "duration": 2.450738,
     "end_time": "2020-10-16T17:54:54.803578",
     "exception": false,
     "start_time": "2020-10-16T17:54:52.352840",
     "status": "completed"
    },
    "tags": []
   },
   "outputs": [],
   "source": [
    "import numpy as np\n",
    "\n",
    "import pandas as pd\n",
    "from pandas.plotting import scatter_matrix\n",
    "\n",
    "from IPython.display import HTML\n",
    "\n",
    "import warnings\n",
    "warnings.filterwarnings('ignore')"
   ]
  },
  {
   "cell_type": "code",
   "execution_count": null,
   "metadata": {
    "papermill": {
     "duration": 14.754582,
     "end_time": "2020-10-16T17:55:09.617953",
     "exception": false,
     "start_time": "2020-10-16T17:54:54.863371",
     "status": "completed"
    },
    "tags": []
   },
   "outputs": [],
   "source": []
  },
  {
   "cell_type": "code",
   "execution_count": 2,
   "metadata": {
    "ExecuteTime": {
     "end_time": "2020-10-16T15:49:54.789385Z",
     "start_time": "2020-10-16T15:49:54.769966Z"
    },
    "papermill": {
     "duration": 0.071514,
     "end_time": "2020-10-16T17:55:09.750182",
     "exception": false,
     "start_time": "2020-10-16T17:55:09.678668",
     "status": "completed"
    },
    "tags": []
   },
   "outputs": [],
   "source": [
    "pd.options.display.float_format = '{:,.2f}'.format\n",
    "# pd.set_option('precision', 2)\n",
    "font_size = 17"
   ]
  },
  {
   "cell_type": "markdown",
   "metadata": {
    "papermill": {
     "duration": 0.061287,
     "end_time": "2020-10-16T17:55:09.873678",
     "exception": false,
     "start_time": "2020-10-16T17:55:09.812391",
     "status": "completed"
    },
    "tags": []
   },
   "source": [
    "# Datasets\n",
    "\n",
    "We are going to use the [Housing in London](https://www.kaggle.com/justinas/housing-in-london) dataset which is provided by [Justinas Cirtautas](https://www.kaggle.com/justinas). It contains two csv files ('**housing_in_london_monthly_variables.csv**' and '**housing_in_london_yearly_variables.csv'**) with a lot of relevant information such as the monthly average house prices, yearly mean and median salary for residents of each area, etc.\n",
    "\n",
    "The data is split by areas of London called boroughs, but some of the instances correspond to other UK regions (like North East, West Midlands, etc.).\n",
    "\n",
    "Additionally, we are going to use a third dataset for plotting maps ([London Borough and Ward Boundaries up to 2014](https://www.kaggle.com/csobral/london-borough-and-ward-boundaries-up-to-2014/notebooks), provided by [Cayo Costa Sobral](https://www.kaggle.com/csobral))."
   ]
  },
  {
   "cell_type": "markdown",
   "metadata": {
    "papermill": {
     "duration": 0.061209,
     "end_time": "2020-10-16T17:55:09.997253",
     "exception": false,
     "start_time": "2020-10-16T17:55:09.936044",
     "status": "completed"
    },
    "tags": []
   },
   "source": [
    "# Housing over the Years\n",
    "\n",
    "We are going to focus on the **average price** and the **number of houses sold** in each area. \n",
    "\n",
    "For this task, we need two datasets:\n",
    "- '**housing_in_london_monthly_variables**' which contains monthly information about the London boroughs and the other UK regions, and\n",
    "- '**London_Borough_Excluding_MHW.shp**' for plotting maps.\n",
    "\n",
    "## Data Preprocessing\n",
    "\n",
    "Let's import the first dataset and take a quick look at the data:"
   ]
  },
  {
   "cell_type": "code",
   "execution_count": 3,
   "metadata": {
    "ExecuteTime": {
     "end_time": "2020-10-16T17:08:26.680217Z",
     "start_time": "2020-10-16T17:08:26.441210Z"
    },
    "papermill": {
     "duration": 0.145213,
     "end_time": "2020-10-16T17:55:10.204770",
     "exception": false,
     "start_time": "2020-10-16T17:55:10.059557",
     "status": "completed"
    },
    "tags": []
   },
   "outputs": [
    {
     "name": "stdout",
     "output_type": "stream",
     "text": [
      "This dataset contains 13549 rows and 7 columns.\n"
     ]
    },
    {
     "data": {
      "text/html": [
       "<div>\n",
       "<style scoped>\n",
       "    .dataframe tbody tr th:only-of-type {\n",
       "        vertical-align: middle;\n",
       "    }\n",
       "\n",
       "    .dataframe tbody tr th {\n",
       "        vertical-align: top;\n",
       "    }\n",
       "\n",
       "    .dataframe thead th {\n",
       "        text-align: right;\n",
       "    }\n",
       "</style>\n",
       "<table border=\"1\" class=\"dataframe\">\n",
       "  <thead>\n",
       "    <tr style=\"text-align: right;\">\n",
       "      <th></th>\n",
       "      <th>date</th>\n",
       "      <th>area</th>\n",
       "      <th>average_price</th>\n",
       "      <th>code</th>\n",
       "      <th>houses_sold</th>\n",
       "      <th>no_of_crimes</th>\n",
       "      <th>borough_flag</th>\n",
       "    </tr>\n",
       "  </thead>\n",
       "  <tbody>\n",
       "    <tr>\n",
       "      <th>0</th>\n",
       "      <td>1995-01-01</td>\n",
       "      <td>city of london</td>\n",
       "      <td>91449</td>\n",
       "      <td>E09000001</td>\n",
       "      <td>17.00</td>\n",
       "      <td>NaN</td>\n",
       "      <td>1</td>\n",
       "    </tr>\n",
       "    <tr>\n",
       "      <th>1</th>\n",
       "      <td>1995-02-01</td>\n",
       "      <td>city of london</td>\n",
       "      <td>82203</td>\n",
       "      <td>E09000001</td>\n",
       "      <td>7.00</td>\n",
       "      <td>NaN</td>\n",
       "      <td>1</td>\n",
       "    </tr>\n",
       "    <tr>\n",
       "      <th>2</th>\n",
       "      <td>1995-03-01</td>\n",
       "      <td>city of london</td>\n",
       "      <td>79121</td>\n",
       "      <td>E09000001</td>\n",
       "      <td>14.00</td>\n",
       "      <td>NaN</td>\n",
       "      <td>1</td>\n",
       "    </tr>\n",
       "    <tr>\n",
       "      <th>3</th>\n",
       "      <td>1995-04-01</td>\n",
       "      <td>city of london</td>\n",
       "      <td>77101</td>\n",
       "      <td>E09000001</td>\n",
       "      <td>7.00</td>\n",
       "      <td>NaN</td>\n",
       "      <td>1</td>\n",
       "    </tr>\n",
       "    <tr>\n",
       "      <th>4</th>\n",
       "      <td>1995-05-01</td>\n",
       "      <td>city of london</td>\n",
       "      <td>84409</td>\n",
       "      <td>E09000001</td>\n",
       "      <td>10.00</td>\n",
       "      <td>NaN</td>\n",
       "      <td>1</td>\n",
       "    </tr>\n",
       "  </tbody>\n",
       "</table>\n",
       "</div>"
      ],
      "text/plain": [
       "        date            area  average_price       code  houses_sold  \\\n",
       "0 1995-01-01  city of london          91449  E09000001        17.00   \n",
       "1 1995-02-01  city of london          82203  E09000001         7.00   \n",
       "2 1995-03-01  city of london          79121  E09000001        14.00   \n",
       "3 1995-04-01  city of london          77101  E09000001         7.00   \n",
       "4 1995-05-01  city of london          84409  E09000001        10.00   \n",
       "\n",
       "   no_of_crimes  borough_flag  \n",
       "0           NaN             1  \n",
       "1           NaN             1  \n",
       "2           NaN             1  \n",
       "3           NaN             1  \n",
       "4           NaN             1  "
      ]
     },
     "execution_count": 3,
     "metadata": {},
     "output_type": "execute_result"
    }
   ],
   "source": [
    "df_m = pd.read_csv('../input/housing_in_london_monthly_variables.csv', parse_dates = ['date'])\n",
    "\n",
    "print ('This dataset contains {} rows and {} columns.'.format(df_m.shape[0], df_m.shape[1]))\n",
    "df_m.head()"
   ]
  },
  {
   "cell_type": "markdown",
   "metadata": {
    "papermill": {
     "duration": 0.062192,
     "end_time": "2020-10-16T17:55:10.331079",
     "exception": false,
     "start_time": "2020-10-16T17:55:10.268887",
     "status": "completed"
    },
    "tags": []
   },
   "source": [
    "There are 7 attributes in total. An instance represents a London borough if 'borough_flag' equals 1. The meaning of the rest of the attributes can be easily inferred from their name.\n",
    "\n",
    "The method `info()` can give us valuable information such as the type and the number of missing values in each attribute:"
   ]
  },
  {
   "cell_type": "code",
   "execution_count": 4,
   "metadata": {
    "ExecuteTime": {
     "end_time": "2020-10-16T17:08:26.828280Z",
     "start_time": "2020-10-16T17:08:26.799352Z"
    },
    "papermill": {
     "duration": 0.089271,
     "end_time": "2020-10-16T17:55:10.482670",
     "exception": false,
     "start_time": "2020-10-16T17:55:10.393399",
     "status": "completed"
    },
    "tags": []
   },
   "outputs": [
    {
     "name": "stdout",
     "output_type": "stream",
     "text": [
      "<class 'pandas.core.frame.DataFrame'>\n",
      "RangeIndex: 13549 entries, 0 to 13548\n",
      "Data columns (total 7 columns):\n",
      " #   Column         Non-Null Count  Dtype         \n",
      "---  ------         --------------  -----         \n",
      " 0   date           13549 non-null  datetime64[ns]\n",
      " 1   area           13549 non-null  object        \n",
      " 2   average_price  13549 non-null  int64         \n",
      " 3   code           13549 non-null  object        \n",
      " 4   houses_sold    13455 non-null  float64       \n",
      " 5   no_of_crimes   7439 non-null   float64       \n",
      " 6   borough_flag   13549 non-null  int64         \n",
      "dtypes: datetime64[ns](1), float64(2), int64(2), object(2)\n",
      "memory usage: 741.1+ KB\n"
     ]
    }
   ],
   "source": [
    "df_m.info()"
   ]
  },
  {
   "cell_type": "code",
   "execution_count": 5,
   "metadata": {
    "ExecuteTime": {
     "end_time": "2020-10-16T17:08:27.037825Z",
     "start_time": "2020-10-16T17:08:26.989937Z"
    },
    "papermill": {
     "duration": 0.120567,
     "end_time": "2020-10-16T17:55:10.666760",
     "exception": false,
     "start_time": "2020-10-16T17:55:10.546193",
     "status": "completed"
    },
    "tags": []
   },
   "outputs": [
    {
     "name": "stdout",
     "output_type": "stream",
     "text": [
      "Missing: \n"
     ]
    },
    {
     "data": {
      "text/html": [
       "<div>\n",
       "<style scoped>\n",
       "    .dataframe tbody tr th:only-of-type {\n",
       "        vertical-align: middle;\n",
       "    }\n",
       "\n",
       "    .dataframe tbody tr th {\n",
       "        vertical-align: top;\n",
       "    }\n",
       "\n",
       "    .dataframe thead th {\n",
       "        text-align: right;\n",
       "    }\n",
       "</style>\n",
       "<table border=\"1\" class=\"dataframe\">\n",
       "  <thead>\n",
       "    <tr style=\"text-align: right;\">\n",
       "      <th></th>\n",
       "      <th>Counts</th>\n",
       "      <th>% Missing</th>\n",
       "    </tr>\n",
       "  </thead>\n",
       "  <tbody>\n",
       "    <tr>\n",
       "      <th>no_of_crimes</th>\n",
       "      <td>6110</td>\n",
       "      <td>45.10</td>\n",
       "    </tr>\n",
       "    <tr>\n",
       "      <th>houses_sold</th>\n",
       "      <td>94</td>\n",
       "      <td>0.69</td>\n",
       "    </tr>\n",
       "    <tr>\n",
       "      <th>date</th>\n",
       "      <td>0</td>\n",
       "      <td>0.00</td>\n",
       "    </tr>\n",
       "    <tr>\n",
       "      <th>area</th>\n",
       "      <td>0</td>\n",
       "      <td>0.00</td>\n",
       "    </tr>\n",
       "    <tr>\n",
       "      <th>average_price</th>\n",
       "      <td>0</td>\n",
       "      <td>0.00</td>\n",
       "    </tr>\n",
       "  </tbody>\n",
       "</table>\n",
       "</div>"
      ],
      "text/plain": [
       "               Counts  % Missing\n",
       "no_of_crimes     6110      45.10\n",
       "houses_sold        94       0.69\n",
       "date                0       0.00\n",
       "area                0       0.00\n",
       "average_price       0       0.00"
      ]
     },
     "execution_count": 5,
     "metadata": {},
     "output_type": "execute_result"
    }
   ],
   "source": [
    "null_df_m = df_m.isnull().sum().sort_values(ascending = False)\n",
    "percent = (df_m.isnull().sum()/df_m.isnull().count()).sort_values(ascending = False)*100\n",
    "\n",
    "null_df_m = pd.concat([null_df_m, percent], axis = 1, keys = ['Counts', '% Missing'])\n",
    "print ('Missing: ')\n",
    "null_df_m.head()"
   ]
  },
  {
   "cell_type": "markdown",
   "metadata": {
    "papermill": {
     "duration": 0.064513,
     "end_time": "2020-10-16T17:55:10.795874",
     "exception": false,
     "start_time": "2020-10-16T17:55:10.731361",
     "status": "completed"
    },
    "tags": []
   },
   "source": [
    "Two attributes, 'houses_sold' and 'no_of_crimes', have missing values. We will drop the whole 'no_of_crimes' attribute since almost 50% of its instances have NaN values. \n",
    "\n",
    "It's easier to replace missing values in the 'houses_sold' attribute as only a small portion is missing. We will use the mean value for the same area for all years in each case. Of course, someone could argue that this number would change over the years, but we could assume that the final results won't be affected due to small number of values being changed."
   ]
  },
  {
   "cell_type": "code",
   "execution_count": 6,
   "metadata": {
    "ExecuteTime": {
     "end_time": "2020-10-16T17:08:27.408556Z",
     "start_time": "2020-10-16T17:08:27.380145Z"
    },
    "papermill": {
     "duration": 0.089519,
     "end_time": "2020-10-16T17:55:10.948400",
     "exception": false,
     "start_time": "2020-10-16T17:55:10.858881",
     "status": "completed"
    },
    "tags": []
   },
   "outputs": [],
   "source": [
    "df_m.drop('no_of_crimes', axis = 1, inplace = True)   # drop the 'no_of_crimes column\n",
    "\n",
    "df_m['houses_sold'].fillna(df_m.groupby('area')['houses_sold'].transform('mean'), inplace = True) # fill NaN values with the mean of that particular area"
   ]
  },
  {
   "cell_type": "markdown",
   "metadata": {
    "papermill": {
     "duration": 0.071438,
     "end_time": "2020-10-16T17:55:11.083963",
     "exception": false,
     "start_time": "2020-10-16T17:55:11.012525",
     "status": "completed"
    },
    "tags": []
   },
   "source": [
    "The 'date' attribute is of datatime type, hence we can extract the corresponding year of each instance (month and day are not important):"
   ]
  },
  {
   "cell_type": "code",
   "execution_count": 7,
   "metadata": {
    "ExecuteTime": {
     "end_time": "2020-10-16T17:08:27.747993Z",
     "start_time": "2020-10-16T17:08:27.725248Z"
    },
    "papermill": {
     "duration": 0.085869,
     "end_time": "2020-10-16T17:55:11.243869",
     "exception": false,
     "start_time": "2020-10-16T17:55:11.158000",
     "status": "completed"
    },
    "tags": []
   },
   "outputs": [
    {
     "data": {
      "text/html": [
       "<div>\n",
       "<style scoped>\n",
       "    .dataframe tbody tr th:only-of-type {\n",
       "        vertical-align: middle;\n",
       "    }\n",
       "\n",
       "    .dataframe tbody tr th {\n",
       "        vertical-align: top;\n",
       "    }\n",
       "\n",
       "    .dataframe thead th {\n",
       "        text-align: right;\n",
       "    }\n",
       "</style>\n",
       "<table border=\"1\" class=\"dataframe\">\n",
       "  <thead>\n",
       "    <tr style=\"text-align: right;\">\n",
       "      <th></th>\n",
       "      <th>date</th>\n",
       "      <th>area</th>\n",
       "      <th>average_price</th>\n",
       "      <th>code</th>\n",
       "      <th>houses_sold</th>\n",
       "      <th>borough_flag</th>\n",
       "      <th>year</th>\n",
       "    </tr>\n",
       "  </thead>\n",
       "  <tbody>\n",
       "    <tr>\n",
       "      <th>0</th>\n",
       "      <td>1995-01-01</td>\n",
       "      <td>city of london</td>\n",
       "      <td>91449</td>\n",
       "      <td>E09000001</td>\n",
       "      <td>17.00</td>\n",
       "      <td>1</td>\n",
       "      <td>1995</td>\n",
       "    </tr>\n",
       "    <tr>\n",
       "      <th>13548</th>\n",
       "      <td>2020-01-01</td>\n",
       "      <td>england</td>\n",
       "      <td>247355</td>\n",
       "      <td>E92000001</td>\n",
       "      <td>77,182.73</td>\n",
       "      <td>0</td>\n",
       "      <td>2020</td>\n",
       "    </tr>\n",
       "  </tbody>\n",
       "</table>\n",
       "</div>"
      ],
      "text/plain": [
       "            date            area  average_price       code  houses_sold  \\\n",
       "0     1995-01-01  city of london          91449  E09000001        17.00   \n",
       "13548 2020-01-01         england         247355  E92000001    77,182.73   \n",
       "\n",
       "       borough_flag  year  \n",
       "0                 1  1995  \n",
       "13548             0  2020  "
      ]
     },
     "execution_count": 7,
     "metadata": {},
     "output_type": "execute_result"
    }
   ],
   "source": [
    "df_m['year'] = df_m['date'].dt.year\n",
    "df_m.iloc[[0, -1]]"
   ]
  },
  {
   "cell_type": "markdown",
   "metadata": {
    "papermill": {
     "duration": 0.064207,
     "end_time": "2020-10-16T17:55:11.372208",
     "exception": false,
     "start_time": "2020-10-16T17:55:11.308001",
     "status": "completed"
    },
    "tags": []
   },
   "source": [
    "The dataset contains samples from January 1995 to January 2020. We will discard all samples from 2020 since the year is not complete:"
   ]
  },
  {
   "cell_type": "code",
   "execution_count": 8,
   "metadata": {
    "ExecuteTime": {
     "end_time": "2020-10-16T17:08:28.074493Z",
     "start_time": "2020-10-16T17:08:28.053181Z"
    },
    "papermill": {
     "duration": 0.080122,
     "end_time": "2020-10-16T17:55:11.516379",
     "exception": false,
     "start_time": "2020-10-16T17:55:11.436257",
     "status": "completed"
    },
    "tags": []
   },
   "outputs": [
    {
     "data": {
      "text/plain": [
       "2019"
      ]
     },
     "execution_count": 8,
     "metadata": {},
     "output_type": "execute_result"
    }
   ],
   "source": [
    "df_m = df_m[df_m['year'] < 2020]\n",
    "df_m['year'].max()"
   ]
  },
  {
   "cell_type": "markdown",
   "metadata": {
    "papermill": {
     "duration": 0.064305,
     "end_time": "2020-10-16T17:55:11.645909",
     "exception": false,
     "start_time": "2020-10-16T17:55:11.581604",
     "status": "completed"
    },
    "tags": []
   },
   "source": [
    "## Data Exploration\n",
    "\n",
    "According to [Wikipedia](https://en.wikipedia.org/wiki/List_of_London_boroughs), there are 33 boroughs in London (32 + the City of London). Is that the case in our dataset?"
   ]
  },
  {
   "cell_type": "code",
   "execution_count": 9,
   "metadata": {
    "ExecuteTime": {
     "end_time": "2020-10-16T17:08:28.416167Z",
     "start_time": "2020-10-16T17:08:28.391104Z"
    },
    "papermill": {
     "duration": 0.079771,
     "end_time": "2020-10-16T17:55:11.791036",
     "exception": false,
     "start_time": "2020-10-16T17:55:11.711265",
     "status": "completed"
    },
    "tags": []
   },
   "outputs": [
    {
     "data": {
      "text/plain": [
       "33"
      ]
     },
     "execution_count": 9,
     "metadata": {},
     "output_type": "execute_result"
    }
   ],
   "source": [
    "lnd_boroughs = df_m[df_m['borough_flag'] == 1]['area'].unique()\n",
    "len(lnd_boroughs)"
   ]
  },
  {
   "cell_type": "markdown",
   "metadata": {
    "papermill": {
     "duration": 0.067331,
     "end_time": "2020-10-16T17:55:11.923464",
     "exception": false,
     "start_time": "2020-10-16T17:55:11.856133",
     "status": "completed"
    },
    "tags": []
   },
   "source": [
    "It is! How many and which regions are outside of London?"
   ]
  },
  {
   "cell_type": "code",
   "execution_count": 10,
   "metadata": {
    "ExecuteTime": {
     "end_time": "2020-10-16T17:08:28.759315Z",
     "start_time": "2020-10-16T17:08:28.738107Z"
    },
    "papermill": {
     "duration": 0.08187,
     "end_time": "2020-10-16T17:55:12.074637",
     "exception": false,
     "start_time": "2020-10-16T17:55:11.992767",
     "status": "completed"
    },
    "tags": []
   },
   "outputs": [
    {
     "data": {
      "text/plain": [
       "12"
      ]
     },
     "execution_count": 10,
     "metadata": {},
     "output_type": "execute_result"
    }
   ],
   "source": [
    "df_m[df_m['borough_flag'] == 0]['area'].nunique()"
   ]
  },
  {
   "cell_type": "code",
   "execution_count": 11,
   "metadata": {
    "ExecuteTime": {
     "end_time": "2020-10-16T17:08:28.973086Z",
     "start_time": "2020-10-16T17:08:28.954366Z"
    },
    "papermill": {
     "duration": 0.082343,
     "end_time": "2020-10-16T17:55:12.224428",
     "exception": false,
     "start_time": "2020-10-16T17:55:12.142085",
     "status": "completed"
    },
    "tags": []
   },
   "outputs": [
    {
     "data": {
      "text/plain": [
       "array(['south east', 'inner london', 'outer london', 'north east',\n",
       "       'north west', 'yorks and the humber', 'east midlands',\n",
       "       'west midlands', 'east of england', 'london', 'south west',\n",
       "       'england'], dtype=object)"
      ]
     },
     "execution_count": 11,
     "metadata": {},
     "output_type": "execute_result"
    }
   ],
   "source": [
    "df_m[df_m['borough_flag'] == 0]['area'].unique()"
   ]
  },
  {
   "cell_type": "markdown",
   "metadata": {
    "papermill": {
     "duration": 0.065399,
     "end_time": "2020-10-16T17:55:12.356370",
     "exception": false,
     "start_time": "2020-10-16T17:55:12.290971",
     "status": "completed"
    },
    "tags": []
   },
   "source": [
    "We can manually isolate the ones that correspond to a region in England: "
   ]
  },
  {
   "cell_type": "code",
   "execution_count": 12,
   "metadata": {
    "ExecuteTime": {
     "end_time": "2020-10-16T17:08:29.264955Z",
     "start_time": "2020-10-16T17:08:29.258101Z"
    },
    "papermill": {
     "duration": 0.074863,
     "end_time": "2020-10-16T17:55:12.497951",
     "exception": false,
     "start_time": "2020-10-16T17:55:12.423088",
     "status": "completed"
    },
    "tags": []
   },
   "outputs": [],
   "source": [
    "eng_regions = ['south west', 'south east', 'east of england', 'west midlands', 'east midlands', 'yorks and the humber', 'north west', 'north east']"
   ]
  },
  {
   "cell_type": "markdown",
   "metadata": {
    "papermill": {
     "duration": 0.06585,
     "end_time": "2020-10-16T17:55:12.630196",
     "exception": false,
     "start_time": "2020-10-16T17:55:12.564346",
     "status": "completed"
    },
    "tags": []
   },
   "source": [
    "### London VS England\n",
    "\n",
    "We can now split the dataset into two: one for boroughs in London and one for the other regions of England:"
   ]
  },
  {
   "cell_type": "code",
   "execution_count": 13,
   "metadata": {
    "ExecuteTime": {
     "end_time": "2020-10-16T17:08:29.644976Z",
     "start_time": "2020-10-16T17:08:29.624103Z"
    },
    "papermill": {
     "duration": 0.080591,
     "end_time": "2020-10-16T17:55:12.776840",
     "exception": false,
     "start_time": "2020-10-16T17:55:12.696249",
     "status": "completed"
    },
    "tags": []
   },
   "outputs": [],
   "source": [
    "lnd = df_m[df_m['area'].isin(lnd_boroughs)]\n",
    "eng = df_m[df_m['area'].isin(eng_regions)]"
   ]
  },
  {
   "cell_type": "markdown",
   "metadata": {
    "papermill": {
     "duration": 0.069293,
     "end_time": "2020-10-16T17:55:12.913381",
     "exception": false,
     "start_time": "2020-10-16T17:55:12.844088",
     "status": "completed"
    },
    "tags": []
   },
   "source": [
    "#### Average Price\n",
    "\n",
    "The `groupby()` method allows us to calculate the mean 'average price' for each 'date':"
   ]
  },
  {
   "cell_type": "code",
   "execution_count": 14,
   "metadata": {
    "ExecuteTime": {
     "end_time": "2020-10-16T17:08:30.050494Z",
     "start_time": "2020-10-16T17:08:30.037720Z"
    },
    "papermill": {
     "duration": 0.087761,
     "end_time": "2020-10-16T17:55:13.069391",
     "exception": false,
     "start_time": "2020-10-16T17:55:12.981630",
     "status": "completed"
    },
    "tags": []
   },
   "outputs": [],
   "source": [
    "lnd_pr = lnd.groupby('date')['average_price'].mean()\n",
    "eng_pr = eng.groupby('date')['average_price'].mean()"
   ]
  },
  {
   "cell_type": "code",
   "execution_count": null,
   "metadata": {
    "ExecuteTime": {
     "end_time": "2020-10-16T17:08:31.659317Z",
     "start_time": "2020-10-16T17:08:30.421298Z"
    },
    "papermill": {
     "duration": 0.540104,
     "end_time": "2020-10-16T17:55:13.677163",
     "exception": false,
     "start_time": "2020-10-16T17:55:13.137059",
     "status": "completed"
    },
    "tags": []
   },
   "outputs": [],
   "source": []
  },
  {
   "cell_type": "markdown",
   "metadata": {
    "papermill": {
     "duration": 0.07023,
     "end_time": "2020-10-16T17:55:13.818424",
     "exception": false,
     "start_time": "2020-10-16T17:55:13.748194",
     "status": "completed"
    },
    "tags": []
   },
   "source": [
    "- In overall, the averace price follows an **upward trend** during the studied time frame, with London always having a higher average price. \n",
    "- This upward trend was disrupted by the the **[Great Recession](https://en.wikipedia.org/wiki/Great_Recession)** (2007-209), hence the significant **decline starting from 2007**. London apparently **recovered quickly** and the average price increased rapidly until 2016. **England** followed a similar behaviour but with a **moderate rise** in the same period.\n",
    "- Arguably, the **[Brexit referendum](https://en.wikipedia.org/wiki/2016_United_Kingdom_European_Union_membership_referendum)** had an impact in London housing since the average price hit a **plateau after 2016**. It seems the the rest of England wasn't affected as much from the referendum.\n",
    "\n",
    "<br>\n",
    "\n",
    "<font color=\"#842A16\" size=+0><b>Gifs</b></font> \n",
    "\n",
    "I really like adding another dimension in my graphs, by making **gifs**. I recently came across the [**gif**](https://github.com/maxhumber/gif) library by Max Humber, which allows us to make gifs simply by building a bunch of \"frames\" with a standard for loop.\n",
    "\n",
    "The steps are the following:\n",
    "\n",
    "- Create a 'plot' function which plots the average price for both London (df_lnd) and England (df_eng) until the specified date (third argument). It doesn't have to return something.\n",
    "- Decorate the plot function with @gif.frame, \n",
    "- Use a for loop to create a frame for each month, and append the result to a list (called 'frames' in our case). Finally,\n",
    "- Use the `save()` method from the gif library to save it."
   ]
  },
  {
   "cell_type": "code",
   "execution_count": null,
   "metadata": {
    "ExecuteTime": {
     "end_time": "2020-10-16T17:08:32.065411Z",
     "start_time": "2020-10-16T17:08:32.033301Z"
    },
    "code_folding": [
     11,
     13,
     16
    ],
    "papermill": {
     "duration": 0.096925,
     "end_time": "2020-10-16T17:55:13.986922",
     "exception": false,
     "start_time": "2020-10-16T17:55:13.889997",
     "status": "completed"
    },
    "tags": []
   },
   "outputs": [],
   "source": []
  },
  {
   "cell_type": "code",
   "execution_count": 15,
   "metadata": {
    "ExecuteTime": {
     "end_time": "2020-10-16T17:09:16.829142Z",
     "start_time": "2020-10-16T17:08:33.032396Z"
    },
    "papermill": {
     "duration": 15.428979,
     "end_time": "2020-10-16T17:55:29.490850",
     "exception": false,
     "start_time": "2020-10-16T17:55:14.061871",
     "status": "completed"
    },
    "tags": []
   },
   "outputs": [],
   "source": [
    "# frames = []\n",
    "# for months in pd.date_range(start = lnd_pr.index[0], end = lnd_pr.index[-1], freq = '3MS'): # 3MS --> every three months\n",
    "#     frame = plot(lnd_pr, eng_pr, months)\n",
    "#     frames.append(frame)\n",
    "    \n",
    "# gif.save(frames, 'Price-Lnd_vs_Eng.gif', duration = 1, unit = 's', between = 'startend')"
   ]
  },
  {
   "cell_type": "markdown",
   "metadata": {
    "papermill": {
     "duration": 0.073641,
     "end_time": "2020-10-16T17:55:29.637205",
     "exception": false,
     "start_time": "2020-10-16T17:55:29.563564",
     "status": "completed"
    },
    "tags": []
   },
   "source": [
    "We can insert our gif in the notebook:"
   ]
  },
  {
   "cell_type": "code",
   "execution_count": 16,
   "metadata": {
    "ExecuteTime": {
     "end_time": "2020-10-16T17:09:17.222212Z",
     "start_time": "2020-10-16T17:09:17.202790Z"
    },
    "papermill": {
     "duration": 0.085985,
     "end_time": "2020-10-16T17:55:29.797224",
     "exception": false,
     "start_time": "2020-10-16T17:55:29.711239",
     "status": "completed"
    },
    "tags": []
   },
   "outputs": [],
   "source": [
    "# HTML('<img src=\"./Price-Lnd_vs_Eng.gif\" />')"
   ]
  },
  {
   "cell_type": "markdown",
   "metadata": {
    "papermill": {
     "duration": 0.073241,
     "end_time": "2020-10-16T17:55:29.942259",
     "exception": false,
     "start_time": "2020-10-16T17:55:29.869018",
     "status": "completed"
    },
    "tags": []
   },
   "source": [
    "<br>\n",
    "\n",
    "The average price in each borough fluctuates through time. However, we can calculate its mean which can give us a rough indication of how expensive each area is."
   ]
  },
  {
   "cell_type": "code",
   "execution_count": 17,
   "metadata": {
    "ExecuteTime": {
     "end_time": "2020-10-16T07:38:45.387125Z",
     "start_time": "2020-10-16T07:38:45.361812Z"
    },
    "papermill": {
     "duration": 0.097138,
     "end_time": "2020-10-16T17:55:30.167152",
     "exception": false,
     "start_time": "2020-10-16T17:55:30.070014",
     "status": "completed"
    },
    "tags": []
   },
   "outputs": [
    {
     "name": "stdout",
     "output_type": "stream",
     "text": [
      "\n",
      "The 10 most expensive boroughs in London are:\n"
     ]
    },
    {
     "data": {
      "text/html": [
       "<div>\n",
       "<style scoped>\n",
       "    .dataframe tbody tr th:only-of-type {\n",
       "        vertical-align: middle;\n",
       "    }\n",
       "\n",
       "    .dataframe tbody tr th {\n",
       "        vertical-align: top;\n",
       "    }\n",
       "\n",
       "    .dataframe thead th {\n",
       "        text-align: right;\n",
       "    }\n",
       "</style>\n",
       "<table border=\"1\" class=\"dataframe\">\n",
       "  <thead>\n",
       "    <tr style=\"text-align: right;\">\n",
       "      <th></th>\n",
       "      <th>average_price</th>\n",
       "    </tr>\n",
       "    <tr>\n",
       "      <th>area</th>\n",
       "      <th></th>\n",
       "    </tr>\n",
       "  </thead>\n",
       "  <tbody>\n",
       "    <tr>\n",
       "      <th>kensington and chelsea</th>\n",
       "      <td>740,606.68</td>\n",
       "    </tr>\n",
       "    <tr>\n",
       "      <th>westminster</th>\n",
       "      <td>542,282.06</td>\n",
       "    </tr>\n",
       "    <tr>\n",
       "      <th>camden</th>\n",
       "      <td>466,358.25</td>\n",
       "    </tr>\n",
       "    <tr>\n",
       "      <th>hammersmith and fulham</th>\n",
       "      <td>442,773.38</td>\n",
       "    </tr>\n",
       "    <tr>\n",
       "      <th>city of london</th>\n",
       "      <td>422,771.36</td>\n",
       "    </tr>\n",
       "    <tr>\n",
       "      <th>richmond upon thames</th>\n",
       "      <td>381,640.97</td>\n",
       "    </tr>\n",
       "    <tr>\n",
       "      <th>islington</th>\n",
       "      <td>364,160.28</td>\n",
       "    </tr>\n",
       "    <tr>\n",
       "      <th>wandsworth</th>\n",
       "      <td>341,411.03</td>\n",
       "    </tr>\n",
       "    <tr>\n",
       "      <th>barnet</th>\n",
       "      <td>304,272.12</td>\n",
       "    </tr>\n",
       "    <tr>\n",
       "      <th>haringey</th>\n",
       "      <td>292,017.11</td>\n",
       "    </tr>\n",
       "  </tbody>\n",
       "</table>\n",
       "</div>"
      ],
      "text/plain": [
       "                        average_price\n",
       "area                                 \n",
       "kensington and chelsea     740,606.68\n",
       "westminster                542,282.06\n",
       "camden                     466,358.25\n",
       "hammersmith and fulham     442,773.38\n",
       "city of london             422,771.36\n",
       "richmond upon thames       381,640.97\n",
       "islington                  364,160.28\n",
       "wandsworth                 341,411.03\n",
       "barnet                     304,272.12\n",
       "haringey                   292,017.11"
      ]
     },
     "execution_count": 17,
     "metadata": {},
     "output_type": "execute_result"
    }
   ],
   "source": [
    "lnd_b_prices = lnd.groupby('area')['average_price'].mean()\n",
    "lnd_top10_pr = lnd_b_prices.sort_values(ascending = False).to_frame()\n",
    "\n",
    "print ('\\nThe 10 most expensive boroughs in London are:')\n",
    "lnd_top10_pr.head(10)"
   ]
  },
  {
   "cell_type": "code",
   "execution_count": 18,
   "metadata": {
    "ExecuteTime": {
     "end_time": "2020-10-16T07:39:08.729115Z",
     "start_time": "2020-10-16T07:39:07.770797Z"
    },
    "papermill": {
     "duration": 0.347414,
     "end_time": "2020-10-16T17:55:30.589502",
     "exception": false,
     "start_time": "2020-10-16T17:55:30.242088",
     "status": "completed"
    },
    "tags": []
   },
   "outputs": [
    {
     "data": {
      "text/html": [
       "<div>\n",
       "<style scoped>\n",
       "    .dataframe tbody tr th:only-of-type {\n",
       "        vertical-align: middle;\n",
       "    }\n",
       "\n",
       "    .dataframe tbody tr th {\n",
       "        vertical-align: top;\n",
       "    }\n",
       "\n",
       "    .dataframe thead th {\n",
       "        text-align: right;\n",
       "    }\n",
       "</style>\n",
       "<table border=\"1\" class=\"dataframe\">\n",
       "  <thead>\n",
       "    <tr style=\"text-align: right;\">\n",
       "      <th></th>\n",
       "      <th>average_price</th>\n",
       "    </tr>\n",
       "    <tr>\n",
       "      <th>area</th>\n",
       "      <th></th>\n",
       "    </tr>\n",
       "  </thead>\n",
       "  <tbody>\n",
       "    <tr>\n",
       "      <th>haringey</th>\n",
       "      <td>292,017.11</td>\n",
       "    </tr>\n",
       "    <tr>\n",
       "      <th>barnet</th>\n",
       "      <td>304,272.12</td>\n",
       "    </tr>\n",
       "    <tr>\n",
       "      <th>wandsworth</th>\n",
       "      <td>341,411.03</td>\n",
       "    </tr>\n",
       "    <tr>\n",
       "      <th>islington</th>\n",
       "      <td>364,160.28</td>\n",
       "    </tr>\n",
       "    <tr>\n",
       "      <th>richmond upon thames</th>\n",
       "      <td>381,640.97</td>\n",
       "    </tr>\n",
       "    <tr>\n",
       "      <th>city of london</th>\n",
       "      <td>422,771.36</td>\n",
       "    </tr>\n",
       "    <tr>\n",
       "      <th>hammersmith and fulham</th>\n",
       "      <td>442,773.38</td>\n",
       "    </tr>\n",
       "    <tr>\n",
       "      <th>camden</th>\n",
       "      <td>466,358.25</td>\n",
       "    </tr>\n",
       "    <tr>\n",
       "      <th>westminster</th>\n",
       "      <td>542,282.06</td>\n",
       "    </tr>\n",
       "    <tr>\n",
       "      <th>kensington and chelsea</th>\n",
       "      <td>740,606.68</td>\n",
       "    </tr>\n",
       "  </tbody>\n",
       "</table>\n",
       "</div>"
      ],
      "text/plain": [
       "                        average_price\n",
       "area                                 \n",
       "haringey                   292,017.11\n",
       "barnet                     304,272.12\n",
       "wandsworth                 341,411.03\n",
       "islington                  364,160.28\n",
       "richmond upon thames       381,640.97\n",
       "city of london             422,771.36\n",
       "hammersmith and fulham     442,773.38\n",
       "camden                     466,358.25\n",
       "westminster                542,282.06\n",
       "kensington and chelsea     740,606.68"
      ]
     },
     "execution_count": 18,
     "metadata": {},
     "output_type": "execute_result"
    }
   ],
   "source": [
    "lnd_top10_pr.head(10).sort_values(by = 'average_price', ascending = True)"
   ]
  },
  {
   "cell_type": "markdown",
   "metadata": {
    "papermill": {
     "duration": 0.078963,
     "end_time": "2020-10-16T17:55:30.745785",
     "exception": false,
     "start_time": "2020-10-16T17:55:30.666822",
     "status": "completed"
    },
    "tags": []
   },
   "source": [
    "We focus on the 5 most expensive boroughs and see the evolution of the average price through time:"
   ]
  },
  {
   "cell_type": "code",
   "execution_count": 19,
   "metadata": {
    "ExecuteTime": {
     "end_time": "2020-10-16T07:39:14.239063Z",
     "start_time": "2020-10-16T07:39:12.840587Z"
    },
    "code_folding": [
     5
    ],
    "papermill": {
     "duration": 0.492931,
     "end_time": "2020-10-16T17:55:31.318125",
     "exception": false,
     "start_time": "2020-10-16T17:55:30.825194",
     "status": "completed"
    },
    "tags": []
   },
   "outputs": [],
   "source": [
    "top5_indeces = lnd_top10_pr.head().index\n",
    "colors = ['#e74c3c', '#3498db', '#95a5a6', '#34495e', '#2ecc71']\n",
    "\n",
    "\n",
    "for index, i in enumerate(top5_indeces):\n",
    "    df_ = lnd[lnd['area'] == i]\n",
    "    df_ = df_.groupby('date')['average_price'].mean()"
   ]
  },
  {
   "cell_type": "markdown",
   "metadata": {
    "papermill": {
     "duration": 0.080705,
     "end_time": "2020-10-16T17:55:31.482249",
     "exception": false,
     "start_time": "2020-10-16T17:55:31.401544",
     "status": "completed"
    },
    "tags": []
   },
   "source": [
    "- **Kensington and Chelsea** is the **most expensive borough** in London between 1995 and 2019. We can read in [wikipedia](https://en.wikipedia.org/wiki/Royal_Borough_of_Kensington_and_Chelsea) that it holds royal status and it includes many affluent areas, hence the increased price.\n",
    "- **Westministe**r, which is adjacent to Kensighton, comes **second**. Again this is not a surpise since it is the location of the national government and includes many sites commonly associated with London (e.g. the Buckingham Palace, the Houses of Parliament, 10 Downing Street, and Trafalgar Square) ([Source](https://en.wikipedia.org/wiki/City_of_Westminster)).\n",
    "\n",
    "We can perform a similar analysis for England:"
   ]
  },
  {
   "cell_type": "code",
   "execution_count": 20,
   "metadata": {
    "ExecuteTime": {
     "end_time": "2020-10-16T07:39:42.419203Z",
     "start_time": "2020-10-16T07:39:42.385163Z"
    },
    "papermill": {
     "duration": 0.10593,
     "end_time": "2020-10-16T17:55:31.669798",
     "exception": false,
     "start_time": "2020-10-16T17:55:31.563868",
     "status": "completed"
    },
    "tags": []
   },
   "outputs": [
    {
     "name": "stdout",
     "output_type": "stream",
     "text": [
      "The top 3 most expensive regions in England are:\n"
     ]
    },
    {
     "data": {
      "text/html": [
       "<div>\n",
       "<style scoped>\n",
       "    .dataframe tbody tr th:only-of-type {\n",
       "        vertical-align: middle;\n",
       "    }\n",
       "\n",
       "    .dataframe tbody tr th {\n",
       "        vertical-align: top;\n",
       "    }\n",
       "\n",
       "    .dataframe thead th {\n",
       "        text-align: right;\n",
       "    }\n",
       "</style>\n",
       "<table border=\"1\" class=\"dataframe\">\n",
       "  <thead>\n",
       "    <tr style=\"text-align: right;\">\n",
       "      <th></th>\n",
       "      <th>average_price</th>\n",
       "    </tr>\n",
       "    <tr>\n",
       "      <th>area</th>\n",
       "      <th></th>\n",
       "    </tr>\n",
       "  </thead>\n",
       "  <tbody>\n",
       "    <tr>\n",
       "      <th>south east</th>\n",
       "      <td>195,653.01</td>\n",
       "    </tr>\n",
       "    <tr>\n",
       "      <th>east of england</th>\n",
       "      <td>170,796.17</td>\n",
       "    </tr>\n",
       "    <tr>\n",
       "      <th>south west</th>\n",
       "      <td>163,050.03</td>\n",
       "    </tr>\n",
       "  </tbody>\n",
       "</table>\n",
       "</div>"
      ],
      "text/plain": [
       "                 average_price\n",
       "area                          \n",
       "south east          195,653.01\n",
       "east of england     170,796.17\n",
       "south west          163,050.03"
      ]
     },
     "execution_count": 20,
     "metadata": {},
     "output_type": "execute_result"
    }
   ],
   "source": [
    "eng_prices = eng.groupby('area')['average_price'].mean()\n",
    "eng_top3_pr = eng_prices.sort_values(ascending = False).to_frame()\n",
    "\n",
    "print('The top 3 most expensive regions in England are:')\n",
    "eng_top3_pr.head(3)"
   ]
  },
  {
   "cell_type": "code",
   "execution_count": 21,
   "metadata": {
    "ExecuteTime": {
     "end_time": "2020-10-16T07:39:44.639083Z",
     "start_time": "2020-10-16T07:39:43.602284Z"
    },
    "code_folding": [
     5
    ],
    "papermill": {
     "duration": 0.434466,
     "end_time": "2020-10-16T17:55:32.188442",
     "exception": false,
     "start_time": "2020-10-16T17:55:31.753976",
     "status": "completed"
    },
    "tags": []
   },
   "outputs": [],
   "source": [
    "top3_indeces = eng_top3_pr.head(3).index\n",
    "colors = ['darkorange', '#8EB8E5', 'forestgreen', ]\n",
    "\n",
    "for index, i in enumerate(top3_indeces):\n",
    "    df_ = eng[eng['area'] == i]\n",
    "    df_ = df_.groupby('date')['average_price'].mean()"
   ]
  },
  {
   "cell_type": "markdown",
   "metadata": {
    "papermill": {
     "duration": 0.087019,
     "end_time": "2020-10-16T17:55:32.368096",
     "exception": false,
     "start_time": "2020-10-16T17:55:32.281077",
     "status": "completed"
    },
    "tags": []
   },
   "source": [
    "The three **most expensive English regions** are all located in the **South of England** (two of them border London). It would be interesting to plot the same graph but with the cheapest borough of London (which we can find is Barking and Dagenham):"
   ]
  },
  {
   "cell_type": "code",
   "execution_count": 22,
   "metadata": {
    "ExecuteTime": {
     "end_time": "2020-10-16T07:39:53.248987Z",
     "start_time": "2020-10-16T07:39:52.068895Z"
    },
    "code_folding": [
     2
    ],
    "papermill": {
     "duration": 0.459078,
     "end_time": "2020-10-16T17:55:32.914311",
     "exception": false,
     "start_time": "2020-10-16T17:55:32.455233",
     "status": "completed"
    },
    "tags": []
   },
   "outputs": [],
   "source": [
    "\n",
    "\n",
    "for index, i in enumerate(top3_indeces):\n",
    "    df_ = eng[eng['area'] == i]\n",
    "    df_ = df_.groupby('date')['average_price'].mean()\n",
    "\n",
    "lnd_bng_pr = lnd[lnd['area'] == 'barking and dagenham'].groupby('date')['average_price'].mean()"
   ]
  },
  {
   "cell_type": "markdown",
   "metadata": {
    "papermill": {
     "duration": 0.094775,
     "end_time": "2020-10-16T17:55:33.104118",
     "exception": false,
     "start_time": "2020-10-16T17:55:33.009343",
     "status": "completed"
    },
    "tags": []
   },
   "source": [
    "It is evident that even the cheapest borough in London is **comparable** to the most expensive regions of England!\n",
    "\n",
    "### Houses Sold\n",
    "\n",
    "Let's explore the 'houses_sold' attribute for London."
   ]
  },
  {
   "cell_type": "code",
   "execution_count": 23,
   "metadata": {
    "ExecuteTime": {
     "end_time": "2020-10-16T08:03:19.477376Z",
     "start_time": "2020-10-16T08:03:18.627513Z"
    },
    "papermill": {
     "duration": 0.396812,
     "end_time": "2020-10-16T17:55:33.593255",
     "exception": false,
     "start_time": "2020-10-16T17:55:33.196443",
     "status": "completed"
    },
    "tags": []
   },
   "outputs": [],
   "source": [
    "lnd_houses = lnd.groupby('date')['houses_sold'].sum()"
   ]
  },
  {
   "cell_type": "markdown",
   "metadata": {
    "papermill": {
     "duration": 0.093782,
     "end_time": "2020-10-16T17:55:33.785292",
     "exception": false,
     "start_time": "2020-10-16T17:55:33.691510",
     "status": "completed"
    },
    "tags": []
   },
   "source": [
    "- The number of houses sold in London **dropped sharply** during the **financial recession** and it seems that it **hasn't completely recovered** since,  \n",
    "- Interestingly, there is **spike in March 2016** which at first sight looks like a artefact. That is not the case, because people were actually trying to avoid a **new legislation** that came into effect in April 2016 and imposed an increase in the tax bill on buying a second home (Credits to [Marcel Fellipe](https://www.kaggle.com/marcelfellipe/housing-in-london-exploratory-data-analysis) for finding this). \n",
    "- Again, the **referendum** resulted in a **downward trend** starting from July 2016.\n",
    "\n",
    "<br>\n",
    "\n",
    "The boroughs with the highest number of sold houses between 1995 and 2019 are:"
   ]
  },
  {
   "cell_type": "code",
   "execution_count": 24,
   "metadata": {
    "ExecuteTime": {
     "end_time": "2020-10-16T07:41:04.432059Z",
     "start_time": "2020-10-16T07:41:04.411401Z"
    },
    "papermill": {
     "duration": 0.117804,
     "end_time": "2020-10-16T17:55:33.998418",
     "exception": false,
     "start_time": "2020-10-16T17:55:33.880614",
     "status": "completed"
    },
    "tags": []
   },
   "outputs": [
    {
     "data": {
      "text/html": [
       "<div>\n",
       "<style scoped>\n",
       "    .dataframe tbody tr th:only-of-type {\n",
       "        vertical-align: middle;\n",
       "    }\n",
       "\n",
       "    .dataframe tbody tr th {\n",
       "        vertical-align: top;\n",
       "    }\n",
       "\n",
       "    .dataframe thead th {\n",
       "        text-align: right;\n",
       "    }\n",
       "</style>\n",
       "<table border=\"1\" class=\"dataframe\">\n",
       "  <thead>\n",
       "    <tr style=\"text-align: right;\">\n",
       "      <th></th>\n",
       "      <th>houses_sold</th>\n",
       "    </tr>\n",
       "    <tr>\n",
       "      <th>area</th>\n",
       "      <th></th>\n",
       "    </tr>\n",
       "  </thead>\n",
       "  <tbody>\n",
       "    <tr>\n",
       "      <th>wandsworth</th>\n",
       "      <td>164,419.06</td>\n",
       "    </tr>\n",
       "    <tr>\n",
       "      <th>bromley</th>\n",
       "      <td>149,012.71</td>\n",
       "    </tr>\n",
       "    <tr>\n",
       "      <th>croydon</th>\n",
       "      <td>146,393.98</td>\n",
       "    </tr>\n",
       "    <tr>\n",
       "      <th>barnet</th>\n",
       "      <td>134,094.98</td>\n",
       "    </tr>\n",
       "    <tr>\n",
       "      <th>lambeth</th>\n",
       "      <td>118,347.49</td>\n",
       "    </tr>\n",
       "  </tbody>\n",
       "</table>\n",
       "</div>"
      ],
      "text/plain": [
       "            houses_sold\n",
       "area                   \n",
       "wandsworth   164,419.06\n",
       "bromley      149,012.71\n",
       "croydon      146,393.98\n",
       "barnet       134,094.98\n",
       "lambeth      118,347.49"
      ]
     },
     "execution_count": 24,
     "metadata": {},
     "output_type": "execute_result"
    }
   ],
   "source": [
    "lnd_b_houses = lnd.groupby('area')['houses_sold'].sum()\n",
    "lnd_top5_h = lnd_b_houses.sort_values(ascending = False).to_frame()\n",
    "lnd_top5_h.head(5)"
   ]
  },
  {
   "cell_type": "markdown",
   "metadata": {
    "papermill": {
     "duration": 0.095281,
     "end_time": "2020-10-16T17:55:34.197405",
     "exception": false,
     "start_time": "2020-10-16T17:55:34.102124",
     "status": "completed"
    },
    "tags": []
   },
   "source": [
    "To better understand these numbers we need more information such as the size of the borough, its population, crime rates etc. Some of these information are available in the other dataset ('housing_in_london_yearly_variables')."
   ]
  },
  {
   "cell_type": "markdown",
   "metadata": {
    "papermill": {
     "duration": 0.099861,
     "end_time": "2020-10-16T17:55:34.400821",
     "exception": false,
     "start_time": "2020-10-16T17:55:34.300960",
     "status": "completed"
    },
    "tags": []
   },
   "source": [
    "## Map of London\n",
    "\n",
    "We are going to use the **second dataset** which contains geospatial information about London (specifically, the 'geometry' attribute). This [notebook](https://www.kaggle.com/justinas/house-prices-in-london) helped me a lot for the analysis.\n",
    "\n",
    "We start by merging the two datasets:"
   ]
  },
  {
   "cell_type": "code",
   "execution_count": null,
   "metadata": {
    "ExecuteTime": {
     "end_time": "2020-10-16T07:41:26.289634Z",
     "start_time": "2020-10-16T07:41:26.045475Z"
    },
    "papermill": {
     "duration": 1.057279,
     "end_time": "2020-10-16T17:55:35.555598",
     "exception": false,
     "start_time": "2020-10-16T17:55:34.498319",
     "status": "completed"
    },
    "tags": []
   },
   "outputs": [],
   "source": []
  },
  {
   "cell_type": "code",
   "execution_count": null,
   "metadata": {
    "ExecuteTime": {
     "end_time": "2020-10-16T07:41:30.128925Z",
     "start_time": "2020-10-16T07:41:29.954027Z"
    },
    "papermill": {
     "duration": 0.200686,
     "end_time": "2020-10-16T17:55:35.856727",
     "exception": false,
     "start_time": "2020-10-16T17:55:35.656041",
     "status": "completed"
    },
    "tags": []
   },
   "outputs": [],
   "source": []
  },
  {
   "cell_type": "code",
   "execution_count": null,
   "metadata": {
    "ExecuteTime": {
     "end_time": "2020-10-16T07:41:33.761751Z",
     "start_time": "2020-10-16T07:41:33.703849Z"
    },
    "papermill": {
     "duration": 0.129106,
     "end_time": "2020-10-16T17:55:36.086547",
     "exception": false,
     "start_time": "2020-10-16T17:55:35.957441",
     "status": "completed"
    },
    "tags": []
   },
   "outputs": [],
   "source": []
  },
  {
   "cell_type": "markdown",
   "metadata": {
    "papermill": {
     "duration": 0.101286,
     "end_time": "2020-10-16T17:55:36.287747",
     "exception": false,
     "start_time": "2020-10-16T17:55:36.186461",
     "status": "completed"
    },
    "tags": []
   },
   "source": [
    "Remember that London has 33 boroughs, same as the lnd_tot dataset. Let's check that the london_map dataset has the same names:"
   ]
  },
  {
   "cell_type": "code",
   "execution_count": null,
   "metadata": {
    "ExecuteTime": {
     "end_time": "2020-10-16T07:41:39.362911Z",
     "start_time": "2020-10-16T07:41:39.351442Z"
    },
    "papermill": {
     "duration": 0.112269,
     "end_time": "2020-10-16T17:55:36.501459",
     "exception": false,
     "start_time": "2020-10-16T17:55:36.389190",
     "status": "completed"
    },
    "tags": []
   },
   "outputs": [],
   "source": []
  },
  {
   "cell_type": "markdown",
   "metadata": {
    "papermill": {
     "duration": 0.102814,
     "end_time": "2020-10-16T17:55:36.709687",
     "exception": false,
     "start_time": "2020-10-16T17:55:36.606873",
     "status": "completed"
    },
    "tags": []
   },
   "source": [
    "It does, so we are good to go."
   ]
  },
  {
   "cell_type": "code",
   "execution_count": null,
   "metadata": {
    "ExecuteTime": {
     "end_time": "2020-10-16T07:41:43.197804Z",
     "start_time": "2020-10-16T07:41:43.019595Z"
    },
    "papermill": {
     "duration": 0.211317,
     "end_time": "2020-10-16T17:55:37.021133",
     "exception": false,
     "start_time": "2020-10-16T17:55:36.809816",
     "status": "completed"
    },
    "tags": []
   },
   "outputs": [],
   "source": []
  },
  {
   "cell_type": "code",
   "execution_count": null,
   "metadata": {
    "ExecuteTime": {
     "end_time": "2020-10-16T07:41:49.043494Z",
     "start_time": "2020-10-16T07:41:49.026506Z"
    },
    "papermill": {
     "duration": 0.112557,
     "end_time": "2020-10-16T17:55:37.239394",
     "exception": false,
     "start_time": "2020-10-16T17:55:37.126837",
     "status": "completed"
    },
    "tags": []
   },
   "outputs": [],
   "source": []
  },
  {
   "cell_type": "markdown",
   "metadata": {
    "papermill": {
     "duration": 0.101205,
     "end_time": "2020-10-16T17:55:37.444530",
     "exception": false,
     "start_time": "2020-10-16T17:55:37.343325",
     "status": "completed"
    },
    "tags": []
   },
   "source": [
    "The merged dataset has a new type, **geodataframe**, which is what we need for plotting the map."
   ]
  },
  {
   "cell_type": "code",
   "execution_count": null,
   "metadata": {
    "ExecuteTime": {
     "end_time": "2020-10-16T07:41:57.017825Z",
     "start_time": "2020-10-16T07:41:55.112822Z"
    },
    "papermill": {
     "duration": 0.898239,
     "end_time": "2020-10-16T17:55:38.443146",
     "exception": false,
     "start_time": "2020-10-16T17:55:37.544907",
     "status": "completed"
    },
    "tags": []
   },
   "outputs": [],
   "source": []
  },
  {
   "cell_type": "markdown",
   "metadata": {
    "papermill": {
     "duration": 0.111105,
     "end_time": "2020-10-16T17:55:38.664731",
     "exception": false,
     "start_time": "2020-10-16T17:55:38.553626",
     "status": "completed"
    },
    "tags": []
   },
   "source": [
    "- We can now see Kensighton and Westminister as the two dark boroughs in the first map. We can roughly say that boroughs **closer** to these two areas are **more expensive**.\n",
    "- As we hinted earlier, the number of houses sold is probably affected by many factors with one of them being the **total area** of each borough. We can definetely see that larger boroughs have more houses sold."
   ]
  },
  {
   "cell_type": "markdown",
   "metadata": {
    "papermill": {
     "duration": 0.108753,
     "end_time": "2020-10-16T17:55:38.881901",
     "exception": false,
     "start_time": "2020-10-16T17:55:38.773148",
     "status": "completed"
    },
    "tags": []
   },
   "source": [
    "---\n",
    "\n",
    "# Factors Affecting Housing\n",
    "\n",
    "## Preparing the Final Dataset\n",
    "\n",
    "For this question we need to import the third and final dataset ('**housing_in_london_yearly_variables**') which we are going to merge with the monthly dataset."
   ]
  },
  {
   "cell_type": "code",
   "execution_count": 25,
   "metadata": {
    "ExecuteTime": {
     "end_time": "2020-10-16T07:42:26.078735Z",
     "start_time": "2020-10-16T07:42:26.033861Z"
    },
    "papermill": {
     "duration": 0.153796,
     "end_time": "2020-10-16T17:55:39.146589",
     "exception": false,
     "start_time": "2020-10-16T17:55:38.992793",
     "status": "completed"
    },
    "tags": []
   },
   "outputs": [
    {
     "name": "stdout",
     "output_type": "stream",
     "text": [
      "This dataset contains 693 rows and 12 columns.\n"
     ]
    },
    {
     "data": {
      "text/html": [
       "<div>\n",
       "<style scoped>\n",
       "    .dataframe tbody tr th:only-of-type {\n",
       "        vertical-align: middle;\n",
       "    }\n",
       "\n",
       "    .dataframe tbody tr th {\n",
       "        vertical-align: top;\n",
       "    }\n",
       "\n",
       "    .dataframe thead th {\n",
       "        text-align: right;\n",
       "    }\n",
       "</style>\n",
       "<table border=\"1\" class=\"dataframe\">\n",
       "  <thead>\n",
       "    <tr style=\"text-align: right;\">\n",
       "      <th></th>\n",
       "      <th>code</th>\n",
       "      <th>area</th>\n",
       "      <th>date</th>\n",
       "      <th>median_salary</th>\n",
       "      <th>life_satisfaction</th>\n",
       "      <th>mean_salary</th>\n",
       "      <th>recycling_pct</th>\n",
       "      <th>population_size</th>\n",
       "      <th>number_of_jobs</th>\n",
       "      <th>area_size</th>\n",
       "      <th>no_of_houses</th>\n",
       "      <th>borough_flag</th>\n",
       "    </tr>\n",
       "  </thead>\n",
       "  <tbody>\n",
       "    <tr>\n",
       "      <th>0</th>\n",
       "      <td>E09000001</td>\n",
       "      <td>city of london</td>\n",
       "      <td>1999-12-01</td>\n",
       "      <td>33,020.00</td>\n",
       "      <td>NaN</td>\n",
       "      <td>48922</td>\n",
       "      <td>0</td>\n",
       "      <td>6,581.00</td>\n",
       "      <td>NaN</td>\n",
       "      <td>NaN</td>\n",
       "      <td>NaN</td>\n",
       "      <td>1</td>\n",
       "    </tr>\n",
       "    <tr>\n",
       "      <th>1</th>\n",
       "      <td>E09000002</td>\n",
       "      <td>barking and dagenham</td>\n",
       "      <td>1999-12-01</td>\n",
       "      <td>21,480.00</td>\n",
       "      <td>NaN</td>\n",
       "      <td>23620</td>\n",
       "      <td>3</td>\n",
       "      <td>162,444.00</td>\n",
       "      <td>NaN</td>\n",
       "      <td>NaN</td>\n",
       "      <td>NaN</td>\n",
       "      <td>1</td>\n",
       "    </tr>\n",
       "    <tr>\n",
       "      <th>2</th>\n",
       "      <td>E09000003</td>\n",
       "      <td>barnet</td>\n",
       "      <td>1999-12-01</td>\n",
       "      <td>19,568.00</td>\n",
       "      <td>NaN</td>\n",
       "      <td>23128</td>\n",
       "      <td>8</td>\n",
       "      <td>313,469.00</td>\n",
       "      <td>NaN</td>\n",
       "      <td>NaN</td>\n",
       "      <td>NaN</td>\n",
       "      <td>1</td>\n",
       "    </tr>\n",
       "    <tr>\n",
       "      <th>3</th>\n",
       "      <td>E09000004</td>\n",
       "      <td>bexley</td>\n",
       "      <td>1999-12-01</td>\n",
       "      <td>18,621.00</td>\n",
       "      <td>NaN</td>\n",
       "      <td>21386</td>\n",
       "      <td>18</td>\n",
       "      <td>217,458.00</td>\n",
       "      <td>NaN</td>\n",
       "      <td>NaN</td>\n",
       "      <td>NaN</td>\n",
       "      <td>1</td>\n",
       "    </tr>\n",
       "    <tr>\n",
       "      <th>4</th>\n",
       "      <td>E09000005</td>\n",
       "      <td>brent</td>\n",
       "      <td>1999-12-01</td>\n",
       "      <td>18,532.00</td>\n",
       "      <td>NaN</td>\n",
       "      <td>20911</td>\n",
       "      <td>6</td>\n",
       "      <td>260,317.00</td>\n",
       "      <td>NaN</td>\n",
       "      <td>NaN</td>\n",
       "      <td>NaN</td>\n",
       "      <td>1</td>\n",
       "    </tr>\n",
       "  </tbody>\n",
       "</table>\n",
       "</div>"
      ],
      "text/plain": [
       "        code                  area       date  median_salary  \\\n",
       "0  E09000001        city of london 1999-12-01      33,020.00   \n",
       "1  E09000002  barking and dagenham 1999-12-01      21,480.00   \n",
       "2  E09000003                barnet 1999-12-01      19,568.00   \n",
       "3  E09000004                bexley 1999-12-01      18,621.00   \n",
       "4  E09000005                 brent 1999-12-01      18,532.00   \n",
       "\n",
       "   life_satisfaction mean_salary recycling_pct  population_size  \\\n",
       "0                NaN       48922             0         6,581.00   \n",
       "1                NaN       23620             3       162,444.00   \n",
       "2                NaN       23128             8       313,469.00   \n",
       "3                NaN       21386            18       217,458.00   \n",
       "4                NaN       20911             6       260,317.00   \n",
       "\n",
       "   number_of_jobs  area_size  no_of_houses  borough_flag  \n",
       "0             NaN        NaN           NaN             1  \n",
       "1             NaN        NaN           NaN             1  \n",
       "2             NaN        NaN           NaN             1  \n",
       "3             NaN        NaN           NaN             1  \n",
       "4             NaN        NaN           NaN             1  "
      ]
     },
     "execution_count": 25,
     "metadata": {},
     "output_type": "execute_result"
    }
   ],
   "source": [
    "df_y = pd.read_csv('../input/housing_in_london_yearly_variables.csv', parse_dates = ['date'])\n",
    "df_y = df_y[df_y['area'].isin(lnd_boroughs)] # select only London boroughs\n",
    "\n",
    "print ('This dataset contains {} rows and {} columns.'.format(df_y.shape[0], df_y.shape[1]))\n",
    "df_y.head()"
   ]
  },
  {
   "cell_type": "markdown",
   "metadata": {
    "papermill": {
     "duration": 0.109599,
     "end_time": "2020-10-16T17:55:39.365604",
     "exception": false,
     "start_time": "2020-10-16T17:55:39.256005",
     "status": "completed"
    },
    "tags": []
   },
   "source": [
    "This dataset has more information for each borough and is ideal for answering the second question. Let's see how many missing values each attrbitutes has:"
   ]
  },
  {
   "cell_type": "code",
   "execution_count": 26,
   "metadata": {
    "ExecuteTime": {
     "end_time": "2020-10-16T07:42:32.378267Z",
     "start_time": "2020-10-16T07:42:32.331838Z"
    },
    "papermill": {
     "duration": 0.14507,
     "end_time": "2020-10-16T17:55:39.622611",
     "exception": false,
     "start_time": "2020-10-16T17:55:39.477541",
     "status": "completed"
    },
    "tags": []
   },
   "outputs": [
    {
     "data": {
      "text/html": [
       "<div>\n",
       "<style scoped>\n",
       "    .dataframe tbody tr th:only-of-type {\n",
       "        vertical-align: middle;\n",
       "    }\n",
       "\n",
       "    .dataframe tbody tr th {\n",
       "        vertical-align: top;\n",
       "    }\n",
       "\n",
       "    .dataframe thead th {\n",
       "        text-align: right;\n",
       "    }\n",
       "</style>\n",
       "<table border=\"1\" class=\"dataframe\">\n",
       "  <thead>\n",
       "    <tr style=\"text-align: right;\">\n",
       "      <th></th>\n",
       "      <th>Counts</th>\n",
       "      <th>%</th>\n",
       "    </tr>\n",
       "  </thead>\n",
       "  <tbody>\n",
       "    <tr>\n",
       "      <th>life_satisfaction</th>\n",
       "      <td>437</td>\n",
       "      <td>63.06</td>\n",
       "    </tr>\n",
       "    <tr>\n",
       "      <th>area_size</th>\n",
       "      <td>99</td>\n",
       "      <td>14.29</td>\n",
       "    </tr>\n",
       "    <tr>\n",
       "      <th>no_of_houses</th>\n",
       "      <td>99</td>\n",
       "      <td>14.29</td>\n",
       "    </tr>\n",
       "    <tr>\n",
       "      <th>number_of_jobs</th>\n",
       "      <td>66</td>\n",
       "      <td>9.52</td>\n",
       "    </tr>\n",
       "    <tr>\n",
       "      <th>recycling_pct</th>\n",
       "      <td>33</td>\n",
       "      <td>4.76</td>\n",
       "    </tr>\n",
       "    <tr>\n",
       "      <th>population_size</th>\n",
       "      <td>33</td>\n",
       "      <td>4.76</td>\n",
       "    </tr>\n",
       "    <tr>\n",
       "      <th>median_salary</th>\n",
       "      <td>10</td>\n",
       "      <td>1.44</td>\n",
       "    </tr>\n",
       "    <tr>\n",
       "      <th>code</th>\n",
       "      <td>0</td>\n",
       "      <td>0.00</td>\n",
       "    </tr>\n",
       "    <tr>\n",
       "      <th>area</th>\n",
       "      <td>0</td>\n",
       "      <td>0.00</td>\n",
       "    </tr>\n",
       "    <tr>\n",
       "      <th>date</th>\n",
       "      <td>0</td>\n",
       "      <td>0.00</td>\n",
       "    </tr>\n",
       "  </tbody>\n",
       "</table>\n",
       "</div>"
      ],
      "text/plain": [
       "                   Counts     %\n",
       "life_satisfaction     437 63.06\n",
       "area_size              99 14.29\n",
       "no_of_houses           99 14.29\n",
       "number_of_jobs         66  9.52\n",
       "recycling_pct          33  4.76\n",
       "population_size        33  4.76\n",
       "median_salary          10  1.44\n",
       "code                    0  0.00\n",
       "area                    0  0.00\n",
       "date                    0  0.00"
      ]
     },
     "execution_count": 26,
     "metadata": {},
     "output_type": "execute_result"
    }
   ],
   "source": [
    "null_df_y = df_y.isnull().sum().sort_values(ascending = False)\n",
    "percent = (df_y.isnull().sum()/df_y.isnull().count()).sort_values(ascending = False)*100\n",
    "\n",
    "null_df = pd.concat([null_df_y, percent], axis = 1, keys = ['Counts', '%'])\n",
    "null_df.head(10)"
   ]
  },
  {
   "cell_type": "code",
   "execution_count": 27,
   "metadata": {
    "ExecuteTime": {
     "end_time": "2020-10-16T07:42:38.752636Z",
     "start_time": "2020-10-16T07:42:38.740801Z"
    },
    "papermill": {
     "duration": 0.122614,
     "end_time": "2020-10-16T17:55:39.857459",
     "exception": false,
     "start_time": "2020-10-16T17:55:39.734845",
     "status": "completed"
    },
    "tags": []
   },
   "outputs": [],
   "source": [
    "# import missingno as msno\n",
    "# msno.matrix(df_y)"
   ]
  },
  {
   "cell_type": "markdown",
   "metadata": {
    "ExecuteTime": {
     "end_time": "2020-09-07T12:09:31.850640Z",
     "start_time": "2020-09-07T12:09:31.315412Z"
    },
    "papermill": {
     "duration": 0.137281,
     "end_time": "2020-10-16T17:55:40.107482",
     "exception": false,
     "start_time": "2020-10-16T17:55:39.970201",
     "status": "completed"
    },
    "tags": []
   },
   "source": [
    "It seems that all new attributes have missing values. Pandas' `corr()` function, which we are going to use later, ignores a pairwise correlation if there is a NaN value in one of the observations, so we shouldn't worry about it for now.\n",
    "\n",
    "'median_salary' is not currently numeric. If we try to convert it to numeric (with the `astype()` method), we'll get an error. That's because some instances contain symbols and need to be replaced first:"
   ]
  },
  {
   "cell_type": "code",
   "execution_count": 28,
   "metadata": {
    "ExecuteTime": {
     "end_time": "2020-10-16T07:42:44.960480Z",
     "start_time": "2020-10-16T07:42:44.941946Z"
    },
    "papermill": {
     "duration": 0.129775,
     "end_time": "2020-10-16T17:55:40.370933",
     "exception": false,
     "start_time": "2020-10-16T17:55:40.241158",
     "status": "completed"
    },
    "tags": []
   },
   "outputs": [
    {
     "data": {
      "text/plain": [
       "mean_salary\n",
       "#    7\n",
       "Name: count, dtype: int64"
      ]
     },
     "execution_count": 28,
     "metadata": {},
     "output_type": "execute_result"
    }
   ],
   "source": [
    "df_y[~df_y['mean_salary'].str.isnumeric()]['mean_salary'].value_counts()"
   ]
  },
  {
   "cell_type": "code",
   "execution_count": 29,
   "metadata": {
    "ExecuteTime": {
     "end_time": "2020-10-16T07:42:51.637394Z",
     "start_time": "2020-10-16T07:42:51.264656Z"
    },
    "papermill": {
     "duration": 0.124805,
     "end_time": "2020-10-16T17:55:40.606305",
     "exception": false,
     "start_time": "2020-10-16T17:55:40.481500",
     "status": "completed"
    },
    "tags": []
   },
   "outputs": [],
   "source": [
    "df_y['mean_salary'] = df_y['mean_salary'].replace(['#'], np.NaN)\n",
    "df_y['mean_salary'] = df_y['mean_salary'].astype(float)"
   ]
  },
  {
   "cell_type": "code",
   "execution_count": 30,
   "metadata": {
    "ExecuteTime": {
     "end_time": "2020-10-16T07:42:57.906842Z",
     "start_time": "2020-10-16T07:42:57.890610Z"
    },
    "papermill": {
     "duration": 0.126252,
     "end_time": "2020-10-16T17:55:40.844874",
     "exception": false,
     "start_time": "2020-10-16T17:55:40.718622",
     "status": "completed"
    },
    "tags": []
   },
   "outputs": [
    {
     "name": "stdout",
     "output_type": "stream",
     "text": [
      "yearly_variables dataset\n",
      "\tFirst date:  1999\n",
      "\tFinal date:  2019\n"
     ]
    }
   ],
   "source": [
    "df_y['year'] = df_y['date'].dt.year\n",
    "\n",
    "print ('yearly_variables dataset')\n",
    "print ('\\tFirst date: ', df_y['year'].min())\n",
    "print ('\\tFinal date: ', df_y['year'].max())"
   ]
  },
  {
   "cell_type": "markdown",
   "metadata": {
    "papermill": {
     "duration": 0.116977,
     "end_time": "2020-10-16T17:55:41.075301",
     "exception": false,
     "start_time": "2020-10-16T17:55:40.958324",
     "status": "completed"
    },
    "tags": []
   },
   "source": [
    "This dataset starts four years later compared to the monthly dataset. Therefore, we need to merge them so that there is no mismatch in the 'year' column:"
   ]
  },
  {
   "cell_type": "code",
   "execution_count": null,
   "metadata": {
    "ExecuteTime": {
     "end_time": "2020-10-16T07:43:04.349374Z",
     "start_time": "2020-10-16T07:43:04.292698Z"
    },
    "papermill": {
     "duration": 0.135989,
     "end_time": "2020-10-16T17:55:41.324668",
     "exception": false,
     "start_time": "2020-10-16T17:55:41.188679",
     "status": "completed"
    },
    "tags": []
   },
   "outputs": [],
   "source": []
  },
  {
   "cell_type": "code",
   "execution_count": null,
   "metadata": {
    "ExecuteTime": {
     "end_time": "2020-10-16T07:43:10.699296Z",
     "start_time": "2020-10-16T07:43:10.653779Z"
    },
    "papermill": {
     "duration": 0.147584,
     "end_time": "2020-10-16T17:55:41.585697",
     "exception": false,
     "start_time": "2020-10-16T17:55:41.438113",
     "status": "completed"
    },
    "tags": []
   },
   "outputs": [],
   "source": []
  },
  {
   "cell_type": "markdown",
   "metadata": {
    "papermill": {
     "duration": 0.117241,
     "end_time": "2020-10-16T17:55:41.819824",
     "exception": false,
     "start_time": "2020-10-16T17:55:41.702583",
     "status": "completed"
    },
    "tags": []
   },
   "source": [
    "The two datasets are ready to be merged:"
   ]
  },
  {
   "cell_type": "code",
   "execution_count": null,
   "metadata": {
    "ExecuteTime": {
     "end_time": "2020-10-16T07:43:17.869795Z",
     "start_time": "2020-10-16T07:43:17.817056Z"
    },
    "papermill": {
     "duration": 0.145257,
     "end_time": "2020-10-16T17:55:42.080753",
     "exception": false,
     "start_time": "2020-10-16T17:55:41.935496",
     "status": "completed"
    },
    "tags": []
   },
   "outputs": [],
   "source": []
  },
  {
   "cell_type": "markdown",
   "metadata": {
    "papermill": {
     "duration": 0.116483,
     "end_time": "2020-10-16T17:55:42.315288",
     "exception": false,
     "start_time": "2020-10-16T17:55:42.198805",
     "status": "completed"
    },
    "tags": []
   },
   "source": [
    "## Correlations"
   ]
  },
  {
   "cell_type": "code",
   "execution_count": null,
   "metadata": {
    "ExecuteTime": {
     "end_time": "2020-10-16T07:43:24.563003Z",
     "start_time": "2020-10-16T07:43:24.541611Z"
    },
    "papermill": {
     "duration": 0.131713,
     "end_time": "2020-10-16T17:55:42.560682",
     "exception": false,
     "start_time": "2020-10-16T17:55:42.428969",
     "status": "completed"
    },
    "tags": []
   },
   "outputs": [],
   "source": []
  },
  {
   "cell_type": "markdown",
   "metadata": {
    "papermill": {
     "duration": 0.115987,
     "end_time": "2020-10-16T17:55:42.793042",
     "exception": false,
     "start_time": "2020-10-16T17:55:42.677055",
     "status": "completed"
    },
    "tags": []
   },
   "source": [
    "- It doesn't come as a surpise that apart from the year, the average price in London has a **significant positive correlation** with the **median and mean salary** along with the **number of jobs** in a borough. \n",
    "- There is **small positive correlation** with **life satisfaction**. More data for this attribute would be useful.\n",
    "- As we discussed earlier, the most affluent boroughs happen to be small (see map) which explains the **negative correlation** with the **size** of an area. \n",
    "- The average price is also affected by the **number of houses sold**, since the former goes up when the later decreases (people sell higher when less houses are sold?).\n",
    "\n",
    "We can summarise these correlations (along with all pair-wise correlations) with the following heatmap:"
   ]
  },
  {
   "cell_type": "code",
   "execution_count": null,
   "metadata": {
    "ExecuteTime": {
     "end_time": "2020-10-16T07:44:25.679568Z",
     "start_time": "2020-10-16T07:44:23.345898Z"
    },
    "papermill": {
     "duration": 0.72787,
     "end_time": "2020-10-16T17:55:43.637503",
     "exception": false,
     "start_time": "2020-10-16T17:55:42.909633",
     "status": "completed"
    },
    "tags": []
   },
   "outputs": [],
   "source": []
  },
  {
   "cell_type": "markdown",
   "metadata": {
    "papermill": {
     "duration": 0.127007,
     "end_time": "2020-10-16T17:55:43.894301",
     "exception": false,
     "start_time": "2020-10-16T17:55:43.767294",
     "status": "completed"
    },
    "tags": []
   },
   "source": [
    "We can see some obvious correlations such as median-mean salary, houses sold-no_of_houses, no_of_houses-population_size, etc.\n",
    "\n",
    "Lastly, a linear relationship between attributes can be visualised with the `scatter_matrix` method:"
   ]
  },
  {
   "cell_type": "code",
   "execution_count": null,
   "metadata": {
    "ExecuteTime": {
     "end_time": "2020-10-16T06:53:14.168906Z",
     "start_time": "2020-10-16T06:53:10.005482Z"
    },
    "papermill": {
     "duration": 1.830179,
     "end_time": "2020-10-16T17:55:45.847186",
     "exception": false,
     "start_time": "2020-10-16T17:55:44.017007",
     "status": "completed"
    },
    "tags": []
   },
   "outputs": [],
   "source": [
    "\n"
   ]
  },
  {
   "cell_type": "markdown",
   "metadata": {
    "papermill": {
     "duration": 0.138526,
     "end_time": "2020-10-16T17:55:46.122786",
     "exception": false,
     "start_time": "2020-10-16T17:55:45.984260",
     "status": "completed"
    },
    "tags": []
   },
   "source": [
    "# Conclusions\n",
    "\n",
    "The main conclusions are the following:\n",
    "\n",
    "- The average price in **London boroughs** is **higher** compared to the rest of England. It has been **affected** by major financial and political events (such the Recession and Brexit), but has **significantly increased** from 1995 to 2019 (by a factor of 5),\n",
    "\n",
    "- **Affluent regions** such as Kensighton and Westiminister have the **highest average price**, \n",
    "\n",
    "- The number of houses sold **plummeted** after the recession, **streadily increased** until 2016 but then again **dropped** after the referendum, \n",
    "\n",
    "- As anyone could predict, the main factor that influences the average price is the **financial prosperity** of the corresponding borough. Higher salaries and more jobs result in higher prices."
   ]
  },
  {
   "cell_type": "markdown",
   "metadata": {
    "papermill": {
     "duration": 0.135657,
     "end_time": "2020-10-16T17:55:46.392736",
     "exception": false,
     "start_time": "2020-10-16T17:55:46.257079",
     "status": "completed"
    },
    "tags": []
   },
   "source": [
    "# Future Developement\n",
    "\n",
    "This notebook could be further improved by making some additions:\n",
    "\n",
    "- Use maps to visualise how variables in the 'yearly_dataset' vary from borough to borough,\n",
    "- Compare English regions with London (all boroughs) with respect to the other variables (maps could be useful),\n",
    "- Use Folium for plotting interactive maps.\n",
    "    \n",
    "<br>\n",
    "Please <font color=\"red\" size=+0><b>upvote</b></font> if you liked this notebook! Thank you! 😉"
   ]
  },
  {
   "cell_type": "code",
   "execution_count": null,
   "metadata": {},
   "outputs": [],
   "source": []
  }
 ],
 "metadata": {
  "kernelspec": {
   "display_name": "Python 3",
   "language": "python",
   "name": "python3"
  },
  "language_info": {
   "codemirror_mode": {
    "name": "ipython",
    "version": 3
   },
   "file_extension": ".py",
   "mimetype": "text/x-python",
   "name": "python",
   "nbconvert_exporter": "python",
   "pygments_lexer": "ipython3",
   "version": "3.8.8"
  },
  "papermill": {
   "duration": 59.993301,
   "end_time": "2020-10-16T17:55:46.638266",
   "environment_variables": {},
   "exception": null,
   "input_path": "__notebook__.ipynb",
   "output_path": "__notebook__.ipynb",
   "parameters": {},
   "start_time": "2020-10-16T17:54:46.644965",
   "version": "2.1.0"
  }
 },
 "nbformat": 4,
 "nbformat_minor": 4
}
