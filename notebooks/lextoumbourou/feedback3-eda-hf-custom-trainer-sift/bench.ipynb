{
 "cells": [
  {
   "cell_type": "code",
   "execution_count": 18,
   "id": "e965adb4",
   "metadata": {},
   "outputs": [
    {
     "name": "stdout",
     "output_type": "stream",
     "text": [
      "time: 657 µs (started: 2024-05-07 16:57:05 -04:00)\n"
     ]
    }
   ],
   "source": [
    "import os\n",
    "SNAPPY_notebook_path = os.path.join(os.path.abspath(\"\"), \"bench.ipynb\")"
   ]
  },
  {
   "cell_type": "code",
   "execution_count": 19,
   "id": "b7f074ab",
   "metadata": {},
   "outputs": [
    {
     "name": "stdout",
     "output_type": "stream",
     "text": [
      "time: 174 µs (started: 2024-05-07 16:57:05 -04:00)\n"
     ]
    }
   ],
   "source": [
    "import time\n",
    "SNAPPY_start_time = time.perf_counter_ns()"
   ]
  },
  {
   "cell_type": "code",
   "execution_count": 20,
   "id": "db5dc1ed",
   "metadata": {},
   "outputs": [
    {
     "name": "stdout",
     "output_type": "stream",
     "text": [
      "The autotime extension is already loaded. To reload it, use:\n",
      "  %reload_ext autotime\n",
      "time: 214 µs (started: 2024-05-07 16:57:05 -04:00)\n"
     ]
    }
   ],
   "source": [
    "%load_ext autotime"
   ]
  },
  {
   "cell_type": "markdown",
   "metadata": {},
   "source": [
    "# Imports"
   ]
  },
  {
   "cell_type": "code",
   "execution_count": 21,
   "metadata": {
    "execution": {
     "iopub.execute_input": "2022-09-05T00:23:32.615229Z",
     "iopub.status.busy": "2022-09-05T00:23:32.61481Z",
     "iopub.status.idle": "2022-09-05T00:23:39.351634Z",
     "shell.execute_reply": "2022-09-05T00:23:39.35056Z",
     "shell.execute_reply.started": "2022-09-05T00:23:32.615177Z"
    }
   },
   "outputs": [
    {
     "name": "stdout",
     "output_type": "stream",
     "text": [
      "time: 167 µs (started: 2024-05-07 16:57:05 -04:00)\n"
     ]
    }
   ],
   "source": [
    "import numpy as np\n",
    "import os\n",
    "import pandas as pd"
   ]
  },
  {
   "cell_type": "markdown",
   "metadata": {},
   "source": [
    "# Load Data"
   ]
  },
  {
   "cell_type": "code",
   "execution_count": 22,
   "metadata": {
    "execution": {
     "iopub.execute_input": "2022-09-05T00:23:39.354553Z",
     "iopub.status.busy": "2022-09-05T00:23:39.353544Z",
     "iopub.status.idle": "2022-09-05T00:23:39.533703Z",
     "shell.execute_reply": "2022-09-05T00:23:39.532732Z",
     "shell.execute_reply.started": "2022-09-05T00:23:39.354522Z"
    }
   },
   "outputs": [
    {
     "name": "stdout",
     "output_type": "stream",
     "text": [
      "time: 54.8 ms (started: 2024-05-07 16:57:05 -04:00)\n"
     ]
    }
   ],
   "source": [
    "train_df = pd.read_csv(os.path.abspath('') + '/input/feedback-prize-english-language-learning/train.csv')\n",
    "test_df = pd.read_csv(os.path.abspath('') + '/input/feedback-prize-english-language-learning/test.csv')"
   ]
  },
  {
   "cell_type": "markdown",
   "metadata": {},
   "source": [
    "# -- STEFANOS -- Replicate Data"
   ]
  },
  {
   "cell_type": "code",
   "execution_count": 23,
   "metadata": {},
   "outputs": [
    {
     "name": "stdout",
     "output_type": "stream",
     "text": [
      "time: 29.6 ms (started: 2024-05-07 16:57:05 -04:00)\n"
     ]
    }
   ],
   "source": [
    "factor = 500\n",
    "if \"IREWR_LESS_REPLICATION\" in os.environ and os.environ[\"IREWR_LESS_REPLICATION\"] == \"True\":\n",
    "    factor = factor//5\n",
    "train_df = pd.concat([train_df]*factor)\n",
    "test_df = pd.concat([test_df]*factor)\n",
    "# train_df.info()"
   ]
  },
  {
   "cell_type": "markdown",
   "metadata": {},
   "source": [
    "Let's see a row from each dataset."
   ]
  },
  {
   "cell_type": "code",
   "execution_count": 24,
   "metadata": {
    "execution": {
     "iopub.execute_input": "2022-09-05T00:23:39.538288Z",
     "iopub.status.busy": "2022-09-05T00:23:39.537979Z",
     "iopub.status.idle": "2022-09-05T00:23:39.56425Z",
     "shell.execute_reply": "2022-09-05T00:23:39.563242Z",
     "shell.execute_reply.started": "2022-09-05T00:23:39.538261Z"
    }
   },
   "outputs": [
    {
     "data": {
      "text/html": [
       "<div>\n",
       "<style scoped>\n",
       "    .dataframe tbody tr th:only-of-type {\n",
       "        vertical-align: middle;\n",
       "    }\n",
       "\n",
       "    .dataframe tbody tr th {\n",
       "        vertical-align: top;\n",
       "    }\n",
       "\n",
       "    .dataframe thead th {\n",
       "        text-align: right;\n",
       "    }\n",
       "</style>\n",
       "<table border=\"1\" class=\"dataframe\">\n",
       "  <thead>\n",
       "    <tr style=\"text-align: right;\">\n",
       "      <th></th>\n",
       "      <th>text_id</th>\n",
       "      <th>full_text</th>\n",
       "      <th>cohesion</th>\n",
       "      <th>syntax</th>\n",
       "      <th>vocabulary</th>\n",
       "      <th>phraseology</th>\n",
       "      <th>grammar</th>\n",
       "      <th>conventions</th>\n",
       "    </tr>\n",
       "  </thead>\n",
       "  <tbody>\n",
       "    <tr>\n",
       "      <th>0</th>\n",
       "      <td>0016926B079C</td>\n",
       "      <td>I think that students would benefit from learn...</td>\n",
       "      <td>3.5</td>\n",
       "      <td>3.5</td>\n",
       "      <td>3.0</td>\n",
       "      <td>3.0</td>\n",
       "      <td>4.0</td>\n",
       "      <td>3.0</td>\n",
       "    </tr>\n",
       "    <tr>\n",
       "      <th>1</th>\n",
       "      <td>0022683E9EA5</td>\n",
       "      <td>When a problem is a change you have to let it ...</td>\n",
       "      <td>2.5</td>\n",
       "      <td>2.5</td>\n",
       "      <td>3.0</td>\n",
       "      <td>2.0</td>\n",
       "      <td>2.0</td>\n",
       "      <td>2.5</td>\n",
       "    </tr>\n",
       "    <tr>\n",
       "      <th>2</th>\n",
       "      <td>00299B378633</td>\n",
       "      <td>Dear, Principal\\n\\nIf u change the school poli...</td>\n",
       "      <td>3.0</td>\n",
       "      <td>3.5</td>\n",
       "      <td>3.0</td>\n",
       "      <td>3.0</td>\n",
       "      <td>3.0</td>\n",
       "      <td>2.5</td>\n",
       "    </tr>\n",
       "    <tr>\n",
       "      <th>3</th>\n",
       "      <td>003885A45F42</td>\n",
       "      <td>The best time in life is when you become yours...</td>\n",
       "      <td>4.5</td>\n",
       "      <td>4.5</td>\n",
       "      <td>4.5</td>\n",
       "      <td>4.5</td>\n",
       "      <td>4.0</td>\n",
       "      <td>5.0</td>\n",
       "    </tr>\n",
       "    <tr>\n",
       "      <th>4</th>\n",
       "      <td>0049B1DF5CCC</td>\n",
       "      <td>Small act of kindness can impact in other peop...</td>\n",
       "      <td>2.5</td>\n",
       "      <td>3.0</td>\n",
       "      <td>3.0</td>\n",
       "      <td>3.0</td>\n",
       "      <td>2.5</td>\n",
       "      <td>2.5</td>\n",
       "    </tr>\n",
       "  </tbody>\n",
       "</table>\n",
       "</div>"
      ],
      "text/plain": [
       "        text_id                                          full_text  cohesion  \\\n",
       "0  0016926B079C  I think that students would benefit from learn...       3.5   \n",
       "1  0022683E9EA5  When a problem is a change you have to let it ...       2.5   \n",
       "2  00299B378633  Dear, Principal\\n\\nIf u change the school poli...       3.0   \n",
       "3  003885A45F42  The best time in life is when you become yours...       4.5   \n",
       "4  0049B1DF5CCC  Small act of kindness can impact in other peop...       2.5   \n",
       "\n",
       "   syntax  vocabulary  phraseology  grammar  conventions  \n",
       "0     3.5         3.0          3.0      4.0          3.0  \n",
       "1     2.5         3.0          2.0      2.0          2.5  \n",
       "2     3.5         3.0          3.0      3.0          2.5  \n",
       "3     4.5         4.5          4.5      4.0          5.0  \n",
       "4     3.0         3.0          3.0      2.5          2.5  "
      ]
     },
     "execution_count": 24,
     "metadata": {},
     "output_type": "execute_result"
    },
    {
     "name": "stdout",
     "output_type": "stream",
     "text": [
      "time: 6.97 ms (started: 2024-05-07 16:57:05 -04:00)\n"
     ]
    }
   ],
   "source": [
    "train_df.head()"
   ]
  },
  {
   "cell_type": "code",
   "execution_count": 25,
   "metadata": {
    "execution": {
     "iopub.execute_input": "2022-09-05T00:23:39.567474Z",
     "iopub.status.busy": "2022-09-05T00:23:39.567046Z",
     "iopub.status.idle": "2022-09-05T00:23:39.577262Z",
     "shell.execute_reply": "2022-09-05T00:23:39.57605Z",
     "shell.execute_reply.started": "2022-09-05T00:23:39.567439Z"
    }
   },
   "outputs": [
    {
     "data": {
      "text/html": [
       "<div>\n",
       "<style scoped>\n",
       "    .dataframe tbody tr th:only-of-type {\n",
       "        vertical-align: middle;\n",
       "    }\n",
       "\n",
       "    .dataframe tbody tr th {\n",
       "        vertical-align: top;\n",
       "    }\n",
       "\n",
       "    .dataframe thead th {\n",
       "        text-align: right;\n",
       "    }\n",
       "</style>\n",
       "<table border=\"1\" class=\"dataframe\">\n",
       "  <thead>\n",
       "    <tr style=\"text-align: right;\">\n",
       "      <th></th>\n",
       "      <th>text_id</th>\n",
       "      <th>full_text</th>\n",
       "    </tr>\n",
       "  </thead>\n",
       "  <tbody>\n",
       "    <tr>\n",
       "      <th>0</th>\n",
       "      <td>0000C359D63E</td>\n",
       "      <td>when a person has no experience on a job their...</td>\n",
       "    </tr>\n",
       "    <tr>\n",
       "      <th>1</th>\n",
       "      <td>000BAD50D026</td>\n",
       "      <td>Do you think students would benefit from being...</td>\n",
       "    </tr>\n",
       "    <tr>\n",
       "      <th>2</th>\n",
       "      <td>00367BB2546B</td>\n",
       "      <td>Thomas Jefferson once states that \"it is wonde...</td>\n",
       "    </tr>\n",
       "    <tr>\n",
       "      <th>0</th>\n",
       "      <td>0000C359D63E</td>\n",
       "      <td>when a person has no experience on a job their...</td>\n",
       "    </tr>\n",
       "    <tr>\n",
       "      <th>1</th>\n",
       "      <td>000BAD50D026</td>\n",
       "      <td>Do you think students would benefit from being...</td>\n",
       "    </tr>\n",
       "  </tbody>\n",
       "</table>\n",
       "</div>"
      ],
      "text/plain": [
       "        text_id                                          full_text\n",
       "0  0000C359D63E  when a person has no experience on a job their...\n",
       "1  000BAD50D026  Do you think students would benefit from being...\n",
       "2  00367BB2546B  Thomas Jefferson once states that \"it is wonde...\n",
       "0  0000C359D63E  when a person has no experience on a job their...\n",
       "1  000BAD50D026  Do you think students would benefit from being..."
      ]
     },
     "execution_count": 25,
     "metadata": {},
     "output_type": "execute_result"
    },
    {
     "name": "stdout",
     "output_type": "stream",
     "text": [
      "time: 2.28 ms (started: 2024-05-07 16:57:05 -04:00)\n"
     ]
    }
   ],
   "source": [
    "test_df.head()"
   ]
  },
  {
   "cell_type": "markdown",
   "metadata": {},
   "source": [
    "Then the size of each dataset."
   ]
  },
  {
   "cell_type": "code",
   "execution_count": 26,
   "metadata": {
    "execution": {
     "iopub.execute_input": "2022-09-05T00:23:39.579557Z",
     "iopub.status.busy": "2022-09-05T00:23:39.578921Z",
     "iopub.status.idle": "2022-09-05T00:23:39.586127Z",
     "shell.execute_reply": "2022-09-05T00:23:39.585077Z",
     "shell.execute_reply.started": "2022-09-05T00:23:39.579524Z"
    }
   },
   "outputs": [
    {
     "data": {
      "text/plain": [
       "(1955500, 1500)"
      ]
     },
     "execution_count": 26,
     "metadata": {},
     "output_type": "execute_result"
    },
    {
     "name": "stdout",
     "output_type": "stream",
     "text": [
      "time: 879 µs (started: 2024-05-07 16:57:05 -04:00)\n"
     ]
    }
   ],
   "source": [
    "len(train_df), len(test_df)"
   ]
  },
  {
   "cell_type": "code",
   "execution_count": 27,
   "metadata": {
    "execution": {
     "iopub.execute_input": "2022-09-05T00:23:39.588439Z",
     "iopub.status.busy": "2022-09-05T00:23:39.587714Z",
     "iopub.status.idle": "2022-09-05T00:23:39.594402Z",
     "shell.execute_reply": "2022-09-05T00:23:39.593543Z",
     "shell.execute_reply.started": "2022-09-05T00:23:39.588405Z"
    }
   },
   "outputs": [
    {
     "name": "stdout",
     "output_type": "stream",
     "text": [
      "time: 165 µs (started: 2024-05-07 16:57:05 -04:00)\n"
     ]
    }
   ],
   "source": [
    "LABEL_COLUMNS = ['cohesion', 'syntax', 'vocabulary', 'phraseology', 'grammar', 'conventions']"
   ]
  },
  {
   "cell_type": "markdown",
   "metadata": {},
   "source": [
    "# Text Examples"
   ]
  },
  {
   "cell_type": "markdown",
   "metadata": {},
   "source": [
    "## Random Examples"
   ]
  },
  {
   "cell_type": "code",
   "execution_count": 28,
   "metadata": {
    "_kg_hide-input": true,
    "execution": {
     "iopub.execute_input": "2022-09-05T00:23:41.505493Z",
     "iopub.status.busy": "2022-09-05T00:23:41.504482Z",
     "iopub.status.idle": "2022-09-05T00:23:41.519998Z",
     "shell.execute_reply": "2022-09-05T00:23:41.519177Z",
     "shell.execute_reply.started": "2022-09-05T00:23:41.50538Z"
    }
   },
   "outputs": [
    {
     "name": "stdout",
     "output_type": "stream",
     "text": [
      "time: 127 ms (started: 2024-05-07 16:57:05 -04:00)\n"
     ]
    }
   ],
   "source": [
    "texts = train_df.sample(frac=1, random_state=420).head(4)"
   ]
  },
  {
   "cell_type": "markdown",
   "metadata": {},
   "source": [
    "## Lowest Scoring Examples"
   ]
  },
  {
   "cell_type": "code",
   "execution_count": 29,
   "metadata": {
    "_kg_hide-input": true,
    "execution": {
     "iopub.execute_input": "2022-09-05T00:23:41.521654Z",
     "iopub.status.busy": "2022-09-05T00:23:41.521338Z",
     "iopub.status.idle": "2022-09-05T00:23:41.535557Z",
     "shell.execute_reply": "2022-09-05T00:23:41.534159Z",
     "shell.execute_reply.started": "2022-09-05T00:23:41.521623Z"
    }
   },
   "outputs": [
    {
     "name": "stdout",
     "output_type": "stream",
     "text": [
      "time: 307 ms (started: 2024-05-07 16:57:05 -04:00)\n"
     ]
    }
   ],
   "source": [
    "train_df['total_score'] = train_df[LABEL_COLUMNS].sum(axis=1)\n",
    "lowest_df = train_df.sort_values('total_score').head(4)"
   ]
  },
  {
   "cell_type": "markdown",
   "metadata": {},
   "source": [
    "## Highest Scoring Examples"
   ]
  },
  {
   "cell_type": "code",
   "execution_count": 30,
   "metadata": {
    "_kg_hide-input": true,
    "execution": {
     "iopub.execute_input": "2022-09-05T00:23:41.538486Z",
     "iopub.status.busy": "2022-09-05T00:23:41.538145Z",
     "iopub.status.idle": "2022-09-05T00:23:41.550896Z",
     "shell.execute_reply": "2022-09-05T00:23:41.54989Z",
     "shell.execute_reply.started": "2022-09-05T00:23:41.538454Z"
    }
   },
   "outputs": [
    {
     "name": "stdout",
     "output_type": "stream",
     "text": [
      "time: 298 ms (started: 2024-05-07 16:57:06 -04:00)\n"
     ]
    }
   ],
   "source": [
    "train_df['total_score'] = train_df[LABEL_COLUMNS].sum(axis=1)\n",
    "highest_df = train_df.sort_values('total_score', ascending=False).head(4)"
   ]
  },
  {
   "cell_type": "markdown",
   "metadata": {},
   "source": [
    "# Text Overview"
   ]
  },
  {
   "cell_type": "markdown",
   "metadata": {},
   "source": [
    "## Word Count"
   ]
  },
  {
   "cell_type": "code",
   "execution_count": 31,
   "metadata": {
    "_kg_hide-input": true,
    "execution": {
     "iopub.execute_input": "2022-09-05T00:23:41.55258Z",
     "iopub.status.busy": "2022-09-05T00:23:41.552165Z",
     "iopub.status.idle": "2022-09-05T00:23:41.938996Z",
     "shell.execute_reply": "2022-09-05T00:23:41.937949Z",
     "shell.execute_reply.started": "2022-09-05T00:23:41.552529Z"
    }
   },
   "outputs": [
    {
     "name": "stdout",
     "output_type": "stream",
     "text": [
      "time: 22.7 s (started: 2024-05-07 16:57:06 -04:00)\n"
     ]
    }
   ],
   "source": [
    "train_df['word_count'] = train_df.full_text.apply(lambda x: len(x.split()))"
   ]
  },
  {
   "cell_type": "markdown",
   "metadata": {},
   "source": [
    "Mean word count:"
   ]
  },
  {
   "cell_type": "code",
   "execution_count": 32,
   "metadata": {
    "execution": {
     "iopub.execute_input": "2022-09-05T00:23:41.940804Z",
     "iopub.status.busy": "2022-09-05T00:23:41.940462Z",
     "iopub.status.idle": "2022-09-05T00:23:41.947829Z",
     "shell.execute_reply": "2022-09-05T00:23:41.946908Z",
     "shell.execute_reply.started": "2022-09-05T00:23:41.940769Z"
    }
   },
   "outputs": [
    {
     "data": {
      "text/plain": [
       "430.4929685502429"
      ]
     },
     "execution_count": 32,
     "metadata": {},
     "output_type": "execute_result"
    },
    {
     "name": "stdout",
     "output_type": "stream",
     "text": [
      "time: 4.77 ms (started: 2024-05-07 16:57:29 -04:00)\n"
     ]
    }
   ],
   "source": [
    "train_df['word_count'].mean()"
   ]
  },
  {
   "cell_type": "markdown",
   "metadata": {},
   "source": [
    "Max word count:"
   ]
  },
  {
   "cell_type": "code",
   "execution_count": 34,
   "metadata": {
    "execution": {
     "iopub.execute_input": "2022-09-05T00:23:41.950154Z",
     "iopub.status.busy": "2022-09-05T00:23:41.94936Z",
     "iopub.status.idle": "2022-09-05T00:23:41.959302Z",
     "shell.execute_reply": "2022-09-05T00:23:41.958261Z",
     "shell.execute_reply.started": "2022-09-05T00:23:41.950114Z"
    }
   },
   "outputs": [
    {
     "data": {
      "text/plain": [
       "1260"
      ]
     },
     "execution_count": 34,
     "metadata": {},
     "output_type": "execute_result"
    },
    {
     "name": "stdout",
     "output_type": "stream",
     "text": [
      "time: 1.74 ms (started: 2024-05-07 16:57:29 -04:00)\n"
     ]
    }
   ],
   "source": [
    "train_df['word_count'].max()"
   ]
  },
  {
   "cell_type": "code",
   "execution_count": 33,
   "id": "d31edfc8",
   "metadata": {},
   "outputs": [
    {
     "name": "stdout",
     "output_type": "stream",
     "text": [
      "Total elapsed time: 23.545391515\n",
      "time: 263 µs (started: 2024-05-07 16:57:29 -04:00)\n"
     ]
    }
   ],
   "source": [
    "SNAPPY_end_time = time.perf_counter_ns()\n",
    "print(\"Total elapsed time:\", (SNAPPY_end_time - SNAPPY_start_time) / (10 ** 9))"
   ]
  }
 ],
 "metadata": {
  "kernelspec": {
   "display_name": "Python 3 (ipykernel)",
   "language": "python",
   "name": "python3"
  },
  "language_info": {
   "codemirror_mode": {
    "name": "ipython",
    "version": 3
   },
   "file_extension": ".py",
   "mimetype": "text/x-python",
   "name": "python",
   "nbconvert_exporter": "python",
   "pygments_lexer": "ipython3",
   "version": "3.10.11"
  }
 },
 "nbformat": 4,
 "nbformat_minor": 4
}
