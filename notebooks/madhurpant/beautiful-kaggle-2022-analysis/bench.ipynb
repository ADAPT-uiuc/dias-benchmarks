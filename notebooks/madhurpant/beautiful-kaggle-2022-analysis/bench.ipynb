{
 "cells": [
  {
   "cell_type": "code",
   "execution_count": 1,
   "id": "684fb5e9",
   "metadata": {},
   "outputs": [],
   "source": [
    "import os\n",
    "SNAPPY_notebook_path = os.path.join(os.path.abspath(\"\"), \"bench.ipynb\")"
   ]
  },
  {
   "cell_type": "code",
   "execution_count": 2,
   "id": "4f86be0a",
   "metadata": {},
   "outputs": [],
   "source": [
    "import time\n",
    "SNAPPY_start_time = time.perf_counter_ns()"
   ]
  },
  {
   "cell_type": "code",
   "execution_count": 3,
   "id": "58f905f6",
   "metadata": {},
   "outputs": [
    {
     "name": "stdout",
     "output_type": "stream",
     "text": [
      "time: 49.3 µs (started: 2024-05-07 16:57:50 -04:00)\n"
     ]
    }
   ],
   "source": [
    "%load_ext autotime"
   ]
  },
  {
   "cell_type": "markdown",
   "metadata": {},
   "source": [
    "# <div style=\"text-align: center; background-color: #39c5ff;font-size:200%; font-family:Rubik; color: #ffffff; padding: 20px; line-height: 1;border-radius:10px; border: 5px solid #3f484b;\"><b>Kaggle <br> Survey 2022</b></div>"
   ]
  },
  {
   "cell_type": "markdown",
   "metadata": {},
   "source": [
    "<a id=\"top\"></a>\n",
    "<div class=\"list-group\" id=\"list-tab\" role=\"tablist\">\n",
    "    <h3 style=\"text-align: left; background-color: #3f484b; font-family:Rubik; color: #F5F5F1; padding: 14px; line-height: 1; border-radius:10px\">Table of Contents</h3>\n",
    "    \n",
    "   * [1. Imports](#1)\n",
    "   * [2. Data Cleaning](#2)\n",
    "   * [3. Exploratory Data Analysis](#3)\n",
    "    - [3.1. Univariate Analysis](#3.1)\n",
    "        - [3.1.1. Gender Countplot](#3.1.1)\n",
    "        - [3.1.2. Duration Histogram](#3.1.2)\n",
    "        - [3.1.3. Age Countplot](#3.1.3)\n",
    "        - [3.1.4. Top 10 Countries Count](#3.1.4)\n",
    "        - [3.1.5. World Map](#3.1.5)\n",
    "        - [3.1.6. Student Donut Chart](#3.1.6)\n",
    "        - [3.1.7. Educational Background Donut Chart](#3.1.7)\n",
    "        - [3.1.8. ML Experience Donut Chart](#3.1.8)\n",
    "        - [3.1.9. Yearly Compensation Donut Chart](#3.1.9)\n",
    "    - [3.2. Multivariate Analysis](#3.2)\n",
    "        - [3.2.1. Duration X Gender Histplot](#3.2.1)\n",
    "        - [3.2.2. Country X Gender Treemap](#3.2.2)\n",
    "        - [3.2.3. Duration with Age](#3.2.3)\n",
    "        - [3.2.4. Education X Gender Treemap](#3.2.4)\n",
    "        - [3.2.5. Country X Age Density Plot](#3.2.5)\n",
    "        - [3.2.6. Gender X Student Sunburst](#3.2.6)\n",
    "   * [4. Work In Progress](#4)"
   ]
  },
  {
   "cell_type": "markdown",
   "metadata": {},
   "source": [
    "<a id=\"1\"></a>\n",
    "# <div style=\"font-size:40px; text-align: center; background-color: #39c5ff; font-family:Rubik; color: #ffffff; padding: 14px; line-height: 1;border-radius:20px; border: 4px solid #3f484b;\"><b> 1. Imports </b></div>"
   ]
  },
  {
   "cell_type": "code",
   "execution_count": 4,
   "metadata": {
    "execution": {
     "iopub.execute_input": "2022-10-13T03:19:06.645505Z",
     "iopub.status.busy": "2022-10-13T03:19:06.645136Z",
     "iopub.status.idle": "2022-10-13T03:19:08.936303Z",
     "shell.execute_reply": "2022-10-13T03:19:08.935369Z",
     "shell.execute_reply.started": "2022-10-13T03:19:06.645476Z"
    }
   },
   "outputs": [
    {
     "name": "stdout",
     "output_type": "stream",
     "text": [
      "time: 432 ms (started: 2024-05-07 16:57:50 -04:00)\n"
     ]
    }
   ],
   "source": [
    "import os\n",
    "# STEFANOS: Conditionally import Modin Pandas\n",
    "import pandas as pd\n",
    "import numpy as np\n",
    "\n",
    "\n",
    "\n",
    "colors = ['gold', 'mediumturquoise', 'darkorange', 'lightgreen']\n",
    "kaggle_colors = ['#39c5ff', '#ffffff', '#f2f2f2', '#9ca3a4', '#3f484b']\n",
    "font = 'Rubik'"
   ]
  },
  {
   "cell_type": "code",
   "execution_count": 5,
   "metadata": {
    "execution": {
     "iopub.execute_input": "2022-10-13T03:19:08.938858Z",
     "iopub.status.busy": "2022-10-13T03:19:08.938491Z",
     "iopub.status.idle": "2022-10-13T03:19:09.884006Z",
     "shell.execute_reply": "2022-10-13T03:19:09.882835Z",
     "shell.execute_reply.started": "2022-10-13T03:19:08.938825Z"
    }
   },
   "outputs": [
    {
     "name": "stdout",
     "output_type": "stream",
     "text": [
      "time: 276 ms (started: 2024-05-07 16:57:50 -04:00)\n"
     ]
    },
    {
     "name": "stderr",
     "output_type": "stream",
     "text": [
      "/tmp/ipykernel_18558/1154069290.py:1: DtypeWarning: Columns (0,15,43,57,73,88,104,118,126,132,170,200,208,215,225,248,255,257,260,270,271,272,277,281,294) have mixed types. Specify dtype option on import or set low_memory=False.\n",
      "  df = pd.read_csv(os.path.abspath('') + '/input/kaggle-survey-2022/kaggle_survey_2022_responses.csv')\n"
     ]
    }
   ],
   "source": [
    "df = pd.read_csv(os.path.abspath('') + '/input/kaggle-survey-2022/kaggle_survey_2022_responses.csv')"
   ]
  },
  {
   "cell_type": "code",
   "execution_count": 6,
   "metadata": {
    "execution": {
     "iopub.execute_input": "2022-10-13T03:19:09.885462Z",
     "iopub.status.busy": "2022-10-13T03:19:09.885224Z",
     "iopub.status.idle": "2022-10-13T03:19:09.925658Z",
     "shell.execute_reply": "2022-10-13T03:19:09.924751Z",
     "shell.execute_reply.started": "2022-10-13T03:19:09.88544Z"
    }
   },
   "outputs": [
    {
     "data": {
      "text/html": [
       "<div>\n",
       "<style scoped>\n",
       "    .dataframe tbody tr th:only-of-type {\n",
       "        vertical-align: middle;\n",
       "    }\n",
       "\n",
       "    .dataframe tbody tr th {\n",
       "        vertical-align: top;\n",
       "    }\n",
       "\n",
       "    .dataframe thead th {\n",
       "        text-align: right;\n",
       "    }\n",
       "</style>\n",
       "<table border=\"1\" class=\"dataframe\">\n",
       "  <thead>\n",
       "    <tr style=\"text-align: right;\">\n",
       "      <th></th>\n",
       "      <th>Duration (in seconds)</th>\n",
       "      <th>Q2</th>\n",
       "      <th>Q3</th>\n",
       "      <th>Q4</th>\n",
       "      <th>Q5</th>\n",
       "      <th>Q6_1</th>\n",
       "      <th>Q6_2</th>\n",
       "      <th>Q6_3</th>\n",
       "      <th>Q6_4</th>\n",
       "      <th>Q6_5</th>\n",
       "      <th>...</th>\n",
       "      <th>Q44_3</th>\n",
       "      <th>Q44_4</th>\n",
       "      <th>Q44_5</th>\n",
       "      <th>Q44_6</th>\n",
       "      <th>Q44_7</th>\n",
       "      <th>Q44_8</th>\n",
       "      <th>Q44_9</th>\n",
       "      <th>Q44_10</th>\n",
       "      <th>Q44_11</th>\n",
       "      <th>Q44_12</th>\n",
       "    </tr>\n",
       "  </thead>\n",
       "  <tbody>\n",
       "    <tr>\n",
       "      <th>0</th>\n",
       "      <td>Duration (in seconds)</td>\n",
       "      <td>What is your age (# years)?</td>\n",
       "      <td>What is your gender? - Selected Choice</td>\n",
       "      <td>In which country do you currently reside?</td>\n",
       "      <td>Are you currently a student? (high school, uni...</td>\n",
       "      <td>On which platforms have you begun or completed...</td>\n",
       "      <td>On which platforms have you begun or completed...</td>\n",
       "      <td>On which platforms have you begun or completed...</td>\n",
       "      <td>On which platforms have you begun or completed...</td>\n",
       "      <td>On which platforms have you begun or completed...</td>\n",
       "      <td>...</td>\n",
       "      <td>Who/what are your favorite media sources that ...</td>\n",
       "      <td>Who/what are your favorite media sources that ...</td>\n",
       "      <td>Who/what are your favorite media sources that ...</td>\n",
       "      <td>Who/what are your favorite media sources that ...</td>\n",
       "      <td>Who/what are your favorite media sources that ...</td>\n",
       "      <td>Who/what are your favorite media sources that ...</td>\n",
       "      <td>Who/what are your favorite media sources that ...</td>\n",
       "      <td>Who/what are your favorite media sources that ...</td>\n",
       "      <td>Who/what are your favorite media sources that ...</td>\n",
       "      <td>Who/what are your favorite media sources that ...</td>\n",
       "    </tr>\n",
       "    <tr>\n",
       "      <th>1</th>\n",
       "      <td>121</td>\n",
       "      <td>30-34</td>\n",
       "      <td>Man</td>\n",
       "      <td>India</td>\n",
       "      <td>No</td>\n",
       "      <td>NaN</td>\n",
       "      <td>NaN</td>\n",
       "      <td>NaN</td>\n",
       "      <td>NaN</td>\n",
       "      <td>NaN</td>\n",
       "      <td>...</td>\n",
       "      <td>NaN</td>\n",
       "      <td>NaN</td>\n",
       "      <td>NaN</td>\n",
       "      <td>NaN</td>\n",
       "      <td>NaN</td>\n",
       "      <td>NaN</td>\n",
       "      <td>NaN</td>\n",
       "      <td>NaN</td>\n",
       "      <td>NaN</td>\n",
       "      <td>NaN</td>\n",
       "    </tr>\n",
       "    <tr>\n",
       "      <th>2</th>\n",
       "      <td>462</td>\n",
       "      <td>30-34</td>\n",
       "      <td>Man</td>\n",
       "      <td>Algeria</td>\n",
       "      <td>No</td>\n",
       "      <td>NaN</td>\n",
       "      <td>NaN</td>\n",
       "      <td>NaN</td>\n",
       "      <td>NaN</td>\n",
       "      <td>NaN</td>\n",
       "      <td>...</td>\n",
       "      <td>NaN</td>\n",
       "      <td>NaN</td>\n",
       "      <td>NaN</td>\n",
       "      <td>NaN</td>\n",
       "      <td>NaN</td>\n",
       "      <td>NaN</td>\n",
       "      <td>NaN</td>\n",
       "      <td>NaN</td>\n",
       "      <td>NaN</td>\n",
       "      <td>NaN</td>\n",
       "    </tr>\n",
       "    <tr>\n",
       "      <th>3</th>\n",
       "      <td>293</td>\n",
       "      <td>18-21</td>\n",
       "      <td>Man</td>\n",
       "      <td>Egypt</td>\n",
       "      <td>Yes</td>\n",
       "      <td>Coursera</td>\n",
       "      <td>edX</td>\n",
       "      <td>NaN</td>\n",
       "      <td>DataCamp</td>\n",
       "      <td>NaN</td>\n",
       "      <td>...</td>\n",
       "      <td>NaN</td>\n",
       "      <td>Kaggle (notebooks, forums, etc)</td>\n",
       "      <td>NaN</td>\n",
       "      <td>YouTube (Kaggle YouTube, Cloud AI Adventures, ...</td>\n",
       "      <td>Podcasts (Chai Time Data Science, O’Reilly Dat...</td>\n",
       "      <td>NaN</td>\n",
       "      <td>NaN</td>\n",
       "      <td>NaN</td>\n",
       "      <td>NaN</td>\n",
       "      <td>NaN</td>\n",
       "    </tr>\n",
       "    <tr>\n",
       "      <th>4</th>\n",
       "      <td>851</td>\n",
       "      <td>55-59</td>\n",
       "      <td>Man</td>\n",
       "      <td>France</td>\n",
       "      <td>No</td>\n",
       "      <td>Coursera</td>\n",
       "      <td>NaN</td>\n",
       "      <td>Kaggle Learn Courses</td>\n",
       "      <td>NaN</td>\n",
       "      <td>NaN</td>\n",
       "      <td>...</td>\n",
       "      <td>NaN</td>\n",
       "      <td>Kaggle (notebooks, forums, etc)</td>\n",
       "      <td>Course Forums (forums.fast.ai, Coursera forums...</td>\n",
       "      <td>NaN</td>\n",
       "      <td>NaN</td>\n",
       "      <td>Blogs (Towards Data Science, Analytics Vidhya,...</td>\n",
       "      <td>NaN</td>\n",
       "      <td>NaN</td>\n",
       "      <td>NaN</td>\n",
       "      <td>NaN</td>\n",
       "    </tr>\n",
       "    <tr>\n",
       "      <th>...</th>\n",
       "      <td>...</td>\n",
       "      <td>...</td>\n",
       "      <td>...</td>\n",
       "      <td>...</td>\n",
       "      <td>...</td>\n",
       "      <td>...</td>\n",
       "      <td>...</td>\n",
       "      <td>...</td>\n",
       "      <td>...</td>\n",
       "      <td>...</td>\n",
       "      <td>...</td>\n",
       "      <td>...</td>\n",
       "      <td>...</td>\n",
       "      <td>...</td>\n",
       "      <td>...</td>\n",
       "      <td>...</td>\n",
       "      <td>...</td>\n",
       "      <td>...</td>\n",
       "      <td>...</td>\n",
       "      <td>...</td>\n",
       "      <td>...</td>\n",
       "    </tr>\n",
       "    <tr>\n",
       "      <th>23993</th>\n",
       "      <td>331</td>\n",
       "      <td>22-24</td>\n",
       "      <td>Man</td>\n",
       "      <td>United States of America</td>\n",
       "      <td>Yes</td>\n",
       "      <td>NaN</td>\n",
       "      <td>NaN</td>\n",
       "      <td>NaN</td>\n",
       "      <td>NaN</td>\n",
       "      <td>NaN</td>\n",
       "      <td>...</td>\n",
       "      <td>NaN</td>\n",
       "      <td>Kaggle (notebooks, forums, etc)</td>\n",
       "      <td>NaN</td>\n",
       "      <td>YouTube (Kaggle YouTube, Cloud AI Adventures, ...</td>\n",
       "      <td>Podcasts (Chai Time Data Science, O’Reilly Dat...</td>\n",
       "      <td>NaN</td>\n",
       "      <td>Journal Publications (peer-reviewed journals, ...</td>\n",
       "      <td>NaN</td>\n",
       "      <td>NaN</td>\n",
       "      <td>NaN</td>\n",
       "    </tr>\n",
       "    <tr>\n",
       "      <th>23994</th>\n",
       "      <td>330</td>\n",
       "      <td>60-69</td>\n",
       "      <td>Man</td>\n",
       "      <td>United States of America</td>\n",
       "      <td>Yes</td>\n",
       "      <td>NaN</td>\n",
       "      <td>NaN</td>\n",
       "      <td>NaN</td>\n",
       "      <td>NaN</td>\n",
       "      <td>NaN</td>\n",
       "      <td>...</td>\n",
       "      <td>NaN</td>\n",
       "      <td>NaN</td>\n",
       "      <td>NaN</td>\n",
       "      <td>YouTube (Kaggle YouTube, Cloud AI Adventures, ...</td>\n",
       "      <td>NaN</td>\n",
       "      <td>NaN</td>\n",
       "      <td>NaN</td>\n",
       "      <td>NaN</td>\n",
       "      <td>NaN</td>\n",
       "      <td>NaN</td>\n",
       "    </tr>\n",
       "    <tr>\n",
       "      <th>23995</th>\n",
       "      <td>860</td>\n",
       "      <td>25-29</td>\n",
       "      <td>Man</td>\n",
       "      <td>Turkey</td>\n",
       "      <td>No</td>\n",
       "      <td>NaN</td>\n",
       "      <td>NaN</td>\n",
       "      <td>NaN</td>\n",
       "      <td>DataCamp</td>\n",
       "      <td>NaN</td>\n",
       "      <td>...</td>\n",
       "      <td>NaN</td>\n",
       "      <td>Kaggle (notebooks, forums, etc)</td>\n",
       "      <td>NaN</td>\n",
       "      <td>YouTube (Kaggle YouTube, Cloud AI Adventures, ...</td>\n",
       "      <td>NaN</td>\n",
       "      <td>NaN</td>\n",
       "      <td>NaN</td>\n",
       "      <td>NaN</td>\n",
       "      <td>NaN</td>\n",
       "      <td>NaN</td>\n",
       "    </tr>\n",
       "    <tr>\n",
       "      <th>23996</th>\n",
       "      <td>597</td>\n",
       "      <td>35-39</td>\n",
       "      <td>Woman</td>\n",
       "      <td>Israel</td>\n",
       "      <td>No</td>\n",
       "      <td>NaN</td>\n",
       "      <td>NaN</td>\n",
       "      <td>Kaggle Learn Courses</td>\n",
       "      <td>NaN</td>\n",
       "      <td>NaN</td>\n",
       "      <td>...</td>\n",
       "      <td>NaN</td>\n",
       "      <td>NaN</td>\n",
       "      <td>NaN</td>\n",
       "      <td>YouTube (Kaggle YouTube, Cloud AI Adventures, ...</td>\n",
       "      <td>NaN</td>\n",
       "      <td>NaN</td>\n",
       "      <td>NaN</td>\n",
       "      <td>NaN</td>\n",
       "      <td>NaN</td>\n",
       "      <td>NaN</td>\n",
       "    </tr>\n",
       "    <tr>\n",
       "      <th>23997</th>\n",
       "      <td>303</td>\n",
       "      <td>18-21</td>\n",
       "      <td>Man</td>\n",
       "      <td>India</td>\n",
       "      <td>Yes</td>\n",
       "      <td>NaN</td>\n",
       "      <td>NaN</td>\n",
       "      <td>NaN</td>\n",
       "      <td>NaN</td>\n",
       "      <td>NaN</td>\n",
       "      <td>...</td>\n",
       "      <td>NaN</td>\n",
       "      <td>NaN</td>\n",
       "      <td>NaN</td>\n",
       "      <td>NaN</td>\n",
       "      <td>NaN</td>\n",
       "      <td>NaN</td>\n",
       "      <td>NaN</td>\n",
       "      <td>NaN</td>\n",
       "      <td>NaN</td>\n",
       "      <td>Other</td>\n",
       "    </tr>\n",
       "  </tbody>\n",
       "</table>\n",
       "<p>23998 rows × 296 columns</p>\n",
       "</div>"
      ],
      "text/plain": [
       "       Duration (in seconds)                           Q2  \\\n",
       "0      Duration (in seconds)  What is your age (# years)?   \n",
       "1                        121                        30-34   \n",
       "2                        462                        30-34   \n",
       "3                        293                        18-21   \n",
       "4                        851                        55-59   \n",
       "...                      ...                          ...   \n",
       "23993                    331                        22-24   \n",
       "23994                    330                        60-69   \n",
       "23995                    860                        25-29   \n",
       "23996                    597                        35-39   \n",
       "23997                    303                        18-21   \n",
       "\n",
       "                                           Q3  \\\n",
       "0      What is your gender? - Selected Choice   \n",
       "1                                         Man   \n",
       "2                                         Man   \n",
       "3                                         Man   \n",
       "4                                         Man   \n",
       "...                                       ...   \n",
       "23993                                     Man   \n",
       "23994                                     Man   \n",
       "23995                                     Man   \n",
       "23996                                   Woman   \n",
       "23997                                     Man   \n",
       "\n",
       "                                              Q4  \\\n",
       "0      In which country do you currently reside?   \n",
       "1                                          India   \n",
       "2                                        Algeria   \n",
       "3                                          Egypt   \n",
       "4                                         France   \n",
       "...                                          ...   \n",
       "23993                   United States of America   \n",
       "23994                   United States of America   \n",
       "23995                                     Turkey   \n",
       "23996                                     Israel   \n",
       "23997                                      India   \n",
       "\n",
       "                                                      Q5  \\\n",
       "0      Are you currently a student? (high school, uni...   \n",
       "1                                                     No   \n",
       "2                                                     No   \n",
       "3                                                    Yes   \n",
       "4                                                     No   \n",
       "...                                                  ...   \n",
       "23993                                                Yes   \n",
       "23994                                                Yes   \n",
       "23995                                                 No   \n",
       "23996                                                 No   \n",
       "23997                                                Yes   \n",
       "\n",
       "                                                    Q6_1  \\\n",
       "0      On which platforms have you begun or completed...   \n",
       "1                                                    NaN   \n",
       "2                                                    NaN   \n",
       "3                                               Coursera   \n",
       "4                                               Coursera   \n",
       "...                                                  ...   \n",
       "23993                                                NaN   \n",
       "23994                                                NaN   \n",
       "23995                                                NaN   \n",
       "23996                                                NaN   \n",
       "23997                                                NaN   \n",
       "\n",
       "                                                    Q6_2  \\\n",
       "0      On which platforms have you begun or completed...   \n",
       "1                                                    NaN   \n",
       "2                                                    NaN   \n",
       "3                                                    edX   \n",
       "4                                                    NaN   \n",
       "...                                                  ...   \n",
       "23993                                                NaN   \n",
       "23994                                                NaN   \n",
       "23995                                                NaN   \n",
       "23996                                                NaN   \n",
       "23997                                                NaN   \n",
       "\n",
       "                                                    Q6_3  \\\n",
       "0      On which platforms have you begun or completed...   \n",
       "1                                                    NaN   \n",
       "2                                                    NaN   \n",
       "3                                                    NaN   \n",
       "4                                   Kaggle Learn Courses   \n",
       "...                                                  ...   \n",
       "23993                                                NaN   \n",
       "23994                                                NaN   \n",
       "23995                                                NaN   \n",
       "23996                               Kaggle Learn Courses   \n",
       "23997                                                NaN   \n",
       "\n",
       "                                                    Q6_4  \\\n",
       "0      On which platforms have you begun or completed...   \n",
       "1                                                    NaN   \n",
       "2                                                    NaN   \n",
       "3                                               DataCamp   \n",
       "4                                                    NaN   \n",
       "...                                                  ...   \n",
       "23993                                                NaN   \n",
       "23994                                                NaN   \n",
       "23995                                           DataCamp   \n",
       "23996                                                NaN   \n",
       "23997                                                NaN   \n",
       "\n",
       "                                                    Q6_5  ...  \\\n",
       "0      On which platforms have you begun or completed...  ...   \n",
       "1                                                    NaN  ...   \n",
       "2                                                    NaN  ...   \n",
       "3                                                    NaN  ...   \n",
       "4                                                    NaN  ...   \n",
       "...                                                  ...  ...   \n",
       "23993                                                NaN  ...   \n",
       "23994                                                NaN  ...   \n",
       "23995                                                NaN  ...   \n",
       "23996                                                NaN  ...   \n",
       "23997                                                NaN  ...   \n",
       "\n",
       "                                                   Q44_3  \\\n",
       "0      Who/what are your favorite media sources that ...   \n",
       "1                                                    NaN   \n",
       "2                                                    NaN   \n",
       "3                                                    NaN   \n",
       "4                                                    NaN   \n",
       "...                                                  ...   \n",
       "23993                                                NaN   \n",
       "23994                                                NaN   \n",
       "23995                                                NaN   \n",
       "23996                                                NaN   \n",
       "23997                                                NaN   \n",
       "\n",
       "                                                   Q44_4  \\\n",
       "0      Who/what are your favorite media sources that ...   \n",
       "1                                                    NaN   \n",
       "2                                                    NaN   \n",
       "3                        Kaggle (notebooks, forums, etc)   \n",
       "4                        Kaggle (notebooks, forums, etc)   \n",
       "...                                                  ...   \n",
       "23993                    Kaggle (notebooks, forums, etc)   \n",
       "23994                                                NaN   \n",
       "23995                    Kaggle (notebooks, forums, etc)   \n",
       "23996                                                NaN   \n",
       "23997                                                NaN   \n",
       "\n",
       "                                                   Q44_5  \\\n",
       "0      Who/what are your favorite media sources that ...   \n",
       "1                                                    NaN   \n",
       "2                                                    NaN   \n",
       "3                                                    NaN   \n",
       "4      Course Forums (forums.fast.ai, Coursera forums...   \n",
       "...                                                  ...   \n",
       "23993                                                NaN   \n",
       "23994                                                NaN   \n",
       "23995                                                NaN   \n",
       "23996                                                NaN   \n",
       "23997                                                NaN   \n",
       "\n",
       "                                                   Q44_6  \\\n",
       "0      Who/what are your favorite media sources that ...   \n",
       "1                                                    NaN   \n",
       "2                                                    NaN   \n",
       "3      YouTube (Kaggle YouTube, Cloud AI Adventures, ...   \n",
       "4                                                    NaN   \n",
       "...                                                  ...   \n",
       "23993  YouTube (Kaggle YouTube, Cloud AI Adventures, ...   \n",
       "23994  YouTube (Kaggle YouTube, Cloud AI Adventures, ...   \n",
       "23995  YouTube (Kaggle YouTube, Cloud AI Adventures, ...   \n",
       "23996  YouTube (Kaggle YouTube, Cloud AI Adventures, ...   \n",
       "23997                                                NaN   \n",
       "\n",
       "                                                   Q44_7  \\\n",
       "0      Who/what are your favorite media sources that ...   \n",
       "1                                                    NaN   \n",
       "2                                                    NaN   \n",
       "3      Podcasts (Chai Time Data Science, O’Reilly Dat...   \n",
       "4                                                    NaN   \n",
       "...                                                  ...   \n",
       "23993  Podcasts (Chai Time Data Science, O’Reilly Dat...   \n",
       "23994                                                NaN   \n",
       "23995                                                NaN   \n",
       "23996                                                NaN   \n",
       "23997                                                NaN   \n",
       "\n",
       "                                                   Q44_8  \\\n",
       "0      Who/what are your favorite media sources that ...   \n",
       "1                                                    NaN   \n",
       "2                                                    NaN   \n",
       "3                                                    NaN   \n",
       "4      Blogs (Towards Data Science, Analytics Vidhya,...   \n",
       "...                                                  ...   \n",
       "23993                                                NaN   \n",
       "23994                                                NaN   \n",
       "23995                                                NaN   \n",
       "23996                                                NaN   \n",
       "23997                                                NaN   \n",
       "\n",
       "                                                   Q44_9  \\\n",
       "0      Who/what are your favorite media sources that ...   \n",
       "1                                                    NaN   \n",
       "2                                                    NaN   \n",
       "3                                                    NaN   \n",
       "4                                                    NaN   \n",
       "...                                                  ...   \n",
       "23993  Journal Publications (peer-reviewed journals, ...   \n",
       "23994                                                NaN   \n",
       "23995                                                NaN   \n",
       "23996                                                NaN   \n",
       "23997                                                NaN   \n",
       "\n",
       "                                                  Q44_10  \\\n",
       "0      Who/what are your favorite media sources that ...   \n",
       "1                                                    NaN   \n",
       "2                                                    NaN   \n",
       "3                                                    NaN   \n",
       "4                                                    NaN   \n",
       "...                                                  ...   \n",
       "23993                                                NaN   \n",
       "23994                                                NaN   \n",
       "23995                                                NaN   \n",
       "23996                                                NaN   \n",
       "23997                                                NaN   \n",
       "\n",
       "                                                  Q44_11  \\\n",
       "0      Who/what are your favorite media sources that ...   \n",
       "1                                                    NaN   \n",
       "2                                                    NaN   \n",
       "3                                                    NaN   \n",
       "4                                                    NaN   \n",
       "...                                                  ...   \n",
       "23993                                                NaN   \n",
       "23994                                                NaN   \n",
       "23995                                                NaN   \n",
       "23996                                                NaN   \n",
       "23997                                                NaN   \n",
       "\n",
       "                                                  Q44_12  \n",
       "0      Who/what are your favorite media sources that ...  \n",
       "1                                                    NaN  \n",
       "2                                                    NaN  \n",
       "3                                                    NaN  \n",
       "4                                                    NaN  \n",
       "...                                                  ...  \n",
       "23993                                                NaN  \n",
       "23994                                                NaN  \n",
       "23995                                                NaN  \n",
       "23996                                                NaN  \n",
       "23997                                              Other  \n",
       "\n",
       "[23998 rows x 296 columns]"
      ]
     },
     "execution_count": 6,
     "metadata": {},
     "output_type": "execute_result"
    },
    {
     "name": "stdout",
     "output_type": "stream",
     "text": [
      "time: 16 ms (started: 2024-05-07 16:57:50 -04:00)\n"
     ]
    }
   ],
   "source": [
    "df"
   ]
  },
  {
   "cell_type": "markdown",
   "metadata": {},
   "source": [
    "<a id=\"2\"></a>\n",
    "# <div style=\"font-size:40px; text-align: center; background-color: #39c5ff; font-family:Rubik; color: #ffffff; padding: 14px; line-height: 1;border-radius:20px; border: 4px solid #3f484b;\"><b> 2. Data Cleaning </b></div>"
   ]
  },
  {
   "cell_type": "code",
   "execution_count": 7,
   "metadata": {
    "execution": {
     "iopub.execute_input": "2022-10-13T03:19:09.929607Z",
     "iopub.status.busy": "2022-10-13T03:19:09.928894Z",
     "iopub.status.idle": "2022-10-13T03:19:09.933579Z",
     "shell.execute_reply": "2022-10-13T03:19:09.93289Z",
     "shell.execute_reply.started": "2022-10-13T03:19:09.929579Z"
    }
   },
   "outputs": [
    {
     "name": "stdout",
     "output_type": "stream",
     "text": [
      "time: 219 µs (started: 2024-05-07 16:57:51 -04:00)\n"
     ]
    }
   ],
   "source": [
    "df = df[1:]"
   ]
  },
  {
   "cell_type": "markdown",
   "metadata": {},
   "source": [
    "# -- STEFANOS -- Replicate Data"
   ]
  },
  {
   "cell_type": "code",
   "execution_count": 8,
   "metadata": {},
   "outputs": [
    {
     "name": "stdout",
     "output_type": "stream",
     "text": [
      "time: 220 ms (started: 2024-05-07 16:57:51 -04:00)\n"
     ]
    }
   ],
   "source": [
    "factor = 10\n",
    "df = pd.concat([df]*factor, ignore_index=True)\n",
    "# df.info()"
   ]
  },
  {
   "cell_type": "code",
   "execution_count": 9,
   "metadata": {
    "execution": {
     "iopub.execute_input": "2022-10-13T03:19:09.935384Z",
     "iopub.status.busy": "2022-10-13T03:19:09.935048Z",
     "iopub.status.idle": "2022-10-13T03:19:09.999737Z",
     "shell.execute_reply": "2022-10-13T03:19:09.998455Z",
     "shell.execute_reply.started": "2022-10-13T03:19:09.935357Z"
    }
   },
   "outputs": [
    {
     "name": "stdout",
     "output_type": "stream",
     "text": [
      "time: 5.78 ms (started: 2024-05-07 16:57:51 -04:00)\n"
     ]
    }
   ],
   "source": [
    "df['Duration (in seconds)'] = df['Duration (in seconds)'].astype('int')"
   ]
  },
  {
   "cell_type": "code",
   "execution_count": 10,
   "metadata": {
    "execution": {
     "iopub.execute_input": "2022-10-13T03:19:10.001917Z",
     "iopub.status.busy": "2022-10-13T03:19:10.001011Z",
     "iopub.status.idle": "2022-10-13T03:19:10.014922Z",
     "shell.execute_reply": "2022-10-13T03:19:10.013928Z",
     "shell.execute_reply.started": "2022-10-13T03:19:10.001877Z"
    }
   },
   "outputs": [
    {
     "name": "stdout",
     "output_type": "stream",
     "text": [
      "time: 26.6 ms (started: 2024-05-07 16:57:51 -04:00)\n"
     ]
    }
   ],
   "source": [
    "df.loc[df[\"Q3\"] == \"Nonbinary\", \"Q3\"] = \"Others\"\n",
    "df.loc[df[\"Q3\"] == \"Prefer not to say\", \"Q3\"] = \"Others\"\n",
    "df.loc[df[\"Q3\"] == \"Prefer to self-describe\", \"Q3\"] = \"Others\""
   ]
  },
  {
   "cell_type": "markdown",
   "metadata": {},
   "source": [
    "<a id=\"3\"></a>\n",
    "# <div style=\"font-size:40px; text-align: center; background-color: #39c5ff; font-family:Rubik; color: #ffffff; padding: 14px; line-height: 1;border-radius:20px; border: 4px solid #3f484b;\"><b> 3. Exploratory Data Analysis </b></div>"
   ]
  },
  {
   "cell_type": "markdown",
   "metadata": {},
   "source": [
    "<a id=\"3.1\"></a>\n",
    "<h3 style=\"font-size:25px; text-align: left;background-color: #39c5ff; font-family:Rubik; color: #ffffff; padding: 16px; line-height: 1; border-radius:10px; border: 3px solid #3f484b;\"> 3.1 Univariate Analysis</h3>"
   ]
  },
  {
   "cell_type": "markdown",
   "metadata": {},
   "source": [
    "<a id=\"3.1.1\"></a>\n",
    "<span style=\"font-size:20px; color:#39c5ff; font-family:Rubik;\"><i> 3.1.1 Gender Countplot </i></span>"
   ]
  },
  {
   "cell_type": "code",
   "execution_count": 11,
   "metadata": {
    "execution": {
     "iopub.execute_input": "2022-10-13T03:19:10.016589Z",
     "iopub.status.busy": "2022-10-13T03:19:10.016259Z",
     "iopub.status.idle": "2022-10-13T03:19:11.047942Z",
     "shell.execute_reply": "2022-10-13T03:19:11.046694Z",
     "shell.execute_reply.started": "2022-10-13T03:19:10.016558Z"
    }
   },
   "outputs": [
    {
     "name": "stdout",
     "output_type": "stream",
     "text": [
      "time: 7.67 ms (started: 2024-05-07 16:57:51 -04:00)\n"
     ]
    }
   ],
   "source": [
    "gender_count = df.groupby(['Q3']).size().reset_index().rename(columns={0: 'count'})\n",
    "\n",
    "# STEFANOS: Disable plotting\n",
    "# fig=px.bar(data_frame=gender_count, x='Q3', y='count',color='Q3',template='plotly_dark',color_discrete_sequence=['#39c5ff','#F5F5F1'],\n",
    "#                  text_auto=True,barmode='stack',\n",
    "#           title=\"Gender Countplot\")\n",
    "\n",
    "# fig.update_traces(textfont_size=20, textangle=0, textposition=\"outside\", cliponaxis=False)\n",
    "# fig.update_traces( marker_line_color='#3f484b',\n",
    "#                   marker_line_width=3.5)\n",
    "\n",
    "# fig.update_layout(\n",
    "#     title=\"Gender Countplot\",\n",
    "#     xaxis_title=\"Genders\",\n",
    "#     yaxis_title=\"Count\",\n",
    "#     legend_title=\"Genders\",\n",
    "#     font=dict(\n",
    "#         family=\"Rubik\",\n",
    "#         size=18\n",
    "#     )\n",
    "# )\n",
    "\n",
    "# fig.show()"
   ]
  },
  {
   "cell_type": "markdown",
   "metadata": {},
   "source": [
    "<a id=\"3.1.2\"></a>\n",
    "<span style=\"font-size:20px; color:#39c5ff; font-family:Rubik;\"> <i>3.1.2 Duration Histogram</i></span>"
   ]
  },
  {
   "cell_type": "code",
   "execution_count": 12,
   "metadata": {
    "execution": {
     "iopub.execute_input": "2022-10-13T03:19:11.051701Z",
     "iopub.status.busy": "2022-10-13T03:19:11.050767Z",
     "iopub.status.idle": "2022-10-13T03:19:11.147365Z",
     "shell.execute_reply": "2022-10-13T03:19:11.146539Z",
     "shell.execute_reply.started": "2022-10-13T03:19:11.051635Z"
    }
   },
   "outputs": [
    {
     "name": "stdout",
     "output_type": "stream",
     "text": [
      "time: 3.86 ms (started: 2024-05-07 16:57:51 -04:00)\n"
     ]
    }
   ],
   "source": [
    "duration_count = df.groupby(['Duration (in seconds)']).size().reset_index().rename(columns={0: 'count'})\n",
    "duration_count = duration_count[:1000]\n",
    "\n",
    "# STEFANOS: Disable plotting\n",
    "# fig=px.histogram(data_frame=duration_count, x='Duration (in seconds)', y='count',template='plotly_dark',color_discrete_sequence=['#39c5ff','#F5F5F1'],\n",
    "#                  text_auto=True,barmode='stack',\n",
    "#           title=\"Duration Histogram\")\n",
    "\n",
    "# fig.update_traces(textfont_size=20, textangle=0, textposition=\"outside\", cliponaxis=False)\n",
    "# fig.update_traces( marker_line_color='#3f484b',\n",
    "#                   marker_line_width=3.5)\n",
    "\n",
    "# fig.update_layout(\n",
    "#     title=\"Duration Histogram\",\n",
    "#     font=dict(\n",
    "#         family=\"Rubik\",\n",
    "#         size=14\n",
    "#     )\n",
    "# )\n",
    "\n",
    "# fig.show()"
   ]
  },
  {
   "cell_type": "markdown",
   "metadata": {},
   "source": [
    "<a id=\"3.1.3\"></a>\n",
    "<span style=\"font-size:20px; color:#39c5ff; font-family:Rubik;\"> <i>3.1.3 Age Countplot</i></span>"
   ]
  },
  {
   "cell_type": "code",
   "execution_count": 13,
   "metadata": {
    "execution": {
     "iopub.execute_input": "2022-10-13T03:19:11.161609Z",
     "iopub.status.busy": "2022-10-13T03:19:11.161368Z",
     "iopub.status.idle": "2022-10-13T03:19:11.290741Z",
     "shell.execute_reply": "2022-10-13T03:19:11.289743Z",
     "shell.execute_reply.started": "2022-10-13T03:19:11.161586Z"
    }
   },
   "outputs": [
    {
     "name": "stdout",
     "output_type": "stream",
     "text": [
      "time: 7.52 ms (started: 2024-05-07 16:57:51 -04:00)\n"
     ]
    }
   ],
   "source": [
    "age_count = df.groupby(['Q2']).size().reset_index().rename(columns={0: 'count'})\n",
    "\n",
    "# STEFANOS: Disable plotting\n",
    "# fig=px.bar(data_frame=age_count, x='Q2', y='count',color='Q2',template='plotly_dark',color_discrete_sequence=['#39c5ff','#F5F5F1'],\n",
    "#                  text_auto=True,barmode='stack',\n",
    "#           title=\"Age Countplot\")\n",
    "\n",
    "# fig.update_traces(textfont_size=20, textangle=0, textposition=\"outside\", cliponaxis=False)\n",
    "# fig.update_traces( marker_line_color='#3f484b',\n",
    "#                   marker_line_width=3.5)\n",
    "\n",
    "# fig.update_layout(\n",
    "#     title=\"Age Countplot\",\n",
    "#     xaxis_title=\"Age Groups\",\n",
    "#     yaxis_title=\"Count\",\n",
    "#     legend_title=\"Age Groups\",\n",
    "#     font=dict(\n",
    "#         family=\"Rubik\",\n",
    "#         size=12\n",
    "#     )\n",
    "# )\n",
    "\n",
    "# fig.show()"
   ]
  },
  {
   "cell_type": "markdown",
   "metadata": {},
   "source": [
    "<a id=\"3.1.4\"></a>\n",
    "<span style=\"font-size:20px; color:#39c5ff; font-family:Rubik;\"> <i>3.1.4 Top 10 Countries Count</i></span>"
   ]
  },
  {
   "cell_type": "code",
   "execution_count": 14,
   "metadata": {
    "execution": {
     "iopub.execute_input": "2022-10-13T03:19:11.29287Z",
     "iopub.status.busy": "2022-10-13T03:19:11.292477Z",
     "iopub.status.idle": "2022-10-13T03:19:11.420165Z",
     "shell.execute_reply": "2022-10-13T03:19:11.419136Z",
     "shell.execute_reply.started": "2022-10-13T03:19:11.292834Z"
    }
   },
   "outputs": [
    {
     "name": "stdout",
     "output_type": "stream",
     "text": [
      "time: 9.03 ms (started: 2024-05-07 16:57:51 -04:00)\n"
     ]
    }
   ],
   "source": [
    "country_count = df.groupby(['Q4']).size().reset_index().rename(columns={0: 'count'})\n",
    "country_count = country_count.sort_values(by=['count'], ascending=False).reset_index(drop=True)\n",
    "country_count = country_count[:10]\n",
    "\n",
    "# STEFANOS: Disable plotting\n",
    "# fig=px.bar(data_frame=country_count,x='Q4', y='count',color='Q4',template='plotly_dark',color_discrete_sequence=['#39c5ff','#F5F5F1'],\n",
    "#                  text_auto=True,barmode='stack',\n",
    "#           title=\"Country Countplot\")\n",
    "\n",
    "# fig.update_traces(textfont_size=20, textangle=0, textposition=\"outside\", cliponaxis=False)\n",
    "# fig.update_traces( marker_line_color='#3f484b',\n",
    "#                   marker_line_width=3.5)\n",
    "\n",
    "# fig.update_layout(\n",
    "#     title=\"Top 10 Countries Plot\",\n",
    "#     xaxis_title=\"Countries\",\n",
    "#     yaxis_title=\"Count\",\n",
    "#     legend_title=\"Countries\",\n",
    "#     font=dict(\n",
    "#         family=\"Rubik\",\n",
    "#         size=13\n",
    "#     )\n",
    "# )\n",
    "\n",
    "# fig.show()"
   ]
  },
  {
   "cell_type": "markdown",
   "metadata": {},
   "source": [
    "<a id=\"3.1.5\"></a>\n",
    "<span style=\"font-size:20px; color:#39c5ff; font-family:Rubik;\"> <i>3.1.5 World Map</i></span>"
   ]
  },
  {
   "cell_type": "code",
   "execution_count": 15,
   "metadata": {
    "execution": {
     "iopub.execute_input": "2022-10-13T03:19:11.422036Z",
     "iopub.status.busy": "2022-10-13T03:19:11.421644Z",
     "iopub.status.idle": "2022-10-13T03:19:11.514913Z",
     "shell.execute_reply": "2022-10-13T03:19:11.513879Z",
     "shell.execute_reply.started": "2022-10-13T03:19:11.422003Z"
    }
   },
   "outputs": [
    {
     "name": "stdout",
     "output_type": "stream",
     "text": [
      "time: 8.25 ms (started: 2024-05-07 16:57:51 -04:00)\n"
     ]
    }
   ],
   "source": [
    "country_df = df.groupby(['Q4']).size().reset_index().rename(columns={0: 'count'})\n",
    "\n",
    "# STEFANOS: Disable plotting\n",
    "# fig = px.choropleth(country_df, locations=\"Q4\", color=\"count\", \n",
    "#                     locationmode='country names',\n",
    "#                     range_color=[0,5000],\n",
    "#                     color_continuous_scale=[(0, \"#ffffff\"), (1, '#39c5ff')],\n",
    "#                     template='plotly_dark'\n",
    "#                    )\n",
    "\n",
    "# fig.update_layout(\n",
    "#     title=\"World Map\",\n",
    "#     font=dict(\n",
    "#         family=\"Rubik\",\n",
    "#         size=14\n",
    "#     )\n",
    "# )\n",
    "\n",
    "# fig.show()"
   ]
  },
  {
   "cell_type": "markdown",
   "metadata": {},
   "source": [
    "<a id=\"3.1.6\"></a>\n",
    "<span style=\"font-size:20px; color:#39c5ff; font-family:Rubik;\"> <i>3.1.6 Student Donut Chart</i></span>"
   ]
  },
  {
   "cell_type": "code",
   "execution_count": 16,
   "metadata": {
    "execution": {
     "iopub.execute_input": "2022-10-13T03:23:18.645433Z",
     "iopub.status.busy": "2022-10-13T03:23:18.64509Z",
     "iopub.status.idle": "2022-10-13T03:23:18.688163Z",
     "shell.execute_reply": "2022-10-13T03:23:18.687067Z",
     "shell.execute_reply.started": "2022-10-13T03:23:18.645407Z"
    }
   },
   "outputs": [
    {
     "name": "stdout",
     "output_type": "stream",
     "text": [
      "time: 6.92 ms (started: 2024-05-07 16:57:51 -04:00)\n"
     ]
    }
   ],
   "source": [
    "student_count = df.groupby(['Q5']).size().reset_index().rename(columns={0: 'count'})\n",
    "\n",
    "# STEFANOS: Disable plotting\n",
    "# fig = go.Figure(\n",
    "#     data=[go.Pie(labels=student_count['Q5'], values=student_count['count'], hole=.4)])\n",
    "\n",
    "# fig.update_traces(hoverinfo='label+percent', textinfo='value', textfont_size=20,\n",
    "#                   marker=dict(colors=colors, line=dict(color='#000000', width=2)))\n",
    "\n",
    "# fig.update_layout(\n",
    "#     title=\"Student Count\",\n",
    "#     template='plotly_dark',\n",
    "#     font=dict(\n",
    "#         family=\"Rubik\",\n",
    "#         size=18\n",
    "#     )\n",
    "# )\n",
    "\n",
    "# fig.show()"
   ]
  },
  {
   "cell_type": "markdown",
   "metadata": {},
   "source": [
    "<a id=\"3.1.7\"></a>\n",
    "<span style=\"font-size:20px; color:#39c5ff; font-family:Rubik;\"> <i>3.1.7 Educational Background Donut Chart</i></span>"
   ]
  },
  {
   "cell_type": "code",
   "execution_count": 17,
   "metadata": {
    "execution": {
     "iopub.execute_input": "2022-10-13T03:19:11.517084Z",
     "iopub.status.busy": "2022-10-13T03:19:11.516653Z",
     "iopub.status.idle": "2022-10-13T03:19:11.582474Z",
     "shell.execute_reply": "2022-10-13T03:19:11.581577Z",
     "shell.execute_reply.started": "2022-10-13T03:19:11.51702Z"
    }
   },
   "outputs": [
    {
     "name": "stdout",
     "output_type": "stream",
     "text": [
      "time: 11.9 ms (started: 2024-05-07 16:57:51 -04:00)\n"
     ]
    }
   ],
   "source": [
    "degree_count = df.groupby(['Q8']).size().reset_index().rename(columns={0: 'count'})\n",
    "degree_count.loc[degree_count[\"Q8\"] == \"Some college/university study without earning a bachelor’s degree\", \"Q8\"] = \"College Without Bachelors\"\n",
    "\n",
    "# STEFANOS: Disable plotting\n",
    "# fig = go.Figure(\n",
    "#     data=[go.Pie(labels=degree_count['Q8'], values=degree_count['count'], hole=.4)])\n",
    "\n",
    "# fig.update_traces(hoverinfo='label+percent', textinfo='value', textfont_size=20,\n",
    "#                   marker=dict(colors=colors, line=dict(color='#000000', width=2)))\n",
    "\n",
    "# # fig.update_layout(template='plotly_dark')\n",
    "\n",
    "# fig.update_layout(\n",
    "#     title=\"Educational Background\",\n",
    "#     template='plotly_dark',\n",
    "#     font=dict(\n",
    "#         family=\"Rubik\",\n",
    "#         size=14\n",
    "#     )\n",
    "# )\n",
    "\n",
    "# fig.show()"
   ]
  },
  {
   "cell_type": "markdown",
   "metadata": {},
   "source": [
    "<a id=\"3.1.8\"></a>\n",
    "<span style=\"font-size:20px; color:#39c5ff; font-family:Rubik;\"> <i>3.1.8 ML Experience Donut Chart</i></span>"
   ]
  },
  {
   "cell_type": "code",
   "execution_count": 18,
   "metadata": {
    "execution": {
     "iopub.execute_input": "2022-10-13T03:19:11.59761Z",
     "iopub.status.busy": "2022-10-13T03:19:11.597017Z",
     "iopub.status.idle": "2022-10-13T03:19:11.636539Z",
     "shell.execute_reply": "2022-10-13T03:19:11.635555Z",
     "shell.execute_reply.started": "2022-10-13T03:19:11.597574Z"
    }
   },
   "outputs": [
    {
     "name": "stdout",
     "output_type": "stream",
     "text": [
      "time: 9.94 ms (started: 2024-05-07 16:57:51 -04:00)\n"
     ]
    }
   ],
   "source": [
    "experience_count = df.groupby(['Q16']).size().reset_index().rename(columns={0: 'count'})\n",
    "\n",
    "# STEFANOS: Disable plotting\n",
    "# fig = go.Figure(\n",
    "#     data=[go.Pie(labels=experience_count['Q16'], values=experience_count['count'], hole=.4)])\n",
    "\n",
    "# fig.update_traces(hoverinfo='label+percent', textinfo='value', textfont_size=20,\n",
    "#                   marker=dict(colors=colors, line=dict(color='#000000', width=2)))\n",
    "\n",
    "# # fig.update_layout(template='plotly_dark')\n",
    "\n",
    "# fig.update_layout(\n",
    "#     title=\"ML Experience\",\n",
    "#     template='plotly_dark',\n",
    "#     font=dict(\n",
    "#         family=\"Rubik\",\n",
    "#         size=14\n",
    "#     )\n",
    "# )\n",
    "\n",
    "# fig.show()"
   ]
  },
  {
   "cell_type": "markdown",
   "metadata": {},
   "source": [
    "<a id=\"3.1.9\"></a>\n",
    "<span style=\"font-size:20px; color:#39c5ff; font-family:Rubik;\"> <i>3.1.9 Yearly Compensation Donut Chart</i></span>"
   ]
  },
  {
   "cell_type": "code",
   "execution_count": 19,
   "metadata": {
    "execution": {
     "iopub.execute_input": "2022-10-13T03:19:11.638078Z",
     "iopub.status.busy": "2022-10-13T03:19:11.637811Z",
     "iopub.status.idle": "2022-10-13T03:19:11.678217Z",
     "shell.execute_reply": "2022-10-13T03:19:11.67734Z",
     "shell.execute_reply.started": "2022-10-13T03:19:11.638054Z"
    }
   },
   "outputs": [
    {
     "name": "stdout",
     "output_type": "stream",
     "text": [
      "time: 8.19 ms (started: 2024-05-07 16:57:51 -04:00)\n"
     ]
    }
   ],
   "source": [
    "annual_income_df = df.groupby(['Q29']).size().reset_index().rename(columns={0: 'count'})\n",
    "\n",
    "# STEFANOS: Disable plotting\n",
    "# fig = go.Figure(\n",
    "#     data=[go.Pie(labels=annual_income_df['Q29'], values=annual_income_df['count'], hole=.4)])\n",
    "\n",
    "# fig.update_traces(hoverinfo='label+percent', textinfo='value', textfont_size=20,\n",
    "#                   marker=dict(colors=colors, line=dict(color='#000000', width=2)))\n",
    "\n",
    "# # fig.update_layout(template='plotly_dark')\n",
    "\n",
    "# fig.update_layout(\n",
    "#     title=\"Yearly Compensation in USD\",\n",
    "#     template='plotly_dark',\n",
    "#     font=dict(\n",
    "#         family=\"Rubik\",\n",
    "#         size=14\n",
    "#     )\n",
    "# )\n",
    "\n",
    "# fig.show()"
   ]
  },
  {
   "cell_type": "markdown",
   "metadata": {},
   "source": [
    "<a id=\"3.2\"></a>\n",
    "<h3 style=\"font-size:25px; text-align: left;background-color: #39c5ff; font-family:Rubik; color: #ffffff; padding: 16px; line-height: 1; border-radius:10px; border: 3px solid #3f484b;\"> 3.2 Multivariate Analysis</h3>"
   ]
  },
  {
   "cell_type": "markdown",
   "metadata": {},
   "source": [
    "<a id=\"3.2.1\"></a>\n",
    "<span style=\"font-size:20px; color:#39c5ff; font-family:Rubik;\"> <i>3.2.1 Duration X Gender Histplot</i></span>"
   ]
  },
  {
   "cell_type": "code",
   "execution_count": 20,
   "metadata": {
    "execution": {
     "iopub.execute_input": "2022-10-13T06:25:27.318835Z",
     "iopub.status.busy": "2022-10-13T06:25:27.318419Z",
     "iopub.status.idle": "2022-10-13T06:25:27.440618Z",
     "shell.execute_reply": "2022-10-13T06:25:27.43907Z",
     "shell.execute_reply.started": "2022-10-13T06:25:27.318803Z"
    }
   },
   "outputs": [
    {
     "name": "stdout",
     "output_type": "stream",
     "text": [
      "time: 11.1 ms (started: 2024-05-07 16:57:51 -04:00)\n"
     ]
    }
   ],
   "source": [
    "gender_duration_count = df.groupby(['Duration (in seconds)', 'Q3']).size().reset_index().rename(columns={0: 'count'})\n",
    "gender_duration_count = gender_duration_count[:3000]\n",
    "\n",
    "# STEFANOS: Disable plotting\n",
    "# hist_colors = ['#39c5ff', '#ffffff', 'orange']\n",
    "\n",
    "# fig = px.histogram(gender_duration_count, x=\"Duration (in seconds)\", y=\"count\", color='Q3',\n",
    "#                    marginal=\"box\", color_discrete_sequence=hist_colors,\n",
    "#                    hover_data=gender_duration_count.columns,\n",
    "#                   template='plotly_dark')\n",
    "\n",
    "# fig.update_layout(\n",
    "#     title=\"Duration X Gender\",\n",
    "#     xaxis_title=\"Duration (in seconds)\",\n",
    "#     yaxis_title=\"Count\",\n",
    "#     legend_title=\"Gender\",\n",
    "#     font=dict(\n",
    "#         family=\"Rubik\",\n",
    "#         size=16\n",
    "#     )\n",
    "# )\n",
    "\n",
    "# fig.show()"
   ]
  },
  {
   "cell_type": "markdown",
   "metadata": {},
   "source": [
    "<a id=\"3.2.2\"></a>\n",
    "<span style=\"font-size:20px; color:#39c5ff; font-family:Rubik;\"> <i>3.2.2 Country X Gender TreeMap</i></span>"
   ]
  },
  {
   "cell_type": "code",
   "execution_count": 21,
   "metadata": {
    "execution": {
     "iopub.execute_input": "2022-10-13T03:19:11.679518Z",
     "iopub.status.busy": "2022-10-13T03:19:11.679268Z",
     "iopub.status.idle": "2022-10-13T03:19:11.788442Z",
     "shell.execute_reply": "2022-10-13T03:19:11.787612Z",
     "shell.execute_reply.started": "2022-10-13T03:19:11.679496Z"
    }
   },
   "outputs": [
    {
     "name": "stdout",
     "output_type": "stream",
     "text": [
      "time: 15.1 ms (started: 2024-05-07 16:57:51 -04:00)\n"
     ]
    }
   ],
   "source": [
    "country_gender = df.groupby(['Q4', 'Q3']).size().reset_index().rename(columns={0: 'count'})\n",
    "\n",
    "# STEFANOS: Disable plotting\n",
    "# fig = px.treemap(country_gender, values='count', path=['Q4', 'Q3'], template='plotly_dark',\n",
    "#                 title=\"Country X Gender TreeMap\")\n",
    "# fig.update_traces(textinfo=\"label+percent parent\")\n",
    "\n",
    "# fig.show()"
   ]
  },
  {
   "cell_type": "markdown",
   "metadata": {},
   "source": [
    "<a id=\"3.2.3\"></a>\n",
    "<span style=\"font-size:20px; color:#39c5ff; font-family:Rubik;\"> <i>3.2.3 Duration with Age</i></span>"
   ]
  },
  {
   "cell_type": "code",
   "execution_count": 22,
   "metadata": {
    "execution": {
     "iopub.execute_input": "2022-10-13T06:27:24.324284Z",
     "iopub.status.busy": "2022-10-13T06:27:24.323893Z",
     "iopub.status.idle": "2022-10-13T06:27:24.556117Z",
     "shell.execute_reply": "2022-10-13T06:27:24.555063Z",
     "shell.execute_reply.started": "2022-10-13T06:27:24.324251Z"
    }
   },
   "outputs": [
    {
     "name": "stdout",
     "output_type": "stream",
     "text": [
      "time: 359 ms (started: 2024-05-07 16:57:51 -04:00)\n"
     ]
    }
   ],
   "source": [
    "age_duration_df = df[df['Duration (in seconds)']<2000].groupby('Q2')['Duration (in seconds)'].mean().round(1).reset_index()\n",
    "\n",
    "# STEFANOS: Disable plotting\n",
    "# fig=px.bar(data_frame=age_duration_df, x='Q2', y='Duration (in seconds)',\n",
    "#            color='Q2',template='plotly_dark',color_discrete_sequence=['#39c5ff','#F5F5F1'],\n",
    "#                  text_auto=True,barmode='stack',\n",
    "#           title=\"Age Countplot\")\n",
    "\n",
    "# fig.update_traces(textfont_size=20, textangle=0, textposition=\"outside\", cliponaxis=False)\n",
    "# fig.update_traces( marker_line_color='#3f484b',\n",
    "#                   marker_line_width=3.5)\n",
    "\n",
    "# fig.update_layout(\n",
    "#     title=\"Duration with Age\",\n",
    "#     xaxis_title=\"Age Groups\",\n",
    "#     yaxis_title=\"Duration (in seconds)\",\n",
    "#     legend_title=\"Age Groups\",\n",
    "#     font=dict(\n",
    "#         family=\"Rubik\",\n",
    "#         size=12\n",
    "#     )\n",
    "# )\n",
    "\n",
    "# fig.show()"
   ]
  },
  {
   "cell_type": "markdown",
   "metadata": {},
   "source": [
    "<a id=\"3.2.4\"></a>\n",
    "<span style=\"font-size:20px; color:#39c5ff; font-family:Rubik;\"> <i>3.2.4 Education X Gender TreeMap</i></span>"
   ]
  },
  {
   "cell_type": "code",
   "execution_count": 23,
   "metadata": {
    "execution": {
     "iopub.execute_input": "2022-10-13T03:42:00.80817Z",
     "iopub.status.busy": "2022-10-13T03:42:00.807825Z",
     "iopub.status.idle": "2022-10-13T03:42:00.884248Z",
     "shell.execute_reply": "2022-10-13T03:42:00.882945Z",
     "shell.execute_reply.started": "2022-10-13T03:42:00.808141Z"
    }
   },
   "outputs": [
    {
     "name": "stdout",
     "output_type": "stream",
     "text": [
      "time: 18.5 ms (started: 2024-05-07 16:57:51 -04:00)\n"
     ]
    }
   ],
   "source": [
    "education_gender = df.groupby(['Q8', 'Q3']).size().reset_index().rename(columns={0: 'count'})\n",
    "\n",
    "# STEFANOS: Disable plotting\n",
    "# fig = px.treemap(education_gender, values='count', path=['Q8', 'Q3'], template='plotly_dark',\n",
    "#                 title=\"Education X Gender TreeMap\")\n",
    "# fig.update_traces(textinfo=\"label+percent parent\")\n",
    "\n",
    "# fig.show()"
   ]
  },
  {
   "cell_type": "markdown",
   "metadata": {},
   "source": [
    "<a id=\"3.2.5\"></a>\n",
    "<span style=\"font-size:20px; color:#39c5ff; font-family:Rubik;\"> <i>3.2.5 Countries X Age Density Plot</i></span>"
   ]
  },
  {
   "cell_type": "code",
   "execution_count": 24,
   "metadata": {
    "execution": {
     "iopub.execute_input": "2022-10-13T06:01:46.548873Z",
     "iopub.status.busy": "2022-10-13T06:01:46.548195Z",
     "iopub.status.idle": "2022-10-13T06:01:46.810353Z",
     "shell.execute_reply": "2022-10-13T06:01:46.809365Z",
     "shell.execute_reply.started": "2022-10-13T06:01:46.548839Z"
    }
   },
   "outputs": [
    {
     "name": "stdout",
     "output_type": "stream",
     "text": [
      "time: 116 ms (started: 2024-05-07 16:57:51 -04:00)\n"
     ]
    }
   ],
   "source": [
    "## Not Including India bcz it acts as an outlier here\n",
    "top_9_countries = ['United States of America','Other', 'Brazil',\n",
    "                   'Nigeria', 'Pakistan', 'Japan', 'China', 'Egypt', 'Mexico']\n",
    "\n",
    "top_9_countries_df = df[df['Q4'].isin(top_9_countries)]\n",
    "# STEFANOS: Disable plotting\n",
    "# fig = px.density_heatmap(\n",
    "#     top_9_countries_df, x='Q4', y='Q2',\n",
    "#     marginal_x='histogram', marginal_y='histogram', histfunc='count'\n",
    "# )\n",
    "\n",
    "# fig.update_yaxes(categoryorder='array', categoryarray= ['18-21','22-24','25-29','30-34', '35-39',\n",
    "#                                                         '40-44', '45-49', '50-54', '55-59', '60-69', '70+'])\n",
    "\n",
    "# fig.update_layout(\n",
    "#     title=\"Countires X Age Groups Density Plot\",\n",
    "#     xaxis_title=\"Countries\",\n",
    "#     yaxis_title=\"Age Groups\",\n",
    "#     font=dict(\n",
    "#         family=\"Rubik\",\n",
    "#         size=14\n",
    "#     )\n",
    "# )\n",
    "\n",
    "# fig.show()"
   ]
  },
  {
   "cell_type": "markdown",
   "metadata": {},
   "source": [
    "<a id=\"3.2.6\"></a>\n",
    "<span style=\"font-size:20px; color:#39c5ff; font-family:Rubik;\"> <i>3.2.6 Gender X Student Sunburst</i></span>"
   ]
  },
  {
   "cell_type": "code",
   "execution_count": 25,
   "metadata": {
    "execution": {
     "iopub.execute_input": "2022-10-13T03:31:42.23863Z",
     "iopub.status.busy": "2022-10-13T03:31:42.238278Z",
     "iopub.status.idle": "2022-10-13T03:31:42.317726Z",
     "shell.execute_reply": "2022-10-13T03:31:42.316576Z",
     "shell.execute_reply.started": "2022-10-13T03:31:42.238603Z"
    }
   },
   "outputs": [
    {
     "name": "stdout",
     "output_type": "stream",
     "text": [
      "time: 13.9 ms (started: 2024-05-07 16:57:51 -04:00)\n"
     ]
    }
   ],
   "source": [
    "gender_student = df.groupby(['Q3', 'Q5']).size().reset_index().rename(columns={0: 'count'})\n",
    "\n",
    "# STEFANOS: Disable plotting\n",
    "# fig = px.sunburst(gender_student, values='count', path=['Q3', 'Q5'], template='plotly_dark',\n",
    "#                 title=\"Gender X Student Sunburst\")\n",
    "# fig.update_traces(textinfo=\"label+percent parent\")\n",
    "\n",
    "# fig.show()"
   ]
  },
  {
   "cell_type": "code",
   "execution_count": 26,
   "id": "8c692eed",
   "metadata": {},
   "outputs": [
    {
     "name": "stdout",
     "output_type": "stream",
     "text": [
      "Total elapsed time: 1.678947588\n",
      "time: 349 µs (started: 2024-05-07 16:57:51 -04:00)\n"
     ]
    }
   ],
   "source": [
    "SNAPPY_end_time = time.perf_counter_ns()\n",
    "print(\"Total elapsed time:\", (SNAPPY_end_time - SNAPPY_start_time) / (10 ** 9))"
   ]
  },
  {
   "cell_type": "markdown",
   "metadata": {},
   "source": [
    "<a id=\"4\"></a>\n",
    "# <div style=\"font-size:40px; text-align: center; background-color: #39c5ff; font-family:Rubik; color: #ffffff; padding: 14px; line-height: 1;border-radius:20px; border: 4px solid #3f484b;\"><b> Work In Progress </b></div>"
   ]
  }
 ],
 "metadata": {
  "kernelspec": {
   "display_name": "Python 3 (ipykernel)",
   "language": "python",
   "name": "python3"
  },
  "language_info": {
   "codemirror_mode": {
    "name": "ipython",
    "version": 3
   },
   "file_extension": ".py",
   "mimetype": "text/x-python",
   "name": "python",
   "nbconvert_exporter": "python",
   "pygments_lexer": "ipython3",
   "version": "3.10.11"
  }
 },
 "nbformat": 4,
 "nbformat_minor": 4
}
