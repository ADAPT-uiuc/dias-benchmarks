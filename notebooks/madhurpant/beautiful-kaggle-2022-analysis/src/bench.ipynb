{
 "cells": [
  {
   "cell_type": "markdown",
   "metadata": {},
   "source": [
    "# <div style=\"text-align: center; background-color: #39c5ff;font-size:200%; font-family:Rubik; color: #ffffff; padding: 20px; line-height: 1;border-radius:10px; border: 5px solid #3f484b;\"><b>Kaggle <br> Survey 2022</b></div>"
   ]
  },
  {
   "cell_type": "markdown",
   "metadata": {},
   "source": [
    "<a id=\"top\"></a>\n",
    "<div class=\"list-group\" id=\"list-tab\" role=\"tablist\">\n",
    "    <h3 style=\"text-align: left; background-color: #3f484b; font-family:Rubik; color: #F5F5F1; padding: 14px; line-height: 1; border-radius:10px\">Table of Contents</h3>\n",
    "    \n",
    "   * [1. Imports](#1)\n",
    "   * [2. Data Cleaning](#2)\n",
    "   * [3. Exploratory Data Analysis](#3)\n",
    "    - [3.1. Univariate Analysis](#3.1)\n",
    "        - [3.1.1. Gender Countplot](#3.1.1)\n",
    "        - [3.1.2. Duration Histogram](#3.1.2)\n",
    "        - [3.1.3. Age Countplot](#3.1.3)\n",
    "        - [3.1.4. Top 10 Countries Count](#3.1.4)\n",
    "        - [3.1.5. World Map](#3.1.5)\n",
    "        - [3.1.6. Student Donut Chart](#3.1.6)\n",
    "        - [3.1.7. Educational Background Donut Chart](#3.1.7)\n",
    "        - [3.1.8. ML Experience Donut Chart](#3.1.8)\n",
    "        - [3.1.9. Yearly Compensation Donut Chart](#3.1.9)\n",
    "    - [3.2. Multivariate Analysis](#3.2)\n",
    "        - [3.2.1. Duration X Gender Histplot](#3.2.1)\n",
    "        - [3.2.2. Country X Gender Treemap](#3.2.2)\n",
    "        - [3.2.3. Duration with Age](#3.2.3)\n",
    "        - [3.2.4. Education X Gender Treemap](#3.2.4)\n",
    "        - [3.2.5. Country X Age Density Plot](#3.2.5)\n",
    "        - [3.2.6. Gender X Student Sunburst](#3.2.6)\n",
    "   * [4. Work In Progress](#4)"
   ]
  },
  {
   "cell_type": "markdown",
   "metadata": {},
   "source": [
    "<a id=\"1\"></a>\n",
    "# <div style=\"font-size:40px; text-align: center; background-color: #39c5ff; font-family:Rubik; color: #ffffff; padding: 14px; line-height: 1;border-radius:20px; border: 4px solid #3f484b;\"><b> 1. Imports </b></div>"
   ]
  },
  {
   "cell_type": "code",
   "execution_count": 5,
   "metadata": {
    "execution": {
     "iopub.execute_input": "2022-10-13T03:19:06.645505Z",
     "iopub.status.busy": "2022-10-13T03:19:06.645136Z",
     "iopub.status.idle": "2022-10-13T03:19:08.936303Z",
     "shell.execute_reply": "2022-10-13T03:19:08.935369Z",
     "shell.execute_reply.started": "2022-10-13T03:19:06.645476Z"
    }
   },
   "outputs": [],
   "source": [
    "import os\n",
    "import pandas as pd\n",
    "import numpy as np\n",
    "\n",
    "# visualization\n",
    "import matplotlib.pyplot as plt\n",
    "import seaborn as sns\n",
    "import plotly.express as px\n",
    "import plotly.figure_factory as ff\n",
    "import plotly.graph_objects as go\n",
    "\n",
    "colors = ['gold', 'mediumturquoise', 'darkorange', 'lightgreen']\n",
    "kaggle_colors = ['#39c5ff', '#ffffff', '#f2f2f2', '#9ca3a4', '#3f484b']\n",
    "font = 'Rubik'"
   ]
  },
  {
   "cell_type": "code",
   "execution_count": 6,
   "metadata": {
    "execution": {
     "iopub.execute_input": "2022-10-13T03:19:08.938858Z",
     "iopub.status.busy": "2022-10-13T03:19:08.938491Z",
     "iopub.status.idle": "2022-10-13T03:19:09.884006Z",
     "shell.execute_reply": "2022-10-13T03:19:09.882835Z",
     "shell.execute_reply.started": "2022-10-13T03:19:08.938825Z"
    }
   },
   "outputs": [
    {
     "name": "stderr",
     "output_type": "stream",
     "text": [
      "/var/folders/9f/h2dr6r6j21xby0_p48_973200000gn/T/ipykernel_85901/699594189.py:1: DtypeWarning: Columns (0,208,225,255,257,260,270,271,277) have mixed types. Specify dtype option on import or set low_memory=False.\n",
      "  df = pd.read_csv('../input/kaggle-survey-2022/kaggle_survey_2022_responses.csv')\n"
     ]
    }
   ],
   "source": [
    "df = pd.read_csv('../input/kaggle-survey-2022/kaggle_survey_2022_responses.csv')"
   ]
  },
  {
   "cell_type": "code",
   "execution_count": 7,
   "metadata": {},
   "outputs": [
    {
     "name": "stdout",
     "output_type": "stream",
     "text": [
      "<class 'pandas.core.frame.DataFrame'>\n",
      "RangeIndex: 95992 entries, 0 to 95991\n",
      "Columns: 296 entries, Duration (in seconds) to Q44_12\n",
      "dtypes: object(296)\n",
      "memory usage: 216.8+ MB\n"
     ]
    }
   ],
   "source": [
    "df = df\n",
    "intended_df_size_in_MB = 256\n",
    "factor = intended_df_size_in_MB*(2**20)/df.memory_usage(index=True).sum()\n",
    "if int(factor) > 0:\n",
    "    df = pd.concat([df]*int(factor), ignore_index=True)\n",
    "else:\n",
    "    rowCount = int(df.shape[0]*factor)\n",
    "    df = df[0:rowCount]\n",
    "df = df\n",
    "df.info()"
   ]
  },
  {
   "cell_type": "code",
   "execution_count": 8,
   "metadata": {
    "execution": {
     "iopub.execute_input": "2022-10-13T03:19:09.885462Z",
     "iopub.status.busy": "2022-10-13T03:19:09.885224Z",
     "iopub.status.idle": "2022-10-13T03:19:09.925658Z",
     "shell.execute_reply": "2022-10-13T03:19:09.924751Z",
     "shell.execute_reply.started": "2022-10-13T03:19:09.88544Z"
    }
   },
   "outputs": [
    {
     "data": {
      "text/html": [
       "<div>\n",
       "<style scoped>\n",
       "    .dataframe tbody tr th:only-of-type {\n",
       "        vertical-align: middle;\n",
       "    }\n",
       "\n",
       "    .dataframe tbody tr th {\n",
       "        vertical-align: top;\n",
       "    }\n",
       "\n",
       "    .dataframe thead th {\n",
       "        text-align: right;\n",
       "    }\n",
       "</style>\n",
       "<table border=\"1\" class=\"dataframe\">\n",
       "  <thead>\n",
       "    <tr style=\"text-align: right;\">\n",
       "      <th></th>\n",
       "      <th>Duration (in seconds)</th>\n",
       "      <th>Q2</th>\n",
       "      <th>Q3</th>\n",
       "      <th>Q4</th>\n",
       "      <th>Q5</th>\n",
       "      <th>Q6_1</th>\n",
       "      <th>Q6_2</th>\n",
       "      <th>Q6_3</th>\n",
       "      <th>Q6_4</th>\n",
       "      <th>Q6_5</th>\n",
       "      <th>...</th>\n",
       "      <th>Q44_3</th>\n",
       "      <th>Q44_4</th>\n",
       "      <th>Q44_5</th>\n",
       "      <th>Q44_6</th>\n",
       "      <th>Q44_7</th>\n",
       "      <th>Q44_8</th>\n",
       "      <th>Q44_9</th>\n",
       "      <th>Q44_10</th>\n",
       "      <th>Q44_11</th>\n",
       "      <th>Q44_12</th>\n",
       "    </tr>\n",
       "  </thead>\n",
       "  <tbody>\n",
       "    <tr>\n",
       "      <th>0</th>\n",
       "      <td>Duration (in seconds)</td>\n",
       "      <td>What is your age (# years)?</td>\n",
       "      <td>What is your gender? - Selected Choice</td>\n",
       "      <td>In which country do you currently reside?</td>\n",
       "      <td>Are you currently a student? (high school, uni...</td>\n",
       "      <td>On which platforms have you begun or completed...</td>\n",
       "      <td>On which platforms have you begun or completed...</td>\n",
       "      <td>On which platforms have you begun or completed...</td>\n",
       "      <td>On which platforms have you begun or completed...</td>\n",
       "      <td>On which platforms have you begun or completed...</td>\n",
       "      <td>...</td>\n",
       "      <td>Who/what are your favorite media sources that ...</td>\n",
       "      <td>Who/what are your favorite media sources that ...</td>\n",
       "      <td>Who/what are your favorite media sources that ...</td>\n",
       "      <td>Who/what are your favorite media sources that ...</td>\n",
       "      <td>Who/what are your favorite media sources that ...</td>\n",
       "      <td>Who/what are your favorite media sources that ...</td>\n",
       "      <td>Who/what are your favorite media sources that ...</td>\n",
       "      <td>Who/what are your favorite media sources that ...</td>\n",
       "      <td>Who/what are your favorite media sources that ...</td>\n",
       "      <td>Who/what are your favorite media sources that ...</td>\n",
       "    </tr>\n",
       "    <tr>\n",
       "      <th>1</th>\n",
       "      <td>121</td>\n",
       "      <td>30-34</td>\n",
       "      <td>Man</td>\n",
       "      <td>India</td>\n",
       "      <td>No</td>\n",
       "      <td>NaN</td>\n",
       "      <td>NaN</td>\n",
       "      <td>NaN</td>\n",
       "      <td>NaN</td>\n",
       "      <td>NaN</td>\n",
       "      <td>...</td>\n",
       "      <td>NaN</td>\n",
       "      <td>NaN</td>\n",
       "      <td>NaN</td>\n",
       "      <td>NaN</td>\n",
       "      <td>NaN</td>\n",
       "      <td>NaN</td>\n",
       "      <td>NaN</td>\n",
       "      <td>NaN</td>\n",
       "      <td>NaN</td>\n",
       "      <td>NaN</td>\n",
       "    </tr>\n",
       "    <tr>\n",
       "      <th>2</th>\n",
       "      <td>462</td>\n",
       "      <td>30-34</td>\n",
       "      <td>Man</td>\n",
       "      <td>Algeria</td>\n",
       "      <td>No</td>\n",
       "      <td>NaN</td>\n",
       "      <td>NaN</td>\n",
       "      <td>NaN</td>\n",
       "      <td>NaN</td>\n",
       "      <td>NaN</td>\n",
       "      <td>...</td>\n",
       "      <td>NaN</td>\n",
       "      <td>NaN</td>\n",
       "      <td>NaN</td>\n",
       "      <td>NaN</td>\n",
       "      <td>NaN</td>\n",
       "      <td>NaN</td>\n",
       "      <td>NaN</td>\n",
       "      <td>NaN</td>\n",
       "      <td>NaN</td>\n",
       "      <td>NaN</td>\n",
       "    </tr>\n",
       "    <tr>\n",
       "      <th>3</th>\n",
       "      <td>293</td>\n",
       "      <td>18-21</td>\n",
       "      <td>Man</td>\n",
       "      <td>Egypt</td>\n",
       "      <td>Yes</td>\n",
       "      <td>Coursera</td>\n",
       "      <td>edX</td>\n",
       "      <td>NaN</td>\n",
       "      <td>DataCamp</td>\n",
       "      <td>NaN</td>\n",
       "      <td>...</td>\n",
       "      <td>NaN</td>\n",
       "      <td>Kaggle (notebooks, forums, etc)</td>\n",
       "      <td>NaN</td>\n",
       "      <td>YouTube (Kaggle YouTube, Cloud AI Adventures, ...</td>\n",
       "      <td>Podcasts (Chai Time Data Science, O’Reilly Dat...</td>\n",
       "      <td>NaN</td>\n",
       "      <td>NaN</td>\n",
       "      <td>NaN</td>\n",
       "      <td>NaN</td>\n",
       "      <td>NaN</td>\n",
       "    </tr>\n",
       "    <tr>\n",
       "      <th>4</th>\n",
       "      <td>851</td>\n",
       "      <td>55-59</td>\n",
       "      <td>Man</td>\n",
       "      <td>France</td>\n",
       "      <td>No</td>\n",
       "      <td>Coursera</td>\n",
       "      <td>NaN</td>\n",
       "      <td>Kaggle Learn Courses</td>\n",
       "      <td>NaN</td>\n",
       "      <td>NaN</td>\n",
       "      <td>...</td>\n",
       "      <td>NaN</td>\n",
       "      <td>Kaggle (notebooks, forums, etc)</td>\n",
       "      <td>Course Forums (forums.fast.ai, Coursera forums...</td>\n",
       "      <td>NaN</td>\n",
       "      <td>NaN</td>\n",
       "      <td>Blogs (Towards Data Science, Analytics Vidhya,...</td>\n",
       "      <td>NaN</td>\n",
       "      <td>NaN</td>\n",
       "      <td>NaN</td>\n",
       "      <td>NaN</td>\n",
       "    </tr>\n",
       "    <tr>\n",
       "      <th>...</th>\n",
       "      <td>...</td>\n",
       "      <td>...</td>\n",
       "      <td>...</td>\n",
       "      <td>...</td>\n",
       "      <td>...</td>\n",
       "      <td>...</td>\n",
       "      <td>...</td>\n",
       "      <td>...</td>\n",
       "      <td>...</td>\n",
       "      <td>...</td>\n",
       "      <td>...</td>\n",
       "      <td>...</td>\n",
       "      <td>...</td>\n",
       "      <td>...</td>\n",
       "      <td>...</td>\n",
       "      <td>...</td>\n",
       "      <td>...</td>\n",
       "      <td>...</td>\n",
       "      <td>...</td>\n",
       "      <td>...</td>\n",
       "      <td>...</td>\n",
       "    </tr>\n",
       "    <tr>\n",
       "      <th>95987</th>\n",
       "      <td>331</td>\n",
       "      <td>22-24</td>\n",
       "      <td>Man</td>\n",
       "      <td>United States of America</td>\n",
       "      <td>Yes</td>\n",
       "      <td>NaN</td>\n",
       "      <td>NaN</td>\n",
       "      <td>NaN</td>\n",
       "      <td>NaN</td>\n",
       "      <td>NaN</td>\n",
       "      <td>...</td>\n",
       "      <td>NaN</td>\n",
       "      <td>Kaggle (notebooks, forums, etc)</td>\n",
       "      <td>NaN</td>\n",
       "      <td>YouTube (Kaggle YouTube, Cloud AI Adventures, ...</td>\n",
       "      <td>Podcasts (Chai Time Data Science, O’Reilly Dat...</td>\n",
       "      <td>NaN</td>\n",
       "      <td>Journal Publications (peer-reviewed journals, ...</td>\n",
       "      <td>NaN</td>\n",
       "      <td>NaN</td>\n",
       "      <td>NaN</td>\n",
       "    </tr>\n",
       "    <tr>\n",
       "      <th>95988</th>\n",
       "      <td>330</td>\n",
       "      <td>60-69</td>\n",
       "      <td>Man</td>\n",
       "      <td>United States of America</td>\n",
       "      <td>Yes</td>\n",
       "      <td>NaN</td>\n",
       "      <td>NaN</td>\n",
       "      <td>NaN</td>\n",
       "      <td>NaN</td>\n",
       "      <td>NaN</td>\n",
       "      <td>...</td>\n",
       "      <td>NaN</td>\n",
       "      <td>NaN</td>\n",
       "      <td>NaN</td>\n",
       "      <td>YouTube (Kaggle YouTube, Cloud AI Adventures, ...</td>\n",
       "      <td>NaN</td>\n",
       "      <td>NaN</td>\n",
       "      <td>NaN</td>\n",
       "      <td>NaN</td>\n",
       "      <td>NaN</td>\n",
       "      <td>NaN</td>\n",
       "    </tr>\n",
       "    <tr>\n",
       "      <th>95989</th>\n",
       "      <td>860</td>\n",
       "      <td>25-29</td>\n",
       "      <td>Man</td>\n",
       "      <td>Turkey</td>\n",
       "      <td>No</td>\n",
       "      <td>NaN</td>\n",
       "      <td>NaN</td>\n",
       "      <td>NaN</td>\n",
       "      <td>DataCamp</td>\n",
       "      <td>NaN</td>\n",
       "      <td>...</td>\n",
       "      <td>NaN</td>\n",
       "      <td>Kaggle (notebooks, forums, etc)</td>\n",
       "      <td>NaN</td>\n",
       "      <td>YouTube (Kaggle YouTube, Cloud AI Adventures, ...</td>\n",
       "      <td>NaN</td>\n",
       "      <td>NaN</td>\n",
       "      <td>NaN</td>\n",
       "      <td>NaN</td>\n",
       "      <td>NaN</td>\n",
       "      <td>NaN</td>\n",
       "    </tr>\n",
       "    <tr>\n",
       "      <th>95990</th>\n",
       "      <td>597</td>\n",
       "      <td>35-39</td>\n",
       "      <td>Woman</td>\n",
       "      <td>Israel</td>\n",
       "      <td>No</td>\n",
       "      <td>NaN</td>\n",
       "      <td>NaN</td>\n",
       "      <td>Kaggle Learn Courses</td>\n",
       "      <td>NaN</td>\n",
       "      <td>NaN</td>\n",
       "      <td>...</td>\n",
       "      <td>NaN</td>\n",
       "      <td>NaN</td>\n",
       "      <td>NaN</td>\n",
       "      <td>YouTube (Kaggle YouTube, Cloud AI Adventures, ...</td>\n",
       "      <td>NaN</td>\n",
       "      <td>NaN</td>\n",
       "      <td>NaN</td>\n",
       "      <td>NaN</td>\n",
       "      <td>NaN</td>\n",
       "      <td>NaN</td>\n",
       "    </tr>\n",
       "    <tr>\n",
       "      <th>95991</th>\n",
       "      <td>303</td>\n",
       "      <td>18-21</td>\n",
       "      <td>Man</td>\n",
       "      <td>India</td>\n",
       "      <td>Yes</td>\n",
       "      <td>NaN</td>\n",
       "      <td>NaN</td>\n",
       "      <td>NaN</td>\n",
       "      <td>NaN</td>\n",
       "      <td>NaN</td>\n",
       "      <td>...</td>\n",
       "      <td>NaN</td>\n",
       "      <td>NaN</td>\n",
       "      <td>NaN</td>\n",
       "      <td>NaN</td>\n",
       "      <td>NaN</td>\n",
       "      <td>NaN</td>\n",
       "      <td>NaN</td>\n",
       "      <td>NaN</td>\n",
       "      <td>NaN</td>\n",
       "      <td>Other</td>\n",
       "    </tr>\n",
       "  </tbody>\n",
       "</table>\n",
       "<p>95992 rows × 296 columns</p>\n",
       "</div>"
      ],
      "text/plain": [
       "       Duration (in seconds)                           Q2  \\\n",
       "0      Duration (in seconds)  What is your age (# years)?   \n",
       "1                        121                        30-34   \n",
       "2                        462                        30-34   \n",
       "3                        293                        18-21   \n",
       "4                        851                        55-59   \n",
       "...                      ...                          ...   \n",
       "95987                    331                        22-24   \n",
       "95988                    330                        60-69   \n",
       "95989                    860                        25-29   \n",
       "95990                    597                        35-39   \n",
       "95991                    303                        18-21   \n",
       "\n",
       "                                           Q3  \\\n",
       "0      What is your gender? - Selected Choice   \n",
       "1                                         Man   \n",
       "2                                         Man   \n",
       "3                                         Man   \n",
       "4                                         Man   \n",
       "...                                       ...   \n",
       "95987                                     Man   \n",
       "95988                                     Man   \n",
       "95989                                     Man   \n",
       "95990                                   Woman   \n",
       "95991                                     Man   \n",
       "\n",
       "                                              Q4  \\\n",
       "0      In which country do you currently reside?   \n",
       "1                                          India   \n",
       "2                                        Algeria   \n",
       "3                                          Egypt   \n",
       "4                                         France   \n",
       "...                                          ...   \n",
       "95987                   United States of America   \n",
       "95988                   United States of America   \n",
       "95989                                     Turkey   \n",
       "95990                                     Israel   \n",
       "95991                                      India   \n",
       "\n",
       "                                                      Q5  \\\n",
       "0      Are you currently a student? (high school, uni...   \n",
       "1                                                     No   \n",
       "2                                                     No   \n",
       "3                                                    Yes   \n",
       "4                                                     No   \n",
       "...                                                  ...   \n",
       "95987                                                Yes   \n",
       "95988                                                Yes   \n",
       "95989                                                 No   \n",
       "95990                                                 No   \n",
       "95991                                                Yes   \n",
       "\n",
       "                                                    Q6_1  \\\n",
       "0      On which platforms have you begun or completed...   \n",
       "1                                                    NaN   \n",
       "2                                                    NaN   \n",
       "3                                               Coursera   \n",
       "4                                               Coursera   \n",
       "...                                                  ...   \n",
       "95987                                                NaN   \n",
       "95988                                                NaN   \n",
       "95989                                                NaN   \n",
       "95990                                                NaN   \n",
       "95991                                                NaN   \n",
       "\n",
       "                                                    Q6_2  \\\n",
       "0      On which platforms have you begun or completed...   \n",
       "1                                                    NaN   \n",
       "2                                                    NaN   \n",
       "3                                                    edX   \n",
       "4                                                    NaN   \n",
       "...                                                  ...   \n",
       "95987                                                NaN   \n",
       "95988                                                NaN   \n",
       "95989                                                NaN   \n",
       "95990                                                NaN   \n",
       "95991                                                NaN   \n",
       "\n",
       "                                                    Q6_3  \\\n",
       "0      On which platforms have you begun or completed...   \n",
       "1                                                    NaN   \n",
       "2                                                    NaN   \n",
       "3                                                    NaN   \n",
       "4                                   Kaggle Learn Courses   \n",
       "...                                                  ...   \n",
       "95987                                                NaN   \n",
       "95988                                                NaN   \n",
       "95989                                                NaN   \n",
       "95990                               Kaggle Learn Courses   \n",
       "95991                                                NaN   \n",
       "\n",
       "                                                    Q6_4  \\\n",
       "0      On which platforms have you begun or completed...   \n",
       "1                                                    NaN   \n",
       "2                                                    NaN   \n",
       "3                                               DataCamp   \n",
       "4                                                    NaN   \n",
       "...                                                  ...   \n",
       "95987                                                NaN   \n",
       "95988                                                NaN   \n",
       "95989                                           DataCamp   \n",
       "95990                                                NaN   \n",
       "95991                                                NaN   \n",
       "\n",
       "                                                    Q6_5  ...  \\\n",
       "0      On which platforms have you begun or completed...  ...   \n",
       "1                                                    NaN  ...   \n",
       "2                                                    NaN  ...   \n",
       "3                                                    NaN  ...   \n",
       "4                                                    NaN  ...   \n",
       "...                                                  ...  ...   \n",
       "95987                                                NaN  ...   \n",
       "95988                                                NaN  ...   \n",
       "95989                                                NaN  ...   \n",
       "95990                                                NaN  ...   \n",
       "95991                                                NaN  ...   \n",
       "\n",
       "                                                   Q44_3  \\\n",
       "0      Who/what are your favorite media sources that ...   \n",
       "1                                                    NaN   \n",
       "2                                                    NaN   \n",
       "3                                                    NaN   \n",
       "4                                                    NaN   \n",
       "...                                                  ...   \n",
       "95987                                                NaN   \n",
       "95988                                                NaN   \n",
       "95989                                                NaN   \n",
       "95990                                                NaN   \n",
       "95991                                                NaN   \n",
       "\n",
       "                                                   Q44_4  \\\n",
       "0      Who/what are your favorite media sources that ...   \n",
       "1                                                    NaN   \n",
       "2                                                    NaN   \n",
       "3                        Kaggle (notebooks, forums, etc)   \n",
       "4                        Kaggle (notebooks, forums, etc)   \n",
       "...                                                  ...   \n",
       "95987                    Kaggle (notebooks, forums, etc)   \n",
       "95988                                                NaN   \n",
       "95989                    Kaggle (notebooks, forums, etc)   \n",
       "95990                                                NaN   \n",
       "95991                                                NaN   \n",
       "\n",
       "                                                   Q44_5  \\\n",
       "0      Who/what are your favorite media sources that ...   \n",
       "1                                                    NaN   \n",
       "2                                                    NaN   \n",
       "3                                                    NaN   \n",
       "4      Course Forums (forums.fast.ai, Coursera forums...   \n",
       "...                                                  ...   \n",
       "95987                                                NaN   \n",
       "95988                                                NaN   \n",
       "95989                                                NaN   \n",
       "95990                                                NaN   \n",
       "95991                                                NaN   \n",
       "\n",
       "                                                   Q44_6  \\\n",
       "0      Who/what are your favorite media sources that ...   \n",
       "1                                                    NaN   \n",
       "2                                                    NaN   \n",
       "3      YouTube (Kaggle YouTube, Cloud AI Adventures, ...   \n",
       "4                                                    NaN   \n",
       "...                                                  ...   \n",
       "95987  YouTube (Kaggle YouTube, Cloud AI Adventures, ...   \n",
       "95988  YouTube (Kaggle YouTube, Cloud AI Adventures, ...   \n",
       "95989  YouTube (Kaggle YouTube, Cloud AI Adventures, ...   \n",
       "95990  YouTube (Kaggle YouTube, Cloud AI Adventures, ...   \n",
       "95991                                                NaN   \n",
       "\n",
       "                                                   Q44_7  \\\n",
       "0      Who/what are your favorite media sources that ...   \n",
       "1                                                    NaN   \n",
       "2                                                    NaN   \n",
       "3      Podcasts (Chai Time Data Science, O’Reilly Dat...   \n",
       "4                                                    NaN   \n",
       "...                                                  ...   \n",
       "95987  Podcasts (Chai Time Data Science, O’Reilly Dat...   \n",
       "95988                                                NaN   \n",
       "95989                                                NaN   \n",
       "95990                                                NaN   \n",
       "95991                                                NaN   \n",
       "\n",
       "                                                   Q44_8  \\\n",
       "0      Who/what are your favorite media sources that ...   \n",
       "1                                                    NaN   \n",
       "2                                                    NaN   \n",
       "3                                                    NaN   \n",
       "4      Blogs (Towards Data Science, Analytics Vidhya,...   \n",
       "...                                                  ...   \n",
       "95987                                                NaN   \n",
       "95988                                                NaN   \n",
       "95989                                                NaN   \n",
       "95990                                                NaN   \n",
       "95991                                                NaN   \n",
       "\n",
       "                                                   Q44_9  \\\n",
       "0      Who/what are your favorite media sources that ...   \n",
       "1                                                    NaN   \n",
       "2                                                    NaN   \n",
       "3                                                    NaN   \n",
       "4                                                    NaN   \n",
       "...                                                  ...   \n",
       "95987  Journal Publications (peer-reviewed journals, ...   \n",
       "95988                                                NaN   \n",
       "95989                                                NaN   \n",
       "95990                                                NaN   \n",
       "95991                                                NaN   \n",
       "\n",
       "                                                  Q44_10  \\\n",
       "0      Who/what are your favorite media sources that ...   \n",
       "1                                                    NaN   \n",
       "2                                                    NaN   \n",
       "3                                                    NaN   \n",
       "4                                                    NaN   \n",
       "...                                                  ...   \n",
       "95987                                                NaN   \n",
       "95988                                                NaN   \n",
       "95989                                                NaN   \n",
       "95990                                                NaN   \n",
       "95991                                                NaN   \n",
       "\n",
       "                                                  Q44_11  \\\n",
       "0      Who/what are your favorite media sources that ...   \n",
       "1                                                    NaN   \n",
       "2                                                    NaN   \n",
       "3                                                    NaN   \n",
       "4                                                    NaN   \n",
       "...                                                  ...   \n",
       "95987                                                NaN   \n",
       "95988                                                NaN   \n",
       "95989                                                NaN   \n",
       "95990                                                NaN   \n",
       "95991                                                NaN   \n",
       "\n",
       "                                                  Q44_12  \n",
       "0      Who/what are your favorite media sources that ...  \n",
       "1                                                    NaN  \n",
       "2                                                    NaN  \n",
       "3                                                    NaN  \n",
       "4                                                    NaN  \n",
       "...                                                  ...  \n",
       "95987                                                NaN  \n",
       "95988                                                NaN  \n",
       "95989                                                NaN  \n",
       "95990                                                NaN  \n",
       "95991                                              Other  \n",
       "\n",
       "[95992 rows x 296 columns]"
      ]
     },
     "execution_count": 8,
     "metadata": {},
     "output_type": "execute_result"
    }
   ],
   "source": [
    "df"
   ]
  },
  {
   "cell_type": "markdown",
   "metadata": {},
   "source": [
    "<a id=\"2\"></a>\n",
    "# <div style=\"font-size:40px; text-align: center; background-color: #39c5ff; font-family:Rubik; color: #ffffff; padding: 14px; line-height: 1;border-radius:20px; border: 4px solid #3f484b;\"><b> 2. Data Cleaning </b></div>"
   ]
  },
  {
   "cell_type": "code",
   "execution_count": 8,
   "metadata": {
    "execution": {
     "iopub.execute_input": "2022-10-13T03:19:09.929607Z",
     "iopub.status.busy": "2022-10-13T03:19:09.928894Z",
     "iopub.status.idle": "2022-10-13T03:19:09.933579Z",
     "shell.execute_reply": "2022-10-13T03:19:09.93289Z",
     "shell.execute_reply.started": "2022-10-13T03:19:09.929579Z"
    }
   },
   "outputs": [],
   "source": [
    "df = df[1:]"
   ]
  },
  {
   "cell_type": "markdown",
   "metadata": {},
   "source": [
    "# -- STEFANOS -- Replicate Data"
   ]
  },
  {
   "cell_type": "code",
   "execution_count": 9,
   "metadata": {
    "execution": {
     "iopub.execute_input": "2022-10-13T03:19:09.935384Z",
     "iopub.status.busy": "2022-10-13T03:19:09.935048Z",
     "iopub.status.idle": "2022-10-13T03:19:09.999737Z",
     "shell.execute_reply": "2022-10-13T03:19:09.998455Z",
     "shell.execute_reply.started": "2022-10-13T03:19:09.935357Z"
    }
   },
   "outputs": [
    {
     "ename": "ValueError",
     "evalue": "invalid literal for int() with base 10: 'Duration (in seconds)'",
     "output_type": "error",
     "traceback": [
      "\u001b[0;31m---------------------------------------------------------------------------\u001b[0m",
      "\u001b[0;31mValueError\u001b[0m                                Traceback (most recent call last)",
      "Cell \u001b[0;32mIn[9], line 1\u001b[0m\n\u001b[0;32m----> 1\u001b[0m df[\u001b[38;5;124m'\u001b[39m\u001b[38;5;124mDuration (in seconds)\u001b[39m\u001b[38;5;124m'\u001b[39m] \u001b[38;5;241m=\u001b[39m \u001b[43mdf\u001b[49m\u001b[43m[\u001b[49m\u001b[38;5;124;43m'\u001b[39;49m\u001b[38;5;124;43mDuration (in seconds)\u001b[39;49m\u001b[38;5;124;43m'\u001b[39;49m\u001b[43m]\u001b[49m\u001b[38;5;241;43m.\u001b[39;49m\u001b[43mastype\u001b[49m\u001b[43m(\u001b[49m\u001b[38;5;124;43m'\u001b[39;49m\u001b[38;5;124;43mint\u001b[39;49m\u001b[38;5;124;43m'\u001b[39;49m\u001b[43m)\u001b[49m\n",
      "File \u001b[0;32m~/opt/anaconda3/envs/py3.10/lib/python3.10/site-packages/pandas/core/generic.py:6240\u001b[0m, in \u001b[0;36mNDFrame.astype\u001b[0;34m(self, dtype, copy, errors)\u001b[0m\n\u001b[1;32m   6233\u001b[0m     results \u001b[38;5;241m=\u001b[39m [\n\u001b[1;32m   6234\u001b[0m         \u001b[38;5;28mself\u001b[39m\u001b[38;5;241m.\u001b[39miloc[:, i]\u001b[38;5;241m.\u001b[39mastype(dtype, copy\u001b[38;5;241m=\u001b[39mcopy)\n\u001b[1;32m   6235\u001b[0m         \u001b[38;5;28;01mfor\u001b[39;00m i \u001b[38;5;129;01min\u001b[39;00m \u001b[38;5;28mrange\u001b[39m(\u001b[38;5;28mlen\u001b[39m(\u001b[38;5;28mself\u001b[39m\u001b[38;5;241m.\u001b[39mcolumns))\n\u001b[1;32m   6236\u001b[0m     ]\n\u001b[1;32m   6238\u001b[0m \u001b[38;5;28;01melse\u001b[39;00m:\n\u001b[1;32m   6239\u001b[0m     \u001b[38;5;66;03m# else, only a single dtype is given\u001b[39;00m\n\u001b[0;32m-> 6240\u001b[0m     new_data \u001b[38;5;241m=\u001b[39m \u001b[38;5;28;43mself\u001b[39;49m\u001b[38;5;241;43m.\u001b[39;49m\u001b[43m_mgr\u001b[49m\u001b[38;5;241;43m.\u001b[39;49m\u001b[43mastype\u001b[49m\u001b[43m(\u001b[49m\u001b[43mdtype\u001b[49m\u001b[38;5;241;43m=\u001b[39;49m\u001b[43mdtype\u001b[49m\u001b[43m,\u001b[49m\u001b[43m \u001b[49m\u001b[43mcopy\u001b[49m\u001b[38;5;241;43m=\u001b[39;49m\u001b[43mcopy\u001b[49m\u001b[43m,\u001b[49m\u001b[43m \u001b[49m\u001b[43merrors\u001b[49m\u001b[38;5;241;43m=\u001b[39;49m\u001b[43merrors\u001b[49m\u001b[43m)\u001b[49m\n\u001b[1;32m   6241\u001b[0m     \u001b[38;5;28;01mreturn\u001b[39;00m \u001b[38;5;28mself\u001b[39m\u001b[38;5;241m.\u001b[39m_constructor(new_data)\u001b[38;5;241m.\u001b[39m__finalize__(\u001b[38;5;28mself\u001b[39m, method\u001b[38;5;241m=\u001b[39m\u001b[38;5;124m\"\u001b[39m\u001b[38;5;124mastype\u001b[39m\u001b[38;5;124m\"\u001b[39m)\n\u001b[1;32m   6243\u001b[0m \u001b[38;5;66;03m# GH 33113: handle empty frame or series\u001b[39;00m\n",
      "File \u001b[0;32m~/opt/anaconda3/envs/py3.10/lib/python3.10/site-packages/pandas/core/internals/managers.py:448\u001b[0m, in \u001b[0;36mBaseBlockManager.astype\u001b[0;34m(self, dtype, copy, errors)\u001b[0m\n\u001b[1;32m    447\u001b[0m \u001b[38;5;28;01mdef\u001b[39;00m \u001b[38;5;21mastype\u001b[39m(\u001b[38;5;28mself\u001b[39m: T, dtype, copy: \u001b[38;5;28mbool\u001b[39m \u001b[38;5;241m=\u001b[39m \u001b[38;5;28;01mFalse\u001b[39;00m, errors: \u001b[38;5;28mstr\u001b[39m \u001b[38;5;241m=\u001b[39m \u001b[38;5;124m\"\u001b[39m\u001b[38;5;124mraise\u001b[39m\u001b[38;5;124m\"\u001b[39m) \u001b[38;5;241m-\u001b[39m\u001b[38;5;241m>\u001b[39m T:\n\u001b[0;32m--> 448\u001b[0m     \u001b[38;5;28;01mreturn\u001b[39;00m \u001b[38;5;28;43mself\u001b[39;49m\u001b[38;5;241;43m.\u001b[39;49m\u001b[43mapply\u001b[49m\u001b[43m(\u001b[49m\u001b[38;5;124;43m\"\u001b[39;49m\u001b[38;5;124;43mastype\u001b[39;49m\u001b[38;5;124;43m\"\u001b[39;49m\u001b[43m,\u001b[49m\u001b[43m \u001b[49m\u001b[43mdtype\u001b[49m\u001b[38;5;241;43m=\u001b[39;49m\u001b[43mdtype\u001b[49m\u001b[43m,\u001b[49m\u001b[43m \u001b[49m\u001b[43mcopy\u001b[49m\u001b[38;5;241;43m=\u001b[39;49m\u001b[43mcopy\u001b[49m\u001b[43m,\u001b[49m\u001b[43m \u001b[49m\u001b[43merrors\u001b[49m\u001b[38;5;241;43m=\u001b[39;49m\u001b[43merrors\u001b[49m\u001b[43m)\u001b[49m\n",
      "File \u001b[0;32m~/opt/anaconda3/envs/py3.10/lib/python3.10/site-packages/pandas/core/internals/managers.py:352\u001b[0m, in \u001b[0;36mBaseBlockManager.apply\u001b[0;34m(self, f, align_keys, ignore_failures, **kwargs)\u001b[0m\n\u001b[1;32m    350\u001b[0m         applied \u001b[38;5;241m=\u001b[39m b\u001b[38;5;241m.\u001b[39mapply(f, \u001b[38;5;241m*\u001b[39m\u001b[38;5;241m*\u001b[39mkwargs)\n\u001b[1;32m    351\u001b[0m     \u001b[38;5;28;01melse\u001b[39;00m:\n\u001b[0;32m--> 352\u001b[0m         applied \u001b[38;5;241m=\u001b[39m \u001b[38;5;28;43mgetattr\u001b[39;49m\u001b[43m(\u001b[49m\u001b[43mb\u001b[49m\u001b[43m,\u001b[49m\u001b[43m \u001b[49m\u001b[43mf\u001b[49m\u001b[43m)\u001b[49m\u001b[43m(\u001b[49m\u001b[38;5;241;43m*\u001b[39;49m\u001b[38;5;241;43m*\u001b[39;49m\u001b[43mkwargs\u001b[49m\u001b[43m)\u001b[49m\n\u001b[1;32m    353\u001b[0m \u001b[38;5;28;01mexcept\u001b[39;00m (\u001b[38;5;167;01mTypeError\u001b[39;00m, \u001b[38;5;167;01mNotImplementedError\u001b[39;00m):\n\u001b[1;32m    354\u001b[0m     \u001b[38;5;28;01mif\u001b[39;00m \u001b[38;5;129;01mnot\u001b[39;00m ignore_failures:\n",
      "File \u001b[0;32m~/opt/anaconda3/envs/py3.10/lib/python3.10/site-packages/pandas/core/internals/blocks.py:526\u001b[0m, in \u001b[0;36mBlock.astype\u001b[0;34m(self, dtype, copy, errors)\u001b[0m\n\u001b[1;32m    508\u001b[0m \u001b[38;5;124;03m\"\"\"\u001b[39;00m\n\u001b[1;32m    509\u001b[0m \u001b[38;5;124;03mCoerce to the new dtype.\u001b[39;00m\n\u001b[1;32m    510\u001b[0m \n\u001b[0;32m   (...)\u001b[0m\n\u001b[1;32m    522\u001b[0m \u001b[38;5;124;03mBlock\u001b[39;00m\n\u001b[1;32m    523\u001b[0m \u001b[38;5;124;03m\"\"\"\u001b[39;00m\n\u001b[1;32m    524\u001b[0m values \u001b[38;5;241m=\u001b[39m \u001b[38;5;28mself\u001b[39m\u001b[38;5;241m.\u001b[39mvalues\n\u001b[0;32m--> 526\u001b[0m new_values \u001b[38;5;241m=\u001b[39m \u001b[43mastype_array_safe\u001b[49m\u001b[43m(\u001b[49m\u001b[43mvalues\u001b[49m\u001b[43m,\u001b[49m\u001b[43m \u001b[49m\u001b[43mdtype\u001b[49m\u001b[43m,\u001b[49m\u001b[43m \u001b[49m\u001b[43mcopy\u001b[49m\u001b[38;5;241;43m=\u001b[39;49m\u001b[43mcopy\u001b[49m\u001b[43m,\u001b[49m\u001b[43m \u001b[49m\u001b[43merrors\u001b[49m\u001b[38;5;241;43m=\u001b[39;49m\u001b[43merrors\u001b[49m\u001b[43m)\u001b[49m\n\u001b[1;32m    528\u001b[0m new_values \u001b[38;5;241m=\u001b[39m maybe_coerce_values(new_values)\n\u001b[1;32m    529\u001b[0m newb \u001b[38;5;241m=\u001b[39m \u001b[38;5;28mself\u001b[39m\u001b[38;5;241m.\u001b[39mmake_block(new_values)\n",
      "File \u001b[0;32m~/opt/anaconda3/envs/py3.10/lib/python3.10/site-packages/pandas/core/dtypes/astype.py:299\u001b[0m, in \u001b[0;36mastype_array_safe\u001b[0;34m(values, dtype, copy, errors)\u001b[0m\n\u001b[1;32m    296\u001b[0m     \u001b[38;5;28;01mreturn\u001b[39;00m values\u001b[38;5;241m.\u001b[39mcopy()\n\u001b[1;32m    298\u001b[0m \u001b[38;5;28;01mtry\u001b[39;00m:\n\u001b[0;32m--> 299\u001b[0m     new_values \u001b[38;5;241m=\u001b[39m \u001b[43mastype_array\u001b[49m\u001b[43m(\u001b[49m\u001b[43mvalues\u001b[49m\u001b[43m,\u001b[49m\u001b[43m \u001b[49m\u001b[43mdtype\u001b[49m\u001b[43m,\u001b[49m\u001b[43m \u001b[49m\u001b[43mcopy\u001b[49m\u001b[38;5;241;43m=\u001b[39;49m\u001b[43mcopy\u001b[49m\u001b[43m)\u001b[49m\n\u001b[1;32m    300\u001b[0m \u001b[38;5;28;01mexcept\u001b[39;00m (\u001b[38;5;167;01mValueError\u001b[39;00m, \u001b[38;5;167;01mTypeError\u001b[39;00m):\n\u001b[1;32m    301\u001b[0m     \u001b[38;5;66;03m# e.g. astype_nansafe can fail on object-dtype of strings\u001b[39;00m\n\u001b[1;32m    302\u001b[0m     \u001b[38;5;66;03m#  trying to convert to float\u001b[39;00m\n\u001b[1;32m    303\u001b[0m     \u001b[38;5;28;01mif\u001b[39;00m errors \u001b[38;5;241m==\u001b[39m \u001b[38;5;124m\"\u001b[39m\u001b[38;5;124mignore\u001b[39m\u001b[38;5;124m\"\u001b[39m:\n",
      "File \u001b[0;32m~/opt/anaconda3/envs/py3.10/lib/python3.10/site-packages/pandas/core/dtypes/astype.py:230\u001b[0m, in \u001b[0;36mastype_array\u001b[0;34m(values, dtype, copy)\u001b[0m\n\u001b[1;32m    227\u001b[0m     values \u001b[38;5;241m=\u001b[39m values\u001b[38;5;241m.\u001b[39mastype(dtype, copy\u001b[38;5;241m=\u001b[39mcopy)\n\u001b[1;32m    229\u001b[0m \u001b[38;5;28;01melse\u001b[39;00m:\n\u001b[0;32m--> 230\u001b[0m     values \u001b[38;5;241m=\u001b[39m \u001b[43mastype_nansafe\u001b[49m\u001b[43m(\u001b[49m\u001b[43mvalues\u001b[49m\u001b[43m,\u001b[49m\u001b[43m \u001b[49m\u001b[43mdtype\u001b[49m\u001b[43m,\u001b[49m\u001b[43m \u001b[49m\u001b[43mcopy\u001b[49m\u001b[38;5;241;43m=\u001b[39;49m\u001b[43mcopy\u001b[49m\u001b[43m)\u001b[49m\n\u001b[1;32m    232\u001b[0m \u001b[38;5;66;03m# in pandas we don't store numpy str dtypes, so convert to object\u001b[39;00m\n\u001b[1;32m    233\u001b[0m \u001b[38;5;28;01mif\u001b[39;00m \u001b[38;5;28misinstance\u001b[39m(dtype, np\u001b[38;5;241m.\u001b[39mdtype) \u001b[38;5;129;01mand\u001b[39;00m \u001b[38;5;28missubclass\u001b[39m(values\u001b[38;5;241m.\u001b[39mdtype\u001b[38;5;241m.\u001b[39mtype, \u001b[38;5;28mstr\u001b[39m):\n",
      "File \u001b[0;32m~/opt/anaconda3/envs/py3.10/lib/python3.10/site-packages/pandas/core/dtypes/astype.py:170\u001b[0m, in \u001b[0;36mastype_nansafe\u001b[0;34m(arr, dtype, copy, skipna)\u001b[0m\n\u001b[1;32m    166\u001b[0m     \u001b[38;5;28;01mraise\u001b[39;00m \u001b[38;5;167;01mValueError\u001b[39;00m(msg)\n\u001b[1;32m    168\u001b[0m \u001b[38;5;28;01mif\u001b[39;00m copy \u001b[38;5;129;01mor\u001b[39;00m is_object_dtype(arr\u001b[38;5;241m.\u001b[39mdtype) \u001b[38;5;129;01mor\u001b[39;00m is_object_dtype(dtype):\n\u001b[1;32m    169\u001b[0m     \u001b[38;5;66;03m# Explicit copy, or required since NumPy can't view from / to object.\u001b[39;00m\n\u001b[0;32m--> 170\u001b[0m     \u001b[38;5;28;01mreturn\u001b[39;00m \u001b[43marr\u001b[49m\u001b[38;5;241;43m.\u001b[39;49m\u001b[43mastype\u001b[49m\u001b[43m(\u001b[49m\u001b[43mdtype\u001b[49m\u001b[43m,\u001b[49m\u001b[43m \u001b[49m\u001b[43mcopy\u001b[49m\u001b[38;5;241;43m=\u001b[39;49m\u001b[38;5;28;43;01mTrue\u001b[39;49;00m\u001b[43m)\u001b[49m\n\u001b[1;32m    172\u001b[0m \u001b[38;5;28;01mreturn\u001b[39;00m arr\u001b[38;5;241m.\u001b[39mastype(dtype, copy\u001b[38;5;241m=\u001b[39mcopy)\n",
      "\u001b[0;31mValueError\u001b[0m: invalid literal for int() with base 10: 'Duration (in seconds)'"
     ]
    }
   ],
   "source": [
    "df['Duration (in seconds)'] = df['Duration (in seconds)'].astype('int')"
   ]
  },
  {
   "cell_type": "code",
   "execution_count": 7,
   "metadata": {
    "execution": {
     "iopub.execute_input": "2022-10-13T03:19:10.001917Z",
     "iopub.status.busy": "2022-10-13T03:19:10.001011Z",
     "iopub.status.idle": "2022-10-13T03:19:10.014922Z",
     "shell.execute_reply": "2022-10-13T03:19:10.013928Z",
     "shell.execute_reply.started": "2022-10-13T03:19:10.001877Z"
    }
   },
   "outputs": [],
   "source": [
    "df.loc[df[\"Q3\"] == \"Nonbinary\", \"Q3\"] = \"Others\"\n",
    "df.loc[df[\"Q3\"] == \"Prefer not to say\", \"Q3\"] = \"Others\"\n",
    "df.loc[df[\"Q3\"] == \"Prefer to self-describe\", \"Q3\"] = \"Others\""
   ]
  },
  {
   "cell_type": "markdown",
   "metadata": {},
   "source": [
    "<a id=\"3\"></a>\n",
    "# <div style=\"font-size:40px; text-align: center; background-color: #39c5ff; font-family:Rubik; color: #ffffff; padding: 14px; line-height: 1;border-radius:20px; border: 4px solid #3f484b;\"><b> 3. Exploratory Data Analysis </b></div>"
   ]
  },
  {
   "cell_type": "markdown",
   "metadata": {},
   "source": [
    "<a id=\"3.1\"></a>\n",
    "<h3 style=\"font-size:25px; text-align: left;background-color: #39c5ff; font-family:Rubik; color: #ffffff; padding: 16px; line-height: 1; border-radius:10px; border: 3px solid #3f484b;\"> 3.1 Univariate Analysis</h3>"
   ]
  },
  {
   "cell_type": "markdown",
   "metadata": {},
   "source": [
    "<a id=\"3.1.1\"></a>\n",
    "<span style=\"font-size:20px; color:#39c5ff; font-family:Rubik;\"><i> 3.1.1 Gender Countplot </i></span>"
   ]
  },
  {
   "cell_type": "code",
   "execution_count": 8,
   "metadata": {
    "execution": {
     "iopub.execute_input": "2022-10-13T03:19:10.016589Z",
     "iopub.status.busy": "2022-10-13T03:19:10.016259Z",
     "iopub.status.idle": "2022-10-13T03:19:11.047942Z",
     "shell.execute_reply": "2022-10-13T03:19:11.046694Z",
     "shell.execute_reply.started": "2022-10-13T03:19:10.016558Z"
    }
   },
   "outputs": [],
   "source": [
    "gender_count = df.groupby(['Q3']).size().reset_index().rename(columns={0: 'count'})\n",
    "\n",
    "# STEFANOS: Disable plotting\n",
    "# fig=px.bar(data_frame=gender_count, x='Q3', y='count',color='Q3',template='plotly_dark',color_discrete_sequence=['#39c5ff','#F5F5F1'],\n",
    "#                  text_auto=True,barmode='stack',\n",
    "#           title=\"Gender Countplot\")\n",
    "\n",
    "# fig.update_traces(textfont_size=20, textangle=0, textposition=\"outside\", cliponaxis=False)\n",
    "# fig.update_traces( marker_line_color='#3f484b',\n",
    "#                   marker_line_width=3.5)\n",
    "\n",
    "# fig.update_layout(\n",
    "#     title=\"Gender Countplot\",\n",
    "#     xaxis_title=\"Genders\",\n",
    "#     yaxis_title=\"Count\",\n",
    "#     legend_title=\"Genders\",\n",
    "#     font=dict(\n",
    "#         family=\"Rubik\",\n",
    "#         size=18\n",
    "#     )\n",
    "# )\n",
    "\n",
    "# fig.show()"
   ]
  },
  {
   "cell_type": "markdown",
   "metadata": {},
   "source": [
    "<a id=\"3.1.2\"></a>\n",
    "<span style=\"font-size:20px; color:#39c5ff; font-family:Rubik;\"> <i>3.1.2 Duration Histogram</i></span>"
   ]
  },
  {
   "cell_type": "code",
   "execution_count": 9,
   "metadata": {
    "execution": {
     "iopub.execute_input": "2022-10-13T03:19:11.051701Z",
     "iopub.status.busy": "2022-10-13T03:19:11.050767Z",
     "iopub.status.idle": "2022-10-13T03:19:11.147365Z",
     "shell.execute_reply": "2022-10-13T03:19:11.146539Z",
     "shell.execute_reply.started": "2022-10-13T03:19:11.051635Z"
    }
   },
   "outputs": [],
   "source": [
    "duration_count = df.groupby(['Duration (in seconds)']).size().reset_index().rename(columns={0: 'count'})\n",
    "duration_count = duration_count[:1000]\n",
    "\n",
    "# STEFANOS: Disable plotting\n",
    "# fig=px.histogram(data_frame=duration_count, x='Duration (in seconds)', y='count',template='plotly_dark',color_discrete_sequence=['#39c5ff','#F5F5F1'],\n",
    "#                  text_auto=True,barmode='stack',\n",
    "#           title=\"Duration Histogram\")\n",
    "\n",
    "# fig.update_traces(textfont_size=20, textangle=0, textposition=\"outside\", cliponaxis=False)\n",
    "# fig.update_traces( marker_line_color='#3f484b',\n",
    "#                   marker_line_width=3.5)\n",
    "\n",
    "# fig.update_layout(\n",
    "#     title=\"Duration Histogram\",\n",
    "#     font=dict(\n",
    "#         family=\"Rubik\",\n",
    "#         size=14\n",
    "#     )\n",
    "# )\n",
    "\n",
    "# fig.show()"
   ]
  },
  {
   "cell_type": "markdown",
   "metadata": {},
   "source": [
    "<a id=\"3.1.3\"></a>\n",
    "<span style=\"font-size:20px; color:#39c5ff; font-family:Rubik;\"> <i>3.1.3 Age Countplot</i></span>"
   ]
  },
  {
   "cell_type": "code",
   "execution_count": 10,
   "metadata": {
    "execution": {
     "iopub.execute_input": "2022-10-13T03:19:11.161609Z",
     "iopub.status.busy": "2022-10-13T03:19:11.161368Z",
     "iopub.status.idle": "2022-10-13T03:19:11.290741Z",
     "shell.execute_reply": "2022-10-13T03:19:11.289743Z",
     "shell.execute_reply.started": "2022-10-13T03:19:11.161586Z"
    }
   },
   "outputs": [],
   "source": [
    "age_count = df.groupby(['Q2']).size().reset_index().rename(columns={0: 'count'})\n",
    "\n",
    "# STEFANOS: Disable plotting\n",
    "# fig=px.bar(data_frame=age_count, x='Q2', y='count',color='Q2',template='plotly_dark',color_discrete_sequence=['#39c5ff','#F5F5F1'],\n",
    "#                  text_auto=True,barmode='stack',\n",
    "#           title=\"Age Countplot\")\n",
    "\n",
    "# fig.update_traces(textfont_size=20, textangle=0, textposition=\"outside\", cliponaxis=False)\n",
    "# fig.update_traces( marker_line_color='#3f484b',\n",
    "#                   marker_line_width=3.5)\n",
    "\n",
    "# fig.update_layout(\n",
    "#     title=\"Age Countplot\",\n",
    "#     xaxis_title=\"Age Groups\",\n",
    "#     yaxis_title=\"Count\",\n",
    "#     legend_title=\"Age Groups\",\n",
    "#     font=dict(\n",
    "#         family=\"Rubik\",\n",
    "#         size=12\n",
    "#     )\n",
    "# )\n",
    "\n",
    "# fig.show()"
   ]
  },
  {
   "cell_type": "markdown",
   "metadata": {},
   "source": [
    "<a id=\"3.1.4\"></a>\n",
    "<span style=\"font-size:20px; color:#39c5ff; font-family:Rubik;\"> <i>3.1.4 Top 10 Countries Count</i></span>"
   ]
  },
  {
   "cell_type": "code",
   "execution_count": 11,
   "metadata": {
    "execution": {
     "iopub.execute_input": "2022-10-13T03:19:11.29287Z",
     "iopub.status.busy": "2022-10-13T03:19:11.292477Z",
     "iopub.status.idle": "2022-10-13T03:19:11.420165Z",
     "shell.execute_reply": "2022-10-13T03:19:11.419136Z",
     "shell.execute_reply.started": "2022-10-13T03:19:11.292834Z"
    }
   },
   "outputs": [],
   "source": [
    "country_count = df.groupby(['Q4']).size().reset_index().rename(columns={0: 'count'})\n",
    "country_count = country_count.sort_values(by=['count'], ascending=False).reset_index(drop=True)\n",
    "country_count = country_count[:10]\n",
    "\n",
    "# STEFANOS: Disable plotting\n",
    "# fig=px.bar(data_frame=country_count,x='Q4', y='count',color='Q4',template='plotly_dark',color_discrete_sequence=['#39c5ff','#F5F5F1'],\n",
    "#                  text_auto=True,barmode='stack',\n",
    "#           title=\"Country Countplot\")\n",
    "\n",
    "# fig.update_traces(textfont_size=20, textangle=0, textposition=\"outside\", cliponaxis=False)\n",
    "# fig.update_traces( marker_line_color='#3f484b',\n",
    "#                   marker_line_width=3.5)\n",
    "\n",
    "# fig.update_layout(\n",
    "#     title=\"Top 10 Countries Plot\",\n",
    "#     xaxis_title=\"Countries\",\n",
    "#     yaxis_title=\"Count\",\n",
    "#     legend_title=\"Countries\",\n",
    "#     font=dict(\n",
    "#         family=\"Rubik\",\n",
    "#         size=13\n",
    "#     )\n",
    "# )\n",
    "\n",
    "# fig.show()"
   ]
  },
  {
   "cell_type": "markdown",
   "metadata": {},
   "source": [
    "<a id=\"3.1.5\"></a>\n",
    "<span style=\"font-size:20px; color:#39c5ff; font-family:Rubik;\"> <i>3.1.5 World Map</i></span>"
   ]
  },
  {
   "cell_type": "code",
   "execution_count": 12,
   "metadata": {
    "execution": {
     "iopub.execute_input": "2022-10-13T03:19:11.422036Z",
     "iopub.status.busy": "2022-10-13T03:19:11.421644Z",
     "iopub.status.idle": "2022-10-13T03:19:11.514913Z",
     "shell.execute_reply": "2022-10-13T03:19:11.513879Z",
     "shell.execute_reply.started": "2022-10-13T03:19:11.422003Z"
    }
   },
   "outputs": [],
   "source": [
    "country_df = df.groupby(['Q4']).size().reset_index().rename(columns={0: 'count'})\n",
    "\n",
    "# STEFANOS: Disable plotting\n",
    "# fig = px.choropleth(country_df, locations=\"Q4\", color=\"count\", \n",
    "#                     locationmode='country names',\n",
    "#                     range_color=[0,5000],\n",
    "#                     color_continuous_scale=[(0, \"#ffffff\"), (1, '#39c5ff')],\n",
    "#                     template='plotly_dark'\n",
    "#                    )\n",
    "\n",
    "# fig.update_layout(\n",
    "#     title=\"World Map\",\n",
    "#     font=dict(\n",
    "#         family=\"Rubik\",\n",
    "#         size=14\n",
    "#     )\n",
    "# )\n",
    "\n",
    "# fig.show()"
   ]
  },
  {
   "cell_type": "markdown",
   "metadata": {},
   "source": [
    "<a id=\"3.1.6\"></a>\n",
    "<span style=\"font-size:20px; color:#39c5ff; font-family:Rubik;\"> <i>3.1.6 Student Donut Chart</i></span>"
   ]
  },
  {
   "cell_type": "code",
   "execution_count": 13,
   "metadata": {
    "execution": {
     "iopub.execute_input": "2022-10-13T03:23:18.645433Z",
     "iopub.status.busy": "2022-10-13T03:23:18.64509Z",
     "iopub.status.idle": "2022-10-13T03:23:18.688163Z",
     "shell.execute_reply": "2022-10-13T03:23:18.687067Z",
     "shell.execute_reply.started": "2022-10-13T03:23:18.645407Z"
    }
   },
   "outputs": [],
   "source": [
    "student_count = df.groupby(['Q5']).size().reset_index().rename(columns={0: 'count'})\n",
    "\n",
    "# STEFANOS: Disable plotting\n",
    "# fig = go.Figure(\n",
    "#     data=[go.Pie(labels=student_count['Q5'], values=student_count['count'], hole=.4)])\n",
    "\n",
    "# fig.update_traces(hoverinfo='label+percent', textinfo='value', textfont_size=20,\n",
    "#                   marker=dict(colors=colors, line=dict(color='#000000', width=2)))\n",
    "\n",
    "# fig.update_layout(\n",
    "#     title=\"Student Count\",\n",
    "#     template='plotly_dark',\n",
    "#     font=dict(\n",
    "#         family=\"Rubik\",\n",
    "#         size=18\n",
    "#     )\n",
    "# )\n",
    "\n",
    "# fig.show()"
   ]
  },
  {
   "cell_type": "markdown",
   "metadata": {},
   "source": [
    "<a id=\"3.1.7\"></a>\n",
    "<span style=\"font-size:20px; color:#39c5ff; font-family:Rubik;\"> <i>3.1.7 Educational Background Donut Chart</i></span>"
   ]
  },
  {
   "cell_type": "code",
   "execution_count": 14,
   "metadata": {
    "execution": {
     "iopub.execute_input": "2022-10-13T03:19:11.517084Z",
     "iopub.status.busy": "2022-10-13T03:19:11.516653Z",
     "iopub.status.idle": "2022-10-13T03:19:11.582474Z",
     "shell.execute_reply": "2022-10-13T03:19:11.581577Z",
     "shell.execute_reply.started": "2022-10-13T03:19:11.51702Z"
    }
   },
   "outputs": [],
   "source": [
    "degree_count = df.groupby(['Q8']).size().reset_index().rename(columns={0: 'count'})\n",
    "degree_count.loc[degree_count[\"Q8\"] == \"Some college/university study without earning a bachelor’s degree\", \"Q8\"] = \"College Without Bachelors\"\n",
    "\n",
    "# STEFANOS: Disable plotting\n",
    "# fig = go.Figure(\n",
    "#     data=[go.Pie(labels=degree_count['Q8'], values=degree_count['count'], hole=.4)])\n",
    "\n",
    "# fig.update_traces(hoverinfo='label+percent', textinfo='value', textfont_size=20,\n",
    "#                   marker=dict(colors=colors, line=dict(color='#000000', width=2)))\n",
    "\n",
    "# # fig.update_layout(template='plotly_dark')\n",
    "\n",
    "# fig.update_layout(\n",
    "#     title=\"Educational Background\",\n",
    "#     template='plotly_dark',\n",
    "#     font=dict(\n",
    "#         family=\"Rubik\",\n",
    "#         size=14\n",
    "#     )\n",
    "# )\n",
    "\n",
    "# fig.show()"
   ]
  },
  {
   "cell_type": "markdown",
   "metadata": {},
   "source": [
    "<a id=\"3.1.8\"></a>\n",
    "<span style=\"font-size:20px; color:#39c5ff; font-family:Rubik;\"> <i>3.1.8 ML Experience Donut Chart</i></span>"
   ]
  },
  {
   "cell_type": "code",
   "execution_count": 15,
   "metadata": {
    "execution": {
     "iopub.execute_input": "2022-10-13T03:19:11.59761Z",
     "iopub.status.busy": "2022-10-13T03:19:11.597017Z",
     "iopub.status.idle": "2022-10-13T03:19:11.636539Z",
     "shell.execute_reply": "2022-10-13T03:19:11.635555Z",
     "shell.execute_reply.started": "2022-10-13T03:19:11.597574Z"
    }
   },
   "outputs": [],
   "source": [
    "experience_count = df.groupby(['Q16']).size().reset_index().rename(columns={0: 'count'})\n",
    "\n",
    "# STEFANOS: Disable plotting\n",
    "# fig = go.Figure(\n",
    "#     data=[go.Pie(labels=experience_count['Q16'], values=experience_count['count'], hole=.4)])\n",
    "\n",
    "# fig.update_traces(hoverinfo='label+percent', textinfo='value', textfont_size=20,\n",
    "#                   marker=dict(colors=colors, line=dict(color='#000000', width=2)))\n",
    "\n",
    "# # fig.update_layout(template='plotly_dark')\n",
    "\n",
    "# fig.update_layout(\n",
    "#     title=\"ML Experience\",\n",
    "#     template='plotly_dark',\n",
    "#     font=dict(\n",
    "#         family=\"Rubik\",\n",
    "#         size=14\n",
    "#     )\n",
    "# )\n",
    "\n",
    "# fig.show()"
   ]
  },
  {
   "cell_type": "markdown",
   "metadata": {},
   "source": [
    "<a id=\"3.1.9\"></a>\n",
    "<span style=\"font-size:20px; color:#39c5ff; font-family:Rubik;\"> <i>3.1.9 Yearly Compensation Donut Chart</i></span>"
   ]
  },
  {
   "cell_type": "code",
   "execution_count": 16,
   "metadata": {
    "execution": {
     "iopub.execute_input": "2022-10-13T03:19:11.638078Z",
     "iopub.status.busy": "2022-10-13T03:19:11.637811Z",
     "iopub.status.idle": "2022-10-13T03:19:11.678217Z",
     "shell.execute_reply": "2022-10-13T03:19:11.67734Z",
     "shell.execute_reply.started": "2022-10-13T03:19:11.638054Z"
    }
   },
   "outputs": [],
   "source": [
    "annual_income_df = df.groupby(['Q29']).size().reset_index().rename(columns={0: 'count'})\n",
    "\n",
    "# STEFANOS: Disable plotting\n",
    "# fig = go.Figure(\n",
    "#     data=[go.Pie(labels=annual_income_df['Q29'], values=annual_income_df['count'], hole=.4)])\n",
    "\n",
    "# fig.update_traces(hoverinfo='label+percent', textinfo='value', textfont_size=20,\n",
    "#                   marker=dict(colors=colors, line=dict(color='#000000', width=2)))\n",
    "\n",
    "# # fig.update_layout(template='plotly_dark')\n",
    "\n",
    "# fig.update_layout(\n",
    "#     title=\"Yearly Compensation in USD\",\n",
    "#     template='plotly_dark',\n",
    "#     font=dict(\n",
    "#         family=\"Rubik\",\n",
    "#         size=14\n",
    "#     )\n",
    "# )\n",
    "\n",
    "# fig.show()"
   ]
  },
  {
   "cell_type": "markdown",
   "metadata": {},
   "source": [
    "<a id=\"3.2\"></a>\n",
    "<h3 style=\"font-size:25px; text-align: left;background-color: #39c5ff; font-family:Rubik; color: #ffffff; padding: 16px; line-height: 1; border-radius:10px; border: 3px solid #3f484b;\"> 3.2 Multivariate Analysis</h3>"
   ]
  },
  {
   "cell_type": "markdown",
   "metadata": {},
   "source": [
    "<a id=\"3.2.1\"></a>\n",
    "<span style=\"font-size:20px; color:#39c5ff; font-family:Rubik;\"> <i>3.2.1 Duration X Gender Histplot</i></span>"
   ]
  },
  {
   "cell_type": "code",
   "execution_count": 17,
   "metadata": {
    "execution": {
     "iopub.execute_input": "2022-10-13T06:25:27.318835Z",
     "iopub.status.busy": "2022-10-13T06:25:27.318419Z",
     "iopub.status.idle": "2022-10-13T06:25:27.440618Z",
     "shell.execute_reply": "2022-10-13T06:25:27.43907Z",
     "shell.execute_reply.started": "2022-10-13T06:25:27.318803Z"
    }
   },
   "outputs": [],
   "source": [
    "gender_duration_count = df.groupby(['Duration (in seconds)', 'Q3']).size().reset_index().rename(columns={0: 'count'})\n",
    "gender_duration_count = gender_duration_count[:3000]\n",
    "\n",
    "# STEFANOS: Disable plotting\n",
    "# hist_colors = ['#39c5ff', '#ffffff', 'orange']\n",
    "\n",
    "# fig = px.histogram(gender_duration_count, x=\"Duration (in seconds)\", y=\"count\", color='Q3',\n",
    "#                    marginal=\"box\", color_discrete_sequence=hist_colors,\n",
    "#                    hover_data=gender_duration_count.columns,\n",
    "#                   template='plotly_dark')\n",
    "\n",
    "# fig.update_layout(\n",
    "#     title=\"Duration X Gender\",\n",
    "#     xaxis_title=\"Duration (in seconds)\",\n",
    "#     yaxis_title=\"Count\",\n",
    "#     legend_title=\"Gender\",\n",
    "#     font=dict(\n",
    "#         family=\"Rubik\",\n",
    "#         size=16\n",
    "#     )\n",
    "# )\n",
    "\n",
    "# fig.show()"
   ]
  },
  {
   "cell_type": "markdown",
   "metadata": {},
   "source": [
    "<a id=\"3.2.2\"></a>\n",
    "<span style=\"font-size:20px; color:#39c5ff; font-family:Rubik;\"> <i>3.2.2 Country X Gender TreeMap</i></span>"
   ]
  },
  {
   "cell_type": "code",
   "execution_count": 18,
   "metadata": {
    "execution": {
     "iopub.execute_input": "2022-10-13T03:19:11.679518Z",
     "iopub.status.busy": "2022-10-13T03:19:11.679268Z",
     "iopub.status.idle": "2022-10-13T03:19:11.788442Z",
     "shell.execute_reply": "2022-10-13T03:19:11.787612Z",
     "shell.execute_reply.started": "2022-10-13T03:19:11.679496Z"
    }
   },
   "outputs": [],
   "source": [
    "country_gender = df.groupby(['Q4', 'Q3']).size().reset_index().rename(columns={0: 'count'})\n",
    "\n",
    "# STEFANOS: Disable plotting\n",
    "# fig = px.treemap(country_gender, values='count', path=['Q4', 'Q3'], template='plotly_dark',\n",
    "#                 title=\"Country X Gender TreeMap\")\n",
    "# fig.update_traces(textinfo=\"label+percent parent\")\n",
    "\n",
    "# fig.show()"
   ]
  },
  {
   "cell_type": "markdown",
   "metadata": {},
   "source": [
    "<a id=\"3.2.3\"></a>\n",
    "<span style=\"font-size:20px; color:#39c5ff; font-family:Rubik;\"> <i>3.2.3 Duration with Age</i></span>"
   ]
  },
  {
   "cell_type": "code",
   "execution_count": 19,
   "metadata": {
    "execution": {
     "iopub.execute_input": "2022-10-13T06:27:24.324284Z",
     "iopub.status.busy": "2022-10-13T06:27:24.323893Z",
     "iopub.status.idle": "2022-10-13T06:27:24.556117Z",
     "shell.execute_reply": "2022-10-13T06:27:24.555063Z",
     "shell.execute_reply.started": "2022-10-13T06:27:24.324251Z"
    }
   },
   "outputs": [],
   "source": [
    "age_duration_df = df[df['Duration (in seconds)']<2000].groupby('Q2')['Duration (in seconds)'].mean().round(1).reset_index()\n",
    "\n",
    "# STEFANOS: Disable plotting\n",
    "# fig=px.bar(data_frame=age_duration_df, x='Q2', y='Duration (in seconds)',\n",
    "#            color='Q2',template='plotly_dark',color_discrete_sequence=['#39c5ff','#F5F5F1'],\n",
    "#                  text_auto=True,barmode='stack',\n",
    "#           title=\"Age Countplot\")\n",
    "\n",
    "# fig.update_traces(textfont_size=20, textangle=0, textposition=\"outside\", cliponaxis=False)\n",
    "# fig.update_traces( marker_line_color='#3f484b',\n",
    "#                   marker_line_width=3.5)\n",
    "\n",
    "# fig.update_layout(\n",
    "#     title=\"Duration with Age\",\n",
    "#     xaxis_title=\"Age Groups\",\n",
    "#     yaxis_title=\"Duration (in seconds)\",\n",
    "#     legend_title=\"Age Groups\",\n",
    "#     font=dict(\n",
    "#         family=\"Rubik\",\n",
    "#         size=12\n",
    "#     )\n",
    "# )\n",
    "\n",
    "# fig.show()"
   ]
  },
  {
   "cell_type": "markdown",
   "metadata": {},
   "source": [
    "<a id=\"3.2.4\"></a>\n",
    "<span style=\"font-size:20px; color:#39c5ff; font-family:Rubik;\"> <i>3.2.4 Education X Gender TreeMap</i></span>"
   ]
  },
  {
   "cell_type": "code",
   "execution_count": 20,
   "metadata": {
    "execution": {
     "iopub.execute_input": "2022-10-13T03:42:00.80817Z",
     "iopub.status.busy": "2022-10-13T03:42:00.807825Z",
     "iopub.status.idle": "2022-10-13T03:42:00.884248Z",
     "shell.execute_reply": "2022-10-13T03:42:00.882945Z",
     "shell.execute_reply.started": "2022-10-13T03:42:00.808141Z"
    }
   },
   "outputs": [],
   "source": [
    "education_gender = df.groupby(['Q8', 'Q3']).size().reset_index().rename(columns={0: 'count'})\n",
    "\n",
    "# STEFANOS: Disable plotting\n",
    "# fig = px.treemap(education_gender, values='count', path=['Q8', 'Q3'], template='plotly_dark',\n",
    "#                 title=\"Education X Gender TreeMap\")\n",
    "# fig.update_traces(textinfo=\"label+percent parent\")\n",
    "\n",
    "# fig.show()"
   ]
  },
  {
   "cell_type": "markdown",
   "metadata": {},
   "source": [
    "<a id=\"3.2.5\"></a>\n",
    "<span style=\"font-size:20px; color:#39c5ff; font-family:Rubik;\"> <i>3.2.5 Countries X Age Density Plot</i></span>"
   ]
  },
  {
   "cell_type": "code",
   "execution_count": 21,
   "metadata": {
    "execution": {
     "iopub.execute_input": "2022-10-13T06:01:46.548873Z",
     "iopub.status.busy": "2022-10-13T06:01:46.548195Z",
     "iopub.status.idle": "2022-10-13T06:01:46.810353Z",
     "shell.execute_reply": "2022-10-13T06:01:46.809365Z",
     "shell.execute_reply.started": "2022-10-13T06:01:46.548839Z"
    }
   },
   "outputs": [],
   "source": [
    "## Not Including India bcz it acts as an outlier here\n",
    "top_9_countries = ['United States of America','Other', 'Brazil',\n",
    "                   'Nigeria', 'Pakistan', 'Japan', 'China', 'Egypt', 'Mexico']\n",
    "\n",
    "top_9_countries_df = df[df['Q4'].isin(top_9_countries)]\n",
    "# STEFANOS: Disable plotting\n",
    "# fig = px.density_heatmap(\n",
    "#     top_9_countries_df, x='Q4', y='Q2',\n",
    "#     marginal_x='histogram', marginal_y='histogram', histfunc='count'\n",
    "# )\n",
    "\n",
    "# fig.update_yaxes(categoryorder='array', categoryarray= ['18-21','22-24','25-29','30-34', '35-39',\n",
    "#                                                         '40-44', '45-49', '50-54', '55-59', '60-69', '70+'])\n",
    "\n",
    "# fig.update_layout(\n",
    "#     title=\"Countires X Age Groups Density Plot\",\n",
    "#     xaxis_title=\"Countries\",\n",
    "#     yaxis_title=\"Age Groups\",\n",
    "#     font=dict(\n",
    "#         family=\"Rubik\",\n",
    "#         size=14\n",
    "#     )\n",
    "# )\n",
    "\n",
    "# fig.show()"
   ]
  },
  {
   "cell_type": "markdown",
   "metadata": {},
   "source": [
    "<a id=\"3.2.6\"></a>\n",
    "<span style=\"font-size:20px; color:#39c5ff; font-family:Rubik;\"> <i>3.2.6 Gender X Student Sunburst</i></span>"
   ]
  },
  {
   "cell_type": "code",
   "execution_count": 22,
   "metadata": {
    "execution": {
     "iopub.execute_input": "2022-10-13T03:31:42.23863Z",
     "iopub.status.busy": "2022-10-13T03:31:42.238278Z",
     "iopub.status.idle": "2022-10-13T03:31:42.317726Z",
     "shell.execute_reply": "2022-10-13T03:31:42.316576Z",
     "shell.execute_reply.started": "2022-10-13T03:31:42.238603Z"
    }
   },
   "outputs": [],
   "source": [
    "gender_student = df.groupby(['Q3', 'Q5']).size().reset_index().rename(columns={0: 'count'})\n",
    "\n",
    "# STEFANOS: Disable plotting\n",
    "# fig = px.sunburst(gender_student, values='count', path=['Q3', 'Q5'], template='plotly_dark',\n",
    "#                 title=\"Gender X Student Sunburst\")\n",
    "# fig.update_traces(textinfo=\"label+percent parent\")\n",
    "\n",
    "# fig.show()"
   ]
  },
  {
   "cell_type": "markdown",
   "metadata": {},
   "source": [
    "<a id=\"4\"></a>\n",
    "# <div style=\"font-size:40px; text-align: center; background-color: #39c5ff; font-family:Rubik; color: #ffffff; padding: 14px; line-height: 1;border-radius:20px; border: 4px solid #3f484b;\"><b> Work In Progress </b></div>"
   ]
  }
 ],
 "metadata": {
  "kernelspec": {
   "display_name": "Python 3 (ipykernel)",
   "language": "python",
   "name": "python3"
  },
  "language_info": {
   "codemirror_mode": {
    "name": "ipython",
    "version": 3
   },
   "file_extension": ".py",
   "mimetype": "text/x-python",
   "name": "python",
   "nbconvert_exporter": "python",
   "pygments_lexer": "ipython3",
   "version": "3.10.13"
  }
 },
 "nbformat": 4,
 "nbformat_minor": 4
}
