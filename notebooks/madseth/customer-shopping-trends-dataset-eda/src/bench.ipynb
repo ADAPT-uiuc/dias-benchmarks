{
 "cells": [
  {
   "cell_type": "code",
   "execution_count": 1,
   "id": "67feeeb0",
   "metadata": {
    "_cell_guid": "b1076dfc-b9ad-4769-8c92-a6c4dae69d19",
    "_uuid": "8f2839f25d086af736a60e9eeb907d3b93b6e0e5",
    "execution": {
     "iopub.execute_input": "2023-10-12T18:22:38.599950Z",
     "iopub.status.busy": "2023-10-12T18:22:38.599337Z",
     "iopub.status.idle": "2023-10-12T18:22:38.987271Z",
     "shell.execute_reply": "2023-10-12T18:22:38.986143Z"
    },
    "papermill": {
     "duration": 0.401051,
     "end_time": "2023-10-12T18:22:38.989682",
     "exception": false,
     "start_time": "2023-10-12T18:22:38.588631",
     "status": "completed"
    },
    "tags": []
   },
   "outputs": [],
   "source": [
    "# This Python 3 environment comes with many helpful analytics libraries installed\n",
    "# It is defined by the kaggle/python Docker image: https://github.com/kaggle/docker-python\n",
    "# For example, here's several helpful packages to load\n",
    "\n",
    "import numpy as np # linear algebra\n",
    "import pandas as pd # data processing, CSV file I/O (e.g. pd.read_csv)\n",
    "\n",
    "# Input data files are available in the read-only \"../input/\" directory\n",
    "# For example, running this (by clicking run or pressing Shift+Enter) will list all files under the input directory\n",
    "\n",
    "import os\n",
    "for dirname, _, filenames in os.walk('/kaggle/input'):\n",
    "    for filename in filenames:\n",
    "        print(os.path.join(dirname, filename))\n",
    "\n",
    "# You can write up to 20GB to the current directory (/kaggle/working/) that gets preserved as output when you create a version using \"Save & Run All\" \n",
    "# You can also write temporary files to /kaggle/temp/, but they won't be saved outside of the current session"
   ]
  },
  {
   "cell_type": "markdown",
   "id": "efa2f01d",
   "metadata": {
    "papermill": {
     "duration": 0.008013,
     "end_time": "2023-10-12T18:22:39.005700",
     "exception": false,
     "start_time": "2023-10-12T18:22:38.997687",
     "status": "completed"
    },
    "tags": []
   },
   "source": [
    "## Loading the data"
   ]
  },
  {
   "cell_type": "code",
   "execution_count": 3,
   "id": "6ffbb215",
   "metadata": {
    "execution": {
     "iopub.execute_input": "2023-10-12T18:22:39.023714Z",
     "iopub.status.busy": "2023-10-12T18:22:39.023220Z",
     "iopub.status.idle": "2023-10-12T18:22:39.088602Z",
     "shell.execute_reply": "2023-10-12T18:22:39.087497Z"
    },
    "papermill": {
     "duration": 0.07698,
     "end_time": "2023-10-12T18:22:39.090851",
     "exception": false,
     "start_time": "2023-10-12T18:22:39.013871",
     "status": "completed"
    },
    "tags": []
   },
   "outputs": [
    {
     "data": {
      "text/html": [
       "<div>\n",
       "<style scoped>\n",
       "    .dataframe tbody tr th:only-of-type {\n",
       "        vertical-align: middle;\n",
       "    }\n",
       "\n",
       "    .dataframe tbody tr th {\n",
       "        vertical-align: top;\n",
       "    }\n",
       "\n",
       "    .dataframe thead th {\n",
       "        text-align: right;\n",
       "    }\n",
       "</style>\n",
       "<table border=\"1\" class=\"dataframe\">\n",
       "  <thead>\n",
       "    <tr style=\"text-align: right;\">\n",
       "      <th></th>\n",
       "      <th>Customer ID</th>\n",
       "      <th>Age</th>\n",
       "      <th>Gender</th>\n",
       "      <th>Item Purchased</th>\n",
       "      <th>Category</th>\n",
       "      <th>Purchase Amount (USD)</th>\n",
       "      <th>Location</th>\n",
       "      <th>Size</th>\n",
       "      <th>Color</th>\n",
       "      <th>Season</th>\n",
       "      <th>Review Rating</th>\n",
       "      <th>Subscription Status</th>\n",
       "      <th>Shipping Type</th>\n",
       "      <th>Discount Applied</th>\n",
       "      <th>Promo Code Used</th>\n",
       "      <th>Previous Purchases</th>\n",
       "      <th>Payment Method</th>\n",
       "      <th>Frequency of Purchases</th>\n",
       "    </tr>\n",
       "  </thead>\n",
       "  <tbody>\n",
       "    <tr>\n",
       "      <th>0</th>\n",
       "      <td>1</td>\n",
       "      <td>55</td>\n",
       "      <td>Male</td>\n",
       "      <td>Blouse</td>\n",
       "      <td>Clothing</td>\n",
       "      <td>53</td>\n",
       "      <td>Kentucky</td>\n",
       "      <td>L</td>\n",
       "      <td>Gray</td>\n",
       "      <td>Winter</td>\n",
       "      <td>3.1</td>\n",
       "      <td>Yes</td>\n",
       "      <td>Express</td>\n",
       "      <td>Yes</td>\n",
       "      <td>Yes</td>\n",
       "      <td>14</td>\n",
       "      <td>Venmo</td>\n",
       "      <td>Fortnightly</td>\n",
       "    </tr>\n",
       "    <tr>\n",
       "      <th>1</th>\n",
       "      <td>2</td>\n",
       "      <td>19</td>\n",
       "      <td>Male</td>\n",
       "      <td>Sweater</td>\n",
       "      <td>Clothing</td>\n",
       "      <td>64</td>\n",
       "      <td>Maine</td>\n",
       "      <td>L</td>\n",
       "      <td>Maroon</td>\n",
       "      <td>Winter</td>\n",
       "      <td>3.1</td>\n",
       "      <td>Yes</td>\n",
       "      <td>Express</td>\n",
       "      <td>Yes</td>\n",
       "      <td>Yes</td>\n",
       "      <td>2</td>\n",
       "      <td>Cash</td>\n",
       "      <td>Fortnightly</td>\n",
       "    </tr>\n",
       "    <tr>\n",
       "      <th>2</th>\n",
       "      <td>3</td>\n",
       "      <td>50</td>\n",
       "      <td>Male</td>\n",
       "      <td>Jeans</td>\n",
       "      <td>Clothing</td>\n",
       "      <td>73</td>\n",
       "      <td>Massachusetts</td>\n",
       "      <td>S</td>\n",
       "      <td>Maroon</td>\n",
       "      <td>Spring</td>\n",
       "      <td>3.1</td>\n",
       "      <td>Yes</td>\n",
       "      <td>Free Shipping</td>\n",
       "      <td>Yes</td>\n",
       "      <td>Yes</td>\n",
       "      <td>23</td>\n",
       "      <td>Credit Card</td>\n",
       "      <td>Weekly</td>\n",
       "    </tr>\n",
       "    <tr>\n",
       "      <th>3</th>\n",
       "      <td>4</td>\n",
       "      <td>21</td>\n",
       "      <td>Male</td>\n",
       "      <td>Sandals</td>\n",
       "      <td>Footwear</td>\n",
       "      <td>90</td>\n",
       "      <td>Rhode Island</td>\n",
       "      <td>M</td>\n",
       "      <td>Maroon</td>\n",
       "      <td>Spring</td>\n",
       "      <td>3.5</td>\n",
       "      <td>Yes</td>\n",
       "      <td>Next Day Air</td>\n",
       "      <td>Yes</td>\n",
       "      <td>Yes</td>\n",
       "      <td>49</td>\n",
       "      <td>PayPal</td>\n",
       "      <td>Weekly</td>\n",
       "    </tr>\n",
       "    <tr>\n",
       "      <th>4</th>\n",
       "      <td>5</td>\n",
       "      <td>45</td>\n",
       "      <td>Male</td>\n",
       "      <td>Blouse</td>\n",
       "      <td>Clothing</td>\n",
       "      <td>49</td>\n",
       "      <td>Oregon</td>\n",
       "      <td>M</td>\n",
       "      <td>Turquoise</td>\n",
       "      <td>Spring</td>\n",
       "      <td>2.7</td>\n",
       "      <td>Yes</td>\n",
       "      <td>Free Shipping</td>\n",
       "      <td>Yes</td>\n",
       "      <td>Yes</td>\n",
       "      <td>31</td>\n",
       "      <td>PayPal</td>\n",
       "      <td>Annually</td>\n",
       "    </tr>\n",
       "  </tbody>\n",
       "</table>\n",
       "</div>"
      ],
      "text/plain": [
       "   Customer ID  Age Gender Item Purchased  Category  Purchase Amount (USD)  \\\n",
       "0            1   55   Male         Blouse  Clothing                     53   \n",
       "1            2   19   Male        Sweater  Clothing                     64   \n",
       "2            3   50   Male          Jeans  Clothing                     73   \n",
       "3            4   21   Male        Sandals  Footwear                     90   \n",
       "4            5   45   Male         Blouse  Clothing                     49   \n",
       "\n",
       "        Location Size      Color  Season  Review Rating Subscription Status  \\\n",
       "0       Kentucky    L       Gray  Winter            3.1                 Yes   \n",
       "1          Maine    L     Maroon  Winter            3.1                 Yes   \n",
       "2  Massachusetts    S     Maroon  Spring            3.1                 Yes   \n",
       "3   Rhode Island    M     Maroon  Spring            3.5                 Yes   \n",
       "4         Oregon    M  Turquoise  Spring            2.7                 Yes   \n",
       "\n",
       "   Shipping Type Discount Applied Promo Code Used  Previous Purchases  \\\n",
       "0        Express              Yes             Yes                  14   \n",
       "1        Express              Yes             Yes                   2   \n",
       "2  Free Shipping              Yes             Yes                  23   \n",
       "3   Next Day Air              Yes             Yes                  49   \n",
       "4  Free Shipping              Yes             Yes                  31   \n",
       "\n",
       "  Payment Method Frequency of Purchases  \n",
       "0          Venmo            Fortnightly  \n",
       "1           Cash            Fortnightly  \n",
       "2    Credit Card                 Weekly  \n",
       "3         PayPal                 Weekly  \n",
       "4         PayPal               Annually  "
      ]
     },
     "execution_count": 3,
     "metadata": {},
     "output_type": "execute_result"
    }
   ],
   "source": [
    "df = pd.read_csv(\"../input/shopping_trends_updated.csv\")\n",
    "df.head()"
   ]
  },
  {
   "cell_type": "markdown",
   "id": "b04d59b0",
   "metadata": {
    "papermill": {
     "duration": 0.008434,
     "end_time": "2023-10-12T18:22:39.107527",
     "exception": false,
     "start_time": "2023-10-12T18:22:39.099093",
     "status": "completed"
    },
    "tags": []
   },
   "source": [
    "## Shape of the dataset (Total number of rows and columns in the dataset)"
   ]
  },
  {
   "cell_type": "code",
   "execution_count": 4,
   "id": "16e4f257",
   "metadata": {
    "execution": {
     "iopub.execute_input": "2023-10-12T18:22:39.125681Z",
     "iopub.status.busy": "2023-10-12T18:22:39.125327Z",
     "iopub.status.idle": "2023-10-12T18:22:39.131996Z",
     "shell.execute_reply": "2023-10-12T18:22:39.130936Z"
    },
    "papermill": {
     "duration": 0.018203,
     "end_time": "2023-10-12T18:22:39.133948",
     "exception": false,
     "start_time": "2023-10-12T18:22:39.115745",
     "status": "completed"
    },
    "tags": []
   },
   "outputs": [
    {
     "data": {
      "text/plain": [
       "(3900, 18)"
      ]
     },
     "execution_count": 4,
     "metadata": {},
     "output_type": "execute_result"
    }
   ],
   "source": [
    "df.shape"
   ]
  },
  {
   "cell_type": "markdown",
   "id": "1a2f1c20",
   "metadata": {
    "papermill": {
     "duration": 0.009065,
     "end_time": "2023-10-12T18:22:39.151677",
     "exception": false,
     "start_time": "2023-10-12T18:22:39.142612",
     "status": "completed"
    },
    "tags": []
   },
   "source": [
    "## Columns present in the dataset"
   ]
  },
  {
   "cell_type": "code",
   "execution_count": 5,
   "id": "8c2426e0",
   "metadata": {
    "execution": {
     "iopub.execute_input": "2023-10-12T18:22:39.171559Z",
     "iopub.status.busy": "2023-10-12T18:22:39.171144Z",
     "iopub.status.idle": "2023-10-12T18:22:39.177430Z",
     "shell.execute_reply": "2023-10-12T18:22:39.176667Z"
    },
    "papermill": {
     "duration": 0.018991,
     "end_time": "2023-10-12T18:22:39.179338",
     "exception": false,
     "start_time": "2023-10-12T18:22:39.160347",
     "status": "completed"
    },
    "tags": []
   },
   "outputs": [
    {
     "data": {
      "text/plain": [
       "Index(['Customer ID', 'Age', 'Gender', 'Item Purchased', 'Category',\n",
       "       'Purchase Amount (USD)', 'Location', 'Size', 'Color', 'Season',\n",
       "       'Review Rating', 'Subscription Status', 'Shipping Type',\n",
       "       'Discount Applied', 'Promo Code Used', 'Previous Purchases',\n",
       "       'Payment Method', 'Frequency of Purchases'],\n",
       "      dtype='object')"
      ]
     },
     "execution_count": 5,
     "metadata": {},
     "output_type": "execute_result"
    }
   ],
   "source": [
    "df.columns"
   ]
  },
  {
   "cell_type": "markdown",
   "id": "5dfaf45d",
   "metadata": {
    "papermill": {
     "duration": 0.008847,
     "end_time": "2023-10-12T18:22:39.196613",
     "exception": false,
     "start_time": "2023-10-12T18:22:39.187766",
     "status": "completed"
    },
    "tags": []
   },
   "source": []
  },
  {
   "cell_type": "markdown",
   "id": "8b31a9f7",
   "metadata": {
    "papermill": {
     "duration": 0.008229,
     "end_time": "2023-10-12T18:22:39.213848",
     "exception": false,
     "start_time": "2023-10-12T18:22:39.205619",
     "status": "completed"
    },
    "tags": []
   },
   "source": [
    "## Looking at the brief information about the dataset"
   ]
  },
  {
   "cell_type": "code",
   "execution_count": 6,
   "id": "6512e344",
   "metadata": {
    "execution": {
     "iopub.execute_input": "2023-10-12T18:22:39.232742Z",
     "iopub.status.busy": "2023-10-12T18:22:39.232393Z",
     "iopub.status.idle": "2023-10-12T18:22:39.263506Z",
     "shell.execute_reply": "2023-10-12T18:22:39.262310Z"
    },
    "papermill": {
     "duration": 0.043492,
     "end_time": "2023-10-12T18:22:39.265819",
     "exception": false,
     "start_time": "2023-10-12T18:22:39.222327",
     "status": "completed"
    },
    "tags": []
   },
   "outputs": [
    {
     "name": "stdout",
     "output_type": "stream",
     "text": [
      "<class 'pandas.core.frame.DataFrame'>\n",
      "RangeIndex: 3900 entries, 0 to 3899\n",
      "Data columns (total 18 columns):\n",
      " #   Column                  Non-Null Count  Dtype  \n",
      "---  ------                  --------------  -----  \n",
      " 0   Customer ID             3900 non-null   int64  \n",
      " 1   Age                     3900 non-null   int64  \n",
      " 2   Gender                  3900 non-null   object \n",
      " 3   Item Purchased          3900 non-null   object \n",
      " 4   Category                3900 non-null   object \n",
      " 5   Purchase Amount (USD)   3900 non-null   int64  \n",
      " 6   Location                3900 non-null   object \n",
      " 7   Size                    3900 non-null   object \n",
      " 8   Color                   3900 non-null   object \n",
      " 9   Season                  3900 non-null   object \n",
      " 10  Review Rating           3900 non-null   float64\n",
      " 11  Subscription Status     3900 non-null   object \n",
      " 12  Shipping Type           3900 non-null   object \n",
      " 13  Discount Applied        3900 non-null   object \n",
      " 14  Promo Code Used         3900 non-null   object \n",
      " 15  Previous Purchases      3900 non-null   int64  \n",
      " 16  Payment Method          3900 non-null   object \n",
      " 17  Frequency of Purchases  3900 non-null   object \n",
      "dtypes: float64(1), int64(4), object(13)\n",
      "memory usage: 548.6+ KB\n"
     ]
    }
   ],
   "source": [
    "df.info()"
   ]
  },
  {
   "cell_type": "markdown",
   "id": "113d43f1",
   "metadata": {
    "papermill": {
     "duration": 0.008055,
     "end_time": "2023-10-12T18:22:39.282401",
     "exception": false,
     "start_time": "2023-10-12T18:22:39.274346",
     "status": "completed"
    },
    "tags": []
   },
   "source": [
    "## Checking for NULL values"
   ]
  },
  {
   "cell_type": "code",
   "execution_count": 7,
   "id": "6dec3931",
   "metadata": {
    "execution": {
     "iopub.execute_input": "2023-10-12T18:22:39.301060Z",
     "iopub.status.busy": "2023-10-12T18:22:39.300715Z",
     "iopub.status.idle": "2023-10-12T18:22:39.311253Z",
     "shell.execute_reply": "2023-10-12T18:22:39.310234Z"
    },
    "papermill": {
     "duration": 0.022563,
     "end_time": "2023-10-12T18:22:39.313325",
     "exception": false,
     "start_time": "2023-10-12T18:22:39.290762",
     "status": "completed"
    },
    "tags": []
   },
   "outputs": [
    {
     "data": {
      "text/plain": [
       "Customer ID               0\n",
       "Age                       0\n",
       "Gender                    0\n",
       "Item Purchased            0\n",
       "Category                  0\n",
       "Purchase Amount (USD)     0\n",
       "Location                  0\n",
       "Size                      0\n",
       "Color                     0\n",
       "Season                    0\n",
       "Review Rating             0\n",
       "Subscription Status       0\n",
       "Shipping Type             0\n",
       "Discount Applied          0\n",
       "Promo Code Used           0\n",
       "Previous Purchases        0\n",
       "Payment Method            0\n",
       "Frequency of Purchases    0\n",
       "dtype: int64"
      ]
     },
     "execution_count": 7,
     "metadata": {},
     "output_type": "execute_result"
    }
   ],
   "source": [
    "df.isnull().sum()"
   ]
  },
  {
   "cell_type": "markdown",
   "id": "3a3f52c2",
   "metadata": {
    "papermill": {
     "duration": 0.008646,
     "end_time": "2023-10-12T18:22:39.330708",
     "exception": false,
     "start_time": "2023-10-12T18:22:39.322062",
     "status": "completed"
    },
    "tags": []
   },
   "source": [
    "## Checking for duplicate value/rows"
   ]
  },
  {
   "cell_type": "code",
   "execution_count": 8,
   "id": "c61c7da4",
   "metadata": {
    "execution": {
     "iopub.execute_input": "2023-10-12T18:22:39.349713Z",
     "iopub.status.busy": "2023-10-12T18:22:39.349351Z",
     "iopub.status.idle": "2023-10-12T18:22:39.367805Z",
     "shell.execute_reply": "2023-10-12T18:22:39.366746Z"
    },
    "papermill": {
     "duration": 0.030542,
     "end_time": "2023-10-12T18:22:39.369838",
     "exception": false,
     "start_time": "2023-10-12T18:22:39.339296",
     "status": "completed"
    },
    "tags": []
   },
   "outputs": [
    {
     "data": {
      "text/plain": [
       "0"
      ]
     },
     "execution_count": 8,
     "metadata": {},
     "output_type": "execute_result"
    }
   ],
   "source": [
    "df.duplicated().sum()"
   ]
  },
  {
   "cell_type": "markdown",
   "id": "13a030b8",
   "metadata": {
    "papermill": {
     "duration": 0.008384,
     "end_time": "2023-10-12T18:22:39.386967",
     "exception": false,
     "start_time": "2023-10-12T18:22:39.378583",
     "status": "completed"
    },
    "tags": []
   },
   "source": [
    "## There are no NULL values and neither are any Duplicated rows.\n",
    "### Moving on with the EDA"
   ]
  },
  {
   "cell_type": "code",
   "execution_count": 9,
   "id": "c38f421e",
   "metadata": {
    "execution": {
     "iopub.execute_input": "2023-10-12T18:22:39.469319Z",
     "iopub.status.busy": "2023-10-12T18:22:39.468067Z",
     "iopub.status.idle": "2023-10-12T18:22:39.492264Z",
     "shell.execute_reply": "2023-10-12T18:22:39.491580Z"
    },
    "papermill": {
     "duration": 0.036399,
     "end_time": "2023-10-12T18:22:39.494435",
     "exception": false,
     "start_time": "2023-10-12T18:22:39.458036",
     "status": "completed"
    },
    "tags": []
   },
   "outputs": [
    {
     "data": {
      "text/html": [
       "<div>\n",
       "<style scoped>\n",
       "    .dataframe tbody tr th:only-of-type {\n",
       "        vertical-align: middle;\n",
       "    }\n",
       "\n",
       "    .dataframe tbody tr th {\n",
       "        vertical-align: top;\n",
       "    }\n",
       "\n",
       "    .dataframe thead th {\n",
       "        text-align: right;\n",
       "    }\n",
       "</style>\n",
       "<table border=\"1\" class=\"dataframe\">\n",
       "  <thead>\n",
       "    <tr style=\"text-align: right;\">\n",
       "      <th></th>\n",
       "      <th>Customer ID</th>\n",
       "      <th>Age</th>\n",
       "      <th>Purchase Amount (USD)</th>\n",
       "      <th>Review Rating</th>\n",
       "      <th>Previous Purchases</th>\n",
       "    </tr>\n",
       "  </thead>\n",
       "  <tbody>\n",
       "    <tr>\n",
       "      <th>count</th>\n",
       "      <td>3900.000000</td>\n",
       "      <td>3900.000000</td>\n",
       "      <td>3900.000000</td>\n",
       "      <td>3900.000000</td>\n",
       "      <td>3900.000000</td>\n",
       "    </tr>\n",
       "    <tr>\n",
       "      <th>mean</th>\n",
       "      <td>1950.500000</td>\n",
       "      <td>44.068462</td>\n",
       "      <td>59.764359</td>\n",
       "      <td>3.749949</td>\n",
       "      <td>25.351538</td>\n",
       "    </tr>\n",
       "    <tr>\n",
       "      <th>std</th>\n",
       "      <td>1125.977353</td>\n",
       "      <td>15.207589</td>\n",
       "      <td>23.685392</td>\n",
       "      <td>0.716223</td>\n",
       "      <td>14.447125</td>\n",
       "    </tr>\n",
       "    <tr>\n",
       "      <th>min</th>\n",
       "      <td>1.000000</td>\n",
       "      <td>18.000000</td>\n",
       "      <td>20.000000</td>\n",
       "      <td>2.500000</td>\n",
       "      <td>1.000000</td>\n",
       "    </tr>\n",
       "    <tr>\n",
       "      <th>25%</th>\n",
       "      <td>975.750000</td>\n",
       "      <td>31.000000</td>\n",
       "      <td>39.000000</td>\n",
       "      <td>3.100000</td>\n",
       "      <td>13.000000</td>\n",
       "    </tr>\n",
       "    <tr>\n",
       "      <th>50%</th>\n",
       "      <td>1950.500000</td>\n",
       "      <td>44.000000</td>\n",
       "      <td>60.000000</td>\n",
       "      <td>3.700000</td>\n",
       "      <td>25.000000</td>\n",
       "    </tr>\n",
       "    <tr>\n",
       "      <th>75%</th>\n",
       "      <td>2925.250000</td>\n",
       "      <td>57.000000</td>\n",
       "      <td>81.000000</td>\n",
       "      <td>4.400000</td>\n",
       "      <td>38.000000</td>\n",
       "    </tr>\n",
       "    <tr>\n",
       "      <th>max</th>\n",
       "      <td>3900.000000</td>\n",
       "      <td>70.000000</td>\n",
       "      <td>100.000000</td>\n",
       "      <td>5.000000</td>\n",
       "      <td>50.000000</td>\n",
       "    </tr>\n",
       "  </tbody>\n",
       "</table>\n",
       "</div>"
      ],
      "text/plain": [
       "       Customer ID          Age  Purchase Amount (USD)  Review Rating  \\\n",
       "count  3900.000000  3900.000000            3900.000000    3900.000000   \n",
       "mean   1950.500000    44.068462              59.764359       3.749949   \n",
       "std    1125.977353    15.207589              23.685392       0.716223   \n",
       "min       1.000000    18.000000              20.000000       2.500000   \n",
       "25%     975.750000    31.000000              39.000000       3.100000   \n",
       "50%    1950.500000    44.000000              60.000000       3.700000   \n",
       "75%    2925.250000    57.000000              81.000000       4.400000   \n",
       "max    3900.000000    70.000000             100.000000       5.000000   \n",
       "\n",
       "       Previous Purchases  \n",
       "count         3900.000000  \n",
       "mean            25.351538  \n",
       "std             14.447125  \n",
       "min              1.000000  \n",
       "25%             13.000000  \n",
       "50%             25.000000  \n",
       "75%             38.000000  \n",
       "max             50.000000  "
      ]
     },
     "execution_count": 9,
     "metadata": {},
     "output_type": "execute_result"
    }
   ],
   "source": [
    "df.describe()"
   ]
  },
  {
   "cell_type": "markdown",
   "id": "dc0bad54",
   "metadata": {
    "papermill": {
     "duration": 0.008749,
     "end_time": "2023-10-12T18:22:39.512043",
     "exception": false,
     "start_time": "2023-10-12T18:22:39.503294",
     "status": "completed"
    },
    "tags": []
   },
   "source": [
    "## Insights :\n",
    "* The minimum age of customer in the given dataset is **18**, while the maximum age is **70** and the average age of the customers is **44**.\n",
    "* The average Purchase Amount (USD) is **59.7**\n",
    "* The average Review Rating is **3.7** "
   ]
  },
  {
   "cell_type": "markdown",
   "id": "34182c6d",
   "metadata": {
    "papermill": {
     "duration": 0.008669,
     "end_time": "2023-10-12T18:22:39.529722",
     "exception": false,
     "start_time": "2023-10-12T18:22:39.521053",
     "status": "completed"
    },
    "tags": []
   },
   "source": []
  },
  {
   "cell_type": "markdown",
   "id": "d8f58e3e",
   "metadata": {
    "papermill": {
     "duration": 0.008746,
     "end_time": "2023-10-12T18:22:42.025735",
     "exception": false,
     "start_time": "2023-10-12T18:22:42.016989",
     "status": "completed"
    },
    "tags": []
   },
   "source": [
    "## Distribution of age groups of the customers."
   ]
  },
  {
   "cell_type": "markdown",
   "id": "2a9432ff",
   "metadata": {
    "papermill": {
     "duration": 0.010535,
     "end_time": "2023-10-12T18:22:44.086220",
     "exception": false,
     "start_time": "2023-10-12T18:22:44.075685",
     "status": "completed"
    },
    "tags": []
   },
   "source": [
    "## Gender Distribution of Customers"
   ]
  },
  {
   "cell_type": "code",
   "execution_count": 10,
   "id": "a187ffbe",
   "metadata": {
    "execution": {
     "iopub.execute_input": "2023-10-12T18:22:44.107588Z",
     "iopub.status.busy": "2023-10-12T18:22:44.107007Z",
     "iopub.status.idle": "2023-10-12T18:22:44.179274Z",
     "shell.execute_reply": "2023-10-12T18:22:44.178079Z"
    },
    "papermill": {
     "duration": 0.085801,
     "end_time": "2023-10-12T18:22:44.181508",
     "exception": false,
     "start_time": "2023-10-12T18:22:44.095707",
     "status": "completed"
    },
    "tags": []
   },
   "outputs": [],
   "source": [
    "gender_counts = df['Gender'].value_counts()"
   ]
  },
  {
   "cell_type": "markdown",
   "id": "c9d12ef3",
   "metadata": {
    "papermill": {
     "duration": 0.009517,
     "end_time": "2023-10-12T18:22:44.201152",
     "exception": false,
     "start_time": "2023-10-12T18:22:44.191635",
     "status": "completed"
    },
    "tags": []
   },
   "source": [
    "## What is the Purchase Distribution as per Category?\n"
   ]
  },
  {
   "cell_type": "code",
   "execution_count": 11,
   "id": "a96f2cca",
   "metadata": {
    "execution": {
     "iopub.execute_input": "2023-10-12T18:22:44.222878Z",
     "iopub.status.busy": "2023-10-12T18:22:44.222470Z",
     "iopub.status.idle": "2023-10-12T18:22:44.268814Z",
     "shell.execute_reply": "2023-10-12T18:22:44.268071Z"
    },
    "papermill": {
     "duration": 0.059473,
     "end_time": "2023-10-12T18:22:44.270807",
     "exception": false,
     "start_time": "2023-10-12T18:22:44.211334",
     "status": "completed"
    },
    "tags": []
   },
   "outputs": [],
   "source": [
    "category_data = df['Category'].value_counts()"
   ]
  },
  {
   "cell_type": "code",
   "execution_count": 12,
   "id": "faf751fc",
   "metadata": {
    "execution": {
     "iopub.execute_input": "2023-10-12T18:22:44.293064Z",
     "iopub.status.busy": "2023-10-12T18:22:44.292013Z",
     "iopub.status.idle": "2023-10-12T18:22:44.297655Z",
     "shell.execute_reply": "2023-10-12T18:22:44.296939Z"
    },
    "papermill": {
     "duration": 0.018539,
     "end_time": "2023-10-12T18:22:44.299364",
     "exception": false,
     "start_time": "2023-10-12T18:22:44.280825",
     "status": "completed"
    },
    "tags": []
   },
   "outputs": [
    {
     "data": {
      "text/plain": [
       "Index(['Customer ID', 'Age', 'Gender', 'Item Purchased', 'Category',\n",
       "       'Purchase Amount (USD)', 'Location', 'Size', 'Color', 'Season',\n",
       "       'Review Rating', 'Subscription Status', 'Shipping Type',\n",
       "       'Discount Applied', 'Promo Code Used', 'Previous Purchases',\n",
       "       'Payment Method', 'Frequency of Purchases'],\n",
       "      dtype='object')"
      ]
     },
     "execution_count": 12,
     "metadata": {},
     "output_type": "execute_result"
    }
   ],
   "source": [
    "df.columns"
   ]
  },
  {
   "cell_type": "markdown",
   "id": "83c5b4f0",
   "metadata": {
    "papermill": {
     "duration": 0.009474,
     "end_time": "2023-10-12T18:22:44.318976",
     "exception": false,
     "start_time": "2023-10-12T18:22:44.309502",
     "status": "completed"
    },
    "tags": []
   },
   "source": [
    "## Wich is the Highest and the Lowest selling Item ?"
   ]
  },
  {
   "cell_type": "code",
   "execution_count": 13,
   "id": "4261b0db",
   "metadata": {
    "execution": {
     "iopub.execute_input": "2023-10-12T18:22:44.341135Z",
     "iopub.status.busy": "2023-10-12T18:22:44.340614Z",
     "iopub.status.idle": "2023-10-12T18:22:44.411825Z",
     "shell.execute_reply": "2023-10-12T18:22:44.410746Z"
    },
    "papermill": {
     "duration": 0.085191,
     "end_time": "2023-10-12T18:22:44.414081",
     "exception": false,
     "start_time": "2023-10-12T18:22:44.328890",
     "status": "completed"
    },
    "tags": []
   },
   "outputs": [],
   "source": [
    "sold_items = df['Item Purchased'].value_counts().sort_values(ascending = False)\n"
   ]
  },
  {
   "cell_type": "markdown",
   "id": "56f51828",
   "metadata": {
    "papermill": {
     "duration": 0.010598,
     "end_time": "2023-10-12T18:22:44.435232",
     "exception": false,
     "start_time": "2023-10-12T18:22:44.424634",
     "status": "completed"
    },
    "tags": []
   },
   "source": [
    "## Items Purchased by respective Genders"
   ]
  },
  {
   "cell_type": "markdown",
   "id": "b8f79f7b",
   "metadata": {
    "papermill": {
     "duration": 0.010021,
     "end_time": "2023-10-12T18:22:44.455839",
     "exception": false,
     "start_time": "2023-10-12T18:22:44.445818",
     "status": "completed"
    },
    "tags": []
   },
   "source": []
  },
  {
   "cell_type": "code",
   "execution_count": 14,
   "id": "cd4c0261",
   "metadata": {
    "execution": {
     "iopub.execute_input": "2023-10-12T18:22:44.478155Z",
     "iopub.status.busy": "2023-10-12T18:22:44.477780Z",
     "iopub.status.idle": "2023-10-12T18:22:44.555034Z",
     "shell.execute_reply": "2023-10-12T18:22:44.553949Z"
    },
    "papermill": {
     "duration": 0.091214,
     "end_time": "2023-10-12T18:22:44.557186",
     "exception": false,
     "start_time": "2023-10-12T18:22:44.465972",
     "status": "completed"
    },
    "tags": []
   },
   "outputs": [],
   "source": [
    "var = df.groupby(['Item Purchased', 'Gender']).size().reset_index(name='Customer Count')\n",
    "sorted_var = var.sort_values(by='Item Purchased', ascending=False)"
   ]
  },
  {
   "cell_type": "markdown",
   "id": "5476c099",
   "metadata": {
    "papermill": {
     "duration": 0.010538,
     "end_time": "2023-10-12T18:22:44.578323",
     "exception": false,
     "start_time": "2023-10-12T18:22:44.567785",
     "status": "completed"
    },
    "tags": []
   },
   "source": [
    "## Which category generates the maximum sales?"
   ]
  },
  {
   "cell_type": "code",
   "execution_count": 15,
   "id": "e3caab87",
   "metadata": {
    "execution": {
     "iopub.execute_input": "2023-10-12T18:22:44.601692Z",
     "iopub.status.busy": "2023-10-12T18:22:44.601278Z",
     "iopub.status.idle": "2023-10-12T18:22:44.652685Z",
     "shell.execute_reply": "2023-10-12T18:22:44.651508Z"
    },
    "papermill": {
     "duration": 0.065769,
     "end_time": "2023-10-12T18:22:44.654874",
     "exception": false,
     "start_time": "2023-10-12T18:22:44.589105",
     "status": "completed"
    },
    "tags": []
   },
   "outputs": [],
   "source": [
    "var = df.groupby('Category')['Purchase Amount (USD)'].sum().reset_index().sort_values(by='Purchase Amount (USD)',ascending=False)"
   ]
  },
  {
   "cell_type": "markdown",
   "id": "145ae8fd",
   "metadata": {
    "papermill": {
     "duration": 0.010583,
     "end_time": "2023-10-12T18:22:44.676903",
     "exception": false,
     "start_time": "2023-10-12T18:22:44.666320",
     "status": "completed"
    },
    "tags": []
   },
   "source": [
    "## Which TOP 10 locations generates the Maximum sales?"
   ]
  },
  {
   "cell_type": "code",
   "execution_count": 16,
   "id": "92b9b3eb",
   "metadata": {
    "execution": {
     "iopub.execute_input": "2023-10-12T18:22:44.701033Z",
     "iopub.status.busy": "2023-10-12T18:22:44.700639Z",
     "iopub.status.idle": "2023-10-12T18:22:44.751733Z",
     "shell.execute_reply": "2023-10-12T18:22:44.750766Z"
    },
    "papermill": {
     "duration": 0.065156,
     "end_time": "2023-10-12T18:22:44.753721",
     "exception": false,
     "start_time": "2023-10-12T18:22:44.688565",
     "status": "completed"
    },
    "tags": []
   },
   "outputs": [],
   "source": [
    "var = df.groupby('Location')['Purchase Amount (USD)'].sum().reset_index().sort_values(by='Purchase Amount (USD)',ascending=False).head(10)"
   ]
  },
  {
   "cell_type": "markdown",
   "id": "33965fd4",
   "metadata": {
    "papermill": {
     "duration": 0.010882,
     "end_time": "2023-10-12T18:22:44.775675",
     "exception": false,
     "start_time": "2023-10-12T18:22:44.764793",
     "status": "completed"
    },
    "tags": []
   },
   "source": [
    "## Which Size was mostly preffered by the customers?"
   ]
  },
  {
   "cell_type": "code",
   "execution_count": 17,
   "id": "fb2e734a",
   "metadata": {
    "execution": {
     "iopub.execute_input": "2023-10-12T18:22:44.799378Z",
     "iopub.status.busy": "2023-10-12T18:22:44.798988Z",
     "iopub.status.idle": "2023-10-12T18:22:44.859993Z",
     "shell.execute_reply": "2023-10-12T18:22:44.858805Z"
    },
    "papermill": {
     "duration": 0.076786,
     "end_time": "2023-10-12T18:22:44.863304",
     "exception": false,
     "start_time": "2023-10-12T18:22:44.786518",
     "status": "completed"
    },
    "tags": []
   },
   "outputs": [],
   "source": [
    "size_count = df['Size'].value_counts()"
   ]
  },
  {
   "cell_type": "markdown",
   "id": "f175c0be",
   "metadata": {
    "papermill": {
     "duration": 0.01193,
     "end_time": "2023-10-12T18:22:44.893048",
     "exception": false,
     "start_time": "2023-10-12T18:22:44.881118",
     "status": "completed"
    },
    "tags": []
   },
   "source": [
    "## What TOP 10 colors were preffered by the customers?"
   ]
  },
  {
   "cell_type": "code",
   "execution_count": 18,
   "id": "18302a48",
   "metadata": {
    "execution": {
     "iopub.execute_input": "2023-10-12T18:22:44.925001Z",
     "iopub.status.busy": "2023-10-12T18:22:44.924646Z",
     "iopub.status.idle": "2023-10-12T18:22:44.975556Z",
     "shell.execute_reply": "2023-10-12T18:22:44.974469Z"
    },
    "papermill": {
     "duration": 0.068871,
     "end_time": "2023-10-12T18:22:44.977741",
     "exception": false,
     "start_time": "2023-10-12T18:22:44.908870",
     "status": "completed"
    },
    "tags": []
   },
   "outputs": [],
   "source": [
    "color_count = df['Color'].value_counts().head(10)"
   ]
  },
  {
   "cell_type": "code",
   "execution_count": 19,
   "id": "2bb7ab85",
   "metadata": {
    "execution": {
     "iopub.execute_input": "2023-10-12T18:22:45.002836Z",
     "iopub.status.busy": "2023-10-12T18:22:45.002450Z",
     "iopub.status.idle": "2023-10-12T18:22:45.009560Z",
     "shell.execute_reply": "2023-10-12T18:22:45.008252Z"
    },
    "papermill": {
     "duration": 0.022422,
     "end_time": "2023-10-12T18:22:45.011724",
     "exception": false,
     "start_time": "2023-10-12T18:22:44.989302",
     "status": "completed"
    },
    "tags": []
   },
   "outputs": [
    {
     "data": {
      "text/plain": [
       "Index(['Customer ID', 'Age', 'Gender', 'Item Purchased', 'Category',\n",
       "       'Purchase Amount (USD)', 'Location', 'Size', 'Color', 'Season',\n",
       "       'Review Rating', 'Subscription Status', 'Shipping Type',\n",
       "       'Discount Applied', 'Promo Code Used', 'Previous Purchases',\n",
       "       'Payment Method', 'Frequency of Purchases'],\n",
       "      dtype='object')"
      ]
     },
     "execution_count": 19,
     "metadata": {},
     "output_type": "execute_result"
    }
   ],
   "source": [
    "df.columns"
   ]
  },
  {
   "cell_type": "markdown",
   "id": "02924c64",
   "metadata": {
    "papermill": {
     "duration": 0.012075,
     "end_time": "2023-10-12T18:22:45.040427",
     "exception": false,
     "start_time": "2023-10-12T18:22:45.028352",
     "status": "completed"
    },
    "tags": []
   },
   "source": [
    "## Number of customers distribution over the different seasons"
   ]
  },
  {
   "cell_type": "code",
   "execution_count": 20,
   "id": "6d019f92",
   "metadata": {
    "execution": {
     "iopub.execute_input": "2023-10-12T18:22:45.073789Z",
     "iopub.status.busy": "2023-10-12T18:22:45.072841Z",
     "iopub.status.idle": "2023-10-12T18:22:45.124779Z",
     "shell.execute_reply": "2023-10-12T18:22:45.123924Z"
    },
    "papermill": {
     "duration": 0.073795,
     "end_time": "2023-10-12T18:22:45.126693",
     "exception": false,
     "start_time": "2023-10-12T18:22:45.052898",
     "status": "completed"
    },
    "tags": []
   },
   "outputs": [],
   "source": [
    "season_data = df['Season'].value_counts()"
   ]
  },
  {
   "cell_type": "markdown",
   "id": "7a3098ac",
   "metadata": {
    "papermill": {
     "duration": 0.01385,
     "end_time": "2023-10-12T18:22:45.153524",
     "exception": false,
     "start_time": "2023-10-12T18:22:45.139674",
     "status": "completed"
    },
    "tags": []
   },
   "source": [
    "## How many customers had the subscription?"
   ]
  },
  {
   "cell_type": "code",
   "execution_count": 21,
   "id": "f763b8a8",
   "metadata": {
    "execution": {
     "iopub.execute_input": "2023-10-12T18:22:45.182558Z",
     "iopub.status.busy": "2023-10-12T18:22:45.181316Z",
     "iopub.status.idle": "2023-10-12T18:22:45.240433Z",
     "shell.execute_reply": "2023-10-12T18:22:45.239217Z"
    },
    "papermill": {
     "duration": 0.074772,
     "end_time": "2023-10-12T18:22:45.242604",
     "exception": false,
     "start_time": "2023-10-12T18:22:45.167832",
     "status": "completed"
    },
    "tags": []
   },
   "outputs": [],
   "source": [
    "subs_count = df['Subscription Status'].value_counts()"
   ]
  },
  {
   "cell_type": "code",
   "execution_count": 22,
   "id": "d4c4fc81",
   "metadata": {
    "execution": {
     "iopub.execute_input": "2023-10-12T18:22:45.269705Z",
     "iopub.status.busy": "2023-10-12T18:22:45.269022Z",
     "iopub.status.idle": "2023-10-12T18:22:45.322691Z",
     "shell.execute_reply": "2023-10-12T18:22:45.321805Z"
    },
    "papermill": {
     "duration": 0.069561,
     "end_time": "2023-10-12T18:22:45.325160",
     "exception": false,
     "start_time": "2023-10-12T18:22:45.255599",
     "status": "completed"
    },
    "tags": []
   },
   "outputs": [],
   "source": [
    "shipping_count = df['Shipping Type'].value_counts()"
   ]
  },
  {
   "cell_type": "code",
   "execution_count": 23,
   "id": "5ace542e",
   "metadata": {
    "execution": {
     "iopub.execute_input": "2023-10-12T18:22:45.352765Z",
     "iopub.status.busy": "2023-10-12T18:22:45.351817Z",
     "iopub.status.idle": "2023-10-12T18:22:45.403570Z",
     "shell.execute_reply": "2023-10-12T18:22:45.402451Z"
    },
    "papermill": {
     "duration": 0.067672,
     "end_time": "2023-10-12T18:22:45.405790",
     "exception": false,
     "start_time": "2023-10-12T18:22:45.338118",
     "status": "completed"
    },
    "tags": []
   },
   "outputs": [],
   "source": [
    "disc_count = df['Discount Applied'].value_counts()"
   ]
  },
  {
   "cell_type": "code",
   "execution_count": 24,
   "id": "a788f89f",
   "metadata": {
    "execution": {
     "iopub.execute_input": "2023-10-12T18:22:45.432589Z",
     "iopub.status.busy": "2023-10-12T18:22:45.432202Z",
     "iopub.status.idle": "2023-10-12T18:22:45.438965Z",
     "shell.execute_reply": "2023-10-12T18:22:45.437862Z"
    },
    "papermill": {
     "duration": 0.022412,
     "end_time": "2023-10-12T18:22:45.441227",
     "exception": false,
     "start_time": "2023-10-12T18:22:45.418815",
     "status": "completed"
    },
    "tags": []
   },
   "outputs": [
    {
     "data": {
      "text/plain": [
       "Index(['Customer ID', 'Age', 'Gender', 'Item Purchased', 'Category',\n",
       "       'Purchase Amount (USD)', 'Location', 'Size', 'Color', 'Season',\n",
       "       'Review Rating', 'Subscription Status', 'Shipping Type',\n",
       "       'Discount Applied', 'Promo Code Used', 'Previous Purchases',\n",
       "       'Payment Method', 'Frequency of Purchases'],\n",
       "      dtype='object')"
      ]
     },
     "execution_count": 24,
     "metadata": {},
     "output_type": "execute_result"
    }
   ],
   "source": [
    "df.columns"
   ]
  },
  {
   "cell_type": "markdown",
   "id": "41248b0b",
   "metadata": {
    "papermill": {
     "duration": 0.012417,
     "end_time": "2023-10-12T18:22:45.466521",
     "exception": false,
     "start_time": "2023-10-12T18:22:45.454104",
     "status": "completed"
    },
    "tags": []
   },
   "source": []
  },
  {
   "cell_type": "code",
   "execution_count": 25,
   "id": "1330e948",
   "metadata": {
    "execution": {
     "iopub.execute_input": "2023-10-12T18:22:45.493264Z",
     "iopub.status.busy": "2023-10-12T18:22:45.492720Z",
     "iopub.status.idle": "2023-10-12T18:22:45.500177Z",
     "shell.execute_reply": "2023-10-12T18:22:45.498986Z"
    },
    "papermill": {
     "duration": 0.023779,
     "end_time": "2023-10-12T18:22:45.502538",
     "exception": false,
     "start_time": "2023-10-12T18:22:45.478759",
     "status": "completed"
    },
    "tags": []
   },
   "outputs": [
    {
     "data": {
      "text/plain": [
       "No     2223\n",
       "Yes    1677\n",
       "Name: Promo Code Used, dtype: int64"
      ]
     },
     "execution_count": 25,
     "metadata": {},
     "output_type": "execute_result"
    }
   ],
   "source": [
    "df['Promo Code Used'].value_counts()"
   ]
  }
 ],
 "metadata": {
  "kernelspec": {
   "display_name": "Python 3 (ipykernel)",
   "language": "python",
   "name": "python3"
  },
  "language_info": {
   "codemirror_mode": {
    "name": "ipython",
    "version": 3
   },
   "file_extension": ".py",
   "mimetype": "text/x-python",
   "name": "python",
   "nbconvert_exporter": "python",
   "pygments_lexer": "ipython3",
   "version": "3.9.13"
  },
  "papermill": {
   "default_parameters": {},
   "duration": 10.951796,
   "end_time": "2023-10-12T18:22:46.265822",
   "environment_variables": {},
   "exception": null,
   "input_path": "__notebook__.ipynb",
   "output_path": "__notebook__.ipynb",
   "parameters": {},
   "start_time": "2023-10-12T18:22:35.314026",
   "version": "2.4.0"
  }
 },
 "nbformat": 4,
 "nbformat_minor": 5
}
