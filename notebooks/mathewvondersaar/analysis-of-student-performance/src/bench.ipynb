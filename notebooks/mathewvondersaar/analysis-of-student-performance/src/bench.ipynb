{
 "cells": [
  {
   "cell_type": "code",
   "execution_count": 1,
   "id": "204502b2",
   "metadata": {
    "_cell_guid": "b1076dfc-b9ad-4769-8c92-a6c4dae69d19",
    "_uuid": "8f2839f25d086af736a60e9eeb907d3b93b6e0e5",
    "execution": {
     "iopub.execute_input": "2023-09-07T16:28:49.819005Z",
     "iopub.status.busy": "2023-09-07T16:28:49.818362Z",
     "iopub.status.idle": "2023-09-07T16:28:51.237752Z",
     "shell.execute_reply": "2023-09-07T16:28:51.236488Z"
    },
    "papermill": {
     "duration": 1.431501,
     "end_time": "2023-09-07T16:28:51.240336",
     "exception": false,
     "start_time": "2023-09-07T16:28:49.808835",
     "status": "completed"
    },
    "tags": []
   },
   "outputs": [
    {
     "name": "stdout",
     "output_type": "stream",
     "text": [
      "../input/.DS_Store\n",
      "../input/StudentsPerformance_with_headers.csv\n",
      "../input/highereducationstudentsperformanceevaluation/DATA (1).csv\n"
     ]
    }
   ],
   "source": [
    "# This Python 3 environment comes with many helpful analytics libraries installed\n",
    "# It is defined by the kaggle/python Docker image: https://github.com/kaggle/docker-python\n",
    "# For example, here's several helpful packages to load\n",
    "\n",
    "import numpy as np # linear algebra\n",
    "import pandas as pd # data processing, CSV file I/O (e.g. pd.read_csv)\n",
    "# Input data files are available in the read-only \"../input/\" directory\n",
    "# For example, running this (by clicking run or pressing Shift+Enter) will list all files under the input directory\n",
    "\n",
    "import os\n",
    "for dirname, _, filenames in os.walk('../input'):\n",
    "    for filename in filenames:\n",
    "        print(os.path.join(dirname, filename))\n",
    "\n",
    "# You can write up to 20GB to the current directory (/kaggle/working/) that gets preserved as output when you create a version using \"Save & Run All\" \n",
    "# You can also write temporary files to /kaggle/temp/, but they won't be saved outside of the current session"
   ]
  },
  {
   "cell_type": "code",
   "execution_count": 2,
   "id": "2fd2b8ed",
   "metadata": {
    "execution": {
     "iopub.execute_input": "2023-09-07T16:28:51.257720Z",
     "iopub.status.busy": "2023-09-07T16:28:51.257107Z",
     "iopub.status.idle": "2023-09-07T16:28:51.301204Z",
     "shell.execute_reply": "2023-09-07T16:28:51.300105Z"
    },
    "papermill": {
     "duration": 0.05521,
     "end_time": "2023-09-07T16:28:51.303485",
     "exception": false,
     "start_time": "2023-09-07T16:28:51.248275",
     "status": "completed"
    },
    "tags": []
   },
   "outputs": [
    {
     "data": {
      "text/html": [
       "<div>\n",
       "<style scoped>\n",
       "    .dataframe tbody tr th:only-of-type {\n",
       "        vertical-align: middle;\n",
       "    }\n",
       "\n",
       "    .dataframe tbody tr th {\n",
       "        vertical-align: top;\n",
       "    }\n",
       "\n",
       "    .dataframe thead th {\n",
       "        text-align: right;\n",
       "    }\n",
       "</style>\n",
       "<table border=\"1\" class=\"dataframe\">\n",
       "  <thead>\n",
       "    <tr style=\"text-align: right;\">\n",
       "      <th></th>\n",
       "      <th>STUDENT ID</th>\n",
       "      <th>1</th>\n",
       "      <th>2</th>\n",
       "      <th>3</th>\n",
       "      <th>4</th>\n",
       "      <th>5</th>\n",
       "      <th>6</th>\n",
       "      <th>7</th>\n",
       "      <th>8</th>\n",
       "      <th>9</th>\n",
       "      <th>...</th>\n",
       "      <th>23</th>\n",
       "      <th>24</th>\n",
       "      <th>25</th>\n",
       "      <th>26</th>\n",
       "      <th>27</th>\n",
       "      <th>28</th>\n",
       "      <th>29</th>\n",
       "      <th>30</th>\n",
       "      <th>COURSE ID</th>\n",
       "      <th>GRADE</th>\n",
       "    </tr>\n",
       "  </thead>\n",
       "  <tbody>\n",
       "    <tr>\n",
       "      <th>0</th>\n",
       "      <td>STUDENT1</td>\n",
       "      <td>2</td>\n",
       "      <td>2</td>\n",
       "      <td>3</td>\n",
       "      <td>3</td>\n",
       "      <td>1</td>\n",
       "      <td>2</td>\n",
       "      <td>2</td>\n",
       "      <td>1</td>\n",
       "      <td>1</td>\n",
       "      <td>...</td>\n",
       "      <td>1</td>\n",
       "      <td>1</td>\n",
       "      <td>3</td>\n",
       "      <td>2</td>\n",
       "      <td>1</td>\n",
       "      <td>2</td>\n",
       "      <td>1</td>\n",
       "      <td>1</td>\n",
       "      <td>1</td>\n",
       "      <td>1</td>\n",
       "    </tr>\n",
       "    <tr>\n",
       "      <th>1</th>\n",
       "      <td>STUDENT2</td>\n",
       "      <td>2</td>\n",
       "      <td>2</td>\n",
       "      <td>3</td>\n",
       "      <td>3</td>\n",
       "      <td>1</td>\n",
       "      <td>2</td>\n",
       "      <td>2</td>\n",
       "      <td>1</td>\n",
       "      <td>1</td>\n",
       "      <td>...</td>\n",
       "      <td>1</td>\n",
       "      <td>1</td>\n",
       "      <td>3</td>\n",
       "      <td>2</td>\n",
       "      <td>3</td>\n",
       "      <td>2</td>\n",
       "      <td>2</td>\n",
       "      <td>3</td>\n",
       "      <td>1</td>\n",
       "      <td>1</td>\n",
       "    </tr>\n",
       "    <tr>\n",
       "      <th>2</th>\n",
       "      <td>STUDENT3</td>\n",
       "      <td>2</td>\n",
       "      <td>2</td>\n",
       "      <td>2</td>\n",
       "      <td>3</td>\n",
       "      <td>2</td>\n",
       "      <td>2</td>\n",
       "      <td>2</td>\n",
       "      <td>2</td>\n",
       "      <td>4</td>\n",
       "      <td>...</td>\n",
       "      <td>1</td>\n",
       "      <td>1</td>\n",
       "      <td>2</td>\n",
       "      <td>2</td>\n",
       "      <td>1</td>\n",
       "      <td>1</td>\n",
       "      <td>2</td>\n",
       "      <td>2</td>\n",
       "      <td>1</td>\n",
       "      <td>1</td>\n",
       "    </tr>\n",
       "    <tr>\n",
       "      <th>3</th>\n",
       "      <td>STUDENT4</td>\n",
       "      <td>1</td>\n",
       "      <td>1</td>\n",
       "      <td>1</td>\n",
       "      <td>3</td>\n",
       "      <td>1</td>\n",
       "      <td>2</td>\n",
       "      <td>1</td>\n",
       "      <td>2</td>\n",
       "      <td>1</td>\n",
       "      <td>...</td>\n",
       "      <td>1</td>\n",
       "      <td>2</td>\n",
       "      <td>3</td>\n",
       "      <td>2</td>\n",
       "      <td>2</td>\n",
       "      <td>1</td>\n",
       "      <td>3</td>\n",
       "      <td>2</td>\n",
       "      <td>1</td>\n",
       "      <td>1</td>\n",
       "    </tr>\n",
       "    <tr>\n",
       "      <th>4</th>\n",
       "      <td>STUDENT5</td>\n",
       "      <td>2</td>\n",
       "      <td>2</td>\n",
       "      <td>1</td>\n",
       "      <td>3</td>\n",
       "      <td>2</td>\n",
       "      <td>2</td>\n",
       "      <td>1</td>\n",
       "      <td>3</td>\n",
       "      <td>1</td>\n",
       "      <td>...</td>\n",
       "      <td>2</td>\n",
       "      <td>1</td>\n",
       "      <td>2</td>\n",
       "      <td>2</td>\n",
       "      <td>2</td>\n",
       "      <td>1</td>\n",
       "      <td>2</td>\n",
       "      <td>2</td>\n",
       "      <td>1</td>\n",
       "      <td>1</td>\n",
       "    </tr>\n",
       "  </tbody>\n",
       "</table>\n",
       "<p>5 rows × 33 columns</p>\n",
       "</div>"
      ],
      "text/plain": [
       "  STUDENT ID  1  2  3  4  5  6  7  8  9  ...  23  24  25  26  27  28  29  30  \\\n",
       "0   STUDENT1  2  2  3  3  1  2  2  1  1  ...   1   1   3   2   1   2   1   1   \n",
       "1   STUDENT2  2  2  3  3  1  2  2  1  1  ...   1   1   3   2   3   2   2   3   \n",
       "2   STUDENT3  2  2  2  3  2  2  2  2  4  ...   1   1   2   2   1   1   2   2   \n",
       "3   STUDENT4  1  1  1  3  1  2  1  2  1  ...   1   2   3   2   2   1   3   2   \n",
       "4   STUDENT5  2  2  1  3  2  2  1  3  1  ...   2   1   2   2   2   1   2   2   \n",
       "\n",
       "   COURSE ID  GRADE  \n",
       "0          1      1  \n",
       "1          1      1  \n",
       "2          1      1  \n",
       "3          1      1  \n",
       "4          1      1  \n",
       "\n",
       "[5 rows x 33 columns]"
      ]
     },
     "execution_count": 2,
     "metadata": {},
     "output_type": "execute_result"
    }
   ],
   "source": [
    "df = pd.read_csv('../input/highereducationstudentsperformanceevaluation/DATA (1).csv')\n",
    "df.head()"
   ]
  },
  {
   "cell_type": "code",
   "execution_count": 3,
   "id": "a333ca08",
   "metadata": {},
   "outputs": [
    {
     "name": "stdout",
     "output_type": "stream",
     "text": [
      "<class 'pandas.core.frame.DataFrame'>\n",
      "RangeIndex: 1013405 entries, 0 to 1013404\n",
      "Data columns (total 33 columns):\n",
      " #   Column      Non-Null Count    Dtype \n",
      "---  ------      --------------    ----- \n",
      " 0   STUDENT ID  1013405 non-null  object\n",
      " 1   1           1013405 non-null  int64 \n",
      " 2   2           1013405 non-null  int64 \n",
      " 3   3           1013405 non-null  int64 \n",
      " 4   4           1013405 non-null  int64 \n",
      " 5   5           1013405 non-null  int64 \n",
      " 6   6           1013405 non-null  int64 \n",
      " 7   7           1013405 non-null  int64 \n",
      " 8   8           1013405 non-null  int64 \n",
      " 9   9           1013405 non-null  int64 \n",
      " 10  10          1013405 non-null  int64 \n",
      " 11  11          1013405 non-null  int64 \n",
      " 12  12          1013405 non-null  int64 \n",
      " 13  13          1013405 non-null  int64 \n",
      " 14  14          1013405 non-null  int64 \n",
      " 15  15          1013405 non-null  int64 \n",
      " 16  16          1013405 non-null  int64 \n",
      " 17  17          1013405 non-null  int64 \n",
      " 18  18          1013405 non-null  int64 \n",
      " 19  19          1013405 non-null  int64 \n",
      " 20  20          1013405 non-null  int64 \n",
      " 21  21          1013405 non-null  int64 \n",
      " 22  22          1013405 non-null  int64 \n",
      " 23  23          1013405 non-null  int64 \n",
      " 24  24          1013405 non-null  int64 \n",
      " 25  25          1013405 non-null  int64 \n",
      " 26  26          1013405 non-null  int64 \n",
      " 27  27          1013405 non-null  int64 \n",
      " 28  28          1013405 non-null  int64 \n",
      " 29  29          1013405 non-null  int64 \n",
      " 30  30          1013405 non-null  int64 \n",
      " 31  COURSE ID   1013405 non-null  int64 \n",
      " 32  GRADE       1013405 non-null  int64 \n",
      "dtypes: int64(32), object(1)\n",
      "memory usage: 255.1+ MB\n"
     ]
    }
   ],
   "source": [
    "df = df\n",
    "intended_df_size_in_MB = 256\n",
    "factor = intended_df_size_in_MB*(2**20)//df.memory_usage(index=True).sum()\n",
    "if factor > 0:\n",
    "    df = pd.concat([df]*factor, ignore_index=True)\n",
    "df = df\n",
    "df.info()"
   ]
  },
  {
   "cell_type": "code",
   "execution_count": 3,
   "id": "1d6d7009",
   "metadata": {
    "execution": {
     "iopub.execute_input": "2023-09-07T16:28:51.320737Z",
     "iopub.status.busy": "2023-09-07T16:28:51.320293Z",
     "iopub.status.idle": "2023-09-07T16:28:51.326815Z",
     "shell.execute_reply": "2023-09-07T16:28:51.325747Z"
    },
    "papermill": {
     "duration": 0.017647,
     "end_time": "2023-09-07T16:28:51.329089",
     "exception": false,
     "start_time": "2023-09-07T16:28:51.311442",
     "status": "completed"
    },
    "tags": []
   },
   "outputs": [
    {
     "data": {
      "text/plain": [
       "(145, 33)"
      ]
     },
     "execution_count": 3,
     "metadata": {},
     "output_type": "execute_result"
    }
   ],
   "source": [
    "df.shape"
   ]
  },
  {
   "cell_type": "code",
   "execution_count": 4,
   "id": "43a1efa0",
   "metadata": {
    "execution": {
     "iopub.execute_input": "2023-09-07T16:28:51.346715Z",
     "iopub.status.busy": "2023-09-07T16:28:51.346362Z",
     "iopub.status.idle": "2023-09-07T16:28:51.373197Z",
     "shell.execute_reply": "2023-09-07T16:28:51.371098Z"
    },
    "papermill": {
     "duration": 0.038661,
     "end_time": "2023-09-07T16:28:51.375734",
     "exception": false,
     "start_time": "2023-09-07T16:28:51.337073",
     "status": "completed"
    },
    "tags": []
   },
   "outputs": [
    {
     "name": "stdout",
     "output_type": "stream",
     "text": [
      "<class 'pandas.core.frame.DataFrame'>\n",
      "RangeIndex: 145 entries, 0 to 144\n",
      "Data columns (total 33 columns):\n",
      " #   Column      Non-Null Count  Dtype \n",
      "---  ------      --------------  ----- \n",
      " 0   STUDENT ID  145 non-null    object\n",
      " 1   1           145 non-null    int64 \n",
      " 2   2           145 non-null    int64 \n",
      " 3   3           145 non-null    int64 \n",
      " 4   4           145 non-null    int64 \n",
      " 5   5           145 non-null    int64 \n",
      " 6   6           145 non-null    int64 \n",
      " 7   7           145 non-null    int64 \n",
      " 8   8           145 non-null    int64 \n",
      " 9   9           145 non-null    int64 \n",
      " 10  10          145 non-null    int64 \n",
      " 11  11          145 non-null    int64 \n",
      " 12  12          145 non-null    int64 \n",
      " 13  13          145 non-null    int64 \n",
      " 14  14          145 non-null    int64 \n",
      " 15  15          145 non-null    int64 \n",
      " 16  16          145 non-null    int64 \n",
      " 17  17          145 non-null    int64 \n",
      " 18  18          145 non-null    int64 \n",
      " 19  19          145 non-null    int64 \n",
      " 20  20          145 non-null    int64 \n",
      " 21  21          145 non-null    int64 \n",
      " 22  22          145 non-null    int64 \n",
      " 23  23          145 non-null    int64 \n",
      " 24  24          145 non-null    int64 \n",
      " 25  25          145 non-null    int64 \n",
      " 26  26          145 non-null    int64 \n",
      " 27  27          145 non-null    int64 \n",
      " 28  28          145 non-null    int64 \n",
      " 29  29          145 non-null    int64 \n",
      " 30  30          145 non-null    int64 \n",
      " 31  COURSE ID   145 non-null    int64 \n",
      " 32  GRADE       145 non-null    int64 \n",
      "dtypes: int64(32), object(1)\n",
      "memory usage: 37.5+ KB\n"
     ]
    }
   ],
   "source": [
    "df.info()"
   ]
  },
  {
   "cell_type": "markdown",
   "id": "5887c0aa",
   "metadata": {
    "papermill": {
     "duration": 0.00771,
     "end_time": "2023-09-07T16:28:51.392788",
     "exception": false,
     "start_time": "2023-09-07T16:28:51.385078",
     "status": "completed"
    },
    "tags": []
   },
   "source": [
    "### Names\n",
    "Due to all the names of these data-points being hidden behind ascending integers, were gonna grab and rename a handful of values I think are interesting. "
   ]
  },
  {
   "cell_type": "code",
   "execution_count": 5,
   "id": "9d6db37b",
   "metadata": {
    "execution": {
     "iopub.execute_input": "2023-09-07T16:28:51.410504Z",
     "iopub.status.busy": "2023-09-07T16:28:51.409873Z",
     "iopub.status.idle": "2023-09-07T16:28:51.422762Z",
     "shell.execute_reply": "2023-09-07T16:28:51.421654Z"
    },
    "papermill": {
     "duration": 0.024679,
     "end_time": "2023-09-07T16:28:51.425451",
     "exception": false,
     "start_time": "2023-09-07T16:28:51.400772",
     "status": "completed"
    },
    "tags": []
   },
   "outputs": [
    {
     "data": {
      "text/html": [
       "<div>\n",
       "<style scoped>\n",
       "    .dataframe tbody tr th:only-of-type {\n",
       "        vertical-align: middle;\n",
       "    }\n",
       "\n",
       "    .dataframe tbody tr th {\n",
       "        vertical-align: top;\n",
       "    }\n",
       "\n",
       "    .dataframe thead th {\n",
       "        text-align: right;\n",
       "    }\n",
       "</style>\n",
       "<table border=\"1\" class=\"dataframe\">\n",
       "  <thead>\n",
       "    <tr style=\"text-align: right;\">\n",
       "      <th></th>\n",
       "      <th>AGE</th>\n",
       "      <th>SINGLE</th>\n",
       "      <th>NOTETAKING</th>\n",
       "      <th>GPA</th>\n",
       "      <th>GRADE</th>\n",
       "    </tr>\n",
       "  </thead>\n",
       "  <tbody>\n",
       "    <tr>\n",
       "      <th>0</th>\n",
       "      <td>2</td>\n",
       "      <td>2</td>\n",
       "      <td>3</td>\n",
       "      <td>1</td>\n",
       "      <td>1</td>\n",
       "    </tr>\n",
       "    <tr>\n",
       "      <th>1</th>\n",
       "      <td>2</td>\n",
       "      <td>2</td>\n",
       "      <td>3</td>\n",
       "      <td>3</td>\n",
       "      <td>1</td>\n",
       "    </tr>\n",
       "    <tr>\n",
       "      <th>2</th>\n",
       "      <td>2</td>\n",
       "      <td>2</td>\n",
       "      <td>2</td>\n",
       "      <td>2</td>\n",
       "      <td>1</td>\n",
       "    </tr>\n",
       "    <tr>\n",
       "      <th>3</th>\n",
       "      <td>1</td>\n",
       "      <td>1</td>\n",
       "      <td>3</td>\n",
       "      <td>2</td>\n",
       "      <td>1</td>\n",
       "    </tr>\n",
       "    <tr>\n",
       "      <th>4</th>\n",
       "      <td>2</td>\n",
       "      <td>1</td>\n",
       "      <td>2</td>\n",
       "      <td>2</td>\n",
       "      <td>1</td>\n",
       "    </tr>\n",
       "  </tbody>\n",
       "</table>\n",
       "</div>"
      ],
      "text/plain": [
       "   AGE  SINGLE  NOTETAKING  GPA  GRADE\n",
       "0    2       2           3    1      1\n",
       "1    2       2           3    3      1\n",
       "2    2       2           2    2      1\n",
       "3    1       1           3    2      1\n",
       "4    2       1           2    2      1"
      ]
     },
     "execution_count": 5,
     "metadata": {},
     "output_type": "execute_result"
    }
   ],
   "source": [
    "# Rename columns\n",
    "df.rename(columns={'1': 'AGE', '7': 'SINGLE','20':'ATTENDENCE','25':'NOTETAKING','30': 'GPA'}, inplace=True)\n",
    "\n",
    "# Access the renamed columns using loc\n",
    "preview_columns = ['AGE', 'SINGLE', 'NOTETAKING','GPA','GRADE']\n",
    "df.loc[:, preview_columns].head()"
   ]
  },
  {
   "cell_type": "code",
   "execution_count": 6,
   "id": "d0bfd463",
   "metadata": {
    "execution": {
     "iopub.execute_input": "2023-09-07T16:28:51.444503Z",
     "iopub.status.busy": "2023-09-07T16:28:51.444122Z",
     "iopub.status.idle": "2023-09-07T16:28:51.457206Z",
     "shell.execute_reply": "2023-09-07T16:28:51.456104Z"
    },
    "papermill": {
     "duration": 0.025512,
     "end_time": "2023-09-07T16:28:51.459721",
     "exception": false,
     "start_time": "2023-09-07T16:28:51.434209",
     "status": "completed"
    },
    "tags": []
   },
   "outputs": [
    {
     "name": "stdout",
     "output_type": "stream",
     "text": [
      "<class 'pandas.core.frame.DataFrame'>\n",
      "RangeIndex: 145 entries, 0 to 144\n",
      "Data columns (total 6 columns):\n",
      " #   Column      Non-Null Count  Dtype\n",
      "---  ------      --------------  -----\n",
      " 0   AGE         145 non-null    int64\n",
      " 1   SINGLE      145 non-null    int64\n",
      " 2   ATTENDENCE  145 non-null    int64\n",
      " 3   NOTETAKING  145 non-null    int64\n",
      " 4   GPA         145 non-null    int64\n",
      " 5   GRADE       145 non-null    int64\n",
      "dtypes: int64(6)\n",
      "memory usage: 6.9 KB\n"
     ]
    }
   ],
   "source": [
    "df_clean = df.copy()\n",
    "\n",
    "# List of columns to keep\n",
    "selected_columns = [\n",
    "    'AGE',\n",
    "    'SINGLE',\n",
    "    'NOTETAKING',\n",
    "    'GPA',\n",
    "    'GRADE',\n",
    "    'ATTENDENCE',\n",
    "]\n",
    "\n",
    "# Get the list of columns that exist in the DataFrame but are not in the selected_columns list\n",
    "columns_to_remove = [col for col in df_clean.columns if col not in selected_columns]\n",
    "\n",
    "# Drop the columns that are not in the selected_columns list\n",
    "df_clean.drop(columns=columns_to_remove, inplace=True)\n",
    "\n",
    "# Display DataFrame info to verify\n",
    "df_clean.info()"
   ]
  },
  {
   "cell_type": "code",
   "execution_count": 7,
   "id": "82139808",
   "metadata": {
    "execution": {
     "iopub.execute_input": "2023-09-07T16:28:57.611946Z",
     "iopub.status.busy": "2023-09-07T16:28:57.611463Z",
     "iopub.status.idle": "2023-09-07T16:28:57.629096Z",
     "shell.execute_reply": "2023-09-07T16:28:57.628107Z"
    },
    "papermill": {
     "duration": 0.038134,
     "end_time": "2023-09-07T16:28:57.631675",
     "exception": false,
     "start_time": "2023-09-07T16:28:57.593541",
     "status": "completed"
    },
    "tags": []
   },
   "outputs": [
    {
     "name": "stdout",
     "output_type": "stream",
     "text": [
      "<class 'pandas.core.frame.DataFrame'>\n",
      "RangeIndex: 145 entries, 0 to 144\n",
      "Data columns (total 19 columns):\n",
      " #   Column      Non-Null Count  Dtype \n",
      "---  ------      --------------  ----- \n",
      " 0   STUDENT ID  145 non-null    object\n",
      " 1   AGE         145 non-null    int64 \n",
      " 2   2           145 non-null    int64 \n",
      " 3   4           145 non-null    int64 \n",
      " 4   SINGLE      145 non-null    int64 \n",
      " 5   8           145 non-null    int64 \n",
      " 6   11          145 non-null    int64 \n",
      " 7   12          145 non-null    int64 \n",
      " 8   13          145 non-null    int64 \n",
      " 9   17          145 non-null    int64 \n",
      " 10  18          145 non-null    int64 \n",
      " 11  19          145 non-null    int64 \n",
      " 12  ATTENDENCE  145 non-null    int64 \n",
      " 13  NOTETAKING  145 non-null    int64 \n",
      " 14  26          145 non-null    int64 \n",
      " 15  27          145 non-null    int64 \n",
      " 16  29          145 non-null    int64 \n",
      " 17  GPA         145 non-null    int64 \n",
      " 18  GRADE       145 non-null    int64 \n",
      "dtypes: int64(18), object(1)\n",
      "memory usage: 21.6+ KB\n"
     ]
    }
   ],
   "source": [
    "df_cut = df.copy()\n",
    "#Cutting our data to make it more managable\n",
    "columns_to_remove = [\n",
    "    '3',\n",
    "    '9',\n",
    "    '10',\n",
    "    '14',\n",
    "    '15',\n",
    "    '16',\n",
    "    '21',\n",
    "    '23',\n",
    "    '24',\n",
    "    '28',\n",
    "    '5',\n",
    "    '6',\n",
    "    '22',\n",
    "    'COURSE ID',\n",
    "]\n",
    "# Drop the columns to remove\n",
    "df_cut.drop(columns=columns_to_remove, inplace=True)\n",
    "\n",
    "# Display DataFrame info to verify\n",
    "df_cut.info()"
   ]
  },
  {
   "cell_type": "code",
   "execution_count": 8,
   "id": "177e4399",
   "metadata": {
    "execution": {
     "iopub.execute_input": "2023-09-07T16:28:58.981546Z",
     "iopub.status.busy": "2023-09-07T16:28:58.980725Z",
     "iopub.status.idle": "2023-09-07T16:28:58.987244Z",
     "shell.execute_reply": "2023-09-07T16:28:58.986416Z"
    },
    "papermill": {
     "duration": 0.029111,
     "end_time": "2023-09-07T16:28:58.989329",
     "exception": false,
     "start_time": "2023-09-07T16:28:58.960218",
     "status": "completed"
    },
    "tags": []
   },
   "outputs": [],
   "source": [
    "# Rename columns\n",
    "df_cut.rename(columns={\n",
    "    '1': 'AGE',\n",
    "    '2': 'SEX',\n",
    "    '4': 'SCHOLSHIP',\n",
    "    '7': 'SINGLE',\n",
    "    '8': 'SALARY',\n",
    "    '11': 'MOTHERS_EDU',\n",
    "    '12': 'FATHERS_EDU',\n",
    "    '13': 'SIBLNIGS',\n",
    "    '17': 'STUDY_HOURS',\n",
    "    '18': 'READS_NON_FIC',\n",
    "    '19': 'READS_FIC',\n",
    "    '25': 'NOTETAKING',\n",
    "    '26': 'LISTENS',\n",
    "    '27': 'DISCUSSION',\n",
    "    '29': 'PAST_GPA',\n",
    "    '30': 'GPA',}, inplace=True)"
   ]
  }
 ],
 "metadata": {
  "kernelspec": {
   "display_name": "Python 3 (ipykernel)",
   "language": "python",
   "name": "python3"
  },
  "language_info": {
   "codemirror_mode": {
    "name": "ipython",
    "version": 3
   },
   "file_extension": ".py",
   "mimetype": "text/x-python",
   "name": "python",
   "nbconvert_exporter": "python",
   "pygments_lexer": "ipython3",
   "version": "3.10.13"
  },
  "papermill": {
   "default_parameters": {},
   "duration": 27.267724,
   "end_time": "2023-09-07T16:29:07.061430",
   "environment_variables": {},
   "exception": null,
   "input_path": "__notebook__.ipynb",
   "output_path": "__notebook__.ipynb",
   "parameters": {},
   "start_time": "2023-09-07T16:28:39.793706",
   "version": "2.4.0"
  }
 },
 "nbformat": 4,
 "nbformat_minor": 5
}
