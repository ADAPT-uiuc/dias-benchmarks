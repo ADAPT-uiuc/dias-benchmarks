{
 "cells": [
  {
   "cell_type": "code",
   "execution_count": 1,
   "id": "509058f3",
   "metadata": {
    "execution": {
     "iopub.execute_input": "2023-08-30T14:10:33.582955Z",
     "iopub.status.busy": "2023-08-30T14:10:33.581832Z",
     "iopub.status.idle": "2023-08-30T14:10:34.367881Z",
     "shell.execute_reply": "2023-08-30T14:10:34.366641Z"
    },
    "papermill": {
     "duration": 0.798592,
     "end_time": "2023-08-30T14:10:34.371380",
     "exception": false,
     "start_time": "2023-08-30T14:10:33.572788",
     "status": "completed"
    },
    "tags": []
   },
   "outputs": [
    {
     "data": {
      "text/html": [
       "<div>\n",
       "<style scoped>\n",
       "    .dataframe tbody tr th:only-of-type {\n",
       "        vertical-align: middle;\n",
       "    }\n",
       "\n",
       "    .dataframe tbody tr th {\n",
       "        vertical-align: top;\n",
       "    }\n",
       "\n",
       "    .dataframe thead th {\n",
       "        text-align: right;\n",
       "    }\n",
       "</style>\n",
       "<table border=\"1\" class=\"dataframe\">\n",
       "  <thead>\n",
       "    <tr style=\"text-align: right;\">\n",
       "      <th></th>\n",
       "      <th>Passenger ID</th>\n",
       "      <th>First Name</th>\n",
       "      <th>Last Name</th>\n",
       "      <th>Gender</th>\n",
       "      <th>Age</th>\n",
       "      <th>Nationality</th>\n",
       "      <th>Airport Name</th>\n",
       "      <th>Airport Country Code</th>\n",
       "      <th>Country Name</th>\n",
       "      <th>Airport Continent</th>\n",
       "      <th>Continents</th>\n",
       "      <th>Departure Date</th>\n",
       "      <th>Arrival Airport</th>\n",
       "      <th>Pilot Name</th>\n",
       "      <th>Flight Status</th>\n",
       "    </tr>\n",
       "  </thead>\n",
       "  <tbody>\n",
       "    <tr>\n",
       "      <th>0</th>\n",
       "      <td>10856</td>\n",
       "      <td>Edithe</td>\n",
       "      <td>Leggis</td>\n",
       "      <td>Female</td>\n",
       "      <td>62</td>\n",
       "      <td>Japan</td>\n",
       "      <td>Coldfoot Airport</td>\n",
       "      <td>US</td>\n",
       "      <td>United States</td>\n",
       "      <td>NAM</td>\n",
       "      <td>North America</td>\n",
       "      <td>2022-06-28</td>\n",
       "      <td>CXF</td>\n",
       "      <td>Edithe Leggis</td>\n",
       "      <td>On Time</td>\n",
       "    </tr>\n",
       "    <tr>\n",
       "      <th>1</th>\n",
       "      <td>43872</td>\n",
       "      <td>Elwood</td>\n",
       "      <td>Catt</td>\n",
       "      <td>Male</td>\n",
       "      <td>62</td>\n",
       "      <td>Nicaragua</td>\n",
       "      <td>Kugluktuk Airport</td>\n",
       "      <td>CA</td>\n",
       "      <td>Canada</td>\n",
       "      <td>NAM</td>\n",
       "      <td>North America</td>\n",
       "      <td>2022-12-26</td>\n",
       "      <td>YCO</td>\n",
       "      <td>Elwood Catt</td>\n",
       "      <td>On Time</td>\n",
       "    </tr>\n",
       "    <tr>\n",
       "      <th>2</th>\n",
       "      <td>42633</td>\n",
       "      <td>Darby</td>\n",
       "      <td>Felgate</td>\n",
       "      <td>Male</td>\n",
       "      <td>67</td>\n",
       "      <td>Russia</td>\n",
       "      <td>Grenoble-Isère Airport</td>\n",
       "      <td>FR</td>\n",
       "      <td>France</td>\n",
       "      <td>EU</td>\n",
       "      <td>Europe</td>\n",
       "      <td>2022-01-18</td>\n",
       "      <td>GNB</td>\n",
       "      <td>Darby Felgate</td>\n",
       "      <td>On Time</td>\n",
       "    </tr>\n",
       "    <tr>\n",
       "      <th>3</th>\n",
       "      <td>78493</td>\n",
       "      <td>Dominica</td>\n",
       "      <td>Pyle</td>\n",
       "      <td>Female</td>\n",
       "      <td>71</td>\n",
       "      <td>China</td>\n",
       "      <td>Ottawa / Gatineau Airport</td>\n",
       "      <td>CA</td>\n",
       "      <td>Canada</td>\n",
       "      <td>NAM</td>\n",
       "      <td>North America</td>\n",
       "      <td>2022-09-16</td>\n",
       "      <td>YND</td>\n",
       "      <td>Dominica Pyle</td>\n",
       "      <td>Delayed</td>\n",
       "    </tr>\n",
       "    <tr>\n",
       "      <th>4</th>\n",
       "      <td>82072</td>\n",
       "      <td>Bay</td>\n",
       "      <td>Pencost</td>\n",
       "      <td>Male</td>\n",
       "      <td>21</td>\n",
       "      <td>China</td>\n",
       "      <td>Gillespie Field</td>\n",
       "      <td>US</td>\n",
       "      <td>United States</td>\n",
       "      <td>NAM</td>\n",
       "      <td>North America</td>\n",
       "      <td>2022-02-25</td>\n",
       "      <td>SEE</td>\n",
       "      <td>Bay Pencost</td>\n",
       "      <td>On Time</td>\n",
       "    </tr>\n",
       "  </tbody>\n",
       "</table>\n",
       "</div>"
      ],
      "text/plain": [
       "   Passenger ID First Name Last Name  Gender  Age Nationality  \\\n",
       "0         10856     Edithe    Leggis  Female   62       Japan   \n",
       "1         43872     Elwood      Catt    Male   62   Nicaragua   \n",
       "2         42633      Darby   Felgate    Male   67      Russia   \n",
       "3         78493   Dominica      Pyle  Female   71       China   \n",
       "4         82072        Bay   Pencost    Male   21       China   \n",
       "\n",
       "                Airport Name Airport Country Code   Country Name  \\\n",
       "0           Coldfoot Airport                   US  United States   \n",
       "1          Kugluktuk Airport                   CA         Canada   \n",
       "2     Grenoble-Isère Airport                   FR         France   \n",
       "3  Ottawa / Gatineau Airport                   CA         Canada   \n",
       "4            Gillespie Field                   US  United States   \n",
       "\n",
       "  Airport Continent     Continents Departure Date Arrival Airport  \\\n",
       "0               NAM  North America     2022-06-28             CXF   \n",
       "1               NAM  North America     2022-12-26             YCO   \n",
       "2                EU         Europe     2022-01-18             GNB   \n",
       "3               NAM  North America     2022-09-16             YND   \n",
       "4               NAM  North America     2022-02-25             SEE   \n",
       "\n",
       "      Pilot Name Flight Status  \n",
       "0  Edithe Leggis       On Time  \n",
       "1    Elwood Catt       On Time  \n",
       "2  Darby Felgate       On Time  \n",
       "3  Dominica Pyle       Delayed  \n",
       "4    Bay Pencost       On Time  "
      ]
     },
     "execution_count": 1,
     "metadata": {},
     "output_type": "execute_result"
    }
   ],
   "source": [
    "import pandas as pd\n",
    "df = pd.read_csv(filepath_or_buffer='../input/Airline Dataset.csv', parse_dates=['Departure Date'])\n",
    "df.head()"
   ]
  },
  {
   "cell_type": "code",
   "execution_count": 2,
   "id": "d6da4cbf",
   "metadata": {},
   "outputs": [
    {
     "name": "stdout",
     "output_type": "stream",
     "text": [
      "<class 'pandas.core.frame.DataFrame'>\n",
      "RangeIndex: 2169618 entries, 0 to 2169617\n",
      "Data columns (total 15 columns):\n",
      " #   Column                Dtype         \n",
      "---  ------                -----         \n",
      " 0   Passenger ID          int64         \n",
      " 1   First Name            object        \n",
      " 2   Last Name             object        \n",
      " 3   Gender                object        \n",
      " 4   Age                   int64         \n",
      " 5   Nationality           object        \n",
      " 6   Airport Name          object        \n",
      " 7   Airport Country Code  object        \n",
      " 8   Country Name          object        \n",
      " 9   Airport Continent     object        \n",
      " 10  Continents            object        \n",
      " 11  Departure Date        datetime64[ns]\n",
      " 12  Arrival Airport       object        \n",
      " 13  Pilot Name            object        \n",
      " 14  Flight Status         object        \n",
      "dtypes: datetime64[ns](1), int64(2), object(12)\n",
      "memory usage: 248.3+ MB\n"
     ]
    }
   ],
   "source": [
    "df = df\n",
    "intended_df_size_in_MB = 256\n",
    "factor = intended_df_size_in_MB*(2**20)//df.memory_usage(index=True).sum()\n",
    "if factor > 0:\n",
    "    df = pd.concat([df]*factor, ignore_index=True)\n",
    "df = df\n",
    "df.info()"
   ]
  },
  {
   "cell_type": "code",
   "execution_count": 3,
   "id": "8a239c29",
   "metadata": {
    "execution": {
     "iopub.execute_input": "2023-08-30T14:10:34.387879Z",
     "iopub.status.busy": "2023-08-30T14:10:34.387418Z",
     "iopub.status.idle": "2023-08-30T14:10:34.802842Z",
     "shell.execute_reply": "2023-08-30T14:10:34.801374Z"
    },
    "papermill": {
     "duration": 0.427551,
     "end_time": "2023-08-30T14:10:34.805975",
     "exception": false,
     "start_time": "2023-08-30T14:10:34.378424",
     "status": "completed"
    },
    "tags": []
   },
   "outputs": [
    {
     "name": "stdout",
     "output_type": "stream",
     "text": [
      "<class 'pandas.core.frame.DataFrame'>\n",
      "RangeIndex: 2169618 entries, 0 to 2169617\n",
      "Data columns (total 15 columns):\n",
      " #   Column                Dtype         \n",
      "---  ------                -----         \n",
      " 0   Passenger ID          int64         \n",
      " 1   First Name            object        \n",
      " 2   Last Name             object        \n",
      " 3   Gender                object        \n",
      " 4   Age                   int64         \n",
      " 5   Nationality           object        \n",
      " 6   Airport Name          object        \n",
      " 7   Airport Country Code  object        \n",
      " 8   Country Name          object        \n",
      " 9   Airport Continent     object        \n",
      " 10  Continents            object        \n",
      " 11  Departure Date        datetime64[ns]\n",
      " 12  Arrival Airport       object        \n",
      " 13  Pilot Name            object        \n",
      " 14  Flight Status         object        \n",
      "dtypes: datetime64[ns](1), int64(2), object(12)\n",
      "memory usage: 248.3+ MB\n"
     ]
    }
   ],
   "source": [
    "df.info()"
   ]
  },
  {
   "cell_type": "code",
   "execution_count": 3,
   "id": "a756226a",
   "metadata": {
    "execution": {
     "iopub.execute_input": "2023-08-30T14:10:34.821727Z",
     "iopub.status.busy": "2023-08-30T14:10:34.821286Z",
     "iopub.status.idle": "2023-08-30T14:10:34.998918Z",
     "shell.execute_reply": "2023-08-30T14:10:34.997634Z"
    },
    "papermill": {
     "duration": 0.188896,
     "end_time": "2023-08-30T14:10:35.001770",
     "exception": false,
     "start_time": "2023-08-30T14:10:34.812874",
     "status": "completed"
    },
    "tags": []
   },
   "outputs": [
    {
     "data": {
      "text/plain": [
       "Passenger ID            59871\n",
       "First Name               8437\n",
       "Last Name               41658\n",
       "Gender                      2\n",
       "Age                        90\n",
       "Nationality               240\n",
       "Airport Name             9062\n",
       "Airport Country Code      235\n",
       "Country Name              235\n",
       "Airport Continent           6\n",
       "Continents                  6\n",
       "Departure Date            364\n",
       "Arrival Airport          9024\n",
       "Pilot Name              98610\n",
       "Flight Status               3\n",
       "dtype: int64"
      ]
     },
     "execution_count": 3,
     "metadata": {},
     "output_type": "execute_result"
    }
   ],
   "source": [
    "df.nunique()"
   ]
  },
  {
   "cell_type": "markdown",
   "id": "cd9ce339",
   "metadata": {
    "papermill": {
     "duration": 0.007495,
     "end_time": "2023-08-30T14:10:37.815189",
     "exception": false,
     "start_time": "2023-08-30T14:10:37.807694",
     "status": "completed"
    },
    "tags": []
   },
   "source": [
    "This is a little surprising and sugggests this is a sample from a larger dataset chosen to have essentially equal age buckets."
   ]
  },
  {
   "cell_type": "markdown",
   "id": "7e3cd4d0",
   "metadata": {
    "papermill": {
     "duration": 0.011135,
     "end_time": "2023-08-30T14:10:40.346274",
     "exception": false,
     "start_time": "2023-08-30T14:10:40.335139",
     "status": "completed"
    },
    "tags": []
   },
   "source": [
    "Flight Status being uniformly distributed seems unlikely unless this is a carefully chosen sample from a larger population."
   ]
  },
  {
   "cell_type": "code",
   "execution_count": 4,
   "id": "e03849b9",
   "metadata": {
    "execution": {
     "iopub.execute_input": "2023-08-30T14:10:40.368927Z",
     "iopub.status.busy": "2023-08-30T14:10:40.368127Z",
     "iopub.status.idle": "2023-08-30T14:10:40.392127Z",
     "shell.execute_reply": "2023-08-30T14:10:40.390663Z"
    },
    "papermill": {
     "duration": 0.038149,
     "end_time": "2023-08-30T14:10:40.394703",
     "exception": false,
     "start_time": "2023-08-30T14:10:40.356554",
     "status": "completed"
    },
    "tags": []
   },
   "outputs": [
    {
     "data": {
      "text/plain": [
       "2022    98619\n",
       "Name: Departure Date, dtype: int64"
      ]
     },
     "execution_count": 4,
     "metadata": {},
     "output_type": "execute_result"
    }
   ],
   "source": [
    "df['Departure Date'].dt.year.value_counts()"
   ]
  },
  {
   "cell_type": "code",
   "execution_count": 5,
   "id": "522d3d1d",
   "metadata": {
    "execution": {
     "iopub.execute_input": "2023-08-30T14:10:40.417587Z",
     "iopub.status.busy": "2023-08-30T14:10:40.417134Z",
     "iopub.status.idle": "2023-08-30T14:10:40.484078Z",
     "shell.execute_reply": "2023-08-30T14:10:40.482867Z"
    },
    "papermill": {
     "duration": 0.082119,
     "end_time": "2023-08-30T14:10:40.486927",
     "exception": false,
     "start_time": "2023-08-30T14:10:40.404808",
     "status": "completed"
    },
    "tags": []
   },
   "outputs": [
    {
     "data": {
      "text/plain": [
       "Dyball       17\n",
       "Capron       15\n",
       "Ducker       13\n",
       "Richfield    12\n",
       "Danaher      11\n",
       "Knight       10\n",
       "Okenden      10\n",
       "Dunbabin     10\n",
       "Watkiss      10\n",
       "Challenor    10\n",
       "Name: Last Name, dtype: int64"
      ]
     },
     "execution_count": 5,
     "metadata": {},
     "output_type": "execute_result"
    }
   ],
   "source": [
    "df['Last Name'].value_counts().nlargest(n=10)"
   ]
  },
  {
   "cell_type": "markdown",
   "id": "b5cca3b7",
   "metadata": {
    "papermill": {
     "duration": 0.010399,
     "end_time": "2023-08-30T14:10:40.507729",
     "exception": false,
     "start_time": "2023-08-30T14:10:40.497330",
     "status": "completed"
    },
    "tags": []
   },
   "source": [
    "Chances are very good this is synthetic data."
   ]
  }
 ],
 "metadata": {
  "kernelspec": {
   "display_name": "Python 3 (ipykernel)",
   "language": "python",
   "name": "python3"
  },
  "language_info": {
   "codemirror_mode": {
    "name": "ipython",
    "version": 3
   },
   "file_extension": ".py",
   "mimetype": "text/x-python",
   "name": "python",
   "nbconvert_exporter": "python",
   "pygments_lexer": "ipython3",
   "version": "3.10.13"
  },
  "papermill": {
   "default_parameters": {},
   "duration": 23.965814,
   "end_time": "2023-08-30T14:10:41.643724",
   "environment_variables": {},
   "exception": null,
   "input_path": "__notebook__.ipynb",
   "output_path": "__notebook__.ipynb",
   "parameters": {},
   "start_time": "2023-08-30T14:10:17.677910",
   "version": "2.4.0"
  }
 },
 "nbformat": 4,
 "nbformat_minor": 5
}
