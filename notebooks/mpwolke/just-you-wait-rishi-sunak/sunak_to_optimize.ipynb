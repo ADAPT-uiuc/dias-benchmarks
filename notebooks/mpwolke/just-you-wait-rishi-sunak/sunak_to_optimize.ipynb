{
 "cells": [
  {
   "cell_type": "code",
   "execution_count": 1,
   "id": "a9306b62",
   "metadata": {},
   "outputs": [],
   "source": [
    "import os\n",
    "SNAPPY_notebook_path = os.path.join(os.path.abspath(\"\"), \"sunak.ipynb\")"
   ]
  },
  {
   "cell_type": "code",
   "execution_count": 2,
   "id": "c2c5480b",
   "metadata": {},
   "outputs": [],
   "source": [
    "import time\n",
    "SNAPPY_start_time = time.perf_counter_ns()"
   ]
  },
  {
   "cell_type": "code",
   "execution_count": 3,
   "id": "4ab3b8ee",
   "metadata": {},
   "outputs": [
    {
     "name": "stdout",
     "output_type": "stream",
     "text": [
      "time: 48.1 µs (started: 2024-05-24 23:38:40 -04:00)\n"
     ]
    }
   ],
   "source": [
    "%load_ext autotime"
   ]
  },
  {
   "cell_type": "code",
   "execution_count": 4,
   "id": "87ddbff7",
   "metadata": {},
   "outputs": [
    {
     "name": "stdout",
     "output_type": "stream",
     "text": [
      "time: 462 ms (started: 2024-05-24 23:38:40 -04:00)\n"
     ]
    }
   ],
   "source": [
    "%load_ext snappy_jupyter.snappy_magic"
   ]
  },
  {
   "cell_type": "code",
   "execution_count": 5,
   "id": "7233ba3e",
   "metadata": {
    "_cell_guid": "b1076dfc-b9ad-4769-8c92-a6c4dae69d19",
    "_kg_hide-input": true,
    "_kg_hide-output": true,
    "_uuid": "8f2839f25d086af736a60e9eeb907d3b93b6e0e5",
    "execution": {
     "iopub.execute_input": "2022-10-31T23:40:09.444216Z",
     "iopub.status.busy": "2022-10-31T23:40:09.443673Z",
     "iopub.status.idle": "2022-10-31T23:40:09.900999Z",
     "shell.execute_reply": "2022-10-31T23:40:09.899881Z",
     "shell.execute_reply.started": "2022-10-31T23:40:09.444043Z"
    }
   },
   "outputs": [
    {
     "name": "stdout",
     "output_type": "stream",
     "text": [
      "/home/sam/dias-benchmarks/dias-benchmarks/notebooks/mpwolke/just-you-wait-rishi-sunak/input/latest-elected-uk-prime-minister-rishi-sunak/uk_pm.parquet\n",
      "/home/sam/dias-benchmarks/dias-benchmarks/notebooks/mpwolke/just-you-wait-rishi-sunak/input/latest-elected-uk-prime-minister-rishi-sunak/uk_pm.csv\n",
      "/home/sam/dias-benchmarks/dias-benchmarks/notebooks/mpwolke/just-you-wait-rishi-sunak/input/latest-elected-uk-prime-minister-rishi-sunak/uk_pm.pkl\n",
      "/home/sam/dias-benchmarks/dias-benchmarks/notebooks/mpwolke/just-you-wait-rishi-sunak/input/latest-elected-uk-prime-minister-rishi-sunak/uk_pm.feather\n",
      "time: 1.03 ms (started: 2024-05-24 23:38:40 -04:00)\n"
     ]
    }
   ],
   "source": [
    "# This Python 3 environment comes with many helpful analytics libraries installed\n",
    "# It is defined by the kaggle/python Docker image: https://github.com/kaggle/docker-python\n",
    "# For example, here's several helpful packages to load\n",
    "\n",
    "import numpy as np # linear algebra\n",
    "import os\n",
    "# STEFANOS: Conditionally import Modin Pandas\n",
    "import pandas as pd\n",
    "\n",
    "\n",
    "#Ignore warnings\n",
    "import warnings\n",
    "warnings.filterwarnings('ignore')\n",
    "\n",
    "# Input data files are available in the read-only \"input/\" directory\n",
    "# For example, running this (by clicking run or pressing Shift+Enter) will list all files under the input directory\n",
    "\n",
    "import os\n",
    "for dirname, _, filenames in os.walk(os.path.abspath('') + '/input'):\n",
    "    for filename in filenames:\n",
    "        print(os.path.join(dirname, filename))\n",
    "\n",
    "# You can write up to 20GB to the current directory (/kaggle/working/) that gets preserved as output when you create a version using \"Save & Run All\" \n",
    "# You can also write temporary files to /kaggle/temp/, but they won't be saved outside of the current session"
   ]
  },
  {
   "cell_type": "code",
   "execution_count": 6,
   "id": "cca6e635",
   "metadata": {
    "execution": {
     "iopub.execute_input": "2022-10-31T23:40:14.765371Z",
     "iopub.status.busy": "2022-10-31T23:40:14.765019Z",
     "iopub.status.idle": "2022-10-31T23:40:14.979239Z",
     "shell.execute_reply": "2022-10-31T23:40:14.978441Z",
     "shell.execute_reply.started": "2022-10-31T23:40:14.765345Z"
    }
   },
   "outputs": [
    {
     "name": "stdout",
     "output_type": "stream",
     "text": [
      "time: 407 ms (started: 2024-05-24 23:38:40 -04:00)\n"
     ]
    }
   ],
   "source": [
    "import re\n",
    "import string\n",
    "\n",
    "import nltk\n",
    "from nltk.probability import FreqDist\n",
    "from nltk.stem import WordNetLemmatizer\n",
    "from nltk.corpus import stopwords\n",
    "from nltk.stem import SnowballStemmer\n",
    "from nltk import pos_tag\n",
    "from nltk.stem import WordNetLemmatizer\n",
    "from nltk.tokenize import word_tokenize\n",
    "\n",
    "# STEFANOS: Unneeded\n",
    "# from wordcloud import WordCloud\n",
    "import matplotlib.style as style\n",
    "style.use('fivethirtyeight')"
   ]
  },
  {
   "cell_type": "code",
   "execution_count": 7,
   "id": "703c5a6c",
   "metadata": {
    "execution": {
     "iopub.execute_input": "2022-10-31T23:40:20.417387Z",
     "iopub.status.busy": "2022-10-31T23:40:20.416466Z",
     "iopub.status.idle": "2022-10-31T23:40:20.694495Z",
     "shell.execute_reply": "2022-10-31T23:40:20.69362Z",
     "shell.execute_reply.started": "2022-10-31T23:40:20.417344Z"
    }
   },
   "outputs": [
    {
     "name": "stdout",
     "output_type": "stream",
     "text": [
      "time: 111 ms (started: 2024-05-24 23:38:41 -04:00)\n"
     ]
    }
   ],
   "source": [
    "train = pd.read_parquet(os.path.abspath('') + '/input/latest-elected-uk-prime-minister-rishi-sunak/uk_pm.parquet')"
   ]
  },
  {
   "cell_type": "code",
   "execution_count": 8,
   "id": "5377ad43",
   "metadata": {
    "execution": {
     "iopub.execute_input": "2022-10-31T23:40:24.351511Z",
     "iopub.status.busy": "2022-10-31T23:40:24.351146Z",
     "iopub.status.idle": "2022-10-31T23:40:24.372625Z",
     "shell.execute_reply": "2022-10-31T23:40:24.371997Z",
     "shell.execute_reply.started": "2022-10-31T23:40:24.351478Z"
    }
   },
   "outputs": [
    {
     "data": {
      "text/html": [
       "<div>\n",
       "<style scoped>\n",
       "    .dataframe tbody tr th:only-of-type {\n",
       "        vertical-align: middle;\n",
       "    }\n",
       "\n",
       "    .dataframe tbody tr th {\n",
       "        vertical-align: top;\n",
       "    }\n",
       "\n",
       "    .dataframe thead th {\n",
       "        text-align: right;\n",
       "    }\n",
       "</style>\n",
       "<table border=\"1\" class=\"dataframe\">\n",
       "  <thead>\n",
       "    <tr style=\"text-align: right;\">\n",
       "      <th></th>\n",
       "      <th>text</th>\n",
       "      <th>username</th>\n",
       "      <th>hashtags</th>\n",
       "      <th>created_at</th>\n",
       "      <th>user followers count</th>\n",
       "      <th>replycount</th>\n",
       "      <th>retweetcount</th>\n",
       "      <th>likecount</th>\n",
       "      <th>quotecount</th>\n",
       "      <th>language</th>\n",
       "      <th>quotedtweet</th>\n",
       "      <th>inReplyToTweetId</th>\n",
       "      <th>inReplyToUser</th>\n",
       "      <th>mentionedUsers</th>\n",
       "    </tr>\n",
       "    <tr>\n",
       "      <th>id</th>\n",
       "      <th></th>\n",
       "      <th></th>\n",
       "      <th></th>\n",
       "      <th></th>\n",
       "      <th></th>\n",
       "      <th></th>\n",
       "      <th></th>\n",
       "      <th></th>\n",
       "      <th></th>\n",
       "      <th></th>\n",
       "      <th></th>\n",
       "      <th></th>\n",
       "      <th></th>\n",
       "      <th></th>\n",
       "    </tr>\n",
       "  </thead>\n",
       "  <tbody>\n",
       "    <tr>\n",
       "      <th>1584696134693711873</th>\n",
       "      <td>@BritIndianVoice @RishiSunak #RishiSunak is #B...</td>\n",
       "      <td>IsmailYSyed</td>\n",
       "      <td>['RishiSunak', 'BritishHindu', 'Pakistani', 'P...</td>\n",
       "      <td>2022-10-24 23:59:35+00:00</td>\n",
       "      <td>393</td>\n",
       "      <td>0</td>\n",
       "      <td>0</td>\n",
       "      <td>0</td>\n",
       "      <td>0</td>\n",
       "      <td>en</td>\n",
       "      <td>&lt;NA&gt;</td>\n",
       "      <td>1.584541e+18</td>\n",
       "      <td>https://twitter.com/BritIndianVoice</td>\n",
       "      <td>@BritIndianVoice @RishiSunak #RishiSunak is #B...</td>\n",
       "    </tr>\n",
       "    <tr>\n",
       "      <th>1584696057841098752</th>\n",
       "      <td>#RishiSunak is the richest Tory MP in history....</td>\n",
       "      <td>AdameMedia</td>\n",
       "      <td>['RishiSunak']</td>\n",
       "      <td>2022-10-24 23:59:17+00:00</td>\n",
       "      <td>9830</td>\n",
       "      <td>3</td>\n",
       "      <td>23</td>\n",
       "      <td>68</td>\n",
       "      <td>4</td>\n",
       "      <td>en</td>\n",
       "      <td>&lt;NA&gt;</td>\n",
       "      <td>NaN</td>\n",
       "      <td>&lt;NA&gt;</td>\n",
       "      <td>#RishiSunak is the richest Tory MP in history....</td>\n",
       "    </tr>\n",
       "    <tr>\n",
       "      <th>1584695906091536385</th>\n",
       "      <td>#RishiSunak</td>\n",
       "      <td>ROHITKU96224077</td>\n",
       "      <td>['RishiSunak']</td>\n",
       "      <td>2022-10-24 23:58:40+00:00</td>\n",
       "      <td>3</td>\n",
       "      <td>0</td>\n",
       "      <td>0</td>\n",
       "      <td>0</td>\n",
       "      <td>0</td>\n",
       "      <td>qht</td>\n",
       "      <td>&lt;NA&gt;</td>\n",
       "      <td>NaN</td>\n",
       "      <td>&lt;NA&gt;</td>\n",
       "      <td>#RishiSunak</td>\n",
       "    </tr>\n",
       "    <tr>\n",
       "      <th>1584695822658441217</th>\n",
       "      <td>A mountain full of money and a knowledge of pr...</td>\n",
       "      <td>Parisistas</td>\n",
       "      <td>['RishiSunak']</td>\n",
       "      <td>2022-10-24 23:58:21+00:00</td>\n",
       "      <td>0</td>\n",
       "      <td>0</td>\n",
       "      <td>0</td>\n",
       "      <td>0</td>\n",
       "      <td>0</td>\n",
       "      <td>en</td>\n",
       "      <td>&lt;NA&gt;</td>\n",
       "      <td>NaN</td>\n",
       "      <td>&lt;NA&gt;</td>\n",
       "      <td>A mountain full of money and a knowledge of pr...</td>\n",
       "    </tr>\n",
       "    <tr>\n",
       "      <th>1584695640696946688</th>\n",
       "      <td>@trussliz @RishiSunak Chance was been given as...</td>\n",
       "      <td>baboo_prasant</td>\n",
       "      <td>['RishiSunak']</td>\n",
       "      <td>2022-10-24 23:57:37+00:00</td>\n",
       "      <td>14</td>\n",
       "      <td>0</td>\n",
       "      <td>0</td>\n",
       "      <td>0</td>\n",
       "      <td>0</td>\n",
       "      <td>en</td>\n",
       "      <td>&lt;NA&gt;</td>\n",
       "      <td>1.584546e+18</td>\n",
       "      <td>https://twitter.com/trussliz</td>\n",
       "      <td>@trussliz @RishiSunak Chance was been given as...</td>\n",
       "    </tr>\n",
       "  </tbody>\n",
       "</table>\n",
       "</div>"
      ],
      "text/plain": [
       "                                                                  text  \\\n",
       "id                                                                       \n",
       "1584696134693711873  @BritIndianVoice @RishiSunak #RishiSunak is #B...   \n",
       "1584696057841098752  #RishiSunak is the richest Tory MP in history....   \n",
       "1584695906091536385                                        #RishiSunak   \n",
       "1584695822658441217  A mountain full of money and a knowledge of pr...   \n",
       "1584695640696946688  @trussliz @RishiSunak Chance was been given as...   \n",
       "\n",
       "                            username  \\\n",
       "id                                     \n",
       "1584696134693711873      IsmailYSyed   \n",
       "1584696057841098752       AdameMedia   \n",
       "1584695906091536385  ROHITKU96224077   \n",
       "1584695822658441217       Parisistas   \n",
       "1584695640696946688    baboo_prasant   \n",
       "\n",
       "                                                              hashtags  \\\n",
       "id                                                                       \n",
       "1584696134693711873  ['RishiSunak', 'BritishHindu', 'Pakistani', 'P...   \n",
       "1584696057841098752                                     ['RishiSunak']   \n",
       "1584695906091536385                                     ['RishiSunak']   \n",
       "1584695822658441217                                     ['RishiSunak']   \n",
       "1584695640696946688                                     ['RishiSunak']   \n",
       "\n",
       "                                   created_at  user followers count  \\\n",
       "id                                                                    \n",
       "1584696134693711873 2022-10-24 23:59:35+00:00                   393   \n",
       "1584696057841098752 2022-10-24 23:59:17+00:00                  9830   \n",
       "1584695906091536385 2022-10-24 23:58:40+00:00                     3   \n",
       "1584695822658441217 2022-10-24 23:58:21+00:00                     0   \n",
       "1584695640696946688 2022-10-24 23:57:37+00:00                    14   \n",
       "\n",
       "                     replycount  retweetcount  likecount  quotecount language  \\\n",
       "id                                                                              \n",
       "1584696134693711873           0             0          0           0       en   \n",
       "1584696057841098752           3            23         68           4       en   \n",
       "1584695906091536385           0             0          0           0      qht   \n",
       "1584695822658441217           0             0          0           0       en   \n",
       "1584695640696946688           0             0          0           0       en   \n",
       "\n",
       "                    quotedtweet  inReplyToTweetId  \\\n",
       "id                                                  \n",
       "1584696134693711873        <NA>      1.584541e+18   \n",
       "1584696057841098752        <NA>               NaN   \n",
       "1584695906091536385        <NA>               NaN   \n",
       "1584695822658441217        <NA>               NaN   \n",
       "1584695640696946688        <NA>      1.584546e+18   \n",
       "\n",
       "                                           inReplyToUser  \\\n",
       "id                                                         \n",
       "1584696134693711873  https://twitter.com/BritIndianVoice   \n",
       "1584696057841098752                                 <NA>   \n",
       "1584695906091536385                                 <NA>   \n",
       "1584695822658441217                                 <NA>   \n",
       "1584695640696946688         https://twitter.com/trussliz   \n",
       "\n",
       "                                                        mentionedUsers  \n",
       "id                                                                      \n",
       "1584696134693711873  @BritIndianVoice @RishiSunak #RishiSunak is #B...  \n",
       "1584696057841098752  #RishiSunak is the richest Tory MP in history....  \n",
       "1584695906091536385                                        #RishiSunak  \n",
       "1584695822658441217  A mountain full of money and a knowledge of pr...  \n",
       "1584695640696946688  @trussliz @RishiSunak Chance was been given as...  "
      ]
     },
     "execution_count": 8,
     "metadata": {},
     "output_type": "execute_result"
    },
    {
     "name": "stdout",
     "output_type": "stream",
     "text": [
      "time: 9.35 ms (started: 2024-05-24 23:38:41 -04:00)\n"
     ]
    }
   ],
   "source": [
    "train.head()"
   ]
  },
  {
   "cell_type": "code",
   "execution_count": 9,
   "id": "37986e31",
   "metadata": {
    "execution": {
     "iopub.execute_input": "2022-10-31T23:40:29.186191Z",
     "iopub.status.busy": "2022-10-31T23:40:29.185085Z",
     "iopub.status.idle": "2022-10-31T23:40:30.004757Z",
     "shell.execute_reply": "2022-10-31T23:40:30.004098Z",
     "shell.execute_reply.started": "2022-10-31T23:40:29.186148Z"
    }
   },
   "outputs": [
    {
     "data": {
      "text/html": [
       "<div>\n",
       "<style scoped>\n",
       "    .dataframe tbody tr th:only-of-type {\n",
       "        vertical-align: middle;\n",
       "    }\n",
       "\n",
       "    .dataframe tbody tr th {\n",
       "        vertical-align: top;\n",
       "    }\n",
       "\n",
       "    .dataframe thead th {\n",
       "        text-align: right;\n",
       "    }\n",
       "</style>\n",
       "<table border=\"1\" class=\"dataframe\">\n",
       "  <thead>\n",
       "    <tr style=\"text-align: right;\">\n",
       "      <th></th>\n",
       "      <th>id</th>\n",
       "      <th>text</th>\n",
       "      <th>username</th>\n",
       "      <th>hashtags</th>\n",
       "      <th>created_at</th>\n",
       "      <th>user followers count</th>\n",
       "      <th>replycount</th>\n",
       "      <th>retweetcount</th>\n",
       "      <th>likecount</th>\n",
       "      <th>quotecount</th>\n",
       "      <th>language</th>\n",
       "      <th>quotedtweet</th>\n",
       "      <th>inReplyToTweetId</th>\n",
       "      <th>inReplyToUser</th>\n",
       "      <th>mentionedUsers</th>\n",
       "    </tr>\n",
       "  </thead>\n",
       "  <tbody>\n",
       "    <tr>\n",
       "      <th>113573</th>\n",
       "      <td>1584553348736421888</td>\n",
       "      <td>@JackBarbour_ @piersmorgan @RishiSunak The man...</td>\n",
       "      <td>aqeelone22</td>\n",
       "      <td>NaN</td>\n",
       "      <td>2022-10-24 14:32:12+00:00</td>\n",
       "      <td>1162</td>\n",
       "      <td>0</td>\n",
       "      <td>0</td>\n",
       "      <td>0</td>\n",
       "      <td>0</td>\n",
       "      <td>en</td>\n",
       "      <td>NaN</td>\n",
       "      <td>1.584532e+18</td>\n",
       "      <td>https://twitter.com/JackBarbour_</td>\n",
       "      <td>@JackBarbour_ @piersmorgan @RishiSunak The man...</td>\n",
       "    </tr>\n",
       "    <tr>\n",
       "      <th>113574</th>\n",
       "      <td>1584553348677525505</td>\n",
       "      <td>@Jacob_Rees_Mogg @RishiSunak Let's hope you're...</td>\n",
       "      <td>EddieThornley</td>\n",
       "      <td>NaN</td>\n",
       "      <td>2022-10-24 14:32:12+00:00</td>\n",
       "      <td>97</td>\n",
       "      <td>0</td>\n",
       "      <td>0</td>\n",
       "      <td>0</td>\n",
       "      <td>0</td>\n",
       "      <td>en</td>\n",
       "      <td>NaN</td>\n",
       "      <td>1.584539e+18</td>\n",
       "      <td>https://twitter.com/Jacob_Rees_Mogg</td>\n",
       "      <td>@Jacob_Rees_Mogg @RishiSunak Let's hope you're...</td>\n",
       "    </tr>\n",
       "    <tr>\n",
       "      <th>113575</th>\n",
       "      <td>1584553348597895168</td>\n",
       "      <td>@sajidjavid @RishiSunak Desperate call for a d...</td>\n",
       "      <td>pedleysjohn</td>\n",
       "      <td>['ToriesUnfitToGovern']</td>\n",
       "      <td>2022-10-24 14:32:12+00:00</td>\n",
       "      <td>2484</td>\n",
       "      <td>0</td>\n",
       "      <td>0</td>\n",
       "      <td>0</td>\n",
       "      <td>0</td>\n",
       "      <td>en</td>\n",
       "      <td>NaN</td>\n",
       "      <td>1.584401e+18</td>\n",
       "      <td>https://twitter.com/sajidjavid</td>\n",
       "      <td>@sajidjavid @RishiSunak Desperate call for a d...</td>\n",
       "    </tr>\n",
       "    <tr>\n",
       "      <th>113576</th>\n",
       "      <td>1584553348132397056</td>\n",
       "      <td>@SkyNews Rulling Party needs a strong oppositi...</td>\n",
       "      <td>KarobiVC</td>\n",
       "      <td>NaN</td>\n",
       "      <td>2022-10-24 14:32:12+00:00</td>\n",
       "      <td>392</td>\n",
       "      <td>0</td>\n",
       "      <td>0</td>\n",
       "      <td>0</td>\n",
       "      <td>0</td>\n",
       "      <td>en</td>\n",
       "      <td>NaN</td>\n",
       "      <td>1.584512e+18</td>\n",
       "      <td>https://twitter.com/SkyNews</td>\n",
       "      <td>@SkyNews Rulling Party needs a strong oppositi...</td>\n",
       "    </tr>\n",
       "    <tr>\n",
       "      <th>113577</th>\n",
       "      <td>1584553347998105600</td>\n",
       "      <td>@trussliz @RishiSunak Liz Truss has won the ma...</td>\n",
       "      <td>sands_hill</td>\n",
       "      <td>NaN</td>\n",
       "      <td>2022-10-24 14:32:12+00:00</td>\n",
       "      <td>4</td>\n",
       "      <td>0</td>\n",
       "      <td>0</td>\n",
       "      <td>0</td>\n",
       "      <td>0</td>\n",
       "      <td>en</td>\n",
       "      <td>NaN</td>\n",
       "      <td>1.584546e+18</td>\n",
       "      <td>https://twitter.com/trussliz</td>\n",
       "      <td>@trussliz @RishiSunak Liz Truss has won the ma...</td>\n",
       "    </tr>\n",
       "  </tbody>\n",
       "</table>\n",
       "</div>"
      ],
      "text/plain": [
       "                         id  \\\n",
       "113573  1584553348736421888   \n",
       "113574  1584553348677525505   \n",
       "113575  1584553348597895168   \n",
       "113576  1584553348132397056   \n",
       "113577  1584553347998105600   \n",
       "\n",
       "                                                     text       username  \\\n",
       "113573  @JackBarbour_ @piersmorgan @RishiSunak The man...     aqeelone22   \n",
       "113574  @Jacob_Rees_Mogg @RishiSunak Let's hope you're...  EddieThornley   \n",
       "113575  @sajidjavid @RishiSunak Desperate call for a d...    pedleysjohn   \n",
       "113576  @SkyNews Rulling Party needs a strong oppositi...       KarobiVC   \n",
       "113577  @trussliz @RishiSunak Liz Truss has won the ma...     sands_hill   \n",
       "\n",
       "                       hashtags                 created_at  \\\n",
       "113573                      NaN  2022-10-24 14:32:12+00:00   \n",
       "113574                      NaN  2022-10-24 14:32:12+00:00   \n",
       "113575  ['ToriesUnfitToGovern']  2022-10-24 14:32:12+00:00   \n",
       "113576                      NaN  2022-10-24 14:32:12+00:00   \n",
       "113577                      NaN  2022-10-24 14:32:12+00:00   \n",
       "\n",
       "        user followers count  replycount  retweetcount  likecount  quotecount  \\\n",
       "113573                  1162           0             0          0           0   \n",
       "113574                    97           0             0          0           0   \n",
       "113575                  2484           0             0          0           0   \n",
       "113576                   392           0             0          0           0   \n",
       "113577                     4           0             0          0           0   \n",
       "\n",
       "       language  quotedtweet  inReplyToTweetId  \\\n",
       "113573       en          NaN      1.584532e+18   \n",
       "113574       en          NaN      1.584539e+18   \n",
       "113575       en          NaN      1.584401e+18   \n",
       "113576       en          NaN      1.584512e+18   \n",
       "113577       en          NaN      1.584546e+18   \n",
       "\n",
       "                              inReplyToUser  \\\n",
       "113573     https://twitter.com/JackBarbour_   \n",
       "113574  https://twitter.com/Jacob_Rees_Mogg   \n",
       "113575       https://twitter.com/sajidjavid   \n",
       "113576          https://twitter.com/SkyNews   \n",
       "113577         https://twitter.com/trussliz   \n",
       "\n",
       "                                           mentionedUsers  \n",
       "113573  @JackBarbour_ @piersmorgan @RishiSunak The man...  \n",
       "113574  @Jacob_Rees_Mogg @RishiSunak Let's hope you're...  \n",
       "113575  @sajidjavid @RishiSunak Desperate call for a d...  \n",
       "113576  @SkyNews Rulling Party needs a strong oppositi...  \n",
       "113577  @trussliz @RishiSunak Liz Truss has won the ma...  "
      ]
     },
     "execution_count": 9,
     "metadata": {},
     "output_type": "execute_result"
    },
    {
     "name": "stdout",
     "output_type": "stream",
     "text": [
      "time: 397 ms (started: 2024-05-24 23:38:41 -04:00)\n"
     ]
    }
   ],
   "source": [
    "df = pd.read_csv(os.path.abspath('') +\"/input/latest-elected-uk-prime-minister-rishi-sunak/uk_pm.csv\", delimiter=',', encoding='utf8')\n",
    "pd.set_option('display.max_columns', None)\n",
    "df.tail()"
   ]
  },
  {
   "cell_type": "code",
   "execution_count": 10,
   "id": "8d462207",
   "metadata": {
    "execution": {
     "iopub.execute_input": "2022-10-31T23:40:34.967191Z",
     "iopub.status.busy": "2022-10-31T23:40:34.966224Z",
     "iopub.status.idle": "2022-10-31T23:40:35.019737Z",
     "shell.execute_reply": "2022-10-31T23:40:35.018785Z",
     "shell.execute_reply.started": "2022-10-31T23:40:34.967149Z"
    }
   },
   "outputs": [
    {
     "name": "stdout",
     "output_type": "stream",
     "text": [
      "113332 tweets with less than 500 dislikes\n",
      "246 tweets with more than 500 dislikes\n",
      "time: 19.8 ms (started: 2024-05-24 23:38:41 -04:00)\n"
     ]
    }
   ],
   "source": [
    "#Code by Leon Wolber https://www.kaggle.com/leonwolber/reddit-nlp-topic-modeling-prediction\n",
    "\n",
    "print(len(train[train['likecount'] < 500]), 'tweets with less than 500 dislikes')\n",
    "print(len(train[train['likecount'] > 500]), 'tweets with more than 500 dislikes')"
   ]
  },
  {
   "cell_type": "code",
   "execution_count": 11,
   "id": "2f4645b2",
   "metadata": {
    "execution": {
     "iopub.execute_input": "2022-10-31T23:40:39.652324Z",
     "iopub.status.busy": "2022-10-31T23:40:39.651477Z",
     "iopub.status.idle": "2022-10-31T23:40:39.659326Z",
     "shell.execute_reply": "2022-10-31T23:40:39.658412Z",
     "shell.execute_reply.started": "2022-10-31T23:40:39.652288Z"
    }
   },
   "outputs": [
    {
     "data": {
      "text/plain": [
       "\"Warmest congratulations @RishiSunak! As you become UK PM, I look forward to working closely together on global issues, and implementing Roadmap 2030. Special Diwali wishes to the 'living bridge' of UK Indians, as we transform our historic ties into a modern partnership.\""
      ]
     },
     "execution_count": 11,
     "metadata": {},
     "output_type": "execute_result"
    },
    {
     "name": "stdout",
     "output_type": "stream",
     "text": [
      "time: 2.01 ms (started: 2024-05-24 23:38:41 -04:00)\n"
     ]
    }
   ],
   "source": [
    "#Code by Leon Wolber https://www.kaggle.com/leonwolber/reddit-nlp-topic-modeling-prediction\n",
    "\n",
    "# video with the most comments\n",
    "\n",
    "train[train['likecount'] == train['likecount'].max()]['text'].iloc[0]"
   ]
  },
  {
   "cell_type": "code",
   "execution_count": 12,
   "id": "c963e3e1",
   "metadata": {
    "execution": {
     "iopub.execute_input": "2022-10-31T23:40:44.437021Z",
     "iopub.status.busy": "2022-10-31T23:40:44.436218Z",
     "iopub.status.idle": "2022-10-31T23:40:44.451561Z",
     "shell.execute_reply": "2022-10-31T23:40:44.450417Z",
     "shell.execute_reply.started": "2022-10-31T23:40:44.436985Z"
    }
   },
   "outputs": [
    {
     "name": "stdout",
     "output_type": "stream",
     "text": [
      "time: 1.77 ms (started: 2024-05-24 23:38:41 -04:00)\n"
     ]
    }
   ],
   "source": [
    "#Code by Leon Wolber https://www.kaggle.com/leonwolber/reddit-nlp-topic-modeling-prediction\n",
    "\n",
    "def remove_line_breaks(text):\n",
    "    text = text.replace('\\r', ' ').replace('\\n', ' ')\n",
    "    return text\n",
    "\n",
    "#remove punctuation\n",
    "def remove_punctuation(text):\n",
    "    re_replacements = re.compile(\"__[A-Z]+__\")  # such as __NAME__, __LINK__\n",
    "    re_punctuation = re.compile(\"[%s]\" % re.escape(string.punctuation))\n",
    "    '''Escape all the characters in pattern except ASCII letters and numbers'''\n",
    "    tokens = word_tokenize(text)\n",
    "    tokens_zero_punctuation = []\n",
    "    for token in tokens:\n",
    "        if not re_replacements.match(token):\n",
    "            token = re_punctuation.sub(\" \", token)\n",
    "        tokens_zero_punctuation.append(token)\n",
    "    return ' '.join(tokens_zero_punctuation)\n",
    "\n",
    "def remove_special_characters(text):\n",
    "    text = re.sub('[^a-zA-z0-9\\s]', '', text)\n",
    "    return text\n",
    "\n",
    "def lowercase(text):\n",
    "    text_low = [token.lower() for token in word_tokenize(text)]\n",
    "    return ' '.join(text_low)\n",
    "\n",
    "def remove_stopwords(text):\n",
    "    stop = set(stopwords.words('english'))\n",
    "    word_tokens = nltk.word_tokenize(text)\n",
    "    text = \" \".join([word for word in word_tokens if word not in stop])\n",
    "    return text\n",
    "\n",
    "#remobe one character words\n",
    "def remove_one_character_words(text):\n",
    "    '''Remove words from dataset that contain only 1 character'''\n",
    "    text_high_use = [token for token in word_tokenize(text) if len(token)>1]      \n",
    "    return ' '.join(text_high_use)   \n",
    "    \n",
    "#%%\n",
    "# Stemming with 'Snowball stemmer\" package\n",
    "def stem(text):\n",
    "    stemmer = nltk.stem.snowball.SnowballStemmer('english')\n",
    "    text_stemmed = [stemmer.stem(token) for token in word_tokenize(text)]        \n",
    "    return ' '.join(text_stemmed)\n",
    "\n",
    "def lemma(text):\n",
    "    wordnet_lemmatizer = WordNetLemmatizer()\n",
    "    word_tokens = nltk.word_tokenize(text)\n",
    "    text_lemma = \" \".join([wordnet_lemmatizer.lemmatize(word) for word in word_tokens])       \n",
    "    return ' '.join(text_lemma)\n",
    "\n",
    "\n",
    "#break sentences to individual word list\n",
    "def sentence_word(text):\n",
    "    word_tokens = nltk.word_tokenize(text)\n",
    "    return word_tokens\n",
    "#break paragraphs to sentence token \n",
    "def paragraph_sentence(text):\n",
    "    sent_token = nltk.sent_tokenize(text)\n",
    "    return sent_token    \n",
    "\n",
    "\n",
    "def tokenize(text):\n",
    "    \"\"\"Return a list of words in a text.\"\"\"\n",
    "    return re.findall(r'\\w+', text)\n",
    "\n",
    "def remove_numbers(text):\n",
    "    no_nums = re.sub(r'\\d+', '', text)\n",
    "    return ''.join(no_nums)\n",
    "\n",
    "\n",
    "\n",
    "def clean_text(text):\n",
    "    _steps = [\n",
    "    remove_line_breaks,\n",
    "    remove_one_character_words,\n",
    "    remove_special_characters,\n",
    "    lowercase,\n",
    "    remove_punctuation,\n",
    "    remove_stopwords,\n",
    "    stem,\n",
    "    remove_numbers\n",
    "]\n",
    "    for step in _steps:\n",
    "        text=step(text)\n",
    "    return text   \n",
    "#%%"
   ]
  },
  {
   "cell_type": "code",
   "execution_count": 13,
   "id": "2c3a38fb",
   "metadata": {
    "execution": {
     "iopub.execute_input": "2022-10-31T23:40:52.867518Z",
     "iopub.status.busy": "2022-10-31T23:40:52.867145Z",
     "iopub.status.idle": "2022-10-31T23:40:53.346575Z",
     "shell.execute_reply": "2022-10-31T23:40:53.345516Z",
     "shell.execute_reply.started": "2022-10-31T23:40:52.867488Z"
    }
   },
   "outputs": [
    {
     "name": "stdout",
     "output_type": "stream",
     "text": [
      "time: 160 ms (started: 2024-05-24 23:38:41 -04:00)\n"
     ]
    }
   ],
   "source": [
    "#https://stackoverflow.com/questions/55557004/getting-attributeerror-float-object-has-no-attribute-replace-error-while\n",
    "#To avoid with tqdm AttributeError: 'float' object has no attribute\n",
    "\n",
    "train[\"text\"] = train[\"text\"].astype(str)\n",
    "train[\"text\"] = [x.replace(':',' ') for x in train[\"text\"]]"
   ]
  },
  {
   "cell_type": "code",
   "execution_count": null,
   "id": "e5542df1",
   "metadata": {},
   "outputs": [],
   "source": [
    "# %%snappy\n",
    "def extracted_cell(clean_text: Callable[()], train: DataFrame) -> DataFrame:\n",
    "    \"\"\"\n",
    "Params:\n",
    "clean_text: typing.Callable\n",
    "train: Rows: Single-level Index: Integer\n",
    "       Columns: Single-level Index: ['text: string', 'username: unknown', 'hashtags: unknown', 'created_at: unknown', 'user followers count: integer', 'replycount: integer', 'retweetcount: integer', 'likecount: integer', 'quotecount: integer', 'language: unknown', 'quotedtweet: unknown', 'inReplyToTweetId: float', 'inReplyToUser: unknown', 'mentionedUsers: unknown']\n",
    "\n",
    "Returns:\n",
    "Rows: Single-level Index: Integer\n",
    "Columns: Single-level Index: ['text: string', 'username: unknown', 'hashtags: unknown', 'created_at: unknown', 'user followers count: integer', 'replycount: integer', 'retweetcount: integer', 'likecount: integer', 'quotecount: integer', 'language: unknown', 'quotedtweet: unknown', 'inReplyToTweetId: float', 'inReplyToUser: unknown', 'mentionedUsers: unknown', 'clean_text: string']\n",
    "\"\"\"\n",
    "    train['clean_text'] = pd.Series([clean_text(i) for i in train['text']])\n",
    "    return train\n",
    "train = extracted_cell(clean_text, train)"
   ]
  },
  {
   "cell_type": "markdown",
   "id": "e95e5e0e",
   "metadata": {},
   "source": [
    "* Original output:\n",
    "```\n",
    "\n",
    "```"
   ]
  },
  {
   "cell_type": "code",
   "execution_count": null,
   "id": "602e3b56",
   "metadata": {
    "execution": {
     "iopub.execute_input": "2022-10-31T23:43:20.602988Z",
     "iopub.status.busy": "2022-10-31T23:43:20.602618Z",
     "iopub.status.idle": "2022-10-31T23:43:20.607817Z",
     "shell.execute_reply": "2022-10-31T23:43:20.606854Z",
     "shell.execute_reply.started": "2022-10-31T23:43:20.602955Z"
    }
   },
   "outputs": [],
   "source": [
    "words = train[\"clean_text\"].values"
   ]
  },
  {
   "cell_type": "code",
   "execution_count": null,
   "id": "56b2183a",
   "metadata": {
    "execution": {
     "iopub.execute_input": "2022-10-31T23:43:26.289093Z",
     "iopub.status.busy": "2022-10-31T23:43:26.288732Z",
     "iopub.status.idle": "2022-10-31T23:43:26.334332Z",
     "shell.execute_reply": "2022-10-31T23:43:26.333425Z",
     "shell.execute_reply.started": "2022-10-31T23:43:26.289056Z"
    }
   },
   "outputs": [],
   "source": [
    "#Code by Leon Wolber https://www.kaggle.com/leonwolber/reddit-nlp-topic-modeling-prediction\n",
    "\n",
    "ls = []\n",
    "\n",
    "for i in words:\n",
    "    ls.append(str(i))"
   ]
  },
  {
   "cell_type": "code",
   "execution_count": null,
   "id": "cb2a5720",
   "metadata": {
    "execution": {
     "iopub.execute_input": "2022-10-31T23:43:30.771142Z",
     "iopub.status.busy": "2022-10-31T23:43:30.770734Z",
     "iopub.status.idle": "2022-10-31T23:43:30.777861Z",
     "shell.execute_reply": "2022-10-31T23:43:30.776848Z",
     "shell.execute_reply.started": "2022-10-31T23:43:30.771099Z"
    }
   },
   "outputs": [],
   "source": [
    "ls[:5]"
   ]
  },
  {
   "cell_type": "code",
   "execution_count": null,
   "id": "69befe53",
   "metadata": {
    "_kg_hide-input": true,
    "execution": {
     "iopub.execute_input": "2022-10-31T23:43:36.136023Z",
     "iopub.status.busy": "2022-10-31T23:43:36.135643Z",
     "iopub.status.idle": "2022-10-31T23:43:36.900754Z",
     "shell.execute_reply": "2022-10-31T23:43:36.899739Z",
     "shell.execute_reply.started": "2022-10-31T23:43:36.135989Z"
    }
   },
   "outputs": [],
   "source": [
    "# STEFANOS: Disable plotting\n",
    "# #Code by Leon Wolber https://www.kaggle.com/leonwolber/reddit-nlp-topic-modeling-prediction\n",
    "\n",
    "# # The wordcloud \n",
    "# plt.figure(figsize=(16,13))\n",
    "# wc = WordCloud(background_color=\"lightblue\", colormap='Set2', max_words=1000, max_font_size= 200,  width=1600, height=800)\n",
    "# wc.generate(\" \".join(ls))\n",
    "# plt.title(\"Most discussed terms\", fontsize=20)\n",
    "# plt.imshow(wc.recolor( colormap= 'Set2' , random_state=17), alpha=0.98, interpolation=\"bilinear\", )\n",
    "# plt.axis('off')"
   ]
  },
  {
   "cell_type": "code",
   "execution_count": null,
   "id": "aa2e50fe",
   "metadata": {
    "execution": {
     "iopub.execute_input": "2022-10-31T23:43:52.040954Z",
     "iopub.status.busy": "2022-10-31T23:43:52.040312Z",
     "iopub.status.idle": "2022-10-31T23:43:52.12457Z",
     "shell.execute_reply": "2022-10-31T23:43:52.123479Z",
     "shell.execute_reply.started": "2022-10-31T23:43:52.040919Z"
    }
   },
   "outputs": [],
   "source": [
    "#Code by Leon Wolber https://www.kaggle.com/leonwolber/reddit-nlp-topic-modeling-prediction\n",
    "\n",
    "most_pop = train.sort_values('likecount', ascending =False)[['text', 'likecount']].head(12)\n",
    "\n",
    "most_pop['target1'] = most_pop['likecount']/1000"
   ]
  },
  {
   "cell_type": "code",
   "execution_count": null,
   "id": "e4b433a2",
   "metadata": {
    "execution": {
     "iopub.execute_input": "2022-10-31T23:43:56.506454Z",
     "iopub.status.busy": "2022-10-31T23:43:56.506083Z",
     "iopub.status.idle": "2022-10-31T23:43:58.458703Z",
     "shell.execute_reply": "2022-10-31T23:43:58.45802Z",
     "shell.execute_reply.started": "2022-10-31T23:43:56.506423Z"
    }
   },
   "outputs": [],
   "source": [
    "# STEFANOS: Disable plotting\n",
    "\n",
    "# #Code by Leon Wolber https://www.kaggle.com/leonwolber/reddit-nlp-topic-modeling-prediction\n",
    "\n",
    "# plt.figure(figsize = (30,35))\n",
    "\n",
    "# sns.barplot(data = most_pop, y = 'text', x = 'target1', color = 'c')\n",
    "# plt.xticks(fontsize=50, rotation=0)\n",
    "# plt.yticks(fontsize=50, rotation=0)\n",
    "# plt.xlabel('Votes in Thousands', fontsize = 21)\n",
    "# plt.ylabel('')\n",
    "# plt.title('Most popular tweets', fontsize = 50);"
   ]
  },
  {
   "cell_type": "code",
   "execution_count": null,
   "id": "1b9721e1",
   "metadata": {
    "execution": {
     "iopub.execute_input": "2022-10-31T23:44:06.80569Z",
     "iopub.status.busy": "2022-10-31T23:44:06.805327Z",
     "iopub.status.idle": "2022-10-31T23:44:06.894951Z",
     "shell.execute_reply": "2022-10-31T23:44:06.89417Z",
     "shell.execute_reply.started": "2022-10-31T23:44:06.805655Z"
    }
   },
   "outputs": [],
   "source": [
    "import collections.abc\n",
    "#gensim aliases to be done manually.\n",
    "collections.Iterable = collections.abc.Iterable\n",
    "collections.Mapping = collections.abc.Mapping\n",
    "collections.MutableSet = collections.abc.MutableSet\n",
    "collections.MutableMapping = collections.abc.MutableMapping\n",
    "import gensim\n",
    "from gensim.utils import simple_preprocess\n",
    "from gensim.parsing.preprocessing import STOPWORDS\n",
    "from nltk.stem import WordNetLemmatizer, SnowballStemmer\n",
    "from nltk.stem.porter import *\n",
    "import numpy as np\n",
    "np.random.seed(2018)\n",
    "import nltk"
   ]
  },
  {
   "cell_type": "code",
   "execution_count": null,
   "id": "134d10e8",
   "metadata": {
    "execution": {
     "iopub.execute_input": "2022-10-31T23:44:11.282287Z",
     "iopub.status.busy": "2022-10-31T23:44:11.281913Z",
     "iopub.status.idle": "2022-10-31T23:44:11.286998Z",
     "shell.execute_reply": "2022-10-31T23:44:11.286052Z",
     "shell.execute_reply.started": "2022-10-31T23:44:11.282255Z"
    }
   },
   "outputs": [],
   "source": [
    "stemmer = SnowballStemmer('english')"
   ]
  },
  {
   "cell_type": "code",
   "execution_count": null,
   "id": "18ab85fd",
   "metadata": {
    "_kg_hide-output": true,
    "execution": {
     "iopub.execute_input": "2022-10-31T23:44:16.404754Z",
     "iopub.status.busy": "2022-10-31T23:44:16.404372Z",
     "iopub.status.idle": "2022-10-31T23:44:16.505641Z",
     "shell.execute_reply": "2022-10-31T23:44:16.504615Z",
     "shell.execute_reply.started": "2022-10-31T23:44:16.404725Z"
    }
   },
   "outputs": [],
   "source": [
    "# STEFANOS: Disable. Connects to net.\n",
    "# nltk.download('wordnet')"
   ]
  },
  {
   "cell_type": "code",
   "execution_count": null,
   "id": "43e38aaa",
   "metadata": {
    "execution": {
     "iopub.execute_input": "2022-10-31T23:44:21.276694Z",
     "iopub.status.busy": "2022-10-31T23:44:21.275656Z",
     "iopub.status.idle": "2022-10-31T23:44:21.282954Z",
     "shell.execute_reply": "2022-10-31T23:44:21.281842Z",
     "shell.execute_reply.started": "2022-10-31T23:44:21.276636Z"
    }
   },
   "outputs": [],
   "source": [
    "#Code by Leon Wolber https://www.kaggle.com/leonwolber/reddit-nlp-topic-modeling-prediction\n",
    "\n",
    "def lemmatize_stemming(text):\n",
    "    return stemmer.stem(WordNetLemmatizer().lemmatize(text, pos='v'))\n",
    "\n",
    "def preprocess(text):\n",
    "    result = []\n",
    "    for token in gensim.utils.simple_preprocess(text):\n",
    "        if token not in gensim.parsing.preprocessing.STOPWORDS and len(token) > 3:\n",
    "            result.append(lemmatize_stemming(token))\n",
    "    return result"
   ]
  },
  {
   "cell_type": "code",
   "execution_count": null,
   "id": "45546888",
   "metadata": {
    "execution": {
     "iopub.execute_input": "2022-10-31T23:44:26.159491Z",
     "iopub.status.busy": "2022-10-31T23:44:26.159094Z",
     "iopub.status.idle": "2022-10-31T23:44:26.16499Z",
     "shell.execute_reply": "2022-10-31T23:44:26.164082Z",
     "shell.execute_reply.started": "2022-10-31T23:44:26.159457Z"
    }
   },
   "outputs": [],
   "source": [
    "train['text'].iloc[2]"
   ]
  },
  {
   "cell_type": "code",
   "execution_count": null,
   "id": "56964876",
   "metadata": {
    "execution": {
     "iopub.execute_input": "2022-10-31T23:44:32.409926Z",
     "iopub.status.busy": "2022-10-31T23:44:32.408989Z",
     "iopub.status.idle": "2022-10-31T23:44:32.466814Z",
     "shell.execute_reply": "2022-10-31T23:44:32.465876Z",
     "shell.execute_reply.started": "2022-10-31T23:44:32.409885Z"
    }
   },
   "outputs": [],
   "source": [
    "import nltk\n",
    "# STEFANOS: Disable. Connects to net.\n",
    "# nltk.download('omw-1.4')"
   ]
  },
  {
   "cell_type": "code",
   "execution_count": null,
   "id": "eee6261b",
   "metadata": {
    "execution": {
     "iopub.execute_input": "2022-10-31T23:44:39.010778Z",
     "iopub.status.busy": "2022-10-31T23:44:39.009899Z",
     "iopub.status.idle": "2022-10-31T23:44:40.622338Z",
     "shell.execute_reply": "2022-10-31T23:44:40.621276Z",
     "shell.execute_reply.started": "2022-10-31T23:44:39.010736Z"
    }
   },
   "outputs": [],
   "source": [
    "#Code by Leon Wolber https://www.kaggle.com/leonwolber/reddit-nlp-topic-modeling-prediction\n",
    "\n",
    "doc_sample = train['text'].iloc[1]\n",
    "print('original document: ')\n",
    "\n",
    "words = []\n",
    "\n",
    "for word in doc_sample.split(' '):\n",
    "    words.append(word)\n",
    "    \n",
    "    \n",
    "print(words)\n",
    "print('\\n\\n tokenized and lemmatized document: ')\n",
    "print(preprocess(doc_sample))"
   ]
  },
  {
   "cell_type": "code",
   "execution_count": null,
   "id": "c522fa4f",
   "metadata": {
    "execution": {
     "iopub.execute_input": "2022-10-31T23:44:46.357401Z",
     "iopub.status.busy": "2022-10-31T23:44:46.35698Z",
     "iopub.status.idle": "2022-10-31T23:44:46.37177Z",
     "shell.execute_reply": "2022-10-31T23:44:46.370865Z",
     "shell.execute_reply.started": "2022-10-31T23:44:46.357359Z"
    }
   },
   "outputs": [],
   "source": [
    "train['text'] = train['text'].astype(str)"
   ]
  },
  {
   "cell_type": "code",
   "execution_count": null,
   "id": "63a05398",
   "metadata": {
    "execution": {
     "iopub.execute_input": "2022-10-31T23:45:11.199311Z",
     "iopub.status.busy": "2022-10-31T23:45:11.198793Z",
     "iopub.status.idle": "2022-10-31T23:45:11.687938Z",
     "shell.execute_reply": "2022-10-31T23:45:11.687078Z",
     "shell.execute_reply.started": "2022-10-31T23:45:11.199273Z"
    }
   },
   "outputs": [],
   "source": [
    "#Code by Leon Wolber https://www.kaggle.com/leonwolber/reddit-nlp-topic-modeling-prediction\n",
    "\n",
    "words = []\n",
    "\n",
    "for i in train['text']:\n",
    "        words.append(i.split(' '))"
   ]
  },
  {
   "cell_type": "code",
   "execution_count": null,
   "id": "71b7eb2c",
   "metadata": {
    "execution": {
     "iopub.execute_input": "2022-10-31T23:45:53.1811Z",
     "iopub.status.busy": "2022-10-31T23:45:53.180676Z",
     "iopub.status.idle": "2022-10-31T23:45:57.459654Z",
     "shell.execute_reply": "2022-10-31T23:45:57.458628Z",
     "shell.execute_reply.started": "2022-10-31T23:45:53.181044Z"
    }
   },
   "outputs": [],
   "source": [
    "#Code by Leon Wolber https://www.kaggle.com/leonwolber/reddit-nlp-topic-modeling-prediction\n",
    "\n",
    "dictionary = gensim.corpora.Dictionary(words)\n",
    "\n",
    "count = 0\n",
    "for k, v in dictionary.iteritems():\n",
    "    print(k, v)\n",
    "    count += 1\n",
    "    if count > 10:\n",
    "        break"
   ]
  },
  {
   "cell_type": "code",
   "execution_count": null,
   "id": "62d7679f",
   "metadata": {
    "execution": {
     "iopub.execute_input": "2022-10-31T23:46:00.240641Z",
     "iopub.status.busy": "2022-10-31T23:46:00.240302Z",
     "iopub.status.idle": "2022-10-31T23:46:02.556799Z",
     "shell.execute_reply": "2022-10-31T23:46:02.555884Z",
     "shell.execute_reply.started": "2022-10-31T23:46:00.240616Z"
    }
   },
   "outputs": [],
   "source": [
    "bow_corpus = [dictionary.doc2bow(doc) for doc in words]\n",
    "bow_corpus[4310]"
   ]
  },
  {
   "cell_type": "code",
   "execution_count": null,
   "id": "8d3e7926",
   "metadata": {
    "execution": {
     "iopub.execute_input": "2022-10-31T23:46:14.27675Z",
     "iopub.status.busy": "2022-10-31T23:46:14.276381Z",
     "iopub.status.idle": "2022-10-31T23:46:14.282826Z",
     "shell.execute_reply": "2022-10-31T23:46:14.281922Z",
     "shell.execute_reply.started": "2022-10-31T23:46:14.276723Z"
    },
    "scrolled": true
   },
   "outputs": [],
   "source": [
    "#Code by Leon Wolber https://www.kaggle.com/leonwolber/reddit-nlp-topic-modeling-prediction\n",
    "\n",
    "bow_doc_4310 = bow_corpus[4310]\n",
    "\n",
    "for i in range(len(bow_doc_4310)):\n",
    "    print(\"Word {} (\\\"{}\\\") appears {} time.\".format(bow_doc_4310[i][0], \n",
    "                                               dictionary[bow_doc_4310[i][0]], \n",
    "bow_doc_4310[i][1]))"
   ]
  },
  {
   "cell_type": "code",
   "execution_count": null,
   "id": "1bb2c0b1",
   "metadata": {},
   "outputs": [],
   "source": [
    "SNAPPY_end_time = time.perf_counter_ns()\n",
    "print(\"Total elapsed time:\", (SNAPPY_end_time - SNAPPY_start_time) / (10 ** 9))"
   ]
  }
 ],
 "metadata": {
  "kernelspec": {
   "display_name": "Python 3 (ipykernel)",
   "language": "python",
   "name": "python3"
  },
  "language_info": {
   "codemirror_mode": {
    "name": "ipython",
    "version": 3
   },
   "file_extension": ".py",
   "mimetype": "text/x-python",
   "name": "python",
   "nbconvert_exporter": "python",
   "pygments_lexer": "ipython3",
   "version": "3.10.11"
  }
 },
 "nbformat": 4,
 "nbformat_minor": 5
}
