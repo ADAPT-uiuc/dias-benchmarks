{
 "cells": [
  {
   "cell_type": "code",
   "execution_count": 5,
   "metadata": {
    "_cell_guid": "b1076dfc-b9ad-4769-8c92-a6c4dae69d19",
    "_uuid": "8f2839f25d086af736a60e9eeb907d3b93b6e0e5",
    "execution": {
     "iopub.execute_input": "2023-09-23T17:02:48.910232Z",
     "iopub.status.busy": "2023-09-23T17:02:48.909122Z",
     "iopub.status.idle": "2023-09-23T17:02:51.091322Z",
     "shell.execute_reply": "2023-09-23T17:02:51.089625Z",
     "shell.execute_reply.started": "2023-09-23T17:02:48.910138Z"
    }
   },
   "outputs": [],
   "source": [
    "import pandas as pd\n",
    "import numpy as np\n",
    "\n",
    "pd.plotting.register_matplotlib_converters()\n",
    "import matplotlib.pyplot as plt\n",
    "%matplotlib inline\n",
    "import seaborn as sns"
   ]
  },
  {
   "cell_type": "code",
   "execution_count": 6,
   "metadata": {
    "execution": {
     "iopub.execute_input": "2023-09-23T17:04:11.962198Z",
     "iopub.status.busy": "2023-09-23T17:04:11.961825Z",
     "iopub.status.idle": "2023-09-23T17:04:12.143243Z",
     "shell.execute_reply": "2023-09-23T17:04:12.141992Z",
     "shell.execute_reply.started": "2023-09-23T17:04:11.962169Z"
    }
   },
   "outputs": [
    {
     "data": {
      "text/html": [
       "<div>\n",
       "<style scoped>\n",
       "    .dataframe tbody tr th:only-of-type {\n",
       "        vertical-align: middle;\n",
       "    }\n",
       "\n",
       "    .dataframe tbody tr th {\n",
       "        vertical-align: top;\n",
       "    }\n",
       "\n",
       "    .dataframe thead th {\n",
       "        text-align: right;\n",
       "    }\n",
       "</style>\n",
       "<table border=\"1\" class=\"dataframe\">\n",
       "  <thead>\n",
       "    <tr style=\"text-align: right;\">\n",
       "      <th></th>\n",
       "      <th>make</th>\n",
       "      <th>model</th>\n",
       "      <th>city</th>\n",
       "      <th>year</th>\n",
       "      <th>mileage</th>\n",
       "      <th>Engine_displacement</th>\n",
       "      <th>Battery</th>\n",
       "      <th>Price_Rs</th>\n",
       "    </tr>\n",
       "  </thead>\n",
       "  <tbody>\n",
       "    <tr>\n",
       "      <th>0</th>\n",
       "      <td>Suzuki</td>\n",
       "      <td>Alto</td>\n",
       "      <td>Lahore</td>\n",
       "      <td>2019</td>\n",
       "      <td>45744</td>\n",
       "      <td>660.0</td>\n",
       "      <td>NaN</td>\n",
       "      <td>3550000</td>\n",
       "    </tr>\n",
       "    <tr>\n",
       "      <th>1</th>\n",
       "      <td>Suzuki</td>\n",
       "      <td>Wagon</td>\n",
       "      <td>Lahore</td>\n",
       "      <td>2019</td>\n",
       "      <td>17583</td>\n",
       "      <td>660.0</td>\n",
       "      <td>NaN</td>\n",
       "      <td>3850000</td>\n",
       "    </tr>\n",
       "    <tr>\n",
       "      <th>2</th>\n",
       "      <td>Suzuki</td>\n",
       "      <td>Wagon</td>\n",
       "      <td>Lahore</td>\n",
       "      <td>2019</td>\n",
       "      <td>64085</td>\n",
       "      <td>660.0</td>\n",
       "      <td>NaN</td>\n",
       "      <td>3890000</td>\n",
       "    </tr>\n",
       "    <tr>\n",
       "      <th>3</th>\n",
       "      <td>Suzuki</td>\n",
       "      <td>Wagon</td>\n",
       "      <td>Lahore</td>\n",
       "      <td>2019</td>\n",
       "      <td>71281</td>\n",
       "      <td>660.0</td>\n",
       "      <td>NaN</td>\n",
       "      <td>3990000</td>\n",
       "    </tr>\n",
       "    <tr>\n",
       "      <th>4</th>\n",
       "      <td>Toyota</td>\n",
       "      <td>Aqua</td>\n",
       "      <td>Lahore</td>\n",
       "      <td>2020</td>\n",
       "      <td>19950</td>\n",
       "      <td>1500.0</td>\n",
       "      <td>NaN</td>\n",
       "      <td>3990000</td>\n",
       "    </tr>\n",
       "    <tr>\n",
       "      <th>...</th>\n",
       "      <td>...</td>\n",
       "      <td>...</td>\n",
       "      <td>...</td>\n",
       "      <td>...</td>\n",
       "      <td>...</td>\n",
       "      <td>...</td>\n",
       "      <td>...</td>\n",
       "      <td>...</td>\n",
       "    </tr>\n",
       "    <tr>\n",
       "      <th>86115</th>\n",
       "      <td>Suzuki</td>\n",
       "      <td>Bolan</td>\n",
       "      <td>Rawalpindi</td>\n",
       "      <td>2011</td>\n",
       "      <td>60000</td>\n",
       "      <td>800.0</td>\n",
       "      <td>NaN</td>\n",
       "      <td>985000</td>\n",
       "    </tr>\n",
       "    <tr>\n",
       "      <th>86116</th>\n",
       "      <td>Toyota</td>\n",
       "      <td>Hiace</td>\n",
       "      <td>Lahore</td>\n",
       "      <td>2009</td>\n",
       "      <td>300000</td>\n",
       "      <td>2700.0</td>\n",
       "      <td>NaN</td>\n",
       "      <td>3200000</td>\n",
       "    </tr>\n",
       "    <tr>\n",
       "      <th>86117</th>\n",
       "      <td>Suzuki</td>\n",
       "      <td>Bolan</td>\n",
       "      <td>Islamabad</td>\n",
       "      <td>2017</td>\n",
       "      <td>44740</td>\n",
       "      <td>800.0</td>\n",
       "      <td>NaN</td>\n",
       "      <td>1750000</td>\n",
       "    </tr>\n",
       "    <tr>\n",
       "      <th>86118</th>\n",
       "      <td>Toyota</td>\n",
       "      <td>Passo</td>\n",
       "      <td>Karachi</td>\n",
       "      <td>2010</td>\n",
       "      <td>94890</td>\n",
       "      <td>1000.0</td>\n",
       "      <td>NaN</td>\n",
       "      <td>2300000</td>\n",
       "    </tr>\n",
       "    <tr>\n",
       "      <th>86119</th>\n",
       "      <td>Suzuki</td>\n",
       "      <td>Cultus</td>\n",
       "      <td>Lahore</td>\n",
       "      <td>2008</td>\n",
       "      <td>60800</td>\n",
       "      <td>1000.0</td>\n",
       "      <td>NaN</td>\n",
       "      <td>990000</td>\n",
       "    </tr>\n",
       "  </tbody>\n",
       "</table>\n",
       "<p>86120 rows × 8 columns</p>\n",
       "</div>"
      ],
      "text/plain": [
       "         make   model        city  year  mileage  Engine_displacement  \\\n",
       "0      Suzuki    Alto      Lahore  2019    45744                660.0   \n",
       "1      Suzuki   Wagon      Lahore  2019    17583                660.0   \n",
       "2      Suzuki   Wagon      Lahore  2019    64085                660.0   \n",
       "3      Suzuki   Wagon      Lahore  2019    71281                660.0   \n",
       "4      Toyota    Aqua      Lahore  2020    19950               1500.0   \n",
       "...       ...     ...         ...   ...      ...                  ...   \n",
       "86115  Suzuki   Bolan  Rawalpindi  2011    60000                800.0   \n",
       "86116  Toyota   Hiace      Lahore  2009   300000               2700.0   \n",
       "86117  Suzuki   Bolan   Islamabad  2017    44740                800.0   \n",
       "86118  Toyota   Passo     Karachi  2010    94890               1000.0   \n",
       "86119  Suzuki  Cultus      Lahore  2008    60800               1000.0   \n",
       "\n",
       "       Battery  Price_Rs  \n",
       "0          NaN   3550000  \n",
       "1          NaN   3850000  \n",
       "2          NaN   3890000  \n",
       "3          NaN   3990000  \n",
       "4          NaN   3990000  \n",
       "...        ...       ...  \n",
       "86115      NaN    985000  \n",
       "86116      NaN   3200000  \n",
       "86117      NaN   1750000  \n",
       "86118      NaN   2300000  \n",
       "86119      NaN    990000  \n",
       "\n",
       "[86120 rows x 8 columns]"
      ]
     },
     "execution_count": 6,
     "metadata": {},
     "output_type": "execute_result"
    }
   ],
   "source": [
    "data =  pd.read_csv('../input/used_cars_Pakistan.csv',index_col=0)\n",
    "data"
   ]
  },
  {
   "cell_type": "code",
   "execution_count": 7,
   "metadata": {},
   "outputs": [
    {
     "name": "stdout",
     "output_type": "stream",
     "text": [
      "<class 'pandas.core.frame.DataFrame'>\n",
      "RangeIndex: 3703160 entries, 0 to 3703159\n",
      "Data columns (total 8 columns):\n",
      " #   Column               Dtype  \n",
      "---  ------               -----  \n",
      " 0   make                 object \n",
      " 1   model                object \n",
      " 2   city                 object \n",
      " 3   year                 int64  \n",
      " 4   mileage              int64  \n",
      " 5   Engine_displacement  float64\n",
      " 6   Battery              float64\n",
      " 7   Price_Rs             int64  \n",
      "dtypes: float64(2), int64(3), object(3)\n",
      "memory usage: 226.0+ MB\n"
     ]
    }
   ],
   "source": [
    "df = data\n",
    "intended_df_size_in_MB = 256\n",
    "factor = intended_df_size_in_MB*(2**20)/df.memory_usage(index=True).sum()\n",
    "if int(factor) > 0:\n",
    "    df = pd.concat([df]*int(factor), ignore_index=True)\n",
    "else:\n",
    "    rowCount = int(df.shape[0]*factor)\n",
    "    df = df[0:rowCount]\n",
    "data = df\n",
    "data.info()"
   ]
  },
  {
   "cell_type": "code",
   "execution_count": 8,
   "metadata": {
    "execution": {
     "iopub.execute_input": "2023-09-23T17:10:59.162100Z",
     "iopub.status.busy": "2023-09-23T17:10:59.161771Z",
     "iopub.status.idle": "2023-09-23T17:10:59.177191Z",
     "shell.execute_reply": "2023-09-23T17:10:59.175457Z",
     "shell.execute_reply.started": "2023-09-23T17:10:59.162072Z"
    }
   },
   "outputs": [
    {
     "data": {
      "text/plain": [
       "Toyota        1208687\n",
       "Suzuki        1017896\n",
       "Honda          782170\n",
       "Daihatsu       152134\n",
       "KIA             85656\n",
       "Nissan          75250\n",
       "Hyundai         71466\n",
       "Mitsubishi      50697\n",
       "Changan         44204\n",
       "Mercedes        32766\n",
       "Name: make, dtype: int64"
      ]
     },
     "execution_count": 8,
     "metadata": {},
     "output_type": "execute_result"
    }
   ],
   "source": [
    "data.make.value_counts().head(10)"
   ]
  },
  {
   "cell_type": "code",
   "execution_count": 4,
   "metadata": {
    "execution": {
     "iopub.execute_input": "2023-09-23T17:10:54.680982Z",
     "iopub.status.busy": "2023-09-23T17:10:54.680556Z",
     "iopub.status.idle": "2023-09-23T17:10:54.696533Z",
     "shell.execute_reply": "2023-09-23T17:10:54.694960Z",
     "shell.execute_reply.started": "2023-09-23T17:10:54.680951Z"
    }
   },
   "outputs": [
    {
     "data": {
      "text/plain": [
       "Corolla    13912\n",
       "Civic       9179\n",
       "City        5653\n",
       "Mehran      4855\n",
       "Cultus      4721\n",
       "Alto        4668\n",
       "Wagon       2530\n",
       "Vitz        2115\n",
       "Swift       1625\n",
       "Yaris       1499\n",
       "Name: model, dtype: int64"
      ]
     },
     "execution_count": 4,
     "metadata": {},
     "output_type": "execute_result"
    }
   ],
   "source": [
    "data.model.value_counts().head(10)"
   ]
  },
  {
   "cell_type": "code",
   "execution_count": 5,
   "metadata": {
    "execution": {
     "iopub.execute_input": "2023-09-23T17:10:49.771450Z",
     "iopub.status.busy": "2023-09-23T17:10:49.771061Z",
     "iopub.status.idle": "2023-09-23T17:10:49.787182Z",
     "shell.execute_reply": "2023-09-23T17:10:49.785027Z",
     "shell.execute_reply.started": "2023-09-23T17:10:49.771419Z"
    }
   },
   "outputs": [
    {
     "data": {
      "text/plain": [
       "Lahore        19354\n",
       "Karachi       16278\n",
       "Islamabad     13105\n",
       "Rawalpindi     6021\n",
       "Peshawar       3835\n",
       "Faisalabad     3167\n",
       "Multan         2554\n",
       "Gujranwala     2204\n",
       "Sialkot        1419\n",
       "Sargodha        935\n",
       "Name: city, dtype: int64"
      ]
     },
     "execution_count": 5,
     "metadata": {},
     "output_type": "execute_result"
    }
   ],
   "source": [
    "data.city.value_counts().head(10)"
   ]
  },
  {
   "cell_type": "code",
   "execution_count": 6,
   "metadata": {
    "execution": {
     "iopub.execute_input": "2023-09-23T17:10:40.552658Z",
     "iopub.status.busy": "2023-09-23T17:10:40.552253Z",
     "iopub.status.idle": "2023-09-23T17:10:40.565357Z",
     "shell.execute_reply": "2023-09-23T17:10:40.563467Z",
     "shell.execute_reply.started": "2023-09-23T17:10:40.552626Z"
    }
   },
   "outputs": [
    {
     "data": {
      "text/plain": [
       "2021    7097\n",
       "2022    6814\n",
       "2018    6079\n",
       "2017    5135\n",
       "2019    4624\n",
       "2020    4499\n",
       "2016    3865\n",
       "2015    3861\n",
       "2014    3574\n",
       "2007    3452\n",
       "Name: year, dtype: int64"
      ]
     },
     "execution_count": 6,
     "metadata": {},
     "output_type": "execute_result"
    }
   ],
   "source": [
    "data.year.value_counts().head(10)"
   ]
  },
  {
   "cell_type": "code",
   "execution_count": 7,
   "metadata": {
    "execution": {
     "iopub.execute_input": "2023-09-23T17:12:49.977829Z",
     "iopub.status.busy": "2023-09-23T17:12:49.977377Z",
     "iopub.status.idle": "2023-09-23T17:12:49.990357Z",
     "shell.execute_reply": "2023-09-23T17:12:49.988609Z",
     "shell.execute_reply.started": "2023-09-23T17:12:49.977794Z"
    }
   },
   "outputs": [
    {
     "data": {
      "text/plain": [
       "1300.0    14399\n",
       "1000.0    13431\n",
       "1500.0     9657\n",
       "1800.0     8759\n",
       "660.0      8529\n",
       "Name: Engine_displacement, dtype: int64"
      ]
     },
     "execution_count": 7,
     "metadata": {},
     "output_type": "execute_result"
    }
   ],
   "source": [
    "data.Engine_displacement.value_counts().head(5)"
   ]
  },
  {
   "cell_type": "code",
   "execution_count": 8,
   "metadata": {
    "execution": {
     "iopub.execute_input": "2023-09-23T17:13:27.395723Z",
     "iopub.status.busy": "2023-09-23T17:13:27.395269Z",
     "iopub.status.idle": "2023-09-23T17:13:27.405293Z",
     "shell.execute_reply": "2023-09-23T17:13:27.404121Z",
     "shell.execute_reply.started": "2023-09-23T17:13:27.395690Z"
    }
   },
   "outputs": [
    {
     "data": {
      "text/plain": [
       "60.0     35\n",
       "80.0     15\n",
       "75.0     15\n",
       "101.0    14\n",
       "120.0    13\n",
       "Name: Battery, dtype: int64"
      ]
     },
     "execution_count": 8,
     "metadata": {},
     "output_type": "execute_result"
    }
   ],
   "source": [
    "data.Battery.value_counts().head()"
   ]
  },
  {
   "cell_type": "code",
   "execution_count": 9,
   "metadata": {
    "execution": {
     "iopub.execute_input": "2023-09-23T17:15:46.935301Z",
     "iopub.status.busy": "2023-09-23T17:15:46.934928Z",
     "iopub.status.idle": "2023-09-23T17:15:46.944784Z",
     "shell.execute_reply": "2023-09-23T17:15:46.943589Z",
     "shell.execute_reply.started": "2023-09-23T17:15:46.935272Z"
    }
   },
   "outputs": [
    {
     "data": {
      "text/plain": [
       "0.2194612169066419"
      ]
     },
     "execution_count": 9,
     "metadata": {},
     "output_type": "execute_result"
    }
   ],
   "source": [
    "100*(len(data)-data.Battery.isnull().sum())/len(data)"
   ]
  },
  {
   "cell_type": "markdown",
   "metadata": {},
   "source": [
    "percent of electric vehicles is only 0.21%"
   ]
  },
  {
   "cell_type": "code",
   "execution_count": 10,
   "metadata": {
    "execution": {
     "iopub.execute_input": "2023-09-23T17:16:59.598504Z",
     "iopub.status.busy": "2023-09-23T17:16:59.598023Z",
     "iopub.status.idle": "2023-09-23T17:16:59.608212Z",
     "shell.execute_reply": "2023-09-23T17:16:59.606848Z",
     "shell.execute_reply.started": "2023-09-23T17:16:59.598460Z"
    }
   },
   "outputs": [
    {
     "data": {
      "text/plain": [
       "4173561.160961449"
      ]
     },
     "execution_count": 10,
     "metadata": {},
     "output_type": "execute_result"
    }
   ],
   "source": [
    "data.Price_Rs.mean()"
   ]
  },
  {
   "cell_type": "markdown",
   "metadata": {},
   "source": [
    "average price of car is 41 lakh"
   ]
  },
  {
   "cell_type": "code",
   "execution_count": 11,
   "metadata": {
    "execution": {
     "iopub.execute_input": "2023-09-23T17:17:23.726414Z",
     "iopub.status.busy": "2023-09-23T17:17:23.726043Z",
     "iopub.status.idle": "2023-09-23T17:17:23.738239Z",
     "shell.execute_reply": "2023-09-23T17:17:23.736616Z",
     "shell.execute_reply.started": "2023-09-23T17:17:23.726384Z"
    }
   },
   "outputs": [
    {
     "data": {
      "text/plain": [
       "2800000.0"
      ]
     },
     "execution_count": 11,
     "metadata": {},
     "output_type": "execute_result"
    }
   ],
   "source": [
    "data.Price_Rs.median()"
   ]
  },
  {
   "cell_type": "markdown",
   "metadata": {},
   "source": [
    "median value of car is 28 lakh"
   ]
  },
  {
   "cell_type": "code",
   "execution_count": null,
   "metadata": {},
   "outputs": [],
   "source": []
  }
 ],
 "metadata": {
  "kernelspec": {
   "display_name": "Python 3 (ipykernel)",
   "language": "python",
   "name": "python3"
  },
  "language_info": {
   "codemirror_mode": {
    "name": "ipython",
    "version": 3
   },
   "file_extension": ".py",
   "mimetype": "text/x-python",
   "name": "python",
   "nbconvert_exporter": "python",
   "pygments_lexer": "ipython3",
   "version": "3.10.13"
  }
 },
 "nbformat": 4,
 "nbformat_minor": 4
}
