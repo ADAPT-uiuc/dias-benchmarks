{
 "cells": [
  {
   "cell_type": "markdown",
   "id": "8138602d",
   "metadata": {
    "papermill": {
     "duration": 0.006105,
     "end_time": "2023-06-13T22:01:47.563619",
     "exception": false,
     "start_time": "2023-06-13T22:01:47.557514",
     "status": "completed"
    },
    "tags": []
   },
   "source": [
    "The \"IIT Admissions Dataset\" dataset provides valuable information about 200,000 students who have applied for admissions to Indian Institutes of Technology (IITs). It includes details such as the field of study, specialization, fees, and discounts offered to the students.We'll try to answer the following questions:\n",
    "\n",
    "How many students were admitted each year?\n",
    "What is the distribution of students across different field study?\n",
    "How many students are enrolled in each specialization?\n",
    "What is the average age of students in each field of study?\n",
    "What is the current semester distribution among all students?\n",
    "Are there any correlations between the field of study and the fees paid?\n",
    "Are there any correlations between the fees and the discount offered on the fees?"
   ]
  },
  {
   "cell_type": "code",
   "execution_count": 1,
   "id": "5fa7ac76",
   "metadata": {
    "execution": {
     "iopub.execute_input": "2023-06-13T22:01:47.576626Z",
     "iopub.status.busy": "2023-06-13T22:01:47.576214Z",
     "iopub.status.idle": "2023-06-13T22:01:49.188485Z",
     "shell.execute_reply": "2023-06-13T22:01:49.187435Z"
    },
    "papermill": {
     "duration": 1.621895,
     "end_time": "2023-06-13T22:01:49.191238",
     "exception": false,
     "start_time": "2023-06-13T22:01:47.569343",
     "status": "completed"
    },
    "tags": []
   },
   "outputs": [],
   "source": [
    "import pandas as pd \n",
    "import numpy as np\n"
   ]
  },
  {
   "cell_type": "code",
   "execution_count": 2,
   "id": "e50ce5fe",
   "metadata": {
    "execution": {
     "iopub.execute_input": "2023-06-13T22:01:49.225139Z",
     "iopub.status.busy": "2023-06-13T22:01:49.224745Z",
     "iopub.status.idle": "2023-06-13T22:01:49.920760Z",
     "shell.execute_reply": "2023-06-13T22:01:49.919346Z"
    },
    "papermill": {
     "duration": 0.706052,
     "end_time": "2023-06-13T22:01:49.923662",
     "exception": false,
     "start_time": "2023-06-13T22:01:49.217610",
     "status": "completed"
    },
    "tags": []
   },
   "outputs": [],
   "source": [
    "df = pd.read_csv(\"../input/student_data.csv\")"
   ]
  },
  {
   "cell_type": "code",
   "execution_count": 3,
   "id": "b75e5422",
   "metadata": {},
   "outputs": [
    {
     "name": "stdout",
     "output_type": "stream",
     "text": [
      "<class 'pandas.core.frame.DataFrame'>\n",
      "RangeIndex: 3200000 entries, 0 to 3199999\n",
      "Data columns (total 10 columns):\n",
      " #   Column                       Dtype \n",
      "---  ------                       ----- \n",
      " 0   Student ID                   int64 \n",
      " 1   Student Name                 object\n",
      " 2   Date of Birth                object\n",
      " 3   Field of Study               object\n",
      " 4   Year of Admission            int64 \n",
      " 5   Expected Year of Graduation  int64 \n",
      " 6   Current Semester             int64 \n",
      " 7   Specialization               object\n",
      " 8   Fees                         int64 \n",
      " 9   Discount on Fees             int64 \n",
      "dtypes: int64(6), object(4)\n",
      "memory usage: 244.1+ MB\n"
     ]
    }
   ],
   "source": [
    "df = df\n",
    "intended_df_size_in_MB = 256\n",
    "factor = intended_df_size_in_MB*(2**20)//df.memory_usage(index=True).sum()\n",
    "if factor > 0:\n",
    "    df = pd.concat([df]*factor, ignore_index=True)\n",
    "df = df\n",
    "df.info()"
   ]
  },
  {
   "cell_type": "code",
   "execution_count": 3,
   "id": "5497b2dd",
   "metadata": {
    "execution": {
     "iopub.execute_input": "2023-06-13T22:01:49.937550Z",
     "iopub.status.busy": "2023-06-13T22:01:49.937142Z",
     "iopub.status.idle": "2023-06-13T22:01:49.972070Z",
     "shell.execute_reply": "2023-06-13T22:01:49.970813Z"
    },
    "papermill": {
     "duration": 0.045125,
     "end_time": "2023-06-13T22:01:49.974786",
     "exception": false,
     "start_time": "2023-06-13T22:01:49.929661",
     "status": "completed"
    },
    "tags": []
   },
   "outputs": [
    {
     "data": {
      "text/html": [
       "<div>\n",
       "<style scoped>\n",
       "    .dataframe tbody tr th:only-of-type {\n",
       "        vertical-align: middle;\n",
       "    }\n",
       "\n",
       "    .dataframe tbody tr th {\n",
       "        vertical-align: top;\n",
       "    }\n",
       "\n",
       "    .dataframe thead th {\n",
       "        text-align: right;\n",
       "    }\n",
       "</style>\n",
       "<table border=\"1\" class=\"dataframe\">\n",
       "  <thead>\n",
       "    <tr style=\"text-align: right;\">\n",
       "      <th></th>\n",
       "      <th>Student ID</th>\n",
       "      <th>Student Name</th>\n",
       "      <th>Date of Birth</th>\n",
       "      <th>Field of Study</th>\n",
       "      <th>Year of Admission</th>\n",
       "      <th>Expected Year of Graduation</th>\n",
       "      <th>Current Semester</th>\n",
       "      <th>Specialization</th>\n",
       "      <th>Fees</th>\n",
       "      <th>Discount on Fees</th>\n",
       "    </tr>\n",
       "  </thead>\n",
       "  <tbody>\n",
       "    <tr>\n",
       "      <th>0</th>\n",
       "      <td>165527</td>\n",
       "      <td>Bryan Rogers</td>\n",
       "      <td>2006-01-19</td>\n",
       "      <td>Computer Science</td>\n",
       "      <td>2020</td>\n",
       "      <td>2017</td>\n",
       "      <td>3</td>\n",
       "      <td>Web Development</td>\n",
       "      <td>155152</td>\n",
       "      <td>19572</td>\n",
       "    </tr>\n",
       "    <tr>\n",
       "      <th>1</th>\n",
       "      <td>635763</td>\n",
       "      <td>James Hogan</td>\n",
       "      <td>1999-05-23</td>\n",
       "      <td>Mechanical Engineering</td>\n",
       "      <td>2020</td>\n",
       "      <td>2020</td>\n",
       "      <td>2</td>\n",
       "      <td>Machine Learning</td>\n",
       "      <td>157870</td>\n",
       "      <td>14760</td>\n",
       "    </tr>\n",
       "    <tr>\n",
       "      <th>2</th>\n",
       "      <td>740021</td>\n",
       "      <td>David Robinson</td>\n",
       "      <td>1997-12-02</td>\n",
       "      <td>Civil Engineering</td>\n",
       "      <td>2017</td>\n",
       "      <td>2022</td>\n",
       "      <td>1</td>\n",
       "      <td>Network Security</td>\n",
       "      <td>55662</td>\n",
       "      <td>5871</td>\n",
       "    </tr>\n",
       "    <tr>\n",
       "      <th>3</th>\n",
       "      <td>433076</td>\n",
       "      <td>Susan Miller</td>\n",
       "      <td>1999-10-30</td>\n",
       "      <td>Computer Science</td>\n",
       "      <td>2021</td>\n",
       "      <td>2019</td>\n",
       "      <td>1</td>\n",
       "      <td>Data Science</td>\n",
       "      <td>134955</td>\n",
       "      <td>17284</td>\n",
       "    </tr>\n",
       "    <tr>\n",
       "      <th>4</th>\n",
       "      <td>441628</td>\n",
       "      <td>Brittany Martin</td>\n",
       "      <td>1998-01-10</td>\n",
       "      <td>Chemical Engineering</td>\n",
       "      <td>2016</td>\n",
       "      <td>2018</td>\n",
       "      <td>1</td>\n",
       "      <td>Network Security</td>\n",
       "      <td>125934</td>\n",
       "      <td>14871</td>\n",
       "    </tr>\n",
       "  </tbody>\n",
       "</table>\n",
       "</div>"
      ],
      "text/plain": [
       "   Student ID     Student Name Date of Birth          Field of Study  \\\n",
       "0      165527     Bryan Rogers    2006-01-19        Computer Science   \n",
       "1      635763      James Hogan    1999-05-23  Mechanical Engineering   \n",
       "2      740021   David Robinson    1997-12-02       Civil Engineering   \n",
       "3      433076     Susan Miller    1999-10-30        Computer Science   \n",
       "4      441628  Brittany Martin    1998-01-10    Chemical Engineering   \n",
       "\n",
       "   Year of Admission  Expected Year of Graduation  Current Semester  \\\n",
       "0               2020                         2017                 3   \n",
       "1               2020                         2020                 2   \n",
       "2               2017                         2022                 1   \n",
       "3               2021                         2019                 1   \n",
       "4               2016                         2018                 1   \n",
       "\n",
       "     Specialization    Fees  Discount on Fees  \n",
       "0   Web Development  155152             19572  \n",
       "1  Machine Learning  157870             14760  \n",
       "2  Network Security   55662              5871  \n",
       "3      Data Science  134955             17284  \n",
       "4  Network Security  125934             14871  "
      ]
     },
     "execution_count": 3,
     "metadata": {},
     "output_type": "execute_result"
    }
   ],
   "source": [
    "df.head()"
   ]
  },
  {
   "cell_type": "code",
   "execution_count": 4,
   "id": "b909619b",
   "metadata": {
    "execution": {
     "iopub.execute_input": "2023-06-13T22:01:49.990707Z",
     "iopub.status.busy": "2023-06-13T22:01:49.990311Z",
     "iopub.status.idle": "2023-06-13T22:01:50.066935Z",
     "shell.execute_reply": "2023-06-13T22:01:50.065792Z"
    },
    "papermill": {
     "duration": 0.088798,
     "end_time": "2023-06-13T22:01:50.069960",
     "exception": false,
     "start_time": "2023-06-13T22:01:49.981162",
     "status": "completed"
    },
    "tags": []
   },
   "outputs": [
    {
     "data": {
      "text/html": [
       "<div>\n",
       "<style scoped>\n",
       "    .dataframe tbody tr th:only-of-type {\n",
       "        vertical-align: middle;\n",
       "    }\n",
       "\n",
       "    .dataframe tbody tr th {\n",
       "        vertical-align: top;\n",
       "    }\n",
       "\n",
       "    .dataframe thead th {\n",
       "        text-align: right;\n",
       "    }\n",
       "</style>\n",
       "<table border=\"1\" class=\"dataframe\">\n",
       "  <thead>\n",
       "    <tr style=\"text-align: right;\">\n",
       "      <th></th>\n",
       "      <th>student_id</th>\n",
       "      <th>year_of_admission</th>\n",
       "      <th>expected_graduation</th>\n",
       "      <th>current_sem</th>\n",
       "      <th>fees</th>\n",
       "      <th>discount</th>\n",
       "    </tr>\n",
       "  </thead>\n",
       "  <tbody>\n",
       "    <tr>\n",
       "      <th>count</th>\n",
       "      <td>200000.000000</td>\n",
       "      <td>200000.000000</td>\n",
       "      <td>200000.000000</td>\n",
       "      <td>200000.000000</td>\n",
       "      <td>200000.000000</td>\n",
       "      <td>200000.000000</td>\n",
       "    </tr>\n",
       "    <tr>\n",
       "      <th>mean</th>\n",
       "      <td>549367.492925</td>\n",
       "      <td>2018.997685</td>\n",
       "      <td>2019.995235</td>\n",
       "      <td>2.499020</td>\n",
       "      <td>125092.847595</td>\n",
       "      <td>12484.258575</td>\n",
       "    </tr>\n",
       "    <tr>\n",
       "      <th>std</th>\n",
       "      <td>259361.565011</td>\n",
       "      <td>2.002381</td>\n",
       "      <td>1.997744</td>\n",
       "      <td>1.117804</td>\n",
       "      <td>43287.894903</td>\n",
       "      <td>8788.362629</td>\n",
       "    </tr>\n",
       "    <tr>\n",
       "      <th>min</th>\n",
       "      <td>100001.000000</td>\n",
       "      <td>2016.000000</td>\n",
       "      <td>2017.000000</td>\n",
       "      <td>1.000000</td>\n",
       "      <td>50000.000000</td>\n",
       "      <td>0.000000</td>\n",
       "    </tr>\n",
       "    <tr>\n",
       "      <th>25%</th>\n",
       "      <td>325311.000000</td>\n",
       "      <td>2017.000000</td>\n",
       "      <td>2018.000000</td>\n",
       "      <td>1.000000</td>\n",
       "      <td>87641.500000</td>\n",
       "      <td>5383.000000</td>\n",
       "    </tr>\n",
       "    <tr>\n",
       "      <th>50%</th>\n",
       "      <td>548855.500000</td>\n",
       "      <td>2019.000000</td>\n",
       "      <td>2020.000000</td>\n",
       "      <td>2.000000</td>\n",
       "      <td>125221.000000</td>\n",
       "      <td>10792.500000</td>\n",
       "    </tr>\n",
       "    <tr>\n",
       "      <th>75%</th>\n",
       "      <td>774182.500000</td>\n",
       "      <td>2021.000000</td>\n",
       "      <td>2022.000000</td>\n",
       "      <td>3.000000</td>\n",
       "      <td>162597.250000</td>\n",
       "      <td>18154.000000</td>\n",
       "    </tr>\n",
       "    <tr>\n",
       "      <th>max</th>\n",
       "      <td>999997.000000</td>\n",
       "      <td>2022.000000</td>\n",
       "      <td>2023.000000</td>\n",
       "      <td>4.000000</td>\n",
       "      <td>200000.000000</td>\n",
       "      <td>39865.000000</td>\n",
       "    </tr>\n",
       "  </tbody>\n",
       "</table>\n",
       "</div>"
      ],
      "text/plain": [
       "          student_id  year_of_admission  expected_graduation    current_sem  \\\n",
       "count  200000.000000      200000.000000        200000.000000  200000.000000   \n",
       "mean   549367.492925        2018.997685          2019.995235       2.499020   \n",
       "std    259361.565011           2.002381             1.997744       1.117804   \n",
       "min    100001.000000        2016.000000          2017.000000       1.000000   \n",
       "25%    325311.000000        2017.000000          2018.000000       1.000000   \n",
       "50%    548855.500000        2019.000000          2020.000000       2.000000   \n",
       "75%    774182.500000        2021.000000          2022.000000       3.000000   \n",
       "max    999997.000000        2022.000000          2023.000000       4.000000   \n",
       "\n",
       "                fees       discount  \n",
       "count  200000.000000  200000.000000  \n",
       "mean   125092.847595   12484.258575  \n",
       "std     43287.894903    8788.362629  \n",
       "min     50000.000000       0.000000  \n",
       "25%     87641.500000    5383.000000  \n",
       "50%    125221.000000   10792.500000  \n",
       "75%    162597.250000   18154.000000  \n",
       "max    200000.000000   39865.000000  "
      ]
     },
     "execution_count": 4,
     "metadata": {},
     "output_type": "execute_result"
    }
   ],
   "source": [
    "df.columns =['student_id','student_name', 'DOB', 'field_of_study', 'year_of_admission', 'expected_graduation', 'current_sem', 'specialization', 'fees', 'discount']\n",
    "df.describe()"
   ]
  },
  {
   "cell_type": "code",
   "execution_count": 5,
   "id": "191bcfbd",
   "metadata": {
    "execution": {
     "iopub.execute_input": "2023-06-13T22:01:50.085676Z",
     "iopub.status.busy": "2023-06-13T22:01:50.085274Z",
     "iopub.status.idle": "2023-06-13T22:01:50.337405Z",
     "shell.execute_reply": "2023-06-13T22:01:50.336516Z"
    },
    "papermill": {
     "duration": 0.263046,
     "end_time": "2023-06-13T22:01:50.339751",
     "exception": false,
     "start_time": "2023-06-13T22:01:50.076705",
     "status": "completed"
    },
    "tags": []
   },
   "outputs": [
    {
     "data": {
      "text/plain": [
       "student_id             False\n",
       "student_name           False\n",
       "DOB                    False\n",
       "field_of_study         False\n",
       "year_of_admission      False\n",
       "expected_graduation    False\n",
       "current_sem            False\n",
       "specialization         False\n",
       "fees                   False\n",
       "discount               False\n",
       "dtype: bool"
      ]
     },
     "execution_count": 5,
     "metadata": {},
     "output_type": "execute_result"
    }
   ],
   "source": [
    "#Check for missing values \n",
    "df.isna().any()"
   ]
  },
  {
   "cell_type": "code",
   "execution_count": 6,
   "id": "81a98ef5",
   "metadata": {
    "execution": {
     "iopub.execute_input": "2023-06-13T22:01:50.355820Z",
     "iopub.status.busy": "2023-06-13T22:01:50.355146Z",
     "iopub.status.idle": "2023-06-13T22:01:50.542439Z",
     "shell.execute_reply": "2023-06-13T22:01:50.541203Z"
    },
    "papermill": {
     "duration": 0.198079,
     "end_time": "2023-06-13T22:01:50.544953",
     "exception": false,
     "start_time": "2023-06-13T22:01:50.346874",
     "status": "completed"
    },
    "tags": []
   },
   "outputs": [
    {
     "data": {
      "text/plain": [
       "False    200000\n",
       "dtype: int64"
      ]
     },
     "execution_count": 6,
     "metadata": {},
     "output_type": "execute_result"
    }
   ],
   "source": [
    "#Check for duplicated rows\n",
    "df.duplicated().value_counts()"
   ]
  },
  {
   "cell_type": "code",
   "execution_count": 7,
   "id": "6cf0cb2e",
   "metadata": {
    "execution": {
     "iopub.execute_input": "2023-06-13T22:01:50.561421Z",
     "iopub.status.busy": "2023-06-13T22:01:50.560990Z",
     "iopub.status.idle": "2023-06-13T22:01:50.829160Z",
     "shell.execute_reply": "2023-06-13T22:01:50.827799Z"
    },
    "papermill": {
     "duration": 0.280235,
     "end_time": "2023-06-13T22:01:50.832436",
     "exception": false,
     "start_time": "2023-06-13T22:01:50.552201",
     "status": "completed"
    },
    "tags": []
   },
   "outputs": [
    {
     "name": "stdout",
     "output_type": "stream",
     "text": [
      "<class 'pandas.core.frame.DataFrame'>\n",
      "RangeIndex: 200000 entries, 0 to 199999\n",
      "Data columns (total 10 columns):\n",
      " #   Column               Non-Null Count   Dtype \n",
      "---  ------               --------------   ----- \n",
      " 0   student_id           200000 non-null  int64 \n",
      " 1   student_name         200000 non-null  object\n",
      " 2   DOB                  200000 non-null  object\n",
      " 3   field_of_study       200000 non-null  object\n",
      " 4   year_of_admission    200000 non-null  int64 \n",
      " 5   expected_graduation  200000 non-null  int64 \n",
      " 6   current_sem          200000 non-null  int64 \n",
      " 7   specialization       200000 non-null  object\n",
      " 8   fees                 200000 non-null  int64 \n",
      " 9   discount             200000 non-null  int64 \n",
      "dtypes: int64(6), object(4)\n",
      "memory usage: 15.3+ MB\n"
     ]
    }
   ],
   "source": [
    "df.info()"
   ]
  },
  {
   "cell_type": "markdown",
   "id": "67572a40",
   "metadata": {
    "papermill": {
     "duration": 0.00732,
     "end_time": "2023-06-13T22:01:50.847541",
     "exception": false,
     "start_time": "2023-06-13T22:01:50.840221",
     "status": "completed"
    },
    "tags": []
   },
   "source": [
    " Creating a cross-tabulation of 'field_of_study' and 'specialization'"
   ]
  },
  {
   "cell_type": "code",
   "execution_count": 8,
   "id": "4a1cdac9",
   "metadata": {
    "execution": {
     "iopub.execute_input": "2023-06-13T22:01:50.864327Z",
     "iopub.status.busy": "2023-06-13T22:01:50.863898Z",
     "iopub.status.idle": "2023-06-13T22:01:50.956488Z",
     "shell.execute_reply": "2023-06-13T22:01:50.955655Z"
    },
    "papermill": {
     "duration": 0.103624,
     "end_time": "2023-06-13T22:01:50.958601",
     "exception": false,
     "start_time": "2023-06-13T22:01:50.854977",
     "status": "completed"
    },
    "tags": []
   },
   "outputs": [
    {
     "data": {
      "text/html": [
       "<div>\n",
       "<style scoped>\n",
       "    .dataframe tbody tr th:only-of-type {\n",
       "        vertical-align: middle;\n",
       "    }\n",
       "\n",
       "    .dataframe tbody tr th {\n",
       "        vertical-align: top;\n",
       "    }\n",
       "\n",
       "    .dataframe thead th {\n",
       "        text-align: right;\n",
       "    }\n",
       "</style>\n",
       "<table border=\"1\" class=\"dataframe\">\n",
       "  <thead>\n",
       "    <tr style=\"text-align: right;\">\n",
       "      <th>specialization</th>\n",
       "      <th>Artificial Intelligence</th>\n",
       "      <th>Data Science</th>\n",
       "      <th>Machine Learning</th>\n",
       "      <th>Network Security</th>\n",
       "      <th>Web Development</th>\n",
       "    </tr>\n",
       "    <tr>\n",
       "      <th>field_of_study</th>\n",
       "      <th></th>\n",
       "      <th></th>\n",
       "      <th></th>\n",
       "      <th></th>\n",
       "      <th></th>\n",
       "    </tr>\n",
       "  </thead>\n",
       "  <tbody>\n",
       "    <tr>\n",
       "      <th>Chemical Engineering</th>\n",
       "      <td>7945</td>\n",
       "      <td>7955</td>\n",
       "      <td>7924</td>\n",
       "      <td>8040</td>\n",
       "      <td>8156</td>\n",
       "    </tr>\n",
       "    <tr>\n",
       "      <th>Civil Engineering</th>\n",
       "      <td>7864</td>\n",
       "      <td>7925</td>\n",
       "      <td>7880</td>\n",
       "      <td>8076</td>\n",
       "      <td>8029</td>\n",
       "    </tr>\n",
       "    <tr>\n",
       "      <th>Computer Science</th>\n",
       "      <td>7900</td>\n",
       "      <td>8018</td>\n",
       "      <td>8131</td>\n",
       "      <td>7887</td>\n",
       "      <td>8024</td>\n",
       "    </tr>\n",
       "    <tr>\n",
       "      <th>Electrical Engineering</th>\n",
       "      <td>8058</td>\n",
       "      <td>8032</td>\n",
       "      <td>8201</td>\n",
       "      <td>8028</td>\n",
       "      <td>7986</td>\n",
       "    </tr>\n",
       "    <tr>\n",
       "      <th>Mechanical Engineering</th>\n",
       "      <td>7997</td>\n",
       "      <td>7940</td>\n",
       "      <td>8006</td>\n",
       "      <td>7901</td>\n",
       "      <td>8097</td>\n",
       "    </tr>\n",
       "  </tbody>\n",
       "</table>\n",
       "</div>"
      ],
      "text/plain": [
       "specialization          Artificial Intelligence  Data Science  \\\n",
       "field_of_study                                                  \n",
       "Chemical Engineering                       7945          7955   \n",
       "Civil Engineering                          7864          7925   \n",
       "Computer Science                           7900          8018   \n",
       "Electrical Engineering                     8058          8032   \n",
       "Mechanical Engineering                     7997          7940   \n",
       "\n",
       "specialization          Machine Learning  Network Security  Web Development  \n",
       "field_of_study                                                               \n",
       "Chemical Engineering                7924              8040             8156  \n",
       "Civil Engineering                   7880              8076             8029  \n",
       "Computer Science                    8131              7887             8024  \n",
       "Electrical Engineering              8201              8028             7986  \n",
       "Mechanical Engineering              8006              7901             8097  "
      ]
     },
     "execution_count": 8,
     "metadata": {},
     "output_type": "execute_result"
    }
   ],
   "source": [
    "cross_tab = pd.crosstab(df['field_of_study'], df['specialization'])\n",
    "cross_tab"
   ]
  },
  {
   "cell_type": "code",
   "execution_count": 9,
   "id": "816bd2f2",
   "metadata": {
    "execution": {
     "iopub.execute_input": "2023-06-13T22:01:50.976005Z",
     "iopub.status.busy": "2023-06-13T22:01:50.975382Z",
     "iopub.status.idle": "2023-06-13T22:01:51.488018Z",
     "shell.execute_reply": "2023-06-13T22:01:51.486183Z"
    },
    "papermill": {
     "duration": 0.524895,
     "end_time": "2023-06-13T22:01:51.491207",
     "exception": false,
     "start_time": "2023-06-13T22:01:50.966312",
     "status": "completed"
    },
    "tags": []
   },
   "outputs": [],
   "source": [
    "#Distribution of students across different 'field_of_study'\n",
    "counts = df['field_of_study'].value_counts()\n"
   ]
  },
  {
   "cell_type": "code",
   "execution_count": 10,
   "id": "fa531b23",
   "metadata": {
    "execution": {
     "iopub.execute_input": "2023-06-13T22:01:51.510519Z",
     "iopub.status.busy": "2023-06-13T22:01:51.510121Z",
     "iopub.status.idle": "2023-06-13T22:01:51.550443Z",
     "shell.execute_reply": "2023-06-13T22:01:51.549054Z"
    },
    "papermill": {
     "duration": 0.052952,
     "end_time": "2023-06-13T22:01:51.552833",
     "exception": false,
     "start_time": "2023-06-13T22:01:51.499881",
     "status": "completed"
    },
    "tags": []
   },
   "outputs": [
    {
     "data": {
      "text/plain": [
       "Web Development            40292\n",
       "Machine Learning           40142\n",
       "Network Security           39932\n",
       "Data Science               39870\n",
       "Artificial Intelligence    39764\n",
       "Name: specialization, dtype: int64"
      ]
     },
     "execution_count": 10,
     "metadata": {},
     "output_type": "execute_result"
    }
   ],
   "source": [
    "#Students enrolled in each specialization\n",
    "df['specialization'].value_counts()"
   ]
  },
  {
   "cell_type": "code",
   "execution_count": 11,
   "id": "8239bbbf",
   "metadata": {
    "execution": {
     "iopub.execute_input": "2023-06-13T22:01:52.076627Z",
     "iopub.status.busy": "2023-06-13T22:01:52.075893Z",
     "iopub.status.idle": "2023-06-13T22:01:52.215440Z",
     "shell.execute_reply": "2023-06-13T22:01:52.214131Z"
    },
    "papermill": {
     "duration": 0.153662,
     "end_time": "2023-06-13T22:01:52.217988",
     "exception": false,
     "start_time": "2023-06-13T22:01:52.064326",
     "status": "completed"
    },
    "tags": []
   },
   "outputs": [
    {
     "data": {
      "text/plain": [
       "field_of_study\n",
       "Chemical Engineering      21.585157\n",
       "Civil Engineering         21.582240\n",
       "Computer Science          21.570320\n",
       "Electrical Engineering    21.585610\n",
       "Mechanical Engineering    21.590571\n",
       "Name: age, dtype: float64"
      ]
     },
     "execution_count": 11,
     "metadata": {},
     "output_type": "execute_result"
    }
   ],
   "source": [
    "#Exploring any relationship between the field of study and the average age of the students\n",
    "df['DOB'] = pd.to_datetime(df['DOB'])\n",
    "df['age'] = (pd.to_datetime('today') - df['DOB'])\n",
    "\n",
    "#Calculate the age based on current date\n",
    "current_year = pd.to_datetime('today').year\n",
    "df['age'] = current_year - df['DOB'].dt.year\n",
    "\n",
    "df.groupby('field_of_study')['age'].mean()"
   ]
  },
  {
   "cell_type": "code",
   "execution_count": 12,
   "id": "b280037e",
   "metadata": {
    "execution": {
     "iopub.execute_input": "2023-06-13T22:01:52.240126Z",
     "iopub.status.busy": "2023-06-13T22:01:52.239705Z",
     "iopub.status.idle": "2023-06-13T22:01:52.962212Z",
     "shell.execute_reply": "2023-06-13T22:01:52.961178Z"
    },
    "papermill": {
     "duration": 0.736535,
     "end_time": "2023-06-13T22:01:52.964836",
     "exception": false,
     "start_time": "2023-06-13T22:01:52.228301",
     "status": "completed"
    },
    "tags": []
   },
   "outputs": [
    {
     "name": "stdout",
     "output_type": "stream",
     "text": [
      "2016    28646\n",
      "2017    28760\n",
      "2018    28435\n",
      "2019    28618\n",
      "2020    28355\n",
      "2021    28483\n",
      "2022    28703\n",
      "Name: year_of_admission, dtype: int64\n"
     ]
    }
   ],
   "source": [
    "#Students admitted each year\n",
    "admission_counts = df['year_of_admission'].value_counts().sort_index()\n",
    "print(admission_counts)"
   ]
  },
  {
   "cell_type": "code",
   "execution_count": 13,
   "id": "b1b00f27",
   "metadata": {
    "execution": {
     "iopub.execute_input": "2023-06-13T22:01:52.988962Z",
     "iopub.status.busy": "2023-06-13T22:01:52.988219Z",
     "iopub.status.idle": "2023-06-13T22:01:53.533842Z",
     "shell.execute_reply": "2023-06-13T22:01:53.532697Z"
    },
    "papermill": {
     "duration": 0.560308,
     "end_time": "2023-06-13T22:01:53.536297",
     "exception": false,
     "start_time": "2023-06-13T22:01:52.975989",
     "status": "completed"
    },
    "tags": []
   },
   "outputs": [],
   "source": [
    "#Current semester distribution among the students\n",
    "semester_counts = df['current_sem'].value_counts().sort_index()"
   ]
  },
  {
   "cell_type": "code",
   "execution_count": 14,
   "id": "3069483c",
   "metadata": {
    "execution": {
     "iopub.execute_input": "2023-06-13T22:01:53.561582Z",
     "iopub.status.busy": "2023-06-13T22:01:53.560821Z",
     "iopub.status.idle": "2023-06-13T22:01:53.927073Z",
     "shell.execute_reply": "2023-06-13T22:01:53.925969Z"
    },
    "papermill": {
     "duration": 0.381624,
     "end_time": "2023-06-13T22:01:53.929507",
     "exception": false,
     "start_time": "2023-06-13T22:01:53.547883",
     "status": "completed"
    },
    "tags": []
   },
   "outputs": [
    {
     "name": "stderr",
     "output_type": "stream",
     "text": [
      "/var/folders/9f/h2dr6r6j21xby0_p48_973200000gn/T/ipykernel_33126/2338954021.py:6: SettingWithCopyWarning: \n",
      "A value is trying to be set on a copy of a slice from a DataFrame.\n",
      "Try using .loc[row_indexer,col_indexer] = value instead\n",
      "\n",
      "See the caveats in the documentation: https://pandas.pydata.org/pandas-docs/stable/user_guide/indexing.html#returning-a-view-versus-a-copy\n",
      "  selected_columns['field_of_study'] = selected_columns['field_of_study'].map(field_map)\n"
     ]
    }
   ],
   "source": [
    "#Exploring the correlation between the field of study and the fees paid\n",
    "selected_columns = df[['field_of_study','fees']]\n",
    "\n",
    "#Converting the values in 'field_of_study' to numerical values\n",
    "field_map = {'Chemical Engineering' : 0, 'Civil Engineering' : 1, 'Computer Science' : 2, 'Electrical Engineering' :3, 'Mechanical Engineering' :4}\n",
    "selected_columns['field_of_study'] = selected_columns['field_of_study'].map(field_map)\n",
    "\n",
    "corr_matrix = selected_columns.corr()"
   ]
  },
  {
   "cell_type": "markdown",
   "id": "6d3eaa85",
   "metadata": {
    "papermill": {
     "duration": 0.013075,
     "end_time": "2023-06-13T22:01:53.954682",
     "exception": false,
     "start_time": "2023-06-13T22:01:53.941607",
     "status": "completed"
    },
    "tags": []
   },
   "source": [
    "Based on the correlation coefficient of -0.0017, we can conclude that there is no notable relationship between the 'field_of_study' and 'fees' in the dataset."
   ]
  },
  {
   "cell_type": "code",
   "execution_count": 15,
   "id": "79550292",
   "metadata": {
    "execution": {
     "iopub.execute_input": "2023-06-13T22:01:53.982019Z",
     "iopub.status.busy": "2023-06-13T22:01:53.981329Z",
     "iopub.status.idle": "2023-06-13T22:01:54.299307Z",
     "shell.execute_reply": "2023-06-13T22:01:54.298166Z"
    },
    "papermill": {
     "duration": 0.334485,
     "end_time": "2023-06-13T22:01:54.301942",
     "exception": false,
     "start_time": "2023-06-13T22:01:53.967457",
     "status": "completed"
    },
    "tags": []
   },
   "outputs": [],
   "source": [
    "#Exploring the correlation between fees and the discount on the fees\n",
    "correlation_matrix = df[['fees','discount']].corr()"
   ]
  },
  {
   "cell_type": "markdown",
   "id": "c4563569",
   "metadata": {
    "papermill": {
     "duration": 0.012607,
     "end_time": "2023-06-13T22:01:54.327925",
     "exception": false,
     "start_time": "2023-06-13T22:01:54.315318",
     "status": "completed"
    },
    "tags": []
   },
   "source": [
    "From the above heatmap, the correlation coefficient of 0.49 suggests a moderate positive correlation between the fees and the discount offered on the fees. "
   ]
  }
 ],
 "metadata": {
  "kernelspec": {
   "display_name": "Python 3 (ipykernel)",
   "language": "python",
   "name": "python3"
  },
  "language_info": {
   "codemirror_mode": {
    "name": "ipython",
    "version": 3
   },
   "file_extension": ".py",
   "mimetype": "text/x-python",
   "name": "python",
   "nbconvert_exporter": "python",
   "pygments_lexer": "ipython3",
   "version": "3.10.13"
  },
  "papermill": {
   "default_parameters": {},
   "duration": 19.978668,
   "end_time": "2023-06-13T22:01:55.363358",
   "environment_variables": {},
   "exception": null,
   "input_path": "__notebook__.ipynb",
   "output_path": "__notebook__.ipynb",
   "parameters": {},
   "start_time": "2023-06-13T22:01:35.384690",
   "version": "2.4.0"
  }
 },
 "nbformat": 4,
 "nbformat_minor": 5
}
