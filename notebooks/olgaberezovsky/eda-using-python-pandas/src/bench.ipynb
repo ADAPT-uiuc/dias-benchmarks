{
 "cells": [
  {
   "cell_type": "markdown",
   "metadata": {},
   "source": [
    "<p>&nbsp;</p>\n",
    "<img src=\"https://1000logos.net/wp-content/uploads/2017/05/Reddit-logo.png\" width=400>\n",
    "<p>&nbsp;</p>"
   ]
  },
  {
   "cell_type": "markdown",
   "metadata": {},
   "source": [
    "## Introduction\n",
    "\n",
    "This is a brief exploratory data analysis using Pandas for a given public sample of random Reddit posts.\n",
    "We will get a feel of a dataset and try to answer the following questions: \n",
    "* What are the most popular reddits? Which topics are viral?\n",
    "* Which posts have been removed and why? \n",
    "* What % removed reddits are deleted by moderatos? \n",
    "* Who are the most popular authors? \n",
    "* Who are the biggest spammers at Reddit platform?\n"
   ]
  },
  {
   "cell_type": "code",
   "execution_count": 2,
   "metadata": {
    "_cell_guid": "b1076dfc-b9ad-4769-8c92-a6c4dae69d19",
    "_uuid": "8f2839f25d086af736a60e9eeb907d3b93b6e0e5"
   },
   "outputs": [],
   "source": [
    "#Getting all the packages we need: \n",
    "\n",
    "import numpy as np # linear algebra\n",
    "import pandas as pd # data processing\n",
    "\n",
    "# from wordcloud import WordCloud, STOPWORDS # optional to filter out the stopwords\n"
   ]
  },
  {
   "cell_type": "markdown",
   "metadata": {},
   "source": [
    "## <a name=\"read\"></a>Reading the dataset\n",
    "Accessing Reddit dataset:"
   ]
  },
  {
   "cell_type": "code",
   "execution_count": 3,
   "metadata": {
    "_cell_guid": "79c7e3d0-c299-4dcb-8224-4455121ee9b0",
    "_uuid": "d629ff2d2480ee46fbb7e2d37f6b5fab8052498a"
   },
   "outputs": [
    {
     "name": "stderr",
     "output_type": "stream",
     "text": [
      "<ipython-input-3-4ba984c2854b>:1: DtypeWarning: Columns (5,7) have mixed types. Specify dtype option on import or set low_memory=False.\n",
      "  df = pd.read_csv('../input/r_dataisbeautiful_posts.csv')\n"
     ]
    }
   ],
   "source": [
    "df = pd.read_csv('../input/r_dataisbeautiful_posts.csv')\n"
   ]
  },
  {
   "cell_type": "code",
   "execution_count": 4,
   "metadata": {},
   "outputs": [
    {
     "data": {
      "text/html": [
       "<div>\n",
       "<style scoped>\n",
       "    .dataframe tbody tr th:only-of-type {\n",
       "        vertical-align: middle;\n",
       "    }\n",
       "\n",
       "    .dataframe tbody tr th {\n",
       "        vertical-align: top;\n",
       "    }\n",
       "\n",
       "    .dataframe thead th {\n",
       "        text-align: right;\n",
       "    }\n",
       "</style>\n",
       "<table border=\"1\" class=\"dataframe\">\n",
       "  <thead>\n",
       "    <tr style=\"text-align: right;\">\n",
       "      <th></th>\n",
       "      <th>id</th>\n",
       "      <th>title</th>\n",
       "      <th>score</th>\n",
       "      <th>author</th>\n",
       "      <th>author_flair_text</th>\n",
       "      <th>removed_by</th>\n",
       "      <th>total_awards_received</th>\n",
       "      <th>awarders</th>\n",
       "      <th>created_utc</th>\n",
       "      <th>full_link</th>\n",
       "      <th>num_comments</th>\n",
       "      <th>over_18</th>\n",
       "    </tr>\n",
       "  </thead>\n",
       "  <tbody>\n",
       "    <tr>\n",
       "      <th>44413</th>\n",
       "      <td>a5t9ed</td>\n",
       "      <td>Timeline Of All Known Exoplanets Being Discove...</td>\n",
       "      <td>1</td>\n",
       "      <td>AlanZucconi</td>\n",
       "      <td>OC: 6</td>\n",
       "      <td>NaN</td>\n",
       "      <td>NaN</td>\n",
       "      <td>NaN</td>\n",
       "      <td>1544705810</td>\n",
       "      <td>https://www.reddit.com/r/dataisbeautiful/comme...</td>\n",
       "      <td>6</td>\n",
       "      <td>False</td>\n",
       "    </tr>\n",
       "    <tr>\n",
       "      <th>145326</th>\n",
       "      <td>2wjis2</td>\n",
       "      <td>What are the Youngest (and Oldest) Counties in...</td>\n",
       "      <td>2</td>\n",
       "      <td>sympletic</td>\n",
       "      <td>NaN</td>\n",
       "      <td>NaN</td>\n",
       "      <td>NaN</td>\n",
       "      <td>NaN</td>\n",
       "      <td>1424436204</td>\n",
       "      <td>https://www.reddit.com/r/dataisbeautiful/comme...</td>\n",
       "      <td>3</td>\n",
       "      <td>False</td>\n",
       "    </tr>\n",
       "    <tr>\n",
       "      <th>65106</th>\n",
       "      <td>7u3rqz</td>\n",
       "      <td>Data viz shows the diversity of Academy Award ...</td>\n",
       "      <td>1</td>\n",
       "      <td>savard1120</td>\n",
       "      <td>NaN</td>\n",
       "      <td>NaN</td>\n",
       "      <td>NaN</td>\n",
       "      <td>NaN</td>\n",
       "      <td>1517342037</td>\n",
       "      <td>https://www.reddit.com/r/dataisbeautiful/comme...</td>\n",
       "      <td>0</td>\n",
       "      <td>False</td>\n",
       "    </tr>\n",
       "    <tr>\n",
       "      <th>24252</th>\n",
       "      <td>cy5ed5</td>\n",
       "      <td>[OC] 16 Months of Searching for a Job</td>\n",
       "      <td>74</td>\n",
       "      <td>Sorry_Sorry_Im_Sorry</td>\n",
       "      <td>NaN</td>\n",
       "      <td>NaN</td>\n",
       "      <td>0.0</td>\n",
       "      <td>NaN</td>\n",
       "      <td>1567310448</td>\n",
       "      <td>https://www.reddit.com/r/dataisbeautiful/comme...</td>\n",
       "      <td>24</td>\n",
       "      <td>False</td>\n",
       "    </tr>\n",
       "    <tr>\n",
       "      <th>94986</th>\n",
       "      <td>5mxlwx</td>\n",
       "      <td>Path to the College Football National Champion...</td>\n",
       "      <td>0</td>\n",
       "      <td>DataVizWithTableau</td>\n",
       "      <td>NaN</td>\n",
       "      <td>NaN</td>\n",
       "      <td>NaN</td>\n",
       "      <td>NaN</td>\n",
       "      <td>1483968064</td>\n",
       "      <td>https://www.reddit.com/r/dataisbeautiful/comme...</td>\n",
       "      <td>1</td>\n",
       "      <td>False</td>\n",
       "    </tr>\n",
       "  </tbody>\n",
       "</table>\n",
       "</div>"
      ],
      "text/plain": [
       "            id                                              title  score  \\\n",
       "44413   a5t9ed  Timeline Of All Known Exoplanets Being Discove...      1   \n",
       "145326  2wjis2  What are the Youngest (and Oldest) Counties in...      2   \n",
       "65106   7u3rqz  Data viz shows the diversity of Academy Award ...      1   \n",
       "24252   cy5ed5              [OC] 16 Months of Searching for a Job     74   \n",
       "94986   5mxlwx  Path to the College Football National Champion...      0   \n",
       "\n",
       "                      author author_flair_text removed_by  \\\n",
       "44413            AlanZucconi             OC: 6        NaN   \n",
       "145326             sympletic               NaN        NaN   \n",
       "65106             savard1120               NaN        NaN   \n",
       "24252   Sorry_Sorry_Im_Sorry               NaN        NaN   \n",
       "94986     DataVizWithTableau               NaN        NaN   \n",
       "\n",
       "        total_awards_received awarders  created_utc  \\\n",
       "44413                     NaN      NaN   1544705810   \n",
       "145326                    NaN      NaN   1424436204   \n",
       "65106                     NaN      NaN   1517342037   \n",
       "24252                     0.0      NaN   1567310448   \n",
       "94986                     NaN      NaN   1483968064   \n",
       "\n",
       "                                                full_link  num_comments  \\\n",
       "44413   https://www.reddit.com/r/dataisbeautiful/comme...             6   \n",
       "145326  https://www.reddit.com/r/dataisbeautiful/comme...             3   \n",
       "65106   https://www.reddit.com/r/dataisbeautiful/comme...             0   \n",
       "24252   https://www.reddit.com/r/dataisbeautiful/comme...            24   \n",
       "94986   https://www.reddit.com/r/dataisbeautiful/comme...             1   \n",
       "\n",
       "        over_18  \n",
       "44413     False  \n",
       "145326    False  \n",
       "65106     False  \n",
       "24252     False  \n",
       "94986     False  "
      ]
     },
     "execution_count": 4,
     "metadata": {},
     "output_type": "execute_result"
    }
   ],
   "source": [
    "df.sample(5)"
   ]
  },
  {
   "cell_type": "markdown",
   "metadata": {},
   "source": [
    "## <a name=\"feel\"></a>Getting a feel of the dataset\n",
    "Let's run basic dataframe exploratory commands"
   ]
  },
  {
   "cell_type": "code",
   "execution_count": 5,
   "metadata": {},
   "outputs": [
    {
     "name": "stdout",
     "output_type": "stream",
     "text": [
      "<class 'pandas.core.frame.DataFrame'>\n",
      "RangeIndex: 173611 entries, 0 to 173610\n",
      "Data columns (total 12 columns):\n",
      " #   Column                 Non-Null Count   Dtype  \n",
      "---  ------                 --------------   -----  \n",
      " 0   id                     173611 non-null  object \n",
      " 1   title                  173610 non-null  object \n",
      " 2   score                  173611 non-null  int64  \n",
      " 3   author                 173611 non-null  object \n",
      " 4   author_flair_text      22029 non-null   object \n",
      " 5   removed_by             6543 non-null    object \n",
      " 6   total_awards_received  33605 non-null   float64\n",
      " 7   awarders               22930 non-null   object \n",
      " 8   created_utc            173611 non-null  int64  \n",
      " 9   full_link              173611 non-null  object \n",
      " 10  num_comments           173611 non-null  int64  \n",
      " 11  over_18                173611 non-null  bool   \n",
      "dtypes: bool(1), float64(1), int64(3), object(7)\n",
      "memory usage: 14.7+ MB\n"
     ]
    },
    {
     "data": {
      "text/html": [
       "<div>\n",
       "<style scoped>\n",
       "    .dataframe tbody tr th:only-of-type {\n",
       "        vertical-align: middle;\n",
       "    }\n",
       "\n",
       "    .dataframe tbody tr th {\n",
       "        vertical-align: top;\n",
       "    }\n",
       "\n",
       "    .dataframe thead th {\n",
       "        text-align: right;\n",
       "    }\n",
       "</style>\n",
       "<table border=\"1\" class=\"dataframe\">\n",
       "  <thead>\n",
       "    <tr style=\"text-align: right;\">\n",
       "      <th></th>\n",
       "      <th>score</th>\n",
       "      <th>total_awards_received</th>\n",
       "      <th>created_utc</th>\n",
       "      <th>num_comments</th>\n",
       "    </tr>\n",
       "  </thead>\n",
       "  <tbody>\n",
       "    <tr>\n",
       "      <th>count</th>\n",
       "      <td>173611.000000</td>\n",
       "      <td>33605.000000</td>\n",
       "      <td>1.736110e+05</td>\n",
       "      <td>173611.000000</td>\n",
       "    </tr>\n",
       "    <tr>\n",
       "      <th>mean</th>\n",
       "      <td>193.861069</td>\n",
       "      <td>0.001280</td>\n",
       "      <td>1.491547e+09</td>\n",
       "      <td>25.282436</td>\n",
       "    </tr>\n",
       "    <tr>\n",
       "      <th>std</th>\n",
       "      <td>2001.160875</td>\n",
       "      <td>0.070061</td>\n",
       "      <td>6.137182e+07</td>\n",
       "      <td>195.280094</td>\n",
       "    </tr>\n",
       "    <tr>\n",
       "      <th>min</th>\n",
       "      <td>0.000000</td>\n",
       "      <td>0.000000</td>\n",
       "      <td>1.329263e+09</td>\n",
       "      <td>0.000000</td>\n",
       "    </tr>\n",
       "    <tr>\n",
       "      <th>25%</th>\n",
       "      <td>1.000000</td>\n",
       "      <td>0.000000</td>\n",
       "      <td>1.445138e+09</td>\n",
       "      <td>1.000000</td>\n",
       "    </tr>\n",
       "    <tr>\n",
       "      <th>50%</th>\n",
       "      <td>1.000000</td>\n",
       "      <td>0.000000</td>\n",
       "      <td>1.491085e+09</td>\n",
       "      <td>1.000000</td>\n",
       "    </tr>\n",
       "    <tr>\n",
       "      <th>75%</th>\n",
       "      <td>5.000000</td>\n",
       "      <td>0.000000</td>\n",
       "      <td>1.546150e+09</td>\n",
       "      <td>4.000000</td>\n",
       "    </tr>\n",
       "    <tr>\n",
       "      <th>max</th>\n",
       "      <td>116226.000000</td>\n",
       "      <td>8.000000</td>\n",
       "      <td>1.586792e+09</td>\n",
       "      <td>18801.000000</td>\n",
       "    </tr>\n",
       "  </tbody>\n",
       "</table>\n",
       "</div>"
      ],
      "text/plain": [
       "               score  total_awards_received   created_utc   num_comments\n",
       "count  173611.000000           33605.000000  1.736110e+05  173611.000000\n",
       "mean      193.861069               0.001280  1.491547e+09      25.282436\n",
       "std      2001.160875               0.070061  6.137182e+07     195.280094\n",
       "min         0.000000               0.000000  1.329263e+09       0.000000\n",
       "25%         1.000000               0.000000  1.445138e+09       1.000000\n",
       "50%         1.000000               0.000000  1.491085e+09       1.000000\n",
       "75%         5.000000               0.000000  1.546150e+09       4.000000\n",
       "max    116226.000000               8.000000  1.586792e+09   18801.000000"
      ]
     },
     "execution_count": 5,
     "metadata": {},
     "output_type": "execute_result"
    }
   ],
   "source": [
    "df.info()\n",
    "df.describe()"
   ]
  },
  {
   "cell_type": "code",
   "execution_count": 6,
   "metadata": {},
   "outputs": [
    {
     "name": "stdout",
     "output_type": "stream",
     "text": [
      "Data shape : (173611, 12)\n"
     ]
    }
   ],
   "source": [
    "print(\"Data shape :\",df.shape)"
   ]
  },
  {
   "cell_type": "code",
   "execution_count": 7,
   "metadata": {},
   "outputs": [
    {
     "data": {
      "text/plain": [
       "removed_by               167068\n",
       "author_flair_text        151582\n",
       "awarders                 150681\n",
       "total_awards_received    140006\n",
       "title                         1\n",
       "id                            0\n",
       "score                         0\n",
       "author                        0\n",
       "created_utc                   0\n",
       "full_link                     0\n",
       "num_comments                  0\n",
       "over_18                       0\n",
       "dtype: int64"
      ]
     },
     "execution_count": 7,
     "metadata": {},
     "output_type": "execute_result"
    }
   ],
   "source": [
    "#Empty values:\n",
    "\n",
    "df.isnull().sum().sort_values(ascending = False)"
   ]
  },
  {
   "cell_type": "markdown",
   "metadata": {},
   "source": [
    "We note from the table above:\n",
    "- There are `173,611` entries in the dataset. Caveat, not all columns in the dataset are complete. \n",
    "- The average reddit score `193`. The median value for the score is `1`, which means that a half of reddits in our dataset have the score `0` or `1` and only less than 75% reddits have the score more than `5`\n",
    "- The most popular reddit has `18,801` comments, while the average is `25` and the median is `1`. "
   ]
  },
  {
   "cell_type": "markdown",
   "metadata": {},
   "source": [
    "## <a name=\"corr\"></a>Removed reddits deep dive"
   ]
  },
  {
   "cell_type": "markdown",
   "metadata": {},
   "source": [
    "Let's see who and why removes posts:"
   ]
  },
  {
   "cell_type": "code",
   "execution_count": null,
   "metadata": {},
   "outputs": [],
   "source": []
  },
  {
   "cell_type": "markdown",
   "metadata": {},
   "source": [
    ">As we can see, the most deleted posts (68%) were removed by moderator. Less than 1% are deleted by authors.\n"
   ]
  },
  {
   "cell_type": "markdown",
   "metadata": {},
   "source": [
    "## <a name=\"corr\"></a>The most popular reddits"
   ]
  },
  {
   "cell_type": "markdown",
   "metadata": {},
   "source": [
    "## <a name=\"corr\"></a>The most common words in reddits:\n",
    "\n",
    "Let's see the word map of the most commonly used words from reddit titles:"
   ]
  },
  {
   "cell_type": "code",
   "execution_count": 8,
   "metadata": {},
   "outputs": [],
   "source": [
    "#To build a wordcloud, we have to remove NULL values first:\n",
    "df[\"title\"] = df[\"title\"].fillna(value=\"\")"
   ]
  },
  {
   "cell_type": "code",
   "execution_count": 9,
   "metadata": {},
   "outputs": [],
   "source": [
    "#Now let's add a string value instead to make our Series clean:\n",
    "word_string=\" \".join(df['title'].str.lower())\n",
    "\n",
    "#word_string"
   ]
  },
  {
   "cell_type": "code",
   "execution_count": null,
   "metadata": {},
   "outputs": [],
   "source": []
  },
  {
   "cell_type": "markdown",
   "metadata": {},
   "source": [
    "## <a name=\"corr\"></a>Comments distribution\n"
   ]
  },
  {
   "cell_type": "markdown",
   "metadata": {},
   "source": [
    ">The average reddit has less than 25 comments. Let's see the comment distribution for those reddits who have <25 comments:"
   ]
  },
  {
   "cell_type": "code",
   "execution_count": 15,
   "metadata": {},
   "outputs": [
    {
     "data": {
      "text/html": [
       "<div>\n",
       "<style scoped>\n",
       "    .dataframe tbody tr th:only-of-type {\n",
       "        vertical-align: middle;\n",
       "    }\n",
       "\n",
       "    .dataframe tbody tr th {\n",
       "        vertical-align: top;\n",
       "    }\n",
       "\n",
       "    .dataframe thead th {\n",
       "        text-align: right;\n",
       "    }\n",
       "</style>\n",
       "<table border=\"1\" class=\"dataframe\">\n",
       "  <thead>\n",
       "    <tr style=\"text-align: right;\">\n",
       "      <th></th>\n",
       "      <th>id</th>\n",
       "      <th>title</th>\n",
       "      <th>score</th>\n",
       "      <th>author</th>\n",
       "      <th>author_flair_text</th>\n",
       "      <th>removed_by</th>\n",
       "      <th>total_awards_received</th>\n",
       "      <th>awarders</th>\n",
       "      <th>created_utc</th>\n",
       "      <th>full_link</th>\n",
       "      <th>num_comments</th>\n",
       "      <th>over_18</th>\n",
       "    </tr>\n",
       "  </thead>\n",
       "  <tbody>\n",
       "    <tr>\n",
       "      <th>0</th>\n",
       "      <td>g0l1o6</td>\n",
       "      <td>[OC] Website about covid-19 pandemic stats wit...</td>\n",
       "      <td>1</td>\n",
       "      <td>muddymind</td>\n",
       "      <td>NaN</td>\n",
       "      <td>moderator</td>\n",
       "      <td>0.0</td>\n",
       "      <td>[]</td>\n",
       "      <td>1586791506</td>\n",
       "      <td>https://www.reddit.com/r/dataisbeautiful/comme...</td>\n",
       "      <td>3</td>\n",
       "      <td>False</td>\n",
       "    </tr>\n",
       "    <tr>\n",
       "      <th>1</th>\n",
       "      <td>g0kxzc</td>\n",
       "      <td>Dynamic timeline of the founding of major Euro...</td>\n",
       "      <td>1</td>\n",
       "      <td>[deleted]</td>\n",
       "      <td>NaN</td>\n",
       "      <td>deleted</td>\n",
       "      <td>0.0</td>\n",
       "      <td>[]</td>\n",
       "      <td>1586791184</td>\n",
       "      <td>https://www.reddit.com/r/dataisbeautiful/comme...</td>\n",
       "      <td>0</td>\n",
       "      <td>False</td>\n",
       "    </tr>\n",
       "    <tr>\n",
       "      <th>2</th>\n",
       "      <td>g0kwbp</td>\n",
       "      <td>Despite more than four weeks to complete it, I...</td>\n",
       "      <td>251</td>\n",
       "      <td>jamaisvu99</td>\n",
       "      <td>OC: 3</td>\n",
       "      <td>NaN</td>\n",
       "      <td>0.0</td>\n",
       "      <td>[]</td>\n",
       "      <td>1586791045</td>\n",
       "      <td>https://www.reddit.com/r/dataisbeautiful/comme...</td>\n",
       "      <td>25</td>\n",
       "      <td>False</td>\n",
       "    </tr>\n",
       "    <tr>\n",
       "      <th>3</th>\n",
       "      <td>g0ktji</td>\n",
       "      <td>[OC] Reported Coronavirus Tests per million as...</td>\n",
       "      <td>24</td>\n",
       "      <td>AAA786786</td>\n",
       "      <td>OC: 2</td>\n",
       "      <td>NaN</td>\n",
       "      <td>0.0</td>\n",
       "      <td>[]</td>\n",
       "      <td>1586790800</td>\n",
       "      <td>https://www.reddit.com/r/dataisbeautiful/comme...</td>\n",
       "      <td>18</td>\n",
       "      <td>False</td>\n",
       "    </tr>\n",
       "    <tr>\n",
       "      <th>4</th>\n",
       "      <td>g0kiyr</td>\n",
       "      <td>[OC] House M.D.-IMDB rating of episodes</td>\n",
       "      <td>9</td>\n",
       "      <td>MrButterDucky</td>\n",
       "      <td>OC: 1</td>\n",
       "      <td>moderator</td>\n",
       "      <td>0.0</td>\n",
       "      <td>[]</td>\n",
       "      <td>1586789902</td>\n",
       "      <td>https://www.reddit.com/r/dataisbeautiful/comme...</td>\n",
       "      <td>8</td>\n",
       "      <td>False</td>\n",
       "    </tr>\n",
       "    <tr>\n",
       "      <th>...</th>\n",
       "      <td>...</td>\n",
       "      <td>...</td>\n",
       "      <td>...</td>\n",
       "      <td>...</td>\n",
       "      <td>...</td>\n",
       "      <td>...</td>\n",
       "      <td>...</td>\n",
       "      <td>...</td>\n",
       "      <td>...</td>\n",
       "      <td>...</td>\n",
       "      <td>...</td>\n",
       "      <td>...</td>\n",
       "    </tr>\n",
       "    <tr>\n",
       "      <th>173606</th>\n",
       "      <td>pqbdl</td>\n",
       "      <td>Infosthetics seems like it belongs here.</td>\n",
       "      <td>15</td>\n",
       "      <td>magiclamp</td>\n",
       "      <td>NaN</td>\n",
       "      <td>NaN</td>\n",
       "      <td>NaN</td>\n",
       "      <td>NaN</td>\n",
       "      <td>1329282849</td>\n",
       "      <td>https://www.reddit.com/r/dataisbeautiful/comme...</td>\n",
       "      <td>0</td>\n",
       "      <td>False</td>\n",
       "    </tr>\n",
       "    <tr>\n",
       "      <th>173607</th>\n",
       "      <td>pqav2</td>\n",
       "      <td>Time lapse of every nuclear detonation from 19...</td>\n",
       "      <td>9</td>\n",
       "      <td>th3sousa</td>\n",
       "      <td>NaN</td>\n",
       "      <td>NaN</td>\n",
       "      <td>NaN</td>\n",
       "      <td>NaN</td>\n",
       "      <td>1329282160</td>\n",
       "      <td>https://www.reddit.com/r/dataisbeautiful/comme...</td>\n",
       "      <td>0</td>\n",
       "      <td>False</td>\n",
       "    </tr>\n",
       "    <tr>\n",
       "      <th>173608</th>\n",
       "      <td>pq922</td>\n",
       "      <td>Wavii.</td>\n",
       "      <td>13</td>\n",
       "      <td>ddshroom</td>\n",
       "      <td>NaN</td>\n",
       "      <td>NaN</td>\n",
       "      <td>NaN</td>\n",
       "      <td>NaN</td>\n",
       "      <td>1329279777</td>\n",
       "      <td>https://www.reddit.com/r/dataisbeautiful/comme...</td>\n",
       "      <td>2</td>\n",
       "      <td>False</td>\n",
       "    </tr>\n",
       "    <tr>\n",
       "      <th>173609</th>\n",
       "      <td>ppx09</td>\n",
       "      <td>An interactive representation of Pres. Obamas ...</td>\n",
       "      <td>21</td>\n",
       "      <td>zanycaswell</td>\n",
       "      <td>NaN</td>\n",
       "      <td>NaN</td>\n",
       "      <td>NaN</td>\n",
       "      <td>NaN</td>\n",
       "      <td>1329265203</td>\n",
       "      <td>https://www.reddit.com/r/dataisbeautiful/comme...</td>\n",
       "      <td>0</td>\n",
       "      <td>False</td>\n",
       "    </tr>\n",
       "    <tr>\n",
       "      <th>173610</th>\n",
       "      <td>ppvl7</td>\n",
       "      <td>A map showing the geographical distribution of...</td>\n",
       "      <td>45</td>\n",
       "      <td>zanycaswell</td>\n",
       "      <td>NaN</td>\n",
       "      <td>NaN</td>\n",
       "      <td>NaN</td>\n",
       "      <td>NaN</td>\n",
       "      <td>1329263456</td>\n",
       "      <td>https://www.reddit.com/r/dataisbeautiful/comme...</td>\n",
       "      <td>5</td>\n",
       "      <td>False</td>\n",
       "    </tr>\n",
       "  </tbody>\n",
       "</table>\n",
       "<p>173611 rows × 12 columns</p>\n",
       "</div>"
      ],
      "text/plain": [
       "            id                                              title  score  \\\n",
       "0       g0l1o6  [OC] Website about covid-19 pandemic stats wit...      1   \n",
       "1       g0kxzc  Dynamic timeline of the founding of major Euro...      1   \n",
       "2       g0kwbp  Despite more than four weeks to complete it, I...    251   \n",
       "3       g0ktji  [OC] Reported Coronavirus Tests per million as...     24   \n",
       "4       g0kiyr            [OC] House M.D.-IMDB rating of episodes      9   \n",
       "...        ...                                                ...    ...   \n",
       "173606   pqbdl           Infosthetics seems like it belongs here.     15   \n",
       "173607   pqav2  Time lapse of every nuclear detonation from 19...      9   \n",
       "173608   pq922                                            Wavii.      13   \n",
       "173609   ppx09  An interactive representation of Pres. Obamas ...     21   \n",
       "173610   ppvl7  A map showing the geographical distribution of...     45   \n",
       "\n",
       "               author author_flair_text removed_by  total_awards_received  \\\n",
       "0           muddymind               NaN  moderator                    0.0   \n",
       "1           [deleted]               NaN    deleted                    0.0   \n",
       "2          jamaisvu99             OC: 3        NaN                    0.0   \n",
       "3           AAA786786             OC: 2        NaN                    0.0   \n",
       "4       MrButterDucky             OC: 1  moderator                    0.0   \n",
       "...               ...               ...        ...                    ...   \n",
       "173606      magiclamp               NaN        NaN                    NaN   \n",
       "173607       th3sousa               NaN        NaN                    NaN   \n",
       "173608       ddshroom               NaN        NaN                    NaN   \n",
       "173609    zanycaswell               NaN        NaN                    NaN   \n",
       "173610    zanycaswell               NaN        NaN                    NaN   \n",
       "\n",
       "       awarders  created_utc  \\\n",
       "0            []   1586791506   \n",
       "1            []   1586791184   \n",
       "2            []   1586791045   \n",
       "3            []   1586790800   \n",
       "4            []   1586789902   \n",
       "...         ...          ...   \n",
       "173606      NaN   1329282849   \n",
       "173607      NaN   1329282160   \n",
       "173608      NaN   1329279777   \n",
       "173609      NaN   1329265203   \n",
       "173610      NaN   1329263456   \n",
       "\n",
       "                                                full_link  num_comments  \\\n",
       "0       https://www.reddit.com/r/dataisbeautiful/comme...             3   \n",
       "1       https://www.reddit.com/r/dataisbeautiful/comme...             0   \n",
       "2       https://www.reddit.com/r/dataisbeautiful/comme...            25   \n",
       "3       https://www.reddit.com/r/dataisbeautiful/comme...            18   \n",
       "4       https://www.reddit.com/r/dataisbeautiful/comme...             8   \n",
       "...                                                   ...           ...   \n",
       "173606  https://www.reddit.com/r/dataisbeautiful/comme...             0   \n",
       "173607  https://www.reddit.com/r/dataisbeautiful/comme...             0   \n",
       "173608  https://www.reddit.com/r/dataisbeautiful/comme...             2   \n",
       "173609  https://www.reddit.com/r/dataisbeautiful/comme...             0   \n",
       "173610  https://www.reddit.com/r/dataisbeautiful/comme...             5   \n",
       "\n",
       "        over_18  \n",
       "0         False  \n",
       "1         False  \n",
       "2         False  \n",
       "3         False  \n",
       "4         False  \n",
       "...         ...  \n",
       "173606    False  \n",
       "173607    False  \n",
       "173608    False  \n",
       "173609    False  \n",
       "173610    False  \n",
       "\n",
       "[173611 rows x 12 columns]"
      ]
     },
     "execution_count": 15,
     "metadata": {},
     "output_type": "execute_result"
    }
   ],
   "source": [
    "df"
   ]
  },
  {
   "cell_type": "markdown",
   "metadata": {},
   "source": [
    ">As we can see, the most reddits have less than 5 comments. "
   ]
  },
  {
   "cell_type": "markdown",
   "metadata": {},
   "source": [
    "## <a name=\"corr\"></a>Correlation between dataset variables\n",
    "\n",
    "Now let's see how the dataset variables are correlated with each other:\n",
    "* How score and comments are correlated? \n",
    "* Do they increase and decrease together (positive correlation)? \n",
    "* Does one of them increase when the other decrease and vice versa (negative correlation)? Or are they not correlated?\n",
    "\n",
    "Correlation is represented as a value between -1 and +1 where +1 denotes the highest positive correlation, -1 denotes the highest negative correlation, and 0 denotes that there is no correlation.\n",
    "\n",
    "* Let's see the correlation table between our dataset variables (numerical and boolean variables only)"
   ]
  },
  {
   "cell_type": "code",
   "execution_count": 16,
   "metadata": {},
   "outputs": [
    {
     "data": {
      "text/html": [
       "<div>\n",
       "<style scoped>\n",
       "    .dataframe tbody tr th:only-of-type {\n",
       "        vertical-align: middle;\n",
       "    }\n",
       "\n",
       "    .dataframe tbody tr th {\n",
       "        vertical-align: top;\n",
       "    }\n",
       "\n",
       "    .dataframe thead th {\n",
       "        text-align: right;\n",
       "    }\n",
       "</style>\n",
       "<table border=\"1\" class=\"dataframe\">\n",
       "  <thead>\n",
       "    <tr style=\"text-align: right;\">\n",
       "      <th></th>\n",
       "      <th>score</th>\n",
       "      <th>total_awards_received</th>\n",
       "      <th>created_utc</th>\n",
       "      <th>num_comments</th>\n",
       "      <th>over_18</th>\n",
       "    </tr>\n",
       "  </thead>\n",
       "  <tbody>\n",
       "    <tr>\n",
       "      <th>score</th>\n",
       "      <td>1.000000</td>\n",
       "      <td>0.222506</td>\n",
       "      <td>0.029288</td>\n",
       "      <td>0.637163</td>\n",
       "      <td>0.018861</td>\n",
       "    </tr>\n",
       "    <tr>\n",
       "      <th>total_awards_received</th>\n",
       "      <td>0.222506</td>\n",
       "      <td>1.000000</td>\n",
       "      <td>0.015877</td>\n",
       "      <td>0.135040</td>\n",
       "      <td>0.008467</td>\n",
       "    </tr>\n",
       "    <tr>\n",
       "      <th>created_utc</th>\n",
       "      <td>0.029288</td>\n",
       "      <td>0.015877</td>\n",
       "      <td>1.000000</td>\n",
       "      <td>0.024414</td>\n",
       "      <td>0.011568</td>\n",
       "    </tr>\n",
       "    <tr>\n",
       "      <th>num_comments</th>\n",
       "      <td>0.637163</td>\n",
       "      <td>0.135040</td>\n",
       "      <td>0.024414</td>\n",
       "      <td>1.000000</td>\n",
       "      <td>0.028636</td>\n",
       "    </tr>\n",
       "    <tr>\n",
       "      <th>over_18</th>\n",
       "      <td>0.018861</td>\n",
       "      <td>0.008467</td>\n",
       "      <td>0.011568</td>\n",
       "      <td>0.028636</td>\n",
       "      <td>1.000000</td>\n",
       "    </tr>\n",
       "  </tbody>\n",
       "</table>\n",
       "</div>"
      ],
      "text/plain": [
       "                          score  total_awards_received  created_utc  \\\n",
       "score                  1.000000               0.222506     0.029288   \n",
       "total_awards_received  0.222506               1.000000     0.015877   \n",
       "created_utc            0.029288               0.015877     1.000000   \n",
       "num_comments           0.637163               0.135040     0.024414   \n",
       "over_18                0.018861               0.008467     0.011568   \n",
       "\n",
       "                       num_comments   over_18  \n",
       "score                      0.637163  0.018861  \n",
       "total_awards_received      0.135040  0.008467  \n",
       "created_utc                0.024414  0.011568  \n",
       "num_comments               1.000000  0.028636  \n",
       "over_18                    0.028636  1.000000  "
      ]
     },
     "execution_count": 16,
     "metadata": {},
     "output_type": "execute_result"
    }
   ],
   "source": [
    "# df = pd.to_numeric(df[:], errors='coerce')\n",
    "\n",
    "df.corr(numeric_only=True)"
   ]
  },
  {
   "cell_type": "markdown",
   "metadata": {},
   "source": [
    "We see that score and number of comments are highly positively correlated with a correlation value of 0.6. \n",
    "\n",
    "There is some positive correlation of 0.2 between total awards received and score (0.2) and num_comments (0.1).\n",
    "\n",
    "Now let's visualize the correlation table above using a heatmap\n"
   ]
  },
  {
   "cell_type": "code",
   "execution_count": 18,
   "metadata": {},
   "outputs": [],
   "source": [
    "h_labels = [x.replace('_', ' ').title() for x in \n",
    "            list(df.select_dtypes(include=['number', 'bool']).columns.values)]\n"
   ]
  },
  {
   "cell_type": "markdown",
   "metadata": {},
   "source": [
    "## <a name=\"corr\"></a>Score distribution\n"
   ]
  },
  {
   "cell_type": "code",
   "execution_count": 19,
   "metadata": {},
   "outputs": [
    {
     "data": {
      "text/plain": [
       "count    173611.000000\n",
       "mean        193.861069\n",
       "std        2001.160875\n",
       "min           0.000000\n",
       "25%           1.000000\n",
       "50%           1.000000\n",
       "75%           5.000000\n",
       "max      116226.000000\n",
       "Name: score, dtype: float64"
      ]
     },
     "execution_count": 19,
     "metadata": {},
     "output_type": "execute_result"
    }
   ],
   "source": [
    "df.score.describe()"
   ]
  },
  {
   "cell_type": "code",
   "execution_count": 20,
   "metadata": {},
   "outputs": [
    {
     "data": {
      "text/plain": [
       "1.0"
      ]
     },
     "execution_count": 20,
     "metadata": {},
     "output_type": "execute_result"
    }
   ],
   "source": [
    "df.score.median()"
   ]
  },
  {
   "cell_type": "code",
   "execution_count": null,
   "metadata": {},
   "outputs": [],
   "source": []
  },
  {
   "cell_type": "code",
   "execution_count": null,
   "metadata": {},
   "outputs": [],
   "source": []
  }
 ],
 "metadata": {
  "kernelspec": {
   "display_name": "Python 3",
   "language": "python",
   "name": "python3"
  },
  "language_info": {
   "codemirror_mode": {
    "name": "ipython",
    "version": 3
   },
   "file_extension": ".py",
   "mimetype": "text/x-python",
   "name": "python",
   "nbconvert_exporter": "python",
   "pygments_lexer": "ipython3",
   "version": "3.8.8"
  }
 },
 "nbformat": 4,
 "nbformat_minor": 4
}
