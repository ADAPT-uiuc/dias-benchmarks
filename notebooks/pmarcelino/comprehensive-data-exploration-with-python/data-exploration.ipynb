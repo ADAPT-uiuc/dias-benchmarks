{
 "cells": [
  {
   "cell_type": "code",
   "execution_count": 1,
   "id": "bd43fc34",
   "metadata": {},
   "outputs": [],
   "source": [
    "import os\n",
    "SNAPPY_notebook_path = os.path.join(os.path.abspath(\"\"), \"bench.ipynb\")"
   ]
  },
  {
   "cell_type": "code",
   "execution_count": 2,
   "id": "d0a1d557",
   "metadata": {},
   "outputs": [],
   "source": [
    "import time\n",
    "SNAPPY_start_time = time.perf_counter_ns()"
   ]
  },
  {
   "cell_type": "code",
   "execution_count": 3,
   "id": "0b0aa517",
   "metadata": {},
   "outputs": [
    {
     "name": "stdout",
     "output_type": "stream",
     "text": [
      "time: 39.5 µs (started: 2024-05-22 22:02:01 -04:00)\n"
     ]
    }
   ],
   "source": [
    "%load_ext autotime"
   ]
  },
  {
   "cell_type": "markdown",
   "metadata": {
    "_cell_guid": "e3bc4854-2787-eae1-950d-2742ad3d7db2",
    "_uuid": "d507f816cc74a88c9afefd02cf225d1a7dd6461f"
   },
   "source": [
    "# COMPREHENSIVE DATA EXPLORATION WITH PYTHON\n",
    "[Pedro Marcelino](http://pmarcelino.com) - February 2017\n",
    "\n",
    "Other Kernels: [Data analysis and feature extraction with Python\n",
    "](https://www.kaggle.com/pmarcelino/data-analysis-and-feature-extraction-with-python)\n",
    "\n",
    "----------"
   ]
  },
  {
   "cell_type": "markdown",
   "metadata": {
    "_cell_guid": "8ca352d7-08aa-36b4-fb2d-3c9854a8d86a",
    "_uuid": "014f5c099a26d9232f9d0d6ca85d5c02b812c98a"
   },
   "source": [
    "<b>'The most difficult thing in life is to know yourself'</b>\n",
    "\n",
    "This quote belongs to Thales of Miletus. Thales was a Greek/Phonecian philosopher, mathematician and astronomer, which is recognised as the first individual in Western civilisation known to have entertained and engaged in scientific thought (source: https://en.wikipedia.org/wiki/Thales)\n",
    "\n",
    "I wouldn't say that knowing your data is the most difficult thing in data science, but it is time-consuming. Therefore, it's easy to overlook this initial step and jump too soon into the water.\n",
    "\n",
    "So I tried to learn how to swim before jumping into the water. Based on [Hair et al. (2013)](https://amzn.to/2JuDmvo), chapter 'Examining your data', I did my best to follow a comprehensive, but not exhaustive, analysis of the data. I'm far from reporting a rigorous study in this kernel, but I hope that it can be useful for the community, so I'm sharing how I applied some of those data analysis principles to this problem.\n",
    "\n",
    "Despite the strange names I gave to the chapters, what we are doing in this kernel is something like:\n",
    "\n",
    "1. <b>Understand the problem</b>. We'll look at each variable and do a philosophical analysis about their meaning and importance for this problem.\n",
    "2. <b>Univariable study</b>. We'll just focus on the dependent variable ('SalePrice') and try to know a little bit more about it.\n",
    "3. <b>Multivariate study</b>. We'll try to understand how the dependent variable and independent variables relate.\n",
    "4. <b>Basic cleaning</b>. We'll clean the dataset and handle the missing data, outliers and categorical variables.\n",
    "5. <b>Test assumptions</b>. We'll check if our data meets the assumptions required by most multivariate techniques.\n",
    "\n",
    "Now, it's time to have fun!"
   ]
  },
  {
   "cell_type": "code",
   "execution_count": 4,
   "metadata": {
    "_cell_guid": "2df621e0-e03c-7aaa-6e08-40ed1d7dfecc",
    "_execution_state": "idle",
    "_uuid": "d581f6797b9fde1580271358d484df67bf6b14a1",
    "jupyter": {
     "outputs_hidden": true
    }
   },
   "outputs": [
    {
     "name": "stdout",
     "output_type": "stream",
     "text": [
      "time: 612 ms (started: 2024-05-22 22:02:01 -04:00)\n"
     ]
    }
   ],
   "source": [
    "#invite people for the Kaggle party\n",
    "import os\n",
    "# STEFANOS: Conditionally import Modin Pandas\n",
    "import pandas as pd\n",
    "\n",
    "import numpy as np\n",
    "# STEFANOS: Unneeded\n",
    "# from scipy.stats import norm\n",
    "from sklearn.preprocessing import StandardScaler\n",
    "# from scipy import stats\n",
    "import warnings\n",
    "warnings.filterwarnings('ignore')\n",
    "# STEFANOS: Disable magic functions\n",
    "# %matplotlib inline"
   ]
  },
  {
   "cell_type": "code",
   "execution_count": 5,
   "metadata": {
    "_cell_guid": "d56d5e71-4277-7a74-5306-7d5af4c7f263",
    "_execution_state": "idle",
    "_uuid": "827a72128cd211cf6af16b003e7c09951e3f2b1e",
    "jupyter": {
     "outputs_hidden": true
    }
   },
   "outputs": [
    {
     "name": "stdout",
     "output_type": "stream",
     "text": [
      "time: 9.24 ms (started: 2024-05-22 22:02:02 -04:00)\n"
     ]
    }
   ],
   "source": [
    "#bring in the six packs\n",
    "df_train = pd.read_csv(os.path.abspath('') + '/input/train.csv')"
   ]
  },
  {
   "cell_type": "markdown",
   "metadata": {},
   "source": [
    "# -- STEFANOS -- Replicate Data"
   ]
  },
  {
   "cell_type": "code",
   "execution_count": 6,
   "metadata": {},
   "outputs": [
    {
     "name": "stdout",
     "output_type": "stream",
     "text": [
      "<class 'pandas.core.frame.DataFrame'>\n",
      "RangeIndex: 438000 entries, 0 to 437999\n",
      "Data columns (total 81 columns):\n",
      " #   Column         Non-Null Count   Dtype  \n",
      "---  ------         --------------   -----  \n",
      " 0   Id             438000 non-null  int64  \n",
      " 1   MSSubClass     438000 non-null  int64  \n",
      " 2   MSZoning       438000 non-null  object \n",
      " 3   LotFrontage    360300 non-null  float64\n",
      " 4   LotArea        438000 non-null  int64  \n",
      " 5   Street         438000 non-null  object \n",
      " 6   Alley          27300 non-null   object \n",
      " 7   LotShape       438000 non-null  object \n",
      " 8   LandContour    438000 non-null  object \n",
      " 9   Utilities      438000 non-null  object \n",
      " 10  LotConfig      438000 non-null  object \n",
      " 11  LandSlope      438000 non-null  object \n",
      " 12  Neighborhood   438000 non-null  object \n",
      " 13  Condition1     438000 non-null  object \n",
      " 14  Condition2     438000 non-null  object \n",
      " 15  BldgType       438000 non-null  object \n",
      " 16  HouseStyle     438000 non-null  object \n",
      " 17  OverallQual    438000 non-null  int64  \n",
      " 18  OverallCond    438000 non-null  int64  \n",
      " 19  YearBuilt      438000 non-null  int64  \n",
      " 20  YearRemodAdd   438000 non-null  int64  \n",
      " 21  RoofStyle      438000 non-null  object \n",
      " 22  RoofMatl       438000 non-null  object \n",
      " 23  Exterior1st    438000 non-null  object \n",
      " 24  Exterior2nd    438000 non-null  object \n",
      " 25  MasVnrType     435600 non-null  object \n",
      " 26  MasVnrArea     435600 non-null  float64\n",
      " 27  ExterQual      438000 non-null  object \n",
      " 28  ExterCond      438000 non-null  object \n",
      " 29  Foundation     438000 non-null  object \n",
      " 30  BsmtQual       426900 non-null  object \n",
      " 31  BsmtCond       426900 non-null  object \n",
      " 32  BsmtExposure   426600 non-null  object \n",
      " 33  BsmtFinType1   426900 non-null  object \n",
      " 34  BsmtFinSF1     438000 non-null  int64  \n",
      " 35  BsmtFinType2   426600 non-null  object \n",
      " 36  BsmtFinSF2     438000 non-null  int64  \n",
      " 37  BsmtUnfSF      438000 non-null  int64  \n",
      " 38  TotalBsmtSF    438000 non-null  int64  \n",
      " 39  Heating        438000 non-null  object \n",
      " 40  HeatingQC      438000 non-null  object \n",
      " 41  CentralAir     438000 non-null  object \n",
      " 42  Electrical     437700 non-null  object \n",
      " 43  1stFlrSF       438000 non-null  int64  \n",
      " 44  2ndFlrSF       438000 non-null  int64  \n",
      " 45  LowQualFinSF   438000 non-null  int64  \n",
      " 46  GrLivArea      438000 non-null  int64  \n",
      " 47  BsmtFullBath   438000 non-null  int64  \n",
      " 48  BsmtHalfBath   438000 non-null  int64  \n",
      " 49  FullBath       438000 non-null  int64  \n",
      " 50  HalfBath       438000 non-null  int64  \n",
      " 51  BedroomAbvGr   438000 non-null  int64  \n",
      " 52  KitchenAbvGr   438000 non-null  int64  \n",
      " 53  KitchenQual    438000 non-null  object \n",
      " 54  TotRmsAbvGrd   438000 non-null  int64  \n",
      " 55  Functional     438000 non-null  object \n",
      " 56  Fireplaces     438000 non-null  int64  \n",
      " 57  FireplaceQu    231000 non-null  object \n",
      " 58  GarageType     413700 non-null  object \n",
      " 59  GarageYrBlt    413700 non-null  float64\n",
      " 60  GarageFinish   413700 non-null  object \n",
      " 61  GarageCars     438000 non-null  int64  \n",
      " 62  GarageArea     438000 non-null  int64  \n",
      " 63  GarageQual     413700 non-null  object \n",
      " 64  GarageCond     413700 non-null  object \n",
      " 65  PavedDrive     438000 non-null  object \n",
      " 66  WoodDeckSF     438000 non-null  int64  \n",
      " 67  OpenPorchSF    438000 non-null  int64  \n",
      " 68  EnclosedPorch  438000 non-null  int64  \n",
      " 69  3SsnPorch      438000 non-null  int64  \n",
      " 70  ScreenPorch    438000 non-null  int64  \n",
      " 71  PoolArea       438000 non-null  int64  \n",
      " 72  PoolQC         2100 non-null    object \n",
      " 73  Fence          84300 non-null   object \n",
      " 74  MiscFeature    16200 non-null   object \n",
      " 75  MiscVal        438000 non-null  int64  \n",
      " 76  MoSold         438000 non-null  int64  \n",
      " 77  YrSold         438000 non-null  int64  \n",
      " 78  SaleType       438000 non-null  object \n",
      " 79  SaleCondition  438000 non-null  object \n",
      " 80  SalePrice      438000 non-null  int64  \n",
      "dtypes: float64(3), int64(35), object(43)\n",
      "memory usage: 270.7+ MB\n",
      "time: 1.71 s (started: 2024-05-22 22:02:02 -04:00)\n"
     ]
    }
   ],
   "source": [
    "factor = 300\n",
    "df_train = pd.concat([df_train]*factor, ignore_index=True)\n",
    "df_train.info()"
   ]
  },
  {
   "cell_type": "code",
   "execution_count": 7,
   "metadata": {
    "_cell_guid": "02250c81-7e15-c195-2e86-5adbd15c9d30",
    "_execution_state": "idle",
    "_uuid": "10814ba44786b5fea5e333324c6fe54729cabf33",
    "jupyter": {
     "outputs_hidden": true
    }
   },
   "outputs": [
    {
     "data": {
      "text/plain": [
       "Index(['Id', 'MSSubClass', 'MSZoning', 'LotFrontage', 'LotArea', 'Street',\n",
       "       'Alley', 'LotShape', 'LandContour', 'Utilities', 'LotConfig',\n",
       "       'LandSlope', 'Neighborhood', 'Condition1', 'Condition2', 'BldgType',\n",
       "       'HouseStyle', 'OverallQual', 'OverallCond', 'YearBuilt', 'YearRemodAdd',\n",
       "       'RoofStyle', 'RoofMatl', 'Exterior1st', 'Exterior2nd', 'MasVnrType',\n",
       "       'MasVnrArea', 'ExterQual', 'ExterCond', 'Foundation', 'BsmtQual',\n",
       "       'BsmtCond', 'BsmtExposure', 'BsmtFinType1', 'BsmtFinSF1',\n",
       "       'BsmtFinType2', 'BsmtFinSF2', 'BsmtUnfSF', 'TotalBsmtSF', 'Heating',\n",
       "       'HeatingQC', 'CentralAir', 'Electrical', '1stFlrSF', '2ndFlrSF',\n",
       "       'LowQualFinSF', 'GrLivArea', 'BsmtFullBath', 'BsmtHalfBath', 'FullBath',\n",
       "       'HalfBath', 'BedroomAbvGr', 'KitchenAbvGr', 'KitchenQual',\n",
       "       'TotRmsAbvGrd', 'Functional', 'Fireplaces', 'FireplaceQu', 'GarageType',\n",
       "       'GarageYrBlt', 'GarageFinish', 'GarageCars', 'GarageArea', 'GarageQual',\n",
       "       'GarageCond', 'PavedDrive', 'WoodDeckSF', 'OpenPorchSF',\n",
       "       'EnclosedPorch', '3SsnPorch', 'ScreenPorch', 'PoolArea', 'PoolQC',\n",
       "       'Fence', 'MiscFeature', 'MiscVal', 'MoSold', 'YrSold', 'SaleType',\n",
       "       'SaleCondition', 'SalePrice'],\n",
       "      dtype='object')"
      ]
     },
     "execution_count": 7,
     "metadata": {},
     "output_type": "execute_result"
    },
    {
     "name": "stdout",
     "output_type": "stream",
     "text": [
      "time: 2.99 ms (started: 2024-05-22 22:02:03 -04:00)\n"
     ]
    }
   ],
   "source": [
    "#check the decoration\n",
    "df_train.columns"
   ]
  },
  {
   "cell_type": "markdown",
   "metadata": {
    "_cell_guid": "79d22981-dfd7-a25f-9a78-5436213207e2",
    "_uuid": "ba13c267e3aacbef23dfbcc0ab05f002d7835e0c"
   },
   "source": [
    "# 1. So... What can we expect?\n",
    "\n",
    "In order to understand our data, we can look at each variable and try to understand their meaning and relevance to this problem. I know this is time-consuming, but it will give us the flavour of our dataset.\n",
    "\n",
    "In order to have some discipline in our analysis, we can create an Excel spreadsheet with the following columns:\n",
    "* <b>Variable</b> - Variable name.\n",
    "* <b>Type</b> - Identification of the variables' type. There are two possible values for this field: 'numerical' or 'categorical'. By 'numerical' we mean variables for which the values are numbers, and by 'categorical' we mean variables for which the values are categories.\n",
    "* <b>Segment</b> - Identification of the variables' segment. We can define three possible segments: building, space or location. When we say 'building', we mean a variable that relates to the physical characteristics of the building (e.g. 'OverallQual'). When we say 'space', we mean a variable that reports space properties of the house (e.g. 'TotalBsmtSF'). Finally, when we say a 'location', we mean a variable that gives information about the place where the house is located (e.g. 'Neighborhood').\n",
    "* <b>Expectation</b> - Our expectation about the variable influence in 'SalePrice'. We can use a categorical scale with 'High', 'Medium' and 'Low' as possible values.\n",
    "* <b>Conclusion</b> - Our conclusions about the importance of the variable, after we give a quick look at the data. We can keep with the same categorical scale as in 'Expectation'.\n",
    "* <b>Comments</b> - Any general comments that occured to us.\n",
    "\n",
    "While 'Type' and 'Segment' is just for possible future reference, the column 'Expectation' is important because it will help us develop a 'sixth sense'. To fill this column, we should read the description of all the variables and, one by one, ask ourselves:\n",
    "\n",
    "* Do we think about this variable when we are buying a house? (e.g. When we think about the house of our dreams, do we care about its 'Masonry veneer type'?).\n",
    "* If so, how important would this variable be? (e.g. What is the impact of having 'Excellent' material on the exterior instead of 'Poor'? And of having 'Excellent' instead of 'Good'?).\n",
    "* Is this information already described in any other variable? (e.g. If 'LandContour' gives the flatness of the property, do we really need to know the 'LandSlope'?).\n",
    "\n",
    "After this daunting exercise, we can filter the spreadsheet and look carefully to the variables with 'High' 'Expectation'. Then, we can rush into some scatter plots between those variables and 'SalePrice', filling in the 'Conclusion' column which is just the correction of our expectations.\n",
    "\n",
    "I went through this process and concluded that the following variables can play an important role in this problem:\n",
    "\n",
    "* OverallQual (which is a variable that I don't like because I don't know how it was computed; a funny exercise would be to predict 'OverallQual' using all the other variables available).\n",
    "* YearBuilt.\n",
    "* TotalBsmtSF.\n",
    "* GrLivArea.\n",
    "\n",
    "I ended up with two 'building' variables ('OverallQual' and 'YearBuilt') and two 'space' variables ('TotalBsmtSF' and 'GrLivArea'). This might be a little bit unexpected as it goes against the real estate mantra that all that matters is 'location, location and location'. It is possible that this quick data examination process was a bit harsh for categorical variables. For example, I expected the 'Neigborhood' variable to be more relevant, but after the data examination I ended up excluding it. Maybe this is related to the use of scatter plots instead of boxplots, which are more suitable for categorical variables visualization. The way we visualize data often influences our conclusions.\n",
    "\n",
    "However, the main point of this exercise was to think a little about our data and expectactions, so I think we achieved our goal. Now it's time for 'a little less conversation, a little more action please'. Let's <b>shake it!</b>"
   ]
  },
  {
   "cell_type": "markdown",
   "metadata": {
    "_cell_guid": "3ef87d93-0ea6-8cb2-aa2d-90d5b56a1ca1",
    "_uuid": "39d104c7e40b3f66a0f6e2330119332b301be7bf"
   },
   "source": [
    "# 2. First things first: analysing 'SalePrice'\n",
    "\n",
    "'SalePrice' is the reason of our quest. It's like when we're going to a party. We always have a reason to be there. Usually, women are that reason. (disclaimer: adapt it to men, dancing or alcohol, according to your preferences)\n",
    "\n",
    "Using the women analogy, let's build a little story, the story of 'How we met 'SalePrice''.\n",
    "\n",
    "*Everything started in our Kaggle party, when we were looking for a dance partner. After a while searching in the dance floor, we saw a girl, near the bar, using dance shoes. That's a sign that she's there to dance. We spend much time doing predictive modelling and participating in analytics competitions, so talking with girls is not one of our super powers. Even so, we gave it a try:*\n",
    "\n",
    "*'Hi, I'm Kaggly! And you? 'SalePrice'? What a beautiful name! You know 'SalePrice', could you give me some data about you? I just developed a model to calculate the probability of a successful relationship between two people. I'd like to apply it to us!'*"
   ]
  },
  {
   "cell_type": "code",
   "execution_count": 8,
   "metadata": {
    "_cell_guid": "54452e23-f4d3-919f-c734-80a35dc9ae08",
    "_execution_state": "idle",
    "_uuid": "5c15e1bd10b8e71c0b1d62bdb260882585a35579",
    "jupyter": {
     "outputs_hidden": true
    }
   },
   "outputs": [
    {
     "data": {
      "text/plain": [
       "count    438000.000000\n",
       "mean     180921.195890\n",
       "std       79415.382543\n",
       "min       34900.000000\n",
       "25%      129975.000000\n",
       "50%      163000.000000\n",
       "75%      214000.000000\n",
       "max      755000.000000\n",
       "Name: SalePrice, dtype: float64"
      ]
     },
     "execution_count": 8,
     "metadata": {},
     "output_type": "execute_result"
    },
    {
     "name": "stdout",
     "output_type": "stream",
     "text": [
      "time: 10.3 ms (started: 2024-05-22 22:02:03 -04:00)\n"
     ]
    }
   ],
   "source": [
    "#descriptive statistics summary\n",
    "df_train['SalePrice'].describe()"
   ]
  },
  {
   "cell_type": "markdown",
   "metadata": {
    "_cell_guid": "6af460e5-1be2-6618-d624-2a4423bd501f",
    "_uuid": "bb3005e8025ea75b0b4d1ef624927e7e21833ea1"
   },
   "source": [
    "*'Very well... It seems that your minimum price is larger than zero. Excellent! You don't have one of those personal traits that would destroy my model! Do you have any picture that you can send me? I don't know... like, you in the beach... or maybe a selfie in the gym?'*"
   ]
  },
  {
   "cell_type": "code",
   "execution_count": 9,
   "metadata": {
    "_cell_guid": "6bbea362-77b6-5385-f0a8-fb53afd088b7",
    "_execution_state": "idle",
    "_uuid": "2f78c77caa7290298138caf167672e62d3bc5a67",
    "jupyter": {
     "outputs_hidden": true
    }
   },
   "outputs": [
    {
     "name": "stdout",
     "output_type": "stream",
     "text": [
      "time: 130 µs (started: 2024-05-22 22:02:03 -04:00)\n"
     ]
    }
   ],
   "source": [
    "\n",
    "#histogram\n",
    "# STEFANOS: Disable plotting\n",
    "# sns.distplot(df_train['SalePrice']);"
   ]
  },
  {
   "cell_type": "markdown",
   "metadata": {
    "_cell_guid": "f4e257f0-1dfd-0774-b346-f2a1b2a068cc",
    "_uuid": "f84e60c8b934615e53af10823558fe42753ac25d"
   },
   "source": [
    "*'Ah! I see you that you use seaborn makeup when you're going out... That's so elegant! I also see that you:*\n",
    "\n",
    "* *<b>Deviate from the normal distribution.</b>*\n",
    "* *<b>Have appreciable positive skewness.</b>*\n",
    "* *<b>Show peakedness.</b>*\n",
    "\n",
    "*This is getting interesting! 'SalePrice', could you give me your body measures?'*"
   ]
  },
  {
   "cell_type": "code",
   "execution_count": 10,
   "metadata": {
    "_cell_guid": "36766737-f1a3-fe40-dbec-63c31be4d5e0",
    "_execution_state": "idle",
    "_uuid": "2cb253768dcd75b9a450ee264626ce69c808096a",
    "jupyter": {
     "outputs_hidden": true
    }
   },
   "outputs": [
    {
     "name": "stdout",
     "output_type": "stream",
     "text": [
      "Skewness: 1.880947\n",
      "Kurtosis: 6.509900\n",
      "time: 5.47 ms (started: 2024-05-22 22:02:03 -04:00)\n"
     ]
    }
   ],
   "source": [
    "#skewness and kurtosis\n",
    "print(\"Skewness: %f\" % df_train['SalePrice'].skew())\n",
    "print(\"Kurtosis: %f\" % df_train['SalePrice'].kurt())"
   ]
  },
  {
   "cell_type": "markdown",
   "metadata": {
    "_cell_guid": "7a3e43cc-5b75-0b49-1ad2-426d10d7fb42",
    "_uuid": "c984e32d4d10b1e6766c1b79ed8ade9a57529ffb"
   },
   "source": [
    "*'Amazing! If my love calculator is correct, our success probability is 97.834657%. I think we should meet again! Please, keep my number and give me a call if you're free next Friday. See you in a while, crocodile!'*"
   ]
  },
  {
   "cell_type": "markdown",
   "metadata": {
    "_cell_guid": "c477edc1-b472-f55b-ba98-514159dbda2e",
    "_uuid": "e0368771327b15853b3e306f39eb93d209594e75"
   },
   "source": [
    "# 'SalePrice', her buddies and her interests"
   ]
  },
  {
   "cell_type": "markdown",
   "metadata": {
    "_cell_guid": "b02d4be5-ef2c-bd5c-ff71-2c790b3637ce",
    "_uuid": "c6edbfb50a21f4c94052f86f6926cfdc35e7ca22"
   },
   "source": [
    "*It is military wisdom to choose the terrain where you will fight. As soon as 'SalePrice' walked away, we went to Facebook. Yes, now this is getting serious. Notice that this is not stalking. It's just an intense research of an individual, if you know what I mean.*\n",
    "\n",
    "*According to her profile, we have some common friends. Besides Chuck Norris, we both know 'GrLivArea' and 'TotalBsmtSF'. Moreover, we also have common interests such as 'OverallQual' and 'YearBuilt'. This looks promising!*\n",
    "\n",
    "*To take the most out of our research, we will start by looking carefully at the profiles of our common friends and later we will focus on our common interests.*"
   ]
  },
  {
   "cell_type": "markdown",
   "metadata": {
    "_cell_guid": "73c1a953-aafd-96f6-c7bd-e2c79b3e5a0b",
    "_uuid": "08e034d70ed14ef0c4fb8cc1e9dd9e15f0d1c996"
   },
   "source": [
    "### Relationship with numerical variables"
   ]
  },
  {
   "cell_type": "code",
   "execution_count": 11,
   "metadata": {
    "_cell_guid": "db040973-0adc-e126-e657-1d8934b5a5c8",
    "_execution_state": "idle",
    "_uuid": "91160363898f5caeee965a1aa81eb3abb7dcd760",
    "jupyter": {
     "outputs_hidden": true
    }
   },
   "outputs": [
    {
     "name": "stdout",
     "output_type": "stream",
     "text": [
      "time: 3.03 ms (started: 2024-05-22 22:02:03 -04:00)\n"
     ]
    }
   ],
   "source": [
    "#scatter plot grlivarea/saleprice\n",
    "var = 'GrLivArea'\n",
    "data = pd.concat([df_train['SalePrice'], df_train[var]], axis=1)\n",
    "# STEFANOS: Disable plotting\n",
    "# data.plot.scatter(x=var, y='SalePrice', ylim=(0,800000));"
   ]
  },
  {
   "cell_type": "markdown",
   "metadata": {
    "_cell_guid": "c3dccb06-206a-20c0-6060-8d5b49f4df0b",
    "_uuid": "6775955416e9b2d4ac43e3fec5685c8577138455"
   },
   "source": [
    "*Hmmm... It seems that 'SalePrice' and 'GrLivArea' are really old friends, with a <b>linear relationship.</b>*\n",
    "\n",
    "*And what about 'TotalBsmtSF'?*"
   ]
  },
  {
   "cell_type": "code",
   "execution_count": 12,
   "metadata": {
    "_cell_guid": "353def35-0f26-998d-b9a4-7356f95e80ad",
    "_execution_state": "idle",
    "_uuid": "3ac3db51311338fcdc16014a7c506cf3d5315af7",
    "jupyter": {
     "outputs_hidden": true
    }
   },
   "outputs": [
    {
     "name": "stdout",
     "output_type": "stream",
     "text": [
      "time: 3.89 ms (started: 2024-05-22 22:02:03 -04:00)\n"
     ]
    }
   ],
   "source": [
    "#scatter plot totalbsmtsf/saleprice\n",
    "var = 'TotalBsmtSF'\n",
    "data = pd.concat([df_train['SalePrice'], df_train[var]], axis=1)\n",
    "# STEFANOS: Disable plotting\n",
    "# data.plot.scatter(x=var, y='SalePrice', ylim=(0,800000));"
   ]
  },
  {
   "cell_type": "markdown",
   "metadata": {
    "_cell_guid": "7ea69b90-de6d-c104-ff92-a49943993930",
    "_uuid": "4496c7d3635636e8e19296f3b5b52fdba16f7cc5"
   },
   "source": [
    "*'TotalBsmtSF' is also a great friend of 'SalePrice' but this seems a much more emotional relationship! Everything is ok and suddenly, in a <b>strong linear (exponential?)</b> reaction, everything changes. Moreover, it's clear that sometimes 'TotalBsmtSF' closes in itself and gives zero credit to 'SalePrice'.*"
   ]
  },
  {
   "cell_type": "markdown",
   "metadata": {
    "_cell_guid": "b31bc890-46bf-618c-e668-17879763ad23",
    "_uuid": "5550d4df3c0ad48d8b2b9b0905f17daa3fc8d244"
   },
   "source": [
    "### Relationship with categorical features"
   ]
  },
  {
   "cell_type": "code",
   "execution_count": 13,
   "metadata": {
    "_cell_guid": "26d0fddc-cb09-af7d-9f03-a07233fa6c9e",
    "_execution_state": "idle",
    "_uuid": "e2b7aaccc3486a74a09996289a833ffb6acd0764",
    "jupyter": {
     "outputs_hidden": true
    }
   },
   "outputs": [
    {
     "name": "stdout",
     "output_type": "stream",
     "text": [
      "time: 2.51 ms (started: 2024-05-22 22:02:03 -04:00)\n"
     ]
    }
   ],
   "source": [
    "#box plot overallqual/saleprice\n",
    "var = 'OverallQual'\n",
    "data = pd.concat([df_train['SalePrice'], df_train[var]], axis=1)\n",
    "# STEFANOS: Disable plotting\n",
    "# f, ax = plt.subplots(figsize=(8, 6))\n",
    "# fig = sns.boxplot(x=var, y=\"SalePrice\", data=data)\n",
    "# fig.axis(ymin=0, ymax=800000);"
   ]
  },
  {
   "cell_type": "markdown",
   "metadata": {
    "_cell_guid": "49c33fb5-fce0-e852-7f31-2d0da20f7b16",
    "_uuid": "463ae72c67dfa50524f9b2c89427dbcd4b7bd856"
   },
   "source": [
    "*Like all the pretty girls, 'SalePrice' enjoys 'OverallQual'. Note to self: consider whether McDonald's is suitable for the first date.*"
   ]
  },
  {
   "cell_type": "code",
   "execution_count": 14,
   "metadata": {
    "_cell_guid": "590da500-3e48-7059-4f0b-1ef1801dd1db",
    "_execution_state": "idle",
    "_uuid": "a78c64aeed1e48aa453ae4b7deef172cb2060b39",
    "jupyter": {
     "outputs_hidden": true
    }
   },
   "outputs": [
    {
     "name": "stdout",
     "output_type": "stream",
     "text": [
      "time: 1.77 ms (started: 2024-05-22 22:02:03 -04:00)\n"
     ]
    }
   ],
   "source": [
    "var = 'YearBuilt'\n",
    "data = pd.concat([df_train['SalePrice'], df_train[var]], axis=1)\n",
    "# STEFANOS: Disable plotting\n",
    "# f, ax = plt.subplots(figsize=(16, 8))\n",
    "# fig = sns.boxplot(x=var, y=\"SalePrice\", data=data)\n",
    "# fig.axis(ymin=0, ymax=800000);\n",
    "# plt.xticks(rotation=90);"
   ]
  },
  {
   "cell_type": "code",
   "execution_count": 15,
   "metadata": {},
   "outputs": [
    {
     "data": {
      "text/html": [
       "<div>\n",
       "<style scoped>\n",
       "    .dataframe tbody tr th:only-of-type {\n",
       "        vertical-align: middle;\n",
       "    }\n",
       "\n",
       "    .dataframe tbody tr th {\n",
       "        vertical-align: top;\n",
       "    }\n",
       "\n",
       "    .dataframe thead th {\n",
       "        text-align: right;\n",
       "    }\n",
       "</style>\n",
       "<table border=\"1\" class=\"dataframe\">\n",
       "  <thead>\n",
       "    <tr style=\"text-align: right;\">\n",
       "      <th></th>\n",
       "      <th>Id</th>\n",
       "      <th>MSSubClass</th>\n",
       "      <th>MSZoning</th>\n",
       "      <th>LotFrontage</th>\n",
       "      <th>LotArea</th>\n",
       "      <th>Street</th>\n",
       "      <th>Alley</th>\n",
       "      <th>LotShape</th>\n",
       "      <th>LandContour</th>\n",
       "      <th>Utilities</th>\n",
       "      <th>...</th>\n",
       "      <th>PoolArea</th>\n",
       "      <th>PoolQC</th>\n",
       "      <th>Fence</th>\n",
       "      <th>MiscFeature</th>\n",
       "      <th>MiscVal</th>\n",
       "      <th>MoSold</th>\n",
       "      <th>YrSold</th>\n",
       "      <th>SaleType</th>\n",
       "      <th>SaleCondition</th>\n",
       "      <th>SalePrice</th>\n",
       "    </tr>\n",
       "  </thead>\n",
       "  <tbody>\n",
       "    <tr>\n",
       "      <th>0</th>\n",
       "      <td>1</td>\n",
       "      <td>60</td>\n",
       "      <td>RL</td>\n",
       "      <td>65.0</td>\n",
       "      <td>8450</td>\n",
       "      <td>Pave</td>\n",
       "      <td>NaN</td>\n",
       "      <td>Reg</td>\n",
       "      <td>Lvl</td>\n",
       "      <td>AllPub</td>\n",
       "      <td>...</td>\n",
       "      <td>0</td>\n",
       "      <td>NaN</td>\n",
       "      <td>NaN</td>\n",
       "      <td>NaN</td>\n",
       "      <td>0</td>\n",
       "      <td>2</td>\n",
       "      <td>2008</td>\n",
       "      <td>WD</td>\n",
       "      <td>Normal</td>\n",
       "      <td>208500</td>\n",
       "    </tr>\n",
       "    <tr>\n",
       "      <th>1</th>\n",
       "      <td>2</td>\n",
       "      <td>20</td>\n",
       "      <td>RL</td>\n",
       "      <td>80.0</td>\n",
       "      <td>9600</td>\n",
       "      <td>Pave</td>\n",
       "      <td>NaN</td>\n",
       "      <td>Reg</td>\n",
       "      <td>Lvl</td>\n",
       "      <td>AllPub</td>\n",
       "      <td>...</td>\n",
       "      <td>0</td>\n",
       "      <td>NaN</td>\n",
       "      <td>NaN</td>\n",
       "      <td>NaN</td>\n",
       "      <td>0</td>\n",
       "      <td>5</td>\n",
       "      <td>2007</td>\n",
       "      <td>WD</td>\n",
       "      <td>Normal</td>\n",
       "      <td>181500</td>\n",
       "    </tr>\n",
       "    <tr>\n",
       "      <th>2</th>\n",
       "      <td>3</td>\n",
       "      <td>60</td>\n",
       "      <td>RL</td>\n",
       "      <td>68.0</td>\n",
       "      <td>11250</td>\n",
       "      <td>Pave</td>\n",
       "      <td>NaN</td>\n",
       "      <td>IR1</td>\n",
       "      <td>Lvl</td>\n",
       "      <td>AllPub</td>\n",
       "      <td>...</td>\n",
       "      <td>0</td>\n",
       "      <td>NaN</td>\n",
       "      <td>NaN</td>\n",
       "      <td>NaN</td>\n",
       "      <td>0</td>\n",
       "      <td>9</td>\n",
       "      <td>2008</td>\n",
       "      <td>WD</td>\n",
       "      <td>Normal</td>\n",
       "      <td>223500</td>\n",
       "    </tr>\n",
       "    <tr>\n",
       "      <th>3</th>\n",
       "      <td>4</td>\n",
       "      <td>70</td>\n",
       "      <td>RL</td>\n",
       "      <td>60.0</td>\n",
       "      <td>9550</td>\n",
       "      <td>Pave</td>\n",
       "      <td>NaN</td>\n",
       "      <td>IR1</td>\n",
       "      <td>Lvl</td>\n",
       "      <td>AllPub</td>\n",
       "      <td>...</td>\n",
       "      <td>0</td>\n",
       "      <td>NaN</td>\n",
       "      <td>NaN</td>\n",
       "      <td>NaN</td>\n",
       "      <td>0</td>\n",
       "      <td>2</td>\n",
       "      <td>2006</td>\n",
       "      <td>WD</td>\n",
       "      <td>Abnorml</td>\n",
       "      <td>140000</td>\n",
       "    </tr>\n",
       "    <tr>\n",
       "      <th>4</th>\n",
       "      <td>5</td>\n",
       "      <td>60</td>\n",
       "      <td>RL</td>\n",
       "      <td>84.0</td>\n",
       "      <td>14260</td>\n",
       "      <td>Pave</td>\n",
       "      <td>NaN</td>\n",
       "      <td>IR1</td>\n",
       "      <td>Lvl</td>\n",
       "      <td>AllPub</td>\n",
       "      <td>...</td>\n",
       "      <td>0</td>\n",
       "      <td>NaN</td>\n",
       "      <td>NaN</td>\n",
       "      <td>NaN</td>\n",
       "      <td>0</td>\n",
       "      <td>12</td>\n",
       "      <td>2008</td>\n",
       "      <td>WD</td>\n",
       "      <td>Normal</td>\n",
       "      <td>250000</td>\n",
       "    </tr>\n",
       "    <tr>\n",
       "      <th>...</th>\n",
       "      <td>...</td>\n",
       "      <td>...</td>\n",
       "      <td>...</td>\n",
       "      <td>...</td>\n",
       "      <td>...</td>\n",
       "      <td>...</td>\n",
       "      <td>...</td>\n",
       "      <td>...</td>\n",
       "      <td>...</td>\n",
       "      <td>...</td>\n",
       "      <td>...</td>\n",
       "      <td>...</td>\n",
       "      <td>...</td>\n",
       "      <td>...</td>\n",
       "      <td>...</td>\n",
       "      <td>...</td>\n",
       "      <td>...</td>\n",
       "      <td>...</td>\n",
       "      <td>...</td>\n",
       "      <td>...</td>\n",
       "      <td>...</td>\n",
       "    </tr>\n",
       "    <tr>\n",
       "      <th>437995</th>\n",
       "      <td>1456</td>\n",
       "      <td>60</td>\n",
       "      <td>RL</td>\n",
       "      <td>62.0</td>\n",
       "      <td>7917</td>\n",
       "      <td>Pave</td>\n",
       "      <td>NaN</td>\n",
       "      <td>Reg</td>\n",
       "      <td>Lvl</td>\n",
       "      <td>AllPub</td>\n",
       "      <td>...</td>\n",
       "      <td>0</td>\n",
       "      <td>NaN</td>\n",
       "      <td>NaN</td>\n",
       "      <td>NaN</td>\n",
       "      <td>0</td>\n",
       "      <td>8</td>\n",
       "      <td>2007</td>\n",
       "      <td>WD</td>\n",
       "      <td>Normal</td>\n",
       "      <td>175000</td>\n",
       "    </tr>\n",
       "    <tr>\n",
       "      <th>437996</th>\n",
       "      <td>1457</td>\n",
       "      <td>20</td>\n",
       "      <td>RL</td>\n",
       "      <td>85.0</td>\n",
       "      <td>13175</td>\n",
       "      <td>Pave</td>\n",
       "      <td>NaN</td>\n",
       "      <td>Reg</td>\n",
       "      <td>Lvl</td>\n",
       "      <td>AllPub</td>\n",
       "      <td>...</td>\n",
       "      <td>0</td>\n",
       "      <td>NaN</td>\n",
       "      <td>MnPrv</td>\n",
       "      <td>NaN</td>\n",
       "      <td>0</td>\n",
       "      <td>2</td>\n",
       "      <td>2010</td>\n",
       "      <td>WD</td>\n",
       "      <td>Normal</td>\n",
       "      <td>210000</td>\n",
       "    </tr>\n",
       "    <tr>\n",
       "      <th>437997</th>\n",
       "      <td>1458</td>\n",
       "      <td>70</td>\n",
       "      <td>RL</td>\n",
       "      <td>66.0</td>\n",
       "      <td>9042</td>\n",
       "      <td>Pave</td>\n",
       "      <td>NaN</td>\n",
       "      <td>Reg</td>\n",
       "      <td>Lvl</td>\n",
       "      <td>AllPub</td>\n",
       "      <td>...</td>\n",
       "      <td>0</td>\n",
       "      <td>NaN</td>\n",
       "      <td>GdPrv</td>\n",
       "      <td>Shed</td>\n",
       "      <td>2500</td>\n",
       "      <td>5</td>\n",
       "      <td>2010</td>\n",
       "      <td>WD</td>\n",
       "      <td>Normal</td>\n",
       "      <td>266500</td>\n",
       "    </tr>\n",
       "    <tr>\n",
       "      <th>437998</th>\n",
       "      <td>1459</td>\n",
       "      <td>20</td>\n",
       "      <td>RL</td>\n",
       "      <td>68.0</td>\n",
       "      <td>9717</td>\n",
       "      <td>Pave</td>\n",
       "      <td>NaN</td>\n",
       "      <td>Reg</td>\n",
       "      <td>Lvl</td>\n",
       "      <td>AllPub</td>\n",
       "      <td>...</td>\n",
       "      <td>0</td>\n",
       "      <td>NaN</td>\n",
       "      <td>NaN</td>\n",
       "      <td>NaN</td>\n",
       "      <td>0</td>\n",
       "      <td>4</td>\n",
       "      <td>2010</td>\n",
       "      <td>WD</td>\n",
       "      <td>Normal</td>\n",
       "      <td>142125</td>\n",
       "    </tr>\n",
       "    <tr>\n",
       "      <th>437999</th>\n",
       "      <td>1460</td>\n",
       "      <td>20</td>\n",
       "      <td>RL</td>\n",
       "      <td>75.0</td>\n",
       "      <td>9937</td>\n",
       "      <td>Pave</td>\n",
       "      <td>NaN</td>\n",
       "      <td>Reg</td>\n",
       "      <td>Lvl</td>\n",
       "      <td>AllPub</td>\n",
       "      <td>...</td>\n",
       "      <td>0</td>\n",
       "      <td>NaN</td>\n",
       "      <td>NaN</td>\n",
       "      <td>NaN</td>\n",
       "      <td>0</td>\n",
       "      <td>6</td>\n",
       "      <td>2008</td>\n",
       "      <td>WD</td>\n",
       "      <td>Normal</td>\n",
       "      <td>147500</td>\n",
       "    </tr>\n",
       "  </tbody>\n",
       "</table>\n",
       "<p>438000 rows × 81 columns</p>\n",
       "</div>"
      ],
      "text/plain": [
       "          Id  MSSubClass MSZoning  LotFrontage  LotArea Street Alley LotShape  \\\n",
       "0          1          60       RL         65.0     8450   Pave   NaN      Reg   \n",
       "1          2          20       RL         80.0     9600   Pave   NaN      Reg   \n",
       "2          3          60       RL         68.0    11250   Pave   NaN      IR1   \n",
       "3          4          70       RL         60.0     9550   Pave   NaN      IR1   \n",
       "4          5          60       RL         84.0    14260   Pave   NaN      IR1   \n",
       "...      ...         ...      ...          ...      ...    ...   ...      ...   \n",
       "437995  1456          60       RL         62.0     7917   Pave   NaN      Reg   \n",
       "437996  1457          20       RL         85.0    13175   Pave   NaN      Reg   \n",
       "437997  1458          70       RL         66.0     9042   Pave   NaN      Reg   \n",
       "437998  1459          20       RL         68.0     9717   Pave   NaN      Reg   \n",
       "437999  1460          20       RL         75.0     9937   Pave   NaN      Reg   \n",
       "\n",
       "       LandContour Utilities  ... PoolArea PoolQC  Fence MiscFeature MiscVal  \\\n",
       "0              Lvl    AllPub  ...        0    NaN    NaN         NaN       0   \n",
       "1              Lvl    AllPub  ...        0    NaN    NaN         NaN       0   \n",
       "2              Lvl    AllPub  ...        0    NaN    NaN         NaN       0   \n",
       "3              Lvl    AllPub  ...        0    NaN    NaN         NaN       0   \n",
       "4              Lvl    AllPub  ...        0    NaN    NaN         NaN       0   \n",
       "...            ...       ...  ...      ...    ...    ...         ...     ...   \n",
       "437995         Lvl    AllPub  ...        0    NaN    NaN         NaN       0   \n",
       "437996         Lvl    AllPub  ...        0    NaN  MnPrv         NaN       0   \n",
       "437997         Lvl    AllPub  ...        0    NaN  GdPrv        Shed    2500   \n",
       "437998         Lvl    AllPub  ...        0    NaN    NaN         NaN       0   \n",
       "437999         Lvl    AllPub  ...        0    NaN    NaN         NaN       0   \n",
       "\n",
       "       MoSold YrSold  SaleType  SaleCondition  SalePrice  \n",
       "0           2   2008        WD         Normal     208500  \n",
       "1           5   2007        WD         Normal     181500  \n",
       "2           9   2008        WD         Normal     223500  \n",
       "3           2   2006        WD        Abnorml     140000  \n",
       "4          12   2008        WD         Normal     250000  \n",
       "...       ...    ...       ...            ...        ...  \n",
       "437995      8   2007        WD         Normal     175000  \n",
       "437996      2   2010        WD         Normal     210000  \n",
       "437997      5   2010        WD         Normal     266500  \n",
       "437998      4   2010        WD         Normal     142125  \n",
       "437999      6   2008        WD         Normal     147500  \n",
       "\n",
       "[438000 rows x 81 columns]"
      ]
     },
     "execution_count": 15,
     "metadata": {},
     "output_type": "execute_result"
    },
    {
     "name": "stdout",
     "output_type": "stream",
     "text": [
      "time: 142 ms (started: 2024-05-22 22:02:03 -04:00)\n"
     ]
    }
   ],
   "source": [
    "df_train"
   ]
  },
  {
   "cell_type": "markdown",
   "metadata": {
    "_cell_guid": "ad19b4d2-cb40-2e10-c6ee-913a0d5a6618",
    "_uuid": "22f458a1252d0eed8bbd6f0d0b56508033e228bd"
   },
   "source": [
    "*Although it's not a strong tendency, I'd say that 'SalePrice' is more prone to spend more money in new stuff than in old relics.*\n",
    "\n",
    "<b>Note</b>: we don't know if 'SalePrice' is in constant prices. Constant prices try to remove the effect of inflation. If 'SalePrice' is not in constant prices, it should be, so than prices are comparable over the years."
   ]
  },
  {
   "cell_type": "markdown",
   "metadata": {
    "_cell_guid": "9d2f4940-ee0c-edef-769d-65fead4f06f3",
    "_uuid": "1dc93d788b3cd2446afa41e7c06d05c6bbadb480"
   },
   "source": [
    "### In summary\n",
    "\n",
    "Stories aside, we can conclude that:\n",
    "\n",
    "* 'GrLivArea' and 'TotalBsmtSF' seem to be linearly related with 'SalePrice'. Both relationships are positive, which means that as one variable increases, the other also increases. In the case of 'TotalBsmtSF', we can see that the slope of the linear relationship is particularly high.\n",
    "* 'OverallQual' and 'YearBuilt' also seem to be related with 'SalePrice'. The relationship seems to be stronger in the case of 'OverallQual', where the box plot shows how sales prices increase with the overall quality.\n",
    "\n",
    "We just analysed four variables, but there are many other that we should analyse. The trick here seems to be the choice of the right features (feature selection) and not the definition of complex relationships between them (feature engineering).\n",
    "\n",
    "That said, let's separate the wheat from the chaff."
   ]
  },
  {
   "cell_type": "markdown",
   "metadata": {
    "_cell_guid": "b75e5f62-307b-f5f4-79ac-38815a7a6da4",
    "_uuid": "aa4ed71a6d1003513b4e31adacd0e7a491671f0f"
   },
   "source": [
    "# 3. Keep calm and work smart"
   ]
  },
  {
   "cell_type": "markdown",
   "metadata": {
    "_cell_guid": "2ea2f896-48a6-db39-0684-6a029d8fda60",
    "_uuid": "d67e5bf6f2c4b6acb617c4cdcee0dc5c3f79d9b8"
   },
   "source": [
    "Until now we just followed our intuition and analysed the variables we thought were important. In spite of our efforts to give an objective character to our analysis, we must say that our starting point was subjective. \n",
    "\n",
    "As an engineer, I don't feel comfortable with this approach. All my education was about developing a disciplined mind, able to withstand the winds of subjectivity. There's a reason for that. Try to be subjective in structural engineering and you will see physics making things fall down. It can hurt.\n",
    "\n",
    "So, let's overcome inertia and do a more objective analysis."
   ]
  },
  {
   "cell_type": "markdown",
   "metadata": {
    "_cell_guid": "0eb27879-4f54-6fd7-e07a-156eae1aef7f",
    "_uuid": "4816779faf59b3eebf954c36bb3c85ff7dfc87a9"
   },
   "source": [
    "### The 'plasma soup'\n",
    "\n",
    "'In the very beginning there was nothing except for a plasma soup. What is known of these brief moments in time, at the start of our study of cosmology, is largely conjectural. However, science has devised some sketch of what probably happened, based on what is known about the universe today.' (source: http://umich.edu/~gs265/bigbang.htm) \n",
    "\n",
    "To explore the universe, we will start with some practical recipes to make sense of our 'plasma soup':\n",
    "* Correlation matrix (heatmap style).\n",
    "* 'SalePrice' correlation matrix (zoomed heatmap style).\n",
    "* Scatter plots between the most correlated variables (move like Jagger style)."
   ]
  },
  {
   "cell_type": "markdown",
   "metadata": {
    "_cell_guid": "06f8d02c-d779-f8fd-7f48-ba3c5166eda8",
    "_uuid": "bf469f1030a8768f73a18e5ad59db43c4241c603"
   },
   "source": [
    "#### Correlation matrix (heatmap style)"
   ]
  },
  {
   "cell_type": "code",
   "execution_count": 16,
   "metadata": {
    "_cell_guid": "4eb7a6ef-adf5-6abf-947d-c95afdc477b8",
    "_execution_state": "idle",
    "_uuid": "5dfee22210f5a126ea34ca6475bb4f365d41317b",
    "jupyter": {
     "outputs_hidden": true
    }
   },
   "outputs": [
    {
     "name": "stdout",
     "output_type": "stream",
     "text": [
      "time: 914 ms (started: 2024-05-22 22:02:04 -04:00)\n"
     ]
    }
   ],
   "source": [
    "#correlation matrix\n",
    "corrmat = df_train.corr(numeric_only=True)\n",
    "# STEFANOS: Disable plotting\n",
    "# f, ax = plt.subplots(figsize=(12, 9))\n",
    "# sns.heatmap(corrmat, vmax=.8, square=True);"
   ]
  },
  {
   "cell_type": "markdown",
   "metadata": {
    "_cell_guid": "977fb7af-70e1-bfb8-e381-3176ec0321b0",
    "_uuid": "b6eb357b201b4d2a9e81f4373cadb9aeccc2482c"
   },
   "source": [
    "In my opinion, this heatmap is the best way to get a quick overview of our 'plasma soup' and its relationships. (Thank you @seaborn!)\n",
    "\n",
    "At first sight, there are two red colored squares that get my attention. The first one refers to the 'TotalBsmtSF' and '1stFlrSF' variables, and the second one refers to the 'Garage*X*' variables. Both cases show how significant the correlation is between these variables. Actually, this correlation is so strong that it can indicate a situation of multicollinearity. If we think about these variables, we can conclude that they give almost the same information so multicollinearity really occurs. Heatmaps are great to detect this kind of situations and in problems dominated by feature selection, like ours, they are an essential tool.\n",
    "\n",
    "Another thing that got my attention was the 'SalePrice' correlations. We can see our well-known 'GrLivArea', 'TotalBsmtSF', and 'OverallQual' saying a big 'Hi!', but we can also see many other variables that should be taken into account. That's what we will do next."
   ]
  },
  {
   "cell_type": "markdown",
   "metadata": {
    "_cell_guid": "9b557956-df91-bab3-0e8b-d8ffc054470f",
    "_uuid": "6ef7d7b7747807431aa9827046c76bfa3d34ffe1"
   },
   "source": [
    "#### 'SalePrice' correlation matrix (zoomed heatmap style)"
   ]
  },
  {
   "cell_type": "code",
   "execution_count": 17,
   "metadata": {
    "_cell_guid": "bc33db9e-9ee3-6cfe-7643-a2aff5a9234d",
    "_execution_state": "idle",
    "_uuid": "a6ee47c540ce9f3f1d2af6efe0b030e76e3a3f7f",
    "jupyter": {
     "outputs_hidden": true
    }
   },
   "outputs": [
    {
     "name": "stdout",
     "output_type": "stream",
     "text": [
      "time: 289 ms (started: 2024-05-22 22:02:05 -04:00)\n"
     ]
    }
   ],
   "source": [
    "#saleprice correlation matrix\n",
    "k = 10 #number of variables for heatmap\n",
    "# STEFANOS-DISABLE-FOR-MODIN: Seems it doesn't support nlargest()\n",
    "#### ORIGINAL CODE ####\n",
    "# cols = corrmat.nlargest(k, 'SalePrice')['SalePrice'].index\n",
    "#### COMPATIBLE FOR MODIN ####\n",
    "cols = corrmat.sort_values(by='SalePrice', ascending=False).head(k)['SalePrice'].index\n",
    "\n",
    "\n",
    "cm = np.corrcoef(df_train[cols].values.T)\n",
    "# STEFANOS: Disable plotting\n",
    "# sns.set(font_scale=1.25)\n",
    "# hm = sns.heatmap(cm, cbar=True, annot=True, square=True, fmt='.2f', annot_kws={'size': 10}, yticklabels=cols.values, xticklabels=cols.values)\n",
    "# plt.show()"
   ]
  },
  {
   "cell_type": "markdown",
   "metadata": {
    "_cell_guid": "f5c23b8a-aad9-809f-0fdf-f758f926f5c9",
    "_uuid": "c10a0a0bd55e55822726c78a59ab2bb6d9763f68"
   },
   "source": [
    "According to our crystal ball, these are the variables most correlated with 'SalePrice'. My thoughts on this:\n",
    "\n",
    "* 'OverallQual', 'GrLivArea' and 'TotalBsmtSF' are strongly correlated with 'SalePrice'. Check!\n",
    "* 'GarageCars' and 'GarageArea' are also some of the most strongly correlated variables. However, as we discussed in the last sub-point, the number of cars that fit into the garage is a consequence of the garage area. 'GarageCars' and 'GarageArea' are like twin brothers. You'll never be able to distinguish them. Therefore, we just need one of these variables in our analysis (we can keep 'GarageCars' since its correlation with 'SalePrice' is higher).\n",
    "* 'TotalBsmtSF' and '1stFloor' also seem to be twin brothers. We can keep 'TotalBsmtSF' just to say that our first guess was right (re-read 'So... What can we expect?').\n",
    "* 'FullBath'?? Really? \n",
    "* 'TotRmsAbvGrd' and 'GrLivArea', twin brothers again. Is this dataset from Chernobyl?\n",
    "* Ah... 'YearBuilt'... It seems that 'YearBuilt' is slightly correlated with 'SalePrice'. Honestly, it scares me to think about 'YearBuilt' because I start feeling that we should do a little bit of time-series analysis to get this right. I'll leave this as a homework for you.\n",
    "\n",
    "Let's proceed to the scatter plots."
   ]
  },
  {
   "cell_type": "markdown",
   "metadata": {
    "_cell_guid": "3bdb34db-cf47-d8c8-b857-7031828808ed",
    "_uuid": "28e0b3f8ecee68390a40bd653d7370c20615ad5d"
   },
   "source": [
    "#### Scatter plots between 'SalePrice' and correlated variables (move like Jagger style)"
   ]
  },
  {
   "cell_type": "markdown",
   "metadata": {
    "_cell_guid": "f49b1a3a-2edf-d582-e4ed-3b6188675fbc",
    "_uuid": "cbebb4763aa2a977078a1fba424073b3ea1ecd61"
   },
   "source": [
    "Get ready for what you're about to see. I must confess that the first time I saw these scatter plots I was totally blown away! So much information in so short space... It's just amazing. Once more, thank you @seaborn! You make me 'move like Jagger'!"
   ]
  },
  {
   "cell_type": "code",
   "execution_count": 18,
   "metadata": {
    "_cell_guid": "5a8db5de-d3f9-9a28-f220-bb05d51c53d0",
    "_execution_state": "idle",
    "_uuid": "cdafd230216fd04cc4ecf635967925da0bce9195",
    "jupyter": {
     "outputs_hidden": true
    }
   },
   "outputs": [
    {
     "name": "stdout",
     "output_type": "stream",
     "text": [
      "time: 185 µs (started: 2024-05-22 22:02:05 -04:00)\n"
     ]
    }
   ],
   "source": [
    "#scatterplot\n",
    "# STEFANOS: Disable plotting\n",
    "# sns.set()\n",
    "# cols = ['SalePrice', 'OverallQual', 'GrLivArea', 'GarageCars', 'TotalBsmtSF', 'FullBath', 'YearBuilt']\n",
    "# sns.pairplot(df_train[cols], size = 2.5)\n",
    "# plt.show();"
   ]
  },
  {
   "cell_type": "markdown",
   "metadata": {
    "_cell_guid": "a61d0a23-e5e4-3190-41a7-03a5110dc967",
    "_uuid": "7dd622e414e1fda79d2d1f163b1d30d6c2de15eb"
   },
   "source": [
    "Although we already know some of the main figures, this mega scatter plot gives us a reasonable idea about variables relationships.\n",
    "\n",
    "One of the figures we may find interesting is the one between 'TotalBsmtSF' and 'GrLiveArea'. In this figure we can see the dots drawing a linear line, which almost acts like a border. It totally makes sense that the majority of the dots stay below that line. Basement areas can be equal to the above ground living area, but it is not expected a basement area bigger than the above ground living area (unless you're trying to buy a bunker).\n",
    "\n",
    "The plot concerning 'SalePrice' and 'YearBuilt' can also make us think. In the bottom of the 'dots cloud', we see what almost appears to be a shy exponential function (be creative). We can also see this same tendency in the upper limit of the 'dots cloud' (be even more creative). Also, notice how the set of dots regarding the last years tend to stay above this limit (I just wanted to say that prices are increasing faster now).\n",
    "\n",
    "Ok, enough of Rorschach test for now. Let's move forward to what's missing: missing data!"
   ]
  },
  {
   "cell_type": "markdown",
   "metadata": {
    "_cell_guid": "9ce00498-d5e6-9e35-debc-8d507002d461",
    "_uuid": "726efbb348d1022cabb171f622d7b4e01fe8c778"
   },
   "source": [
    "# 4. Missing data\n",
    "\n",
    "Important questions when thinking about missing data:\n",
    "\n",
    "* How prevalent is the missing data?\n",
    "* Is missing data random or does it have a pattern?\n",
    "\n",
    "The answer to these questions is important for practical reasons because missing data can imply a reduction of the sample size. This can prevent us from proceeding with the analysis. Moreover, from a substantive perspective, we need to ensure that the missing data process is not biased and hidding an inconvenient truth."
   ]
  },
  {
   "cell_type": "code",
   "execution_count": 19,
   "metadata": {
    "_cell_guid": "ca2f89e7-1c16-c3ae-6fe0-ab4eaf7e52a1",
    "_execution_state": "idle",
    "_uuid": "664e03dc1434fa2c4eb730ea36ab60e37f13cd3f",
    "jupyter": {
     "outputs_hidden": true
    }
   },
   "outputs": [
    {
     "data": {
      "text/html": [
       "<div>\n",
       "<style scoped>\n",
       "    .dataframe tbody tr th:only-of-type {\n",
       "        vertical-align: middle;\n",
       "    }\n",
       "\n",
       "    .dataframe tbody tr th {\n",
       "        vertical-align: top;\n",
       "    }\n",
       "\n",
       "    .dataframe thead th {\n",
       "        text-align: right;\n",
       "    }\n",
       "</style>\n",
       "<table border=\"1\" class=\"dataframe\">\n",
       "  <thead>\n",
       "    <tr style=\"text-align: right;\">\n",
       "      <th></th>\n",
       "      <th>Total</th>\n",
       "      <th>Percent</th>\n",
       "    </tr>\n",
       "  </thead>\n",
       "  <tbody>\n",
       "    <tr>\n",
       "      <th>PoolQC</th>\n",
       "      <td>435900</td>\n",
       "      <td>0.995205</td>\n",
       "    </tr>\n",
       "    <tr>\n",
       "      <th>MiscFeature</th>\n",
       "      <td>421800</td>\n",
       "      <td>0.963014</td>\n",
       "    </tr>\n",
       "    <tr>\n",
       "      <th>Alley</th>\n",
       "      <td>410700</td>\n",
       "      <td>0.937671</td>\n",
       "    </tr>\n",
       "    <tr>\n",
       "      <th>Fence</th>\n",
       "      <td>353700</td>\n",
       "      <td>0.807534</td>\n",
       "    </tr>\n",
       "    <tr>\n",
       "      <th>FireplaceQu</th>\n",
       "      <td>207000</td>\n",
       "      <td>0.472603</td>\n",
       "    </tr>\n",
       "    <tr>\n",
       "      <th>LotFrontage</th>\n",
       "      <td>77700</td>\n",
       "      <td>0.177397</td>\n",
       "    </tr>\n",
       "    <tr>\n",
       "      <th>GarageYrBlt</th>\n",
       "      <td>24300</td>\n",
       "      <td>0.055479</td>\n",
       "    </tr>\n",
       "    <tr>\n",
       "      <th>GarageCond</th>\n",
       "      <td>24300</td>\n",
       "      <td>0.055479</td>\n",
       "    </tr>\n",
       "    <tr>\n",
       "      <th>GarageType</th>\n",
       "      <td>24300</td>\n",
       "      <td>0.055479</td>\n",
       "    </tr>\n",
       "    <tr>\n",
       "      <th>GarageFinish</th>\n",
       "      <td>24300</td>\n",
       "      <td>0.055479</td>\n",
       "    </tr>\n",
       "    <tr>\n",
       "      <th>GarageQual</th>\n",
       "      <td>24300</td>\n",
       "      <td>0.055479</td>\n",
       "    </tr>\n",
       "    <tr>\n",
       "      <th>BsmtFinType2</th>\n",
       "      <td>11400</td>\n",
       "      <td>0.026027</td>\n",
       "    </tr>\n",
       "    <tr>\n",
       "      <th>BsmtExposure</th>\n",
       "      <td>11400</td>\n",
       "      <td>0.026027</td>\n",
       "    </tr>\n",
       "    <tr>\n",
       "      <th>BsmtQual</th>\n",
       "      <td>11100</td>\n",
       "      <td>0.025342</td>\n",
       "    </tr>\n",
       "    <tr>\n",
       "      <th>BsmtCond</th>\n",
       "      <td>11100</td>\n",
       "      <td>0.025342</td>\n",
       "    </tr>\n",
       "    <tr>\n",
       "      <th>BsmtFinType1</th>\n",
       "      <td>11100</td>\n",
       "      <td>0.025342</td>\n",
       "    </tr>\n",
       "    <tr>\n",
       "      <th>MasVnrArea</th>\n",
       "      <td>2400</td>\n",
       "      <td>0.005479</td>\n",
       "    </tr>\n",
       "    <tr>\n",
       "      <th>MasVnrType</th>\n",
       "      <td>2400</td>\n",
       "      <td>0.005479</td>\n",
       "    </tr>\n",
       "    <tr>\n",
       "      <th>Electrical</th>\n",
       "      <td>300</td>\n",
       "      <td>0.000685</td>\n",
       "    </tr>\n",
       "    <tr>\n",
       "      <th>Id</th>\n",
       "      <td>0</td>\n",
       "      <td>0.000000</td>\n",
       "    </tr>\n",
       "  </tbody>\n",
       "</table>\n",
       "</div>"
      ],
      "text/plain": [
       "               Total   Percent\n",
       "PoolQC        435900  0.995205\n",
       "MiscFeature   421800  0.963014\n",
       "Alley         410700  0.937671\n",
       "Fence         353700  0.807534\n",
       "FireplaceQu   207000  0.472603\n",
       "LotFrontage    77700  0.177397\n",
       "GarageYrBlt    24300  0.055479\n",
       "GarageCond     24300  0.055479\n",
       "GarageType     24300  0.055479\n",
       "GarageFinish   24300  0.055479\n",
       "GarageQual     24300  0.055479\n",
       "BsmtFinType2   11400  0.026027\n",
       "BsmtExposure   11400  0.026027\n",
       "BsmtQual       11100  0.025342\n",
       "BsmtCond       11100  0.025342\n",
       "BsmtFinType1   11100  0.025342\n",
       "MasVnrArea      2400  0.005479\n",
       "MasVnrType      2400  0.005479\n",
       "Electrical       300  0.000685\n",
       "Id                 0  0.000000"
      ]
     },
     "execution_count": 19,
     "metadata": {},
     "output_type": "execute_result"
    },
    {
     "name": "stdout",
     "output_type": "stream",
     "text": [
      "time: 4.07 s (started: 2024-05-22 22:02:05 -04:00)\n"
     ]
    }
   ],
   "source": [
    "#missing data\n",
    "total = df_train.isnull().sum().sort_values(ascending=False)\n",
    "percent = (df_train.isnull().sum()/df_train.isnull().count()).sort_values(ascending=False)\n",
    "missing_data = pd.concat([total, percent], axis=1, keys=['Total', 'Percent'])\n",
    "missing_data.head(20)"
   ]
  },
  {
   "cell_type": "markdown",
   "metadata": {
    "_cell_guid": "42bf6c61-9836-5c25-ff2f-1219e96f60a2",
    "_uuid": "c7607aaf8378eac11a8a8395dcd4a2346c22f5ea"
   },
   "source": [
    "Let's analyse this to understand how to handle the missing data.\n",
    "\n",
    "We'll consider that when more than 15% of the data is missing, we should delete the corresponding variable and pretend it never existed. This means that we will not try any trick to fill the missing data in these cases. According to this, there is a set of variables (e.g. 'PoolQC', 'MiscFeature', 'Alley', etc.) that we should delete. The point is: will we miss this data? I don't think so. None of these variables seem to be very important, since most of them are not aspects in which we think about when buying a house (maybe that's the reason why data is missing?). Moreover, looking closer at the variables, we could say that variables like 'PoolQC', 'MiscFeature' and 'FireplaceQu' are strong candidates for outliers, so we'll be happy to delete them.\n",
    "\n",
    "In what concerns the remaining cases, we can see that 'Garage*X*' variables have the same number of missing data. I bet missing data refers to the same set of observations (although I will not check it; it's just 5% and we should not spend 20$ in 5$ problems). Since the most important information regarding garages is expressed by 'GarageCars' and considering that we are just talking about 5% of missing data, I'll delete the mentioned 'Garage*X*' variables. The same logic applies to 'Bsmt*X*' variables.\n",
    "\n",
    "Regarding 'MasVnrArea' and 'MasVnrType', we can consider that these variables are not essential. Furthermore, they have a strong correlation with 'YearBuilt' and 'OverallQual' which are already considered. Thus, we will not lose information if we delete 'MasVnrArea' and 'MasVnrType'.\n",
    "\n",
    "Finally, we have one missing observation in 'Electrical'. Since it is just one observation, we'll delete this observation and keep the variable.\n",
    "\n",
    "In summary, to handle missing data, we'll delete all the variables with missing data, except the variable 'Electrical'. In 'Electrical' we'll just delete the observation with missing data."
   ]
  },
  {
   "cell_type": "code",
   "execution_count": 20,
   "metadata": {
    "_cell_guid": "f43f72c5-5457-1f47-e8ef-502db4355086",
    "_execution_state": "idle",
    "_uuid": "726617e295ee6bfe26ccf277323cc68ef52dc61b",
    "jupyter": {
     "outputs_hidden": true
    }
   },
   "outputs": [
    {
     "data": {
      "text/plain": [
       "0"
      ]
     },
     "execution_count": 20,
     "metadata": {},
     "output_type": "execute_result"
    },
    {
     "name": "stdout",
     "output_type": "stream",
     "text": [
      "time: 937 ms (started: 2024-05-22 22:02:09 -04:00)\n"
     ]
    }
   ],
   "source": [
    "#dealing with missing data\n",
    "df_train = df_train.drop((missing_data[missing_data['Total'] > 1]).index,1)\n",
    "# STEFANOS: Disabled this line because for some it raises an exception when we replicate data.\n",
    "# I think it's better to disable one line in order to replicate data, so that we are fair to other\n",
    "# notebooks (e.g., if we don't replicate data, the cells of this notebook might be fast enough that they're all\n",
    "# discarded as very fast cells in the stats)\n",
    "# df_train = df_train.drop(df_train.loc[df_train['Electrical'].isnull()].index)\n",
    "df_train.isnull().sum().max() #just checking that there's no missing data missing..."
   ]
  },
  {
   "cell_type": "code",
   "execution_count": null,
   "metadata": {},
   "outputs": [],
   "source": []
  },
  {
   "cell_type": "code",
   "execution_count": null,
   "metadata": {},
   "outputs": [],
   "source": []
  },
  {
   "cell_type": "markdown",
   "metadata": {
    "_cell_guid": "bf77b1ad-c87b-0be1-7adc-02b0186e2c37",
    "_uuid": "402bab0012e6f60f3fd045788d9c60e02e43e46d"
   },
   "source": [
    "# Out liars!\n",
    "\n",
    "Outliers is also something that we should be aware of. Why? Because outliers can markedly affect our models and can be a valuable source of information, providing us insights about specific behaviours.\n",
    "\n",
    "Outliers is a complex subject and it deserves more attention. Here, we'll just do a quick analysis through the standard deviation of 'SalePrice' and a set of scatter plots."
   ]
  },
  {
   "cell_type": "markdown",
   "metadata": {
    "_cell_guid": "06852f05-22e9-6ea3-ae37-c08f83ed401f",
    "_uuid": "39ccb28e64249ea88dc9d04c5c1484734a8e9dcc"
   },
   "source": [
    "### Univariate analysis"
   ]
  },
  {
   "cell_type": "markdown",
   "metadata": {
    "_cell_guid": "1553bf55-edb3-7c65-f505-227d34d018fb",
    "_uuid": "1c4f41a45aabef83aab703c4e9c0101db1d3c7f7"
   },
   "source": [
    "The primary concern here is to establish a threshold that defines an observation as an outlier. To do so, we'll standardize the data. In this context, data standardization means converting data values to have mean of 0 and a standard deviation of 1."
   ]
  },
  {
   "cell_type": "code",
   "execution_count": 21,
   "metadata": {
    "_cell_guid": "49a133fb-b713-45bd-ca42-c1ca0eb4d3f6",
    "_execution_state": "idle",
    "_uuid": "09b3bc296d01936b3b6df7f3ea670499e926720e",
    "jupyter": {
     "outputs_hidden": true
    }
   },
   "outputs": [
    {
     "name": "stdout",
     "output_type": "stream",
     "text": [
      "outer range (low) of the distribution:\n",
      "[[-1.83870376]\n",
      " [-1.83870376]\n",
      " [-1.83870376]\n",
      " [-1.83870376]\n",
      " [-1.83870376]\n",
      " [-1.83870376]\n",
      " [-1.83870376]\n",
      " [-1.83870376]\n",
      " [-1.83870376]\n",
      " [-1.83870376]]\n",
      "\n",
      "outer range (high) of the distribution:\n",
      "[[7.22881942]\n",
      " [7.22881942]\n",
      " [7.22881942]\n",
      " [7.22881942]\n",
      " [7.22881942]\n",
      " [7.22881942]\n",
      " [7.22881942]\n",
      " [7.22881942]\n",
      " [7.22881942]\n",
      " [7.22881942]]\n",
      "time: 47 ms (started: 2024-05-22 22:02:10 -04:00)\n"
     ]
    }
   ],
   "source": [
    "#standardizing data\n",
    "saleprice_scaled = StandardScaler().fit_transform(df_train['SalePrice'][:,np.newaxis])\n",
    "low_range = saleprice_scaled[saleprice_scaled[:,0].argsort()][:10]\n",
    "high_range= saleprice_scaled[saleprice_scaled[:,0].argsort()][-10:]\n",
    "print('outer range (low) of the distribution:')\n",
    "print(low_range)\n",
    "print('\\nouter range (high) of the distribution:')\n",
    "print(high_range)"
   ]
  },
  {
   "cell_type": "markdown",
   "metadata": {
    "_cell_guid": "4ae8ecbd-3236-7e32-fa2c-9c12a6ba53d3",
    "_uuid": "68d1465ef6f6da48d318868646741072eec73f0b"
   },
   "source": [
    "How 'SalePrice' looks with her new clothes:\n",
    "\n",
    "* Low range values are similar and not too far from 0.\n",
    "* High range values are far from 0 and the 7.something values are really out of range.\n",
    "\n",
    "For now, we'll not consider any of these values as an outlier but we should be careful with those two 7.something values."
   ]
  },
  {
   "cell_type": "markdown",
   "metadata": {
    "_cell_guid": "ae1b038a-9016-1412-bfb8-e2a27022a02f",
    "_uuid": "6b9511771766dbdb72abe83ec3f479c40c08ce6d"
   },
   "source": [
    "### Bivariate analysis"
   ]
  },
  {
   "cell_type": "markdown",
   "metadata": {
    "_cell_guid": "ed741196-bc75-a4b5-dda9-417b6d8aa52b",
    "_uuid": "a4137453b99017b08ed6d433829e04160b6613d2"
   },
   "source": [
    "We already know the following scatter plots by heart. However, when we look to things from a new perspective, there's always something to discover. As Alan Kay said, 'a change in perspective is worth 80 IQ points'."
   ]
  },
  {
   "cell_type": "code",
   "execution_count": 22,
   "metadata": {
    "_cell_guid": "a03b5ee8-0701-10f0-2d4c-06fcaf1fada5",
    "_execution_state": "idle",
    "_uuid": "4d3e3941ca62ce141f96d0fd2f3276cd80e03ed3",
    "jupyter": {
     "outputs_hidden": true
    }
   },
   "outputs": [
    {
     "name": "stdout",
     "output_type": "stream",
     "text": [
      "time: 1.76 ms (started: 2024-05-22 22:02:10 -04:00)\n"
     ]
    }
   ],
   "source": [
    "#bivariate analysis saleprice/grlivarea\n",
    "var = 'GrLivArea'\n",
    "data = pd.concat([df_train['SalePrice'], df_train[var]], axis=1)\n",
    "# STEFANOS: Disable plotting\n",
    "# data.plot.scatter(x=var, y='SalePrice', ylim=(0,800000));"
   ]
  },
  {
   "cell_type": "markdown",
   "metadata": {
    "_cell_guid": "48c2ad5c-b861-6b33-a292-9d6b7b58b1cc",
    "_uuid": "8ef88aabbea5235f920f0a12eba9cf9f640b5f6d"
   },
   "source": [
    "What has been revealed:\n",
    "\n",
    "* The two values with bigger 'GrLivArea' seem strange and they are not following the crowd. We can speculate why this is happening. Maybe they refer to agricultural area and that could explain the low price. I'm not sure about this but I'm quite confident that these two points are not representative of the typical case. Therefore, we'll define them as outliers and delete them.\n",
    "* The two observations in the top of the plot are those 7.something observations that we said we should be careful about. They look like two special cases, however they seem to be following the trend. For that reason, we will keep them."
   ]
  },
  {
   "cell_type": "code",
   "execution_count": 23,
   "metadata": {
    "_cell_guid": "63a6517c-431f-c3fe-30cf-61034e54a5cb",
    "_execution_state": "idle",
    "_uuid": "ff34e1e620a89d16ecf35508e40e23b1d7a4771c",
    "jupyter": {
     "outputs_hidden": true
    }
   },
   "outputs": [
    {
     "name": "stdout",
     "output_type": "stream",
     "text": [
      "time: 460 ms (started: 2024-05-22 22:02:10 -04:00)\n"
     ]
    }
   ],
   "source": [
    "#deleting points\n",
    "df_train.sort_values(by = 'GrLivArea', ascending = False)[:2]\n",
    "df_train = df_train.drop(df_train[df_train['Id'] == 1299].index)\n",
    "df_train = df_train.drop(df_train[df_train['Id'] == 524].index)"
   ]
  },
  {
   "cell_type": "code",
   "execution_count": 24,
   "metadata": {
    "_cell_guid": "1d4bf215-19d5-877e-1958-f5713009a94a",
    "_execution_state": "idle",
    "_uuid": "a48108966041d652f9fee571bf9ff08a7c73f6ef",
    "jupyter": {
     "outputs_hidden": true
    }
   },
   "outputs": [
    {
     "name": "stdout",
     "output_type": "stream",
     "text": [
      "time: 1.82 ms (started: 2024-05-22 22:02:10 -04:00)\n"
     ]
    }
   ],
   "source": [
    "#bivariate analysis saleprice/grlivarea\n",
    "var = 'TotalBsmtSF'\n",
    "data = pd.concat([df_train['SalePrice'], df_train[var]], axis=1)\n",
    "# STEFANOS: Disable plotting\n",
    "# data.plot.scatter(x=var, y='SalePrice', ylim=(0,800000));"
   ]
  },
  {
   "cell_type": "markdown",
   "metadata": {
    "_cell_guid": "ff4b9944-30d2-834a-de2f-6ee1b54aefc6",
    "_uuid": "83b610acd7caee0f0ac5e82856bbeb17fb54ceee"
   },
   "source": [
    "We can feel tempted to eliminate some observations (e.g. TotalBsmtSF > 3000) but I suppose it's not worth it. We can live with that, so we'll not do anything."
   ]
  },
  {
   "cell_type": "markdown",
   "metadata": {
    "_cell_guid": "a0b5def9-2709-a643-0ade-2689b6b36dae",
    "_uuid": "283f857f9ac2e1510cd238f59d937132a5492da6"
   },
   "source": [
    "# 5. Getting hard core"
   ]
  },
  {
   "cell_type": "markdown",
   "metadata": {
    "_cell_guid": "1b997f3f-c28f-6029-64c9-2d2bfc01077c",
    "_uuid": "f8e75e15ed7cba60c64c44b4fa3ec6737414e218"
   },
   "source": [
    "In Ayn Rand's novel, 'Atlas Shrugged', there is an often-repeated question: who is John Galt? A big part of the book is about the quest to discover the answer to this question.\n",
    "\n",
    "I feel Randian now. Who is 'SalePrice'?\n",
    "\n",
    "The answer to this question lies in testing for the assumptions underlying the statistical bases for multivariate analysis. We already did some data cleaning and discovered a lot about 'SalePrice'. Now it's time to go deep and understand how 'SalePrice' complies with the statistical assumptions that enables us to apply multivariate techniques.\n",
    "\n",
    "According to [Hair et al. (2013)](https://amzn.to/2uC3j9p), four assumptions should be tested:\n",
    "\n",
    "* <b>Normality</b> - When we talk about normality what we mean is that the data should look like a normal distribution. This is important because several statistic tests rely  on this (e.g. t-statistics). In this exercise we'll just check univariate normality for 'SalePrice' (which is a limited approach). Remember that univariate normality doesn't ensure multivariate normality (which is what we would like to have), but it helps. Another detail to take into account is that in big samples (>200 observations) normality is not such an issue. However, if we solve normality, we avoid a lot of other problems (e.g. heteroscedacity) so that's the main reason why we are doing this analysis.\n",
    "\n",
    "* <b>Homoscedasticity</b> - I just hope I wrote it right. Homoscedasticity refers to the 'assumption that dependent variable(s) exhibit equal levels of variance across the range of predictor variable(s)' [(Hair et al., 2013)](https://amzn.to/2uC3j9p). Homoscedasticity is desirable because we want the error term to be the same across all values of the independent variables.\n",
    "\n",
    "* <b>Linearity</b>- The most common way to assess linearity is to examine scatter plots and search for linear patterns. If patterns are not linear, it would be worthwhile to explore data transformations. However, we'll not get into this because most of the scatter plots we've seen appear to have linear relationships.\n",
    "\n",
    "* <b>Absence of correlated errors</b> - Correlated errors, like the definition suggests, happen when one error is correlated to another. For instance, if one positive error makes a negative error systematically, it means that there's a relationship between these variables. This occurs often in time series, where some patterns are time related. We'll also not get into this. However, if you detect something, try to add a variable that can explain the effect you're getting. That's the most common solution for correlated errors.\n",
    "\n",
    "What do you think Elvis would say about this long explanation? 'A little less conversation, a little more action please'? Probably... By the way, do you know what was Elvis's last great hit?\n",
    "\n",
    "(...)\n",
    "\n",
    "The bathroom floor."
   ]
  },
  {
   "cell_type": "markdown",
   "metadata": {
    "_cell_guid": "0f1a301d-0c06-548f-540d-124975931e70",
    "_uuid": "2497351eca10510469b27ca8518c5c1510932dc1"
   },
   "source": [
    "### In the search for normality"
   ]
  },
  {
   "cell_type": "markdown",
   "metadata": {
    "_cell_guid": "0d4f4ca7-3d4f-99e2-2aa7-1a6a6fc9e62e",
    "_uuid": "b408f24ef2b8fe26e44243fd7b0931a169789cc1"
   },
   "source": [
    "The point here is to test 'SalePrice' in a very lean way. We'll do this paying attention to:\n",
    "\n",
    "* <b>Histogram</b> - Kurtosis and skewness.\n",
    "* <b>Normal probability plot</b> - Data distribution should closely follow the diagonal that represents the normal distribution."
   ]
  },
  {
   "cell_type": "code",
   "execution_count": 25,
   "metadata": {
    "_cell_guid": "99ca9885-9335-411e-9b35-21ff69d312e6",
    "_execution_state": "idle",
    "_uuid": "ad844362305f49c0e199ffe276dd119563d46a72",
    "jupyter": {
     "outputs_hidden": true
    }
   },
   "outputs": [
    {
     "name": "stdout",
     "output_type": "stream",
     "text": [
      "time: 3.21 ms (started: 2024-05-22 22:02:10 -04:00)\n"
     ]
    }
   ],
   "source": [
    "#histogram and normal probability plot\n",
    "# STEFANOS: Disable plotting\n",
    "# sns.distplot(df_train['SalePrice'], fit=norm);\n",
    "# fig = plt.figure()\n",
    "# res = stats.probplot(df_train['SalePrice'], plot=plt)"
   ]
  },
  {
   "cell_type": "markdown",
   "metadata": {
    "_cell_guid": "ad84e765-4e47-2f00-dc09-474bf24c1dee",
    "_uuid": "eb8588ce1dd5cfcdd62a943268fa7d252ca7c447"
   },
   "source": [
    "Ok, 'SalePrice' is not normal. It shows 'peakedness', positive skewness and does not follow the diagonal line.\n",
    "\n",
    "But everything's not lost. A simple data transformation can solve the problem. This is one of the awesome things you can learn in statistical books: in case of positive skewness, log transformations usually works well. When I discovered this, I felt like an Hogwarts' student discovering a new cool spell.\n",
    "\n",
    "*Avada kedavra!*"
   ]
  },
  {
   "cell_type": "code",
   "execution_count": 26,
   "metadata": {
    "_cell_guid": "cced5b14-c39d-c847-6dc9-93af3f4b6e6d",
    "_execution_state": "idle",
    "_uuid": "f578838e98e9996b09abbec058200cb18aa38869",
    "jupyter": {
     "outputs_hidden": true
    }
   },
   "outputs": [
    {
     "name": "stdout",
     "output_type": "stream",
     "text": [
      "time: 42.9 ms (started: 2024-05-22 22:02:10 -04:00)\n"
     ]
    }
   ],
   "source": [
    "#applying log transformation\n",
    "df_train['SalePrice'] = np.log(df_train['SalePrice'])"
   ]
  },
  {
   "cell_type": "code",
   "execution_count": 27,
   "metadata": {
    "_cell_guid": "0e17fba2-3ff2-d6f1-841d-bc2a9746bcc2",
    "_execution_state": "idle",
    "_uuid": "de8366b3ad71c7cb398644766a412bee1d05642f",
    "jupyter": {
     "outputs_hidden": true
    }
   },
   "outputs": [
    {
     "name": "stdout",
     "output_type": "stream",
     "text": [
      "time: 179 µs (started: 2024-05-22 22:02:10 -04:00)\n"
     ]
    }
   ],
   "source": [
    "#transformed histogram and normal probability plot\n",
    "# STEFANOS: Disable plotting\n",
    "# sns.distplot(df_train['SalePrice'], fit=norm);\n",
    "# fig = plt.figure()\n",
    "# res = stats.probplot(df_train['SalePrice'], plot=plt)"
   ]
  },
  {
   "cell_type": "markdown",
   "metadata": {
    "_cell_guid": "74131161-b766-8b08-5ae3-0b70688a198a",
    "_uuid": "19b172dfedfef5330c53cc34837d47641a3cf135"
   },
   "source": [
    "Done! Let's check what's going on with 'GrLivArea'."
   ]
  },
  {
   "cell_type": "code",
   "execution_count": 28,
   "metadata": {
    "_cell_guid": "bda5d77e-07ea-1d16-644c-a850487cc35d",
    "_execution_state": "idle",
    "_uuid": "aa29a3612ee861c42e5d6022ac3a8ad75266b0ee",
    "jupyter": {
     "outputs_hidden": true
    }
   },
   "outputs": [
    {
     "name": "stdout",
     "output_type": "stream",
     "text": [
      "time: 141 µs (started: 2024-05-22 22:02:10 -04:00)\n"
     ]
    }
   ],
   "source": [
    "#histogram and normal probability plot\n",
    "# STEFANOS: Disable plotting\n",
    "# sns.distplot(df_train['GrLivArea'], fit=norm);\n",
    "# fig = plt.figure()\n",
    "# res = stats.probplot(df_train['GrLivArea'], plot=plt)"
   ]
  },
  {
   "cell_type": "markdown",
   "metadata": {
    "_cell_guid": "7a8fa54e-46e2-5c09-0a43-0b200ee59874",
    "_uuid": "f452585a30fe3006d4dc993941e826c793044a4b"
   },
   "source": [
    "Tastes like skewness... *Avada kedavra!*"
   ]
  },
  {
   "cell_type": "code",
   "execution_count": 29,
   "metadata": {
    "_cell_guid": "c0fe3abe-cc32-6f2e-0e79-1afd9b49c7ad",
    "_execution_state": "idle",
    "_uuid": "aa428f580e39e498dc06747423955fa714d97952",
    "jupyter": {
     "outputs_hidden": true
    }
   },
   "outputs": [
    {
     "name": "stdout",
     "output_type": "stream",
     "text": [
      "time: 16.6 ms (started: 2024-05-22 22:02:10 -04:00)\n"
     ]
    }
   ],
   "source": [
    "#data transformation\n",
    "df_train['GrLivArea'] = np.log(df_train['GrLivArea'])"
   ]
  },
  {
   "cell_type": "code",
   "execution_count": 30,
   "metadata": {
    "_cell_guid": "0171b317-885d-7092-ade9-d2332b8ea796",
    "_execution_state": "idle",
    "_uuid": "bb004d70d1f260289f864c2ecb5c5dceedc2d6fa",
    "jupyter": {
     "outputs_hidden": true
    }
   },
   "outputs": [
    {
     "name": "stdout",
     "output_type": "stream",
     "text": [
      "time: 211 µs (started: 2024-05-22 22:02:10 -04:00)\n"
     ]
    }
   ],
   "source": [
    "#transformed histogram and normal probability plot\n",
    "# STEFANOS: Disable plotting\n",
    "# sns.distplot(df_train['GrLivArea'], fit=norm);\n",
    "# fig = plt.figure()\n",
    "# res = stats.probplot(df_train['GrLivArea'], plot=plt)"
   ]
  },
  {
   "cell_type": "markdown",
   "metadata": {
    "_cell_guid": "1686254a-4391-a744-b8ae-653364e216d4",
    "_uuid": "bdd45521276779b330af14f279bf578a9457dac0"
   },
   "source": [
    "Next, please..."
   ]
  },
  {
   "cell_type": "code",
   "execution_count": 31,
   "metadata": {
    "_cell_guid": "4cec452c-ccfd-e65e-2e8b-6c601d3664cd",
    "_execution_state": "idle",
    "_uuid": "b9b1528dcb2a5d1a85c469c69f9df08149fe5ff0",
    "jupyter": {
     "outputs_hidden": true
    }
   },
   "outputs": [
    {
     "name": "stdout",
     "output_type": "stream",
     "text": [
      "time: 143 µs (started: 2024-05-22 22:02:10 -04:00)\n"
     ]
    }
   ],
   "source": [
    "#histogram and normal probability plot\n",
    "# STEFANOS: Disable plotting\n",
    "# sns.distplot(df_train['TotalBsmtSF'], fit=norm);\n",
    "# fig = plt.figure()\n",
    "# res = stats.probplot(df_train['TotalBsmtSF'], plot=plt)"
   ]
  },
  {
   "cell_type": "markdown",
   "metadata": {
    "_cell_guid": "8212aea1-70b8-5cdb-1d54-ebad40f3d73e",
    "_uuid": "317120e4f6469692db40bfb8c9c450cf2dc91938"
   },
   "source": [
    "Ok, now we are dealing with the big boss. What do we have here?\n",
    "\n",
    "* Something that, in general, presents skewness.\n",
    "* A significant number of observations with value zero (houses without basement).\n",
    "* A big problem because the value zero doesn't allow us to do log transformations.\n",
    "\n",
    "To apply a log transformation here, we'll create a variable that can get the effect of having or not having basement (binary variable). Then, we'll do a log transformation to all the non-zero observations, ignoring those with value zero. This way we can transform data, without losing the effect of having or not basement.\n",
    "\n",
    "I'm not sure if this approach is correct. It just seemed right to me. That's what I call 'high risk engineering'."
   ]
  },
  {
   "cell_type": "code",
   "execution_count": 32,
   "metadata": {
    "_cell_guid": "a025f96a-c537-92d5-9187-355cb4f0a520",
    "_execution_state": "idle",
    "_uuid": "5cb8e327f4fd2e4714ec522bdd64c6ed81781652",
    "jupyter": {
     "outputs_hidden": true
    }
   },
   "outputs": [
    {
     "name": "stdout",
     "output_type": "stream",
     "text": [
      "time: 2.42 ms (started: 2024-05-22 22:02:10 -04:00)\n"
     ]
    }
   ],
   "source": [
    "#create column for new variable (one is enough because it's a binary categorical feature)\n",
    "#if area>0 it gets 1, for area==0 it gets 0\n",
    "df_train['HasBsmt'] = pd.Series(len(df_train['TotalBsmtSF']), index=df_train.index)\n",
    "df_train['HasBsmt'] = 0 \n",
    "df_train.loc[df_train['TotalBsmtSF']>0,'HasBsmt'] = 1"
   ]
  },
  {
   "cell_type": "code",
   "execution_count": 33,
   "metadata": {
    "_cell_guid": "9933a45e-93f0-b43f-e7ad-2cb1986570d8",
    "_execution_state": "idle",
    "_uuid": "a7b15dd8a8163ab753ca2aa9e16ed38616bd2d03",
    "jupyter": {
     "outputs_hidden": true
    }
   },
   "outputs": [
    {
     "name": "stdout",
     "output_type": "stream",
     "text": [
      "time: 33.4 ms (started: 2024-05-22 22:02:10 -04:00)\n"
     ]
    }
   ],
   "source": [
    "#transform data\n",
    "df_train.loc[df_train['HasBsmt']==1,'TotalBsmtSF'] = np.log(df_train['TotalBsmtSF'])"
   ]
  },
  {
   "cell_type": "code",
   "execution_count": 34,
   "metadata": {
    "_cell_guid": "8a2dc1c6-162d-4b42-8687-046b1ca47511",
    "_execution_state": "idle",
    "_uuid": "f8b1b53558610f9623617fd71a6440439a47e48e",
    "jupyter": {
     "outputs_hidden": true
    }
   },
   "outputs": [
    {
     "name": "stdout",
     "output_type": "stream",
     "text": [
      "time: 246 ms (started: 2024-05-22 22:02:11 -04:00)\n"
     ]
    }
   ],
   "source": [
    "#histogram and normal probability plot\n",
    "# STEFANOS: Disable plotting\n",
    "# sns.distplot(df_train[df_train['TotalBsmtSF']>0]['TotalBsmtSF'], fit=norm);\n",
    "# fig = plt.figure()\n",
    "# res = stats.probplot(df_train[df_train['TotalBsmtSF']>0]['TotalBsmtSF'], plot=plt)\n",
    "_ = df_train[df_train['TotalBsmtSF']>0]['TotalBsmtSF']\n",
    "_ = df_train[df_train['TotalBsmtSF']>0]['TotalBsmtSF']"
   ]
  },
  {
   "cell_type": "markdown",
   "metadata": {
    "_cell_guid": "78c3c8e5-4ddd-e9ba-6ea8-a23b9d2b21a5",
    "_uuid": "f6f0988bbc48a298177ecc7ec70f2706c72fc1db"
   },
   "source": [
    "### In the search for writing 'homoscedasticity' right at the first attempt"
   ]
  },
  {
   "cell_type": "markdown",
   "metadata": {
    "_cell_guid": "14a0ff01-0d6d-4f3e-c959-0b1039b06439",
    "_uuid": "469987c7961cd885cc4233626426777e2b675466"
   },
   "source": [
    "The best approach to test homoscedasticity for two metric variables is graphically. Departures from an equal dispersion are shown by such shapes as cones (small dispersion at one side of the graph, large dispersion at the opposite side) or diamonds (a large number of points at the center of the distribution).\n",
    "\n",
    "Starting by 'SalePrice' and 'GrLivArea'..."
   ]
  },
  {
   "cell_type": "code",
   "execution_count": 35,
   "metadata": {
    "_cell_guid": "a5f13ea7-70af-6a3d-bff1-84a696972e59",
    "_execution_state": "busy",
    "_uuid": "d6db45dbc22abfcdaf49be23f70e6b8f4ca4c13b",
    "jupyter": {
     "outputs_hidden": true
    }
   },
   "outputs": [
    {
     "name": "stdout",
     "output_type": "stream",
     "text": [
      "time: 165 µs (started: 2024-05-22 22:02:11 -04:00)\n"
     ]
    }
   ],
   "source": [
    "#scatter plot\n",
    "# STEFANOS: Disable plotting\n",
    "# plt.scatter(df_train['GrLivArea'], df_train['SalePrice']);"
   ]
  },
  {
   "cell_type": "markdown",
   "metadata": {
    "_cell_guid": "522a6dc2-291a-807b-8fe9-3aa335dbd79d",
    "_uuid": "aed0d40afac41960d6409e9ea4ff9cd3d484ae86"
   },
   "source": [
    "Older versions of this scatter plot (previous to log transformations), had a conic shape (go back and check 'Scatter plots between 'SalePrice' and correlated variables (move like Jagger style)'). As you can see, the current scatter plot doesn't have a conic shape anymore. That's the power of normality! Just by ensuring normality in some variables, we solved the homoscedasticity problem.\n",
    "\n",
    "Now let's check 'SalePrice' with 'TotalBsmtSF'."
   ]
  },
  {
   "cell_type": "code",
   "execution_count": 36,
   "metadata": {
    "_cell_guid": "d5a6cecd-4f33-5afe-2c95-9459da03091f",
    "_execution_state": "idle",
    "_uuid": "45cdf80ae7cf8bf1d5d62ff09f6e9b106047cafb",
    "jupyter": {
     "outputs_hidden": true
    }
   },
   "outputs": [
    {
     "name": "stdout",
     "output_type": "stream",
     "text": [
      "time: 169 ms (started: 2024-05-22 22:02:11 -04:00)\n"
     ]
    }
   ],
   "source": [
    "#scatter plot\n",
    "# STEFANOS: Disable plotting\n",
    "# plt.scatter(df_train[df_train['TotalBsmtSF']>0]['TotalBsmtSF'], df_train[df_train['TotalBsmtSF']>0]['SalePrice']);\n",
    "_ = df_train[df_train['TotalBsmtSF']>0]['TotalBsmtSF']\n",
    "_ = df_train[df_train['TotalBsmtSF']>0]['SalePrice']"
   ]
  },
  {
   "cell_type": "markdown",
   "metadata": {
    "_cell_guid": "38a2af07-61d9-bc63-e78d-f88fd8bd03dc",
    "_uuid": "612394fe6ca03c21a96019cb72bd64966d05066e"
   },
   "source": [
    "We can say that, in general, 'SalePrice' exhibit equal levels of variance across the range of 'TotalBsmtSF'. Cool!"
   ]
  },
  {
   "cell_type": "markdown",
   "metadata": {
    "_cell_guid": "56d7b15d-aaa1-0aaf-875b-8d914f4983dd",
    "_uuid": "9957d2bc81d7c1f694314495b923469be3428bbf"
   },
   "source": [
    "# Last but not the least, dummy variables"
   ]
  },
  {
   "cell_type": "markdown",
   "metadata": {
    "_cell_guid": "b782af0e-c785-0fbb-de2d-1301b53ba729",
    "_uuid": "4603fc4c5a9b54139d7d0b598b5afbad66ad4b2e"
   },
   "source": [
    "Easy mode."
   ]
  },
  {
   "cell_type": "code",
   "execution_count": 37,
   "metadata": {
    "_cell_guid": "06dfd6a2-f613-01e8-b7d0-2672dfd41db8",
    "_execution_state": "idle",
    "_uuid": "0f697a3a1949c3d9b86e9c38b11628d3f8bdc138",
    "jupyter": {
     "outputs_hidden": true
    }
   },
   "outputs": [
    {
     "name": "stdout",
     "output_type": "stream",
     "text": [
      "time: 737 ms (started: 2024-05-22 22:02:11 -04:00)\n"
     ]
    }
   ],
   "source": [
    "#convert categorical variable into dummy\n",
    "df_train = pd.get_dummies(df_train)"
   ]
  },
  {
   "cell_type": "markdown",
   "metadata": {
    "_cell_guid": "92018f8f-4782-5a0c-9fee-f657b6331ffd",
    "_uuid": "38631001da379277b3ae8cbc78504546a23a810d"
   },
   "source": [
    "# Conclusion"
   ]
  },
  {
   "cell_type": "markdown",
   "metadata": {
    "_cell_guid": "95c93455-85f4-e0a4-3d3a-8365bcf750e0",
    "_uuid": "c05bfefad3b6084b9a7314ab87e5d9ae54af5ba1"
   },
   "source": [
    "That's it! We reached the end of our exercise.\n",
    "\n",
    "Throughout this kernel we put in practice many of the strategies proposed by [Hair et al. (2013)](https://amzn.to/2uC3j9p). We philosophied about the variables, we analysed 'SalePrice' alone and with the most correlated variables, we dealt with missing data and outliers, we tested some of the fundamental statistical assumptions and we even transformed categorial variables into dummy variables. That's a lot of work that Python helped us make easier.\n",
    "\n",
    "But the quest is not over. Remember that our story stopped in the Facebook research. Now it's time to give a call to 'SalePrice' and invite her to dinner. Try to predict her behaviour. Do you think she's a girl that enjoys regularized linear regression approaches? Or do you think she prefers ensemble methods? Or maybe something else?\n",
    "\n",
    "It's up to you to find out."
   ]
  },
  {
   "cell_type": "markdown",
   "metadata": {
    "_cell_guid": "f29b0f7c-5f02-e28b-fc3b-c161fde831aa",
    "_uuid": "69dd52ff366c69a33a1aabe58e9f6718ba7a73b3"
   },
   "source": [
    "# <b>References</b>\n",
    "* [My blog](http://pmarcelino.com)\n",
    "* [My other kernels](https://www.kaggle.com/pmarcelino/data-analysis-and-feature-extraction-with-python)\n",
    "* [Hair et al., 2013, Multivariate Data Analysis, 7th Edition](https://amzn.to/2JuDmvo)"
   ]
  },
  {
   "cell_type": "markdown",
   "metadata": {
    "_cell_guid": "2f6375aa-89c3-d6d1-6acb-288eab8b24f5",
    "_uuid": "06c7675e062996ed0f706776afacc2138bf5ed63"
   },
   "source": [
    "# Acknowledgements\n",
    "\n",
    "Thanks to [João Rico](https://www.linkedin.com/in/joaomiguelrico/) for reading drafts of this."
   ]
  },
  {
   "cell_type": "code",
   "execution_count": 38,
   "id": "44f530bd",
   "metadata": {},
   "outputs": [
    {
     "name": "stdout",
     "output_type": "stream",
     "text": [
      "Total elapsed time: 10.640284186\n",
      "time: 317 µs (started: 2024-05-22 22:02:12 -04:00)\n"
     ]
    }
   ],
   "source": [
    "SNAPPY_end_time = time.perf_counter_ns()\n",
    "print(\"Total elapsed time:\", (SNAPPY_end_time - SNAPPY_start_time) / (10 ** 9))"
   ]
  },
  {
   "cell_type": "markdown",
   "metadata": {},
   "source": [
    "# Want to learn more? \n",
    "\n",
    "I’m building an interactive, 5 weeks cohort-based course for people who want to learn the basics of Machine Learning in Python and stop wondering whether they are able to start a career in this field. Please [fill out this short survey](https://tinyurl.com/learn-machine-learning) to get on the waitlist and receive a special early bird discount."
   ]
  }
 ],
 "metadata": {
  "kernelspec": {
   "display_name": "Python 3 (ipykernel)",
   "language": "python",
   "name": "python3"
  },
  "language_info": {
   "codemirror_mode": {
    "name": "ipython",
    "version": 3
   },
   "file_extension": ".py",
   "mimetype": "text/x-python",
   "name": "python",
   "nbconvert_exporter": "python",
   "pygments_lexer": "ipython3",
   "version": "3.10.11"
  }
 },
 "nbformat": 4,
 "nbformat_minor": 5
}
