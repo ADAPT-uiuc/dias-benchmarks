{
 "cells": [
  {
   "cell_type": "code",
   "execution_count": 1,
   "id": "c26af9b4",
   "metadata": {
    "_cell_guid": "b1076dfc-b9ad-4769-8c92-a6c4dae69d19",
    "_uuid": "8f2839f25d086af736a60e9eeb907d3b93b6e0e5",
    "execution": {
     "iopub.execute_input": "2023-10-10T07:31:25.591978Z",
     "iopub.status.busy": "2023-10-10T07:31:25.590970Z",
     "iopub.status.idle": "2023-10-10T07:31:26.504779Z",
     "shell.execute_reply": "2023-10-10T07:31:26.503885Z"
    },
    "papermill": {
     "duration": 0.922078,
     "end_time": "2023-10-10T07:31:26.507420",
     "exception": false,
     "start_time": "2023-10-10T07:31:25.585342",
     "status": "completed"
    },
    "tags": []
   },
   "outputs": [
    {
     "name": "stdout",
     "output_type": "stream",
     "text": [
      "../input/.DS_Store\n",
      "../input/Electric_Vehicle_Population_Data.csv\n"
     ]
    }
   ],
   "source": [
    "# This Python 3 environment comes with many helpful analytics libraries installed\n",
    "# It is defined by the kaggle/python Docker image: https://github.com/kaggle/docker-python\n",
    "# For example, here's several helpful packages to load\n",
    "\n",
    "import numpy as np # linear algebra\n",
    "import pandas as pd # data processing, CSV file I/O (e.g. pd.read_csv)\n",
    "\n",
    "# Input data files are available in the read-only \"../input/\" directory\n",
    "# For example, running this (by clicking run or pressing Shift+Enter) will list all files under the input directory\n",
    "\n",
    "import os\n",
    "for dirname, _, filenames in os.walk('../input'):\n",
    "    for filename in filenames:\n",
    "        print(os.path.join(dirname, filename))\n",
    "\n",
    "# You can write up to 20GB to the current directory (/kaggle/working/) that gets preserved as output when you create a version using \"Save & Run All\" \n",
    "# You can also write temporary files to /kaggle/temp/, but they won't be saved outside of the current session"
   ]
  },
  {
   "cell_type": "code",
   "execution_count": 2,
   "id": "831e0b2f",
   "metadata": {
    "execution": {
     "iopub.execute_input": "2023-10-10T07:31:26.517388Z",
     "iopub.status.busy": "2023-10-10T07:31:26.516429Z",
     "iopub.status.idle": "2023-10-10T07:31:28.308281Z",
     "shell.execute_reply": "2023-10-10T07:31:28.307316Z"
    },
    "papermill": {
     "duration": 1.798601,
     "end_time": "2023-10-10T07:31:28.310474",
     "exception": false,
     "start_time": "2023-10-10T07:31:26.511873",
     "status": "completed"
    },
    "tags": []
   },
   "outputs": [],
   "source": [
    "import pandas as pd\n",
    "df = pd.read_csv('../input/Electric_Vehicle_Population_Data.csv')"
   ]
  },
  {
   "cell_type": "code",
   "execution_count": 3,
   "id": "fd358f3d",
   "metadata": {
    "execution": {
     "iopub.execute_input": "2023-10-10T07:31:28.316159Z",
     "iopub.status.busy": "2023-10-10T07:31:28.315753Z",
     "iopub.status.idle": "2023-10-10T07:31:28.409045Z",
     "shell.execute_reply": "2023-10-10T07:31:28.407966Z"
    },
    "papermill": {
     "duration": 0.09828,
     "end_time": "2023-10-10T07:31:28.411094",
     "exception": false,
     "start_time": "2023-10-10T07:31:28.312814",
     "status": "completed"
    },
    "tags": []
   },
   "outputs": [
    {
     "name": "stdout",
     "output_type": "stream",
     "text": [
      "   VIN (1-10)    County      City State  Postal Code  Model Year     Make  \\\n",
      "0  KM8K33AGXL      King   Seattle    WA      98103.0        2020  HYUNDAI   \n",
      "1  1C4RJYB61N      King   Bothell    WA      98011.0        2022     JEEP   \n",
      "2  1C4RJYD61P    Yakima    Yakima    WA      98908.0        2023     JEEP   \n",
      "3  5YJ3E1EA7J      King  Kirkland    WA      98034.0        2018    TESLA   \n",
      "4  WBY7Z8C5XJ  Thurston   Olympia    WA      98501.0        2018      BMW   \n",
      "\n",
      "            Model                   Electric Vehicle Type  \\\n",
      "0            KONA          Battery Electric Vehicle (BEV)   \n",
      "1  GRAND CHEROKEE  Plug-in Hybrid Electric Vehicle (PHEV)   \n",
      "2  GRAND CHEROKEE  Plug-in Hybrid Electric Vehicle (PHEV)   \n",
      "3         MODEL 3          Battery Electric Vehicle (BEV)   \n",
      "4              I3  Plug-in Hybrid Electric Vehicle (PHEV)   \n",
      "\n",
      "  Clean Alternative Fuel Vehicle (CAFV) Eligibility  Electric Range  \\\n",
      "0           Clean Alternative Fuel Vehicle Eligible             258   \n",
      "1             Not eligible due to low battery range              25   \n",
      "2             Not eligible due to low battery range              25   \n",
      "3           Clean Alternative Fuel Vehicle Eligible             215   \n",
      "4           Clean Alternative Fuel Vehicle Eligible              97   \n",
      "\n",
      "   Base MSRP  Legislative District  DOL Vehicle ID  \\\n",
      "0          0                  43.0       249675142   \n",
      "1          0                   1.0       233928502   \n",
      "2          0                  14.0       229675939   \n",
      "3          0                  45.0       104714466   \n",
      "4          0                  22.0       185498386   \n",
      "\n",
      "                  Vehicle Location  \\\n",
      "0     POINT (-122.34301 47.659185)   \n",
      "1     POINT (-122.20578 47.762405)   \n",
      "2  POINT (-120.6027202 46.5965625)   \n",
      "3     POINT (-122.209285 47.71124)   \n",
      "4     POINT (-122.89692 47.043535)   \n",
      "\n",
      "                                Electric Utility  2020 Census Tract  \n",
      "0   CITY OF SEATTLE - (WA)|CITY OF TACOMA - (WA)       5.303300e+10  \n",
      "1  PUGET SOUND ENERGY INC||CITY OF TACOMA - (WA)       5.303302e+10  \n",
      "2                                     PACIFICORP       5.307700e+10  \n",
      "3  PUGET SOUND ENERGY INC||CITY OF TACOMA - (WA)       5.303302e+10  \n",
      "4                         PUGET SOUND ENERGY INC       5.306701e+10  \n",
      "<class 'pandas.core.frame.DataFrame'>\n",
      "RangeIndex: 150482 entries, 0 to 150481\n",
      "Data columns (total 17 columns):\n",
      " #   Column                                             Non-Null Count   Dtype  \n",
      "---  ------                                             --------------   -----  \n",
      " 0   VIN (1-10)                                         150482 non-null  object \n",
      " 1   County                                             150479 non-null  object \n",
      " 2   City                                               150479 non-null  object \n",
      " 3   State                                              150482 non-null  object \n",
      " 4   Postal Code                                        150479 non-null  float64\n",
      " 5   Model Year                                         150482 non-null  int64  \n",
      " 6   Make                                               150482 non-null  object \n",
      " 7   Model                                              150482 non-null  object \n",
      " 8   Electric Vehicle Type                              150482 non-null  object \n",
      " 9   Clean Alternative Fuel Vehicle (CAFV) Eligibility  150482 non-null  object \n",
      " 10  Electric Range                                     150482 non-null  int64  \n",
      " 11  Base MSRP                                          150482 non-null  int64  \n",
      " 12  Legislative District                               150141 non-null  float64\n",
      " 13  DOL Vehicle ID                                     150482 non-null  int64  \n",
      " 14  Vehicle Location                                   150475 non-null  object \n",
      " 15  Electric Utility                                   150479 non-null  object \n",
      " 16  2020 Census Tract                                  150479 non-null  float64\n",
      "dtypes: float64(3), int64(4), object(10)\n",
      "memory usage: 19.5+ MB\n",
      "None\n"
     ]
    }
   ],
   "source": [
    "# Display the first few rows of the dataset\n",
    "print(df.head())\n",
    "\n",
    "# Get information about the dataset\n",
    "print(df.info())"
   ]
  },
  {
   "cell_type": "code",
   "execution_count": 4,
   "id": "c095743e",
   "metadata": {
    "execution": {
     "iopub.execute_input": "2023-10-10T07:31:28.416805Z",
     "iopub.status.busy": "2023-10-10T07:31:28.416433Z",
     "iopub.status.idle": "2023-10-10T07:31:28.776481Z",
     "shell.execute_reply": "2023-10-10T07:31:28.775653Z"
    },
    "papermill": {
     "duration": 0.36523,
     "end_time": "2023-10-10T07:31:28.778587",
     "exception": false,
     "start_time": "2023-10-10T07:31:28.413357",
     "status": "completed"
    },
    "tags": []
   },
   "outputs": [
    {
     "data": {
      "text/plain": [
       "<AxesSubplot:>"
      ]
     },
     "execution_count": 4,
     "metadata": {},
     "output_type": "execute_result"
    },
    {
     "data": {
      "image/png": "[encoded data removed]",
      "text/plain": [
       "<Figure size 640x480 with 1 Axes>"
      ]
     },
     "metadata": {},
     "output_type": "display_data"
    }
   ],
   "source": [
    "df['Model Year'].hist()"
   ]
  },
  {
   "cell_type": "code",
   "execution_count": 5,
   "id": "9c1d51f4",
   "metadata": {
    "execution": {
     "iopub.execute_input": "2023-10-10T07:31:28.785066Z",
     "iopub.status.busy": "2023-10-10T07:31:28.784822Z",
     "iopub.status.idle": "2023-10-10T07:31:28.792533Z",
     "shell.execute_reply": "2023-10-10T07:31:28.791587Z"
    },
    "papermill": {
     "duration": 0.013215,
     "end_time": "2023-10-10T07:31:28.794534",
     "exception": false,
     "start_time": "2023-10-10T07:31:28.781319",
     "status": "completed"
    },
    "tags": []
   },
   "outputs": [],
   "source": [
    "avg_range = df['Electric Range'].mean()\n",
    "median_price = df['Base MSRP'].median()"
   ]
  },
  {
   "cell_type": "code",
   "execution_count": 6,
   "id": "feaacec6",
   "metadata": {
    "execution": {
     "iopub.execute_input": "2023-10-10T07:31:28.802429Z",
     "iopub.status.busy": "2023-10-10T07:31:28.800991Z",
     "iopub.status.idle": "2023-10-10T07:31:28.820734Z",
     "shell.execute_reply": "2023-10-10T07:31:28.819472Z"
    },
    "papermill": {
     "duration": 0.025542,
     "end_time": "2023-10-10T07:31:28.822836",
     "exception": false,
     "start_time": "2023-10-10T07:31:28.797294",
     "status": "completed"
    },
    "tags": []
   },
   "outputs": [],
   "source": [
    "ev_2020 = df[df['Model Year'] == 2020]"
   ]
  },
  {
   "cell_type": "code",
   "execution_count": 7,
   "id": "96fcc29e",
   "metadata": {
    "execution": {
     "iopub.execute_input": "2023-10-10T07:31:28.829624Z",
     "iopub.status.busy": "2023-10-10T07:31:28.829362Z",
     "iopub.status.idle": "2023-10-10T07:31:28.850854Z",
     "shell.execute_reply": "2023-10-10T07:31:28.849495Z"
    },
    "papermill": {
     "duration": 0.027121,
     "end_time": "2023-10-10T07:31:28.852817",
     "exception": false,
     "start_time": "2023-10-10T07:31:28.825696",
     "status": "completed"
    },
    "tags": []
   },
   "outputs": [],
   "source": [
    "groupby_make = df.groupby('Make')['Electric Range'].mean()"
   ]
  },
  {
   "cell_type": "code",
   "execution_count": 8,
   "id": "8d48c10f",
   "metadata": {
    "execution": {
     "iopub.execute_input": "2023-10-10T07:31:28.860148Z",
     "iopub.status.busy": "2023-10-10T07:31:28.859807Z",
     "iopub.status.idle": "2023-10-10T07:31:29.295499Z",
     "shell.execute_reply": "2023-10-10T07:31:29.294707Z"
    },
    "papermill": {
     "duration": 0.441984,
     "end_time": "2023-10-10T07:31:29.297956",
     "exception": false,
     "start_time": "2023-10-10T07:31:28.855972",
     "status": "completed"
    },
    "tags": []
   },
   "outputs": [],
   "source": [
    "# Select only numeric columns from the DataFrame\n",
    "numeric_df = df.select_dtypes(include=['float64', 'int64'])\n"
   ]
  }
 ],
 "metadata": {
  "kernelspec": {
   "display_name": "Python 3 (ipykernel)",
   "language": "python",
   "name": "python3"
  },
  "language_info": {
   "codemirror_mode": {
    "name": "ipython",
    "version": 3
   },
   "file_extension": ".py",
   "mimetype": "text/x-python",
   "name": "python",
   "nbconvert_exporter": "python",
   "pygments_lexer": "ipython3",
   "version": "3.9.13"
  },
  "papermill": {
   "default_parameters": {},
   "duration": 7.177347,
   "end_time": "2023-10-10T07:31:29.720133",
   "environment_variables": {},
   "exception": null,
   "input_path": "__notebook__.ipynb",
   "output_path": "__notebook__.ipynb",
   "parameters": {},
   "start_time": "2023-10-10T07:31:22.542786",
   "version": "2.4.0"
  }
 },
 "nbformat": 4,
 "nbformat_minor": 5
}
