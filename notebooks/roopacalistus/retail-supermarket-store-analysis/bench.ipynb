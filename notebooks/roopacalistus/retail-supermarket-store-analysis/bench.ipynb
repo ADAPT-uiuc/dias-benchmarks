{
 "cells": [
  {
   "cell_type": "code",
   "execution_count": 1,
   "id": "8b8f6ddf",
   "metadata": {},
   "outputs": [],
   "source": [
    "import os\n",
    "SNAPPY_notebook_path = os.path.join(os.path.abspath(\"\"), \"bench.ipynb\")"
   ]
  },
  {
   "cell_type": "code",
   "execution_count": 2,
   "id": "23b1983d",
   "metadata": {},
   "outputs": [],
   "source": [
    "import time\n",
    "SNAPPY_start_time = time.perf_counter_ns()"
   ]
  },
  {
   "cell_type": "code",
   "execution_count": 3,
   "id": "17be118f",
   "metadata": {},
   "outputs": [
    {
     "name": "stdout",
     "output_type": "stream",
     "text": [
      "time: 82.6 µs (started: 2024-05-07 17:17:01 -04:00)\n"
     ]
    }
   ],
   "source": [
    "%load_ext autotime"
   ]
  },
  {
   "cell_type": "markdown",
   "metadata": {},
   "source": [
    "# Exploratory Data Analysis\n",
    "\n",
    "\n",
    "Exploratory Data Analysis on dataset 'SampleSuperstore' to find out the patterns in data and to analyse the business trends in order to determine the weak areas that needs to be worked on in order to make more profit"
   ]
  },
  {
   "cell_type": "markdown",
   "metadata": {},
   "source": [
    "# Importing Libraries"
   ]
  },
  {
   "cell_type": "code",
   "execution_count": 4,
   "metadata": {
    "execution": {
     "iopub.execute_input": "2022-11-01T06:14:11.669988Z",
     "iopub.status.busy": "2022-11-01T06:14:11.669534Z",
     "iopub.status.idle": "2022-11-01T06:14:12.21442Z",
     "shell.execute_reply": "2022-11-01T06:14:12.21322Z",
     "shell.execute_reply.started": "2022-11-01T06:14:11.669953Z"
    }
   },
   "outputs": [
    {
     "name": "stdout",
     "output_type": "stream",
     "text": [
      "time: 453 ms (started: 2024-05-07 17:17:01 -04:00)\n"
     ]
    }
   ],
   "source": [
    "\n",
    "import matplotlib.pyplot as plt\n",
    "\n",
    "import os\n",
    "# STEFANOS: Conditionally import Modin Pandas\n",
    "import pandas as pd"
   ]
  },
  {
   "cell_type": "markdown",
   "metadata": {},
   "source": [
    "# Reading the data"
   ]
  },
  {
   "cell_type": "code",
   "execution_count": 5,
   "metadata": {
    "execution": {
     "iopub.execute_input": "2022-11-01T06:14:27.798309Z",
     "iopub.status.busy": "2022-11-01T06:14:27.797934Z",
     "iopub.status.idle": "2022-11-01T06:14:27.863616Z",
     "shell.execute_reply": "2022-11-01T06:14:27.862523Z",
     "shell.execute_reply.started": "2022-11-01T06:14:27.798279Z"
    }
   },
   "outputs": [
    {
     "name": "stdout",
     "output_type": "stream",
     "text": [
      "time: 9.69 ms (started: 2024-05-07 17:17:02 -04:00)\n"
     ]
    }
   ],
   "source": [
    "data=pd.read_csv(os.path.abspath('') + \"/input/superstore/SampleSuperstore.csv\")"
   ]
  },
  {
   "cell_type": "markdown",
   "metadata": {},
   "source": [
    "# -- STEFANOS -- Replicate Data"
   ]
  },
  {
   "cell_type": "code",
   "execution_count": 6,
   "metadata": {},
   "outputs": [
    {
     "name": "stdout",
     "output_type": "stream",
     "text": [
      "time: 402 ms (started: 2024-05-07 17:17:02 -04:00)\n"
     ]
    }
   ],
   "source": [
    "factor = 800\n",
    "data = pd.concat([data]*factor)\n",
    "# data.info()"
   ]
  },
  {
   "cell_type": "code",
   "execution_count": 7,
   "metadata": {
    "execution": {
     "iopub.execute_input": "2022-11-01T06:14:32.212509Z",
     "iopub.status.busy": "2022-11-01T06:14:32.211869Z",
     "iopub.status.idle": "2022-11-01T06:14:32.239159Z",
     "shell.execute_reply": "2022-11-01T06:14:32.238033Z",
     "shell.execute_reply.started": "2022-11-01T06:14:32.21247Z"
    }
   },
   "outputs": [
    {
     "data": {
      "text/html": [
       "<div>\n",
       "<style scoped>\n",
       "    .dataframe tbody tr th:only-of-type {\n",
       "        vertical-align: middle;\n",
       "    }\n",
       "\n",
       "    .dataframe tbody tr th {\n",
       "        vertical-align: top;\n",
       "    }\n",
       "\n",
       "    .dataframe thead th {\n",
       "        text-align: right;\n",
       "    }\n",
       "</style>\n",
       "<table border=\"1\" class=\"dataframe\">\n",
       "  <thead>\n",
       "    <tr style=\"text-align: right;\">\n",
       "      <th></th>\n",
       "      <th>Ship Mode</th>\n",
       "      <th>Segment</th>\n",
       "      <th>Country</th>\n",
       "      <th>City</th>\n",
       "      <th>State</th>\n",
       "      <th>Postal Code</th>\n",
       "      <th>Region</th>\n",
       "      <th>Category</th>\n",
       "      <th>Sub-Category</th>\n",
       "      <th>Sales</th>\n",
       "      <th>Quantity</th>\n",
       "      <th>Discount</th>\n",
       "      <th>Profit</th>\n",
       "    </tr>\n",
       "  </thead>\n",
       "  <tbody>\n",
       "    <tr>\n",
       "      <th>0</th>\n",
       "      <td>Second Class</td>\n",
       "      <td>Consumer</td>\n",
       "      <td>United States</td>\n",
       "      <td>Henderson</td>\n",
       "      <td>Kentucky</td>\n",
       "      <td>42420</td>\n",
       "      <td>South</td>\n",
       "      <td>Furniture</td>\n",
       "      <td>Bookcases</td>\n",
       "      <td>261.9600</td>\n",
       "      <td>2</td>\n",
       "      <td>0.00</td>\n",
       "      <td>41.9136</td>\n",
       "    </tr>\n",
       "    <tr>\n",
       "      <th>1</th>\n",
       "      <td>Second Class</td>\n",
       "      <td>Consumer</td>\n",
       "      <td>United States</td>\n",
       "      <td>Henderson</td>\n",
       "      <td>Kentucky</td>\n",
       "      <td>42420</td>\n",
       "      <td>South</td>\n",
       "      <td>Furniture</td>\n",
       "      <td>Chairs</td>\n",
       "      <td>731.9400</td>\n",
       "      <td>3</td>\n",
       "      <td>0.00</td>\n",
       "      <td>219.5820</td>\n",
       "    </tr>\n",
       "    <tr>\n",
       "      <th>2</th>\n",
       "      <td>Second Class</td>\n",
       "      <td>Corporate</td>\n",
       "      <td>United States</td>\n",
       "      <td>Los Angeles</td>\n",
       "      <td>California</td>\n",
       "      <td>90036</td>\n",
       "      <td>West</td>\n",
       "      <td>Office Supplies</td>\n",
       "      <td>Labels</td>\n",
       "      <td>14.6200</td>\n",
       "      <td>2</td>\n",
       "      <td>0.00</td>\n",
       "      <td>6.8714</td>\n",
       "    </tr>\n",
       "    <tr>\n",
       "      <th>3</th>\n",
       "      <td>Standard Class</td>\n",
       "      <td>Consumer</td>\n",
       "      <td>United States</td>\n",
       "      <td>Fort Lauderdale</td>\n",
       "      <td>Florida</td>\n",
       "      <td>33311</td>\n",
       "      <td>South</td>\n",
       "      <td>Furniture</td>\n",
       "      <td>Tables</td>\n",
       "      <td>957.5775</td>\n",
       "      <td>5</td>\n",
       "      <td>0.45</td>\n",
       "      <td>-383.0310</td>\n",
       "    </tr>\n",
       "    <tr>\n",
       "      <th>4</th>\n",
       "      <td>Standard Class</td>\n",
       "      <td>Consumer</td>\n",
       "      <td>United States</td>\n",
       "      <td>Fort Lauderdale</td>\n",
       "      <td>Florida</td>\n",
       "      <td>33311</td>\n",
       "      <td>South</td>\n",
       "      <td>Office Supplies</td>\n",
       "      <td>Storage</td>\n",
       "      <td>22.3680</td>\n",
       "      <td>2</td>\n",
       "      <td>0.20</td>\n",
       "      <td>2.5164</td>\n",
       "    </tr>\n",
       "  </tbody>\n",
       "</table>\n",
       "</div>"
      ],
      "text/plain": [
       "        Ship Mode    Segment        Country             City       State  \\\n",
       "0    Second Class   Consumer  United States        Henderson    Kentucky   \n",
       "1    Second Class   Consumer  United States        Henderson    Kentucky   \n",
       "2    Second Class  Corporate  United States      Los Angeles  California   \n",
       "3  Standard Class   Consumer  United States  Fort Lauderdale     Florida   \n",
       "4  Standard Class   Consumer  United States  Fort Lauderdale     Florida   \n",
       "\n",
       "   Postal Code Region         Category Sub-Category     Sales  Quantity  \\\n",
       "0        42420  South        Furniture    Bookcases  261.9600         2   \n",
       "1        42420  South        Furniture       Chairs  731.9400         3   \n",
       "2        90036   West  Office Supplies       Labels   14.6200         2   \n",
       "3        33311  South        Furniture       Tables  957.5775         5   \n",
       "4        33311  South  Office Supplies      Storage   22.3680         2   \n",
       "\n",
       "   Discount    Profit  \n",
       "0      0.00   41.9136  \n",
       "1      0.00  219.5820  \n",
       "2      0.00    6.8714  \n",
       "3      0.45 -383.0310  \n",
       "4      0.20    2.5164  "
      ]
     },
     "execution_count": 7,
     "metadata": {},
     "output_type": "execute_result"
    },
    {
     "name": "stdout",
     "output_type": "stream",
     "text": [
      "time: 8.33 ms (started: 2024-05-07 17:17:02 -04:00)\n"
     ]
    }
   ],
   "source": [
    "data.head()"
   ]
  },
  {
   "cell_type": "code",
   "execution_count": 8,
   "metadata": {
    "execution": {
     "iopub.execute_input": "2022-11-01T06:14:37.137117Z",
     "iopub.status.busy": "2022-11-01T06:14:37.136702Z",
     "iopub.status.idle": "2022-11-01T06:14:37.171936Z",
     "shell.execute_reply": "2022-11-01T06:14:37.170991Z",
     "shell.execute_reply.started": "2022-11-01T06:14:37.13708Z"
    }
   },
   "outputs": [
    {
     "name": "stdout",
     "output_type": "stream",
     "text": [
      "time: 77 ms (started: 2024-05-07 17:17:02 -04:00)\n"
     ]
    }
   ],
   "source": [
    "# data.info()"
   ]
  },
  {
   "cell_type": "code",
   "execution_count": 9,
   "metadata": {
    "execution": {
     "iopub.execute_input": "2022-11-01T06:14:40.369406Z",
     "iopub.status.busy": "2022-11-01T06:14:40.369005Z",
     "iopub.status.idle": "2022-11-01T06:14:40.389239Z",
     "shell.execute_reply": "2022-11-01T06:14:40.38818Z",
     "shell.execute_reply.started": "2022-11-01T06:14:40.369371Z"
    }
   },
   "outputs": [
    {
     "data": {
      "text/plain": [
       "7985223"
      ]
     },
     "execution_count": 9,
     "metadata": {},
     "output_type": "execute_result"
    },
    {
     "name": "stdout",
     "output_type": "stream",
     "text": [
      "time: 2.41 s (started: 2024-05-07 17:17:02 -04:00)\n"
     ]
    }
   ],
   "source": [
    "data.duplicated().sum()"
   ]
  },
  {
   "cell_type": "markdown",
   "metadata": {},
   "source": [
    "#### So, there are 17 duplicate entries and let us drop them."
   ]
  },
  {
   "cell_type": "code",
   "execution_count": 10,
   "metadata": {
    "execution": {
     "iopub.execute_input": "2022-11-01T06:14:55.215722Z",
     "iopub.status.busy": "2022-11-01T06:14:55.215321Z",
     "iopub.status.idle": "2022-11-01T06:14:55.233946Z",
     "shell.execute_reply": "2022-11-01T06:14:55.232408Z",
     "shell.execute_reply.started": "2022-11-01T06:14:55.215689Z"
    }
   },
   "outputs": [
    {
     "name": "stdout",
     "output_type": "stream",
     "text": [
      "time: 165 µs (started: 2024-05-07 17:17:05 -04:00)\n"
     ]
    }
   ],
   "source": [
    "# STEFANOS: Disable this. It undos the data replication.\n",
    "# data.drop_duplicates(inplace= True)"
   ]
  },
  {
   "cell_type": "code",
   "execution_count": 11,
   "metadata": {
    "execution": {
     "iopub.execute_input": "2022-11-01T06:14:58.95214Z",
     "iopub.status.busy": "2022-11-01T06:14:58.951405Z",
     "iopub.status.idle": "2022-11-01T06:14:58.967727Z",
     "shell.execute_reply": "2022-11-01T06:14:58.966842Z",
     "shell.execute_reply.started": "2022-11-01T06:14:58.952094Z"
    }
   },
   "outputs": [
    {
     "name": "stdout",
     "output_type": "stream",
     "text": [
      "time: 30.8 ms (started: 2024-05-07 17:17:05 -04:00)\n"
     ]
    }
   ],
   "source": [
    "# data.info()"
   ]
  },
  {
   "cell_type": "markdown",
   "metadata": {},
   "source": [
    "# Dropping unwanted columns "
   ]
  },
  {
   "cell_type": "code",
   "execution_count": 12,
   "metadata": {
    "execution": {
     "iopub.execute_input": "2022-11-01T06:15:28.368014Z",
     "iopub.status.busy": "2022-11-01T06:15:28.367649Z",
     "iopub.status.idle": "2022-11-01T06:15:28.375788Z",
     "shell.execute_reply": "2022-11-01T06:15:28.37447Z",
     "shell.execute_reply.started": "2022-11-01T06:15:28.367989Z"
    }
   },
   "outputs": [
    {
     "name": "stdout",
     "output_type": "stream",
     "text": [
      "time: 239 ms (started: 2024-05-07 17:17:05 -04:00)\n"
     ]
    }
   ],
   "source": [
    "data.drop([\"Postal Code\"], axis=1,inplace= True)"
   ]
  },
  {
   "cell_type": "code",
   "execution_count": 13,
   "metadata": {
    "execution": {
     "iopub.execute_input": "2022-11-01T06:15:34.803088Z",
     "iopub.status.busy": "2022-11-01T06:15:34.802682Z",
     "iopub.status.idle": "2022-11-01T06:15:34.820867Z",
     "shell.execute_reply": "2022-11-01T06:15:34.819283Z",
     "shell.execute_reply.started": "2022-11-01T06:15:34.803055Z"
    }
   },
   "outputs": [
    {
     "name": "stdout",
     "output_type": "stream",
     "text": [
      "time: 165 µs (started: 2024-05-07 17:17:05 -04:00)\n"
     ]
    }
   ],
   "source": [
    "# data.info()"
   ]
  },
  {
   "cell_type": "markdown",
   "metadata": {},
   "source": [
    "# Correlation between the data"
   ]
  },
  {
   "cell_type": "code",
   "execution_count": 14,
   "metadata": {
    "execution": {
     "iopub.execute_input": "2022-11-01T06:15:45.727932Z",
     "iopub.status.busy": "2022-11-01T06:15:45.72689Z",
     "iopub.status.idle": "2022-11-01T06:15:45.745506Z",
     "shell.execute_reply": "2022-11-01T06:15:45.743763Z",
     "shell.execute_reply.started": "2022-11-01T06:15:45.727866Z"
    }
   },
   "outputs": [
    {
     "data": {
      "text/html": [
       "<div>\n",
       "<style scoped>\n",
       "    .dataframe tbody tr th:only-of-type {\n",
       "        vertical-align: middle;\n",
       "    }\n",
       "\n",
       "    .dataframe tbody tr th {\n",
       "        vertical-align: top;\n",
       "    }\n",
       "\n",
       "    .dataframe thead th {\n",
       "        text-align: right;\n",
       "    }\n",
       "</style>\n",
       "<table border=\"1\" class=\"dataframe\">\n",
       "  <thead>\n",
       "    <tr style=\"text-align: right;\">\n",
       "      <th></th>\n",
       "      <th>Sales</th>\n",
       "      <th>Quantity</th>\n",
       "      <th>Discount</th>\n",
       "      <th>Profit</th>\n",
       "    </tr>\n",
       "  </thead>\n",
       "  <tbody>\n",
       "    <tr>\n",
       "      <th>Sales</th>\n",
       "      <td>1.000000</td>\n",
       "      <td>0.200795</td>\n",
       "      <td>-0.028190</td>\n",
       "      <td>0.479064</td>\n",
       "    </tr>\n",
       "    <tr>\n",
       "      <th>Quantity</th>\n",
       "      <td>0.200795</td>\n",
       "      <td>1.000000</td>\n",
       "      <td>0.008623</td>\n",
       "      <td>0.066253</td>\n",
       "    </tr>\n",
       "    <tr>\n",
       "      <th>Discount</th>\n",
       "      <td>-0.028190</td>\n",
       "      <td>0.008623</td>\n",
       "      <td>1.000000</td>\n",
       "      <td>-0.219487</td>\n",
       "    </tr>\n",
       "    <tr>\n",
       "      <th>Profit</th>\n",
       "      <td>0.479064</td>\n",
       "      <td>0.066253</td>\n",
       "      <td>-0.219487</td>\n",
       "      <td>1.000000</td>\n",
       "    </tr>\n",
       "  </tbody>\n",
       "</table>\n",
       "</div>"
      ],
      "text/plain": [
       "             Sales  Quantity  Discount    Profit\n",
       "Sales     1.000000  0.200795 -0.028190  0.479064\n",
       "Quantity  0.200795  1.000000  0.008623  0.066253\n",
       "Discount -0.028190  0.008623  1.000000 -0.219487\n",
       "Profit    0.479064  0.066253 -0.219487  1.000000"
      ]
     },
     "execution_count": 14,
     "metadata": {},
     "output_type": "execute_result"
    },
    {
     "name": "stdout",
     "output_type": "stream",
     "text": [
      "time: 263 ms (started: 2024-05-07 17:17:05 -04:00)\n"
     ]
    }
   ],
   "source": [
    "data.corr(numeric_only=True)"
   ]
  },
  {
   "cell_type": "code",
   "execution_count": 15,
   "metadata": {
    "execution": {
     "iopub.execute_input": "2022-11-01T06:15:48.886884Z",
     "iopub.status.busy": "2022-11-01T06:15:48.886463Z",
     "iopub.status.idle": "2022-11-01T06:15:49.164492Z",
     "shell.execute_reply": "2022-11-01T06:15:49.163246Z",
     "shell.execute_reply.started": "2022-11-01T06:15:48.886855Z"
    }
   },
   "outputs": [
    {
     "name": "stdout",
     "output_type": "stream",
     "text": [
      "time: 189 µs (started: 2024-05-07 17:17:05 -04:00)\n"
     ]
    }
   ],
   "source": [
    "# STEFANOS: Disable plotting\n",
    "# sns.heatmap(data.corr(numeric_only=True), annot=True)"
   ]
  },
  {
   "cell_type": "markdown",
   "metadata": {},
   "source": [
    "# EDA"
   ]
  },
  {
   "cell_type": "markdown",
   "metadata": {},
   "source": [
    "### Analysing the different kinds of Shipping Modes, Segments and categories mentioned in the data"
   ]
  },
  {
   "cell_type": "markdown",
   "metadata": {},
   "source": [
    "## Shipping Mode"
   ]
  },
  {
   "cell_type": "code",
   "execution_count": 16,
   "metadata": {
    "execution": {
     "iopub.execute_input": "2022-11-01T06:16:23.204119Z",
     "iopub.status.busy": "2022-11-01T06:16:23.20269Z",
     "iopub.status.idle": "2022-11-01T06:16:23.213363Z",
     "shell.execute_reply": "2022-11-01T06:16:23.212056Z",
     "shell.execute_reply.started": "2022-11-01T06:16:23.204066Z"
    }
   },
   "outputs": [
    {
     "data": {
      "text/plain": [
       "Ship Mode\n",
       "Standard Class    4774400\n",
       "Second Class      1556000\n",
       "First Class       1230400\n",
       "Same Day           434400\n",
       "Name: count, dtype: int64"
      ]
     },
     "execution_count": 16,
     "metadata": {},
     "output_type": "execute_result"
    },
    {
     "name": "stdout",
     "output_type": "stream",
     "text": [
      "time: 180 ms (started: 2024-05-07 17:17:05 -04:00)\n"
     ]
    }
   ],
   "source": [
    "data[\"Ship Mode\"].value_counts()"
   ]
  },
  {
   "cell_type": "code",
   "execution_count": 17,
   "metadata": {
    "execution": {
     "iopub.execute_input": "2022-11-01T06:16:27.062483Z",
     "iopub.status.busy": "2022-11-01T06:16:27.0611Z",
     "iopub.status.idle": "2022-11-01T06:16:27.18827Z",
     "shell.execute_reply": "2022-11-01T06:16:27.187351Z",
     "shell.execute_reply.started": "2022-11-01T06:16:27.062418Z"
    }
   },
   "outputs": [
    {
     "name": "stdout",
     "output_type": "stream",
     "text": [
      "time: 168 µs (started: 2024-05-07 17:17:05 -04:00)\n"
     ]
    }
   ],
   "source": [
    "# STEFANOS: Disable plotting\n",
    "# sns.countplot(x= data['Ship Mode'])"
   ]
  },
  {
   "cell_type": "markdown",
   "metadata": {},
   "source": [
    "## Different Segments"
   ]
  },
  {
   "cell_type": "code",
   "execution_count": 18,
   "metadata": {},
   "outputs": [
    {
     "data": {
      "text/plain": [
       "Segment\n",
       "Consumer       4152800\n",
       "Corporate      2416000\n",
       "Home Office    1426400\n",
       "Name: count, dtype: int64"
      ]
     },
     "execution_count": 18,
     "metadata": {},
     "output_type": "execute_result"
    },
    {
     "name": "stdout",
     "output_type": "stream",
     "text": [
      "time: 180 ms (started: 2024-05-07 17:17:05 -04:00)\n"
     ]
    }
   ],
   "source": [
    "data[\"Segment\"].value_counts()"
   ]
  },
  {
   "cell_type": "code",
   "execution_count": 19,
   "metadata": {},
   "outputs": [
    {
     "name": "stdout",
     "output_type": "stream",
     "text": [
      "time: 125 µs (started: 2024-05-07 17:17:05 -04:00)\n"
     ]
    }
   ],
   "source": [
    "# STEFANOS: Disable plotting\n",
    "# sns.countplot(x= data['Segment'])"
   ]
  },
  {
   "cell_type": "markdown",
   "metadata": {},
   "source": [
    "## Categories of the items"
   ]
  },
  {
   "cell_type": "code",
   "execution_count": 20,
   "metadata": {
    "execution": {
     "iopub.execute_input": "2022-11-01T06:17:31.966628Z",
     "iopub.status.busy": "2022-11-01T06:17:31.965446Z",
     "iopub.status.idle": "2022-11-01T06:17:31.974375Z",
     "shell.execute_reply": "2022-11-01T06:17:31.973289Z",
     "shell.execute_reply.started": "2022-11-01T06:17:31.966591Z"
    }
   },
   "outputs": [
    {
     "data": {
      "text/plain": [
       "Category\n",
       "Office Supplies    4820800\n",
       "Furniture          1696800\n",
       "Technology         1477600\n",
       "Name: count, dtype: int64"
      ]
     },
     "execution_count": 20,
     "metadata": {},
     "output_type": "execute_result"
    },
    {
     "name": "stdout",
     "output_type": "stream",
     "text": [
      "time: 180 ms (started: 2024-05-07 17:17:05 -04:00)\n"
     ]
    }
   ],
   "source": [
    "data[\"Category\"].value_counts()"
   ]
  },
  {
   "cell_type": "code",
   "execution_count": 21,
   "metadata": {
    "execution": {
     "iopub.execute_input": "2022-11-01T06:17:34.297634Z",
     "iopub.status.busy": "2022-11-01T06:17:34.297233Z",
     "iopub.status.idle": "2022-11-01T06:17:34.434586Z",
     "shell.execute_reply": "2022-11-01T06:17:34.43332Z",
     "shell.execute_reply.started": "2022-11-01T06:17:34.297602Z"
    }
   },
   "outputs": [
    {
     "name": "stdout",
     "output_type": "stream",
     "text": [
      "time: 164 µs (started: 2024-05-07 17:17:06 -04:00)\n"
     ]
    }
   ],
   "source": [
    "# STEFANOS: Disable plotting\n",
    "# sns.countplot(x= data['Category'])"
   ]
  },
  {
   "cell_type": "markdown",
   "metadata": {},
   "source": [
    "#### From the above plot we can conclude that Office Supplies Category has highest number of sales. Now let us see the sub-categories as well.\n"
   ]
  },
  {
   "cell_type": "markdown",
   "metadata": {},
   "source": [
    "## Sub-categories of items"
   ]
  },
  {
   "cell_type": "code",
   "execution_count": 22,
   "metadata": {
    "execution": {
     "iopub.execute_input": "2022-11-01T06:18:05.84646Z",
     "iopub.status.busy": "2022-11-01T06:18:05.846084Z",
     "iopub.status.idle": "2022-11-01T06:18:05.855404Z",
     "shell.execute_reply": "2022-11-01T06:18:05.853579Z",
     "shell.execute_reply.started": "2022-11-01T06:18:05.84643Z"
    }
   },
   "outputs": [
    {
     "data": {
      "text/plain": [
       "Sub-Category\n",
       "Binders        1218400\n",
       "Paper          1096000\n",
       "Furnishings     765600\n",
       "Phones          711200\n",
       "Storage         676800\n",
       "Art             636800\n",
       "Accessories     620000\n",
       "Chairs          493600\n",
       "Appliances      372800\n",
       "Labels          291200\n",
       "Tables          255200\n",
       "Envelopes       203200\n",
       "Bookcases       182400\n",
       "Fasteners       173600\n",
       "Supplies        152000\n",
       "Machines         92000\n",
       "Copiers          54400\n",
       "Name: count, dtype: int64"
      ]
     },
     "execution_count": 22,
     "metadata": {},
     "output_type": "execute_result"
    },
    {
     "name": "stdout",
     "output_type": "stream",
     "text": [
      "time: 181 ms (started: 2024-05-07 17:17:06 -04:00)\n"
     ]
    }
   ],
   "source": [
    "data[\"Sub-Category\"].value_counts()\n"
   ]
  },
  {
   "cell_type": "code",
   "execution_count": 23,
   "metadata": {
    "execution": {
     "iopub.execute_input": "2022-11-01T06:18:21.470572Z",
     "iopub.status.busy": "2022-11-01T06:18:21.470227Z",
     "iopub.status.idle": "2022-11-01T06:18:21.746103Z",
     "shell.execute_reply": "2022-11-01T06:18:21.745022Z",
     "shell.execute_reply.started": "2022-11-01T06:18:21.470543Z"
    }
   },
   "outputs": [
    {
     "name": "stdout",
     "output_type": "stream",
     "text": [
      "time: 155 µs (started: 2024-05-07 17:17:06 -04:00)\n"
     ]
    }
   ],
   "source": [
    "# STEFANOS: Disable plotting\n",
    "# plt.figure(figsize=(15,15))\n",
    "# plt.pie(data[\"Sub-Category\"].value_counts(), labels= data[\"Sub-Category\"].value_counts().index, autopct =\"%2f\")\n",
    "# plt.show()"
   ]
  },
  {
   "cell_type": "markdown",
   "metadata": {},
   "source": [
    "#### Here, Sub-Category with highest sale is Binder, follwed by Paper and Furnishings as second and third respectively."
   ]
  },
  {
   "cell_type": "code",
   "execution_count": 24,
   "metadata": {
    "execution": {
     "iopub.execute_input": "2022-11-01T06:18:43.853938Z",
     "iopub.status.busy": "2022-11-01T06:18:43.853513Z",
     "iopub.status.idle": "2022-11-01T06:18:43.863436Z",
     "shell.execute_reply": "2022-11-01T06:18:43.862115Z",
     "shell.execute_reply.started": "2022-11-01T06:18:43.853905Z"
    }
   },
   "outputs": [
    {
     "name": "stdout",
     "output_type": "stream",
     "text": [
      "time: 254 ms (started: 2024-05-07 17:17:06 -04:00)\n"
     ]
    }
   ],
   "source": [
    "st_profit=data.groupby([\"State\"])[\"Profit\"].sum().nlargest(20)"
   ]
  },
  {
   "cell_type": "code",
   "execution_count": 25,
   "metadata": {
    "execution": {
     "iopub.execute_input": "2022-11-01T06:18:45.756354Z",
     "iopub.status.busy": "2022-11-01T06:18:45.754851Z",
     "iopub.status.idle": "2022-11-01T06:18:45.766529Z",
     "shell.execute_reply": "2022-11-01T06:18:45.764918Z",
     "shell.execute_reply.started": "2022-11-01T06:18:45.756303Z"
    }
   },
   "outputs": [
    {
     "data": {
      "text/plain": [
       "State\n",
       "California       61105109.68\n",
       "New York         59230838.88\n",
       "Washington       26722121.36\n",
       "Michigan         19570550.08\n",
       "Virginia         14878360.32\n",
       "Indiana          14706349.04\n",
       "Georgia          13000034.64\n",
       "Kentucky          8959757.28\n",
       "Minnesota         8658549.92\n",
       "Delaware          7981899.84\n",
       "New Jersey        7818331.04\n",
       "Wisconsin         6721440.32\n",
       "Rhode Island      5828503.44\n",
       "Maryland          5624943.04\n",
       "Massachusetts     5428401.28\n",
       "Missouri          5148968.40\n",
       "Alabama           4629460.24\n",
       "Oklahoma          3883164.80\n",
       "Arkansas          3206949.68\n",
       "Connecticut       2809193.44\n",
       "Name: Profit, dtype: float64"
      ]
     },
     "execution_count": 25,
     "metadata": {},
     "output_type": "execute_result"
    },
    {
     "name": "stdout",
     "output_type": "stream",
     "text": [
      "time: 2.15 ms (started: 2024-05-07 17:17:06 -04:00)\n"
     ]
    }
   ],
   "source": [
    "st_profit"
   ]
  },
  {
   "cell_type": "code",
   "execution_count": 26,
   "metadata": {
    "execution": {
     "iopub.execute_input": "2022-11-01T06:18:48.842077Z",
     "iopub.status.busy": "2022-11-01T06:18:48.841686Z",
     "iopub.status.idle": "2022-11-01T06:18:49.133387Z",
     "shell.execute_reply": "2022-11-01T06:18:49.132094Z",
     "shell.execute_reply.started": "2022-11-01T06:18:48.842045Z"
    }
   },
   "outputs": [
    {
     "name": "stdout",
     "output_type": "stream",
     "text": [
      "time: 131 µs (started: 2024-05-07 17:17:06 -04:00)\n"
     ]
    }
   ],
   "source": [
    "# STEFANOS: Disable plotting\n",
    "# plt.figure(figsize=(15,8))\n",
    "# st_profit.plot.bar()"
   ]
  },
  {
   "cell_type": "code",
   "execution_count": 27,
   "metadata": {
    "execution": {
     "iopub.execute_input": "2022-11-01T06:18:54.718223Z",
     "iopub.status.busy": "2022-11-01T06:18:54.71785Z",
     "iopub.status.idle": "2022-11-01T06:18:55.223678Z",
     "shell.execute_reply": "2022-11-01T06:18:55.222144Z",
     "shell.execute_reply.started": "2022-11-01T06:18:54.718191Z"
    }
   },
   "outputs": [
    {
     "name": "stdout",
     "output_type": "stream",
     "text": [
      "time: 120 µs (started: 2024-05-07 17:17:06 -04:00)\n"
     ]
    }
   ],
   "source": [
    "# STEFANOS: Disable plotting\n",
    "# sns.lineplot(data=data, x=\"Discount\", y= \"Profit\")"
   ]
  },
  {
   "cell_type": "markdown",
   "metadata": {},
   "source": [
    "#### So we can see that when discount increases profit decreases"
   ]
  },
  {
   "cell_type": "code",
   "execution_count": 28,
   "metadata": {
    "execution": {
     "iopub.execute_input": "2022-11-01T06:19:01.306822Z",
     "iopub.status.busy": "2022-11-01T06:19:01.306433Z",
     "iopub.status.idle": "2022-11-01T06:19:01.780447Z",
     "shell.execute_reply": "2022-11-01T06:19:01.779394Z",
     "shell.execute_reply.started": "2022-11-01T06:19:01.306771Z"
    }
   },
   "outputs": [
    {
     "name": "stdout",
     "output_type": "stream",
     "text": [
      "time: 127 µs (started: 2024-05-07 17:17:06 -04:00)\n"
     ]
    }
   ],
   "source": [
    "# STEFANOS: Disable plotting\n",
    "# data.plot(kind=\"scatter\",x=\"Sales\",y=\"Profit\", c=\"Discount\", colormap=\"Set1\",figsize=(10,10))"
   ]
  },
  {
   "cell_type": "markdown",
   "metadata": {},
   "source": [
    "In this scatter plot we can clearly see that more sales does not mean more profit. It depends on discount as well. \n",
    "When Sales is high and there is low discount, the profit margin is higher."
   ]
  },
  {
   "cell_type": "code",
   "execution_count": 29,
   "metadata": {
    "execution": {
     "iopub.execute_input": "2022-11-01T06:19:06.183316Z",
     "iopub.status.busy": "2022-11-01T06:19:06.182945Z",
     "iopub.status.idle": "2022-11-01T06:19:06.77592Z",
     "shell.execute_reply": "2022-11-01T06:19:06.774518Z",
     "shell.execute_reply.started": "2022-11-01T06:19:06.183289Z"
    }
   },
   "outputs": [
    {
     "name": "stdout",
     "output_type": "stream",
     "text": [
      "time: 278 ms (started: 2024-05-07 17:17:06 -04:00)\n"
     ]
    }
   ],
   "source": [
    "# %%time\n",
    "data1= data.groupby(\"State\")[[\"Sales\",\"Profit\"]].sum().sort_values(by=\"Sales\", ascending=False)\n",
    "# STEFANOS: Disable plotting\n",
    "# data1[:].plot.bar(color = [\"Green\",\"Red\"], figsize=(20,12))\n",
    "# plt.title(\"Profit-Loss and Sales across States\")\n",
    "# plt.show()"
   ]
  },
  {
   "cell_type": "markdown",
   "metadata": {},
   "source": [
    "California and New York generate more profit compared to the other states."
   ]
  },
  {
   "cell_type": "markdown",
   "metadata": {},
   "source": [
    "# Profit-Loss and Sales across Region"
   ]
  },
  {
   "cell_type": "code",
   "execution_count": 30,
   "metadata": {
    "execution": {
     "iopub.execute_input": "2022-11-01T06:19:14.171246Z",
     "iopub.status.busy": "2022-11-01T06:19:14.169719Z",
     "iopub.status.idle": "2022-11-01T06:19:14.354341Z",
     "shell.execute_reply": "2022-11-01T06:19:14.352718Z",
     "shell.execute_reply.started": "2022-11-01T06:19:14.171189Z"
    }
   },
   "outputs": [
    {
     "name": "stdout",
     "output_type": "stream",
     "text": [
      "time: 261 ms (started: 2024-05-07 17:17:06 -04:00)\n"
     ]
    }
   ],
   "source": [
    "data1= data.groupby(\"Region\")[[\"Sales\",\"Profit\"]].sum().sort_values(by=\"Sales\", ascending=False)\n",
    "# STEFANOS: Disable plotting\n",
    "# data1[:].plot.bar(color = [\"Blue\",\"Red\"], figsize=(10,7))\n",
    "# plt.title(\"Profit-Loss and Sales across Region\")\n",
    "# plt.show()"
   ]
  },
  {
   "cell_type": "code",
   "execution_count": 31,
   "id": "17077d15",
   "metadata": {},
   "outputs": [
    {
     "name": "stdout",
     "output_type": "stream",
     "text": [
      "Total elapsed time: 5.534596485\n",
      "time: 312 µs (started: 2024-05-07 17:17:07 -04:00)\n"
     ]
    }
   ],
   "source": [
    "SNAPPY_end_time = time.perf_counter_ns()\n",
    "print(\"Total elapsed time:\", (SNAPPY_end_time - SNAPPY_start_time) / (10 ** 9))"
   ]
  },
  {
   "cell_type": "markdown",
   "metadata": {},
   "source": [
    "\n",
    "\n",
    "\n",
    "# Conclusion:\n",
    "\n",
    "\n",
    "1. The western region generates highest profit.\n",
    "2. California, NewYork and Washington generates the most sales compared to the other places. \n",
    "3. The central region generates lowest profit. \n",
    "4. Texas, Pennsylvenia, Florida, Illinois, Ohio and some other states are generating loss with high sale. So we need to give some attention towards them.\n",
    "\n",
    "Therefore, we have to work more on California and New York. Increase the sales in these states by reducing sales in states like Texas, Florida, Ohio. By decreasing the discount rates in Central region we can increase the profit. Finally we should increase the sale of Office Supplies category as they contribute more.\n",
    "\n",
    "\n",
    "\n"
   ]
  }
 ],
 "metadata": {
  "kernelspec": {
   "display_name": "Python 3 (ipykernel)",
   "language": "python",
   "name": "python3"
  },
  "language_info": {
   "codemirror_mode": {
    "name": "ipython",
    "version": 3
   },
   "file_extension": ".py",
   "mimetype": "text/x-python",
   "name": "python",
   "nbconvert_exporter": "python",
   "pygments_lexer": "ipython3",
   "version": "3.10.11"
  }
 },
 "nbformat": 4,
 "nbformat_minor": 4
}
