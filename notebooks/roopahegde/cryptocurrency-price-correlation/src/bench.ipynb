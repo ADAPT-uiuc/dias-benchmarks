{
 "cells": [
  {
   "cell_type": "code",
   "execution_count": 1,
   "metadata": {},
   "outputs": [],
   "source": [
    "#Import required libraries\n",
    "import pandas as pd\n",
    "import numpy as np"
   ]
  },
  {
   "cell_type": "markdown",
   "metadata": {},
   "source": [
    " # <span style=\"color:#346888;\">TABLE OF CONTENTS</span>"
   ]
  },
  {
   "cell_type": "markdown",
   "metadata": {},
   "source": [
    "\n",
    "* **[Load Data](#load-data)**\n",
    "\n",
    "\n",
    "* **[Understanding Data](#un-data)**\n",
    "\n",
    "\n",
    "* **[Data cleaning and preparation ](#clean-data)**\n",
    "    * **[Drop columns](#drop-cols)**\n",
    "    * **[Missing data](#missing-rows)**\n",
    "    * **[Data aggregation](#data-agg)**\n",
    "    \n",
    "    \n",
    "* **[Understanding the trends](#trend)**\n",
    "\n",
    "\n",
    "* **[Analysing the combined trends](#trend-com)**\n",
    "    * **[Average closing value](#close-val)**\n",
    "    * **[Closing volume](#vol)**\n",
    "    \n",
    "    \n",
    "* **[Correlation](#corr)**"
   ]
  },
  {
   "cell_type": "markdown",
   "metadata": {},
   "source": [
    "## <span style=\"color:#346888;\">Load Data</span> <a id=\"load-data\"></a>"
   ]
  },
  {
   "cell_type": "code",
   "execution_count": 2,
   "metadata": {},
   "outputs": [],
   "source": [
    "#load bitcoin data\n",
    "btc_master = pd.read_csv('../input/gemini_BTCUSD_2020_1min.csv')\n",
    "\n",
    "#load ethereum data\n",
    "eth_master = pd.read_csv('../input/gemini_ETHUSD_2020_1min.csv')\n",
    "\n",
    "#load litecoin data\n",
    "ltc_master = pd.read_csv('../input/gemini_LTCUSD_2020_1min.csv')"
   ]
  },
  {
   "cell_type": "markdown",
   "metadata": {},
   "source": [
    "## <span style=\"color:#346888;\">Understanding Data</span> <a id=\"un-data\"></a>"
   ]
  },
  {
   "cell_type": "code",
   "execution_count": 3,
   "metadata": {},
   "outputs": [
    {
     "data": {
      "text/html": [
       "<div>\n",
       "<style scoped>\n",
       "    .dataframe tbody tr th:only-of-type {\n",
       "        vertical-align: middle;\n",
       "    }\n",
       "\n",
       "    .dataframe tbody tr th {\n",
       "        vertical-align: top;\n",
       "    }\n",
       "\n",
       "    .dataframe thead th {\n",
       "        text-align: right;\n",
       "    }\n",
       "</style>\n",
       "<table border=\"1\" class=\"dataframe\">\n",
       "  <thead>\n",
       "    <tr style=\"text-align: right;\">\n",
       "      <th></th>\n",
       "      <th>Unix Timestamp</th>\n",
       "      <th>Date</th>\n",
       "      <th>Symbol</th>\n",
       "      <th>Open</th>\n",
       "      <th>High</th>\n",
       "      <th>Low</th>\n",
       "      <th>Close</th>\n",
       "      <th>Volume</th>\n",
       "    </tr>\n",
       "  </thead>\n",
       "  <tbody>\n",
       "    <tr>\n",
       "      <th>0</th>\n",
       "      <td>1.618880e+12</td>\n",
       "      <td>4/20/2021 0:02</td>\n",
       "      <td>BTCUSD</td>\n",
       "      <td>55717.47</td>\n",
       "      <td>55723.00</td>\n",
       "      <td>55541.69</td>\n",
       "      <td>55541.69</td>\n",
       "      <td>2.406734</td>\n",
       "    </tr>\n",
       "    <tr>\n",
       "      <th>1</th>\n",
       "      <td>1.618880e+12</td>\n",
       "      <td>4/20/2021 0:01</td>\n",
       "      <td>BTCUSD</td>\n",
       "      <td>55768.94</td>\n",
       "      <td>55849.82</td>\n",
       "      <td>55711.74</td>\n",
       "      <td>55717.47</td>\n",
       "      <td>0.573458</td>\n",
       "    </tr>\n",
       "    <tr>\n",
       "      <th>2</th>\n",
       "      <td>1.618880e+12</td>\n",
       "      <td>4/20/2021 0:00</td>\n",
       "      <td>BTCUSD</td>\n",
       "      <td>55691.79</td>\n",
       "      <td>55793.15</td>\n",
       "      <td>55691.79</td>\n",
       "      <td>55768.94</td>\n",
       "      <td>3.309904</td>\n",
       "    </tr>\n",
       "    <tr>\n",
       "      <th>3</th>\n",
       "      <td>1.618880e+12</td>\n",
       "      <td>4/19/2021 23:59</td>\n",
       "      <td>BTCUSD</td>\n",
       "      <td>55777.86</td>\n",
       "      <td>55777.86</td>\n",
       "      <td>55677.92</td>\n",
       "      <td>55691.79</td>\n",
       "      <td>0.684934</td>\n",
       "    </tr>\n",
       "    <tr>\n",
       "      <th>4</th>\n",
       "      <td>1.618880e+12</td>\n",
       "      <td>4/19/2021 23:58</td>\n",
       "      <td>BTCUSD</td>\n",
       "      <td>55803.50</td>\n",
       "      <td>55823.88</td>\n",
       "      <td>55773.08</td>\n",
       "      <td>55777.86</td>\n",
       "      <td>0.477225</td>\n",
       "    </tr>\n",
       "  </tbody>\n",
       "</table>\n",
       "</div>"
      ],
      "text/plain": [
       "   Unix Timestamp             Date  Symbol      Open      High       Low  \\\n",
       "0    1.618880e+12   4/20/2021 0:02  BTCUSD  55717.47  55723.00  55541.69   \n",
       "1    1.618880e+12   4/20/2021 0:01  BTCUSD  55768.94  55849.82  55711.74   \n",
       "2    1.618880e+12   4/20/2021 0:00  BTCUSD  55691.79  55793.15  55691.79   \n",
       "3    1.618880e+12  4/19/2021 23:59  BTCUSD  55777.86  55777.86  55677.92   \n",
       "4    1.618880e+12  4/19/2021 23:58  BTCUSD  55803.50  55823.88  55773.08   \n",
       "\n",
       "      Close    Volume  \n",
       "0  55541.69  2.406734  \n",
       "1  55717.47  0.573458  \n",
       "2  55768.94  3.309904  \n",
       "3  55691.79  0.684934  \n",
       "4  55777.86  0.477225  "
      ]
     },
     "execution_count": 3,
     "metadata": {},
     "output_type": "execute_result"
    }
   ],
   "source": [
    "#Check the data dimensions for bitcoin\n",
    "btc_master.head()"
   ]
  },
  {
   "cell_type": "code",
   "execution_count": 4,
   "metadata": {},
   "outputs": [
    {
     "name": "stdout",
     "output_type": "stream",
     "text": [
      "<class 'pandas.core.frame.DataFrame'>\n",
      "RangeIndex: 658065 entries, 0 to 658064\n",
      "Data columns (total 8 columns):\n",
      " #   Column          Non-Null Count   Dtype  \n",
      "---  ------          --------------   -----  \n",
      " 0   Unix Timestamp  658065 non-null  float64\n",
      " 1   Date            658065 non-null  object \n",
      " 2   Symbol          658065 non-null  object \n",
      " 3   Open            658065 non-null  float64\n",
      " 4   High            658065 non-null  float64\n",
      " 5   Low             658065 non-null  float64\n",
      " 6   Close           658065 non-null  float64\n",
      " 7   Volume          658065 non-null  float64\n",
      "dtypes: float64(6), object(2)\n",
      "memory usage: 40.2+ MB\n"
     ]
    }
   ],
   "source": [
    "btc_master.info()"
   ]
  },
  {
   "cell_type": "code",
   "execution_count": 5,
   "metadata": {},
   "outputs": [
    {
     "data": {
      "text/plain": [
       "(658059, 8)"
      ]
     },
     "execution_count": 5,
     "metadata": {},
     "output_type": "execute_result"
    }
   ],
   "source": [
    "#Check the data dimensions for ethereum\n",
    "eth_master.shape"
   ]
  },
  {
   "cell_type": "code",
   "execution_count": 6,
   "metadata": {},
   "outputs": [
    {
     "name": "stdout",
     "output_type": "stream",
     "text": [
      "<class 'pandas.core.frame.DataFrame'>\n",
      "RangeIndex: 658059 entries, 0 to 658058\n",
      "Data columns (total 8 columns):\n",
      " #   Column          Non-Null Count   Dtype  \n",
      "---  ------          --------------   -----  \n",
      " 0   Unix Timestamp  658059 non-null  float64\n",
      " 1   Date            658059 non-null  object \n",
      " 2   Symbol          658059 non-null  object \n",
      " 3   Open            658059 non-null  float64\n",
      " 4   High            658059 non-null  float64\n",
      " 5   Low             658059 non-null  float64\n",
      " 6   Close           658059 non-null  float64\n",
      " 7   Volume          658059 non-null  float64\n",
      "dtypes: float64(6), object(2)\n",
      "memory usage: 40.2+ MB\n"
     ]
    }
   ],
   "source": [
    "eth_master.info()"
   ]
  },
  {
   "cell_type": "code",
   "execution_count": 7,
   "metadata": {},
   "outputs": [
    {
     "data": {
      "text/plain": [
       "(658011, 8)"
      ]
     },
     "execution_count": 7,
     "metadata": {},
     "output_type": "execute_result"
    }
   ],
   "source": [
    "#Check the data dimensions for litecoin\n",
    "ltc_master.shape"
   ]
  },
  {
   "cell_type": "code",
   "execution_count": 8,
   "metadata": {},
   "outputs": [
    {
     "name": "stdout",
     "output_type": "stream",
     "text": [
      "<class 'pandas.core.frame.DataFrame'>\n",
      "RangeIndex: 658011 entries, 0 to 658010\n",
      "Data columns (total 8 columns):\n",
      " #   Column          Non-Null Count   Dtype  \n",
      "---  ------          --------------   -----  \n",
      " 0   Unix Timestamp  658011 non-null  float64\n",
      " 1   Date            658011 non-null  object \n",
      " 2   Symbol          658011 non-null  object \n",
      " 3   Open            658011 non-null  float64\n",
      " 4   High            658011 non-null  float64\n",
      " 5   Low             658011 non-null  float64\n",
      " 6   Close           658011 non-null  float64\n",
      " 7   Volume          658011 non-null  float64\n",
      "dtypes: float64(6), object(2)\n",
      "memory usage: 40.2+ MB\n"
     ]
    }
   ],
   "source": [
    "ltc_master.info()"
   ]
  },
  {
   "cell_type": "markdown",
   "metadata": {},
   "source": [
    "Litecoin data is 54 records short compared to bitcoin and 48 records short compared to ethereum data.\n",
    "\n",
    "##### Looking at the dataframe info there are no null values in any dataset"
   ]
  },
  {
   "cell_type": "markdown",
   "metadata": {},
   "source": [
    "## <span style=\"color:#346888;\">Data cleaning and preparation</span> <a class=\"anchor\" id=\"clean-data\"></a>"
   ]
  },
  {
   "cell_type": "code",
   "execution_count": 9,
   "metadata": {},
   "outputs": [],
   "source": [
    "#Convert the object type Date column to datetime type\n",
    "btc_master['Date'] = pd.to_datetime(btc_master['Date'], format='%m/%d/%Y %H:%M')\n",
    "eth_master['Date'] = pd.to_datetime(eth_master['Date'], format='%m/%d/%Y %H:%M')\n",
    "ltc_master['Date'] = pd.to_datetime(ltc_master['Date'], format='%m/%d/%Y %H:%M')"
   ]
  },
  {
   "cell_type": "markdown",
   "metadata": {},
   "source": [
    "### <span style=\"color:#346888;\">Drop unnecessary columns</span> <a id=\"drop-cols\"></a>\n",
    "\n",
    "As we are trying to understand the correlation between the currencies over a year, the columns of intrest will be `Date`, `close` and `volume`. Apart from these three columns we can drop rest of the data from the dataset."
   ]
  },
  {
   "cell_type": "code",
   "execution_count": 10,
   "metadata": {},
   "outputs": [
    {
     "data": {
      "text/plain": [
       "Index(['Date', 'Close', 'Volume'], dtype='object')"
      ]
     },
     "execution_count": 10,
     "metadata": {},
     "output_type": "execute_result"
    }
   ],
   "source": [
    "#drop from bitcoin\n",
    "btc_master.drop(['Unix Timestamp','Symbol','Open', 'High','Low'], axis = 1, inplace = True)\n",
    "#drop from ethereum \n",
    "eth_master.drop(['Unix Timestamp','Symbol','Open', 'High','Low'], axis = 1, inplace = True)\n",
    "#drop from litecoin\n",
    "ltc_master.drop(['Unix Timestamp','Symbol','Open', 'High','Low'], axis = 1, inplace = True)\n",
    "\n",
    "ltc_master.columns"
   ]
  },
  {
   "cell_type": "markdown",
   "metadata": {},
   "source": [
    "### <span style=\"color:#346888;\">Find missing data</span> <a id=\"missing-rows\"></a>\n",
    "\n",
    "As we noticed that not all three datasets have the same number of records, let us analyse and understand what data is missing."
   ]
  },
  {
   "cell_type": "code",
   "execution_count": 11,
   "metadata": {},
   "outputs": [
    {
     "data": {
      "text/html": [
       "<div>\n",
       "<style scoped>\n",
       "    .dataframe tbody tr th:only-of-type {\n",
       "        vertical-align: middle;\n",
       "    }\n",
       "\n",
       "    .dataframe tbody tr th {\n",
       "        vertical-align: top;\n",
       "    }\n",
       "\n",
       "    .dataframe thead th {\n",
       "        text-align: right;\n",
       "    }\n",
       "</style>\n",
       "<table border=\"1\" class=\"dataframe\">\n",
       "  <thead>\n",
       "    <tr style=\"text-align: right;\">\n",
       "      <th></th>\n",
       "      <th>Date</th>\n",
       "      <th>Close</th>\n",
       "      <th>Volume</th>\n",
       "    </tr>\n",
       "  </thead>\n",
       "  <tbody>\n",
       "    <tr>\n",
       "      <th>12952</th>\n",
       "      <td>2021-04-11 00:08:00</td>\n",
       "      <td>59757.12</td>\n",
       "      <td>0.007522</td>\n",
       "    </tr>\n",
       "    <tr>\n",
       "      <th>14393</th>\n",
       "      <td>2021-04-10 00:03:00</td>\n",
       "      <td>58115.69</td>\n",
       "      <td>0.043307</td>\n",
       "    </tr>\n",
       "    <tr>\n",
       "      <th>43191</th>\n",
       "      <td>2021-03-21 00:04:00</td>\n",
       "      <td>58120.76</td>\n",
       "      <td>7.889050</td>\n",
       "    </tr>\n",
       "    <tr>\n",
       "      <th>63349</th>\n",
       "      <td>2021-03-07 00:06:00</td>\n",
       "      <td>49109.05</td>\n",
       "      <td>0.032708</td>\n",
       "    </tr>\n",
       "    <tr>\n",
       "      <th>93581</th>\n",
       "      <td>2021-02-14 00:08:00</td>\n",
       "      <td>47252.35</td>\n",
       "      <td>0.119529</td>\n",
       "    </tr>\n",
       "    <tr>\n",
       "      <th>103657</th>\n",
       "      <td>2021-02-07 00:07:00</td>\n",
       "      <td>39158.21</td>\n",
       "      <td>2.360374</td>\n",
       "    </tr>\n",
       "    <tr>\n",
       "      <th>109416</th>\n",
       "      <td>2021-02-03 00:04:00</td>\n",
       "      <td>35457.78</td>\n",
       "      <td>0.818440</td>\n",
       "    </tr>\n",
       "    <tr>\n",
       "      <th>113734</th>\n",
       "      <td>2021-01-31 00:06:00</td>\n",
       "      <td>34328.75</td>\n",
       "      <td>2.480243</td>\n",
       "    </tr>\n",
       "    <tr>\n",
       "      <th>123813</th>\n",
       "      <td>2021-01-24 00:05:00</td>\n",
       "      <td>31781.39</td>\n",
       "      <td>0.083153</td>\n",
       "    </tr>\n",
       "    <tr>\n",
       "      <th>143970</th>\n",
       "      <td>2021-01-10 00:04:00</td>\n",
       "      <td>40499.99</td>\n",
       "      <td>0.164603</td>\n",
       "    </tr>\n",
       "    <tr>\n",
       "      <th>187164</th>\n",
       "      <td>2020-12-11 00:03:00</td>\n",
       "      <td>18265.92</td>\n",
       "      <td>0.000000</td>\n",
       "    </tr>\n",
       "    <tr>\n",
       "      <th>192925</th>\n",
       "      <td>2020-12-06 00:03:00</td>\n",
       "      <td>19254.31</td>\n",
       "      <td>30.687611</td>\n",
       "    </tr>\n",
       "    <tr>\n",
       "      <th>241886</th>\n",
       "      <td>2020-11-01 00:03:00</td>\n",
       "      <td>13779.51</td>\n",
       "      <td>0.001698</td>\n",
       "    </tr>\n",
       "    <tr>\n",
       "      <th>253405</th>\n",
       "      <td>2020-10-24 00:03:00</td>\n",
       "      <td>12942.71</td>\n",
       "      <td>0.146458</td>\n",
       "    </tr>\n",
       "    <tr>\n",
       "      <th>309565</th>\n",
       "      <td>2020-09-14 00:01:00</td>\n",
       "      <td>10330.47</td>\n",
       "      <td>0.105931</td>\n",
       "    </tr>\n",
       "    <tr>\n",
       "      <th>390210</th>\n",
       "      <td>2020-07-17 00:00:00</td>\n",
       "      <td>9133.49</td>\n",
       "      <td>0.000000</td>\n",
       "    </tr>\n",
       "    <tr>\n",
       "      <th>609099</th>\n",
       "      <td>2020-02-07 00:02:00</td>\n",
       "      <td>9773.11</td>\n",
       "      <td>0.000000</td>\n",
       "    </tr>\n",
       "    <tr>\n",
       "      <th>646541</th>\n",
       "      <td>2020-01-10 00:01:00</td>\n",
       "      <td>7820.01</td>\n",
       "      <td>0.000000</td>\n",
       "    </tr>\n",
       "  </tbody>\n",
       "</table>\n",
       "</div>"
      ],
      "text/plain": [
       "                      Date     Close     Volume\n",
       "12952  2021-04-11 00:08:00  59757.12   0.007522\n",
       "14393  2021-04-10 00:03:00  58115.69   0.043307\n",
       "43191  2021-03-21 00:04:00  58120.76   7.889050\n",
       "63349  2021-03-07 00:06:00  49109.05   0.032708\n",
       "93581  2021-02-14 00:08:00  47252.35   0.119529\n",
       "103657 2021-02-07 00:07:00  39158.21   2.360374\n",
       "109416 2021-02-03 00:04:00  35457.78   0.818440\n",
       "113734 2021-01-31 00:06:00  34328.75   2.480243\n",
       "123813 2021-01-24 00:05:00  31781.39   0.083153\n",
       "143970 2021-01-10 00:04:00  40499.99   0.164603\n",
       "187164 2020-12-11 00:03:00  18265.92   0.000000\n",
       "192925 2020-12-06 00:03:00  19254.31  30.687611\n",
       "241886 2020-11-01 00:03:00  13779.51   0.001698\n",
       "253405 2020-10-24 00:03:00  12942.71   0.146458\n",
       "309565 2020-09-14 00:01:00  10330.47   0.105931\n",
       "390210 2020-07-17 00:00:00   9133.49   0.000000\n",
       "609099 2020-02-07 00:02:00   9773.11   0.000000\n",
       "646541 2020-01-10 00:01:00   7820.01   0.000000"
      ]
     },
     "execution_count": 11,
     "metadata": {},
     "output_type": "execute_result"
    }
   ],
   "source": [
    "#get all the records in bitcoin dataset but not in ethereum dataset\n",
    "btc_master[~(btc_master['Date'].isin(eth_master[\"Date\"]))]"
   ]
  },
  {
   "cell_type": "code",
   "execution_count": 12,
   "metadata": {},
   "outputs": [
    {
     "data": {
      "text/html": [
       "<div>\n",
       "<style scoped>\n",
       "    .dataframe tbody tr th:only-of-type {\n",
       "        vertical-align: middle;\n",
       "    }\n",
       "\n",
       "    .dataframe tbody tr th {\n",
       "        vertical-align: top;\n",
       "    }\n",
       "\n",
       "    .dataframe thead th {\n",
       "        text-align: right;\n",
       "    }\n",
       "</style>\n",
       "<table border=\"1\" class=\"dataframe\">\n",
       "  <thead>\n",
       "    <tr style=\"text-align: right;\">\n",
       "      <th></th>\n",
       "      <th>Date</th>\n",
       "      <th>Close</th>\n",
       "      <th>Volume</th>\n",
       "    </tr>\n",
       "  </thead>\n",
       "  <tbody>\n",
       "    <tr>\n",
       "      <th>0</th>\n",
       "      <td>2021-04-20 00:03:00</td>\n",
       "      <td>2154.38</td>\n",
       "      <td>0.701288</td>\n",
       "    </tr>\n",
       "    <tr>\n",
       "      <th>12953</th>\n",
       "      <td>2021-04-11 00:04:00</td>\n",
       "      <td>2130.88</td>\n",
       "      <td>0.000000</td>\n",
       "    </tr>\n",
       "    <tr>\n",
       "      <th>93579</th>\n",
       "      <td>2021-02-14 00:03:00</td>\n",
       "      <td>1818.84</td>\n",
       "      <td>0.269269</td>\n",
       "    </tr>\n",
       "    <tr>\n",
       "      <th>103655</th>\n",
       "      <td>2021-02-07 00:03:00</td>\n",
       "      <td>1675.69</td>\n",
       "      <td>2.573782</td>\n",
       "    </tr>\n",
       "    <tr>\n",
       "      <th>174201</th>\n",
       "      <td>2020-12-20 00:02:00</td>\n",
       "      <td>656.70</td>\n",
       "      <td>0.000000</td>\n",
       "    </tr>\n",
       "    <tr>\n",
       "      <th>251959</th>\n",
       "      <td>2020-10-25 00:02:00</td>\n",
       "      <td>412.22</td>\n",
       "      <td>0.000000</td>\n",
       "    </tr>\n",
       "    <tr>\n",
       "      <th>289398</th>\n",
       "      <td>2020-09-29 00:01:00</td>\n",
       "      <td>352.50</td>\n",
       "      <td>0.000000</td>\n",
       "    </tr>\n",
       "    <tr>\n",
       "      <th>295159</th>\n",
       "      <td>2020-09-24 00:02:00</td>\n",
       "      <td>320.00</td>\n",
       "      <td>0.000000</td>\n",
       "    </tr>\n",
       "    <tr>\n",
       "      <th>341243</th>\n",
       "      <td>2020-08-20 00:01:00</td>\n",
       "      <td>408.61</td>\n",
       "      <td>0.000000</td>\n",
       "    </tr>\n",
       "    <tr>\n",
       "      <th>503971</th>\n",
       "      <td>2020-04-23 00:01:00</td>\n",
       "      <td>183.37</td>\n",
       "      <td>0.000000</td>\n",
       "    </tr>\n",
       "    <tr>\n",
       "      <th>591813</th>\n",
       "      <td>2020-02-19 00:03:00</td>\n",
       "      <td>282.23</td>\n",
       "      <td>0.000000</td>\n",
       "    </tr>\n",
       "    <tr>\n",
       "      <th>627814</th>\n",
       "      <td>2020-01-23 00:03:00</td>\n",
       "      <td>167.77</td>\n",
       "      <td>0.000000</td>\n",
       "    </tr>\n",
       "  </tbody>\n",
       "</table>\n",
       "</div>"
      ],
      "text/plain": [
       "                      Date    Close    Volume\n",
       "0      2021-04-20 00:03:00  2154.38  0.701288\n",
       "12953  2021-04-11 00:04:00  2130.88  0.000000\n",
       "93579  2021-02-14 00:03:00  1818.84  0.269269\n",
       "103655 2021-02-07 00:03:00  1675.69  2.573782\n",
       "174201 2020-12-20 00:02:00   656.70  0.000000\n",
       "251959 2020-10-25 00:02:00   412.22  0.000000\n",
       "289398 2020-09-29 00:01:00   352.50  0.000000\n",
       "295159 2020-09-24 00:02:00   320.00  0.000000\n",
       "341243 2020-08-20 00:01:00   408.61  0.000000\n",
       "503971 2020-04-23 00:01:00   183.37  0.000000\n",
       "591813 2020-02-19 00:03:00   282.23  0.000000\n",
       "627814 2020-01-23 00:03:00   167.77  0.000000"
      ]
     },
     "execution_count": 12,
     "metadata": {},
     "output_type": "execute_result"
    }
   ],
   "source": [
    "#get all the records in ethereum dataset but not in bitcoin dataset\n",
    "eth_master[~(eth_master['Date'].isin(btc_master[\"Date\"]))]"
   ]
  },
  {
   "cell_type": "code",
   "execution_count": 13,
   "metadata": {},
   "outputs": [
    {
     "data": {
      "text/plain": [
       "Date      47\n",
       "Close     47\n",
       "Volume    47\n",
       "dtype: int64"
      ]
     },
     "execution_count": 13,
     "metadata": {},
     "output_type": "execute_result"
    }
   ],
   "source": [
    "#get all the records in litecoin dataset but not in bitcoin dataset\n",
    "ltc_master[~(ltc_master['Date'].isin(btc_master[\"Date\"]))].count()"
   ]
  },
  {
   "cell_type": "code",
   "execution_count": 14,
   "metadata": {},
   "outputs": [
    {
     "data": {
      "text/plain": [
       "Date      41\n",
       "Close     41\n",
       "Volume    41\n",
       "dtype: int64"
      ]
     },
     "execution_count": 14,
     "metadata": {},
     "output_type": "execute_result"
    }
   ],
   "source": [
    "#get all the records in litecoin dataset but not in ethereum dataset\n",
    "ltc_master[~(ltc_master['Date'].isin(eth_master[\"Date\"]))].count()"
   ]
  },
  {
   "cell_type": "markdown",
   "metadata": {},
   "source": [
    "Looking at the records missing, there does not seem to be any obvious pattern as to why the data is missing. We have the data by the minute of the hour, for understanding the correlation we plan to aggregate the currency data by day. As we do not have more than a couple of minutes data missing for some days the missing data proportion is negligible in this usecase. Hence, the missing values need not be treated."
   ]
  },
  {
   "cell_type": "markdown",
   "metadata": {},
   "source": [
    "### <span style=\"color:#346888;\">Data aggregation</span> <a id=\"data-agg\"></a>"
   ]
  },
  {
   "cell_type": "markdown",
   "metadata": {},
   "source": [
    "##### <span style=\"color:#346888;\">Bitcoin</span>"
   ]
  },
  {
   "cell_type": "code",
   "execution_count": 15,
   "metadata": {},
   "outputs": [
    {
     "data": {
      "text/html": [
       "<div>\n",
       "<style scoped>\n",
       "    .dataframe tbody tr th:only-of-type {\n",
       "        vertical-align: middle;\n",
       "    }\n",
       "\n",
       "    .dataframe tbody tr th {\n",
       "        vertical-align: top;\n",
       "    }\n",
       "\n",
       "    .dataframe thead th {\n",
       "        text-align: right;\n",
       "    }\n",
       "</style>\n",
       "<table border=\"1\" class=\"dataframe\">\n",
       "  <thead>\n",
       "    <tr style=\"text-align: right;\">\n",
       "      <th></th>\n",
       "      <th>Close</th>\n",
       "      <th>Volume</th>\n",
       "    </tr>\n",
       "    <tr>\n",
       "      <th>Date</th>\n",
       "      <th></th>\n",
       "      <th></th>\n",
       "    </tr>\n",
       "  </thead>\n",
       "  <tbody>\n",
       "    <tr>\n",
       "      <th>2020-01-01</th>\n",
       "      <td>7195.641243</td>\n",
       "      <td>776.641615</td>\n",
       "    </tr>\n",
       "    <tr>\n",
       "      <th>2020-01-02</th>\n",
       "      <td>7072.362910</td>\n",
       "      <td>984.141603</td>\n",
       "    </tr>\n",
       "    <tr>\n",
       "      <th>2020-01-03</th>\n",
       "      <td>7215.680840</td>\n",
       "      <td>1292.330594</td>\n",
       "    </tr>\n",
       "    <tr>\n",
       "      <th>2020-01-04</th>\n",
       "      <td>7320.664035</td>\n",
       "      <td>402.636843</td>\n",
       "    </tr>\n",
       "    <tr>\n",
       "      <th>2020-01-05</th>\n",
       "      <td>7429.535437</td>\n",
       "      <td>554.773602</td>\n",
       "    </tr>\n",
       "  </tbody>\n",
       "</table>\n",
       "</div>"
      ],
      "text/plain": [
       "                  Close       Volume\n",
       "Date                                \n",
       "2020-01-01  7195.641243   776.641615\n",
       "2020-01-02  7072.362910   984.141603\n",
       "2020-01-03  7215.680840  1292.330594\n",
       "2020-01-04  7320.664035   402.636843\n",
       "2020-01-05  7429.535437   554.773602"
      ]
     },
     "execution_count": 15,
     "metadata": {},
     "output_type": "execute_result"
    }
   ],
   "source": [
    "#Loose the time information\n",
    "btc_master['Date'] = btc_master['Date'].dt.date\n",
    "\n",
    "#Aggregate by date\n",
    "btc_grouped = pd.pivot_table(btc_master, values=['Close', 'Volume'], index=['Date'],\n",
    "                    aggfunc={'Close': np.mean,\n",
    "                             'Volume': np.sum})\n",
    "\n",
    "btc_grouped.head()"
   ]
  },
  {
   "cell_type": "code",
   "execution_count": 16,
   "metadata": {},
   "outputs": [
    {
     "data": {
      "text/plain": [
       "(476, 2)"
      ]
     },
     "execution_count": 16,
     "metadata": {},
     "output_type": "execute_result"
    }
   ],
   "source": [
    "btc_grouped.shape"
   ]
  },
  {
   "cell_type": "markdown",
   "metadata": {},
   "source": [
    "##### <span style=\"color:#346888;\">Ethereum</span>"
   ]
  },
  {
   "cell_type": "code",
   "execution_count": 17,
   "metadata": {},
   "outputs": [
    {
     "data": {
      "text/html": [
       "<div>\n",
       "<style scoped>\n",
       "    .dataframe tbody tr th:only-of-type {\n",
       "        vertical-align: middle;\n",
       "    }\n",
       "\n",
       "    .dataframe tbody tr th {\n",
       "        vertical-align: top;\n",
       "    }\n",
       "\n",
       "    .dataframe thead th {\n",
       "        text-align: right;\n",
       "    }\n",
       "</style>\n",
       "<table border=\"1\" class=\"dataframe\">\n",
       "  <thead>\n",
       "    <tr style=\"text-align: right;\">\n",
       "      <th></th>\n",
       "      <th>Close</th>\n",
       "      <th>Volume</th>\n",
       "    </tr>\n",
       "    <tr>\n",
       "      <th>Date</th>\n",
       "      <th></th>\n",
       "      <th></th>\n",
       "    </tr>\n",
       "  </thead>\n",
       "  <tbody>\n",
       "    <tr>\n",
       "      <th>2020-01-01</th>\n",
       "      <td>130.576681</td>\n",
       "      <td>10641.079145</td>\n",
       "    </tr>\n",
       "    <tr>\n",
       "      <th>2020-01-02</th>\n",
       "      <td>128.530792</td>\n",
       "      <td>11842.451144</td>\n",
       "    </tr>\n",
       "    <tr>\n",
       "      <th>2020-01-03</th>\n",
       "      <td>130.885833</td>\n",
       "      <td>22800.226361</td>\n",
       "    </tr>\n",
       "    <tr>\n",
       "      <th>2020-01-04</th>\n",
       "      <td>133.554104</td>\n",
       "      <td>7537.048701</td>\n",
       "    </tr>\n",
       "    <tr>\n",
       "      <th>2020-01-05</th>\n",
       "      <td>136.036493</td>\n",
       "      <td>7015.126626</td>\n",
       "    </tr>\n",
       "  </tbody>\n",
       "</table>\n",
       "</div>"
      ],
      "text/plain": [
       "                 Close        Volume\n",
       "Date                                \n",
       "2020-01-01  130.576681  10641.079145\n",
       "2020-01-02  128.530792  11842.451144\n",
       "2020-01-03  130.885833  22800.226361\n",
       "2020-01-04  133.554104   7537.048701\n",
       "2020-01-05  136.036493   7015.126626"
      ]
     },
     "execution_count": 17,
     "metadata": {},
     "output_type": "execute_result"
    }
   ],
   "source": [
    "#Loose the time information\n",
    "eth_master['Date'] = eth_master['Date'].dt.date\n",
    "\n",
    "#Aggregate by date\n",
    "eth_grouped = pd.pivot_table(eth_master, values=['Close', 'Volume'], index=['Date'],\n",
    "                    aggfunc={'Close': np.mean,\n",
    "                             'Volume': np.sum})\n",
    "eth_grouped.head()"
   ]
  },
  {
   "cell_type": "code",
   "execution_count": 18,
   "metadata": {},
   "outputs": [
    {
     "data": {
      "text/plain": [
       "(476, 2)"
      ]
     },
     "execution_count": 18,
     "metadata": {},
     "output_type": "execute_result"
    }
   ],
   "source": [
    "eth_grouped.shape"
   ]
  },
  {
   "cell_type": "markdown",
   "metadata": {},
   "source": [
    "##### <span style=\"color:#346888;\">Litecoin</span>"
   ]
  },
  {
   "cell_type": "code",
   "execution_count": 19,
   "metadata": {},
   "outputs": [
    {
     "data": {
      "text/html": [
       "<div>\n",
       "<style scoped>\n",
       "    .dataframe tbody tr th:only-of-type {\n",
       "        vertical-align: middle;\n",
       "    }\n",
       "\n",
       "    .dataframe tbody tr th {\n",
       "        vertical-align: top;\n",
       "    }\n",
       "\n",
       "    .dataframe thead th {\n",
       "        text-align: right;\n",
       "    }\n",
       "</style>\n",
       "<table border=\"1\" class=\"dataframe\">\n",
       "  <thead>\n",
       "    <tr style=\"text-align: right;\">\n",
       "      <th></th>\n",
       "      <th>Close</th>\n",
       "      <th>Volume</th>\n",
       "    </tr>\n",
       "    <tr>\n",
       "      <th>Date</th>\n",
       "      <th></th>\n",
       "      <th></th>\n",
       "    </tr>\n",
       "  </thead>\n",
       "  <tbody>\n",
       "    <tr>\n",
       "      <th>2020-01-01</th>\n",
       "      <td>41.603819</td>\n",
       "      <td>1149.199683</td>\n",
       "    </tr>\n",
       "    <tr>\n",
       "      <th>2020-01-02</th>\n",
       "      <td>40.708660</td>\n",
       "      <td>5119.431567</td>\n",
       "    </tr>\n",
       "    <tr>\n",
       "      <th>2020-01-03</th>\n",
       "      <td>41.014042</td>\n",
       "      <td>6299.303403</td>\n",
       "    </tr>\n",
       "    <tr>\n",
       "      <th>2020-01-04</th>\n",
       "      <td>42.302889</td>\n",
       "      <td>1828.613739</td>\n",
       "    </tr>\n",
       "    <tr>\n",
       "      <th>2020-01-05</th>\n",
       "      <td>43.264583</td>\n",
       "      <td>6388.375047</td>\n",
       "    </tr>\n",
       "  </tbody>\n",
       "</table>\n",
       "</div>"
      ],
      "text/plain": [
       "                Close       Volume\n",
       "Date                              \n",
       "2020-01-01  41.603819  1149.199683\n",
       "2020-01-02  40.708660  5119.431567\n",
       "2020-01-03  41.014042  6299.303403\n",
       "2020-01-04  42.302889  1828.613739\n",
       "2020-01-05  43.264583  6388.375047"
      ]
     },
     "execution_count": 19,
     "metadata": {},
     "output_type": "execute_result"
    }
   ],
   "source": [
    "#Loose the time information\n",
    "ltc_master['Date'] = ltc_master['Date'].dt.date\n",
    "\n",
    "#Aggregate by date\n",
    "ltc_grouped = pd.pivot_table(ltc_master, values=['Close', 'Volume'], index=['Date'],\n",
    "                    aggfunc={'Close': np.mean,\n",
    "                             'Volume': np.sum})\n",
    "ltc_grouped.head()"
   ]
  },
  {
   "cell_type": "code",
   "execution_count": 20,
   "metadata": {},
   "outputs": [
    {
     "data": {
      "text/plain": [
       "(476, 2)"
      ]
     },
     "execution_count": 20,
     "metadata": {},
     "output_type": "execute_result"
    }
   ],
   "source": [
    "ltc_grouped.shape"
   ]
  },
  {
   "cell_type": "markdown",
   "metadata": {},
   "source": [
    "<u>Once the data is aggregated we can see we have data for all the three currencies for 476 days.</u>"
   ]
  },
  {
   "cell_type": "markdown",
   "metadata": {},
   "source": [
    "## <span style=\"color:#346888;\">Understanding the trends</span> <a id=\"trend\"></a>"
   ]
  },
  {
   "cell_type": "markdown",
   "metadata": {},
   "source": [
    "Let's ask some questions to understand the trends\n",
    "\n",
    "#### What is the highest average closing value between Jan-2020 and 2021-04-14?"
   ]
  },
  {
   "cell_type": "code",
   "execution_count": 21,
   "metadata": {},
   "outputs": [
    {
     "name": "stdout",
     "output_type": "stream",
     "text": [
      "Highest average value of BTC  63451.637131944444 was recorded on  2021-04-14\n",
      "Highest average value of ETH  2461.6089722222223 was recorded on  2021-04-15\n",
      "Highest average value of LTC  318.223125 was recorded on  2021-04-17\n"
     ]
    }
   ],
   "source": [
    "btc = btc_grouped['Close'].max()\n",
    "eth = eth_grouped['Close'].max()\n",
    "ltc = ltc_grouped['Close'].max()\n",
    "\n",
    "#What is the highest closing value of Bitcoin and when\n",
    "print(\"Highest average value of BTC \", btc,\"was recorded on \",btc_grouped[btc_grouped['Close'] == btc].index.values[0])\n",
    "\n",
    "#What is the highest closing value of Ethereum and when\n",
    "print(\"Highest average value of ETH \", eth,\"was recorded on \",eth_grouped[eth_grouped['Close'] == eth].index.values[0])\n",
    "\n",
    "#What is the highest closing value of Litecoin and when\n",
    "print(\"Highest average value of LTC \", ltc,\"was recorded on \",ltc_grouped[ltc_grouped['Close'] == ltc].index.values[0])\n"
   ]
  },
  {
   "cell_type": "markdown",
   "metadata": {},
   "source": [
    "The value of bitcoin is far higher compared to its counterparts. "
   ]
  },
  {
   "cell_type": "markdown",
   "metadata": {},
   "source": [
    "#### What is the highest volume transacted in one day between Jan-2020 and 2021-04-14?"
   ]
  },
  {
   "cell_type": "code",
   "execution_count": 22,
   "metadata": {},
   "outputs": [
    {
     "name": "stdout",
     "output_type": "stream",
     "text": [
      "Highest volume of BTC  18928.801040246 was recorded on  2020-03-13\n",
      "Highest volume of ETH  206706.02655481 was recorded on  2020-03-12\n",
      "Highest volume of LTC  204353.8343832 was recorded on  2021-01-11\n"
     ]
    }
   ],
   "source": [
    "btc = btc_grouped['Volume'].max()\n",
    "eth = eth_grouped['Volume'].max()\n",
    "ltc = ltc_grouped['Volume'].max()\n",
    "\n",
    "\n",
    "#What is the highest closing volume of Bitcoin and when\n",
    "print(\"Highest volume of BTC \", btc,\"was recorded on \",\n",
    "      btc_grouped[btc_grouped['Volume'] == btc].index.values[0])\n",
    "\n",
    "#What is the highest closing volume of Ethereum and when\n",
    "print(\"Highest volume of ETH \", eth,\"was recorded on \",\n",
    "     eth_grouped[eth_grouped['Volume'] == eth].index.values[0])\n",
    "\n",
    "#What is the highest closing volume of Litecoin and when\n",
    "print(\"Highest volume of LTC \", ltc,\"was recorded on \",\n",
    "     ltc_grouped[ltc_grouped['Volume'] == ltc].index.values[0])"
   ]
  },
  {
   "cell_type": "markdown",
   "metadata": {},
   "source": [
    "Far more number of ethereum and litecoins have been transacted compared to bitcoins"
   ]
  },
  {
   "cell_type": "markdown",
   "metadata": {},
   "source": [
    "#### What was the average closing value when the highest volume was transacted between Jan-2020 and 2021-04-14"
   ]
  },
  {
   "cell_type": "code",
   "execution_count": 23,
   "metadata": {},
   "outputs": [
    {
     "name": "stdout",
     "output_type": "stream",
     "text": [
      "Highest volume of BTC was 18928.801040246 and mean closing value on that day was 5313.687326388889\n",
      "Highest volume of ETH  206706.02655481 and mean closing value on that day was  154.3535347222222\n",
      "Highest volume of LTC  204353.8343832 and mean closing value on that day was  139.52608333333333\n"
     ]
    }
   ],
   "source": [
    "btc = btc_grouped[btc_grouped['Volume'] == btc_grouped['Volume'].max()]['Close'].values[0]\n",
    "eth = eth_grouped[eth_grouped['Volume'] == eth_grouped['Volume'].max()]['Close'].values[0]\n",
    "ltc = ltc_grouped[ltc_grouped['Volume'] == ltc_grouped['Volume'].max()]['Close'].values[0]\n",
    "\n",
    "#What is the closing value of Bitcoin and when the highest volume was transacted \n",
    "print(\"Highest volume of BTC was\", btc_grouped['Volume'].max(),\"and mean closing value on that day was\",btc)\n",
    "\n",
    "#What is the highest closing volume of Ethereum and when\n",
    "print(\"Highest volume of ETH \", eth_grouped['Volume'].max(),\"and mean closing value on that day was \",eth)\n",
    "\n",
    "#What is the highest closing volume of Litecoin and when\n",
    "print(\"Highest volume of LTC \", ltc_grouped['Volume'].max(),\"and mean closing value on that day was \",ltc)\n"
   ]
  },
  {
   "cell_type": "markdown",
   "metadata": {},
   "source": [
    "#### Was the average closing value at its lowest when highest volume was transacted"
   ]
  },
  {
   "cell_type": "code",
   "execution_count": 24,
   "metadata": {},
   "outputs": [
    {
     "name": "stdout",
     "output_type": "stream",
     "text": [
      "Lowest average closing value of BTC  4987.150173611111\n",
      "Lowest average closing value of ETH  112.70609027777778\n",
      "Lowest average closing value of LTC  33.027368055555556\n"
     ]
    }
   ],
   "source": [
    "#What is the closing value of Bitcoin and when the highest volume was transacted \n",
    "print(\"Lowest average closing value of BTC \", btc_grouped['Close'].min())\n",
    "\n",
    "#What is the closing value of Bitcoin and when the highest volume was transacted \n",
    "print(\"Lowest average closing value of ETH \", eth_grouped['Close'].min())\n",
    "\n",
    "#What is the closing value of Bitcoin and when the highest volume was transacted \n",
    "print(\"Lowest average closing value of LTC \", ltc_grouped['Close'].min())"
   ]
  },
  {
   "cell_type": "markdown",
   "metadata": {},
   "source": [
    "Interestingly, the highest volumn was not transacted when the average closing value was at its least."
   ]
  },
  {
   "cell_type": "markdown",
   "metadata": {},
   "source": [
    "#### How did the average closing value vary by time for bitcoin"
   ]
  },
  {
   "cell_type": "markdown",
   "metadata": {},
   "source": [
    "## <span style=\"color:#346888;\">Correlation</span> <a id=\"corr\"></a>"
   ]
  },
  {
   "cell_type": "markdown",
   "metadata": {},
   "source": [
    "Let us merge all the three data sets to analyse the correlation of average closing value and the volume of all the three currencies"
   ]
  },
  {
   "cell_type": "code",
   "execution_count": 25,
   "metadata": {},
   "outputs": [
    {
     "data": {
      "text/html": [
       "<div>\n",
       "<style scoped>\n",
       "    .dataframe tbody tr th:only-of-type {\n",
       "        vertical-align: middle;\n",
       "    }\n",
       "\n",
       "    .dataframe tbody tr th {\n",
       "        vertical-align: top;\n",
       "    }\n",
       "\n",
       "    .dataframe thead th {\n",
       "        text-align: right;\n",
       "    }\n",
       "</style>\n",
       "<table border=\"1\" class=\"dataframe\">\n",
       "  <thead>\n",
       "    <tr style=\"text-align: right;\">\n",
       "      <th></th>\n",
       "      <th>Close_btc</th>\n",
       "      <th>Volume_btc</th>\n",
       "      <th>Close_eth</th>\n",
       "      <th>Volume_eth</th>\n",
       "    </tr>\n",
       "    <tr>\n",
       "      <th>Date</th>\n",
       "      <th></th>\n",
       "      <th></th>\n",
       "      <th></th>\n",
       "      <th></th>\n",
       "    </tr>\n",
       "  </thead>\n",
       "  <tbody>\n",
       "    <tr>\n",
       "      <th>2020-01-01</th>\n",
       "      <td>7195.641243</td>\n",
       "      <td>776.641615</td>\n",
       "      <td>130.576681</td>\n",
       "      <td>10641.079145</td>\n",
       "    </tr>\n",
       "    <tr>\n",
       "      <th>2020-01-02</th>\n",
       "      <td>7072.362910</td>\n",
       "      <td>984.141603</td>\n",
       "      <td>128.530792</td>\n",
       "      <td>11842.451144</td>\n",
       "    </tr>\n",
       "    <tr>\n",
       "      <th>2020-01-03</th>\n",
       "      <td>7215.680840</td>\n",
       "      <td>1292.330594</td>\n",
       "      <td>130.885833</td>\n",
       "      <td>22800.226361</td>\n",
       "    </tr>\n",
       "    <tr>\n",
       "      <th>2020-01-04</th>\n",
       "      <td>7320.664035</td>\n",
       "      <td>402.636843</td>\n",
       "      <td>133.554104</td>\n",
       "      <td>7537.048701</td>\n",
       "    </tr>\n",
       "    <tr>\n",
       "      <th>2020-01-05</th>\n",
       "      <td>7429.535437</td>\n",
       "      <td>554.773602</td>\n",
       "      <td>136.036493</td>\n",
       "      <td>7015.126626</td>\n",
       "    </tr>\n",
       "  </tbody>\n",
       "</table>\n",
       "</div>"
      ],
      "text/plain": [
       "              Close_btc   Volume_btc   Close_eth    Volume_eth\n",
       "Date                                                          \n",
       "2020-01-01  7195.641243   776.641615  130.576681  10641.079145\n",
       "2020-01-02  7072.362910   984.141603  128.530792  11842.451144\n",
       "2020-01-03  7215.680840  1292.330594  130.885833  22800.226361\n",
       "2020-01-04  7320.664035   402.636843  133.554104   7537.048701\n",
       "2020-01-05  7429.535437   554.773602  136.036493   7015.126626"
      ]
     },
     "execution_count": 25,
     "metadata": {},
     "output_type": "execute_result"
    }
   ],
   "source": [
    "#Merge bitcoin and ethereum data\n",
    "btc_eth = pd.merge(btc_grouped, eth_grouped, suffixes=('_btc', '_eth'), left_index=True, right_index=True)\n",
    "btc_eth.head()"
   ]
  },
  {
   "cell_type": "code",
   "execution_count": 26,
   "metadata": {},
   "outputs": [
    {
     "data": {
      "text/html": [
       "<div>\n",
       "<style scoped>\n",
       "    .dataframe tbody tr th:only-of-type {\n",
       "        vertical-align: middle;\n",
       "    }\n",
       "\n",
       "    .dataframe tbody tr th {\n",
       "        vertical-align: top;\n",
       "    }\n",
       "\n",
       "    .dataframe thead th {\n",
       "        text-align: right;\n",
       "    }\n",
       "</style>\n",
       "<table border=\"1\" class=\"dataframe\">\n",
       "  <thead>\n",
       "    <tr style=\"text-align: right;\">\n",
       "      <th></th>\n",
       "      <th>Close_btc</th>\n",
       "      <th>Volume_btc</th>\n",
       "      <th>Close_eth</th>\n",
       "      <th>Volume_eth</th>\n",
       "      <th>Close_ltc</th>\n",
       "      <th>Volume_ltc</th>\n",
       "    </tr>\n",
       "    <tr>\n",
       "      <th>Date</th>\n",
       "      <th></th>\n",
       "      <th></th>\n",
       "      <th></th>\n",
       "      <th></th>\n",
       "      <th></th>\n",
       "      <th></th>\n",
       "    </tr>\n",
       "  </thead>\n",
       "  <tbody>\n",
       "    <tr>\n",
       "      <th>2020-01-01</th>\n",
       "      <td>7195.641243</td>\n",
       "      <td>776.641615</td>\n",
       "      <td>130.576681</td>\n",
       "      <td>10641.079145</td>\n",
       "      <td>41.603819</td>\n",
       "      <td>1149.199683</td>\n",
       "    </tr>\n",
       "    <tr>\n",
       "      <th>2020-01-02</th>\n",
       "      <td>7072.362910</td>\n",
       "      <td>984.141603</td>\n",
       "      <td>128.530792</td>\n",
       "      <td>11842.451144</td>\n",
       "      <td>40.708660</td>\n",
       "      <td>5119.431567</td>\n",
       "    </tr>\n",
       "    <tr>\n",
       "      <th>2020-01-03</th>\n",
       "      <td>7215.680840</td>\n",
       "      <td>1292.330594</td>\n",
       "      <td>130.885833</td>\n",
       "      <td>22800.226361</td>\n",
       "      <td>41.014042</td>\n",
       "      <td>6299.303403</td>\n",
       "    </tr>\n",
       "    <tr>\n",
       "      <th>2020-01-04</th>\n",
       "      <td>7320.664035</td>\n",
       "      <td>402.636843</td>\n",
       "      <td>133.554104</td>\n",
       "      <td>7537.048701</td>\n",
       "      <td>42.302889</td>\n",
       "      <td>1828.613739</td>\n",
       "    </tr>\n",
       "    <tr>\n",
       "      <th>2020-01-05</th>\n",
       "      <td>7429.535437</td>\n",
       "      <td>554.773602</td>\n",
       "      <td>136.036493</td>\n",
       "      <td>7015.126626</td>\n",
       "      <td>43.264583</td>\n",
       "      <td>6388.375047</td>\n",
       "    </tr>\n",
       "  </tbody>\n",
       "</table>\n",
       "</div>"
      ],
      "text/plain": [
       "              Close_btc   Volume_btc   Close_eth    Volume_eth  Close_ltc  \\\n",
       "Date                                                                        \n",
       "2020-01-01  7195.641243   776.641615  130.576681  10641.079145  41.603819   \n",
       "2020-01-02  7072.362910   984.141603  128.530792  11842.451144  40.708660   \n",
       "2020-01-03  7215.680840  1292.330594  130.885833  22800.226361  41.014042   \n",
       "2020-01-04  7320.664035   402.636843  133.554104   7537.048701  42.302889   \n",
       "2020-01-05  7429.535437   554.773602  136.036493   7015.126626  43.264583   \n",
       "\n",
       "             Volume_ltc  \n",
       "Date                     \n",
       "2020-01-01  1149.199683  \n",
       "2020-01-02  5119.431567  \n",
       "2020-01-03  6299.303403  \n",
       "2020-01-04  1828.613739  \n",
       "2020-01-05  6388.375047  "
      ]
     },
     "execution_count": 26,
     "metadata": {},
     "output_type": "execute_result"
    }
   ],
   "source": [
    "#Merge litecoin with other two\n",
    "btc_eth_ltc = pd.merge(btc_eth, ltc_grouped, left_index=True, right_index=True)\n",
    "btc_eth_ltc.rename(columns={\"Close\": \"Close_ltc\", \"Volume\": \"Volume_ltc\"}, inplace=True)\n",
    "btc_eth_ltc.head()"
   ]
  },
  {
   "cell_type": "code",
   "execution_count": 27,
   "metadata": {},
   "outputs": [
    {
     "data": {
      "text/html": [
       "<div>\n",
       "<style scoped>\n",
       "    .dataframe tbody tr th:only-of-type {\n",
       "        vertical-align: middle;\n",
       "    }\n",
       "\n",
       "    .dataframe tbody tr th {\n",
       "        vertical-align: top;\n",
       "    }\n",
       "\n",
       "    .dataframe thead th {\n",
       "        text-align: right;\n",
       "    }\n",
       "</style>\n",
       "<table border=\"1\" class=\"dataframe\">\n",
       "  <thead>\n",
       "    <tr style=\"text-align: right;\">\n",
       "      <th></th>\n",
       "      <th>Close_btc</th>\n",
       "      <th>Volume_btc</th>\n",
       "      <th>Close_eth</th>\n",
       "      <th>Volume_eth</th>\n",
       "      <th>Close_ltc</th>\n",
       "      <th>Volume_ltc</th>\n",
       "    </tr>\n",
       "  </thead>\n",
       "  <tbody>\n",
       "    <tr>\n",
       "      <th>Close_btc</th>\n",
       "      <td>1.000000</td>\n",
       "      <td>0.019898</td>\n",
       "      <td>0.987148</td>\n",
       "      <td>0.230203</td>\n",
       "      <td>0.978353</td>\n",
       "      <td>0.450823</td>\n",
       "    </tr>\n",
       "    <tr>\n",
       "      <th>Volume_btc</th>\n",
       "      <td>0.019898</td>\n",
       "      <td>1.000000</td>\n",
       "      <td>0.023653</td>\n",
       "      <td>0.799471</td>\n",
       "      <td>0.018683</td>\n",
       "      <td>0.639422</td>\n",
       "    </tr>\n",
       "    <tr>\n",
       "      <th>Close_eth</th>\n",
       "      <td>0.987148</td>\n",
       "      <td>0.023653</td>\n",
       "      <td>1.000000</td>\n",
       "      <td>0.225287</td>\n",
       "      <td>0.975283</td>\n",
       "      <td>0.455818</td>\n",
       "    </tr>\n",
       "    <tr>\n",
       "      <th>Volume_eth</th>\n",
       "      <td>0.230203</td>\n",
       "      <td>0.799471</td>\n",
       "      <td>0.225287</td>\n",
       "      <td>1.000000</td>\n",
       "      <td>0.258728</td>\n",
       "      <td>0.736889</td>\n",
       "    </tr>\n",
       "    <tr>\n",
       "      <th>Close_ltc</th>\n",
       "      <td>0.978353</td>\n",
       "      <td>0.018683</td>\n",
       "      <td>0.975283</td>\n",
       "      <td>0.258728</td>\n",
       "      <td>1.000000</td>\n",
       "      <td>0.495338</td>\n",
       "    </tr>\n",
       "    <tr>\n",
       "      <th>Volume_ltc</th>\n",
       "      <td>0.450823</td>\n",
       "      <td>0.639422</td>\n",
       "      <td>0.455818</td>\n",
       "      <td>0.736889</td>\n",
       "      <td>0.495338</td>\n",
       "      <td>1.000000</td>\n",
       "    </tr>\n",
       "  </tbody>\n",
       "</table>\n",
       "</div>"
      ],
      "text/plain": [
       "            Close_btc  Volume_btc  Close_eth  Volume_eth  Close_ltc  \\\n",
       "Close_btc    1.000000    0.019898   0.987148    0.230203   0.978353   \n",
       "Volume_btc   0.019898    1.000000   0.023653    0.799471   0.018683   \n",
       "Close_eth    0.987148    0.023653   1.000000    0.225287   0.975283   \n",
       "Volume_eth   0.230203    0.799471   0.225287    1.000000   0.258728   \n",
       "Close_ltc    0.978353    0.018683   0.975283    0.258728   1.000000   \n",
       "Volume_ltc   0.450823    0.639422   0.455818    0.736889   0.495338   \n",
       "\n",
       "            Volume_ltc  \n",
       "Close_btc     0.450823  \n",
       "Volume_btc    0.639422  \n",
       "Close_eth     0.455818  \n",
       "Volume_eth    0.736889  \n",
       "Close_ltc     0.495338  \n",
       "Volume_ltc    1.000000  "
      ]
     },
     "execution_count": 27,
     "metadata": {},
     "output_type": "execute_result"
    }
   ],
   "source": [
    "#Corelation between the currencies\n",
    "btc_eth_ltc.corr()"
   ]
  }
 ],
 "metadata": {
  "kernelspec": {
   "display_name": "Python 3 (ipykernel)",
   "language": "python",
   "name": "python3"
  },
  "language_info": {
   "codemirror_mode": {
    "name": "ipython",
    "version": 3
   },
   "file_extension": ".py",
   "mimetype": "text/x-python",
   "name": "python",
   "nbconvert_exporter": "python",
   "pygments_lexer": "ipython3",
   "version": "3.9.13"
  }
 },
 "nbformat": 4,
 "nbformat_minor": 4
}
