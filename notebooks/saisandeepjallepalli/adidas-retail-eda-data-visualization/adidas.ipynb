{
 "cells": [
  {
   "cell_type": "code",
   "execution_count": 1,
   "id": "f1171790",
   "metadata": {},
   "outputs": [],
   "source": [
    "import os\n",
    "SNAPPY_notebook_path = os.path.join(os.path.abspath(\"\"), \"bench.ipynb\")"
   ]
  },
  {
   "cell_type": "code",
   "execution_count": 2,
   "id": "1b28fae5",
   "metadata": {},
   "outputs": [],
   "source": [
    "import time\n",
    "SNAPPY_start_time = time.perf_counter_ns()"
   ]
  },
  {
   "cell_type": "code",
   "execution_count": 3,
   "id": "d39dff5b",
   "metadata": {},
   "outputs": [
    {
     "name": "stdout",
     "output_type": "stream",
     "text": [
      "time: 42.1 µs (started: 2024-05-22 22:02:50 -04:00)\n"
     ]
    }
   ],
   "source": [
    "%load_ext autotime"
   ]
  },
  {
   "cell_type": "markdown",
   "metadata": {},
   "source": [
    "<a id=\"1\"></a>\n",
    "# <p style=\"padding:10px;background-color:#A23434;margin:0;color:#CDCA34;font-family:newtimeroman;font-size:100%;text-align:center;border-radius: 15px 50px;overflow:hidden;font-weight:500\">Importing Libraries</p>"
   ]
  },
  {
   "cell_type": "code",
   "execution_count": 4,
   "metadata": {
    "_cell_guid": "b1076dfc-b9ad-4769-8c92-a6c4dae69d19",
    "_uuid": "8f2839f25d086af736a60e9eeb907d3b93b6e0e5",
    "execution": {
     "iopub.execute_input": "2022-11-03T12:30:24.058351Z",
     "iopub.status.busy": "2022-11-03T12:30:24.057921Z",
     "iopub.status.idle": "2022-11-03T12:30:24.070233Z",
     "shell.execute_reply": "2022-11-03T12:30:24.068536Z",
     "shell.execute_reply.started": "2022-11-03T12:30:24.058316Z"
    }
   },
   "outputs": [
    {
     "name": "stdout",
     "output_type": "stream",
     "text": [
      "time: 312 ms (started: 2024-05-22 22:02:50 -04:00)\n"
     ]
    }
   ],
   "source": [
    "# This Python 3 environment comes with many helpful analytics libraries installed\n",
    "# It is defined by the kaggle/python Docker image: https://github.com/kaggle/docker-python\n",
    "# For example, here's several helpful packages to load\n",
    "\n",
    "import numpy as np # linear algebra\n",
    "import os\n",
    "# STEFANOS: Conditionally import Modin Pandas\n",
    "import pandas as pd\n",
    "\n",
    "# Input data files are available in the read-only \"input/\" directory\n",
    "# For example, running this (by clicking run or pressing Shift+Enter) will list all files under the input directory\n",
    "\n",
    "import os\n",
    "for dirname, _, filenames in os.walk('/kaggle/input'):\n",
    "    for filename in filenames:\n",
    "        print(os.path.join(dirname, filename))\n",
    "\n",
    "# You can write up to 20GB to the current directory (/kaggle/working/) that gets preserved as output when you create a version using \"Save & Run All\" \n",
    "# You can also write temporary files to /kaggle/temp/, but they won't be saved outside of the current session"
   ]
  },
  {
   "cell_type": "markdown",
   "metadata": {},
   "source": [
    "<a id=\"1\"></a>\n",
    "# <p style=\"padding:10px;background-color:#A23434;margin:0;color:#CDCA34;font-family:newtimeroman;font-size:100%;text-align:center;border-radius: 15px 50px;overflow:hidden;font-weight:500\">Reading Dataset</p>"
   ]
  },
  {
   "cell_type": "code",
   "execution_count": 5,
   "metadata": {
    "execution": {
     "iopub.execute_input": "2022-11-03T12:30:24.073813Z",
     "iopub.status.busy": "2022-11-03T12:30:24.072224Z",
     "iopub.status.idle": "2022-11-03T12:30:24.111518Z",
     "shell.execute_reply": "2022-11-03T12:30:24.110262Z",
     "shell.execute_reply.started": "2022-11-03T12:30:24.073761Z"
    }
   },
   "outputs": [
    {
     "name": "stdout",
     "output_type": "stream",
     "text": [
      "time: 15.8 ms (started: 2024-05-22 22:02:50 -04:00)\n"
     ]
    }
   ],
   "source": [
    "df = pd.read_csv(os.path.abspath('') + \"/input/adidas-us-retail-products-dataset/adidas.csv\")"
   ]
  },
  {
   "cell_type": "markdown",
   "metadata": {},
   "source": [
    "# -- STEFANOS -- Replicate Data"
   ]
  },
  {
   "cell_type": "code",
   "execution_count": 6,
   "metadata": {},
   "outputs": [
    {
     "name": "stdout",
     "output_type": "stream",
     "text": [
      "<class 'pandas.core.frame.DataFrame'>\n",
      "Int64Index: 845000 entries, 0 to 844\n",
      "Data columns (total 20 columns):\n",
      " #   Column          Non-Null Count   Dtype  \n",
      "---  ------          --------------   -----  \n",
      " 0   url             845000 non-null  object \n",
      " 1   name            845000 non-null  object \n",
      " 2   sku             845000 non-null  object \n",
      " 3   selling_price   845000 non-null  int64  \n",
      " 4   original_price  829000 non-null  object \n",
      " 5   currency        845000 non-null  object \n",
      " 6   availability    845000 non-null  object \n",
      " 7   color           845000 non-null  object \n",
      " 8   category        845000 non-null  object \n",
      " 9   source          845000 non-null  object \n",
      " 10  source_website  845000 non-null  object \n",
      " 11  breadcrumbs     845000 non-null  object \n",
      " 12  description     845000 non-null  object \n",
      " 13  brand           845000 non-null  object \n",
      " 14  images          845000 non-null  object \n",
      " 15  country         845000 non-null  object \n",
      " 16  language        845000 non-null  object \n",
      " 17  average_rating  845000 non-null  float64\n",
      " 18  reviews_count   845000 non-null  int64  \n",
      " 19  crawled_at      845000 non-null  object \n",
      "dtypes: float64(1), int64(2), object(17)\n",
      "memory usage: 135.4+ MB\n",
      "time: 1.29 s (started: 2024-05-22 22:02:50 -04:00)\n"
     ]
    }
   ],
   "source": [
    "factor = 1000\n",
    "df = pd.concat([df]*factor)\n",
    "df.info()"
   ]
  },
  {
   "cell_type": "markdown",
   "metadata": {},
   "source": [
    "<a id=\"1\"></a>\n",
    "# <p style=\"padding:10px;background-color:#A23434;margin:0;color:#CDCA34;font-family:newtimeroman;font-size:100%;text-align:center;border-radius: 15px 50px;overflow:hidden;font-weight:500\">Basic Information</p>"
   ]
  },
  {
   "cell_type": "code",
   "execution_count": 7,
   "metadata": {
    "execution": {
     "iopub.execute_input": "2022-11-03T12:30:24.113985Z",
     "iopub.status.busy": "2022-11-03T12:30:24.113527Z",
     "iopub.status.idle": "2022-11-03T12:30:24.142861Z",
     "shell.execute_reply": "2022-11-03T12:30:24.141591Z",
     "shell.execute_reply.started": "2022-11-03T12:30:24.113925Z"
    }
   },
   "outputs": [
    {
     "data": {
      "text/html": [
       "<div>\n",
       "<style scoped>\n",
       "    .dataframe tbody tr th:only-of-type {\n",
       "        vertical-align: middle;\n",
       "    }\n",
       "\n",
       "    .dataframe tbody tr th {\n",
       "        vertical-align: top;\n",
       "    }\n",
       "\n",
       "    .dataframe thead th {\n",
       "        text-align: right;\n",
       "    }\n",
       "</style>\n",
       "<table border=\"1\" class=\"dataframe\">\n",
       "  <thead>\n",
       "    <tr style=\"text-align: right;\">\n",
       "      <th></th>\n",
       "      <th>url</th>\n",
       "      <th>name</th>\n",
       "      <th>sku</th>\n",
       "      <th>selling_price</th>\n",
       "      <th>original_price</th>\n",
       "      <th>currency</th>\n",
       "      <th>availability</th>\n",
       "      <th>color</th>\n",
       "      <th>category</th>\n",
       "      <th>source</th>\n",
       "      <th>source_website</th>\n",
       "      <th>breadcrumbs</th>\n",
       "      <th>description</th>\n",
       "      <th>brand</th>\n",
       "      <th>images</th>\n",
       "      <th>country</th>\n",
       "      <th>language</th>\n",
       "      <th>average_rating</th>\n",
       "      <th>reviews_count</th>\n",
       "      <th>crawled_at</th>\n",
       "    </tr>\n",
       "  </thead>\n",
       "  <tbody>\n",
       "    <tr>\n",
       "      <th>0</th>\n",
       "      <td>https://www.adidas.com/us/beach-shorts/FJ5089....</td>\n",
       "      <td>Beach Shorts</td>\n",
       "      <td>FJ5089</td>\n",
       "      <td>40</td>\n",
       "      <td>NaN</td>\n",
       "      <td>USD</td>\n",
       "      <td>InStock</td>\n",
       "      <td>Black</td>\n",
       "      <td>Clothing</td>\n",
       "      <td>adidas United States</td>\n",
       "      <td>https://www.adidas.com</td>\n",
       "      <td>Women/Clothing</td>\n",
       "      <td>Splashing in the surf. Making memories with yo...</td>\n",
       "      <td>adidas</td>\n",
       "      <td>https://assets.adidas.com/images/w_600,f_auto,...</td>\n",
       "      <td>USA</td>\n",
       "      <td>en</td>\n",
       "      <td>4.5</td>\n",
       "      <td>35</td>\n",
       "      <td>2021-10-23 17:50:17.331255</td>\n",
       "    </tr>\n",
       "    <tr>\n",
       "      <th>1</th>\n",
       "      <td>https://www.adidas.com/us/five-ten-kestrel-lac...</td>\n",
       "      <td>Five Ten Kestrel Lace Mountain Bike Shoes</td>\n",
       "      <td>BC0770</td>\n",
       "      <td>150</td>\n",
       "      <td>NaN</td>\n",
       "      <td>USD</td>\n",
       "      <td>InStock</td>\n",
       "      <td>Grey</td>\n",
       "      <td>Shoes</td>\n",
       "      <td>adidas United States</td>\n",
       "      <td>https://www.adidas.com</td>\n",
       "      <td>Women/Shoes</td>\n",
       "      <td>Lace up and get after it. The Five Ten Kestrel...</td>\n",
       "      <td>adidas</td>\n",
       "      <td>https://assets.adidas.com/images/w_600,f_auto,...</td>\n",
       "      <td>USA</td>\n",
       "      <td>en</td>\n",
       "      <td>4.8</td>\n",
       "      <td>4</td>\n",
       "      <td>2021-10-23 17:50:17.423830</td>\n",
       "    </tr>\n",
       "    <tr>\n",
       "      <th>2</th>\n",
       "      <td>https://www.adidas.com/us/mexico-away-jersey/G...</td>\n",
       "      <td>Mexico Away Jersey</td>\n",
       "      <td>GC7946</td>\n",
       "      <td>70</td>\n",
       "      <td>NaN</td>\n",
       "      <td>USD</td>\n",
       "      <td>InStock</td>\n",
       "      <td>White</td>\n",
       "      <td>Clothing</td>\n",
       "      <td>adidas United States</td>\n",
       "      <td>https://www.adidas.com</td>\n",
       "      <td>Kids/Clothing</td>\n",
       "      <td>Clean and crisp, this adidas Mexico Away Jerse...</td>\n",
       "      <td>adidas</td>\n",
       "      <td>https://assets.adidas.com/images/w_600,f_auto,...</td>\n",
       "      <td>USA</td>\n",
       "      <td>en</td>\n",
       "      <td>4.9</td>\n",
       "      <td>42</td>\n",
       "      <td>2021-10-23 17:50:17.530834</td>\n",
       "    </tr>\n",
       "    <tr>\n",
       "      <th>3</th>\n",
       "      <td>https://www.adidas.com/us/five-ten-hiangle-pro...</td>\n",
       "      <td>Five Ten Hiangle Pro Competition Climbing Shoes</td>\n",
       "      <td>FV4744</td>\n",
       "      <td>160</td>\n",
       "      <td>NaN</td>\n",
       "      <td>USD</td>\n",
       "      <td>InStock</td>\n",
       "      <td>Black</td>\n",
       "      <td>Shoes</td>\n",
       "      <td>adidas United States</td>\n",
       "      <td>https://www.adidas.com</td>\n",
       "      <td>Five Ten/Shoes</td>\n",
       "      <td>The Hiangle Pro takes on the classic shape of ...</td>\n",
       "      <td>adidas</td>\n",
       "      <td>https://assets.adidas.com/images/w_600,f_auto,...</td>\n",
       "      <td>USA</td>\n",
       "      <td>en</td>\n",
       "      <td>3.7</td>\n",
       "      <td>7</td>\n",
       "      <td>2021-10-23 17:50:17.615054</td>\n",
       "    </tr>\n",
       "    <tr>\n",
       "      <th>4</th>\n",
       "      <td>https://www.adidas.com/us/mesh-broken-stripe-p...</td>\n",
       "      <td>Mesh Broken-Stripe Polo Shirt</td>\n",
       "      <td>GM0239</td>\n",
       "      <td>65</td>\n",
       "      <td>NaN</td>\n",
       "      <td>USD</td>\n",
       "      <td>InStock</td>\n",
       "      <td>Blue</td>\n",
       "      <td>Clothing</td>\n",
       "      <td>adidas United States</td>\n",
       "      <td>https://www.adidas.com</td>\n",
       "      <td>Men/Clothing</td>\n",
       "      <td>Step up to the tee relaxed. This adidas golf p...</td>\n",
       "      <td>adidas</td>\n",
       "      <td>https://assets.adidas.com/images/w_600,f_auto,...</td>\n",
       "      <td>USA</td>\n",
       "      <td>en</td>\n",
       "      <td>4.7</td>\n",
       "      <td>11</td>\n",
       "      <td>2021-10-23 17:50:17.702680</td>\n",
       "    </tr>\n",
       "  </tbody>\n",
       "</table>\n",
       "</div>"
      ],
      "text/plain": [
       "                                                 url  \\\n",
       "0  https://www.adidas.com/us/beach-shorts/FJ5089....   \n",
       "1  https://www.adidas.com/us/five-ten-kestrel-lac...   \n",
       "2  https://www.adidas.com/us/mexico-away-jersey/G...   \n",
       "3  https://www.adidas.com/us/five-ten-hiangle-pro...   \n",
       "4  https://www.adidas.com/us/mesh-broken-stripe-p...   \n",
       "\n",
       "                                              name     sku  selling_price  \\\n",
       "0                                     Beach Shorts  FJ5089             40   \n",
       "1        Five Ten Kestrel Lace Mountain Bike Shoes  BC0770            150   \n",
       "2                               Mexico Away Jersey  GC7946             70   \n",
       "3  Five Ten Hiangle Pro Competition Climbing Shoes  FV4744            160   \n",
       "4                    Mesh Broken-Stripe Polo Shirt  GM0239             65   \n",
       "\n",
       "  original_price currency availability  color  category                source  \\\n",
       "0            NaN      USD      InStock  Black  Clothing  adidas United States   \n",
       "1            NaN      USD      InStock   Grey     Shoes  adidas United States   \n",
       "2            NaN      USD      InStock  White  Clothing  adidas United States   \n",
       "3            NaN      USD      InStock  Black     Shoes  adidas United States   \n",
       "4            NaN      USD      InStock   Blue  Clothing  adidas United States   \n",
       "\n",
       "           source_website     breadcrumbs  \\\n",
       "0  https://www.adidas.com  Women/Clothing   \n",
       "1  https://www.adidas.com     Women/Shoes   \n",
       "2  https://www.adidas.com   Kids/Clothing   \n",
       "3  https://www.adidas.com  Five Ten/Shoes   \n",
       "4  https://www.adidas.com    Men/Clothing   \n",
       "\n",
       "                                         description   brand  \\\n",
       "0  Splashing in the surf. Making memories with yo...  adidas   \n",
       "1  Lace up and get after it. The Five Ten Kestrel...  adidas   \n",
       "2  Clean and crisp, this adidas Mexico Away Jerse...  adidas   \n",
       "3  The Hiangle Pro takes on the classic shape of ...  adidas   \n",
       "4  Step up to the tee relaxed. This adidas golf p...  adidas   \n",
       "\n",
       "                                              images country language  \\\n",
       "0  https://assets.adidas.com/images/w_600,f_auto,...     USA       en   \n",
       "1  https://assets.adidas.com/images/w_600,f_auto,...     USA       en   \n",
       "2  https://assets.adidas.com/images/w_600,f_auto,...     USA       en   \n",
       "3  https://assets.adidas.com/images/w_600,f_auto,...     USA       en   \n",
       "4  https://assets.adidas.com/images/w_600,f_auto,...     USA       en   \n",
       "\n",
       "   average_rating  reviews_count                  crawled_at  \n",
       "0             4.5             35  2021-10-23 17:50:17.331255  \n",
       "1             4.8              4  2021-10-23 17:50:17.423830  \n",
       "2             4.9             42  2021-10-23 17:50:17.530834  \n",
       "3             3.7              7  2021-10-23 17:50:17.615054  \n",
       "4             4.7             11  2021-10-23 17:50:17.702680  "
      ]
     },
     "execution_count": 7,
     "metadata": {},
     "output_type": "execute_result"
    },
    {
     "name": "stdout",
     "output_type": "stream",
     "text": [
      "time: 10.5 ms (started: 2024-05-22 22:02:52 -04:00)\n"
     ]
    }
   ],
   "source": [
    "# First 5 records in the DataFrame\n",
    "\n",
    "df.head()"
   ]
  },
  {
   "cell_type": "code",
   "execution_count": 8,
   "metadata": {
    "execution": {
     "iopub.execute_input": "2022-11-03T12:30:24.145276Z",
     "iopub.status.busy": "2022-11-03T12:30:24.1449Z",
     "iopub.status.idle": "2022-11-03T12:30:24.158429Z",
     "shell.execute_reply": "2022-11-03T12:30:24.15683Z",
     "shell.execute_reply.started": "2022-11-03T12:30:24.145244Z"
    }
   },
   "outputs": [
    {
     "data": {
      "text/plain": [
       "url                   0\n",
       "name                  0\n",
       "sku                   0\n",
       "selling_price         0\n",
       "original_price    16000\n",
       "currency              0\n",
       "availability          0\n",
       "color                 0\n",
       "category              0\n",
       "source                0\n",
       "source_website        0\n",
       "breadcrumbs           0\n",
       "description           0\n",
       "brand                 0\n",
       "images                0\n",
       "country               0\n",
       "language              0\n",
       "average_rating        0\n",
       "reviews_count         0\n",
       "crawled_at            0\n",
       "dtype: int64"
      ]
     },
     "execution_count": 8,
     "metadata": {},
     "output_type": "execute_result"
    },
    {
     "name": "stdout",
     "output_type": "stream",
     "text": [
      "time: 1.03 s (started: 2024-05-22 22:02:52 -04:00)\n"
     ]
    }
   ],
   "source": [
    "# Checking for Null Values in the DataFrame\n",
    "\n",
    "df.isna().sum()\n",
    "\n",
    "# There 16 Null Values for Original_price Column"
   ]
  },
  {
   "cell_type": "code",
   "execution_count": 9,
   "metadata": {
    "execution": {
     "iopub.execute_input": "2022-11-03T12:30:24.161752Z",
     "iopub.status.busy": "2022-11-03T12:30:24.160138Z",
     "iopub.status.idle": "2022-11-03T12:30:24.171181Z",
     "shell.execute_reply": "2022-11-03T12:30:24.169825Z",
     "shell.execute_reply.started": "2022-11-03T12:30:24.161693Z"
    }
   },
   "outputs": [
    {
     "data": {
      "text/plain": [
       "(845000, 20)"
      ]
     },
     "execution_count": 9,
     "metadata": {},
     "output_type": "execute_result"
    },
    {
     "name": "stdout",
     "output_type": "stream",
     "text": [
      "time: 1.51 ms (started: 2024-05-22 22:02:53 -04:00)\n"
     ]
    }
   ],
   "source": [
    "# Shape of the DataFrame\n",
    "\n",
    "df.shape"
   ]
  },
  {
   "cell_type": "code",
   "execution_count": 10,
   "metadata": {
    "execution": {
     "iopub.execute_input": "2022-11-03T12:30:24.173755Z",
     "iopub.status.busy": "2022-11-03T12:30:24.173347Z",
     "iopub.status.idle": "2022-11-03T12:30:24.195943Z",
     "shell.execute_reply": "2022-11-03T12:30:24.194886Z",
     "shell.execute_reply.started": "2022-11-03T12:30:24.17372Z"
    }
   },
   "outputs": [
    {
     "name": "stdout",
     "output_type": "stream",
     "text": [
      "<class 'pandas.core.frame.DataFrame'>\n",
      "Int64Index: 845000 entries, 0 to 844\n",
      "Data columns (total 20 columns):\n",
      " #   Column          Non-Null Count   Dtype  \n",
      "---  ------          --------------   -----  \n",
      " 0   url             845000 non-null  object \n",
      " 1   name            845000 non-null  object \n",
      " 2   sku             845000 non-null  object \n",
      " 3   selling_price   845000 non-null  int64  \n",
      " 4   original_price  829000 non-null  object \n",
      " 5   currency        845000 non-null  object \n",
      " 6   availability    845000 non-null  object \n",
      " 7   color           845000 non-null  object \n",
      " 8   category        845000 non-null  object \n",
      " 9   source          845000 non-null  object \n",
      " 10  source_website  845000 non-null  object \n",
      " 11  breadcrumbs     845000 non-null  object \n",
      " 12  description     845000 non-null  object \n",
      " 13  brand           845000 non-null  object \n",
      " 14  images          845000 non-null  object \n",
      " 15  country         845000 non-null  object \n",
      " 16  language        845000 non-null  object \n",
      " 17  average_rating  845000 non-null  float64\n",
      " 18  reviews_count   845000 non-null  int64  \n",
      " 19  crawled_at      845000 non-null  object \n",
      "dtypes: float64(1), int64(2), object(17)\n",
      "memory usage: 135.4+ MB\n",
      "time: 1.04 s (started: 2024-05-22 22:02:53 -04:00)\n"
     ]
    }
   ],
   "source": [
    "# Information about the DataFrame\n",
    "\n",
    "df.info()"
   ]
  },
  {
   "cell_type": "markdown",
   "metadata": {},
   "source": [
    "<a id=\"1\"></a>\n",
    "# <p style=\"padding:10px;background-color:#A23434;margin:0;color:#CDCA34;font-family:newtimeroman;font-size:100%;text-align:center;border-radius: 15px 50px;overflow:hidden;font-weight:500\">Statistical Information</p>"
   ]
  },
  {
   "cell_type": "code",
   "execution_count": 11,
   "metadata": {
    "execution": {
     "iopub.execute_input": "2022-11-03T12:30:24.198413Z",
     "iopub.status.busy": "2022-11-03T12:30:24.197549Z",
     "iopub.status.idle": "2022-11-03T12:30:24.22063Z",
     "shell.execute_reply": "2022-11-03T12:30:24.21924Z",
     "shell.execute_reply.started": "2022-11-03T12:30:24.198375Z"
    }
   },
   "outputs": [
    {
     "name": "stderr",
     "output_type": "stream",
     "text": [
      "/tmp/ipykernel_20320/3879796854.py:3: FutureWarning: The default value of numeric_only in DataFrame.corr is deprecated. In a future version, it will default to False. Select only valid columns or specify the value of numeric_only to silence this warning.\n",
      "  df.corr()\n"
     ]
    },
    {
     "data": {
      "text/html": [
       "<div>\n",
       "<style scoped>\n",
       "    .dataframe tbody tr th:only-of-type {\n",
       "        vertical-align: middle;\n",
       "    }\n",
       "\n",
       "    .dataframe tbody tr th {\n",
       "        vertical-align: top;\n",
       "    }\n",
       "\n",
       "    .dataframe thead th {\n",
       "        text-align: right;\n",
       "    }\n",
       "</style>\n",
       "<table border=\"1\" class=\"dataframe\">\n",
       "  <thead>\n",
       "    <tr style=\"text-align: right;\">\n",
       "      <th></th>\n",
       "      <th>selling_price</th>\n",
       "      <th>average_rating</th>\n",
       "      <th>reviews_count</th>\n",
       "    </tr>\n",
       "  </thead>\n",
       "  <tbody>\n",
       "    <tr>\n",
       "      <th>selling_price</th>\n",
       "      <td>1.000000</td>\n",
       "      <td>-0.213004</td>\n",
       "      <td>0.102654</td>\n",
       "    </tr>\n",
       "    <tr>\n",
       "      <th>average_rating</th>\n",
       "      <td>-0.213004</td>\n",
       "      <td>1.000000</td>\n",
       "      <td>0.023585</td>\n",
       "    </tr>\n",
       "    <tr>\n",
       "      <th>reviews_count</th>\n",
       "      <td>0.102654</td>\n",
       "      <td>0.023585</td>\n",
       "      <td>1.000000</td>\n",
       "    </tr>\n",
       "  </tbody>\n",
       "</table>\n",
       "</div>"
      ],
      "text/plain": [
       "                selling_price  average_rating  reviews_count\n",
       "selling_price        1.000000       -0.213004       0.102654\n",
       "average_rating      -0.213004        1.000000       0.023585\n",
       "reviews_count        0.102654        0.023585       1.000000"
      ]
     },
     "execution_count": 11,
     "metadata": {},
     "output_type": "execute_result"
    },
    {
     "name": "stdout",
     "output_type": "stream",
     "text": [
      "time: 21.7 ms (started: 2024-05-22 22:02:54 -04:00)\n"
     ]
    }
   ],
   "source": [
    "# Correlation Between Columns\n",
    "\n",
    "df.corr()"
   ]
  },
  {
   "cell_type": "code",
   "execution_count": 12,
   "metadata": {
    "execution": {
     "iopub.execute_input": "2022-11-03T12:30:24.222701Z",
     "iopub.status.busy": "2022-11-03T12:30:24.222171Z",
     "iopub.status.idle": "2022-11-03T12:30:24.258306Z",
     "shell.execute_reply": "2022-11-03T12:30:24.257101Z",
     "shell.execute_reply.started": "2022-11-03T12:30:24.222653Z"
    }
   },
   "outputs": [
    {
     "data": {
      "text/html": [
       "<div>\n",
       "<style scoped>\n",
       "    .dataframe tbody tr th:only-of-type {\n",
       "        vertical-align: middle;\n",
       "    }\n",
       "\n",
       "    .dataframe tbody tr th {\n",
       "        vertical-align: top;\n",
       "    }\n",
       "\n",
       "    .dataframe thead th {\n",
       "        text-align: right;\n",
       "    }\n",
       "</style>\n",
       "<table border=\"1\" class=\"dataframe\">\n",
       "  <thead>\n",
       "    <tr style=\"text-align: right;\">\n",
       "      <th></th>\n",
       "      <th>count</th>\n",
       "      <th>mean</th>\n",
       "      <th>std</th>\n",
       "      <th>min</th>\n",
       "      <th>25%</th>\n",
       "      <th>50%</th>\n",
       "      <th>75%</th>\n",
       "      <th>max</th>\n",
       "    </tr>\n",
       "  </thead>\n",
       "  <tbody>\n",
       "    <tr>\n",
       "      <th>selling_price</th>\n",
       "      <td>845000.0</td>\n",
       "      <td>53.192899</td>\n",
       "      <td>31.393071</td>\n",
       "      <td>9.0</td>\n",
       "      <td>28.0</td>\n",
       "      <td>48.0</td>\n",
       "      <td>70.0</td>\n",
       "      <td>240.0</td>\n",
       "    </tr>\n",
       "    <tr>\n",
       "      <th>average_rating</th>\n",
       "      <td>845000.0</td>\n",
       "      <td>4.608402</td>\n",
       "      <td>0.293621</td>\n",
       "      <td>1.0</td>\n",
       "      <td>4.5</td>\n",
       "      <td>4.7</td>\n",
       "      <td>4.8</td>\n",
       "      <td>5.0</td>\n",
       "    </tr>\n",
       "    <tr>\n",
       "      <th>reviews_count</th>\n",
       "      <td>845000.0</td>\n",
       "      <td>426.178698</td>\n",
       "      <td>1228.431476</td>\n",
       "      <td>1.0</td>\n",
       "      <td>19.0</td>\n",
       "      <td>68.0</td>\n",
       "      <td>314.0</td>\n",
       "      <td>11750.0</td>\n",
       "    </tr>\n",
       "  </tbody>\n",
       "</table>\n",
       "</div>"
      ],
      "text/plain": [
       "                   count        mean          std  min   25%   50%    75%  \\\n",
       "selling_price   845000.0   53.192899    31.393071  9.0  28.0  48.0   70.0   \n",
       "average_rating  845000.0    4.608402     0.293621  1.0   4.5   4.7    4.8   \n",
       "reviews_count   845000.0  426.178698  1228.431476  1.0  19.0  68.0  314.0   \n",
       "\n",
       "                    max  \n",
       "selling_price     240.0  \n",
       "average_rating      5.0  \n",
       "reviews_count   11750.0  "
      ]
     },
     "execution_count": 12,
     "metadata": {},
     "output_type": "execute_result"
    },
    {
     "name": "stdout",
     "output_type": "stream",
     "text": [
      "time: 52.9 ms (started: 2024-05-22 22:02:54 -04:00)\n"
     ]
    }
   ],
   "source": [
    "# Statistical informtion about the DataFrame\n",
    "\n",
    "df.describe().T"
   ]
  },
  {
   "cell_type": "markdown",
   "metadata": {},
   "source": [
    "<a id=\"1\"></a>\n",
    "# <p style=\"padding:10px;background-color:#A23434;margin:0;color:#CDCA34;font-family:newtimeroman;font-size:100%;text-align:center;border-radius: 15px 50px;overflow:hidden;font-weight:500\">Feature Engineering</p>"
   ]
  },
  {
   "cell_type": "code",
   "execution_count": 13,
   "metadata": {
    "execution": {
     "iopub.execute_input": "2022-11-03T12:30:24.260219Z",
     "iopub.status.busy": "2022-11-03T12:30:24.259671Z",
     "iopub.status.idle": "2022-11-03T12:30:24.267395Z",
     "shell.execute_reply": "2022-11-03T12:30:24.266422Z",
     "shell.execute_reply.started": "2022-11-03T12:30:24.260177Z"
    }
   },
   "outputs": [
    {
     "data": {
      "text/plain": [
       "1.8934911242603552"
      ]
     },
     "execution_count": 13,
     "metadata": {},
     "output_type": "execute_result"
    },
    {
     "name": "stdout",
     "output_type": "stream",
     "text": [
      "time: 18.4 ms (started: 2024-05-22 22:02:54 -04:00)\n"
     ]
    }
   ],
   "source": [
    "# The Percentage of Missing Values in the 'original_price' Column\n",
    "\n",
    "100 * (df['original_price'].isna().sum() / len(df))\n",
    "\n",
    "# As the percntage of Null Records is less than 5%, hence dropping the Null record Rows"
   ]
  },
  {
   "cell_type": "code",
   "execution_count": 14,
   "metadata": {
    "execution": {
     "iopub.execute_input": "2022-11-03T12:30:24.269402Z",
     "iopub.status.busy": "2022-11-03T12:30:24.268772Z",
     "iopub.status.idle": "2022-11-03T12:30:24.287733Z",
     "shell.execute_reply": "2022-11-03T12:30:24.286806Z",
     "shell.execute_reply.started": "2022-11-03T12:30:24.269368Z"
    }
   },
   "outputs": [
    {
     "name": "stdout",
     "output_type": "stream",
     "text": [
      "time: 1.21 s (started: 2024-05-22 22:02:54 -04:00)\n"
     ]
    }
   ],
   "source": [
    "# Dropping Null Values in the DataFrame\n",
    "\n",
    "df.dropna(inplace=True, axis=0)"
   ]
  },
  {
   "cell_type": "code",
   "execution_count": 15,
   "metadata": {
    "execution": {
     "iopub.execute_input": "2022-11-03T12:30:24.290062Z",
     "iopub.status.busy": "2022-11-03T12:30:24.28887Z",
     "iopub.status.idle": "2022-11-03T12:30:24.30701Z",
     "shell.execute_reply": "2022-11-03T12:30:24.305811Z",
     "shell.execute_reply.started": "2022-11-03T12:30:24.290026Z"
    }
   },
   "outputs": [
    {
     "data": {
      "text/plain": [
       "url               0\n",
       "name              0\n",
       "sku               0\n",
       "selling_price     0\n",
       "original_price    0\n",
       "currency          0\n",
       "availability      0\n",
       "color             0\n",
       "category          0\n",
       "source            0\n",
       "source_website    0\n",
       "breadcrumbs       0\n",
       "description       0\n",
       "brand             0\n",
       "images            0\n",
       "country           0\n",
       "language          0\n",
       "average_rating    0\n",
       "reviews_count     0\n",
       "crawled_at        0\n",
       "dtype: int64"
      ]
     },
     "execution_count": 15,
     "metadata": {},
     "output_type": "execute_result"
    },
    {
     "name": "stdout",
     "output_type": "stream",
     "text": [
      "time: 1.03 s (started: 2024-05-22 22:02:55 -04:00)\n"
     ]
    }
   ],
   "source": [
    "# Checking for Null Values in the DataFrame\n",
    "\n",
    "df.isna().sum()"
   ]
  },
  {
   "cell_type": "code",
   "execution_count": 16,
   "metadata": {
    "execution": {
     "iopub.execute_input": "2022-11-03T12:30:24.310238Z",
     "iopub.status.busy": "2022-11-03T12:30:24.308802Z",
     "iopub.status.idle": "2022-11-03T12:30:24.322204Z",
     "shell.execute_reply": "2022-11-03T12:30:24.320799Z",
     "shell.execute_reply.started": "2022-11-03T12:30:24.310203Z"
    }
   },
   "outputs": [
    {
     "name": "stdout",
     "output_type": "stream",
     "text": [
      "time: 26.6 ms (started: 2024-05-22 22:02:56 -04:00)\n"
     ]
    }
   ],
   "source": [
    "# Dropping 'currency' column as all records have 'USD' as currency\n",
    "# Dropping 'source' column as all records have 'adidas United States' as value\n",
    "# Dropping 'brand', 'country', 'language' columns as all records have same value\n",
    "\n",
    "df.drop([ 'brand', 'country', 'language', 'source_website', 'images', 'crawled_at', 'url', 'sku', 'currency','source', 'description'], axis=1, inplace=True)"
   ]
  },
  {
   "cell_type": "code",
   "execution_count": 17,
   "metadata": {
    "execution": {
     "iopub.execute_input": "2022-11-03T12:30:24.32385Z",
     "iopub.status.busy": "2022-11-03T12:30:24.323437Z",
     "iopub.status.idle": "2022-11-03T12:30:24.351098Z",
     "shell.execute_reply": "2022-11-03T12:30:24.349584Z",
     "shell.execute_reply.started": "2022-11-03T12:30:24.323818Z"
    }
   },
   "outputs": [
    {
     "data": {
      "text/html": [
       "<div>\n",
       "<style scoped>\n",
       "    .dataframe tbody tr th:only-of-type {\n",
       "        vertical-align: middle;\n",
       "    }\n",
       "\n",
       "    .dataframe tbody tr th {\n",
       "        vertical-align: top;\n",
       "    }\n",
       "\n",
       "    .dataframe thead th {\n",
       "        text-align: right;\n",
       "    }\n",
       "</style>\n",
       "<table border=\"1\" class=\"dataframe\">\n",
       "  <thead>\n",
       "    <tr style=\"text-align: right;\">\n",
       "      <th></th>\n",
       "      <th>name</th>\n",
       "      <th>selling_price</th>\n",
       "      <th>original_price</th>\n",
       "      <th>availability</th>\n",
       "      <th>color</th>\n",
       "      <th>category</th>\n",
       "      <th>breadcrumbs</th>\n",
       "      <th>average_rating</th>\n",
       "      <th>reviews_count</th>\n",
       "    </tr>\n",
       "  </thead>\n",
       "  <tbody>\n",
       "    <tr>\n",
       "      <th>15</th>\n",
       "      <td>Essentials Loose Logo Tank Top</td>\n",
       "      <td>20</td>\n",
       "      <td>$25</td>\n",
       "      <td>InStock</td>\n",
       "      <td>Purple</td>\n",
       "      <td>Clothing</td>\n",
       "      <td>Women/Clothing</td>\n",
       "      <td>4.8</td>\n",
       "      <td>116</td>\n",
       "    </tr>\n",
       "    <tr>\n",
       "      <th>16</th>\n",
       "      <td>Essentials Loose Logo Tank Top</td>\n",
       "      <td>20</td>\n",
       "      <td>$25</td>\n",
       "      <td>InStock</td>\n",
       "      <td>Pink</td>\n",
       "      <td>Clothing</td>\n",
       "      <td>Women/Clothing</td>\n",
       "      <td>4.8</td>\n",
       "      <td>116</td>\n",
       "    </tr>\n",
       "    <tr>\n",
       "      <th>18</th>\n",
       "      <td>Essentials Loose Logo Tank Top</td>\n",
       "      <td>20</td>\n",
       "      <td>$25</td>\n",
       "      <td>InStock</td>\n",
       "      <td>Green</td>\n",
       "      <td>Clothing</td>\n",
       "      <td>Women/Clothing</td>\n",
       "      <td>4.8</td>\n",
       "      <td>116</td>\n",
       "    </tr>\n",
       "    <tr>\n",
       "      <th>19</th>\n",
       "      <td>Formotion Sculpt Tights</td>\n",
       "      <td>48</td>\n",
       "      <td>$80</td>\n",
       "      <td>InStock</td>\n",
       "      <td>Blue</td>\n",
       "      <td>Clothing</td>\n",
       "      <td>Women/Clothing</td>\n",
       "      <td>4.2</td>\n",
       "      <td>144</td>\n",
       "    </tr>\n",
       "    <tr>\n",
       "      <th>20</th>\n",
       "      <td>Marvel X Ghosted.3 Firm Ground Cleats</td>\n",
       "      <td>64</td>\n",
       "      <td>$80</td>\n",
       "      <td>InStock</td>\n",
       "      <td>Blue</td>\n",
       "      <td>Shoes</td>\n",
       "      <td>Soccer/Shoes</td>\n",
       "      <td>4.4</td>\n",
       "      <td>160</td>\n",
       "    </tr>\n",
       "  </tbody>\n",
       "</table>\n",
       "</div>"
      ],
      "text/plain": [
       "                                     name  selling_price original_price  \\\n",
       "15         Essentials Loose Logo Tank Top             20            $25   \n",
       "16         Essentials Loose Logo Tank Top             20            $25   \n",
       "18         Essentials Loose Logo Tank Top             20            $25   \n",
       "19                Formotion Sculpt Tights             48            $80   \n",
       "20  Marvel X Ghosted.3 Firm Ground Cleats             64            $80   \n",
       "\n",
       "   availability   color  category     breadcrumbs  average_rating  \\\n",
       "15      InStock  Purple  Clothing  Women/Clothing             4.8   \n",
       "16      InStock    Pink  Clothing  Women/Clothing             4.8   \n",
       "18      InStock   Green  Clothing  Women/Clothing             4.8   \n",
       "19      InStock    Blue  Clothing  Women/Clothing             4.2   \n",
       "20      InStock    Blue     Shoes    Soccer/Shoes             4.4   \n",
       "\n",
       "    reviews_count  \n",
       "15            116  \n",
       "16            116  \n",
       "18            116  \n",
       "19            144  \n",
       "20            160  "
      ]
     },
     "execution_count": 17,
     "metadata": {},
     "output_type": "execute_result"
    },
    {
     "name": "stdout",
     "output_type": "stream",
     "text": [
      "time: 4.82 ms (started: 2024-05-22 22:02:56 -04:00)\n"
     ]
    }
   ],
   "source": [
    "# First 5 records in the DataFrame\n",
    "\n",
    "df.head()"
   ]
  },
  {
   "cell_type": "code",
   "execution_count": 18,
   "metadata": {
    "execution": {
     "iopub.execute_input": "2022-11-03T12:30:24.353165Z",
     "iopub.status.busy": "2022-11-03T12:30:24.352806Z",
     "iopub.status.idle": "2022-11-03T12:30:24.364807Z",
     "shell.execute_reply": "2022-11-03T12:30:24.362893Z",
     "shell.execute_reply.started": "2022-11-03T12:30:24.353134Z"
    }
   },
   "outputs": [
    {
     "name": "stdout",
     "output_type": "stream",
     "text": [
      "time: 712 ms (started: 2024-05-22 22:02:56 -04:00)\n"
     ]
    }
   ],
   "source": [
    "# Removing '$' from the DataFrame\n",
    "\n",
    "df['original_price'] = df['original_price'].str.split('$')\n",
    "df['original_price'] = df['original_price'].str[1]"
   ]
  },
  {
   "cell_type": "code",
   "execution_count": 19,
   "metadata": {
    "execution": {
     "iopub.execute_input": "2022-11-03T12:30:24.36825Z",
     "iopub.status.busy": "2022-11-03T12:30:24.366565Z",
     "iopub.status.idle": "2022-11-03T12:30:24.391176Z",
     "shell.execute_reply": "2022-11-03T12:30:24.390079Z",
     "shell.execute_reply.started": "2022-11-03T12:30:24.368196Z"
    }
   },
   "outputs": [
    {
     "data": {
      "text/html": [
       "<div>\n",
       "<style scoped>\n",
       "    .dataframe tbody tr th:only-of-type {\n",
       "        vertical-align: middle;\n",
       "    }\n",
       "\n",
       "    .dataframe tbody tr th {\n",
       "        vertical-align: top;\n",
       "    }\n",
       "\n",
       "    .dataframe thead th {\n",
       "        text-align: right;\n",
       "    }\n",
       "</style>\n",
       "<table border=\"1\" class=\"dataframe\">\n",
       "  <thead>\n",
       "    <tr style=\"text-align: right;\">\n",
       "      <th></th>\n",
       "      <th>name</th>\n",
       "      <th>selling_price</th>\n",
       "      <th>original_price</th>\n",
       "      <th>availability</th>\n",
       "      <th>color</th>\n",
       "      <th>category</th>\n",
       "      <th>breadcrumbs</th>\n",
       "      <th>average_rating</th>\n",
       "      <th>reviews_count</th>\n",
       "    </tr>\n",
       "  </thead>\n",
       "  <tbody>\n",
       "    <tr>\n",
       "      <th>15</th>\n",
       "      <td>Essentials Loose Logo Tank Top</td>\n",
       "      <td>20</td>\n",
       "      <td>25</td>\n",
       "      <td>InStock</td>\n",
       "      <td>Purple</td>\n",
       "      <td>Clothing</td>\n",
       "      <td>Women/Clothing</td>\n",
       "      <td>4.8</td>\n",
       "      <td>116</td>\n",
       "    </tr>\n",
       "    <tr>\n",
       "      <th>16</th>\n",
       "      <td>Essentials Loose Logo Tank Top</td>\n",
       "      <td>20</td>\n",
       "      <td>25</td>\n",
       "      <td>InStock</td>\n",
       "      <td>Pink</td>\n",
       "      <td>Clothing</td>\n",
       "      <td>Women/Clothing</td>\n",
       "      <td>4.8</td>\n",
       "      <td>116</td>\n",
       "    </tr>\n",
       "    <tr>\n",
       "      <th>18</th>\n",
       "      <td>Essentials Loose Logo Tank Top</td>\n",
       "      <td>20</td>\n",
       "      <td>25</td>\n",
       "      <td>InStock</td>\n",
       "      <td>Green</td>\n",
       "      <td>Clothing</td>\n",
       "      <td>Women/Clothing</td>\n",
       "      <td>4.8</td>\n",
       "      <td>116</td>\n",
       "    </tr>\n",
       "    <tr>\n",
       "      <th>19</th>\n",
       "      <td>Formotion Sculpt Tights</td>\n",
       "      <td>48</td>\n",
       "      <td>80</td>\n",
       "      <td>InStock</td>\n",
       "      <td>Blue</td>\n",
       "      <td>Clothing</td>\n",
       "      <td>Women/Clothing</td>\n",
       "      <td>4.2</td>\n",
       "      <td>144</td>\n",
       "    </tr>\n",
       "    <tr>\n",
       "      <th>20</th>\n",
       "      <td>Marvel X Ghosted.3 Firm Ground Cleats</td>\n",
       "      <td>64</td>\n",
       "      <td>80</td>\n",
       "      <td>InStock</td>\n",
       "      <td>Blue</td>\n",
       "      <td>Shoes</td>\n",
       "      <td>Soccer/Shoes</td>\n",
       "      <td>4.4</td>\n",
       "      <td>160</td>\n",
       "    </tr>\n",
       "  </tbody>\n",
       "</table>\n",
       "</div>"
      ],
      "text/plain": [
       "                                     name  selling_price original_price  \\\n",
       "15         Essentials Loose Logo Tank Top             20             25   \n",
       "16         Essentials Loose Logo Tank Top             20             25   \n",
       "18         Essentials Loose Logo Tank Top             20             25   \n",
       "19                Formotion Sculpt Tights             48             80   \n",
       "20  Marvel X Ghosted.3 Firm Ground Cleats             64             80   \n",
       "\n",
       "   availability   color  category     breadcrumbs  average_rating  \\\n",
       "15      InStock  Purple  Clothing  Women/Clothing             4.8   \n",
       "16      InStock    Pink  Clothing  Women/Clothing             4.8   \n",
       "18      InStock   Green  Clothing  Women/Clothing             4.8   \n",
       "19      InStock    Blue  Clothing  Women/Clothing             4.2   \n",
       "20      InStock    Blue     Shoes    Soccer/Shoes             4.4   \n",
       "\n",
       "    reviews_count  \n",
       "15            116  \n",
       "16            116  \n",
       "18            116  \n",
       "19            144  \n",
       "20            160  "
      ]
     },
     "execution_count": 19,
     "metadata": {},
     "output_type": "execute_result"
    },
    {
     "name": "stdout",
     "output_type": "stream",
     "text": [
      "time: 5 ms (started: 2024-05-22 22:02:57 -04:00)\n"
     ]
    }
   ],
   "source": [
    "# First 5 records in the DataFrame\n",
    "\n",
    "df.head()"
   ]
  },
  {
   "cell_type": "code",
   "execution_count": 20,
   "metadata": {
    "execution": {
     "iopub.execute_input": "2022-11-03T12:30:24.393081Z",
     "iopub.status.busy": "2022-11-03T12:30:24.392706Z",
     "iopub.status.idle": "2022-11-03T12:30:24.410673Z",
     "shell.execute_reply": "2022-11-03T12:30:24.408917Z",
     "shell.execute_reply.started": "2022-11-03T12:30:24.393046Z"
    }
   },
   "outputs": [
    {
     "data": {
      "text/plain": [
       "(829000, 9)"
      ]
     },
     "execution_count": 20,
     "metadata": {},
     "output_type": "execute_result"
    },
    {
     "name": "stdout",
     "output_type": "stream",
     "text": [
      "time: 2.44 ms (started: 2024-05-22 22:02:57 -04:00)\n"
     ]
    }
   ],
   "source": [
    "# Shape of the DataFrame\n",
    "\n",
    "df.shape"
   ]
  },
  {
   "cell_type": "code",
   "execution_count": 21,
   "metadata": {
    "execution": {
     "iopub.execute_input": "2022-11-03T12:30:24.413968Z",
     "iopub.status.busy": "2022-11-03T12:30:24.412983Z",
     "iopub.status.idle": "2022-11-03T12:30:24.430469Z",
     "shell.execute_reply": "2022-11-03T12:30:24.428605Z",
     "shell.execute_reply.started": "2022-11-03T12:30:24.413916Z"
    }
   },
   "outputs": [
    {
     "data": {
      "text/plain": [
       "name               object\n",
       "selling_price       int64\n",
       "original_price     object\n",
       "availability       object\n",
       "color              object\n",
       "category           object\n",
       "breadcrumbs        object\n",
       "average_rating    float64\n",
       "reviews_count       int64\n",
       "dtype: object"
      ]
     },
     "execution_count": 21,
     "metadata": {},
     "output_type": "execute_result"
    },
    {
     "name": "stdout",
     "output_type": "stream",
     "text": [
      "time: 1.49 ms (started: 2024-05-22 22:02:57 -04:00)\n"
     ]
    }
   ],
   "source": [
    "# Checking the Data Types for the columns\n",
    "\n",
    "df.dtypes"
   ]
  },
  {
   "cell_type": "code",
   "execution_count": 22,
   "metadata": {
    "execution": {
     "iopub.execute_input": "2022-11-03T12:30:24.432634Z",
     "iopub.status.busy": "2022-11-03T12:30:24.431998Z",
     "iopub.status.idle": "2022-11-03T12:30:24.446834Z",
     "shell.execute_reply": "2022-11-03T12:30:24.445607Z",
     "shell.execute_reply.started": "2022-11-03T12:30:24.432569Z"
    }
   },
   "outputs": [
    {
     "name": "stdout",
     "output_type": "stream",
     "text": [
      "time: 866 ms (started: 2024-05-22 22:02:57 -04:00)\n"
     ]
    }
   ],
   "source": [
    "# Creating 'Category' Column\n",
    "\n",
    "df['Category'] = df['breadcrumbs'].str.split(\"/\")\n",
    "df['Category'] = df['Category'].str[0]"
   ]
  },
  {
   "cell_type": "code",
   "execution_count": 23,
   "metadata": {
    "execution": {
     "iopub.execute_input": "2022-11-03T12:30:24.448578Z",
     "iopub.status.busy": "2022-11-03T12:30:24.447951Z",
     "iopub.status.idle": "2022-11-03T12:30:24.463401Z",
     "shell.execute_reply": "2022-11-03T12:30:24.461897Z",
     "shell.execute_reply.started": "2022-11-03T12:30:24.448542Z"
    }
   },
   "outputs": [
    {
     "name": "stdout",
     "output_type": "stream",
     "text": [
      "time: 1.06 s (started: 2024-05-22 22:02:58 -04:00)\n"
     ]
    }
   ],
   "source": [
    "# Creating 'Product Type' Column\n",
    "\n",
    "df['Product_Type'] = df['breadcrumbs'].str.split(\"/\")\n",
    "df['Product_Type'] = df['Product_Type'].str[1]"
   ]
  },
  {
   "cell_type": "code",
   "execution_count": 24,
   "metadata": {
    "execution": {
     "iopub.execute_input": "2022-11-03T12:30:24.46583Z",
     "iopub.status.busy": "2022-11-03T12:30:24.464917Z",
     "iopub.status.idle": "2022-11-03T12:30:24.479591Z",
     "shell.execute_reply": "2022-11-03T12:30:24.477833Z",
     "shell.execute_reply.started": "2022-11-03T12:30:24.465785Z"
    }
   },
   "outputs": [
    {
     "name": "stdout",
     "output_type": "stream",
     "text": [
      "time: 63.3 ms (started: 2024-05-22 22:02:59 -04:00)\n"
     ]
    }
   ],
   "source": [
    "# Droping 'breadcrumbs' Column\n",
    "\n",
    "df.drop(['breadcrumbs', 'category'], axis=1, inplace=True)"
   ]
  },
  {
   "cell_type": "code",
   "execution_count": 25,
   "metadata": {
    "execution": {
     "iopub.execute_input": "2022-11-03T12:30:24.482417Z",
     "iopub.status.busy": "2022-11-03T12:30:24.48162Z",
     "iopub.status.idle": "2022-11-03T12:30:24.497207Z",
     "shell.execute_reply": "2022-11-03T12:30:24.49628Z",
     "shell.execute_reply.started": "2022-11-03T12:30:24.48237Z"
    }
   },
   "outputs": [
    {
     "name": "stdout",
     "output_type": "stream",
     "text": [
      "time: 52.6 ms (started: 2024-05-22 22:02:59 -04:00)\n"
     ]
    }
   ],
   "source": [
    "# Changing the DataType of 'original_price' from object to int64\n",
    "\n",
    "df['original_price'] = df['original_price'].astype('int64')"
   ]
  },
  {
   "cell_type": "code",
   "execution_count": 26,
   "metadata": {
    "execution": {
     "iopub.execute_input": "2022-11-03T12:30:24.499578Z",
     "iopub.status.busy": "2022-11-03T12:30:24.499063Z",
     "iopub.status.idle": "2022-11-03T12:30:24.51516Z",
     "shell.execute_reply": "2022-11-03T12:30:24.51397Z",
     "shell.execute_reply.started": "2022-11-03T12:30:24.499529Z"
    }
   },
   "outputs": [
    {
     "data": {
      "text/plain": [
       "name               object\n",
       "selling_price       int64\n",
       "original_price      int64\n",
       "availability       object\n",
       "color              object\n",
       "average_rating    float64\n",
       "reviews_count       int64\n",
       "Category           object\n",
       "Product_Type       object\n",
       "dtype: object"
      ]
     },
     "execution_count": 26,
     "metadata": {},
     "output_type": "execute_result"
    },
    {
     "name": "stdout",
     "output_type": "stream",
     "text": [
      "time: 1.96 ms (started: 2024-05-22 22:02:59 -04:00)\n"
     ]
    }
   ],
   "source": [
    "# Checking the Data Types for the columns\n",
    "\n",
    "df.dtypes"
   ]
  },
  {
   "cell_type": "markdown",
   "metadata": {},
   "source": [
    "<a id=\"1\"></a>\n",
    "# <p style=\"padding:10px;background-color:#A23434;margin:0;color:#CDCA34;font-family:newtimeroman;font-size:100%;text-align:center;border-radius: 15px 50px;overflow:hidden;font-weight:500\">EDA and Data Visualization</p>"
   ]
  },
  {
   "cell_type": "markdown",
   "metadata": {},
   "source": [
    "# Heat-Map"
   ]
  },
  {
   "cell_type": "code",
   "execution_count": 27,
   "metadata": {
    "execution": {
     "iopub.execute_input": "2022-11-03T12:30:24.517336Z",
     "iopub.status.busy": "2022-11-03T12:30:24.516686Z",
     "iopub.status.idle": "2022-11-03T12:30:24.806972Z",
     "shell.execute_reply": "2022-11-03T12:30:24.80521Z",
     "shell.execute_reply.started": "2022-11-03T12:30:24.517302Z"
    }
   },
   "outputs": [
    {
     "name": "stdout",
     "output_type": "stream",
     "text": [
      "time: 141 µs (started: 2024-05-22 22:02:59 -04:00)\n"
     ]
    }
   ],
   "source": [
    "# STEFANOS: Disable plotting\n",
    "# sns.heatmap(df.corr(numeric_only=True), annot=True, cmap='magma')\n",
    "# plt.show();"
   ]
  },
  {
   "cell_type": "markdown",
   "metadata": {},
   "source": [
    "# Distribution Plots"
   ]
  },
  {
   "cell_type": "code",
   "execution_count": 28,
   "metadata": {
    "execution": {
     "iopub.execute_input": "2022-11-03T12:30:24.809268Z",
     "iopub.status.busy": "2022-11-03T12:30:24.808822Z",
     "iopub.status.idle": "2022-11-03T12:30:25.230837Z",
     "shell.execute_reply": "2022-11-03T12:30:25.229254Z",
     "shell.execute_reply.started": "2022-11-03T12:30:24.809229Z"
    }
   },
   "outputs": [
    {
     "name": "stdout",
     "output_type": "stream",
     "text": [
      "time: 147 µs (started: 2024-05-22 22:02:59 -04:00)\n"
     ]
    }
   ],
   "source": [
    "# Distribution Plot for selling price\n",
    "\n",
    "# STEFANOS: Disable plotting\n",
    "# sns.displot(df['selling_price'], kde=True);\n",
    "\n",
    "# The Below Graph is 'Right Skewed' with Majority of Data falling between 10-70."
   ]
  },
  {
   "cell_type": "code",
   "execution_count": 29,
   "metadata": {
    "execution": {
     "iopub.execute_input": "2022-11-03T12:30:25.232731Z",
     "iopub.status.busy": "2022-11-03T12:30:25.232313Z",
     "iopub.status.idle": "2022-11-03T12:30:25.651571Z",
     "shell.execute_reply": "2022-11-03T12:30:25.649943Z",
     "shell.execute_reply.started": "2022-11-03T12:30:25.232695Z"
    }
   },
   "outputs": [
    {
     "name": "stdout",
     "output_type": "stream",
     "text": [
      "time: 144 µs (started: 2024-05-22 22:02:59 -04:00)\n"
     ]
    }
   ],
   "source": [
    "# Distribution Plot for origial price\n",
    "\n",
    "# STEFANOS: Disable plotting\n",
    "# sns.displot(df['original_price'], kde=True);\n",
    "\n",
    "# The Below Graph is 'Right Skewed' with Majority of Data falling between 10-90."
   ]
  },
  {
   "cell_type": "code",
   "execution_count": 30,
   "metadata": {
    "execution": {
     "iopub.execute_input": "2022-11-03T12:30:25.654613Z",
     "iopub.status.busy": "2022-11-03T12:30:25.653512Z",
     "iopub.status.idle": "2022-11-03T12:30:26.169888Z",
     "shell.execute_reply": "2022-11-03T12:30:26.168869Z",
     "shell.execute_reply.started": "2022-11-03T12:30:25.654571Z"
    }
   },
   "outputs": [
    {
     "name": "stdout",
     "output_type": "stream",
     "text": [
      "time: 144 µs (started: 2024-05-22 22:02:59 -04:00)\n"
     ]
    }
   ],
   "source": [
    "# Distribution Plot for average rating\n",
    "\n",
    "# STEFANOS: Disable plotting\n",
    "# sns.displot(df['average_rating'], kde=True);\n",
    "\n",
    "# The Below Graph is 'Left Skewed' with Majority of Data falling between 4.2-5.0."
   ]
  },
  {
   "cell_type": "code",
   "execution_count": 31,
   "metadata": {
    "execution": {
     "iopub.execute_input": "2022-11-03T12:30:26.172916Z",
     "iopub.status.busy": "2022-11-03T12:30:26.171136Z",
     "iopub.status.idle": "2022-11-03T12:30:26.921082Z",
     "shell.execute_reply": "2022-11-03T12:30:26.919484Z",
     "shell.execute_reply.started": "2022-11-03T12:30:26.172843Z"
    }
   },
   "outputs": [
    {
     "name": "stdout",
     "output_type": "stream",
     "text": [
      "time: 256 µs (started: 2024-05-22 22:02:59 -04:00)\n"
     ]
    }
   ],
   "source": [
    "# Distribution Plot for reviews count\n",
    "\n",
    "# STEFANOS: Disable plotting\n",
    "# sns.displot(df['reviews_count'], kde=True);\n",
    "\n",
    "# The Below Graph is 'Right Skewed' with Majority of Data falling below 600."
   ]
  },
  {
   "cell_type": "markdown",
   "metadata": {},
   "source": [
    "# Product Name"
   ]
  },
  {
   "cell_type": "code",
   "execution_count": 32,
   "metadata": {
    "execution": {
     "iopub.execute_input": "2022-11-03T12:30:26.923646Z",
     "iopub.status.busy": "2022-11-03T12:30:26.923234Z",
     "iopub.status.idle": "2022-11-03T12:30:26.932901Z",
     "shell.execute_reply": "2022-11-03T12:30:26.931177Z",
     "shell.execute_reply.started": "2022-11-03T12:30:26.923611Z"
    }
   },
   "outputs": [
    {
     "data": {
      "text/plain": [
       "417"
      ]
     },
     "execution_count": 32,
     "metadata": {},
     "output_type": "execute_result"
    },
    {
     "name": "stdout",
     "output_type": "stream",
     "text": [
      "time: 66.4 ms (started: 2024-05-22 22:02:59 -04:00)\n"
     ]
    }
   ],
   "source": [
    "# No.of Unique Products in the DataFrame\n",
    "\n",
    "df['name'].nunique()"
   ]
  },
  {
   "cell_type": "code",
   "execution_count": 33,
   "metadata": {
    "execution": {
     "iopub.execute_input": "2022-11-03T12:30:26.93615Z",
     "iopub.status.busy": "2022-11-03T12:30:26.935649Z",
     "iopub.status.idle": "2022-11-03T12:30:26.951907Z",
     "shell.execute_reply": "2022-11-03T12:30:26.949916Z",
     "shell.execute_reply.started": "2022-11-03T12:30:26.936102Z"
    }
   },
   "outputs": [
    {
     "data": {
      "text/plain": [
       "ZX 1K Boost Shoes          24000\n",
       "ZX 2K Boost Shoes          18000\n",
       "Superstar Shoes            15000\n",
       "EQ21 Run Shoes             13000\n",
       "Racer TR21 Shoes           12000\n",
       "ZX 2K Boost 2.0 Shoes      10000\n",
       "Supernova+ Shoes            9000\n",
       "4D Fusio Shoes              9000\n",
       "Adilette Comfort Slides     9000\n",
       "Swift Run X Shoes           9000\n",
       "Name: name, dtype: int64"
      ]
     },
     "execution_count": 33,
     "metadata": {},
     "output_type": "execute_result"
    },
    {
     "name": "stdout",
     "output_type": "stream",
     "text": [
      "time: 19.2 ms (started: 2024-05-22 22:02:59 -04:00)\n"
     ]
    }
   ],
   "source": [
    "# Top 10 - Products sold in the DataFrame\n",
    "\n",
    "df['name'].value_counts()[:10]"
   ]
  },
  {
   "cell_type": "code",
   "execution_count": 34,
   "metadata": {
    "execution": {
     "iopub.execute_input": "2022-11-03T12:30:26.955809Z",
     "iopub.status.busy": "2022-11-03T12:30:26.954958Z",
     "iopub.status.idle": "2022-11-03T12:30:27.162934Z",
     "shell.execute_reply": "2022-11-03T12:30:27.161228Z",
     "shell.execute_reply.started": "2022-11-03T12:30:26.955745Z"
    }
   },
   "outputs": [
    {
     "data": {
      "text/plain": [
       "ZX 1K Boost Shoes    24000\n",
       "ZX 2K Boost Shoes    18000\n",
       "Superstar Shoes      15000\n",
       "EQ21 Run Shoes       13000\n",
       "Racer TR21 Shoes     12000\n",
       "Name: name, dtype: int64"
      ]
     },
     "execution_count": 34,
     "metadata": {},
     "output_type": "execute_result"
    },
    {
     "name": "stdout",
     "output_type": "stream",
     "text": [
      "time: 18.9 ms (started: 2024-05-22 22:02:59 -04:00)\n"
     ]
    }
   ],
   "source": [
    "# Top 5 - Products sold in the DataFrame\n",
    "\n",
    "\n",
    "# STEFANOS: Disable plotting\n",
    "# plt.figure(figsize=(12,4))\n",
    "# df['name'].value_counts()[:5].plot(kind='barh', color={'#864879','#2D4263','#C84B31', '#ECDBBA', '#B3541E'})\n",
    "# plt.ylabel(\"Product Name\")\n",
    "# plt.xlabel(\"No.of Units Sold\")\n",
    "# plt.title(\"Product Name Vs. No.of Units Sold\")\n",
    "# plt.show();\n",
    "df['name'].value_counts()[:5]"
   ]
  },
  {
   "cell_type": "markdown",
   "metadata": {},
   "source": [
    "#### The Product '**ZX 1K Boost Shoes**' is the most sold Product/Recorded in the DataFrame with '**24**' units."
   ]
  },
  {
   "cell_type": "markdown",
   "metadata": {},
   "source": [
    "# Selling Price"
   ]
  },
  {
   "cell_type": "code",
   "execution_count": 35,
   "metadata": {
    "execution": {
     "iopub.execute_input": "2022-11-03T12:30:27.165127Z",
     "iopub.status.busy": "2022-11-03T12:30:27.164726Z",
     "iopub.status.idle": "2022-11-03T12:30:27.174573Z",
     "shell.execute_reply": "2022-11-03T12:30:27.173158Z",
     "shell.execute_reply.started": "2022-11-03T12:30:27.165095Z"
    }
   },
   "outputs": [
    {
     "data": {
      "text/plain": [
       "68"
      ]
     },
     "execution_count": 35,
     "metadata": {},
     "output_type": "execute_result"
    },
    {
     "name": "stdout",
     "output_type": "stream",
     "text": [
      "time: 3.03 ms (started: 2024-05-22 22:02:59 -04:00)\n"
     ]
    }
   ],
   "source": [
    "# No.of Unique selling price in the DataFrame\n",
    "\n",
    "df['selling_price'].nunique()"
   ]
  },
  {
   "cell_type": "code",
   "execution_count": 36,
   "metadata": {
    "execution": {
     "iopub.execute_input": "2022-11-03T12:30:27.176409Z",
     "iopub.status.busy": "2022-11-03T12:30:27.17602Z",
     "iopub.status.idle": "2022-11-03T12:30:27.189429Z",
     "shell.execute_reply": "2022-11-03T12:30:27.188271Z",
     "shell.execute_reply.started": "2022-11-03T12:30:27.176378Z"
    }
   },
   "outputs": [
    {
     "name": "stderr",
     "output_type": "stream",
     "text": [
      "/tmp/ipykernel_20320/44440998.py:3: FutureWarning: The behavior of `series[i:j]` with an integer-dtype index is deprecated. In a future version, this will be treated as *label-based* indexing, consistent with e.g. `series[i]` lookups. To retain the old behavior, use `series.iloc[i:j]`. To get the future behavior, use `series.loc[i:j]`.\n",
      "  df['selling_price'].value_counts()[:15]\n"
     ]
    },
    {
     "data": {
      "text/plain": [
       "56     54000\n",
       "20     50000\n",
       "52     42000\n",
       "32     40000\n",
       "36     39000\n",
       "28     35000\n",
       "72     30000\n",
       "60     29000\n",
       "24     29000\n",
       "70     28000\n",
       "44     26000\n",
       "40     25000\n",
       "64     22000\n",
       "48     22000\n",
       "105    21000\n",
       "Name: selling_price, dtype: int64"
      ]
     },
     "execution_count": 36,
     "metadata": {},
     "output_type": "execute_result"
    },
    {
     "name": "stdout",
     "output_type": "stream",
     "text": [
      "time: 4.29 ms (started: 2024-05-22 22:02:59 -04:00)\n"
     ]
    }
   ],
   "source": [
    "# Top 15 - Products interms of similar selling price in the DataFrame\n",
    "\n",
    "df['selling_price'].value_counts()[:15]"
   ]
  },
  {
   "cell_type": "code",
   "execution_count": 37,
   "metadata": {
    "execution": {
     "iopub.execute_input": "2022-11-03T12:30:27.190844Z",
     "iopub.status.busy": "2022-11-03T12:30:27.190518Z",
     "iopub.status.idle": "2022-11-03T12:30:27.399739Z",
     "shell.execute_reply": "2022-11-03T12:30:27.39854Z",
     "shell.execute_reply.started": "2022-11-03T12:30:27.190814Z"
    }
   },
   "outputs": [
    {
     "name": "stderr",
     "output_type": "stream",
     "text": [
      "/tmp/ipykernel_20320/578205171.py:10: FutureWarning: The behavior of `series[i:j]` with an integer-dtype index is deprecated. In a future version, this will be treated as *label-based* indexing, consistent with e.g. `series[i]` lookups. To retain the old behavior, use `series.iloc[i:j]`. To get the future behavior, use `series.loc[i:j]`.\n",
      "  df['selling_price'].value_counts()[:5]\n"
     ]
    },
    {
     "data": {
      "text/plain": [
       "56    54000\n",
       "20    50000\n",
       "52    42000\n",
       "32    40000\n",
       "36    39000\n",
       "Name: selling_price, dtype: int64"
      ]
     },
     "execution_count": 37,
     "metadata": {},
     "output_type": "execute_result"
    },
    {
     "name": "stdout",
     "output_type": "stream",
     "text": [
      "time: 4.17 ms (started: 2024-05-22 22:02:59 -04:00)\n"
     ]
    }
   ],
   "source": [
    "# Top 5 - Products interms of similar selling price in the DataFrame\n",
    "\n",
    "# STEFANOS: Disable plotting\n",
    "# plt.figure(figsize=(12,4))\n",
    "# df['selling_price'].value_counts()[:5].plot(kind='barh', color={'#864879','#2D4263','#C84B31', '#ECDBBA', '#B3541E'})\n",
    "# plt.ylabel(\"Product Selling Price ($USD)\")\n",
    "# plt.xlabel(\"No.of Products\")\n",
    "# plt.title(\"Product Selling Price ($USD) Vs. No.of Products\")\n",
    "# plt.show();\n",
    "df['selling_price'].value_counts()[:5]"
   ]
  },
  {
   "cell_type": "code",
   "execution_count": 38,
   "metadata": {
    "execution": {
     "iopub.execute_input": "2022-11-03T12:30:27.402331Z",
     "iopub.status.busy": "2022-11-03T12:30:27.401573Z",
     "iopub.status.idle": "2022-11-03T12:30:27.644965Z",
     "shell.execute_reply": "2022-11-03T12:30:27.643103Z",
     "shell.execute_reply.started": "2022-11-03T12:30:27.402297Z"
    }
   },
   "outputs": [
    {
     "name": "stdout",
     "output_type": "stream",
     "text": [
      "time: 261 µs (started: 2024-05-22 22:02:59 -04:00)\n"
     ]
    }
   ],
   "source": [
    "# Top 15 - Products interms of similar selling price in the DataFrame\n",
    "\n",
    "# STEFANOS: Disable plotting\n",
    "# labels = df['selling_price'].value_counts().head(15).index\n",
    "# pie, ax = plt.subplots(figsize=[20,8])\n",
    "# plt.pie(x=df['selling_price'].value_counts().head(15).values, autopct=\"%.1f%%\", explode=[0.06]*15, labels=labels, pctdistance=0.5)\n",
    "# plt.title(\"Top 15 - Products interms of similar selling price ($USD)\", fontsize=14);"
   ]
  },
  {
   "cell_type": "markdown",
   "metadata": {},
   "source": [
    "## Maximum Selling Price"
   ]
  },
  {
   "cell_type": "code",
   "execution_count": 39,
   "metadata": {
    "execution": {
     "iopub.execute_input": "2022-11-03T12:30:27.648345Z",
     "iopub.status.busy": "2022-11-03T12:30:27.647102Z",
     "iopub.status.idle": "2022-11-03T12:30:27.65711Z",
     "shell.execute_reply": "2022-11-03T12:30:27.655571Z",
     "shell.execute_reply.started": "2022-11-03T12:30:27.648281Z"
    }
   },
   "outputs": [
    {
     "name": "stdout",
     "output_type": "stream",
     "text": [
      "The Maximun Selling Price is: 240 USD\n",
      "time: 603 µs (started: 2024-05-22 22:02:59 -04:00)\n"
     ]
    }
   ],
   "source": [
    "# Maximum Selling Price\n",
    "\n",
    "print(\"The Maximun Selling Price is:\",df['selling_price'].max(),\"USD\")"
   ]
  },
  {
   "cell_type": "markdown",
   "metadata": {},
   "source": [
    "## Minimum Selling Price"
   ]
  },
  {
   "cell_type": "code",
   "execution_count": 40,
   "metadata": {
    "execution": {
     "iopub.execute_input": "2022-11-03T12:30:27.660463Z",
     "iopub.status.busy": "2022-11-03T12:30:27.659477Z",
     "iopub.status.idle": "2022-11-03T12:30:27.673977Z",
     "shell.execute_reply": "2022-11-03T12:30:27.672203Z",
     "shell.execute_reply.started": "2022-11-03T12:30:27.660404Z"
    }
   },
   "outputs": [
    {
     "name": "stdout",
     "output_type": "stream",
     "text": [
      "The Minimum Selling Price is: 9 USD\n",
      "time: 584 µs (started: 2024-05-22 22:02:59 -04:00)\n"
     ]
    }
   ],
   "source": [
    "# Minimum Selling Price\n",
    "\n",
    "print(\"The Minimum Selling Price is:\",df['selling_price'].min(),\"USD\")"
   ]
  },
  {
   "cell_type": "markdown",
   "metadata": {},
   "source": [
    "## Average Selling Price"
   ]
  },
  {
   "cell_type": "code",
   "execution_count": 41,
   "metadata": {
    "execution": {
     "iopub.execute_input": "2022-11-03T12:30:27.677433Z",
     "iopub.status.busy": "2022-11-03T12:30:27.676406Z",
     "iopub.status.idle": "2022-11-03T12:30:27.688269Z",
     "shell.execute_reply": "2022-11-03T12:30:27.686722Z",
     "shell.execute_reply.started": "2022-11-03T12:30:27.67737Z"
    }
   },
   "outputs": [
    {
     "name": "stdout",
     "output_type": "stream",
     "text": [
      "The Average Selling Price is: 52.91 USD\n",
      "time: 838 µs (started: 2024-05-22 22:02:59 -04:00)\n"
     ]
    }
   ],
   "source": [
    "# Average Selling Price\n",
    "\n",
    "print(\"The Average Selling Price is:\",round(df['selling_price'].mean(),2),\"USD\")"
   ]
  },
  {
   "cell_type": "code",
   "execution_count": 42,
   "metadata": {
    "execution": {
     "iopub.execute_input": "2022-11-03T12:30:27.691659Z",
     "iopub.status.busy": "2022-11-03T12:30:27.690667Z",
     "iopub.status.idle": "2022-11-03T12:30:27.706089Z",
     "shell.execute_reply": "2022-11-03T12:30:27.705205Z",
     "shell.execute_reply.started": "2022-11-03T12:30:27.691598Z"
    }
   },
   "outputs": [
    {
     "name": "stderr",
     "output_type": "stream",
     "text": [
      "/tmp/ipykernel_20320/1346726108.py:3: FutureWarning: The behavior of `series[i:j]` with an integer-dtype index is deprecated. In a future version, this will be treated as *label-based* indexing, consistent with e.g. `series[i]` lookups. To retain the old behavior, use `series.iloc[i:j]`. To get the future behavior, use `series.loc[i:j]`.\n",
      "  set(df['selling_price'].sort_values(ascending=False)[:30].values)\n"
     ]
    },
    {
     "data": {
      "text/plain": [
       "{240}"
      ]
     },
     "execution_count": 42,
     "metadata": {},
     "output_type": "execute_result"
    },
    {
     "name": "stdout",
     "output_type": "stream",
     "text": [
      "time: 32.4 ms (started: 2024-05-22 22:02:59 -04:00)\n"
     ]
    }
   ],
   "source": [
    "# Top 10 - Highest Selling Prices in USD\n",
    "\n",
    "set(df['selling_price'].sort_values(ascending=False)[:30].values)"
   ]
  },
  {
   "cell_type": "code",
   "execution_count": 43,
   "metadata": {
    "execution": {
     "iopub.execute_input": "2022-11-03T12:30:27.708231Z",
     "iopub.status.busy": "2022-11-03T12:30:27.707224Z",
     "iopub.status.idle": "2022-11-03T12:30:27.723767Z",
     "shell.execute_reply": "2022-11-03T12:30:27.722291Z",
     "shell.execute_reply.started": "2022-11-03T12:30:27.708197Z"
    }
   },
   "outputs": [
    {
     "name": "stderr",
     "output_type": "stream",
     "text": [
      "/tmp/ipykernel_20320/3215042463.py:3: FutureWarning: The behavior of `series[i:j]` with an integer-dtype index is deprecated. In a future version, this will be treated as *label-based* indexing, consistent with e.g. `series[i]` lookups. To retain the old behavior, use `series.iloc[i:j]`. To get the future behavior, use `series.loc[i:j]`.\n",
      "  set(df['selling_price'].sort_values()[:40].values)\n"
     ]
    },
    {
     "data": {
      "text/plain": [
       "{9}"
      ]
     },
     "execution_count": 43,
     "metadata": {},
     "output_type": "execute_result"
    },
    {
     "name": "stdout",
     "output_type": "stream",
     "text": [
      "time: 31.9 ms (started: 2024-05-22 22:02:59 -04:00)\n"
     ]
    }
   ],
   "source": [
    "# Top 10 - Least Selling Prices in USD\n",
    "\n",
    "set(df['selling_price'].sort_values()[:40].values)"
   ]
  },
  {
   "cell_type": "markdown",
   "metadata": {},
   "source": [
    "#### Highest Selling price is '**240 USD**' and Least is '**9 USD**' and product(s) with selling price of '**56 USD**' is sold '**54**' times."
   ]
  },
  {
   "cell_type": "markdown",
   "metadata": {},
   "source": [
    "# Original Price"
   ]
  },
  {
   "cell_type": "code",
   "execution_count": 44,
   "metadata": {
    "execution": {
     "iopub.execute_input": "2022-11-03T12:30:27.726466Z",
     "iopub.status.busy": "2022-11-03T12:30:27.725643Z",
     "iopub.status.idle": "2022-11-03T12:30:27.744012Z",
     "shell.execute_reply": "2022-11-03T12:30:27.742638Z",
     "shell.execute_reply.started": "2022-11-03T12:30:27.726432Z"
    }
   },
   "outputs": [
    {
     "data": {
      "text/plain": [
       "42"
      ]
     },
     "execution_count": 44,
     "metadata": {},
     "output_type": "execute_result"
    },
    {
     "name": "stdout",
     "output_type": "stream",
     "text": [
      "time: 3.97 ms (started: 2024-05-22 22:02:59 -04:00)\n"
     ]
    }
   ],
   "source": [
    "# No.of Unique original price in the DataFrame\n",
    "\n",
    "df['original_price'].nunique()"
   ]
  },
  {
   "cell_type": "code",
   "execution_count": 45,
   "metadata": {
    "execution": {
     "iopub.execute_input": "2022-11-03T12:30:27.746317Z",
     "iopub.status.busy": "2022-11-03T12:30:27.745774Z",
     "iopub.status.idle": "2022-11-03T12:30:27.762625Z",
     "shell.execute_reply": "2022-11-03T12:30:27.761601Z",
     "shell.execute_reply.started": "2022-11-03T12:30:27.746282Z"
    }
   },
   "outputs": [
    {
     "name": "stderr",
     "output_type": "stream",
     "text": [
      "/tmp/ipykernel_20320/1021232118.py:3: FutureWarning: The behavior of `series[i:j]` with an integer-dtype index is deprecated. In a future version, this will be treated as *label-based* indexing, consistent with e.g. `series[i]` lookups. To retain the old behavior, use `series.iloc[i:j]`. To get the future behavior, use `series.loc[i:j]`.\n",
      "  df['original_price'].value_counts()[:15]\n"
     ]
    },
    {
     "data": {
      "text/plain": [
       "65     68000\n",
       "25     57000\n",
       "100    55000\n",
       "45     55000\n",
       "30     49000\n",
       "90     48000\n",
       "70     47000\n",
       "80     46000\n",
       "35     40000\n",
       "120    35000\n",
       "50     33000\n",
       "60     32000\n",
       "40     32000\n",
       "55     32000\n",
       "150    29000\n",
       "Name: original_price, dtype: int64"
      ]
     },
     "execution_count": 45,
     "metadata": {},
     "output_type": "execute_result"
    },
    {
     "name": "stdout",
     "output_type": "stream",
     "text": [
      "time: 4.35 ms (started: 2024-05-22 22:02:59 -04:00)\n"
     ]
    }
   ],
   "source": [
    "# Top 15 - Products interms of similar original price in the DataFrame\n",
    "\n",
    "df['original_price'].value_counts()[:15]"
   ]
  },
  {
   "cell_type": "code",
   "execution_count": 46,
   "metadata": {
    "execution": {
     "iopub.execute_input": "2022-11-03T12:30:27.765103Z",
     "iopub.status.busy": "2022-11-03T12:30:27.76429Z",
     "iopub.status.idle": "2022-11-03T12:30:28.064625Z",
     "shell.execute_reply": "2022-11-03T12:30:28.063409Z",
     "shell.execute_reply.started": "2022-11-03T12:30:27.765065Z"
    }
   },
   "outputs": [
    {
     "name": "stderr",
     "output_type": "stream",
     "text": [
      "/tmp/ipykernel_20320/1595926537.py:10: FutureWarning: The behavior of `series[i:j]` with an integer-dtype index is deprecated. In a future version, this will be treated as *label-based* indexing, consistent with e.g. `series[i]` lookups. To retain the old behavior, use `series.iloc[i:j]`. To get the future behavior, use `series.loc[i:j]`.\n",
      "  df['original_price'].value_counts()[:5]\n"
     ]
    },
    {
     "data": {
      "text/plain": [
       "65     68000\n",
       "25     57000\n",
       "100    55000\n",
       "45     55000\n",
       "30     49000\n",
       "Name: original_price, dtype: int64"
      ]
     },
     "execution_count": 46,
     "metadata": {},
     "output_type": "execute_result"
    },
    {
     "name": "stdout",
     "output_type": "stream",
     "text": [
      "time: 5.37 ms (started: 2024-05-22 22:02:59 -04:00)\n"
     ]
    }
   ],
   "source": [
    "# Top 5 - Products interms of similar origial price in the DataFrame\n",
    "\n",
    "# STEFANOS: Disable plotting\n",
    "# plt.figure(figsize=(12,4))\n",
    "# df['original_price'].value_counts()[:5].plot(kind='barh', color={'#864879','#2D4263','#C84B31', '#ECDBBA', '#B3541E'})\n",
    "# plt.ylabel(\"Original Product Price ($USD)\")\n",
    "# plt.xlabel(\"No.of Products\")\n",
    "# plt.title(\"Original Product Price ($USD) Vs. No.of Products\")\n",
    "# plt.show();\n",
    "df['original_price'].value_counts()[:5]"
   ]
  },
  {
   "cell_type": "code",
   "execution_count": 47,
   "metadata": {
    "execution": {
     "iopub.execute_input": "2022-11-03T12:30:28.066898Z",
     "iopub.status.busy": "2022-11-03T12:30:28.066279Z",
     "iopub.status.idle": "2022-11-03T12:30:28.379649Z",
     "shell.execute_reply": "2022-11-03T12:30:28.378207Z",
     "shell.execute_reply.started": "2022-11-03T12:30:28.066863Z"
    }
   },
   "outputs": [
    {
     "name": "stdout",
     "output_type": "stream",
     "text": [
      "time: 202 µs (started: 2024-05-22 22:02:59 -04:00)\n"
     ]
    }
   ],
   "source": [
    "# Top 15 - Products interms of similar Original price in the DataFrame\n",
    "\n",
    "# STEFANOS: Disable plotting\n",
    "# labels = df['original_price'].value_counts().head(15).index\n",
    "# pie, ax = plt.subplots(figsize=[20,8])\n",
    "# plt.pie(x=df['original_price'].value_counts().head(15).values, autopct=\"%.1f%%\", explode=[0.06]*15, labels=labels, pctdistance=0.5)\n",
    "# plt.title(\"Top 15 - Products interms of similar original price ($USD)\", fontsize=14);"
   ]
  },
  {
   "cell_type": "markdown",
   "metadata": {},
   "source": [
    "## Maximum Original Price"
   ]
  },
  {
   "cell_type": "code",
   "execution_count": 48,
   "metadata": {
    "execution": {
     "iopub.execute_input": "2022-11-03T12:30:28.382326Z",
     "iopub.status.busy": "2022-11-03T12:30:28.381249Z",
     "iopub.status.idle": "2022-11-03T12:30:28.390119Z",
     "shell.execute_reply": "2022-11-03T12:30:28.388333Z",
     "shell.execute_reply.started": "2022-11-03T12:30:28.382283Z"
    }
   },
   "outputs": [
    {
     "name": "stdout",
     "output_type": "stream",
     "text": [
      "The Maximun Original Price is: 300 USD\n",
      "time: 658 µs (started: 2024-05-22 22:02:59 -04:00)\n"
     ]
    }
   ],
   "source": [
    "# Maximum Original Price\n",
    "\n",
    "print(\"The Maximun Original Price is:\",df['original_price'].max(),\"USD\")"
   ]
  },
  {
   "cell_type": "markdown",
   "metadata": {},
   "source": [
    "## Minimum Original Price"
   ]
  },
  {
   "cell_type": "code",
   "execution_count": 49,
   "metadata": {
    "execution": {
     "iopub.execute_input": "2022-11-03T12:30:28.392766Z",
     "iopub.status.busy": "2022-11-03T12:30:28.392199Z",
     "iopub.status.idle": "2022-11-03T12:30:28.404581Z",
     "shell.execute_reply": "2022-11-03T12:30:28.402613Z",
     "shell.execute_reply.started": "2022-11-03T12:30:28.39272Z"
    }
   },
   "outputs": [
    {
     "name": "stdout",
     "output_type": "stream",
     "text": [
      "The Minimum Original Price is: 14 USD\n",
      "time: 594 µs (started: 2024-05-22 22:02:59 -04:00)\n"
     ]
    }
   ],
   "source": [
    "# Minimum Original Price\n",
    "\n",
    "print(\"The Minimum Original Price is:\",df['original_price'].min(),\"USD\")"
   ]
  },
  {
   "cell_type": "markdown",
   "metadata": {},
   "source": [
    "## Average Original Price"
   ]
  },
  {
   "cell_type": "code",
   "execution_count": 50,
   "metadata": {
    "execution": {
     "iopub.execute_input": "2022-11-03T12:30:28.406722Z",
     "iopub.status.busy": "2022-11-03T12:30:28.406304Z",
     "iopub.status.idle": "2022-11-03T12:30:28.42328Z",
     "shell.execute_reply": "2022-11-03T12:30:28.421556Z",
     "shell.execute_reply.started": "2022-11-03T12:30:28.406686Z"
    }
   },
   "outputs": [
    {
     "name": "stdout",
     "output_type": "stream",
     "text": [
      "The Average Original Price is: 69.01 USD\n",
      "time: 835 µs (started: 2024-05-22 22:02:59 -04:00)\n"
     ]
    }
   ],
   "source": [
    "# Average Original Price\n",
    "\n",
    "print(\"The Average Original Price is:\",round(df['original_price'].mean(),2),\"USD\")"
   ]
  },
  {
   "cell_type": "code",
   "execution_count": 51,
   "metadata": {
    "execution": {
     "iopub.execute_input": "2022-11-03T12:30:28.427153Z",
     "iopub.status.busy": "2022-11-03T12:30:28.426315Z",
     "iopub.status.idle": "2022-11-03T12:30:28.443639Z",
     "shell.execute_reply": "2022-11-03T12:30:28.441005Z",
     "shell.execute_reply.started": "2022-11-03T12:30:28.427106Z"
    }
   },
   "outputs": [
    {
     "name": "stderr",
     "output_type": "stream",
     "text": [
      "/tmp/ipykernel_20320/1506282707.py:3: FutureWarning: The behavior of `series[i:j]` with an integer-dtype index is deprecated. In a future version, this will be treated as *label-based* indexing, consistent with e.g. `series[i]` lookups. To retain the old behavior, use `series.iloc[i:j]`. To get the future behavior, use `series.loc[i:j]`.\n",
      "  set(df['original_price'].sort_values(ascending=False)[:80].values)\n"
     ]
    },
    {
     "data": {
      "text/plain": [
       "{300}"
      ]
     },
     "execution_count": 51,
     "metadata": {},
     "output_type": "execute_result"
    },
    {
     "name": "stdout",
     "output_type": "stream",
     "text": [
      "time: 29.5 ms (started: 2024-05-22 22:02:59 -04:00)\n"
     ]
    }
   ],
   "source": [
    "# Top 10 - Highest Original Prices in USD\n",
    "\n",
    "set(df['original_price'].sort_values(ascending=False)[:80].values)"
   ]
  },
  {
   "cell_type": "code",
   "execution_count": 52,
   "metadata": {
    "execution": {
     "iopub.execute_input": "2022-11-03T12:30:28.44611Z",
     "iopub.status.busy": "2022-11-03T12:30:28.445436Z",
     "iopub.status.idle": "2022-11-03T12:30:28.45856Z",
     "shell.execute_reply": "2022-11-03T12:30:28.456868Z",
     "shell.execute_reply.started": "2022-11-03T12:30:28.446053Z"
    }
   },
   "outputs": [
    {
     "data": {
      "text/plain": [
       "{14}"
      ]
     },
     "execution_count": 52,
     "metadata": {},
     "output_type": "execute_result"
    },
    {
     "name": "stdout",
     "output_type": "stream",
     "text": [
      "time: 27.6 ms (started: 2024-05-22 22:02:59 -04:00)\n"
     ]
    }
   ],
   "source": [
    "# Top 10 - Least Original Prices in USD\n",
    "\n",
    "set(df['original_price'].sort_values().values[:100])"
   ]
  },
  {
   "cell_type": "markdown",
   "metadata": {},
   "source": [
    "#### Highest Original price is '**300 USD**' and Least is '**14 USD**' and product(s) with selling price of '**65 USD**' is sold '**68**' times."
   ]
  },
  {
   "cell_type": "markdown",
   "metadata": {},
   "source": [
    "# Discount"
   ]
  },
  {
   "cell_type": "code",
   "execution_count": 53,
   "metadata": {
    "execution": {
     "iopub.execute_input": "2022-11-03T12:30:28.461636Z",
     "iopub.status.busy": "2022-11-03T12:30:28.461219Z",
     "iopub.status.idle": "2022-11-03T12:30:28.470855Z",
     "shell.execute_reply": "2022-11-03T12:30:28.469849Z",
     "shell.execute_reply.started": "2022-11-03T12:30:28.461603Z"
    }
   },
   "outputs": [
    {
     "name": "stdout",
     "output_type": "stream",
     "text": [
      "time: 1.83 ms (started: 2024-05-22 22:02:59 -04:00)\n"
     ]
    }
   ],
   "source": [
    "# Calculating Discount\n",
    "\n",
    "df['Discount'] = df['original_price'] - df['selling_price']"
   ]
  },
  {
   "cell_type": "code",
   "execution_count": 54,
   "metadata": {
    "execution": {
     "iopub.execute_input": "2022-11-03T12:30:28.472359Z",
     "iopub.status.busy": "2022-11-03T12:30:28.471988Z",
     "iopub.status.idle": "2022-11-03T12:30:28.487479Z",
     "shell.execute_reply": "2022-11-03T12:30:28.486148Z",
     "shell.execute_reply.started": "2022-11-03T12:30:28.47232Z"
    }
   },
   "outputs": [
    {
     "data": {
      "text/plain": [
       "41"
      ]
     },
     "execution_count": 54,
     "metadata": {},
     "output_type": "execute_result"
    },
    {
     "name": "stdout",
     "output_type": "stream",
     "text": [
      "time: 3.07 ms (started: 2024-05-22 22:02:59 -04:00)\n"
     ]
    }
   ],
   "source": [
    "# No.of Unique Discount in the DataFrame\n",
    "\n",
    "df['Discount'].nunique()"
   ]
  },
  {
   "cell_type": "code",
   "execution_count": 55,
   "metadata": {
    "execution": {
     "iopub.execute_input": "2022-11-03T12:30:28.490918Z",
     "iopub.status.busy": "2022-11-03T12:30:28.488902Z",
     "iopub.status.idle": "2022-11-03T12:30:28.504804Z",
     "shell.execute_reply": "2022-11-03T12:30:28.503603Z",
     "shell.execute_reply.started": "2022-11-03T12:30:28.490858Z"
    }
   },
   "outputs": [
    {
     "data": {
      "text/plain": [
       "[32, 33, 36, 37, 39, 40, 42, 45, 48, 50, 54, 60, 72, 75, 84]"
      ]
     },
     "execution_count": 55,
     "metadata": {},
     "output_type": "execute_result"
    },
    {
     "name": "stdout",
     "output_type": "stream",
     "text": [
      "time: 3.23 ms (started: 2024-05-22 22:02:59 -04:00)\n"
     ]
    }
   ],
   "source": [
    "# Top 15 - Highest Discount Amount in the DataFrame\n",
    "\n",
    "list(set(df['Discount'].unique()))[-15::]"
   ]
  },
  {
   "cell_type": "code",
   "execution_count": 56,
   "metadata": {
    "execution": {
     "iopub.execute_input": "2022-11-03T12:30:28.507455Z",
     "iopub.status.busy": "2022-11-03T12:30:28.506609Z",
     "iopub.status.idle": "2022-11-03T12:30:28.520293Z",
     "shell.execute_reply": "2022-11-03T12:30:28.518767Z",
     "shell.execute_reply.started": "2022-11-03T12:30:28.507393Z"
    }
   },
   "outputs": [
    {
     "data": {
      "text/plain": [
       "[2, 3, 4, 5, 6, 7, 8, 9, 10, 11, 12, 13, 14, 15, 16]"
      ]
     },
     "execution_count": 56,
     "metadata": {},
     "output_type": "execute_result"
    },
    {
     "name": "stdout",
     "output_type": "stream",
     "text": [
      "time: 3.08 ms (started: 2024-05-22 22:02:59 -04:00)\n"
     ]
    }
   ],
   "source": [
    "# Top 15 - Least Discount Amount in the DataFrame\n",
    "\n",
    "list(set(df['Discount'].unique()))[:15]"
   ]
  },
  {
   "cell_type": "code",
   "execution_count": 57,
   "metadata": {
    "execution": {
     "iopub.execute_input": "2022-11-03T12:30:28.524034Z",
     "iopub.status.busy": "2022-11-03T12:30:28.52199Z",
     "iopub.status.idle": "2022-11-03T12:30:28.539443Z",
     "shell.execute_reply": "2022-11-03T12:30:28.537616Z",
     "shell.execute_reply.started": "2022-11-03T12:30:28.523963Z"
    }
   },
   "outputs": [
    {
     "name": "stderr",
     "output_type": "stream",
     "text": [
      "/tmp/ipykernel_20320/58594.py:3: FutureWarning: The behavior of `series[i:j]` with an integer-dtype index is deprecated. In a future version, this will be treated as *label-based* indexing, consistent with e.g. `series[i]` lookups. To retain the old behavior, use `series.iloc[i:j]`. To get the future behavior, use `series.loc[i:j]`.\n",
      "  df['Discount'].value_counts()[:15]\n"
     ]
    },
    {
     "data": {
      "text/plain": [
       "5     73000\n",
       "9     61000\n",
       "13    57000\n",
       "10    40000\n",
       "7     39000\n",
       "14    38000\n",
       "6     36000\n",
       "18    33000\n",
       "12    33000\n",
       "8     32000\n",
       "30    30000\n",
       "15    29000\n",
       "16    29000\n",
       "4     28000\n",
       "24    28000\n",
       "Name: Discount, dtype: int64"
      ]
     },
     "execution_count": 57,
     "metadata": {},
     "output_type": "execute_result"
    },
    {
     "name": "stdout",
     "output_type": "stream",
     "text": [
      "time: 4.97 ms (started: 2024-05-22 22:02:59 -04:00)\n"
     ]
    }
   ],
   "source": [
    "# Top 15 - Most Given Discount Amount in the DataFrame\n",
    "\n",
    "df['Discount'].value_counts()[:15]"
   ]
  },
  {
   "cell_type": "code",
   "execution_count": 58,
   "metadata": {
    "execution": {
     "iopub.execute_input": "2022-11-03T12:30:28.543293Z",
     "iopub.status.busy": "2022-11-03T12:30:28.541315Z",
     "iopub.status.idle": "2022-11-03T12:30:28.842168Z",
     "shell.execute_reply": "2022-11-03T12:30:28.840968Z",
     "shell.execute_reply.started": "2022-11-03T12:30:28.543161Z"
    }
   },
   "outputs": [
    {
     "name": "stderr",
     "output_type": "stream",
     "text": [
      "/tmp/ipykernel_20320/2017051278.py:10: FutureWarning: The behavior of `series[i:j]` with an integer-dtype index is deprecated. In a future version, this will be treated as *label-based* indexing, consistent with e.g. `series[i]` lookups. To retain the old behavior, use `series.iloc[i:j]`. To get the future behavior, use `series.loc[i:j]`.\n",
      "  df['Discount'].value_counts()[:5]\n"
     ]
    },
    {
     "data": {
      "text/plain": [
       "5     73000\n",
       "9     61000\n",
       "13    57000\n",
       "10    40000\n",
       "7     39000\n",
       "Name: Discount, dtype: int64"
      ]
     },
     "execution_count": 58,
     "metadata": {},
     "output_type": "execute_result"
    },
    {
     "name": "stdout",
     "output_type": "stream",
     "text": [
      "time: 4.24 ms (started: 2024-05-22 22:02:59 -04:00)\n"
     ]
    }
   ],
   "source": [
    "# Top 5 - Most Given Discount Amount in the DataFrame\n",
    "\n",
    "# STEFANOS: Disable plotting\n",
    "# plt.figure(figsize=(12,4))\n",
    "# df['Discount'].value_counts()[:5].plot(kind='barh', color={'#864879','#2D4263','#C84B31', '#ECDBBA', '#B3541E'})\n",
    "# plt.ylabel(\"Discount Amount\")\n",
    "# plt.xlabel(\"No.of times Particular Disount Amount Given\")\n",
    "# plt.title(\"Discount Amount Vs. No.of times Particular Disount Amount Given\")\n",
    "# plt.show();\n",
    "df['Discount'].value_counts()[:5]"
   ]
  },
  {
   "cell_type": "code",
   "execution_count": 59,
   "metadata": {
    "execution": {
     "iopub.execute_input": "2022-11-03T12:30:28.844535Z",
     "iopub.status.busy": "2022-11-03T12:30:28.844038Z",
     "iopub.status.idle": "2022-11-03T12:30:29.143375Z",
     "shell.execute_reply": "2022-11-03T12:30:29.141788Z",
     "shell.execute_reply.started": "2022-11-03T12:30:28.844464Z"
    }
   },
   "outputs": [
    {
     "name": "stdout",
     "output_type": "stream",
     "text": [
      "time: 5.27 ms (started: 2024-05-22 22:02:59 -04:00)\n"
     ]
    }
   ],
   "source": [
    "# Top 15 - Most Given Discount Amount in the DataFrame\n",
    "\n",
    "labels = df['Discount'].value_counts().head(15).index\n",
    "# STEFANOS: Disable plotting\n",
    "# pie, ax = plt.subplots(figsize=[20,8])\n",
    "# plt.pie(x=df['Discount'].value_counts().head(15).values, autopct=\"%.1f%%\", explode=[0.06]*15, labels=labels, pctdistance=0.5)\n",
    "# plt.title(\"Top 15 - Most Given Discount Amount in the DataFrame\", fontsize=14);\n",
    "_ = df['Discount'].value_counts().head(15).values"
   ]
  },
  {
   "cell_type": "markdown",
   "metadata": {},
   "source": [
    "#### Highest Discount Amount is '**84 USD**' and Least is '**2 USD**' and product(s) with Disount Amount of '**5 USD**' is sold '**73**' times."
   ]
  },
  {
   "cell_type": "markdown",
   "metadata": {},
   "source": [
    "# Discount Percentage(%)"
   ]
  },
  {
   "cell_type": "code",
   "execution_count": 60,
   "metadata": {
    "execution": {
     "iopub.execute_input": "2022-11-03T12:30:29.146409Z",
     "iopub.status.busy": "2022-11-03T12:30:29.145121Z",
     "iopub.status.idle": "2022-11-03T12:30:29.155468Z",
     "shell.execute_reply": "2022-11-03T12:30:29.154021Z",
     "shell.execute_reply.started": "2022-11-03T12:30:29.146334Z"
    }
   },
   "outputs": [
    {
     "name": "stdout",
     "output_type": "stream",
     "text": [
      "time: 6.3 ms (started: 2024-05-22 22:02:59 -04:00)\n"
     ]
    }
   ],
   "source": [
    "# Calculating Discount percentage(%)\n",
    "\n",
    "df['Discount(%)'] = round(((df['original_price'] - df['selling_price']) / (df['original_price']))*100,2)"
   ]
  },
  {
   "cell_type": "code",
   "execution_count": 61,
   "metadata": {
    "execution": {
     "iopub.execute_input": "2022-11-03T12:30:29.157656Z",
     "iopub.status.busy": "2022-11-03T12:30:29.157187Z",
     "iopub.status.idle": "2022-11-03T12:30:29.172656Z",
     "shell.execute_reply": "2022-11-03T12:30:29.17107Z",
     "shell.execute_reply.started": "2022-11-03T12:30:29.157622Z"
    }
   },
   "outputs": [
    {
     "data": {
      "text/plain": [
       "40"
      ]
     },
     "execution_count": 61,
     "metadata": {},
     "output_type": "execute_result"
    },
    {
     "name": "stdout",
     "output_type": "stream",
     "text": [
      "time: 4.77 ms (started: 2024-05-22 22:02:59 -04:00)\n"
     ]
    }
   ],
   "source": [
    "# No.of Unique Discount Percentage(%) in the DataFrame\n",
    "\n",
    "df['Discount(%)'].nunique()"
   ]
  },
  {
   "cell_type": "code",
   "execution_count": 62,
   "metadata": {
    "execution": {
     "iopub.execute_input": "2022-11-03T12:30:29.175473Z",
     "iopub.status.busy": "2022-11-03T12:30:29.174549Z",
     "iopub.status.idle": "2022-11-03T12:30:29.187287Z",
     "shell.execute_reply": "2022-11-03T12:30:29.185659Z",
     "shell.execute_reply.started": "2022-11-03T12:30:29.175422Z"
    }
   },
   "outputs": [
    {
     "name": "stdout",
     "output_type": "stream",
     "text": [
      "[50.0, 49.33, 49.23, 40.0, 39.53, 35.71, 30.0, 29.41, 29.33, 29.31, 29.23, 29.17, 29.09, 28.89, 28.85]\n",
      "time: 4.12 ms (started: 2024-05-22 22:02:59 -04:00)\n"
     ]
    }
   ],
   "source": [
    "# Top 15 - Highest Discount Percentage(%) in the DataFrame\n",
    "\n",
    "top_discount_percnet = list(set(df['Discount(%)'].unique()))\n",
    "top_discount_percnet.sort(reverse=True)\n",
    "print(top_discount_percnet[:15])"
   ]
  },
  {
   "cell_type": "code",
   "execution_count": 63,
   "metadata": {
    "execution": {
     "iopub.execute_input": "2022-11-03T12:30:29.189211Z",
     "iopub.status.busy": "2022-11-03T12:30:29.188837Z",
     "iopub.status.idle": "2022-11-03T12:30:29.20381Z",
     "shell.execute_reply": "2022-11-03T12:30:29.202259Z",
     "shell.execute_reply.started": "2022-11-03T12:30:29.189179Z"
    }
   },
   "outputs": [
    {
     "name": "stdout",
     "output_type": "stream",
     "text": [
      "[7.14, 8.0, 8.57, 8.89, 9.09, 9.23, 9.33, 10.0, 14.29, 16.67, 17.39, 17.86, 18.18, 18.6, 18.75]\n",
      "time: 4.11 ms (started: 2024-05-22 22:02:59 -04:00)\n"
     ]
    }
   ],
   "source": [
    "# Top 15 - Least Discount Percentage(%) in the DataFrame\n",
    "\n",
    "least_discount_percnet = list(set(df['Discount(%)'].unique()))\n",
    "least_discount_percnet.sort(reverse=False)\n",
    "print(least_discount_percnet[:15])"
   ]
  },
  {
   "cell_type": "code",
   "execution_count": 64,
   "metadata": {
    "execution": {
     "iopub.execute_input": "2022-11-03T12:30:29.206187Z",
     "iopub.status.busy": "2022-11-03T12:30:29.205814Z",
     "iopub.status.idle": "2022-11-03T12:30:29.222282Z",
     "shell.execute_reply": "2022-11-03T12:30:29.221258Z",
     "shell.execute_reply.started": "2022-11-03T12:30:29.20615Z"
    }
   },
   "outputs": [
    {
     "data": {
      "text/plain": [
       "20.00    454000\n",
       "30.00    173000\n",
       "10.00     44000\n",
       "29.23     20000\n",
       "28.57     15000\n",
       "28.89     15000\n",
       "40.00     11000\n",
       "17.86     11000\n",
       "27.78      8000\n",
       "29.41      8000\n",
       "28.00      7000\n",
       "18.18      6000\n",
       "29.33      5000\n",
       "8.89       5000\n",
       "7.14       4000\n",
       "Name: Discount(%), dtype: int64"
      ]
     },
     "execution_count": 64,
     "metadata": {},
     "output_type": "execute_result"
    },
    {
     "name": "stdout",
     "output_type": "stream",
     "text": [
      "time: 6.4 ms (started: 2024-05-22 22:02:59 -04:00)\n"
     ]
    }
   ],
   "source": [
    "# Top 15 - Most Given Discount Percentage(%) in the DataFrame\n",
    "\n",
    "df['Discount(%)'].value_counts().head(15)"
   ]
  },
  {
   "cell_type": "code",
   "execution_count": 65,
   "metadata": {
    "execution": {
     "iopub.execute_input": "2022-11-03T12:30:29.223989Z",
     "iopub.status.busy": "2022-11-03T12:30:29.223576Z",
     "iopub.status.idle": "2022-11-03T12:30:29.496254Z",
     "shell.execute_reply": "2022-11-03T12:30:29.494661Z",
     "shell.execute_reply.started": "2022-11-03T12:30:29.223939Z"
    }
   },
   "outputs": [
    {
     "data": {
      "text/plain": [
       "20.00    454000\n",
       "30.00    173000\n",
       "10.00     44000\n",
       "29.23     20000\n",
       "28.57     15000\n",
       "Name: Discount(%), dtype: int64"
      ]
     },
     "execution_count": 65,
     "metadata": {},
     "output_type": "execute_result"
    },
    {
     "name": "stdout",
     "output_type": "stream",
     "text": [
      "time: 5.95 ms (started: 2024-05-22 22:02:59 -04:00)\n"
     ]
    }
   ],
   "source": [
    "# Top 5 - Most Given Discount Percentage in the DataFrame\n",
    "\n",
    "# STEFANOS: Disable plotting\n",
    "# plt.figure(figsize=(12,4))\n",
    "# df['Discount(%)'].value_counts().head(5).plot(kind='barh', color={'#864879','#2D4263','#C84B31', '#ECDBBA', '#B3541E'})\n",
    "# plt.ylabel(\"Discount Percentage\")\n",
    "# plt.xlabel(\"No.of times Particular Disount Percentage Given\")\n",
    "# plt.title(\"Discount Percentage Vs. No.of times Particular Disount Percentage Given\")\n",
    "# plt.show();\n",
    "df['Discount(%)'].value_counts().head(5)"
   ]
  },
  {
   "cell_type": "code",
   "execution_count": 66,
   "metadata": {
    "execution": {
     "iopub.execute_input": "2022-11-03T12:30:29.498221Z",
     "iopub.status.busy": "2022-11-03T12:30:29.497849Z",
     "iopub.status.idle": "2022-11-03T12:30:30.982824Z",
     "shell.execute_reply": "2022-11-03T12:30:30.981938Z",
     "shell.execute_reply.started": "2022-11-03T12:30:29.498189Z"
    }
   },
   "outputs": [
    {
     "name": "stdout",
     "output_type": "stream",
     "text": [
      "time: 8.54 ms (started: 2024-05-22 22:02:59 -04:00)\n"
     ]
    }
   ],
   "source": [
    "# Top 15 - Most Given Discount Percentage in the DataFrame\n",
    "\n",
    "labels = df['Discount(%)'].value_counts().head(15).index\n",
    "# STEFANOS: Disable plotting\n",
    "# pie, ax = plt.subplots(figsize=[20,15])\n",
    "# plt.pie(x=df['Discount(%)'].value_counts().head(15).values, autopct=\"%.1f%%\", explode=[0.06]*15, labels=labels, pctdistance=0.5)\n",
    "# plt.title(\"Top 15 - Most Given Discount Percenatage in the DataFrame\", fontsize=14);\n",
    "# plt.tight_layout();\n",
    "_=df['Discount(%)'].value_counts().head(15).values"
   ]
  },
  {
   "cell_type": "markdown",
   "metadata": {},
   "source": [
    "#### Highest Discount% is '**50%**' and Least is '**7.14%**' and product(s) with Disount Percentage of '**20**' is sold '**254**' times."
   ]
  },
  {
   "cell_type": "markdown",
   "metadata": {},
   "source": [
    "# Color"
   ]
  },
  {
   "cell_type": "code",
   "execution_count": 67,
   "metadata": {
    "execution": {
     "iopub.execute_input": "2022-11-03T12:30:30.984662Z",
     "iopub.status.busy": "2022-11-03T12:30:30.984074Z",
     "iopub.status.idle": "2022-11-03T12:30:30.994778Z",
     "shell.execute_reply": "2022-11-03T12:30:30.993182Z",
     "shell.execute_reply.started": "2022-11-03T12:30:30.984629Z"
    }
   },
   "outputs": [
    {
     "data": {
      "text/plain": [
       "array(['Purple', 'Pink', 'Green', 'Blue', 'Grey', 'White', 'Yellow',\n",
       "       'Black', 'Red', 'Multicolor', 'Gold', 'Burgundy', 'Beige',\n",
       "       'Orange', 'Multi', 'Turquoise', 'Silver', 'Brown'], dtype=object)"
      ]
     },
     "execution_count": 67,
     "metadata": {},
     "output_type": "execute_result"
    },
    {
     "name": "stdout",
     "output_type": "stream",
     "text": [
      "time: 17.9 ms (started: 2024-05-22 22:02:59 -04:00)\n"
     ]
    }
   ],
   "source": [
    "# Unique colors in the DataFrame\n",
    "\n",
    "df['color'].unique()"
   ]
  },
  {
   "cell_type": "code",
   "execution_count": 68,
   "metadata": {
    "execution": {
     "iopub.execute_input": "2022-11-03T12:30:30.99752Z",
     "iopub.status.busy": "2022-11-03T12:30:30.997031Z",
     "iopub.status.idle": "2022-11-03T12:30:31.012335Z",
     "shell.execute_reply": "2022-11-03T12:30:31.010764Z",
     "shell.execute_reply.started": "2022-11-03T12:30:30.997455Z"
    }
   },
   "outputs": [
    {
     "data": {
      "text/plain": [
       "18"
      ]
     },
     "execution_count": 68,
     "metadata": {},
     "output_type": "execute_result"
    },
    {
     "name": "stdout",
     "output_type": "stream",
     "text": [
      "time: 17.9 ms (started: 2024-05-22 22:03:00 -04:00)\n"
     ]
    }
   ],
   "source": [
    "# No.of Unique colors in the DataFrame\n",
    "\n",
    "df['color'].nunique()"
   ]
  },
  {
   "cell_type": "code",
   "execution_count": 69,
   "metadata": {
    "execution": {
     "iopub.execute_input": "2022-11-03T12:30:31.015295Z",
     "iopub.status.busy": "2022-11-03T12:30:31.014796Z",
     "iopub.status.idle": "2022-11-03T12:30:31.029577Z",
     "shell.execute_reply": "2022-11-03T12:30:31.028076Z",
     "shell.execute_reply.started": "2022-11-03T12:30:31.015253Z"
    }
   },
   "outputs": [
    {
     "data": {
      "text/plain": [
       "White         218000\n",
       "Black         179000\n",
       "Blue          102000\n",
       "Grey           79000\n",
       "Pink           62000\n",
       "Green          59000\n",
       "Purple         31000\n",
       "Red            25000\n",
       "Multicolor     20000\n",
       "Yellow         17000\n",
       "Orange         11000\n",
       "Burgundy        9000\n",
       "Beige           6000\n",
       "Multi           4000\n",
       "Gold            3000\n",
       "Turquoise       2000\n",
       "Silver          1000\n",
       "Brown           1000\n",
       "Name: color, dtype: int64"
      ]
     },
     "execution_count": 69,
     "metadata": {},
     "output_type": "execute_result"
    },
    {
     "name": "stdout",
     "output_type": "stream",
     "text": [
      "time: 18.8 ms (started: 2024-05-22 22:03:00 -04:00)\n"
     ]
    }
   ],
   "source": [
    "# No.of Products for each Color\n",
    "\n",
    "df['color'].value_counts()"
   ]
  },
  {
   "cell_type": "code",
   "execution_count": 70,
   "metadata": {
    "execution": {
     "iopub.execute_input": "2022-11-03T12:30:31.031821Z",
     "iopub.status.busy": "2022-11-03T12:30:31.031447Z",
     "iopub.status.idle": "2022-11-03T12:30:31.56002Z",
     "shell.execute_reply": "2022-11-03T12:30:31.558576Z",
     "shell.execute_reply.started": "2022-11-03T12:30:31.031789Z"
    }
   },
   "outputs": [
    {
     "name": "stdout",
     "output_type": "stream",
     "text": [
      "time: 34.7 ms (started: 2024-05-22 22:03:00 -04:00)\n"
     ]
    }
   ],
   "source": [
    "# No.of Products for each Color\n",
    "\n",
    "labels = df['color'].value_counts().index\n",
    "# STEFANOS: Disable plotting\n",
    "# pie, ax = plt.subplots(figsize=[20,15])\n",
    "# plt.pie(x=df['color'].value_counts().values, autopct=\"%.1f%%\", explode=[0.03]*18, labels=labels, pctdistance=0.5)\n",
    "# plt.title(\"No.of Products for each Color in the DataFrame\", fontsize=14);\n",
    "# plt.tight_layout();\n",
    "_ = x=df['color'].value_counts().values"
   ]
  },
  {
   "cell_type": "markdown",
   "metadata": {},
   "source": [
    "# Which Color is most popular among genders?"
   ]
  },
  {
   "cell_type": "code",
   "execution_count": 71,
   "metadata": {
    "execution": {
     "iopub.execute_input": "2022-11-03T12:30:31.56216Z",
     "iopub.status.busy": "2022-11-03T12:30:31.561833Z",
     "iopub.status.idle": "2022-11-03T12:30:31.575564Z",
     "shell.execute_reply": "2022-11-03T12:30:31.574213Z",
     "shell.execute_reply.started": "2022-11-03T12:30:31.562131Z"
    }
   },
   "outputs": [
    {
     "data": {
      "text/plain": [
       "color\n",
       "Black         20000\n",
       "Blue          12000\n",
       "Green          4000\n",
       "Grey           9000\n",
       "Multicolor     1000\n",
       "Orange         1000\n",
       "Pink          13000\n",
       "Purple         3000\n",
       "Red            5000\n",
       "White         26000\n",
       "Yellow         3000\n",
       "dtype: int64"
      ]
     },
     "execution_count": 71,
     "metadata": {},
     "output_type": "execute_result"
    },
    {
     "name": "stdout",
     "output_type": "stream",
     "text": [
      "time: 68.1 ms (started: 2024-05-22 22:03:00 -04:00)\n"
     ]
    }
   ],
   "source": [
    "# Popular Color in Kids Category\n",
    "\n",
    "df.groupby(['Category','color']).size()['Kids']"
   ]
  },
  {
   "cell_type": "code",
   "execution_count": 72,
   "metadata": {
    "execution": {
     "iopub.execute_input": "2022-11-03T12:30:31.577997Z",
     "iopub.status.busy": "2022-11-03T12:30:31.57741Z",
     "iopub.status.idle": "2022-11-03T12:30:31.592974Z",
     "shell.execute_reply": "2022-11-03T12:30:31.591433Z",
     "shell.execute_reply.started": "2022-11-03T12:30:31.577929Z"
    }
   },
   "outputs": [
    {
     "data": {
      "text/plain": [
       "color\n",
       "Beige          1000\n",
       "Black         67000\n",
       "Blue          28000\n",
       "Burgundy       5000\n",
       "Gold           1000\n",
       "Green         26000\n",
       "Grey          23000\n",
       "Multi          3000\n",
       "Multicolor    10000\n",
       "Orange         2000\n",
       "Pink          44000\n",
       "Purple        26000\n",
       "Red           10000\n",
       "Turquoise      1000\n",
       "White         92000\n",
       "Yellow         3000\n",
       "dtype: int64"
      ]
     },
     "execution_count": 72,
     "metadata": {},
     "output_type": "execute_result"
    },
    {
     "name": "stdout",
     "output_type": "stream",
     "text": [
      "time: 69.3 ms (started: 2024-05-22 22:03:00 -04:00)\n"
     ]
    }
   ],
   "source": [
    "# Popular Color in Womens Category\n",
    "\n",
    "df.groupby(['Category','color']).size()['Women']"
   ]
  },
  {
   "cell_type": "code",
   "execution_count": 73,
   "metadata": {
    "execution": {
     "iopub.execute_input": "2022-11-03T12:30:31.595299Z",
     "iopub.status.busy": "2022-11-03T12:30:31.594659Z",
     "iopub.status.idle": "2022-11-03T12:30:31.609034Z",
     "shell.execute_reply": "2022-11-03T12:30:31.607507Z",
     "shell.execute_reply.started": "2022-11-03T12:30:31.595263Z"
    }
   },
   "outputs": [
    {
     "data": {
      "text/plain": [
       "color\n",
       "Beige          5000\n",
       "Black         61000\n",
       "Blue          47000\n",
       "Burgundy       4000\n",
       "Gold           2000\n",
       "Green         22000\n",
       "Grey          39000\n",
       "Multi          1000\n",
       "Multicolor     7000\n",
       "Orange         7000\n",
       "Pink           1000\n",
       "Purple         2000\n",
       "Red            8000\n",
       "White         67000\n",
       "Yellow         6000\n",
       "dtype: int64"
      ]
     },
     "execution_count": 73,
     "metadata": {},
     "output_type": "execute_result"
    },
    {
     "name": "stdout",
     "output_type": "stream",
     "text": [
      "time: 68.6 ms (started: 2024-05-22 22:03:00 -04:00)\n"
     ]
    }
   ],
   "source": [
    "# Popular Color in Mens Category\n",
    "\n",
    "df.groupby(['Category','color']).size()['Men']"
   ]
  },
  {
   "cell_type": "markdown",
   "metadata": {},
   "source": [
    "#### The top color in **Mens** category is '**White**' with '67' sales,the top color in **Womens** category is '**White**' with '92' sales and the top color in **Kids** category is '**White**' with '26' sales"
   ]
  },
  {
   "cell_type": "markdown",
   "metadata": {},
   "source": [
    "# Availability"
   ]
  },
  {
   "cell_type": "code",
   "execution_count": 74,
   "metadata": {
    "execution": {
     "iopub.execute_input": "2022-11-03T12:30:31.611759Z",
     "iopub.status.busy": "2022-11-03T12:30:31.610609Z",
     "iopub.status.idle": "2022-11-03T12:30:31.619804Z",
     "shell.execute_reply": "2022-11-03T12:30:31.6186Z",
     "shell.execute_reply.started": "2022-11-03T12:30:31.61171Z"
    }
   },
   "outputs": [
    {
     "data": {
      "text/plain": [
       "array(['InStock', 'OutOfStock'], dtype=object)"
      ]
     },
     "execution_count": 74,
     "metadata": {},
     "output_type": "execute_result"
    },
    {
     "name": "stdout",
     "output_type": "stream",
     "text": [
      "time: 19.1 ms (started: 2024-05-22 22:03:00 -04:00)\n"
     ]
    }
   ],
   "source": [
    "# Unique Availability values in the DataFrame\n",
    "\n",
    "df['availability'].unique()"
   ]
  },
  {
   "cell_type": "code",
   "execution_count": 75,
   "metadata": {
    "execution": {
     "iopub.execute_input": "2022-11-03T12:30:31.622264Z",
     "iopub.status.busy": "2022-11-03T12:30:31.621793Z",
     "iopub.status.idle": "2022-11-03T12:30:31.636462Z",
     "shell.execute_reply": "2022-11-03T12:30:31.635469Z",
     "shell.execute_reply.started": "2022-11-03T12:30:31.622229Z"
    }
   },
   "outputs": [
    {
     "data": {
      "text/plain": [
       "2"
      ]
     },
     "execution_count": 75,
     "metadata": {},
     "output_type": "execute_result"
    },
    {
     "name": "stdout",
     "output_type": "stream",
     "text": [
      "time: 18.6 ms (started: 2024-05-22 22:03:00 -04:00)\n"
     ]
    }
   ],
   "source": [
    "# No.of Unique Availability values in the DataFrame\n",
    "\n",
    "df['availability'].nunique()"
   ]
  },
  {
   "cell_type": "code",
   "execution_count": 76,
   "metadata": {
    "execution": {
     "iopub.execute_input": "2022-11-03T12:30:31.638237Z",
     "iopub.status.busy": "2022-11-03T12:30:31.63792Z",
     "iopub.status.idle": "2022-11-03T12:30:31.651936Z",
     "shell.execute_reply": "2022-11-03T12:30:31.650514Z",
     "shell.execute_reply.started": "2022-11-03T12:30:31.638209Z"
    }
   },
   "outputs": [
    {
     "data": {
      "text/plain": [
       "InStock       826000\n",
       "OutOfStock      3000\n",
       "Name: availability, dtype: int64"
      ]
     },
     "execution_count": 76,
     "metadata": {},
     "output_type": "execute_result"
    },
    {
     "name": "stdout",
     "output_type": "stream",
     "text": [
      "time: 19.1 ms (started: 2024-05-22 22:03:00 -04:00)\n"
     ]
    }
   ],
   "source": [
    "# No.of Products according to Avaialability\n",
    "\n",
    "df['availability'].value_counts()"
   ]
  },
  {
   "cell_type": "markdown",
   "metadata": {},
   "source": [
    "#### There are '**826**' products which are '**InStock**' and '**3**' are '**OutOfStock**'."
   ]
  },
  {
   "cell_type": "markdown",
   "metadata": {},
   "source": [
    "## Product Type"
   ]
  },
  {
   "cell_type": "code",
   "execution_count": 77,
   "metadata": {
    "execution": {
     "iopub.execute_input": "2022-11-03T12:30:31.653814Z",
     "iopub.status.busy": "2022-11-03T12:30:31.653472Z",
     "iopub.status.idle": "2022-11-03T12:30:31.667812Z",
     "shell.execute_reply": "2022-11-03T12:30:31.666567Z",
     "shell.execute_reply.started": "2022-11-03T12:30:31.653786Z"
    }
   },
   "outputs": [
    {
     "data": {
      "text/plain": [
       "array(['Clothing', 'Shoes', 'Accessories'], dtype=object)"
      ]
     },
     "execution_count": 77,
     "metadata": {},
     "output_type": "execute_result"
    },
    {
     "name": "stdout",
     "output_type": "stream",
     "text": [
      "time: 74.4 ms (started: 2024-05-22 22:03:00 -04:00)\n"
     ]
    }
   ],
   "source": [
    "# Unique Product Type values in the DataFrame\n",
    "\n",
    "df['Product_Type'].unique()"
   ]
  },
  {
   "cell_type": "code",
   "execution_count": 78,
   "metadata": {
    "execution": {
     "iopub.execute_input": "2022-11-03T12:30:31.670937Z",
     "iopub.status.busy": "2022-11-03T12:30:31.670067Z",
     "iopub.status.idle": "2022-11-03T12:30:31.683591Z",
     "shell.execute_reply": "2022-11-03T12:30:31.682178Z",
     "shell.execute_reply.started": "2022-11-03T12:30:31.67089Z"
    }
   },
   "outputs": [
    {
     "data": {
      "text/plain": [
       "3"
      ]
     },
     "execution_count": 78,
     "metadata": {},
     "output_type": "execute_result"
    },
    {
     "name": "stdout",
     "output_type": "stream",
     "text": [
      "time: 73.5 ms (started: 2024-05-22 22:03:00 -04:00)\n"
     ]
    }
   ],
   "source": [
    "# No.of Unique Product Type values in the DataFrame\n",
    "\n",
    "df['Product_Type'].nunique()"
   ]
  },
  {
   "cell_type": "code",
   "execution_count": 79,
   "metadata": {
    "execution": {
     "iopub.execute_input": "2022-11-03T12:30:31.686485Z",
     "iopub.status.busy": "2022-11-03T12:30:31.685377Z",
     "iopub.status.idle": "2022-11-03T12:30:31.702656Z",
     "shell.execute_reply": "2022-11-03T12:30:31.701306Z",
     "shell.execute_reply.started": "2022-11-03T12:30:31.686428Z"
    }
   },
   "outputs": [
    {
     "data": {
      "text/plain": [
       "Shoes          422000\n",
       "Clothing       328000\n",
       "Accessories     79000\n",
       "Name: Product_Type, dtype: int64"
      ]
     },
     "execution_count": 79,
     "metadata": {},
     "output_type": "execute_result"
    },
    {
     "name": "stdout",
     "output_type": "stream",
     "text": [
      "time: 60.3 ms (started: 2024-05-22 22:03:00 -04:00)\n"
     ]
    }
   ],
   "source": [
    "# No.of Products according to Product Type\n",
    "\n",
    "df['Product_Type'].value_counts()"
   ]
  },
  {
   "cell_type": "code",
   "execution_count": 80,
   "metadata": {
    "execution": {
     "iopub.execute_input": "2022-11-03T12:30:31.706514Z",
     "iopub.status.busy": "2022-11-03T12:30:31.705689Z",
     "iopub.status.idle": "2022-11-03T12:30:31.98956Z",
     "shell.execute_reply": "2022-11-03T12:30:31.9882Z",
     "shell.execute_reply.started": "2022-11-03T12:30:31.706442Z"
    }
   },
   "outputs": [
    {
     "data": {
      "text/plain": [
       "Shoes          422000\n",
       "Clothing       328000\n",
       "Accessories     79000\n",
       "Name: Product_Type, dtype: int64"
      ]
     },
     "execution_count": 80,
     "metadata": {},
     "output_type": "execute_result"
    },
    {
     "name": "stdout",
     "output_type": "stream",
     "text": [
      "time: 49.5 ms (started: 2024-05-22 22:03:00 -04:00)\n"
     ]
    }
   ],
   "source": [
    "# No.of Products according to Product Type\n",
    "\n",
    "# STEFANOS: Disable plotting\n",
    "# plt.figure(figsize=(12,4))\n",
    "# df['Product_Type'].value_counts().plot(kind='barh', color={'#864879','#2D4263','#C84B31'})\n",
    "# plt.ylabel(\"Product Type\")\n",
    "# plt.xlabel(\"No.of Products Sold According to Particular - Product Type\")\n",
    "# plt.title(\"Product Type Vs. No.of Products Sold According to Particular - Product Type\")\n",
    "# plt.show();\n",
    "df['Product_Type'].value_counts()"
   ]
  },
  {
   "cell_type": "code",
   "execution_count": 81,
   "metadata": {
    "execution": {
     "iopub.execute_input": "2022-11-03T12:30:31.991889Z",
     "iopub.status.busy": "2022-11-03T12:30:31.991532Z",
     "iopub.status.idle": "2022-11-03T12:30:32.21107Z",
     "shell.execute_reply": "2022-11-03T12:30:32.209724Z",
     "shell.execute_reply.started": "2022-11-03T12:30:31.991858Z"
    }
   },
   "outputs": [
    {
     "name": "stdout",
     "output_type": "stream",
     "text": [
      "time: 96.3 ms (started: 2024-05-22 22:03:00 -04:00)\n"
     ]
    }
   ],
   "source": [
    "# No.of Products according to Product Type\n",
    "\n",
    "labels = df['Product_Type'].value_counts().index\n",
    "# STEFANOS: Disable plotting\n",
    "# pie, ax = plt.subplots(figsize=[10,4])\n",
    "# plt.pie(x=df['Product_Type'].value_counts().values, autopct=\"%.1f%%\", explode=[0.05]*3, labels=labels, pctdistance=0.5)\n",
    "# plt.title(\"No.of Products according to Product Type in the DataFrame\", fontsize=14);\n",
    "# plt.tight_layout();\n",
    "_ = df['Product_Type'].value_counts().values"
   ]
  },
  {
   "cell_type": "markdown",
   "metadata": {},
   "source": [
    "## Maximum Selling Price for Each Product Type"
   ]
  },
  {
   "cell_type": "code",
   "execution_count": 82,
   "metadata": {
    "execution": {
     "iopub.execute_input": "2022-11-03T12:30:32.213879Z",
     "iopub.status.busy": "2022-11-03T12:30:32.213083Z",
     "iopub.status.idle": "2022-11-03T12:30:32.266935Z",
     "shell.execute_reply": "2022-11-03T12:30:32.265202Z",
     "shell.execute_reply.started": "2022-11-03T12:30:32.213827Z"
    }
   },
   "outputs": [
    {
     "data": {
      "text/plain": [
       "Product_Type  Category  \n",
       "Accessories   Kids           13\n",
       "              Men            23\n",
       "              Originals     196\n",
       "              Running        21\n",
       "              Soccer         32\n",
       "              Training       36\n",
       "              Women          40\n",
       "Clothing      Essentials     44\n",
       "              Kids           60\n",
       "              Men           240\n",
       "              Originals      60\n",
       "              Sportswear     72\n",
       "              Women         128\n",
       "Shoes         Essentials     60\n",
       "              Kids          128\n",
       "              Men           180\n",
       "              Originals     180\n",
       "              Running       144\n",
       "              Soccer        200\n",
       "              Swim           48\n",
       "              Women         126\n",
       "Name: selling_price, dtype: int64"
      ]
     },
     "execution_count": 82,
     "metadata": {},
     "output_type": "execute_result"
    },
    {
     "name": "stdout",
     "output_type": "stream",
     "text": [
      "time: 269 ms (started: 2024-05-22 22:03:00 -04:00)\n"
     ]
    }
   ],
   "source": [
    "df.groupby(['Product_Type', 'Category']).max()['selling_price']"
   ]
  },
  {
   "cell_type": "markdown",
   "metadata": {},
   "source": [
    "## Minimum Selling Price for Each Product Type"
   ]
  },
  {
   "cell_type": "code",
   "execution_count": 83,
   "metadata": {
    "execution": {
     "iopub.execute_input": "2022-11-03T12:30:32.273324Z",
     "iopub.status.busy": "2022-11-03T12:30:32.27254Z",
     "iopub.status.idle": "2022-11-03T12:30:32.300667Z",
     "shell.execute_reply": "2022-11-03T12:30:32.298845Z",
     "shell.execute_reply.started": "2022-11-03T12:30:32.273273Z"
    }
   },
   "outputs": [
    {
     "data": {
      "text/plain": [
       "Product_Type  Category  \n",
       "Accessories   Kids          13\n",
       "              Men           10\n",
       "              Originals      9\n",
       "              Running       21\n",
       "              Soccer        18\n",
       "              Training      12\n",
       "              Women         10\n",
       "Clothing      Essentials    44\n",
       "              Kids          19\n",
       "              Men           18\n",
       "              Originals     60\n",
       "              Sportswear    72\n",
       "              Women         16\n",
       "Shoes         Essentials    60\n",
       "              Kids          24\n",
       "              Men           20\n",
       "              Originals     44\n",
       "              Running       98\n",
       "              Soccer        64\n",
       "              Swim          20\n",
       "              Women         20\n",
       "Name: selling_price, dtype: int64"
      ]
     },
     "execution_count": 83,
     "metadata": {},
     "output_type": "execute_result"
    },
    {
     "name": "stdout",
     "output_type": "stream",
     "text": [
      "time: 263 ms (started: 2024-05-22 22:03:01 -04:00)\n"
     ]
    }
   ],
   "source": [
    "df.groupby(['Product_Type', 'Category']).min()['selling_price']"
   ]
  },
  {
   "cell_type": "markdown",
   "metadata": {},
   "source": [
    "## Average Selling Price for Each Product Type"
   ]
  },
  {
   "cell_type": "code",
   "execution_count": 84,
   "metadata": {
    "execution": {
     "iopub.execute_input": "2022-11-03T12:30:32.303959Z",
     "iopub.status.busy": "2022-11-03T12:30:32.303385Z",
     "iopub.status.idle": "2022-11-03T12:30:32.321091Z",
     "shell.execute_reply": "2022-11-03T12:30:32.319781Z",
     "shell.execute_reply.started": "2022-11-03T12:30:32.303907Z"
    }
   },
   "outputs": [
    {
     "data": {
      "text/plain": [
       "Product_Type  Category  \n",
       "Accessories   Kids           13.000000\n",
       "              Men            16.000000\n",
       "              Originals      43.727273\n",
       "              Running        21.000000\n",
       "              Soccer         25.000000\n",
       "              Training       21.360000\n",
       "              Women          19.500000\n",
       "Clothing      Essentials     44.000000\n",
       "              Kids           30.555556\n",
       "              Men            39.760000\n",
       "              Originals      60.000000\n",
       "              Sportswear     72.000000\n",
       "              Women          38.924855\n",
       "Shoes         Essentials     60.000000\n",
       "              Kids           50.956522\n",
       "              Men            79.676056\n",
       "              Originals      89.400000\n",
       "              Running       119.200000\n",
       "              Soccer         84.000000\n",
       "              Swim           32.142857\n",
       "              Women          61.405229\n",
       "Name: selling_price, dtype: float64"
      ]
     },
     "execution_count": 84,
     "metadata": {},
     "output_type": "execute_result"
    },
    {
     "name": "stdout",
     "output_type": "stream",
     "text": [
      "time: 138 ms (started: 2024-05-22 22:03:01 -04:00)\n"
     ]
    }
   ],
   "source": [
    "df.groupby(['Product_Type', 'Category']).mean(numeric_only=True)['selling_price']"
   ]
  },
  {
   "cell_type": "markdown",
   "metadata": {},
   "source": [
    "#### The Product Type with most sales is '**Shoes**', and Maximum Selling Price of '**240$**' according to Selling Price. "
   ]
  },
  {
   "cell_type": "markdown",
   "metadata": {},
   "source": [
    "# Category"
   ]
  },
  {
   "cell_type": "code",
   "execution_count": 85,
   "metadata": {
    "execution": {
     "iopub.execute_input": "2022-11-03T12:30:32.325207Z",
     "iopub.status.busy": "2022-11-03T12:30:32.323595Z",
     "iopub.status.idle": "2022-11-03T12:30:32.334581Z",
     "shell.execute_reply": "2022-11-03T12:30:32.333121Z",
     "shell.execute_reply.started": "2022-11-03T12:30:32.325147Z"
    }
   },
   "outputs": [
    {
     "data": {
      "text/plain": [
       "array(['Women', 'Soccer', 'Men', 'Kids', 'Essentials', 'Originals',\n",
       "       'Training', 'Swim', 'Running', 'Sportswear'], dtype=object)"
      ]
     },
     "execution_count": 85,
     "metadata": {},
     "output_type": "execute_result"
    },
    {
     "name": "stdout",
     "output_type": "stream",
     "text": [
      "time: 34.6 ms (started: 2024-05-22 22:03:01 -04:00)\n"
     ]
    }
   ],
   "source": [
    "# Unique Category values in the DataFrame\n",
    "\n",
    "df['Category'].unique()"
   ]
  },
  {
   "cell_type": "code",
   "execution_count": 86,
   "metadata": {
    "execution": {
     "iopub.execute_input": "2022-11-03T12:30:32.337575Z",
     "iopub.status.busy": "2022-11-03T12:30:32.336658Z",
     "iopub.status.idle": "2022-11-03T12:30:32.34919Z",
     "shell.execute_reply": "2022-11-03T12:30:32.347913Z",
     "shell.execute_reply.started": "2022-11-03T12:30:32.337526Z"
    }
   },
   "outputs": [
    {
     "data": {
      "text/plain": [
       "10"
      ]
     },
     "execution_count": 86,
     "metadata": {},
     "output_type": "execute_result"
    },
    {
     "name": "stdout",
     "output_type": "stream",
     "text": [
      "time: 31.3 ms (started: 2024-05-22 22:03:01 -04:00)\n"
     ]
    }
   ],
   "source": [
    "# No.of Unique Category values in the DataFrame\n",
    "\n",
    "df['Category'].nunique()"
   ]
  },
  {
   "cell_type": "code",
   "execution_count": 87,
   "metadata": {
    "execution": {
     "iopub.execute_input": "2022-11-03T12:30:32.352742Z",
     "iopub.status.busy": "2022-11-03T12:30:32.351171Z",
     "iopub.status.idle": "2022-11-03T12:30:32.374169Z",
     "shell.execute_reply": "2022-11-03T12:30:32.372784Z",
     "shell.execute_reply.started": "2022-11-03T12:30:32.352681Z"
    }
   },
   "outputs": [
    {
     "data": {
      "text/plain": [
       "Women         342000\n",
       "Men           279000\n",
       "Kids           97000\n",
       "Originals      58000\n",
       "Training       25000\n",
       "Soccer         12000\n",
       "Swim            7000\n",
       "Running         6000\n",
       "Essentials      2000\n",
       "Sportswear      1000\n",
       "Name: Category, dtype: int64"
      ]
     },
     "execution_count": 87,
     "metadata": {},
     "output_type": "execute_result"
    },
    {
     "name": "stdout",
     "output_type": "stream",
     "text": [
      "time: 42.5 ms (started: 2024-05-22 22:03:01 -04:00)\n"
     ]
    }
   ],
   "source": [
    "# No.of Products according to Category\n",
    "\n",
    "df['Category'].value_counts()"
   ]
  },
  {
   "cell_type": "code",
   "execution_count": 88,
   "metadata": {
    "execution": {
     "iopub.execute_input": "2022-11-03T12:30:32.380107Z",
     "iopub.status.busy": "2022-11-03T12:30:32.379265Z",
     "iopub.status.idle": "2022-11-03T12:30:32.678783Z",
     "shell.execute_reply": "2022-11-03T12:30:32.677554Z",
     "shell.execute_reply.started": "2022-11-03T12:30:32.380061Z"
    }
   },
   "outputs": [
    {
     "data": {
      "text/plain": [
       "Women        342000\n",
       "Men          279000\n",
       "Kids          97000\n",
       "Originals     58000\n",
       "Training      25000\n",
       "Name: Category, dtype: int64"
      ]
     },
     "execution_count": 88,
     "metadata": {},
     "output_type": "execute_result"
    },
    {
     "name": "stdout",
     "output_type": "stream",
     "text": [
      "time: 30.2 ms (started: 2024-05-22 22:03:01 -04:00)\n"
     ]
    }
   ],
   "source": [
    "# Top-5 Products according to Category\n",
    "\n",
    "# STEFANOS: Disable plotting\n",
    "# plt.figure(figsize=(12,4))\n",
    "# df['Category'].value_counts().head(5).plot(kind='barh', color={'#864879','#2D4263','#C84B31', '#ECDBBA', '#B3541E'})\n",
    "# plt.ylabel(\"Category\")\n",
    "# plt.xlabel(\"No.of Products Sold According to Particular - Category\")\n",
    "# plt.title(\"Top 5 - Products Sold according to Category in the DataFrame\")\n",
    "# plt.show();\n",
    "df['Category'].value_counts().head(5)"
   ]
  },
  {
   "cell_type": "code",
   "execution_count": 89,
   "metadata": {
    "execution": {
     "iopub.execute_input": "2022-11-03T12:30:32.69858Z",
     "iopub.status.busy": "2022-11-03T12:30:32.697692Z",
     "iopub.status.idle": "2022-11-03T12:30:32.944509Z",
     "shell.execute_reply": "2022-11-03T12:30:32.942599Z",
     "shell.execute_reply.started": "2022-11-03T12:30:32.698531Z"
    }
   },
   "outputs": [
    {
     "name": "stdout",
     "output_type": "stream",
     "text": [
      "time: 58.7 ms (started: 2024-05-22 22:03:01 -04:00)\n"
     ]
    }
   ],
   "source": [
    "# Top-5 Products according to Category\n",
    "\n",
    "labels = df['Category'].value_counts().head(5).index\n",
    "# STEFANOS: Disable plotting\n",
    "# pie, ax = plt.subplots(figsize=[10,4])\n",
    "# plt.pie(x=df['Category'].value_counts().head(5).values, autopct=\"%.1f%%\", explode=[0.05]*5, labels=labels, pctdistance=0.5)\n",
    "# plt.title(\"Top 5 - Products Sold according to Category in the DataFrame\", fontsize=14);\n",
    "# plt.tight_layout();\n",
    "_ = df['Category'].value_counts().head(5).values"
   ]
  },
  {
   "cell_type": "markdown",
   "metadata": {},
   "source": [
    "#### The 'Category' with highest no.of Products Sold is '**Women**' with '**342 Products**', followed by 'Men' and 'Women'."
   ]
  },
  {
   "cell_type": "markdown",
   "metadata": {},
   "source": [
    "# Average Rating"
   ]
  },
  {
   "cell_type": "code",
   "execution_count": 90,
   "metadata": {
    "execution": {
     "iopub.execute_input": "2022-11-03T12:30:32.947793Z",
     "iopub.status.busy": "2022-11-03T12:30:32.946903Z",
     "iopub.status.idle": "2022-11-03T12:30:32.958929Z",
     "shell.execute_reply": "2022-11-03T12:30:32.957331Z",
     "shell.execute_reply.started": "2022-11-03T12:30:32.947744Z"
    }
   },
   "outputs": [
    {
     "data": {
      "text/plain": [
       "array([4.8, 4.2, 4.4, 4.5, 4.6, 5. , 4.7, 4.3, 4. , 4.9, 3.9, 3.7, 3. ,\n",
       "       4.1, 1. , 3.8])"
      ]
     },
     "execution_count": 90,
     "metadata": {},
     "output_type": "execute_result"
    },
    {
     "name": "stdout",
     "output_type": "stream",
     "text": [
      "time: 4.99 ms (started: 2024-05-22 22:03:01 -04:00)\n"
     ]
    }
   ],
   "source": [
    "# Unique 'Average Rating'in the DataFrame\n",
    "\n",
    "df['average_rating'].unique()"
   ]
  },
  {
   "cell_type": "code",
   "execution_count": 91,
   "metadata": {
    "execution": {
     "iopub.execute_input": "2022-11-03T12:30:32.962742Z",
     "iopub.status.busy": "2022-11-03T12:30:32.961592Z",
     "iopub.status.idle": "2022-11-03T12:30:32.974942Z",
     "shell.execute_reply": "2022-11-03T12:30:32.97297Z",
     "shell.execute_reply.started": "2022-11-03T12:30:32.962694Z"
    }
   },
   "outputs": [
    {
     "data": {
      "text/plain": [
       "16"
      ]
     },
     "execution_count": 91,
     "metadata": {},
     "output_type": "execute_result"
    },
    {
     "name": "stdout",
     "output_type": "stream",
     "text": [
      "time: 4.8 ms (started: 2024-05-22 22:03:01 -04:00)\n"
     ]
    }
   ],
   "source": [
    "# No.of Unique 'Average Rating'in the DataFrame\n",
    "\n",
    "df['average_rating'].nunique()"
   ]
  },
  {
   "cell_type": "code",
   "execution_count": 92,
   "metadata": {
    "execution": {
     "iopub.execute_input": "2022-11-03T12:30:32.980442Z",
     "iopub.status.busy": "2022-11-03T12:30:32.978224Z",
     "iopub.status.idle": "2022-11-03T12:30:32.997272Z",
     "shell.execute_reply": "2022-11-03T12:30:32.99622Z",
     "shell.execute_reply.started": "2022-11-03T12:30:32.980266Z"
    }
   },
   "outputs": [
    {
     "data": {
      "text/plain": [
       "4.8    161000\n",
       "4.7    159000\n",
       "4.6    120000\n",
       "4.5     99000\n",
       "5.0     70000\n",
       "4.2     51000\n",
       "4.4     49000\n",
       "4.9     44000\n",
       "4.3     29000\n",
       "3.9     14000\n",
       "4.1     14000\n",
       "4.0     12000\n",
       "3.7      4000\n",
       "3.0      1000\n",
       "1.0      1000\n",
       "3.8      1000\n",
       "Name: average_rating, dtype: int64"
      ]
     },
     "execution_count": 92,
     "metadata": {},
     "output_type": "execute_result"
    },
    {
     "name": "stdout",
     "output_type": "stream",
     "text": [
      "time: 6.18 ms (started: 2024-05-22 22:03:01 -04:00)\n"
     ]
    }
   ],
   "source": [
    "# No.of time particular Average Rating Provided\n",
    "\n",
    "df['average_rating'].value_counts()"
   ]
  },
  {
   "cell_type": "code",
   "execution_count": 93,
   "metadata": {
    "execution": {
     "iopub.execute_input": "2022-11-03T12:30:33.000839Z",
     "iopub.status.busy": "2022-11-03T12:30:32.999373Z",
     "iopub.status.idle": "2022-11-03T12:30:33.295289Z",
     "shell.execute_reply": "2022-11-03T12:30:33.293613Z",
     "shell.execute_reply.started": "2022-11-03T12:30:33.000785Z"
    }
   },
   "outputs": [
    {
     "data": {
      "text/plain": [
       "4.8    161000\n",
       "4.7    159000\n",
       "4.6    120000\n",
       "4.5     99000\n",
       "5.0     70000\n",
       "Name: average_rating, dtype: int64"
      ]
     },
     "execution_count": 93,
     "metadata": {},
     "output_type": "execute_result"
    },
    {
     "name": "stdout",
     "output_type": "stream",
     "text": [
      "time: 5.79 ms (started: 2024-05-22 22:03:01 -04:00)\n"
     ]
    }
   ],
   "source": [
    "# Top 5 - Average Rating Provided\n",
    "\n",
    "# STEFANOS: Disable plotting\n",
    "# plt.figure(figsize=(12,4))\n",
    "# df['average_rating'].value_counts().head(5).plot(kind='barh', color={'#864879','#2D4263','#C84B31', '#ECDBBA', '#B3541E'})\n",
    "# plt.ylabel(\"Average Rating\")\n",
    "# plt.xlabel(\"No.of times particular rating provided\")\n",
    "# plt.title(\"Top 5 - Average Rating Provided in the DataFrame\")\n",
    "# plt.show();\n",
    "df['average_rating'].value_counts().head(5)"
   ]
  },
  {
   "cell_type": "code",
   "execution_count": 94,
   "metadata": {
    "execution": {
     "iopub.execute_input": "2022-11-03T12:30:33.297409Z",
     "iopub.status.busy": "2022-11-03T12:30:33.296951Z",
     "iopub.status.idle": "2022-11-03T12:30:33.544519Z",
     "shell.execute_reply": "2022-11-03T12:30:33.542731Z",
     "shell.execute_reply.started": "2022-11-03T12:30:33.297364Z"
    }
   },
   "outputs": [
    {
     "name": "stdout",
     "output_type": "stream",
     "text": [
      "time: 8.64 ms (started: 2024-05-22 22:03:01 -04:00)\n"
     ]
    }
   ],
   "source": [
    "# Top 5 - Average Rating Provided\n",
    "\n",
    "labels = df['average_rating'].value_counts().head(5).index\n",
    "# STEFANOS: Disable plotting\n",
    "# pie, ax = plt.subplots(figsize=[10,4])\n",
    "# plt.pie(x=df['average_rating'].value_counts().head(5).values, autopct=\"%.1f%%\", explode=[0.05]*5, labels=labels, pctdistance=0.5)\n",
    "# plt.title(\"# Top 5 - Average Rating Provided in the DataFrame\", fontsize=14);\n",
    "# plt.tight_layout();\n",
    "_ = df['average_rating'].value_counts().head(5).values"
   ]
  },
  {
   "cell_type": "code",
   "execution_count": 95,
   "metadata": {
    "execution": {
     "iopub.execute_input": "2022-11-03T12:30:33.548503Z",
     "iopub.status.busy": "2022-11-03T12:30:33.547336Z",
     "iopub.status.idle": "2022-11-03T12:30:33.559655Z",
     "shell.execute_reply": "2022-11-03T12:30:33.55803Z",
     "shell.execute_reply.started": "2022-11-03T12:30:33.548408Z"
    }
   },
   "outputs": [
    {
     "data": {
      "text/plain": [
       "5.0"
      ]
     },
     "execution_count": 95,
     "metadata": {},
     "output_type": "execute_result"
    },
    {
     "name": "stdout",
     "output_type": "stream",
     "text": [
      "time: 1.73 ms (started: 2024-05-22 22:03:01 -04:00)\n"
     ]
    }
   ],
   "source": [
    "# Maxmimum Average Rating\n",
    "\n",
    "df['average_rating'].max()"
   ]
  },
  {
   "cell_type": "code",
   "execution_count": 96,
   "metadata": {
    "execution": {
     "iopub.execute_input": "2022-11-03T12:30:33.563217Z",
     "iopub.status.busy": "2022-11-03T12:30:33.562207Z",
     "iopub.status.idle": "2022-11-03T12:30:33.5788Z",
     "shell.execute_reply": "2022-11-03T12:30:33.577135Z",
     "shell.execute_reply.started": "2022-11-03T12:30:33.563155Z"
    }
   },
   "outputs": [
    {
     "data": {
      "text/plain": [
       "1.0"
      ]
     },
     "execution_count": 96,
     "metadata": {},
     "output_type": "execute_result"
    },
    {
     "name": "stdout",
     "output_type": "stream",
     "text": [
      "time: 1.62 ms (started: 2024-05-22 22:03:01 -04:00)\n"
     ]
    }
   ],
   "source": [
    "# Minimum Average Rating\n",
    "\n",
    "df['average_rating'].min()"
   ]
  },
  {
   "cell_type": "code",
   "execution_count": 97,
   "metadata": {
    "execution": {
     "iopub.execute_input": "2022-11-03T12:30:33.582538Z",
     "iopub.status.busy": "2022-11-03T12:30:33.581431Z",
     "iopub.status.idle": "2022-11-03T12:30:33.59973Z",
     "shell.execute_reply": "2022-11-03T12:30:33.597573Z",
     "shell.execute_reply.started": "2022-11-03T12:30:33.582456Z"
    }
   },
   "outputs": [
    {
     "data": {
      "text/plain": [
       "4.61"
      ]
     },
     "execution_count": 97,
     "metadata": {},
     "output_type": "execute_result"
    },
    {
     "name": "stdout",
     "output_type": "stream",
     "text": [
      "time: 1.53 ms (started: 2024-05-22 22:03:01 -04:00)\n"
     ]
    }
   ],
   "source": [
    "# Mean Average Rating\n",
    "\n",
    "round(df['average_rating'].mean(),2)"
   ]
  },
  {
   "cell_type": "code",
   "execution_count": 98,
   "metadata": {
    "execution": {
     "iopub.execute_input": "2022-11-03T12:30:33.602057Z",
     "iopub.status.busy": "2022-11-03T12:30:33.601231Z",
     "iopub.status.idle": "2022-11-03T12:30:33.628748Z",
     "shell.execute_reply": "2022-11-03T12:30:33.627535Z",
     "shell.execute_reply.started": "2022-11-03T12:30:33.602017Z"
    }
   },
   "outputs": [
    {
     "data": {
      "text/plain": [
       "Product_Type  Category  \n",
       "Accessories   Kids          4.9\n",
       "              Men           5.0\n",
       "              Originals     5.0\n",
       "              Running       4.7\n",
       "              Soccer        4.8\n",
       "              Training      5.0\n",
       "              Women         5.0\n",
       "Clothing      Essentials    4.7\n",
       "              Kids          5.0\n",
       "              Men           5.0\n",
       "              Originals     5.0\n",
       "              Sportswear    4.8\n",
       "              Women         5.0\n",
       "Shoes         Essentials    4.2\n",
       "              Kids          5.0\n",
       "              Men           5.0\n",
       "              Originals     4.8\n",
       "              Running       4.8\n",
       "              Soccer        4.7\n",
       "              Swim          4.7\n",
       "              Women         5.0\n",
       "Name: average_rating, dtype: float64"
      ]
     },
     "execution_count": 98,
     "metadata": {},
     "output_type": "execute_result"
    },
    {
     "name": "stdout",
     "output_type": "stream",
     "text": [
      "time: 273 ms (started: 2024-05-22 22:03:01 -04:00)\n"
     ]
    }
   ],
   "source": [
    "# Maximum Average Rating across 'Product Type' and 'Category'\n",
    "\n",
    "df.groupby(['Product_Type', 'Category']).max()['average_rating']"
   ]
  },
  {
   "cell_type": "code",
   "execution_count": 99,
   "metadata": {
    "execution": {
     "iopub.execute_input": "2022-11-03T12:30:33.631008Z",
     "iopub.status.busy": "2022-11-03T12:30:33.63048Z",
     "iopub.status.idle": "2022-11-03T12:30:33.660348Z",
     "shell.execute_reply": "2022-11-03T12:30:33.658472Z",
     "shell.execute_reply.started": "2022-11-03T12:30:33.630963Z"
    }
   },
   "outputs": [
    {
     "data": {
      "text/plain": [
       "Product_Type  Category  \n",
       "Accessories   Kids          4.9\n",
       "              Men           4.7\n",
       "              Originals     4.5\n",
       "              Running       4.7\n",
       "              Soccer        4.8\n",
       "              Training      4.6\n",
       "              Women         4.6\n",
       "Clothing      Essentials    4.7\n",
       "              Kids          4.0\n",
       "              Men           1.0\n",
       "              Originals     5.0\n",
       "              Sportswear    4.8\n",
       "              Women         3.7\n",
       "Shoes         Essentials    4.2\n",
       "              Kids          4.3\n",
       "              Men           3.9\n",
       "              Originals     3.9\n",
       "              Running       4.6\n",
       "              Soccer        4.3\n",
       "              Swim          4.4\n",
       "              Women         3.8\n",
       "Name: average_rating, dtype: float64"
      ]
     },
     "execution_count": 99,
     "metadata": {},
     "output_type": "execute_result"
    },
    {
     "name": "stdout",
     "output_type": "stream",
     "text": [
      "time: 265 ms (started: 2024-05-22 22:03:01 -04:00)\n"
     ]
    }
   ],
   "source": [
    "# Minimum Average Rating across 'Product Type' and 'Category'\n",
    "\n",
    "df.groupby(['Product_Type', 'Category']).min()['average_rating']"
   ]
  },
  {
   "cell_type": "markdown",
   "metadata": {},
   "source": [
    "#### The **Maximum** Average Rating among all products is '**5.0**' and **Minimum** Average Rating among all products is '**1.0**'"
   ]
  },
  {
   "cell_type": "markdown",
   "metadata": {},
   "source": [
    "# Reviews Count"
   ]
  },
  {
   "cell_type": "code",
   "execution_count": 100,
   "metadata": {
    "execution": {
     "iopub.execute_input": "2022-11-03T12:30:33.663253Z",
     "iopub.status.busy": "2022-11-03T12:30:33.662383Z",
     "iopub.status.idle": "2022-11-03T12:30:33.671243Z",
     "shell.execute_reply": "2022-11-03T12:30:33.670214Z",
     "shell.execute_reply.started": "2022-11-03T12:30:33.663176Z"
    }
   },
   "outputs": [
    {
     "data": {
      "text/plain": [
       "211"
      ]
     },
     "execution_count": 100,
     "metadata": {},
     "output_type": "execute_result"
    },
    {
     "name": "stdout",
     "output_type": "stream",
     "text": [
      "time: 3.27 ms (started: 2024-05-22 22:03:02 -04:00)\n"
     ]
    }
   ],
   "source": [
    "# No.of Unique 'Reviews Count' in the DataFrame\n",
    "\n",
    "df['reviews_count'].nunique()"
   ]
  },
  {
   "cell_type": "code",
   "execution_count": 101,
   "metadata": {
    "execution": {
     "iopub.execute_input": "2022-11-03T12:30:33.673351Z",
     "iopub.status.busy": "2022-11-03T12:30:33.67297Z",
     "iopub.status.idle": "2022-11-03T12:30:33.690736Z",
     "shell.execute_reply": "2022-11-03T12:30:33.688666Z",
     "shell.execute_reply.started": "2022-11-03T12:30:33.673317Z"
    }
   },
   "outputs": [
    {
     "data": {
      "text/plain": [
       "1      23000\n",
       "2      21000\n",
       "5      15000\n",
       "9      15000\n",
       "4      14000\n",
       "8      14000\n",
       "3      13000\n",
       "562    12000\n",
       "51     12000\n",
       "454    12000\n",
       "Name: reviews_count, dtype: int64"
      ]
     },
     "execution_count": 101,
     "metadata": {},
     "output_type": "execute_result"
    },
    {
     "name": "stdout",
     "output_type": "stream",
     "text": [
      "time: 4.28 ms (started: 2024-05-22 22:03:02 -04:00)\n"
     ]
    }
   ],
   "source": [
    "# Top 10 - 'Reviews Count' and no.of particular 'Reviews Count' occurances\n",
    "\n",
    "df['reviews_count'].value_counts().head(10)"
   ]
  },
  {
   "cell_type": "code",
   "execution_count": 102,
   "metadata": {
    "execution": {
     "iopub.execute_input": "2022-11-03T12:30:33.693592Z",
     "iopub.status.busy": "2022-11-03T12:30:33.693124Z",
     "iopub.status.idle": "2022-11-03T12:30:34.009781Z",
     "shell.execute_reply": "2022-11-03T12:30:34.008816Z",
     "shell.execute_reply.started": "2022-11-03T12:30:33.693557Z"
    }
   },
   "outputs": [
    {
     "data": {
      "text/plain": [
       "4.8    161000\n",
       "4.7    159000\n",
       "4.6    120000\n",
       "4.5     99000\n",
       "5.0     70000\n",
       "Name: average_rating, dtype: int64"
      ]
     },
     "execution_count": 102,
     "metadata": {},
     "output_type": "execute_result"
    },
    {
     "name": "stdout",
     "output_type": "stream",
     "text": [
      "time: 5.77 ms (started: 2024-05-22 22:03:02 -04:00)\n"
     ]
    }
   ],
   "source": [
    "# Top 5 - 'Reviews Count' and no.of particular 'Reviews Count' occurances\n",
    "\n",
    "# STEFANOS: Disable plotting\n",
    "# plt.figure(figsize=(12,4))\n",
    "# df['average_rating'].value_counts().head(5).plot(kind='barh', color={'#864879','#2D4263','#C84B31', '#ECDBBA', '#B3541E'})\n",
    "# plt.ylabel('Reviews Count')\n",
    "# plt.xlabel('no.of particular Reviews Count occurances')\n",
    "# plt.title(\"Top 5 - 'Reviews Count' and no.of particular 'Reviews Count' occurances\")\n",
    "# plt.show();\n",
    "df['average_rating'].value_counts().head(5)"
   ]
  },
  {
   "cell_type": "code",
   "execution_count": 103,
   "metadata": {
    "execution": {
     "iopub.execute_input": "2022-11-03T12:30:34.012177Z",
     "iopub.status.busy": "2022-11-03T12:30:34.010904Z",
     "iopub.status.idle": "2022-11-03T12:30:34.020406Z",
     "shell.execute_reply": "2022-11-03T12:30:34.019068Z",
     "shell.execute_reply.started": "2022-11-03T12:30:34.012133Z"
    }
   },
   "outputs": [
    {
     "data": {
      "text/plain": [
       "11750"
      ]
     },
     "execution_count": 103,
     "metadata": {},
     "output_type": "execute_result"
    },
    {
     "name": "stdout",
     "output_type": "stream",
     "text": [
      "time: 1.18 ms (started: 2024-05-22 22:03:02 -04:00)\n"
     ]
    }
   ],
   "source": [
    "# Maxmimum 'Reviews Count'\n",
    "\n",
    "df['reviews_count'].max()"
   ]
  },
  {
   "cell_type": "code",
   "execution_count": 104,
   "metadata": {
    "execution": {
     "iopub.execute_input": "2022-11-03T12:30:34.023244Z",
     "iopub.status.busy": "2022-11-03T12:30:34.022134Z",
     "iopub.status.idle": "2022-11-03T12:30:34.041279Z",
     "shell.execute_reply": "2022-11-03T12:30:34.039631Z",
     "shell.execute_reply.started": "2022-11-03T12:30:34.023206Z"
    }
   },
   "outputs": [
    {
     "data": {
      "text/plain": [
       "1"
      ]
     },
     "execution_count": 104,
     "metadata": {},
     "output_type": "execute_result"
    },
    {
     "name": "stdout",
     "output_type": "stream",
     "text": [
      "time: 1.02 ms (started: 2024-05-22 22:03:02 -04:00)\n"
     ]
    }
   ],
   "source": [
    "# Minimum 'Reviews Count'\n",
    "\n",
    "df['reviews_count'].min()"
   ]
  },
  {
   "cell_type": "code",
   "execution_count": 105,
   "metadata": {
    "execution": {
     "iopub.execute_input": "2022-11-03T12:30:34.043547Z",
     "iopub.status.busy": "2022-11-03T12:30:34.043089Z",
     "iopub.status.idle": "2022-11-03T12:30:34.066102Z",
     "shell.execute_reply": "2022-11-03T12:30:34.064572Z",
     "shell.execute_reply.started": "2022-11-03T12:30:34.04351Z"
    }
   },
   "outputs": [
    {
     "data": {
      "text/plain": [
       "433.94"
      ]
     },
     "execution_count": 105,
     "metadata": {},
     "output_type": "execute_result"
    },
    {
     "name": "stdout",
     "output_type": "stream",
     "text": [
      "time: 1.38 ms (started: 2024-05-22 22:03:02 -04:00)\n"
     ]
    }
   ],
   "source": [
    "# Mean 'Reviews Count'\n",
    "\n",
    "round(df['reviews_count'].mean(),2)"
   ]
  },
  {
   "cell_type": "code",
   "execution_count": 106,
   "metadata": {
    "execution": {
     "iopub.execute_input": "2022-11-03T12:30:34.068332Z",
     "iopub.status.busy": "2022-11-03T12:30:34.067594Z",
     "iopub.status.idle": "2022-11-03T12:30:34.099368Z",
     "shell.execute_reply": "2022-11-03T12:30:34.097733Z",
     "shell.execute_reply.started": "2022-11-03T12:30:34.068294Z"
    }
   },
   "outputs": [
    {
     "data": {
      "text/plain": [
       "Product_Type  Category  \n",
       "Accessories   Kids             41\n",
       "              Men             120\n",
       "              Originals       298\n",
       "              Running          25\n",
       "              Soccer           38\n",
       "              Training        273\n",
       "              Women           154\n",
       "Clothing      Essentials       29\n",
       "              Kids             74\n",
       "              Men            1352\n",
       "              Originals         2\n",
       "              Sportswear       26\n",
       "              Women           671\n",
       "Shoes         Essentials      120\n",
       "              Kids            602\n",
       "              Men           11750\n",
       "              Originals     11750\n",
       "              Running         584\n",
       "              Soccer          281\n",
       "              Swim           7291\n",
       "              Women          9636\n",
       "Name: reviews_count, dtype: int64"
      ]
     },
     "execution_count": 106,
     "metadata": {},
     "output_type": "execute_result"
    },
    {
     "name": "stdout",
     "output_type": "stream",
     "text": [
      "time: 265 ms (started: 2024-05-22 22:03:02 -04:00)\n"
     ]
    }
   ],
   "source": [
    "# Maximum 'Reviews Count' across 'Product Type' and 'Category'\n",
    "\n",
    "df.groupby(['Product_Type', 'Category']).max()['reviews_count']"
   ]
  },
  {
   "cell_type": "code",
   "execution_count": 107,
   "metadata": {
    "execution": {
     "iopub.execute_input": "2022-11-03T12:30:34.101797Z",
     "iopub.status.busy": "2022-11-03T12:30:34.101079Z",
     "iopub.status.idle": "2022-11-03T12:30:34.126408Z",
     "shell.execute_reply": "2022-11-03T12:30:34.12495Z",
     "shell.execute_reply.started": "2022-11-03T12:30:34.101758Z"
    }
   },
   "outputs": [
    {
     "data": {
      "text/plain": [
       "Product_Type  Category  \n",
       "Accessories   Kids           41\n",
       "              Men             2\n",
       "              Originals       1\n",
       "              Running        25\n",
       "              Soccer          5\n",
       "              Training        1\n",
       "              Women           2\n",
       "Clothing      Essentials     29\n",
       "              Kids            1\n",
       "              Men             1\n",
       "              Originals       2\n",
       "              Sportswear     26\n",
       "              Women           1\n",
       "Shoes         Essentials    120\n",
       "              Kids            3\n",
       "              Men             1\n",
       "              Originals      49\n",
       "              Running       491\n",
       "              Soccer         24\n",
       "              Swim           79\n",
       "              Women           3\n",
       "Name: reviews_count, dtype: int64"
      ]
     },
     "execution_count": 107,
     "metadata": {},
     "output_type": "execute_result"
    },
    {
     "name": "stdout",
     "output_type": "stream",
     "text": [
      "time: 263 ms (started: 2024-05-22 22:03:02 -04:00)\n"
     ]
    }
   ],
   "source": [
    "# Minimum Reviews Count' across 'Product Type' and 'Category'\n",
    "\n",
    "df.groupby(['Product_Type', 'Category']).min()['reviews_count']"
   ]
  },
  {
   "cell_type": "markdown",
   "metadata": {},
   "source": [
    "#### The **Maximum** 'Reviews Count' among all products is '**11750**' and **Minimum** 'Reviews Count' among all products is '**1**'"
   ]
  },
  {
   "cell_type": "markdown",
   "metadata": {},
   "source": [
    "# Reviews Count Vs. Average Rating"
   ]
  },
  {
   "cell_type": "code",
   "execution_count": 108,
   "metadata": {
    "execution": {
     "iopub.execute_input": "2022-11-03T12:30:34.128551Z",
     "iopub.status.busy": "2022-11-03T12:30:34.128154Z",
     "iopub.status.idle": "2022-11-03T12:30:34.525183Z",
     "shell.execute_reply": "2022-11-03T12:30:34.523704Z",
     "shell.execute_reply.started": "2022-11-03T12:30:34.128519Z"
    }
   },
   "outputs": [
    {
     "name": "stdout",
     "output_type": "stream",
     "text": [
      "time: 190 µs (started: 2024-05-22 22:03:02 -04:00)\n"
     ]
    }
   ],
   "source": [
    "# STEFANOS: Disable plotting\n",
    "# sns.scatterplot(data=df, x='average_rating', y='reviews_count')"
   ]
  },
  {
   "cell_type": "markdown",
   "metadata": {},
   "source": [
    "#### The Correlation Between Reviews Count & Average Rating is '**0.024**' (positive correlation), from the graph we may can conclude that there are more number of reviews when particular product rated above **3.5** "
   ]
  },
  {
   "cell_type": "code",
   "execution_count": 109,
   "id": "89c77927",
   "metadata": {},
   "outputs": [
    {
     "name": "stdout",
     "output_type": "stream",
     "text": [
      "Total elapsed time: 12.310451575\n",
      "time: 2.76 ms (started: 2024-05-22 22:03:02 -04:00)\n"
     ]
    }
   ],
   "source": [
    "SNAPPY_end_time = time.perf_counter_ns()\n",
    "print(\"Total elapsed time:\", (SNAPPY_end_time - SNAPPY_start_time) / (10 ** 9))"
   ]
  },
  {
   "cell_type": "markdown",
   "metadata": {},
   "source": [
    "## End of the Notebook, Thanks for Watching, \"**Do Upvote**\" if it is helpful."
   ]
  }
 ],
 "metadata": {
  "kernelspec": {
   "display_name": "Python 3 (ipykernel)",
   "language": "python",
   "name": "python3"
  },
  "language_info": {
   "codemirror_mode": {
    "name": "ipython",
    "version": 3
   },
   "file_extension": ".py",
   "mimetype": "text/x-python",
   "name": "python",
   "nbconvert_exporter": "python",
   "pygments_lexer": "ipython3",
   "version": "3.10.11"
  }
 },
 "nbformat": 4,
 "nbformat_minor": 5
}
