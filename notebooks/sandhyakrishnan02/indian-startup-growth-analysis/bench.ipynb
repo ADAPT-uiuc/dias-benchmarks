{
 "cells": [
  {
   "cell_type": "code",
   "execution_count": 17,
   "id": "c73165c7",
   "metadata": {},
   "outputs": [
    {
     "name": "stdout",
     "output_type": "stream",
     "text": [
      "time: 285 µs (started: 2024-05-07 17:19:29 -04:00)\n"
     ]
    }
   ],
   "source": [
    "import os\n",
    "SNAPPY_notebook_path = os.path.join(os.path.abspath(\"\"), \"bench.ipynb\")"
   ]
  },
  {
   "cell_type": "code",
   "execution_count": 18,
   "id": "e7934ffe",
   "metadata": {},
   "outputs": [
    {
     "name": "stdout",
     "output_type": "stream",
     "text": [
      "time: 2.58 ms (started: 2024-05-07 17:19:29 -04:00)\n"
     ]
    }
   ],
   "source": [
    "import time\n",
    "SNAPPY_start_time = time.perf_counter_ns()"
   ]
  },
  {
   "cell_type": "code",
   "execution_count": 19,
   "id": "2a0954b0",
   "metadata": {},
   "outputs": [
    {
     "name": "stdout",
     "output_type": "stream",
     "text": [
      "The autotime extension is already loaded. To reload it, use:\n",
      "  %reload_ext autotime\n",
      "time: 313 µs (started: 2024-05-07 17:19:29 -04:00)\n"
     ]
    }
   ],
   "source": [
    "%load_ext autotime"
   ]
  },
  {
   "cell_type": "markdown",
   "metadata": {},
   "source": [
    "## This notebook analyses growth of startsup's in India during 2016 to 2022."
   ]
  },
  {
   "cell_type": "markdown",
   "metadata": {},
   "source": [
    "# Import Libraries"
   ]
  },
  {
   "cell_type": "code",
   "execution_count": 20,
   "metadata": {
    "_cell_guid": "b1076dfc-b9ad-4769-8c92-a6c4dae69d19",
    "_uuid": "8f2839f25d086af736a60e9eeb907d3b93b6e0e5",
    "execution": {
     "iopub.execute_input": "2022-10-13T18:47:57.587351Z",
     "iopub.status.busy": "2022-10-13T18:47:57.5868Z",
     "iopub.status.idle": "2022-10-13T18:47:57.593901Z",
     "shell.execute_reply": "2022-10-13T18:47:57.592447Z",
     "shell.execute_reply.started": "2022-10-13T18:47:57.587306Z"
    }
   },
   "outputs": [
    {
     "name": "stdout",
     "output_type": "stream",
     "text": [
      "time: 293 µs (started: 2024-05-07 17:19:29 -04:00)\n"
     ]
    }
   ],
   "source": [
    "import numpy as np \n",
    "import os\n",
    "# STEFANOS: Conditionally import Modin Pandas\n",
    "import pandas as pd\n",
    "\n",
    "\n",
    "# from wordcloud import WordCloud\n",
    "import string"
   ]
  },
  {
   "cell_type": "markdown",
   "metadata": {},
   "source": [
    "# Visualisations"
   ]
  },
  {
   "cell_type": "code",
   "execution_count": 21,
   "metadata": {
    "execution": {
     "iopub.execute_input": "2022-10-13T20:10:47.010649Z",
     "iopub.status.busy": "2022-10-13T20:10:47.009934Z",
     "iopub.status.idle": "2022-10-13T20:10:47.037166Z",
     "shell.execute_reply": "2022-10-13T20:10:47.03615Z",
     "shell.execute_reply.started": "2022-10-13T20:10:47.010613Z"
    }
   },
   "outputs": [
    {
     "name": "stdout",
     "output_type": "stream",
     "text": [
      "time: 39 ms (started: 2024-05-07 17:19:30 -04:00)\n"
     ]
    }
   ],
   "source": [
    "df = pd.read_csv(os.path.abspath('') + '/input/indian-startup-recognized-by-dpiit/Startup_Counts_Across_India.csv')\n",
    "# df.head().style.background_gradient(cmap='coolwarm')"
   ]
  },
  {
   "cell_type": "markdown",
   "metadata": {},
   "source": [
    "# -- STEFANOS -- Replicate Data"
   ]
  },
  {
   "cell_type": "code",
   "execution_count": 22,
   "metadata": {},
   "outputs": [
    {
     "name": "stdout",
     "output_type": "stream",
     "text": [
      "time: 200 ms (started: 2024-05-07 17:19:30 -04:00)\n"
     ]
    }
   ],
   "source": [
    "factor = 2500\n",
    "df = pd.concat([df]*factor, ignore_index=True)\n",
    "# df.info()"
   ]
  },
  {
   "cell_type": "markdown",
   "metadata": {},
   "source": [
    "## Industry Vs Year"
   ]
  },
  {
   "cell_type": "code",
   "execution_count": 23,
   "metadata": {
    "execution": {
     "iopub.execute_input": "2022-10-13T18:47:57.640597Z",
     "iopub.status.busy": "2022-10-13T18:47:57.640177Z",
     "iopub.status.idle": "2022-10-13T18:47:57.731192Z",
     "shell.execute_reply": "2022-10-13T18:47:57.730007Z",
     "shell.execute_reply.started": "2022-10-13T18:47:57.640567Z"
    }
   },
   "outputs": [
    {
     "name": "stdout",
     "output_type": "stream",
     "text": [
      "time: 213 µs (started: 2024-05-07 17:19:30 -04:00)\n"
     ]
    }
   ],
   "source": [
    "# STEFANOS: Disable plotting\n",
    "# fig = px.scatter(df,x=\"Industry\", y=\"Year\", size=\"Count\", color=\"Count\",template='plotly_dark', title=\"Industry Vs Year\")\n",
    "# fig.show()"
   ]
  },
  {
   "cell_type": "markdown",
   "metadata": {},
   "source": [
    "## Year wise Startup Growth"
   ]
  },
  {
   "cell_type": "code",
   "execution_count": 24,
   "metadata": {
    "execution": {
     "iopub.execute_input": "2022-10-13T18:47:57.734953Z",
     "iopub.status.busy": "2022-10-13T18:47:57.734528Z",
     "iopub.status.idle": "2022-10-13T18:47:57.969067Z",
     "shell.execute_reply": "2022-10-13T18:47:57.967791Z",
     "shell.execute_reply.started": "2022-10-13T18:47:57.734902Z"
    }
   },
   "outputs": [
    {
     "name": "stdout",
     "output_type": "stream",
     "text": [
      "time: 65.7 ms (started: 2024-05-07 17:19:30 -04:00)\n"
     ]
    }
   ],
   "source": [
    "# fig, ax = plt.subplots(1,1, figsize=(15, 6))\n",
    "df_year = df['Year'].value_counts().sort_index()\n",
    "# STEFANOS: Disable plotting\n",
    "# ax.bar(df_year.index, df_year, width=0.55,linewidth=0.7, color = 'purple')\n",
    "# for i in df_year.index:\n",
    "#     ax.annotate(f\"{df_year[i]}\",xy=(i, df_year[i] + 100),\n",
    "#                    va = 'center', ha='center')\n",
    "# ax.set_ylim(0, 1300)    \n",
    "# fig.text(0.1, 0.95, \"Growth of Startup's from 2016-2022\", fontsize=15, fontweight='bold')    \n",
    "\n",
    "# ax.grid(axis='y', linestyle='-', alpha=0.4)  "
   ]
  },
  {
   "cell_type": "markdown",
   "metadata": {},
   "source": [
    "## Various Industries and Its Count"
   ]
  },
  {
   "cell_type": "code",
   "execution_count": 25,
   "metadata": {
    "execution": {
     "iopub.execute_input": "2022-10-13T18:47:57.970636Z",
     "iopub.status.busy": "2022-10-13T18:47:57.970318Z",
     "iopub.status.idle": "2022-10-13T18:47:57.994355Z",
     "shell.execute_reply": "2022-10-13T18:47:57.993266Z",
     "shell.execute_reply.started": "2022-10-13T18:47:57.970608Z"
    }
   },
   "outputs": [
    {
     "data": {
      "text/html": [
       "<div>\n",
       "<style scoped>\n",
       "    .dataframe tbody tr th:only-of-type {\n",
       "        vertical-align: middle;\n",
       "    }\n",
       "\n",
       "    .dataframe tbody tr th {\n",
       "        vertical-align: top;\n",
       "    }\n",
       "\n",
       "    .dataframe thead th {\n",
       "        text-align: right;\n",
       "    }\n",
       "</style>\n",
       "<table border=\"1\" class=\"dataframe\">\n",
       "  <thead>\n",
       "    <tr style=\"text-align: right;\">\n",
       "      <th></th>\n",
       "      <th>0</th>\n",
       "    </tr>\n",
       "    <tr>\n",
       "      <th>Industry</th>\n",
       "      <th></th>\n",
       "    </tr>\n",
       "  </thead>\n",
       "  <tbody>\n",
       "    <tr>\n",
       "      <th>IT Services</th>\n",
       "      <td>440000</td>\n",
       "    </tr>\n",
       "    <tr>\n",
       "      <th>Education</th>\n",
       "      <td>397500</td>\n",
       "    </tr>\n",
       "    <tr>\n",
       "      <th>Construction</th>\n",
       "      <td>395000</td>\n",
       "    </tr>\n",
       "    <tr>\n",
       "      <th>Healthcare &amp; Lifesciences</th>\n",
       "      <td>392500</td>\n",
       "    </tr>\n",
       "    <tr>\n",
       "      <th>Food &amp; Beverages</th>\n",
       "      <td>390000</td>\n",
       "    </tr>\n",
       "    <tr>\n",
       "      <th>Professional &amp; Commercial Services</th>\n",
       "      <td>390000</td>\n",
       "    </tr>\n",
       "    <tr>\n",
       "      <th>Agriculture</th>\n",
       "      <td>380000</td>\n",
       "    </tr>\n",
       "    <tr>\n",
       "      <th>Travel &amp; Tourism</th>\n",
       "      <td>367500</td>\n",
       "    </tr>\n",
       "    <tr>\n",
       "      <th>Retail</th>\n",
       "      <td>360000</td>\n",
       "    </tr>\n",
       "    <tr>\n",
       "      <th>Marketing</th>\n",
       "      <td>355000</td>\n",
       "    </tr>\n",
       "    <tr>\n",
       "      <th>Green Technology</th>\n",
       "      <td>352500</td>\n",
       "    </tr>\n",
       "    <tr>\n",
       "      <th>Renewable Energy</th>\n",
       "      <td>347500</td>\n",
       "    </tr>\n",
       "    <tr>\n",
       "      <th>Technology Hardware</th>\n",
       "      <td>337500</td>\n",
       "    </tr>\n",
       "    <tr>\n",
       "      <th>Transportation &amp; Storage</th>\n",
       "      <td>337500</td>\n",
       "    </tr>\n",
       "    <tr>\n",
       "      <th>Textiles &amp; Apparel</th>\n",
       "      <td>322500</td>\n",
       "    </tr>\n",
       "    <tr>\n",
       "      <th>Media &amp; Entertainment</th>\n",
       "      <td>322500</td>\n",
       "    </tr>\n",
       "    <tr>\n",
       "      <th>Human Resources</th>\n",
       "      <td>322500</td>\n",
       "    </tr>\n",
       "    <tr>\n",
       "      <th>Enterprise Software</th>\n",
       "      <td>320000</td>\n",
       "    </tr>\n",
       "    <tr>\n",
       "      <th>Automotive</th>\n",
       "      <td>305000</td>\n",
       "    </tr>\n",
       "    <tr>\n",
       "      <th>Internet of Things</th>\n",
       "      <td>302500</td>\n",
       "    </tr>\n",
       "    <tr>\n",
       "      <th>Finance Technology</th>\n",
       "      <td>297500</td>\n",
       "    </tr>\n",
       "    <tr>\n",
       "      <th>AI</th>\n",
       "      <td>295000</td>\n",
       "    </tr>\n",
       "    <tr>\n",
       "      <th>Security Solutions</th>\n",
       "      <td>292500</td>\n",
       "    </tr>\n",
       "    <tr>\n",
       "      <th>Advertising</th>\n",
       "      <td>282500</td>\n",
       "    </tr>\n",
       "    <tr>\n",
       "      <th>Telecommunication &amp; Networking</th>\n",
       "      <td>282500</td>\n",
       "    </tr>\n",
       "    <tr>\n",
       "      <th>House-Hold Services</th>\n",
       "      <td>277500</td>\n",
       "    </tr>\n",
       "    <tr>\n",
       "      <th>Other Specialty Retailers</th>\n",
       "      <td>272500</td>\n",
       "    </tr>\n",
       "    <tr>\n",
       "      <th>Non- Renewable Energy</th>\n",
       "      <td>270000</td>\n",
       "    </tr>\n",
       "    <tr>\n",
       "      <th>Real Estate</th>\n",
       "      <td>267500</td>\n",
       "    </tr>\n",
       "    <tr>\n",
       "      <th>Fashion</th>\n",
       "      <td>265000</td>\n",
       "    </tr>\n",
       "    <tr>\n",
       "      <th>Chemicals</th>\n",
       "      <td>265000</td>\n",
       "    </tr>\n",
       "    <tr>\n",
       "      <th>Design</th>\n",
       "      <td>260000</td>\n",
       "    </tr>\n",
       "    <tr>\n",
       "      <th>Social Impact</th>\n",
       "      <td>252500</td>\n",
       "    </tr>\n",
       "    <tr>\n",
       "      <th>Social Network</th>\n",
       "      <td>250000</td>\n",
       "    </tr>\n",
       "    <tr>\n",
       "      <th>Aeronautics Aerospace &amp; Defence</th>\n",
       "      <td>247500</td>\n",
       "    </tr>\n",
       "    <tr>\n",
       "      <th>Robotics</th>\n",
       "      <td>247500</td>\n",
       "    </tr>\n",
       "    <tr>\n",
       "      <th>Analytics</th>\n",
       "      <td>240000</td>\n",
       "    </tr>\n",
       "    <tr>\n",
       "      <th>AR VR (Augmented + Virtual Reality)</th>\n",
       "      <td>235000</td>\n",
       "    </tr>\n",
       "    <tr>\n",
       "      <th>Events</th>\n",
       "      <td>235000</td>\n",
       "    </tr>\n",
       "    <tr>\n",
       "      <th>Architecture Interior Design</th>\n",
       "      <td>230000</td>\n",
       "    </tr>\n",
       "    <tr>\n",
       "      <th>Art &amp; Photography</th>\n",
       "      <td>225000</td>\n",
       "    </tr>\n",
       "    <tr>\n",
       "      <th>Sports</th>\n",
       "      <td>210000</td>\n",
       "    </tr>\n",
       "    <tr>\n",
       "      <th>Computer Vision</th>\n",
       "      <td>197500</td>\n",
       "    </tr>\n",
       "    <tr>\n",
       "      <th>Safety</th>\n",
       "      <td>192500</td>\n",
       "    </tr>\n",
       "    <tr>\n",
       "      <th>Others</th>\n",
       "      <td>187500</td>\n",
       "    </tr>\n",
       "    <tr>\n",
       "      <th>Pets &amp; Animals</th>\n",
       "      <td>182500</td>\n",
       "    </tr>\n",
       "    <tr>\n",
       "      <th>Waste Management</th>\n",
       "      <td>147500</td>\n",
       "    </tr>\n",
       "    <tr>\n",
       "      <th>Nanotechnology</th>\n",
       "      <td>147500</td>\n",
       "    </tr>\n",
       "    <tr>\n",
       "      <th>NOT SPECIFIED</th>\n",
       "      <td>142500</td>\n",
       "    </tr>\n",
       "    <tr>\n",
       "      <th>Logistics</th>\n",
       "      <td>142500</td>\n",
       "    </tr>\n",
       "    <tr>\n",
       "      <th>Dating Matrimonial</th>\n",
       "      <td>112500</td>\n",
       "    </tr>\n",
       "    <tr>\n",
       "      <th>Animation</th>\n",
       "      <td>107500</td>\n",
       "    </tr>\n",
       "    <tr>\n",
       "      <th>Biotechnology</th>\n",
       "      <td>102500</td>\n",
       "    </tr>\n",
       "    <tr>\n",
       "      <th>Indic Language Startups</th>\n",
       "      <td>95000</td>\n",
       "    </tr>\n",
       "    <tr>\n",
       "      <th>Toys and Games</th>\n",
       "      <td>92500</td>\n",
       "    </tr>\n",
       "    <tr>\n",
       "      <th>Airport Operations</th>\n",
       "      <td>25000</td>\n",
       "    </tr>\n",
       "    <tr>\n",
       "      <th>Passenger Experience</th>\n",
       "      <td>15000</td>\n",
       "    </tr>\n",
       "  </tbody>\n",
       "</table>\n",
       "</div>"
      ],
      "text/plain": [
       "                                          0\n",
       "Industry                                   \n",
       "IT Services                          440000\n",
       "Education                            397500\n",
       "Construction                         395000\n",
       "Healthcare & Lifesciences            392500\n",
       "Food & Beverages                     390000\n",
       "Professional & Commercial Services   390000\n",
       "Agriculture                          380000\n",
       "Travel & Tourism                     367500\n",
       "Retail                               360000\n",
       "Marketing                            355000\n",
       "Green Technology                     352500\n",
       "Renewable Energy                     347500\n",
       "Technology Hardware                  337500\n",
       "Transportation & Storage             337500\n",
       "Textiles & Apparel                   322500\n",
       "Media & Entertainment                322500\n",
       "Human Resources                      322500\n",
       "Enterprise Software                  320000\n",
       "Automotive                           305000\n",
       "Internet of Things                   302500\n",
       "Finance Technology                   297500\n",
       "AI                                   295000\n",
       "Security Solutions                   292500\n",
       "Advertising                          282500\n",
       "Telecommunication & Networking       282500\n",
       "House-Hold Services                  277500\n",
       "Other Specialty Retailers            272500\n",
       "Non- Renewable Energy                270000\n",
       "Real Estate                          267500\n",
       "Fashion                              265000\n",
       "Chemicals                            265000\n",
       "Design                               260000\n",
       "Social Impact                        252500\n",
       "Social Network                       250000\n",
       "Aeronautics Aerospace & Defence      247500\n",
       "Robotics                             247500\n",
       "Analytics                            240000\n",
       "AR VR (Augmented + Virtual Reality)  235000\n",
       "Events                               235000\n",
       "Architecture Interior Design         230000\n",
       "Art & Photography                    225000\n",
       "Sports                               210000\n",
       "Computer Vision                      197500\n",
       "Safety                               192500\n",
       "Others                               187500\n",
       "Pets & Animals                       182500\n",
       "Waste Management                     147500\n",
       "Nanotechnology                       147500\n",
       "NOT SPECIFIED                        142500\n",
       "Logistics                            142500\n",
       "Dating Matrimonial                   112500\n",
       "Animation                            107500\n",
       "Biotechnology                        102500\n",
       "Indic Language Startups               95000\n",
       "Toys and Games                        92500\n",
       "Airport Operations                    25000\n",
       "Passenger Experience                  15000"
      ]
     },
     "execution_count": 25,
     "metadata": {},
     "output_type": "execute_result"
    },
    {
     "name": "stdout",
     "output_type": "stream",
     "text": [
      "time: 557 ms (started: 2024-05-07 17:19:30 -04:00)\n"
     ]
    }
   ],
   "source": [
    "df.groupby('Industry').size().sort_values(ascending=False).to_frame()"
   ]
  },
  {
   "cell_type": "markdown",
   "metadata": {},
   "source": [
    "## Top 20 Startup Industries from 2016"
   ]
  },
  {
   "cell_type": "code",
   "execution_count": 26,
   "metadata": {
    "execution": {
     "iopub.execute_input": "2022-10-13T19:01:21.601964Z",
     "iopub.status.busy": "2022-10-13T19:01:21.601613Z",
     "iopub.status.idle": "2022-10-13T19:01:22.283624Z",
     "shell.execute_reply": "2022-10-13T19:01:22.282529Z",
     "shell.execute_reply.started": "2022-10-13T19:01:21.601922Z"
    }
   },
   "outputs": [
    {
     "name": "stdout",
     "output_type": "stream",
     "text": [
      "time: 335 ms (started: 2024-05-07 17:19:30 -04:00)\n"
     ]
    }
   ],
   "source": [
    "# fig, ax = plt.subplots(1,1, figsize=(20, 6))\n",
    "df_ind = df['Industry'].value_counts().iloc[:20]\n",
    "\n",
    "# STEFANOS: Disable plotting\n",
    "# ax.bar(df_ind.index, df_ind, width=0.55,linewidth=0.7, color = 'pink')\n",
    "# for i in df_ind.index:\n",
    "#     ax.annotate(f\"{df_ind[i]}\",xy=(i, df_ind[i] + 20),va = 'center', ha='center')\n",
    "# ax.set_ylim(0, 220)    \n",
    "# fig.text(0.1, 0.95, \"Top 20 Startup Industries from 2016\", fontsize=15, fontweight='bold')    \n",
    "# plt.xticks(rotation=90)\n",
    "# ax.grid(axis='y', linestyle='-', alpha=0.4)  "
   ]
  },
  {
   "cell_type": "markdown",
   "metadata": {},
   "source": [
    "## Top 20 States with Max Startup's"
   ]
  },
  {
   "cell_type": "code",
   "execution_count": 27,
   "metadata": {
    "execution": {
     "iopub.execute_input": "2022-10-13T19:01:52.672854Z",
     "iopub.status.busy": "2022-10-13T19:01:52.672433Z",
     "iopub.status.idle": "2022-10-13T19:01:53.265118Z",
     "shell.execute_reply": "2022-10-13T19:01:53.263997Z",
     "shell.execute_reply.started": "2022-10-13T19:01:52.672814Z"
    }
   },
   "outputs": [
    {
     "name": "stdout",
     "output_type": "stream",
     "text": [
      "time: 336 ms (started: 2024-05-07 17:19:31 -04:00)\n"
     ]
    }
   ],
   "source": [
    "# fig, ax = plt.subplots(1,1, figsize=(20, 6))\n",
    "X = df['State'].value_counts().iloc[:20]\n",
    "\n",
    "# STEFANOS: Disable plotting\n",
    "# ax.bar(X.index, X, width=0.55,linewidth=0.7, color = 'lightblue')\n",
    "# for i in X.index:\n",
    "#     ax.annotate(f\"{X[i]}\",xy=(i, X[i] + 50),\n",
    "#                    va = 'center', ha='center')\n",
    "# ax.set_ylim(0, 400)    \n",
    "# fig.text(0.1, 0.95, \"Top 20 States Having maximum Start'ups from 2016\", fontsize=15, fontweight='bold')    \n",
    "# plt.xticks(rotation=90)\n",
    "# ax.grid(axis='y', linestyle='-', alpha=0.4)  "
   ]
  },
  {
   "cell_type": "markdown",
   "metadata": {},
   "source": [
    "## AI related Startup's from 2016-2022"
   ]
  },
  {
   "cell_type": "code",
   "execution_count": 28,
   "metadata": {
    "execution": {
     "iopub.execute_input": "2022-10-13T20:08:36.090641Z",
     "iopub.status.busy": "2022-10-13T20:08:36.090264Z",
     "iopub.status.idle": "2022-10-13T20:08:36.096871Z",
     "shell.execute_reply": "2022-10-13T20:08:36.096129Z",
     "shell.execute_reply.started": "2022-10-13T20:08:36.090612Z"
    }
   },
   "outputs": [
    {
     "name": "stdout",
     "output_type": "stream",
     "text": [
      "time: 274 ms (started: 2024-05-07 17:19:31 -04:00)\n"
     ]
    }
   ],
   "source": [
    "ds_list=['Internet of Things','AI','Robotics','Analytics','Computer Vision']\n",
    "ds_df = df[df['Industry'].isin(ds_list)]"
   ]
  },
  {
   "cell_type": "code",
   "execution_count": 29,
   "id": "ea5a1ddf",
   "metadata": {},
   "outputs": [
    {
     "name": "stdout",
     "output_type": "stream",
     "text": [
      "Total elapsed time: 1.848755493\n",
      "time: 312 µs (started: 2024-05-07 17:19:31 -04:00)\n"
     ]
    }
   ],
   "source": [
    "SNAPPY_end_time = time.perf_counter_ns()\n",
    "print(\"Total elapsed time:\", (SNAPPY_end_time - SNAPPY_start_time) / (10 ** 9))"
   ]
  }
 ],
 "metadata": {
  "kernelspec": {
   "display_name": "Python 3 (ipykernel)",
   "language": "python",
   "name": "python3"
  },
  "language_info": {
   "codemirror_mode": {
    "name": "ipython",
    "version": 3
   },
   "file_extension": ".py",
   "mimetype": "text/x-python",
   "name": "python",
   "nbconvert_exporter": "python",
   "pygments_lexer": "ipython3",
   "version": "3.10.11"
  }
 },
 "nbformat": 4,
 "nbformat_minor": 4
}
