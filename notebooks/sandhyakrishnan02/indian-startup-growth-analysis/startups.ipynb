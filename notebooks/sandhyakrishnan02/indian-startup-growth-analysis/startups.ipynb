{
 "cells": [
  {
   "cell_type": "code",
   "execution_count": 1,
   "id": "c73165c7",
   "metadata": {},
   "outputs": [],
   "source": [
    "import os\n",
    "SNAPPY_notebook_path = os.path.join(os.path.abspath(\"\"), \"bench.ipynb\")"
   ]
  },
  {
   "cell_type": "code",
   "execution_count": 2,
   "id": "e7934ffe",
   "metadata": {},
   "outputs": [],
   "source": [
    "import time\n",
    "SNAPPY_start_time = time.perf_counter_ns()"
   ]
  },
  {
   "cell_type": "code",
   "execution_count": 3,
   "id": "2a0954b0",
   "metadata": {},
   "outputs": [
    {
     "name": "stdout",
     "output_type": "stream",
     "text": [
      "time: 38.5 µs (started: 2024-05-22 22:03:12 -04:00)\n"
     ]
    }
   ],
   "source": [
    "%load_ext autotime"
   ]
  },
  {
   "cell_type": "markdown",
   "metadata": {},
   "source": [
    "## This notebook analyses growth of startsup's in India during 2016 to 2022."
   ]
  },
  {
   "cell_type": "markdown",
   "metadata": {},
   "source": [
    "# Import Libraries"
   ]
  },
  {
   "cell_type": "code",
   "execution_count": 4,
   "metadata": {
    "_cell_guid": "b1076dfc-b9ad-4769-8c92-a6c4dae69d19",
    "_uuid": "8f2839f25d086af736a60e9eeb907d3b93b6e0e5",
    "execution": {
     "iopub.execute_input": "2022-10-13T18:47:57.587351Z",
     "iopub.status.busy": "2022-10-13T18:47:57.5868Z",
     "iopub.status.idle": "2022-10-13T18:47:57.593901Z",
     "shell.execute_reply": "2022-10-13T18:47:57.592447Z",
     "shell.execute_reply.started": "2022-10-13T18:47:57.587306Z"
    }
   },
   "outputs": [
    {
     "name": "stdout",
     "output_type": "stream",
     "text": [
      "time: 222 ms (started: 2024-05-22 22:03:12 -04:00)\n"
     ]
    }
   ],
   "source": [
    "import numpy as np \n",
    "import os\n",
    "# STEFANOS: Conditionally import Modin Pandas\n",
    "import pandas as pd\n",
    "\n",
    "\n",
    "# from wordcloud import WordCloud\n",
    "import string"
   ]
  },
  {
   "cell_type": "markdown",
   "metadata": {},
   "source": [
    "# Visualisations"
   ]
  },
  {
   "cell_type": "code",
   "execution_count": 5,
   "metadata": {
    "execution": {
     "iopub.execute_input": "2022-10-13T20:10:47.010649Z",
     "iopub.status.busy": "2022-10-13T20:10:47.009934Z",
     "iopub.status.idle": "2022-10-13T20:10:47.037166Z",
     "shell.execute_reply": "2022-10-13T20:10:47.03615Z",
     "shell.execute_reply.started": "2022-10-13T20:10:47.010613Z"
    }
   },
   "outputs": [
    {
     "name": "stdout",
     "output_type": "stream",
     "text": [
      "time: 4.34 ms (started: 2024-05-22 22:03:12 -04:00)\n"
     ]
    }
   ],
   "source": [
    "df = pd.read_csv(os.path.abspath('') + '/input/indian-startup-recognized-by-dpiit/Startup_Counts_Across_India.csv')\n",
    "# df.head().style.background_gradient(cmap='coolwarm')"
   ]
  },
  {
   "cell_type": "markdown",
   "metadata": {},
   "source": [
    "# -- STEFANOS -- Replicate Data"
   ]
  },
  {
   "cell_type": "code",
   "execution_count": 6,
   "metadata": {},
   "outputs": [
    {
     "name": "stdout",
     "output_type": "stream",
     "text": [
      "<class 'pandas.core.frame.DataFrame'>\n",
      "RangeIndex: 14727500 entries, 0 to 14727499\n",
      "Data columns (total 5 columns):\n",
      " #   Column    Dtype \n",
      "---  ------    ----- \n",
      " 0   S No.     int64 \n",
      " 1   Year      int64 \n",
      " 2   State     object\n",
      " 3   Industry  object\n",
      " 4   Count     int64 \n",
      "dtypes: int64(3), object(2)\n",
      "memory usage: 561.8+ MB\n",
      "time: 425 ms (started: 2024-05-22 22:03:12 -04:00)\n"
     ]
    }
   ],
   "source": [
    "factor = 2500\n",
    "df = pd.concat([df]*factor, ignore_index=True)\n",
    "df.info()"
   ]
  },
  {
   "cell_type": "markdown",
   "metadata": {},
   "source": [
    "## Industry Vs Year"
   ]
  },
  {
   "cell_type": "code",
   "execution_count": 7,
   "metadata": {
    "execution": {
     "iopub.execute_input": "2022-10-13T18:47:57.640597Z",
     "iopub.status.busy": "2022-10-13T18:47:57.640177Z",
     "iopub.status.idle": "2022-10-13T18:47:57.731192Z",
     "shell.execute_reply": "2022-10-13T18:47:57.730007Z",
     "shell.execute_reply.started": "2022-10-13T18:47:57.640567Z"
    }
   },
   "outputs": [
    {
     "name": "stdout",
     "output_type": "stream",
     "text": [
      "time: 163 µs (started: 2024-05-22 22:03:13 -04:00)\n"
     ]
    }
   ],
   "source": [
    "# STEFANOS: Disable plotting\n",
    "# fig = px.scatter(df,x=\"Industry\", y=\"Year\", size=\"Count\", color=\"Count\",template='plotly_dark', title=\"Industry Vs Year\")\n",
    "# fig.show()"
   ]
  },
  {
   "cell_type": "markdown",
   "metadata": {},
   "source": [
    "## Year wise Startup Growth"
   ]
  },
  {
   "cell_type": "code",
   "execution_count": 8,
   "metadata": {
    "execution": {
     "iopub.execute_input": "2022-10-13T18:47:57.734953Z",
     "iopub.status.busy": "2022-10-13T18:47:57.734528Z",
     "iopub.status.idle": "2022-10-13T18:47:57.969067Z",
     "shell.execute_reply": "2022-10-13T18:47:57.967791Z",
     "shell.execute_reply.started": "2022-10-13T18:47:57.734902Z"
    }
   },
   "outputs": [
    {
     "name": "stdout",
     "output_type": "stream",
     "text": [
      "time: 78.6 ms (started: 2024-05-22 22:03:13 -04:00)\n"
     ]
    }
   ],
   "source": [
    "# fig, ax = plt.subplots(1,1, figsize=(15, 6))\n",
    "df_year = df['Year'].value_counts().sort_index()\n",
    "# STEFANOS: Disable plotting\n",
    "# ax.bar(df_year.index, df_year, width=0.55,linewidth=0.7, color = 'purple')\n",
    "# for i in df_year.index:\n",
    "#     ax.annotate(f\"{df_year[i]}\",xy=(i, df_year[i] + 100),\n",
    "#                    va = 'center', ha='center')\n",
    "# ax.set_ylim(0, 1300)    \n",
    "# fig.text(0.1, 0.95, \"Growth of Startup's from 2016-2022\", fontsize=15, fontweight='bold')    \n",
    "\n",
    "# ax.grid(axis='y', linestyle='-', alpha=0.4)  "
   ]
  },
  {
   "cell_type": "markdown",
   "metadata": {},
   "source": [
    "## Various Industries and Its Count"
   ]
  },
  {
   "cell_type": "code",
   "execution_count": 9,
   "metadata": {
    "execution": {
     "iopub.execute_input": "2022-10-13T18:47:57.970636Z",
     "iopub.status.busy": "2022-10-13T18:47:57.970318Z",
     "iopub.status.idle": "2022-10-13T18:47:57.994355Z",
     "shell.execute_reply": "2022-10-13T18:47:57.993266Z",
     "shell.execute_reply.started": "2022-10-13T18:47:57.970608Z"
    }
   },
   "outputs": [
    {
     "data": {
      "text/html": [
       "<style type=\"text/css\">\n",
       "#T_2d37e_row0_col0 {\n",
       "  background-color: #b40426;\n",
       "  color: #f1f1f1;\n",
       "}\n",
       "#T_2d37e_row1_col0 {\n",
       "  background-color: #d65244;\n",
       "  color: #f1f1f1;\n",
       "}\n",
       "#T_2d37e_row2_col0 {\n",
       "  background-color: #d85646;\n",
       "  color: #f1f1f1;\n",
       "}\n",
       "#T_2d37e_row3_col0 {\n",
       "  background-color: #d95847;\n",
       "  color: #f1f1f1;\n",
       "}\n",
       "#T_2d37e_row4_col0, #T_2d37e_row5_col0 {\n",
       "  background-color: #dc5d4a;\n",
       "  color: #f1f1f1;\n",
       "}\n",
       "#T_2d37e_row6_col0 {\n",
       "  background-color: #e26952;\n",
       "  color: #f1f1f1;\n",
       "}\n",
       "#T_2d37e_row7_col0 {\n",
       "  background-color: #e8765c;\n",
       "  color: #f1f1f1;\n",
       "}\n",
       "#T_2d37e_row8_col0 {\n",
       "  background-color: #ec7f63;\n",
       "  color: #f1f1f1;\n",
       "}\n",
       "#T_2d37e_row9_col0 {\n",
       "  background-color: #ee8468;\n",
       "  color: #f1f1f1;\n",
       "}\n",
       "#T_2d37e_row10_col0 {\n",
       "  background-color: #ee8669;\n",
       "  color: #f1f1f1;\n",
       "}\n",
       "#T_2d37e_row11_col0 {\n",
       "  background-color: #f08b6e;\n",
       "  color: #f1f1f1;\n",
       "}\n",
       "#T_2d37e_row12_col0, #T_2d37e_row13_col0 {\n",
       "  background-color: #f39577;\n",
       "  color: #000000;\n",
       "}\n",
       "#T_2d37e_row14_col0, #T_2d37e_row15_col0, #T_2d37e_row16_col0 {\n",
       "  background-color: #f6a385;\n",
       "  color: #000000;\n",
       "}\n",
       "#T_2d37e_row17_col0 {\n",
       "  background-color: #f7a688;\n",
       "  color: #000000;\n",
       "}\n",
       "#T_2d37e_row18_col0 {\n",
       "  background-color: #f7b396;\n",
       "  color: #000000;\n",
       "}\n",
       "#T_2d37e_row19_col0 {\n",
       "  background-color: #f7b497;\n",
       "  color: #000000;\n",
       "}\n",
       "#T_2d37e_row20_col0 {\n",
       "  background-color: #f7b89c;\n",
       "  color: #000000;\n",
       "}\n",
       "#T_2d37e_row21_col0 {\n",
       "  background-color: #f7ba9f;\n",
       "  color: #000000;\n",
       "}\n",
       "#T_2d37e_row22_col0 {\n",
       "  background-color: #f7bca1;\n",
       "  color: #000000;\n",
       "}\n",
       "#T_2d37e_row23_col0, #T_2d37e_row24_col0 {\n",
       "  background-color: #f5c2aa;\n",
       "  color: #000000;\n",
       "}\n",
       "#T_2d37e_row25_col0 {\n",
       "  background-color: #f4c6af;\n",
       "  color: #000000;\n",
       "}\n",
       "#T_2d37e_row26_col0 {\n",
       "  background-color: #f2c9b4;\n",
       "  color: #000000;\n",
       "}\n",
       "#T_2d37e_row27_col0 {\n",
       "  background-color: #f2cbb7;\n",
       "  color: #000000;\n",
       "}\n",
       "#T_2d37e_row28_col0 {\n",
       "  background-color: #f1ccb8;\n",
       "  color: #000000;\n",
       "}\n",
       "#T_2d37e_row29_col0, #T_2d37e_row30_col0 {\n",
       "  background-color: #f0cdbb;\n",
       "  color: #000000;\n",
       "}\n",
       "#T_2d37e_row31_col0 {\n",
       "  background-color: #eed0c0;\n",
       "  color: #000000;\n",
       "}\n",
       "#T_2d37e_row32_col0 {\n",
       "  background-color: #ebd3c6;\n",
       "  color: #000000;\n",
       "}\n",
       "#T_2d37e_row33_col0 {\n",
       "  background-color: #ead5c9;\n",
       "  color: #000000;\n",
       "}\n",
       "#T_2d37e_row34_col0, #T_2d37e_row35_col0 {\n",
       "  background-color: #e9d5cb;\n",
       "  color: #000000;\n",
       "}\n",
       "#T_2d37e_row36_col0 {\n",
       "  background-color: #e4d9d2;\n",
       "  color: #000000;\n",
       "}\n",
       "#T_2d37e_row37_col0, #T_2d37e_row38_col0 {\n",
       "  background-color: #e1dad6;\n",
       "  color: #000000;\n",
       "}\n",
       "#T_2d37e_row39_col0 {\n",
       "  background-color: #dedcdb;\n",
       "  color: #000000;\n",
       "}\n",
       "#T_2d37e_row40_col0 {\n",
       "  background-color: #dbdcde;\n",
       "  color: #000000;\n",
       "}\n",
       "#T_2d37e_row41_col0 {\n",
       "  background-color: #d2dbe8;\n",
       "  color: #000000;\n",
       "}\n",
       "#T_2d37e_row42_col0 {\n",
       "  background-color: #c9d7f0;\n",
       "  color: #000000;\n",
       "}\n",
       "#T_2d37e_row43_col0 {\n",
       "  background-color: #c5d6f2;\n",
       "  color: #000000;\n",
       "}\n",
       "#T_2d37e_row44_col0 {\n",
       "  background-color: #c1d4f4;\n",
       "  color: #000000;\n",
       "}\n",
       "#T_2d37e_row45_col0 {\n",
       "  background-color: #bed2f6;\n",
       "  color: #000000;\n",
       "}\n",
       "#T_2d37e_row46_col0, #T_2d37e_row47_col0 {\n",
       "  background-color: #a2c1ff;\n",
       "  color: #000000;\n",
       "}\n",
       "#T_2d37e_row48_col0, #T_2d37e_row49_col0 {\n",
       "  background-color: #9ebeff;\n",
       "  color: #000000;\n",
       "}\n",
       "#T_2d37e_row50_col0 {\n",
       "  background-color: #85a8fc;\n",
       "  color: #f1f1f1;\n",
       "}\n",
       "#T_2d37e_row51_col0 {\n",
       "  background-color: #81a4fb;\n",
       "  color: #f1f1f1;\n",
       "}\n",
       "#T_2d37e_row52_col0 {\n",
       "  background-color: #7da0f9;\n",
       "  color: #f1f1f1;\n",
       "}\n",
       "#T_2d37e_row53_col0 {\n",
       "  background-color: #779af7;\n",
       "  color: #f1f1f1;\n",
       "}\n",
       "#T_2d37e_row54_col0 {\n",
       "  background-color: #7597f6;\n",
       "  color: #f1f1f1;\n",
       "}\n",
       "#T_2d37e_row55_col0 {\n",
       "  background-color: #4257c9;\n",
       "  color: #f1f1f1;\n",
       "}\n",
       "#T_2d37e_row56_col0 {\n",
       "  background-color: #3b4cc0;\n",
       "  color: #f1f1f1;\n",
       "}\n",
       "</style>\n",
       "<table id=\"T_2d37e\">\n",
       "  <thead>\n",
       "    <tr>\n",
       "      <th class=\"blank level0\" >&nbsp;</th>\n",
       "      <th id=\"T_2d37e_level0_col0\" class=\"col_heading level0 col0\" >0</th>\n",
       "    </tr>\n",
       "    <tr>\n",
       "      <th class=\"index_name level0\" >Industry</th>\n",
       "      <th class=\"blank col0\" >&nbsp;</th>\n",
       "    </tr>\n",
       "  </thead>\n",
       "  <tbody>\n",
       "    <tr>\n",
       "      <th id=\"T_2d37e_level0_row0\" class=\"row_heading level0 row0\" >IT Services</th>\n",
       "      <td id=\"T_2d37e_row0_col0\" class=\"data row0 col0\" >440000</td>\n",
       "    </tr>\n",
       "    <tr>\n",
       "      <th id=\"T_2d37e_level0_row1\" class=\"row_heading level0 row1\" >Education</th>\n",
       "      <td id=\"T_2d37e_row1_col0\" class=\"data row1 col0\" >397500</td>\n",
       "    </tr>\n",
       "    <tr>\n",
       "      <th id=\"T_2d37e_level0_row2\" class=\"row_heading level0 row2\" >Construction</th>\n",
       "      <td id=\"T_2d37e_row2_col0\" class=\"data row2 col0\" >395000</td>\n",
       "    </tr>\n",
       "    <tr>\n",
       "      <th id=\"T_2d37e_level0_row3\" class=\"row_heading level0 row3\" >Healthcare & Lifesciences</th>\n",
       "      <td id=\"T_2d37e_row3_col0\" class=\"data row3 col0\" >392500</td>\n",
       "    </tr>\n",
       "    <tr>\n",
       "      <th id=\"T_2d37e_level0_row4\" class=\"row_heading level0 row4\" >Food & Beverages</th>\n",
       "      <td id=\"T_2d37e_row4_col0\" class=\"data row4 col0\" >390000</td>\n",
       "    </tr>\n",
       "    <tr>\n",
       "      <th id=\"T_2d37e_level0_row5\" class=\"row_heading level0 row5\" >Professional & Commercial Services</th>\n",
       "      <td id=\"T_2d37e_row5_col0\" class=\"data row5 col0\" >390000</td>\n",
       "    </tr>\n",
       "    <tr>\n",
       "      <th id=\"T_2d37e_level0_row6\" class=\"row_heading level0 row6\" >Agriculture</th>\n",
       "      <td id=\"T_2d37e_row6_col0\" class=\"data row6 col0\" >380000</td>\n",
       "    </tr>\n",
       "    <tr>\n",
       "      <th id=\"T_2d37e_level0_row7\" class=\"row_heading level0 row7\" >Travel & Tourism</th>\n",
       "      <td id=\"T_2d37e_row7_col0\" class=\"data row7 col0\" >367500</td>\n",
       "    </tr>\n",
       "    <tr>\n",
       "      <th id=\"T_2d37e_level0_row8\" class=\"row_heading level0 row8\" >Retail</th>\n",
       "      <td id=\"T_2d37e_row8_col0\" class=\"data row8 col0\" >360000</td>\n",
       "    </tr>\n",
       "    <tr>\n",
       "      <th id=\"T_2d37e_level0_row9\" class=\"row_heading level0 row9\" >Marketing</th>\n",
       "      <td id=\"T_2d37e_row9_col0\" class=\"data row9 col0\" >355000</td>\n",
       "    </tr>\n",
       "    <tr>\n",
       "      <th id=\"T_2d37e_level0_row10\" class=\"row_heading level0 row10\" >Green Technology</th>\n",
       "      <td id=\"T_2d37e_row10_col0\" class=\"data row10 col0\" >352500</td>\n",
       "    </tr>\n",
       "    <tr>\n",
       "      <th id=\"T_2d37e_level0_row11\" class=\"row_heading level0 row11\" >Renewable Energy</th>\n",
       "      <td id=\"T_2d37e_row11_col0\" class=\"data row11 col0\" >347500</td>\n",
       "    </tr>\n",
       "    <tr>\n",
       "      <th id=\"T_2d37e_level0_row12\" class=\"row_heading level0 row12\" >Technology Hardware</th>\n",
       "      <td id=\"T_2d37e_row12_col0\" class=\"data row12 col0\" >337500</td>\n",
       "    </tr>\n",
       "    <tr>\n",
       "      <th id=\"T_2d37e_level0_row13\" class=\"row_heading level0 row13\" >Transportation & Storage</th>\n",
       "      <td id=\"T_2d37e_row13_col0\" class=\"data row13 col0\" >337500</td>\n",
       "    </tr>\n",
       "    <tr>\n",
       "      <th id=\"T_2d37e_level0_row14\" class=\"row_heading level0 row14\" >Textiles & Apparel</th>\n",
       "      <td id=\"T_2d37e_row14_col0\" class=\"data row14 col0\" >322500</td>\n",
       "    </tr>\n",
       "    <tr>\n",
       "      <th id=\"T_2d37e_level0_row15\" class=\"row_heading level0 row15\" >Media & Entertainment</th>\n",
       "      <td id=\"T_2d37e_row15_col0\" class=\"data row15 col0\" >322500</td>\n",
       "    </tr>\n",
       "    <tr>\n",
       "      <th id=\"T_2d37e_level0_row16\" class=\"row_heading level0 row16\" >Human Resources</th>\n",
       "      <td id=\"T_2d37e_row16_col0\" class=\"data row16 col0\" >322500</td>\n",
       "    </tr>\n",
       "    <tr>\n",
       "      <th id=\"T_2d37e_level0_row17\" class=\"row_heading level0 row17\" >Enterprise Software</th>\n",
       "      <td id=\"T_2d37e_row17_col0\" class=\"data row17 col0\" >320000</td>\n",
       "    </tr>\n",
       "    <tr>\n",
       "      <th id=\"T_2d37e_level0_row18\" class=\"row_heading level0 row18\" >Automotive</th>\n",
       "      <td id=\"T_2d37e_row18_col0\" class=\"data row18 col0\" >305000</td>\n",
       "    </tr>\n",
       "    <tr>\n",
       "      <th id=\"T_2d37e_level0_row19\" class=\"row_heading level0 row19\" >Internet of Things</th>\n",
       "      <td id=\"T_2d37e_row19_col0\" class=\"data row19 col0\" >302500</td>\n",
       "    </tr>\n",
       "    <tr>\n",
       "      <th id=\"T_2d37e_level0_row20\" class=\"row_heading level0 row20\" >Finance Technology</th>\n",
       "      <td id=\"T_2d37e_row20_col0\" class=\"data row20 col0\" >297500</td>\n",
       "    </tr>\n",
       "    <tr>\n",
       "      <th id=\"T_2d37e_level0_row21\" class=\"row_heading level0 row21\" >AI</th>\n",
       "      <td id=\"T_2d37e_row21_col0\" class=\"data row21 col0\" >295000</td>\n",
       "    </tr>\n",
       "    <tr>\n",
       "      <th id=\"T_2d37e_level0_row22\" class=\"row_heading level0 row22\" >Security Solutions</th>\n",
       "      <td id=\"T_2d37e_row22_col0\" class=\"data row22 col0\" >292500</td>\n",
       "    </tr>\n",
       "    <tr>\n",
       "      <th id=\"T_2d37e_level0_row23\" class=\"row_heading level0 row23\" >Advertising</th>\n",
       "      <td id=\"T_2d37e_row23_col0\" class=\"data row23 col0\" >282500</td>\n",
       "    </tr>\n",
       "    <tr>\n",
       "      <th id=\"T_2d37e_level0_row24\" class=\"row_heading level0 row24\" >Telecommunication & Networking</th>\n",
       "      <td id=\"T_2d37e_row24_col0\" class=\"data row24 col0\" >282500</td>\n",
       "    </tr>\n",
       "    <tr>\n",
       "      <th id=\"T_2d37e_level0_row25\" class=\"row_heading level0 row25\" >House-Hold Services</th>\n",
       "      <td id=\"T_2d37e_row25_col0\" class=\"data row25 col0\" >277500</td>\n",
       "    </tr>\n",
       "    <tr>\n",
       "      <th id=\"T_2d37e_level0_row26\" class=\"row_heading level0 row26\" >Other Specialty Retailers</th>\n",
       "      <td id=\"T_2d37e_row26_col0\" class=\"data row26 col0\" >272500</td>\n",
       "    </tr>\n",
       "    <tr>\n",
       "      <th id=\"T_2d37e_level0_row27\" class=\"row_heading level0 row27\" >Non- Renewable Energy</th>\n",
       "      <td id=\"T_2d37e_row27_col0\" class=\"data row27 col0\" >270000</td>\n",
       "    </tr>\n",
       "    <tr>\n",
       "      <th id=\"T_2d37e_level0_row28\" class=\"row_heading level0 row28\" >Real Estate</th>\n",
       "      <td id=\"T_2d37e_row28_col0\" class=\"data row28 col0\" >267500</td>\n",
       "    </tr>\n",
       "    <tr>\n",
       "      <th id=\"T_2d37e_level0_row29\" class=\"row_heading level0 row29\" >Fashion</th>\n",
       "      <td id=\"T_2d37e_row29_col0\" class=\"data row29 col0\" >265000</td>\n",
       "    </tr>\n",
       "    <tr>\n",
       "      <th id=\"T_2d37e_level0_row30\" class=\"row_heading level0 row30\" >Chemicals</th>\n",
       "      <td id=\"T_2d37e_row30_col0\" class=\"data row30 col0\" >265000</td>\n",
       "    </tr>\n",
       "    <tr>\n",
       "      <th id=\"T_2d37e_level0_row31\" class=\"row_heading level0 row31\" >Design</th>\n",
       "      <td id=\"T_2d37e_row31_col0\" class=\"data row31 col0\" >260000</td>\n",
       "    </tr>\n",
       "    <tr>\n",
       "      <th id=\"T_2d37e_level0_row32\" class=\"row_heading level0 row32\" >Social Impact</th>\n",
       "      <td id=\"T_2d37e_row32_col0\" class=\"data row32 col0\" >252500</td>\n",
       "    </tr>\n",
       "    <tr>\n",
       "      <th id=\"T_2d37e_level0_row33\" class=\"row_heading level0 row33\" >Social Network</th>\n",
       "      <td id=\"T_2d37e_row33_col0\" class=\"data row33 col0\" >250000</td>\n",
       "    </tr>\n",
       "    <tr>\n",
       "      <th id=\"T_2d37e_level0_row34\" class=\"row_heading level0 row34\" >Aeronautics Aerospace & Defence</th>\n",
       "      <td id=\"T_2d37e_row34_col0\" class=\"data row34 col0\" >247500</td>\n",
       "    </tr>\n",
       "    <tr>\n",
       "      <th id=\"T_2d37e_level0_row35\" class=\"row_heading level0 row35\" >Robotics</th>\n",
       "      <td id=\"T_2d37e_row35_col0\" class=\"data row35 col0\" >247500</td>\n",
       "    </tr>\n",
       "    <tr>\n",
       "      <th id=\"T_2d37e_level0_row36\" class=\"row_heading level0 row36\" >Analytics</th>\n",
       "      <td id=\"T_2d37e_row36_col0\" class=\"data row36 col0\" >240000</td>\n",
       "    </tr>\n",
       "    <tr>\n",
       "      <th id=\"T_2d37e_level0_row37\" class=\"row_heading level0 row37\" >AR VR (Augmented + Virtual Reality)</th>\n",
       "      <td id=\"T_2d37e_row37_col0\" class=\"data row37 col0\" >235000</td>\n",
       "    </tr>\n",
       "    <tr>\n",
       "      <th id=\"T_2d37e_level0_row38\" class=\"row_heading level0 row38\" >Events</th>\n",
       "      <td id=\"T_2d37e_row38_col0\" class=\"data row38 col0\" >235000</td>\n",
       "    </tr>\n",
       "    <tr>\n",
       "      <th id=\"T_2d37e_level0_row39\" class=\"row_heading level0 row39\" >Architecture Interior Design</th>\n",
       "      <td id=\"T_2d37e_row39_col0\" class=\"data row39 col0\" >230000</td>\n",
       "    </tr>\n",
       "    <tr>\n",
       "      <th id=\"T_2d37e_level0_row40\" class=\"row_heading level0 row40\" >Art & Photography</th>\n",
       "      <td id=\"T_2d37e_row40_col0\" class=\"data row40 col0\" >225000</td>\n",
       "    </tr>\n",
       "    <tr>\n",
       "      <th id=\"T_2d37e_level0_row41\" class=\"row_heading level0 row41\" >Sports</th>\n",
       "      <td id=\"T_2d37e_row41_col0\" class=\"data row41 col0\" >210000</td>\n",
       "    </tr>\n",
       "    <tr>\n",
       "      <th id=\"T_2d37e_level0_row42\" class=\"row_heading level0 row42\" >Computer Vision</th>\n",
       "      <td id=\"T_2d37e_row42_col0\" class=\"data row42 col0\" >197500</td>\n",
       "    </tr>\n",
       "    <tr>\n",
       "      <th id=\"T_2d37e_level0_row43\" class=\"row_heading level0 row43\" >Safety</th>\n",
       "      <td id=\"T_2d37e_row43_col0\" class=\"data row43 col0\" >192500</td>\n",
       "    </tr>\n",
       "    <tr>\n",
       "      <th id=\"T_2d37e_level0_row44\" class=\"row_heading level0 row44\" >Others</th>\n",
       "      <td id=\"T_2d37e_row44_col0\" class=\"data row44 col0\" >187500</td>\n",
       "    </tr>\n",
       "    <tr>\n",
       "      <th id=\"T_2d37e_level0_row45\" class=\"row_heading level0 row45\" >Pets & Animals</th>\n",
       "      <td id=\"T_2d37e_row45_col0\" class=\"data row45 col0\" >182500</td>\n",
       "    </tr>\n",
       "    <tr>\n",
       "      <th id=\"T_2d37e_level0_row46\" class=\"row_heading level0 row46\" >Waste Management</th>\n",
       "      <td id=\"T_2d37e_row46_col0\" class=\"data row46 col0\" >147500</td>\n",
       "    </tr>\n",
       "    <tr>\n",
       "      <th id=\"T_2d37e_level0_row47\" class=\"row_heading level0 row47\" >Nanotechnology</th>\n",
       "      <td id=\"T_2d37e_row47_col0\" class=\"data row47 col0\" >147500</td>\n",
       "    </tr>\n",
       "    <tr>\n",
       "      <th id=\"T_2d37e_level0_row48\" class=\"row_heading level0 row48\" >NOT SPECIFIED</th>\n",
       "      <td id=\"T_2d37e_row48_col0\" class=\"data row48 col0\" >142500</td>\n",
       "    </tr>\n",
       "    <tr>\n",
       "      <th id=\"T_2d37e_level0_row49\" class=\"row_heading level0 row49\" >Logistics</th>\n",
       "      <td id=\"T_2d37e_row49_col0\" class=\"data row49 col0\" >142500</td>\n",
       "    </tr>\n",
       "    <tr>\n",
       "      <th id=\"T_2d37e_level0_row50\" class=\"row_heading level0 row50\" >Dating Matrimonial</th>\n",
       "      <td id=\"T_2d37e_row50_col0\" class=\"data row50 col0\" >112500</td>\n",
       "    </tr>\n",
       "    <tr>\n",
       "      <th id=\"T_2d37e_level0_row51\" class=\"row_heading level0 row51\" >Animation</th>\n",
       "      <td id=\"T_2d37e_row51_col0\" class=\"data row51 col0\" >107500</td>\n",
       "    </tr>\n",
       "    <tr>\n",
       "      <th id=\"T_2d37e_level0_row52\" class=\"row_heading level0 row52\" >Biotechnology</th>\n",
       "      <td id=\"T_2d37e_row52_col0\" class=\"data row52 col0\" >102500</td>\n",
       "    </tr>\n",
       "    <tr>\n",
       "      <th id=\"T_2d37e_level0_row53\" class=\"row_heading level0 row53\" >Indic Language Startups</th>\n",
       "      <td id=\"T_2d37e_row53_col0\" class=\"data row53 col0\" >95000</td>\n",
       "    </tr>\n",
       "    <tr>\n",
       "      <th id=\"T_2d37e_level0_row54\" class=\"row_heading level0 row54\" >Toys and Games</th>\n",
       "      <td id=\"T_2d37e_row54_col0\" class=\"data row54 col0\" >92500</td>\n",
       "    </tr>\n",
       "    <tr>\n",
       "      <th id=\"T_2d37e_level0_row55\" class=\"row_heading level0 row55\" >Airport Operations</th>\n",
       "      <td id=\"T_2d37e_row55_col0\" class=\"data row55 col0\" >25000</td>\n",
       "    </tr>\n",
       "    <tr>\n",
       "      <th id=\"T_2d37e_level0_row56\" class=\"row_heading level0 row56\" >Passenger Experience</th>\n",
       "      <td id=\"T_2d37e_row56_col0\" class=\"data row56 col0\" >15000</td>\n",
       "    </tr>\n",
       "  </tbody>\n",
       "</table>\n"
      ],
      "text/plain": [
       "<pandas.io.formats.style.Styler at 0x7f866b539360>"
      ]
     },
     "execution_count": 9,
     "metadata": {},
     "output_type": "execute_result"
    },
    {
     "name": "stdout",
     "output_type": "stream",
     "text": [
      "time: 924 ms (started: 2024-05-22 22:03:13 -04:00)\n"
     ]
    }
   ],
   "source": [
    "df.groupby('Industry').size().sort_values(ascending=False).to_frame().style.background_gradient(cmap='coolwarm')"
   ]
  },
  {
   "cell_type": "markdown",
   "metadata": {},
   "source": [
    "## Top 20 Startup Industries from 2016"
   ]
  },
  {
   "cell_type": "code",
   "execution_count": 10,
   "metadata": {
    "execution": {
     "iopub.execute_input": "2022-10-13T19:01:21.601964Z",
     "iopub.status.busy": "2022-10-13T19:01:21.601613Z",
     "iopub.status.idle": "2022-10-13T19:01:22.283624Z",
     "shell.execute_reply": "2022-10-13T19:01:22.282529Z",
     "shell.execute_reply.started": "2022-10-13T19:01:21.601922Z"
    }
   },
   "outputs": [
    {
     "name": "stdout",
     "output_type": "stream",
     "text": [
      "time: 301 ms (started: 2024-05-22 22:03:14 -04:00)\n"
     ]
    }
   ],
   "source": [
    "# fig, ax = plt.subplots(1,1, figsize=(20, 6))\n",
    "df_ind = df['Industry'].value_counts().iloc[:20]\n",
    "\n",
    "# STEFANOS: Disable plotting\n",
    "# ax.bar(df_ind.index, df_ind, width=0.55,linewidth=0.7, color = 'pink')\n",
    "# for i in df_ind.index:\n",
    "#     ax.annotate(f\"{df_ind[i]}\",xy=(i, df_ind[i] + 20),va = 'center', ha='center')\n",
    "# ax.set_ylim(0, 220)    \n",
    "# fig.text(0.1, 0.95, \"Top 20 Startup Industries from 2016\", fontsize=15, fontweight='bold')    \n",
    "# plt.xticks(rotation=90)\n",
    "# ax.grid(axis='y', linestyle='-', alpha=0.4)  "
   ]
  },
  {
   "cell_type": "markdown",
   "metadata": {},
   "source": [
    "## Top 20 States with Max Startup's"
   ]
  },
  {
   "cell_type": "code",
   "execution_count": 11,
   "metadata": {
    "execution": {
     "iopub.execute_input": "2022-10-13T19:01:52.672854Z",
     "iopub.status.busy": "2022-10-13T19:01:52.672433Z",
     "iopub.status.idle": "2022-10-13T19:01:53.265118Z",
     "shell.execute_reply": "2022-10-13T19:01:53.263997Z",
     "shell.execute_reply.started": "2022-10-13T19:01:52.672814Z"
    }
   },
   "outputs": [
    {
     "name": "stdout",
     "output_type": "stream",
     "text": [
      "time: 301 ms (started: 2024-05-22 22:03:14 -04:00)\n"
     ]
    }
   ],
   "source": [
    "# fig, ax = plt.subplots(1,1, figsize=(20, 6))\n",
    "X = df['State'].value_counts().iloc[:20]\n",
    "\n",
    "# STEFANOS: Disable plotting\n",
    "# ax.bar(X.index, X, width=0.55,linewidth=0.7, color = 'lightblue')\n",
    "# for i in X.index:\n",
    "#     ax.annotate(f\"{X[i]}\",xy=(i, X[i] + 50),\n",
    "#                    va = 'center', ha='center')\n",
    "# ax.set_ylim(0, 400)    \n",
    "# fig.text(0.1, 0.95, \"Top 20 States Having maximum Start'ups from 2016\", fontsize=15, fontweight='bold')    \n",
    "# plt.xticks(rotation=90)\n",
    "# ax.grid(axis='y', linestyle='-', alpha=0.4)  "
   ]
  },
  {
   "cell_type": "markdown",
   "metadata": {},
   "source": [
    "## AI related Startup's from 2016-2022"
   ]
  },
  {
   "cell_type": "code",
   "execution_count": 12,
   "metadata": {
    "execution": {
     "iopub.execute_input": "2022-10-13T20:08:36.090641Z",
     "iopub.status.busy": "2022-10-13T20:08:36.090264Z",
     "iopub.status.idle": "2022-10-13T20:08:36.096871Z",
     "shell.execute_reply": "2022-10-13T20:08:36.096129Z",
     "shell.execute_reply.started": "2022-10-13T20:08:36.090612Z"
    }
   },
   "outputs": [
    {
     "name": "stdout",
     "output_type": "stream",
     "text": [
      "time: 615 ms (started: 2024-05-22 22:03:14 -04:00)\n"
     ]
    }
   ],
   "source": [
    "ds_list=['Internet of Things','AI','Robotics','Analytics','Computer Vision']\n",
    "ds_df = df[df['Industry'].isin(ds_list)]"
   ]
  },
  {
   "cell_type": "code",
   "execution_count": 13,
   "id": "ea5a1ddf",
   "metadata": {},
   "outputs": [
    {
     "name": "stdout",
     "output_type": "stream",
     "text": [
      "Total elapsed time: 2.913698353\n",
      "time: 310 µs (started: 2024-05-22 22:03:15 -04:00)\n"
     ]
    }
   ],
   "source": [
    "SNAPPY_end_time = time.perf_counter_ns()\n",
    "print(\"Total elapsed time:\", (SNAPPY_end_time - SNAPPY_start_time) / (10 ** 9))"
   ]
  }
 ],
 "metadata": {
  "kernelspec": {
   "display_name": "Python 3 (ipykernel)",
   "language": "python",
   "name": "python3"
  },
  "language_info": {
   "codemirror_mode": {
    "name": "ipython",
    "version": 3
   },
   "file_extension": ".py",
   "mimetype": "text/x-python",
   "name": "python",
   "nbconvert_exporter": "python",
   "pygments_lexer": "ipython3",
   "version": "3.10.11"
  }
 },
 "nbformat": 4,
 "nbformat_minor": 5
}
