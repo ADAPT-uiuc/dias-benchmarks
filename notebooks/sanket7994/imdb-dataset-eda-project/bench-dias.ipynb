{
 "cells": [
  {
   "cell_type": "code",
   "execution_count": 1,
   "metadata": {
    "_cell_guid": "b1076dfc-b9ad-4769-8c92-a6c4dae69d19",
    "_uuid": "8f2839f25d086af736a60e9eeb907d3b93b6e0e5",
    "execution": {
     "iopub.execute_input": "2022-10-27T17:09:54.688643Z",
     "iopub.status.busy": "2022-10-27T17:09:54.688195Z",
     "iopub.status.idle": "2022-10-27T17:09:54.702072Z",
     "shell.execute_reply": "2022-10-27T17:09:54.700995Z",
     "shell.execute_reply.started": "2022-10-27T17:09:54.688607Z"
    }
   },
   "outputs": [
    {
     "name": "stdout",
     "output_type": "stream",
     "text": [
      os.path.abspath('') + "/input/imdb-official-movies-dataset/title-crew.tsv\n",
      os.path.abspath('') + "/input/imdb-official-movies-dataset/title-ratings.tsv\n",
      os.path.abspath('') + "/input/imdb-official-movies-dataset/title-metadata.tsv\n"
     ]
    }
   ],
   "source": [
    "# This Python 3 environment comes with many helpful analytics libraries installed\n",
    "# It is defined by the kaggle/python Docker image: https://github.com/kaggle/docker-python\n",
    "# For example, here's several helpful packages to load\n",
    "\n",
    "import numpy as np # linear algebra\n",
    "import os\n",
    "# STEFANOS: Conditionally import Modin Pandas\n",
    "import pandas as pd\n",
    "\n",
    "# Input data files are available in the read-only \os.path.abspath('') + "/input/\" directory\n",
    "# For example, running this (by clicking run or pressing Shift+Enter) will list all files under the input directory\n",
    "\n",
    "import os\n",
    "for dirname, _, filenames in os.walk(os.path.abspath('') + '/input'):\n",
    "    for filename in filenames:\n",
    "        print(os.path.join(dirname, filename))\n",
    "\n",
    "# You can write up to 20GB to the current directory (/kaggle/working/) that gets preserved as output when you create a version using \"Save & Run All\" \n",
    "# You can also write temporary files to /kaggle/temp/, but they won't be saved outside of the current session"
   ]
  },
  {
   "cell_type": "code",
   "execution_count": 2,
   "metadata": {
    "execution": {
     "iopub.execute_input": "2022-10-27T17:09:57.921233Z",
     "iopub.status.busy": "2022-10-27T17:09:57.920554Z",
     "iopub.status.idle": "2022-10-27T17:10:30.112537Z",
     "shell.execute_reply": "2022-10-27T17:10:30.111367Z",
     "shell.execute_reply.started": "2022-10-27T17:09:57.921187Z"
    }
   },
   "outputs": [],
   "source": [
    "df = pd.read_table(os.path.abspath('') + '/input/imdb-official-movies-dataset/title-ratings.tsv', low_memory=False)\n",
    "df2 = pd.read_table(os.path.abspath('') + '/input/imdb-official-movies-dataset/title-metadata.tsv',low_memory=False)\n",
    "if \"IREWR_LESS_REPLICATION\" in os.environ and os.environ[\"IREWR_LESS_REPLICATION\"] == \"True\":\n",
    "    df2 = df2[:1_500_000]"
   ]
  },
  {
   "cell_type": "code",
   "execution_count": 3,
   "metadata": {
    "execution": {
     "iopub.execute_input": "2022-10-27T17:10:36.806632Z",
     "iopub.status.busy": "2022-10-27T17:10:36.806166Z",
     "iopub.status.idle": "2022-10-27T17:10:50.911728Z",
     "shell.execute_reply": "2022-10-27T17:10:50.910643Z",
     "shell.execute_reply.started": "2022-10-27T17:10:36.806593Z"
    }
   },
   "outputs": [
    {
     "data": {
      "text/html": [
       "<div>\n",
       "<style scoped>\n",
       "    .dataframe tbody tr th:only-of-type {\n",
       "        vertical-align: middle;\n",
       "    }\n",
       "\n",
       "    .dataframe tbody tr th {\n",
       "        vertical-align: top;\n",
       "    }\n",
       "\n",
       "    .dataframe thead th {\n",
       "        text-align: right;\n",
       "    }\n",
       "</style>\n",
       "<table border=\"1\" class=\"dataframe\">\n",
       "  <thead>\n",
       "    <tr style=\"text-align: right;\">\n",
       "      <th></th>\n",
       "      <th>tconst</th>\n",
       "      <th>averageRating</th>\n",
       "      <th>numVotes</th>\n",
       "      <th>titleType</th>\n",
       "      <th>primaryTitle</th>\n",
       "      <th>originalTitle</th>\n",
       "      <th>isAdult</th>\n",
       "      <th>startYear</th>\n",
       "      <th>endYear</th>\n",
       "      <th>runtimeMinutes</th>\n",
       "      <th>genres</th>\n",
       "    </tr>\n",
       "  </thead>\n",
       "  <tbody>\n",
       "    <tr>\n",
       "      <th>0</th>\n",
       "      <td>tt0000001</td>\n",
       "      <td>5.7</td>\n",
       "      <td>1914</td>\n",
       "      <td>short</td>\n",
       "      <td>Carmencita</td>\n",
       "      <td>Carmencita</td>\n",
       "      <td>0</td>\n",
       "      <td>1894</td>\n",
       "      <td>\\N</td>\n",
       "      <td>1</td>\n",
       "      <td>\\N</td>\n",
       "    </tr>\n",
       "    <tr>\n",
       "      <th>1</th>\n",
       "      <td>tt0000002</td>\n",
       "      <td>5.8</td>\n",
       "      <td>259</td>\n",
       "      <td>short</td>\n",
       "      <td>Le clown et ses chiens</td>\n",
       "      <td>Le clown et ses chiens</td>\n",
       "      <td>0</td>\n",
       "      <td>1892</td>\n",
       "      <td>\\N</td>\n",
       "      <td>5</td>\n",
       "      <td>\\N</td>\n",
       "    </tr>\n",
       "    <tr>\n",
       "      <th>2</th>\n",
       "      <td>tt0000003</td>\n",
       "      <td>6.5</td>\n",
       "      <td>1720</td>\n",
       "      <td>short</td>\n",
       "      <td>Pauvre Pierrot</td>\n",
       "      <td>Pauvre Pierrot</td>\n",
       "      <td>0</td>\n",
       "      <td>1892</td>\n",
       "      <td>\\N</td>\n",
       "      <td>4</td>\n",
       "      <td>\\N</td>\n",
       "    </tr>\n",
       "    <tr>\n",
       "      <th>3</th>\n",
       "      <td>tt0000004</td>\n",
       "      <td>5.6</td>\n",
       "      <td>172</td>\n",
       "      <td>short</td>\n",
       "      <td>Un bon bock</td>\n",
       "      <td>Un bon bock</td>\n",
       "      <td>0</td>\n",
       "      <td>1892</td>\n",
       "      <td>\\N</td>\n",
       "      <td>12</td>\n",
       "      <td>\\N</td>\n",
       "    </tr>\n",
       "    <tr>\n",
       "      <th>4</th>\n",
       "      <td>tt0000005</td>\n",
       "      <td>6.2</td>\n",
       "      <td>2537</td>\n",
       "      <td>short</td>\n",
       "      <td>Blacksmith Scene</td>\n",
       "      <td>Blacksmith Scene</td>\n",
       "      <td>0</td>\n",
       "      <td>1893</td>\n",
       "      <td>\\N</td>\n",
       "      <td>1</td>\n",
       "      <td>\\N</td>\n",
       "    </tr>\n",
       "  </tbody>\n",
       "</table>\n",
       "</div>"
      ],
      "text/plain": [
       "      tconst  averageRating  numVotes titleType            primaryTitle  \\\n",
       "0  tt0000001            5.7      1914     short              Carmencita   \n",
       "1  tt0000002            5.8       259     short  Le clown et ses chiens   \n",
       "2  tt0000003            6.5      1720     short          Pauvre Pierrot   \n",
       "3  tt0000004            5.6       172     short             Un bon bock   \n",
       "4  tt0000005            6.2      2537     short        Blacksmith Scene   \n",
       "\n",
       "            originalTitle isAdult startYear endYear runtimeMinutes genres  \n",
       "0              Carmencita       0      1894      \\N              1     \\N  \n",
       "1  Le clown et ses chiens       0      1892      \\N              5     \\N  \n",
       "2          Pauvre Pierrot       0      1892      \\N              4     \\N  \n",
       "3             Un bon bock       0      1892      \\N             12     \\N  \n",
       "4        Blacksmith Scene       0      1893      \\N              1     \\N  "
      ]
     },
     "execution_count": 3,
     "metadata": {},
     "output_type": "execute_result"
    }
   ],
   "source": [
    "# Merging Rating and MetaData datsets into single dataframe w.r.t common column\n",
    "main_df = pd.merge(df,df2,on='tconst')\n",
    "main_df.head()"
   ]
  },
  {
   "cell_type": "markdown",
   "metadata": {},
   "source": [
    "**DATA Cleaning:**"
   ]
  },
  {
   "cell_type": "code",
   "execution_count": 4,
   "metadata": {
    "execution": {
     "iopub.execute_input": "2022-10-27T17:10:56.768538Z",
     "iopub.status.busy": "2022-10-27T17:10:56.768128Z",
     "iopub.status.idle": "2022-10-27T17:10:57.495921Z",
     "shell.execute_reply": "2022-10-27T17:10:57.4949Z",
     "shell.execute_reply.started": "2022-10-27T17:10:56.768507Z"
    }
   },
   "outputs": [],
   "source": [
    "# creating a copy \n",
    "imdb_df = main_df.copy()"
   ]
  },
  {
   "cell_type": "markdown",
   "metadata": {},
   "source": [
    "**Currently, 'runtimeMinutes' column is in Minutes form thus we will convert it into Days:HH:MM:SS Format for better display of runtime information**"
   ]
  },
  {
   "cell_type": "code",
   "execution_count": 5,
   "metadata": {
    "execution": {
     "iopub.execute_input": "2022-10-27T17:11:00.362579Z",
     "iopub.status.busy": "2022-10-27T17:11:00.362091Z",
     "iopub.status.idle": "2022-10-27T17:11:00.424321Z",
     "shell.execute_reply": "2022-10-27T17:11:00.423187Z",
     "shell.execute_reply.started": "2022-10-27T17:11:00.362547Z"
    }
   },
   "outputs": [
    {
     "data": {
      "text/plain": [
       "\\N      358359\n",
       "30       42810\n",
       "60       37284\n",
       "22       36831\n",
       "90       28662\n",
       "         ...  \n",
       "567          1\n",
       "3900         1\n",
       "2150         1\n",
       "1620         1\n",
       "468          1\n",
       "Name: runtimeMinutes, Length: 707, dtype: int64"
      ]
     },
     "execution_count": 5,
     "metadata": {},
     "output_type": "execute_result"
    }
   ],
   "source": [
    "imdb_df['runtimeMinutes'].value_counts()"
   ]
  },
  {
   "cell_type": "code",
   "execution_count": 6,
   "metadata": {
    "execution": {
     "iopub.execute_input": "2022-10-27T17:11:04.385631Z",
     "iopub.status.busy": "2022-10-27T17:11:04.385228Z",
     "iopub.status.idle": "2022-10-27T17:11:05.126248Z",
     "shell.execute_reply": "2022-10-27T17:11:05.125046Z",
     "shell.execute_reply.started": "2022-10-27T17:11:04.385599Z"
    }
   },
   "outputs": [],
   "source": [
    "# Replace object type string '\\N' with NaN First\n",
    "imdb_df['runtime_delta'] = pd.to_numeric(imdb_df['runtimeMinutes'], errors='coerce', downcast=\"integer\")"
   ]
  },
  {
   "cell_type": "code",
   "execution_count": 7,
   "metadata": {
    "execution": {
     "iopub.execute_input": "2022-10-27T17:11:07.445913Z",
     "iopub.status.busy": "2022-10-27T17:11:07.445167Z",
     "iopub.status.idle": "2022-10-27T17:11:07.482252Z",
     "shell.execute_reply": "2022-10-27T17:11:07.481046Z",
     "shell.execute_reply.started": "2022-10-27T17:11:07.445876Z"
    }
   },
   "outputs": [],
   "source": [
    "# Using 'pd.to_timedelta' to convert minutes into desired format\n",
    "imdb_df['runtime_delta'] = pd.to_timedelta(imdb_df['runtime_delta'], unit='m')"
   ]
  },
  {
   "cell_type": "markdown",
   "metadata": {},
   "source": [
    "**Similarly, The 'isAdult' column should contain only two values, '0: non-adult title, 1: adult title' but here As we can see dataFrame column consist of mixed data values like string, bool and int. Thus, Lets sort and restructure this column into a Bool data type.**"
   ]
  },
  {
   "cell_type": "code",
   "execution_count": 8,
   "metadata": {
    "execution": {
     "iopub.execute_input": "2022-10-27T17:11:10.194322Z",
     "iopub.status.busy": "2022-10-27T17:11:10.193918Z",
     "iopub.status.idle": "2022-10-27T17:11:10.279323Z",
     "shell.execute_reply": "2022-10-27T17:11:10.278265Z",
     "shell.execute_reply.started": "2022-10-27T17:11:10.194289Z"
    }
   },
   "outputs": [
    {
     "data": {
      "text/plain": [
       "array(['0', '1', '2020', '2014'], dtype=object)"
      ]
     },
     "execution_count": 8,
     "metadata": {},
     "output_type": "execute_result"
    }
   ],
   "source": [
    "imdb_df['isAdult'].unique()"
   ]
  },
  {
   "cell_type": "code",
   "execution_count": 9,
   "metadata": {
    "execution": {
     "iopub.execute_input": "2022-10-27T17:11:13.327787Z",
     "iopub.status.busy": "2022-10-27T17:11:13.327354Z",
     "iopub.status.idle": "2022-10-27T17:11:13.41531Z",
     "shell.execute_reply": "2022-10-27T17:11:13.414326Z",
     "shell.execute_reply.started": "2022-10-27T17:11:13.327752Z"
    }
   },
   "outputs": [],
   "source": [
    "# Replace string and int by boolean\n",
    "# we will leave out '2014' and '2020' as it is as there`s no way to confirm If they Adult or not not\n",
    "imdb_df['isAdult'] = imdb_df['isAdult'].map({'0': 'Non_Adult_Title', '1': 'Adult_Title'})"
   ]
  },
  {
   "cell_type": "code",
   "execution_count": 10,
   "metadata": {
    "execution": {
     "iopub.execute_input": "2022-10-27T17:11:16.393343Z",
     "iopub.status.busy": "2022-10-27T17:11:16.392484Z",
     "iopub.status.idle": "2022-10-27T17:11:16.569905Z",
     "shell.execute_reply": "2022-10-27T17:11:16.568803Z",
     "shell.execute_reply.started": "2022-10-27T17:11:16.393306Z"
    }
   },
   "outputs": [
    {
     "data": {
      "text/plain": [
       "array(['Non_Adult_Title', 'Adult_Title', 'Unrated'], dtype=object)"
      ]
     },
     "execution_count": 10,
     "metadata": {},
     "output_type": "execute_result"
    }
   ],
   "source": [
    "imdb_df.isAdult = imdb_df.isAdult.fillna('Unrated')\n",
    "imdb_df['isAdult'].unique()"
   ]
  },
  {
   "cell_type": "markdown",
   "metadata": {},
   "source": [
    "**Creating a new column to provide information of show run timeline in better way by joinning 'startYear' and 'endYear' columns into one**"
   ]
  },
  {
   "cell_type": "code",
   "execution_count": 11,
   "metadata": {
    "execution": {
     "iopub.execute_input": "2022-10-27T17:11:19.218694Z",
     "iopub.status.busy": "2022-10-27T17:11:19.218286Z",
     "iopub.status.idle": "2022-10-27T17:11:19.334662Z",
     "shell.execute_reply": "2022-10-27T17:11:19.333619Z",
     "shell.execute_reply.started": "2022-10-27T17:11:19.218659Z"
    }
   },
   "outputs": [],
   "source": [
    "# First, we should replace '\\N' values to nan so next step\n",
    "imdb_df['startYear'] = imdb_df['startYear'].replace('\\\\N', np.NaN)\n",
    "imdb_df['endYear'] = imdb_df['endYear'].replace('\\\\N', np.NaN)"
   ]
  },
  {
   "cell_type": "code",
   "execution_count": 12,
   "metadata": {
    "execution": {
     "iopub.execute_input": "2022-10-27T17:11:21.985582Z",
     "iopub.status.busy": "2022-10-27T17:11:21.985191Z",
     "iopub.status.idle": "2022-10-27T17:12:05.628898Z",
     "shell.execute_reply": "2022-10-27T17:12:05.627755Z",
     "shell.execute_reply.started": "2022-10-27T17:11:21.985552Z"
    }
   },
   "outputs": [],
   "source": [
    "# Now joinning them\n",
    "# STEFANOS-DISABLE-FOR-MODIN\n",
    "### ORIGINAL ###\n",
    "# imdb_df['premiere_timeline'] = imdb_df[['startYear','endYear']].stack().groupby(level=0).agg('-'.join)\n",
    "### COMPATIBLE WITH MODIN ###\n",
    "# I tried a bunch of things, here's one:\n",
    "#   imdb_df['premiere_timeline'] = imdb_df[['startYear','endYear']].stack().groupby(level=0).apply('-'.join)\n",
    "# They don't seem to work. The problem seems to be with groupby(level=0). Generally, I'm not sure that Modin can\n",
    "# groupby MultiIndex's.\n",
    "# So, below I do the computation up to the stacking, just so that we can keep as much of it as possible (in case\n",
    "# Modin, or some other system that uses the same benchmarks, can optimize it; we don't want to deprive this\n",
    "# opportunity). Unfortunately, we cannot assign the result of stacking to premiere_timeline as they don't match.\n",
    "# I just assign a dumb value to premiere_timeline so that it exists in the DF. It's not used later.\n",
    "\n",
    "_ = imdb_df[['startYear','endYear']].stack()\n",
    "imdb_df['premiere_timeline'] = 0"
   ]
  },
  {
   "cell_type": "markdown",
   "metadata": {},
   "source": [
    "**The data cleaning has been completed. However, Lets drop unneccessory columns from this dataframe for furthur analysis:**"
   ]
  },
  {
   "cell_type": "code",
   "execution_count": 13,
   "metadata": {
    "execution": {
     "iopub.execute_input": "2022-10-27T17:12:11.666049Z",
     "iopub.status.busy": "2022-10-27T17:12:11.665309Z",
     "iopub.status.idle": "2022-10-27T17:12:12.436443Z",
     "shell.execute_reply": "2022-10-27T17:12:12.435271Z",
     "shell.execute_reply.started": "2022-10-27T17:12:11.666008Z"
    }
   },
   "outputs": [
    {
     "data": {
      "text/html": [
       "<div>\n",
       "<style scoped>\n",
       "    .dataframe tbody tr th:only-of-type {\n",
       "        vertical-align: middle;\n",
       "    }\n",
       "\n",
       "    .dataframe tbody tr th {\n",
       "        vertical-align: top;\n",
       "    }\n",
       "\n",
       "    .dataframe thead th {\n",
       "        text-align: right;\n",
       "    }\n",
       "</style>\n",
       "<table border=\"1\" class=\"dataframe\">\n",
       "  <thead>\n",
       "    <tr style=\"text-align: right;\">\n",
       "      <th></th>\n",
       "      <th>IMDB_ID</th>\n",
       "      <th>Avg_Rating</th>\n",
       "      <th>Total_Votes</th>\n",
       "      <th>Title_Category</th>\n",
       "      <th>Title_Name</th>\n",
       "      <th>IN-18+</th>\n",
       "      <th>Air_time</th>\n",
       "      <th>Title_Runtime_Length</th>\n",
       "    </tr>\n",
       "  </thead>\n",
       "  <tbody>\n",
       "    <tr>\n",
       "      <th>0</th>\n",
       "      <td>tt0000001</td>\n",
       "      <td>5.7</td>\n",
       "      <td>1914</td>\n",
       "      <td>short</td>\n",
       "      <td>Carmencita</td>\n",
       "      <td>Non_Adult_Title</td>\n",
       "      <td>0</td>\n",
       "      <td>0 days 00:01:00</td>\n",
       "    </tr>\n",
       "    <tr>\n",
       "      <th>1</th>\n",
       "      <td>tt0000002</td>\n",
       "      <td>5.8</td>\n",
       "      <td>259</td>\n",
       "      <td>short</td>\n",
       "      <td>Le clown et ses chiens</td>\n",
       "      <td>Non_Adult_Title</td>\n",
       "      <td>0</td>\n",
       "      <td>0 days 00:05:00</td>\n",
       "    </tr>\n",
       "    <tr>\n",
       "      <th>2</th>\n",
       "      <td>tt0000003</td>\n",
       "      <td>6.5</td>\n",
       "      <td>1720</td>\n",
       "      <td>short</td>\n",
       "      <td>Pauvre Pierrot</td>\n",
       "      <td>Non_Adult_Title</td>\n",
       "      <td>0</td>\n",
       "      <td>0 days 00:04:00</td>\n",
       "    </tr>\n",
       "    <tr>\n",
       "      <th>3</th>\n",
       "      <td>tt0000004</td>\n",
       "      <td>5.6</td>\n",
       "      <td>172</td>\n",
       "      <td>short</td>\n",
       "      <td>Un bon bock</td>\n",
       "      <td>Non_Adult_Title</td>\n",
       "      <td>0</td>\n",
       "      <td>0 days 00:12:00</td>\n",
       "    </tr>\n",
       "    <tr>\n",
       "      <th>4</th>\n",
       "      <td>tt0000005</td>\n",
       "      <td>6.2</td>\n",
       "      <td>2537</td>\n",
       "      <td>short</td>\n",
       "      <td>Blacksmith Scene</td>\n",
       "      <td>Non_Adult_Title</td>\n",
       "      <td>0</td>\n",
       "      <td>0 days 00:01:00</td>\n",
       "    </tr>\n",
       "  </tbody>\n",
       "</table>\n",
       "</div>"
      ],
      "text/plain": [
       "     IMDB_ID  Avg_Rating  Total_Votes Title_Category              Title_Name  \\\n",
       "0  tt0000001         5.7         1914          short              Carmencita   \n",
       "1  tt0000002         5.8          259          short  Le clown et ses chiens   \n",
       "2  tt0000003         6.5         1720          short          Pauvre Pierrot   \n",
       "3  tt0000004         5.6          172          short             Un bon bock   \n",
       "4  tt0000005         6.2         2537          short        Blacksmith Scene   \n",
       "\n",
       "            IN-18+  Air_time Title_Runtime_Length  \n",
       "0  Non_Adult_Title         0      0 days 00:01:00  \n",
       "1  Non_Adult_Title         0      0 days 00:05:00  \n",
       "2  Non_Adult_Title         0      0 days 00:04:00  \n",
       "3  Non_Adult_Title         0      0 days 00:12:00  \n",
       "4  Non_Adult_Title         0      0 days 00:01:00  "
      ]
     },
     "execution_count": 13,
     "metadata": {},
     "output_type": "execute_result"
    }
   ],
   "source": [
    "# Drop unneccessory columns from dataframe\n",
    "columns_to_keep = ['tconst','averageRating','numVotes','titleType','primaryTitle',\n",
    "                   'isAdult','premiere_timeline','runtime_delta']\n",
    "\n",
    "imdb_df = imdb_df[columns_to_keep]\n",
    "\n",
    "# Also renaming them with approriate name\n",
    "renamed_cols = {'tconst':'IMDB_ID','averageRating':'Avg_Rating','numVotes':'Total_Votes',\n",
    "                'titleType':'Title_Category','primaryTitle':'Title_Name','isAdult':'IN-18+'\n",
    "                ,'premiere_timeline':'Air_time','runtime_delta':'Title_Runtime_Length'}\n",
    "\n",
    "imdb_df.rename(columns = renamed_cols,inplace=True)\n",
    "imdb_df.head()"
   ]
  },
  {
   "cell_type": "markdown",
   "metadata": {},
   "source": [
    "**Top 10 highest voted and rated Titles across all categories**"
   ]
  },
  {
   "cell_type": "code",
   "execution_count": 14,
   "metadata": {
    "execution": {
     "iopub.execute_input": "2022-10-27T17:12:17.701339Z",
     "iopub.status.busy": "2022-10-27T17:12:17.700628Z",
     "iopub.status.idle": "2022-10-27T17:12:20.814051Z",
     "shell.execute_reply": "2022-10-27T17:12:20.812836Z",
     "shell.execute_reply.started": "2022-10-27T17:12:17.701301Z"
    }
   },
   "outputs": [
    {
     "data": {
      "text/html": [
       "<div>\n",
       "<style scoped>\n",
       "    .dataframe tbody tr th:only-of-type {\n",
       "        vertical-align: middle;\n",
       "    }\n",
       "\n",
       "    .dataframe tbody tr th {\n",
       "        vertical-align: top;\n",
       "    }\n",
       "\n",
       "    .dataframe thead th {\n",
       "        text-align: right;\n",
       "    }\n",
       "</style>\n",
       "<table border=\"1\" class=\"dataframe\">\n",
       "  <thead>\n",
       "    <tr style=\"text-align: right;\">\n",
       "      <th></th>\n",
       "      <th>Title_Name</th>\n",
       "      <th>Avg_Rating</th>\n",
       "      <th>Total_Votes</th>\n",
       "    </tr>\n",
       "  </thead>\n",
       "  <tbody>\n",
       "    <tr>\n",
       "      <th>0</th>\n",
       "      <td>Fight Club</td>\n",
       "      <td>10.0</td>\n",
       "      <td>2091999</td>\n",
       "    </tr>\n",
       "    <tr>\n",
       "      <th>1</th>\n",
       "      <td>Gladiator</td>\n",
       "      <td>10.0</td>\n",
       "      <td>1483822</td>\n",
       "    </tr>\n",
       "    <tr>\n",
       "      <th>2</th>\n",
       "      <td>Die Hard</td>\n",
       "      <td>10.0</td>\n",
       "      <td>869876</td>\n",
       "    </tr>\n",
       "    <tr>\n",
       "      <th>3</th>\n",
       "      <td>Ratatouille</td>\n",
       "      <td>10.0</td>\n",
       "      <td>727214</td>\n",
       "    </tr>\n",
       "    <tr>\n",
       "      <th>4</th>\n",
       "      <td>Limitless</td>\n",
       "      <td>10.0</td>\n",
       "      <td>570901</td>\n",
       "    </tr>\n",
       "    <tr>\n",
       "      <th>5</th>\n",
       "      <td>Shaun of the Dead</td>\n",
       "      <td>10.0</td>\n",
       "      <td>555530</td>\n",
       "    </tr>\n",
       "    <tr>\n",
       "      <th>6</th>\n",
       "      <td>Lost</td>\n",
       "      <td>10.0</td>\n",
       "      <td>549336</td>\n",
       "    </tr>\n",
       "    <tr>\n",
       "      <th>7</th>\n",
       "      <td>Fury</td>\n",
       "      <td>10.0</td>\n",
       "      <td>485732</td>\n",
       "    </tr>\n",
       "    <tr>\n",
       "      <th>8</th>\n",
       "      <td>Tangled</td>\n",
       "      <td>10.0</td>\n",
       "      <td>450335</td>\n",
       "    </tr>\n",
       "    <tr>\n",
       "      <th>9</th>\n",
       "      <td>Vertigo</td>\n",
       "      <td>10.0</td>\n",
       "      <td>400388</td>\n",
       "    </tr>\n",
       "  </tbody>\n",
       "</table>\n",
       "</div>"
      ],
      "text/plain": [
       "          Title_Name  Avg_Rating  Total_Votes\n",
       "0         Fight Club        10.0      2091999\n",
       "1          Gladiator        10.0      1483822\n",
       "2           Die Hard        10.0       869876\n",
       "3        Ratatouille        10.0       727214\n",
       "4          Limitless        10.0       570901\n",
       "5  Shaun of the Dead        10.0       555530\n",
       "6               Lost        10.0       549336\n",
       "7               Fury        10.0       485732\n",
       "8            Tangled        10.0       450335\n",
       "9            Vertigo        10.0       400388"
      ]
     },
     "execution_count": 14,
     "metadata": {},
     "output_type": "execute_result"
    }
   ],
   "source": [
    "top_10_highest = imdb_df.groupby(['Title_Name'])[\n",
    "    ['Avg_Rating','Total_Votes']].max().sort_values(by=['Avg_Rating','Total_Votes'\n",
    "                                                       ], ascending = False).reset_index().head(10)\n",
    "\n",
    "top_10_highest"
   ]
  },
  {
   "cell_type": "markdown",
   "metadata": {},
   "source": [
    "**Many Many other titles received the Perfect Rating of 10 across all Category but My personal favorite movie of all time, 'Fight Club' tops the table with Perfect Rating and highest Individual votes received while 'Gladiator' and 'Die Hard' takes the 2nd and 3rd spot respectivly on IMDB table.**"
   ]
  },
  {
   "cell_type": "markdown",
   "metadata": {},
   "source": [
    "**Average votes and rating given to all categories**"
   ]
  },
  {
   "cell_type": "code",
   "execution_count": 15,
   "metadata": {
    "execution": {
     "iopub.execute_input": "2022-10-27T17:12:29.756087Z",
     "iopub.status.busy": "2022-10-27T17:12:29.755716Z",
     "iopub.status.idle": "2022-10-27T17:12:29.908646Z",
     "shell.execute_reply": "2022-10-27T17:12:29.907794Z",
     "shell.execute_reply.started": "2022-10-27T17:12:29.756059Z"
    }
   },
   "outputs": [
    {
     "data": {
      "text/html": [
       "<div>\n",
       "<style scoped>\n",
       "    .dataframe tbody tr th:only-of-type {\n",
       "        vertical-align: middle;\n",
       "    }\n",
       "\n",
       "    .dataframe tbody tr th {\n",
       "        vertical-align: top;\n",
       "    }\n",
       "\n",
       "    .dataframe thead th {\n",
       "        text-align: right;\n",
       "    }\n",
       "</style>\n",
       "<table border=\"1\" class=\"dataframe\">\n",
       "  <thead>\n",
       "    <tr style=\"text-align: right;\">\n",
       "      <th></th>\n",
       "      <th>Title_Category</th>\n",
       "      <th>Avg_Rating</th>\n",
       "      <th>Total_Votes</th>\n",
       "    </tr>\n",
       "  </thead>\n",
       "  <tbody>\n",
       "    <tr>\n",
       "      <th>0</th>\n",
       "      <td>tvEpisode</td>\n",
       "      <td>7.4</td>\n",
       "      <td>185.3</td>\n",
       "    </tr>\n",
       "    <tr>\n",
       "      <th>1</th>\n",
       "      <td>tvMiniSeries</td>\n",
       "      <td>7.1</td>\n",
       "      <td>1147.3</td>\n",
       "    </tr>\n",
       "    <tr>\n",
       "      <th>2</th>\n",
       "      <td>videoGame</td>\n",
       "      <td>6.9</td>\n",
       "      <td>357.4</td>\n",
       "    </tr>\n",
       "    <tr>\n",
       "      <th>3</th>\n",
       "      <td>tvShort</td>\n",
       "      <td>6.9</td>\n",
       "      <td>200.6</td>\n",
       "    </tr>\n",
       "    <tr>\n",
       "      <th>4</th>\n",
       "      <td>tvSeries</td>\n",
       "      <td>6.9</td>\n",
       "      <td>1423.6</td>\n",
       "    </tr>\n",
       "    <tr>\n",
       "      <th>5</th>\n",
       "      <td>short</td>\n",
       "      <td>6.8</td>\n",
       "      <td>72.4</td>\n",
       "    </tr>\n",
       "    <tr>\n",
       "      <th>6</th>\n",
       "      <td>tvSpecial</td>\n",
       "      <td>6.8</td>\n",
       "      <td>212.7</td>\n",
       "    </tr>\n",
       "    <tr>\n",
       "      <th>7</th>\n",
       "      <td>tvMovie</td>\n",
       "      <td>6.6</td>\n",
       "      <td>233.2</td>\n",
       "    </tr>\n",
       "    <tr>\n",
       "      <th>8</th>\n",
       "      <td>video</td>\n",
       "      <td>6.6</td>\n",
       "      <td>192.6</td>\n",
       "    </tr>\n",
       "    <tr>\n",
       "      <th>9</th>\n",
       "      <td>movie</td>\n",
       "      <td>6.2</td>\n",
       "      <td>3532.7</td>\n",
       "    </tr>\n",
       "  </tbody>\n",
       "</table>\n",
       "</div>"
      ],
      "text/plain": [
       "  Title_Category  Avg_Rating  Total_Votes\n",
       "0      tvEpisode         7.4        185.3\n",
       "1   tvMiniSeries         7.1       1147.3\n",
       "2      videoGame         6.9        357.4\n",
       "3        tvShort         6.9        200.6\n",
       "4       tvSeries         6.9       1423.6\n",
       "5          short         6.8         72.4\n",
       "6      tvSpecial         6.8        212.7\n",
       "7        tvMovie         6.6        233.2\n",
       "8          video         6.6        192.6\n",
       "9          movie         6.2       3532.7"
      ]
     },
     "execution_count": 15,
     "metadata": {},
     "output_type": "execute_result"
    }
   ],
   "source": [
    "highest_rated_type = imdb_df.groupby(['Title_Category'])[['Avg_Rating','Total_Votes']].mean(\n",
    ").sort_values(by=['Avg_Rating','Total_Votes'], ascending = False).reset_index().round(decimals = 1)\n",
    "\n",
    "highest_rated_type"
   ]
  },
  {
   "cell_type": "markdown",
   "metadata": {},
   "source": [
    "**Seems like 'tvEpisode' Category has received the best avg. Rating of 7.4/title when compaired to all other title types but received very less avg. votes per title. On the other hand, 'Movie' Category tops the chart as they received highest 3532.7 votes/titles on IMDB.**"
   ]
  },
  {
   "cell_type": "markdown",
   "metadata": {},
   "source": [
    "**Category_wise longest running titles as per IMDB_database**"
   ]
  },
  {
   "cell_type": "code",
   "execution_count": 16,
   "metadata": {
    "execution": {
     "iopub.execute_input": "2022-10-27T17:12:35.546546Z",
     "iopub.status.busy": "2022-10-27T17:12:35.545719Z",
     "iopub.status.idle": "2022-10-27T17:12:35.716961Z",
     "shell.execute_reply": "2022-10-27T17:12:35.716181Z",
     "shell.execute_reply.started": "2022-10-27T17:12:35.546507Z"
    }
   },
   "outputs": [
    {
     "data": {
      "text/html": [
       "<div>\n",
       "<style scoped>\n",
       "    .dataframe tbody tr th:only-of-type {\n",
       "        vertical-align: middle;\n",
       "    }\n",
       "\n",
       "    .dataframe tbody tr th {\n",
       "        vertical-align: top;\n",
       "    }\n",
       "\n",
       "    .dataframe thead th {\n",
       "        text-align: right;\n",
       "    }\n",
       "</style>\n",
       "<table border=\"1\" class=\"dataframe\">\n",
       "  <thead>\n",
       "    <tr style=\"text-align: right;\">\n",
       "      <th></th>\n",
       "      <th>Title_Category</th>\n",
       "      <th>Title_Name</th>\n",
       "      <th>Title_Runtime_Length</th>\n",
       "    </tr>\n",
       "  </thead>\n",
       "  <tbody>\n",
       "    <tr>\n",
       "      <th>0</th>\n",
       "      <td>movie</td>\n",
       "      <td>Logistics</td>\n",
       "      <td>35 days 17:00:00</td>\n",
       "    </tr>\n",
       "    <tr>\n",
       "      <th>1</th>\n",
       "      <td>video</td>\n",
       "      <td>The Longest Video on YouTube: 596.5 Hours</td>\n",
       "      <td>24 days 20:31:00</td>\n",
       "    </tr>\n",
       "    <tr>\n",
       "      <th>2</th>\n",
       "      <td>tvSpecial</td>\n",
       "      <td>Svalbard Minute by Minute</td>\n",
       "      <td>9 days 05:59:00</td>\n",
       "    </tr>\n",
       "    <tr>\n",
       "      <th>3</th>\n",
       "      <td>videoGame</td>\n",
       "      <td>Big Chungus</td>\n",
       "      <td>5 days 09:37:00</td>\n",
       "    </tr>\n",
       "    <tr>\n",
       "      <th>4</th>\n",
       "      <td>tvSeries</td>\n",
       "      <td>Great Chefs of the World</td>\n",
       "      <td>3 days 08:00:00</td>\n",
       "    </tr>\n",
       "    <tr>\n",
       "      <th>5</th>\n",
       "      <td>tvEpisode</td>\n",
       "      <td>The George Lucas Talk Show May the 4th Marathon</td>\n",
       "      <td>1 days 06:45:00</td>\n",
       "    </tr>\n",
       "    <tr>\n",
       "      <th>6</th>\n",
       "      <td>tvMiniSeries</td>\n",
       "      <td>War and Remembrance</td>\n",
       "      <td>1 days 03:00:00</td>\n",
       "    </tr>\n",
       "    <tr>\n",
       "      <th>7</th>\n",
       "      <td>tvMovie</td>\n",
       "      <td>24 Hours Berlin</td>\n",
       "      <td>1 days 00:00:00</td>\n",
       "    </tr>\n",
       "    <tr>\n",
       "      <th>8</th>\n",
       "      <td>short</td>\n",
       "      <td>Transsexuals from Space</td>\n",
       "      <td>0 days 01:53:00</td>\n",
       "    </tr>\n",
       "    <tr>\n",
       "      <th>9</th>\n",
       "      <td>tvShort</td>\n",
       "      <td>Prideland</td>\n",
       "      <td>0 days 00:55:00</td>\n",
       "    </tr>\n",
       "  </tbody>\n",
       "</table>\n",
       "</div>"
      ],
      "text/plain": [
       "  Title_Category                                       Title_Name  \\\n",
       "0          movie                                        Logistics   \n",
       "1          video        The Longest Video on YouTube: 596.5 Hours   \n",
       "2      tvSpecial                        Svalbard Minute by Minute   \n",
       "3      videoGame                                      Big Chungus   \n",
       "4       tvSeries                         Great Chefs of the World   \n",
       "5      tvEpisode  The George Lucas Talk Show May the 4th Marathon   \n",
       "6   tvMiniSeries                              War and Remembrance   \n",
       "7        tvMovie                                  24 Hours Berlin   \n",
       "8          short                          Transsexuals from Space   \n",
       "9        tvShort                                        Prideland   \n",
       "\n",
       "  Title_Runtime_Length  \n",
       "0     35 days 17:00:00  \n",
       "1     24 days 20:31:00  \n",
       "2      9 days 05:59:00  \n",
       "3      5 days 09:37:00  \n",
       "4      3 days 08:00:00  \n",
       "5      1 days 06:45:00  \n",
       "6      1 days 03:00:00  \n",
       "7      1 days 00:00:00  \n",
       "8      0 days 01:53:00  \n",
       "9      0 days 00:55:00  "
      ]
     },
     "execution_count": 16,
     "metadata": {},
     "output_type": "execute_result"
    }
   ],
   "source": [
    "longest_runtime = imdb_df.loc[imdb_df.groupby(['Title_Category'], \n",
    "                                              sort=False)['Title_Runtime_Length'].idxmax()\n",
    "                             ][['Title_Category', 'Title_Name', 'Title_Runtime_Length']]\n",
    "\n",
    "longest_runtime.sort_values(by='Title_Runtime_Length', ascending = False).reset_index(drop=True)"
   ]
  },
  {
   "cell_type": "markdown",
   "metadata": {},
   "source": [
    "**In our analysis, Movie named 'Logistics' has the longest run-time across all categories, at 35 Days and 17 Hours. While, 'The Longest Video on YouTube: 596.5 Hours' is in the second place.**"
   ]
  },
  {
   "cell_type": "markdown",
   "metadata": {},
   "source": [
    "**Now, Lets check Category_wise shortest running titles as per IMDB_database**"
   ]
  },
  {
   "cell_type": "code",
   "execution_count": 17,
   "metadata": {
    "execution": {
     "iopub.execute_input": "2022-10-27T17:12:41.465127Z",
     "iopub.status.busy": "2022-10-27T17:12:41.464313Z",
     "iopub.status.idle": "2022-10-27T17:12:41.648658Z",
     "shell.execute_reply": "2022-10-27T17:12:41.647542Z",
     "shell.execute_reply.started": "2022-10-27T17:12:41.46508Z"
    }
   },
   "outputs": [
    {
     "data": {
      "text/html": [
       "<div>\n",
       "<style scoped>\n",
       "    .dataframe tbody tr th:only-of-type {\n",
       "        vertical-align: middle;\n",
       "    }\n",
       "\n",
       "    .dataframe tbody tr th {\n",
       "        vertical-align: top;\n",
       "    }\n",
       "\n",
       "    .dataframe thead th {\n",
       "        text-align: right;\n",
       "    }\n",
       "</style>\n",
       "<table border=\"1\" class=\"dataframe\">\n",
       "  <thead>\n",
       "    <tr style=\"text-align: right;\">\n",
       "      <th></th>\n",
       "      <th>Title_Category</th>\n",
       "      <th>Title_Name</th>\n",
       "      <th>Title_Runtime_Length</th>\n",
       "    </tr>\n",
       "  </thead>\n",
       "  <tbody>\n",
       "    <tr>\n",
       "      <th>0</th>\n",
       "      <td>short</td>\n",
       "      <td>Awakening of Rip</td>\n",
       "      <td>0 days 00:00:00</td>\n",
       "    </tr>\n",
       "    <tr>\n",
       "      <th>1</th>\n",
       "      <td>movie</td>\n",
       "      <td>Fair at Ljutomer</td>\n",
       "      <td>0 days 00:01:00</td>\n",
       "    </tr>\n",
       "    <tr>\n",
       "      <th>2</th>\n",
       "      <td>tvEpisode</td>\n",
       "      <td>The Partridge Family</td>\n",
       "      <td>0 days 00:01:00</td>\n",
       "    </tr>\n",
       "    <tr>\n",
       "      <th>3</th>\n",
       "      <td>tvSeries</td>\n",
       "      <td>Beastly Behaviour</td>\n",
       "      <td>0 days 00:01:00</td>\n",
       "    </tr>\n",
       "    <tr>\n",
       "      <th>4</th>\n",
       "      <td>tvShort</td>\n",
       "      <td>The FA Cup Promotion</td>\n",
       "      <td>0 days 00:01:00</td>\n",
       "    </tr>\n",
       "    <tr>\n",
       "      <th>5</th>\n",
       "      <td>tvMovie</td>\n",
       "      <td>Das Bernstein-Amulett</td>\n",
       "      <td>0 days 00:02:00</td>\n",
       "    </tr>\n",
       "    <tr>\n",
       "      <th>6</th>\n",
       "      <td>tvMiniSeries</td>\n",
       "      <td>Loona TV</td>\n",
       "      <td>0 days 00:01:00</td>\n",
       "    </tr>\n",
       "    <tr>\n",
       "      <th>7</th>\n",
       "      <td>tvSpecial</td>\n",
       "      <td>Daisy</td>\n",
       "      <td>0 days 00:01:00</td>\n",
       "    </tr>\n",
       "    <tr>\n",
       "      <th>8</th>\n",
       "      <td>video</td>\n",
       "      <td>Sneeuwwitje</td>\n",
       "      <td>0 days 00:01:00</td>\n",
       "    </tr>\n",
       "    <tr>\n",
       "      <th>9</th>\n",
       "      <td>videoGame</td>\n",
       "      <td>Scud: The Disposable Assassin</td>\n",
       "      <td>0 days 00:02:00</td>\n",
       "    </tr>\n",
       "  </tbody>\n",
       "</table>\n",
       "</div>"
      ],
      "text/plain": [
       "  Title_Category                     Title_Name Title_Runtime_Length\n",
       "0          short               Awakening of Rip      0 days 00:00:00\n",
       "1          movie               Fair at Ljutomer      0 days 00:01:00\n",
       "2      tvEpisode           The Partridge Family      0 days 00:01:00\n",
       "3       tvSeries              Beastly Behaviour      0 days 00:01:00\n",
       "4        tvShort           The FA Cup Promotion      0 days 00:01:00\n",
       "5        tvMovie          Das Bernstein-Amulett      0 days 00:02:00\n",
       "6   tvMiniSeries                       Loona TV      0 days 00:01:00\n",
       "7      tvSpecial                          Daisy      0 days 00:01:00\n",
       "8          video                    Sneeuwwitje      0 days 00:01:00\n",
       "9      videoGame  Scud: The Disposable Assassin      0 days 00:02:00"
      ]
     },
     "execution_count": 17,
     "metadata": {},
     "output_type": "execute_result"
    }
   ],
   "source": [
    "shortest_runtime = imdb_df.loc[imdb_df.groupby(['Title_Category'], \n",
    "                                              sort=False)['Title_Runtime_Length'].idxmin()\n",
    "                             ][['Title_Category', 'Title_Name', 'Title_Runtime_Length']]\n",
    "\n",
    "shortest_runtime.reset_index(drop=True)"
   ]
  },
  {
   "cell_type": "markdown",
   "metadata": {},
   "source": [
    "**Short category film 'Awakening of Rip' holds the top place for being the shortest length title in IMDB_database.**"
   ]
  },
  {
   "cell_type": "markdown",
   "metadata": {},
   "source": [
    "**Now, Lets shed some light on Average Ratings of Non_Adult Rated Titles vs Adult Rated Titles**"
   ]
  },
  {
   "cell_type": "code",
   "execution_count": 18,
   "metadata": {
    "execution": {
     "iopub.execute_input": "2022-10-27T17:12:49.585161Z",
     "iopub.status.busy": "2022-10-27T17:12:49.584173Z",
     "iopub.status.idle": "2022-10-27T17:12:50.097749Z",
     "shell.execute_reply": "2022-10-27T17:12:50.0966Z",
     "shell.execute_reply.started": "2022-10-27T17:12:49.585123Z"
    }
   },
   "outputs": [],
   "source": [
    "wanna_adult_or_not = imdb_df.groupby(['Title_Category','IN-18+']\n",
    "                                    )['Avg_Rating'].agg('mean').round(1).unstack(fill_value= 0) \n",
    "wanna_adult_or_not.reset_index(inplace = True)\n",
    "##### Visualise the chart in stack manner of bar type\n",
    "\n",
    "# STEFANOS: Disable plotting\n",
    "# plt.rcParams['figure.figsize'] = [15, 8]\n",
    "# wanna_adult_or_not.plot(x='Title_Category', kind='bar', stacked=True, \n",
    "#                         title='Average Ratings of Non_Adult Rated Titles vs Adult Rated Titles')\n",
    "# plt.xlabel('Title Categories')\n",
    "# plt.ylabel('Average Ratings')\n",
    "# plt.show()"
   ]
  },
  {
   "cell_type": "markdown",
   "metadata": {},
   "source": [
    "**'TvEpisode' category has received the highest Avg. Ratings in both Adult and Non-Adult rated title categories, However they there also the only title category among all whose some of the films/shows went Un-Rated.**"
   ]
  },
  {
   "cell_type": "markdown",
   "metadata": {},
   "source": [
    "**Here ends this project, where we dig deep into the dataframe. First, We cleaned it and then sorted the data structure making a display of meaningful data. If you want to give any suggestion and point out mistakes please feel free to contact. Thanks!**"
   ]
  },
  {
   "cell_type": "code",
   "execution_count": null,
   "metadata": {},
   "outputs": [],
   "source": []
  }
 ],
 "metadata": {
  "kernelspec": {
   "display_name": "Python 3 (ipykernel)",
   "language": "python",
   "name": "python3"
  },
  "language_info": {
   "codemirror_mode": {
    "name": "ipython",
    "version": 3
   },
   "file_extension": ".py",
   "mimetype": "text/x-python",
   "name": "python",
   "nbconvert_exporter": "python",
   "pygments_lexer": "ipython3",
   "version": "3.10.6"
  }
 },
 "nbformat": 4,
 "nbformat_minor": 4
}
