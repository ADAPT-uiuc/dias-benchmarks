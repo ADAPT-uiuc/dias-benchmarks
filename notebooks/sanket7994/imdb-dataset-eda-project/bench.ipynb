{
 "cells": [
  {
   "cell_type": "code",
   "execution_count": 1,
   "id": "9b3b1568",
   "metadata": {},
   "outputs": [],
   "source": [
    "import os\n",
    "SNAPPY_notebook_path = os.path.join(os.path.abspath(\"\"), \"bench.ipynb\")"
   ]
  },
  {
   "cell_type": "code",
   "execution_count": 2,
   "id": "e62da556",
   "metadata": {},
   "outputs": [],
   "source": [
    "import time\n",
    "SNAPPY_start_time = time.perf_counter_ns()"
   ]
  },
  {
   "cell_type": "code",
   "execution_count": 3,
   "id": "aadb4253",
   "metadata": {},
   "outputs": [
    {
     "name": "stdout",
     "output_type": "stream",
     "text": [
      "time: 40.3 µs (started: 2024-05-07 17:19:42 -04:00)\n"
     ]
    }
   ],
   "source": [
    "%load_ext autotime"
   ]
  },
  {
   "cell_type": "code",
   "execution_count": 4,
   "metadata": {
    "_cell_guid": "b1076dfc-b9ad-4769-8c92-a6c4dae69d19",
    "_uuid": "8f2839f25d086af736a60e9eeb907d3b93b6e0e5",
    "execution": {
     "iopub.execute_input": "2022-10-27T17:09:54.688643Z",
     "iopub.status.busy": "2022-10-27T17:09:54.688195Z",
     "iopub.status.idle": "2022-10-27T17:09:54.702072Z",
     "shell.execute_reply": "2022-10-27T17:09:54.700995Z",
     "shell.execute_reply.started": "2022-10-27T17:09:54.688607Z"
    }
   },
   "outputs": [
    {
     "name": "stdout",
     "output_type": "stream",
     "text": [
      "time: 227 ms (started: 2024-05-07 17:19:42 -04:00)\n"
     ]
    }
   ],
   "source": [
    "# This Python 3 environment comes with many helpful analytics libraries installed\n",
    "# It is defined by the kaggle/python Docker image: https://github.com/kaggle/docker-python\n",
    "# For example, here's several helpful packages to load\n",
    "\n",
    "import numpy as np # linear algebra\n",
    "import os\n",
    "# STEFANOS: Conditionally import Modin Pandas\n",
    "import pandas as pd\n",
    "\n",
    "# Input data files are available in the read-only \"input/\" directory\n",
    "# For example, running this (by clicking run or pressing Shift+Enter) will list all files under the input directory\n",
    "\n",
    "import os\n",
    "for dirname, _, filenames in os.walk(os.path.dirname('') + '/input'):\n",
    "    for filename in filenames:\n",
    "        print(os.path.join(dirname, filename))\n",
    "\n",
    "# You can write up to 20GB to the current directory (/kaggle/working/) that gets preserved as output when you create a version using \"Save & Run All\" \n",
    "# You can also write temporary files to /kaggle/temp/, but they won't be saved outside of the current session"
   ]
  },
  {
   "cell_type": "code",
   "execution_count": 5,
   "metadata": {},
   "outputs": [
    {
     "name": "stdout",
     "output_type": "stream",
     "text": [
      "time: 474 µs (started: 2024-05-07 17:19:42 -04:00)\n"
     ]
    }
   ],
   "source": [
    "def hash_anything(obj):\n",
    "    import pandas.util\n",
    "    if isinstance(obj, pd.DataFrame):\n",
    "        return pandas.util.hash_pandas_object(obj, index=False).to_numpy().data\n",
    "    elif isinstance(obj, np.ndarray):\n",
    "        return obj.data\n",
    "    elif isinstance(obj, list):\n",
    "        return str(obj).encode()\n",
    "    else:\n",
    "        return str(obj).encode()\n",
    "\n",
    "\n",
    "def hash_dataframe(df):\n",
    "    import xxhash\n",
    "    h = xxhash.xxh64()\n",
    "    for column in df.round(6).columns:\n",
    "        h.update(hash_anything(df[column]))\n",
    "    return h.digest()\n"
   ]
  },
  {
   "cell_type": "code",
   "execution_count": 6,
   "metadata": {
    "execution": {
     "iopub.execute_input": "2022-10-27T17:09:57.921233Z",
     "iopub.status.busy": "2022-10-27T17:09:57.920554Z",
     "iopub.status.idle": "2022-10-27T17:10:30.112537Z",
     "shell.execute_reply": "2022-10-27T17:10:30.111367Z",
     "shell.execute_reply.started": "2022-10-27T17:09:57.921187Z"
    }
   },
   "outputs": [
    {
     "name": "stdout",
     "output_type": "stream",
     "text": [
      "time: 382 ms (started: 2024-05-07 17:19:42 -04:00)\n"
     ]
    }
   ],
   "source": [
    "df = pd.read_table('input/imdb-official-movies-dataset/title-ratings.tsv', low_memory=False)\n",
    "df2 = pd.read_table('input/imdb-official-movies-dataset/title-metadata.tsv',low_memory=False)\n",
    "if \"IREWR_LESS_REPLICATION\" in os.environ and os.environ[\"IREWR_LESS_REPLICATION\"] == \"True\":\n",
    "    df2 = df2[:1_500_000]"
   ]
  },
  {
   "cell_type": "code",
   "execution_count": 7,
   "metadata": {},
   "outputs": [
    {
     "name": "stdout",
     "output_type": "stream",
     "text": [
      "b'\\x81\\x8e\\xdeuP\\xbf6\\xef'\n",
      "time: 6.67 ms (started: 2024-05-07 17:19:43 -04:00)\n"
     ]
    }
   ],
   "source": [
    "print(hash_dataframe(df2))"
   ]
  },
  {
   "cell_type": "code",
   "execution_count": 8,
   "metadata": {
    "execution": {
     "iopub.execute_input": "2022-10-27T17:10:36.806632Z",
     "iopub.status.busy": "2022-10-27T17:10:36.806166Z",
     "iopub.status.idle": "2022-10-27T17:10:50.911728Z",
     "shell.execute_reply": "2022-10-27T17:10:50.910643Z",
     "shell.execute_reply.started": "2022-10-27T17:10:36.806593Z"
    }
   },
   "outputs": [
    {
     "data": {
      "text/html": [
       "<div>\n",
       "<style scoped>\n",
       "    .dataframe tbody tr th:only-of-type {\n",
       "        vertical-align: middle;\n",
       "    }\n",
       "\n",
       "    .dataframe tbody tr th {\n",
       "        vertical-align: top;\n",
       "    }\n",
       "\n",
       "    .dataframe thead th {\n",
       "        text-align: right;\n",
       "    }\n",
       "</style>\n",
       "<table border=\"1\" class=\"dataframe\">\n",
       "  <thead>\n",
       "    <tr style=\"text-align: right;\">\n",
       "      <th></th>\n",
       "      <th>tconst</th>\n",
       "      <th>averageRating</th>\n",
       "      <th>numVotes</th>\n",
       "      <th>titleType</th>\n",
       "      <th>primaryTitle</th>\n",
       "      <th>originalTitle</th>\n",
       "      <th>isAdult</th>\n",
       "      <th>startYear</th>\n",
       "      <th>endYear</th>\n",
       "      <th>runtimeMinutes</th>\n",
       "      <th>genres</th>\n",
       "    </tr>\n",
       "  </thead>\n",
       "  <tbody>\n",
       "    <tr>\n",
       "      <th>0</th>\n",
       "      <td>tt1006009</td>\n",
       "      <td>8.1</td>\n",
       "      <td>7</td>\n",
       "      <td>tvSeries</td>\n",
       "      <td>Title 10219</td>\n",
       "      <td>Original Title 92274</td>\n",
       "      <td>1</td>\n",
       "      <td>1939</td>\n",
       "      <td>\\N</td>\n",
       "      <td>51</td>\n",
       "      <td>Action</td>\n",
       "    </tr>\n",
       "    <tr>\n",
       "      <th>1</th>\n",
       "      <td>tt1013711</td>\n",
       "      <td>7.3</td>\n",
       "      <td>44</td>\n",
       "      <td>tvEpisode</td>\n",
       "      <td>Title 95852</td>\n",
       "      <td>Original Title 48663</td>\n",
       "      <td>0</td>\n",
       "      <td>2011</td>\n",
       "      <td>\\N</td>\n",
       "      <td>182</td>\n",
       "      <td>Comedy</td>\n",
       "    </tr>\n",
       "    <tr>\n",
       "      <th>2</th>\n",
       "      <td>tt1014752</td>\n",
       "      <td>7.9</td>\n",
       "      <td>69</td>\n",
       "      <td>movie</td>\n",
       "      <td>Title 22376</td>\n",
       "      <td>Original Title 31800</td>\n",
       "      <td>0</td>\n",
       "      <td>2000</td>\n",
       "      <td>\\N</td>\n",
       "      <td>171</td>\n",
       "      <td>Comedy</td>\n",
       "    </tr>\n",
       "    <tr>\n",
       "      <th>3</th>\n",
       "      <td>tt1015625</td>\n",
       "      <td>7.2</td>\n",
       "      <td>129</td>\n",
       "      <td>tvEpisode</td>\n",
       "      <td>Title 94679</td>\n",
       "      <td>Original Title 93046</td>\n",
       "      <td>1</td>\n",
       "      <td>1905</td>\n",
       "      <td>\\N</td>\n",
       "      <td>172</td>\n",
       "      <td>Comedy</td>\n",
       "    </tr>\n",
       "    <tr>\n",
       "      <th>4</th>\n",
       "      <td>tt1029262</td>\n",
       "      <td>6.5</td>\n",
       "      <td>19</td>\n",
       "      <td>tvEpisode</td>\n",
       "      <td>Title 61657</td>\n",
       "      <td>Original Title 80940</td>\n",
       "      <td>1</td>\n",
       "      <td>1914</td>\n",
       "      <td>\\N</td>\n",
       "      <td>99</td>\n",
       "      <td>Comedy</td>\n",
       "    </tr>\n",
       "  </tbody>\n",
       "</table>\n",
       "</div>"
      ],
      "text/plain": [
       "      tconst  averageRating  numVotes  titleType primaryTitle  \\\n",
       "0  tt1006009            8.1         7   tvSeries  Title 10219   \n",
       "1  tt1013711            7.3        44  tvEpisode  Title 95852   \n",
       "2  tt1014752            7.9        69      movie  Title 22376   \n",
       "3  tt1015625            7.2       129  tvEpisode  Title 94679   \n",
       "4  tt1029262            6.5        19  tvEpisode  Title 61657   \n",
       "\n",
       "          originalTitle  isAdult  startYear endYear  runtimeMinutes  genres  \n",
       "0  Original Title 92274        1       1939      \\N              51  Action  \n",
       "1  Original Title 48663        0       2011      \\N             182  Comedy  \n",
       "2  Original Title 31800        0       2000      \\N             171  Comedy  \n",
       "3  Original Title 93046        1       1905      \\N             172  Comedy  \n",
       "4  Original Title 80940        1       1914      \\N              99  Comedy  "
      ]
     },
     "execution_count": 8,
     "metadata": {},
     "output_type": "execute_result"
    },
    {
     "name": "stdout",
     "output_type": "stream",
     "text": [
      "time: 233 ms (started: 2024-05-07 17:19:43 -04:00)\n"
     ]
    }
   ],
   "source": [
    "# Merging Rating and MetaData datsets into single dataframe w.r.t common column\n",
    "main_df = pd.merge(df,df2,on='tconst')\n",
    "main_df.head()"
   ]
  },
  {
   "cell_type": "markdown",
   "metadata": {},
   "source": [
    "**DATA Cleaning:**"
   ]
  },
  {
   "cell_type": "code",
   "execution_count": 9,
   "metadata": {
    "execution": {
     "iopub.execute_input": "2022-10-27T17:10:56.768538Z",
     "iopub.status.busy": "2022-10-27T17:10:56.768128Z",
     "iopub.status.idle": "2022-10-27T17:10:57.495921Z",
     "shell.execute_reply": "2022-10-27T17:10:57.4949Z",
     "shell.execute_reply.started": "2022-10-27T17:10:56.768507Z"
    }
   },
   "outputs": [
    {
     "name": "stdout",
     "output_type": "stream",
     "text": [
      "time: 656 µs (started: 2024-05-07 17:19:43 -04:00)\n"
     ]
    }
   ],
   "source": [
    "# creating a copy \n",
    "imdb_df = main_df.copy()"
   ]
  },
  {
   "cell_type": "markdown",
   "metadata": {},
   "source": [
    "**Currently, 'runtimeMinutes' column is in Minutes form thus we will convert it into Days:HH:MM:SS Format for better display of runtime information**"
   ]
  },
  {
   "cell_type": "code",
   "execution_count": 10,
   "metadata": {
    "execution": {
     "iopub.execute_input": "2022-10-27T17:11:00.362579Z",
     "iopub.status.busy": "2022-10-27T17:11:00.362091Z",
     "iopub.status.idle": "2022-10-27T17:11:00.424321Z",
     "shell.execute_reply": "2022-10-27T17:11:00.423187Z",
     "shell.execute_reply.started": "2022-10-27T17:11:00.362547Z"
    }
   },
   "outputs": [
    {
     "data": {
      "text/plain": [
       "runtimeMinutes\n",
       "280    7\n",
       "74     6\n",
       "17     6\n",
       "283    6\n",
       "4      6\n",
       "      ..\n",
       "262    1\n",
       "12     1\n",
       "10     1\n",
       "258    1\n",
       "268    1\n",
       "Name: count, Length: 258, dtype: int64"
      ]
     },
     "execution_count": 10,
     "metadata": {},
     "output_type": "execute_result"
    },
    {
     "name": "stdout",
     "output_type": "stream",
     "text": [
      "time: 1.77 ms (started: 2024-05-07 17:19:43 -04:00)\n"
     ]
    }
   ],
   "source": [
    "imdb_df['runtimeMinutes'].value_counts()"
   ]
  },
  {
   "cell_type": "code",
   "execution_count": 11,
   "metadata": {
    "execution": {
     "iopub.execute_input": "2022-10-27T17:11:04.385631Z",
     "iopub.status.busy": "2022-10-27T17:11:04.385228Z",
     "iopub.status.idle": "2022-10-27T17:11:05.126248Z",
     "shell.execute_reply": "2022-10-27T17:11:05.125046Z",
     "shell.execute_reply.started": "2022-10-27T17:11:04.385599Z"
    }
   },
   "outputs": [
    {
     "name": "stdout",
     "output_type": "stream",
     "text": [
      "time: 3.48 ms (started: 2024-05-07 17:19:43 -04:00)\n"
     ]
    }
   ],
   "source": [
    "# Replace object type string '\\N' with NaN First\n",
    "imdb_df['runtime_delta'] = pd.to_numeric(imdb_df['runtimeMinutes'], errors='coerce', downcast=\"integer\")"
   ]
  },
  {
   "cell_type": "code",
   "execution_count": 12,
   "metadata": {
    "execution": {
     "iopub.execute_input": "2022-10-27T17:11:07.445913Z",
     "iopub.status.busy": "2022-10-27T17:11:07.445167Z",
     "iopub.status.idle": "2022-10-27T17:11:07.482252Z",
     "shell.execute_reply": "2022-10-27T17:11:07.481046Z",
     "shell.execute_reply.started": "2022-10-27T17:11:07.445876Z"
    }
   },
   "outputs": [
    {
     "name": "stdout",
     "output_type": "stream",
     "text": [
      "time: 431 µs (started: 2024-05-07 17:19:43 -04:00)\n"
     ]
    }
   ],
   "source": [
    "# Using 'pd.to_timedelta' to convert minutes into desired format\n",
    "imdb_df['runtime_delta'] = pd.to_timedelta(imdb_df['runtime_delta'], unit='m')"
   ]
  },
  {
   "cell_type": "markdown",
   "metadata": {},
   "source": [
    "**Similarly, The 'isAdult' column should contain only two values, '0: non-adult title, 1: adult title' but here As we can see dataFrame column consist of mixed data values like string, bool and int. Thus, Lets sort and restructure this column into a Bool data type.**"
   ]
  },
  {
   "cell_type": "code",
   "execution_count": 13,
   "metadata": {
    "execution": {
     "iopub.execute_input": "2022-10-27T17:11:10.194322Z",
     "iopub.status.busy": "2022-10-27T17:11:10.193918Z",
     "iopub.status.idle": "2022-10-27T17:11:10.279323Z",
     "shell.execute_reply": "2022-10-27T17:11:10.278265Z",
     "shell.execute_reply.started": "2022-10-27T17:11:10.194289Z"
    }
   },
   "outputs": [
    {
     "data": {
      "text/plain": [
       "array([1, 0])"
      ]
     },
     "execution_count": 13,
     "metadata": {},
     "output_type": "execute_result"
    },
    {
     "name": "stdout",
     "output_type": "stream",
     "text": [
      "time: 1.1 ms (started: 2024-05-07 17:19:43 -04:00)\n"
     ]
    }
   ],
   "source": [
    "imdb_df['isAdult'].unique()"
   ]
  },
  {
   "cell_type": "code",
   "execution_count": 14,
   "metadata": {
    "execution": {
     "iopub.execute_input": "2022-10-27T17:11:13.327787Z",
     "iopub.status.busy": "2022-10-27T17:11:13.327354Z",
     "iopub.status.idle": "2022-10-27T17:11:13.41531Z",
     "shell.execute_reply": "2022-10-27T17:11:13.414326Z",
     "shell.execute_reply.started": "2022-10-27T17:11:13.327752Z"
    }
   },
   "outputs": [
    {
     "name": "stdout",
     "output_type": "stream",
     "text": [
      "time: 756 µs (started: 2024-05-07 17:19:43 -04:00)\n"
     ]
    }
   ],
   "source": [
    "# Replace string and int by boolean\n",
    "# we will leave out '2014' and '2020' as it is as there`s no way to confirm If they Adult or not not\n",
    "imdb_df['isAdult'] = imdb_df['isAdult'].map({'0': 'Non_Adult_Title', '1': 'Adult_Title'})"
   ]
  },
  {
   "cell_type": "code",
   "execution_count": 15,
   "metadata": {
    "execution": {
     "iopub.execute_input": "2022-10-27T17:11:16.393343Z",
     "iopub.status.busy": "2022-10-27T17:11:16.392484Z",
     "iopub.status.idle": "2022-10-27T17:11:16.569905Z",
     "shell.execute_reply": "2022-10-27T17:11:16.568803Z",
     "shell.execute_reply.started": "2022-10-27T17:11:16.393306Z"
    }
   },
   "outputs": [
    {
     "data": {
      "text/plain": [
       "array(['Unrated'], dtype=object)"
      ]
     },
     "execution_count": 15,
     "metadata": {},
     "output_type": "execute_result"
    },
    {
     "name": "stdout",
     "output_type": "stream",
     "text": [
      "time: 1.37 ms (started: 2024-05-07 17:19:43 -04:00)\n"
     ]
    }
   ],
   "source": [
    "imdb_df.isAdult = imdb_df.isAdult.fillna('Unrated')\n",
    "imdb_df['isAdult'].unique()"
   ]
  },
  {
   "cell_type": "markdown",
   "metadata": {},
   "source": [
    "**Creating a new column to provide information of show run timeline in better way by joinning 'startYear' and 'endYear' columns into one**"
   ]
  },
  {
   "cell_type": "code",
   "execution_count": 16,
   "metadata": {
    "execution": {
     "iopub.execute_input": "2022-10-27T17:11:19.218694Z",
     "iopub.status.busy": "2022-10-27T17:11:19.218286Z",
     "iopub.status.idle": "2022-10-27T17:11:19.334662Z",
     "shell.execute_reply": "2022-10-27T17:11:19.333619Z",
     "shell.execute_reply.started": "2022-10-27T17:11:19.218659Z"
    }
   },
   "outputs": [
    {
     "name": "stdout",
     "output_type": "stream",
     "text": [
      "time: 849 µs (started: 2024-05-07 17:19:43 -04:00)\n"
     ]
    },
    {
     "name": "stderr",
     "output_type": "stream",
     "text": [
      "/tmp/ipykernel_19583/2240090600.py:3: FutureWarning: Downcasting behavior in `replace` is deprecated and will be removed in a future version. To retain the old behavior, explicitly call `result.infer_objects(copy=False)`. To opt-in to the future behavior, set `pd.set_option('future.no_silent_downcasting', True)`\n",
      "  imdb_df['endYear'] = imdb_df['endYear'].replace('\\\\N', np.NaN)\n"
     ]
    }
   ],
   "source": [
    "# First, we should replace '\\N' values to nan so next step\n",
    "imdb_df['startYear'] = imdb_df['startYear'].replace('\\\\N', np.NaN)\n",
    "imdb_df['endYear'] = imdb_df['endYear'].replace('\\\\N', np.NaN)"
   ]
  },
  {
   "cell_type": "code",
   "execution_count": 17,
   "metadata": {
    "execution": {
     "iopub.execute_input": "2022-10-27T17:11:21.985582Z",
     "iopub.status.busy": "2022-10-27T17:11:21.985191Z",
     "iopub.status.idle": "2022-10-27T17:12:05.628898Z",
     "shell.execute_reply": "2022-10-27T17:12:05.627755Z",
     "shell.execute_reply.started": "2022-10-27T17:11:21.985552Z"
    }
   },
   "outputs": [
    {
     "name": "stdout",
     "output_type": "stream",
     "text": [
      "time: 1.73 ms (started: 2024-05-07 17:19:43 -04:00)\n"
     ]
    }
   ],
   "source": [
    "# Now joinning them\n",
    "# STEFANOS-DISABLE-FOR-MODIN\n",
    "### ORIGINAL ###\n",
    "# imdb_df['premiere_timeline'] = imdb_df[['startYear','endYear']].stack().groupby(level=0).agg('-'.join)\n",
    "### COMPATIBLE WITH MODIN ###\n",
    "# I tried a bunch of things, here's one:\n",
    "#   imdb_df['premiere_timeline'] = imdb_df[['startYear','endYear']].stack().groupby(level=0).apply('-'.join)\n",
    "# They don't seem to work. The problem seems to be with groupby(level=0). Generally, I'm not sure that Modin can\n",
    "# groupby MultiIndex's.\n",
    "# So, below I do the computation up to the stacking, just so that we can keep as much of it as possible (in case\n",
    "# Modin, or some other system that uses the same benchmarks, can optimize it; we don't want to deprive this\n",
    "# opportunity). Unfortunately, we cannot assign the result of stacking to premiere_timeline as they don't match.\n",
    "# I just assign a dumb value to premiere_timeline so that it exists in the DF. It's not used later.\n",
    "\n",
    "_ = imdb_df[['startYear','endYear']].stack()\n",
    "imdb_df['premiere_timeline'] = 0"
   ]
  },
  {
   "cell_type": "markdown",
   "metadata": {},
   "source": [
    "**The data cleaning has been completed. However, Lets drop unneccessory columns from this dataframe for furthur analysis:**"
   ]
  },
  {
   "cell_type": "code",
   "execution_count": 18,
   "metadata": {
    "execution": {
     "iopub.execute_input": "2022-10-27T17:12:11.666049Z",
     "iopub.status.busy": "2022-10-27T17:12:11.665309Z",
     "iopub.status.idle": "2022-10-27T17:12:12.436443Z",
     "shell.execute_reply": "2022-10-27T17:12:12.435271Z",
     "shell.execute_reply.started": "2022-10-27T17:12:11.666008Z"
    }
   },
   "outputs": [
    {
     "data": {
      "text/html": [
       "<div>\n",
       "<style scoped>\n",
       "    .dataframe tbody tr th:only-of-type {\n",
       "        vertical-align: middle;\n",
       "    }\n",
       "\n",
       "    .dataframe tbody tr th {\n",
       "        vertical-align: top;\n",
       "    }\n",
       "\n",
       "    .dataframe thead th {\n",
       "        text-align: right;\n",
       "    }\n",
       "</style>\n",
       "<table border=\"1\" class=\"dataframe\">\n",
       "  <thead>\n",
       "    <tr style=\"text-align: right;\">\n",
       "      <th></th>\n",
       "      <th>IMDB_ID</th>\n",
       "      <th>Avg_Rating</th>\n",
       "      <th>Total_Votes</th>\n",
       "      <th>Title_Category</th>\n",
       "      <th>Title_Name</th>\n",
       "      <th>IN-18+</th>\n",
       "      <th>Air_time</th>\n",
       "      <th>Title_Runtime_Length</th>\n",
       "    </tr>\n",
       "  </thead>\n",
       "  <tbody>\n",
       "    <tr>\n",
       "      <th>0</th>\n",
       "      <td>tt1006009</td>\n",
       "      <td>8.1</td>\n",
       "      <td>7</td>\n",
       "      <td>tvSeries</td>\n",
       "      <td>Title 10219</td>\n",
       "      <td>Unrated</td>\n",
       "      <td>0</td>\n",
       "      <td>0 days 00:51:00</td>\n",
       "    </tr>\n",
       "    <tr>\n",
       "      <th>1</th>\n",
       "      <td>tt1013711</td>\n",
       "      <td>7.3</td>\n",
       "      <td>44</td>\n",
       "      <td>tvEpisode</td>\n",
       "      <td>Title 95852</td>\n",
       "      <td>Unrated</td>\n",
       "      <td>0</td>\n",
       "      <td>0 days 03:02:00</td>\n",
       "    </tr>\n",
       "    <tr>\n",
       "      <th>2</th>\n",
       "      <td>tt1014752</td>\n",
       "      <td>7.9</td>\n",
       "      <td>69</td>\n",
       "      <td>movie</td>\n",
       "      <td>Title 22376</td>\n",
       "      <td>Unrated</td>\n",
       "      <td>0</td>\n",
       "      <td>0 days 02:51:00</td>\n",
       "    </tr>\n",
       "    <tr>\n",
       "      <th>3</th>\n",
       "      <td>tt1015625</td>\n",
       "      <td>7.2</td>\n",
       "      <td>129</td>\n",
       "      <td>tvEpisode</td>\n",
       "      <td>Title 94679</td>\n",
       "      <td>Unrated</td>\n",
       "      <td>0</td>\n",
       "      <td>0 days 02:52:00</td>\n",
       "    </tr>\n",
       "    <tr>\n",
       "      <th>4</th>\n",
       "      <td>tt1029262</td>\n",
       "      <td>6.5</td>\n",
       "      <td>19</td>\n",
       "      <td>tvEpisode</td>\n",
       "      <td>Title 61657</td>\n",
       "      <td>Unrated</td>\n",
       "      <td>0</td>\n",
       "      <td>0 days 01:39:00</td>\n",
       "    </tr>\n",
       "  </tbody>\n",
       "</table>\n",
       "</div>"
      ],
      "text/plain": [
       "     IMDB_ID  Avg_Rating  Total_Votes Title_Category   Title_Name   IN-18+  \\\n",
       "0  tt1006009         8.1            7       tvSeries  Title 10219  Unrated   \n",
       "1  tt1013711         7.3           44      tvEpisode  Title 95852  Unrated   \n",
       "2  tt1014752         7.9           69          movie  Title 22376  Unrated   \n",
       "3  tt1015625         7.2          129      tvEpisode  Title 94679  Unrated   \n",
       "4  tt1029262         6.5           19      tvEpisode  Title 61657  Unrated   \n",
       "\n",
       "   Air_time Title_Runtime_Length  \n",
       "0         0      0 days 00:51:00  \n",
       "1         0      0 days 03:02:00  \n",
       "2         0      0 days 02:51:00  \n",
       "3         0      0 days 02:52:00  \n",
       "4         0      0 days 01:39:00  "
      ]
     },
     "execution_count": 18,
     "metadata": {},
     "output_type": "execute_result"
    },
    {
     "name": "stdout",
     "output_type": "stream",
     "text": [
      "time: 5.12 ms (started: 2024-05-07 17:19:43 -04:00)\n"
     ]
    }
   ],
   "source": [
    "# Drop unneccessory columns from dataframe\n",
    "columns_to_keep = ['tconst','averageRating','numVotes','titleType','primaryTitle',\n",
    "                   'isAdult','premiere_timeline','runtime_delta']\n",
    "\n",
    "imdb_df = imdb_df[columns_to_keep]\n",
    "\n",
    "# Also renaming them with approriate name\n",
    "renamed_cols = {'tconst':'IMDB_ID','averageRating':'Avg_Rating','numVotes':'Total_Votes',\n",
    "                'titleType':'Title_Category','primaryTitle':'Title_Name','isAdult':'IN-18+'\n",
    "                ,'premiere_timeline':'Air_time','runtime_delta':'Title_Runtime_Length'}\n",
    "\n",
    "imdb_df.rename(columns = renamed_cols,inplace=True)\n",
    "imdb_df.head()"
   ]
  },
  {
   "cell_type": "markdown",
   "metadata": {},
   "source": [
    "**Top 10 highest voted and rated Titles across all categories**"
   ]
  },
  {
   "cell_type": "code",
   "execution_count": 19,
   "metadata": {
    "execution": {
     "iopub.execute_input": "2022-10-27T17:12:17.701339Z",
     "iopub.status.busy": "2022-10-27T17:12:17.700628Z",
     "iopub.status.idle": "2022-10-27T17:12:20.814051Z",
     "shell.execute_reply": "2022-10-27T17:12:20.812836Z",
     "shell.execute_reply.started": "2022-10-27T17:12:17.701301Z"
    }
   },
   "outputs": [
    {
     "data": {
      "text/html": [
       "<div>\n",
       "<style scoped>\n",
       "    .dataframe tbody tr th:only-of-type {\n",
       "        vertical-align: middle;\n",
       "    }\n",
       "\n",
       "    .dataframe tbody tr th {\n",
       "        vertical-align: top;\n",
       "    }\n",
       "\n",
       "    .dataframe thead th {\n",
       "        text-align: right;\n",
       "    }\n",
       "</style>\n",
       "<table border=\"1\" class=\"dataframe\">\n",
       "  <thead>\n",
       "    <tr style=\"text-align: right;\">\n",
       "      <th></th>\n",
       "      <th>Title_Name</th>\n",
       "      <th>Avg_Rating</th>\n",
       "      <th>Total_Votes</th>\n",
       "    </tr>\n",
       "  </thead>\n",
       "  <tbody>\n",
       "    <tr>\n",
       "      <th>0</th>\n",
       "      <td>Title 19158</td>\n",
       "      <td>10.0</td>\n",
       "      <td>35</td>\n",
       "    </tr>\n",
       "    <tr>\n",
       "      <th>1</th>\n",
       "      <td>Title 86824</td>\n",
       "      <td>10.0</td>\n",
       "      <td>28</td>\n",
       "    </tr>\n",
       "    <tr>\n",
       "      <th>2</th>\n",
       "      <td>Title 90504</td>\n",
       "      <td>10.0</td>\n",
       "      <td>12</td>\n",
       "    </tr>\n",
       "    <tr>\n",
       "      <th>3</th>\n",
       "      <td>Title 74777</td>\n",
       "      <td>10.0</td>\n",
       "      <td>5</td>\n",
       "    </tr>\n",
       "    <tr>\n",
       "      <th>4</th>\n",
       "      <td>Title 25000</td>\n",
       "      <td>9.8</td>\n",
       "      <td>8</td>\n",
       "    </tr>\n",
       "    <tr>\n",
       "      <th>5</th>\n",
       "      <td>Title 94895</td>\n",
       "      <td>9.7</td>\n",
       "      <td>7</td>\n",
       "    </tr>\n",
       "    <tr>\n",
       "      <th>6</th>\n",
       "      <td>Title 76819</td>\n",
       "      <td>9.7</td>\n",
       "      <td>6</td>\n",
       "    </tr>\n",
       "    <tr>\n",
       "      <th>7</th>\n",
       "      <td>Title 23156</td>\n",
       "      <td>9.6</td>\n",
       "      <td>27</td>\n",
       "    </tr>\n",
       "    <tr>\n",
       "      <th>8</th>\n",
       "      <td>Title 22126</td>\n",
       "      <td>9.6</td>\n",
       "      <td>11</td>\n",
       "    </tr>\n",
       "    <tr>\n",
       "      <th>9</th>\n",
       "      <td>Title 80818</td>\n",
       "      <td>9.6</td>\n",
       "      <td>5</td>\n",
       "    </tr>\n",
       "  </tbody>\n",
       "</table>\n",
       "</div>"
      ],
      "text/plain": [
       "    Title_Name  Avg_Rating  Total_Votes\n",
       "0  Title 19158        10.0           35\n",
       "1  Title 86824        10.0           28\n",
       "2  Title 90504        10.0           12\n",
       "3  Title 74777        10.0            5\n",
       "4  Title 25000         9.8            8\n",
       "5  Title 94895         9.7            7\n",
       "6  Title 76819         9.7            6\n",
       "7  Title 23156         9.6           27\n",
       "8  Title 22126         9.6           11\n",
       "9  Title 80818         9.6            5"
      ]
     },
     "execution_count": 19,
     "metadata": {},
     "output_type": "execute_result"
    },
    {
     "name": "stdout",
     "output_type": "stream",
     "text": [
      "time: 6.44 ms (started: 2024-05-07 17:19:43 -04:00)\n"
     ]
    }
   ],
   "source": [
    "top_10_highest = imdb_df.groupby(['Title_Name'])[\n",
    "    ['Avg_Rating','Total_Votes']].max().sort_values(by=['Avg_Rating','Total_Votes'\n",
    "                                                       ], ascending = False).reset_index().head(10)\n",
    "\n",
    "top_10_highest"
   ]
  },
  {
   "cell_type": "markdown",
   "metadata": {},
   "source": [
    "**Many Many other titles received the Perfect Rating of 10 across all Category but My personal favorite movie of all time, 'Fight Club' tops the table with Perfect Rating and highest Individual votes received while 'Gladiator' and 'Die Hard' takes the 2nd and 3rd spot respectivly on IMDB table.**"
   ]
  },
  {
   "cell_type": "markdown",
   "metadata": {},
   "source": [
    "**Average votes and rating given to all categories**"
   ]
  },
  {
   "cell_type": "code",
   "execution_count": 20,
   "metadata": {
    "execution": {
     "iopub.execute_input": "2022-10-27T17:12:29.756087Z",
     "iopub.status.busy": "2022-10-27T17:12:29.755716Z",
     "iopub.status.idle": "2022-10-27T17:12:29.908646Z",
     "shell.execute_reply": "2022-10-27T17:12:29.907794Z",
     "shell.execute_reply.started": "2022-10-27T17:12:29.756059Z"
    }
   },
   "outputs": [
    {
     "data": {
      "text/html": [
       "<div>\n",
       "<style scoped>\n",
       "    .dataframe tbody tr th:only-of-type {\n",
       "        vertical-align: middle;\n",
       "    }\n",
       "\n",
       "    .dataframe tbody tr th {\n",
       "        vertical-align: top;\n",
       "    }\n",
       "\n",
       "    .dataframe thead th {\n",
       "        text-align: right;\n",
       "    }\n",
       "</style>\n",
       "<table border=\"1\" class=\"dataframe\">\n",
       "  <thead>\n",
       "    <tr style=\"text-align: right;\">\n",
       "      <th></th>\n",
       "      <th>Title_Category</th>\n",
       "      <th>Avg_Rating</th>\n",
       "      <th>Total_Votes</th>\n",
       "    </tr>\n",
       "  </thead>\n",
       "  <tbody>\n",
       "    <tr>\n",
       "      <th>0</th>\n",
       "      <td>video</td>\n",
       "      <td>7.1</td>\n",
       "      <td>785.5</td>\n",
       "    </tr>\n",
       "    <tr>\n",
       "      <th>1</th>\n",
       "      <td>tvEpisode</td>\n",
       "      <td>7.0</td>\n",
       "      <td>206.5</td>\n",
       "    </tr>\n",
       "    <tr>\n",
       "      <th>2</th>\n",
       "      <td>short</td>\n",
       "      <td>7.0</td>\n",
       "      <td>375.9</td>\n",
       "    </tr>\n",
       "    <tr>\n",
       "      <th>3</th>\n",
       "      <td>movie</td>\n",
       "      <td>6.9</td>\n",
       "      <td>224.9</td>\n",
       "    </tr>\n",
       "    <tr>\n",
       "      <th>4</th>\n",
       "      <td>tvSeries</td>\n",
       "      <td>6.9</td>\n",
       "      <td>459.4</td>\n",
       "    </tr>\n",
       "  </tbody>\n",
       "</table>\n",
       "</div>"
      ],
      "text/plain": [
       "  Title_Category  Avg_Rating  Total_Votes\n",
       "0          video         7.1        785.5\n",
       "1      tvEpisode         7.0        206.5\n",
       "2          short         7.0        375.9\n",
       "3          movie         6.9        224.9\n",
       "4       tvSeries         6.9        459.4"
      ]
     },
     "execution_count": 20,
     "metadata": {},
     "output_type": "execute_result"
    },
    {
     "name": "stdout",
     "output_type": "stream",
     "text": [
      "time: 4.58 ms (started: 2024-05-07 17:19:43 -04:00)\n"
     ]
    }
   ],
   "source": [
    "highest_rated_type = imdb_df.groupby(['Title_Category'])[['Avg_Rating','Total_Votes']].mean(\n",
    ").sort_values(by=['Avg_Rating','Total_Votes'], ascending = False).reset_index().round(decimals = 1)\n",
    "\n",
    "highest_rated_type"
   ]
  },
  {
   "cell_type": "markdown",
   "metadata": {},
   "source": [
    "**Seems like 'tvEpisode' Category has received the best avg. Rating of 7.4/title when compaired to all other title types but received very less avg. votes per title. On the other hand, 'Movie' Category tops the chart as they received highest 3532.7 votes/titles on IMDB.**"
   ]
  },
  {
   "cell_type": "markdown",
   "metadata": {},
   "source": [
    "**Category_wise longest running titles as per IMDB_database**"
   ]
  },
  {
   "cell_type": "code",
   "execution_count": 21,
   "metadata": {
    "execution": {
     "iopub.execute_input": "2022-10-27T17:12:35.546546Z",
     "iopub.status.busy": "2022-10-27T17:12:35.545719Z",
     "iopub.status.idle": "2022-10-27T17:12:35.716961Z",
     "shell.execute_reply": "2022-10-27T17:12:35.716181Z",
     "shell.execute_reply.started": "2022-10-27T17:12:35.546507Z"
    }
   },
   "outputs": [
    {
     "data": {
      "text/html": [
       "<div>\n",
       "<style scoped>\n",
       "    .dataframe tbody tr th:only-of-type {\n",
       "        vertical-align: middle;\n",
       "    }\n",
       "\n",
       "    .dataframe tbody tr th {\n",
       "        vertical-align: top;\n",
       "    }\n",
       "\n",
       "    .dataframe thead th {\n",
       "        text-align: right;\n",
       "    }\n",
       "</style>\n",
       "<table border=\"1\" class=\"dataframe\">\n",
       "  <thead>\n",
       "    <tr style=\"text-align: right;\">\n",
       "      <th></th>\n",
       "      <th>Title_Category</th>\n",
       "      <th>Title_Name</th>\n",
       "      <th>Title_Runtime_Length</th>\n",
       "    </tr>\n",
       "  </thead>\n",
       "  <tbody>\n",
       "    <tr>\n",
       "      <th>0</th>\n",
       "      <td>tvSeries</td>\n",
       "      <td>Title 1132</td>\n",
       "      <td>0 days 05:00:00</td>\n",
       "    </tr>\n",
       "    <tr>\n",
       "      <th>1</th>\n",
       "      <td>movie</td>\n",
       "      <td>Title 82850</td>\n",
       "      <td>0 days 05:00:00</td>\n",
       "    </tr>\n",
       "    <tr>\n",
       "      <th>2</th>\n",
       "      <td>tvEpisode</td>\n",
       "      <td>Title 28597</td>\n",
       "      <td>0 days 04:59:00</td>\n",
       "    </tr>\n",
       "    <tr>\n",
       "      <th>3</th>\n",
       "      <td>short</td>\n",
       "      <td>Title 94289</td>\n",
       "      <td>0 days 04:58:00</td>\n",
       "    </tr>\n",
       "    <tr>\n",
       "      <th>4</th>\n",
       "      <td>video</td>\n",
       "      <td>Title 59141</td>\n",
       "      <td>0 days 04:57:00</td>\n",
       "    </tr>\n",
       "  </tbody>\n",
       "</table>\n",
       "</div>"
      ],
      "text/plain": [
       "  Title_Category   Title_Name Title_Runtime_Length\n",
       "0       tvSeries   Title 1132      0 days 05:00:00\n",
       "1          movie  Title 82850      0 days 05:00:00\n",
       "2      tvEpisode  Title 28597      0 days 04:59:00\n",
       "3          short  Title 94289      0 days 04:58:00\n",
       "4          video  Title 59141      0 days 04:57:00"
      ]
     },
     "execution_count": 21,
     "metadata": {},
     "output_type": "execute_result"
    },
    {
     "name": "stdout",
     "output_type": "stream",
     "text": [
      "time: 4.76 ms (started: 2024-05-07 17:19:43 -04:00)\n"
     ]
    }
   ],
   "source": [
    "longest_runtime = imdb_df.loc[imdb_df.groupby(['Title_Category'], \n",
    "                                              sort=False)['Title_Runtime_Length'].idxmax()\n",
    "                             ][['Title_Category', 'Title_Name', 'Title_Runtime_Length']]\n",
    "\n",
    "longest_runtime.sort_values(by='Title_Runtime_Length', ascending = False).reset_index(drop=True)"
   ]
  },
  {
   "cell_type": "markdown",
   "metadata": {},
   "source": [
    "**In our analysis, Movie named 'Logistics' has the longest run-time across all categories, at 35 Days and 17 Hours. While, 'The Longest Video on YouTube: 596.5 Hours' is in the second place.**"
   ]
  },
  {
   "cell_type": "markdown",
   "metadata": {},
   "source": [
    "**Now, Lets check Category_wise shortest running titles as per IMDB_database**"
   ]
  },
  {
   "cell_type": "code",
   "execution_count": 22,
   "metadata": {
    "execution": {
     "iopub.execute_input": "2022-10-27T17:12:41.465127Z",
     "iopub.status.busy": "2022-10-27T17:12:41.464313Z",
     "iopub.status.idle": "2022-10-27T17:12:41.648658Z",
     "shell.execute_reply": "2022-10-27T17:12:41.647542Z",
     "shell.execute_reply.started": "2022-10-27T17:12:41.46508Z"
    }
   },
   "outputs": [
    {
     "data": {
      "text/html": [
       "<div>\n",
       "<style scoped>\n",
       "    .dataframe tbody tr th:only-of-type {\n",
       "        vertical-align: middle;\n",
       "    }\n",
       "\n",
       "    .dataframe tbody tr th {\n",
       "        vertical-align: top;\n",
       "    }\n",
       "\n",
       "    .dataframe thead th {\n",
       "        text-align: right;\n",
       "    }\n",
       "</style>\n",
       "<table border=\"1\" class=\"dataframe\">\n",
       "  <thead>\n",
       "    <tr style=\"text-align: right;\">\n",
       "      <th></th>\n",
       "      <th>Title_Category</th>\n",
       "      <th>Title_Name</th>\n",
       "      <th>Title_Runtime_Length</th>\n",
       "    </tr>\n",
       "  </thead>\n",
       "  <tbody>\n",
       "    <tr>\n",
       "      <th>0</th>\n",
       "      <td>tvSeries</td>\n",
       "      <td>Title 19531</td>\n",
       "      <td>0 days 00:01:00</td>\n",
       "    </tr>\n",
       "    <tr>\n",
       "      <th>1</th>\n",
       "      <td>tvEpisode</td>\n",
       "      <td>Title 50970</td>\n",
       "      <td>0 days 00:01:00</td>\n",
       "    </tr>\n",
       "    <tr>\n",
       "      <th>2</th>\n",
       "      <td>movie</td>\n",
       "      <td>Title 42689</td>\n",
       "      <td>0 days 00:04:00</td>\n",
       "    </tr>\n",
       "    <tr>\n",
       "      <th>3</th>\n",
       "      <td>video</td>\n",
       "      <td>Title 56843</td>\n",
       "      <td>0 days 00:03:00</td>\n",
       "    </tr>\n",
       "    <tr>\n",
       "      <th>4</th>\n",
       "      <td>short</td>\n",
       "      <td>Title 4211</td>\n",
       "      <td>0 days 00:04:00</td>\n",
       "    </tr>\n",
       "  </tbody>\n",
       "</table>\n",
       "</div>"
      ],
      "text/plain": [
       "  Title_Category   Title_Name Title_Runtime_Length\n",
       "0       tvSeries  Title 19531      0 days 00:01:00\n",
       "1      tvEpisode  Title 50970      0 days 00:01:00\n",
       "2          movie  Title 42689      0 days 00:04:00\n",
       "3          video  Title 56843      0 days 00:03:00\n",
       "4          short   Title 4211      0 days 00:04:00"
      ]
     },
     "execution_count": 22,
     "metadata": {},
     "output_type": "execute_result"
    },
    {
     "name": "stdout",
     "output_type": "stream",
     "text": [
      "time: 3.74 ms (started: 2024-05-07 17:19:43 -04:00)\n"
     ]
    }
   ],
   "source": [
    "shortest_runtime = imdb_df.loc[imdb_df.groupby(['Title_Category'], \n",
    "                                              sort=False)['Title_Runtime_Length'].idxmin()\n",
    "                             ][['Title_Category', 'Title_Name', 'Title_Runtime_Length']]\n",
    "\n",
    "shortest_runtime.reset_index(drop=True)"
   ]
  },
  {
   "cell_type": "markdown",
   "metadata": {},
   "source": [
    "**Short category film 'Awakening of Rip' holds the top place for being the shortest length title in IMDB_database.**"
   ]
  },
  {
   "cell_type": "markdown",
   "metadata": {},
   "source": [
    "**Now, Lets shed some light on Average Ratings of Non_Adult Rated Titles vs Adult Rated Titles**"
   ]
  },
  {
   "cell_type": "code",
   "execution_count": 23,
   "metadata": {
    "execution": {
     "iopub.execute_input": "2022-10-27T17:12:49.585161Z",
     "iopub.status.busy": "2022-10-27T17:12:49.584173Z",
     "iopub.status.idle": "2022-10-27T17:12:50.097749Z",
     "shell.execute_reply": "2022-10-27T17:12:50.0966Z",
     "shell.execute_reply.started": "2022-10-27T17:12:49.585123Z"
    }
   },
   "outputs": [
    {
     "name": "stdout",
     "output_type": "stream",
     "text": [
      "time: 1.74 ms (started: 2024-05-07 17:19:43 -04:00)\n"
     ]
    }
   ],
   "source": [
    "wanna_adult_or_not = imdb_df.groupby(['Title_Category','IN-18+']\n",
    "                                    )['Avg_Rating'].agg('mean').round(1).unstack(fill_value= 0) \n",
    "wanna_adult_or_not.reset_index(inplace = True)\n",
    "##### Visualise the chart in stack manner of bar type\n",
    "\n",
    "# STEFANOS: Disable plotting\n",
    "# plt.rcParams['figure.figsize'] = [15, 8]\n",
    "# wanna_adult_or_not.plot(x='Title_Category', kind='bar', stacked=True, \n",
    "#                         title='Average Ratings of Non_Adult Rated Titles vs Adult Rated Titles')\n",
    "# plt.xlabel('Title Categories')\n",
    "# plt.ylabel('Average Ratings')\n",
    "# plt.show()"
   ]
  },
  {
   "cell_type": "markdown",
   "metadata": {},
   "source": [
    "**'TvEpisode' category has received the highest Avg. Ratings in both Adult and Non-Adult rated title categories, However they there also the only title category among all whose some of the films/shows went Un-Rated.**"
   ]
  },
  {
   "cell_type": "markdown",
   "metadata": {},
   "source": [
    "**Here ends this project, where we dig deep into the dataframe. First, We cleaned it and then sorted the data structure making a display of meaningful data. If you want to give any suggestion and point out mistakes please feel free to contact. Thanks!**"
   ]
  },
  {
   "cell_type": "code",
   "execution_count": 24,
   "id": "50a806ae",
   "metadata": {},
   "outputs": [
    {
     "name": "stdout",
     "output_type": "stream",
     "text": [
      "Total elapsed time: 0.967675991\n",
      "time: 231 µs (started: 2024-05-07 17:19:43 -04:00)\n"
     ]
    }
   ],
   "source": [
    "SNAPPY_end_time = time.perf_counter_ns()\n",
    "print(\"Total elapsed time:\", (SNAPPY_end_time - SNAPPY_start_time) / (10 ** 9))"
   ]
  }
 ],
 "metadata": {
  "kernelspec": {
   "display_name": "Python 3 (ipykernel)",
   "language": "python",
   "name": "python3"
  },
  "language_info": {
   "codemirror_mode": {
    "name": "ipython",
    "version": 3
   },
   "file_extension": ".py",
   "mimetype": "text/x-python",
   "name": "python",
   "nbconvert_exporter": "python",
   "pygments_lexer": "ipython3",
   "version": "3.10.11"
  }
 },
 "nbformat": 4,
 "nbformat_minor": 4
}
