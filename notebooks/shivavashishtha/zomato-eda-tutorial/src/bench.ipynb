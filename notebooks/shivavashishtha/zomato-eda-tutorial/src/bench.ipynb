{
 "cells": [
  {
   "cell_type": "markdown",
   "id": "6b934ce2",
   "metadata": {
    "papermill": {
     "duration": 0.030788,
     "end_time": "2023-01-17T09:39:48.166066",
     "exception": false,
     "start_time": "2023-01-17T09:39:48.135278",
     "status": "completed"
    },
    "tags": []
   },
   "source": [
    "# EDA Tutorial - Indian Restaurants \n",
    "\n",
    "## Introduction\n",
    "\n",
    "Exploratory Data Analysis (EDA) is a preliminary step of Machine Learning and is used extensively in this field. Although it is not necessary to perform EDA to build models, but it is definitely recommended as it helps to know the data better. If performed correctly, it gives us insights which are not easy to witness directly. \n",
    "\n",
    "In this notebook, I have performed a detailed analysis on Indian Restaurants Dataset from Zomato(<a href=\"https://www.kaggle.com/rabhar/zomato-restaurants-in-india\">link</a>). This notebook can be used as a manual to perform basic to intermediate EDA on any dataset. Following are the things that you will learn from this project :-\n",
    "1. Knowing basic composition of data\n",
    "2. Removing duplicates\n",
    "3. Dealing with missing values\n",
    "4. Understanding features\n",
    "5. Plotting horizontal bar charts (multicolor)\n",
    "6. Using groupby, apply, and unique functions \n",
    "7. Scatter plot\n",
    "8. Word Cloud\n",
    "9. Box plot\n",
    "10. Density plot\n",
    "11. Bar Charts\n",
    "12. Drawing insights and conclusions from data\n",
    "\n",
    "Don't forget to upvote if you find this useful! :)\n",
    "\n",
    "So without further ado, let's get started!\n",
    "\n",
    "## Project outline"
   ]
  },
  {
   "cell_type": "markdown",
   "id": "509c77a6",
   "metadata": {
    "papermill": {
     "duration": 0.027835,
     "end_time": "2023-01-17T09:39:48.222342",
     "exception": false,
     "start_time": "2023-01-17T09:39:48.194507",
     "status": "completed"
    },
    "tags": []
   },
   "source": [
    "- Importing \n",
    "- Preprocessing\n",
    "- - Exploring data\n",
    "- - Removing duplicates\n",
    "- - Dealing with missing values\n",
    "- - Omitting not useful features\n",
    "- EDA\n",
    "- - Restaurant Chains\n",
    "- - - Chains vs Outlets\n",
    "- - - Top Restaurant Chains (by number of outlets)\n",
    "- - - Top Restaurant Chains (by average ratings)\n",
    "- - Establishment Types\n",
    "- - - Number of Restaurants \n",
    "- - - Average Rating, Votes, and Photo count\n",
    "- - Cities\n",
    "- - - Number of Restaurants \n",
    "- - - Average Rating, Votes, and Photo count\n",
    "- - Cuisine\n",
    "- - - Total number of unique cuisines\n",
    "- - - Number of Restaurants\n",
    "- - - Highest rated cuisines\n",
    "- - Highlights \n",
    "- - - Number of Restaurants\n",
    "- - - Highest rated features\n",
    "- - - Highlights wordcloud\n",
    "- - Rating and cost\n",
    "- - - Rating Distribution\n",
    "- - - Average Cost for two distribution\n",
    "- - - Price range count\n",
    "- - - Relation between Average price for two and Rating\n",
    "- - - Relation between Price Range and Rating\n",
    "- - - Relation between Votes and Rating\n",
    "- Conclusions"
   ]
  },
  {
   "cell_type": "markdown",
   "id": "60a6f1a8",
   "metadata": {
    "papermill": {
     "duration": 0.027539,
     "end_time": "2023-01-17T09:39:48.277061",
     "exception": false,
     "start_time": "2023-01-17T09:39:48.249522",
     "status": "completed"
    },
    "tags": []
   },
   "source": [
    "## Importing necessary libraries"
   ]
  },
  {
   "cell_type": "code",
   "execution_count": 1,
   "id": "dc476d6a",
   "metadata": {
    "papermill": {
     "duration": 1.156483,
     "end_time": "2023-01-17T09:39:49.463820",
     "exception": false,
     "start_time": "2023-01-17T09:39:48.307337",
     "status": "completed"
    },
    "tags": []
   },
   "outputs": [
    {
     "name": "stderr",
     "output_type": "stream",
     "text": [
      "/Users/sse/opt/anaconda3/envs/py3.10/lib/python3.10/site-packages/scipy/__init__.py:155: UserWarning: A NumPy version >=1.18.5 and <1.26.0 is required for this version of SciPy (detected version 1.26.0\n",
      "  warnings.warn(f\"A NumPy version >={np_minversion} and <{np_maxversion}\"\n"
     ]
    }
   ],
   "source": [
    "import numpy as np\n",
    "import pandas as pd\n",
    "import matplotlib.pyplot as plt\n",
    "import matplotlib.cm as cm\n",
    "import seaborn as sns\n",
    "import random\n",
    "# from wordcloud import WordCloud"
   ]
  },
  {
   "cell_type": "markdown",
   "id": "4a3927fd",
   "metadata": {
    "papermill": {
     "duration": 0.028416,
     "end_time": "2023-01-17T09:39:49.519567",
     "exception": false,
     "start_time": "2023-01-17T09:39:49.491151",
     "status": "completed"
    },
    "tags": []
   },
   "source": [
    "## Preprocessing\n",
    "### Exploring data"
   ]
  },
  {
   "cell_type": "code",
   "execution_count": 2,
   "id": "c7dcd569",
   "metadata": {
    "papermill": {
     "duration": 3.798256,
     "end_time": "2023-01-17T09:39:53.345300",
     "exception": false,
     "start_time": "2023-01-17T09:39:49.547044",
     "status": "completed"
    },
    "tags": []
   },
   "outputs": [],
   "source": [
    "data = pd.read_csv(\"../input/zomato_restaurants_in_India.csv\")"
   ]
  },
  {
   "cell_type": "code",
   "execution_count": 3,
   "id": "fb99d330",
   "metadata": {},
   "outputs": [
    {
     "name": "stdout",
     "output_type": "stream",
     "text": [
      "<class 'pandas.core.frame.DataFrame'>\n",
      "RangeIndex: 1271664 entries, 0 to 1271663\n",
      "Data columns (total 26 columns):\n",
      " #   Column                Non-Null Count    Dtype  \n",
      "---  ------                --------------    -----  \n",
      " 0   res_id                1271664 non-null  int64  \n",
      " 1   name                  1271664 non-null  object \n",
      " 2   establishment         1271664 non-null  object \n",
      " 3   url                   1271664 non-null  object \n",
      " 4   address               1270860 non-null  object \n",
      " 5   city                  1271664 non-null  object \n",
      " 6   city_id               1271664 non-null  int64  \n",
      " 7   locality              1271664 non-null  object \n",
      " 8   latitude              1271664 non-null  float64\n",
      " 9   longitude             1271664 non-null  float64\n",
      " 10  zipcode               292542 non-null   object \n",
      " 11  country_id            1271664 non-null  int64  \n",
      " 12  locality_verbose      1271664 non-null  object \n",
      " 13  cuisines              1263318 non-null  object \n",
      " 14  timings               1248420 non-null  object \n",
      " 15  average_cost_for_two  1271664 non-null  int64  \n",
      " 16  price_range           1271664 non-null  int64  \n",
      " 17  currency              1271664 non-null  object \n",
      " 18  highlights            1271664 non-null  object \n",
      " 19  aggregate_rating      1271664 non-null  float64\n",
      " 20  rating_text           1271664 non-null  object \n",
      " 21  votes                 1271664 non-null  int64  \n",
      " 22  photo_count           1271664 non-null  int64  \n",
      " 23  opentable_support     1271376 non-null  float64\n",
      " 24  delivery              1271664 non-null  int64  \n",
      " 25  takeaway              1271664 non-null  int64  \n",
      "dtypes: float64(4), int64(9), object(13)\n",
      "memory usage: 252.3+ MB\n"
     ]
    }
   ],
   "source": [
    "df = data\n",
    "intended_df_size_in_MB = 256\n",
    "factor = intended_df_size_in_MB*(2**20)//df.memory_usage(index=True).sum()\n",
    "if factor > 0:\n",
    "    df = pd.concat([df]*factor, ignore_index=True)\n",
    "data = df\n",
    "data.info()"
   ]
  },
  {
   "cell_type": "code",
   "execution_count": 3,
   "id": "80f1f2a9",
   "metadata": {
    "papermill": {
     "duration": 0.076833,
     "end_time": "2023-01-17T09:39:53.449763",
     "exception": false,
     "start_time": "2023-01-17T09:39:53.372930",
     "status": "completed"
    },
    "tags": []
   },
   "outputs": [
    {
     "data": {
      "text/html": [
       "<div>\n",
       "<style scoped>\n",
       "    .dataframe tbody tr th:only-of-type {\n",
       "        vertical-align: middle;\n",
       "    }\n",
       "\n",
       "    .dataframe tbody tr th {\n",
       "        vertical-align: top;\n",
       "    }\n",
       "\n",
       "    .dataframe thead th {\n",
       "        text-align: right;\n",
       "    }\n",
       "</style>\n",
       "<table border=\"1\" class=\"dataframe\">\n",
       "  <thead>\n",
       "    <tr style=\"text-align: right;\">\n",
       "      <th></th>\n",
       "      <th>res_id</th>\n",
       "      <th>name</th>\n",
       "      <th>establishment</th>\n",
       "      <th>url</th>\n",
       "      <th>address</th>\n",
       "      <th>city</th>\n",
       "      <th>city_id</th>\n",
       "      <th>locality</th>\n",
       "      <th>latitude</th>\n",
       "      <th>longitude</th>\n",
       "      <th>...</th>\n",
       "      <th>price_range</th>\n",
       "      <th>currency</th>\n",
       "      <th>highlights</th>\n",
       "      <th>aggregate_rating</th>\n",
       "      <th>rating_text</th>\n",
       "      <th>votes</th>\n",
       "      <th>photo_count</th>\n",
       "      <th>opentable_support</th>\n",
       "      <th>delivery</th>\n",
       "      <th>takeaway</th>\n",
       "    </tr>\n",
       "  </thead>\n",
       "  <tbody>\n",
       "    <tr>\n",
       "      <th>0</th>\n",
       "      <td>3400299</td>\n",
       "      <td>Bikanervala</td>\n",
       "      <td>['Quick Bites']</td>\n",
       "      <td>https://www.zomato.com/agra/bikanervala-khanda...</td>\n",
       "      <td>Kalyani Point, Near Tulsi Cinema, Bypass Road,...</td>\n",
       "      <td>Agra</td>\n",
       "      <td>34</td>\n",
       "      <td>Khandari</td>\n",
       "      <td>27.211450</td>\n",
       "      <td>78.002381</td>\n",
       "      <td>...</td>\n",
       "      <td>2</td>\n",
       "      <td>Rs.</td>\n",
       "      <td>['Lunch', 'Takeaway Available', 'Credit Card',...</td>\n",
       "      <td>4.4</td>\n",
       "      <td>Very Good</td>\n",
       "      <td>814</td>\n",
       "      <td>154</td>\n",
       "      <td>0.0</td>\n",
       "      <td>-1</td>\n",
       "      <td>-1</td>\n",
       "    </tr>\n",
       "    <tr>\n",
       "      <th>1</th>\n",
       "      <td>3400005</td>\n",
       "      <td>Mama Chicken Mama Franky House</td>\n",
       "      <td>['Quick Bites']</td>\n",
       "      <td>https://www.zomato.com/agra/mama-chicken-mama-...</td>\n",
       "      <td>Main Market, Sadar Bazaar, Agra Cantt, Agra</td>\n",
       "      <td>Agra</td>\n",
       "      <td>34</td>\n",
       "      <td>Agra Cantt</td>\n",
       "      <td>27.160569</td>\n",
       "      <td>78.011583</td>\n",
       "      <td>...</td>\n",
       "      <td>2</td>\n",
       "      <td>Rs.</td>\n",
       "      <td>['Delivery', 'No Alcohol Available', 'Dinner',...</td>\n",
       "      <td>4.4</td>\n",
       "      <td>Very Good</td>\n",
       "      <td>1203</td>\n",
       "      <td>161</td>\n",
       "      <td>0.0</td>\n",
       "      <td>-1</td>\n",
       "      <td>-1</td>\n",
       "    </tr>\n",
       "    <tr>\n",
       "      <th>2</th>\n",
       "      <td>3401013</td>\n",
       "      <td>Bhagat Halwai</td>\n",
       "      <td>['Quick Bites']</td>\n",
       "      <td>https://www.zomato.com/agra/bhagat-halwai-2-sh...</td>\n",
       "      <td>62/1, Near Easy Day, West Shivaji Nagar, Goalp...</td>\n",
       "      <td>Agra</td>\n",
       "      <td>34</td>\n",
       "      <td>Shahganj</td>\n",
       "      <td>27.182938</td>\n",
       "      <td>77.979684</td>\n",
       "      <td>...</td>\n",
       "      <td>1</td>\n",
       "      <td>Rs.</td>\n",
       "      <td>['No Alcohol Available', 'Dinner', 'Takeaway A...</td>\n",
       "      <td>4.2</td>\n",
       "      <td>Very Good</td>\n",
       "      <td>801</td>\n",
       "      <td>107</td>\n",
       "      <td>0.0</td>\n",
       "      <td>1</td>\n",
       "      <td>-1</td>\n",
       "    </tr>\n",
       "    <tr>\n",
       "      <th>3</th>\n",
       "      <td>3400290</td>\n",
       "      <td>Bhagat Halwai</td>\n",
       "      <td>['Quick Bites']</td>\n",
       "      <td>https://www.zomato.com/agra/bhagat-halwai-civi...</td>\n",
       "      <td>Near Anjana Cinema, Nehru Nagar, Civil Lines, ...</td>\n",
       "      <td>Agra</td>\n",
       "      <td>34</td>\n",
       "      <td>Civil Lines</td>\n",
       "      <td>27.205668</td>\n",
       "      <td>78.004799</td>\n",
       "      <td>...</td>\n",
       "      <td>1</td>\n",
       "      <td>Rs.</td>\n",
       "      <td>['Takeaway Available', 'Credit Card', 'Lunch',...</td>\n",
       "      <td>4.3</td>\n",
       "      <td>Very Good</td>\n",
       "      <td>693</td>\n",
       "      <td>157</td>\n",
       "      <td>0.0</td>\n",
       "      <td>1</td>\n",
       "      <td>-1</td>\n",
       "    </tr>\n",
       "    <tr>\n",
       "      <th>4</th>\n",
       "      <td>3401744</td>\n",
       "      <td>The Salt Cafe Kitchen &amp; Bar</td>\n",
       "      <td>['Casual Dining']</td>\n",
       "      <td>https://www.zomato.com/agra/the-salt-cafe-kitc...</td>\n",
       "      <td>1C,3rd Floor, Fatehabad Road, Tajganj, Agra</td>\n",
       "      <td>Agra</td>\n",
       "      <td>34</td>\n",
       "      <td>Tajganj</td>\n",
       "      <td>27.157709</td>\n",
       "      <td>78.052421</td>\n",
       "      <td>...</td>\n",
       "      <td>3</td>\n",
       "      <td>Rs.</td>\n",
       "      <td>['Lunch', 'Serves Alcohol', 'Cash', 'Credit Ca...</td>\n",
       "      <td>4.9</td>\n",
       "      <td>Excellent</td>\n",
       "      <td>470</td>\n",
       "      <td>291</td>\n",
       "      <td>0.0</td>\n",
       "      <td>1</td>\n",
       "      <td>-1</td>\n",
       "    </tr>\n",
       "    <tr>\n",
       "      <th>5</th>\n",
       "      <td>3400275</td>\n",
       "      <td>Domino's Pizza</td>\n",
       "      <td>['Quick Bites']</td>\n",
       "      <td>https://www.zomato.com/agra/dominos-pizza-civi...</td>\n",
       "      <td>114/23 G, Deep Shikha Complex, Sanjay Place, C...</td>\n",
       "      <td>Agra</td>\n",
       "      <td>34</td>\n",
       "      <td>Civil Lines</td>\n",
       "      <td>27.201516</td>\n",
       "      <td>78.007556</td>\n",
       "      <td>...</td>\n",
       "      <td>2</td>\n",
       "      <td>Rs.</td>\n",
       "      <td>['Credit Card', 'Lunch', 'Delivery', 'Dinner',...</td>\n",
       "      <td>4.0</td>\n",
       "      <td>Very Good</td>\n",
       "      <td>707</td>\n",
       "      <td>62</td>\n",
       "      <td>0.0</td>\n",
       "      <td>-1</td>\n",
       "      <td>-1</td>\n",
       "    </tr>\n",
       "    <tr>\n",
       "      <th>6</th>\n",
       "      <td>3400296</td>\n",
       "      <td>Honeydew Restaurant</td>\n",
       "      <td>['Quick Bites']</td>\n",
       "      <td>https://www.zomato.com/agra/honeydew-restauran...</td>\n",
       "      <td>Opposite Soami Bagh Temple, Dayal Bagh, Agra</td>\n",
       "      <td>Agra</td>\n",
       "      <td>34</td>\n",
       "      <td>Dayal Bagh</td>\n",
       "      <td>27.222175</td>\n",
       "      <td>78.010174</td>\n",
       "      <td>...</td>\n",
       "      <td>2</td>\n",
       "      <td>Rs.</td>\n",
       "      <td>['Dinner', 'Delivery', 'Lunch', 'Cash', 'Takea...</td>\n",
       "      <td>4.2</td>\n",
       "      <td>Very Good</td>\n",
       "      <td>647</td>\n",
       "      <td>46</td>\n",
       "      <td>0.0</td>\n",
       "      <td>1</td>\n",
       "      <td>-1</td>\n",
       "    </tr>\n",
       "    <tr>\n",
       "      <th>7</th>\n",
       "      <td>3400368</td>\n",
       "      <td>Domino's Pizza</td>\n",
       "      <td>['Quick Bites']</td>\n",
       "      <td>https://www.zomato.com/agra/dominos-pizza-sika...</td>\n",
       "      <td>Plot C-1/6, Sector 13, Sikandra, Agra</td>\n",
       "      <td>Agra</td>\n",
       "      <td>34</td>\n",
       "      <td>Sikandra</td>\n",
       "      <td>27.203930</td>\n",
       "      <td>77.954260</td>\n",
       "      <td>...</td>\n",
       "      <td>2</td>\n",
       "      <td>Rs.</td>\n",
       "      <td>['Lunch', 'Delivery', 'Credit Card', 'No Alcoh...</td>\n",
       "      <td>3.8</td>\n",
       "      <td>Good</td>\n",
       "      <td>617</td>\n",
       "      <td>18</td>\n",
       "      <td>0.0</td>\n",
       "      <td>-1</td>\n",
       "      <td>-1</td>\n",
       "    </tr>\n",
       "    <tr>\n",
       "      <th>8</th>\n",
       "      <td>3401284</td>\n",
       "      <td>Cake House</td>\n",
       "      <td>['Bakery']</td>\n",
       "      <td>https://www.zomato.com/agra/cake-house-2-civil...</td>\n",
       "      <td>23/301, Wazirpura Rd, Judge Compound Chowraha,...</td>\n",
       "      <td>Agra</td>\n",
       "      <td>34</td>\n",
       "      <td>Civil Lines</td>\n",
       "      <td>27.204148</td>\n",
       "      <td>78.009025</td>\n",
       "      <td>...</td>\n",
       "      <td>2</td>\n",
       "      <td>Rs.</td>\n",
       "      <td>['Takeaway Available', 'Cash', 'Indoor Seating...</td>\n",
       "      <td>3.4</td>\n",
       "      <td>Average</td>\n",
       "      <td>322</td>\n",
       "      <td>14</td>\n",
       "      <td>0.0</td>\n",
       "      <td>1</td>\n",
       "      <td>-1</td>\n",
       "    </tr>\n",
       "    <tr>\n",
       "      <th>9</th>\n",
       "      <td>3400838</td>\n",
       "      <td>Sugar N Thyme</td>\n",
       "      <td>['Café']</td>\n",
       "      <td>https://www.zomato.com/agra/sugar-n-thyme-tajg...</td>\n",
       "      <td>1374 K/1375 K, Ground floor, Dinesh Nagar, Fat...</td>\n",
       "      <td>Agra</td>\n",
       "      <td>34</td>\n",
       "      <td>Tajganj</td>\n",
       "      <td>27.158243</td>\n",
       "      <td>78.045591</td>\n",
       "      <td>...</td>\n",
       "      <td>3</td>\n",
       "      <td>Rs.</td>\n",
       "      <td>['No Alcohol Available', 'Dinner', 'Delivery',...</td>\n",
       "      <td>4.4</td>\n",
       "      <td>Very Good</td>\n",
       "      <td>289</td>\n",
       "      <td>324</td>\n",
       "      <td>0.0</td>\n",
       "      <td>1</td>\n",
       "      <td>-1</td>\n",
       "    </tr>\n",
       "  </tbody>\n",
       "</table>\n",
       "<p>10 rows × 26 columns</p>\n",
       "</div>"
      ],
      "text/plain": [
       "    res_id                            name      establishment  \\\n",
       "0  3400299                     Bikanervala    ['Quick Bites']   \n",
       "1  3400005  Mama Chicken Mama Franky House    ['Quick Bites']   \n",
       "2  3401013                   Bhagat Halwai    ['Quick Bites']   \n",
       "3  3400290                   Bhagat Halwai    ['Quick Bites']   \n",
       "4  3401744     The Salt Cafe Kitchen & Bar  ['Casual Dining']   \n",
       "5  3400275                  Domino's Pizza    ['Quick Bites']   \n",
       "6  3400296             Honeydew Restaurant    ['Quick Bites']   \n",
       "7  3400368                  Domino's Pizza    ['Quick Bites']   \n",
       "8  3401284                      Cake House         ['Bakery']   \n",
       "9  3400838                   Sugar N Thyme           ['Café']   \n",
       "\n",
       "                                                 url  \\\n",
       "0  https://www.zomato.com/agra/bikanervala-khanda...   \n",
       "1  https://www.zomato.com/agra/mama-chicken-mama-...   \n",
       "2  https://www.zomato.com/agra/bhagat-halwai-2-sh...   \n",
       "3  https://www.zomato.com/agra/bhagat-halwai-civi...   \n",
       "4  https://www.zomato.com/agra/the-salt-cafe-kitc...   \n",
       "5  https://www.zomato.com/agra/dominos-pizza-civi...   \n",
       "6  https://www.zomato.com/agra/honeydew-restauran...   \n",
       "7  https://www.zomato.com/agra/dominos-pizza-sika...   \n",
       "8  https://www.zomato.com/agra/cake-house-2-civil...   \n",
       "9  https://www.zomato.com/agra/sugar-n-thyme-tajg...   \n",
       "\n",
       "                                             address  city  city_id  \\\n",
       "0  Kalyani Point, Near Tulsi Cinema, Bypass Road,...  Agra       34   \n",
       "1        Main Market, Sadar Bazaar, Agra Cantt, Agra  Agra       34   \n",
       "2  62/1, Near Easy Day, West Shivaji Nagar, Goalp...  Agra       34   \n",
       "3  Near Anjana Cinema, Nehru Nagar, Civil Lines, ...  Agra       34   \n",
       "4        1C,3rd Floor, Fatehabad Road, Tajganj, Agra  Agra       34   \n",
       "5  114/23 G, Deep Shikha Complex, Sanjay Place, C...  Agra       34   \n",
       "6       Opposite Soami Bagh Temple, Dayal Bagh, Agra  Agra       34   \n",
       "7              Plot C-1/6, Sector 13, Sikandra, Agra  Agra       34   \n",
       "8  23/301, Wazirpura Rd, Judge Compound Chowraha,...  Agra       34   \n",
       "9  1374 K/1375 K, Ground floor, Dinesh Nagar, Fat...  Agra       34   \n",
       "\n",
       "      locality   latitude  longitude  ... price_range  currency  \\\n",
       "0     Khandari  27.211450  78.002381  ...           2       Rs.   \n",
       "1   Agra Cantt  27.160569  78.011583  ...           2       Rs.   \n",
       "2     Shahganj  27.182938  77.979684  ...           1       Rs.   \n",
       "3  Civil Lines  27.205668  78.004799  ...           1       Rs.   \n",
       "4      Tajganj  27.157709  78.052421  ...           3       Rs.   \n",
       "5  Civil Lines  27.201516  78.007556  ...           2       Rs.   \n",
       "6   Dayal Bagh  27.222175  78.010174  ...           2       Rs.   \n",
       "7     Sikandra  27.203930  77.954260  ...           2       Rs.   \n",
       "8  Civil Lines  27.204148  78.009025  ...           2       Rs.   \n",
       "9      Tajganj  27.158243  78.045591  ...           3       Rs.   \n",
       "\n",
       "                                          highlights aggregate_rating  \\\n",
       "0  ['Lunch', 'Takeaway Available', 'Credit Card',...              4.4   \n",
       "1  ['Delivery', 'No Alcohol Available', 'Dinner',...              4.4   \n",
       "2  ['No Alcohol Available', 'Dinner', 'Takeaway A...              4.2   \n",
       "3  ['Takeaway Available', 'Credit Card', 'Lunch',...              4.3   \n",
       "4  ['Lunch', 'Serves Alcohol', 'Cash', 'Credit Ca...              4.9   \n",
       "5  ['Credit Card', 'Lunch', 'Delivery', 'Dinner',...              4.0   \n",
       "6  ['Dinner', 'Delivery', 'Lunch', 'Cash', 'Takea...              4.2   \n",
       "7  ['Lunch', 'Delivery', 'Credit Card', 'No Alcoh...              3.8   \n",
       "8  ['Takeaway Available', 'Cash', 'Indoor Seating...              3.4   \n",
       "9  ['No Alcohol Available', 'Dinner', 'Delivery',...              4.4   \n",
       "\n",
       "  rating_text  votes  photo_count opentable_support delivery  takeaway  \n",
       "0   Very Good    814          154               0.0       -1        -1  \n",
       "1   Very Good   1203          161               0.0       -1        -1  \n",
       "2   Very Good    801          107               0.0        1        -1  \n",
       "3   Very Good    693          157               0.0        1        -1  \n",
       "4   Excellent    470          291               0.0        1        -1  \n",
       "5   Very Good    707           62               0.0       -1        -1  \n",
       "6   Very Good    647           46               0.0        1        -1  \n",
       "7        Good    617           18               0.0       -1        -1  \n",
       "8     Average    322           14               0.0        1        -1  \n",
       "9   Very Good    289          324               0.0        1        -1  \n",
       "\n",
       "[10 rows x 26 columns]"
      ]
     },
     "execution_count": 3,
     "metadata": {},
     "output_type": "execute_result"
    }
   ],
   "source": [
    "data.head(10)"
   ]
  },
  {
   "cell_type": "code",
   "execution_count": 4,
   "id": "c9aa4d3e",
   "metadata": {
    "papermill": {
     "duration": 0.066295,
     "end_time": "2023-01-17T09:39:53.546775",
     "exception": false,
     "start_time": "2023-01-17T09:39:53.480480",
     "status": "completed"
    },
    "tags": []
   },
   "outputs": [
    {
     "data": {
      "text/html": [
       "<div>\n",
       "<style scoped>\n",
       "    .dataframe tbody tr th:only-of-type {\n",
       "        vertical-align: middle;\n",
       "    }\n",
       "\n",
       "    .dataframe tbody tr th {\n",
       "        vertical-align: top;\n",
       "    }\n",
       "\n",
       "    .dataframe thead th {\n",
       "        text-align: right;\n",
       "    }\n",
       "</style>\n",
       "<table border=\"1\" class=\"dataframe\">\n",
       "  <thead>\n",
       "    <tr style=\"text-align: right;\">\n",
       "      <th></th>\n",
       "      <th>res_id</th>\n",
       "      <th>name</th>\n",
       "      <th>establishment</th>\n",
       "      <th>url</th>\n",
       "      <th>address</th>\n",
       "      <th>city</th>\n",
       "      <th>city_id</th>\n",
       "      <th>locality</th>\n",
       "      <th>latitude</th>\n",
       "      <th>longitude</th>\n",
       "      <th>...</th>\n",
       "      <th>price_range</th>\n",
       "      <th>currency</th>\n",
       "      <th>highlights</th>\n",
       "      <th>aggregate_rating</th>\n",
       "      <th>rating_text</th>\n",
       "      <th>votes</th>\n",
       "      <th>photo_count</th>\n",
       "      <th>opentable_support</th>\n",
       "      <th>delivery</th>\n",
       "      <th>takeaway</th>\n",
       "    </tr>\n",
       "  </thead>\n",
       "  <tbody>\n",
       "    <tr>\n",
       "      <th>211939</th>\n",
       "      <td>3202251</td>\n",
       "      <td>Kali Mirch Cafe And Restaurant</td>\n",
       "      <td>['Casual Dining']</td>\n",
       "      <td>https://www.zomato.com/vadodara/kali-mirch-caf...</td>\n",
       "      <td>Manu Smriti Complex, Near Navrachna School, GI...</td>\n",
       "      <td>Vadodara</td>\n",
       "      <td>32</td>\n",
       "      <td>Fatehgunj</td>\n",
       "      <td>22.336931</td>\n",
       "      <td>73.192356</td>\n",
       "      <td>...</td>\n",
       "      <td>2</td>\n",
       "      <td>Rs.</td>\n",
       "      <td>['Dinner', 'Cash', 'Lunch', 'Delivery', 'Indoo...</td>\n",
       "      <td>4.1</td>\n",
       "      <td>Very Good</td>\n",
       "      <td>243</td>\n",
       "      <td>40</td>\n",
       "      <td>0.0</td>\n",
       "      <td>-1</td>\n",
       "      <td>-1</td>\n",
       "    </tr>\n",
       "    <tr>\n",
       "      <th>211940</th>\n",
       "      <td>3200996</td>\n",
       "      <td>Raju Omlet</td>\n",
       "      <td>['Quick Bites']</td>\n",
       "      <td>https://www.zomato.com/vadodara/raju-omlet-kar...</td>\n",
       "      <td>Mahalaxmi Apartment, Opposite B O B, Karoli Ba...</td>\n",
       "      <td>Vadodara</td>\n",
       "      <td>32</td>\n",
       "      <td>Karelibaug</td>\n",
       "      <td>22.322455</td>\n",
       "      <td>73.197203</td>\n",
       "      <td>...</td>\n",
       "      <td>1</td>\n",
       "      <td>Rs.</td>\n",
       "      <td>['Dinner', 'Cash', 'Takeaway Available', 'Debi...</td>\n",
       "      <td>4.1</td>\n",
       "      <td>Very Good</td>\n",
       "      <td>187</td>\n",
       "      <td>40</td>\n",
       "      <td>0.0</td>\n",
       "      <td>1</td>\n",
       "      <td>-1</td>\n",
       "    </tr>\n",
       "    <tr>\n",
       "      <th>211941</th>\n",
       "      <td>18984164</td>\n",
       "      <td>The Grand Thakar</td>\n",
       "      <td>['Casual Dining']</td>\n",
       "      <td>https://www.zomato.com/vadodara/the-grand-thak...</td>\n",
       "      <td>3rd Floor, Shreem Shalini Mall, Opposite Conqu...</td>\n",
       "      <td>Vadodara</td>\n",
       "      <td>32</td>\n",
       "      <td>Alkapuri</td>\n",
       "      <td>22.310563</td>\n",
       "      <td>73.171163</td>\n",
       "      <td>...</td>\n",
       "      <td>2</td>\n",
       "      <td>Rs.</td>\n",
       "      <td>['Dinner', 'Cash', 'Debit Card', 'Lunch', 'Tak...</td>\n",
       "      <td>4.0</td>\n",
       "      <td>Very Good</td>\n",
       "      <td>111</td>\n",
       "      <td>38</td>\n",
       "      <td>0.0</td>\n",
       "      <td>-1</td>\n",
       "      <td>-1</td>\n",
       "    </tr>\n",
       "    <tr>\n",
       "      <th>211942</th>\n",
       "      <td>3201138</td>\n",
       "      <td>Subway</td>\n",
       "      <td>['Quick Bites']</td>\n",
       "      <td>https://www.zomato.com/vadodara/subway-1-akota...</td>\n",
       "      <td>G-2, Vedant Platina, Near Cosmos, Akota, Vadodara</td>\n",
       "      <td>Vadodara</td>\n",
       "      <td>32</td>\n",
       "      <td>Akota</td>\n",
       "      <td>22.270027</td>\n",
       "      <td>73.143068</td>\n",
       "      <td>...</td>\n",
       "      <td>2</td>\n",
       "      <td>Rs.</td>\n",
       "      <td>['Dinner', 'Delivery', 'Credit Card', 'Lunch',...</td>\n",
       "      <td>3.7</td>\n",
       "      <td>Good</td>\n",
       "      <td>128</td>\n",
       "      <td>34</td>\n",
       "      <td>0.0</td>\n",
       "      <td>1</td>\n",
       "      <td>-1</td>\n",
       "    </tr>\n",
       "    <tr>\n",
       "      <th>211943</th>\n",
       "      <td>18879846</td>\n",
       "      <td>Freshco's - The Health Cafe</td>\n",
       "      <td>['Café']</td>\n",
       "      <td>https://www.zomato.com/vadodara/freshcos-the-h...</td>\n",
       "      <td>Shop 7, Ground Floor, Opposite Natubhai Circle...</td>\n",
       "      <td>Vadodara</td>\n",
       "      <td>32</td>\n",
       "      <td>Vadiwadi</td>\n",
       "      <td>22.309935</td>\n",
       "      <td>73.158768</td>\n",
       "      <td>...</td>\n",
       "      <td>2</td>\n",
       "      <td>Rs.</td>\n",
       "      <td>['Dinner', 'Cash', 'Takeaway Available', 'Debi...</td>\n",
       "      <td>4.0</td>\n",
       "      <td>Very Good</td>\n",
       "      <td>93</td>\n",
       "      <td>53</td>\n",
       "      <td>0.0</td>\n",
       "      <td>1</td>\n",
       "      <td>-1</td>\n",
       "    </tr>\n",
       "  </tbody>\n",
       "</table>\n",
       "<p>5 rows × 26 columns</p>\n",
       "</div>"
      ],
      "text/plain": [
       "          res_id                            name      establishment  \\\n",
       "211939   3202251  Kali Mirch Cafe And Restaurant  ['Casual Dining']   \n",
       "211940   3200996                      Raju Omlet    ['Quick Bites']   \n",
       "211941  18984164                The Grand Thakar  ['Casual Dining']   \n",
       "211942   3201138                          Subway    ['Quick Bites']   \n",
       "211943  18879846     Freshco's - The Health Cafe           ['Café']   \n",
       "\n",
       "                                                      url  \\\n",
       "211939  https://www.zomato.com/vadodara/kali-mirch-caf...   \n",
       "211940  https://www.zomato.com/vadodara/raju-omlet-kar...   \n",
       "211941  https://www.zomato.com/vadodara/the-grand-thak...   \n",
       "211942  https://www.zomato.com/vadodara/subway-1-akota...   \n",
       "211943  https://www.zomato.com/vadodara/freshcos-the-h...   \n",
       "\n",
       "                                                  address      city  city_id  \\\n",
       "211939  Manu Smriti Complex, Near Navrachna School, GI...  Vadodara       32   \n",
       "211940  Mahalaxmi Apartment, Opposite B O B, Karoli Ba...  Vadodara       32   \n",
       "211941  3rd Floor, Shreem Shalini Mall, Opposite Conqu...  Vadodara       32   \n",
       "211942  G-2, Vedant Platina, Near Cosmos, Akota, Vadodara  Vadodara       32   \n",
       "211943  Shop 7, Ground Floor, Opposite Natubhai Circle...  Vadodara       32   \n",
       "\n",
       "          locality   latitude  longitude  ... price_range  currency  \\\n",
       "211939   Fatehgunj  22.336931  73.192356  ...           2       Rs.   \n",
       "211940  Karelibaug  22.322455  73.197203  ...           1       Rs.   \n",
       "211941    Alkapuri  22.310563  73.171163  ...           2       Rs.   \n",
       "211942       Akota  22.270027  73.143068  ...           2       Rs.   \n",
       "211943    Vadiwadi  22.309935  73.158768  ...           2       Rs.   \n",
       "\n",
       "                                               highlights aggregate_rating  \\\n",
       "211939  ['Dinner', 'Cash', 'Lunch', 'Delivery', 'Indoo...              4.1   \n",
       "211940  ['Dinner', 'Cash', 'Takeaway Available', 'Debi...              4.1   \n",
       "211941  ['Dinner', 'Cash', 'Debit Card', 'Lunch', 'Tak...              4.0   \n",
       "211942  ['Dinner', 'Delivery', 'Credit Card', 'Lunch',...              3.7   \n",
       "211943  ['Dinner', 'Cash', 'Takeaway Available', 'Debi...              4.0   \n",
       "\n",
       "       rating_text  votes  photo_count opentable_support delivery  takeaway  \n",
       "211939   Very Good    243           40               0.0       -1        -1  \n",
       "211940   Very Good    187           40               0.0        1        -1  \n",
       "211941   Very Good    111           38               0.0       -1        -1  \n",
       "211942        Good    128           34               0.0        1        -1  \n",
       "211943   Very Good     93           53               0.0        1        -1  \n",
       "\n",
       "[5 rows x 26 columns]"
      ]
     },
     "execution_count": 4,
     "metadata": {},
     "output_type": "execute_result"
    }
   ],
   "source": [
    "data.tail()"
   ]
  },
  {
   "cell_type": "code",
   "execution_count": 5,
   "id": "cbf901ff",
   "metadata": {
    "papermill": {
     "duration": 0.063809,
     "end_time": "2023-01-17T09:39:53.639726",
     "exception": false,
     "start_time": "2023-01-17T09:39:53.575917",
     "status": "completed"
    },
    "tags": []
   },
   "outputs": [
    {
     "data": {
      "text/plain": [
       "99"
      ]
     },
     "execution_count": 5,
     "metadata": {},
     "output_type": "execute_result"
    }
   ],
   "source": [
    "data.city.nunique()"
   ]
  },
  {
   "cell_type": "code",
   "execution_count": 6,
   "id": "69fc5743",
   "metadata": {
    "papermill": {
     "duration": 0.058162,
     "end_time": "2023-01-17T09:39:53.726753",
     "exception": false,
     "start_time": "2023-01-17T09:39:53.668591",
     "status": "completed"
    },
    "tags": []
   },
   "outputs": [
    {
     "data": {
      "text/plain": [
       "array(['Agra', 'Ahmedabad', 'Gandhinagar', 'Ajmer', 'Alappuzha',\n",
       "       'Allahabad', 'Amravati', 'Amritsar', 'Aurangabad', 'Bangalore',\n",
       "       'Bhopal', 'Bhubaneshwar', 'Chandigarh', 'Mohali', 'Panchkula',\n",
       "       'Zirakpur', 'Nayagaon', 'Chennai', 'Coimbatore', 'Cuttack',\n",
       "       'Darjeeling', 'Dehradun', 'New Delhi', 'Gurgaon', 'Noida',\n",
       "       'Faridabad', 'Ghaziabad', 'Greater Noida', 'Dharamshala',\n",
       "       'Gangtok', 'Goa', 'Gorakhpur', 'Guntur', 'Guwahati', 'Gwalior',\n",
       "       'Haridwar', 'Hyderabad', 'Secunderabad', 'Indore', 'Jabalpur',\n",
       "       'Jaipur', 'Jalandhar', 'Jammu', 'Jamnagar', 'Jamshedpur', 'Jhansi',\n",
       "       'Jodhpur', 'Junagadh', 'Kanpur', 'Kharagpur', 'Kochi', 'Kolhapur',\n",
       "       'Kolkata', 'Howrah', 'Kota', 'Lucknow', 'Ludhiana', 'Madurai',\n",
       "       'Manali', 'Mangalore', 'Manipal', 'Udupi', 'Meerut', 'Mumbai',\n",
       "       'Thane', 'Navi Mumbai', 'Mussoorie', 'Mysore', 'Nagpur',\n",
       "       'Nainital', 'Nasik', 'Nashik', 'Neemrana', 'Ooty', 'Palakkad',\n",
       "       'Patiala', 'Patna', 'Puducherry', 'Pune', 'Pushkar', 'Raipur',\n",
       "       'Rajkot', 'Ranchi', 'Rishikesh', 'Salem', 'Shimla', 'Siliguri',\n",
       "       'Srinagar', 'Surat', 'Thrissur', 'Tirupati', 'Trichy',\n",
       "       'Trivandrum', 'Udaipur', 'Varanasi', 'Vellore', 'Vijayawada',\n",
       "       'Vizag', 'Vadodara'], dtype=object)"
      ]
     },
     "execution_count": 6,
     "metadata": {},
     "output_type": "execute_result"
    }
   ],
   "source": [
    "data.city.unique()"
   ]
  },
  {
   "cell_type": "code",
   "execution_count": 7,
   "id": "aa3348ce",
   "metadata": {
    "papermill": {
     "duration": 0.093651,
     "end_time": "2023-01-17T09:39:53.849429",
     "exception": false,
     "start_time": "2023-01-17T09:39:53.755778",
     "status": "completed"
    },
    "tags": []
   },
   "outputs": [
    {
     "data": {
      "text/html": [
       "<div>\n",
       "<style scoped>\n",
       "    .dataframe tbody tr th:only-of-type {\n",
       "        vertical-align: middle;\n",
       "    }\n",
       "\n",
       "    .dataframe tbody tr th {\n",
       "        vertical-align: top;\n",
       "    }\n",
       "\n",
       "    .dataframe thead th {\n",
       "        text-align: right;\n",
       "    }\n",
       "</style>\n",
       "<table border=\"1\" class=\"dataframe\">\n",
       "  <thead>\n",
       "    <tr style=\"text-align: right;\">\n",
       "      <th></th>\n",
       "      <th>res_id</th>\n",
       "      <th>name</th>\n",
       "      <th>establishment</th>\n",
       "      <th>url</th>\n",
       "      <th>address</th>\n",
       "      <th>city</th>\n",
       "      <th>city_id</th>\n",
       "      <th>locality</th>\n",
       "      <th>latitude</th>\n",
       "      <th>longitude</th>\n",
       "      <th>...</th>\n",
       "      <th>price_range</th>\n",
       "      <th>currency</th>\n",
       "      <th>highlights</th>\n",
       "      <th>aggregate_rating</th>\n",
       "      <th>rating_text</th>\n",
       "      <th>votes</th>\n",
       "      <th>photo_count</th>\n",
       "      <th>opentable_support</th>\n",
       "      <th>delivery</th>\n",
       "      <th>takeaway</th>\n",
       "    </tr>\n",
       "  </thead>\n",
       "  <tbody>\n",
       "    <tr>\n",
       "      <th>134852</th>\n",
       "      <td>18562340</td>\n",
       "      <td>Drinkery 51</td>\n",
       "      <td>['Casual Dining']</td>\n",
       "      <td>https://www.zomato.com/mumbai/drinkery-51-band...</td>\n",
       "      <td>1st Floor, Vibgyor Towers, Bandra Kurla Comple...</td>\n",
       "      <td>Mumbai</td>\n",
       "      <td>3</td>\n",
       "      <td>Bandra Kurla Complex</td>\n",
       "      <td>19.067176</td>\n",
       "      <td>72.867493</td>\n",
       "      <td>...</td>\n",
       "      <td>4</td>\n",
       "      <td>Rs.</td>\n",
       "      <td>['Dinner', 'Debit Card', 'Lunch', 'Serves Alco...</td>\n",
       "      <td>4.4</td>\n",
       "      <td>Very Good</td>\n",
       "      <td>3796</td>\n",
       "      <td>1897</td>\n",
       "      <td>0.0</td>\n",
       "      <td>1</td>\n",
       "      <td>-1</td>\n",
       "    </tr>\n",
       "    <tr>\n",
       "      <th>134853</th>\n",
       "      <td>34757</td>\n",
       "      <td>Joey's Pizza</td>\n",
       "      <td>['Quick Bites']</td>\n",
       "      <td>https://www.zomato.com/mumbai/joeys-pizza-mala...</td>\n",
       "      <td>Shop 1, Plot D, Samruddhi Complex, Chincholi B...</td>\n",
       "      <td>Mumbai</td>\n",
       "      <td>3</td>\n",
       "      <td>Malad West</td>\n",
       "      <td>19.178188</td>\n",
       "      <td>72.834666</td>\n",
       "      <td>...</td>\n",
       "      <td>2</td>\n",
       "      <td>Rs.</td>\n",
       "      <td>['Lunch', 'Cash', 'Takeaway Available', 'Debit...</td>\n",
       "      <td>4.5</td>\n",
       "      <td>Excellent</td>\n",
       "      <td>7932</td>\n",
       "      <td>4960</td>\n",
       "      <td>0.0</td>\n",
       "      <td>-1</td>\n",
       "      <td>-1</td>\n",
       "    </tr>\n",
       "    <tr>\n",
       "      <th>134854</th>\n",
       "      <td>18548172</td>\n",
       "      <td>Hitchki</td>\n",
       "      <td>['Bar']</td>\n",
       "      <td>https://www.zomato.com/mumbai/hitchki-powai?ut...</td>\n",
       "      <td>5, Transocean, Hiranandani Business Park, Lake...</td>\n",
       "      <td>Mumbai</td>\n",
       "      <td>3</td>\n",
       "      <td>Powai</td>\n",
       "      <td>19.119930</td>\n",
       "      <td>72.907331</td>\n",
       "      <td>...</td>\n",
       "      <td>3</td>\n",
       "      <td>Rs.</td>\n",
       "      <td>['Lunch', 'Serves Alcohol', 'Cash', 'Credit Ca...</td>\n",
       "      <td>4.7</td>\n",
       "      <td>Excellent</td>\n",
       "      <td>3762</td>\n",
       "      <td>12979</td>\n",
       "      <td>0.0</td>\n",
       "      <td>1</td>\n",
       "      <td>-1</td>\n",
       "    </tr>\n",
       "    <tr>\n",
       "      <th>134855</th>\n",
       "      <td>18392725</td>\n",
       "      <td>Tamasha</td>\n",
       "      <td>['Lounge']</td>\n",
       "      <td>https://www.zomato.com/mumbai/tamasha-lower-pa...</td>\n",
       "      <td>Ground Floor, Victoria House, E.B Marg, Lower ...</td>\n",
       "      <td>Mumbai</td>\n",
       "      <td>3</td>\n",
       "      <td>Lower Parel</td>\n",
       "      <td>19.006060</td>\n",
       "      <td>72.827496</td>\n",
       "      <td>...</td>\n",
       "      <td>4</td>\n",
       "      <td>Rs.</td>\n",
       "      <td>['Dinner', 'Cash', 'Takeaway Available', 'Cred...</td>\n",
       "      <td>4.7</td>\n",
       "      <td>Excellent</td>\n",
       "      <td>4979</td>\n",
       "      <td>16595</td>\n",
       "      <td>0.0</td>\n",
       "      <td>-1</td>\n",
       "      <td>-1</td>\n",
       "    </tr>\n",
       "    <tr>\n",
       "      <th>134856</th>\n",
       "      <td>18962112</td>\n",
       "      <td>Bayroute</td>\n",
       "      <td>['Fine Dining']</td>\n",
       "      <td>https://www.zomato.com/mumbai/bayroute-juhu?ut...</td>\n",
       "      <td>14, Silver Beach Estate, A.B. Nair Road, Oppos...</td>\n",
       "      <td>Mumbai</td>\n",
       "      <td>3</td>\n",
       "      <td>Juhu</td>\n",
       "      <td>19.110684</td>\n",
       "      <td>72.825368</td>\n",
       "      <td>...</td>\n",
       "      <td>4</td>\n",
       "      <td>Rs.</td>\n",
       "      <td>['Dinner', 'Cash', 'Takeaway Available', 'Debi...</td>\n",
       "      <td>4.9</td>\n",
       "      <td>Excellent</td>\n",
       "      <td>706</td>\n",
       "      <td>2484</td>\n",
       "      <td>0.0</td>\n",
       "      <td>-1</td>\n",
       "      <td>-1</td>\n",
       "    </tr>\n",
       "    <tr>\n",
       "      <th>...</th>\n",
       "      <td>...</td>\n",
       "      <td>...</td>\n",
       "      <td>...</td>\n",
       "      <td>...</td>\n",
       "      <td>...</td>\n",
       "      <td>...</td>\n",
       "      <td>...</td>\n",
       "      <td>...</td>\n",
       "      <td>...</td>\n",
       "      <td>...</td>\n",
       "      <td>...</td>\n",
       "      <td>...</td>\n",
       "      <td>...</td>\n",
       "      <td>...</td>\n",
       "      <td>...</td>\n",
       "      <td>...</td>\n",
       "      <td>...</td>\n",
       "      <td>...</td>\n",
       "      <td>...</td>\n",
       "      <td>...</td>\n",
       "      <td>...</td>\n",
       "    </tr>\n",
       "    <tr>\n",
       "      <th>142348</th>\n",
       "      <td>46792</td>\n",
       "      <td>BOX8- Desi Meals</td>\n",
       "      <td>[]</td>\n",
       "      <td>https://www.zomato.com/mumbai/box8-desi-meals-...</td>\n",
       "      <td>102, Bhavani Industrial Estate, Opposite IIT B...</td>\n",
       "      <td>Mumbai</td>\n",
       "      <td>3</td>\n",
       "      <td>Powai</td>\n",
       "      <td>19.124284</td>\n",
       "      <td>72.914877</td>\n",
       "      <td>...</td>\n",
       "      <td>1</td>\n",
       "      <td>Rs.</td>\n",
       "      <td>['Cash', 'Debit Card', 'Takeaway Available', '...</td>\n",
       "      <td>4.0</td>\n",
       "      <td>Very Good</td>\n",
       "      <td>726</td>\n",
       "      <td>703</td>\n",
       "      <td>0.0</td>\n",
       "      <td>1</td>\n",
       "      <td>-1</td>\n",
       "    </tr>\n",
       "    <tr>\n",
       "      <th>142349</th>\n",
       "      <td>37750</td>\n",
       "      <td>Faasos</td>\n",
       "      <td>['Quick Bites']</td>\n",
       "      <td>https://www.zomato.com/mumbai/faasos-veera-des...</td>\n",
       "      <td>Shop 06, Building 2, Pramukh Park Rehab CHS Li...</td>\n",
       "      <td>Mumbai</td>\n",
       "      <td>3</td>\n",
       "      <td>Veera Desai Area</td>\n",
       "      <td>19.139601</td>\n",
       "      <td>72.833119</td>\n",
       "      <td>...</td>\n",
       "      <td>1</td>\n",
       "      <td>Rs.</td>\n",
       "      <td>['Dinner', 'Cash', 'Takeaway Available', 'Debi...</td>\n",
       "      <td>3.9</td>\n",
       "      <td>Good</td>\n",
       "      <td>510</td>\n",
       "      <td>251</td>\n",
       "      <td>0.0</td>\n",
       "      <td>1</td>\n",
       "      <td>-1</td>\n",
       "    </tr>\n",
       "    <tr>\n",
       "      <th>142350</th>\n",
       "      <td>18165909</td>\n",
       "      <td>Charcoal Eats Express</td>\n",
       "      <td>['Quick Bites']</td>\n",
       "      <td>https://www.zomato.com/mumbai/charcoal-eats-ex...</td>\n",
       "      <td>Opposite Kamala Mills, Lower Parel, Mumbai</td>\n",
       "      <td>Mumbai</td>\n",
       "      <td>3</td>\n",
       "      <td>Lower Parel</td>\n",
       "      <td>19.002537</td>\n",
       "      <td>72.829391</td>\n",
       "      <td>...</td>\n",
       "      <td>2</td>\n",
       "      <td>Rs.</td>\n",
       "      <td>['Lunch', 'Cash', 'Credit Card', 'Dinner', 'St...</td>\n",
       "      <td>4.0</td>\n",
       "      <td>Very Good</td>\n",
       "      <td>491</td>\n",
       "      <td>344</td>\n",
       "      <td>0.0</td>\n",
       "      <td>-1</td>\n",
       "      <td>-1</td>\n",
       "    </tr>\n",
       "    <tr>\n",
       "      <th>142351</th>\n",
       "      <td>18306481</td>\n",
       "      <td>Wok Express</td>\n",
       "      <td>['Food Court']</td>\n",
       "      <td>https://www.zomato.com/mumbai/wok-express-1-an...</td>\n",
       "      <td>Food Court, 2nd Floor, Infinity Mall, Unit 215...</td>\n",
       "      <td>Mumbai</td>\n",
       "      <td>3</td>\n",
       "      <td>Infiniti Mall, Andheri Lokhandwala, Andheri West</td>\n",
       "      <td>19.141117</td>\n",
       "      <td>72.831181</td>\n",
       "      <td>...</td>\n",
       "      <td>2</td>\n",
       "      <td>Rs.</td>\n",
       "      <td>['No Alcohol Available', 'Dinner', 'Mall Parki...</td>\n",
       "      <td>3.7</td>\n",
       "      <td>Good</td>\n",
       "      <td>515</td>\n",
       "      <td>490</td>\n",
       "      <td>0.0</td>\n",
       "      <td>-1</td>\n",
       "      <td>-1</td>\n",
       "    </tr>\n",
       "    <tr>\n",
       "      <th>142352</th>\n",
       "      <td>18140577</td>\n",
       "      <td>Rasoi Thali</td>\n",
       "      <td>['Quick Bites']</td>\n",
       "      <td>https://www.zomato.com/mumbai/rasoi-thali-mulu...</td>\n",
       "      <td>Shop 5, Bhodke Building, Near Hanuman Mandir, ...</td>\n",
       "      <td>Mumbai</td>\n",
       "      <td>3</td>\n",
       "      <td>Mulund West</td>\n",
       "      <td>19.172657</td>\n",
       "      <td>72.956466</td>\n",
       "      <td>...</td>\n",
       "      <td>1</td>\n",
       "      <td>Rs.</td>\n",
       "      <td>['Lunch', 'Cash', 'Debit Card', 'Dinner', 'Tak...</td>\n",
       "      <td>3.9</td>\n",
       "      <td>Good</td>\n",
       "      <td>142</td>\n",
       "      <td>34</td>\n",
       "      <td>0.0</td>\n",
       "      <td>-1</td>\n",
       "      <td>-1</td>\n",
       "    </tr>\n",
       "  </tbody>\n",
       "</table>\n",
       "<p>6497 rows × 26 columns</p>\n",
       "</div>"
      ],
      "text/plain": [
       "          res_id                   name      establishment  \\\n",
       "134852  18562340            Drinkery 51  ['Casual Dining']   \n",
       "134853     34757           Joey's Pizza    ['Quick Bites']   \n",
       "134854  18548172                Hitchki            ['Bar']   \n",
       "134855  18392725                Tamasha         ['Lounge']   \n",
       "134856  18962112               Bayroute    ['Fine Dining']   \n",
       "...          ...                    ...                ...   \n",
       "142348     46792       BOX8- Desi Meals                 []   \n",
       "142349     37750                 Faasos    ['Quick Bites']   \n",
       "142350  18165909  Charcoal Eats Express    ['Quick Bites']   \n",
       "142351  18306481            Wok Express     ['Food Court']   \n",
       "142352  18140577            Rasoi Thali    ['Quick Bites']   \n",
       "\n",
       "                                                      url  \\\n",
       "134852  https://www.zomato.com/mumbai/drinkery-51-band...   \n",
       "134853  https://www.zomato.com/mumbai/joeys-pizza-mala...   \n",
       "134854  https://www.zomato.com/mumbai/hitchki-powai?ut...   \n",
       "134855  https://www.zomato.com/mumbai/tamasha-lower-pa...   \n",
       "134856  https://www.zomato.com/mumbai/bayroute-juhu?ut...   \n",
       "...                                                   ...   \n",
       "142348  https://www.zomato.com/mumbai/box8-desi-meals-...   \n",
       "142349  https://www.zomato.com/mumbai/faasos-veera-des...   \n",
       "142350  https://www.zomato.com/mumbai/charcoal-eats-ex...   \n",
       "142351  https://www.zomato.com/mumbai/wok-express-1-an...   \n",
       "142352  https://www.zomato.com/mumbai/rasoi-thali-mulu...   \n",
       "\n",
       "                                                  address    city  city_id  \\\n",
       "134852  1st Floor, Vibgyor Towers, Bandra Kurla Comple...  Mumbai        3   \n",
       "134853  Shop 1, Plot D, Samruddhi Complex, Chincholi B...  Mumbai        3   \n",
       "134854  5, Transocean, Hiranandani Business Park, Lake...  Mumbai        3   \n",
       "134855  Ground Floor, Victoria House, E.B Marg, Lower ...  Mumbai        3   \n",
       "134856  14, Silver Beach Estate, A.B. Nair Road, Oppos...  Mumbai        3   \n",
       "...                                                   ...     ...      ...   \n",
       "142348  102, Bhavani Industrial Estate, Opposite IIT B...  Mumbai        3   \n",
       "142349  Shop 06, Building 2, Pramukh Park Rehab CHS Li...  Mumbai        3   \n",
       "142350         Opposite Kamala Mills, Lower Parel, Mumbai  Mumbai        3   \n",
       "142351  Food Court, 2nd Floor, Infinity Mall, Unit 215...  Mumbai        3   \n",
       "142352  Shop 5, Bhodke Building, Near Hanuman Mandir, ...  Mumbai        3   \n",
       "\n",
       "                                                locality   latitude  \\\n",
       "134852                              Bandra Kurla Complex  19.067176   \n",
       "134853                                        Malad West  19.178188   \n",
       "134854                                             Powai  19.119930   \n",
       "134855                                       Lower Parel  19.006060   \n",
       "134856                                              Juhu  19.110684   \n",
       "...                                                  ...        ...   \n",
       "142348                                             Powai  19.124284   \n",
       "142349                                  Veera Desai Area  19.139601   \n",
       "142350                                       Lower Parel  19.002537   \n",
       "142351  Infiniti Mall, Andheri Lokhandwala, Andheri West  19.141117   \n",
       "142352                                       Mulund West  19.172657   \n",
       "\n",
       "        longitude  ... price_range  currency  \\\n",
       "134852  72.867493  ...           4       Rs.   \n",
       "134853  72.834666  ...           2       Rs.   \n",
       "134854  72.907331  ...           3       Rs.   \n",
       "134855  72.827496  ...           4       Rs.   \n",
       "134856  72.825368  ...           4       Rs.   \n",
       "...           ...  ...         ...       ...   \n",
       "142348  72.914877  ...           1       Rs.   \n",
       "142349  72.833119  ...           1       Rs.   \n",
       "142350  72.829391  ...           2       Rs.   \n",
       "142351  72.831181  ...           2       Rs.   \n",
       "142352  72.956466  ...           1       Rs.   \n",
       "\n",
       "                                               highlights aggregate_rating  \\\n",
       "134852  ['Dinner', 'Debit Card', 'Lunch', 'Serves Alco...              4.4   \n",
       "134853  ['Lunch', 'Cash', 'Takeaway Available', 'Debit...              4.5   \n",
       "134854  ['Lunch', 'Serves Alcohol', 'Cash', 'Credit Ca...              4.7   \n",
       "134855  ['Dinner', 'Cash', 'Takeaway Available', 'Cred...              4.7   \n",
       "134856  ['Dinner', 'Cash', 'Takeaway Available', 'Debi...              4.9   \n",
       "...                                                   ...              ...   \n",
       "142348  ['Cash', 'Debit Card', 'Takeaway Available', '...              4.0   \n",
       "142349  ['Dinner', 'Cash', 'Takeaway Available', 'Debi...              3.9   \n",
       "142350  ['Lunch', 'Cash', 'Credit Card', 'Dinner', 'St...              4.0   \n",
       "142351  ['No Alcohol Available', 'Dinner', 'Mall Parki...              3.7   \n",
       "142352  ['Lunch', 'Cash', 'Debit Card', 'Dinner', 'Tak...              3.9   \n",
       "\n",
       "       rating_text  votes  photo_count opentable_support delivery  takeaway  \n",
       "134852   Very Good   3796         1897               0.0        1        -1  \n",
       "134853   Excellent   7932         4960               0.0       -1        -1  \n",
       "134854   Excellent   3762        12979               0.0        1        -1  \n",
       "134855   Excellent   4979        16595               0.0       -1        -1  \n",
       "134856   Excellent    706         2484               0.0       -1        -1  \n",
       "...            ...    ...          ...               ...      ...       ...  \n",
       "142348   Very Good    726          703               0.0        1        -1  \n",
       "142349        Good    510          251               0.0        1        -1  \n",
       "142350   Very Good    491          344               0.0       -1        -1  \n",
       "142351        Good    515          490               0.0       -1        -1  \n",
       "142352        Good    142           34               0.0       -1        -1  \n",
       "\n",
       "[6497 rows x 26 columns]"
      ]
     },
     "execution_count": 7,
     "metadata": {},
     "output_type": "execute_result"
    }
   ],
   "source": [
    "data[data[\"city\"]==\"Mumbai\"]"
   ]
  },
  {
   "cell_type": "code",
   "execution_count": null,
   "id": "3753dffd",
   "metadata": {
    "papermill": {
     "duration": 0.029844,
     "end_time": "2023-01-17T09:39:53.909191",
     "exception": false,
     "start_time": "2023-01-17T09:39:53.879347",
     "status": "completed"
    },
    "tags": []
   },
   "outputs": [],
   "source": []
  },
  {
   "cell_type": "code",
   "execution_count": 8,
   "id": "43010863",
   "metadata": {
    "papermill": {
     "duration": 0.092283,
     "end_time": "2023-01-17T09:39:54.032288",
     "exception": false,
     "start_time": "2023-01-17T09:39:53.940005",
     "status": "completed"
    },
    "tags": []
   },
   "outputs": [
    {
     "data": {
      "text/html": [
       "<div>\n",
       "<style scoped>\n",
       "    .dataframe tbody tr th:only-of-type {\n",
       "        vertical-align: middle;\n",
       "    }\n",
       "\n",
       "    .dataframe tbody tr th {\n",
       "        vertical-align: top;\n",
       "    }\n",
       "\n",
       "    .dataframe thead th {\n",
       "        text-align: right;\n",
       "    }\n",
       "</style>\n",
       "<table border=\"1\" class=\"dataframe\">\n",
       "  <thead>\n",
       "    <tr style=\"text-align: right;\">\n",
       "      <th></th>\n",
       "      <th>res_id</th>\n",
       "      <th>name</th>\n",
       "      <th>establishment</th>\n",
       "      <th>url</th>\n",
       "      <th>address</th>\n",
       "      <th>city</th>\n",
       "      <th>city_id</th>\n",
       "      <th>locality</th>\n",
       "      <th>latitude</th>\n",
       "      <th>longitude</th>\n",
       "      <th>...</th>\n",
       "      <th>price_range</th>\n",
       "      <th>currency</th>\n",
       "      <th>highlights</th>\n",
       "      <th>aggregate_rating</th>\n",
       "      <th>rating_text</th>\n",
       "      <th>votes</th>\n",
       "      <th>photo_count</th>\n",
       "      <th>opentable_support</th>\n",
       "      <th>delivery</th>\n",
       "      <th>takeaway</th>\n",
       "    </tr>\n",
       "  </thead>\n",
       "  <tbody>\n",
       "    <tr>\n",
       "      <th>53884</th>\n",
       "      <td>18895645</td>\n",
       "      <td>Plum By Bent Chair</td>\n",
       "      <td>['Casual Dining']</td>\n",
       "      <td>https://www.zomato.com/ncr/plum-by-bent-chair-...</td>\n",
       "      <td>The Walk, Worldmark 2, Aerocity, New Delhi</td>\n",
       "      <td>New Delhi</td>\n",
       "      <td>1</td>\n",
       "      <td>Aerocity</td>\n",
       "      <td>28.551540</td>\n",
       "      <td>77.122704</td>\n",
       "      <td>...</td>\n",
       "      <td>1</td>\n",
       "      <td>Rs.</td>\n",
       "      <td>['Debit Card', 'Dinner', 'Cash', 'Credit Card'...</td>\n",
       "      <td>4.9</td>\n",
       "      <td>Excellent</td>\n",
       "      <td>1545</td>\n",
       "      <td>4321</td>\n",
       "      <td>0.0</td>\n",
       "      <td>-1</td>\n",
       "      <td>-1</td>\n",
       "    </tr>\n",
       "    <tr>\n",
       "      <th>53885</th>\n",
       "      <td>18429148</td>\n",
       "      <td>Pa Pa Ya</td>\n",
       "      <td>['Fine Dining']</td>\n",
       "      <td>https://www.zomato.com/ncr/pa-pa-ya-saket-new-...</td>\n",
       "      <td>Dome, Level 4, Select Citywalk, A-3, District ...</td>\n",
       "      <td>New Delhi</td>\n",
       "      <td>1</td>\n",
       "      <td>Select Citywalk Mall, Saket</td>\n",
       "      <td>28.528391</td>\n",
       "      <td>77.218611</td>\n",
       "      <td>...</td>\n",
       "      <td>4</td>\n",
       "      <td>Rs.</td>\n",
       "      <td>['Credit Card', 'Debit Card', 'Lunch', 'Serves...</td>\n",
       "      <td>4.7</td>\n",
       "      <td>Excellent</td>\n",
       "      <td>3234</td>\n",
       "      <td>8344</td>\n",
       "      <td>0.0</td>\n",
       "      <td>-1</td>\n",
       "      <td>-1</td>\n",
       "    </tr>\n",
       "    <tr>\n",
       "      <th>53886</th>\n",
       "      <td>18418277</td>\n",
       "      <td>Ministry Of Beer</td>\n",
       "      <td>['Lounge']</td>\n",
       "      <td>https://www.zomato.com/ncr/ministry-of-beer-co...</td>\n",
       "      <td>M 44, Outer Circle, Connaught Place, New Delhi</td>\n",
       "      <td>New Delhi</td>\n",
       "      <td>1</td>\n",
       "      <td>Connaught Place</td>\n",
       "      <td>28.633286</td>\n",
       "      <td>77.222787</td>\n",
       "      <td>...</td>\n",
       "      <td>3</td>\n",
       "      <td>Rs.</td>\n",
       "      <td>['Lunch', 'Credit Card', 'Dinner', 'Cash', 'De...</td>\n",
       "      <td>4.5</td>\n",
       "      <td>Excellent</td>\n",
       "      <td>3043</td>\n",
       "      <td>9984</td>\n",
       "      <td>0.0</td>\n",
       "      <td>-1</td>\n",
       "      <td>-1</td>\n",
       "    </tr>\n",
       "    <tr>\n",
       "      <th>53887</th>\n",
       "      <td>18625812</td>\n",
       "      <td>Detroit</td>\n",
       "      <td>['Bar']</td>\n",
       "      <td>https://www.zomato.com/ncr/detroit-connaught-p...</td>\n",
       "      <td>F40, 2nd Floor, Inner Circle, \\nConnaught Plac...</td>\n",
       "      <td>New Delhi</td>\n",
       "      <td>1</td>\n",
       "      <td>Connaught Place</td>\n",
       "      <td>28.631357</td>\n",
       "      <td>77.220251</td>\n",
       "      <td>...</td>\n",
       "      <td>3</td>\n",
       "      <td>Rs.</td>\n",
       "      <td>['Lunch', 'Serves Alcohol', 'Takeaway Availabl...</td>\n",
       "      <td>4.6</td>\n",
       "      <td>Excellent</td>\n",
       "      <td>1327</td>\n",
       "      <td>3255</td>\n",
       "      <td>0.0</td>\n",
       "      <td>-1</td>\n",
       "      <td>-1</td>\n",
       "    </tr>\n",
       "    <tr>\n",
       "      <th>53888</th>\n",
       "      <td>18423151</td>\n",
       "      <td>The Darzi Bar &amp; Kitchen</td>\n",
       "      <td>['Casual Dining']</td>\n",
       "      <td>https://www.zomato.com/TheDarziBar?utm_source=...</td>\n",
       "      <td>H 55, 1st Floor, Outer Circle, Connaught Place...</td>\n",
       "      <td>New Delhi</td>\n",
       "      <td>1</td>\n",
       "      <td>Connaught Place</td>\n",
       "      <td>28.635508</td>\n",
       "      <td>77.219096</td>\n",
       "      <td>...</td>\n",
       "      <td>3</td>\n",
       "      <td>Rs.</td>\n",
       "      <td>['Lunch', 'Serves Alcohol', 'Cash', 'Credit Ca...</td>\n",
       "      <td>4.3</td>\n",
       "      <td>Very Good</td>\n",
       "      <td>3211</td>\n",
       "      <td>9618</td>\n",
       "      <td>0.0</td>\n",
       "      <td>-1</td>\n",
       "      <td>-1</td>\n",
       "    </tr>\n",
       "    <tr>\n",
       "      <th>...</th>\n",
       "      <td>...</td>\n",
       "      <td>...</td>\n",
       "      <td>...</td>\n",
       "      <td>...</td>\n",
       "      <td>...</td>\n",
       "      <td>...</td>\n",
       "      <td>...</td>\n",
       "      <td>...</td>\n",
       "      <td>...</td>\n",
       "      <td>...</td>\n",
       "      <td>...</td>\n",
       "      <td>...</td>\n",
       "      <td>...</td>\n",
       "      <td>...</td>\n",
       "      <td>...</td>\n",
       "      <td>...</td>\n",
       "      <td>...</td>\n",
       "      <td>...</td>\n",
       "      <td>...</td>\n",
       "      <td>...</td>\n",
       "      <td>...</td>\n",
       "    </tr>\n",
       "    <tr>\n",
       "      <th>59842</th>\n",
       "      <td>18372693</td>\n",
       "      <td>Three Tuns Cafe &amp; Bar</td>\n",
       "      <td>['Casual Dining']</td>\n",
       "      <td>https://www.zomato.com/ncr/three-tuns-cafe-bar...</td>\n",
       "      <td>2nd Floor, Unity One Mall, Near Janak Puri Wes...</td>\n",
       "      <td>New Delhi</td>\n",
       "      <td>1</td>\n",
       "      <td>Unity One Mall, Janakpuri</td>\n",
       "      <td>28.628702</td>\n",
       "      <td>77.076617</td>\n",
       "      <td>...</td>\n",
       "      <td>3</td>\n",
       "      <td>Rs.</td>\n",
       "      <td>['Debit Card', 'Takeaway Available', 'Dinner',...</td>\n",
       "      <td>4.4</td>\n",
       "      <td>Very Good</td>\n",
       "      <td>975</td>\n",
       "      <td>3139</td>\n",
       "      <td>0.0</td>\n",
       "      <td>-1</td>\n",
       "      <td>-1</td>\n",
       "    </tr>\n",
       "    <tr>\n",
       "      <th>59843</th>\n",
       "      <td>18523131</td>\n",
       "      <td>Too Indian</td>\n",
       "      <td>['Casual Dining']</td>\n",
       "      <td>https://www.zomato.com/ncr/too-indian-rajouri-...</td>\n",
       "      <td>A 39, Vishal Enclave, Rajouri Garden, New Delhi</td>\n",
       "      <td>New Delhi</td>\n",
       "      <td>1</td>\n",
       "      <td>Rajouri Garden</td>\n",
       "      <td>28.650466</td>\n",
       "      <td>77.120146</td>\n",
       "      <td>...</td>\n",
       "      <td>3</td>\n",
       "      <td>Rs.</td>\n",
       "      <td>['Lunch', 'Delivery', 'Credit Card', 'Dinner',...</td>\n",
       "      <td>4.0</td>\n",
       "      <td>Very Good</td>\n",
       "      <td>2037</td>\n",
       "      <td>7311</td>\n",
       "      <td>0.0</td>\n",
       "      <td>-1</td>\n",
       "      <td>-1</td>\n",
       "    </tr>\n",
       "    <tr>\n",
       "      <th>59844</th>\n",
       "      <td>307060</td>\n",
       "      <td>The Beer Cafe - BIGGIE</td>\n",
       "      <td>['Bar']</td>\n",
       "      <td>https://www.zomato.com/ncr/the-beer-cafe-biggi...</td>\n",
       "      <td>D-2, Inner Circle, Connaught Place, New Delhi</td>\n",
       "      <td>New Delhi</td>\n",
       "      <td>1</td>\n",
       "      <td>Connaught Place</td>\n",
       "      <td>28.633842</td>\n",
       "      <td>77.220804</td>\n",
       "      <td>...</td>\n",
       "      <td>3</td>\n",
       "      <td>Rs.</td>\n",
       "      <td>['Lunch', 'Serves Alcohol', 'Credit Card', 'Di...</td>\n",
       "      <td>4.1</td>\n",
       "      <td>Very Good</td>\n",
       "      <td>1609</td>\n",
       "      <td>1120</td>\n",
       "      <td>0.0</td>\n",
       "      <td>-1</td>\n",
       "      <td>-1</td>\n",
       "    </tr>\n",
       "    <tr>\n",
       "      <th>59845</th>\n",
       "      <td>18500611</td>\n",
       "      <td>Sixth Empirica</td>\n",
       "      <td>['Casual Dining']</td>\n",
       "      <td>https://www.zomato.com/ncr/sixth-empirica-punj...</td>\n",
       "      <td>Building 6, 2nd &amp; 3rd Floor, NWA, Punjabi Bagh...</td>\n",
       "      <td>New Delhi</td>\n",
       "      <td>1</td>\n",
       "      <td>Punjabi Bagh</td>\n",
       "      <td>28.666524</td>\n",
       "      <td>77.123032</td>\n",
       "      <td>...</td>\n",
       "      <td>3</td>\n",
       "      <td>Rs.</td>\n",
       "      <td>['Lunch', 'Debit Card', 'Dinner', 'Cash', 'Cre...</td>\n",
       "      <td>4.2</td>\n",
       "      <td>Very Good</td>\n",
       "      <td>1559</td>\n",
       "      <td>2791</td>\n",
       "      <td>0.0</td>\n",
       "      <td>-1</td>\n",
       "      <td>-1</td>\n",
       "    </tr>\n",
       "    <tr>\n",
       "      <th>59846</th>\n",
       "      <td>18128893</td>\n",
       "      <td>Lavaash By Saby</td>\n",
       "      <td>['Casual Dining']</td>\n",
       "      <td>https://www.zomato.com/ncr/lavaash-by-saby-meh...</td>\n",
       "      <td>H-5/1, Ambawatta One, Kalkadass Marg, Mehrauli...</td>\n",
       "      <td>New Delhi</td>\n",
       "      <td>1</td>\n",
       "      <td>Mehrauli</td>\n",
       "      <td>28.526504</td>\n",
       "      <td>77.185070</td>\n",
       "      <td>...</td>\n",
       "      <td>4</td>\n",
       "      <td>Rs.</td>\n",
       "      <td>['Delivery', 'Dinner', 'Cash', 'Credit Card', ...</td>\n",
       "      <td>4.1</td>\n",
       "      <td>Very Good</td>\n",
       "      <td>1362</td>\n",
       "      <td>2524</td>\n",
       "      <td>0.0</td>\n",
       "      <td>-1</td>\n",
       "      <td>-1</td>\n",
       "    </tr>\n",
       "  </tbody>\n",
       "</table>\n",
       "<p>3918 rows × 26 columns</p>\n",
       "</div>"
      ],
      "text/plain": [
       "         res_id                     name      establishment  \\\n",
       "53884  18895645       Plum By Bent Chair  ['Casual Dining']   \n",
       "53885  18429148                 Pa Pa Ya    ['Fine Dining']   \n",
       "53886  18418277         Ministry Of Beer         ['Lounge']   \n",
       "53887  18625812                  Detroit            ['Bar']   \n",
       "53888  18423151  The Darzi Bar & Kitchen  ['Casual Dining']   \n",
       "...         ...                      ...                ...   \n",
       "59842  18372693    Three Tuns Cafe & Bar  ['Casual Dining']   \n",
       "59843  18523131               Too Indian  ['Casual Dining']   \n",
       "59844    307060   The Beer Cafe - BIGGIE            ['Bar']   \n",
       "59845  18500611           Sixth Empirica  ['Casual Dining']   \n",
       "59846  18128893          Lavaash By Saby  ['Casual Dining']   \n",
       "\n",
       "                                                     url  \\\n",
       "53884  https://www.zomato.com/ncr/plum-by-bent-chair-...   \n",
       "53885  https://www.zomato.com/ncr/pa-pa-ya-saket-new-...   \n",
       "53886  https://www.zomato.com/ncr/ministry-of-beer-co...   \n",
       "53887  https://www.zomato.com/ncr/detroit-connaught-p...   \n",
       "53888  https://www.zomato.com/TheDarziBar?utm_source=...   \n",
       "...                                                  ...   \n",
       "59842  https://www.zomato.com/ncr/three-tuns-cafe-bar...   \n",
       "59843  https://www.zomato.com/ncr/too-indian-rajouri-...   \n",
       "59844  https://www.zomato.com/ncr/the-beer-cafe-biggi...   \n",
       "59845  https://www.zomato.com/ncr/sixth-empirica-punj...   \n",
       "59846  https://www.zomato.com/ncr/lavaash-by-saby-meh...   \n",
       "\n",
       "                                                 address       city  city_id  \\\n",
       "53884         The Walk, Worldmark 2, Aerocity, New Delhi  New Delhi        1   \n",
       "53885  Dome, Level 4, Select Citywalk, A-3, District ...  New Delhi        1   \n",
       "53886     M 44, Outer Circle, Connaught Place, New Delhi  New Delhi        1   \n",
       "53887  F40, 2nd Floor, Inner Circle, \\nConnaught Plac...  New Delhi        1   \n",
       "53888  H 55, 1st Floor, Outer Circle, Connaught Place...  New Delhi        1   \n",
       "...                                                  ...        ...      ...   \n",
       "59842  2nd Floor, Unity One Mall, Near Janak Puri Wes...  New Delhi        1   \n",
       "59843    A 39, Vishal Enclave, Rajouri Garden, New Delhi  New Delhi        1   \n",
       "59844      D-2, Inner Circle, Connaught Place, New Delhi  New Delhi        1   \n",
       "59845  Building 6, 2nd & 3rd Floor, NWA, Punjabi Bagh...  New Delhi        1   \n",
       "59846  H-5/1, Ambawatta One, Kalkadass Marg, Mehrauli...  New Delhi        1   \n",
       "\n",
       "                          locality   latitude  longitude  ... price_range  \\\n",
       "53884                     Aerocity  28.551540  77.122704  ...           1   \n",
       "53885  Select Citywalk Mall, Saket  28.528391  77.218611  ...           4   \n",
       "53886              Connaught Place  28.633286  77.222787  ...           3   \n",
       "53887              Connaught Place  28.631357  77.220251  ...           3   \n",
       "53888              Connaught Place  28.635508  77.219096  ...           3   \n",
       "...                            ...        ...        ...  ...         ...   \n",
       "59842    Unity One Mall, Janakpuri  28.628702  77.076617  ...           3   \n",
       "59843               Rajouri Garden  28.650466  77.120146  ...           3   \n",
       "59844              Connaught Place  28.633842  77.220804  ...           3   \n",
       "59845                 Punjabi Bagh  28.666524  77.123032  ...           3   \n",
       "59846                     Mehrauli  28.526504  77.185070  ...           4   \n",
       "\n",
       "       currency                                         highlights  \\\n",
       "53884       Rs.  ['Debit Card', 'Dinner', 'Cash', 'Credit Card'...   \n",
       "53885       Rs.  ['Credit Card', 'Debit Card', 'Lunch', 'Serves...   \n",
       "53886       Rs.  ['Lunch', 'Credit Card', 'Dinner', 'Cash', 'De...   \n",
       "53887       Rs.  ['Lunch', 'Serves Alcohol', 'Takeaway Availabl...   \n",
       "53888       Rs.  ['Lunch', 'Serves Alcohol', 'Cash', 'Credit Ca...   \n",
       "...         ...                                                ...   \n",
       "59842       Rs.  ['Debit Card', 'Takeaway Available', 'Dinner',...   \n",
       "59843       Rs.  ['Lunch', 'Delivery', 'Credit Card', 'Dinner',...   \n",
       "59844       Rs.  ['Lunch', 'Serves Alcohol', 'Credit Card', 'Di...   \n",
       "59845       Rs.  ['Lunch', 'Debit Card', 'Dinner', 'Cash', 'Cre...   \n",
       "59846       Rs.  ['Delivery', 'Dinner', 'Cash', 'Credit Card', ...   \n",
       "\n",
       "      aggregate_rating rating_text  votes  photo_count opentable_support  \\\n",
       "53884              4.9   Excellent   1545         4321               0.0   \n",
       "53885              4.7   Excellent   3234         8344               0.0   \n",
       "53886              4.5   Excellent   3043         9984               0.0   \n",
       "53887              4.6   Excellent   1327         3255               0.0   \n",
       "53888              4.3   Very Good   3211         9618               0.0   \n",
       "...                ...         ...    ...          ...               ...   \n",
       "59842              4.4   Very Good    975         3139               0.0   \n",
       "59843              4.0   Very Good   2037         7311               0.0   \n",
       "59844              4.1   Very Good   1609         1120               0.0   \n",
       "59845              4.2   Very Good   1559         2791               0.0   \n",
       "59846              4.1   Very Good   1362         2524               0.0   \n",
       "\n",
       "      delivery  takeaway  \n",
       "53884       -1        -1  \n",
       "53885       -1        -1  \n",
       "53886       -1        -1  \n",
       "53887       -1        -1  \n",
       "53888       -1        -1  \n",
       "...        ...       ...  \n",
       "59842       -1        -1  \n",
       "59843       -1        -1  \n",
       "59844       -1        -1  \n",
       "59845       -1        -1  \n",
       "59846       -1        -1  \n",
       "\n",
       "[3918 rows x 26 columns]"
      ]
     },
     "execution_count": 8,
     "metadata": {},
     "output_type": "execute_result"
    }
   ],
   "source": [
    "data[data[\"city\"]==\"New Delhi\"]"
   ]
  },
  {
   "cell_type": "code",
   "execution_count": 9,
   "id": "ff104d52",
   "metadata": {
    "papermill": {
     "duration": 0.092876,
     "end_time": "2023-01-17T09:39:54.156300",
     "exception": false,
     "start_time": "2023-01-17T09:39:54.063424",
     "status": "completed"
    },
    "tags": []
   },
   "outputs": [
    {
     "data": {
      "text/html": [
       "<div>\n",
       "<style scoped>\n",
       "    .dataframe tbody tr th:only-of-type {\n",
       "        vertical-align: middle;\n",
       "    }\n",
       "\n",
       "    .dataframe tbody tr th {\n",
       "        vertical-align: top;\n",
       "    }\n",
       "\n",
       "    .dataframe thead th {\n",
       "        text-align: right;\n",
       "    }\n",
       "</style>\n",
       "<table border=\"1\" class=\"dataframe\">\n",
       "  <thead>\n",
       "    <tr style=\"text-align: right;\">\n",
       "      <th></th>\n",
       "      <th>res_id</th>\n",
       "      <th>name</th>\n",
       "      <th>establishment</th>\n",
       "      <th>url</th>\n",
       "      <th>address</th>\n",
       "      <th>city</th>\n",
       "      <th>city_id</th>\n",
       "      <th>locality</th>\n",
       "      <th>latitude</th>\n",
       "      <th>longitude</th>\n",
       "      <th>...</th>\n",
       "      <th>price_range</th>\n",
       "      <th>currency</th>\n",
       "      <th>highlights</th>\n",
       "      <th>aggregate_rating</th>\n",
       "      <th>rating_text</th>\n",
       "      <th>votes</th>\n",
       "      <th>photo_count</th>\n",
       "      <th>opentable_support</th>\n",
       "      <th>delivery</th>\n",
       "      <th>takeaway</th>\n",
       "    </tr>\n",
       "  </thead>\n",
       "  <tbody>\n",
       "    <tr>\n",
       "      <th>164447</th>\n",
       "      <td>11283</td>\n",
       "      <td>Harajuku - The O Hotel</td>\n",
       "      <td>['Fine Dining']</td>\n",
       "      <td>https://www.zomato.com/pune/harajuku-the-o-hot...</td>\n",
       "      <td>The O Hotel, North Main Road, Koregaon Park, Pune</td>\n",
       "      <td>Pune</td>\n",
       "      <td>5</td>\n",
       "      <td>The O Hotel, Koregaon Park</td>\n",
       "      <td>18.540239</td>\n",
       "      <td>73.887518</td>\n",
       "      <td>...</td>\n",
       "      <td>4</td>\n",
       "      <td>Rs.</td>\n",
       "      <td>['Cash', 'Debit Card', 'Lunch', 'Credit Card',...</td>\n",
       "      <td>3.7</td>\n",
       "      <td>Good</td>\n",
       "      <td>96</td>\n",
       "      <td>38</td>\n",
       "      <td>0.0</td>\n",
       "      <td>-1</td>\n",
       "      <td>-1</td>\n",
       "    </tr>\n",
       "    <tr>\n",
       "      <th>164448</th>\n",
       "      <td>10663</td>\n",
       "      <td>Mix@36 - The Westin</td>\n",
       "      <td>['Lounge']</td>\n",
       "      <td>https://www.zomato.com/pune/mix@36-the-westin-...</td>\n",
       "      <td>The Westin, Survey 36/3B, KP Annexe Mundhwa Ro...</td>\n",
       "      <td>Pune</td>\n",
       "      <td>5</td>\n",
       "      <td>The Westin, Mundhwa</td>\n",
       "      <td>18.540040</td>\n",
       "      <td>73.905910</td>\n",
       "      <td>...</td>\n",
       "      <td>4</td>\n",
       "      <td>Rs.</td>\n",
       "      <td>['Cash', 'Debit Card', 'Serves Alcohol', 'Take...</td>\n",
       "      <td>4.0</td>\n",
       "      <td>Very Good</td>\n",
       "      <td>682</td>\n",
       "      <td>78</td>\n",
       "      <td>0.0</td>\n",
       "      <td>-1</td>\n",
       "      <td>-1</td>\n",
       "    </tr>\n",
       "    <tr>\n",
       "      <th>164449</th>\n",
       "      <td>10743</td>\n",
       "      <td>Kangan - The Westin</td>\n",
       "      <td>['Fine Dining']</td>\n",
       "      <td>https://www.zomato.com/pune/kangan-the-westin-...</td>\n",
       "      <td>The Westin, 36/3B, KP Annexe, Mundhwa Road, Mu...</td>\n",
       "      <td>Pune</td>\n",
       "      <td>5</td>\n",
       "      <td>The Westin, Mundhwa</td>\n",
       "      <td>18.539455</td>\n",
       "      <td>73.906040</td>\n",
       "      <td>...</td>\n",
       "      <td>4</td>\n",
       "      <td>Rs.</td>\n",
       "      <td>['Serves Alcohol', 'Cash', 'Debit Card', 'Take...</td>\n",
       "      <td>4.0</td>\n",
       "      <td>Very Good</td>\n",
       "      <td>310</td>\n",
       "      <td>285</td>\n",
       "      <td>0.0</td>\n",
       "      <td>-1</td>\n",
       "      <td>-1</td>\n",
       "    </tr>\n",
       "    <tr>\n",
       "      <th>164450</th>\n",
       "      <td>18938162</td>\n",
       "      <td>Palette - The Westin</td>\n",
       "      <td>['Fine Dining']</td>\n",
       "      <td>https://www.zomato.com/pune/palette-the-westin...</td>\n",
       "      <td>The Westin, 36/3B, KP Annexe, Mundhwa Road, Mu...</td>\n",
       "      <td>Pune</td>\n",
       "      <td>5</td>\n",
       "      <td>The Westin, Mundhwa</td>\n",
       "      <td>18.539430</td>\n",
       "      <td>73.906009</td>\n",
       "      <td>...</td>\n",
       "      <td>4</td>\n",
       "      <td>Rs.</td>\n",
       "      <td>['Serves Alcohol', 'Credit Card', 'Lunch', 'Ca...</td>\n",
       "      <td>3.3</td>\n",
       "      <td>Average</td>\n",
       "      <td>9</td>\n",
       "      <td>31</td>\n",
       "      <td>0.0</td>\n",
       "      <td>-1</td>\n",
       "      <td>-1</td>\n",
       "    </tr>\n",
       "    <tr>\n",
       "      <th>164451</th>\n",
       "      <td>18310167</td>\n",
       "      <td>Coriander Kitchen - Conrad Pune</td>\n",
       "      <td>['Fine Dining']</td>\n",
       "      <td>https://www.zomato.com/pune/coriander-kitchen-...</td>\n",
       "      <td>Conrad, Mangaldas Road, Bund Garden Road, Pune</td>\n",
       "      <td>Pune</td>\n",
       "      <td>5</td>\n",
       "      <td>Conrad Pune, Bund Garden Road</td>\n",
       "      <td>18.535409</td>\n",
       "      <td>73.883592</td>\n",
       "      <td>...</td>\n",
       "      <td>4</td>\n",
       "      <td>Rs.</td>\n",
       "      <td>['Lunch', 'Serves Alcohol', 'Takeaway Availabl...</td>\n",
       "      <td>4.4</td>\n",
       "      <td>Very Good</td>\n",
       "      <td>500</td>\n",
       "      <td>1116</td>\n",
       "      <td>0.0</td>\n",
       "      <td>-1</td>\n",
       "      <td>-1</td>\n",
       "    </tr>\n",
       "    <tr>\n",
       "      <th>...</th>\n",
       "      <td>...</td>\n",
       "      <td>...</td>\n",
       "      <td>...</td>\n",
       "      <td>...</td>\n",
       "      <td>...</td>\n",
       "      <td>...</td>\n",
       "      <td>...</td>\n",
       "      <td>...</td>\n",
       "      <td>...</td>\n",
       "      <td>...</td>\n",
       "      <td>...</td>\n",
       "      <td>...</td>\n",
       "      <td>...</td>\n",
       "      <td>...</td>\n",
       "      <td>...</td>\n",
       "      <td>...</td>\n",
       "      <td>...</td>\n",
       "      <td>...</td>\n",
       "      <td>...</td>\n",
       "      <td>...</td>\n",
       "      <td>...</td>\n",
       "    </tr>\n",
       "    <tr>\n",
       "      <th>168659</th>\n",
       "      <td>13061</td>\n",
       "      <td>Lonavla Restaurant &amp; Bar- Hotel Lonavla</td>\n",
       "      <td>['Casual Dining']</td>\n",
       "      <td>https://www.zomato.com/pune/lonavla-restaurant...</td>\n",
       "      <td>Gawlinaka, Mumbai-Pune Highway, Lonavala, Pune</td>\n",
       "      <td>Pune</td>\n",
       "      <td>5</td>\n",
       "      <td>Lonavala</td>\n",
       "      <td>18.754747</td>\n",
       "      <td>73.405682</td>\n",
       "      <td>...</td>\n",
       "      <td>3</td>\n",
       "      <td>Rs.</td>\n",
       "      <td>['Dinner', 'Cash', 'Takeaway Available', 'Debi...</td>\n",
       "      <td>4.3</td>\n",
       "      <td>Very Good</td>\n",
       "      <td>474</td>\n",
       "      <td>81</td>\n",
       "      <td>0.0</td>\n",
       "      <td>-1</td>\n",
       "      <td>-1</td>\n",
       "    </tr>\n",
       "    <tr>\n",
       "      <th>168660</th>\n",
       "      <td>18555341</td>\n",
       "      <td>Utopia</td>\n",
       "      <td>['Casual Dining']</td>\n",
       "      <td>https://www.zomato.com/pune/utopia-lonavala?ut...</td>\n",
       "      <td>CTS 159, Old Mumbai-Pune Road, Lonavala, Pune</td>\n",
       "      <td>Pune</td>\n",
       "      <td>5</td>\n",
       "      <td>Lonavala</td>\n",
       "      <td>18.754342</td>\n",
       "      <td>73.402737</td>\n",
       "      <td>...</td>\n",
       "      <td>3</td>\n",
       "      <td>Rs.</td>\n",
       "      <td>['Dinner', 'Cash', 'Takeaway Available', 'Debi...</td>\n",
       "      <td>3.9</td>\n",
       "      <td>Good</td>\n",
       "      <td>336</td>\n",
       "      <td>204</td>\n",
       "      <td>0.0</td>\n",
       "      <td>-1</td>\n",
       "      <td>-1</td>\n",
       "    </tr>\n",
       "    <tr>\n",
       "      <th>168661</th>\n",
       "      <td>18767059</td>\n",
       "      <td>Mapro Garden</td>\n",
       "      <td>['Casual Dining']</td>\n",
       "      <td>https://www.zomato.com/pune/mapro-garden-lonav...</td>\n",
       "      <td>3 &amp; 4, Old Mumbai - Pune Highway, Valvan, Lona...</td>\n",
       "      <td>Pune</td>\n",
       "      <td>5</td>\n",
       "      <td>Lonavala</td>\n",
       "      <td>18.760234</td>\n",
       "      <td>73.419775</td>\n",
       "      <td>...</td>\n",
       "      <td>2</td>\n",
       "      <td>Rs.</td>\n",
       "      <td>['Dinner', 'Takeaway Available', 'No Alcohol A...</td>\n",
       "      <td>4.3</td>\n",
       "      <td>Very Good</td>\n",
       "      <td>143</td>\n",
       "      <td>227</td>\n",
       "      <td>0.0</td>\n",
       "      <td>-1</td>\n",
       "      <td>-1</td>\n",
       "    </tr>\n",
       "    <tr>\n",
       "      <th>168662</th>\n",
       "      <td>6503906</td>\n",
       "      <td>Hotel Chandralok</td>\n",
       "      <td>['Casual Dining']</td>\n",
       "      <td>https://www.zomato.com/pune/hotel-chandralok-l...</td>\n",
       "      <td>Near Bus Stand &amp; Post Office, Opposite Mumbai-...</td>\n",
       "      <td>Pune</td>\n",
       "      <td>5</td>\n",
       "      <td>Lonavala</td>\n",
       "      <td>18.753223</td>\n",
       "      <td>73.405655</td>\n",
       "      <td>...</td>\n",
       "      <td>2</td>\n",
       "      <td>Rs.</td>\n",
       "      <td>['No Alcohol Available', 'Dinner', 'Takeaway A...</td>\n",
       "      <td>4.3</td>\n",
       "      <td>Very Good</td>\n",
       "      <td>317</td>\n",
       "      <td>86</td>\n",
       "      <td>0.0</td>\n",
       "      <td>-1</td>\n",
       "      <td>-1</td>\n",
       "    </tr>\n",
       "    <tr>\n",
       "      <th>168663</th>\n",
       "      <td>18711838</td>\n",
       "      <td>Lion's Dhaaba</td>\n",
       "      <td>['Casual Dining']</td>\n",
       "      <td>https://www.zomato.com/pune/lions-dhaaba-6-lon...</td>\n",
       "      <td>Besides Lion's Point, Ambey Valley, Atvan, Lon...</td>\n",
       "      <td>Pune</td>\n",
       "      <td>5</td>\n",
       "      <td>Lonavala</td>\n",
       "      <td>18.687172</td>\n",
       "      <td>73.393627</td>\n",
       "      <td>...</td>\n",
       "      <td>3</td>\n",
       "      <td>Rs.</td>\n",
       "      <td>['Lunch', 'Takeaway Available', 'Dinner', 'Cas...</td>\n",
       "      <td>3.9</td>\n",
       "      <td>Good</td>\n",
       "      <td>67</td>\n",
       "      <td>171</td>\n",
       "      <td>0.0</td>\n",
       "      <td>-1</td>\n",
       "      <td>-1</td>\n",
       "    </tr>\n",
       "  </tbody>\n",
       "</table>\n",
       "<p>4217 rows × 26 columns</p>\n",
       "</div>"
      ],
      "text/plain": [
       "          res_id                                     name      establishment  \\\n",
       "164447     11283                   Harajuku - The O Hotel    ['Fine Dining']   \n",
       "164448     10663                      Mix@36 - The Westin         ['Lounge']   \n",
       "164449     10743                      Kangan - The Westin    ['Fine Dining']   \n",
       "164450  18938162                     Palette - The Westin    ['Fine Dining']   \n",
       "164451  18310167          Coriander Kitchen - Conrad Pune    ['Fine Dining']   \n",
       "...          ...                                      ...                ...   \n",
       "168659     13061  Lonavla Restaurant & Bar- Hotel Lonavla  ['Casual Dining']   \n",
       "168660  18555341                                   Utopia  ['Casual Dining']   \n",
       "168661  18767059                             Mapro Garden  ['Casual Dining']   \n",
       "168662   6503906                         Hotel Chandralok  ['Casual Dining']   \n",
       "168663  18711838                            Lion's Dhaaba  ['Casual Dining']   \n",
       "\n",
       "                                                      url  \\\n",
       "164447  https://www.zomato.com/pune/harajuku-the-o-hot...   \n",
       "164448  https://www.zomato.com/pune/mix@36-the-westin-...   \n",
       "164449  https://www.zomato.com/pune/kangan-the-westin-...   \n",
       "164450  https://www.zomato.com/pune/palette-the-westin...   \n",
       "164451  https://www.zomato.com/pune/coriander-kitchen-...   \n",
       "...                                                   ...   \n",
       "168659  https://www.zomato.com/pune/lonavla-restaurant...   \n",
       "168660  https://www.zomato.com/pune/utopia-lonavala?ut...   \n",
       "168661  https://www.zomato.com/pune/mapro-garden-lonav...   \n",
       "168662  https://www.zomato.com/pune/hotel-chandralok-l...   \n",
       "168663  https://www.zomato.com/pune/lions-dhaaba-6-lon...   \n",
       "\n",
       "                                                  address  city  city_id  \\\n",
       "164447  The O Hotel, North Main Road, Koregaon Park, Pune  Pune        5   \n",
       "164448  The Westin, Survey 36/3B, KP Annexe Mundhwa Ro...  Pune        5   \n",
       "164449  The Westin, 36/3B, KP Annexe, Mundhwa Road, Mu...  Pune        5   \n",
       "164450  The Westin, 36/3B, KP Annexe, Mundhwa Road, Mu...  Pune        5   \n",
       "164451     Conrad, Mangaldas Road, Bund Garden Road, Pune  Pune        5   \n",
       "...                                                   ...   ...      ...   \n",
       "168659     Gawlinaka, Mumbai-Pune Highway, Lonavala, Pune  Pune        5   \n",
       "168660      CTS 159, Old Mumbai-Pune Road, Lonavala, Pune  Pune        5   \n",
       "168661  3 & 4, Old Mumbai - Pune Highway, Valvan, Lona...  Pune        5   \n",
       "168662  Near Bus Stand & Post Office, Opposite Mumbai-...  Pune        5   \n",
       "168663  Besides Lion's Point, Ambey Valley, Atvan, Lon...  Pune        5   \n",
       "\n",
       "                             locality   latitude  longitude  ... price_range  \\\n",
       "164447     The O Hotel, Koregaon Park  18.540239  73.887518  ...           4   \n",
       "164448            The Westin, Mundhwa  18.540040  73.905910  ...           4   \n",
       "164449            The Westin, Mundhwa  18.539455  73.906040  ...           4   \n",
       "164450            The Westin, Mundhwa  18.539430  73.906009  ...           4   \n",
       "164451  Conrad Pune, Bund Garden Road  18.535409  73.883592  ...           4   \n",
       "...                               ...        ...        ...  ...         ...   \n",
       "168659                       Lonavala  18.754747  73.405682  ...           3   \n",
       "168660                       Lonavala  18.754342  73.402737  ...           3   \n",
       "168661                       Lonavala  18.760234  73.419775  ...           2   \n",
       "168662                       Lonavala  18.753223  73.405655  ...           2   \n",
       "168663                       Lonavala  18.687172  73.393627  ...           3   \n",
       "\n",
       "        currency                                         highlights  \\\n",
       "164447       Rs.  ['Cash', 'Debit Card', 'Lunch', 'Credit Card',...   \n",
       "164448       Rs.  ['Cash', 'Debit Card', 'Serves Alcohol', 'Take...   \n",
       "164449       Rs.  ['Serves Alcohol', 'Cash', 'Debit Card', 'Take...   \n",
       "164450       Rs.  ['Serves Alcohol', 'Credit Card', 'Lunch', 'Ca...   \n",
       "164451       Rs.  ['Lunch', 'Serves Alcohol', 'Takeaway Availabl...   \n",
       "...          ...                                                ...   \n",
       "168659       Rs.  ['Dinner', 'Cash', 'Takeaway Available', 'Debi...   \n",
       "168660       Rs.  ['Dinner', 'Cash', 'Takeaway Available', 'Debi...   \n",
       "168661       Rs.  ['Dinner', 'Takeaway Available', 'No Alcohol A...   \n",
       "168662       Rs.  ['No Alcohol Available', 'Dinner', 'Takeaway A...   \n",
       "168663       Rs.  ['Lunch', 'Takeaway Available', 'Dinner', 'Cas...   \n",
       "\n",
       "       aggregate_rating rating_text  votes  photo_count opentable_support  \\\n",
       "164447              3.7        Good     96           38               0.0   \n",
       "164448              4.0   Very Good    682           78               0.0   \n",
       "164449              4.0   Very Good    310          285               0.0   \n",
       "164450              3.3     Average      9           31               0.0   \n",
       "164451              4.4   Very Good    500         1116               0.0   \n",
       "...                 ...         ...    ...          ...               ...   \n",
       "168659              4.3   Very Good    474           81               0.0   \n",
       "168660              3.9        Good    336          204               0.0   \n",
       "168661              4.3   Very Good    143          227               0.0   \n",
       "168662              4.3   Very Good    317           86               0.0   \n",
       "168663              3.9        Good     67          171               0.0   \n",
       "\n",
       "       delivery  takeaway  \n",
       "164447       -1        -1  \n",
       "164448       -1        -1  \n",
       "164449       -1        -1  \n",
       "164450       -1        -1  \n",
       "164451       -1        -1  \n",
       "...         ...       ...  \n",
       "168659       -1        -1  \n",
       "168660       -1        -1  \n",
       "168661       -1        -1  \n",
       "168662       -1        -1  \n",
       "168663       -1        -1  \n",
       "\n",
       "[4217 rows x 26 columns]"
      ]
     },
     "execution_count": 9,
     "metadata": {},
     "output_type": "execute_result"
    }
   ],
   "source": [
    "data[data[\"city\"]==\"Pune\"]"
   ]
  },
  {
   "cell_type": "code",
   "execution_count": 10,
   "id": "abe406eb",
   "metadata": {
    "papermill": {
     "duration": 0.042536,
     "end_time": "2023-01-17T09:39:54.231225",
     "exception": false,
     "start_time": "2023-01-17T09:39:54.188689",
     "status": "completed"
    },
    "tags": []
   },
   "outputs": [
    {
     "data": {
      "text/plain": [
       "(211944, 26)"
      ]
     },
     "execution_count": 10,
     "metadata": {},
     "output_type": "execute_result"
    }
   ],
   "source": [
    "data.shape"
   ]
  },
  {
   "cell_type": "markdown",
   "id": "9ce0dbae",
   "metadata": {
    "papermill": {
     "duration": 0.030532,
     "end_time": "2023-01-17T09:39:54.292907",
     "exception": false,
     "start_time": "2023-01-17T09:39:54.262375",
     "status": "completed"
    },
    "tags": []
   },
   "source": [
    "Our dataset has 26 features and 0.2 million plus rows. Let's find out more about these features using the <b>info( )</b> function"
   ]
  },
  {
   "cell_type": "code",
   "execution_count": 11,
   "id": "698ed522",
   "metadata": {
    "papermill": {
     "duration": 0.183534,
     "end_time": "2023-01-17T09:39:54.508525",
     "exception": false,
     "start_time": "2023-01-17T09:39:54.324991",
     "status": "completed"
    },
    "tags": []
   },
   "outputs": [
    {
     "name": "stdout",
     "output_type": "stream",
     "text": [
      "<class 'pandas.core.frame.DataFrame'>\n",
      "RangeIndex: 211944 entries, 0 to 211943\n",
      "Data columns (total 26 columns):\n",
      " #   Column                Non-Null Count   Dtype  \n",
      "---  ------                --------------   -----  \n",
      " 0   res_id                211944 non-null  int64  \n",
      " 1   name                  211944 non-null  object \n",
      " 2   establishment         211944 non-null  object \n",
      " 3   url                   211944 non-null  object \n",
      " 4   address               211810 non-null  object \n",
      " 5   city                  211944 non-null  object \n",
      " 6   city_id               211944 non-null  int64  \n",
      " 7   locality              211944 non-null  object \n",
      " 8   latitude              211944 non-null  float64\n",
      " 9   longitude             211944 non-null  float64\n",
      " 10  zipcode               48757 non-null   object \n",
      " 11  country_id            211944 non-null  int64  \n",
      " 12  locality_verbose      211944 non-null  object \n",
      " 13  cuisines              210553 non-null  object \n",
      " 14  timings               208070 non-null  object \n",
      " 15  average_cost_for_two  211944 non-null  int64  \n",
      " 16  price_range           211944 non-null  int64  \n",
      " 17  currency              211944 non-null  object \n",
      " 18  highlights            211944 non-null  object \n",
      " 19  aggregate_rating      211944 non-null  float64\n",
      " 20  rating_text           211944 non-null  object \n",
      " 21  votes                 211944 non-null  int64  \n",
      " 22  photo_count           211944 non-null  int64  \n",
      " 23  opentable_support     211896 non-null  float64\n",
      " 24  delivery              211944 non-null  int64  \n",
      " 25  takeaway              211944 non-null  int64  \n",
      "dtypes: float64(4), int64(9), object(13)\n",
      "memory usage: 42.0+ MB\n"
     ]
    }
   ],
   "source": [
    "data.info()"
   ]
  },
  {
   "cell_type": "markdown",
   "id": "2b1d823d",
   "metadata": {
    "papermill": {
     "duration": 0.030598,
     "end_time": "2023-01-17T09:39:54.570535",
     "exception": false,
     "start_time": "2023-01-17T09:39:54.539937",
     "status": "completed"
    },
    "tags": []
   },
   "source": [
    "We have many interesting features which can be great for analysis and also some which we will omit. The difference in count of some features gives us hint of some missing values. \n",
    "While <b>info( )</b> is used to know about count, null and type properties, <b>describe( )</b> gives us statistical information about numerical data."
   ]
  },
  {
   "cell_type": "code",
   "execution_count": 12,
   "id": "0025ba8a",
   "metadata": {
    "papermill": {
     "duration": 0.068681,
     "end_time": "2023-01-17T09:39:54.671071",
     "exception": false,
     "start_time": "2023-01-17T09:39:54.602390",
     "status": "completed"
    },
    "tags": []
   },
   "outputs": [
    {
     "data": {
      "text/html": [
       "<div>\n",
       "<style scoped>\n",
       "    .dataframe tbody tr th:only-of-type {\n",
       "        vertical-align: middle;\n",
       "    }\n",
       "\n",
       "    .dataframe tbody tr th {\n",
       "        vertical-align: top;\n",
       "    }\n",
       "\n",
       "    .dataframe thead th {\n",
       "        text-align: right;\n",
       "    }\n",
       "</style>\n",
       "<table border=\"1\" class=\"dataframe\">\n",
       "  <thead>\n",
       "    <tr style=\"text-align: right;\">\n",
       "      <th></th>\n",
       "      <th>res_id</th>\n",
       "      <th>name</th>\n",
       "      <th>establishment</th>\n",
       "      <th>url</th>\n",
       "      <th>address</th>\n",
       "      <th>city</th>\n",
       "      <th>city_id</th>\n",
       "      <th>locality</th>\n",
       "      <th>latitude</th>\n",
       "      <th>longitude</th>\n",
       "      <th>...</th>\n",
       "      <th>price_range</th>\n",
       "      <th>currency</th>\n",
       "      <th>highlights</th>\n",
       "      <th>aggregate_rating</th>\n",
       "      <th>rating_text</th>\n",
       "      <th>votes</th>\n",
       "      <th>photo_count</th>\n",
       "      <th>opentable_support</th>\n",
       "      <th>delivery</th>\n",
       "      <th>takeaway</th>\n",
       "    </tr>\n",
       "  </thead>\n",
       "  <tbody>\n",
       "    <tr>\n",
       "      <th>136240</th>\n",
       "      <td>38489</td>\n",
       "      <td>Ocean - The Private Dining Room - Sahara Star</td>\n",
       "      <td>['Fine Dining']</td>\n",
       "      <td>https://www.zomato.com/mumbai/ocean-the-privat...</td>\n",
       "      <td>Hotel Sahara Star, Opposite Domestic Airport, ...</td>\n",
       "      <td>Mumbai</td>\n",
       "      <td>3</td>\n",
       "      <td>Sahara Star, Vile Parle East</td>\n",
       "      <td>19.094752</td>\n",
       "      <td>72.854226</td>\n",
       "      <td>...</td>\n",
       "      <td>4</td>\n",
       "      <td>Rs.</td>\n",
       "      <td>['Dinner', 'Serves Alcohol', 'Debit Card', 'Ca...</td>\n",
       "      <td>3.6</td>\n",
       "      <td>Good</td>\n",
       "      <td>91</td>\n",
       "      <td>31</td>\n",
       "      <td>0.0</td>\n",
       "      <td>-1</td>\n",
       "      <td>-1</td>\n",
       "    </tr>\n",
       "    <tr>\n",
       "      <th>136740</th>\n",
       "      <td>38489</td>\n",
       "      <td>Ocean - The Private Dining Room - Sahara Star</td>\n",
       "      <td>['Fine Dining']</td>\n",
       "      <td>https://www.zomato.com/mumbai/ocean-the-privat...</td>\n",
       "      <td>Hotel Sahara Star, Opposite Domestic Airport, ...</td>\n",
       "      <td>Mumbai</td>\n",
       "      <td>3</td>\n",
       "      <td>Sahara Star, Vile Parle East</td>\n",
       "      <td>19.094752</td>\n",
       "      <td>72.854226</td>\n",
       "      <td>...</td>\n",
       "      <td>4</td>\n",
       "      <td>Rs.</td>\n",
       "      <td>['Dinner', 'Serves Alcohol', 'Debit Card', 'Ca...</td>\n",
       "      <td>3.6</td>\n",
       "      <td>Good</td>\n",
       "      <td>91</td>\n",
       "      <td>31</td>\n",
       "      <td>0.0</td>\n",
       "      <td>-1</td>\n",
       "      <td>-1</td>\n",
       "    </tr>\n",
       "    <tr>\n",
       "      <th>137240</th>\n",
       "      <td>38489</td>\n",
       "      <td>Ocean - The Private Dining Room - Sahara Star</td>\n",
       "      <td>['Fine Dining']</td>\n",
       "      <td>https://www.zomato.com/mumbai/ocean-the-privat...</td>\n",
       "      <td>Hotel Sahara Star, Opposite Domestic Airport, ...</td>\n",
       "      <td>Mumbai</td>\n",
       "      <td>3</td>\n",
       "      <td>Sahara Star, Vile Parle East</td>\n",
       "      <td>19.094752</td>\n",
       "      <td>72.854226</td>\n",
       "      <td>...</td>\n",
       "      <td>4</td>\n",
       "      <td>Rs.</td>\n",
       "      <td>['Dinner', 'Serves Alcohol', 'Debit Card', 'Ca...</td>\n",
       "      <td>3.6</td>\n",
       "      <td>Good</td>\n",
       "      <td>91</td>\n",
       "      <td>31</td>\n",
       "      <td>0.0</td>\n",
       "      <td>-1</td>\n",
       "      <td>-1</td>\n",
       "    </tr>\n",
       "  </tbody>\n",
       "</table>\n",
       "<p>3 rows × 26 columns</p>\n",
       "</div>"
      ],
      "text/plain": [
       "        res_id                                           name  \\\n",
       "136240   38489  Ocean - The Private Dining Room - Sahara Star   \n",
       "136740   38489  Ocean - The Private Dining Room - Sahara Star   \n",
       "137240   38489  Ocean - The Private Dining Room - Sahara Star   \n",
       "\n",
       "          establishment                                                url  \\\n",
       "136240  ['Fine Dining']  https://www.zomato.com/mumbai/ocean-the-privat...   \n",
       "136740  ['Fine Dining']  https://www.zomato.com/mumbai/ocean-the-privat...   \n",
       "137240  ['Fine Dining']  https://www.zomato.com/mumbai/ocean-the-privat...   \n",
       "\n",
       "                                                  address    city  city_id  \\\n",
       "136240  Hotel Sahara Star, Opposite Domestic Airport, ...  Mumbai        3   \n",
       "136740  Hotel Sahara Star, Opposite Domestic Airport, ...  Mumbai        3   \n",
       "137240  Hotel Sahara Star, Opposite Domestic Airport, ...  Mumbai        3   \n",
       "\n",
       "                            locality   latitude  longitude  ... price_range  \\\n",
       "136240  Sahara Star, Vile Parle East  19.094752  72.854226  ...           4   \n",
       "136740  Sahara Star, Vile Parle East  19.094752  72.854226  ...           4   \n",
       "137240  Sahara Star, Vile Parle East  19.094752  72.854226  ...           4   \n",
       "\n",
       "        currency                                         highlights  \\\n",
       "136240       Rs.  ['Dinner', 'Serves Alcohol', 'Debit Card', 'Ca...   \n",
       "136740       Rs.  ['Dinner', 'Serves Alcohol', 'Debit Card', 'Ca...   \n",
       "137240       Rs.  ['Dinner', 'Serves Alcohol', 'Debit Card', 'Ca...   \n",
       "\n",
       "       aggregate_rating rating_text  votes  photo_count opentable_support  \\\n",
       "136240              3.6        Good     91           31               0.0   \n",
       "136740              3.6        Good     91           31               0.0   \n",
       "137240              3.6        Good     91           31               0.0   \n",
       "\n",
       "       delivery  takeaway  \n",
       "136240       -1        -1  \n",
       "136740       -1        -1  \n",
       "137240       -1        -1  \n",
       "\n",
       "[3 rows x 26 columns]"
      ]
     },
     "execution_count": 12,
     "metadata": {},
     "output_type": "execute_result"
    }
   ],
   "source": [
    "data[data[\"average_cost_for_two\"]==30000]"
   ]
  },
  {
   "cell_type": "code",
   "execution_count": null,
   "id": "c329c204",
   "metadata": {
    "papermill": {
     "duration": 0.030808,
     "end_time": "2023-01-17T09:39:54.733139",
     "exception": false,
     "start_time": "2023-01-17T09:39:54.702331",
     "status": "completed"
    },
    "tags": []
   },
   "outputs": [],
   "source": []
  },
  {
   "cell_type": "code",
   "execution_count": 13,
   "id": "ff2b33f4",
   "metadata": {
    "papermill": {
     "duration": 0.185653,
     "end_time": "2023-01-17T09:39:54.949947",
     "exception": false,
     "start_time": "2023-01-17T09:39:54.764294",
     "status": "completed"
    },
    "tags": []
   },
   "outputs": [
    {
     "data": {
      "text/html": [
       "<div>\n",
       "<style scoped>\n",
       "    .dataframe tbody tr th:only-of-type {\n",
       "        vertical-align: middle;\n",
       "    }\n",
       "\n",
       "    .dataframe tbody tr th {\n",
       "        vertical-align: top;\n",
       "    }\n",
       "\n",
       "    .dataframe thead th {\n",
       "        text-align: right;\n",
       "    }\n",
       "</style>\n",
       "<table border=\"1\" class=\"dataframe\">\n",
       "  <thead>\n",
       "    <tr style=\"text-align: right;\">\n",
       "      <th></th>\n",
       "      <th>res_id</th>\n",
       "      <th>city_id</th>\n",
       "      <th>latitude</th>\n",
       "      <th>longitude</th>\n",
       "      <th>country_id</th>\n",
       "      <th>average_cost_for_two</th>\n",
       "      <th>price_range</th>\n",
       "      <th>aggregate_rating</th>\n",
       "      <th>votes</th>\n",
       "      <th>photo_count</th>\n",
       "      <th>opentable_support</th>\n",
       "      <th>delivery</th>\n",
       "      <th>takeaway</th>\n",
       "    </tr>\n",
       "  </thead>\n",
       "  <tbody>\n",
       "    <tr>\n",
       "      <th>count</th>\n",
       "      <td>2.119440e+05</td>\n",
       "      <td>211944.000000</td>\n",
       "      <td>211944.000000</td>\n",
       "      <td>211944.000000</td>\n",
       "      <td>211944.0</td>\n",
       "      <td>211944.000000</td>\n",
       "      <td>211944.000000</td>\n",
       "      <td>211944.000000</td>\n",
       "      <td>211944.000000</td>\n",
       "      <td>211944.000000</td>\n",
       "      <td>211896.0</td>\n",
       "      <td>211944.000000</td>\n",
       "      <td>211944.0</td>\n",
       "    </tr>\n",
       "    <tr>\n",
       "      <th>mean</th>\n",
       "      <td>1.349411e+07</td>\n",
       "      <td>4746.785434</td>\n",
       "      <td>21.499758</td>\n",
       "      <td>77.615276</td>\n",
       "      <td>1.0</td>\n",
       "      <td>595.812229</td>\n",
       "      <td>1.882535</td>\n",
       "      <td>3.395937</td>\n",
       "      <td>378.001864</td>\n",
       "      <td>256.971224</td>\n",
       "      <td>0.0</td>\n",
       "      <td>-0.255907</td>\n",
       "      <td>-1.0</td>\n",
       "    </tr>\n",
       "    <tr>\n",
       "      <th>std</th>\n",
       "      <td>7.883722e+06</td>\n",
       "      <td>5568.766386</td>\n",
       "      <td>22.781331</td>\n",
       "      <td>7.500104</td>\n",
       "      <td>0.0</td>\n",
       "      <td>606.239363</td>\n",
       "      <td>0.892989</td>\n",
       "      <td>1.283642</td>\n",
       "      <td>925.333370</td>\n",
       "      <td>867.668940</td>\n",
       "      <td>0.0</td>\n",
       "      <td>0.964172</td>\n",
       "      <td>0.0</td>\n",
       "    </tr>\n",
       "    <tr>\n",
       "      <th>min</th>\n",
       "      <td>5.000000e+01</td>\n",
       "      <td>1.000000</td>\n",
       "      <td>0.000000</td>\n",
       "      <td>0.000000</td>\n",
       "      <td>1.0</td>\n",
       "      <td>0.000000</td>\n",
       "      <td>1.000000</td>\n",
       "      <td>0.000000</td>\n",
       "      <td>-18.000000</td>\n",
       "      <td>0.000000</td>\n",
       "      <td>0.0</td>\n",
       "      <td>-1.000000</td>\n",
       "      <td>-1.0</td>\n",
       "    </tr>\n",
       "    <tr>\n",
       "      <th>25%</th>\n",
       "      <td>3.301027e+06</td>\n",
       "      <td>11.000000</td>\n",
       "      <td>15.496071</td>\n",
       "      <td>74.877961</td>\n",
       "      <td>1.0</td>\n",
       "      <td>250.000000</td>\n",
       "      <td>1.000000</td>\n",
       "      <td>3.300000</td>\n",
       "      <td>16.000000</td>\n",
       "      <td>3.000000</td>\n",
       "      <td>0.0</td>\n",
       "      <td>-1.000000</td>\n",
       "      <td>-1.0</td>\n",
       "    </tr>\n",
       "    <tr>\n",
       "      <th>50%</th>\n",
       "      <td>1.869573e+07</td>\n",
       "      <td>34.000000</td>\n",
       "      <td>22.514494</td>\n",
       "      <td>77.425971</td>\n",
       "      <td>1.0</td>\n",
       "      <td>400.000000</td>\n",
       "      <td>2.000000</td>\n",
       "      <td>3.800000</td>\n",
       "      <td>100.000000</td>\n",
       "      <td>18.000000</td>\n",
       "      <td>0.0</td>\n",
       "      <td>-1.000000</td>\n",
       "      <td>-1.0</td>\n",
       "    </tr>\n",
       "    <tr>\n",
       "      <th>75%</th>\n",
       "      <td>1.881297e+07</td>\n",
       "      <td>11306.000000</td>\n",
       "      <td>26.841667</td>\n",
       "      <td>80.219323</td>\n",
       "      <td>1.0</td>\n",
       "      <td>700.000000</td>\n",
       "      <td>2.000000</td>\n",
       "      <td>4.100000</td>\n",
       "      <td>362.000000</td>\n",
       "      <td>128.000000</td>\n",
       "      <td>0.0</td>\n",
       "      <td>1.000000</td>\n",
       "      <td>-1.0</td>\n",
       "    </tr>\n",
       "    <tr>\n",
       "      <th>max</th>\n",
       "      <td>1.915979e+07</td>\n",
       "      <td>11354.000000</td>\n",
       "      <td>10000.000000</td>\n",
       "      <td>91.832769</td>\n",
       "      <td>1.0</td>\n",
       "      <td>30000.000000</td>\n",
       "      <td>4.000000</td>\n",
       "      <td>4.900000</td>\n",
       "      <td>42539.000000</td>\n",
       "      <td>17702.000000</td>\n",
       "      <td>0.0</td>\n",
       "      <td>1.000000</td>\n",
       "      <td>-1.0</td>\n",
       "    </tr>\n",
       "  </tbody>\n",
       "</table>\n",
       "</div>"
      ],
      "text/plain": [
       "             res_id        city_id       latitude      longitude  country_id  \\\n",
       "count  2.119440e+05  211944.000000  211944.000000  211944.000000    211944.0   \n",
       "mean   1.349411e+07    4746.785434      21.499758      77.615276         1.0   \n",
       "std    7.883722e+06    5568.766386      22.781331       7.500104         0.0   \n",
       "min    5.000000e+01       1.000000       0.000000       0.000000         1.0   \n",
       "25%    3.301027e+06      11.000000      15.496071      74.877961         1.0   \n",
       "50%    1.869573e+07      34.000000      22.514494      77.425971         1.0   \n",
       "75%    1.881297e+07   11306.000000      26.841667      80.219323         1.0   \n",
       "max    1.915979e+07   11354.000000   10000.000000      91.832769         1.0   \n",
       "\n",
       "       average_cost_for_two    price_range  aggregate_rating          votes  \\\n",
       "count         211944.000000  211944.000000     211944.000000  211944.000000   \n",
       "mean             595.812229       1.882535          3.395937     378.001864   \n",
       "std              606.239363       0.892989          1.283642     925.333370   \n",
       "min                0.000000       1.000000          0.000000     -18.000000   \n",
       "25%              250.000000       1.000000          3.300000      16.000000   \n",
       "50%              400.000000       2.000000          3.800000     100.000000   \n",
       "75%              700.000000       2.000000          4.100000     362.000000   \n",
       "max            30000.000000       4.000000          4.900000   42539.000000   \n",
       "\n",
       "         photo_count  opentable_support       delivery  takeaway  \n",
       "count  211944.000000           211896.0  211944.000000  211944.0  \n",
       "mean      256.971224                0.0      -0.255907      -1.0  \n",
       "std       867.668940                0.0       0.964172       0.0  \n",
       "min         0.000000                0.0      -1.000000      -1.0  \n",
       "25%         3.000000                0.0      -1.000000      -1.0  \n",
       "50%        18.000000                0.0      -1.000000      -1.0  \n",
       "75%       128.000000                0.0       1.000000      -1.0  \n",
       "max     17702.000000                0.0       1.000000      -1.0  "
      ]
     },
     "execution_count": 13,
     "metadata": {},
     "output_type": "execute_result"
    }
   ],
   "source": [
    "data.describe()"
   ]
  },
  {
   "cell_type": "markdown",
   "id": "cbe27580",
   "metadata": {
    "papermill": {
     "duration": 0.031685,
     "end_time": "2023-01-17T09:39:55.014016",
     "exception": false,
     "start_time": "2023-01-17T09:39:54.982331",
     "status": "completed"
    },
    "tags": []
   },
   "source": [
    "### Removing duplicates\n",
    "Its important to remove duplicate rows to avoid biasness in our analysis. Since res_id is unique identifier of our restaurants, we can use it to remove duplicates."
   ]
  },
  {
   "cell_type": "code",
   "execution_count": 14,
   "id": "e724f54c",
   "metadata": {
    "papermill": {
     "duration": 0.068081,
     "end_time": "2023-01-17T09:39:55.113924",
     "exception": false,
     "start_time": "2023-01-17T09:39:55.045843",
     "status": "completed"
    },
    "tags": []
   },
   "outputs": [
    {
     "data": {
      "text/html": [
       "<div>\n",
       "<style scoped>\n",
       "    .dataframe tbody tr th:only-of-type {\n",
       "        vertical-align: middle;\n",
       "    }\n",
       "\n",
       "    .dataframe tbody tr th {\n",
       "        vertical-align: top;\n",
       "    }\n",
       "\n",
       "    .dataframe thead th {\n",
       "        text-align: right;\n",
       "    }\n",
       "</style>\n",
       "<table border=\"1\" class=\"dataframe\">\n",
       "  <thead>\n",
       "    <tr style=\"text-align: right;\">\n",
       "      <th></th>\n",
       "      <th>res_id</th>\n",
       "      <th>name</th>\n",
       "      <th>establishment</th>\n",
       "      <th>url</th>\n",
       "      <th>address</th>\n",
       "      <th>city</th>\n",
       "      <th>city_id</th>\n",
       "      <th>locality</th>\n",
       "      <th>latitude</th>\n",
       "      <th>longitude</th>\n",
       "      <th>...</th>\n",
       "      <th>price_range</th>\n",
       "      <th>currency</th>\n",
       "      <th>highlights</th>\n",
       "      <th>aggregate_rating</th>\n",
       "      <th>rating_text</th>\n",
       "      <th>votes</th>\n",
       "      <th>photo_count</th>\n",
       "      <th>opentable_support</th>\n",
       "      <th>delivery</th>\n",
       "      <th>takeaway</th>\n",
       "    </tr>\n",
       "  </thead>\n",
       "  <tbody>\n",
       "    <tr>\n",
       "      <th>0</th>\n",
       "      <td>3400299</td>\n",
       "      <td>Bikanervala</td>\n",
       "      <td>['Quick Bites']</td>\n",
       "      <td>https://www.zomato.com/agra/bikanervala-khanda...</td>\n",
       "      <td>Kalyani Point, Near Tulsi Cinema, Bypass Road,...</td>\n",
       "      <td>Agra</td>\n",
       "      <td>34</td>\n",
       "      <td>Khandari</td>\n",
       "      <td>27.211450</td>\n",
       "      <td>78.002381</td>\n",
       "      <td>...</td>\n",
       "      <td>2</td>\n",
       "      <td>Rs.</td>\n",
       "      <td>['Lunch', 'Takeaway Available', 'Credit Card',...</td>\n",
       "      <td>4.4</td>\n",
       "      <td>Very Good</td>\n",
       "      <td>814</td>\n",
       "      <td>154</td>\n",
       "      <td>0.0</td>\n",
       "      <td>-1</td>\n",
       "      <td>-1</td>\n",
       "    </tr>\n",
       "    <tr>\n",
       "      <th>1</th>\n",
       "      <td>3400005</td>\n",
       "      <td>Mama Chicken Mama Franky House</td>\n",
       "      <td>['Quick Bites']</td>\n",
       "      <td>https://www.zomato.com/agra/mama-chicken-mama-...</td>\n",
       "      <td>Main Market, Sadar Bazaar, Agra Cantt, Agra</td>\n",
       "      <td>Agra</td>\n",
       "      <td>34</td>\n",
       "      <td>Agra Cantt</td>\n",
       "      <td>27.160569</td>\n",
       "      <td>78.011583</td>\n",
       "      <td>...</td>\n",
       "      <td>2</td>\n",
       "      <td>Rs.</td>\n",
       "      <td>['Delivery', 'No Alcohol Available', 'Dinner',...</td>\n",
       "      <td>4.4</td>\n",
       "      <td>Very Good</td>\n",
       "      <td>1203</td>\n",
       "      <td>161</td>\n",
       "      <td>0.0</td>\n",
       "      <td>-1</td>\n",
       "      <td>-1</td>\n",
       "    </tr>\n",
       "    <tr>\n",
       "      <th>2</th>\n",
       "      <td>3401013</td>\n",
       "      <td>Bhagat Halwai</td>\n",
       "      <td>['Quick Bites']</td>\n",
       "      <td>https://www.zomato.com/agra/bhagat-halwai-2-sh...</td>\n",
       "      <td>62/1, Near Easy Day, West Shivaji Nagar, Goalp...</td>\n",
       "      <td>Agra</td>\n",
       "      <td>34</td>\n",
       "      <td>Shahganj</td>\n",
       "      <td>27.182938</td>\n",
       "      <td>77.979684</td>\n",
       "      <td>...</td>\n",
       "      <td>1</td>\n",
       "      <td>Rs.</td>\n",
       "      <td>['No Alcohol Available', 'Dinner', 'Takeaway A...</td>\n",
       "      <td>4.2</td>\n",
       "      <td>Very Good</td>\n",
       "      <td>801</td>\n",
       "      <td>107</td>\n",
       "      <td>0.0</td>\n",
       "      <td>1</td>\n",
       "      <td>-1</td>\n",
       "    </tr>\n",
       "    <tr>\n",
       "      <th>3</th>\n",
       "      <td>3400290</td>\n",
       "      <td>Bhagat Halwai</td>\n",
       "      <td>['Quick Bites']</td>\n",
       "      <td>https://www.zomato.com/agra/bhagat-halwai-civi...</td>\n",
       "      <td>Near Anjana Cinema, Nehru Nagar, Civil Lines, ...</td>\n",
       "      <td>Agra</td>\n",
       "      <td>34</td>\n",
       "      <td>Civil Lines</td>\n",
       "      <td>27.205668</td>\n",
       "      <td>78.004799</td>\n",
       "      <td>...</td>\n",
       "      <td>1</td>\n",
       "      <td>Rs.</td>\n",
       "      <td>['Takeaway Available', 'Credit Card', 'Lunch',...</td>\n",
       "      <td>4.3</td>\n",
       "      <td>Very Good</td>\n",
       "      <td>693</td>\n",
       "      <td>157</td>\n",
       "      <td>0.0</td>\n",
       "      <td>1</td>\n",
       "      <td>-1</td>\n",
       "    </tr>\n",
       "    <tr>\n",
       "      <th>4</th>\n",
       "      <td>3401744</td>\n",
       "      <td>The Salt Cafe Kitchen &amp; Bar</td>\n",
       "      <td>['Casual Dining']</td>\n",
       "      <td>https://www.zomato.com/agra/the-salt-cafe-kitc...</td>\n",
       "      <td>1C,3rd Floor, Fatehabad Road, Tajganj, Agra</td>\n",
       "      <td>Agra</td>\n",
       "      <td>34</td>\n",
       "      <td>Tajganj</td>\n",
       "      <td>27.157709</td>\n",
       "      <td>78.052421</td>\n",
       "      <td>...</td>\n",
       "      <td>3</td>\n",
       "      <td>Rs.</td>\n",
       "      <td>['Lunch', 'Serves Alcohol', 'Cash', 'Credit Ca...</td>\n",
       "      <td>4.9</td>\n",
       "      <td>Excellent</td>\n",
       "      <td>470</td>\n",
       "      <td>291</td>\n",
       "      <td>0.0</td>\n",
       "      <td>1</td>\n",
       "      <td>-1</td>\n",
       "    </tr>\n",
       "  </tbody>\n",
       "</table>\n",
       "<p>5 rows × 26 columns</p>\n",
       "</div>"
      ],
      "text/plain": [
       "    res_id                            name      establishment  \\\n",
       "0  3400299                     Bikanervala    ['Quick Bites']   \n",
       "1  3400005  Mama Chicken Mama Franky House    ['Quick Bites']   \n",
       "2  3401013                   Bhagat Halwai    ['Quick Bites']   \n",
       "3  3400290                   Bhagat Halwai    ['Quick Bites']   \n",
       "4  3401744     The Salt Cafe Kitchen & Bar  ['Casual Dining']   \n",
       "\n",
       "                                                 url  \\\n",
       "0  https://www.zomato.com/agra/bikanervala-khanda...   \n",
       "1  https://www.zomato.com/agra/mama-chicken-mama-...   \n",
       "2  https://www.zomato.com/agra/bhagat-halwai-2-sh...   \n",
       "3  https://www.zomato.com/agra/bhagat-halwai-civi...   \n",
       "4  https://www.zomato.com/agra/the-salt-cafe-kitc...   \n",
       "\n",
       "                                             address  city  city_id  \\\n",
       "0  Kalyani Point, Near Tulsi Cinema, Bypass Road,...  Agra       34   \n",
       "1        Main Market, Sadar Bazaar, Agra Cantt, Agra  Agra       34   \n",
       "2  62/1, Near Easy Day, West Shivaji Nagar, Goalp...  Agra       34   \n",
       "3  Near Anjana Cinema, Nehru Nagar, Civil Lines, ...  Agra       34   \n",
       "4        1C,3rd Floor, Fatehabad Road, Tajganj, Agra  Agra       34   \n",
       "\n",
       "      locality   latitude  longitude  ... price_range  currency  \\\n",
       "0     Khandari  27.211450  78.002381  ...           2       Rs.   \n",
       "1   Agra Cantt  27.160569  78.011583  ...           2       Rs.   \n",
       "2     Shahganj  27.182938  77.979684  ...           1       Rs.   \n",
       "3  Civil Lines  27.205668  78.004799  ...           1       Rs.   \n",
       "4      Tajganj  27.157709  78.052421  ...           3       Rs.   \n",
       "\n",
       "                                          highlights aggregate_rating  \\\n",
       "0  ['Lunch', 'Takeaway Available', 'Credit Card',...              4.4   \n",
       "1  ['Delivery', 'No Alcohol Available', 'Dinner',...              4.4   \n",
       "2  ['No Alcohol Available', 'Dinner', 'Takeaway A...              4.2   \n",
       "3  ['Takeaway Available', 'Credit Card', 'Lunch',...              4.3   \n",
       "4  ['Lunch', 'Serves Alcohol', 'Cash', 'Credit Ca...              4.9   \n",
       "\n",
       "  rating_text  votes  photo_count opentable_support delivery  takeaway  \n",
       "0   Very Good    814          154               0.0       -1        -1  \n",
       "1   Very Good   1203          161               0.0       -1        -1  \n",
       "2   Very Good    801          107               0.0        1        -1  \n",
       "3   Very Good    693          157               0.0        1        -1  \n",
       "4   Excellent    470          291               0.0        1        -1  \n",
       "\n",
       "[5 rows x 26 columns]"
      ]
     },
     "execution_count": 14,
     "metadata": {},
     "output_type": "execute_result"
    }
   ],
   "source": [
    "data.head()"
   ]
  },
  {
   "cell_type": "code",
   "execution_count": 15,
   "id": "5b0590e4",
   "metadata": {
    "papermill": {
     "duration": 0.072516,
     "end_time": "2023-01-17T09:39:55.220302",
     "exception": false,
     "start_time": "2023-01-17T09:39:55.147786",
     "status": "completed"
    },
    "tags": []
   },
   "outputs": [
    {
     "data": {
      "text/plain": [
       "(55568, 26)"
      ]
     },
     "execution_count": 15,
     "metadata": {},
     "output_type": "execute_result"
    }
   ],
   "source": [
    "data.drop_duplicates([\"res_id\"],keep='first',inplace=True)\n",
    "data.shape\n"
   ]
  },
  {
   "cell_type": "markdown",
   "id": "a1783c03",
   "metadata": {
    "papermill": {
     "duration": 0.033805,
     "end_time": "2023-01-17T09:39:55.286730",
     "exception": false,
     "start_time": "2023-01-17T09:39:55.252925",
     "status": "completed"
    },
    "tags": []
   },
   "source": [
    "Oops! Looks like almost 75% of our data had duplicate rows. Its good that we got that out before getting started. Even though we are left with 1/4th of our original dataset, about 55000+ restaurants is still good enough to perform analysis.\n",
    "### Dealing with missing values\n",
    "Now let's see how many variables have missing values."
   ]
  },
  {
   "cell_type": "code",
   "execution_count": 16,
   "id": "4ace0295",
   "metadata": {
    "papermill": {
     "duration": 0.086458,
     "end_time": "2023-01-17T09:39:55.406177",
     "exception": false,
     "start_time": "2023-01-17T09:39:55.319719",
     "status": "completed"
    },
    "tags": []
   },
   "outputs": [
    {
     "data": {
      "text/plain": [
       "res_id                      0\n",
       "name                        0\n",
       "establishment               0\n",
       "url                         0\n",
       "address                    18\n",
       "city                        0\n",
       "city_id                     0\n",
       "locality                    0\n",
       "latitude                    0\n",
       "longitude                   0\n",
       "zipcode                 44623\n",
       "country_id                  0\n",
       "locality_verbose            0\n",
       "cuisines                  470\n",
       "timings                  1003\n",
       "average_cost_for_two        0\n",
       "price_range                 0\n",
       "currency                    0\n",
       "highlights                  0\n",
       "aggregate_rating            0\n",
       "rating_text                 0\n",
       "votes                       0\n",
       "photo_count                 0\n",
       "opentable_support          12\n",
       "delivery                    0\n",
       "takeaway                    0\n",
       "dtype: int64"
      ]
     },
     "execution_count": 16,
     "metadata": {},
     "output_type": "execute_result"
    }
   ],
   "source": [
    "data.isnull().sum()"
   ]
  },
  {
   "cell_type": "markdown",
   "id": "fba4b3e8",
   "metadata": {
    "papermill": {
     "duration": 0.032336,
     "end_time": "2023-01-17T09:39:55.471104",
     "exception": false,
     "start_time": "2023-01-17T09:39:55.438768",
     "status": "completed"
    },
    "tags": []
   },
   "source": [
    "We have 5 variables with some kind of missing values. \n",
    "Since zipcode has ~80% missing data, its better to not consider it at all. The other 4 features can be delt with some kind of imputation, but before going through the trouble, its better to look and decide whether they would be beneficial for our analysis or we can simply omit them.\n",
    "### Omitting not useful features\n",
    "Here we will look at each feature and decide to consider them for our analysis or not:- \n",
    "1. <b>res_id</b> - Unique ID for each restaurant\n",
    "2. <b>name</b> - Name is useful since we will use it to find top restaurants\n",
    "3. <b>establishment</b> - Let's see what type of values we have in establishment"
   ]
  },
  {
   "cell_type": "code",
   "execution_count": 17,
   "id": "4d13cdd5",
   "metadata": {
    "papermill": {
     "duration": 0.050909,
     "end_time": "2023-01-17T09:39:55.554126",
     "exception": false,
     "start_time": "2023-01-17T09:39:55.503217",
     "status": "completed"
    },
    "tags": []
   },
   "outputs": [
    {
     "data": {
      "text/plain": [
       "array([\"['Quick Bites']\", \"['Casual Dining']\", \"['Bakery']\", \"['Café']\",\n",
       "       \"['Dhaba']\", \"['Bhojanalya']\", \"['Bar']\", \"['Sweet Shop']\",\n",
       "       \"['Fine Dining']\", \"['Food Truck']\", \"['Dessert Parlour']\",\n",
       "       \"['Lounge']\", \"['Pub']\", \"['Beverage Shop']\", \"['Kiosk']\",\n",
       "       \"['Paan Shop']\", \"['Confectionery']\", '[]', \"['Shack']\",\n",
       "       \"['Club']\", \"['Food Court']\", \"['Mess']\", \"['Butcher Shop']\",\n",
       "       \"['Microbrewery']\", \"['Cocktail Bar']\", \"['Pop up']\",\n",
       "       \"['Irani Cafe']\"], dtype=object)"
      ]
     },
     "execution_count": 17,
     "metadata": {},
     "output_type": "execute_result"
    }
   ],
   "source": [
    "data[\"establishment\"].unique()"
   ]
  },
  {
   "cell_type": "code",
   "execution_count": 18,
   "id": "02fd10ca",
   "metadata": {
    "papermill": {
     "duration": 0.053859,
     "end_time": "2023-01-17T09:39:55.640299",
     "exception": false,
     "start_time": "2023-01-17T09:39:55.586440",
     "status": "completed"
    },
    "tags": []
   },
   "outputs": [
    {
     "name": "stdout",
     "output_type": "stream",
     "text": [
      "['Quick Bites']\n",
      "<class 'str'>\n"
     ]
    }
   ],
   "source": [
    "print(data[\"establishment\"].unique()[0])\n",
    "print(type(data[\"establishment\"].unique()[0]))"
   ]
  },
  {
   "cell_type": "markdown",
   "id": "1903f7ff",
   "metadata": {
    "papermill": {
     "duration": 0.033547,
     "end_time": "2023-01-17T09:39:55.707141",
     "exception": false,
     "start_time": "2023-01-17T09:39:55.673594",
     "status": "completed"
    },
    "tags": []
   },
   "source": [
    "Establishment looks like a nice feature to perform EDA, however each value has an unwanted square brackets and quotes which seems noisy. Let's remove them with <b>apply( )</b> function.\n",
    "Also, we have one value which is an empty string, let's rename it to \"NA\" to avoid confusion."
   ]
  },
  {
   "cell_type": "code",
   "execution_count": 19,
   "id": "d031bf54",
   "metadata": {
    "papermill": {
     "duration": 0.271542,
     "end_time": "2023-01-17T09:39:56.011932",
     "exception": false,
     "start_time": "2023-01-17T09:39:55.740390",
     "status": "completed"
    },
    "tags": []
   },
   "outputs": [
    {
     "name": "stdout",
     "output_type": "stream",
     "text": [
      "['Quick Bites']\n",
      "Quick Bites\n",
      "['Quick Bites' 'Casual Dining' 'Bakery' 'Café' 'Dhaba' 'Bhojanalya' 'Bar'\n",
      " 'Sweet Shop' 'Fine Dining' 'Food Truck' 'Dessert Parlour' 'Lounge' 'Pub'\n",
      " 'Beverage Shop' 'Kiosk' 'Paan Shop' 'Confectionery' '' 'Shack' 'Club'\n",
      " 'Food Court' 'Mess' 'Butcher Shop' 'Microbrewery' 'Cocktail Bar' 'Pop up'\n",
      " 'Irani Cafe']\n",
      "['Quick Bites' 'Casual Dining' 'Bakery' 'Café' 'Dhaba' 'Bhojanalya' 'Bar'\n",
      " 'Sweet Shop' 'Fine Dining' 'Food Truck' 'Dessert Parlour' 'Lounge' 'Pub'\n",
      " 'Beverage Shop' 'Kiosk' 'Paan Shop' 'Confectionery' 'NA' 'Shack' 'Club'\n",
      " 'Food Court' 'Mess' 'Butcher Shop' 'Microbrewery' 'Cocktail Bar' 'Pop up'\n",
      " 'Irani Cafe']\n"
     ]
    }
   ],
   "source": [
    "# Removing [' '] from each value\n",
    "print(data[\"establishment\"].unique()[0])\n",
    "data[\"establishment\"] = data[\"establishment\"].apply(lambda x:x[2:-2])\n",
    "print(data[\"establishment\"].unique()[0])\n",
    "\n",
    "# Changing ''  to 'NA'\n",
    "print(data[\"establishment\"].unique())\n",
    "data[\"establishment\"] = data[\"establishment\"].apply(lambda x : np.where(x==\"\", \"NA\", x))\n",
    "print(data[\"establishment\"].unique())"
   ]
  },
  {
   "cell_type": "markdown",
   "id": "56fa61be",
   "metadata": {
    "papermill": {
     "duration": 0.033053,
     "end_time": "2023-01-17T09:39:56.079055",
     "exception": false,
     "start_time": "2023-01-17T09:39:56.046002",
     "status": "completed"
    },
    "tags": []
   },
   "source": [
    "4. <b>url</b> - URL is the link to restaurant's page which is not useful for us\n",
    "5. <b>address</b> - Not useful since it has long strings and its difficult to classify\n",
    "6. <b>city</b> - Let's check unique cities"
   ]
  },
  {
   "cell_type": "code",
   "execution_count": 20,
   "id": "9d5a4386",
   "metadata": {
    "papermill": {
     "duration": 0.041833,
     "end_time": "2023-01-17T09:39:56.154662",
     "exception": false,
     "start_time": "2023-01-17T09:39:56.112829",
     "status": "completed"
    },
    "tags": []
   },
   "outputs": [],
   "source": [
    "x=10\n",
    "y=11"
   ]
  },
  {
   "cell_type": "code",
   "execution_count": 21,
   "id": "e2958c78",
   "metadata": {
    "papermill": {
     "duration": 0.044335,
     "end_time": "2023-01-17T09:39:56.233441",
     "exception": false,
     "start_time": "2023-01-17T09:39:56.189106",
     "status": "completed"
    },
    "tags": []
   },
   "outputs": [
    {
     "data": {
      "text/plain": [
       "False"
      ]
     },
     "execution_count": 21,
     "metadata": {},
     "output_type": "execute_result"
    }
   ],
   "source": [
    "x==y"
   ]
  },
  {
   "cell_type": "code",
   "execution_count": 22,
   "id": "93abc032",
   "metadata": {
    "papermill": {
     "duration": 0.049258,
     "end_time": "2023-01-17T09:39:56.315401",
     "exception": false,
     "start_time": "2023-01-17T09:39:56.266143",
     "status": "completed"
    },
    "tags": []
   },
   "outputs": [
    {
     "data": {
      "text/plain": [
       "218"
      ]
     },
     "execution_count": 22,
     "metadata": {},
     "output_type": "execute_result"
    }
   ],
   "source": [
    "len(data[data[\"city\"]==\"Shimla\"])"
   ]
  },
  {
   "cell_type": "code",
   "execution_count": 23,
   "id": "be126133",
   "metadata": {
    "papermill": {
     "duration": 0.049537,
     "end_time": "2023-01-17T09:39:56.398376",
     "exception": false,
     "start_time": "2023-01-17T09:39:56.348839",
     "status": "completed"
    },
    "tags": []
   },
   "outputs": [
    {
     "data": {
      "text/plain": [
       "833"
      ]
     },
     "execution_count": 23,
     "metadata": {},
     "output_type": "execute_result"
    }
   ],
   "source": [
    "len(data[data[\"city\"]==\"Agra\"])"
   ]
  },
  {
   "cell_type": "code",
   "execution_count": 24,
   "id": "0f9f5ea5",
   "metadata": {
    "papermill": {
     "duration": 0.04946,
     "end_time": "2023-01-17T09:39:56.481232",
     "exception": false,
     "start_time": "2023-01-17T09:39:56.431772",
     "status": "completed"
    },
    "tags": []
   },
   "outputs": [
    {
     "data": {
      "text/plain": [
       "99"
      ]
     },
     "execution_count": 24,
     "metadata": {},
     "output_type": "execute_result"
    }
   ],
   "source": [
    "len(data[\"city\"].unique())"
   ]
  },
  {
   "cell_type": "code",
   "execution_count": 25,
   "id": "4aa56add",
   "metadata": {
    "papermill": {
     "duration": 0.050188,
     "end_time": "2023-01-17T09:39:56.566033",
     "exception": false,
     "start_time": "2023-01-17T09:39:56.515845",
     "status": "completed"
    },
    "tags": []
   },
   "outputs": [
    {
     "data": {
      "text/plain": [
       "array(['Agra', 'Ahmedabad', 'Gandhinagar', 'Ajmer', 'Alappuzha',\n",
       "       'Allahabad', 'Amravati', 'Amritsar', 'Aurangabad', 'Bangalore',\n",
       "       'Bhopal', 'Bhubaneshwar', 'Chandigarh', 'Mohali', 'Panchkula',\n",
       "       'Zirakpur', 'Nayagaon', 'Chennai', 'Coimbatore', 'Cuttack',\n",
       "       'Darjeeling', 'Dehradun', 'New Delhi', 'Gurgaon', 'Noida',\n",
       "       'Faridabad', 'Ghaziabad', 'Greater Noida', 'Dharamshala',\n",
       "       'Gangtok', 'Goa', 'Gorakhpur', 'Guntur', 'Guwahati', 'Gwalior',\n",
       "       'Haridwar', 'Hyderabad', 'Secunderabad', 'Indore', 'Jabalpur',\n",
       "       'Jaipur', 'Jalandhar', 'Jammu', 'Jamnagar', 'Jamshedpur', 'Jhansi',\n",
       "       'Jodhpur', 'Junagadh', 'Kanpur', 'Kharagpur', 'Kochi', 'Kolhapur',\n",
       "       'Kolkata', 'Howrah', 'Kota', 'Lucknow', 'Ludhiana', 'Madurai',\n",
       "       'Manali', 'Mangalore', 'Manipal', 'Udupi', 'Meerut', 'Mumbai',\n",
       "       'Thane', 'Navi Mumbai', 'Mussoorie', 'Mysore', 'Nagpur',\n",
       "       'Nainital', 'Nasik', 'Nashik', 'Neemrana', 'Ooty', 'Palakkad',\n",
       "       'Patiala', 'Patna', 'Puducherry', 'Pune', 'Pushkar', 'Raipur',\n",
       "       'Rajkot', 'Ranchi', 'Rishikesh', 'Salem', 'Shimla', 'Siliguri',\n",
       "       'Srinagar', 'Surat', 'Thrissur', 'Tirupati', 'Trichy',\n",
       "       'Trivandrum', 'Udaipur', 'Varanasi', 'Vellore', 'Vijayawada',\n",
       "       'Vizag', 'Vadodara'], dtype=object)"
      ]
     },
     "execution_count": 25,
     "metadata": {},
     "output_type": "execute_result"
    }
   ],
   "source": [
    "data[\"city\"].unique()"
   ]
  },
  {
   "cell_type": "code",
   "execution_count": 26,
   "id": "9a118323",
   "metadata": {
    "papermill": {
     "duration": 0.080525,
     "end_time": "2023-01-17T09:39:56.680910",
     "exception": false,
     "start_time": "2023-01-17T09:39:56.600385",
     "status": "completed"
    },
    "tags": []
   },
   "outputs": [
    {
     "data": {
      "text/html": [
       "<div>\n",
       "<style scoped>\n",
       "    .dataframe tbody tr th:only-of-type {\n",
       "        vertical-align: middle;\n",
       "    }\n",
       "\n",
       "    .dataframe tbody tr th {\n",
       "        vertical-align: top;\n",
       "    }\n",
       "\n",
       "    .dataframe thead th {\n",
       "        text-align: right;\n",
       "    }\n",
       "</style>\n",
       "<table border=\"1\" class=\"dataframe\">\n",
       "  <thead>\n",
       "    <tr style=\"text-align: right;\">\n",
       "      <th></th>\n",
       "      <th>res_id</th>\n",
       "      <th>name</th>\n",
       "      <th>establishment</th>\n",
       "      <th>url</th>\n",
       "      <th>address</th>\n",
       "      <th>city</th>\n",
       "      <th>city_id</th>\n",
       "      <th>locality</th>\n",
       "      <th>latitude</th>\n",
       "      <th>longitude</th>\n",
       "      <th>...</th>\n",
       "      <th>price_range</th>\n",
       "      <th>currency</th>\n",
       "      <th>highlights</th>\n",
       "      <th>aggregate_rating</th>\n",
       "      <th>rating_text</th>\n",
       "      <th>votes</th>\n",
       "      <th>photo_count</th>\n",
       "      <th>opentable_support</th>\n",
       "      <th>delivery</th>\n",
       "      <th>takeaway</th>\n",
       "    </tr>\n",
       "  </thead>\n",
       "  <tbody>\n",
       "    <tr>\n",
       "      <th>82579</th>\n",
       "      <td>18746666</td>\n",
       "      <td>RH Chicken Point</td>\n",
       "      <td>Quick Bites</td>\n",
       "      <td>https://www.zomato.com/jabalpur/rh-chicken-poi...</td>\n",
       "      <td>Main Road, Sadar Bazaar, Cantt, Jabalpur</td>\n",
       "      <td>Jabalpur</td>\n",
       "      <td>11336</td>\n",
       "      <td>Cantt</td>\n",
       "      <td>23.154664</td>\n",
       "      <td>79.951015</td>\n",
       "      <td>...</td>\n",
       "      <td>2</td>\n",
       "      <td>Rs.</td>\n",
       "      <td>['Lunch', 'Delivery', 'Credit Card', 'No Alcoh...</td>\n",
       "      <td>4.5</td>\n",
       "      <td>Excellent</td>\n",
       "      <td>680</td>\n",
       "      <td>24</td>\n",
       "      <td>0.0</td>\n",
       "      <td>-1</td>\n",
       "      <td>-1</td>\n",
       "    </tr>\n",
       "    <tr>\n",
       "      <th>82580</th>\n",
       "      <td>18745503</td>\n",
       "      <td>Naidu's Dilli Ki Gali Parathe Wali</td>\n",
       "      <td>Quick Bites</td>\n",
       "      <td>https://www.zomato.com/jabalpur/naidus-dilli-k...</td>\n",
       "      <td>Near Mahakaushal Chamber Bhawan, Marhathal, Ci...</td>\n",
       "      <td>Jabalpur</td>\n",
       "      <td>11336</td>\n",
       "      <td>Napier Town</td>\n",
       "      <td>23.169057</td>\n",
       "      <td>79.933869</td>\n",
       "      <td>...</td>\n",
       "      <td>1</td>\n",
       "      <td>Rs.</td>\n",
       "      <td>['Lunch', 'Cash', 'Takeaway Available', 'No Al...</td>\n",
       "      <td>4.7</td>\n",
       "      <td>Excellent</td>\n",
       "      <td>355</td>\n",
       "      <td>14</td>\n",
       "      <td>0.0</td>\n",
       "      <td>1</td>\n",
       "      <td>-1</td>\n",
       "    </tr>\n",
       "    <tr>\n",
       "      <th>82581</th>\n",
       "      <td>18815413</td>\n",
       "      <td>Riyaz Hotel - 1953</td>\n",
       "      <td>Quick Bites</td>\n",
       "      <td>https://www.zomato.com/jabalpur/riyaz-hotel-19...</td>\n",
       "      <td>993, Badi Omti, Napier Town, Jabalpur</td>\n",
       "      <td>Jabalpur</td>\n",
       "      <td>11336</td>\n",
       "      <td>Napier Town</td>\n",
       "      <td>23.170673</td>\n",
       "      <td>79.937920</td>\n",
       "      <td>...</td>\n",
       "      <td>2</td>\n",
       "      <td>Rs.</td>\n",
       "      <td>['Lunch', 'Takeaway Available', 'No Alcohol Av...</td>\n",
       "      <td>4.2</td>\n",
       "      <td>Very Good</td>\n",
       "      <td>542</td>\n",
       "      <td>9</td>\n",
       "      <td>0.0</td>\n",
       "      <td>-1</td>\n",
       "      <td>-1</td>\n",
       "    </tr>\n",
       "    <tr>\n",
       "      <th>82582</th>\n",
       "      <td>18746285</td>\n",
       "      <td>Badkul Restaurant</td>\n",
       "      <td>Casual Dining</td>\n",
       "      <td>https://www.zomato.com/jabalpur/badkul-restaur...</td>\n",
       "      <td>103-105, Deendayal Chowk, Opposite ISBT, ITI R...</td>\n",
       "      <td>Jabalpur</td>\n",
       "      <td>11336</td>\n",
       "      <td>Vijay Nagar</td>\n",
       "      <td>23.193550</td>\n",
       "      <td>79.913353</td>\n",
       "      <td>...</td>\n",
       "      <td>2</td>\n",
       "      <td>Rs.</td>\n",
       "      <td>['No Alcohol Available', 'Dinner', 'Cash', 'Ta...</td>\n",
       "      <td>4.0</td>\n",
       "      <td>Very Good</td>\n",
       "      <td>451</td>\n",
       "      <td>19</td>\n",
       "      <td>0.0</td>\n",
       "      <td>1</td>\n",
       "      <td>-1</td>\n",
       "    </tr>\n",
       "    <tr>\n",
       "      <th>82583</th>\n",
       "      <td>18825615</td>\n",
       "      <td>Popular Fresh Momos And More</td>\n",
       "      <td>Quick Bites</td>\n",
       "      <td>https://www.zomato.com/jabalpur/popular-fresh-...</td>\n",
       "      <td>Home Science College Road, Napier Town, Jabalpur</td>\n",
       "      <td>Jabalpur</td>\n",
       "      <td>11336</td>\n",
       "      <td>Wright Town</td>\n",
       "      <td>23.160413</td>\n",
       "      <td>79.925240</td>\n",
       "      <td>...</td>\n",
       "      <td>2</td>\n",
       "      <td>Rs.</td>\n",
       "      <td>['Lunch', 'Cash', 'Takeaway Available', 'No Al...</td>\n",
       "      <td>4.1</td>\n",
       "      <td>Very Good</td>\n",
       "      <td>249</td>\n",
       "      <td>43</td>\n",
       "      <td>0.0</td>\n",
       "      <td>-1</td>\n",
       "      <td>-1</td>\n",
       "    </tr>\n",
       "    <tr>\n",
       "      <th>...</th>\n",
       "      <td>...</td>\n",
       "      <td>...</td>\n",
       "      <td>...</td>\n",
       "      <td>...</td>\n",
       "      <td>...</td>\n",
       "      <td>...</td>\n",
       "      <td>...</td>\n",
       "      <td>...</td>\n",
       "      <td>...</td>\n",
       "      <td>...</td>\n",
       "      <td>...</td>\n",
       "      <td>...</td>\n",
       "      <td>...</td>\n",
       "      <td>...</td>\n",
       "      <td>...</td>\n",
       "      <td>...</td>\n",
       "      <td>...</td>\n",
       "      <td>...</td>\n",
       "      <td>...</td>\n",
       "      <td>...</td>\n",
       "      <td>...</td>\n",
       "    </tr>\n",
       "    <tr>\n",
       "      <th>85087</th>\n",
       "      <td>18890729</td>\n",
       "      <td>Muskan Family Restaurant</td>\n",
       "      <td>Casual Dining</td>\n",
       "      <td>https://www.zomato.com/jabalpur/muskan-family-...</td>\n",
       "      <td>Civic Center, Near Bata Showroom, Marhataal, C...</td>\n",
       "      <td>Jabalpur</td>\n",
       "      <td>11336</td>\n",
       "      <td>Civil Lines</td>\n",
       "      <td>23.167616</td>\n",
       "      <td>79.932721</td>\n",
       "      <td>...</td>\n",
       "      <td>1</td>\n",
       "      <td>Rs.</td>\n",
       "      <td>['Dinner', 'Cash', 'Lunch', 'Takeaway Availabl...</td>\n",
       "      <td>0.0</td>\n",
       "      <td>Not rated</td>\n",
       "      <td>3</td>\n",
       "      <td>0</td>\n",
       "      <td>0.0</td>\n",
       "      <td>-1</td>\n",
       "      <td>-1</td>\n",
       "    </tr>\n",
       "    <tr>\n",
       "      <th>85088</th>\n",
       "      <td>18859783</td>\n",
       "      <td>Pawar's South Indian &amp; Chines Food</td>\n",
       "      <td>Casual Dining</td>\n",
       "      <td>https://www.zomato.com/jabalpur/pawars-south-i...</td>\n",
       "      <td>Shop No. 34, Ganjipura Chowk, Ganjipura, Jabal...</td>\n",
       "      <td>Jabalpur</td>\n",
       "      <td>11336</td>\n",
       "      <td>Cantt</td>\n",
       "      <td>23.173200</td>\n",
       "      <td>79.931319</td>\n",
       "      <td>...</td>\n",
       "      <td>1</td>\n",
       "      <td>Rs.</td>\n",
       "      <td>['Cash']</td>\n",
       "      <td>0.0</td>\n",
       "      <td>Not rated</td>\n",
       "      <td>2</td>\n",
       "      <td>0</td>\n",
       "      <td>0.0</td>\n",
       "      <td>-1</td>\n",
       "      <td>-1</td>\n",
       "    </tr>\n",
       "    <tr>\n",
       "      <th>85090</th>\n",
       "      <td>18859976</td>\n",
       "      <td>Swastik Restaurant</td>\n",
       "      <td>Casual Dining</td>\n",
       "      <td>https://www.zomato.com/jabalpur/swastik-restau...</td>\n",
       "      <td>C/O Hotel Swastik, Building No 333, Napier Tow...</td>\n",
       "      <td>Jabalpur</td>\n",
       "      <td>11336</td>\n",
       "      <td>Cantt</td>\n",
       "      <td>23.162786</td>\n",
       "      <td>79.936645</td>\n",
       "      <td>...</td>\n",
       "      <td>1</td>\n",
       "      <td>Rs.</td>\n",
       "      <td>['Cash', 'Credit Card', 'Debit Card']</td>\n",
       "      <td>0.0</td>\n",
       "      <td>Not rated</td>\n",
       "      <td>3</td>\n",
       "      <td>0</td>\n",
       "      <td>0.0</td>\n",
       "      <td>-1</td>\n",
       "      <td>-1</td>\n",
       "    </tr>\n",
       "    <tr>\n",
       "      <th>85091</th>\n",
       "      <td>18860323</td>\n",
       "      <td>Munna Yadav Bhojanalaya</td>\n",
       "      <td>Casual Dining</td>\n",
       "      <td>https://www.zomato.com/jabalpur/munna-yadav-bh...</td>\n",
       "      <td>In Front Of Hotel Ankit, South, Civil Lines, J...</td>\n",
       "      <td>Jabalpur</td>\n",
       "      <td>11336</td>\n",
       "      <td>Cantt</td>\n",
       "      <td>23.161508</td>\n",
       "      <td>79.948811</td>\n",
       "      <td>...</td>\n",
       "      <td>1</td>\n",
       "      <td>Rs.</td>\n",
       "      <td>['Cash']</td>\n",
       "      <td>0.0</td>\n",
       "      <td>Not rated</td>\n",
       "      <td>2</td>\n",
       "      <td>0</td>\n",
       "      <td>0.0</td>\n",
       "      <td>-1</td>\n",
       "      <td>-1</td>\n",
       "    </tr>\n",
       "    <tr>\n",
       "      <th>85092</th>\n",
       "      <td>18860522</td>\n",
       "      <td>Sai Chinese &amp; Momos</td>\n",
       "      <td>Casual Dining</td>\n",
       "      <td>https://www.zomato.com/jabalpur/sai-chinese-mo...</td>\n",
       "      <td>Jabalpur - 482001, Opposite Samdariya Mall, Ne...</td>\n",
       "      <td>Jabalpur</td>\n",
       "      <td>11336</td>\n",
       "      <td>Cantt</td>\n",
       "      <td>23.168537</td>\n",
       "      <td>79.933708</td>\n",
       "      <td>...</td>\n",
       "      <td>1</td>\n",
       "      <td>Rs.</td>\n",
       "      <td>['Cash']</td>\n",
       "      <td>0.0</td>\n",
       "      <td>Not rated</td>\n",
       "      <td>2</td>\n",
       "      <td>0</td>\n",
       "      <td>0.0</td>\n",
       "      <td>-1</td>\n",
       "      <td>-1</td>\n",
       "    </tr>\n",
       "  </tbody>\n",
       "</table>\n",
       "<p>534 rows × 26 columns</p>\n",
       "</div>"
      ],
      "text/plain": [
       "         res_id                                name  establishment  \\\n",
       "82579  18746666                    RH Chicken Point    Quick Bites   \n",
       "82580  18745503  Naidu's Dilli Ki Gali Parathe Wali    Quick Bites   \n",
       "82581  18815413                  Riyaz Hotel - 1953    Quick Bites   \n",
       "82582  18746285                   Badkul Restaurant  Casual Dining   \n",
       "82583  18825615        Popular Fresh Momos And More    Quick Bites   \n",
       "...         ...                                 ...            ...   \n",
       "85087  18890729            Muskan Family Restaurant  Casual Dining   \n",
       "85088  18859783  Pawar's South Indian & Chines Food  Casual Dining   \n",
       "85090  18859976                  Swastik Restaurant  Casual Dining   \n",
       "85091  18860323             Munna Yadav Bhojanalaya  Casual Dining   \n",
       "85092  18860522                 Sai Chinese & Momos  Casual Dining   \n",
       "\n",
       "                                                     url  \\\n",
       "82579  https://www.zomato.com/jabalpur/rh-chicken-poi...   \n",
       "82580  https://www.zomato.com/jabalpur/naidus-dilli-k...   \n",
       "82581  https://www.zomato.com/jabalpur/riyaz-hotel-19...   \n",
       "82582  https://www.zomato.com/jabalpur/badkul-restaur...   \n",
       "82583  https://www.zomato.com/jabalpur/popular-fresh-...   \n",
       "...                                                  ...   \n",
       "85087  https://www.zomato.com/jabalpur/muskan-family-...   \n",
       "85088  https://www.zomato.com/jabalpur/pawars-south-i...   \n",
       "85090  https://www.zomato.com/jabalpur/swastik-restau...   \n",
       "85091  https://www.zomato.com/jabalpur/munna-yadav-bh...   \n",
       "85092  https://www.zomato.com/jabalpur/sai-chinese-mo...   \n",
       "\n",
       "                                                 address      city  city_id  \\\n",
       "82579           Main Road, Sadar Bazaar, Cantt, Jabalpur  Jabalpur    11336   \n",
       "82580  Near Mahakaushal Chamber Bhawan, Marhathal, Ci...  Jabalpur    11336   \n",
       "82581              993, Badi Omti, Napier Town, Jabalpur  Jabalpur    11336   \n",
       "82582  103-105, Deendayal Chowk, Opposite ISBT, ITI R...  Jabalpur    11336   \n",
       "82583   Home Science College Road, Napier Town, Jabalpur  Jabalpur    11336   \n",
       "...                                                  ...       ...      ...   \n",
       "85087  Civic Center, Near Bata Showroom, Marhataal, C...  Jabalpur    11336   \n",
       "85088  Shop No. 34, Ganjipura Chowk, Ganjipura, Jabal...  Jabalpur    11336   \n",
       "85090  C/O Hotel Swastik, Building No 333, Napier Tow...  Jabalpur    11336   \n",
       "85091  In Front Of Hotel Ankit, South, Civil Lines, J...  Jabalpur    11336   \n",
       "85092  Jabalpur - 482001, Opposite Samdariya Mall, Ne...  Jabalpur    11336   \n",
       "\n",
       "          locality   latitude  longitude  ... price_range  currency  \\\n",
       "82579        Cantt  23.154664  79.951015  ...           2       Rs.   \n",
       "82580  Napier Town  23.169057  79.933869  ...           1       Rs.   \n",
       "82581  Napier Town  23.170673  79.937920  ...           2       Rs.   \n",
       "82582  Vijay Nagar  23.193550  79.913353  ...           2       Rs.   \n",
       "82583  Wright Town  23.160413  79.925240  ...           2       Rs.   \n",
       "...            ...        ...        ...  ...         ...       ...   \n",
       "85087  Civil Lines  23.167616  79.932721  ...           1       Rs.   \n",
       "85088        Cantt  23.173200  79.931319  ...           1       Rs.   \n",
       "85090        Cantt  23.162786  79.936645  ...           1       Rs.   \n",
       "85091        Cantt  23.161508  79.948811  ...           1       Rs.   \n",
       "85092        Cantt  23.168537  79.933708  ...           1       Rs.   \n",
       "\n",
       "                                              highlights aggregate_rating  \\\n",
       "82579  ['Lunch', 'Delivery', 'Credit Card', 'No Alcoh...              4.5   \n",
       "82580  ['Lunch', 'Cash', 'Takeaway Available', 'No Al...              4.7   \n",
       "82581  ['Lunch', 'Takeaway Available', 'No Alcohol Av...              4.2   \n",
       "82582  ['No Alcohol Available', 'Dinner', 'Cash', 'Ta...              4.0   \n",
       "82583  ['Lunch', 'Cash', 'Takeaway Available', 'No Al...              4.1   \n",
       "...                                                  ...              ...   \n",
       "85087  ['Dinner', 'Cash', 'Lunch', 'Takeaway Availabl...              0.0   \n",
       "85088                                           ['Cash']              0.0   \n",
       "85090              ['Cash', 'Credit Card', 'Debit Card']              0.0   \n",
       "85091                                           ['Cash']              0.0   \n",
       "85092                                           ['Cash']              0.0   \n",
       "\n",
       "      rating_text  votes  photo_count opentable_support delivery  takeaway  \n",
       "82579   Excellent    680           24               0.0       -1        -1  \n",
       "82580   Excellent    355           14               0.0        1        -1  \n",
       "82581   Very Good    542            9               0.0       -1        -1  \n",
       "82582   Very Good    451           19               0.0        1        -1  \n",
       "82583   Very Good    249           43               0.0       -1        -1  \n",
       "...           ...    ...          ...               ...      ...       ...  \n",
       "85087   Not rated      3            0               0.0       -1        -1  \n",
       "85088   Not rated      2            0               0.0       -1        -1  \n",
       "85090   Not rated      3            0               0.0       -1        -1  \n",
       "85091   Not rated      2            0               0.0       -1        -1  \n",
       "85092   Not rated      2            0               0.0       -1        -1  \n",
       "\n",
       "[534 rows x 26 columns]"
      ]
     },
     "execution_count": 26,
     "metadata": {},
     "output_type": "execute_result"
    }
   ],
   "source": [
    "data[data[\"city\"]==\"Jabalpur\"]"
   ]
  },
  {
   "cell_type": "markdown",
   "id": "924d6ce7",
   "metadata": {
    "papermill": {
     "duration": 0.033635,
     "end_time": "2023-01-17T09:39:56.748492",
     "exception": false,
     "start_time": "2023-01-17T09:39:56.714857",
     "status": "completed"
    },
    "tags": []
   },
   "source": [
    "Look's good. \n",
    "7. <b>city_id</b> - We can uniquely use city name or id. So one feature is enough\n",
    "8. <b>locality</b> - Let's see number of unique values"
   ]
  },
  {
   "cell_type": "code",
   "execution_count": 27,
   "id": "650b2bcf",
   "metadata": {
    "papermill": {
     "duration": 0.050148,
     "end_time": "2023-01-17T09:39:56.833960",
     "exception": false,
     "start_time": "2023-01-17T09:39:56.783812",
     "status": "completed"
    },
    "tags": []
   },
   "outputs": [
    {
     "data": {
      "text/plain": [
       "3731"
      ]
     },
     "execution_count": 27,
     "metadata": {},
     "output_type": "execute_result"
    }
   ],
   "source": [
    "data[\"locality\"].nunique()"
   ]
  },
  {
   "cell_type": "markdown",
   "id": "65116c56",
   "metadata": {
    "papermill": {
     "duration": 0.036539,
     "end_time": "2023-01-17T09:39:56.905025",
     "exception": false,
     "start_time": "2023-01-17T09:39:56.868486",
     "status": "completed"
    },
    "tags": []
   },
   "source": [
    "Although it can be an interesting feature, but since this feature has so many unique classes, we will avoid it.\n",
    "9. <b>latitude</b> - Can be helpful while using geographic maps, but we won't be doing that here\n",
    "10. <b>longitude</b> - Same as above\n",
    "11. <b>zipcode</b> - Approx 80% missing values\n",
    "12. <b>country_id</b> - Since this dataset is for Indian restaurants, there should be just one unique id here. Let's check."
   ]
  },
  {
   "cell_type": "code",
   "execution_count": 28,
   "id": "5af467f3",
   "metadata": {
    "papermill": {
     "duration": 0.049247,
     "end_time": "2023-01-17T09:39:56.988495",
     "exception": false,
     "start_time": "2023-01-17T09:39:56.939248",
     "status": "completed"
    },
    "tags": []
   },
   "outputs": [
    {
     "data": {
      "text/plain": [
       "array([1])"
      ]
     },
     "execution_count": 28,
     "metadata": {},
     "output_type": "execute_result"
    }
   ],
   "source": [
    "data[\"country_id\"].unique()"
   ]
  },
  {
   "cell_type": "markdown",
   "id": "d9a7eaa5",
   "metadata": {
    "papermill": {
     "duration": 0.034723,
     "end_time": "2023-01-17T09:39:57.058012",
     "exception": false,
     "start_time": "2023-01-17T09:39:57.023289",
     "status": "completed"
    },
    "tags": []
   },
   "source": [
    "13. <b>locality_verbose</b> - Same as locality "
   ]
  },
  {
   "cell_type": "code",
   "execution_count": 29,
   "id": "11f28b06",
   "metadata": {
    "papermill": {
     "duration": 0.052962,
     "end_time": "2023-01-17T09:39:57.146360",
     "exception": false,
     "start_time": "2023-01-17T09:39:57.093398",
     "status": "completed"
    },
    "tags": []
   },
   "outputs": [
    {
     "data": {
      "text/plain": [
       "3910"
      ]
     },
     "execution_count": 29,
     "metadata": {},
     "output_type": "execute_result"
    }
   ],
   "source": [
    "data[\"locality_verbose\"].nunique()"
   ]
  },
  {
   "cell_type": "markdown",
   "id": "95b9eada",
   "metadata": {
    "papermill": {
     "duration": 0.034216,
     "end_time": "2023-01-17T09:39:57.216075",
     "exception": false,
     "start_time": "2023-01-17T09:39:57.181859",
     "status": "completed"
    },
    "tags": []
   },
   "source": [
    "14. <b>cuisines</b> - This feature has some missing values. Even though this has 9382 unique classes, we can see that each restaurant has a list of cusinies and the composition of the list is the reason why we have so many different cuisine classes. Let's check actual number of unique cuisine classes. But first we need to replace null values with a label."
   ]
  },
  {
   "cell_type": "code",
   "execution_count": 30,
   "id": "f7a1f7b8",
   "metadata": {
    "papermill": {
     "duration": 0.063782,
     "end_time": "2023-01-17T09:39:57.314476",
     "exception": false,
     "start_time": "2023-01-17T09:39:57.250694",
     "status": "completed"
    },
    "tags": []
   },
   "outputs": [
    {
     "name": "stdout",
     "output_type": "stream",
     "text": [
      "9382\n",
      "['North Indian, South Indian, Mithai, Street Food, Desserts'\n",
      " 'North Indian, Mughlai, Rolls, Chinese, Fast Food, Street Food'\n",
      " 'Fast Food, Mithai' ...\n",
      " 'Street Food, Biryani, Chinese, Fast Food, North Indian, Mughlai'\n",
      " 'North Indian, Chinese, Mexican, Italian, Thai, Continental'\n",
      " 'North Indian, Lucknowi, Chinese']\n"
     ]
    }
   ],
   "source": [
    "print(data[\"cuisines\"].nunique())\n",
    "print(data[\"cuisines\"].unique())"
   ]
  },
  {
   "cell_type": "code",
   "execution_count": 31,
   "id": "230bfe8b",
   "metadata": {
    "papermill": {
     "duration": 0.050858,
     "end_time": "2023-01-17T09:39:57.400828",
     "exception": false,
     "start_time": "2023-01-17T09:39:57.349970",
     "status": "completed"
    },
    "tags": []
   },
   "outputs": [],
   "source": [
    "data[\"cuisines\"] = data[\"cuisines\"].fillna(\"No cuisine\")"
   ]
  },
  {
   "cell_type": "code",
   "execution_count": 32,
   "id": "36c207f4",
   "metadata": {
    "papermill": {
     "duration": 0.105129,
     "end_time": "2023-01-17T09:39:57.542203",
     "exception": false,
     "start_time": "2023-01-17T09:39:57.437074",
     "status": "completed"
    },
    "tags": []
   },
   "outputs": [
    {
     "name": "stdout",
     "output_type": "stream",
     "text": [
      "Total number of unique cuisines =  134\n"
     ]
    }
   ],
   "source": [
    "cuisines = []\n",
    "data[\"cuisines\"].apply(lambda x : cuisines.extend(x.split(\", \")))\n",
    "cuisines = pd.Series(cuisines)\n",
    "print(\"Total number of unique cuisines = \", cuisines.nunique())"
   ]
  },
  {
   "cell_type": "markdown",
   "id": "2add02b1",
   "metadata": {
    "papermill": {
     "duration": 0.034364,
     "end_time": "2023-01-17T09:39:57.611351",
     "exception": false,
     "start_time": "2023-01-17T09:39:57.576987",
     "status": "completed"
    },
    "tags": []
   },
   "source": [
    "15. <b>timings</b> - This also has missing data, however it has 7740 unique classes. Also, it is not structured even if we try to reduce the number classes like we did in cuisines. Its better to omit it altogether."
   ]
  },
  {
   "cell_type": "code",
   "execution_count": 33,
   "id": "ce48ddc2",
   "metadata": {
    "papermill": {
     "duration": 0.058642,
     "end_time": "2023-01-17T09:39:57.704944",
     "exception": false,
     "start_time": "2023-01-17T09:39:57.646302",
     "status": "completed"
    },
    "tags": []
   },
   "outputs": [
    {
     "name": "stdout",
     "output_type": "stream",
     "text": [
      "7740\n",
      "['8:30am – 10:30pm (Mon-Sun)'\n",
      " '12:30PM to 12Midnight (Mon, Wed, Thu, Fri, Sat, Sun), 1PM to 12Midnight (Tue)'\n",
      " '9:30 AM to 11 PM' ... '8am – 2:30pm, 5pm – 10pm (Mon-Sun)'\n",
      " '8am – 3pm, 6:30pm – 11pm (Mon-Sun)'\n",
      " '4pm – 11pm (Mon, Tue, Wed, Fri, Sat, Sun), 4pm – 11:30pm (Thu)']\n"
     ]
    }
   ],
   "source": [
    "print(data[\"timings\"].nunique())\n",
    "print(data[\"timings\"].unique())"
   ]
  },
  {
   "cell_type": "markdown",
   "id": "9cd2d87c",
   "metadata": {
    "papermill": {
     "duration": 0.035242,
     "end_time": "2023-01-17T09:39:57.775994",
     "exception": false,
     "start_time": "2023-01-17T09:39:57.740752",
     "status": "completed"
    },
    "tags": []
   },
   "source": [
    "16. <b>average_cost_for_two</b> - This is an interesting feature for our analysis, although the value \"0\" is strange and should be an outlier"
   ]
  },
  {
   "cell_type": "code",
   "execution_count": 34,
   "id": "55288d1a",
   "metadata": {
    "papermill": {
     "duration": 0.04867,
     "end_time": "2023-01-17T09:39:57.860038",
     "exception": false,
     "start_time": "2023-01-17T09:39:57.811368",
     "status": "completed"
    },
    "tags": []
   },
   "outputs": [
    {
     "data": {
      "text/plain": [
       "145"
      ]
     },
     "execution_count": 34,
     "metadata": {},
     "output_type": "execute_result"
    }
   ],
   "source": [
    "data[\"average_cost_for_two\"].nunique()"
   ]
  },
  {
   "cell_type": "markdown",
   "id": "a8318533",
   "metadata": {
    "papermill": {
     "duration": 0.03539,
     "end_time": "2023-01-17T09:39:57.931161",
     "exception": false,
     "start_time": "2023-01-17T09:39:57.895771",
     "status": "completed"
    },
    "tags": []
   },
   "source": [
    "17. <b>price_range</b> - Average prices automatically characterized into bins"
   ]
  },
  {
   "cell_type": "code",
   "execution_count": 35,
   "id": "cf87e4f1",
   "metadata": {
    "papermill": {
     "duration": 0.048628,
     "end_time": "2023-01-17T09:39:58.014283",
     "exception": false,
     "start_time": "2023-01-17T09:39:57.965655",
     "status": "completed"
    },
    "tags": []
   },
   "outputs": [
    {
     "data": {
      "text/plain": [
       "array([2, 1, 3, 4])"
      ]
     },
     "execution_count": 35,
     "metadata": {},
     "output_type": "execute_result"
    }
   ],
   "source": [
    "data[\"price_range\"].unique()"
   ]
  },
  {
   "cell_type": "markdown",
   "id": "7257c82a",
   "metadata": {
    "papermill": {
     "duration": 0.034785,
     "end_time": "2023-01-17T09:39:58.083725",
     "exception": false,
     "start_time": "2023-01-17T09:39:58.048940",
     "status": "completed"
    },
    "tags": []
   },
   "source": [
    "18. <b>currency</b> - Only one class. Not useful"
   ]
  },
  {
   "cell_type": "code",
   "execution_count": 36,
   "id": "3e576b2d",
   "metadata": {
    "papermill": {
     "duration": 0.052091,
     "end_time": "2023-01-17T09:39:58.170446",
     "exception": false,
     "start_time": "2023-01-17T09:39:58.118355",
     "status": "completed"
    },
    "tags": []
   },
   "outputs": [
    {
     "data": {
      "text/plain": [
       "array(['Rs.'], dtype=object)"
      ]
     },
     "execution_count": 36,
     "metadata": {},
     "output_type": "execute_result"
    }
   ],
   "source": [
    "data[\"currency\"].unique()"
   ]
  },
  {
   "cell_type": "markdown",
   "id": "d9bf4b59",
   "metadata": {
    "papermill": {
     "duration": 0.03417,
     "end_time": "2023-01-17T09:39:58.240424",
     "exception": false,
     "start_time": "2023-01-17T09:39:58.206254",
     "status": "completed"
    },
    "tags": []
   },
   "source": [
    "19. <b>highlights</b> - They represent certain features that the restaurant specializes in and wants to highlight to their customers. Each restaurant has a list of highlights which makes the composition different for each one. We can, filter this and find total unique highlights from all restaurants."
   ]
  },
  {
   "cell_type": "code",
   "execution_count": 37,
   "id": "213deda2",
   "metadata": {
    "papermill": {
     "duration": 0.101857,
     "end_time": "2023-01-17T09:39:58.376709",
     "exception": false,
     "start_time": "2023-01-17T09:39:58.274852",
     "status": "completed"
    },
    "tags": []
   },
   "outputs": [
    {
     "name": "stdout",
     "output_type": "stream",
     "text": [
      "31228\n",
      "[\"['Lunch', 'Takeaway Available', 'Credit Card', 'Dinner', 'Cash', 'Air Conditioned', 'Indoor Seating', 'Pure Veg']\"\n",
      " \"['Delivery', 'No Alcohol Available', 'Dinner', 'Takeaway Available', 'Lunch', 'Cash', 'Indoor Seating']\"\n",
      " \"['No Alcohol Available', 'Dinner', 'Takeaway Available', 'Breakfast', 'Lunch', 'Cash', 'Delivery', 'Outdoor Seating', 'Air Conditioned', 'Self Service', 'Indoor Seating', 'Digital Payments Accepted', 'Pure Veg', 'Desserts and Bakes']\"\n",
      " ...\n",
      " \"['Dinner', 'Delivery', 'Cash', 'Takeaway Available', 'Free Parking', 'Digital Payments Accepted', 'Pure Veg', 'Indoor Seating']\"\n",
      " \"['Dinner', 'Cash', 'Takeaway Available', 'Lunch', 'Delivery', 'Free Parking', 'Indoor Seating', 'Air Conditioned', 'Outdoor Seating', 'Digital Payments Accepted', 'Catering Available', 'Pure Veg']\"\n",
      " \"['Dinner', 'Cash', 'Takeaway Available', 'Debit Card', 'Delivery', 'Credit Card', 'Free Parking', 'Outdoor Seating']\"]\n"
     ]
    }
   ],
   "source": [
    "print(data[\"highlights\"].nunique())\n",
    "print(data[\"highlights\"].unique())"
   ]
  },
  {
   "cell_type": "code",
   "execution_count": 38,
   "id": "d4406f3b",
   "metadata": {
    "papermill": {
     "duration": 0.212265,
     "end_time": "2023-01-17T09:39:58.625589",
     "exception": false,
     "start_time": "2023-01-17T09:39:58.413324",
     "status": "completed"
    },
    "tags": []
   },
   "outputs": [
    {
     "name": "stdout",
     "output_type": "stream",
     "text": [
      "Total number of unique highlights =  104\n"
     ]
    }
   ],
   "source": [
    "hl = []\n",
    "data[\"highlights\"].apply(lambda x : hl.extend(x[2:-2].split(\"', '\")))\n",
    "hl = pd.Series(hl)\n",
    "print(\"Total number of unique highlights = \", hl.nunique())"
   ]
  },
  {
   "cell_type": "markdown",
   "id": "abee6bfe",
   "metadata": {
    "papermill": {
     "duration": 0.034588,
     "end_time": "2023-01-17T09:39:58.695523",
     "exception": false,
     "start_time": "2023-01-17T09:39:58.660935",
     "status": "completed"
    },
    "tags": []
   },
   "source": [
    "20. <b>aggregate_rating</b> - Rating given to the restaurant\n",
    "21. <b>rating_text</b> - Characterisation of numeric rating into bins by using labels. We will be using direct ratings in our analysis, so we can ignore this.\n",
    "22. <b>votes</b> - Number of votes contributing to the rating\n",
    "23. <b>photo_count</b> - Photo uploads in reviews\n",
    "\n",
    "Let's check the mean and range of above features"
   ]
  },
  {
   "cell_type": "code",
   "execution_count": 39,
   "id": "0ffeecde",
   "metadata": {
    "papermill": {
     "duration": 0.073792,
     "end_time": "2023-01-17T09:39:58.803767",
     "exception": false,
     "start_time": "2023-01-17T09:39:58.729975",
     "status": "completed"
    },
    "tags": []
   },
   "outputs": [
    {
     "data": {
      "text/html": [
       "<div>\n",
       "<style scoped>\n",
       "    .dataframe tbody tr th:only-of-type {\n",
       "        vertical-align: middle;\n",
       "    }\n",
       "\n",
       "    .dataframe tbody tr th {\n",
       "        vertical-align: top;\n",
       "    }\n",
       "\n",
       "    .dataframe thead th {\n",
       "        text-align: right;\n",
       "    }\n",
       "</style>\n",
       "<table border=\"1\" class=\"dataframe\">\n",
       "  <thead>\n",
       "    <tr style=\"text-align: right;\">\n",
       "      <th></th>\n",
       "      <th>aggregate_rating</th>\n",
       "      <th>votes</th>\n",
       "      <th>photo_count</th>\n",
       "    </tr>\n",
       "  </thead>\n",
       "  <tbody>\n",
       "    <tr>\n",
       "      <th>mean</th>\n",
       "      <td>2.958593</td>\n",
       "      <td>223.330352</td>\n",
       "      <td>160.97477</td>\n",
       "    </tr>\n",
       "    <tr>\n",
       "      <th>min</th>\n",
       "      <td>0.000000</td>\n",
       "      <td>-18.000000</td>\n",
       "      <td>0.00000</td>\n",
       "    </tr>\n",
       "    <tr>\n",
       "      <th>max</th>\n",
       "      <td>4.900000</td>\n",
       "      <td>42539.000000</td>\n",
       "      <td>17702.00000</td>\n",
       "    </tr>\n",
       "  </tbody>\n",
       "</table>\n",
       "</div>"
      ],
      "text/plain": [
       "      aggregate_rating         votes  photo_count\n",
       "mean          2.958593    223.330352    160.97477\n",
       "min           0.000000    -18.000000      0.00000\n",
       "max           4.900000  42539.000000  17702.00000"
      ]
     },
     "execution_count": 39,
     "metadata": {},
     "output_type": "execute_result"
    }
   ],
   "source": [
    "data[[\"aggregate_rating\",\"votes\",\"photo_count\"]].describe().loc[[\"mean\",\"min\",\"max\"]]"
   ]
  },
  {
   "cell_type": "markdown",
   "id": "1bb52eed",
   "metadata": {
    "papermill": {
     "duration": 0.034636,
     "end_time": "2023-01-17T09:39:58.873232",
     "exception": false,
     "start_time": "2023-01-17T09:39:58.838596",
     "status": "completed"
    },
    "tags": []
   },
   "source": [
    "Rating ranges between 0 and 5 while 42539 are the maximum votes given to a restaurant. The negative value in votes might be an outlier.\n",
    "24. <b>opentable_support</b> - Not useful since no restaurant has True value for this\n",
    "25. <b>delivery</b> - This feature has 3 classes but there is no explanation for those classes. We can consider -1 and 0 to be one class or ignore this feature for now\n",
    "26. <b>takeaway</b> - Again not useful since it only has one class"
   ]
  },
  {
   "cell_type": "code",
   "execution_count": 40,
   "id": "dd4701fc",
   "metadata": {
    "papermill": {
     "duration": 0.046542,
     "end_time": "2023-01-17T09:39:58.954748",
     "exception": false,
     "start_time": "2023-01-17T09:39:58.908206",
     "status": "completed"
    },
    "tags": []
   },
   "outputs": [
    {
     "data": {
      "text/plain": [
       "array([ 0., nan])"
      ]
     },
     "execution_count": 40,
     "metadata": {},
     "output_type": "execute_result"
    }
   ],
   "source": [
    "data[\"opentable_support\"].unique()"
   ]
  },
  {
   "cell_type": "code",
   "execution_count": 41,
   "id": "0f4a18e8",
   "metadata": {
    "papermill": {
     "duration": 0.04756,
     "end_time": "2023-01-17T09:39:59.037157",
     "exception": false,
     "start_time": "2023-01-17T09:39:58.989597",
     "status": "completed"
    },
    "tags": []
   },
   "outputs": [
    {
     "data": {
      "text/plain": [
       "array([-1,  1,  0])"
      ]
     },
     "execution_count": 41,
     "metadata": {},
     "output_type": "execute_result"
    }
   ],
   "source": [
    "data[\"delivery\"].unique()"
   ]
  },
  {
   "cell_type": "code",
   "execution_count": 42,
   "id": "0d568fb8",
   "metadata": {
    "papermill": {
     "duration": 0.048318,
     "end_time": "2023-01-17T09:39:59.120505",
     "exception": false,
     "start_time": "2023-01-17T09:39:59.072187",
     "status": "completed"
    },
    "tags": []
   },
   "outputs": [
    {
     "data": {
      "text/plain": [
       "array([-1])"
      ]
     },
     "execution_count": 42,
     "metadata": {},
     "output_type": "execute_result"
    }
   ],
   "source": [
    "data[\"takeaway\"].unique()"
   ]
  },
  {
   "cell_type": "markdown",
   "id": "c7dea3eb",
   "metadata": {
    "papermill": {
     "duration": 0.036772,
     "end_time": "2023-01-17T09:39:59.192999",
     "exception": false,
     "start_time": "2023-01-17T09:39:59.156227",
     "status": "completed"
    },
    "tags": []
   },
   "source": [
    "Now that we have taken a deep look at our data, let's start with some EDA!"
   ]
  },
  {
   "cell_type": "markdown",
   "id": "c6cc2a2a",
   "metadata": {
    "papermill": {
     "duration": 0.034957,
     "end_time": "2023-01-17T09:39:59.264494",
     "exception": false,
     "start_time": "2023-01-17T09:39:59.229537",
     "status": "completed"
    },
    "tags": []
   },
   "source": [
    "## Exploratory Data Analysis (EDA)\n",
    "### Restaurant chains\n",
    "Here chains represent restaurants with more than one outlet\n",
    "#### Chains vs Outlets"
   ]
  },
  {
   "cell_type": "code",
   "execution_count": 43,
   "id": "34b81fdb",
   "metadata": {
    "papermill": {
     "duration": 0.076228,
     "end_time": "2023-01-17T09:39:59.383330",
     "exception": false,
     "start_time": "2023-01-17T09:39:59.307102",
     "status": "completed"
    },
    "tags": []
   },
   "outputs": [],
   "source": [
    "outlets = data[\"name\"].value_counts()"
   ]
  },
  {
   "cell_type": "code",
   "execution_count": 44,
   "id": "788f768a",
   "metadata": {
    "papermill": {
     "duration": 0.055428,
     "end_time": "2023-01-17T09:39:59.475978",
     "exception": false,
     "start_time": "2023-01-17T09:39:59.420550",
     "status": "completed"
    },
    "tags": []
   },
   "outputs": [
    {
     "data": {
      "text/plain": [
       "Domino's Pizza                           399\n",
       "Cafe Coffee Day                          315\n",
       "KFC                                      204\n",
       "Baskin Robbins                           202\n",
       "Keventers                                189\n",
       "                                        ... \n",
       "Boulevard 69                               1\n",
       "7-Eleven Restaurant                        1\n",
       "Food station                               1\n",
       "Silver Saloon - Taj Usha Kiran Palace      1\n",
       "Geeta lodge                                1\n",
       "Name: name, Length: 41100, dtype: int64"
      ]
     },
     "execution_count": 44,
     "metadata": {},
     "output_type": "execute_result"
    }
   ],
   "source": [
    "outlets"
   ]
  },
  {
   "cell_type": "code",
   "execution_count": 45,
   "id": "1ac456fc",
   "metadata": {
    "papermill": {
     "duration": 0.049322,
     "end_time": "2023-01-17T09:39:59.563142",
     "exception": false,
     "start_time": "2023-01-17T09:39:59.513820",
     "status": "completed"
    },
    "tags": []
   },
   "outputs": [],
   "source": [
    "chains = outlets[outlets >= 2]\n",
    "single = outlets[outlets == 1]"
   ]
  },
  {
   "cell_type": "code",
   "execution_count": 46,
   "id": "a071467e",
   "metadata": {
    "papermill": {
     "duration": 0.047712,
     "end_time": "2023-01-17T09:39:59.647843",
     "exception": false,
     "start_time": "2023-01-17T09:39:59.600131",
     "status": "completed"
    },
    "tags": []
   },
   "outputs": [
    {
     "data": {
      "text/plain": [
       "(55568, 26)"
      ]
     },
     "execution_count": 46,
     "metadata": {},
     "output_type": "execute_result"
    }
   ],
   "source": [
    "data.shape"
   ]
  },
  {
   "cell_type": "code",
   "execution_count": 47,
   "id": "f831f0d2",
   "metadata": {
    "papermill": {
     "duration": 0.049887,
     "end_time": "2023-01-17T09:39:59.733892",
     "exception": false,
     "start_time": "2023-01-17T09:39:59.684005",
     "status": "completed"
    },
    "tags": []
   },
   "outputs": [
    {
     "data": {
      "text/plain": [
       "Domino's Pizza              399\n",
       "Cafe Coffee Day             315\n",
       "KFC                         204\n",
       "Baskin Robbins              202\n",
       "Keventers                   189\n",
       "                           ... \n",
       "Santoor Restaurant            2\n",
       "The Ice House                 2\n",
       "Zaatar Arabic Restaurant      2\n",
       "Ashok & Ashok Meat Dhaba      2\n",
       "Hotel Tara                    2\n",
       "Name: name, Length: 4890, dtype: int64"
      ]
     },
     "execution_count": 47,
     "metadata": {},
     "output_type": "execute_result"
    }
   ],
   "source": [
    "chains"
   ]
  },
  {
   "cell_type": "code",
   "execution_count": 48,
   "id": "4e9c5958",
   "metadata": {
    "papermill": {
     "duration": 0.048943,
     "end_time": "2023-01-17T09:39:59.819418",
     "exception": false,
     "start_time": "2023-01-17T09:39:59.770475",
     "status": "completed"
    },
    "tags": []
   },
   "outputs": [
    {
     "name": "stdout",
     "output_type": "stream",
     "text": [
      "Total Restaurants =  55568\n",
      "Total Restaurants that are part of some chain =  19358\n",
      "Percentage of Restaurants that are part of a chain =  35.0 %\n"
     ]
    }
   ],
   "source": [
    "print(\"Total Restaurants = \", data.shape[0])\n",
    "print(\"Total Restaurants that are part of some chain = \", data.shape[0] - single.shape[0])\n",
    "print(\"Percentage of Restaurants that are part of a chain = \", np.round((data.shape[0] - single.shape[0]) / data.shape[0],2)*100, \"%\")"
   ]
  },
  {
   "cell_type": "markdown",
   "id": "67089c86",
   "metadata": {
    "papermill": {
     "duration": 0.03554,
     "end_time": "2023-01-17T09:39:59.891534",
     "exception": false,
     "start_time": "2023-01-17T09:39:59.855994",
     "status": "completed"
    },
    "tags": []
   },
   "source": [
    "<b>35%</b> of total restaurants are part of some kind of restaurant chain. Here, we should account for cases where two different retaurants might have exact same name but are not related to each other.\n",
    "#### Top restaurant chains (by number of outlets)\n",
    "Let's plot a horizontal bar graph to look at Top 10 restaurant chains. For the color scheme, we are using a list of pre-defined and selected colours to make the chart more appealing. If you want your analysis to look good visually, you should customize each and every element of your graph."
   ]
  },
  {
   "cell_type": "code",
   "execution_count": 49,
   "id": "17068fc9",
   "metadata": {
    "papermill": {
     "duration": 0.047284,
     "end_time": "2023-01-17T09:39:59.974439",
     "exception": false,
     "start_time": "2023-01-17T09:39:59.927155",
     "status": "completed"
    },
    "tags": []
   },
   "outputs": [
    {
     "data": {
      "text/plain": [
       "Domino's Pizza     399\n",
       "Cafe Coffee Day    315\n",
       "KFC                204\n",
       "Baskin Robbins     202\n",
       "Keventers          189\n",
       "Subway             178\n",
       "McDonald's         130\n",
       "Pizza Hut          125\n",
       "Barbeque Nation    112\n",
       "Burger King        110\n",
       "Name: name, dtype: int64"
      ]
     },
     "execution_count": 49,
     "metadata": {},
     "output_type": "execute_result"
    }
   ],
   "source": [
    "chains.head(10)"
   ]
  },
  {
   "cell_type": "code",
   "execution_count": 50,
   "id": "70d51dce",
   "metadata": {
    "papermill": {
     "duration": 0.072362,
     "end_time": "2023-01-17T09:40:00.082842",
     "exception": false,
     "start_time": "2023-01-17T09:40:00.010480",
     "status": "completed"
    },
    "tags": []
   },
   "outputs": [],
   "source": [
    "top10_chains = data[\"name\"].value_counts()[:10].sort_values(ascending=True)"
   ]
  },
  {
   "cell_type": "code",
   "execution_count": 51,
   "id": "63a40717",
   "metadata": {
    "papermill": {
     "duration": 0.39102,
     "end_time": "2023-01-17T09:40:00.509560",
     "exception": false,
     "start_time": "2023-01-17T09:40:00.118540",
     "status": "completed"
    },
    "tags": []
   },
   "outputs": [],
   "source": [
    "height = top10_chains.values\n",
    "bars = top10_chains.index\n",
    "y_pos = np.arange(len(bars))\n",
    "\n",
    "# fig = plt.figure(figsize=[11,7], frameon=False)\n",
    "# ax = fig.gca()\n",
    "# ax.spines[\"top\"].set_visible(\"#424242\")\n",
    "# ax.spines[\"right\"].set_visible(False)\n",
    "# ax.spines[\"left\"].set_color(\"#424242\")\n",
    "# ax.spines[\"bottom\"].set_color(\"#424242\")\n",
    "\n",
    "# #colors = [\"green\",\"blue\",\"magenta\",\"cyan\",\"gray\",\"yellow\",\"purple\",\"violet\",\"orange\",\"red\",\"maroon\"]\n",
    "# #random.shuffle(colors)\n",
    "# colors = [\"#f9cdac\",\"#f2a49f\",\"#ec7c92\",\"#e65586\",\"#bc438b\",\"#933291\",\"#692398\",\"#551c7b\",\"#41155e\",\"#2d0f41\"]\n",
    "# plt.barh(y_pos, height, color=colors)\n",
    " \n",
    "# plt.xticks(color=\"#424242\")\n",
    "\n",
    "# plt.yticks(y_pos, bars, color=\"#424242\")\n",
    "# plt.xlabel(\"Number of outlets in India\")\n",
    "\n",
    "# for i, v in enumerate(height):\n",
    "#     ax.text(v+3, i, str(v), color='#424242')\n",
    "# plt.title(\"Top 10 Restaurant chain in India (by number of outlets)\")\n",
    "\n",
    "\n",
    "# plt.show()"
   ]
  },
  {
   "cell_type": "markdown",
   "id": "a7191633",
   "metadata": {
    "papermill": {
     "duration": 0.036692,
     "end_time": "2023-01-17T09:40:00.582947",
     "exception": false,
     "start_time": "2023-01-17T09:40:00.546255",
     "status": "completed"
    },
    "tags": []
   },
   "source": [
    "This chart is majorly dominaed by big fast food chains\n",
    "#### Top restaurant chains (by average rating)\n",
    "Here we will look at top chains by their ratings. I have set the criteria of number of outlets to greater than 4 to remove some outliers."
   ]
  },
  {
   "cell_type": "code",
   "execution_count": 52,
   "id": "3126b6b3",
   "metadata": {
    "papermill": {
     "duration": 0.075996,
     "end_time": "2023-01-17T09:40:00.695647",
     "exception": false,
     "start_time": "2023-01-17T09:40:00.619651",
     "status": "completed"
    },
    "tags": []
   },
   "outputs": [],
   "source": [
    "outlets = data[\"name\"].value_counts()"
   ]
  },
  {
   "cell_type": "code",
   "execution_count": 53,
   "id": "00ca8d1d",
   "metadata": {
    "papermill": {
     "duration": 0.048061,
     "end_time": "2023-01-17T09:40:00.781188",
     "exception": false,
     "start_time": "2023-01-17T09:40:00.733127",
     "status": "completed"
    },
    "tags": []
   },
   "outputs": [],
   "source": [
    "atleast_5_outlets = outlets[outlets > 4]"
   ]
  },
  {
   "cell_type": "code",
   "execution_count": 54,
   "id": "284429c3",
   "metadata": {
    "papermill": {
     "duration": 0.069355,
     "end_time": "2023-01-17T09:40:00.887357",
     "exception": false,
     "start_time": "2023-01-17T09:40:00.818002",
     "status": "completed"
    },
    "tags": []
   },
   "outputs": [
    {
     "name": "stderr",
     "output_type": "stream",
     "text": [
      "<ipython-input-54-016da1725982>:1: FutureWarning: The default value of numeric_only in DataFrameGroupBy.mean is deprecated. In a future version, numeric_only will default to False. Either specify numeric_only or select only columns which should be valid for the function.\n",
      "  top10_chains2 = data[data[\"name\"].isin(atleast_5_outlets.index)].groupby(\"name\").mean()[\"aggregate_rating\"].sort_values(ascending=False)[:10].sort_values(ascending=True)\n"
     ]
    }
   ],
   "source": [
    "top10_chains2 = data[data[\"name\"].isin(atleast_5_outlets.index)].groupby(\"name\").mean()[\"aggregate_rating\"].sort_values(ascending=False)[:10].sort_values(ascending=True)"
   ]
  },
  {
   "cell_type": "code",
   "execution_count": 55,
   "id": "5ee2ec6e",
   "metadata": {
    "papermill": {
     "duration": 0.365594,
     "end_time": "2023-01-17T09:40:01.289024",
     "exception": false,
     "start_time": "2023-01-17T09:40:00.923430",
     "status": "completed"
    },
    "tags": []
   },
   "outputs": [],
   "source": [
    "height = pd.Series(top10_chains2.values).map(lambda x : np.round(x, 2))\n",
    "bars = top10_chains2.index\n",
    "y_pos = np.arange(len(bars))\n",
    "\n",
    "# fig = plt.figure(figsize=[11,7], frameon=False)\n",
    "# ax = fig.gca()\n",
    "# ax.spines[\"top\"].set_visible(\"#424242\")\n",
    "# ax.spines[\"right\"].set_visible(False)\n",
    "# ax.spines[\"left\"].set_color(\"#424242\")\n",
    "# ax.spines[\"bottom\"].set_color(\"#424242\")\n",
    "\n",
    "# #colors = [\"green\",\"blue\",\"magenta\",\"cyan\",\"gray\",\"yellow\",\"purple\",\"violet\",\"orange\",\"red\",\"maroon\"]\n",
    "# #random.shuffle(colors)\n",
    "# colors = ['#fded86', '#fce36b', '#f7c65d', '#f1a84f', '#ec8c41', '#e76f34', '#e25328', '#b04829', '#7e3e2b', '#4c3430']\n",
    "# plt.barh(y_pos, height, color=colors)\n",
    "\n",
    "# plt.xlim(3)\n",
    "# plt.xticks(color=\"#424242\")\n",
    "# plt.yticks(y_pos, bars, color=\"#424242\")\n",
    "# plt.xlabel(\"Number of outlets in India\")\n",
    "\n",
    "# for i, v in enumerate(height):\n",
    "#     ax.text(v + 0.01, i, str(v), color='#424242')\n",
    "# plt.title(\"Top 10 Restaurant chain in India (by average Rating)\")\n",
    "\n",
    "\n",
    "# plt.show()"
   ]
  },
  {
   "cell_type": "markdown",
   "id": "18d866e1",
   "metadata": {
    "papermill": {
     "duration": 0.038631,
     "end_time": "2023-01-17T09:40:01.367210",
     "exception": false,
     "start_time": "2023-01-17T09:40:01.328579",
     "status": "completed"
    },
    "tags": []
   },
   "source": [
    "Interestingly, no fast food chain appears in this chart. To maintain a high rating, restaurants needs to provide superior service which becomes impossible with booming fast food restaurant in every street.\n",
    "\n",
    "### Establishment Types\n",
    "#### Number of restaurants (by establishment type)"
   ]
  },
  {
   "cell_type": "code",
   "execution_count": 56,
   "id": "f6f1850d",
   "metadata": {
    "papermill": {
     "duration": 0.309486,
     "end_time": "2023-01-17T09:40:01.716051",
     "exception": false,
     "start_time": "2023-01-17T09:40:01.406565",
     "status": "completed"
    },
    "tags": []
   },
   "outputs": [],
   "source": [
    "est_count = data.groupby(\"establishment\").count()[\"res_id\"].sort_values(ascending=False)[:5]\n",
    "\n",
    "# fig = plt.figure(figsize=[8,5], frameon=False)\n",
    "# ax = fig.gca()\n",
    "# ax.spines[\"top\"].set_visible(False)\n",
    "# ax.spines[\"right\"].set_visible(False)\n",
    "# ax.spines[\"left\"].set_color(\"#424242\")\n",
    "# ax.spines[\"bottom\"].set_color(\"#424242\")\n",
    "\n",
    "# #colors = [\"green\",\"blue\",\"magenta\",\"cyan\",\"gray\",\"yellow\",\"purple\",\"violet\",\"orange\",\"red\",\"maroon\"]\n",
    "# #random.shuffle(colors)\n",
    "# colors = [\"#2d0f41\",'#933291',\"#e65586\",\"#f2a49f\",\"#f9cdac\"]\n",
    "# plt.bar(est_count.index, est_count.values, color=colors)\n",
    "\n",
    "# plt.xticks(range(0, 6), color=\"#424242\")\n",
    "# plt.yticks(range(0, 25000, 5000), color=\"#424242\")\n",
    "# plt.xlabel(\"Top 5 establishment types\")\n",
    "\n",
    "# for i, v in enumerate(est_count):\n",
    "#     ax.text(i-0.2, v+500, str(v), color='#424242')\n",
    "# plt.title(\"Number of restaurants (by establishment type)\")\n",
    "\n",
    "\n",
    "# plt.show()"
   ]
  },
  {
   "cell_type": "markdown",
   "id": "66991d44",
   "metadata": {
    "papermill": {
     "duration": 0.038423,
     "end_time": "2023-01-17T09:40:01.799356",
     "exception": false,
     "start_time": "2023-01-17T09:40:01.760933",
     "status": "completed"
    },
    "tags": []
   },
   "source": [
    "Top 3 represents more casual and quick service restaurants, then from 4-6 we have dessert based shops.\n",
    "#### Average rating, votes and photos (by Establishment)\n",
    "Here, we will not plot each graph since it will make this notebook filled with horizontal bar charts. I see horizontal bar charts the only option to display results of this kind when we have lots of classes to compare (here 10 classes). Let's look at <b>value_counts( )</b> directly"
   ]
  },
  {
   "cell_type": "code",
   "execution_count": 57,
   "id": "13773edf",
   "metadata": {
    "papermill": {
     "duration": 0.07803,
     "end_time": "2023-01-17T09:40:01.917807",
     "exception": false,
     "start_time": "2023-01-17T09:40:01.839777",
     "status": "completed"
    },
    "tags": []
   },
   "outputs": [
    {
     "name": "stderr",
     "output_type": "stream",
     "text": [
      "<ipython-input-57-b366fe753645>:1: FutureWarning: The default value of numeric_only in DataFrameGroupBy.mean is deprecated. In a future version, numeric_only will default to False. Either specify numeric_only or select only columns which should be valid for the function.\n",
      "  rating_by_est = data.groupby(\"establishment\").mean()[\"aggregate_rating\"].sort_values(ascending=False)[:10]\n"
     ]
    },
    {
     "data": {
      "text/plain": [
       "establishment\n",
       "Microbrewery     4.268182\n",
       "Pub              3.758263\n",
       "Cocktail Bar     3.531250\n",
       "Fine Dining      3.436547\n",
       "Lounge           3.436463\n",
       "Club             3.378571\n",
       "Irani Cafe       3.321429\n",
       "Casual Dining    3.238680\n",
       "Café             3.212345\n",
       "Butcher Shop     3.110390\n",
       "Name: aggregate_rating, dtype: float64"
      ]
     },
     "execution_count": 57,
     "metadata": {},
     "output_type": "execute_result"
    }
   ],
   "source": [
    "rating_by_est = data.groupby(\"establishment\").mean()[\"aggregate_rating\"].sort_values(ascending=False)[:10]\n",
    "rating_by_est"
   ]
  },
  {
   "cell_type": "code",
   "execution_count": 58,
   "id": "7b69a857",
   "metadata": {
    "papermill": {
     "duration": 0.049591,
     "end_time": "2023-01-17T09:40:02.007923",
     "exception": false,
     "start_time": "2023-01-17T09:40:01.958332",
     "status": "completed"
    },
    "tags": []
   },
   "outputs": [],
   "source": [
    "# To check the number of outlets in each of the above establishment type, uncomment to following code\n",
    "\n",
    "#est_count = data.groupby(\"establishment\").count()[\"name\"].sort_values(ascending=False)\n",
    "#rating_by_est_map = est_count.index.isin(rating_by_est.index)\n",
    "#est_count = est_count[rating_by_est_map][rating_by_est.index]\n",
    "#est_count"
   ]
  },
  {
   "cell_type": "code",
   "execution_count": 59,
   "id": "59027cf3",
   "metadata": {
    "papermill": {
     "duration": 0.083211,
     "end_time": "2023-01-17T09:40:02.133475",
     "exception": false,
     "start_time": "2023-01-17T09:40:02.050264",
     "status": "completed"
    },
    "tags": []
   },
   "outputs": [
    {
     "name": "stderr",
     "output_type": "stream",
     "text": [
      "<ipython-input-59-ca49ccfa1c15>:1: FutureWarning: The default value of numeric_only in DataFrameGroupBy.mean is deprecated. In a future version, numeric_only will default to False. Either specify numeric_only or select only columns which should be valid for the function.\n",
      "  data.groupby(\"establishment\").mean()[\"votes\"].sort_values(ascending=False)[:10]\n"
     ]
    },
    {
     "data": {
      "text/plain": [
       "establishment\n",
       "Microbrewery     1992.300000\n",
       "Pub               880.274510\n",
       "Bar               500.613295\n",
       "Lounge            494.509756\n",
       "Casual Dining     396.339935\n",
       "Cocktail Bar      309.625000\n",
       "Club              300.544643\n",
       "Fine Dining       293.126384\n",
       "Café              276.558574\n",
       "Irani Cafe        178.714286\n",
       "Name: votes, dtype: float64"
      ]
     },
     "execution_count": 59,
     "metadata": {},
     "output_type": "execute_result"
    }
   ],
   "source": [
    "data.groupby(\"establishment\").mean()[\"votes\"].sort_values(ascending=False)[:10]"
   ]
  },
  {
   "cell_type": "code",
   "execution_count": 60,
   "id": "7b4649d9",
   "metadata": {
    "papermill": {
     "duration": 0.078213,
     "end_time": "2023-01-17T09:40:02.252536",
     "exception": false,
     "start_time": "2023-01-17T09:40:02.174323",
     "status": "completed"
    },
    "tags": []
   },
   "outputs": [
    {
     "name": "stderr",
     "output_type": "stream",
     "text": [
      "<ipython-input-60-16d67b36e595>:1: FutureWarning: The default value of numeric_only in DataFrameGroupBy.mean is deprecated. In a future version, numeric_only will default to False. Either specify numeric_only or select only columns which should be valid for the function.\n",
      "  data.groupby(\"establishment\").mean()[\"photo_count\"].sort_values(ascending=False)[:10]\n"
     ]
    },
    {
     "data": {
      "text/plain": [
       "establishment\n",
       "Microbrewery     2042.054545\n",
       "Pub               652.955182\n",
       "Cocktail Bar      555.625000\n",
       "Lounge            514.687805\n",
       "Bar               513.321658\n",
       "Fine Dining       364.817590\n",
       "Café              331.935969\n",
       "Casual Dining     291.550448\n",
       "Irani Cafe        173.000000\n",
       "Club              107.089286\n",
       "Name: photo_count, dtype: float64"
      ]
     },
     "execution_count": 60,
     "metadata": {},
     "output_type": "execute_result"
    }
   ],
   "source": [
    "data.groupby(\"establishment\").mean()[\"photo_count\"].sort_values(ascending=False)[:10]"
   ]
  },
  {
   "cell_type": "markdown",
   "id": "bd0563f7",
   "metadata": {
    "papermill": {
     "duration": 0.038281,
     "end_time": "2023-01-17T09:40:02.330830",
     "exception": false,
     "start_time": "2023-01-17T09:40:02.292549",
     "status": "completed"
    },
    "tags": []
   },
   "source": [
    "It can be concluded that establishments with alcohol availability have highest average ratings, votes and photo uploads.\n",
    "\n",
    "### Cities\n",
    "#### Number of restaurants (by city)"
   ]
  },
  {
   "cell_type": "code",
   "execution_count": 61,
   "id": "7c9f952c",
   "metadata": {
    "papermill": {
     "duration": 0.383592,
     "end_time": "2023-01-17T09:40:02.755862",
     "exception": false,
     "start_time": "2023-01-17T09:40:02.372270",
     "status": "completed"
    },
    "tags": []
   },
   "outputs": [],
   "source": [
    "city_counts = data.groupby(\"city\").count()[\"res_id\"].sort_values(ascending=True)[-10:]\n",
    "\n",
    "# height = pd.Series(city_counts.values)\n",
    "# bars = city_counts.index\n",
    "# y_pos = np.arange(len(bars))\n",
    "\n",
    "# fig = plt.figure(figsize=[11,7], frameon=False)\n",
    "# ax = fig.gca()\n",
    "# ax.spines[\"top\"].set_visible(\"#424242\")\n",
    "# ax.spines[\"right\"].set_visible(False)\n",
    "# ax.spines[\"left\"].set_color(\"#424242\")\n",
    "# ax.spines[\"bottom\"].set_color(\"#424242\")\n",
    "\n",
    "# #colors = [\"green\",\"blue\",\"magenta\",\"cyan\",\"gray\",\"yellow\",\"purple\",\"violet\",\"orange\",\"red\",\"maroon\"]\n",
    "# #random.shuffle(colors)\n",
    "# colors = ['#dcecc9', '#aadacc', '#78c6d0', '#48b3d3', '#3e94c0', '#3474ac', '#2a5599', '#203686', '#18216b', '#11174b']\n",
    "# plt.barh(y_pos, height, color=colors)\n",
    "\n",
    "# plt.xlim(3)\n",
    "# plt.xticks(color=\"#424242\")\n",
    "# plt.yticks(y_pos, bars, color=\"#424242\")\n",
    "# plt.xlabel(\"Number of outlets\")\n",
    "\n",
    "# for i, v in enumerate(height):\n",
    "#     ax.text(v + 20, i, str(v), color='#424242')\n",
    "# plt.title(\"Number of restaurants (by city)\")\n",
    "\n",
    "\n",
    "# plt.show()"
   ]
  },
  {
   "cell_type": "markdown",
   "id": "e2598b58",
   "metadata": {
    "papermill": {
     "duration": 0.039343,
     "end_time": "2023-01-17T09:40:02.834531",
     "exception": false,
     "start_time": "2023-01-17T09:40:02.795188",
     "status": "completed"
    },
    "tags": []
   },
   "source": [
    "As expected, metro cities have more number of restaurants than others with South India dominating the Top 4\n",
    "\n",
    "#### Average rating, votes and photos (by city)"
   ]
  },
  {
   "cell_type": "code",
   "execution_count": 62,
   "id": "a03676db",
   "metadata": {
    "papermill": {
     "duration": 0.078212,
     "end_time": "2023-01-17T09:40:02.952110",
     "exception": false,
     "start_time": "2023-01-17T09:40:02.873898",
     "status": "completed"
    },
    "tags": []
   },
   "outputs": [
    {
     "name": "stderr",
     "output_type": "stream",
     "text": [
      "<ipython-input-62-395813265c49>:1: FutureWarning: The default value of numeric_only in DataFrameGroupBy.mean is deprecated. In a future version, numeric_only will default to False. Either specify numeric_only or select only columns which should be valid for the function.\n",
      "  rating_by_city = data.groupby(\"city\").mean()[\"aggregate_rating\"].sort_values(ascending=False)[:10]\n"
     ]
    },
    {
     "data": {
      "text/plain": [
       "city\n",
       "Gurgaon         3.828525\n",
       "Secunderabad    3.822222\n",
       "Hyderabad       3.755839\n",
       "Kolkata         3.751947\n",
       "New Delhi       3.727347\n",
       "Mumbai          3.709298\n",
       "Bangalore       3.698175\n",
       "Noida           3.620307\n",
       "Chennai         3.597701\n",
       "Pune            3.509224\n",
       "Name: aggregate_rating, dtype: float64"
      ]
     },
     "execution_count": 62,
     "metadata": {},
     "output_type": "execute_result"
    }
   ],
   "source": [
    "rating_by_city = data.groupby(\"city\").mean()[\"aggregate_rating\"].sort_values(ascending=False)[:10]\n",
    "rating_by_city"
   ]
  },
  {
   "cell_type": "code",
   "execution_count": 63,
   "id": "696aac39",
   "metadata": {
    "papermill": {
     "duration": 0.04857,
     "end_time": "2023-01-17T09:40:03.040441",
     "exception": false,
     "start_time": "2023-01-17T09:40:02.991871",
     "status": "completed"
    },
    "tags": []
   },
   "outputs": [],
   "source": [
    "# To check the number of outlets in each of the above establishment type\n",
    "\n",
    "#city_count = data.groupby(\"city\").count()[\"name\"].sort_values(ascending=False)\n",
    "#rating_by_city_map = city_count.index.isin(rating_by_city.index)\n",
    "#city_count = city_count[rating_by_city_map][rating_by_city.index]\n",
    "#city_count"
   ]
  },
  {
   "cell_type": "code",
   "execution_count": 64,
   "id": "3eda89d1",
   "metadata": {
    "papermill": {
     "duration": 0.076178,
     "end_time": "2023-01-17T09:40:03.155323",
     "exception": false,
     "start_time": "2023-01-17T09:40:03.079145",
     "status": "completed"
    },
    "tags": []
   },
   "outputs": [
    {
     "name": "stderr",
     "output_type": "stream",
     "text": [
      "<ipython-input-64-ec2a7c3831fc>:1: FutureWarning: The default value of numeric_only in DataFrameGroupBy.mean is deprecated. In a future version, numeric_only will default to False. Either specify numeric_only or select only columns which should be valid for the function.\n",
      "  data.groupby(\"city\").mean()[\"votes\"].sort_values(ascending=False)[:10]\n"
     ]
    },
    {
     "data": {
      "text/plain": [
       "city\n",
       "Hyderabad       955.549878\n",
       "Secunderabad    955.433333\n",
       "Mumbai          797.158259\n",
       "Bangalore       724.940365\n",
       "New Delhi       711.116197\n",
       "Kolkata         615.706833\n",
       "Gurgaon         613.180328\n",
       "Noida           515.570881\n",
       "Pune            475.715681\n",
       "Navi Mumbai     443.342995\n",
       "Name: votes, dtype: float64"
      ]
     },
     "execution_count": 64,
     "metadata": {},
     "output_type": "execute_result"
    }
   ],
   "source": [
    "data.groupby(\"city\").mean()[\"votes\"].sort_values(ascending=False)[:10]"
   ]
  },
  {
   "cell_type": "code",
   "execution_count": 65,
   "id": "19400e0d",
   "metadata": {
    "papermill": {
     "duration": 0.076825,
     "end_time": "2023-01-17T09:40:03.272412",
     "exception": false,
     "start_time": "2023-01-17T09:40:03.195587",
     "status": "completed"
    },
    "tags": []
   },
   "outputs": [
    {
     "name": "stderr",
     "output_type": "stream",
     "text": [
      "<ipython-input-65-ba998bdd8cf7>:1: FutureWarning: The default value of numeric_only in DataFrameGroupBy.mean is deprecated. In a future version, numeric_only will default to False. Either specify numeric_only or select only columns which should be valid for the function.\n",
      "  data.groupby(\"city\").mean()[\"photo_count\"].sort_values(ascending=False)[:10]\n"
     ]
    },
    {
     "data": {
      "text/plain": [
       "city\n",
       "Mumbai         882.273492\n",
       "New Delhi      764.258216\n",
       "Gurgaon        678.491803\n",
       "Kolkata        667.558413\n",
       "Navi Mumbai    547.323671\n",
       "Thane          514.963855\n",
       "Noida          492.291188\n",
       "Bangalore      462.287939\n",
       "Hyderabad      377.274939\n",
       "Pune           333.320130\n",
       "Name: photo_count, dtype: float64"
      ]
     },
     "execution_count": 65,
     "metadata": {},
     "output_type": "execute_result"
    }
   ],
   "source": [
    "data.groupby(\"city\").mean()[\"photo_count\"].sort_values(ascending=False)[:10]"
   ]
  },
  {
   "cell_type": "markdown",
   "id": "bf3e7ee7",
   "metadata": {
    "papermill": {
     "duration": 0.038193,
     "end_time": "2023-01-17T09:40:03.350137",
     "exception": false,
     "start_time": "2023-01-17T09:40:03.311944",
     "status": "completed"
    },
    "tags": []
   },
   "source": [
    "Gurgaon has highest rated restaurants whereas Hyderabad has more number of critics. Mumbai and New Delhi dominates for most photo uploads per outlet.\n",
    "\n",
    "### Cuisine\n",
    "#### Unique cuisines"
   ]
  },
  {
   "cell_type": "code",
   "execution_count": 66,
   "id": "d0245120",
   "metadata": {
    "papermill": {
     "duration": 0.065522,
     "end_time": "2023-01-17T09:40:03.454813",
     "exception": false,
     "start_time": "2023-01-17T09:40:03.389291",
     "status": "completed"
    },
    "tags": []
   },
   "outputs": [
    {
     "name": "stdout",
     "output_type": "stream",
     "text": [
      "Total number of unique cuisines =  134\n"
     ]
    }
   ],
   "source": [
    "print(\"Total number of unique cuisines = \", cuisines.nunique())"
   ]
  },
  {
   "cell_type": "markdown",
   "id": "1d560b2c",
   "metadata": {
    "papermill": {
     "duration": 0.039907,
     "end_time": "2023-01-17T09:40:03.534263",
     "exception": false,
     "start_time": "2023-01-17T09:40:03.494356",
     "status": "completed"
    },
    "tags": []
   },
   "source": [
    "#### Number of restaurants (by cuisine)"
   ]
  },
  {
   "cell_type": "code",
   "execution_count": 67,
   "id": "9a873ad1",
   "metadata": {
    "papermill": {
     "duration": 0.276952,
     "end_time": "2023-01-17T09:40:03.851310",
     "exception": false,
     "start_time": "2023-01-17T09:40:03.574358",
     "status": "completed"
    },
    "tags": []
   },
   "outputs": [],
   "source": [
    "c_count = cuisines.value_counts()[:5]\n",
    "\n",
    "# fig = plt.figure(figsize=[8,5], frameon=False)\n",
    "# ax = fig.gca()\n",
    "# ax.spines[\"top\"].set_visible(False)\n",
    "# ax.spines[\"right\"].set_visible(False)\n",
    "# ax.spines[\"left\"].set_color(\"#424242\")\n",
    "# ax.spines[\"bottom\"].set_color(\"#424242\")\n",
    "\n",
    "# #colors = [\"green\",\"blue\",\"magenta\",\"cyan\",\"gray\",\"yellow\",\"purple\",\"violet\",\"orange\",\"red\",\"maroon\"]\n",
    "# #random.shuffle(colors)\n",
    "# colors = ['#4c3430', '#b04829', '#ec8c41', '#f7c65d','#fded86']\n",
    "# plt.bar(c_count.index, c_count.values, color=colors)\n",
    "\n",
    "# plt.xticks(range(0, 6), color=\"#424242\")\n",
    "# plt.yticks(range(0, 30000, 5000), color=\"#424242\")\n",
    "# plt.xlabel(\"Top 5 cuisines\")\n",
    "\n",
    "# for i, v in enumerate(c_count):\n",
    "#     ax.text(i-0.2, v+500, str(v), color='#424242')\n",
    "# plt.title(\"Number of restaurants (by cuisine type)\")\n",
    "\n",
    "\n",
    "# plt.show()"
   ]
  },
  {
   "cell_type": "markdown",
   "id": "59ea400b",
   "metadata": {
    "papermill": {
     "duration": 0.040605,
     "end_time": "2023-01-17T09:40:03.933491",
     "exception": false,
     "start_time": "2023-01-17T09:40:03.892886",
     "status": "completed"
    },
    "tags": []
   },
   "source": [
    "Surprisingly, Chinese food comes second in the list of cuisines that Indians prefer, even more than fast food, desserts and South Indian food.\n",
    "#### Highest rated cuisines"
   ]
  },
  {
   "cell_type": "code",
   "execution_count": 68,
   "id": "96908a0b",
   "metadata": {
    "papermill": {
     "duration": 0.241042,
     "end_time": "2023-01-17T09:40:04.214499",
     "exception": false,
     "start_time": "2023-01-17T09:40:03.973457",
     "status": "completed"
    },
    "tags": []
   },
   "outputs": [],
   "source": [
    "data[\"cuisines2\"] = data['cuisines'].apply(lambda x : x.split(\", \"))\n",
    "\n",
    "cuisines_list = cuisines.unique().tolist()\n",
    "zeros = np.zeros(shape=(len(cuisines_list),2))\n",
    "c_and_r = pd.DataFrame(zeros, index=cuisines_list, columns=[\"Sum\",\"Total\"])"
   ]
  },
  {
   "cell_type": "code",
   "execution_count": 69,
   "id": "69ab2dc5",
   "metadata": {
    "papermill": {
     "duration": 29.7742,
     "end_time": "2023-01-17T09:40:34.028610",
     "exception": false,
     "start_time": "2023-01-17T09:40:04.254410",
     "status": "completed"
    },
    "tags": []
   },
   "outputs": [],
   "source": [
    "for i, x in data.iterrows():\n",
    "    for j in x[\"cuisines2\"]:\n",
    "        c_and_r.loc[j][\"Sum\"] += x[\"aggregate_rating\"]  \n",
    "        c_and_r.loc[j][\"Total\"] += 1"
   ]
  },
  {
   "cell_type": "code",
   "execution_count": 70,
   "id": "e3f4997a",
   "metadata": {
    "papermill": {
     "duration": 0.073363,
     "end_time": "2023-01-17T09:40:34.144208",
     "exception": false,
     "start_time": "2023-01-17T09:40:34.070845",
     "status": "completed"
    },
    "tags": []
   },
   "outputs": [
    {
     "data": {
      "text/html": [
       "<div>\n",
       "<style scoped>\n",
       "    .dataframe tbody tr th:only-of-type {\n",
       "        vertical-align: middle;\n",
       "    }\n",
       "\n",
       "    .dataframe tbody tr th {\n",
       "        vertical-align: top;\n",
       "    }\n",
       "\n",
       "    .dataframe thead th {\n",
       "        text-align: right;\n",
       "    }\n",
       "</style>\n",
       "<table border=\"1\" class=\"dataframe\">\n",
       "  <thead>\n",
       "    <tr style=\"text-align: right;\">\n",
       "      <th></th>\n",
       "      <th>Sum</th>\n",
       "      <th>Total</th>\n",
       "      <th>Mean</th>\n",
       "    </tr>\n",
       "  </thead>\n",
       "  <tbody>\n",
       "    <tr>\n",
       "      <th>North Indian</th>\n",
       "      <td>60055.2</td>\n",
       "      <td>19226.0</td>\n",
       "      <td>3.123645</td>\n",
       "    </tr>\n",
       "    <tr>\n",
       "      <th>South Indian</th>\n",
       "      <td>18635.3</td>\n",
       "      <td>6381.0</td>\n",
       "      <td>2.920436</td>\n",
       "    </tr>\n",
       "    <tr>\n",
       "      <th>Mithai</th>\n",
       "      <td>8545.7</td>\n",
       "      <td>3144.0</td>\n",
       "      <td>2.718098</td>\n",
       "    </tr>\n",
       "    <tr>\n",
       "      <th>Street Food</th>\n",
       "      <td>10794.6</td>\n",
       "      <td>3715.0</td>\n",
       "      <td>2.905680</td>\n",
       "    </tr>\n",
       "    <tr>\n",
       "      <th>Desserts</th>\n",
       "      <td>22723.9</td>\n",
       "      <td>7064.0</td>\n",
       "      <td>3.216860</td>\n",
       "    </tr>\n",
       "    <tr>\n",
       "      <th>...</th>\n",
       "      <td>...</td>\n",
       "      <td>...</td>\n",
       "      <td>...</td>\n",
       "    </tr>\n",
       "    <tr>\n",
       "      <th>Swedish</th>\n",
       "      <td>3.6</td>\n",
       "      <td>1.0</td>\n",
       "      <td>3.600000</td>\n",
       "    </tr>\n",
       "    <tr>\n",
       "      <th>Cake</th>\n",
       "      <td>6.4</td>\n",
       "      <td>2.0</td>\n",
       "      <td>3.200000</td>\n",
       "    </tr>\n",
       "    <tr>\n",
       "      <th>Garhwali</th>\n",
       "      <td>3.3</td>\n",
       "      <td>2.0</td>\n",
       "      <td>1.650000</td>\n",
       "    </tr>\n",
       "    <tr>\n",
       "      <th>Vegan</th>\n",
       "      <td>3.5</td>\n",
       "      <td>1.0</td>\n",
       "      <td>3.500000</td>\n",
       "    </tr>\n",
       "    <tr>\n",
       "      <th>Afghani</th>\n",
       "      <td>3.4</td>\n",
       "      <td>3.0</td>\n",
       "      <td>1.133333</td>\n",
       "    </tr>\n",
       "  </tbody>\n",
       "</table>\n",
       "<p>134 rows × 3 columns</p>\n",
       "</div>"
      ],
      "text/plain": [
       "                  Sum    Total      Mean\n",
       "North Indian  60055.2  19226.0  3.123645\n",
       "South Indian  18635.3   6381.0  2.920436\n",
       "Mithai         8545.7   3144.0  2.718098\n",
       "Street Food   10794.6   3715.0  2.905680\n",
       "Desserts      22723.9   7064.0  3.216860\n",
       "...               ...      ...       ...\n",
       "Swedish           3.6      1.0  3.600000\n",
       "Cake              6.4      2.0  3.200000\n",
       "Garhwali          3.3      2.0  1.650000\n",
       "Vegan             3.5      1.0  3.500000\n",
       "Afghani           3.4      3.0  1.133333\n",
       "\n",
       "[134 rows x 3 columns]"
      ]
     },
     "execution_count": 70,
     "metadata": {},
     "output_type": "execute_result"
    }
   ],
   "source": [
    "c_and_r[\"Mean\"] = c_and_r[\"Sum\"] / c_and_r[\"Total\"]\n",
    "c_and_r"
   ]
  },
  {
   "cell_type": "code",
   "execution_count": 71,
   "id": "795a74db",
   "metadata": {
    "papermill": {
     "duration": 0.061687,
     "end_time": "2023-01-17T09:40:34.248727",
     "exception": false,
     "start_time": "2023-01-17T09:40:34.187040",
     "status": "completed"
    },
    "tags": []
   },
   "outputs": [
    {
     "data": {
      "text/html": [
       "<div>\n",
       "<style scoped>\n",
       "    .dataframe tbody tr th:only-of-type {\n",
       "        vertical-align: middle;\n",
       "    }\n",
       "\n",
       "    .dataframe tbody tr th {\n",
       "        vertical-align: top;\n",
       "    }\n",
       "\n",
       "    .dataframe thead th {\n",
       "        text-align: right;\n",
       "    }\n",
       "</style>\n",
       "<table border=\"1\" class=\"dataframe\">\n",
       "  <thead>\n",
       "    <tr style=\"text-align: right;\">\n",
       "      <th></th>\n",
       "      <th>Mean</th>\n",
       "      <th>Total</th>\n",
       "    </tr>\n",
       "  </thead>\n",
       "  <tbody>\n",
       "    <tr>\n",
       "      <th>Egyptian</th>\n",
       "      <td>4.416667</td>\n",
       "      <td>6.0</td>\n",
       "    </tr>\n",
       "    <tr>\n",
       "      <th>Poké</th>\n",
       "      <td>4.350000</td>\n",
       "      <td>12.0</td>\n",
       "    </tr>\n",
       "    <tr>\n",
       "      <th>Fusion</th>\n",
       "      <td>4.350000</td>\n",
       "      <td>2.0</td>\n",
       "    </tr>\n",
       "    <tr>\n",
       "      <th>International</th>\n",
       "      <td>4.300000</td>\n",
       "      <td>1.0</td>\n",
       "    </tr>\n",
       "    <tr>\n",
       "      <th>Tex-Mex</th>\n",
       "      <td>4.293939</td>\n",
       "      <td>33.0</td>\n",
       "    </tr>\n",
       "    <tr>\n",
       "      <th>Singaporean</th>\n",
       "      <td>4.287500</td>\n",
       "      <td>16.0</td>\n",
       "    </tr>\n",
       "    <tr>\n",
       "      <th>Moroccan</th>\n",
       "      <td>4.258333</td>\n",
       "      <td>12.0</td>\n",
       "    </tr>\n",
       "    <tr>\n",
       "      <th>Sushi</th>\n",
       "      <td>4.206087</td>\n",
       "      <td>115.0</td>\n",
       "    </tr>\n",
       "    <tr>\n",
       "      <th>Greek</th>\n",
       "      <td>4.159091</td>\n",
       "      <td>22.0</td>\n",
       "    </tr>\n",
       "    <tr>\n",
       "      <th>Mediterranean</th>\n",
       "      <td>4.130275</td>\n",
       "      <td>327.0</td>\n",
       "    </tr>\n",
       "  </tbody>\n",
       "</table>\n",
       "</div>"
      ],
      "text/plain": [
       "                   Mean  Total\n",
       "Egyptian       4.416667    6.0\n",
       "Poké           4.350000   12.0\n",
       "Fusion         4.350000    2.0\n",
       "International  4.300000    1.0\n",
       "Tex-Mex        4.293939   33.0\n",
       "Singaporean    4.287500   16.0\n",
       "Moroccan       4.258333   12.0\n",
       "Sushi          4.206087  115.0\n",
       "Greek          4.159091   22.0\n",
       "Mediterranean  4.130275  327.0"
      ]
     },
     "execution_count": 71,
     "metadata": {},
     "output_type": "execute_result"
    }
   ],
   "source": [
    "c_and_r[[\"Mean\",\"Total\"]].sort_values(by=\"Mean\", ascending=False)[:10]"
   ]
  },
  {
   "cell_type": "markdown",
   "id": "f5de9065",
   "metadata": {
    "papermill": {
     "duration": 0.041515,
     "end_time": "2023-01-17T09:40:34.330589",
     "exception": false,
     "start_time": "2023-01-17T09:40:34.289074",
     "status": "completed"
    },
    "tags": []
   },
   "source": [
    "We can ignore a few cuisines in this list since they are available in less number. But the overall conclusion which can be drawn is that International (and rarely available) cuisines are rated higher than local cuisines.\n",
    "### Highlights/Features of restaurants\n",
    "#### Unique highlights"
   ]
  },
  {
   "cell_type": "code",
   "execution_count": 72,
   "id": "da7f44c5",
   "metadata": {
    "papermill": {
     "duration": 0.096996,
     "end_time": "2023-01-17T09:40:34.468447",
     "exception": false,
     "start_time": "2023-01-17T09:40:34.371451",
     "status": "completed"
    },
    "tags": []
   },
   "outputs": [
    {
     "name": "stdout",
     "output_type": "stream",
     "text": [
      "Total number of unique cuisines =  104\n"
     ]
    }
   ],
   "source": [
    "print(\"Total number of unique cuisines = \", hl.nunique())"
   ]
  },
  {
   "cell_type": "markdown",
   "id": "830c771d",
   "metadata": {
    "papermill": {
     "duration": 0.040143,
     "end_time": "2023-01-17T09:40:34.552398",
     "exception": false,
     "start_time": "2023-01-17T09:40:34.512255",
     "status": "completed"
    },
    "tags": []
   },
   "source": [
    "#### Number of restaurants (by highlights)"
   ]
  },
  {
   "cell_type": "code",
   "execution_count": 73,
   "id": "3ae788f5",
   "metadata": {
    "papermill": {
     "duration": 0.326303,
     "end_time": "2023-01-17T09:40:34.919000",
     "exception": false,
     "start_time": "2023-01-17T09:40:34.592697",
     "status": "completed"
    },
    "tags": []
   },
   "outputs": [],
   "source": [
    "h_count = hl.value_counts()[:5]\n",
    "\n",
    "# fig = plt.figure(figsize=[10,6], frameon=False)\n",
    "# ax = fig.gca()\n",
    "# ax.spines[\"top\"].set_visible(False)\n",
    "# ax.spines[\"right\"].set_visible(False)\n",
    "# ax.spines[\"left\"].set_color(\"#424242\")\n",
    "# ax.spines[\"bottom\"].set_color(\"#424242\")\n",
    "\n",
    "# #colors = [\"green\",\"blue\",\"magenta\",\"cyan\",\"gray\",\"yellow\",\"purple\",\"violet\",\"orange\",\"red\",\"maroon\"]\n",
    "# #random.shuffle(colors)\n",
    "# colors = ['#11174b', '#2a5599', '#3e94c0', '#78c6d0', '#dcecc9']\n",
    "# plt.bar(h_count.index, h_count.values, color=colors)\n",
    "\n",
    "# plt.xticks(range(0, 6), color=\"#424242\")\n",
    "# plt.yticks(range(0, 70000, 10000), color=\"#424242\")\n",
    "# plt.xlabel(\"Top 5 highlights\")\n",
    "\n",
    "# for i, v in enumerate(h_count):\n",
    "#     ax.text(i-0.2, v+500, str(v), color='#424242')\n",
    "# plt.title(\"Number of restaurants (by highlights)\")\n",
    "\n",
    "\n",
    "# plt.show()"
   ]
  },
  {
   "cell_type": "markdown",
   "id": "65ca83c7",
   "metadata": {
    "papermill": {
     "duration": 0.041613,
     "end_time": "2023-01-17T09:40:35.000866",
     "exception": false,
     "start_time": "2023-01-17T09:40:34.959253",
     "status": "completed"
    },
    "tags": []
   },
   "source": [
    "Top 5 highlights doesn't convey much information since they are very trivial to almost every restaurant. Let's look at uncommon highlights that matter more to the customers.\n",
    "#### Highest rated highlights"
   ]
  },
  {
   "cell_type": "code",
   "execution_count": 74,
   "id": "1bc3e644",
   "metadata": {
    "papermill": {
     "duration": 0.055788,
     "end_time": "2023-01-17T09:40:35.098104",
     "exception": false,
     "start_time": "2023-01-17T09:40:35.042316",
     "status": "completed"
    },
    "tags": []
   },
   "outputs": [
    {
     "data": {
      "text/plain": [
       "\"['Lunch', 'Takeaway Available', 'Credit Card', 'Dinner', 'Cash', 'Air Conditioned', 'Indoor Seating', 'Pure Veg']\""
      ]
     },
     "execution_count": 74,
     "metadata": {},
     "output_type": "execute_result"
    }
   ],
   "source": [
    "data[\"highlights\"][0]"
   ]
  },
  {
   "cell_type": "code",
   "execution_count": 75,
   "id": "449bfcf7",
   "metadata": {
    "papermill": {
     "duration": 0.200366,
     "end_time": "2023-01-17T09:40:35.341383",
     "exception": false,
     "start_time": "2023-01-17T09:40:35.141017",
     "status": "completed"
    },
    "tags": []
   },
   "outputs": [],
   "source": [
    "data[\"highlights2\"] = data['highlights'].apply(lambda x : x[2:-2].split(\"', '\"))\n",
    "\n",
    "hl_list = hl.unique().tolist()\n",
    "zeros = np.zeros(shape=(len(hl_list),2))\n",
    "h_and_r = pd.DataFrame(zeros, index=hl_list, columns=[\"Sum\",\"Total\"])"
   ]
  },
  {
   "cell_type": "code",
   "execution_count": 76,
   "id": "89958460",
   "metadata": {
    "papermill": {
     "duration": 101.698761,
     "end_time": "2023-01-17T09:42:17.081838",
     "exception": false,
     "start_time": "2023-01-17T09:40:35.383077",
     "status": "completed"
    },
    "tags": []
   },
   "outputs": [],
   "source": [
    "for i, x in data.iterrows():\n",
    "    for j in x[\"highlights2\"]:\n",
    "        h_and_r.loc[j][\"Sum\"] += x[\"aggregate_rating\"]  \n",
    "        h_and_r.loc[j][\"Total\"] += 1"
   ]
  },
  {
   "cell_type": "code",
   "execution_count": 77,
   "id": "424e6f5a",
   "metadata": {
    "papermill": {
     "duration": 0.065663,
     "end_time": "2023-01-17T09:42:17.188513",
     "exception": false,
     "start_time": "2023-01-17T09:42:17.122850",
     "status": "completed"
    },
    "tags": []
   },
   "outputs": [
    {
     "data": {
      "text/html": [
       "<div>\n",
       "<style scoped>\n",
       "    .dataframe tbody tr th:only-of-type {\n",
       "        vertical-align: middle;\n",
       "    }\n",
       "\n",
       "    .dataframe tbody tr th {\n",
       "        vertical-align: top;\n",
       "    }\n",
       "\n",
       "    .dataframe thead th {\n",
       "        text-align: right;\n",
       "    }\n",
       "</style>\n",
       "<table border=\"1\" class=\"dataframe\">\n",
       "  <thead>\n",
       "    <tr style=\"text-align: right;\">\n",
       "      <th></th>\n",
       "      <th>Sum</th>\n",
       "      <th>Total</th>\n",
       "      <th>Mean</th>\n",
       "    </tr>\n",
       "  </thead>\n",
       "  <tbody>\n",
       "    <tr>\n",
       "      <th>Lunch</th>\n",
       "      <td>113340.8</td>\n",
       "      <td>36043.0</td>\n",
       "      <td>3.144600</td>\n",
       "    </tr>\n",
       "    <tr>\n",
       "      <th>Takeaway Available</th>\n",
       "      <td>139848.5</td>\n",
       "      <td>46773.0</td>\n",
       "      <td>2.989941</td>\n",
       "    </tr>\n",
       "    <tr>\n",
       "      <th>Credit Card</th>\n",
       "      <td>94107.2</td>\n",
       "      <td>27530.0</td>\n",
       "      <td>3.418351</td>\n",
       "    </tr>\n",
       "    <tr>\n",
       "      <th>Dinner</th>\n",
       "      <td>118364.5</td>\n",
       "      <td>37643.0</td>\n",
       "      <td>3.144396</td>\n",
       "    </tr>\n",
       "    <tr>\n",
       "      <th>Cash</th>\n",
       "      <td>157862.8</td>\n",
       "      <td>52825.0</td>\n",
       "      <td>2.988411</td>\n",
       "    </tr>\n",
       "    <tr>\n",
       "      <th>...</th>\n",
       "      <td>...</td>\n",
       "      <td>...</td>\n",
       "      <td>...</td>\n",
       "    </tr>\n",
       "    <tr>\n",
       "      <th>Celebrity Frequented</th>\n",
       "      <td>90.1</td>\n",
       "      <td>22.0</td>\n",
       "      <td>4.095455</td>\n",
       "    </tr>\n",
       "    <tr>\n",
       "      <th>Alipay Accepted</th>\n",
       "      <td>3.0</td>\n",
       "      <td>1.0</td>\n",
       "      <td>3.000000</td>\n",
       "    </tr>\n",
       "    <tr>\n",
       "      <th>Subscription Available</th>\n",
       "      <td>4.1</td>\n",
       "      <td>1.0</td>\n",
       "      <td>4.100000</td>\n",
       "    </tr>\n",
       "    <tr>\n",
       "      <th>Subscription Required</th>\n",
       "      <td>4.5</td>\n",
       "      <td>1.0</td>\n",
       "      <td>4.500000</td>\n",
       "    </tr>\n",
       "    <tr>\n",
       "      <th>Bira 91 Beer</th>\n",
       "      <td>8.0</td>\n",
       "      <td>2.0</td>\n",
       "      <td>4.000000</td>\n",
       "    </tr>\n",
       "  </tbody>\n",
       "</table>\n",
       "<p>104 rows × 3 columns</p>\n",
       "</div>"
      ],
      "text/plain": [
       "                             Sum    Total      Mean\n",
       "Lunch                   113340.8  36043.0  3.144600\n",
       "Takeaway Available      139848.5  46773.0  2.989941\n",
       "Credit Card              94107.2  27530.0  3.418351\n",
       "Dinner                  118364.5  37643.0  3.144396\n",
       "Cash                    157862.8  52825.0  2.988411\n",
       "...                          ...      ...       ...\n",
       "Celebrity Frequented        90.1     22.0  4.095455\n",
       "Alipay Accepted              3.0      1.0  3.000000\n",
       "Subscription Available       4.1      1.0  4.100000\n",
       "Subscription Required        4.5      1.0  4.500000\n",
       "Bira 91 Beer                 8.0      2.0  4.000000\n",
       "\n",
       "[104 rows x 3 columns]"
      ]
     },
     "execution_count": 77,
     "metadata": {},
     "output_type": "execute_result"
    }
   ],
   "source": [
    "h_and_r[\"Mean\"] = h_and_r[\"Sum\"] / h_and_r[\"Total\"]\n",
    "h_and_r"
   ]
  },
  {
   "cell_type": "code",
   "execution_count": 78,
   "id": "2e025860",
   "metadata": {
    "papermill": {
     "duration": 0.064015,
     "end_time": "2023-01-17T09:42:17.293489",
     "exception": false,
     "start_time": "2023-01-17T09:42:17.229474",
     "status": "completed"
    },
    "tags": []
   },
   "outputs": [
    {
     "data": {
      "text/html": [
       "<div>\n",
       "<style scoped>\n",
       "    .dataframe tbody tr th:only-of-type {\n",
       "        vertical-align: middle;\n",
       "    }\n",
       "\n",
       "    .dataframe tbody tr th {\n",
       "        vertical-align: top;\n",
       "    }\n",
       "\n",
       "    .dataframe thead th {\n",
       "        text-align: right;\n",
       "    }\n",
       "</style>\n",
       "<table border=\"1\" class=\"dataframe\">\n",
       "  <thead>\n",
       "    <tr style=\"text-align: right;\">\n",
       "      <th></th>\n",
       "      <th>Mean</th>\n",
       "      <th>Total</th>\n",
       "    </tr>\n",
       "  </thead>\n",
       "  <tbody>\n",
       "    <tr>\n",
       "      <th>Subscription Required</th>\n",
       "      <td>4.500000</td>\n",
       "      <td>1.0</td>\n",
       "    </tr>\n",
       "    <tr>\n",
       "      <th>Speakeasy</th>\n",
       "      <td>4.300000</td>\n",
       "      <td>3.0</td>\n",
       "    </tr>\n",
       "    <tr>\n",
       "      <th>Gastro Pub</th>\n",
       "      <td>4.198551</td>\n",
       "      <td>69.0</td>\n",
       "    </tr>\n",
       "    <tr>\n",
       "      <th>Craft Beer</th>\n",
       "      <td>4.197297</td>\n",
       "      <td>148.0</td>\n",
       "    </tr>\n",
       "    <tr>\n",
       "      <th>Romantic Dining</th>\n",
       "      <td>4.162416</td>\n",
       "      <td>149.0</td>\n",
       "    </tr>\n",
       "    <tr>\n",
       "      <th>Sneakpeek</th>\n",
       "      <td>4.128316</td>\n",
       "      <td>392.0</td>\n",
       "    </tr>\n",
       "    <tr>\n",
       "      <th>Subscription Available</th>\n",
       "      <td>4.100000</td>\n",
       "      <td>1.0</td>\n",
       "    </tr>\n",
       "    <tr>\n",
       "      <th>Celebrity Frequented</th>\n",
       "      <td>4.095455</td>\n",
       "      <td>22.0</td>\n",
       "    </tr>\n",
       "    <tr>\n",
       "      <th>Keto Options</th>\n",
       "      <td>4.049153</td>\n",
       "      <td>59.0</td>\n",
       "    </tr>\n",
       "    <tr>\n",
       "      <th>Pet Friendly</th>\n",
       "      <td>4.017576</td>\n",
       "      <td>165.0</td>\n",
       "    </tr>\n",
       "  </tbody>\n",
       "</table>\n",
       "</div>"
      ],
      "text/plain": [
       "                            Mean  Total\n",
       "Subscription Required   4.500000    1.0\n",
       "Speakeasy               4.300000    3.0\n",
       "Gastro Pub              4.198551   69.0\n",
       "Craft Beer              4.197297  148.0\n",
       "Romantic Dining         4.162416  149.0\n",
       "Sneakpeek               4.128316  392.0\n",
       "Subscription Available  4.100000    1.0\n",
       "Celebrity Frequented    4.095455   22.0\n",
       "Keto Options            4.049153   59.0\n",
       "Pet Friendly            4.017576  165.0"
      ]
     },
     "execution_count": 78,
     "metadata": {},
     "output_type": "execute_result"
    }
   ],
   "source": [
    "h_and_r[[\"Mean\",\"Total\"]].sort_values(by=\"Mean\", ascending=False)[:10]"
   ]
  },
  {
   "cell_type": "markdown",
   "id": "0363b21a",
   "metadata": {
    "papermill": {
     "duration": 0.040641,
     "end_time": "2023-01-17T09:42:17.376689",
     "exception": false,
     "start_time": "2023-01-17T09:42:17.336048",
     "status": "completed"
    },
    "tags": []
   },
   "source": [
    "We can safely ignore highlights which have a frequency of less than 10 since they can be considered as outliers. Features like Gastro pub, Craft beer, Romantic dining and Sneakpeek are well received among customers.\n",
    "\n",
    "#### Highlights wordcloud\n",
    "Here we will create a wordcloud of top 30 highlights"
   ]
  },
  {
   "cell_type": "code",
   "execution_count": 79,
   "id": "63766737",
   "metadata": {
    "papermill": {
     "duration": 3.806701,
     "end_time": "2023-01-17T09:42:21.225492",
     "exception": false,
     "start_time": "2023-01-17T09:42:17.418791",
     "status": "completed"
    },
    "tags": []
   },
   "outputs": [],
   "source": [
    "# https://www.geeksforgeeks.org/generating-word-cloud-python/\n",
    "\n",
    "# hl_str = \"\"\n",
    "# for i in hl:\n",
    "#     hl_str += str(i) + \" \"\n",
    "# wordcloud = WordCloud(width = 800, height = 500, \n",
    "#                 background_color ='white', \n",
    "#                 min_font_size = 10, max_words=30).generate(hl_str) \n",
    "                         \n",
    "# plt.figure(figsize = (8, 8), facecolor = None) \n",
    "# plt.imshow(wordcloud) \n",
    "# plt.axis(\"off\") \n",
    "# plt.tight_layout(pad = 0) \n",
    "  \n",
    "# plt.show()"
   ]
  },
  {
   "cell_type": "markdown",
   "id": "6a8df338",
   "metadata": {
    "papermill": {
     "duration": 0.044548,
     "end_time": "2023-01-17T09:42:21.315652",
     "exception": false,
     "start_time": "2023-01-17T09:42:21.271104",
     "status": "completed"
    },
    "tags": []
   },
   "source": [
    "### Ratings and cost\n",
    "#### Ratings distribution\n",
    "Let's see how the ratings are distributes"
   ]
  },
  {
   "cell_type": "code",
   "execution_count": 80,
   "id": "5514a28c",
   "metadata": {
    "papermill": {
     "duration": 0.539066,
     "end_time": "2023-01-17T09:42:21.902217",
     "exception": false,
     "start_time": "2023-01-17T09:42:21.363151",
     "status": "completed"
    },
    "tags": []
   },
   "outputs": [],
   "source": [
    "# sns.kdeplot(data['aggregate_rating'], shade=True)\n",
    "# plt.title(\"Ratings distribution\")\n",
    "# plt.show()"
   ]
  },
  {
   "cell_type": "markdown",
   "id": "4841c1ed",
   "metadata": {
    "papermill": {
     "duration": 0.044184,
     "end_time": "2023-01-17T09:42:21.991233",
     "exception": false,
     "start_time": "2023-01-17T09:42:21.947049",
     "status": "completed"
    },
    "tags": []
   },
   "source": [
    "There is a huge spike at 0 which might account for newly opened or unrated restaurants. On average, majority of restaurants have rating between 3 to 4 with fewer restaurants managing to go beyond 4.\n",
    "#### Avergae cost for two distribution"
   ]
  },
  {
   "cell_type": "code",
   "execution_count": 81,
   "id": "54d99c13",
   "metadata": {
    "papermill": {
     "duration": 0.580519,
     "end_time": "2023-01-17T09:42:22.619556",
     "exception": false,
     "start_time": "2023-01-17T09:42:22.039037",
     "status": "completed"
    },
    "tags": []
   },
   "outputs": [],
   "source": [
    "# sns.kdeplot(data['average_cost_for_two'], shade=True)\n",
    "# plt.title(\"Average cost for 2 distribution\")\n",
    "# plt.show()"
   ]
  },
  {
   "cell_type": "markdown",
   "id": "4ac82977",
   "metadata": {
    "papermill": {
     "duration": 0.044736,
     "end_time": "2023-01-17T09:42:22.710251",
     "exception": false,
     "start_time": "2023-01-17T09:42:22.665515",
     "status": "completed"
    },
    "tags": []
   },
   "source": [
    "With few restaurants charging average of Rs.25000+ for two, this graph is extremely skewed. Let's take a closer look at a lower range of 0 to 60000."
   ]
  },
  {
   "cell_type": "code",
   "execution_count": 82,
   "id": "d750409c",
   "metadata": {
    "papermill": {
     "duration": 0.584,
     "end_time": "2023-01-17T09:42:23.340316",
     "exception": false,
     "start_time": "2023-01-17T09:42:22.756316",
     "status": "completed"
    },
    "tags": []
   },
   "outputs": [],
   "source": [
    "# sns.kdeplot(data['average_cost_for_two'], shade=True)\n",
    "# plt.xlim([0, 6000])\n",
    "# plt.xticks(range(0,6000,500))\n",
    "# plt.title(\"Average cost for 2 distribution\")\n",
    "# plt.show()"
   ]
  },
  {
   "cell_type": "markdown",
   "id": "49d1cd6c",
   "metadata": {
    "papermill": {
     "duration": 0.046455,
     "end_time": "2023-01-17T09:42:23.443367",
     "exception": false,
     "start_time": "2023-01-17T09:42:23.396912",
     "status": "completed"
    },
    "tags": []
   },
   "source": [
    "Majority of restaurants are budget friendly with an average cost between Rs.250 to Rs.800 for two.\n",
    "\n",
    "#### Price range count"
   ]
  },
  {
   "cell_type": "code",
   "execution_count": 83,
   "id": "90b98621",
   "metadata": {
    "papermill": {
     "duration": 0.329832,
     "end_time": "2023-01-17T09:42:23.818974",
     "exception": false,
     "start_time": "2023-01-17T09:42:23.489142",
     "status": "completed"
    },
    "tags": []
   },
   "outputs": [],
   "source": [
    "pr_count = data.groupby(\"price_range\").count()[\"name\"]\n",
    "\n",
    "# fig = plt.figure(figsize=[8,5], frameon=False)\n",
    "# ax = fig.gca()\n",
    "# ax.spines[\"top\"].set_visible(False)\n",
    "# ax.spines[\"right\"].set_visible(False)\n",
    "# ax.spines[\"left\"].set_color(\"#424242\")\n",
    "# ax.spines[\"bottom\"].set_color(\"#424242\")\n",
    "\n",
    "# #colors = [\"green\",\"blue\",\"magenta\",\"cyan\",\"gray\",\"yellow\",\"purple\",\"violet\",\"orange\",\"red\",\"maroon\"]\n",
    "# #random.shuffle(colors)\n",
    "# colors = [\"#2d0f41\",'#933291',\"#f2a49f\",\"#f9cdac\"]\n",
    "# plt.bar(pr_count.index, pr_count.values, color=colors)\n",
    "\n",
    "# plt.xticks(range(0, 5), color=\"#424242\")\n",
    "# plt.yticks(range(0, 40000, 5000), color=\"#424242\")\n",
    "# plt.xlabel(\"Price Ranges\")\n",
    "\n",
    "# for i, v in enumerate(pr_count):\n",
    "#     ax.text(i+0.85, v+700, str(v), color='#424242')\n",
    "# plt.title(\"Number of restaurants (by price ranges)\")\n",
    "\n",
    "\n",
    "# plt.show()"
   ]
  },
  {
   "cell_type": "markdown",
   "id": "ab0c7e24",
   "metadata": {
    "papermill": {
     "duration": 0.047563,
     "end_time": "2023-01-17T09:42:23.918143",
     "exception": false,
     "start_time": "2023-01-17T09:42:23.870580",
     "status": "completed"
    },
    "tags": []
   },
   "source": [
    "Price range chart supports our previous observation from the Average cost chart. Number of restaurant decreases with increase in price range.\n",
    "\n",
    "#### Relation between Average price for two and Rating"
   ]
  },
  {
   "cell_type": "code",
   "execution_count": 84,
   "id": "482def6b",
   "metadata": {
    "papermill": {
     "duration": 0.064163,
     "end_time": "2023-01-17T09:42:24.028942",
     "exception": false,
     "start_time": "2023-01-17T09:42:23.964779",
     "status": "completed"
    },
    "tags": []
   },
   "outputs": [
    {
     "data": {
      "text/plain": [
       "0.25"
      ]
     },
     "execution_count": 84,
     "metadata": {},
     "output_type": "execute_result"
    }
   ],
   "source": [
    "np.round(data[[\"average_cost_for_two\",\"aggregate_rating\"]].corr()[\"average_cost_for_two\"][1],2)"
   ]
  },
  {
   "cell_type": "markdown",
   "id": "db685d3a",
   "metadata": {
    "papermill": {
     "duration": 0.045701,
     "end_time": "2023-01-17T09:42:24.122338",
     "exception": false,
     "start_time": "2023-01-17T09:42:24.076637",
     "status": "completed"
    },
    "tags": []
   },
   "source": [
    "A correlation can be seen between restaurant average cost and rating"
   ]
  },
  {
   "cell_type": "code",
   "execution_count": 85,
   "id": "34dbbdec",
   "metadata": {
    "papermill": {
     "duration": 0.373352,
     "end_time": "2023-01-17T09:42:24.541761",
     "exception": false,
     "start_time": "2023-01-17T09:42:24.168409",
     "status": "completed"
    },
    "tags": []
   },
   "outputs": [],
   "source": [
    "# plt.plot(\"average_cost_for_two\",\"aggregate_rating\", data=data, linestyle=\"none\", marker=\"o\")\n",
    "# plt.xlim([0,6000])\n",
    "# plt.title(\"Relationship between Average cost and Rating\")\n",
    "# plt.xlabel(\"Average cost for two\")\n",
    "# plt.ylabel(\"Ratings\")\n",
    "# plt.show()"
   ]
  },
  {
   "cell_type": "markdown",
   "id": "6cb59b43",
   "metadata": {
    "papermill": {
     "duration": 0.048706,
     "end_time": "2023-01-17T09:42:24.637066",
     "exception": false,
     "start_time": "2023-01-17T09:42:24.588360",
     "status": "completed"
    },
    "tags": []
   },
   "source": [
    "There is definetely a direct relation between the two. Let's take a smaller sample to draw a clearer scatter plot."
   ]
  },
  {
   "cell_type": "code",
   "execution_count": 86,
   "id": "a7c9c1c1",
   "metadata": {
    "papermill": {
     "duration": 0.260503,
     "end_time": "2023-01-17T09:42:24.946420",
     "exception": false,
     "start_time": "2023-01-17T09:42:24.685917",
     "status": "completed"
    },
    "tags": []
   },
   "outputs": [],
   "source": [
    "# plt.plot(\"average_cost_for_two\",\"aggregate_rating\", data=data.sample(1000), linestyle=\"none\", marker=\"o\")\n",
    "# plt.xlim([0,3000])\n",
    "# plt.show()"
   ]
  },
  {
   "cell_type": "markdown",
   "id": "4c9d396d",
   "metadata": {
    "papermill": {
     "duration": 0.04703,
     "end_time": "2023-01-17T09:42:25.040603",
     "exception": false,
     "start_time": "2023-01-17T09:42:24.993573",
     "status": "completed"
    },
    "tags": []
   },
   "source": [
    "This relation concludes that that as average cost for two increases, there is a better chance that the restaurant will be rated highly. Let's look at price range for a better comparison.\n",
    "\n",
    "#### Relation between Price range and Rating"
   ]
  },
  {
   "cell_type": "code",
   "execution_count": 87,
   "id": "6102e923",
   "metadata": {
    "papermill": {
     "duration": 0.06715,
     "end_time": "2023-01-17T09:42:25.155804",
     "exception": false,
     "start_time": "2023-01-17T09:42:25.088654",
     "status": "completed"
    },
    "tags": []
   },
   "outputs": [
    {
     "data": {
      "text/plain": [
       "0.25"
      ]
     },
     "execution_count": 87,
     "metadata": {},
     "output_type": "execute_result"
    }
   ],
   "source": [
    "np.round(data[[\"price_range\",\"aggregate_rating\"]].corr()[\"price_range\"][1],2)"
   ]
  },
  {
   "cell_type": "code",
   "execution_count": 88,
   "id": "2774e089",
   "metadata": {
    "papermill": {
     "duration": 0.314773,
     "end_time": "2023-01-17T09:42:25.592779",
     "exception": false,
     "start_time": "2023-01-17T09:42:25.278006",
     "status": "completed"
    },
    "tags": []
   },
   "outputs": [],
   "source": [
    "# sns.boxplot(x='price_range', y='aggregate_rating', data=data)\n",
    "# plt.ylim(1)\n",
    "# plt.title(\"Relationship between Price range and Ratings\")\n",
    "# plt.show()"
   ]
  },
  {
   "cell_type": "markdown",
   "id": "c46ad852",
   "metadata": {
    "papermill": {
     "duration": 0.047363,
     "end_time": "2023-01-17T09:42:25.687467",
     "exception": false,
     "start_time": "2023-01-17T09:42:25.640104",
     "status": "completed"
    },
    "tags": []
   },
   "source": [
    "Now, it is clear. The higher the price a restaurant charges, more services they provide and hence more chances of getting good ratings from their customers."
   ]
  },
  {
   "cell_type": "markdown",
   "id": "10448a9a",
   "metadata": {
    "papermill": {
     "duration": 0.048777,
     "end_time": "2023-01-17T09:42:25.785520",
     "exception": false,
     "start_time": "2023-01-17T09:42:25.736743",
     "status": "completed"
    },
    "tags": []
   },
   "source": [
    "## Conclusions\n",
    "\n",
    "After working on this data, we can conclude the following things:-\n",
    "1. Approx. 35% of restaurants in India are part of some chain\n",
    "2. Domino's Pizza, Cafe Coffee Day, KFC are the biggest fast food chains in the country with most number of outlets\n",
    "3. Barbecues and Grill food chains have highest average ratings than other type of restaurants \n",
    "4. Quick bites and casual dining type of establishment have most number of outlets\n",
    "5. Establishments with alcohol availability have highest average ratings, votes and photo uploads\n",
    "6. Banglore has most number of restaurants \n",
    "7. Gurgaon has highest rated restaurants (average 3.83) whereas Hyderabad has more number of critics (votes). Mumbai and New Delhi dominates for most photo uploads per outlet\n",
    "8. After North Indian, Chinese is the most prefered cuisine in India\n",
    "9. International cuisines are better rated than local cuisines\n",
    "10. Gastro pub, Romantic Dining and Craft Beer features are well rated by customers\n",
    "11. Most restaurants are rated between 3 and 4\n",
    "12. Majority of restaurants are budget friendly with average cost of two between Rs.250 to Rs.800\n",
    "13. There are less number of restaurants at higher price ranges\n",
    "14. As the average cost of two increases, the chance of a restaurant having higher rating increases\n",
    "\n",
    "Now we have come to the end of this project, I hope you learned some new tricks. \n",
    "\n",
    "<b>Please give this notebook an upvote if you find it useful!</b>"
   ]
  },
  {
   "cell_type": "code",
   "execution_count": 89,
   "id": "944d5fb1",
   "metadata": {
    "papermill": {
     "duration": 1.486882,
     "end_time": "2023-01-17T09:42:27.320218",
     "exception": false,
     "start_time": "2023-01-17T09:42:25.833336",
     "status": "completed"
    },
    "tags": []
   },
   "outputs": [],
   "source": [
    "# data.to_csv(\"zomato_final.csv\")"
   ]
  },
  {
   "cell_type": "code",
   "execution_count": null,
   "id": "db01c35b-f7dd-4305-847e-ab33d5a5ca91",
   "metadata": {},
   "outputs": [],
   "source": []
  }
 ],
 "metadata": {
  "kernelspec": {
   "display_name": "Python 3 (ipykernel)",
   "language": "python",
   "name": "python3"
  },
  "language_info": {
   "codemirror_mode": {
    "name": "ipython",
    "version": 3
   },
   "file_extension": ".py",
   "mimetype": "text/x-python",
   "name": "python",
   "nbconvert_exporter": "python",
   "pygments_lexer": "ipython3",
   "version": "3.10.13"
  },
  "papermill": {
   "default_parameters": {},
   "duration": 170.963097,
   "end_time": "2023-01-17T09:42:28.292998",
   "environment_variables": {},
   "exception": null,
   "input_path": "__notebook__.ipynb",
   "output_path": "__notebook__.ipynb",
   "parameters": {},
   "start_time": "2023-01-17T09:39:37.329901",
   "version": "2.3.4"
  }
 },
 "nbformat": 4,
 "nbformat_minor": 5
}
