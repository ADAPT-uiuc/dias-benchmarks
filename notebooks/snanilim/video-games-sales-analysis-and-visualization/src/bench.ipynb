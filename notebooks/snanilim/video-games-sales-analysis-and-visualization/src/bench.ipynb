{
 "cells": [
  {
   "cell_type": "code",
   "execution_count": 1,
   "metadata": {
    "_cell_guid": "b1076dfc-b9ad-4769-8c92-a6c4dae69d19",
    "_kg_hide-input": true,
    "_uuid": "8f2839f25d086af736a60e9eeb907d3b93b6e0e5"
   },
   "outputs": [
    {
     "name": "stdout",
     "output_type": "stream",
     "text": [
      "/kaggle/input/feedback-prize-english-language-learning/test.csv\n",
      "/kaggle/input/feedback-prize-english-language-learning/train.csv\n",
      "/kaggle/input/feedback-prize-english-language-learning/sample_submission.csv\n"
     ]
    }
   ],
   "source": [
    "import numpy as np\n",
    "import pandas as pd\n",
    "import scipy.stats as st\n",
    "pd.set_option('display.max_columns', None)\n",
    "\n",
    "import math\n",
    "\n",
    "import matplotlib.pyplot as plt\n",
    "%matplotlib inline\n",
    "\n",
    "import seaborn as sns\n",
    "sns.set_style('whitegrid')\n",
    "\n",
    "import missingno as msno\n",
    "\n",
    "from sklearn.preprocessing import StandardScaler\n",
    "from scipy import stats\n",
    "\n",
    "\n",
    "\n",
    "import os\n",
    "for dirname, _, filenames in os.walk('/kaggle/input'):\n",
    "    for filename in filenames:\n",
    "        print(os.path.join(dirname, filename))"
   ]
  },
  {
   "cell_type": "code",
   "execution_count": 2,
   "metadata": {
    "_cell_guid": "79c7e3d0-c299-4dcb-8224-4455121ee9b0",
    "_kg_hide-input": true,
    "_uuid": "d629ff2d2480ee46fbb7e2d37f6b5fab8052498a"
   },
   "outputs": [
    {
     "data": {
      "text/html": [
       "<div>\n",
       "<style scoped>\n",
       "    .dataframe tbody tr th:only-of-type {\n",
       "        vertical-align: middle;\n",
       "    }\n",
       "\n",
       "    .dataframe tbody tr th {\n",
       "        vertical-align: top;\n",
       "    }\n",
       "\n",
       "    .dataframe thead th {\n",
       "        text-align: right;\n",
       "    }\n",
       "</style>\n",
       "<table border=\"1\" class=\"dataframe\">\n",
       "  <thead>\n",
       "    <tr style=\"text-align: right;\">\n",
       "      <th></th>\n",
       "      <th>Rank</th>\n",
       "      <th>Name</th>\n",
       "      <th>Platform</th>\n",
       "      <th>Year</th>\n",
       "      <th>Genre</th>\n",
       "      <th>Publisher</th>\n",
       "      <th>NA_Sales</th>\n",
       "      <th>EU_Sales</th>\n",
       "      <th>JP_Sales</th>\n",
       "      <th>Other_Sales</th>\n",
       "      <th>Global_Sales</th>\n",
       "    </tr>\n",
       "  </thead>\n",
       "  <tbody>\n",
       "    <tr>\n",
       "      <th>0</th>\n",
       "      <td>1</td>\n",
       "      <td>Wii Sports</td>\n",
       "      <td>Wii</td>\n",
       "      <td>2006.0</td>\n",
       "      <td>Sports</td>\n",
       "      <td>Nintendo</td>\n",
       "      <td>41.49</td>\n",
       "      <td>29.02</td>\n",
       "      <td>3.77</td>\n",
       "      <td>8.46</td>\n",
       "      <td>82.74</td>\n",
       "    </tr>\n",
       "    <tr>\n",
       "      <th>1</th>\n",
       "      <td>2</td>\n",
       "      <td>Super Mario Bros.</td>\n",
       "      <td>NES</td>\n",
       "      <td>1985.0</td>\n",
       "      <td>Platform</td>\n",
       "      <td>Nintendo</td>\n",
       "      <td>29.08</td>\n",
       "      <td>3.58</td>\n",
       "      <td>6.81</td>\n",
       "      <td>0.77</td>\n",
       "      <td>40.24</td>\n",
       "    </tr>\n",
       "    <tr>\n",
       "      <th>2</th>\n",
       "      <td>3</td>\n",
       "      <td>Mario Kart Wii</td>\n",
       "      <td>Wii</td>\n",
       "      <td>2008.0</td>\n",
       "      <td>Racing</td>\n",
       "      <td>Nintendo</td>\n",
       "      <td>15.85</td>\n",
       "      <td>12.88</td>\n",
       "      <td>3.79</td>\n",
       "      <td>3.31</td>\n",
       "      <td>35.82</td>\n",
       "    </tr>\n",
       "    <tr>\n",
       "      <th>3</th>\n",
       "      <td>4</td>\n",
       "      <td>Wii Sports Resort</td>\n",
       "      <td>Wii</td>\n",
       "      <td>2009.0</td>\n",
       "      <td>Sports</td>\n",
       "      <td>Nintendo</td>\n",
       "      <td>15.75</td>\n",
       "      <td>11.01</td>\n",
       "      <td>3.28</td>\n",
       "      <td>2.96</td>\n",
       "      <td>33.00</td>\n",
       "    </tr>\n",
       "    <tr>\n",
       "      <th>4</th>\n",
       "      <td>5</td>\n",
       "      <td>Pokemon Red/Pokemon Blue</td>\n",
       "      <td>GB</td>\n",
       "      <td>1996.0</td>\n",
       "      <td>Role-Playing</td>\n",
       "      <td>Nintendo</td>\n",
       "      <td>11.27</td>\n",
       "      <td>8.89</td>\n",
       "      <td>10.22</td>\n",
       "      <td>1.00</td>\n",
       "      <td>31.37</td>\n",
       "    </tr>\n",
       "  </tbody>\n",
       "</table>\n",
       "</div>"
      ],
      "text/plain": [
       "   Rank                      Name Platform    Year         Genre Publisher  \\\n",
       "0     1                Wii Sports      Wii  2006.0        Sports  Nintendo   \n",
       "1     2         Super Mario Bros.      NES  1985.0      Platform  Nintendo   \n",
       "2     3            Mario Kart Wii      Wii  2008.0        Racing  Nintendo   \n",
       "3     4         Wii Sports Resort      Wii  2009.0        Sports  Nintendo   \n",
       "4     5  Pokemon Red/Pokemon Blue       GB  1996.0  Role-Playing  Nintendo   \n",
       "\n",
       "   NA_Sales  EU_Sales  JP_Sales  Other_Sales  Global_Sales  \n",
       "0     41.49     29.02      3.77         8.46         82.74  \n",
       "1     29.08      3.58      6.81         0.77         40.24  \n",
       "2     15.85     12.88      3.79         3.31         35.82  \n",
       "3     15.75     11.01      3.28         2.96         33.00  \n",
       "4     11.27      8.89     10.22         1.00         31.37  "
      ]
     },
     "execution_count": 2,
     "metadata": {},
     "output_type": "execute_result"
    }
   ],
   "source": [
    "data = pd.read_csv('../input/vgsales.csv')\n",
    "data.head()"
   ]
  },
  {
   "cell_type": "markdown",
   "metadata": {},
   "source": [
    "Me => See, here is your video games data."
   ]
  },
  {
   "cell_type": "code",
   "execution_count": 3,
   "metadata": {
    "_kg_hide-input": true
   },
   "outputs": [],
   "source": [
    "drop_row_index = data[data['Year'] > 2015].index\n",
    "data = data.drop(drop_row_index)"
   ]
  },
  {
   "cell_type": "markdown",
   "metadata": {},
   "source": [
    "* Me => Deleted some incomplete data. You can see, from 2016 the data we have those are not fully completed.\n",
    "* Jaber => Is it necessary?\n",
    "* Me => Yes, it will help us to do better analysis. Incomplete data always hamper in analysis."
   ]
  },
  {
   "cell_type": "code",
   "execution_count": 4,
   "metadata": {
    "_kg_hide-input": true
   },
   "outputs": [
    {
     "data": {
      "text/plain": [
       "(16250, 11)"
      ]
     },
     "execution_count": 4,
     "metadata": {},
     "output_type": "execute_result"
    }
   ],
   "source": [
    "data.shape"
   ]
  },
  {
   "cell_type": "markdown",
   "metadata": {},
   "source": [
    "* Me => total 11 columns and 16598 rows. which is actually good enough.\n",
    "* Jber => what does that mean of the 11 columns. What EU_Sales, JP_Sales means, i don't understand all of them.\n",
    "* Me => Ok i will tell you about them with in a second."
   ]
  },
  {
   "cell_type": "code",
   "execution_count": 5,
   "metadata": {
    "_kg_hide-input": true
   },
   "outputs": [
    {
     "name": "stdout",
     "output_type": "stream",
     "text": [
      "<class 'pandas.core.frame.DataFrame'>\n",
      "Int64Index: 16250 entries, 0 to 16597\n",
      "Data columns (total 11 columns):\n",
      " #   Column        Non-Null Count  Dtype  \n",
      "---  ------        --------------  -----  \n",
      " 0   Rank          16250 non-null  int64  \n",
      " 1   Name          16250 non-null  object \n",
      " 2   Platform      16250 non-null  object \n",
      " 3   Year          15979 non-null  float64\n",
      " 4   Genre         16250 non-null  object \n",
      " 5   Publisher     16194 non-null  object \n",
      " 6   NA_Sales      16250 non-null  float64\n",
      " 7   EU_Sales      16250 non-null  float64\n",
      " 8   JP_Sales      16250 non-null  float64\n",
      " 9   Other_Sales   16250 non-null  float64\n",
      " 10  Global_Sales  16250 non-null  float64\n",
      "dtypes: float64(6), int64(1), object(4)\n",
      "memory usage: 1.5+ MB\n"
     ]
    }
   ],
   "source": [
    "data.info()"
   ]
  },
  {
   "cell_type": "markdown",
   "metadata": {},
   "source": [
    "**Their fields and data types are:**\n",
    "\n",
    "   * Rank - Ranking of overall sales, integer\n",
    "   \n",
    "   * Name - The games name\n",
    "\n",
    "   * Platform - Platform of the games release (i.e. PC,PS4, etc.), object\n",
    "\n",
    "   * Year - Year of the game's release, float\n",
    "\n",
    "   * Genre - Genre of the game ,object\n",
    "\n",
    "   * Publisher - Publisher of the game, object\n",
    "\n",
    "   * NA_Sales - Sales in North America (in millions), float\n",
    "\n",
    "   * EU_Sales - Sales in Europe (in millions), float\n",
    "\n",
    "   * JP_Sales - Sales in Japan (in millions), float\n",
    "\n",
    "   * Other_Sales - Sales in the rest of the world (in millions), float\n",
    "\n",
    "   * Global_Sales - Total worldwide sales, float\n",
    "\n"
   ]
  },
  {
   "cell_type": "markdown",
   "metadata": {},
   "source": [
    "* Jaber => Now i understand meaning of columns names but why you told me their types 🤔. \n",
    "* Me => Ha ha, its not for you, its for me. to understand what kind of data types i get for analysis. and i see most of them are float and integer which help me lot.\n",
    "* Jaber => 🙄 🙄"
   ]
  },
  {
   "cell_type": "code",
   "execution_count": 6,
   "metadata": {
    "_kg_hide-input": true
   },
   "outputs": [
    {
     "data": {
      "text/html": [
       "<div>\n",
       "<style scoped>\n",
       "    .dataframe tbody tr th:only-of-type {\n",
       "        vertical-align: middle;\n",
       "    }\n",
       "\n",
       "    .dataframe tbody tr th {\n",
       "        vertical-align: top;\n",
       "    }\n",
       "\n",
       "    .dataframe thead th {\n",
       "        text-align: right;\n",
       "    }\n",
       "</style>\n",
       "<table border=\"1\" class=\"dataframe\">\n",
       "  <thead>\n",
       "    <tr style=\"text-align: right;\">\n",
       "      <th></th>\n",
       "      <th>Rank</th>\n",
       "      <th>Year</th>\n",
       "      <th>NA_Sales</th>\n",
       "      <th>EU_Sales</th>\n",
       "      <th>JP_Sales</th>\n",
       "      <th>Other_Sales</th>\n",
       "      <th>Global_Sales</th>\n",
       "    </tr>\n",
       "  </thead>\n",
       "  <tbody>\n",
       "    <tr>\n",
       "      <th>count</th>\n",
       "      <td>16250.000000</td>\n",
       "      <td>15979.000000</td>\n",
       "      <td>16250.000000</td>\n",
       "      <td>16250.000000</td>\n",
       "      <td>16250.000000</td>\n",
       "      <td>16250.000000</td>\n",
       "      <td>16250.000000</td>\n",
       "    </tr>\n",
       "    <tr>\n",
       "      <th>mean</th>\n",
       "      <td>8233.153785</td>\n",
       "      <td>2006.197071</td>\n",
       "      <td>0.268924</td>\n",
       "      <td>0.148146</td>\n",
       "      <td>0.078601</td>\n",
       "      <td>0.048614</td>\n",
       "      <td>0.544564</td>\n",
       "    </tr>\n",
       "    <tr>\n",
       "      <th>std</th>\n",
       "      <td>4775.382512</td>\n",
       "      <td>5.714810</td>\n",
       "      <td>0.824467</td>\n",
       "      <td>0.509035</td>\n",
       "      <td>0.312196</td>\n",
       "      <td>0.190271</td>\n",
       "      <td>1.569213</td>\n",
       "    </tr>\n",
       "    <tr>\n",
       "      <th>min</th>\n",
       "      <td>1.000000</td>\n",
       "      <td>1980.000000</td>\n",
       "      <td>0.000000</td>\n",
       "      <td>0.000000</td>\n",
       "      <td>0.000000</td>\n",
       "      <td>0.000000</td>\n",
       "      <td>0.010000</td>\n",
       "    </tr>\n",
       "    <tr>\n",
       "      <th>25%</th>\n",
       "      <td>4095.250000</td>\n",
       "      <td>2003.000000</td>\n",
       "      <td>0.000000</td>\n",
       "      <td>0.000000</td>\n",
       "      <td>0.000000</td>\n",
       "      <td>0.000000</td>\n",
       "      <td>0.060000</td>\n",
       "    </tr>\n",
       "    <tr>\n",
       "      <th>50%</th>\n",
       "      <td>8213.500000</td>\n",
       "      <td>2007.000000</td>\n",
       "      <td>0.080000</td>\n",
       "      <td>0.020000</td>\n",
       "      <td>0.000000</td>\n",
       "      <td>0.010000</td>\n",
       "      <td>0.170000</td>\n",
       "    </tr>\n",
       "    <tr>\n",
       "      <th>75%</th>\n",
       "      <td>12340.750000</td>\n",
       "      <td>2010.000000</td>\n",
       "      <td>0.240000</td>\n",
       "      <td>0.110000</td>\n",
       "      <td>0.040000</td>\n",
       "      <td>0.040000</td>\n",
       "      <td>0.480000</td>\n",
       "    </tr>\n",
       "    <tr>\n",
       "      <th>max</th>\n",
       "      <td>16600.000000</td>\n",
       "      <td>2015.000000</td>\n",
       "      <td>41.490000</td>\n",
       "      <td>29.020000</td>\n",
       "      <td>10.220000</td>\n",
       "      <td>10.570000</td>\n",
       "      <td>82.740000</td>\n",
       "    </tr>\n",
       "  </tbody>\n",
       "</table>\n",
       "</div>"
      ],
      "text/plain": [
       "               Rank          Year      NA_Sales      EU_Sales      JP_Sales  \\\n",
       "count  16250.000000  15979.000000  16250.000000  16250.000000  16250.000000   \n",
       "mean    8233.153785   2006.197071      0.268924      0.148146      0.078601   \n",
       "std     4775.382512      5.714810      0.824467      0.509035      0.312196   \n",
       "min        1.000000   1980.000000      0.000000      0.000000      0.000000   \n",
       "25%     4095.250000   2003.000000      0.000000      0.000000      0.000000   \n",
       "50%     8213.500000   2007.000000      0.080000      0.020000      0.000000   \n",
       "75%    12340.750000   2010.000000      0.240000      0.110000      0.040000   \n",
       "max    16600.000000   2015.000000     41.490000     29.020000     10.220000   \n",
       "\n",
       "        Other_Sales  Global_Sales  \n",
       "count  16250.000000  16250.000000  \n",
       "mean       0.048614      0.544564  \n",
       "std        0.190271      1.569213  \n",
       "min        0.000000      0.010000  \n",
       "25%        0.000000      0.060000  \n",
       "50%        0.010000      0.170000  \n",
       "75%        0.040000      0.480000  \n",
       "max       10.570000     82.740000  "
      ]
     },
     "execution_count": 6,
     "metadata": {},
     "output_type": "execute_result"
    }
   ],
   "source": [
    "data.describe()"
   ]
  },
  {
   "cell_type": "code",
   "execution_count": 7,
   "metadata": {
    "_kg_hide-input": true
   },
   "outputs": [
    {
     "data": {
      "text/html": [
       "<div>\n",
       "<style scoped>\n",
       "    .dataframe tbody tr th:only-of-type {\n",
       "        vertical-align: middle;\n",
       "    }\n",
       "\n",
       "    .dataframe tbody tr th {\n",
       "        vertical-align: top;\n",
       "    }\n",
       "\n",
       "    .dataframe thead th {\n",
       "        text-align: right;\n",
       "    }\n",
       "</style>\n",
       "<table border=\"1\" class=\"dataframe\">\n",
       "  <thead>\n",
       "    <tr style=\"text-align: right;\">\n",
       "      <th></th>\n",
       "      <th>Name</th>\n",
       "      <th>Platform</th>\n",
       "      <th>Genre</th>\n",
       "      <th>Publisher</th>\n",
       "    </tr>\n",
       "  </thead>\n",
       "  <tbody>\n",
       "    <tr>\n",
       "      <th>count</th>\n",
       "      <td>16250</td>\n",
       "      <td>16250</td>\n",
       "      <td>16250</td>\n",
       "      <td>16194</td>\n",
       "    </tr>\n",
       "    <tr>\n",
       "      <th>unique</th>\n",
       "      <td>11296</td>\n",
       "      <td>31</td>\n",
       "      <td>12</td>\n",
       "      <td>566</td>\n",
       "    </tr>\n",
       "    <tr>\n",
       "      <th>top</th>\n",
       "      <td>Need for Speed: Most Wanted</td>\n",
       "      <td>DS</td>\n",
       "      <td>Action</td>\n",
       "      <td>Electronic Arts</td>\n",
       "    </tr>\n",
       "    <tr>\n",
       "      <th>freq</th>\n",
       "      <td>12</td>\n",
       "      <td>2162</td>\n",
       "      <td>3196</td>\n",
       "      <td>1331</td>\n",
       "    </tr>\n",
       "  </tbody>\n",
       "</table>\n",
       "</div>"
      ],
      "text/plain": [
       "                               Name Platform   Genre        Publisher\n",
       "count                         16250    16250   16250            16194\n",
       "unique                        11296       31      12              566\n",
       "top     Need for Speed: Most Wanted       DS  Action  Electronic Arts\n",
       "freq                             12     2162    3196             1331"
      ]
     },
     "execution_count": 7,
     "metadata": {},
     "output_type": "execute_result"
    }
   ],
   "source": [
    "data.describe(include=['object', 'bool'])"
   ]
  },
  {
   "cell_type": "code",
   "execution_count": 8,
   "metadata": {
    "_kg_hide-input": true
   },
   "outputs": [
    {
     "data": {
      "text/plain": [
       "Rank              0\n",
       "Name              0\n",
       "Platform          0\n",
       "Year            271\n",
       "Genre             0\n",
       "Publisher        56\n",
       "NA_Sales          0\n",
       "EU_Sales          0\n",
       "JP_Sales          0\n",
       "Other_Sales       0\n",
       "Global_Sales      0\n",
       "dtype: int64"
      ]
     },
     "execution_count": 8,
     "metadata": {},
     "output_type": "execute_result"
    }
   ],
   "source": [
    "data.isnull().sum()"
   ]
  },
  {
   "cell_type": "markdown",
   "metadata": {},
   "source": [
    "Me => Happy news for you Jaber, we don't have much missing values. that means we are not losing much information. see i told you it's already good readymade dataset."
   ]
  },
  {
   "cell_type": "markdown",
   "metadata": {},
   "source": [
    "* Jaber => 😡😡 Why you told me too many unnecessary information, When can I ask my question?\n",
    "* Me => Hmmm hmm, Just Now."
   ]
  },
  {
   "cell_type": "markdown",
   "metadata": {},
   "source": [
    "He started his unstoppable questions bank for me, here it's started."
   ]
  },
  {
   "cell_type": "markdown",
   "metadata": {},
   "source": [
    "# 1. What genre games have been made the most?"
   ]
  },
  {
   "cell_type": "code",
   "execution_count": 9,
   "metadata": {
    "_kg_hide-input": true
   },
   "outputs": [
    {
     "data": {
      "text/plain": [
       "Action          3196\n",
       "Sports          2308\n",
       "Misc            1721\n",
       "Role-Playing    1446\n",
       "Shooter         1278\n",
       "Adventure       1252\n",
       "Racing          1229\n",
       "Platform         876\n",
       "Simulation       857\n",
       "Fighting         834\n",
       "Strategy         671\n",
       "Puzzle           582\n",
       "Name: Genre, dtype: int64"
      ]
     },
     "execution_count": 9,
     "metadata": {},
     "output_type": "execute_result"
    }
   ],
   "source": [
    "data['Genre'].value_counts()"
   ]
  },
  {
   "cell_type": "code",
   "execution_count": 10,
   "metadata": {
    "_kg_hide-input": true
   },
   "outputs": [],
   "source": [
    "_ = data['Genre'].value_counts().index\n",
    "\n",
    "# STEFANOS: Disable plotting\n",
    "# plt.figure(figsize=(15, 10))\n",
    "# sns.countplot(x=\"Genre\", data=data, order = data['Genre'].value_counts().index)\n",
    "# plt.xticks(rotation=90)"
   ]
  },
  {
   "cell_type": "markdown",
   "metadata": {},
   "source": [
    "### Answer is => \"Action\" and \"Sports\"\n",
    "* Me => I see, most of the people love action and sports game. in action 3316 and in sports 2346 games release. which one your favorite.\n",
    "* Jaber => Action \n",
    "* Me => I thought so too, Next?"
   ]
  },
  {
   "cell_type": "markdown",
   "metadata": {},
   "source": [
    "# 2. Which year had the most game release?"
   ]
  },
  {
   "cell_type": "code",
   "execution_count": 11,
   "metadata": {
    "_kg_hide-input": true
   },
   "outputs": [],
   "source": [
    "_ = data.groupby(by=['Year'])['Name'].count().sort_values(ascending=False).index\n",
    "\n",
    "# STEFANOS: Disable plotting\n",
    "# plt.figure(figsize=(15, 10))\n",
    "# sns.countplot(x=\"Year\", data=data, order = data.groupby(by=['Year'])['Name'].count().sort_values(ascending=False).index)\n",
    "# plt.xticks(rotation=90)"
   ]
  },
  {
   "cell_type": "markdown",
   "metadata": {},
   "source": [
    "### Answer is =>\n",
    "1. 2009.0  ->  1431\n",
    "1. 2008.0  ->  1428\n",
    "1. 2010.0  ->  1259\n",
    "1. 2007.0  ->  1202\n",
    "1. 2011.0  ->  1139"
   ]
  },
  {
   "cell_type": "markdown",
   "metadata": {},
   "source": [
    "Me => its seems like that 2008 to 2010 was game lovers years. and you know jaber, i can show you one interesting things also."
   ]
  },
  {
   "cell_type": "markdown",
   "metadata": {},
   "source": [
    "# 3. Top 5 years games release by genre."
   ]
  },
  {
   "cell_type": "code",
   "execution_count": 12,
   "metadata": {
    "_kg_hide-input": true
   },
   "outputs": [],
   "source": [
    "_ = data.Year.value_counts().iloc[:5].index\n",
    "\n",
    "# STEFANOS: Disable plotting\n",
    "# plt.figure(figsize=(30, 10))\n",
    "# sns.countplot(x=\"Year\", data=data, hue='Genre', order=data.Year.value_counts().iloc[:5].index)\n",
    "# plt.xticks(size=16, rotation=90)"
   ]
  },
  {
   "cell_type": "markdown",
   "metadata": {},
   "source": [
    "* Me => ??\n",
    "* Jaber => Wow thats nice and action was always top.\n",
    "* Me => Ask your next question? i'm in mood now."
   ]
  },
  {
   "cell_type": "markdown",
   "metadata": {},
   "source": [
    "# 4. Which year had the highest sales worldwide?"
   ]
  },
  {
   "cell_type": "code",
   "execution_count": 13,
   "metadata": {
    "_kg_hide-input": true
   },
   "outputs": [],
   "source": [
    "data_year = data.groupby(by=['Year'])['Global_Sales'].sum()\n",
    "data_year = data_year.reset_index()\n",
    "# data_year.sort_values(by=['Global_Sales'], ascending=False)"
   ]
  },
  {
   "cell_type": "code",
   "execution_count": 14,
   "metadata": {
    "_kg_hide-input": true
   },
   "outputs": [],
   "source": [
    "# STEFANOS: Disable plotting\n",
    "# plt.figure(figsize=(15, 10))\n",
    "# sns.barplot(x=\"Year\", y=\"Global_Sales\", data=data_year)\n",
    "# plt.xticks(rotation=90)"
   ]
  },
  {
   "cell_type": "markdown",
   "metadata": {},
   "source": [
    "### Answer is =>\n",
    "1. 2008.0 \t678.90\n",
    "1. 2009.0 \t667.30\n",
    "1. 2007.0 \t611.13\n",
    "1. 2010.0 \t600.45\n",
    "1. 2006.0 \t521.04"
   ]
  },
  {
   "cell_type": "markdown",
   "metadata": {},
   "source": [
    "* interesting 2006 was not in top 5 game release year but it is in top 5 highest sale year"
   ]
  },
  {
   "cell_type": "markdown",
   "metadata": {},
   "source": [
    "# 5. Which genre game has been released the most in a single year?"
   ]
  },
  {
   "cell_type": "code",
   "execution_count": 15,
   "metadata": {
    "_kg_hide-input": true
   },
   "outputs": [],
   "source": [
    "year_max_df = data.groupby(['Year', 'Genre']).size().reset_index(name='count')\n",
    "year_max_idx = year_max_df.groupby(['Year'])['count'].transform(max) == year_max_df['count']\n",
    "year_max_genre = year_max_df[year_max_idx].reset_index(drop=True)\n",
    "year_max_genre = year_max_genre.drop_duplicates(subset=[\"Year\", \"count\"], keep='last').reset_index(drop=True)\n",
    "# year_max_genre"
   ]
  },
  {
   "cell_type": "code",
   "execution_count": 16,
   "metadata": {
    "_kg_hide-input": true
   },
   "outputs": [],
   "source": [
    "genre = year_max_genre['Genre'].values\n",
    "# genre[0]"
   ]
  },
  {
   "cell_type": "code",
   "execution_count": 17,
   "metadata": {
    "_kg_hide-input": true
   },
   "outputs": [
    {
     "data": {
      "image/png": "[encoded data removed]",
      "text/plain": [
       "<Figure size 3000x1500 with 1 Axes>"
      ]
     },
     "metadata": {},
     "output_type": "display_data"
    }
   ],
   "source": [
    "plt.figure(figsize=(30, 15))\n",
    "g = sns.barplot(x='Year', y='count', data=year_max_genre)\n",
    "index = 0\n",
    "for value in year_max_genre['count'].values:\n",
    "#     print(asd)\n",
    "    # STEFANOS: Disable plotting\n",
    "#     g.text(index, value + 5, str(genre[index] + '----' +str(value)), color='#000', size=14, rotation= 90, ha=\"center\")\n",
    "    _ = str(genre[index] + '----' +str(value))\n",
    "    index += 1\n",
    "\n",
    "\n",
    "\n",
    "\n",
    "# STEFANOS: Disable plotting\n",
    "# plt.xticks(rotation=90)\n",
    "# plt.show()"
   ]
  },
  {
   "cell_type": "markdown",
   "metadata": {},
   "source": [
    "### Answer is => 2009 Action ---> 272 and 2012 Action ---> 266 games are release."
   ]
  },
  {
   "cell_type": "markdown",
   "metadata": {},
   "source": [
    "# 6. Which genre game has sold the most in a single year?"
   ]
  },
  {
   "cell_type": "code",
   "execution_count": 18,
   "metadata": {
    "_kg_hide-input": true
   },
   "outputs": [],
   "source": [
    "year_sale_dx = data.groupby(by=['Year', 'Genre'])['Global_Sales'].sum().reset_index()\n",
    "year_sale = year_sale_dx.groupby(by=['Year'])['Global_Sales'].transform(max) == year_sale_dx['Global_Sales']\n",
    "year_sale_max = year_sale_dx[year_sale].reset_index(drop=True)\n",
    "# year_sale_max"
   ]
  },
  {
   "cell_type": "code",
   "execution_count": 19,
   "metadata": {
    "_kg_hide-input": true
   },
   "outputs": [],
   "source": [
    "genre = year_sale_max['Genre']"
   ]
  },
  {
   "cell_type": "code",
   "execution_count": 20,
   "metadata": {
    "_kg_hide-input": true
   },
   "outputs": [
    {
     "data": {
      "image/png": "[encoded data removed]",
      "text/plain": [
       "<Figure size 3000x1800 with 1 Axes>"
      ]
     },
     "metadata": {},
     "output_type": "display_data"
    }
   ],
   "source": [
    "plt.figure(figsize=(30, 18))\n",
    "g = sns.barplot(x='Year', y='Global_Sales', data=year_sale_max)\n",
    "index = 0\n",
    "for value in year_sale_max['Global_Sales']:\n",
    "    _ = str(genre[index] + '----' +str(round(value, 2)))\n",
    "    # STEFANOS: Disable plotting\n",
    "#     g.text(index, value + 1, str(genre[index] + '----' +str(round(value, 2))), color='#000', size=14, rotation= 90, ha=\"center\")\n",
    "    index += 1\n",
    "\n",
    "# plt.xticks(rotation=90)\n",
    "# plt.show()"
   ]
  },
  {
   "cell_type": "markdown",
   "metadata": {},
   "source": [
    "* Answer is => 2009 Action ---> 139.36 million and 2008 Action ---> 136.39 miliion ."
   ]
  },
  {
   "cell_type": "markdown",
   "metadata": {},
   "source": [
    "# 7. Which genre game have the highest sale price globally"
   ]
  },
  {
   "cell_type": "code",
   "execution_count": 21,
   "metadata": {
    "_kg_hide-input": true
   },
   "outputs": [],
   "source": [
    "data_genre = data.groupby(by=['Genre'])['Global_Sales'].sum()\n",
    "data_genre = data_genre.reset_index()\n",
    "data_genre = data_genre.sort_values(by=['Global_Sales'], ascending=False)\n",
    "# data_genre"
   ]
  },
  {
   "cell_type": "code",
   "execution_count": 22,
   "metadata": {
    "_kg_hide-input": true
   },
   "outputs": [],
   "source": [
    "# STEFANOS: Disable plotting\n",
    "# plt.figure(figsize=(15, 10))\n",
    "# sns.barplot(x=\"Genre\", y=\"Global_Sales\", data=data_genre)\n",
    "# plt.xticks(rotation=90)"
   ]
  },
  {
   "cell_type": "markdown",
   "metadata": {},
   "source": [
    "* Action and Sports are always in top. but in third whis is remarkable \"Shooter\", in count which was no 5"
   ]
  },
  {
   "cell_type": "markdown",
   "metadata": {},
   "source": [
    "# 8. Which platfrom have the highest sale price globally"
   ]
  },
  {
   "cell_type": "code",
   "execution_count": 23,
   "metadata": {
    "_kg_hide-input": true
   },
   "outputs": [],
   "source": [
    "data_platform = data.groupby(by=['Platform'])['Global_Sales'].sum()\n",
    "data_platform = data_platform.reset_index()\n",
    "data_platform = data_platform.sort_values(by=['Global_Sales'], ascending=False)\n",
    "# data_platform"
   ]
  },
  {
   "cell_type": "code",
   "execution_count": 24,
   "metadata": {
    "_kg_hide-input": true
   },
   "outputs": [],
   "source": [
    "# STEFANOS: Disable plotting\n",
    "# plt.figure(figsize=(15, 10))\n",
    "# sns.barplot(x=\"Platform\", y=\"Global_Sales\", data=data_platform)\n",
    "# plt.xticks(rotation=90)"
   ]
  },
  {
   "cell_type": "markdown",
   "metadata": {},
   "source": [
    "* **The winner is PS2**"
   ]
  },
  {
   "cell_type": "markdown",
   "metadata": {},
   "source": [
    "# 9. Which individual game have the highest sale price globally?"
   ]
  },
  {
   "cell_type": "code",
   "execution_count": 25,
   "metadata": {
    "_kg_hide-input": true
   },
   "outputs": [],
   "source": [
    "top_game_sale = data.head(20)\n",
    "top_game_sale = top_game_sale[['Name', 'Year', 'Genre', 'Global_Sales']]\n",
    "top_game_sale = top_game_sale.sort_values(by=['Global_Sales'], ascending=False)\n",
    "# top_game_sale"
   ]
  },
  {
   "cell_type": "code",
   "execution_count": 26,
   "metadata": {
    "_kg_hide-input": true
   },
   "outputs": [],
   "source": [
    "name = top_game_sale['Name']\n",
    "year = top_game_sale['Year']\n",
    "y = np.arange(0, 20)"
   ]
  },
  {
   "cell_type": "code",
   "execution_count": 27,
   "metadata": {
    "_kg_hide-input": true
   },
   "outputs": [],
   "source": [
    "# STEFANOS: Disable plotting\n",
    "# plt.figure(figsize=(30, 18))\n",
    "# g = sns.barplot(x='Name', y='Global_Sales', data=top_game_sale)\n",
    "# index = 0\n",
    "# for value in top_game_sale['Global_Sales']:\n",
    "#     g.text(index, value - 18, name[index], color='#000', size=14, rotation= 90, ha=\"center\")\n",
    "#     index += 1\n",
    "\n",
    "# plt.xticks(y, top_game_sale['Year'], fontsize=14, rotation=90)\n",
    "# plt.xlabel('Release Year')\n",
    "# plt.show()"
   ]
  },
  {
   "cell_type": "markdown",
   "metadata": {},
   "source": [
    "* **And The winner is Wii Sports**"
   ]
  },
  {
   "cell_type": "markdown",
   "metadata": {},
   "source": [
    "ME => Ok jaber i thought you asked me too many questions. Can you hold it for time being, i will show you something interesting\n",
    "Jaber => Ok, i have no problem let's start"
   ]
  },
  {
   "cell_type": "markdown",
   "metadata": {},
   "source": [
    "# 10. Sales compearison by genre"
   ]
  },
  {
   "cell_type": "code",
   "execution_count": 28,
   "metadata": {
    "_kg_hide-input": true
   },
   "outputs": [],
   "source": [
    "comp_genre = data[['Genre', 'NA_Sales', 'EU_Sales', 'JP_Sales', 'Other_Sales']]\n",
    "# comp_genre\n",
    "comp_map = comp_genre.groupby(by=['Genre']).sum()\n",
    "# comp_map"
   ]
  },
  {
   "cell_type": "code",
   "execution_count": 29,
   "metadata": {
    "_kg_hide-input": true
   },
   "outputs": [],
   "source": [
    "# STEFANOS: Disable plotting\n",
    "# plt.figure(figsize=(15, 10))\n",
    "# sns.set(font_scale=1)\n",
    "# sns.heatmap(comp_map, annot=True, fmt = '.1f')\n",
    "\n",
    "# plt.xticks(fontsize=14)\n",
    "# plt.yticks(fontsize=14)\n",
    "# plt.show()"
   ]
  },
  {
   "cell_type": "code",
   "execution_count": 30,
   "metadata": {
    "_kg_hide-input": true
   },
   "outputs": [
    {
     "data": {
      "text/html": [
       "<div>\n",
       "<style scoped>\n",
       "    .dataframe tbody tr th:only-of-type {\n",
       "        vertical-align: middle;\n",
       "    }\n",
       "\n",
       "    .dataframe tbody tr th {\n",
       "        vertical-align: top;\n",
       "    }\n",
       "\n",
       "    .dataframe thead th {\n",
       "        text-align: right;\n",
       "    }\n",
       "</style>\n",
       "<table border=\"1\" class=\"dataframe\">\n",
       "  <thead>\n",
       "    <tr style=\"text-align: right;\">\n",
       "      <th></th>\n",
       "      <th>Genre</th>\n",
       "      <th>Sale_Area</th>\n",
       "      <th>Sale_Price</th>\n",
       "    </tr>\n",
       "  </thead>\n",
       "  <tbody>\n",
       "    <tr>\n",
       "      <th>0</th>\n",
       "      <td>Action</td>\n",
       "      <td>NA_Sales</td>\n",
       "      <td>871.96</td>\n",
       "    </tr>\n",
       "    <tr>\n",
       "      <th>1</th>\n",
       "      <td>Adventure</td>\n",
       "      <td>NA_Sales</td>\n",
       "      <td>105.46</td>\n",
       "    </tr>\n",
       "    <tr>\n",
       "      <th>2</th>\n",
       "      <td>Fighting</td>\n",
       "      <td>NA_Sales</td>\n",
       "      <td>221.99</td>\n",
       "    </tr>\n",
       "    <tr>\n",
       "      <th>3</th>\n",
       "      <td>Misc</td>\n",
       "      <td>NA_Sales</td>\n",
       "      <td>410.02</td>\n",
       "    </tr>\n",
       "    <tr>\n",
       "      <th>4</th>\n",
       "      <td>Platform</td>\n",
       "      <td>NA_Sales</td>\n",
       "      <td>446.26</td>\n",
       "    </tr>\n",
       "  </tbody>\n",
       "</table>\n",
       "</div>"
      ],
      "text/plain": [
       "       Genre Sale_Area  Sale_Price\n",
       "0     Action  NA_Sales      871.96\n",
       "1  Adventure  NA_Sales      105.46\n",
       "2   Fighting  NA_Sales      221.99\n",
       "3       Misc  NA_Sales      410.02\n",
       "4   Platform  NA_Sales      446.26"
      ]
     },
     "execution_count": 30,
     "metadata": {},
     "output_type": "execute_result"
    }
   ],
   "source": [
    "comp_table = comp_map.reset_index()\n",
    "comp_table = pd.melt(comp_table, id_vars=['Genre'], value_vars=['NA_Sales', 'EU_Sales', 'JP_Sales', 'Other_Sales'], var_name='Sale_Area', value_name='Sale_Price')\n",
    "comp_table.head()"
   ]
  },
  {
   "cell_type": "code",
   "execution_count": 31,
   "metadata": {
    "_kg_hide-input": true
   },
   "outputs": [],
   "source": [
    "# STEFANOS: Disable plotting\n",
    "# plt.figure(figsize=(15, 10))\n",
    "# sns.barplot(x='Genre', y='Sale_Price', hue='Sale_Area', data=comp_table)"
   ]
  },
  {
   "cell_type": "markdown",
   "metadata": {},
   "source": [
    "Me => See, Here Action Sports and Shooter have much sales compare with others. and North America (NA_sales) have heights sales all the time. Its look like they love video games most"
   ]
  },
  {
   "cell_type": "markdown",
   "metadata": {},
   "source": [
    "# 11. Sales compearison by platform"
   ]
  },
  {
   "cell_type": "code",
   "execution_count": 32,
   "metadata": {
    "_kg_hide-input": true
   },
   "outputs": [
    {
     "data": {
      "text/html": [
       "<div>\n",
       "<style scoped>\n",
       "    .dataframe tbody tr th:only-of-type {\n",
       "        vertical-align: middle;\n",
       "    }\n",
       "\n",
       "    .dataframe tbody tr th {\n",
       "        vertical-align: top;\n",
       "    }\n",
       "\n",
       "    .dataframe thead th {\n",
       "        text-align: right;\n",
       "    }\n",
       "</style>\n",
       "<table border=\"1\" class=\"dataframe\">\n",
       "  <thead>\n",
       "    <tr style=\"text-align: right;\">\n",
       "      <th></th>\n",
       "      <th>Platform</th>\n",
       "      <th>NA_Sales</th>\n",
       "      <th>EU_Sales</th>\n",
       "      <th>JP_Sales</th>\n",
       "      <th>Other_Sales</th>\n",
       "    </tr>\n",
       "  </thead>\n",
       "  <tbody>\n",
       "    <tr>\n",
       "      <th>0</th>\n",
       "      <td>Wii</td>\n",
       "      <td>41.49</td>\n",
       "      <td>29.02</td>\n",
       "      <td>3.77</td>\n",
       "      <td>8.46</td>\n",
       "    </tr>\n",
       "    <tr>\n",
       "      <th>1</th>\n",
       "      <td>NES</td>\n",
       "      <td>29.08</td>\n",
       "      <td>3.58</td>\n",
       "      <td>6.81</td>\n",
       "      <td>0.77</td>\n",
       "    </tr>\n",
       "    <tr>\n",
       "      <th>2</th>\n",
       "      <td>Wii</td>\n",
       "      <td>15.85</td>\n",
       "      <td>12.88</td>\n",
       "      <td>3.79</td>\n",
       "      <td>3.31</td>\n",
       "    </tr>\n",
       "    <tr>\n",
       "      <th>3</th>\n",
       "      <td>Wii</td>\n",
       "      <td>15.75</td>\n",
       "      <td>11.01</td>\n",
       "      <td>3.28</td>\n",
       "      <td>2.96</td>\n",
       "    </tr>\n",
       "    <tr>\n",
       "      <th>4</th>\n",
       "      <td>GB</td>\n",
       "      <td>11.27</td>\n",
       "      <td>8.89</td>\n",
       "      <td>10.22</td>\n",
       "      <td>1.00</td>\n",
       "    </tr>\n",
       "  </tbody>\n",
       "</table>\n",
       "</div>"
      ],
      "text/plain": [
       "  Platform  NA_Sales  EU_Sales  JP_Sales  Other_Sales\n",
       "0      Wii     41.49     29.02      3.77         8.46\n",
       "1      NES     29.08      3.58      6.81         0.77\n",
       "2      Wii     15.85     12.88      3.79         3.31\n",
       "3      Wii     15.75     11.01      3.28         2.96\n",
       "4       GB     11.27      8.89     10.22         1.00"
      ]
     },
     "execution_count": 32,
     "metadata": {},
     "output_type": "execute_result"
    }
   ],
   "source": [
    "comp_platform = data[['Platform', 'NA_Sales', 'EU_Sales', 'JP_Sales', 'Other_Sales']]\n",
    "comp_platform.head()"
   ]
  },
  {
   "cell_type": "code",
   "execution_count": 33,
   "metadata": {
    "_kg_hide-input": true
   },
   "outputs": [],
   "source": [
    "comp_platform = comp_platform.groupby(by=['Platform']).sum().reset_index()"
   ]
  },
  {
   "cell_type": "code",
   "execution_count": 34,
   "metadata": {
    "_kg_hide-input": true
   },
   "outputs": [
    {
     "data": {
      "text/html": [
       "<div>\n",
       "<style scoped>\n",
       "    .dataframe tbody tr th:only-of-type {\n",
       "        vertical-align: middle;\n",
       "    }\n",
       "\n",
       "    .dataframe tbody tr th {\n",
       "        vertical-align: top;\n",
       "    }\n",
       "\n",
       "    .dataframe thead th {\n",
       "        text-align: right;\n",
       "    }\n",
       "</style>\n",
       "<table border=\"1\" class=\"dataframe\">\n",
       "  <thead>\n",
       "    <tr style=\"text-align: right;\">\n",
       "      <th></th>\n",
       "      <th>Platform</th>\n",
       "      <th>Sale_Area</th>\n",
       "      <th>Sale_Price</th>\n",
       "    </tr>\n",
       "  </thead>\n",
       "  <tbody>\n",
       "    <tr>\n",
       "      <th>0</th>\n",
       "      <td>2600</td>\n",
       "      <td>NA_Sales</td>\n",
       "      <td>90.60</td>\n",
       "    </tr>\n",
       "    <tr>\n",
       "      <th>1</th>\n",
       "      <td>3DO</td>\n",
       "      <td>NA_Sales</td>\n",
       "      <td>0.00</td>\n",
       "    </tr>\n",
       "    <tr>\n",
       "      <th>2</th>\n",
       "      <td>3DS</td>\n",
       "      <td>NA_Sales</td>\n",
       "      <td>78.04</td>\n",
       "    </tr>\n",
       "    <tr>\n",
       "      <th>3</th>\n",
       "      <td>DC</td>\n",
       "      <td>NA_Sales</td>\n",
       "      <td>5.43</td>\n",
       "    </tr>\n",
       "    <tr>\n",
       "      <th>4</th>\n",
       "      <td>DS</td>\n",
       "      <td>NA_Sales</td>\n",
       "      <td>390.44</td>\n",
       "    </tr>\n",
       "  </tbody>\n",
       "</table>\n",
       "</div>"
      ],
      "text/plain": [
       "  Platform Sale_Area  Sale_Price\n",
       "0     2600  NA_Sales       90.60\n",
       "1      3DO  NA_Sales        0.00\n",
       "2      3DS  NA_Sales       78.04\n",
       "3       DC  NA_Sales        5.43\n",
       "4       DS  NA_Sales      390.44"
      ]
     },
     "execution_count": 34,
     "metadata": {},
     "output_type": "execute_result"
    }
   ],
   "source": [
    "# comp_table = comp_map.reset_index()\n",
    "comp_table = pd.melt(comp_platform, id_vars=['Platform'], value_vars=['NA_Sales', 'EU_Sales', 'JP_Sales', 'Other_Sales'], var_name='Sale_Area', value_name='Sale_Price')\n",
    "comp_table.head()"
   ]
  },
  {
   "cell_type": "code",
   "execution_count": 35,
   "metadata": {
    "_kg_hide-input": true
   },
   "outputs": [],
   "source": [
    "# STEFANOS: Disable plotting\n",
    "# plt.figure(figsize=(30, 15))\n",
    "# sns.barplot(x='Platform', y='Sale_Price', hue='Sale_Area', data=comp_table)\n",
    "# plt.xticks(fontsize=14)\n",
    "# plt.yticks(fontsize=14)\n",
    "# plt.show()"
   ]
  },
  {
   "cell_type": "markdown",
   "metadata": {},
   "source": [
    "ME => It's clearly shown that X360, Wii, and PS are market leader. and north america always top. i have a question in my mind why they play video games most?"
   ]
  },
  {
   "cell_type": "markdown",
   "metadata": {},
   "source": [
    "# 12. Top 20 Publisher"
   ]
  },
  {
   "cell_type": "code",
   "execution_count": 36,
   "metadata": {
    "_kg_hide-input": true
   },
   "outputs": [],
   "source": [
    "top_publisher = data.groupby(by=['Publisher'])['Year'].count().sort_values(ascending=False).head(20)\n",
    "top_publisher = pd.DataFrame(top_publisher).reset_index()\n",
    "# top_publisher"
   ]
  },
  {
   "cell_type": "code",
   "execution_count": 37,
   "metadata": {
    "_kg_hide-input": true
   },
   "outputs": [],
   "source": [
    "# STEFANOS: Disable plotting\n",
    "_ = data.groupby(by=['Publisher'])['Year'].count().sort_values(ascending=False).iloc[:20].index\n",
    "# plt.figure(figsize=(15, 10))\n",
    "# sns.countplot(x=\"Publisher\", data=data, order = data.groupby(by=['Publisher'])['Year'].count().sort_values(ascending=False).iloc[:20].index)\n",
    "# plt.xticks(rotation=90)"
   ]
  },
  {
   "cell_type": "markdown",
   "metadata": {},
   "source": [
    "* Jaber => Electronic Arts 1339, its huge\n",
    "* Me => Thank you EA Sports for giving us too many games."
   ]
  },
  {
   "cell_type": "markdown",
   "metadata": {},
   "source": [
    "# 13. Top global sales by publisher"
   ]
  },
  {
   "cell_type": "code",
   "execution_count": 38,
   "metadata": {
    "_kg_hide-input": true
   },
   "outputs": [],
   "source": [
    "sale_pbl = data[['Publisher', 'Global_Sales']]\n",
    "sale_pbl = sale_pbl.groupby('Publisher')['Global_Sales'].sum().sort_values(ascending=False).head(20)\n",
    "sale_pbl = pd.DataFrame(sale_pbl).reset_index()\n",
    "# sale_pbl"
   ]
  },
  {
   "cell_type": "code",
   "execution_count": 39,
   "metadata": {
    "_kg_hide-input": true
   },
   "outputs": [],
   "source": [
    "# STEFANOS: Disable plotting\n",
    "# plt.figure(figsize=(15, 10))\n",
    "# sns.barplot(x='Publisher', y='Global_Sales', data=sale_pbl)\n",
    "# plt.xticks(rotation=90)"
   ]
  },
  {
   "cell_type": "markdown",
   "metadata": {},
   "source": [
    "1. ME => Wow its awesome Nintendo earns more rather than others. where respectively they are not releases much games.\n",
    "1. Jaber => Till now Nintendo release 696 games. are you dont think its not huge?\n",
    "1. Me => Yeah maybe, but they are not top 5 publisher"
   ]
  },
  {
   "cell_type": "markdown",
   "metadata": {},
   "source": [
    "# 14. publisher comperison"
   ]
  },
  {
   "cell_type": "code",
   "execution_count": 40,
   "metadata": {
    "_kg_hide-input": true
   },
   "outputs": [
    {
     "data": {
      "text/html": [
       "<div>\n",
       "<style scoped>\n",
       "    .dataframe tbody tr th:only-of-type {\n",
       "        vertical-align: middle;\n",
       "    }\n",
       "\n",
       "    .dataframe tbody tr th {\n",
       "        vertical-align: top;\n",
       "    }\n",
       "\n",
       "    .dataframe thead th {\n",
       "        text-align: right;\n",
       "    }\n",
       "</style>\n",
       "<table border=\"1\" class=\"dataframe\">\n",
       "  <thead>\n",
       "    <tr style=\"text-align: right;\">\n",
       "      <th></th>\n",
       "      <th>Publisher</th>\n",
       "      <th>NA_Sales</th>\n",
       "      <th>EU_Sales</th>\n",
       "      <th>JP_Sales</th>\n",
       "      <th>Other_Sales</th>\n",
       "      <th>Global_Sales</th>\n",
       "    </tr>\n",
       "  </thead>\n",
       "  <tbody>\n",
       "    <tr>\n",
       "      <th>0</th>\n",
       "      <td>Nintendo</td>\n",
       "      <td>41.49</td>\n",
       "      <td>29.02</td>\n",
       "      <td>3.77</td>\n",
       "      <td>8.46</td>\n",
       "      <td>82.74</td>\n",
       "    </tr>\n",
       "    <tr>\n",
       "      <th>1</th>\n",
       "      <td>Nintendo</td>\n",
       "      <td>29.08</td>\n",
       "      <td>3.58</td>\n",
       "      <td>6.81</td>\n",
       "      <td>0.77</td>\n",
       "      <td>40.24</td>\n",
       "    </tr>\n",
       "    <tr>\n",
       "      <th>2</th>\n",
       "      <td>Nintendo</td>\n",
       "      <td>15.85</td>\n",
       "      <td>12.88</td>\n",
       "      <td>3.79</td>\n",
       "      <td>3.31</td>\n",
       "      <td>35.82</td>\n",
       "    </tr>\n",
       "    <tr>\n",
       "      <th>3</th>\n",
       "      <td>Nintendo</td>\n",
       "      <td>15.75</td>\n",
       "      <td>11.01</td>\n",
       "      <td>3.28</td>\n",
       "      <td>2.96</td>\n",
       "      <td>33.00</td>\n",
       "    </tr>\n",
       "    <tr>\n",
       "      <th>4</th>\n",
       "      <td>Nintendo</td>\n",
       "      <td>11.27</td>\n",
       "      <td>8.89</td>\n",
       "      <td>10.22</td>\n",
       "      <td>1.00</td>\n",
       "      <td>31.37</td>\n",
       "    </tr>\n",
       "  </tbody>\n",
       "</table>\n",
       "</div>"
      ],
      "text/plain": [
       "  Publisher  NA_Sales  EU_Sales  JP_Sales  Other_Sales  Global_Sales\n",
       "0  Nintendo     41.49     29.02      3.77         8.46         82.74\n",
       "1  Nintendo     29.08      3.58      6.81         0.77         40.24\n",
       "2  Nintendo     15.85     12.88      3.79         3.31         35.82\n",
       "3  Nintendo     15.75     11.01      3.28         2.96         33.00\n",
       "4  Nintendo     11.27      8.89     10.22         1.00         31.37"
      ]
     },
     "execution_count": 40,
     "metadata": {},
     "output_type": "execute_result"
    }
   ],
   "source": [
    "comp_publisher = data[['Publisher', 'NA_Sales', 'EU_Sales', 'JP_Sales', 'Other_Sales', 'Global_Sales']]\n",
    "comp_publisher.head()"
   ]
  },
  {
   "cell_type": "code",
   "execution_count": 41,
   "metadata": {
    "_kg_hide-input": true
   },
   "outputs": [],
   "source": [
    "comp_publisher = comp_publisher.groupby(by=['Publisher']).sum().reset_index().sort_values(by=['Global_Sales'], ascending=False)\n",
    "comp_publisher = comp_publisher.head(20)\n",
    "# comp_publisher"
   ]
  },
  {
   "cell_type": "code",
   "execution_count": 42,
   "metadata": {
    "_kg_hide-input": true
   },
   "outputs": [
    {
     "data": {
      "text/html": [
       "<div>\n",
       "<style scoped>\n",
       "    .dataframe tbody tr th:only-of-type {\n",
       "        vertical-align: middle;\n",
       "    }\n",
       "\n",
       "    .dataframe tbody tr th {\n",
       "        vertical-align: top;\n",
       "    }\n",
       "\n",
       "    .dataframe thead th {\n",
       "        text-align: right;\n",
       "    }\n",
       "</style>\n",
       "<table border=\"1\" class=\"dataframe\">\n",
       "  <thead>\n",
       "    <tr style=\"text-align: right;\">\n",
       "      <th></th>\n",
       "      <th>Publisher</th>\n",
       "      <th>Sale_Area</th>\n",
       "      <th>Sale_Price</th>\n",
       "    </tr>\n",
       "  </thead>\n",
       "  <tbody>\n",
       "    <tr>\n",
       "      <th>0</th>\n",
       "      <td>Nintendo</td>\n",
       "      <td>NA_Sales</td>\n",
       "      <td>815.71</td>\n",
       "    </tr>\n",
       "    <tr>\n",
       "      <th>1</th>\n",
       "      <td>Electronic Arts</td>\n",
       "      <td>NA_Sales</td>\n",
       "      <td>591.43</td>\n",
       "    </tr>\n",
       "    <tr>\n",
       "      <th>2</th>\n",
       "      <td>Activision</td>\n",
       "      <td>NA_Sales</td>\n",
       "      <td>428.03</td>\n",
       "    </tr>\n",
       "    <tr>\n",
       "      <th>3</th>\n",
       "      <td>Sony Computer Entertainment</td>\n",
       "      <td>NA_Sales</td>\n",
       "      <td>262.79</td>\n",
       "    </tr>\n",
       "    <tr>\n",
       "      <th>4</th>\n",
       "      <td>Ubisoft</td>\n",
       "      <td>NA_Sales</td>\n",
       "      <td>249.31</td>\n",
       "    </tr>\n",
       "    <tr>\n",
       "      <th>...</th>\n",
       "      <td>...</td>\n",
       "      <td>...</td>\n",
       "      <td>...</td>\n",
       "    </tr>\n",
       "    <tr>\n",
       "      <th>75</th>\n",
       "      <td>Disney Interactive Studios</td>\n",
       "      <td>Other_Sales</td>\n",
       "      <td>13.18</td>\n",
       "    </tr>\n",
       "    <tr>\n",
       "      <th>76</th>\n",
       "      <td>Eidos Interactive</td>\n",
       "      <td>Other_Sales</td>\n",
       "      <td>8.02</td>\n",
       "    </tr>\n",
       "    <tr>\n",
       "      <th>77</th>\n",
       "      <td>LucasArts</td>\n",
       "      <td>Other_Sales</td>\n",
       "      <td>10.50</td>\n",
       "    </tr>\n",
       "    <tr>\n",
       "      <th>78</th>\n",
       "      <td>Bethesda Softworks</td>\n",
       "      <td>Other_Sales</td>\n",
       "      <td>9.87</td>\n",
       "    </tr>\n",
       "    <tr>\n",
       "      <th>79</th>\n",
       "      <td>Midway Games</td>\n",
       "      <td>Other_Sales</td>\n",
       "      <td>5.74</td>\n",
       "    </tr>\n",
       "  </tbody>\n",
       "</table>\n",
       "<p>80 rows × 3 columns</p>\n",
       "</div>"
      ],
      "text/plain": [
       "                      Publisher    Sale_Area  Sale_Price\n",
       "0                      Nintendo     NA_Sales      815.71\n",
       "1               Electronic Arts     NA_Sales      591.43\n",
       "2                    Activision     NA_Sales      428.03\n",
       "3   Sony Computer Entertainment     NA_Sales      262.79\n",
       "4                       Ubisoft     NA_Sales      249.31\n",
       "..                          ...          ...         ...\n",
       "75   Disney Interactive Studios  Other_Sales       13.18\n",
       "76            Eidos Interactive  Other_Sales        8.02\n",
       "77                    LucasArts  Other_Sales       10.50\n",
       "78           Bethesda Softworks  Other_Sales        9.87\n",
       "79                 Midway Games  Other_Sales        5.74\n",
       "\n",
       "[80 rows x 3 columns]"
      ]
     },
     "execution_count": 42,
     "metadata": {},
     "output_type": "execute_result"
    }
   ],
   "source": [
    "comp_publisher = pd.melt(comp_publisher, id_vars=['Publisher'], value_vars=['NA_Sales', 'EU_Sales', 'JP_Sales', 'Other_Sales'], var_name='Sale_Area', value_name='Sale_Price')\n",
    "comp_publisher"
   ]
  },
  {
   "cell_type": "code",
   "execution_count": 43,
   "metadata": {
    "_kg_hide-input": true
   },
   "outputs": [],
   "source": [
    "# STEFANOS: Disable plotting\n",
    "# plt.figure(figsize=(30, 15))\n",
    "# sns.barplot(x='Publisher', y='Sale_Price', hue='Sale_Area', data=comp_publisher)\n",
    "# plt.xticks(fontsize=14, rotation=90)\n",
    "# plt.yticks(fontsize=14)\n",
    "# plt.show()"
   ]
  },
  {
   "cell_type": "markdown",
   "metadata": {},
   "source": [
    "# 15. Top publisher by Count each year"
   ]
  },
  {
   "cell_type": "code",
   "execution_count": 44,
   "metadata": {
    "_kg_hide-input": true
   },
   "outputs": [],
   "source": [
    "top_publisher =  data[['Year', 'Publisher']]\n",
    "top_publisher_df = top_publisher.groupby(by=['Year', 'Publisher']).size().reset_index(name='Count')\n",
    "top_publisher_idx =  top_publisher_df.groupby(by=['Year'])['Count'].transform(max) == top_publisher_df['Count']\n",
    "top_publisher_count = top_publisher_df[top_publisher_idx].reset_index(drop=True)\n",
    "top_publisher_count  = top_publisher_count.drop_duplicates(subset=[\"Year\", \"Count\"], keep='last').reset_index(drop=True)\n",
    "# top_publisher_count"
   ]
  },
  {
   "cell_type": "code",
   "execution_count": 45,
   "metadata": {
    "_kg_hide-input": true
   },
   "outputs": [],
   "source": [
    "publisher= top_publisher_count['Publisher']"
   ]
  },
  {
   "cell_type": "code",
   "execution_count": 46,
   "metadata": {
    "_kg_hide-input": true
   },
   "outputs": [
    {
     "data": {
      "image/png": "[encoded data removed]",
      "text/plain": [
       "<Figure size 3000x1500 with 1 Axes>"
      ]
     },
     "metadata": {},
     "output_type": "display_data"
    }
   ],
   "source": [
    "plt.figure(figsize=(30, 15))\n",
    "g = sns.barplot(x='Year', y='Count', data=top_publisher_count)\n",
    "index = 0\n",
    "for value in top_publisher_count['Count'].values:\n",
    "#     print(asd)\n",
    "    _ = str(publisher[index] + '----' +str(value))\n",
    "    # STEFANOS: Disable plotting\n",
    "#     g.text(index, value + 5, str(publisher[index] + '----' +str(value)), color='#000', size=14, rotation= 90, ha=\"center\")\n",
    "    index += 1\n",
    "\n",
    "\n",
    "\n",
    "\n",
    "# plt.xticks(rotation=90)\n",
    "# plt.show()"
   ]
  },
  {
   "cell_type": "markdown",
   "metadata": {},
   "source": [
    "# 16. Total revenue by region"
   ]
  },
  {
   "cell_type": "code",
   "execution_count": 47,
   "metadata": {
    "_kg_hide-input": true
   },
   "outputs": [],
   "source": [
    "# data.head()"
   ]
  },
  {
   "cell_type": "code",
   "execution_count": 48,
   "metadata": {
    "_kg_hide-input": true
   },
   "outputs": [
    {
     "data": {
      "text/html": [
       "<div>\n",
       "<style scoped>\n",
       "    .dataframe tbody tr th:only-of-type {\n",
       "        vertical-align: middle;\n",
       "    }\n",
       "\n",
       "    .dataframe tbody tr th {\n",
       "        vertical-align: top;\n",
       "    }\n",
       "\n",
       "    .dataframe thead th {\n",
       "        text-align: right;\n",
       "    }\n",
       "</style>\n",
       "<table border=\"1\" class=\"dataframe\">\n",
       "  <thead>\n",
       "    <tr style=\"text-align: right;\">\n",
       "      <th></th>\n",
       "      <th>region</th>\n",
       "      <th>sale</th>\n",
       "    </tr>\n",
       "  </thead>\n",
       "  <tbody>\n",
       "    <tr>\n",
       "      <th>0</th>\n",
       "      <td>NA_Sales</td>\n",
       "      <td>4370.02</td>\n",
       "    </tr>\n",
       "    <tr>\n",
       "      <th>1</th>\n",
       "      <td>EU_Sales</td>\n",
       "      <td>2407.37</td>\n",
       "    </tr>\n",
       "    <tr>\n",
       "      <th>2</th>\n",
       "      <td>JP_Sales</td>\n",
       "      <td>1277.27</td>\n",
       "    </tr>\n",
       "    <tr>\n",
       "      <th>3</th>\n",
       "      <td>Other_Sales</td>\n",
       "      <td>789.98</td>\n",
       "    </tr>\n",
       "  </tbody>\n",
       "</table>\n",
       "</div>"
      ],
      "text/plain": [
       "        region     sale\n",
       "0     NA_Sales  4370.02\n",
       "1     EU_Sales  2407.37\n",
       "2     JP_Sales  1277.27\n",
       "3  Other_Sales   789.98"
      ]
     },
     "execution_count": 48,
     "metadata": {},
     "output_type": "execute_result"
    }
   ],
   "source": [
    "top_sale_reg = data[['NA_Sales', 'EU_Sales', 'JP_Sales', 'Other_Sales']]\n",
    "# pd.DataFrame(top_sale_reg.sum(), columns=['a', 'b'])\n",
    "top_sale_reg = top_sale_reg.sum().reset_index()\n",
    "top_sale_reg = top_sale_reg.rename(columns={\"index\": \"region\", 0: \"sale\"})\n",
    "top_sale_reg"
   ]
  },
  {
   "cell_type": "code",
   "execution_count": 49,
   "metadata": {
    "_kg_hide-input": true
   },
   "outputs": [],
   "source": [
    "# STEFANOS: Disable plotting\n",
    "# plt.figure(figsize=(12, 8))\n",
    "# sns.barplot(x='region', y='sale', data = top_sale_reg)"
   ]
  },
  {
   "cell_type": "markdown",
   "metadata": {},
   "source": [
    "### pie chart of region sale"
   ]
  },
  {
   "cell_type": "code",
   "execution_count": 50,
   "metadata": {
    "_kg_hide-input": true
   },
   "outputs": [],
   "source": [
    "labels = top_sale_reg['region']\n",
    "sizes = top_sale_reg['sale']"
   ]
  },
  {
   "cell_type": "code",
   "execution_count": 51,
   "metadata": {
    "_kg_hide-input": true
   },
   "outputs": [],
   "source": [
    "# STEFANOS: Disable plotting\n",
    "# plt.figure(figsize=(10, 8))\n",
    "# plt.pie(sizes, labels=labels, autopct='%1.1f%%', shadow=True, startangle=90)"
   ]
  },
  {
   "cell_type": "markdown",
   "metadata": {},
   "source": [
    "North America almost Cover 50% of sales."
   ]
  },
  {
   "cell_type": "markdown",
   "metadata": {},
   "source": [
    "# 17. Sales Histogram"
   ]
  },
  {
   "cell_type": "code",
   "execution_count": 52,
   "metadata": {
    "_kg_hide-input": true
   },
   "outputs": [],
   "source": [
    "# sns.distplot(data['NA_Sales'],  kde=False, fit=stats.gamma);\n",
    "# sns.distplot(data['EU_Sales'],  kde=False, fit=stats.gamma);\n",
    "# STEFANOS: Disable plotting\n",
    "# plt.figure(figsize=(25,30))\n",
    "# sales_columns = ['NA_Sales', 'EU_Sales', 'JP_Sales', 'Other_Sales', 'Global_Sales']\n",
    "# for i, column in enumerate(sales_columns):\n",
    "#     plt.subplot(3,2,i+1)\n",
    "#     sns.distplot(data[column], bins=20, kde=False, fit=stats.gamma)"
   ]
  },
  {
   "cell_type": "markdown",
   "metadata": {},
   "source": [
    "## Distribution After log transformation"
   ]
  },
  {
   "cell_type": "code",
   "execution_count": 53,
   "metadata": {
    "_kg_hide-input": true
   },
   "outputs": [],
   "source": [
    "data_hist_log = data.copy()"
   ]
  },
  {
   "cell_type": "code",
   "execution_count": 54,
   "metadata": {
    "_kg_hide-input": true
   },
   "outputs": [],
   "source": [
    "data_hist_log = data_hist_log[data_hist_log.NA_Sales != 0]\n",
    "data_hist_log = data_hist_log[data_hist_log.EU_Sales != 0]\n",
    "data_hist_log = data_hist_log[data_hist_log.Other_Sales != 0]\n",
    "data_hist_log = data_hist_log[data_hist_log.JP_Sales != 0]\n",
    "data_hist_log = data_hist_log[data_hist_log.Global_Sales != 0]"
   ]
  },
  {
   "cell_type": "code",
   "execution_count": 55,
   "metadata": {
    "_kg_hide-input": true
   },
   "outputs": [
    {
     "data": {
      "text/plain": [
       "<Figure size 2500x3000 with 0 Axes>"
      ]
     },
     "metadata": {},
     "output_type": "display_data"
    }
   ],
   "source": [
    "plt.figure(figsize=(25,30))\n",
    "sales_columns = ['NA_Sales', 'EU_Sales', 'JP_Sales', 'Other_Sales', 'Global_Sales']\n",
    "# STEFANOS: Disable plotting\n",
    "# for i, column in enumerate(sales_columns):\n",
    "#     plt.subplot(3,2,i+1)\n",
    "#     sns.distplot(np.log(data_hist_log[column]), bins=20, kde=False, fit=stats.gamma)"
   ]
  },
  {
   "cell_type": "markdown",
   "metadata": {},
   "source": [
    "You can see their skewness and central tendency. we can say that our almost all data are right skewed and symmetric skewed after log transformation"
   ]
  },
  {
   "cell_type": "markdown",
   "metadata": {},
   "source": [
    "<img src=\"https://miro.medium.com/max/3164/1*pTe0p8HMmEnbAn8uEL66Ng.png\" />"
   ]
  },
  {
   "cell_type": "markdown",
   "metadata": {},
   "source": [
    "# 18. Relations of columns"
   ]
  },
  {
   "cell_type": "markdown",
   "metadata": {},
   "source": [
    "## heatmap"
   ]
  },
  {
   "cell_type": "markdown",
   "metadata": {},
   "source": [
    "**heatmap is a good way to understand correlation.**"
   ]
  },
  {
   "cell_type": "code",
   "execution_count": 56,
   "metadata": {
    "_kg_hide-input": true
   },
   "outputs": [],
   "source": [
    "# STEFANOS: Disable plotting\n",
    "# plt.figure(figsize=(13,10))\n",
    "# sns.heatmap(data.corr(), cmap = \"Blues\", annot=True, linewidth=3)"
   ]
  },
  {
   "cell_type": "markdown",
   "metadata": {},
   "source": [
    "**We can NA_Sales and EU_sales have much effect in Global_Sales. And NA_Sales and EU_sales are mostly corelated**"
   ]
  },
  {
   "cell_type": "markdown",
   "metadata": {},
   "source": [
    "## Pair plot"
   ]
  },
  {
   "cell_type": "code",
   "execution_count": 57,
   "metadata": {
    "_kg_hide-input": true
   },
   "outputs": [
    {
     "data": {
      "text/html": [
       "<div>\n",
       "<style scoped>\n",
       "    .dataframe tbody tr th:only-of-type {\n",
       "        vertical-align: middle;\n",
       "    }\n",
       "\n",
       "    .dataframe tbody tr th {\n",
       "        vertical-align: top;\n",
       "    }\n",
       "\n",
       "    .dataframe thead th {\n",
       "        text-align: right;\n",
       "    }\n",
       "</style>\n",
       "<table border=\"1\" class=\"dataframe\">\n",
       "  <thead>\n",
       "    <tr style=\"text-align: right;\">\n",
       "      <th></th>\n",
       "      <th>Year</th>\n",
       "      <th>Platform</th>\n",
       "      <th>Genre</th>\n",
       "      <th>NA_Sales</th>\n",
       "      <th>EU_Sales</th>\n",
       "      <th>Other_Sales</th>\n",
       "    </tr>\n",
       "  </thead>\n",
       "  <tbody>\n",
       "    <tr>\n",
       "      <th>0</th>\n",
       "      <td>2006.0</td>\n",
       "      <td>Wii</td>\n",
       "      <td>Sports</td>\n",
       "      <td>41.49</td>\n",
       "      <td>29.02</td>\n",
       "      <td>8.46</td>\n",
       "    </tr>\n",
       "    <tr>\n",
       "      <th>1</th>\n",
       "      <td>1985.0</td>\n",
       "      <td>NES</td>\n",
       "      <td>Platform</td>\n",
       "      <td>29.08</td>\n",
       "      <td>3.58</td>\n",
       "      <td>0.77</td>\n",
       "    </tr>\n",
       "    <tr>\n",
       "      <th>2</th>\n",
       "      <td>2008.0</td>\n",
       "      <td>Wii</td>\n",
       "      <td>Racing</td>\n",
       "      <td>15.85</td>\n",
       "      <td>12.88</td>\n",
       "      <td>3.31</td>\n",
       "    </tr>\n",
       "    <tr>\n",
       "      <th>3</th>\n",
       "      <td>2009.0</td>\n",
       "      <td>Wii</td>\n",
       "      <td>Sports</td>\n",
       "      <td>15.75</td>\n",
       "      <td>11.01</td>\n",
       "      <td>2.96</td>\n",
       "    </tr>\n",
       "    <tr>\n",
       "      <th>4</th>\n",
       "      <td>1996.0</td>\n",
       "      <td>GB</td>\n",
       "      <td>Role-Playing</td>\n",
       "      <td>11.27</td>\n",
       "      <td>8.89</td>\n",
       "      <td>1.00</td>\n",
       "    </tr>\n",
       "    <tr>\n",
       "      <th>...</th>\n",
       "      <td>...</td>\n",
       "      <td>...</td>\n",
       "      <td>...</td>\n",
       "      <td>...</td>\n",
       "      <td>...</td>\n",
       "      <td>...</td>\n",
       "    </tr>\n",
       "    <tr>\n",
       "      <th>16593</th>\n",
       "      <td>2002.0</td>\n",
       "      <td>GBA</td>\n",
       "      <td>Platform</td>\n",
       "      <td>0.01</td>\n",
       "      <td>0.00</td>\n",
       "      <td>0.00</td>\n",
       "    </tr>\n",
       "    <tr>\n",
       "      <th>16594</th>\n",
       "      <td>2003.0</td>\n",
       "      <td>GC</td>\n",
       "      <td>Shooter</td>\n",
       "      <td>0.01</td>\n",
       "      <td>0.00</td>\n",
       "      <td>0.00</td>\n",
       "    </tr>\n",
       "    <tr>\n",
       "      <th>16595</th>\n",
       "      <td>2008.0</td>\n",
       "      <td>PS2</td>\n",
       "      <td>Racing</td>\n",
       "      <td>0.00</td>\n",
       "      <td>0.00</td>\n",
       "      <td>0.00</td>\n",
       "    </tr>\n",
       "    <tr>\n",
       "      <th>16596</th>\n",
       "      <td>2010.0</td>\n",
       "      <td>DS</td>\n",
       "      <td>Puzzle</td>\n",
       "      <td>0.00</td>\n",
       "      <td>0.01</td>\n",
       "      <td>0.00</td>\n",
       "    </tr>\n",
       "    <tr>\n",
       "      <th>16597</th>\n",
       "      <td>2003.0</td>\n",
       "      <td>GBA</td>\n",
       "      <td>Platform</td>\n",
       "      <td>0.01</td>\n",
       "      <td>0.00</td>\n",
       "      <td>0.00</td>\n",
       "    </tr>\n",
       "  </tbody>\n",
       "</table>\n",
       "<p>16250 rows × 6 columns</p>\n",
       "</div>"
      ],
      "text/plain": [
       "         Year Platform         Genre  NA_Sales  EU_Sales  Other_Sales\n",
       "0      2006.0      Wii        Sports     41.49     29.02         8.46\n",
       "1      1985.0      NES      Platform     29.08      3.58         0.77\n",
       "2      2008.0      Wii        Racing     15.85     12.88         3.31\n",
       "3      2009.0      Wii        Sports     15.75     11.01         2.96\n",
       "4      1996.0       GB  Role-Playing     11.27      8.89         1.00\n",
       "...       ...      ...           ...       ...       ...          ...\n",
       "16593  2002.0      GBA      Platform      0.01      0.00         0.00\n",
       "16594  2003.0       GC       Shooter      0.01      0.00         0.00\n",
       "16595  2008.0      PS2        Racing      0.00      0.00         0.00\n",
       "16596  2010.0       DS        Puzzle      0.00      0.01         0.00\n",
       "16597  2003.0      GBA      Platform      0.01      0.00         0.00\n",
       "\n",
       "[16250 rows x 6 columns]"
      ]
     },
     "execution_count": 57,
     "metadata": {},
     "output_type": "execute_result"
    }
   ],
   "source": [
    "data_pair = data.loc[:,[\"Year\",\"Platform\", \"Genre\", \"NA_Sales\",\"EU_Sales\", \"Other_Sales\"]]\n",
    "data_pair"
   ]
  },
  {
   "cell_type": "code",
   "execution_count": 58,
   "metadata": {
    "_kg_hide-input": true
   },
   "outputs": [],
   "source": [
    "# STEFANOS: Disable plotting\n",
    "# sns.pairplot(data_pair, hue='Genre')"
   ]
  },
  {
   "cell_type": "markdown",
   "metadata": {},
   "source": [
    "# log work"
   ]
  },
  {
   "cell_type": "code",
   "execution_count": 59,
   "metadata": {
    "_kg_hide-input": true
   },
   "outputs": [],
   "source": [
    "data_pair_log = data_pair.copy()"
   ]
  },
  {
   "cell_type": "code",
   "execution_count": 60,
   "metadata": {
    "_kg_hide-input": true
   },
   "outputs": [],
   "source": [
    "sale_columns = ['NA_Sales', 'EU_Sales', 'Other_Sales']"
   ]
  },
  {
   "cell_type": "code",
   "execution_count": 61,
   "metadata": {
    "_kg_hide-input": true
   },
   "outputs": [],
   "source": [
    "# for column in sale_columns:\n",
    "#     if 0 in data[column].unique():\n",
    "#         pass\n",
    "#     else:\n",
    "#         data_pair_log[column] = np.log(data_pair_log[column])\n",
    "# #         data_pair_log.head()"
   ]
  },
  {
   "cell_type": "code",
   "execution_count": 62,
   "metadata": {
    "_kg_hide-input": true
   },
   "outputs": [],
   "source": [
    "data_pair_log = data_pair_log[data_pair_log.NA_Sales != 0]\n",
    "data_pair_log = data_pair_log[data_pair_log.EU_Sales != 0]\n",
    "data_pair_log = data_pair_log[data_pair_log.Other_Sales != 0]"
   ]
  },
  {
   "cell_type": "code",
   "execution_count": 63,
   "metadata": {
    "_kg_hide-input": true
   },
   "outputs": [
    {
     "data": {
      "text/html": [
       "<div>\n",
       "<style scoped>\n",
       "    .dataframe tbody tr th:only-of-type {\n",
       "        vertical-align: middle;\n",
       "    }\n",
       "\n",
       "    .dataframe tbody tr th {\n",
       "        vertical-align: top;\n",
       "    }\n",
       "\n",
       "    .dataframe thead th {\n",
       "        text-align: right;\n",
       "    }\n",
       "</style>\n",
       "<table border=\"1\" class=\"dataframe\">\n",
       "  <thead>\n",
       "    <tr style=\"text-align: right;\">\n",
       "      <th></th>\n",
       "      <th>Year</th>\n",
       "      <th>Platform</th>\n",
       "      <th>Genre</th>\n",
       "      <th>NA_Sales</th>\n",
       "      <th>EU_Sales</th>\n",
       "      <th>Other_Sales</th>\n",
       "    </tr>\n",
       "  </thead>\n",
       "  <tbody>\n",
       "    <tr>\n",
       "      <th>0</th>\n",
       "      <td>2006.0</td>\n",
       "      <td>Wii</td>\n",
       "      <td>Sports</td>\n",
       "      <td>41.49</td>\n",
       "      <td>29.02</td>\n",
       "      <td>8.46</td>\n",
       "    </tr>\n",
       "    <tr>\n",
       "      <th>1</th>\n",
       "      <td>1985.0</td>\n",
       "      <td>NES</td>\n",
       "      <td>Platform</td>\n",
       "      <td>29.08</td>\n",
       "      <td>3.58</td>\n",
       "      <td>0.77</td>\n",
       "    </tr>\n",
       "    <tr>\n",
       "      <th>2</th>\n",
       "      <td>2008.0</td>\n",
       "      <td>Wii</td>\n",
       "      <td>Racing</td>\n",
       "      <td>15.85</td>\n",
       "      <td>12.88</td>\n",
       "      <td>3.31</td>\n",
       "    </tr>\n",
       "    <tr>\n",
       "      <th>3</th>\n",
       "      <td>2009.0</td>\n",
       "      <td>Wii</td>\n",
       "      <td>Sports</td>\n",
       "      <td>15.75</td>\n",
       "      <td>11.01</td>\n",
       "      <td>2.96</td>\n",
       "    </tr>\n",
       "    <tr>\n",
       "      <th>4</th>\n",
       "      <td>1996.0</td>\n",
       "      <td>GB</td>\n",
       "      <td>Role-Playing</td>\n",
       "      <td>11.27</td>\n",
       "      <td>8.89</td>\n",
       "      <td>1.00</td>\n",
       "    </tr>\n",
       "    <tr>\n",
       "      <th>...</th>\n",
       "      <td>...</td>\n",
       "      <td>...</td>\n",
       "      <td>...</td>\n",
       "      <td>...</td>\n",
       "      <td>...</td>\n",
       "      <td>...</td>\n",
       "    </tr>\n",
       "    <tr>\n",
       "      <th>14071</th>\n",
       "      <td>1998.0</td>\n",
       "      <td>PC</td>\n",
       "      <td>Role-Playing</td>\n",
       "      <td>0.01</td>\n",
       "      <td>0.02</td>\n",
       "      <td>0.01</td>\n",
       "    </tr>\n",
       "    <tr>\n",
       "      <th>14183</th>\n",
       "      <td>2014.0</td>\n",
       "      <td>PS3</td>\n",
       "      <td>Racing</td>\n",
       "      <td>0.02</td>\n",
       "      <td>0.01</td>\n",
       "      <td>0.01</td>\n",
       "    </tr>\n",
       "    <tr>\n",
       "      <th>14185</th>\n",
       "      <td>2011.0</td>\n",
       "      <td>PC</td>\n",
       "      <td>Puzzle</td>\n",
       "      <td>0.01</td>\n",
       "      <td>0.02</td>\n",
       "      <td>0.01</td>\n",
       "    </tr>\n",
       "    <tr>\n",
       "      <th>14267</th>\n",
       "      <td>2007.0</td>\n",
       "      <td>PC</td>\n",
       "      <td>Puzzle</td>\n",
       "      <td>0.01</td>\n",
       "      <td>0.02</td>\n",
       "      <td>0.01</td>\n",
       "    </tr>\n",
       "    <tr>\n",
       "      <th>14299</th>\n",
       "      <td>2009.0</td>\n",
       "      <td>PC</td>\n",
       "      <td>Strategy</td>\n",
       "      <td>0.01</td>\n",
       "      <td>0.02</td>\n",
       "      <td>0.01</td>\n",
       "    </tr>\n",
       "  </tbody>\n",
       "</table>\n",
       "<p>7893 rows × 6 columns</p>\n",
       "</div>"
      ],
      "text/plain": [
       "         Year Platform         Genre  NA_Sales  EU_Sales  Other_Sales\n",
       "0      2006.0      Wii        Sports     41.49     29.02         8.46\n",
       "1      1985.0      NES      Platform     29.08      3.58         0.77\n",
       "2      2008.0      Wii        Racing     15.85     12.88         3.31\n",
       "3      2009.0      Wii        Sports     15.75     11.01         2.96\n",
       "4      1996.0       GB  Role-Playing     11.27      8.89         1.00\n",
       "...       ...      ...           ...       ...       ...          ...\n",
       "14071  1998.0       PC  Role-Playing      0.01      0.02         0.01\n",
       "14183  2014.0      PS3        Racing      0.02      0.01         0.01\n",
       "14185  2011.0       PC        Puzzle      0.01      0.02         0.01\n",
       "14267  2007.0       PC        Puzzle      0.01      0.02         0.01\n",
       "14299  2009.0       PC      Strategy      0.01      0.02         0.01\n",
       "\n",
       "[7893 rows x 6 columns]"
      ]
     },
     "execution_count": 63,
     "metadata": {},
     "output_type": "execute_result"
    }
   ],
   "source": [
    "data_pair_log"
   ]
  },
  {
   "cell_type": "code",
   "execution_count": 64,
   "metadata": {
    "_kg_hide-input": true
   },
   "outputs": [],
   "source": [
    "data_pair_log['NA_Sales'] = np.log(data_pair_log['NA_Sales']);\n",
    "data_pair_log['EU_Sales'] = np.log(data_pair_log['EU_Sales']);\n",
    "data_pair_log['Other_Sales'] = np.log(data_pair_log['Other_Sales']);"
   ]
  },
  {
   "cell_type": "code",
   "execution_count": 65,
   "metadata": {
    "_kg_hide-input": true
   },
   "outputs": [],
   "source": [
    "# sns.pairplot(data_pair_log, hue='Genre',  diag_kind = 'kde',\n",
    "#              plot_kws = {'alpha': 0.6, 's': 80, 'edgecolor': 'k'},\n",
    "#              size = 4)\n",
    "\n",
    "# STEFANOS: Disable plotting\n",
    "# sns.pairplot(data_pair_log, hue='Genre',  palette=\"husl\")"
   ]
  }
 ],
 "metadata": {
  "kernelspec": {
   "display_name": "Python 3 (ipykernel)",
   "language": "python",
   "name": "python3"
  },
  "language_info": {
   "codemirror_mode": {
    "name": "ipython",
    "version": 3
   },
   "file_extension": ".py",
   "mimetype": "text/x-python",
   "name": "python",
   "nbconvert_exporter": "python",
   "pygments_lexer": "ipython3",
   "version": "3.10.12"
  }
 },
 "nbformat": 4,
 "nbformat_minor": 4
}
