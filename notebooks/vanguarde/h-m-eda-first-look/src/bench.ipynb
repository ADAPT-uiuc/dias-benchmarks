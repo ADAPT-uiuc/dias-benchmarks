{
 "cells": [
  {
   "cell_type": "markdown",
   "id": "8a0a7ed8",
   "metadata": {
    "papermill": {
     "duration": 0.050834,
     "end_time": "2022-02-27T12:28:18.989248",
     "exception": false,
     "start_time": "2022-02-27T12:28:18.938414",
     "status": "completed"
    },
    "tags": []
   },
   "source": [
    "## **<span style=\"color:#023e8a;font-size:200%\"><center> 🔥🔥EDA H&M🔥🔥</center></span>**\n",
    "## **<center><span style=\"color:#FEF1FE;background-color:#023e8a;border-radius: 5px;padding: 5px\">If you find this notebook useful or interesting, please, support with an upvote :)</span></center>**"
   ]
  },
  {
   "cell_type": "markdown",
   "id": "e429804f",
   "metadata": {
    "papermill": {
     "duration": 0.048471,
     "end_time": "2022-02-27T12:28:19.088812",
     "exception": false,
     "start_time": "2022-02-27T12:28:19.040341",
     "status": "completed"
    },
    "tags": []
   },
   "source": [
    "## **<span style=\"color:#023e8a;font-size:1000%\"><center>EDA</center></span><span style=\"color:#023e8a;font-size:200%\"><center>Exploratory Data Analysis. H&M</center></span>**"
   ]
  },
  {
   "cell_type": "markdown",
   "id": "00687391",
   "metadata": {
    "papermill": {
     "duration": 0.048916,
     "end_time": "2022-02-27T12:28:19.189102",
     "exception": false,
     "start_time": "2022-02-27T12:28:19.140186",
     "status": "completed"
    },
    "tags": []
   },
   "source": [
    "# **<a id=\"Content\" style=\"color:#023e8a;\">Table of Content</a>**\n",
    "* [**<span style=\"color:#023e8a;\">1. First steps</span>**](#First)  \n",
    "* [**<span style=\"color:#023e8a;\">2. Articles</span>**](#Articles)  \n",
    "* [**<span style=\"color:#023e8a;\">3. Customers</span>**](#Customers)  \n",
    "* [**<span style=\"color:#023e8a;\">4. Transactions</span>**](#Transactions)  \n",
    "* [**<span style=\"color:#023e8a;\">5. Images with description and price</span>**](#Images)  \n"
   ]
  },
  {
   "cell_type": "markdown",
   "id": "073a8528",
   "metadata": {
    "papermill": {
     "duration": 0.049538,
     "end_time": "2022-02-27T12:28:19.287503",
     "exception": false,
     "start_time": "2022-02-27T12:28:19.237965",
     "status": "completed"
    },
    "tags": []
   },
   "source": [
    "## **<span style=\"color:#023e8a;\">Intro</span>**\n",
    "\n",
    "**<span style=\"color:#023e8a;\">The competition is dedicated to the product recomendations (H&M)  </span>**\n",
    "\n",
    "**<span style=\"color:#023e8a;\">Here we have different kinds of data that help us to get good recomendations: </span>**\n",
    "\n",
    "📸 `images` - images of every article_id\n",
    "\n",
    "🙋 `articles`  - detailed metadata of every article_id\n",
    "\n",
    "👔 `customers`  - detailed metadata of every customer_id\n",
    "\n",
    "🧾 `transactions_train`  - purchases with details"
   ]
  },
  {
   "cell_type": "markdown",
   "id": "eaad5d17",
   "metadata": {
    "papermill": {
     "duration": 0.047939,
     "end_time": "2022-02-27T12:28:19.384217",
     "exception": false,
     "start_time": "2022-02-27T12:28:19.336278",
     "status": "completed"
    },
    "tags": []
   },
   "source": [
    "## **<span id=\"First\" style=\"color:#023e8a;\">1. First steps</span>**"
   ]
  },
  {
   "cell_type": "markdown",
   "id": "0744e431",
   "metadata": {
    "papermill": {
     "duration": 0.048332,
     "end_time": "2022-02-27T12:28:19.480808",
     "exception": false,
     "start_time": "2022-02-27T12:28:19.432476",
     "status": "completed"
    },
    "tags": []
   },
   "source": [
    "[**<span style=\"color:#FEF1FE;background-color:#023e8a;border-radius: 5px;padding: 2px\">Go to Table of Content</span>**](#Content)"
   ]
  },
  {
   "cell_type": "markdown",
   "id": "fafe4161",
   "metadata": {
    "papermill": {
     "duration": 0.04835,
     "end_time": "2022-02-27T12:28:19.577725",
     "exception": false,
     "start_time": "2022-02-27T12:28:19.529375",
     "status": "completed"
    },
    "tags": []
   },
   "source": [
    "**<span style=\"color:#023e8a;\"> The first step as always: load the data :)</span>**"
   ]
  },
  {
   "cell_type": "code",
   "execution_count": 1,
   "id": "bde2eb69",
   "metadata": {
    "papermill": {
     "duration": 1.063339,
     "end_time": "2022-02-27T12:28:20.689972",
     "exception": false,
     "start_time": "2022-02-27T12:28:19.626633",
     "status": "completed"
    },
    "tags": []
   },
   "outputs": [
    {
     "name": "stderr",
     "output_type": "stream",
     "text": [
      "/Users/sse/opt/anaconda3/envs/py3.10/lib/python3.10/site-packages/scipy/__init__.py:155: UserWarning: A NumPy version >=1.18.5 and <1.26.0 is required for this version of SciPy (detected version 1.26.0\n",
      "  warnings.warn(f\"A NumPy version >={np_minversion} and <{np_maxversion}\"\n"
     ]
    }
   ],
   "source": [
    "import numpy as np\n",
    "import pandas as pd\n",
    "import seaborn as sns\n",
    "from matplotlib import pyplot as plt\n",
    "from tqdm.notebook import tqdm"
   ]
  },
  {
   "cell_type": "code",
   "execution_count": 2,
   "id": "25ae9f5d",
   "metadata": {
    "papermill": {
     "duration": 79.706724,
     "end_time": "2022-02-27T12:29:40.468959",
     "exception": false,
     "start_time": "2022-02-27T12:28:20.762235",
     "status": "completed"
    },
    "tags": []
   },
   "outputs": [],
   "source": [
    "articles = pd.read_csv(\"../input/articles.csv\")\n",
    "customers = pd.read_csv(\"../input/customers.csv\")\n",
    "transactions = pd.read_csv(\"../input/transactions_train.csv\")"
   ]
  },
  {
   "cell_type": "code",
   "execution_count": 3,
   "id": "24234bb2",
   "metadata": {},
   "outputs": [
    {
     "name": "stdout",
     "output_type": "stream",
     "text": [
      "<class 'pandas.core.frame.DataFrame'>\n",
      "RangeIndex: 105542 entries, 0 to 105541\n",
      "Data columns (total 25 columns):\n",
      " #   Column                        Non-Null Count   Dtype \n",
      "---  ------                        --------------   ----- \n",
      " 0   article_id                    105542 non-null  int64 \n",
      " 1   product_code                  105542 non-null  int64 \n",
      " 2   prod_name                     105542 non-null  object\n",
      " 3   product_type_no               105542 non-null  int64 \n",
      " 4   product_type_name             105542 non-null  object\n",
      " 5   product_group_name            105542 non-null  object\n",
      " 6   graphical_appearance_no       105542 non-null  int64 \n",
      " 7   graphical_appearance_name     105542 non-null  object\n",
      " 8   colour_group_code             105542 non-null  int64 \n",
      " 9   colour_group_name             105542 non-null  object\n",
      " 10  perceived_colour_value_id     105542 non-null  int64 \n",
      " 11  perceived_colour_value_name   105542 non-null  object\n",
      " 12  perceived_colour_master_id    105542 non-null  int64 \n",
      " 13  perceived_colour_master_name  105542 non-null  object\n",
      " 14  department_no                 105542 non-null  int64 \n",
      " 15  department_name               105542 non-null  object\n",
      " 16  index_code                    105542 non-null  object\n",
      " 17  index_name                    105542 non-null  object\n",
      " 18  index_group_no                105542 non-null  int64 \n",
      " 19  index_group_name              105542 non-null  object\n",
      " 20  section_no                    105542 non-null  int64 \n",
      " 21  section_name                  105542 non-null  object\n",
      " 22  garment_group_no              105542 non-null  int64 \n",
      " 23  garment_group_name            105542 non-null  object\n",
      " 24  detail_desc                   105126 non-null  object\n",
      "dtypes: int64(11), object(14)\n",
      "memory usage: 20.1+ MB\n",
      "<class 'pandas.core.frame.DataFrame'>\n",
      "RangeIndex: 1371980 entries, 0 to 1371979\n",
      "Data columns (total 7 columns):\n",
      " #   Column                  Non-Null Count    Dtype  \n",
      "---  ------                  --------------    -----  \n",
      " 0   customer_id             1371980 non-null  object \n",
      " 1   FN                      476930 non-null   float64\n",
      " 2   Active                  464404 non-null   float64\n",
      " 3   club_member_status      1365918 non-null  object \n",
      " 4   fashion_news_frequency  1355971 non-null  object \n",
      " 5   age                     1356119 non-null  float64\n",
      " 6   postal_code             1371980 non-null  object \n",
      "dtypes: float64(3), object(4)\n",
      "memory usage: 73.3+ MB\n",
      "<class 'pandas.core.frame.DataFrame'>\n",
      "RangeIndex: 31788324 entries, 0 to 31788323\n",
      "Data columns (total 5 columns):\n",
      " #   Column            Dtype  \n",
      "---  ------            -----  \n",
      " 0   t_dat             object \n",
      " 1   customer_id       object \n",
      " 2   article_id        int64  \n",
      " 3   price             float64\n",
      " 4   sales_channel_id  int64  \n",
      "dtypes: float64(1), int64(2), object(2)\n",
      "memory usage: 1.2+ GB\n"
     ]
    }
   ],
   "source": [
    "df = articles\n",
    "intended_df_size_in_MB = 256\n",
    "factor = intended_df_size_in_MB*(2**20)//(articles.memory_usage(index=True).sum()+customers.memory_usage(index=True).sum()+transactions.memory_usage(index=True).sum())\n",
    "if factor > 0:\n",
    "    df = pd.concat([df]*factor, ignore_index=True)\n",
    "articles = df\n",
    "\n",
    "df = customers\n",
    "if factor > 0:\n",
    "    df = pd.concat([df]*factor, ignore_index=True)\n",
    "customers = df\n",
    "\n",
    "df = transactions\n",
    "if factor > 0:\n",
    "    df = pd.concat([df]*factor, ignore_index=True)\n",
    "transactions = df\n",
    "    \n",
    "articles.info()\n",
    "customers.info()\n",
    "transactions.info()"
   ]
  },
  {
   "cell_type": "markdown",
   "id": "3f7b25e3",
   "metadata": {
    "papermill": {
     "duration": 0.0494,
     "end_time": "2022-02-27T12:29:40.567981",
     "exception": false,
     "start_time": "2022-02-27T12:29:40.518581",
     "status": "completed"
    },
    "tags": []
   },
   "source": [
    "**<span style=\"color:#023e8a;\"> Let's look at the tables and try to get some outcomes about data inside.</span>**"
   ]
  },
  {
   "cell_type": "markdown",
   "id": "27607d49",
   "metadata": {
    "papermill": {
     "duration": 0.048997,
     "end_time": "2022-02-27T12:29:40.666981",
     "exception": false,
     "start_time": "2022-02-27T12:29:40.617984",
     "status": "completed"
    },
    "tags": []
   },
   "source": [
    "## **<span id=\"Articles\" style=\"color:#023e8a;\">2. Articles</span>**"
   ]
  },
  {
   "cell_type": "markdown",
   "id": "2831392b",
   "metadata": {
    "papermill": {
     "duration": 0.049522,
     "end_time": "2022-02-27T12:29:40.765650",
     "exception": false,
     "start_time": "2022-02-27T12:29:40.716128",
     "status": "completed"
    },
    "tags": []
   },
   "source": [
    "[**<span style=\"color:#FEF1FE;background-color:#023e8a;border-radius: 5px;padding: 2px\">Go to Table of Content</span>**](#Content)"
   ]
  },
  {
   "cell_type": "markdown",
   "id": "0402f58c",
   "metadata": {
    "papermill": {
     "duration": 0.051479,
     "end_time": "2022-02-27T12:29:40.866447",
     "exception": false,
     "start_time": "2022-02-27T12:29:40.814968",
     "status": "completed"
    },
    "tags": []
   },
   "source": [
    "**<span style=\"color:#023e8a;\"> This table contains all h&m articles with details such as a type of product, a color, a product group and other features.</span>**  \n",
    "**<span style=\"color:#023e8a;\"> Article data description: </span>**\n",
    "\n",
    "> `article_id` **<span style=\"color:#023e8a;\">: A unique identifier of every article.</span>**  \n",
    "> `product_code`, `prod_name` **<span style=\"color:#023e8a;\">: A unique identifier of every product and its name (not the same).</span>**  \n",
    "> `product_type`, `product_type_name` **<span style=\"color:#023e8a;\">: The group of product_code and its name</span>**  \n",
    "> `graphical_appearance_no`, `graphical_appearance_name` **<span style=\"color:#023e8a;\">: The group of graphics and its name</span>**  \n",
    "> `colour_group_code`, `colour_group_name` **<span style=\"color:#023e8a;\">: The group of color and its name</span>**  \n",
    "> `perceived_colour_value_id`, `perceived_colour_value_name`, `perceived_colour_master_id`, `perceived_colour_master_name` **<span style=\"color:#023e8a;\">: The added color info</span>**  \n",
    "> `department_no`, `department_name`: **<span style=\"color:#023e8a;\">: A unique identifier of every dep and its name</span>**  \n",
    "> `index_code`, `index_name`: **<span style=\"color:#023e8a;\">: A unique identifier of every index and its name</span>**  \n",
    "> `index_group_no`, `index_group_name`: **<span style=\"color:#023e8a;\">: A group of indeces and its name</span>**  \n",
    "> `section_no`, `section_name`: **<span style=\"color:#023e8a;\">: A unique identifier of every section and its name</span>**  \n",
    "> `garment_group_no`, `garment_group_name`: **<span style=\"color:#023e8a;\">: A unique identifier of every garment and its name</span>**  \n",
    "> `detail_desc`: **<span style=\"color:#023e8a;\">: Details</span>**  "
   ]
  },
  {
   "cell_type": "code",
   "execution_count": 3,
   "id": "279a81a0",
   "metadata": {
    "papermill": {
     "duration": 0.092289,
     "end_time": "2022-02-27T12:29:41.008921",
     "exception": false,
     "start_time": "2022-02-27T12:29:40.916632",
     "status": "completed"
    },
    "tags": []
   },
   "outputs": [
    {
     "data": {
      "text/html": [
       "<div>\n",
       "<style scoped>\n",
       "    .dataframe tbody tr th:only-of-type {\n",
       "        vertical-align: middle;\n",
       "    }\n",
       "\n",
       "    .dataframe tbody tr th {\n",
       "        vertical-align: top;\n",
       "    }\n",
       "\n",
       "    .dataframe thead th {\n",
       "        text-align: right;\n",
       "    }\n",
       "</style>\n",
       "<table border=\"1\" class=\"dataframe\">\n",
       "  <thead>\n",
       "    <tr style=\"text-align: right;\">\n",
       "      <th></th>\n",
       "      <th>article_id</th>\n",
       "      <th>product_code</th>\n",
       "      <th>prod_name</th>\n",
       "      <th>product_type_no</th>\n",
       "      <th>product_type_name</th>\n",
       "      <th>product_group_name</th>\n",
       "      <th>graphical_appearance_no</th>\n",
       "      <th>graphical_appearance_name</th>\n",
       "      <th>colour_group_code</th>\n",
       "      <th>colour_group_name</th>\n",
       "      <th>...</th>\n",
       "      <th>department_name</th>\n",
       "      <th>index_code</th>\n",
       "      <th>index_name</th>\n",
       "      <th>index_group_no</th>\n",
       "      <th>index_group_name</th>\n",
       "      <th>section_no</th>\n",
       "      <th>section_name</th>\n",
       "      <th>garment_group_no</th>\n",
       "      <th>garment_group_name</th>\n",
       "      <th>detail_desc</th>\n",
       "    </tr>\n",
       "  </thead>\n",
       "  <tbody>\n",
       "    <tr>\n",
       "      <th>0</th>\n",
       "      <td>108775015</td>\n",
       "      <td>108775</td>\n",
       "      <td>Strap top</td>\n",
       "      <td>253</td>\n",
       "      <td>Vest top</td>\n",
       "      <td>Garment Upper body</td>\n",
       "      <td>1010016</td>\n",
       "      <td>Solid</td>\n",
       "      <td>9</td>\n",
       "      <td>Black</td>\n",
       "      <td>...</td>\n",
       "      <td>Jersey Basic</td>\n",
       "      <td>A</td>\n",
       "      <td>Ladieswear</td>\n",
       "      <td>1</td>\n",
       "      <td>Ladieswear</td>\n",
       "      <td>16</td>\n",
       "      <td>Womens Everyday Basics</td>\n",
       "      <td>1002</td>\n",
       "      <td>Jersey Basic</td>\n",
       "      <td>Jersey top with narrow shoulder straps.</td>\n",
       "    </tr>\n",
       "    <tr>\n",
       "      <th>1</th>\n",
       "      <td>108775044</td>\n",
       "      <td>108775</td>\n",
       "      <td>Strap top</td>\n",
       "      <td>253</td>\n",
       "      <td>Vest top</td>\n",
       "      <td>Garment Upper body</td>\n",
       "      <td>1010016</td>\n",
       "      <td>Solid</td>\n",
       "      <td>10</td>\n",
       "      <td>White</td>\n",
       "      <td>...</td>\n",
       "      <td>Jersey Basic</td>\n",
       "      <td>A</td>\n",
       "      <td>Ladieswear</td>\n",
       "      <td>1</td>\n",
       "      <td>Ladieswear</td>\n",
       "      <td>16</td>\n",
       "      <td>Womens Everyday Basics</td>\n",
       "      <td>1002</td>\n",
       "      <td>Jersey Basic</td>\n",
       "      <td>Jersey top with narrow shoulder straps.</td>\n",
       "    </tr>\n",
       "    <tr>\n",
       "      <th>2</th>\n",
       "      <td>108775051</td>\n",
       "      <td>108775</td>\n",
       "      <td>Strap top (1)</td>\n",
       "      <td>253</td>\n",
       "      <td>Vest top</td>\n",
       "      <td>Garment Upper body</td>\n",
       "      <td>1010017</td>\n",
       "      <td>Stripe</td>\n",
       "      <td>11</td>\n",
       "      <td>Off White</td>\n",
       "      <td>...</td>\n",
       "      <td>Jersey Basic</td>\n",
       "      <td>A</td>\n",
       "      <td>Ladieswear</td>\n",
       "      <td>1</td>\n",
       "      <td>Ladieswear</td>\n",
       "      <td>16</td>\n",
       "      <td>Womens Everyday Basics</td>\n",
       "      <td>1002</td>\n",
       "      <td>Jersey Basic</td>\n",
       "      <td>Jersey top with narrow shoulder straps.</td>\n",
       "    </tr>\n",
       "    <tr>\n",
       "      <th>3</th>\n",
       "      <td>110065001</td>\n",
       "      <td>110065</td>\n",
       "      <td>OP T-shirt (Idro)</td>\n",
       "      <td>306</td>\n",
       "      <td>Bra</td>\n",
       "      <td>Underwear</td>\n",
       "      <td>1010016</td>\n",
       "      <td>Solid</td>\n",
       "      <td>9</td>\n",
       "      <td>Black</td>\n",
       "      <td>...</td>\n",
       "      <td>Clean Lingerie</td>\n",
       "      <td>B</td>\n",
       "      <td>Lingeries/Tights</td>\n",
       "      <td>1</td>\n",
       "      <td>Ladieswear</td>\n",
       "      <td>61</td>\n",
       "      <td>Womens Lingerie</td>\n",
       "      <td>1017</td>\n",
       "      <td>Under-, Nightwear</td>\n",
       "      <td>Microfibre T-shirt bra with underwired, moulde...</td>\n",
       "    </tr>\n",
       "    <tr>\n",
       "      <th>4</th>\n",
       "      <td>110065002</td>\n",
       "      <td>110065</td>\n",
       "      <td>OP T-shirt (Idro)</td>\n",
       "      <td>306</td>\n",
       "      <td>Bra</td>\n",
       "      <td>Underwear</td>\n",
       "      <td>1010016</td>\n",
       "      <td>Solid</td>\n",
       "      <td>10</td>\n",
       "      <td>White</td>\n",
       "      <td>...</td>\n",
       "      <td>Clean Lingerie</td>\n",
       "      <td>B</td>\n",
       "      <td>Lingeries/Tights</td>\n",
       "      <td>1</td>\n",
       "      <td>Ladieswear</td>\n",
       "      <td>61</td>\n",
       "      <td>Womens Lingerie</td>\n",
       "      <td>1017</td>\n",
       "      <td>Under-, Nightwear</td>\n",
       "      <td>Microfibre T-shirt bra with underwired, moulde...</td>\n",
       "    </tr>\n",
       "  </tbody>\n",
       "</table>\n",
       "<p>5 rows × 25 columns</p>\n",
       "</div>"
      ],
      "text/plain": [
       "   article_id  product_code          prod_name  product_type_no  \\\n",
       "0   108775015        108775          Strap top              253   \n",
       "1   108775044        108775          Strap top              253   \n",
       "2   108775051        108775      Strap top (1)              253   \n",
       "3   110065001        110065  OP T-shirt (Idro)              306   \n",
       "4   110065002        110065  OP T-shirt (Idro)              306   \n",
       "\n",
       "  product_type_name  product_group_name  graphical_appearance_no  \\\n",
       "0          Vest top  Garment Upper body                  1010016   \n",
       "1          Vest top  Garment Upper body                  1010016   \n",
       "2          Vest top  Garment Upper body                  1010017   \n",
       "3               Bra           Underwear                  1010016   \n",
       "4               Bra           Underwear                  1010016   \n",
       "\n",
       "  graphical_appearance_name  colour_group_code colour_group_name  ...  \\\n",
       "0                     Solid                  9             Black  ...   \n",
       "1                     Solid                 10             White  ...   \n",
       "2                    Stripe                 11         Off White  ...   \n",
       "3                     Solid                  9             Black  ...   \n",
       "4                     Solid                 10             White  ...   \n",
       "\n",
       "   department_name index_code        index_name index_group_no  \\\n",
       "0     Jersey Basic          A        Ladieswear              1   \n",
       "1     Jersey Basic          A        Ladieswear              1   \n",
       "2     Jersey Basic          A        Ladieswear              1   \n",
       "3   Clean Lingerie          B  Lingeries/Tights              1   \n",
       "4   Clean Lingerie          B  Lingeries/Tights              1   \n",
       "\n",
       "   index_group_name section_no            section_name garment_group_no  \\\n",
       "0        Ladieswear         16  Womens Everyday Basics             1002   \n",
       "1        Ladieswear         16  Womens Everyday Basics             1002   \n",
       "2        Ladieswear         16  Womens Everyday Basics             1002   \n",
       "3        Ladieswear         61         Womens Lingerie             1017   \n",
       "4        Ladieswear         61         Womens Lingerie             1017   \n",
       "\n",
       "   garment_group_name                                        detail_desc  \n",
       "0        Jersey Basic            Jersey top with narrow shoulder straps.  \n",
       "1        Jersey Basic            Jersey top with narrow shoulder straps.  \n",
       "2        Jersey Basic            Jersey top with narrow shoulder straps.  \n",
       "3   Under-, Nightwear  Microfibre T-shirt bra with underwired, moulde...  \n",
       "4   Under-, Nightwear  Microfibre T-shirt bra with underwired, moulde...  \n",
       "\n",
       "[5 rows x 25 columns]"
      ]
     },
     "execution_count": 3,
     "metadata": {},
     "output_type": "execute_result"
    }
   ],
   "source": [
    "articles.head()"
   ]
  },
  {
   "cell_type": "markdown",
   "id": "5ea1f2ae",
   "metadata": {
    "papermill": {
     "duration": 0.049763,
     "end_time": "2022-02-27T12:29:41.109917",
     "exception": false,
     "start_time": "2022-02-27T12:29:41.060154",
     "status": "completed"
    },
    "tags": []
   },
   "source": [
    "**<span style=\"color:#023e8a;\">Ladieswear accounts for a significant part of all dresses. Sportswear has the least portion.</span>**"
   ]
  },
  {
   "cell_type": "code",
   "execution_count": 4,
   "id": "a578e2eb",
   "metadata": {
    "papermill": {
     "duration": 0.503753,
     "end_time": "2022-02-27T12:29:41.663120",
     "exception": false,
     "start_time": "2022-02-27T12:29:41.159367",
     "status": "completed"
    },
    "tags": []
   },
   "outputs": [],
   "source": [
    "# f, ax = plt.subplots(figsize=(15, 7))\n",
    "# ax = sns.histplot(data=articles, y='index_name', color='orange')\n",
    "# ax.set_xlabel('count by index name')\n",
    "# ax.set_ylabel('index name')\n",
    "# plt.show()"
   ]
  },
  {
   "cell_type": "markdown",
   "id": "617de0ab",
   "metadata": {
    "papermill": {
     "duration": 0.051179,
     "end_time": "2022-02-27T12:29:41.764931",
     "exception": false,
     "start_time": "2022-02-27T12:29:41.713752",
     "status": "completed"
    },
    "tags": []
   },
   "source": [
    "**<span style=\"color:#023e8a;\"> The garments grouped by index: Jersey fancy is the most frequent garment, especially for women and children. The next by number is accessories, many various accessories with low price.</span>**"
   ]
  },
  {
   "cell_type": "code",
   "execution_count": 5,
   "id": "f6a9e5f7",
   "metadata": {
    "papermill": {
     "duration": 0.996323,
     "end_time": "2022-02-27T12:29:42.811915",
     "exception": false,
     "start_time": "2022-02-27T12:29:41.815592",
     "status": "completed"
    },
    "tags": []
   },
   "outputs": [],
   "source": [
    "# f, ax = plt.subplots(figsize=(15, 7))\n",
    "# ax = sns.histplot(data=articles, y='garment_group_name', color='orange', hue='index_group_name', multiple=\"stack\")\n",
    "# ax.set_xlabel('count by garment group')\n",
    "# ax.set_ylabel('garment group')\n",
    "# plt.show()"
   ]
  },
  {
   "cell_type": "markdown",
   "id": "83bdc5b5",
   "metadata": {
    "papermill": {
     "duration": 0.053871,
     "end_time": "2022-02-27T12:29:42.919434",
     "exception": false,
     "start_time": "2022-02-27T12:29:42.865563",
     "status": "completed"
    },
    "tags": []
   },
   "source": [
    "**<span style=\"color:#023e8a;\">Now, pay attention to index group-index structure. Ladieswear and Children/Baby have subgroups.</span>**"
   ]
  },
  {
   "cell_type": "code",
   "execution_count": 6,
   "id": "2e873909",
   "metadata": {
    "papermill": {
     "duration": 0.246881,
     "end_time": "2022-02-27T12:29:43.220358",
     "exception": false,
     "start_time": "2022-02-27T12:29:42.973477",
     "status": "completed"
    },
    "tags": []
   },
   "outputs": [
    {
     "data": {
      "text/plain": [
       "index_group_name  index_name                    \n",
       "Baby/Children     Baby Sizes 50-98                   8875\n",
       "                  Children Accessories, Swimwear     4615\n",
       "                  Children Sizes 134-170             9214\n",
       "                  Children Sizes 92-140             12007\n",
       "Divided           Divided                           15149\n",
       "Ladieswear        Ladies Accessories                 6961\n",
       "                  Ladieswear                        26001\n",
       "                  Lingeries/Tights                   6775\n",
       "Menswear          Menswear                          12553\n",
       "Sport             Sport                              3392\n",
       "Name: article_id, dtype: int64"
      ]
     },
     "execution_count": 6,
     "metadata": {},
     "output_type": "execute_result"
    }
   ],
   "source": [
    "articles.groupby(['index_group_name', 'index_name']).count()['article_id']"
   ]
  },
  {
   "cell_type": "markdown",
   "id": "07a1e488",
   "metadata": {
    "papermill": {
     "duration": 0.052832,
     "end_time": "2022-02-27T12:29:43.325759",
     "exception": false,
     "start_time": "2022-02-27T12:29:43.272927",
     "status": "completed"
    },
    "tags": []
   },
   "source": [
    "**<span style=\"color:#023e8a;\"> And look at the product group-product structure. Accessories are really various, the most numerious: bags, earrings and hats. However, trousers prevail.</span>**"
   ]
  },
  {
   "cell_type": "code",
   "execution_count": 7,
   "id": "fca9b794",
   "metadata": {
    "papermill": {
     "duration": 0.244547,
     "end_time": "2022-02-27T12:29:43.623757",
     "exception": false,
     "start_time": "2022-02-27T12:29:43.379210",
     "status": "completed"
    },
    "tags": []
   },
   "outputs": [
    {
     "data": {
      "text/plain": [
       "product_group_name     product_type_name       \n",
       "Accessories            Accessories set                 7\n",
       "                       Alice band                      6\n",
       "                       Baby Bib                        3\n",
       "                       Bag                          1280\n",
       "                       Beanie                         56\n",
       "                       Belt                          458\n",
       "                       Bracelet                      180\n",
       "                       Braces                          3\n",
       "                       Bucket hat                      7\n",
       "                       Cap                            13\n",
       "                       Cap/peaked                    573\n",
       "                       Dog Wear                       20\n",
       "                       Earring                      1159\n",
       "                       Earrings                       11\n",
       "                       Eyeglasses                      2\n",
       "                       Felt hat                       10\n",
       "                       Giftbox                        15\n",
       "                       Gloves                        367\n",
       "                       Hair clip                     244\n",
       "                       Hair string                   238\n",
       "                       Hair ties                      24\n",
       "                       Hair/alice band               854\n",
       "                       Hairband                        2\n",
       "                       Hat/beanie                   1349\n",
       "                       Hat/brim                      396\n",
       "                       Headband                        1\n",
       "                       Necklace                      581\n",
       "                       Other accessories            1034\n",
       "                       Ring                          240\n",
       "                       Scarf                        1013\n",
       "                       Soft Toys                      46\n",
       "                       Straw hat                       6\n",
       "                       Sunglasses                    621\n",
       "                       Tie                           141\n",
       "                       Umbrella                       26\n",
       "                       Wallet                         77\n",
       "                       Watch                          73\n",
       "                       Waterbottle                    22\n",
       "Bags                   Backpack                        6\n",
       "                       Bumbag                          1\n",
       "                       Cross-body bag                  5\n",
       "                       Shoulder bag                    2\n",
       "                       Tote bag                        2\n",
       "                       Weekend/Gym bag                 9\n",
       "Cosmetic               Chem. cosmetics                 3\n",
       "                       Fine cosmetics                 46\n",
       "Fun                    Toy                             2\n",
       "Furniture              Side table                     13\n",
       "Garment Full body      Costumes                       90\n",
       "                       Dress                       10362\n",
       "                       Dungarees                     309\n",
       "                       Garment Set                  1320\n",
       "                       Jumpsuit/Playsuit            1147\n",
       "                       Outdoor overall                64\n",
       "Garment Lower body     Leggings/Tights              1878\n",
       "                       Outdoor trousers              130\n",
       "                       Shorts                       3939\n",
       "                       Skirt                        2696\n",
       "                       Trousers                    11169\n",
       "Garment Upper body     Blazer                       1110\n",
       "                       Blouse                       3979\n",
       "                       Bodysuit                      913\n",
       "                       Cardigan                     1550\n",
       "                       Coat                          460\n",
       "                       Hoodie                       2356\n",
       "                       Jacket                       3940\n",
       "                       Outdoor Waistcoat             154\n",
       "                       Polo shirt                    449\n",
       "                       Shirt                        3405\n",
       "                       Sweater                      9302\n",
       "                       T-shirt                      7904\n",
       "                       Tailored Waistcoat             73\n",
       "                       Top                          4155\n",
       "                       Vest top                     2991\n",
       "Garment and Shoe care  Clothing mist                   1\n",
       "                       Sewing kit                      1\n",
       "                       Stain remover spray             2\n",
       "                       Washing bag                     1\n",
       "                       Wood balls                      1\n",
       "                       Zipper head                     3\n",
       "Interior textile       Blanket                         1\n",
       "                       Cushion                         1\n",
       "                       Towel                           1\n",
       "Items                  Dog wear                        7\n",
       "                       Keychain                        1\n",
       "                       Mobile case                     4\n",
       "                       Umbrella                        3\n",
       "                       Wireless earphone case          2\n",
       "Nightwear              Night gown                    171\n",
       "                       Pyjama bottom                 220\n",
       "                       Pyjama jumpsuit/playsuit      388\n",
       "                       Pyjama set                   1120\n",
       "Shoes                  Ballerinas                    372\n",
       "                       Bootie                         31\n",
       "                       Boots                        1028\n",
       "                       Flat shoe                     165\n",
       "                       Flat shoes                     10\n",
       "                       Flip flop                     125\n",
       "                       Heeled sandals                202\n",
       "                       Heels                          22\n",
       "                       Moccasins                       4\n",
       "                       Other shoe                    395\n",
       "                       Pre-walkers                     1\n",
       "                       Pumps                         188\n",
       "                       Sandals                       757\n",
       "                       Slippers                      249\n",
       "                       Sneakers                     1621\n",
       "                       Wedge                         113\n",
       "Socks & Tights         Leg warmers                     7\n",
       "                       Socks                        1889\n",
       "                       Underwear Tights              546\n",
       "Stationery             Marker pen                      5\n",
       "Swimwear               Bikini top                    850\n",
       "                       Sarong                         66\n",
       "                       Swimsuit                      662\n",
       "                       Swimwear bottom              1307\n",
       "                       Swimwear set                  192\n",
       "                       Swimwear top                   50\n",
       "Underwear              Bra                          2212\n",
       "                       Bra extender                    1\n",
       "                       Kids Underwear top             96\n",
       "                       Long John                      30\n",
       "                       Nipple covers                  19\n",
       "                       Robe                          136\n",
       "                       Underdress                     20\n",
       "                       Underwear body                174\n",
       "                       Underwear bottom             2748\n",
       "                       Underwear corset                7\n",
       "                       Underwear set                  47\n",
       "Underwear/nightwear    Sleep Bag                       6\n",
       "                       Sleeping sack                  48\n",
       "Unknown                Unknown                       121\n",
       "Name: article_id, dtype: int64"
      ]
     },
     "execution_count": 7,
     "metadata": {},
     "output_type": "execute_result"
    }
   ],
   "source": [
    "pd.options.display.max_rows = None\n",
    "articles.groupby(['product_group_name', 'product_type_name']).count()['article_id']"
   ]
  },
  {
   "cell_type": "markdown",
   "id": "f48c2881",
   "metadata": {
    "papermill": {
     "duration": 0.055216,
     "end_time": "2022-02-27T12:29:43.736791",
     "exception": false,
     "start_time": "2022-02-27T12:29:43.681575",
     "status": "completed"
    },
    "tags": []
   },
   "source": [
    "**<span style=\"color:#023e8a;\"> And the table with number of unique values in columns:</span>**"
   ]
  },
  {
   "cell_type": "code",
   "execution_count": 8,
   "id": "80add0fd",
   "metadata": {
    "papermill": {
     "duration": 0.220045,
     "end_time": "2022-02-27T12:29:44.010539",
     "exception": false,
     "start_time": "2022-02-27T12:29:43.790494",
     "status": "completed"
    },
    "tags": []
   },
   "outputs": [
    {
     "name": "stdout",
     "output_type": "stream",
     "text": [
      "n of unique prod_name: 45875\n",
      "n of unique product_type_name: 131\n",
      "n of unique product_group_name: 19\n",
      "n of unique graphical_appearance_name: 30\n",
      "n of unique colour_group_name: 50\n",
      "n of unique perceived_colour_value_name: 8\n",
      "n of unique perceived_colour_master_name: 20\n",
      "n of unique department_name: 250\n",
      "n of unique index_name: 10\n",
      "n of unique index_group_name: 5\n",
      "n of unique section_name: 56\n",
      "n of unique garment_group_name: 21\n",
      "n of unique detail_desc: 43404\n"
     ]
    }
   ],
   "source": [
    "for col in articles.columns:\n",
    "    if not 'no' in col and not 'code' in col and not 'id' in col:\n",
    "        un_n = articles[col].nunique()\n",
    "        print(f'n of unique {col}: {un_n}')"
   ]
  },
  {
   "cell_type": "markdown",
   "id": "c732d07e",
   "metadata": {
    "papermill": {
     "duration": 0.055792,
     "end_time": "2022-02-27T12:29:44.122731",
     "exception": false,
     "start_time": "2022-02-27T12:29:44.066939",
     "status": "completed"
    },
    "tags": []
   },
   "source": [
    "## **<span id=\"Customers\" style=\"color:#023e8a;\">3. Customers</span>**"
   ]
  },
  {
   "cell_type": "markdown",
   "id": "e3c8c334",
   "metadata": {
    "papermill": {
     "duration": 0.055747,
     "end_time": "2022-02-27T12:29:44.240172",
     "exception": false,
     "start_time": "2022-02-27T12:29:44.184425",
     "status": "completed"
    },
    "tags": []
   },
   "source": [
    "[**<span style=\"color:#FEF1FE;background-color:#023e8a;border-radius: 5px;padding: 2px\">Go to Table of Content</span>**](#Content)"
   ]
  },
  {
   "cell_type": "markdown",
   "id": "df49b1ec",
   "metadata": {
    "papermill": {
     "duration": 0.05411,
     "end_time": "2022-02-27T12:29:44.348993",
     "exception": false,
     "start_time": "2022-02-27T12:29:44.294883",
     "status": "completed"
    },
    "tags": []
   },
   "source": [
    "**<span style=\"color:#023e8a;\"> Customers data description: </span>**\n",
    "\n",
    "> `customer_id` **<span style=\"color:#023e8a;\">: A unique identifier of every customer</span>**  \n",
    "> `FN` **<span style=\"color:#023e8a;\">: 1 or missed </span>**  \n",
    "> `Active` **<span style=\"color:#023e8a;\">: 1 or missed</span>**  \n",
    "> `club_member_status` **<span style=\"color:#023e8a;\">: Status in club</span>**  \n",
    "> `fashion_news_frequency` **<span style=\"color:#023e8a;\">: How often H&M may send news to customer</span>**  \n",
    "> `age` **<span style=\"color:#023e8a;\">: The current age</span>**  \n",
    "> `postal_code` **<span style=\"color:#023e8a;\">: Postal code of customer</span>**  "
   ]
  },
  {
   "cell_type": "code",
   "execution_count": 9,
   "id": "243de262",
   "metadata": {
    "papermill": {
     "duration": 0.078465,
     "end_time": "2022-02-27T12:29:44.481680",
     "exception": false,
     "start_time": "2022-02-27T12:29:44.403215",
     "status": "completed"
    },
    "tags": []
   },
   "outputs": [
    {
     "data": {
      "text/html": [
       "<div>\n",
       "<style scoped>\n",
       "    .dataframe tbody tr th:only-of-type {\n",
       "        vertical-align: middle;\n",
       "    }\n",
       "\n",
       "    .dataframe tbody tr th {\n",
       "        vertical-align: top;\n",
       "    }\n",
       "\n",
       "    .dataframe thead th {\n",
       "        text-align: right;\n",
       "    }\n",
       "</style>\n",
       "<table border=\"1\" class=\"dataframe\">\n",
       "  <thead>\n",
       "    <tr style=\"text-align: right;\">\n",
       "      <th></th>\n",
       "      <th>customer_id</th>\n",
       "      <th>FN</th>\n",
       "      <th>Active</th>\n",
       "      <th>club_member_status</th>\n",
       "      <th>fashion_news_frequency</th>\n",
       "      <th>age</th>\n",
       "      <th>postal_code</th>\n",
       "    </tr>\n",
       "  </thead>\n",
       "  <tbody>\n",
       "    <tr>\n",
       "      <th>0</th>\n",
       "      <td>00000dbacae5abe5e23885899a1fa44253a17956c6d1c3...</td>\n",
       "      <td>NaN</td>\n",
       "      <td>NaN</td>\n",
       "      <td>ACTIVE</td>\n",
       "      <td>NONE</td>\n",
       "      <td>49.0</td>\n",
       "      <td>52043ee2162cf5aa7ee79974281641c6f11a68d276429a...</td>\n",
       "    </tr>\n",
       "    <tr>\n",
       "      <th>1</th>\n",
       "      <td>0000423b00ade91418cceaf3b26c6af3dd342b51fd051e...</td>\n",
       "      <td>NaN</td>\n",
       "      <td>NaN</td>\n",
       "      <td>ACTIVE</td>\n",
       "      <td>NONE</td>\n",
       "      <td>25.0</td>\n",
       "      <td>2973abc54daa8a5f8ccfe9362140c63247c5eee03f1d93...</td>\n",
       "    </tr>\n",
       "    <tr>\n",
       "      <th>2</th>\n",
       "      <td>000058a12d5b43e67d225668fa1f8d618c13dc232df0ca...</td>\n",
       "      <td>NaN</td>\n",
       "      <td>NaN</td>\n",
       "      <td>ACTIVE</td>\n",
       "      <td>NONE</td>\n",
       "      <td>24.0</td>\n",
       "      <td>64f17e6a330a85798e4998f62d0930d14db8db1c054af6...</td>\n",
       "    </tr>\n",
       "    <tr>\n",
       "      <th>3</th>\n",
       "      <td>00005ca1c9ed5f5146b52ac8639a40ca9d57aeff4d1bd2...</td>\n",
       "      <td>NaN</td>\n",
       "      <td>NaN</td>\n",
       "      <td>ACTIVE</td>\n",
       "      <td>NONE</td>\n",
       "      <td>54.0</td>\n",
       "      <td>5d36574f52495e81f019b680c843c443bd343d5ca5b1c2...</td>\n",
       "    </tr>\n",
       "    <tr>\n",
       "      <th>4</th>\n",
       "      <td>00006413d8573cd20ed7128e53b7b13819fe5cfc2d801f...</td>\n",
       "      <td>1.0</td>\n",
       "      <td>1.0</td>\n",
       "      <td>ACTIVE</td>\n",
       "      <td>Regularly</td>\n",
       "      <td>52.0</td>\n",
       "      <td>25fa5ddee9aac01b35208d01736e57942317d756b32ddd...</td>\n",
       "    </tr>\n",
       "  </tbody>\n",
       "</table>\n",
       "</div>"
      ],
      "text/plain": [
       "                                         customer_id   FN  Active  \\\n",
       "0  00000dbacae5abe5e23885899a1fa44253a17956c6d1c3...  NaN     NaN   \n",
       "1  0000423b00ade91418cceaf3b26c6af3dd342b51fd051e...  NaN     NaN   \n",
       "2  000058a12d5b43e67d225668fa1f8d618c13dc232df0ca...  NaN     NaN   \n",
       "3  00005ca1c9ed5f5146b52ac8639a40ca9d57aeff4d1bd2...  NaN     NaN   \n",
       "4  00006413d8573cd20ed7128e53b7b13819fe5cfc2d801f...  1.0     1.0   \n",
       "\n",
       "  club_member_status fashion_news_frequency   age  \\\n",
       "0             ACTIVE                   NONE  49.0   \n",
       "1             ACTIVE                   NONE  25.0   \n",
       "2             ACTIVE                   NONE  24.0   \n",
       "3             ACTIVE                   NONE  54.0   \n",
       "4             ACTIVE              Regularly  52.0   \n",
       "\n",
       "                                         postal_code  \n",
       "0  52043ee2162cf5aa7ee79974281641c6f11a68d276429a...  \n",
       "1  2973abc54daa8a5f8ccfe9362140c63247c5eee03f1d93...  \n",
       "2  64f17e6a330a85798e4998f62d0930d14db8db1c054af6...  \n",
       "3  5d36574f52495e81f019b680c843c443bd343d5ca5b1c2...  \n",
       "4  25fa5ddee9aac01b35208d01736e57942317d756b32ddd...  "
      ]
     },
     "execution_count": 9,
     "metadata": {},
     "output_type": "execute_result"
    }
   ],
   "source": [
    "pd.options.display.max_rows = 50\n",
    "customers.head()"
   ]
  },
  {
   "cell_type": "markdown",
   "id": "5785de0f",
   "metadata": {
    "papermill": {
     "duration": 0.05444,
     "end_time": "2022-02-27T12:29:44.590937",
     "exception": false,
     "start_time": "2022-02-27T12:29:44.536497",
     "status": "completed"
    },
    "tags": []
   },
   "source": [
    "**<span style=\"color:#023e8a;\"> There are no duplicates in </span>** `customers`"
   ]
  },
  {
   "cell_type": "code",
   "execution_count": 10,
   "id": "e5832877",
   "metadata": {
    "papermill": {
     "duration": 0.820526,
     "end_time": "2022-02-27T12:29:45.466199",
     "exception": false,
     "start_time": "2022-02-27T12:29:44.645673",
     "status": "completed"
    },
    "tags": []
   },
   "outputs": [
    {
     "data": {
      "text/plain": [
       "0"
      ]
     },
     "execution_count": 10,
     "metadata": {},
     "output_type": "execute_result"
    }
   ],
   "source": [
    "customers.shape[0] - customers['customer_id'].nunique()"
   ]
  },
  {
   "cell_type": "markdown",
   "id": "38a8f204",
   "metadata": {
    "papermill": {
     "duration": 0.058603,
     "end_time": "2022-02-27T12:29:45.580146",
     "exception": false,
     "start_time": "2022-02-27T12:29:45.521543",
     "status": "completed"
    },
    "tags": []
   },
   "source": [
    "**<span style=\"color:#023e8a;\"> Here we have abnormal number of customers by one postal code. One has 120303, it might be encoded nan adress or smth like a huge distribution center, or pickup.</span>**"
   ]
  },
  {
   "cell_type": "code",
   "execution_count": 11,
   "id": "8693c9bd",
   "metadata": {
    "papermill": {
     "duration": 2.279725,
     "end_time": "2022-02-27T12:29:47.917555",
     "exception": false,
     "start_time": "2022-02-27T12:29:45.637830",
     "status": "completed"
    },
    "tags": []
   },
   "outputs": [
    {
     "data": {
      "text/html": [
       "<div>\n",
       "<style scoped>\n",
       "    .dataframe tbody tr th:only-of-type {\n",
       "        vertical-align: middle;\n",
       "    }\n",
       "\n",
       "    .dataframe tbody tr th {\n",
       "        vertical-align: top;\n",
       "    }\n",
       "\n",
       "    .dataframe thead th {\n",
       "        text-align: right;\n",
       "    }\n",
       "</style>\n",
       "<table border=\"1\" class=\"dataframe\">\n",
       "  <thead>\n",
       "    <tr style=\"text-align: right;\">\n",
       "      <th></th>\n",
       "      <th>postal_code</th>\n",
       "      <th>customer_id</th>\n",
       "      <th>FN</th>\n",
       "      <th>Active</th>\n",
       "      <th>club_member_status</th>\n",
       "      <th>fashion_news_frequency</th>\n",
       "      <th>age</th>\n",
       "    </tr>\n",
       "  </thead>\n",
       "  <tbody>\n",
       "    <tr>\n",
       "      <th>61034</th>\n",
       "      <td>2c29ae653a9282cce4151bd87643c907644e09541abc28...</td>\n",
       "      <td>120303</td>\n",
       "      <td>42874</td>\n",
       "      <td>39886</td>\n",
       "      <td>118281</td>\n",
       "      <td>114377</td>\n",
       "      <td>118002</td>\n",
       "    </tr>\n",
       "    <tr>\n",
       "      <th>281937</th>\n",
       "      <td>cc4ed85e30f4977dae47662ddc468cd2eec11472de6fac...</td>\n",
       "      <td>261</td>\n",
       "      <td>109</td>\n",
       "      <td>104</td>\n",
       "      <td>261</td>\n",
       "      <td>261</td>\n",
       "      <td>260</td>\n",
       "    </tr>\n",
       "    <tr>\n",
       "      <th>156090</th>\n",
       "      <td>714976379549eb90aae4a71bca6c7402cc646ae7c40f6c...</td>\n",
       "      <td>159</td>\n",
       "      <td>90</td>\n",
       "      <td>88</td>\n",
       "      <td>159</td>\n",
       "      <td>159</td>\n",
       "      <td>158</td>\n",
       "    </tr>\n",
       "    <tr>\n",
       "      <th>171208</th>\n",
       "      <td>7c1fa3b0ec1d37ce2c3f34f63bd792f3b4494f324b6be5...</td>\n",
       "      <td>157</td>\n",
       "      <td>55</td>\n",
       "      <td>54</td>\n",
       "      <td>157</td>\n",
       "      <td>156</td>\n",
       "      <td>156</td>\n",
       "    </tr>\n",
       "    <tr>\n",
       "      <th>126228</th>\n",
       "      <td>5b7eb31eabebd3277de632b82267286d847fd5d44287ee...</td>\n",
       "      <td>156</td>\n",
       "      <td>42</td>\n",
       "      <td>41</td>\n",
       "      <td>156</td>\n",
       "      <td>156</td>\n",
       "      <td>155</td>\n",
       "    </tr>\n",
       "  </tbody>\n",
       "</table>\n",
       "</div>"
      ],
      "text/plain": [
       "                                              postal_code  customer_id     FN  \\\n",
       "61034   2c29ae653a9282cce4151bd87643c907644e09541abc28...       120303  42874   \n",
       "281937  cc4ed85e30f4977dae47662ddc468cd2eec11472de6fac...          261    109   \n",
       "156090  714976379549eb90aae4a71bca6c7402cc646ae7c40f6c...          159     90   \n",
       "171208  7c1fa3b0ec1d37ce2c3f34f63bd792f3b4494f324b6be5...          157     55   \n",
       "126228  5b7eb31eabebd3277de632b82267286d847fd5d44287ee...          156     42   \n",
       "\n",
       "        Active  club_member_status  fashion_news_frequency     age  \n",
       "61034    39886              118281                  114377  118002  \n",
       "281937     104                 261                     261     260  \n",
       "156090      88                 159                     159     158  \n",
       "171208      54                 157                     156     156  \n",
       "126228      41                 156                     156     155  "
      ]
     },
     "execution_count": 11,
     "metadata": {},
     "output_type": "execute_result"
    }
   ],
   "source": [
    "data_postal = customers.groupby('postal_code', as_index=False).count().sort_values('customer_id', ascending=False)\n",
    "data_postal.head()"
   ]
  },
  {
   "cell_type": "markdown",
   "id": "62b8d966",
   "metadata": {
    "papermill": {
     "duration": 0.057605,
     "end_time": "2022-02-27T12:29:48.032941",
     "exception": false,
     "start_time": "2022-02-27T12:29:47.975336",
     "status": "completed"
    },
    "tags": []
   },
   "source": [
    "**<span style=\"color:#023e8a;\"> Ages, club_member_status are different, like customer_ids.</span>**"
   ]
  },
  {
   "cell_type": "code",
   "execution_count": 12,
   "id": "67bf628d",
   "metadata": {
    "papermill": {
     "duration": 0.333883,
     "end_time": "2022-02-27T12:29:48.422251",
     "exception": false,
     "start_time": "2022-02-27T12:29:48.088368",
     "status": "completed"
    },
    "tags": []
   },
   "outputs": [
    {
     "data": {
      "text/html": [
       "<div>\n",
       "<style scoped>\n",
       "    .dataframe tbody tr th:only-of-type {\n",
       "        vertical-align: middle;\n",
       "    }\n",
       "\n",
       "    .dataframe tbody tr th {\n",
       "        vertical-align: top;\n",
       "    }\n",
       "\n",
       "    .dataframe thead th {\n",
       "        text-align: right;\n",
       "    }\n",
       "</style>\n",
       "<table border=\"1\" class=\"dataframe\">\n",
       "  <thead>\n",
       "    <tr style=\"text-align: right;\">\n",
       "      <th></th>\n",
       "      <th>customer_id</th>\n",
       "      <th>FN</th>\n",
       "      <th>Active</th>\n",
       "      <th>club_member_status</th>\n",
       "      <th>fashion_news_frequency</th>\n",
       "      <th>age</th>\n",
       "      <th>postal_code</th>\n",
       "    </tr>\n",
       "  </thead>\n",
       "  <tbody>\n",
       "    <tr>\n",
       "      <th>5</th>\n",
       "      <td>000064249685c11552da43ef22a5030f35a147f723d5b0...</td>\n",
       "      <td>NaN</td>\n",
       "      <td>NaN</td>\n",
       "      <td>NaN</td>\n",
       "      <td>NaN</td>\n",
       "      <td>NaN</td>\n",
       "      <td>2c29ae653a9282cce4151bd87643c907644e09541abc28...</td>\n",
       "    </tr>\n",
       "    <tr>\n",
       "      <th>8</th>\n",
       "      <td>00007e8d4e54114b5b2a9b51586325a8d0fa74ea23ef77...</td>\n",
       "      <td>NaN</td>\n",
       "      <td>NaN</td>\n",
       "      <td>ACTIVE</td>\n",
       "      <td>NONE</td>\n",
       "      <td>20.0</td>\n",
       "      <td>2c29ae653a9282cce4151bd87643c907644e09541abc28...</td>\n",
       "    </tr>\n",
       "    <tr>\n",
       "      <th>9</th>\n",
       "      <td>00008469a21b50b3d147c97135e25b4201a8c58997f787...</td>\n",
       "      <td>NaN</td>\n",
       "      <td>NaN</td>\n",
       "      <td>ACTIVE</td>\n",
       "      <td>NONE</td>\n",
       "      <td>20.0</td>\n",
       "      <td>2c29ae653a9282cce4151bd87643c907644e09541abc28...</td>\n",
       "    </tr>\n",
       "    <tr>\n",
       "      <th>11</th>\n",
       "      <td>000097d91384a0c14893c09ed047a963c4fc6a5c021044...</td>\n",
       "      <td>NaN</td>\n",
       "      <td>NaN</td>\n",
       "      <td>ACTIVE</td>\n",
       "      <td>NONE</td>\n",
       "      <td>31.0</td>\n",
       "      <td>2c29ae653a9282cce4151bd87643c907644e09541abc28...</td>\n",
       "    </tr>\n",
       "    <tr>\n",
       "      <th>14</th>\n",
       "      <td>0000ae1bbb25e04bdc7e35f718e852adfb3fbb72ef38b3...</td>\n",
       "      <td>1.0</td>\n",
       "      <td>1.0</td>\n",
       "      <td>ACTIVE</td>\n",
       "      <td>Regularly</td>\n",
       "      <td>29.0</td>\n",
       "      <td>2c29ae653a9282cce4151bd87643c907644e09541abc28...</td>\n",
       "    </tr>\n",
       "  </tbody>\n",
       "</table>\n",
       "</div>"
      ],
      "text/plain": [
       "                                          customer_id   FN  Active  \\\n",
       "5   000064249685c11552da43ef22a5030f35a147f723d5b0...  NaN     NaN   \n",
       "8   00007e8d4e54114b5b2a9b51586325a8d0fa74ea23ef77...  NaN     NaN   \n",
       "9   00008469a21b50b3d147c97135e25b4201a8c58997f787...  NaN     NaN   \n",
       "11  000097d91384a0c14893c09ed047a963c4fc6a5c021044...  NaN     NaN   \n",
       "14  0000ae1bbb25e04bdc7e35f718e852adfb3fbb72ef38b3...  1.0     1.0   \n",
       "\n",
       "   club_member_status fashion_news_frequency   age  \\\n",
       "5                 NaN                    NaN   NaN   \n",
       "8              ACTIVE                   NONE  20.0   \n",
       "9              ACTIVE                   NONE  20.0   \n",
       "11             ACTIVE                   NONE  31.0   \n",
       "14             ACTIVE              Regularly  29.0   \n",
       "\n",
       "                                          postal_code  \n",
       "5   2c29ae653a9282cce4151bd87643c907644e09541abc28...  \n",
       "8   2c29ae653a9282cce4151bd87643c907644e09541abc28...  \n",
       "9   2c29ae653a9282cce4151bd87643c907644e09541abc28...  \n",
       "11  2c29ae653a9282cce4151bd87643c907644e09541abc28...  \n",
       "14  2c29ae653a9282cce4151bd87643c907644e09541abc28...  "
      ]
     },
     "execution_count": 12,
     "metadata": {},
     "output_type": "execute_result"
    }
   ],
   "source": [
    "customers[customers['postal_code']=='2c29ae653a9282cce4151bd87643c907644e09541abc28ae87dea0d1f6603b1c'].head(5)"
   ]
  },
  {
   "cell_type": "markdown",
   "id": "a4f8f7f1",
   "metadata": {
    "papermill": {
     "duration": 0.056306,
     "end_time": "2022-02-27T12:29:48.536034",
     "exception": false,
     "start_time": "2022-02-27T12:29:48.479728",
     "status": "completed"
    },
    "tags": []
   },
   "source": [
    "**<span style=\"color:#023e8a;\"> The most common age is about 21-23</span>**"
   ]
  },
  {
   "cell_type": "code",
   "execution_count": 13,
   "id": "95c1aee9",
   "metadata": {
    "papermill": {
     "duration": 0.715936,
     "end_time": "2022-02-27T12:29:49.308591",
     "exception": false,
     "start_time": "2022-02-27T12:29:48.592655",
     "status": "completed"
    },
    "tags": []
   },
   "outputs": [],
   "source": [
    "# import seaborn as sns\n",
    "# from matplotlib import pyplot as plt\n",
    "# sns.set_style(\"darkgrid\")\n",
    "# f, ax = plt.subplots(figsize=(10,5))\n",
    "# ax = sns.histplot(data=customers, x='age', bins=50, color='orange')\n",
    "# ax.set_xlabel('Distribution of the customers age')\n",
    "# plt.show()"
   ]
  },
  {
   "cell_type": "markdown",
   "id": "4727bd58",
   "metadata": {
    "papermill": {
     "duration": 0.067113,
     "end_time": "2022-02-27T12:29:49.446455",
     "exception": false,
     "start_time": "2022-02-27T12:29:49.379342",
     "status": "completed"
    },
    "tags": []
   },
   "source": [
    "**<span style=\"color:#023e8a;\"> Status in H&M club. Almost every customer has an active club status, some of them begin to activate it (pre-create). A tiny part of customers abandoned the club.</span>**"
   ]
  },
  {
   "cell_type": "code",
   "execution_count": 14,
   "id": "f9a41d81",
   "metadata": {
    "papermill": {
     "duration": 2.203591,
     "end_time": "2022-02-27T12:29:51.719218",
     "exception": false,
     "start_time": "2022-02-27T12:29:49.515627",
     "status": "completed"
    },
    "tags": []
   },
   "outputs": [],
   "source": [
    "# sns.set_style(\"darkgrid\")\n",
    "# f, ax = plt.subplots(figsize=(10,5))\n",
    "# ax = sns.histplot(data=customers, x='club_member_status', color='orange')\n",
    "# ax.set_xlabel('Distribution of club member status')\n",
    "# plt.show()"
   ]
  },
  {
   "cell_type": "markdown",
   "id": "af421cdd",
   "metadata": {
    "papermill": {
     "duration": 0.089746,
     "end_time": "2022-02-27T12:29:51.901027",
     "exception": false,
     "start_time": "2022-02-27T12:29:51.811281",
     "status": "completed"
    },
    "tags": []
   },
   "source": [
    "**<span style=\"color:#023e8a;\"> Here we have three types for NO DATA. Let's unite these values.</span>**"
   ]
  },
  {
   "cell_type": "code",
   "execution_count": 15,
   "id": "4016e94e",
   "metadata": {
    "papermill": {
     "duration": 0.257619,
     "end_time": "2022-02-27T12:29:52.246994",
     "exception": false,
     "start_time": "2022-02-27T12:29:51.989375",
     "status": "completed"
    },
    "tags": []
   },
   "outputs": [
    {
     "data": {
      "text/plain": [
       "array(['NONE', 'Regularly', nan, 'Monthly', 'None'], dtype=object)"
      ]
     },
     "execution_count": 15,
     "metadata": {},
     "output_type": "execute_result"
    }
   ],
   "source": [
    "customers['fashion_news_frequency'].unique()"
   ]
  },
  {
   "cell_type": "code",
   "execution_count": 16,
   "id": "799051f5",
   "metadata": {
    "papermill": {
     "duration": 0.295433,
     "end_time": "2022-02-27T12:29:52.601856",
     "exception": false,
     "start_time": "2022-02-27T12:29:52.306423",
     "status": "completed"
    },
    "tags": []
   },
   "outputs": [
    {
     "data": {
      "text/plain": [
       "array(['None', 'Regularly', 'Monthly'], dtype=object)"
      ]
     },
     "execution_count": 16,
     "metadata": {},
     "output_type": "execute_result"
    }
   ],
   "source": [
    "customers.loc[~customers['fashion_news_frequency'].isin(['Regularly', 'Monthly']), 'fashion_news_frequency'] = 'None'\n",
    "customers['fashion_news_frequency'].unique()"
   ]
  },
  {
   "cell_type": "code",
   "execution_count": 17,
   "id": "c078b929",
   "metadata": {
    "papermill": {
     "duration": 0.51573,
     "end_time": "2022-02-27T12:29:53.176474",
     "exception": false,
     "start_time": "2022-02-27T12:29:52.660744",
     "status": "completed"
    },
    "tags": []
   },
   "outputs": [],
   "source": [
    "pie_data = customers[['customer_id', 'fashion_news_frequency']].groupby('fashion_news_frequency').count()"
   ]
  },
  {
   "cell_type": "markdown",
   "id": "2a08e19f",
   "metadata": {
    "papermill": {
     "duration": 0.059292,
     "end_time": "2022-02-27T12:29:53.297328",
     "exception": false,
     "start_time": "2022-02-27T12:29:53.238036",
     "status": "completed"
    },
    "tags": []
   },
   "source": [
    "**<span style=\"color:#023e8a;\"> Customers prefer not to get any messages about the current news.</span>**"
   ]
  },
  {
   "cell_type": "code",
   "execution_count": 18,
   "id": "d7c787bb",
   "metadata": {
    "papermill": {
     "duration": 0.192631,
     "end_time": "2022-02-27T12:29:53.550025",
     "exception": false,
     "start_time": "2022-02-27T12:29:53.357394",
     "status": "completed"
    },
    "tags": []
   },
   "outputs": [],
   "source": [
    "# sns.set_style(\"darkgrid\")\n",
    "# f, ax = plt.subplots(figsize=(10,5))\n",
    "# # ax = sns.histplot(data=customers, x='fashion_news_frequency', color='orange')\n",
    "# # ax = sns.pie(data=customers, x='fashion_news_frequency', color='orange')\n",
    "# colors = sns.color_palette('pastel')\n",
    "# ax.pie(pie_data.customer_id, labels=pie_data.index, colors = colors)\n",
    "# ax.set_facecolor('lightgrey')\n",
    "# ax.set_xlabel('Distribution of fashion news frequency')\n",
    "# plt.show()"
   ]
  },
  {
   "cell_type": "markdown",
   "id": "ede00e3b",
   "metadata": {
    "papermill": {
     "duration": 0.059846,
     "end_time": "2022-02-27T12:29:53.705357",
     "exception": false,
     "start_time": "2022-02-27T12:29:53.645511",
     "status": "completed"
    },
    "tags": []
   },
   "source": [
    "## **<span id=\"Transactions\" style=\"color:#023e8a;\">4. Transactions</span>**"
   ]
  },
  {
   "cell_type": "markdown",
   "id": "bbd27f17",
   "metadata": {
    "papermill": {
     "duration": 0.05972,
     "end_time": "2022-02-27T12:29:53.825631",
     "exception": false,
     "start_time": "2022-02-27T12:29:53.765911",
     "status": "completed"
    },
    "tags": []
   },
   "source": [
    "[**<span style=\"color:#FEF1FE;background-color:#023e8a;border-radius: 5px;padding: 2px\">Go to Table of Content</span>**](#Content)"
   ]
  },
  {
   "cell_type": "markdown",
   "id": "9137b75e",
   "metadata": {
    "papermill": {
     "duration": 0.060599,
     "end_time": "2022-02-27T12:29:53.946752",
     "exception": false,
     "start_time": "2022-02-27T12:29:53.886153",
     "status": "completed"
    },
    "tags": []
   },
   "source": [
    "**<span style=\"color:#023e8a;\"> Transactions data description: </span>**\n",
    "\n",
    "> `t_dat` **<span style=\"color:#023e8a;\">: A unique identifier of every customer</span>**  \n",
    "> `customer_id` **<span style=\"color:#023e8a;\">: A unique identifier of every customer </span>**  **<span style=\"color:#FF0000;\">(in </span>** `customers` **<span style=\"color:#FF0000;\"> table)</span>**  \n",
    "> `article_id` **<span style=\"color:#023e8a;\">: A unique identifier of every article</span>**  **<span style=\"color:#FF0000;\">(in </span>** `articles` **<span style=\"color:#FF0000;\"> table)</span>**  \n",
    "> `price` **<span style=\"color:#023e8a;\">: Price of purchase</span>**  \n",
    "> `sales_channel_id` **<span style=\"color:#023e8a;\">: 1 or 2</span>**  "
   ]
  },
  {
   "cell_type": "code",
   "execution_count": 19,
   "id": "55c71eb9",
   "metadata": {
    "papermill": {
     "duration": 0.074505,
     "end_time": "2022-02-27T12:29:54.081365",
     "exception": false,
     "start_time": "2022-02-27T12:29:54.006860",
     "status": "completed"
    },
    "tags": []
   },
   "outputs": [
    {
     "data": {
      "text/html": [
       "<div>\n",
       "<style scoped>\n",
       "    .dataframe tbody tr th:only-of-type {\n",
       "        vertical-align: middle;\n",
       "    }\n",
       "\n",
       "    .dataframe tbody tr th {\n",
       "        vertical-align: top;\n",
       "    }\n",
       "\n",
       "    .dataframe thead th {\n",
       "        text-align: right;\n",
       "    }\n",
       "</style>\n",
       "<table border=\"1\" class=\"dataframe\">\n",
       "  <thead>\n",
       "    <tr style=\"text-align: right;\">\n",
       "      <th></th>\n",
       "      <th>t_dat</th>\n",
       "      <th>customer_id</th>\n",
       "      <th>article_id</th>\n",
       "      <th>price</th>\n",
       "      <th>sales_channel_id</th>\n",
       "    </tr>\n",
       "  </thead>\n",
       "  <tbody>\n",
       "    <tr>\n",
       "      <th>0</th>\n",
       "      <td>2018-09-20</td>\n",
       "      <td>000058a12d5b43e67d225668fa1f8d618c13dc232df0ca...</td>\n",
       "      <td>663713001</td>\n",
       "      <td>0.050831</td>\n",
       "      <td>2</td>\n",
       "    </tr>\n",
       "    <tr>\n",
       "      <th>1</th>\n",
       "      <td>2018-09-20</td>\n",
       "      <td>000058a12d5b43e67d225668fa1f8d618c13dc232df0ca...</td>\n",
       "      <td>541518023</td>\n",
       "      <td>0.030492</td>\n",
       "      <td>2</td>\n",
       "    </tr>\n",
       "    <tr>\n",
       "      <th>2</th>\n",
       "      <td>2018-09-20</td>\n",
       "      <td>00007d2de826758b65a93dd24ce629ed66842531df6699...</td>\n",
       "      <td>505221004</td>\n",
       "      <td>0.015237</td>\n",
       "      <td>2</td>\n",
       "    </tr>\n",
       "    <tr>\n",
       "      <th>3</th>\n",
       "      <td>2018-09-20</td>\n",
       "      <td>00007d2de826758b65a93dd24ce629ed66842531df6699...</td>\n",
       "      <td>685687003</td>\n",
       "      <td>0.016932</td>\n",
       "      <td>2</td>\n",
       "    </tr>\n",
       "    <tr>\n",
       "      <th>4</th>\n",
       "      <td>2018-09-20</td>\n",
       "      <td>00007d2de826758b65a93dd24ce629ed66842531df6699...</td>\n",
       "      <td>685687004</td>\n",
       "      <td>0.016932</td>\n",
       "      <td>2</td>\n",
       "    </tr>\n",
       "  </tbody>\n",
       "</table>\n",
       "</div>"
      ],
      "text/plain": [
       "        t_dat                                        customer_id  article_id  \\\n",
       "0  2018-09-20  000058a12d5b43e67d225668fa1f8d618c13dc232df0ca...   663713001   \n",
       "1  2018-09-20  000058a12d5b43e67d225668fa1f8d618c13dc232df0ca...   541518023   \n",
       "2  2018-09-20  00007d2de826758b65a93dd24ce629ed66842531df6699...   505221004   \n",
       "3  2018-09-20  00007d2de826758b65a93dd24ce629ed66842531df6699...   685687003   \n",
       "4  2018-09-20  00007d2de826758b65a93dd24ce629ed66842531df6699...   685687004   \n",
       "\n",
       "      price  sales_channel_id  \n",
       "0  0.050831                 2  \n",
       "1  0.030492                 2  \n",
       "2  0.015237                 2  \n",
       "3  0.016932                 2  \n",
       "4  0.016932                 2  "
      ]
     },
     "execution_count": 19,
     "metadata": {},
     "output_type": "execute_result"
    }
   ],
   "source": [
    "transactions.head()"
   ]
  },
  {
   "cell_type": "markdown",
   "id": "6b63ff24",
   "metadata": {
    "papermill": {
     "duration": 0.061469,
     "end_time": "2022-02-27T12:29:54.204186",
     "exception": false,
     "start_time": "2022-02-27T12:29:54.142717",
     "status": "completed"
    },
    "tags": []
   },
   "source": [
    "**<span style=\"color:#023e8a;\"> Here we see outliers for price. </span>**"
   ]
  },
  {
   "cell_type": "code",
   "execution_count": 20,
   "id": "1ad1c31a",
   "metadata": {
    "papermill": {
     "duration": 3.610122,
     "end_time": "2022-02-27T12:29:57.876077",
     "exception": false,
     "start_time": "2022-02-27T12:29:54.265955",
     "status": "completed"
    },
    "tags": []
   },
   "outputs": [
    {
     "data": {
      "text/plain": [
       "count   31788324.0000\n",
       "mean           0.0278\n",
       "std            0.0192\n",
       "min            0.0000\n",
       "25%            0.0158\n",
       "50%            0.0254\n",
       "75%            0.0339\n",
       "max            0.5915\n",
       "Name: price, dtype: float64"
      ]
     },
     "execution_count": 20,
     "metadata": {},
     "output_type": "execute_result"
    }
   ],
   "source": [
    "pd.set_option('display.float_format', '{:.4f}'.format)\n",
    "transactions.describe()['price']"
   ]
  },
  {
   "cell_type": "code",
   "execution_count": 21,
   "id": "455e96dc",
   "metadata": {
    "papermill": {
     "duration": 0.077508,
     "end_time": "2022-02-27T12:29:58.015539",
     "exception": false,
     "start_time": "2022-02-27T12:29:57.938031",
     "status": "completed"
    },
    "tags": []
   },
   "outputs": [
    {
     "data": {
      "text/html": [
       "<div>\n",
       "<style scoped>\n",
       "    .dataframe tbody tr th:only-of-type {\n",
       "        vertical-align: middle;\n",
       "    }\n",
       "\n",
       "    .dataframe tbody tr th {\n",
       "        vertical-align: top;\n",
       "    }\n",
       "\n",
       "    .dataframe thead th {\n",
       "        text-align: right;\n",
       "    }\n",
       "</style>\n",
       "<table border=\"1\" class=\"dataframe\">\n",
       "  <thead>\n",
       "    <tr style=\"text-align: right;\">\n",
       "      <th></th>\n",
       "      <th>t_dat</th>\n",
       "      <th>customer_id</th>\n",
       "      <th>article_id</th>\n",
       "      <th>price</th>\n",
       "      <th>sales_channel_id</th>\n",
       "    </tr>\n",
       "  </thead>\n",
       "  <tbody>\n",
       "    <tr>\n",
       "      <th>0</th>\n",
       "      <td>2018-09-20</td>\n",
       "      <td>000058a12d5b43e67d225668fa1f8d618c13dc232df0ca...</td>\n",
       "      <td>663713001</td>\n",
       "      <td>0.0508</td>\n",
       "      <td>2</td>\n",
       "    </tr>\n",
       "    <tr>\n",
       "      <th>1</th>\n",
       "      <td>2018-09-20</td>\n",
       "      <td>000058a12d5b43e67d225668fa1f8d618c13dc232df0ca...</td>\n",
       "      <td>541518023</td>\n",
       "      <td>0.0305</td>\n",
       "      <td>2</td>\n",
       "    </tr>\n",
       "    <tr>\n",
       "      <th>2</th>\n",
       "      <td>2018-09-20</td>\n",
       "      <td>00007d2de826758b65a93dd24ce629ed66842531df6699...</td>\n",
       "      <td>505221004</td>\n",
       "      <td>0.0152</td>\n",
       "      <td>2</td>\n",
       "    </tr>\n",
       "    <tr>\n",
       "      <th>3</th>\n",
       "      <td>2018-09-20</td>\n",
       "      <td>00007d2de826758b65a93dd24ce629ed66842531df6699...</td>\n",
       "      <td>685687003</td>\n",
       "      <td>0.0169</td>\n",
       "      <td>2</td>\n",
       "    </tr>\n",
       "    <tr>\n",
       "      <th>4</th>\n",
       "      <td>2018-09-20</td>\n",
       "      <td>00007d2de826758b65a93dd24ce629ed66842531df6699...</td>\n",
       "      <td>685687004</td>\n",
       "      <td>0.0169</td>\n",
       "      <td>2</td>\n",
       "    </tr>\n",
       "  </tbody>\n",
       "</table>\n",
       "</div>"
      ],
      "text/plain": [
       "        t_dat                                        customer_id  article_id  \\\n",
       "0  2018-09-20  000058a12d5b43e67d225668fa1f8d618c13dc232df0ca...   663713001   \n",
       "1  2018-09-20  000058a12d5b43e67d225668fa1f8d618c13dc232df0ca...   541518023   \n",
       "2  2018-09-20  00007d2de826758b65a93dd24ce629ed66842531df6699...   505221004   \n",
       "3  2018-09-20  00007d2de826758b65a93dd24ce629ed66842531df6699...   685687003   \n",
       "4  2018-09-20  00007d2de826758b65a93dd24ce629ed66842531df6699...   685687004   \n",
       "\n",
       "   price  sales_channel_id  \n",
       "0 0.0508                 2  \n",
       "1 0.0305                 2  \n",
       "2 0.0152                 2  \n",
       "3 0.0169                 2  \n",
       "4 0.0169                 2  "
      ]
     },
     "execution_count": 21,
     "metadata": {},
     "output_type": "execute_result"
    }
   ],
   "source": [
    "transactions.head()"
   ]
  },
  {
   "cell_type": "code",
   "execution_count": 22,
   "id": "4147d0b1",
   "metadata": {
    "papermill": {
     "duration": 4.829723,
     "end_time": "2022-02-27T12:30:02.908348",
     "exception": false,
     "start_time": "2022-02-27T12:29:58.078625",
     "status": "completed"
    },
    "tags": []
   },
   "outputs": [],
   "source": [
    "# sns.set_style(\"darkgrid\")\n",
    "# f, ax = plt.subplots(figsize=(10,5))\n",
    "# ax = sns.boxplot(data=transactions, x='price', color='orange')\n",
    "# ax.set_xlabel('Price outliers')\n",
    "# plt.show()"
   ]
  },
  {
   "cell_type": "markdown",
   "id": "e0bb46bf",
   "metadata": {
    "papermill": {
     "duration": 0.061613,
     "end_time": "2022-02-27T12:30:03.033530",
     "exception": false,
     "start_time": "2022-02-27T12:30:02.971917",
     "status": "completed"
    },
    "tags": []
   },
   "source": [
    "**<span style=\"color:#023e8a;\"> Top 10 customers by num of transactions. </span>**"
   ]
  },
  {
   "cell_type": "code",
   "execution_count": 23,
   "id": "1cb93dc0",
   "metadata": {
    "papermill": {
     "duration": 17.914408,
     "end_time": "2022-02-27T12:30:21.009284",
     "exception": false,
     "start_time": "2022-02-27T12:30:03.094876",
     "status": "completed"
    },
    "tags": []
   },
   "outputs": [],
   "source": [
    "transactions_byid = transactions.groupby('customer_id').count()"
   ]
  },
  {
   "cell_type": "code",
   "execution_count": 24,
   "id": "59478d91",
   "metadata": {
    "papermill": {
     "duration": 0.583546,
     "end_time": "2022-02-27T12:30:21.655723",
     "exception": false,
     "start_time": "2022-02-27T12:30:21.072177",
     "status": "completed"
    },
    "tags": []
   },
   "outputs": [
    {
     "data": {
      "text/plain": [
       "customer_id\n",
       "be1981ab818cf4ef6765b2ecaea7a2cbf14ccd6e8a7ee985513d9e8e53c6d91b    1895\n",
       "b4db5e5259234574edfff958e170fe3a5e13b6f146752ca066abca3c156acc71    1441\n",
       "49beaacac0c7801c2ce2d189efe525fe80b5d37e46ed05b50a4cd88e34d0748f    1364\n",
       "a65f77281a528bf5c1e9f270141d601d116e1df33bf9df512f495ee06647a9cc    1361\n",
       "cd04ec2726dd58a8c753e0d6423e57716fd9ebcf2f14ed6012e7e5bea016b4d6    1237\n",
       "55d15396193dfd45836af3a6269a079efea339e875eff42cc0c228b002548a9d    1208\n",
       "c140410d72a41ee5e2e3ba3d7f5a860f337f1b5e41c27cf9bda5517c8774f8fa    1170\n",
       "8df45859ccd71ef1e48e2ee9d1c65d5728c31c46ae957d659fa4e5c3af6cc076    1169\n",
       "03d0011487606c37c1b1ed147fc72f285a50c05f00b9712e0fc3da400c864296    1157\n",
       "6cc121e5cc202d2bf344ffe795002bdbf87178054bcda2e57161f0ef810a4b55    1143\n",
       "Name: price, dtype: int64"
      ]
     },
     "execution_count": 24,
     "metadata": {},
     "output_type": "execute_result"
    }
   ],
   "source": [
    "transactions_byid.sort_values(by='price', ascending=False)['price'][:10]"
   ]
  },
  {
   "cell_type": "markdown",
   "id": "0a48faaf",
   "metadata": {
    "papermill": {
     "duration": 0.062005,
     "end_time": "2022-02-27T12:30:21.780908",
     "exception": false,
     "start_time": "2022-02-27T12:30:21.718903",
     "status": "completed"
    },
    "tags": []
   },
   "source": [
    "**<span style=\"color:#023e8a;\"> However, comparing prices inside groups is more accurate, because accessories and trousers prices may vary largerly. </span>**"
   ]
  },
  {
   "cell_type": "markdown",
   "id": "491ddac2",
   "metadata": {
    "papermill": {
     "duration": 0.061964,
     "end_time": "2022-02-27T12:30:21.906067",
     "exception": false,
     "start_time": "2022-02-27T12:30:21.844103",
     "status": "completed"
    },
    "tags": []
   },
   "source": [
    "**<span style=\"color:#023e8a;\"> Get subset from articles and merge it to transactions. </span>**"
   ]
  },
  {
   "cell_type": "code",
   "execution_count": 25,
   "id": "75ae6a42",
   "metadata": {
    "papermill": {
     "duration": 0.079557,
     "end_time": "2022-02-27T12:30:22.051302",
     "exception": false,
     "start_time": "2022-02-27T12:30:21.971745",
     "status": "completed"
    },
    "tags": []
   },
   "outputs": [],
   "source": [
    "articles_for_merge = articles[['article_id', 'prod_name', 'product_type_name', 'product_group_name', 'index_name']]"
   ]
  },
  {
   "cell_type": "code",
   "execution_count": 26,
   "id": "c4cc18b1",
   "metadata": {
    "papermill": {
     "duration": 10.984066,
     "end_time": "2022-02-27T12:30:33.098623",
     "exception": false,
     "start_time": "2022-02-27T12:30:22.114557",
     "status": "completed"
    },
    "tags": []
   },
   "outputs": [],
   "source": [
    "articles_for_merge = transactions[['customer_id', 'article_id', 'price', 't_dat']].merge(articles_for_merge, on='article_id', how='left')"
   ]
  },
  {
   "cell_type": "markdown",
   "id": "b0a2855c",
   "metadata": {
    "papermill": {
     "duration": 0.061816,
     "end_time": "2022-02-27T12:30:33.226966",
     "exception": false,
     "start_time": "2022-02-27T12:30:33.165150",
     "status": "completed"
    },
    "tags": []
   },
   "source": [
    "**<span style=\"color:#023e8a;\"> Here we see outliers for group name prices. Lower/Upper/Full body have a huge price variance. I guess it could be like some unique collections, relative to casual ones. Some high price articles even belong to accessories group.</span>**"
   ]
  },
  {
   "cell_type": "code",
   "execution_count": 27,
   "id": "d56b876c",
   "metadata": {
    "papermill": {
     "duration": 29.987058,
     "end_time": "2022-02-27T12:31:03.276184",
     "exception": false,
     "start_time": "2022-02-27T12:30:33.289126",
     "status": "completed"
    },
    "tags": []
   },
   "outputs": [],
   "source": [
    "# sns.set_style(\"darkgrid\")\n",
    "# f, ax = plt.subplots(figsize=(25,18))\n",
    "# ax = sns.boxplot(data=articles_for_merge, x='price', y='product_group_name')\n",
    "# ax.set_xlabel('Price outliers', fontsize=22)\n",
    "# ax.set_ylabel('Index names', fontsize=22)\n",
    "# ax.xaxis.set_tick_params(labelsize=22)\n",
    "# ax.yaxis.set_tick_params(labelsize=22)\n",
    "\n",
    "# plt.show()"
   ]
  },
  {
   "cell_type": "markdown",
   "id": "c8e64d9e",
   "metadata": {
    "papermill": {
     "duration": 0.065256,
     "end_time": "2022-02-27T12:31:03.407575",
     "exception": false,
     "start_time": "2022-02-27T12:31:03.342319",
     "status": "completed"
    },
    "tags": []
   },
   "source": [
    "**<span style=\"color:#023e8a;\"> Then look at boxplot prices according to accessories product group and find the reasons of high prices inside group.</span>**\n",
    "\n",
    "**<span style=\"color:#023e8a;\"> The largest outliers can be found among bags, which is logical enough. In addition, scarves and other accessories have articles with prices highly contrasting to the rest of garments.</span>**"
   ]
  },
  {
   "cell_type": "code",
   "execution_count": 28,
   "id": "59c8429f",
   "metadata": {
    "papermill": {
     "duration": 13.885575,
     "end_time": "2022-02-27T12:31:17.358221",
     "exception": false,
     "start_time": "2022-02-27T12:31:03.472646",
     "status": "completed"
    },
    "tags": []
   },
   "outputs": [],
   "source": [
    "# sns.set_style(\"darkgrid\")\n",
    "# f, ax = plt.subplots(figsize=(25,18))\n",
    "_ = articles_for_merge[articles_for_merge['product_group_name'] == 'Accessories']\n",
    "# ax = sns.boxplot(data=_, x='price', y='product_type_name')\n",
    "# ax.set_xlabel('Price outliers', fontsize=22)\n",
    "# ax.set_ylabel('Index names', fontsize=22)\n",
    "# ax.xaxis.set_tick_params(labelsize=22)\n",
    "# ax.yaxis.set_tick_params(labelsize=22)\n",
    "# del _\n",
    "\n",
    "# plt.show()"
   ]
  },
  {
   "cell_type": "markdown",
   "id": "35e33a8d",
   "metadata": {
    "papermill": {
     "duration": 0.073608,
     "end_time": "2022-02-27T12:31:17.506287",
     "exception": false,
     "start_time": "2022-02-27T12:31:17.432679",
     "status": "completed"
    },
    "tags": []
   },
   "source": [
    "**<span style=\"color:#023e8a;\"> The index with the highest mean price is Ladieswear. With the lowest - children. </span>**"
   ]
  },
  {
   "cell_type": "code",
   "execution_count": 29,
   "id": "33fd9b9f",
   "metadata": {
    "papermill": {
     "duration": 4.406646,
     "end_time": "2022-02-27T12:31:21.987484",
     "exception": false,
     "start_time": "2022-02-27T12:31:17.580838",
     "status": "completed"
    },
    "tags": []
   },
   "outputs": [],
   "source": [
    "articles_index = articles_for_merge[['index_name', 'price']].groupby('index_name').mean()\n",
    "# sns.set_style(\"darkgrid\")\n",
    "# f, ax = plt.subplots(figsize=(10,5))\n",
    "# ax = sns.barplot(x=articles_index.price, y=articles_index.index, color='orange', alpha=0.8)\n",
    "# ax.set_xlabel('Price by index')\n",
    "# ax.set_ylabel('Index')\n",
    "# plt.show()"
   ]
  },
  {
   "cell_type": "markdown",
   "id": "80bf9c26",
   "metadata": {
    "papermill": {
     "duration": 0.073333,
     "end_time": "2022-02-27T12:31:22.136517",
     "exception": false,
     "start_time": "2022-02-27T12:31:22.063184",
     "status": "completed"
    },
    "tags": []
   },
   "source": [
    "**<span style=\"color:#023e8a;\"> Stationery has the lowest mean price, the highest - shoes. </span>**"
   ]
  },
  {
   "cell_type": "code",
   "execution_count": 30,
   "id": "11746afc",
   "metadata": {
    "papermill": {
     "duration": 4.623348,
     "end_time": "2022-02-27T12:31:26.835328",
     "exception": false,
     "start_time": "2022-02-27T12:31:22.211980",
     "status": "completed"
    },
    "tags": []
   },
   "outputs": [],
   "source": [
    "articles_index = articles_for_merge[['product_group_name', 'price']].groupby('product_group_name').mean()\n",
    "# sns.set_style(\"darkgrid\")\n",
    "# f, ax = plt.subplots(figsize=(10,5))\n",
    "# ax = sns.barplot(x=articles_index.price, y=articles_index.index, color='orange', alpha=0.8)\n",
    "# ax.set_xlabel('Price by product group')\n",
    "# ax.set_ylabel('Product group')\n",
    "# plt.show()"
   ]
  },
  {
   "cell_type": "markdown",
   "id": "f0b892d5",
   "metadata": {
    "papermill": {
     "duration": 0.076763,
     "end_time": "2022-02-27T12:31:26.989574",
     "exception": false,
     "start_time": "2022-02-27T12:31:26.912811",
     "status": "completed"
    },
    "tags": []
   },
   "source": [
    "**<span style=\"color:#023e8a;\"> Now check the mean price change in time for top 5 product groups by mean price: </span>**\n",
    ">`Shoes`  \n",
    ">`Garment Full body`  \n",
    ">`Bags`  \n",
    ">`Garment Lower body`  \n",
    ">`Underwear/nightwear`  "
   ]
  },
  {
   "cell_type": "code",
   "execution_count": 31,
   "id": "5a396ede",
   "metadata": {
    "papermill": {
     "duration": 8.547917,
     "end_time": "2022-02-27T12:31:35.616563",
     "exception": false,
     "start_time": "2022-02-27T12:31:27.068646",
     "status": "completed"
    },
    "tags": []
   },
   "outputs": [],
   "source": [
    "articles_for_merge['t_dat'] = pd.to_datetime(articles_for_merge['t_dat'])"
   ]
  },
  {
   "cell_type": "code",
   "execution_count": 32,
   "id": "7f049da6",
   "metadata": {
    "papermill": {
     "duration": 28.074261,
     "end_time": "2022-02-27T12:32:03.768111",
     "exception": false,
     "start_time": "2022-02-27T12:31:35.693850",
     "status": "completed"
    },
    "tags": []
   },
   "outputs": [],
   "source": [
    "product_list = ['Shoes', 'Garment Full body', 'Bags', 'Garment Lower body', 'Underwear/nightwear']\n",
    "# colors = ['cadetblue', 'orange', 'mediumspringgreen', 'tomato', 'lightseagreen']\n",
    "k = 0\n",
    "# f, ax = plt.subplots(3, 2, figsize=(20, 15))\n",
    "# for i in range(3):\n",
    "#     for j in range(2):\n",
    "#         try:\n",
    "#             product = product_list[k]\n",
    "#             articles_for_merge_product = articles_for_merge[articles_for_merge.product_group_name == product_list[k]]\n",
    "#             series_mean = articles_for_merge_product[['t_dat', 'price']].groupby(pd.Grouper(key=\"t_dat\", freq='M')).mean().fillna(0)\n",
    "#             series_std = articles_for_merge_product[['t_dat', 'price']].groupby(pd.Grouper(key=\"t_dat\", freq='M')).std().fillna(0)\n",
    "#             # ax[i, j].plot(series_mean, linewidth=4, color=colors[k])\n",
    "#             # ax[i, j].fill_between(series_mean.index, (series_mean.values-2*series_std.values).ravel(), \n",
    "#             #                  (series_mean.values+2*series_std.values).ravel(), color=colors[k], alpha=.1)\n",
    "#             # ax[i, j].set_title(f'Mean {product_list[k]} price in time')\n",
    "#             # ax[i, j].set_xlabel('month')\n",
    "#             # ax[i, j].set_xlabel(f'{product_list[k]}')\n",
    "#             k += 1\n",
    "#         except IndexError:\n",
    "#             aa = 0\n",
    "# plt.show()"
   ]
  },
  {
   "cell_type": "markdown",
   "id": "1629d188",
   "metadata": {
    "papermill": {
     "duration": 0.083078,
     "end_time": "2022-02-27T12:32:03.935158",
     "exception": false,
     "start_time": "2022-02-27T12:32:03.852080",
     "status": "completed"
    },
    "tags": []
   },
   "source": [
    "## **<span id=\"Images\" style=\"color:#023e8a;\">5. Images with description and price</span>**"
   ]
  },
  {
   "cell_type": "markdown",
   "id": "42a2756a",
   "metadata": {
    "papermill": {
     "duration": 0.084511,
     "end_time": "2022-02-27T12:32:04.103826",
     "exception": false,
     "start_time": "2022-02-27T12:32:04.019315",
     "status": "completed"
    },
    "tags": []
   },
   "source": [
    "[**<span style=\"color:#FEF1FE;background-color:#023e8a;border-radius: 5px;padding: 2px\">Go to Table of Content</span>**](#Content)"
   ]
  },
  {
   "cell_type": "markdown",
   "id": "99e772d7",
   "metadata": {
    "papermill": {
     "duration": 0.082435,
     "end_time": "2022-02-27T12:32:04.269912",
     "exception": false,
     "start_time": "2022-02-27T12:32:04.187477",
     "status": "completed"
    },
    "tags": []
   },
   "source": [
    "**<span style=\"color:#023e8a;\"> Let's check the last purchases by max price and by min price </span>**"
   ]
  },
  {
   "cell_type": "code",
   "execution_count": 33,
   "id": "7de4e391",
   "metadata": {
    "papermill": {
     "duration": 0.089671,
     "end_time": "2022-02-27T12:32:04.442439",
     "exception": false,
     "start_time": "2022-02-27T12:32:04.352768",
     "status": "completed"
    },
    "tags": []
   },
   "outputs": [],
   "source": [
    "import matplotlib.pyplot as plt\n",
    "import matplotlib.image as mpimg"
   ]
  },
  {
   "cell_type": "code",
   "execution_count": 34,
   "id": "2111bb11",
   "metadata": {
    "papermill": {
     "duration": 19.577591,
     "end_time": "2022-02-27T12:32:24.103228",
     "exception": false,
     "start_time": "2022-02-27T12:32:04.525637",
     "status": "completed"
    },
    "tags": []
   },
   "outputs": [],
   "source": [
    "max_price_ids = transactions[transactions.t_dat==transactions.t_dat.max()].sort_values('price', ascending=False).iloc[:5][['article_id', 'price']]\n",
    "min_price_ids = transactions[transactions.t_dat==transactions.t_dat.min()].sort_values('price', ascending=True).iloc[:5][['article_id', 'price']]"
   ]
  },
  {
   "cell_type": "markdown",
   "id": "d8137a21",
   "metadata": {
    "papermill": {
     "duration": 0.082527,
     "end_time": "2022-02-27T12:32:24.271266",
     "exception": false,
     "start_time": "2022-02-27T12:32:24.188739",
     "status": "completed"
    },
    "tags": []
   },
   "source": [
    "**<span style=\"color:#023e8a;\"> Photos with description and price (top 5 max) </span>**"
   ]
  },
  {
   "cell_type": "code",
   "execution_count": 35,
   "id": "d1245803",
   "metadata": {
    "papermill": {
     "duration": 1.979705,
     "end_time": "2022-02-27T12:32:26.334789",
     "exception": false,
     "start_time": "2022-02-27T12:32:24.355084",
     "status": "completed"
    },
    "tags": []
   },
   "outputs": [],
   "source": [
    "# f, ax = plt.subplots(1, 5, figsize=(20,10))\n",
    "i = 0\n",
    "for _, data in max_price_ids.iterrows():\n",
    "    desc = articles[articles['article_id'] == data['article_id']]['detail_desc'].iloc[0]\n",
    "    desc_list = desc.split(' ')\n",
    "    for j, elem in enumerate(desc_list):\n",
    "        if j > 0 and j % 5 == 0:\n",
    "            desc_list[j] = desc_list[j] + '\\n'\n",
    "    desc = ' '.join(desc_list)\n",
    "    # img = mpimg.imread(f'../input/h-and-m-personalized-fashion-recommendations/images/0{str(data.article_id)[:2]}/0{int(data.article_id)}.jpg')\n",
    "    # ax[i].imshow(img)\n",
    "    # ax[i].set_title(f'price: {data.price:.2f}')\n",
    "    # ax[i].set_xticks([], [])\n",
    "    # ax[i].set_yticks([], [])\n",
    "    # ax[i].grid(False)\n",
    "    # ax[i].set_xlabel(desc, fontsize=10)\n",
    "    i += 1\n",
    "# plt.show()"
   ]
  },
  {
   "cell_type": "markdown",
   "id": "e47e7003",
   "metadata": {
    "papermill": {
     "duration": 0.090971,
     "end_time": "2022-02-27T12:32:26.517820",
     "exception": false,
     "start_time": "2022-02-27T12:32:26.426849",
     "status": "completed"
    },
    "tags": []
   },
   "source": [
    "**<span style=\"color:#023e8a;\"> Photos with description and price (top 5 min) </span>**"
   ]
  },
  {
   "cell_type": "code",
   "execution_count": 36,
   "id": "ddb69c5a",
   "metadata": {
    "papermill": {
     "duration": 1.855493,
     "end_time": "2022-02-27T12:32:28.472681",
     "exception": false,
     "start_time": "2022-02-27T12:32:26.617188",
     "status": "completed"
    },
    "tags": []
   },
   "outputs": [],
   "source": [
    "# f, ax = plt.subplots(1, 5, figsize=(20,10))\n",
    "i = 0\n",
    "for _, data in min_price_ids.iterrows():\n",
    "    desc = articles[articles['article_id'] == data['article_id']]['detail_desc'].iloc[0]\n",
    "    desc_list = desc.split(' ')\n",
    "    for j, elem in enumerate(desc_list):\n",
    "        if j > 0 and j % 4 == 0:\n",
    "            desc_list[j] = desc_list[j] + '\\n'\n",
    "    desc = ' '.join(desc_list)\n",
    "    # img = mpimg.imread(f'../input/h-and-m-personalized-fashion-recommendations/images/0{str(data.article_id)[:2]}/0{int(data.article_id)}.jpg')\n",
    "    # ax[i].imshow(img)\n",
    "    # ax[i].set_title(f'price: {data.price:.4f}')\n",
    "    # ax[i].set_xlabel(desc, fontsize=10)\n",
    "    # ax[i].set_xticks([], [])\n",
    "    # ax[i].set_yticks([], [])\n",
    "    # ax[i].grid(False)\n",
    "    i += 1\n",
    "# plt.axis('off')\n",
    "# plt.show()"
   ]
  },
  {
   "cell_type": "markdown",
   "id": "510608d4",
   "metadata": {
    "papermill": {
     "duration": 0.095219,
     "end_time": "2022-02-27T12:32:28.663836",
     "exception": false,
     "start_time": "2022-02-27T12:32:28.568617",
     "status": "completed"
    },
    "tags": []
   },
   "source": [
    "## **<center><span style=\"color:#FEF1FE;background-color:#023e8a;border-radius: 5px;padding: 5px\">Thanks for reading! If you find this notebook useful or interesting, please, support with an upvote :)</span></center>**"
   ]
  }
 ],
 "metadata": {
  "kernelspec": {
   "display_name": "Python 3 (ipykernel)",
   "language": "python",
   "name": "python3"
  },
  "language_info": {
   "codemirror_mode": {
    "name": "ipython",
    "version": 3
   },
   "file_extension": ".py",
   "mimetype": "text/x-python",
   "name": "python",
   "nbconvert_exporter": "python",
   "pygments_lexer": "ipython3",
   "version": "3.10.13"
  },
  "papermill": {
   "default_parameters": {},
   "duration": 262.344258,
   "end_time": "2022-02-27T12:32:31.373049",
   "environment_variables": {},
   "exception": null,
   "input_path": "__notebook__.ipynb",
   "output_path": "__notebook__.ipynb",
   "parameters": {},
   "start_time": "2022-02-27T12:28:09.028791",
   "version": "2.3.3"
  }
 },
 "nbformat": 4,
 "nbformat_minor": 5
}
