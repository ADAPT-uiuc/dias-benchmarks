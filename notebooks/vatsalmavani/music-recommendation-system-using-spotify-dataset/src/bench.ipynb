{
 "cells": [
  {
   "attachments": {
    "image.png": {
     "image/png": "[encoded data removed]"
    }
   },
   "cell_type": "markdown",
   "metadata": {},
   "source": [
    "# **Building Music Recommendation System using Spotify Dataset**\n",
    "\n",
    "![image.png](attachment:image.png)\n",
    "\n",
    "Hello and welcome to my kernel. In this kernel, I have created Music Recommendation System using Spotify Dataset. To do this, I presented some of the visualization processes to understand data and done some EDA(Exploratory Data Analysis) so we can select features that are relevant to create a Recommendation System."
   ]
  },
  {
   "cell_type": "markdown",
   "metadata": {},
   "source": [
    "# **Import Libraries**"
   ]
  },
  {
   "cell_type": "code",
   "execution_count": 3,
   "metadata": {},
   "outputs": [],
   "source": [
    "import os\n",
    "import numpy as np\n",
    "import pandas as pd\n",
    "\n",
    "# import seaborn as sns\n",
    "# import plotly.express as px \n",
    "# import matplotlib.pyplot as plt\n",
    "%matplotlib inline\n",
    "\n",
    "from sklearn.cluster import KMeans\n",
    "from sklearn.preprocessing import StandardScaler\n",
    "from sklearn.pipeline import Pipeline\n",
    "from sklearn.manifold import TSNE\n",
    "from sklearn.decomposition import PCA\n",
    "from sklearn.metrics import euclidean_distances\n",
    "from scipy.spatial.distance import cdist\n",
    "\n",
    "import warnings\n",
    "warnings.filterwarnings(\"ignore\")"
   ]
  },
  {
   "cell_type": "markdown",
   "metadata": {},
   "source": [
    "# **Read Data**"
   ]
  },
  {
   "cell_type": "code",
   "execution_count": 4,
   "metadata": {},
   "outputs": [],
   "source": [
    "data = pd.read_csv(\"../input/data.csv\")\n",
    "genre_data = pd.read_csv('../input/data_by_genres.csv')\n",
    "year_data = pd.read_csv('../input/data_by_year.csv')"
   ]
  },
  {
   "cell_type": "code",
   "execution_count": 5,
   "metadata": {
    "_kg_hide-output": true
   },
   "outputs": [
    {
     "name": "stdout",
     "output_type": "stream",
     "text": [
      "<class 'pandas.core.frame.DataFrame'>\n",
      "RangeIndex: 170653 entries, 0 to 170652\n",
      "Data columns (total 19 columns):\n",
      " #   Column            Non-Null Count   Dtype  \n",
      "---  ------            --------------   -----  \n",
      " 0   valence           170653 non-null  float64\n",
      " 1   year              170653 non-null  int64  \n",
      " 2   acousticness      170653 non-null  float64\n",
      " 3   artists           170653 non-null  object \n",
      " 4   danceability      170653 non-null  float64\n",
      " 5   duration_ms       170653 non-null  int64  \n",
      " 6   energy            170653 non-null  float64\n",
      " 7   explicit          170653 non-null  int64  \n",
      " 8   id                170653 non-null  object \n",
      " 9   instrumentalness  170653 non-null  float64\n",
      " 10  key               170653 non-null  int64  \n",
      " 11  liveness          170653 non-null  float64\n",
      " 12  loudness          170653 non-null  float64\n",
      " 13  mode              170653 non-null  int64  \n",
      " 14  name              170653 non-null  object \n",
      " 15  popularity        170653 non-null  int64  \n",
      " 16  release_date      170653 non-null  object \n",
      " 17  speechiness       170653 non-null  float64\n",
      " 18  tempo             170653 non-null  float64\n",
      "dtypes: float64(9), int64(6), object(4)\n",
      "memory usage: 24.7+ MB\n",
      "None\n"
     ]
    }
   ],
   "source": [
    "print(data.info())"
   ]
  },
  {
   "cell_type": "code",
   "execution_count": 6,
   "metadata": {
    "_kg_hide-output": true
   },
   "outputs": [
    {
     "name": "stdout",
     "output_type": "stream",
     "text": [
      "<class 'pandas.core.frame.DataFrame'>\n",
      "RangeIndex: 2973 entries, 0 to 2972\n",
      "Data columns (total 14 columns):\n",
      " #   Column            Non-Null Count  Dtype  \n",
      "---  ------            --------------  -----  \n",
      " 0   mode              2973 non-null   int64  \n",
      " 1   genres            2973 non-null   object \n",
      " 2   acousticness      2973 non-null   float64\n",
      " 3   danceability      2973 non-null   float64\n",
      " 4   duration_ms       2973 non-null   float64\n",
      " 5   energy            2973 non-null   float64\n",
      " 6   instrumentalness  2973 non-null   float64\n",
      " 7   liveness          2973 non-null   float64\n",
      " 8   loudness          2973 non-null   float64\n",
      " 9   speechiness       2973 non-null   float64\n",
      " 10  tempo             2973 non-null   float64\n",
      " 11  valence           2973 non-null   float64\n",
      " 12  popularity        2973 non-null   float64\n",
      " 13  key               2973 non-null   int64  \n",
      "dtypes: float64(11), int64(2), object(1)\n",
      "memory usage: 325.3+ KB\n",
      "None\n"
     ]
    }
   ],
   "source": [
    "print(genre_data.info())"
   ]
  },
  {
   "cell_type": "code",
   "execution_count": 7,
   "metadata": {
    "_kg_hide-output": true
   },
   "outputs": [
    {
     "name": "stdout",
     "output_type": "stream",
     "text": [
      "<class 'pandas.core.frame.DataFrame'>\n",
      "RangeIndex: 100 entries, 0 to 99\n",
      "Data columns (total 14 columns):\n",
      " #   Column            Non-Null Count  Dtype  \n",
      "---  ------            --------------  -----  \n",
      " 0   mode              100 non-null    int64  \n",
      " 1   year              100 non-null    int64  \n",
      " 2   acousticness      100 non-null    float64\n",
      " 3   danceability      100 non-null    float64\n",
      " 4   duration_ms       100 non-null    float64\n",
      " 5   energy            100 non-null    float64\n",
      " 6   instrumentalness  100 non-null    float64\n",
      " 7   liveness          100 non-null    float64\n",
      " 8   loudness          100 non-null    float64\n",
      " 9   speechiness       100 non-null    float64\n",
      " 10  tempo             100 non-null    float64\n",
      " 11  valence           100 non-null    float64\n",
      " 12  popularity        100 non-null    float64\n",
      " 13  key               100 non-null    int64  \n",
      "dtypes: float64(11), int64(3)\n",
      "memory usage: 11.1 KB\n",
      "None\n"
     ]
    }
   ],
   "source": [
    "print(year_data.info())"
   ]
  },
  {
   "cell_type": "markdown",
   "metadata": {},
   "source": [
    "We are going to check for all the analysis with the target as **'popularity'**. Before going to do that let's check for the Feature Correlation by considering a few features and for that, I'm going to use the **yellowbrick** package. You can learn more about it from the [documentation](https://www.scikit-yb.org/en/latest/index.html)."
   ]
  },
  {
   "cell_type": "code",
   "execution_count": 8,
   "metadata": {
    "_kg_hide-input": true
   },
   "outputs": [],
   "source": [
    "# from yellowbrick.target import FeatureCorrelation\n",
    "\n",
    "feature_names = ['acousticness', 'danceability', 'energy', 'instrumentalness',\n",
    "       'liveness', 'loudness', 'speechiness', 'tempo', 'valence','duration_ms','explicit','key','mode','year']\n",
    "\n",
    "X, y = data[feature_names], data['popularity']\n",
    "\n",
    "# Create a list of the feature names\n",
    "features = np.array(feature_names)\n",
    "\n",
    "# Instantiate the visualizer\n",
    "# visualizer = FeatureCorrelation(labels=features)\n",
    "\n",
    "# plt.rcParams['figure.figsize']=(20,20)\n",
    "# visualizer.fit(X, y)     # Fit the data to the visualizer\n",
    "# visualizer.show()"
   ]
  },
  {
   "cell_type": "markdown",
   "metadata": {},
   "source": [
    "# **Data Understanding by Visualization and EDA**"
   ]
  },
  {
   "cell_type": "markdown",
   "metadata": {},
   "source": [
    "# **Music Over Time**\n",
    "\n",
    "Using the data grouped by year, we can understand how the overall sound of music has changed from 1921 to 2020."
   ]
  },
  {
   "cell_type": "code",
   "execution_count": 9,
   "metadata": {
    "_kg_hide-input": true
   },
   "outputs": [],
   "source": [
    "def get_decade(year):\n",
    "    period_start = int(year/10) * 10\n",
    "    decade = '{}s'.format(period_start)\n",
    "    return decade\n",
    "\n",
    "data['decade'] = data['year'].apply(get_decade)\n",
    "\n",
    "# sns.set(rc={'figure.figsize':(11 ,6)})\n",
    "# sns.countplot(data['decade'])"
   ]
  },
  {
   "cell_type": "code",
   "execution_count": 10,
   "metadata": {
    "_kg_hide-input": true
   },
   "outputs": [],
   "source": [
    "sound_features = ['acousticness', 'danceability', 'energy', 'instrumentalness', 'liveness', 'valence']\n",
    "# fig = px.line(year_data, x='year', y=sound_features)\n",
    "# fig.show()"
   ]
  },
  {
   "cell_type": "markdown",
   "metadata": {},
   "source": [
    "# **Characteristics of Different Genres**\n",
    "\n",
    "This dataset contains the audio features for different songs along with the audio features for different genres. We can use this information to compare different genres and understand their unique differences in sound."
   ]
  },
  {
   "cell_type": "code",
   "execution_count": 11,
   "metadata": {
    "_kg_hide-input": true
   },
   "outputs": [],
   "source": [
    "top10_genres = genre_data.nlargest(10, 'popularity')\n",
    "\n",
    "# fig = px.bar(top10_genres, x='genres', y=['valence', 'energy', 'danceability', 'acousticness'], barmode='group')\n",
    "# fig.show()"
   ]
  },
  {
   "cell_type": "markdown",
   "metadata": {},
   "source": [
    "# **Clustering Genres with K-Means**\n",
    "\n",
    "Here, the simple K-means clustering algorithm is used to divide the genres in this dataset into ten clusters based on the numerical audio features of each genres."
   ]
  },
  {
   "cell_type": "code",
   "execution_count": 12,
   "metadata": {},
   "outputs": [],
   "source": [
    "from sklearn.cluster import KMeans\n",
    "from sklearn.preprocessing import StandardScaler\n",
    "from sklearn.pipeline import Pipeline\n",
    "\n",
    "cluster_pipeline = Pipeline([('scaler', StandardScaler()), ('kmeans', KMeans(n_clusters=10, n_jobs=-1))])\n",
    "X = genre_data.select_dtypes(np.number)\n",
    "cluster_pipeline.fit(X)\n",
    "genre_data['cluster'] = cluster_pipeline.predict(X)"
   ]
  },
  {
   "cell_type": "code",
   "execution_count": 13,
   "metadata": {
    "_kg_hide-output": false
   },
   "outputs": [],
   "source": [
    "# Visualizing the Clusters with t-SNE\n",
    "\n",
    "# from sklearn.manifold import TSNE\n",
    "\n",
    "# tsne_pipeline = Pipeline([('scaler', StandardScaler()), ('tsne', TSNE(n_components=2, verbose=1))])\n",
    "# genre_embedding = tsne_pipeline.fit_transform(X)\n",
    "# projection = pd.DataFrame(columns=['x', 'y'], data=genre_embedding)\n",
    "# projection['genres'] = genre_data['genres']\n",
    "# projection['cluster'] = genre_data['cluster']\n",
    "\n",
    "# fig = px.scatter(\n",
    "#     projection, x='x', y='y', color='cluster', hover_data=['x', 'y', 'genres'])\n",
    "# fig.show()"
   ]
  },
  {
   "cell_type": "markdown",
   "metadata": {},
   "source": [
    "# **Clustering Songs with K-Means**"
   ]
  },
  {
   "cell_type": "code",
   "execution_count": 14,
   "metadata": {
    "_kg_hide-output": true
   },
   "outputs": [],
   "source": [
    "song_cluster_pipeline = Pipeline([('scaler', StandardScaler()), \n",
    "                                  ('kmeans', KMeans(n_clusters=20, \n",
    "                                   verbose=False, n_jobs=4))\n",
    "                                 ], verbose=False)\n",
    "\n",
    "X = data.select_dtypes(np.number)\n",
    "number_cols = list(X.columns)\n",
    "song_cluster_pipeline.fit(X)\n",
    "song_cluster_labels = song_cluster_pipeline.predict(X)\n",
    "data['cluster_label'] = song_cluster_labels"
   ]
  },
  {
   "cell_type": "code",
   "execution_count": 15,
   "metadata": {
    "_kg_hide-output": false
   },
   "outputs": [],
   "source": [
    "# Visualizing the Clusters with PCA\n",
    "\n",
    "# from sklearn.decomposition import PCA\n",
    "\n",
    "# pca_pipeline = Pipeline([('scaler', StandardScaler()), ('PCA', PCA(n_components=2))])\n",
    "# song_embedding = pca_pipeline.fit_transform(X)\n",
    "# projection = pd.DataFrame(columns=['x', 'y'], data=song_embedding)\n",
    "# projection['title'] = data['name']\n",
    "# projection['cluster'] = data['cluster_label']\n",
    "\n",
    "# fig = px.scatter(\n",
    "#     projection, x='x', y='y', color='cluster', hover_data=['x', 'y', 'title'])\n",
    "# fig.show()"
   ]
  },
  {
   "cell_type": "markdown",
   "metadata": {},
   "source": [
    "# **Build Recommender System**\n",
    "\n",
    "* Based on the analysis and visualizations, it’s clear that similar genres tend to have data points that are located close to each other while similar types of songs are also clustered together.\n",
    "* This observation makes perfect sense. Similar genres will sound similar and will come from similar time periods while the same can be said for songs within those genres. We can use this idea to build a recommendation system by taking the data points of the songs a user has listened to and recommending songs corresponding to nearby data points.\n",
    "* [Spotipy](https://spotipy.readthedocs.io/en/2.16.1/) is a Python client for the Spotify Web API that makes it easy for developers to fetch data and query Spotify’s catalog for songs. You have to install using `pip install spotipy`\n",
    "* After installing Spotipy, you will need to create an app on the [Spotify Developer’s page](https://developer.spotify.com/) and save your Client ID and secret key."
   ]
  },
  {
   "cell_type": "code",
   "execution_count": 22,
   "metadata": {},
   "outputs": [],
   "source": [
    "# !pip install spotipy"
   ]
  },
  {
   "cell_type": "code",
   "execution_count": 23,
   "metadata": {},
   "outputs": [],
   "source": [
    "# import spotipy\n",
    "# from spotipy.oauth2 import SpotifyClientCredentials\n",
    "# from collections import defaultdict\n",
    "\n",
    "# sp = spotipy.Spotify(auth_manager=SpotifyClientCredentials(client_id=os.environ[\"SPOTIFY_CLIENT_ID\"],\n",
    "#                                                            client_secret=os.environ[\"SPOTIFY_CLIENT_SECRET\"]))\n",
    "\n",
    "# def find_song(name, year):\n",
    "#     song_data = defaultdict()\n",
    "#     results = sp.search(q= 'track: {} year: {}'.format(name,year), limit=1)\n",
    "#     if results['tracks']['items'] == []:\n",
    "#         return None\n",
    "\n",
    "#     results = results['tracks']['items'][0]\n",
    "#     track_id = results['id']\n",
    "#     audio_features = sp.audio_features(track_id)[0]\n",
    "\n",
    "#     song_data['name'] = [name]\n",
    "#     song_data['year'] = [year]\n",
    "#     song_data['explicit'] = [int(results['explicit'])]\n",
    "#     song_data['duration_ms'] = [results['duration_ms']]\n",
    "#     song_data['popularity'] = [results['popularity']]\n",
    "\n",
    "#     for key, value in audio_features.items():\n",
    "#         song_data[key] = value\n",
    "\n",
    "#     return pd.DataFrame(song_data)"
   ]
  },
  {
   "cell_type": "code",
   "execution_count": 18,
   "metadata": {},
   "outputs": [],
   "source": [
    "# from collections import defaultdict\n",
    "# from sklearn.metrics import euclidean_distances\n",
    "# from scipy.spatial.distance import cdist\n",
    "# import difflib\n",
    "\n",
    "# number_cols = ['valence', 'year', 'acousticness', 'danceability', 'duration_ms', 'energy', 'explicit',\n",
    "#  'instrumentalness', 'key', 'liveness', 'loudness', 'mode', 'popularity', 'speechiness', 'tempo']\n",
    "\n",
    "\n",
    "# def get_song_data(song, spotify_data):\n",
    "    \n",
    "#     try:\n",
    "#         song_data = spotify_data[(spotify_data['name'] == song['name']) \n",
    "#                                 & (spotify_data['year'] == song['year'])].iloc[0]\n",
    "#         return song_data\n",
    "    \n",
    "#     except IndexError:\n",
    "#         return find_song(song['name'], song['year'])\n",
    "        \n",
    "\n",
    "# def get_mean_vector(song_list, spotify_data):\n",
    "    \n",
    "#     song_vectors = []\n",
    "    \n",
    "#     for song in song_list:\n",
    "#         song_data = get_song_data(song, spotify_data)\n",
    "#         if song_data is None:\n",
    "#             print('Warning: {} does not exist in Spotify or in database'.format(song['name']))\n",
    "#             continue\n",
    "#         song_vector = song_data[number_cols].values\n",
    "#         song_vectors.append(song_vector)  \n",
    "    \n",
    "#     song_matrix = np.array(list(song_vectors))\n",
    "#     return np.mean(song_matrix, axis=0)\n",
    "\n",
    "\n",
    "# def flatten_dict_list(dict_list):\n",
    "    \n",
    "#     flattened_dict = defaultdict()\n",
    "#     for key in dict_list[0].keys():\n",
    "#         flattened_dict[key] = []\n",
    "    \n",
    "#     for dictionary in dict_list:\n",
    "#         for key, value in dictionary.items():\n",
    "#             flattened_dict[key].append(value)\n",
    "            \n",
    "#     return flattened_dict\n",
    "\n",
    "\n",
    "# def recommend_songs( song_list, spotify_data, n_songs=10):\n",
    "    \n",
    "#     metadata_cols = ['name', 'year', 'artists']\n",
    "#     song_dict = flatten_dict_list(song_list)\n",
    "    \n",
    "#     song_center = get_mean_vector(song_list, spotify_data)\n",
    "#     scaler = song_cluster_pipeline.steps[0][1]\n",
    "#     scaled_data = scaler.transform(spotify_data[number_cols])\n",
    "#     scaled_song_center = scaler.transform(song_center.reshape(1, -1))\n",
    "#     distances = cdist(scaled_song_center, scaled_data, 'cosine')\n",
    "#     index = list(np.argsort(distances)[:, :n_songs][0])\n",
    "    \n",
    "#     rec_songs = spotify_data.iloc[index]\n",
    "#     rec_songs = rec_songs[~rec_songs['name'].isin(song_dict['name'])]\n",
    "#     return rec_songs[metadata_cols].to_dict(orient='records')"
   ]
  },
  {
   "cell_type": "code",
   "execution_count": 24,
   "metadata": {},
   "outputs": [],
   "source": [
    "# recommend_songs([{'name': 'Come As You Are', 'year':1991},\n",
    "#                 {'name': 'Smells Like Teen Spirit', 'year': 1991},\n",
    "#                 {'name': 'Lithium', 'year': 1992},\n",
    "#                 {'name': 'All Apologies', 'year': 1993},\n",
    "#                 {'name': 'Stay Away', 'year': 1993}],  data)"
   ]
  },
  {
   "cell_type": "markdown",
   "metadata": {},
   "source": [
    "* This last cell will gives you a recommendation list of songs like this,\n",
    "\n",
    "\n",
    "```\n",
    "[{'name': 'Life is a Highway - From \"Cars\"',\n",
    "  'year': 2009,\n",
    "  'artists': \"['Rascal Flatts']\"},\n",
    " {'name': 'Of Wolf And Man', 'year': 1991, 'artists': \"['Metallica']\"},\n",
    " {'name': 'Somebody Like You', 'year': 2002, 'artists': \"['Keith Urban']\"},\n",
    " {'name': 'Kayleigh', 'year': 1992, 'artists': \"['Marillion']\"},\n",
    " {'name': 'Little Secrets', 'year': 2009, 'artists': \"['Passion Pit']\"},\n",
    " {'name': 'No Excuses', 'year': 1994, 'artists': \"['Alice In Chains']\"},\n",
    " {'name': 'Corazón Mágico', 'year': 1995, 'artists': \"['Los Fugitivos']\"},\n",
    " {'name': 'If Today Was Your Last Day',\n",
    "  'year': 2008,\n",
    "  'artists': \"['Nickelback']\"},\n",
    " {'name': \"Let's Get Rocked\", 'year': 1992, 'artists': \"['Def Leppard']\"},\n",
    " {'name': \"Breakfast At Tiffany's\",\n",
    "  'year': 1995,\n",
    "  'artists': \"['Deep Blue Something']\"}]\n",
    "```\n",
    "\n",
    "\n",
    "\n",
    "* You can change the given songs list as per your choice."
   ]
  },
  {
   "cell_type": "code",
   "execution_count": null,
   "metadata": {},
   "outputs": [],
   "source": []
  }
 ],
 "metadata": {
  "kernelspec": {
   "display_name": "Python 3",
   "language": "python",
   "name": "python3"
  },
  "language_info": {
   "codemirror_mode": {
    "name": "ipython",
    "version": 3
   },
   "file_extension": ".py",
   "mimetype": "text/x-python",
   "name": "python",
   "nbconvert_exporter": "python",
   "pygments_lexer": "ipython3",
   "version": "3.8.8"
  }
 },
 "nbformat": 4,
 "nbformat_minor": 4
}
