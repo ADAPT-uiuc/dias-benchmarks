{
 "cells": [
  {
   "cell_type": "markdown",
   "id": "b7cd76eb",
   "metadata": {
    "papermill": {
     "duration": 0.043231,
     "end_time": "2023-10-21T18:22:24.732616",
     "exception": false,
     "start_time": "2023-10-21T18:22:24.689385",
     "status": "completed"
    },
    "tags": []
   },
   "source": [
    "# Overview"
   ]
  },
  {
   "cell_type": "markdown",
   "id": "6489ca9d",
   "metadata": {
    "execution": {
     "iopub.execute_input": "2023-10-21T16:57:44.396974Z",
     "iopub.status.busy": "2023-10-21T16:57:44.396502Z",
     "iopub.status.idle": "2023-10-21T16:57:44.442761Z",
     "shell.execute_reply": "2023-10-21T16:57:44.441233Z",
     "shell.execute_reply.started": "2023-10-21T16:57:44.396934Z"
    },
    "papermill": {
     "duration": 0.042278,
     "end_time": "2023-10-21T18:22:24.817912",
     "exception": false,
     "start_time": "2023-10-21T18:22:24.775634",
     "status": "completed"
    },
    "tags": []
   },
   "source": [
    "#### Welcome to this Kernel! In this dataset, we're on a mission to understand and predict house prices in King County, which includes Seattle. The data covers home sales between May 2014 and May 2015.\n",
    "\n",
    "#### Our main tool for this task is regression, a method that helps us figure out how different factors relate to house prices. It's like finding the puzzle pieces that fit together to explain the price of a house.\n",
    "\n",
    "#### We'll start with a basic model and gradually explore more advanced ones. Along the way, we'll use visuals and data analysis to guide us.\n",
    "\n",
    "**Replicating Workflow:** \n",
    "- Simulating corporate data analysis practices to extract actionable insights from the dataset.\n",
    "\n",
    "**Comprehensive Exploratory Data Analysis (EDA):** \n",
    "- Delving deep into data attributes, patterns, and distributions to inform decision-making.\n",
    "\n",
    "**Meticulous and Effective Feature Engineering:** \n",
    "- Crafting and enhancing input variables to boost predictive accuracy and model performance.\n",
    "\n",
    "**House Price Prediction through Regression Models:** \n",
    "- Utilizing models to foresee property values and trends in the King County real estate market."
   ]
  },
  {
   "cell_type": "markdown",
   "id": "25a785a5",
   "metadata": {
    "papermill": {
     "duration": 0.040926,
     "end_time": "2023-10-21T18:22:24.900109",
     "exception": false,
     "start_time": "2023-10-21T18:22:24.859183",
     "status": "completed"
    },
    "tags": []
   },
   "source": [
    "## _Table of Contents 📋_\n",
    "1. [Importing Libraries](#CH-1)\n",
    "2. [Data Importing](#CH-2)\n",
    "    * Data Quality\n",
    "        * Handling Duplicate Rows and Columns\n",
    "        * Missing Values\n",
    "        * Uniqueness\n",
    "    * Basic Modeification on DataFrame\n",
    "    * Data Describing\n",
    "    * Dataset Description\n",
    "    * Feature Definition\n",
    "3. [Exploratory Data Analysis](#CH-3)\n",
    "    * Correlation Matrix\n",
    "    * Univariate Analysis & Bi-variate Analysis\n",
    "    * Multi-Variate Analysis\n",
    "4. [Feature Engineering](#CH-4)\n",
    "    * Train-Test Split\n",
    "    * Outiler Detection and Treatment\n",
    "    * Feature Transformation\n",
    "    * Feature Scaling\n",
    "    * Feature Encoding\n",
    "5. [Linear Regression](#CH-5)\n",
    "    * Building Model\n",
    "    * Model Evaluation\n",
    "6. [Ridge Regression](#CH-6)\n",
    "    * Building Model + Cross-Validation + Hyper-Parameter Tuning\n",
    "    * Model Evaluation\n",
    "7. [Lasso Regression](#CH-7)\n",
    "    * Building Model + Cross-Validation + Hyper-Parameter Tuning\n",
    "    * Model Evaluation\n",
    "8. [Results and Discussion](#CH-8)\n",
    "    * Visualizing Model Performance\n",
    "    * Comparison of models\n",
    "9. [Way Forward](#CH-9)"
   ]
  },
  {
   "cell_type": "markdown",
   "id": "b9ed06b7",
   "metadata": {
    "papermill": {
     "duration": 0.041424,
     "end_time": "2023-10-21T18:22:25.048232",
     "exception": false,
     "start_time": "2023-10-21T18:22:25.006808",
     "status": "completed"
    },
    "tags": []
   },
   "source": [
    "<div style=\"color:white;\n",
    "           display:fill;\n",
    "           border-radius:20px;\n",
    "           background-color:#FFA500;\n",
    "           font-size:200%;\n",
    "           font-family:Verdana;\n",
    "           letter-spacing:1px\">\n",
    "<a class=\"anchor\" id=\"CH-1\"></a> \n",
    "<p style=\"padding: 10px;\n",
    "              color:white;\">\n",
    "              1. Importing Libraries 📚\n",
    "</p>\n",
    "</div>"
   ]
  },
  {
   "cell_type": "code",
   "execution_count": 1,
   "id": "35f19f66",
   "metadata": {
    "_cell_guid": "b1076dfc-b9ad-4769-8c92-a6c4dae69d19",
    "_uuid": "8f2839f25d086af736a60e9eeb907d3b93b6e0e5",
    "papermill": {
     "duration": 2.132703,
     "end_time": "2023-10-21T18:22:27.222136",
     "exception": false,
     "start_time": "2023-10-21T18:22:25.089433",
     "status": "completed"
    },
    "tags": []
   },
   "outputs": [
    {
     "name": "stderr",
     "output_type": "stream",
     "text": [
      "/home/damitha/anaconda3/lib/python3.8/site-packages/scipy/__init__.py:138: UserWarning: A NumPy version >=1.16.5 and <1.23.0 is required for this version of SciPy (detected version 1.24.4)\n",
      "  warnings.warn(f\"A NumPy version >={np_minversion} and <{np_maxversion} is required for this version of \"\n"
     ]
    }
   ],
   "source": [
    "import numpy as np\n",
    "import pandas as pd\n",
    "import seaborn as sns\n",
    "sns.set_style('darkgrid')\n",
    "import matplotlib.pyplot as plt\n",
    "%matplotlib inline\n",
    "\n",
    "import warnings\n",
    "warnings.filterwarnings(\"ignore\", category=FutureWarning)\n",
    "\n",
    "from scipy import stats\n",
    "import pylab"
   ]
  },
  {
   "cell_type": "markdown",
   "id": "d366fbbd",
   "metadata": {
    "papermill": {
     "duration": 0.041489,
     "end_time": "2023-10-21T18:22:27.305069",
     "exception": false,
     "start_time": "2023-10-21T18:22:27.263580",
     "status": "completed"
    },
    "tags": []
   },
   "source": [
    "<div style=\"color:white;\n",
    "           display:fill;\n",
    "           border-radius:20px;\n",
    "           background-color:#FFA500;\n",
    "           font-size:200%;\n",
    "           font-family:Verdana;\n",
    "           letter-spacing:1px\">\n",
    "<a class=\"anchor\" id=\"CH-2\"></a> \n",
    "<p style=\"padding: 10px;\n",
    "              color:white;\">\n",
    "              2. Data Import and Auditing 👨‍💻\n",
    "</p>\n",
    "</div>"
   ]
  },
  {
   "cell_type": "markdown",
   "id": "98359166",
   "metadata": {
    "papermill": {
     "duration": 0.040591,
     "end_time": "2023-10-21T18:22:27.387077",
     "exception": false,
     "start_time": "2023-10-21T18:22:27.346486",
     "status": "completed"
    },
    "tags": []
   },
   "source": [
    "<h2 align=\"left\"><font color='FF8C00'><u>Data Import</u></font></h2>"
   ]
  },
  {
   "cell_type": "code",
   "execution_count": 2,
   "id": "b849c78a",
   "metadata": {
    "papermill": {
     "duration": 0.166514,
     "end_time": "2023-10-21T18:22:27.596023",
     "exception": false,
     "start_time": "2023-10-21T18:22:27.429509",
     "status": "completed"
    },
    "tags": []
   },
   "outputs": [],
   "source": [
    "df = pd.read_csv('../input/kc_house_data.csv')"
   ]
  },
  {
   "cell_type": "markdown",
   "id": "4b18b907",
   "metadata": {
    "papermill": {
     "duration": 0.04171,
     "end_time": "2023-10-21T18:22:27.680065",
     "exception": false,
     "start_time": "2023-10-21T18:22:27.638355",
     "status": "completed"
    },
    "tags": []
   },
   "source": [
    "<h2 align=\"left\"><font color='FF8C00'><u>Data View</u></font></h2>"
   ]
  },
  {
   "cell_type": "code",
   "execution_count": 3,
   "id": "0b001967",
   "metadata": {
    "papermill": {
     "duration": 0.051343,
     "end_time": "2023-10-21T18:22:27.772798",
     "exception": false,
     "start_time": "2023-10-21T18:22:27.721455",
     "status": "completed"
    },
    "tags": []
   },
   "outputs": [
    {
     "data": {
      "text/plain": [
       "(21613, 21)"
      ]
     },
     "execution_count": 3,
     "metadata": {},
     "output_type": "execute_result"
    }
   ],
   "source": [
    "# Dimension of DataFrame\n",
    "df.shape"
   ]
  },
  {
   "cell_type": "code",
   "execution_count": 4,
   "id": "0b48b0d1",
   "metadata": {
    "papermill": {
     "duration": 0.075841,
     "end_time": "2023-10-21T18:22:27.890115",
     "exception": false,
     "start_time": "2023-10-21T18:22:27.814274",
     "status": "completed"
    },
    "tags": []
   },
   "outputs": [
    {
     "data": {
      "text/html": [
       "<div>\n",
       "<style scoped>\n",
       "    .dataframe tbody tr th:only-of-type {\n",
       "        vertical-align: middle;\n",
       "    }\n",
       "\n",
       "    .dataframe tbody tr th {\n",
       "        vertical-align: top;\n",
       "    }\n",
       "\n",
       "    .dataframe thead th {\n",
       "        text-align: right;\n",
       "    }\n",
       "</style>\n",
       "<table border=\"1\" class=\"dataframe\">\n",
       "  <thead>\n",
       "    <tr style=\"text-align: right;\">\n",
       "      <th></th>\n",
       "      <th>date</th>\n",
       "      <th>price</th>\n",
       "      <th>bedrooms</th>\n",
       "      <th>bathrooms</th>\n",
       "      <th>sqft_living</th>\n",
       "      <th>sqft_lot</th>\n",
       "      <th>floors</th>\n",
       "      <th>waterfront</th>\n",
       "      <th>view</th>\n",
       "    </tr>\n",
       "  </thead>\n",
       "  <tbody>\n",
       "    <tr>\n",
       "      <th>0</th>\n",
       "      <td>20141013T000000</td>\n",
       "      <td>221900.0</td>\n",
       "      <td>3</td>\n",
       "      <td>1.00</td>\n",
       "      <td>1180</td>\n",
       "      <td>5650</td>\n",
       "      <td>1.0</td>\n",
       "      <td>0</td>\n",
       "      <td>0</td>\n",
       "    </tr>\n",
       "    <tr>\n",
       "      <th>1</th>\n",
       "      <td>20141209T000000</td>\n",
       "      <td>538000.0</td>\n",
       "      <td>3</td>\n",
       "      <td>2.25</td>\n",
       "      <td>2570</td>\n",
       "      <td>7242</td>\n",
       "      <td>2.0</td>\n",
       "      <td>0</td>\n",
       "      <td>0</td>\n",
       "    </tr>\n",
       "    <tr>\n",
       "      <th>2</th>\n",
       "      <td>20150225T000000</td>\n",
       "      <td>180000.0</td>\n",
       "      <td>2</td>\n",
       "      <td>1.00</td>\n",
       "      <td>770</td>\n",
       "      <td>10000</td>\n",
       "      <td>1.0</td>\n",
       "      <td>0</td>\n",
       "      <td>0</td>\n",
       "    </tr>\n",
       "    <tr>\n",
       "      <th>3</th>\n",
       "      <td>20141209T000000</td>\n",
       "      <td>604000.0</td>\n",
       "      <td>4</td>\n",
       "      <td>3.00</td>\n",
       "      <td>1960</td>\n",
       "      <td>5000</td>\n",
       "      <td>1.0</td>\n",
       "      <td>0</td>\n",
       "      <td>0</td>\n",
       "    </tr>\n",
       "    <tr>\n",
       "      <th>4</th>\n",
       "      <td>20150218T000000</td>\n",
       "      <td>510000.0</td>\n",
       "      <td>3</td>\n",
       "      <td>2.00</td>\n",
       "      <td>1680</td>\n",
       "      <td>8080</td>\n",
       "      <td>1.0</td>\n",
       "      <td>0</td>\n",
       "      <td>0</td>\n",
       "    </tr>\n",
       "  </tbody>\n",
       "</table>\n",
       "</div>"
      ],
      "text/plain": [
       "              date     price  bedrooms  bathrooms  sqft_living  sqft_lot  \\\n",
       "0  20141013T000000  221900.0         3       1.00         1180      5650   \n",
       "1  20141209T000000  538000.0         3       2.25         2570      7242   \n",
       "2  20150225T000000  180000.0         2       1.00          770     10000   \n",
       "3  20141209T000000  604000.0         4       3.00         1960      5000   \n",
       "4  20150218T000000  510000.0         3       2.00         1680      8080   \n",
       "\n",
       "   floors  waterfront  view  \n",
       "0     1.0           0     0  \n",
       "1     2.0           0     0  \n",
       "2     1.0           0     0  \n",
       "3     1.0           0     0  \n",
       "4     1.0           0     0  "
      ]
     },
     "execution_count": 4,
     "metadata": {},
     "output_type": "execute_result"
    }
   ],
   "source": [
    "# Data Viewing Initial 10 columns\n",
    "df.iloc[:5,1:10]"
   ]
  },
  {
   "cell_type": "code",
   "execution_count": 5,
   "id": "5494964c",
   "metadata": {
    "papermill": {
     "duration": 0.060737,
     "end_time": "2023-10-21T18:22:27.992773",
     "exception": false,
     "start_time": "2023-10-21T18:22:27.932036",
     "status": "completed"
    },
    "tags": []
   },
   "outputs": [
    {
     "data": {
      "text/html": [
       "<div>\n",
       "<style scoped>\n",
       "    .dataframe tbody tr th:only-of-type {\n",
       "        vertical-align: middle;\n",
       "    }\n",
       "\n",
       "    .dataframe tbody tr th {\n",
       "        vertical-align: top;\n",
       "    }\n",
       "\n",
       "    .dataframe thead th {\n",
       "        text-align: right;\n",
       "    }\n",
       "</style>\n",
       "<table border=\"1\" class=\"dataframe\">\n",
       "  <thead>\n",
       "    <tr style=\"text-align: right;\">\n",
       "      <th></th>\n",
       "      <th>condition</th>\n",
       "      <th>grade</th>\n",
       "      <th>sqft_above</th>\n",
       "      <th>sqft_basement</th>\n",
       "      <th>yr_built</th>\n",
       "      <th>yr_renovated</th>\n",
       "      <th>zipcode</th>\n",
       "      <th>lat</th>\n",
       "      <th>long</th>\n",
       "      <th>sqft_living15</th>\n",
       "      <th>sqft_lot15</th>\n",
       "    </tr>\n",
       "  </thead>\n",
       "  <tbody>\n",
       "    <tr>\n",
       "      <th>0</th>\n",
       "      <td>3</td>\n",
       "      <td>7</td>\n",
       "      <td>1180</td>\n",
       "      <td>0</td>\n",
       "      <td>1955</td>\n",
       "      <td>0</td>\n",
       "      <td>98178</td>\n",
       "      <td>47.5112</td>\n",
       "      <td>-122.257</td>\n",
       "      <td>1340</td>\n",
       "      <td>5650</td>\n",
       "    </tr>\n",
       "    <tr>\n",
       "      <th>1</th>\n",
       "      <td>3</td>\n",
       "      <td>7</td>\n",
       "      <td>2170</td>\n",
       "      <td>400</td>\n",
       "      <td>1951</td>\n",
       "      <td>1991</td>\n",
       "      <td>98125</td>\n",
       "      <td>47.7210</td>\n",
       "      <td>-122.319</td>\n",
       "      <td>1690</td>\n",
       "      <td>7639</td>\n",
       "    </tr>\n",
       "    <tr>\n",
       "      <th>2</th>\n",
       "      <td>3</td>\n",
       "      <td>6</td>\n",
       "      <td>770</td>\n",
       "      <td>0</td>\n",
       "      <td>1933</td>\n",
       "      <td>0</td>\n",
       "      <td>98028</td>\n",
       "      <td>47.7379</td>\n",
       "      <td>-122.233</td>\n",
       "      <td>2720</td>\n",
       "      <td>8062</td>\n",
       "    </tr>\n",
       "    <tr>\n",
       "      <th>3</th>\n",
       "      <td>5</td>\n",
       "      <td>7</td>\n",
       "      <td>1050</td>\n",
       "      <td>910</td>\n",
       "      <td>1965</td>\n",
       "      <td>0</td>\n",
       "      <td>98136</td>\n",
       "      <td>47.5208</td>\n",
       "      <td>-122.393</td>\n",
       "      <td>1360</td>\n",
       "      <td>5000</td>\n",
       "    </tr>\n",
       "    <tr>\n",
       "      <th>4</th>\n",
       "      <td>3</td>\n",
       "      <td>8</td>\n",
       "      <td>1680</td>\n",
       "      <td>0</td>\n",
       "      <td>1987</td>\n",
       "      <td>0</td>\n",
       "      <td>98074</td>\n",
       "      <td>47.6168</td>\n",
       "      <td>-122.045</td>\n",
       "      <td>1800</td>\n",
       "      <td>7503</td>\n",
       "    </tr>\n",
       "  </tbody>\n",
       "</table>\n",
       "</div>"
      ],
      "text/plain": [
       "   condition  grade  sqft_above  sqft_basement  yr_built  yr_renovated  \\\n",
       "0          3      7        1180              0      1955             0   \n",
       "1          3      7        2170            400      1951          1991   \n",
       "2          3      6         770              0      1933             0   \n",
       "3          5      7        1050            910      1965             0   \n",
       "4          3      8        1680              0      1987             0   \n",
       "\n",
       "   zipcode      lat     long  sqft_living15  sqft_lot15  \n",
       "0    98178  47.5112 -122.257           1340        5650  \n",
       "1    98125  47.7210 -122.319           1690        7639  \n",
       "2    98028  47.7379 -122.233           2720        8062  \n",
       "3    98136  47.5208 -122.393           1360        5000  \n",
       "4    98074  47.6168 -122.045           1800        7503  "
      ]
     },
     "execution_count": 5,
     "metadata": {},
     "output_type": "execute_result"
    }
   ],
   "source": [
    "# Data Viewing Rest of the columns\n",
    "df.iloc[:5,10:]"
   ]
  },
  {
   "cell_type": "code",
   "execution_count": 6,
   "id": "b589ba86",
   "metadata": {
    "papermill": {
     "duration": 0.079194,
     "end_time": "2023-10-21T18:22:28.113740",
     "exception": false,
     "start_time": "2023-10-21T18:22:28.034546",
     "status": "completed"
    },
    "tags": []
   },
   "outputs": [
    {
     "name": "stdout",
     "output_type": "stream",
     "text": [
      "<class 'pandas.core.frame.DataFrame'>\n",
      "RangeIndex: 21613 entries, 0 to 21612\n",
      "Data columns (total 21 columns):\n",
      " #   Column         Non-Null Count  Dtype  \n",
      "---  ------         --------------  -----  \n",
      " 0   id             21613 non-null  int64  \n",
      " 1   date           21613 non-null  object \n",
      " 2   price          21613 non-null  float64\n",
      " 3   bedrooms       21613 non-null  int64  \n",
      " 4   bathrooms      21613 non-null  float64\n",
      " 5   sqft_living    21613 non-null  int64  \n",
      " 6   sqft_lot       21613 non-null  int64  \n",
      " 7   floors         21613 non-null  float64\n",
      " 8   waterfront     21613 non-null  int64  \n",
      " 9   view           21613 non-null  int64  \n",
      " 10  condition      21613 non-null  int64  \n",
      " 11  grade          21613 non-null  int64  \n",
      " 12  sqft_above     21613 non-null  int64  \n",
      " 13  sqft_basement  21613 non-null  int64  \n",
      " 14  yr_built       21613 non-null  int64  \n",
      " 15  yr_renovated   21613 non-null  int64  \n",
      " 16  zipcode        21613 non-null  int64  \n",
      " 17  lat            21613 non-null  float64\n",
      " 18  long           21613 non-null  float64\n",
      " 19  sqft_living15  21613 non-null  int64  \n",
      " 20  sqft_lot15     21613 non-null  int64  \n",
      "dtypes: float64(5), int64(15), object(1)\n",
      "memory usage: 3.5+ MB\n"
     ]
    }
   ],
   "source": [
    "# Understanding Data - Total Entries, Number of Columns, Datatype\n",
    "df.info()"
   ]
  },
  {
   "cell_type": "markdown",
   "id": "198e269b",
   "metadata": {
    "papermill": {
     "duration": 0.041711,
     "end_time": "2023-10-21T18:22:28.197495",
     "exception": false,
     "start_time": "2023-10-21T18:22:28.155784",
     "status": "completed"
    },
    "tags": []
   },
   "source": [
    "<h2 align=\"left\"><font color='FF8C00'><u>Data Quality</u></font></h2>"
   ]
  },
  {
   "cell_type": "code",
   "execution_count": 7,
   "id": "b127fedc",
   "metadata": {
    "papermill": {
     "duration": 0.073215,
     "end_time": "2023-10-21T18:22:28.313042",
     "exception": false,
     "start_time": "2023-10-21T18:22:28.239827",
     "status": "completed"
    },
    "tags": []
   },
   "outputs": [
    {
     "data": {
      "text/plain": [
       "0"
      ]
     },
     "execution_count": 7,
     "metadata": {},
     "output_type": "execute_result"
    }
   ],
   "source": [
    "# Duplicate Rows\n",
    "df.duplicated().sum()"
   ]
  },
  {
   "cell_type": "code",
   "execution_count": 8,
   "id": "9833342e",
   "metadata": {
    "papermill": {
     "duration": 0.060054,
     "end_time": "2023-10-21T18:22:28.416180",
     "exception": false,
     "start_time": "2023-10-21T18:22:28.356126",
     "status": "completed"
    },
    "tags": []
   },
   "outputs": [
    {
     "data": {
      "text/plain": [
       "id               0\n",
       "date             0\n",
       "price            0\n",
       "bedrooms         0\n",
       "bathrooms        0\n",
       "sqft_living      0\n",
       "sqft_lot         0\n",
       "floors           0\n",
       "waterfront       0\n",
       "view             0\n",
       "condition        0\n",
       "grade            0\n",
       "sqft_above       0\n",
       "sqft_basement    0\n",
       "yr_built         0\n",
       "yr_renovated     0\n",
       "zipcode          0\n",
       "lat              0\n",
       "long             0\n",
       "sqft_living15    0\n",
       "sqft_lot15       0\n",
       "dtype: int64"
      ]
     },
     "execution_count": 8,
     "metadata": {},
     "output_type": "execute_result"
    }
   ],
   "source": [
    "# Checking for Missing vales\n",
    "df.isnull().sum()"
   ]
  },
  {
   "cell_type": "code",
   "execution_count": 9,
   "id": "691be2af",
   "metadata": {
    "_kg_hide-input": true,
    "papermill": {
     "duration": 0.109094,
     "end_time": "2023-10-21T18:22:28.569286",
     "exception": false,
     "start_time": "2023-10-21T18:22:28.460192",
     "status": "completed"
    },
    "tags": []
   },
   "outputs": [
    {
     "data": {
      "text/html": [
       "<div>\n",
       "<style scoped>\n",
       "    .dataframe tbody tr th:only-of-type {\n",
       "        vertical-align: middle;\n",
       "    }\n",
       "\n",
       "    .dataframe tbody tr th {\n",
       "        vertical-align: top;\n",
       "    }\n",
       "\n",
       "    .dataframe thead th {\n",
       "        text-align: right;\n",
       "    }\n",
       "</style>\n",
       "<table border=\"1\" class=\"dataframe\">\n",
       "  <thead>\n",
       "    <tr style=\"text-align: right;\">\n",
       "      <th></th>\n",
       "      <th>Column</th>\n",
       "      <th>Distinct_Values_Count</th>\n",
       "      <th>First_5_Unique_Values</th>\n",
       "      <th>Last_5_Unique_Values</th>\n",
       "    </tr>\n",
       "  </thead>\n",
       "  <tbody>\n",
       "    <tr>\n",
       "      <th>0</th>\n",
       "      <td>id</td>\n",
       "      <td>21436</td>\n",
       "      <td>[7129300520, 6414100192, 5631500400, 248720087...</td>\n",
       "      <td>[263000018, 6600060120, 1523300141, 291310100,...</td>\n",
       "    </tr>\n",
       "    <tr>\n",
       "      <th>1</th>\n",
       "      <td>sqft_lot</td>\n",
       "      <td>9782</td>\n",
       "      <td>[5650, 7242, 10000, 5000, 8080]</td>\n",
       "      <td>[5536, 1126, 5813, 2388, 1076]</td>\n",
       "    </tr>\n",
       "    <tr>\n",
       "      <th>2</th>\n",
       "      <td>sqft_lot15</td>\n",
       "      <td>8689</td>\n",
       "      <td>[5650, 7639, 8062, 5000, 7503]</td>\n",
       "      <td>[6814, 11303, 5731, 1509, 2007]</td>\n",
       "    </tr>\n",
       "    <tr>\n",
       "      <th>3</th>\n",
       "      <td>lat</td>\n",
       "      <td>5034</td>\n",
       "      <td>[47.5112, 47.721, 47.7379, 47.5208, 47.6168]</td>\n",
       "      <td>[47.4304, 47.2815, 47.3906, 47.3339, 47.6502]</td>\n",
       "    </tr>\n",
       "    <tr>\n",
       "      <th>4</th>\n",
       "      <td>price</td>\n",
       "      <td>4028</td>\n",
       "      <td>[221900.0, 538000.0, 180000.0, 604000.0, 51000...</td>\n",
       "      <td>[541800.0, 1537000.0, 610685.0, 1007500.0, 402...</td>\n",
       "    </tr>\n",
       "    <tr>\n",
       "      <th>5</th>\n",
       "      <td>sqft_living</td>\n",
       "      <td>1038</td>\n",
       "      <td>[1180, 2570, 770, 1960, 1680]</td>\n",
       "      <td>[1333, 2198, 3087, 3118, 1425]</td>\n",
       "    </tr>\n",
       "    <tr>\n",
       "      <th>6</th>\n",
       "      <td>sqft_above</td>\n",
       "      <td>946</td>\n",
       "      <td>[1180, 2170, 770, 1050, 1680]</td>\n",
       "      <td>[1333, 2198, 3087, 3118, 1425]</td>\n",
       "    </tr>\n",
       "    <tr>\n",
       "      <th>7</th>\n",
       "      <td>sqft_living15</td>\n",
       "      <td>777</td>\n",
       "      <td>[1340, 1690, 2720, 1360, 1800]</td>\n",
       "      <td>[2604, 1268, 2198, 3038, 2927]</td>\n",
       "    </tr>\n",
       "    <tr>\n",
       "      <th>8</th>\n",
       "      <td>long</td>\n",
       "      <td>752</td>\n",
       "      <td>[-122.257, -122.319, -122.233, -122.393, -122....</td>\n",
       "      <td>[-121.405, -122.486, -121.795, -121.734, -121....</td>\n",
       "    </tr>\n",
       "    <tr>\n",
       "      <th>9</th>\n",
       "      <td>date</td>\n",
       "      <td>372</td>\n",
       "      <td>[20141013T000000, 20141209T000000, 20150225T00...</td>\n",
       "      <td>[20141011T000000, 20150201T000000, 20141130T00...</td>\n",
       "    </tr>\n",
       "    <tr>\n",
       "      <th>10</th>\n",
       "      <td>sqft_basement</td>\n",
       "      <td>306</td>\n",
       "      <td>[0, 400, 910, 1530, 730]</td>\n",
       "      <td>[508, 2810, 20, 274, 248]</td>\n",
       "    </tr>\n",
       "    <tr>\n",
       "      <th>11</th>\n",
       "      <td>yr_built</td>\n",
       "      <td>116</td>\n",
       "      <td>[1955, 1951, 1933, 1965, 1987]</td>\n",
       "      <td>[1934, 1938, 1919, 1906, 1935]</td>\n",
       "    </tr>\n",
       "    <tr>\n",
       "      <th>12</th>\n",
       "      <td>yr_renovated</td>\n",
       "      <td>70</td>\n",
       "      <td>[0, 1991, 2002, 2010, 1999]</td>\n",
       "      <td>[1960, 1967, 1965, 1934, 1944]</td>\n",
       "    </tr>\n",
       "    <tr>\n",
       "      <th>13</th>\n",
       "      <td>zipcode</td>\n",
       "      <td>70</td>\n",
       "      <td>[98178, 98125, 98028, 98136, 98074]</td>\n",
       "      <td>[98072, 98188, 98014, 98055, 98039]</td>\n",
       "    </tr>\n",
       "    <tr>\n",
       "      <th>14</th>\n",
       "      <td>bathrooms</td>\n",
       "      <td>30</td>\n",
       "      <td>[1.0, 2.25, 3.0, 2.0, 4.5]</td>\n",
       "      <td>[8.0, 7.5, 7.75, 6.25, 6.5]</td>\n",
       "    </tr>\n",
       "    <tr>\n",
       "      <th>15</th>\n",
       "      <td>bedrooms</td>\n",
       "      <td>13</td>\n",
       "      <td>[3, 2, 4, 5, 1]</td>\n",
       "      <td>[8, 9, 11, 10, 33]</td>\n",
       "    </tr>\n",
       "    <tr>\n",
       "      <th>16</th>\n",
       "      <td>grade</td>\n",
       "      <td>12</td>\n",
       "      <td>[7, 6, 8, 11, 9]</td>\n",
       "      <td>[12, 4, 3, 13, 1]</td>\n",
       "    </tr>\n",
       "    <tr>\n",
       "      <th>17</th>\n",
       "      <td>floors</td>\n",
       "      <td>6</td>\n",
       "      <td>[1.0, 2.0, 1.5, 3.0, 2.5]</td>\n",
       "      <td>[2.0, 1.5, 3.0, 2.5, 3.5]</td>\n",
       "    </tr>\n",
       "    <tr>\n",
       "      <th>18</th>\n",
       "      <td>view</td>\n",
       "      <td>5</td>\n",
       "      <td>[0, 3, 4, 2, 1]</td>\n",
       "      <td>[0, 3, 4, 2, 1]</td>\n",
       "    </tr>\n",
       "    <tr>\n",
       "      <th>19</th>\n",
       "      <td>condition</td>\n",
       "      <td>5</td>\n",
       "      <td>[3, 5, 4, 1, 2]</td>\n",
       "      <td>[3, 5, 4, 1, 2]</td>\n",
       "    </tr>\n",
       "    <tr>\n",
       "      <th>20</th>\n",
       "      <td>waterfront</td>\n",
       "      <td>2</td>\n",
       "      <td>[0, 1]</td>\n",
       "      <td>[0, 1]</td>\n",
       "    </tr>\n",
       "  </tbody>\n",
       "</table>\n",
       "</div>"
      ],
      "text/plain": [
       "           Column  Distinct_Values_Count  \\\n",
       "0              id                  21436   \n",
       "1        sqft_lot                   9782   \n",
       "2      sqft_lot15                   8689   \n",
       "3             lat                   5034   \n",
       "4           price                   4028   \n",
       "5     sqft_living                   1038   \n",
       "6      sqft_above                    946   \n",
       "7   sqft_living15                    777   \n",
       "8            long                    752   \n",
       "9            date                    372   \n",
       "10  sqft_basement                    306   \n",
       "11       yr_built                    116   \n",
       "12   yr_renovated                     70   \n",
       "13        zipcode                     70   \n",
       "14      bathrooms                     30   \n",
       "15       bedrooms                     13   \n",
       "16          grade                     12   \n",
       "17         floors                      6   \n",
       "18           view                      5   \n",
       "19      condition                      5   \n",
       "20     waterfront                      2   \n",
       "\n",
       "                                First_5_Unique_Values  \\\n",
       "0   [7129300520, 6414100192, 5631500400, 248720087...   \n",
       "1                     [5650, 7242, 10000, 5000, 8080]   \n",
       "2                      [5650, 7639, 8062, 5000, 7503]   \n",
       "3        [47.5112, 47.721, 47.7379, 47.5208, 47.6168]   \n",
       "4   [221900.0, 538000.0, 180000.0, 604000.0, 51000...   \n",
       "5                       [1180, 2570, 770, 1960, 1680]   \n",
       "6                       [1180, 2170, 770, 1050, 1680]   \n",
       "7                      [1340, 1690, 2720, 1360, 1800]   \n",
       "8   [-122.257, -122.319, -122.233, -122.393, -122....   \n",
       "9   [20141013T000000, 20141209T000000, 20150225T00...   \n",
       "10                           [0, 400, 910, 1530, 730]   \n",
       "11                     [1955, 1951, 1933, 1965, 1987]   \n",
       "12                        [0, 1991, 2002, 2010, 1999]   \n",
       "13                [98178, 98125, 98028, 98136, 98074]   \n",
       "14                         [1.0, 2.25, 3.0, 2.0, 4.5]   \n",
       "15                                    [3, 2, 4, 5, 1]   \n",
       "16                                   [7, 6, 8, 11, 9]   \n",
       "17                          [1.0, 2.0, 1.5, 3.0, 2.5]   \n",
       "18                                    [0, 3, 4, 2, 1]   \n",
       "19                                    [3, 5, 4, 1, 2]   \n",
       "20                                             [0, 1]   \n",
       "\n",
       "                                 Last_5_Unique_Values  \n",
       "0   [263000018, 6600060120, 1523300141, 291310100,...  \n",
       "1                      [5536, 1126, 5813, 2388, 1076]  \n",
       "2                     [6814, 11303, 5731, 1509, 2007]  \n",
       "3       [47.4304, 47.2815, 47.3906, 47.3339, 47.6502]  \n",
       "4   [541800.0, 1537000.0, 610685.0, 1007500.0, 402...  \n",
       "5                      [1333, 2198, 3087, 3118, 1425]  \n",
       "6                      [1333, 2198, 3087, 3118, 1425]  \n",
       "7                      [2604, 1268, 2198, 3038, 2927]  \n",
       "8   [-121.405, -122.486, -121.795, -121.734, -121....  \n",
       "9   [20141011T000000, 20150201T000000, 20141130T00...  \n",
       "10                          [508, 2810, 20, 274, 248]  \n",
       "11                     [1934, 1938, 1919, 1906, 1935]  \n",
       "12                     [1960, 1967, 1965, 1934, 1944]  \n",
       "13                [98072, 98188, 98014, 98055, 98039]  \n",
       "14                        [8.0, 7.5, 7.75, 6.25, 6.5]  \n",
       "15                                 [8, 9, 11, 10, 33]  \n",
       "16                                  [12, 4, 3, 13, 1]  \n",
       "17                          [2.0, 1.5, 3.0, 2.5, 3.5]  \n",
       "18                                    [0, 3, 4, 2, 1]  \n",
       "19                                    [3, 5, 4, 1, 2]  \n",
       "20                                             [0, 1]  "
      ]
     },
     "execution_count": 9,
     "metadata": {},
     "output_type": "execute_result"
    }
   ],
   "source": [
    "distinct_counts = []\n",
    "\n",
    "# Loop through columns\n",
    "for column in df.columns:\n",
    "    distinct_count = df[column].nunique()  # Use nunique() to count distinct values\n",
    "    first_5_unique_values = df[column].unique()[:5]  \n",
    "    last_5_unique_values = df[column].unique()[-5:]  \n",
    "    distinct_counts.append({\n",
    "        'Column': column, \n",
    "        'Distinct_Values_Count': distinct_count, \n",
    "        'First_5_Unique_Values': first_5_unique_values,\n",
    "        'Last_5_Unique_Values': last_5_unique_values\n",
    "    })\n",
    "\n",
    "# Create a DataFrame from the list of distinct value counts\n",
    "distinct_counts_df = pd.DataFrame(distinct_counts)\n",
    "\n",
    "# Display the DataFrame with distinct value counts\n",
    "distinct_counts_df.sort_values(by='Distinct_Values_Count', ascending=False,ignore_index=True)"
   ]
  },
  {
   "cell_type": "markdown",
   "id": "bb03811b",
   "metadata": {
    "papermill": {
     "duration": 0.042651,
     "end_time": "2023-10-21T18:22:28.655157",
     "exception": false,
     "start_time": "2023-10-21T18:22:28.612506",
     "status": "completed"
    },
    "tags": []
   },
   "source": [
    "<h2 align=\"left\"><font color='FF8C00'><u>Data Describing</u></font></h2>"
   ]
  },
  {
   "cell_type": "code",
   "execution_count": 10,
   "id": "82c78a03",
   "metadata": {
    "papermill": {
     "duration": 0.134339,
     "end_time": "2023-10-21T18:22:28.834220",
     "exception": false,
     "start_time": "2023-10-21T18:22:28.699881",
     "status": "completed"
    },
    "tags": []
   },
   "outputs": [
    {
     "data": {
      "text/html": [
       "<div>\n",
       "<style scoped>\n",
       "    .dataframe tbody tr th:only-of-type {\n",
       "        vertical-align: middle;\n",
       "    }\n",
       "\n",
       "    .dataframe tbody tr th {\n",
       "        vertical-align: top;\n",
       "    }\n",
       "\n",
       "    .dataframe thead th {\n",
       "        text-align: right;\n",
       "    }\n",
       "</style>\n",
       "<table border=\"1\" class=\"dataframe\">\n",
       "  <thead>\n",
       "    <tr style=\"text-align: right;\">\n",
       "      <th></th>\n",
       "      <th>id</th>\n",
       "      <th>price</th>\n",
       "      <th>bedrooms</th>\n",
       "      <th>bathrooms</th>\n",
       "      <th>sqft_living</th>\n",
       "      <th>sqft_lot</th>\n",
       "      <th>floors</th>\n",
       "      <th>waterfront</th>\n",
       "      <th>view</th>\n",
       "      <th>condition</th>\n",
       "      <th>grade</th>\n",
       "      <th>sqft_above</th>\n",
       "      <th>sqft_basement</th>\n",
       "      <th>yr_built</th>\n",
       "      <th>yr_renovated</th>\n",
       "      <th>zipcode</th>\n",
       "      <th>lat</th>\n",
       "      <th>long</th>\n",
       "      <th>sqft_living15</th>\n",
       "      <th>sqft_lot15</th>\n",
       "    </tr>\n",
       "  </thead>\n",
       "  <tbody>\n",
       "    <tr>\n",
       "      <th>count</th>\n",
       "      <td>2.161300e+04</td>\n",
       "      <td>2.161300e+04</td>\n",
       "      <td>21613.000000</td>\n",
       "      <td>21613.000000</td>\n",
       "      <td>21613.000000</td>\n",
       "      <td>2.161300e+04</td>\n",
       "      <td>21613.000000</td>\n",
       "      <td>21613.000000</td>\n",
       "      <td>21613.000000</td>\n",
       "      <td>21613.000000</td>\n",
       "      <td>21613.000000</td>\n",
       "      <td>21613.000000</td>\n",
       "      <td>21613.000000</td>\n",
       "      <td>21613.000000</td>\n",
       "      <td>21613.000000</td>\n",
       "      <td>21613.000000</td>\n",
       "      <td>21613.000000</td>\n",
       "      <td>21613.000000</td>\n",
       "      <td>21613.000000</td>\n",
       "      <td>21613.000000</td>\n",
       "    </tr>\n",
       "    <tr>\n",
       "      <th>mean</th>\n",
       "      <td>4.580302e+09</td>\n",
       "      <td>5.400881e+05</td>\n",
       "      <td>3.370842</td>\n",
       "      <td>2.114757</td>\n",
       "      <td>2079.899736</td>\n",
       "      <td>1.510697e+04</td>\n",
       "      <td>1.494309</td>\n",
       "      <td>0.007542</td>\n",
       "      <td>0.234303</td>\n",
       "      <td>3.409430</td>\n",
       "      <td>7.656873</td>\n",
       "      <td>1788.390691</td>\n",
       "      <td>291.509045</td>\n",
       "      <td>1971.005136</td>\n",
       "      <td>84.402258</td>\n",
       "      <td>98077.939805</td>\n",
       "      <td>47.560053</td>\n",
       "      <td>-122.213896</td>\n",
       "      <td>1986.552492</td>\n",
       "      <td>12768.455652</td>\n",
       "    </tr>\n",
       "    <tr>\n",
       "      <th>std</th>\n",
       "      <td>2.876566e+09</td>\n",
       "      <td>3.671272e+05</td>\n",
       "      <td>0.930062</td>\n",
       "      <td>0.770163</td>\n",
       "      <td>918.440897</td>\n",
       "      <td>4.142051e+04</td>\n",
       "      <td>0.539989</td>\n",
       "      <td>0.086517</td>\n",
       "      <td>0.766318</td>\n",
       "      <td>0.650743</td>\n",
       "      <td>1.175459</td>\n",
       "      <td>828.090978</td>\n",
       "      <td>442.575043</td>\n",
       "      <td>29.373411</td>\n",
       "      <td>401.679240</td>\n",
       "      <td>53.505026</td>\n",
       "      <td>0.138564</td>\n",
       "      <td>0.140828</td>\n",
       "      <td>685.391304</td>\n",
       "      <td>27304.179631</td>\n",
       "    </tr>\n",
       "    <tr>\n",
       "      <th>min</th>\n",
       "      <td>1.000102e+06</td>\n",
       "      <td>7.500000e+04</td>\n",
       "      <td>0.000000</td>\n",
       "      <td>0.000000</td>\n",
       "      <td>290.000000</td>\n",
       "      <td>5.200000e+02</td>\n",
       "      <td>1.000000</td>\n",
       "      <td>0.000000</td>\n",
       "      <td>0.000000</td>\n",
       "      <td>1.000000</td>\n",
       "      <td>1.000000</td>\n",
       "      <td>290.000000</td>\n",
       "      <td>0.000000</td>\n",
       "      <td>1900.000000</td>\n",
       "      <td>0.000000</td>\n",
       "      <td>98001.000000</td>\n",
       "      <td>47.155900</td>\n",
       "      <td>-122.519000</td>\n",
       "      <td>399.000000</td>\n",
       "      <td>651.000000</td>\n",
       "    </tr>\n",
       "    <tr>\n",
       "      <th>25%</th>\n",
       "      <td>2.123049e+09</td>\n",
       "      <td>3.219500e+05</td>\n",
       "      <td>3.000000</td>\n",
       "      <td>1.750000</td>\n",
       "      <td>1427.000000</td>\n",
       "      <td>5.040000e+03</td>\n",
       "      <td>1.000000</td>\n",
       "      <td>0.000000</td>\n",
       "      <td>0.000000</td>\n",
       "      <td>3.000000</td>\n",
       "      <td>7.000000</td>\n",
       "      <td>1190.000000</td>\n",
       "      <td>0.000000</td>\n",
       "      <td>1951.000000</td>\n",
       "      <td>0.000000</td>\n",
       "      <td>98033.000000</td>\n",
       "      <td>47.471000</td>\n",
       "      <td>-122.328000</td>\n",
       "      <td>1490.000000</td>\n",
       "      <td>5100.000000</td>\n",
       "    </tr>\n",
       "    <tr>\n",
       "      <th>50%</th>\n",
       "      <td>3.904930e+09</td>\n",
       "      <td>4.500000e+05</td>\n",
       "      <td>3.000000</td>\n",
       "      <td>2.250000</td>\n",
       "      <td>1910.000000</td>\n",
       "      <td>7.618000e+03</td>\n",
       "      <td>1.500000</td>\n",
       "      <td>0.000000</td>\n",
       "      <td>0.000000</td>\n",
       "      <td>3.000000</td>\n",
       "      <td>7.000000</td>\n",
       "      <td>1560.000000</td>\n",
       "      <td>0.000000</td>\n",
       "      <td>1975.000000</td>\n",
       "      <td>0.000000</td>\n",
       "      <td>98065.000000</td>\n",
       "      <td>47.571800</td>\n",
       "      <td>-122.230000</td>\n",
       "      <td>1840.000000</td>\n",
       "      <td>7620.000000</td>\n",
       "    </tr>\n",
       "    <tr>\n",
       "      <th>75%</th>\n",
       "      <td>7.308900e+09</td>\n",
       "      <td>6.450000e+05</td>\n",
       "      <td>4.000000</td>\n",
       "      <td>2.500000</td>\n",
       "      <td>2550.000000</td>\n",
       "      <td>1.068800e+04</td>\n",
       "      <td>2.000000</td>\n",
       "      <td>0.000000</td>\n",
       "      <td>0.000000</td>\n",
       "      <td>4.000000</td>\n",
       "      <td>8.000000</td>\n",
       "      <td>2210.000000</td>\n",
       "      <td>560.000000</td>\n",
       "      <td>1997.000000</td>\n",
       "      <td>0.000000</td>\n",
       "      <td>98118.000000</td>\n",
       "      <td>47.678000</td>\n",
       "      <td>-122.125000</td>\n",
       "      <td>2360.000000</td>\n",
       "      <td>10083.000000</td>\n",
       "    </tr>\n",
       "    <tr>\n",
       "      <th>max</th>\n",
       "      <td>9.900000e+09</td>\n",
       "      <td>7.700000e+06</td>\n",
       "      <td>33.000000</td>\n",
       "      <td>8.000000</td>\n",
       "      <td>13540.000000</td>\n",
       "      <td>1.651359e+06</td>\n",
       "      <td>3.500000</td>\n",
       "      <td>1.000000</td>\n",
       "      <td>4.000000</td>\n",
       "      <td>5.000000</td>\n",
       "      <td>13.000000</td>\n",
       "      <td>9410.000000</td>\n",
       "      <td>4820.000000</td>\n",
       "      <td>2015.000000</td>\n",
       "      <td>2015.000000</td>\n",
       "      <td>98199.000000</td>\n",
       "      <td>47.777600</td>\n",
       "      <td>-121.315000</td>\n",
       "      <td>6210.000000</td>\n",
       "      <td>871200.000000</td>\n",
       "    </tr>\n",
       "  </tbody>\n",
       "</table>\n",
       "</div>"
      ],
      "text/plain": [
       "                 id         price      bedrooms     bathrooms   sqft_living  \\\n",
       "count  2.161300e+04  2.161300e+04  21613.000000  21613.000000  21613.000000   \n",
       "mean   4.580302e+09  5.400881e+05      3.370842      2.114757   2079.899736   \n",
       "std    2.876566e+09  3.671272e+05      0.930062      0.770163    918.440897   \n",
       "min    1.000102e+06  7.500000e+04      0.000000      0.000000    290.000000   \n",
       "25%    2.123049e+09  3.219500e+05      3.000000      1.750000   1427.000000   \n",
       "50%    3.904930e+09  4.500000e+05      3.000000      2.250000   1910.000000   \n",
       "75%    7.308900e+09  6.450000e+05      4.000000      2.500000   2550.000000   \n",
       "max    9.900000e+09  7.700000e+06     33.000000      8.000000  13540.000000   \n",
       "\n",
       "           sqft_lot        floors    waterfront          view     condition  \\\n",
       "count  2.161300e+04  21613.000000  21613.000000  21613.000000  21613.000000   \n",
       "mean   1.510697e+04      1.494309      0.007542      0.234303      3.409430   \n",
       "std    4.142051e+04      0.539989      0.086517      0.766318      0.650743   \n",
       "min    5.200000e+02      1.000000      0.000000      0.000000      1.000000   \n",
       "25%    5.040000e+03      1.000000      0.000000      0.000000      3.000000   \n",
       "50%    7.618000e+03      1.500000      0.000000      0.000000      3.000000   \n",
       "75%    1.068800e+04      2.000000      0.000000      0.000000      4.000000   \n",
       "max    1.651359e+06      3.500000      1.000000      4.000000      5.000000   \n",
       "\n",
       "              grade    sqft_above  sqft_basement      yr_built  yr_renovated  \\\n",
       "count  21613.000000  21613.000000   21613.000000  21613.000000  21613.000000   \n",
       "mean       7.656873   1788.390691     291.509045   1971.005136     84.402258   \n",
       "std        1.175459    828.090978     442.575043     29.373411    401.679240   \n",
       "min        1.000000    290.000000       0.000000   1900.000000      0.000000   \n",
       "25%        7.000000   1190.000000       0.000000   1951.000000      0.000000   \n",
       "50%        7.000000   1560.000000       0.000000   1975.000000      0.000000   \n",
       "75%        8.000000   2210.000000     560.000000   1997.000000      0.000000   \n",
       "max       13.000000   9410.000000    4820.000000   2015.000000   2015.000000   \n",
       "\n",
       "            zipcode           lat          long  sqft_living15     sqft_lot15  \n",
       "count  21613.000000  21613.000000  21613.000000   21613.000000   21613.000000  \n",
       "mean   98077.939805     47.560053   -122.213896    1986.552492   12768.455652  \n",
       "std       53.505026      0.138564      0.140828     685.391304   27304.179631  \n",
       "min    98001.000000     47.155900   -122.519000     399.000000     651.000000  \n",
       "25%    98033.000000     47.471000   -122.328000    1490.000000    5100.000000  \n",
       "50%    98065.000000     47.571800   -122.230000    1840.000000    7620.000000  \n",
       "75%    98118.000000     47.678000   -122.125000    2360.000000   10083.000000  \n",
       "max    98199.000000     47.777600   -121.315000    6210.000000  871200.000000  "
      ]
     },
     "execution_count": 10,
     "metadata": {},
     "output_type": "execute_result"
    }
   ],
   "source": [
    "df.describe()"
   ]
  },
  {
   "cell_type": "markdown",
   "id": "bfdb5e04",
   "metadata": {
    "papermill": {
     "duration": 0.04338,
     "end_time": "2023-10-21T18:22:28.921634",
     "exception": false,
     "start_time": "2023-10-21T18:22:28.878254",
     "status": "completed"
    },
    "tags": []
   },
   "source": [
    "<h2 align=\"left\"><font color='FF8C00'><u>Basic Modification to Data</u></font></h2>"
   ]
  },
  {
   "cell_type": "code",
   "execution_count": 11,
   "id": "2e9f4342",
   "metadata": {
    "papermill": {
     "duration": 0.054662,
     "end_time": "2023-10-21T18:22:29.019981",
     "exception": false,
     "start_time": "2023-10-21T18:22:28.965319",
     "status": "completed"
    },
    "tags": []
   },
   "outputs": [],
   "source": [
    "# Drop Unwanted Column - Id\n",
    "df.drop(['id','date'],axis=1,inplace=True)"
   ]
  },
  {
   "cell_type": "markdown",
   "id": "3289dc93",
   "metadata": {
    "papermill": {
     "duration": 0.04311,
     "end_time": "2023-10-21T18:22:29.106703",
     "exception": false,
     "start_time": "2023-10-21T18:22:29.063593",
     "status": "completed"
    },
    "tags": []
   },
   "source": [
    "<h2 align=\"left\"><font color='FF8C00'><u>Data Definition</u></font></h2>"
   ]
  },
  {
   "cell_type": "code",
   "execution_count": 12,
   "id": "f42e3b17",
   "metadata": {
    "papermill": {
     "duration": 0.053601,
     "end_time": "2023-10-21T18:22:29.203753",
     "exception": false,
     "start_time": "2023-10-21T18:22:29.150152",
     "status": "completed"
    },
    "tags": []
   },
   "outputs": [],
   "source": [
    "# Data Defining for Visualization and Processing\n",
    "numeric_columns = ['sqft_lot','sqft_lot15','sqft_living','sqft_living15','sqft_above','sqft_basement','lat','long','yr_built','yr_renovated']\n",
    "categorical_columns = ['bedrooms','bathrooms','floors','waterfront','view','condition','grade','zipcode']"
   ]
  },
  {
   "cell_type": "markdown",
   "id": "448fd1d8",
   "metadata": {
    "papermill": {
     "duration": 0.04338,
     "end_time": "2023-10-21T18:22:29.291642",
     "exception": false,
     "start_time": "2023-10-21T18:22:29.248262",
     "status": "completed"
    },
    "tags": []
   },
   "source": [
    "<div class=\"alert alert-block alert-info\" style=\"margin-bottom: 20px;font-size: 16px;\">\n",
    "    <b>📊 Observation and Insights:  </b>\n",
    "    <ul>\n",
    "        <li>The dataset does not contain any duplicate or missing values.</li>\n",
    "        <li>All attributes within the dataset are inherently numeric in nature, conforming to structured data standards.</li>\n",
    "        <li>A comprehensive review of unique values and the inherent structure of each feature reveals that several exhibit categorical traits. Consequently, categorize these features into two distinct groups: numeric_columns and categoric_columns.</li>\n",
    "        <li>It is evident that the dataset encompasses a wide range of magnitudes across its attributes, a phenomenon that is characteristic of data with high variability.</li>\n",
    "    </ul>\n",
    "</div>\n"
   ]
  },
  {
   "cell_type": "markdown",
   "id": "6bd5dbfa",
   "metadata": {
    "papermill": {
     "duration": 0.051646,
     "end_time": "2023-10-21T18:22:29.388860",
     "exception": false,
     "start_time": "2023-10-21T18:22:29.337214",
     "status": "completed"
    },
    "tags": []
   },
   "source": [
    "<div style=\"color:white;\n",
    "           display:fill;\n",
    "           border-radius:20px;\n",
    "           background-color:#FFA500;\n",
    "           font-size:200%;\n",
    "           font-family:Verdana;\n",
    "           letter-spacing:1px\">\n",
    "<a class=\"anchor\" id=\"CH-3\"></a> \n",
    "<p style=\"padding: 10px;\n",
    "              color:white;\">\n",
    "              3. Exploratory Data Analysis (Data Visualization) 🕵🏻‍♂️\n",
    "</p>\n",
    "</div>"
   ]
  },
  {
   "cell_type": "markdown",
   "id": "585d4bff",
   "metadata": {
    "papermill": {
     "duration": 0.04483,
     "end_time": "2023-10-21T18:22:29.483896",
     "exception": false,
     "start_time": "2023-10-21T18:22:29.439066",
     "status": "completed"
    },
    "tags": []
   },
   "source": [
    "<h2 align=\"left\"><font color='FF8C00'><u>Univariate Analysis & Bivariate Analysis</u></font></h2>"
   ]
  },
  {
   "cell_type": "markdown",
   "id": "7bae3bd9",
   "metadata": {
    "papermill": {
     "duration": 0.046979,
     "end_time": "2023-10-21T18:22:29.575911",
     "exception": false,
     "start_time": "2023-10-21T18:22:29.528932",
     "status": "completed"
    },
    "tags": []
   },
   "source": [
    "<h3 align=\"left\"><font color='green'>Creating Function - Numeric Combined Plot</font></h3>"
   ]
  },
  {
   "cell_type": "code",
   "execution_count": 13,
   "id": "84eebb8f",
   "metadata": {
    "_kg_hide-input": true,
    "papermill": {
     "duration": 0.078594,
     "end_time": "2023-10-21T18:22:29.701609",
     "exception": false,
     "start_time": "2023-10-21T18:22:29.623015",
     "status": "completed"
    },
    "tags": []
   },
   "outputs": [],
   "source": [
    "def num_combined_plot(data, x, y):\n",
    "    # fig, axes = plt.subplots(1, 2, figsize=(15, 6))\n",
    "\n",
    "    # # Plot the histogram with KDE\n",
    "    # sns.histplot(data=data, x=x, kde=True, ax=axes[0], color='coral')\n",
    "    \n",
    "    # # Plot the scatterplot with a correlation line\n",
    "    # sns.regplot(data=data, x=x, y=y, ax=axes[1], color='teal', \n",
    "    #             scatter_kws={'edgecolor': 'white'}, line_kws={\"color\": \"coral\"})\n",
    "\n",
    "    # Calculate the correlation coefficient\n",
    "    corr_coeff = data[[x, y]].corr().iloc[0, 1]\n",
    "\n",
    "    # Annotate the correlation coefficient on the scatter plot\n",
    "    # axes[1].annotate(f'Correlation : {corr_coeff:.2f}', xy=(0.65, 0.9), xycoords='axes fraction', fontsize=14, color='coral')\n",
    "\n",
    "    # # Adjust plot aesthetics\n",
    "    # sns.despine(bottom=True, left=True)\n",
    "    # axes[0].set(xlabel=f'{x}', ylabel='Frequency', title=f'{x} Distribution')\n",
    "    # axes[1].set(xlabel=f'{x}', ylabel=f'{y}', title=f'{x} vs {y}')\n",
    "    # axes[1].yaxis.set_label_position(\"right\")\n",
    "    # axes[1].yaxis.tick_right()\n",
    "\n",
    "    # plt.show()"
   ]
  },
  {
   "cell_type": "markdown",
   "id": "19568e14",
   "metadata": {
    "papermill": {
     "duration": 0.063245,
     "end_time": "2023-10-21T18:22:29.820714",
     "exception": false,
     "start_time": "2023-10-21T18:22:29.757469",
     "status": "completed"
    },
    "tags": []
   },
   "source": [
    "<h2 align=\"left\"><font color='FF8C00'><u>Correlation Matrix</u></font></h2>"
   ]
  },
  {
   "cell_type": "code",
   "execution_count": 14,
   "id": "4cbc60c1",
   "metadata": {
    "papermill": {
     "duration": 0.972625,
     "end_time": "2023-10-21T18:22:30.859862",
     "exception": false,
     "start_time": "2023-10-21T18:22:29.887237",
     "status": "completed"
    },
    "tags": []
   },
   "outputs": [],
   "source": [
    "# plt.figure(figsize=(12, 8))\n",
    "\n",
    "# # Create a heatmap\n",
    "# sns.heatmap(df[numeric_columns].corr(), annot=True, cmap='Spectral', linewidths=0.5,fmt=\".2f\")\n",
    "# plt.title('Correlation Heatmap', fontsize=15)\n",
    "# plt.show()"
   ]
  },
  {
   "cell_type": "markdown",
   "id": "30f31b6b",
   "metadata": {
    "execution": {
     "iopub.execute_input": "2023-10-16T23:52:56.644303Z",
     "iopub.status.busy": "2023-10-16T23:52:56.643926Z",
     "iopub.status.idle": "2023-10-16T23:52:56.651191Z",
     "shell.execute_reply": "2023-10-16T23:52:56.649951Z",
     "shell.execute_reply.started": "2023-10-16T23:52:56.644274Z"
    },
    "papermill": {
     "duration": 0.045308,
     "end_time": "2023-10-21T18:22:30.950912",
     "exception": false,
     "start_time": "2023-10-21T18:22:30.905604",
     "status": "completed"
    },
    "tags": []
   },
   "source": [
    "<h3 align=\"left\"> <font color='coral'><i>Sqft_lot - Square footage of the land space</i></font></h3>"
   ]
  },
  {
   "cell_type": "code",
   "execution_count": 15,
   "id": "b972d747",
   "metadata": {
    "papermill": {
     "duration": 9.275704,
     "end_time": "2023-10-21T18:22:40.273719",
     "exception": false,
     "start_time": "2023-10-21T18:22:30.998015",
     "status": "completed"
    },
    "tags": []
   },
   "outputs": [],
   "source": [
    "num_combined_plot(df,'sqft_lot','price')"
   ]
  },
  {
   "cell_type": "markdown",
   "id": "290b2960",
   "metadata": {
    "execution": {
     "iopub.execute_input": "2023-10-16T23:52:56.644303Z",
     "iopub.status.busy": "2023-10-16T23:52:56.643926Z",
     "iopub.status.idle": "2023-10-16T23:52:56.651191Z",
     "shell.execute_reply": "2023-10-16T23:52:56.649951Z",
     "shell.execute_reply.started": "2023-10-16T23:52:56.644274Z"
    },
    "papermill": {
     "duration": 0.047517,
     "end_time": "2023-10-21T18:22:40.368508",
     "exception": false,
     "start_time": "2023-10-21T18:22:40.320991",
     "status": "completed"
    },
    "tags": []
   },
   "source": [
    "<h3 align=\"left\"> <font color='coral'><i>Sqft_lot15 - The square footage of the land lots of the nearest 15 neighbors </i></font></h3>"
   ]
  },
  {
   "cell_type": "code",
   "execution_count": 16,
   "id": "b71b6606",
   "metadata": {
    "papermill": {
     "duration": 6.415027,
     "end_time": "2023-10-21T18:22:46.832143",
     "exception": false,
     "start_time": "2023-10-21T18:22:40.417116",
     "status": "completed"
    },
    "tags": []
   },
   "outputs": [],
   "source": [
    "num_combined_plot(df,'sqft_lot15','price')"
   ]
  },
  {
   "cell_type": "markdown",
   "id": "812a0572",
   "metadata": {
    "papermill": {
     "duration": 0.049248,
     "end_time": "2023-10-21T18:22:46.931544",
     "exception": false,
     "start_time": "2023-10-21T18:22:46.882296",
     "status": "completed"
    },
    "tags": []
   },
   "source": [
    "<div class=\"alert alert-block alert-info\" style=\"margin-bottom: 20px;font-size: 16px;\">\n",
    "    <b>📊 Observation:- (sqft_lot and sqft_lot15)  </b>\n",
    "    <ul>\n",
    "        <li>Both 'Sqft_lot' and 'Sqft_lot15' exhibit similar patterns and trends in their behavior, implying a strong resemblance in their characteristics. </li>\n",
    "        <li>The dataset encompasses a diverse spectrum of land space sizes, evident from the relatively high standard deviation. Notably, some land spaces greatly exceed the mean, contributing to this considerable variability.</li>\n",
    "        <li>The correlation coefficients of (0.09, 0.08) between property prices and the square footage of the lot suggest a mild positive relationship. However, it's important to note that this relationship is not a robust predictor of property prices, as it lacks strong predictive power.</li>\n",
    "    </ul>\n",
    "</div>\n"
   ]
  },
  {
   "cell_type": "markdown",
   "id": "a2d2f716",
   "metadata": {
    "execution": {
     "iopub.execute_input": "2023-10-16T23:52:56.644303Z",
     "iopub.status.busy": "2023-10-16T23:52:56.643926Z",
     "iopub.status.idle": "2023-10-16T23:52:56.651191Z",
     "shell.execute_reply": "2023-10-16T23:52:56.649951Z",
     "shell.execute_reply.started": "2023-10-16T23:52:56.644274Z"
    },
    "papermill": {
     "duration": 0.048929,
     "end_time": "2023-10-21T18:22:47.029743",
     "exception": false,
     "start_time": "2023-10-21T18:22:46.980814",
     "status": "completed"
    },
    "tags": []
   },
   "source": [
    "<h3 align=\"left\"> <font color='coral'><i>Sqft_living - Square footage of the apartments interior living space</i></font></h3>"
   ]
  },
  {
   "cell_type": "code",
   "execution_count": 17,
   "id": "b204a99c",
   "metadata": {
    "papermill": {
     "duration": 2.75695,
     "end_time": "2023-10-21T18:22:49.836074",
     "exception": false,
     "start_time": "2023-10-21T18:22:47.079124",
     "status": "completed"
    },
    "tags": []
   },
   "outputs": [],
   "source": [
    "num_combined_plot(df,'sqft_living','price')"
   ]
  },
  {
   "cell_type": "markdown",
   "id": "257d1a79",
   "metadata": {
    "execution": {
     "iopub.execute_input": "2023-10-16T23:52:56.644303Z",
     "iopub.status.busy": "2023-10-16T23:52:56.643926Z",
     "iopub.status.idle": "2023-10-16T23:52:56.651191Z",
     "shell.execute_reply": "2023-10-16T23:52:56.649951Z",
     "shell.execute_reply.started": "2023-10-16T23:52:56.644274Z"
    },
    "papermill": {
     "duration": 0.053772,
     "end_time": "2023-10-21T18:22:49.946185",
     "exception": false,
     "start_time": "2023-10-21T18:22:49.892413",
     "status": "completed"
    },
    "tags": []
   },
   "source": [
    "<h3 align=\"left\"> <font color='coral'><i>Sqft_living 15 -  The square footage of interior housing living space for the nearest 15 neighbors</i></font></h3>"
   ]
  },
  {
   "cell_type": "code",
   "execution_count": 18,
   "id": "dbcf6afb",
   "metadata": {
    "papermill": {
     "duration": 2.592329,
     "end_time": "2023-10-21T18:22:52.607628",
     "exception": false,
     "start_time": "2023-10-21T18:22:50.015299",
     "status": "completed"
    },
    "tags": []
   },
   "outputs": [],
   "source": [
    "num_combined_plot(df,'sqft_living15','price')"
   ]
  },
  {
   "cell_type": "markdown",
   "id": "7807430c",
   "metadata": {
    "papermill": {
     "duration": 0.05726,
     "end_time": "2023-10-21T18:22:52.723274",
     "exception": false,
     "start_time": "2023-10-21T18:22:52.666014",
     "status": "completed"
    },
    "tags": []
   },
   "source": [
    "<div class=\"alert alert-block alert-info\" style=\"margin-bottom: 20px;font-size: 16px;\">\n",
    "    <b>📊 Observation:- (sqft_living and sqft_living15)  </b>\n",
    "    <ul>\n",
    "        <li>The typical living space size is approximately 2,079.9 square feet, serving as a common size among apartments in the dataset.</li>\n",
    "        <li>A substantial standard deviation of around 918.4 square feet reveals notable variability in apartment sizes, with some significantly deviating from the mean.</li>\n",
    "        <li>The presence of apartments with expansive living spaces, reaching a maximum of 13,540 square feet, hints at the inclusion of luxury or exceptionally spacious properties.</li>\n",
    "        <li>A moderate positive correlation (0.7, 0.59) underscores that living space size significantly influences property prices. Generally, larger living spaces command higher market prices.</li>\n",
    "    </ul>\n",
    "</div>\n"
   ]
  },
  {
   "cell_type": "markdown",
   "id": "9a0e4e48",
   "metadata": {
    "execution": {
     "iopub.execute_input": "2023-10-16T23:52:56.644303Z",
     "iopub.status.busy": "2023-10-16T23:52:56.643926Z",
     "iopub.status.idle": "2023-10-16T23:52:56.651191Z",
     "shell.execute_reply": "2023-10-16T23:52:56.649951Z",
     "shell.execute_reply.started": "2023-10-16T23:52:56.644274Z"
    },
    "papermill": {
     "duration": 0.057028,
     "end_time": "2023-10-21T18:22:52.837605",
     "exception": false,
     "start_time": "2023-10-21T18:22:52.780577",
     "status": "completed"
    },
    "tags": []
   },
   "source": [
    "<h3 align=\"left\"> <font color='coral'><i>Sqft_above - The square footage of the interior housing space that is above ground level</i></font></h3>"
   ]
  },
  {
   "cell_type": "code",
   "execution_count": 19,
   "id": "11fe82cf",
   "metadata": {
    "papermill": {
     "duration": 3.188173,
     "end_time": "2023-10-21T18:22:56.083019",
     "exception": false,
     "start_time": "2023-10-21T18:22:52.894846",
     "status": "completed"
    },
    "tags": []
   },
   "outputs": [],
   "source": [
    "num_combined_plot(df,'sqft_above','price')"
   ]
  },
  {
   "cell_type": "markdown",
   "id": "7fb05180",
   "metadata": {
    "papermill": {
     "duration": 0.060581,
     "end_time": "2023-10-21T18:22:56.205390",
     "exception": false,
     "start_time": "2023-10-21T18:22:56.144809",
     "status": "completed"
    },
    "tags": []
   },
   "source": [
    "<div class=\"alert alert-block alert-info\" style=\"margin-bottom: 20px;font-size: 16px;\">\n",
    "    <b>📊 Observation:  </b>\n",
    "    <ul>\n",
    "        <li>A correlation of 0.61 signifies a substantial positive relationship, highlighting the influential role of above-ground living space size in determining property prices. Larger properties often command higher valuations, while smaller ones tend to be more budget-friendly.</li>\n",
    "    </ul>\n",
    "</div>\n"
   ]
  },
  {
   "cell_type": "markdown",
   "id": "50f67f53",
   "metadata": {
    "execution": {
     "iopub.execute_input": "2023-10-16T23:52:56.644303Z",
     "iopub.status.busy": "2023-10-16T23:52:56.643926Z",
     "iopub.status.idle": "2023-10-16T23:52:56.651191Z",
     "shell.execute_reply": "2023-10-16T23:52:56.649951Z",
     "shell.execute_reply.started": "2023-10-16T23:52:56.644274Z"
    },
    "papermill": {
     "duration": 0.060629,
     "end_time": "2023-10-21T18:22:56.327844",
     "exception": false,
     "start_time": "2023-10-21T18:22:56.267215",
     "status": "completed"
    },
    "tags": []
   },
   "source": [
    "<h3 align=\"left\"> <font color='coral'><i>Sqft_basement - The square footage of the interior housing space that is below ground level</i></font></h3>"
   ]
  },
  {
   "cell_type": "code",
   "execution_count": 20,
   "id": "4627a568",
   "metadata": {
    "papermill": {
     "duration": 2.631504,
     "end_time": "2023-10-21T18:22:59.021152",
     "exception": false,
     "start_time": "2023-10-21T18:22:56.389648",
     "status": "completed"
    },
    "tags": []
   },
   "outputs": [],
   "source": [
    "num_combined_plot(df,'sqft_basement','price')"
   ]
  },
  {
   "cell_type": "markdown",
   "id": "7ae74ee8",
   "metadata": {
    "papermill": {
     "duration": 0.066609,
     "end_time": "2023-10-21T18:22:59.153503",
     "exception": false,
     "start_time": "2023-10-21T18:22:59.086894",
     "status": "completed"
    },
    "tags": []
   },
   "source": [
    "<div class=\"alert alert-block alert-info\" style=\"margin-bottom: 20px;font-size: 16px;\">\n",
    "    <b>📊 Observation:  </b>\n",
    "    <ul>\n",
    "        <li>The histogram distribution is distinctive due to the predominant absence of basements in most houses.</li>\n",
    "        <li>The correlation (0.31) between basement area and price indicates a relatively weak relationship. Remarkably, within the 500-2000 basement area range, the dataset showcases substantial price variation, encompassing low, medium, and high-priced properties in the same area.</li>\n",
    "    </ul>\n",
    "</div>\n"
   ]
  },
  {
   "cell_type": "markdown",
   "id": "d88cad33",
   "metadata": {
    "execution": {
     "iopub.execute_input": "2023-10-16T23:52:56.644303Z",
     "iopub.status.busy": "2023-10-16T23:52:56.643926Z",
     "iopub.status.idle": "2023-10-16T23:52:56.651191Z",
     "shell.execute_reply": "2023-10-16T23:52:56.649951Z",
     "shell.execute_reply.started": "2023-10-16T23:52:56.644274Z"
    },
    "papermill": {
     "duration": 0.064288,
     "end_time": "2023-10-21T18:22:59.282194",
     "exception": false,
     "start_time": "2023-10-21T18:22:59.217906",
     "status": "completed"
    },
    "tags": []
   },
   "source": [
    "<h3 align=\"left\"> <font color='coral'><i>Price - Price of each home sold</i></font></h3>"
   ]
  },
  {
   "cell_type": "code",
   "execution_count": 21,
   "id": "e7bb7e6b",
   "metadata": {
    "papermill": {
     "duration": 1.236609,
     "end_time": "2023-10-21T18:23:00.584650",
     "exception": false,
     "start_time": "2023-10-21T18:22:59.348041",
     "status": "completed"
    },
    "tags": []
   },
   "outputs": [],
   "source": [
    "# plt.figure(figsize=(8,5))\n",
    "# sns.histplot(data=df, x='price', kde=True, color='coral')\n",
    "# plt.xlabel('Price ($)')\n",
    "# plt.ylabel('Frequency') \n",
    "# plt.title('Price Distribution')\n",
    "# plt.show()"
   ]
  },
  {
   "cell_type": "markdown",
   "id": "0d0058a6",
   "metadata": {
    "papermill": {
     "duration": 0.071865,
     "end_time": "2023-10-21T18:23:00.723968",
     "exception": false,
     "start_time": "2023-10-21T18:23:00.652103",
     "status": "completed"
    },
    "tags": []
   },
   "source": [
    "<div class=\"alert alert-block alert-info\" style=\"margin-bottom: 20px;font-size: 16px;\">\n",
    "    <b>📊 Observation:  </b>\n",
    "    <ul>\n",
    "        <li>A majority of house prices fall within the 0-1,500,000 range.</li>\n",
    "        <li>The mean price for homes sold is around 540,088, reflecting the typical price in the dataset.</li>\n",
    "        <li>The existence of high-priced properties, including the maximum at 7,700,000, may denote exceptional or unique real estate listings, potentially considered as outliers within the dataset.</li>\n",
    "    </ul>\n",
    "</div>\n"
   ]
  },
  {
   "cell_type": "markdown",
   "id": "1e316c53",
   "metadata": {
    "papermill": {
     "duration": 0.074505,
     "end_time": "2023-10-21T18:23:00.864584",
     "exception": false,
     "start_time": "2023-10-21T18:23:00.790079",
     "status": "completed"
    },
    "tags": []
   },
   "source": [
    "<h3 align=\"left\"><font color='green'>Creating Function - Categoric Combined Plot</font></h3>"
   ]
  },
  {
   "cell_type": "code",
   "execution_count": 22,
   "id": "a2ce6bbb",
   "metadata": {
    "_kg_hide-input": true,
    "papermill": {
     "duration": 0.089089,
     "end_time": "2023-10-21T18:23:01.020045",
     "exception": false,
     "start_time": "2023-10-21T18:23:00.930956",
     "status": "completed"
    },
    "tags": []
   },
   "outputs": [],
   "source": [
    "# def create_subplot_grid(data, x, y):\n",
    "#     # Create subplots\n",
    "#     fig, axes = plt.subplots(1, 3, figsize=(15, 5))\n",
    "\n",
    "#     # Plot the countplot with percentages\n",
    "#     sns.countplot(data=data, x=x, ax=axes[0], palette='Set2')\n",
    "#     axes[0].set(title=f'{x} Frequency')\n",
    "#     axes[0].tick_params(axis='x', rotation=90)\n",
    "#     axes[0].set_ylabel('Count (%)')\n",
    "    \n",
    "#     # Calculate and annotate the percentages\n",
    "#     total = len(data)\n",
    "#     for p in axes[0].patches:\n",
    "#         percentage = '{:.1f}%'.format(100 * p.get_height() / total)\n",
    "#         x_ = p.get_x() + p.get_width() / 2\n",
    "#         y_ = p.get_height()\n",
    "#         axes[0].annotate(percentage, (x_, y_), ha='center', va='bottom')\n",
    "\n",
    "#     # Plot the boxplot\n",
    "#     sns.boxplot(data=data, x=x, y=y, ax=axes[1], palette='Set2')\n",
    "#     axes[1].set(title=f'Price vs. {x}')\n",
    "#     axes[1].tick_params(axis='x', rotation=90)\n",
    "\n",
    "#     # Plot the scatterplot with colors based on x\n",
    "#     sns.scatterplot(data=data, x=x, y=y, ax=axes[2], hue=x, palette='Set2')\n",
    "#     axes[2].set(title=f'{y} vs. {x}')\n",
    "#     axes[2].tick_params(axis='x', rotation=90)\n",
    "#     axes[2].yaxis.set_label_position(\"right\")\n",
    "    \n",
    "#     # Add the regression line to the scatterplot\n",
    "#     sns.regplot(data=data, x=x, y=y, ax=axes[2], color='coral', scatter=False)\n",
    "#     axes[2].get_legend().remove()\n",
    "\n",
    "#     plt.tight_layout()\n",
    "#     plt.show()"
   ]
  },
  {
   "cell_type": "markdown",
   "id": "ca7b7415",
   "metadata": {
    "execution": {
     "iopub.execute_input": "2023-10-16T23:52:56.644303Z",
     "iopub.status.busy": "2023-10-16T23:52:56.643926Z",
     "iopub.status.idle": "2023-10-16T23:52:56.651191Z",
     "shell.execute_reply": "2023-10-16T23:52:56.649951Z",
     "shell.execute_reply.started": "2023-10-16T23:52:56.644274Z"
    },
    "papermill": {
     "duration": 0.064629,
     "end_time": "2023-10-21T18:23:01.162445",
     "exception": false,
     "start_time": "2023-10-21T18:23:01.097816",
     "status": "completed"
    },
    "tags": []
   },
   "source": [
    "<h3 align=\"left\"> <font color='coral'><i>Bedrooms - Number of bedrooms</i></font></h3>"
   ]
  },
  {
   "cell_type": "code",
   "execution_count": 23,
   "id": "136efe4f",
   "metadata": {
    "papermill": {
     "duration": 3.686047,
     "end_time": "2023-10-21T18:23:04.913967",
     "exception": false,
     "start_time": "2023-10-21T18:23:01.227920",
     "status": "completed"
    },
    "tags": []
   },
   "outputs": [],
   "source": [
    "# create_subplot_grid(df, 'bedrooms', 'price')"
   ]
  },
  {
   "cell_type": "markdown",
   "id": "213b7198",
   "metadata": {
    "papermill": {
     "duration": 0.068963,
     "end_time": "2023-10-21T18:23:05.052208",
     "exception": false,
     "start_time": "2023-10-21T18:23:04.983245",
     "status": "completed"
    },
    "tags": []
   },
   "source": [
    "<div class=\"alert alert-block alert-info\" style=\"margin-bottom: 20px;font-size: 16px;\">\n",
    "    <b>📊 Observation and  ⚙️Modeling Insights::  </b>\n",
    "    <ul>\n",
    "        <li>About half of the houses feature 3 bedrooms, while the remaining half is split between 4 bedrooms and 2 bedrooms. </li>\n",
    "        <li>An observable trend is that prices tend to rise with an increasing number of bedrooms.</li>\n",
    "        <li>Individual points in the plot represent outliers, typically indicating higher-priced houses. Notably, there is one outlier in the bedrooms variable, indicating a house with 33 bedrooms.</li>\n",
    "        <li>A clear positive relationship is evident between the number of bedrooms and house prices, emphasizing that more bedrooms often lead to higher property prices.</li>\n",
    "    </ul>\n",
    "</div>\n"
   ]
  },
  {
   "cell_type": "markdown",
   "id": "bc7659c3",
   "metadata": {
    "execution": {
     "iopub.execute_input": "2023-10-16T23:52:56.644303Z",
     "iopub.status.busy": "2023-10-16T23:52:56.643926Z",
     "iopub.status.idle": "2023-10-16T23:52:56.651191Z",
     "shell.execute_reply": "2023-10-16T23:52:56.649951Z",
     "shell.execute_reply.started": "2023-10-16T23:52:56.644274Z"
    },
    "papermill": {
     "duration": 0.066945,
     "end_time": "2023-10-21T18:23:05.186590",
     "exception": false,
     "start_time": "2023-10-21T18:23:05.119645",
     "status": "completed"
    },
    "tags": []
   },
   "source": [
    "<h3 align=\"left\"> <font color='coral'><i>Bathrooms - Number of Bathrooms</i></font></h3>"
   ]
  },
  {
   "cell_type": "code",
   "execution_count": 24,
   "id": "a9a56b84",
   "metadata": {
    "papermill": {
     "duration": 4.880323,
     "end_time": "2023-10-21T18:23:10.133784",
     "exception": false,
     "start_time": "2023-10-21T18:23:05.253461",
     "status": "completed"
    },
    "tags": []
   },
   "outputs": [],
   "source": [
    "# create_subplot_grid(df, 'bathrooms', 'price')"
   ]
  },
  {
   "cell_type": "markdown",
   "id": "7f73fbba",
   "metadata": {
    "papermill": {
     "duration": 0.069736,
     "end_time": "2023-10-21T18:23:10.275468",
     "exception": false,
     "start_time": "2023-10-21T18:23:10.205732",
     "status": "completed"
    },
    "tags": []
   },
   "source": [
    "<div class=\"alert alert-block alert-info\" style=\"margin-bottom: 20px;font-size: 16px;\">\n",
    "    <b>📊 Observation and  ⚙️Modeling Insights::  </b>\n",
    "    <ul>\n",
    "    <li>The majority of houses feature 1 to 4 bathrooms, generally associated with lower prices, while houses with more than 4 bathrooms tend to be more expensive. </li>\n",
    "        <li>Anomalously, the summary includes fractional values for bathrooms, like 2.25, which are atypical since bathrooms are typically whole numbers (e.g., 1 or 2).</li>\n",
    "        <li>A proportional relationship exists between the number of bathrooms and property prices. However, after 5 bathrooms, the sample size becomes too limited, making it challenging to draw definitive conclusions.</li>\n",
    "    </ul>\n",
    "</div>\n"
   ]
  },
  {
   "cell_type": "markdown",
   "id": "0f155439",
   "metadata": {
    "execution": {
     "iopub.execute_input": "2023-10-16T23:52:56.644303Z",
     "iopub.status.busy": "2023-10-16T23:52:56.643926Z",
     "iopub.status.idle": "2023-10-16T23:52:56.651191Z",
     "shell.execute_reply": "2023-10-16T23:52:56.649951Z",
     "shell.execute_reply.started": "2023-10-16T23:52:56.644274Z"
    },
    "papermill": {
     "duration": 0.070186,
     "end_time": "2023-10-21T18:23:10.415713",
     "exception": false,
     "start_time": "2023-10-21T18:23:10.345527",
     "status": "completed"
    },
    "tags": []
   },
   "source": [
    "<h3 align=\"left\"> <font color='coral'><i>Floors - Number of floors</i></font></h3>"
   ]
  },
  {
   "cell_type": "code",
   "execution_count": 25,
   "id": "45a990e0",
   "metadata": {
    "papermill": {
     "duration": 3.630608,
     "end_time": "2023-10-21T18:23:14.116170",
     "exception": false,
     "start_time": "2023-10-21T18:23:10.485562",
     "status": "completed"
    },
    "tags": []
   },
   "outputs": [],
   "source": [
    "# create_subplot_grid(df, 'floors', 'price')"
   ]
  },
  {
   "cell_type": "markdown",
   "id": "9d1c04a9",
   "metadata": {
    "papermill": {
     "duration": 0.072011,
     "end_time": "2023-10-21T18:23:14.261984",
     "exception": false,
     "start_time": "2023-10-21T18:23:14.189973",
     "status": "completed"
    },
    "tags": []
   },
   "source": [
    "<div class=\"alert alert-block alert-info\" style=\"margin-bottom: 20px;font-size: 16px;\">\n",
    "    <b>📊 Observation and  ⚙️Modeling Insights::  </b>\n",
    "    <ul>\n",
    "        <li>Roughly half of the houses are single-story buildings, with the other half predominantly comprised of 2-story and 1.5-story structures. This suggests a substantial number of properties feature only a ground floor, with a few having penthouses as well.</li>\n",
    "        <li>Notably, there isn't an evident correlation between the number of floors and property costs.</li>     \n",
    "    </ul>\n",
    "</div>\n"
   ]
  },
  {
   "cell_type": "markdown",
   "id": "bdc5c3a1",
   "metadata": {
    "execution": {
     "iopub.execute_input": "2023-10-16T23:52:56.644303Z",
     "iopub.status.busy": "2023-10-16T23:52:56.643926Z",
     "iopub.status.idle": "2023-10-16T23:52:56.651191Z",
     "shell.execute_reply": "2023-10-16T23:52:56.649951Z",
     "shell.execute_reply.started": "2023-10-16T23:52:56.644274Z"
    },
    "papermill": {
     "duration": 0.071539,
     "end_time": "2023-10-21T18:23:14.405764",
     "exception": false,
     "start_time": "2023-10-21T18:23:14.334225",
     "status": "completed"
    },
    "tags": []
   },
   "source": [
    "<h3 align=\"left\"> <font color='coral'><i>Waterfront - A dummy variable for whether the apartment was overlooking the waterfront or not</i></font></h3>"
   ]
  },
  {
   "cell_type": "code",
   "execution_count": 26,
   "id": "935ad9dc",
   "metadata": {
    "papermill": {
     "duration": 2.975083,
     "end_time": "2023-10-21T18:23:17.452751",
     "exception": false,
     "start_time": "2023-10-21T18:23:14.477668",
     "status": "completed"
    },
    "tags": []
   },
   "outputs": [],
   "source": [
    "# create_subplot_grid(df, 'waterfront', 'price')"
   ]
  },
  {
   "cell_type": "markdown",
   "id": "e8ec4635",
   "metadata": {
    "papermill": {
     "duration": 0.074297,
     "end_time": "2023-10-21T18:23:17.602928",
     "exception": false,
     "start_time": "2023-10-21T18:23:17.528631",
     "status": "completed"
    },
    "tags": []
   },
   "source": [
    "<div class=\"alert alert-block alert-info\" style=\"margin-bottom: 20px;font-size: 16px;\">\n",
    "    <b>📊 Observation and  ⚙️Modeling Insights::  </b>\n",
    "    <ul>\n",
    "        <li>The data reveals that roughly 1 in 10 houses boast waterfront access, while a significant majority lack this feature. </li>\n",
    "        <li>Waterfront properties generally command higher price values, indicating their premium status.</li>\n",
    "        <li>Waterfront homes exhibit a broader price range, whereas non-waterfront properties tend to have more consistent pricing.</li>\n",
    "       <li>Houses with a view of the waterfront are notably more expensive than those without such a view, signifying the added value of scenic vistas.</li>\n",
    "    </ul>\n",
    "</div>\n"
   ]
  },
  {
   "cell_type": "markdown",
   "id": "0f6406c0",
   "metadata": {
    "execution": {
     "iopub.execute_input": "2023-10-16T23:52:56.644303Z",
     "iopub.status.busy": "2023-10-16T23:52:56.643926Z",
     "iopub.status.idle": "2023-10-16T23:52:56.651191Z",
     "shell.execute_reply": "2023-10-16T23:52:56.649951Z",
     "shell.execute_reply.started": "2023-10-16T23:52:56.644274Z"
    },
    "papermill": {
     "duration": 0.074474,
     "end_time": "2023-10-21T18:23:17.752285",
     "exception": false,
     "start_time": "2023-10-21T18:23:17.677811",
     "status": "completed"
    },
    "tags": []
   },
   "source": [
    "<h3 align=\"left\"> <font color='coral'><i>View -An index from 0 to 4 of how good the view of the property</i></font></h3>"
   ]
  },
  {
   "cell_type": "code",
   "execution_count": 27,
   "id": "031ffc85",
   "metadata": {
    "papermill": {
     "duration": 3.271747,
     "end_time": "2023-10-21T18:23:21.099077",
     "exception": false,
     "start_time": "2023-10-21T18:23:17.827330",
     "status": "completed"
    },
    "tags": []
   },
   "outputs": [],
   "source": [
    "# create_subplot_grid(df, 'view', 'price')"
   ]
  },
  {
   "cell_type": "markdown",
   "id": "fe9b9ac0",
   "metadata": {
    "papermill": {
     "duration": 0.075346,
     "end_time": "2023-10-21T18:23:21.250718",
     "exception": false,
     "start_time": "2023-10-21T18:23:21.175372",
     "status": "completed"
    },
    "tags": []
   },
   "source": [
    "<div class=\"alert alert-block alert-info\" style=\"margin-bottom: 20px;font-size: 16px;\">\n",
    "    <b>📊 Observation and  ⚙️Modeling Insights::  </b>\n",
    "    <ul>\n",
    "        <li>The 'View' rating ranges from 0 to 4, reflecting the quality of the property's view. The graph illustrates that most houses lack a substantial view, resulting in lower price ranges.</li>\n",
    "        <li>Notably, there exists a positive correlation between the price of a house and its 'View' rating. Houses with a view rating of 4 tend to be particularly expensive, signifying the value attributed to exceptional views.</li>\n",
    "    </ul>\n",
    "</div>\n"
   ]
  },
  {
   "cell_type": "markdown",
   "id": "65d8f20f",
   "metadata": {
    "execution": {
     "iopub.execute_input": "2023-10-16T23:52:56.644303Z",
     "iopub.status.busy": "2023-10-16T23:52:56.643926Z",
     "iopub.status.idle": "2023-10-16T23:52:56.651191Z",
     "shell.execute_reply": "2023-10-16T23:52:56.649951Z",
     "shell.execute_reply.started": "2023-10-16T23:52:56.644274Z"
    },
    "papermill": {
     "duration": 0.075379,
     "end_time": "2023-10-21T18:23:21.401214",
     "exception": false,
     "start_time": "2023-10-21T18:23:21.325835",
     "status": "completed"
    },
    "tags": []
   },
   "source": [
    "<h3 align=\"left\"> <font color='coral'><i>Condition - An index from 1 to 5 on the condition of the apartment</i></font></h3>"
   ]
  },
  {
   "cell_type": "code",
   "execution_count": 28,
   "id": "52024a53",
   "metadata": {
    "papermill": {
     "duration": 3.242111,
     "end_time": "2023-10-21T18:23:24.718969",
     "exception": false,
     "start_time": "2023-10-21T18:23:21.476858",
     "status": "completed"
    },
    "tags": []
   },
   "outputs": [],
   "source": [
    "# create_subplot_grid(df, 'condition', 'price')"
   ]
  },
  {
   "cell_type": "markdown",
   "id": "9a076dd5",
   "metadata": {
    "papermill": {
     "duration": 0.077323,
     "end_time": "2023-10-21T18:23:24.872836",
     "exception": false,
     "start_time": "2023-10-21T18:23:24.795513",
     "status": "completed"
    },
    "tags": []
   },
   "source": [
    "<div class=\"alert alert-block alert-info\" style=\"margin-bottom: 20px;font-size: 16px;\">\n",
    "    <b>📊 Observation and  ⚙️Modeling Insights::  </b>\n",
    "    <ul>\n",
    "        <li>The 'Condition' rating spans from 0 to 5, reflecting the building's condition. It's safe to say that a substantial portion of houses are in relatively good condition.</li>\n",
    "        <li>There exists a weak relationship between the 'Condition' rating and property prices, suggesting that condition alone isn't a strong price determinant.</li>\n",
    "        <li>An interesting avenue for exploration lies in examining the impact of low or high renovation rates on property values..</li>\n",
    "    </ul>\n",
    "</div>\n"
   ]
  },
  {
   "cell_type": "markdown",
   "id": "dedec5e5",
   "metadata": {
    "execution": {
     "iopub.execute_input": "2023-10-16T23:52:56.644303Z",
     "iopub.status.busy": "2023-10-16T23:52:56.643926Z",
     "iopub.status.idle": "2023-10-16T23:52:56.651191Z",
     "shell.execute_reply": "2023-10-16T23:52:56.649951Z",
     "shell.execute_reply.started": "2023-10-16T23:52:56.644274Z"
    },
    "papermill": {
     "duration": 0.076774,
     "end_time": "2023-10-21T18:23:25.026859",
     "exception": false,
     "start_time": "2023-10-21T18:23:24.950085",
     "status": "completed"
    },
    "tags": []
   },
   "source": [
    "<h3 align=\"left\"> <font color='coral'><i>Grade -  An index from 1 to 13, where 1-3 falls short of building construction and design, 7 has an average level of construction and design, and 11-13 have a high quality level of construction and design.</i></font></h3>"
   ]
  },
  {
   "cell_type": "code",
   "execution_count": 29,
   "id": "f28dfe2c",
   "metadata": {
    "papermill": {
     "duration": 3.658723,
     "end_time": "2023-10-21T18:23:28.762547",
     "exception": false,
     "start_time": "2023-10-21T18:23:25.103824",
     "status": "completed"
    },
    "tags": []
   },
   "outputs": [],
   "source": [
    "# create_subplot_grid(df, 'grade', 'price')"
   ]
  },
  {
   "cell_type": "markdown",
   "id": "d9ed5d05",
   "metadata": {
    "papermill": {
     "duration": 0.081597,
     "end_time": "2023-10-21T18:23:28.925475",
     "exception": false,
     "start_time": "2023-10-21T18:23:28.843878",
     "status": "completed"
    },
    "tags": []
   },
   "source": [
    "<div class=\"alert alert-block alert-info\" style=\"margin-bottom: 20px;font-size: 16px;\">\n",
    "    <b>📊 Observation and  ⚙️Modeling Insights::  </b>\n",
    "    <ul>\n",
    "        <li>The majority of houses exhibit average levels of construction and design quality. Notably, as the quality of construction and design improves, property prices tend to increase. </li>\n",
    "           <li> This correlation aligns with the expectation that superior construction and design quality command higher prices in the real estate market.</li>\n",
    "    </ul>\n",
    "</div>\n"
   ]
  },
  {
   "cell_type": "markdown",
   "id": "a2d0672d",
   "metadata": {
    "execution": {
     "iopub.execute_input": "2023-10-16T23:52:56.644303Z",
     "iopub.status.busy": "2023-10-16T23:52:56.643926Z",
     "iopub.status.idle": "2023-10-16T23:52:56.651191Z",
     "shell.execute_reply": "2023-10-16T23:52:56.649951Z",
     "shell.execute_reply.started": "2023-10-16T23:52:56.644274Z"
    },
    "papermill": {
     "duration": 0.078744,
     "end_time": "2023-10-21T18:23:29.083706",
     "exception": false,
     "start_time": "2023-10-21T18:23:29.004962",
     "status": "completed"
    },
    "tags": []
   },
   "source": [
    "<h3 align=\"left\"> <font color='coral'><i>Latitude - Location of House in terms of latitude</i></font></h3>"
   ]
  },
  {
   "cell_type": "code",
   "execution_count": 30,
   "id": "30238327",
   "metadata": {
    "papermill": {
     "duration": 2.336629,
     "end_time": "2023-10-21T18:23:31.499577",
     "exception": false,
     "start_time": "2023-10-21T18:23:29.162948",
     "status": "completed"
    },
    "tags": []
   },
   "outputs": [],
   "source": [
    "# # Create the scatter plot with a color gradient for price\n",
    "# plt.figure(figsize=(15, 7))\n",
    "# sns.scatterplot(x='lat', y='price', data=df, hue='price', palette='husl')\n",
    "# plt.xlabel('Latitude', fontsize=14)\n",
    "# plt.ylabel('Price', fontsize=14)\n",
    "# plt.title('Latitude vs. Price (Color Gradient)', fontsize=16)\n",
    "# plt.show()"
   ]
  },
  {
   "cell_type": "markdown",
   "id": "b2d57bd4",
   "metadata": {
    "papermill": {
     "duration": 0.08458,
     "end_time": "2023-10-21T18:23:31.669584",
     "exception": false,
     "start_time": "2023-10-21T18:23:31.585004",
     "status": "completed"
    },
    "tags": []
   },
   "source": [
    "<div class=\"alert alert-block alert-info\" style=\"margin-bottom: 20px;font-size: 16px;\">\n",
    "    <b>📊 Observation and  ⚙️Modeling Insights::  </b>\n",
    "    <ul>\n",
    "        <li> A concentration of high-priced houses is evident within the latitude range of 47.5-47.7. Simultaneously, this region experiences a notably high density of houses.</li> \n",
    "           <li> This observation suggests that this latitude range is a hotspot for both valuable real estate and a dense residential presence.  </li>\n",
    "    </ul>\n",
    "</div>\n"
   ]
  },
  {
   "cell_type": "markdown",
   "id": "fbd9f78f",
   "metadata": {
    "execution": {
     "iopub.execute_input": "2023-10-16T23:52:56.644303Z",
     "iopub.status.busy": "2023-10-16T23:52:56.643926Z",
     "iopub.status.idle": "2023-10-16T23:52:56.651191Z",
     "shell.execute_reply": "2023-10-16T23:52:56.649951Z",
     "shell.execute_reply.started": "2023-10-16T23:52:56.644274Z"
    },
    "papermill": {
     "duration": 0.087786,
     "end_time": "2023-10-21T18:23:31.841861",
     "exception": false,
     "start_time": "2023-10-21T18:23:31.754075",
     "status": "completed"
    },
    "tags": []
   },
   "source": [
    "<h3 align=\"left\"> <font color='coral'><i>Longitude - Location of House in terms of longitude</i></font></h3>"
   ]
  },
  {
   "cell_type": "code",
   "execution_count": 31,
   "id": "ce2fdb68",
   "metadata": {
    "papermill": {
     "duration": 2.079981,
     "end_time": "2023-10-21T18:23:34.011892",
     "exception": false,
     "start_time": "2023-10-21T18:23:31.931911",
     "status": "completed"
    },
    "tags": []
   },
   "outputs": [],
   "source": [
    "# # Create the scatter plot with a color gradient for price\n",
    "# plt.figure(figsize=(15, 7))\n",
    "# sns.scatterplot(x='long', y='price', data=df, hue='price', palette='husl')\n",
    "# plt.xlabel('Longitude', fontsize=14)\n",
    "# plt.ylabel('Price', fontsize=14)\n",
    "# plt.title('Longitude vs. Price (Color Gradient)', fontsize=16)\n",
    "# plt.show()"
   ]
  },
  {
   "cell_type": "markdown",
   "id": "1a7750bc",
   "metadata": {
    "papermill": {
     "duration": 0.088795,
     "end_time": "2023-10-21T18:23:34.190288",
     "exception": false,
     "start_time": "2023-10-21T18:23:34.101493",
     "status": "completed"
    },
    "tags": []
   },
   "source": [
    "<div class=\"alert alert-block alert-info\" style=\"margin-bottom: 20px;font-size: 16px;\">\n",
    "    <b>📊 Observation and  ⚙️Modeling Insights::  </b>\n",
    "    <ul>\n",
    "        <li>Price differentiation based on longitude is generally indistinct. However, a discernible price distribution emerges at specific longitudes, particularly around -122.4 to -122.0.</li> \n",
    "            <li>This suggests that the area near longitude -122.4 to -122.0. is associated with more expensive housing, with a distinct price distribution.</li>\n",
    "    </ul>\n",
    "</div>\n"
   ]
  },
  {
   "cell_type": "markdown",
   "id": "df61fc8f",
   "metadata": {
    "execution": {
     "iopub.execute_input": "2023-10-16T23:52:56.644303Z",
     "iopub.status.busy": "2023-10-16T23:52:56.643926Z",
     "iopub.status.idle": "2023-10-16T23:52:56.651191Z",
     "shell.execute_reply": "2023-10-16T23:52:56.649951Z",
     "shell.execute_reply.started": "2023-10-16T23:52:56.644274Z"
    },
    "papermill": {
     "duration": 0.091007,
     "end_time": "2023-10-21T18:23:34.372558",
     "exception": false,
     "start_time": "2023-10-21T18:23:34.281551",
     "status": "completed"
    },
    "tags": []
   },
   "source": [
    "<h3 align=\"left\"> <font color='coral'><i>Yr_built - The year the house was initially built</i></font></h3>"
   ]
  },
  {
   "cell_type": "code",
   "execution_count": 32,
   "id": "1c600e2f",
   "metadata": {
    "papermill": {
     "duration": 4.749504,
     "end_time": "2023-10-21T18:23:39.211818",
     "exception": false,
     "start_time": "2023-10-21T18:23:34.462314",
     "status": "completed"
    },
    "tags": []
   },
   "outputs": [],
   "source": [
    "# plt.figure(figsize=(15, 5))\n",
    "# sns.lineplot(x='yr_built', y='price', data=df, color='teal', lw=5, marker='o', markerfacecolor='red')\n",
    "# plt.title('Price depending on yr_built', fontsize=17)\n",
    "# plt.xlabel('yr_built', fontsize=14)\n",
    "# plt.ylabel('price', fontsize=14)"
   ]
  },
  {
   "cell_type": "markdown",
   "id": "78256fc9",
   "metadata": {
    "papermill": {
     "duration": 0.093012,
     "end_time": "2023-10-21T18:23:39.397822",
     "exception": false,
     "start_time": "2023-10-21T18:23:39.304810",
     "status": "completed"
    },
    "tags": []
   },
   "source": [
    "<div class=\"alert alert-block alert-info\" style=\"margin-bottom: 20px;font-size: 16px;\">\n",
    "    <b>📊 Observation and  ⚙️Modeling Insights::  </b>\n",
    "    <ul>\n",
    "        <li>The lowest cost is associated with houses constructed during the Second World War. Conversely, the highest prices are observed for houses built in 1905, 1934, 2001, and 2014.</li>\n",
    "    </ul>\n",
    "</div>\n"
   ]
  },
  {
   "cell_type": "markdown",
   "id": "8c646c89",
   "metadata": {
    "execution": {
     "iopub.execute_input": "2023-10-16T23:52:56.644303Z",
     "iopub.status.busy": "2023-10-16T23:52:56.643926Z",
     "iopub.status.idle": "2023-10-16T23:52:56.651191Z",
     "shell.execute_reply": "2023-10-16T23:52:56.649951Z",
     "shell.execute_reply.started": "2023-10-16T23:52:56.644274Z"
    },
    "papermill": {
     "duration": 0.092604,
     "end_time": "2023-10-21T18:23:39.582409",
     "exception": false,
     "start_time": "2023-10-21T18:23:39.489805",
     "status": "completed"
    },
    "tags": []
   },
   "source": [
    "<h3 align=\"left\"> <font color='coral'><i>Yr_renovated - The year of the house’s last renovation</i></font></h3>"
   ]
  },
  {
   "cell_type": "code",
   "execution_count": 33,
   "id": "9ab53c2c",
   "metadata": {
    "_kg_hide-input": true,
    "papermill": {
     "duration": 2.983749,
     "end_time": "2023-10-21T18:23:42.660641",
     "exception": false,
     "start_time": "2023-10-21T18:23:39.676892",
     "status": "completed"
    },
    "tags": []
   },
   "outputs": [],
   "source": [
    "# Count the number of houses that have been renovated (non-zero 'yr_renovated').\n",
    "renovated_count = len(df[df['yr_renovated'] != 0])\n",
    "\n",
    "# Calculate the total number of houses.\n",
    "total_houses = len(df)\n",
    "\n",
    "# Calculate the percentage of houses that have been renovated.\n",
    "percentage_renovated = (renovated_count / total_houses) * 100\n",
    "\n",
    "# Create a pie chart.\n",
    "labels = ['Renovated', 'Not Renovated']\n",
    "sizes = [percentage_renovated, 100 - percentage_renovated]\n",
    "explode = (0.1, 0)  \n",
    "\n",
    "# plt.figure(figsize=(15, 6))\n",
    "# plt.subplot(1, 2, 1)\n",
    "# plt.pie(sizes, labels=labels, autopct='%1.1f%%', startangle=0, explode=explode, colors=['lightcoral', 'lightgreen'])\n",
    "# plt.title('Percentage of Houses Renovated')\n",
    "# plt.axis('equal')\n",
    "\n",
    "# # Create the line plot showing the relationship between price and the year of renovation.\n",
    "# plt.subplot(1, 2, 2)\n",
    "# sns.lineplot(x='yr_renovated', y='price', data=df[df['yr_renovated'] != 0], color='teal', lw=5, marker='o', markerfacecolor='red')\n",
    "# plt.title('Price depending on yr_renovated', fontsize=17)\n",
    "# plt.xlabel('yr_renovated', fontsize=14)\n",
    "# plt.ylabel('price', fontsize=14)\n",
    "\n",
    "# plt.tight_layout()\n",
    "\n",
    "# plt.show()"
   ]
  },
  {
   "cell_type": "markdown",
   "id": "c5101116",
   "metadata": {
    "papermill": {
     "duration": 0.094979,
     "end_time": "2023-10-21T18:23:42.853602",
     "exception": false,
     "start_time": "2023-10-21T18:23:42.758623",
     "status": "completed"
    },
    "tags": []
   },
   "source": [
    "<div class=\"alert alert-block alert-info\" style=\"margin-bottom: 20px;font-size: 16px;\">\n",
    "    <b>📊 Observation and  ⚙️Modeling Insights::  </b>\n",
    "    <ul>\n",
    "        <li>The overall decent condition of houses explains why only a small fraction, specifically 4.2%, undergo renovation.</li>\n",
    "        <li>Notably, from 1970 onwards, there's a noticeable upward trend in renovation prices.</li>\n",
    "    </ul>\n",
    "</div>\n"
   ]
  },
  {
   "cell_type": "markdown",
   "id": "eea90473",
   "metadata": {
    "papermill": {
     "duration": 0.09816,
     "end_time": "2023-10-21T18:23:43.046752",
     "exception": false,
     "start_time": "2023-10-21T18:23:42.948592",
     "status": "completed"
    },
    "tags": []
   },
   "source": [
    "<h2 align=\"left\"><font color='FF8C00'><u>Multivariate Analysis</u></font></h2>"
   ]
  },
  {
   "cell_type": "code",
   "execution_count": 34,
   "id": "722d370e",
   "metadata": {
    "papermill": {
     "duration": 2.066545,
     "end_time": "2023-10-21T18:23:45.208004",
     "exception": false,
     "start_time": "2023-10-21T18:23:43.141459",
     "status": "completed"
    },
    "tags": []
   },
   "outputs": [],
   "source": [
    "# plt.figure(figsize=(15, 7))\n",
    "# sns.scatterplot(data=df, x='sqft_living', y='price', hue='grade', palette='RdYlGn_r')\n",
    "# plt.xlabel('Living Space (sqft)', fontsize=12)\n",
    "# plt.ylabel('Price', fontsize=12)\n",
    "# plt.title('Scatter Plot of Price vs. Living Space by Grade', fontsize=15)\n",
    "# plt.legend(title='Grade', fontsize=14, title_fontsize=14)\n",
    "# plt.show()"
   ]
  },
  {
   "cell_type": "code",
   "execution_count": 35,
   "id": "ed71f6c9",
   "metadata": {
    "papermill": {
     "duration": 2.097639,
     "end_time": "2023-10-21T18:23:47.408645",
     "exception": false,
     "start_time": "2023-10-21T18:23:45.311006",
     "status": "completed"
    },
    "tags": []
   },
   "outputs": [],
   "source": [
    "# plt.figure(figsize=(15, 7))\n",
    "# sns.scatterplot(data=df, x='sqft_living', y='price', hue='bathrooms', palette='RdYlGn_r')\n",
    "# plt.xlabel('Living Space (sqft)', fontsize=12)\n",
    "# plt.ylabel('Price', fontsize=12)\n",
    "# plt.title('Scatter Plot of Price vs. Living Space by Number of Bathrooms', fontsize=15)\n",
    "# plt.legend(title='Bathrooms', fontsize=14, title_fontsize=14)\n",
    "# plt.show()"
   ]
  },
  {
   "cell_type": "code",
   "execution_count": 36,
   "id": "bc40c5e3",
   "metadata": {
    "papermill": {
     "duration": 1.431188,
     "end_time": "2023-10-21T18:23:48.945065",
     "exception": false,
     "start_time": "2023-10-21T18:23:47.513877",
     "status": "completed"
    },
    "tags": []
   },
   "outputs": [],
   "source": [
    "# plt.figure(figsize=(15, 7))\n",
    "# sns.scatterplot(data=df, x='yr_built', y='price', hue=df['yr_renovated'].apply(lambda x: 'Yes' if x > 0 else 'No'))\n",
    "# plt.xlabel('Year Built', fontsize=12)\n",
    "# plt.ylabel('Price', fontsize=12)\n",
    "# plt.title('Scatter Plot of Price vs. Year Built (Renovated vs. Not Renovated)', fontsize=15)\n",
    "# plt.legend(title='Renovated', fontsize=14, title_fontsize=14)\n",
    "# plt.show()"
   ]
  },
  {
   "cell_type": "markdown",
   "id": "76908ada",
   "metadata": {
    "papermill": {
     "duration": 0.110682,
     "end_time": "2023-10-21T18:23:49.167577",
     "exception": false,
     "start_time": "2023-10-21T18:23:49.056895",
     "status": "completed"
    },
    "tags": []
   },
   "source": [
    "<div class=\"alert alert-block alert-info\" style=\"margin-bottom: 20px;font-size: 16px;\">\n",
    "    <b>📊 Combined Observation and Insights Multi-Variate Analysis:  </b>\n",
    "    <ul>\n",
    "        <li>Higher-grade properties (probably indicating better quality) tend to have larger living spaces and higher prices. There is a positive correlation between living space size and price, and this correlation is influenced by the property's grade.</li>\n",
    "        <li>Properties with more bathrooms tend to have larger living spaces and higher prices. The color differentiation by the number of bathrooms allows for a clearer understanding of how different bathroom counts affect the relationship between living space and price.</li>\n",
    "        <li>The majority of the renovated houses date back to the period between the 1900s and the 1980s.</li>\n",
    "    </ul>\n",
    "</div>\n"
   ]
  },
  {
   "cell_type": "markdown",
   "id": "f33a27d8",
   "metadata": {
    "papermill": {
     "duration": 0.111356,
     "end_time": "2023-10-21T18:23:49.389782",
     "exception": false,
     "start_time": "2023-10-21T18:23:49.278426",
     "status": "completed"
    },
    "tags": []
   },
   "source": [
    "<div style=\"color:white;\n",
    "           display:fill;\n",
    "           border-radius:20px;\n",
    "           background-color:#FFA500;\n",
    "           font-size:200%;\n",
    "           font-family:Verdana;\n",
    "           letter-spacing:1px\">\n",
    "<a class=\"anchor\" id=\"CH-4\"></a> \n",
    "<p style=\"padding: 10px;\n",
    "              color:white;\">\n",
    "              4. Feature Engineering 🛠️\n",
    "</p>\n",
    "</div>"
   ]
  },
  {
   "cell_type": "markdown",
   "id": "aacd2f64",
   "metadata": {
    "papermill": {
     "duration": 0.109552,
     "end_time": "2023-10-21T18:23:49.609469",
     "exception": false,
     "start_time": "2023-10-21T18:23:49.499917",
     "status": "completed"
    },
    "tags": []
   },
   "source": [
    "<h2 align=\"left\"><font color='FF8C00'><u>Train-Test Split</u> Executing Initially To Prevent Data Leakage</font></h2>"
   ]
  },
  {
   "cell_type": "code",
   "execution_count": 37,
   "id": "dd82311c",
   "metadata": {
    "papermill": {
     "duration": 0.430237,
     "end_time": "2023-10-21T18:23:50.152404",
     "exception": false,
     "start_time": "2023-10-21T18:23:49.722167",
     "status": "completed"
    },
    "tags": []
   },
   "outputs": [
    {
     "data": {
      "text/plain": [
       "((15129, 18), (15129, 1), (6484, 18), (6484, 1))"
      ]
     },
     "execution_count": 37,
     "metadata": {},
     "output_type": "execute_result"
    }
   ],
   "source": [
    "# Train Test Split\n",
    "from sklearn.model_selection import train_test_split\n",
    "X_train,X_test,y_train,y_test = train_test_split(df.iloc[:,1:19],df.iloc[:,0],test_size=0.3, random_state=0)\n",
    "\n",
    "# Converting y_train, y_test back to DataFrame\n",
    "y_train = pd.DataFrame(y_train)\n",
    "y_test = pd.DataFrame(y_test)\n",
    "\n",
    "X_train.shape,y_train.shape,X_test.shape,y_test.shape"
   ]
  },
  {
   "cell_type": "markdown",
   "id": "493154f3",
   "metadata": {
    "execution": {
     "iopub.execute_input": "2023-10-13T14:48:41.251357Z",
     "iopub.status.busy": "2023-10-13T14:48:41.250907Z",
     "iopub.status.idle": "2023-10-13T14:48:41.257649Z",
     "shell.execute_reply": "2023-10-13T14:48:41.256288Z",
     "shell.execute_reply.started": "2023-10-13T14:48:41.251327Z"
    },
    "papermill": {
     "duration": 0.113803,
     "end_time": "2023-10-21T18:23:50.380871",
     "exception": false,
     "start_time": "2023-10-21T18:23:50.267068",
     "status": "completed"
    },
    "tags": []
   },
   "source": [
    "<div class=\"alert alert-block alert-warning\" style=\"margin-bottom: 20px; font-size: 16px;\">\n",
    "    <b>⚙️ Modeling Insights: </b>\n",
    "    <ul>\n",
    "        <li>By splitting the data first, to ensure that feature engineering is based solely on the training data, to avoid data leakage and making the model evaluation more reliable and realistic.</li>\n",
    "    </ul>\n",
    "</div>"
   ]
  },
  {
   "cell_type": "markdown",
   "id": "fa3ae51c",
   "metadata": {
    "papermill": {
     "duration": 0.111106,
     "end_time": "2023-10-21T18:23:50.612041",
     "exception": false,
     "start_time": "2023-10-21T18:23:50.500935",
     "status": "completed"
    },
    "tags": []
   },
   "source": [
    "<h2 align=\"left\"><font color='FF8C00'><u>1. Outlier Detection and Treatment</u></font></h2>"
   ]
  },
  {
   "cell_type": "markdown",
   "id": "eb64c7bd",
   "metadata": {
    "papermill": {
     "duration": 0.111206,
     "end_time": "2023-10-21T18:23:50.835217",
     "exception": false,
     "start_time": "2023-10-21T18:23:50.724011",
     "status": "completed"
    },
    "tags": []
   },
   "source": [
    "<h3 align=\"left\"><font color='green'>Creating Function - Box Plot</font></h3>"
   ]
  },
  {
   "cell_type": "code",
   "execution_count": 38,
   "id": "e5de27ee",
   "metadata": {
    "_kg_hide-input": true,
    "papermill": {
     "duration": 3.126955,
     "end_time": "2023-10-21T18:23:54.073039",
     "exception": false,
     "start_time": "2023-10-21T18:23:50.946084",
     "status": "completed"
    },
    "tags": []
   },
   "outputs": [],
   "source": [
    "# fig,axes = plt.subplots(5,2,figsize=(15,15))\n",
    "\n",
    "# def plot_two(feat,i,j):\n",
    "#     sns.boxplot(x=X_train[feat],color='yellow', width=0.5, flierprops={'marker': 'o', 'markerfacecolor': 'red', 'markersize': 3.5}, ax=axes[i,j])\n",
    "#     axes[i, j].set_title(feat)\n",
    "#     axes[i, j].set_xlabel('')\n",
    "\n",
    "# for i,feat in enumerate(numeric_columns):\n",
    "#     j = i%2 #0 or 1\n",
    "#     plot_two(feat,i//2,j)\n",
    "#     warnings.filterwarnings(\"ignore\", category=UserWarning)\n",
    "\n",
    "# fig.suptitle('Box Plots for Numerical Variables', fontsize=16)\n",
    "# plt.tight_layout()\n",
    "# plt.show()"
   ]
  },
  {
   "cell_type": "code",
   "execution_count": 39,
   "id": "d29367f0",
   "metadata": {
    "papermill": {
     "duration": 0.124652,
     "end_time": "2023-10-21T18:23:54.309933",
     "exception": false,
     "start_time": "2023-10-21T18:23:54.185281",
     "status": "completed"
    },
    "tags": []
   },
   "outputs": [],
   "source": [
    "# During EDA It was observed Categoric Feature - Bedroom had outlier\n",
    "X_train['bedrooms'] = np.where(X_train['bedrooms'] > 11, 11, X_train['bedrooms'])\n",
    "X_test['bedrooms'] = np.where(X_test['bedrooms'] > 11, 11, X_test['bedrooms'])"
   ]
  },
  {
   "cell_type": "markdown",
   "id": "ee041026",
   "metadata": {
    "execution": {
     "iopub.execute_input": "2023-10-13T14:48:41.251357Z",
     "iopub.status.busy": "2023-10-13T14:48:41.250907Z",
     "iopub.status.idle": "2023-10-13T14:48:41.257649Z",
     "shell.execute_reply": "2023-10-13T14:48:41.256288Z",
     "shell.execute_reply.started": "2023-10-13T14:48:41.251327Z"
    },
    "papermill": {
     "duration": 0.112568,
     "end_time": "2023-10-21T18:23:54.535088",
     "exception": false,
     "start_time": "2023-10-21T18:23:54.422520",
     "status": "completed"
    },
    "tags": []
   },
   "source": [
    "<div class=\"alert alert-block alert-warning\" style=\"margin-bottom: 20px; font-size: 16px;\">\n",
    "    <b>⚙️ Modeling Insights: </b>\n",
    "    <ul>\n",
    "        <li>Numerous features in the dataset exhibit a notable presence of outliers. Eliminating these outliers could result in a significant loss of valuable information. Various techniques, including Z-score, standard deviation, IQR, and percentile capping, were explored, but none proved effective for this dataset.</li> \n",
    "            <li>Consequently, the next iteration of this kernel will experiment with outlier detection using clustering methods. For now, we will proceed with feature transformation to work with the existing data.</li>\n",
    "    </ul>\n",
    "</div>"
   ]
  },
  {
   "cell_type": "markdown",
   "id": "ee49e69f",
   "metadata": {
    "papermill": {
     "duration": 0.110969,
     "end_time": "2023-10-21T18:23:54.758441",
     "exception": false,
     "start_time": "2023-10-21T18:23:54.647472",
     "status": "completed"
    },
    "tags": []
   },
   "source": [
    "<h2 align=\"left\"><font color='FF8C00'><u>2. Feature Transformation </u></font></h2>"
   ]
  },
  {
   "cell_type": "markdown",
   "id": "334f6c69",
   "metadata": {
    "papermill": {
     "duration": 0.111936,
     "end_time": "2023-10-21T18:23:54.982185",
     "exception": false,
     "start_time": "2023-10-21T18:23:54.870249",
     "status": "completed"
    },
    "tags": []
   },
   "source": [
    "<h3 align=\"left\"><font color='green'>Creating Function - Log_Transformation</font></h3>"
   ]
  },
  {
   "cell_type": "code",
   "execution_count": 40,
   "id": "99ac00bd",
   "metadata": {
    "_kg_hide-input": true,
    "papermill": {
     "duration": 0.12502,
     "end_time": "2023-10-21T18:23:55.222565",
     "exception": false,
     "start_time": "2023-10-21T18:23:55.097545",
     "status": "completed"
    },
    "tags": []
   },
   "outputs": [],
   "source": [
    "# def log_transformation(data,column):\n",
    "#     plt.figure(figsize=(22,6))\n",
    "\n",
    "#     plt.subplot(141)\n",
    "#     sns.histplot(data[column],kde=True,color='red');\n",
    "\n",
    "#     plt.subplot(142)\n",
    "#     stats.probplot(data[column], dist=\"norm\", plot=pylab) ;\n",
    "\n",
    "#     plt.subplot(143)\n",
    "#     sns.histplot(np.log(data[column]),color=\"green\",kde=True);\n",
    "\n",
    "#     plt.subplot(144)\n",
    "#     stats.probplot(np.log(data[column]), dist=\"norm\", plot=pylab) ;\n",
    "    \n",
    "#     data[column] = np.log(data[column])"
   ]
  },
  {
   "cell_type": "code",
   "execution_count": 41,
   "id": "0c25b661",
   "metadata": {
    "papermill": {
     "duration": 2.455307,
     "end_time": "2023-10-21T18:23:57.790226",
     "exception": false,
     "start_time": "2023-10-21T18:23:55.334919",
     "status": "completed"
    },
    "tags": []
   },
   "outputs": [],
   "source": [
    "# log_transformation(X_train,'sqft_living')"
   ]
  },
  {
   "cell_type": "code",
   "execution_count": 42,
   "id": "f1ed74db",
   "metadata": {
    "papermill": {
     "duration": 2.241325,
     "end_time": "2023-10-21T18:24:00.147245",
     "exception": false,
     "start_time": "2023-10-21T18:23:57.905920",
     "status": "completed"
    },
    "tags": []
   },
   "outputs": [],
   "source": [
    "# log_transformation(X_train,'sqft_living15')"
   ]
  },
  {
   "cell_type": "code",
   "execution_count": 43,
   "id": "f3e0dcad",
   "metadata": {
    "papermill": {
     "duration": 2.473394,
     "end_time": "2023-10-21T18:24:02.738620",
     "exception": false,
     "start_time": "2023-10-21T18:24:00.265226",
     "status": "completed"
    },
    "tags": []
   },
   "outputs": [],
   "source": [
    "# log_transformation(X_train,'sqft_above')"
   ]
  },
  {
   "cell_type": "code",
   "execution_count": 44,
   "id": "69543c54",
   "metadata": {
    "papermill": {
     "duration": 2.724961,
     "end_time": "2023-10-21T18:24:05.584877",
     "exception": false,
     "start_time": "2023-10-21T18:24:02.859916",
     "status": "completed"
    },
    "tags": []
   },
   "outputs": [],
   "source": [
    "# log_transformation(y_train,'price')"
   ]
  },
  {
   "cell_type": "code",
   "execution_count": 45,
   "id": "3379efd8",
   "metadata": {
    "papermill": {
     "duration": 0.133869,
     "end_time": "2023-10-21T18:24:05.843363",
     "exception": false,
     "start_time": "2023-10-21T18:24:05.709494",
     "status": "completed"
    },
    "tags": []
   },
   "outputs": [],
   "source": [
    "# Independent Variable\n",
    "X_test['sqft_living'] = np.log(X_test['sqft_living'])\n",
    "X_test['sqft_living15'] = np.log(X_test['sqft_living15'])\n",
    "X_test['sqft_above'] = np.log(X_test['sqft_above'])\n",
    "\n",
    "# Dependent Variabel\n",
    "y_test['price'] = np.log(y_test['price'])"
   ]
  },
  {
   "cell_type": "markdown",
   "id": "6208ba8a",
   "metadata": {
    "papermill": {
     "duration": 0.119987,
     "end_time": "2023-10-21T18:24:06.083556",
     "exception": false,
     "start_time": "2023-10-21T18:24:05.963569",
     "status": "completed"
    },
    "tags": []
   },
   "source": [
    "<h3 align=\"left\"><font color='green'>Creating Function - Box-Cox_Transformation</font></h3>"
   ]
  },
  {
   "cell_type": "code",
   "execution_count": 46,
   "id": "b6b488ed",
   "metadata": {
    "_kg_hide-input": true,
    "papermill": {
     "duration": 0.133516,
     "end_time": "2023-10-21T18:24:06.337831",
     "exception": false,
     "start_time": "2023-10-21T18:24:06.204315",
     "status": "completed"
    },
    "tags": []
   },
   "outputs": [],
   "source": [
    "# def box_cox_transformation(data,column):\n",
    "#     plt.figure(figsize=(22,6))\n",
    "\n",
    "#     plt.subplot(141)\n",
    "#     sns.histplot(data[column],kde=True,color='red');\n",
    "\n",
    "#     plt.subplot(142)\n",
    "#     stats.probplot(data[column], dist=\"norm\", plot=pylab) ;\n",
    "    \n",
    "#     from sklearn.preprocessing import PowerTransformer \n",
    "#     boxcox = PowerTransformer(method='box-cox') \n",
    "#     data[column] = boxcox.fit_transform(data[[column]])\n",
    "\n",
    "#     plt.subplot(143)\n",
    "#     sns.histplot(data[column],color=\"green\",kde=True);\n",
    "\n",
    "#     plt.subplot(144)\n",
    "#     stats.probplot(data[column], dist=\"norm\", plot=pylab) ;"
   ]
  },
  {
   "cell_type": "code",
   "execution_count": 47,
   "id": "da5860f4",
   "metadata": {
    "papermill": {
     "duration": 9.185336,
     "end_time": "2023-10-21T18:24:15.647071",
     "exception": false,
     "start_time": "2023-10-21T18:24:06.461735",
     "status": "completed"
    },
    "tags": []
   },
   "outputs": [],
   "source": [
    "# box_cox_transformation(X_train,'sqft_lot')"
   ]
  },
  {
   "cell_type": "code",
   "execution_count": 48,
   "id": "0bd81105",
   "metadata": {
    "papermill": {
     "duration": 6.114071,
     "end_time": "2023-10-21T18:24:21.884627",
     "exception": false,
     "start_time": "2023-10-21T18:24:15.770556",
     "status": "completed"
    },
    "tags": []
   },
   "outputs": [],
   "source": [
    "# box_cox_transformation(X_train,'sqft_lot15')"
   ]
  },
  {
   "cell_type": "code",
   "execution_count": 49,
   "id": "e42b7d75",
   "metadata": {
    "papermill": {
     "duration": 0.159502,
     "end_time": "2023-10-21T18:24:22.171946",
     "exception": false,
     "start_time": "2023-10-21T18:24:22.012444",
     "status": "completed"
    },
    "tags": []
   },
   "outputs": [],
   "source": [
    "# from sklearn.preprocessing import PowerTransformer \n",
    "# boxcox = PowerTransformer(method='box-cox') \n",
    "\n",
    "# X_test['sqft_lot'] = boxcox.fit_transform(X_test[['sqft_lot']])\n",
    "# X_test['sqft_lot15'] = boxcox.fit_transform(X_test[['sqft_lot15']])"
   ]
  },
  {
   "cell_type": "markdown",
   "id": "7994b86f",
   "metadata": {
    "execution": {
     "iopub.execute_input": "2023-10-13T14:48:41.251357Z",
     "iopub.status.busy": "2023-10-13T14:48:41.250907Z",
     "iopub.status.idle": "2023-10-13T14:48:41.257649Z",
     "shell.execute_reply": "2023-10-13T14:48:41.256288Z",
     "shell.execute_reply.started": "2023-10-13T14:48:41.251327Z"
    },
    "papermill": {
     "duration": 0.127749,
     "end_time": "2023-10-21T18:24:22.428934",
     "exception": false,
     "start_time": "2023-10-21T18:24:22.301185",
     "status": "completed"
    },
    "tags": []
   },
   "source": [
    "<div class=\"alert alert-block alert-warning\" style=\"margin-bottom: 20px; font-size: 16px;\">\n",
    "    <b>⚙️ Modeling Insights: </b>\n",
    "    <ul>\n",
    "        <li>Several iterations were conducted, involving a range of transformation methods such as log transformation, squaring, square root, Box-Cox, and Yeo-Johnson. </li>\n",
    "           <li> The most effective transformations were applied to the respective features, enhancing the data's suitability for analysis and modeling.</li>\n",
    "    </ul>\n",
    "</div>"
   ]
  },
  {
   "cell_type": "markdown",
   "id": "bf127b11",
   "metadata": {
    "papermill": {
     "duration": 0.126809,
     "end_time": "2023-10-21T18:24:22.681075",
     "exception": false,
     "start_time": "2023-10-21T18:24:22.554266",
     "status": "completed"
    },
    "tags": []
   },
   "source": [
    "<h2 align=\"left\"><font color='FF8C00'><u>3. Feature Scaling </u></font></h2>"
   ]
  },
  {
   "cell_type": "code",
   "execution_count": 50,
   "id": "a261a348",
   "metadata": {
    "papermill": {
     "duration": 0.135398,
     "end_time": "2023-10-21T18:24:22.943652",
     "exception": false,
     "start_time": "2023-10-21T18:24:22.808254",
     "status": "completed"
    },
    "tags": []
   },
   "outputs": [],
   "source": [
    "Scaling_Features = ['sqft_basement','lat','long']"
   ]
  },
  {
   "cell_type": "code",
   "execution_count": 51,
   "id": "f5c008d1",
   "metadata": {
    "papermill": {
     "duration": 0.136302,
     "end_time": "2023-10-21T18:24:23.205772",
     "exception": false,
     "start_time": "2023-10-21T18:24:23.069470",
     "status": "completed"
    },
    "tags": []
   },
   "outputs": [],
   "source": [
    "from sklearn.preprocessing import MinMaxScaler\n",
    "scaler = MinMaxScaler()"
   ]
  },
  {
   "cell_type": "code",
   "execution_count": 52,
   "id": "cfca4952",
   "metadata": {
    "papermill": {
     "duration": 0.144125,
     "end_time": "2023-10-21T18:24:23.477730",
     "exception": false,
     "start_time": "2023-10-21T18:24:23.333605",
     "status": "completed"
    },
    "tags": []
   },
   "outputs": [],
   "source": [
    "X_train[Scaling_Features] = scaler.fit_transform(X_train[Scaling_Features]) # fit the scaler to the train set, and then transform it\n",
    "X_test[Scaling_Features] = scaler.transform(X_test[Scaling_Features]) # transform the test set"
   ]
  },
  {
   "cell_type": "markdown",
   "id": "c05cd54d",
   "metadata": {
    "execution": {
     "iopub.execute_input": "2023-10-13T14:48:41.251357Z",
     "iopub.status.busy": "2023-10-13T14:48:41.250907Z",
     "iopub.status.idle": "2023-10-13T14:48:41.257649Z",
     "shell.execute_reply": "2023-10-13T14:48:41.256288Z",
     "shell.execute_reply.started": "2023-10-13T14:48:41.251327Z"
    },
    "papermill": {
     "duration": 0.126326,
     "end_time": "2023-10-21T18:24:23.730186",
     "exception": false,
     "start_time": "2023-10-21T18:24:23.603860",
     "status": "completed"
    },
    "tags": []
   },
   "source": [
    "<div class=\"alert alert-block alert-warning\" style=\"margin-bottom: 20px; font-size: 16px;\">\n",
    "    <b>⚙️ Modeling Insights: </b>\n",
    "    <ul>\n",
    "        <li>As per the exploratory data analysis (EDA), it was observed that features like 'sqft_basement,' 'lat,' and 'long' did not follow a Gaussian distribution. Therefore, normalization was implemented to make these features conform to a more standard scale, aiding in training of a model.</li>\n",
    "    </ul>\n",
    "</div>"
   ]
  },
  {
   "cell_type": "markdown",
   "id": "7378a284",
   "metadata": {
    "papermill": {
     "duration": 0.125952,
     "end_time": "2023-10-21T18:24:23.981950",
     "exception": false,
     "start_time": "2023-10-21T18:24:23.855998",
     "status": "completed"
    },
    "tags": []
   },
   "source": [
    "<h2 align=\"left\"><font color='FF8C00'><u>4. Feature Encoding </u></font></h2>"
   ]
  },
  {
   "cell_type": "code",
   "execution_count": 53,
   "id": "7e0c6f14",
   "metadata": {
    "papermill": {
     "duration": 0.148142,
     "end_time": "2023-10-21T18:24:24.256619",
     "exception": false,
     "start_time": "2023-10-21T18:24:24.108477",
     "status": "completed"
    },
    "tags": []
   },
   "outputs": [],
   "source": [
    "from sklearn.preprocessing import KBinsDiscretizer\n",
    "\n",
    "est = KBinsDiscretizer(n_bins=6, encode='ordinal', strategy='uniform')\n",
    "X_train['yr_built']= est.fit_transform(X_train[['yr_built']])\n",
    "X_test['yr_built']= est.fit_transform(X_test[['yr_built']])"
   ]
  },
  {
   "cell_type": "markdown",
   "id": "6835d6f0",
   "metadata": {
    "papermill": {
     "duration": 0.128429,
     "end_time": "2023-10-21T18:24:24.511355",
     "exception": false,
     "start_time": "2023-10-21T18:24:24.382926",
     "status": "completed"
    },
    "tags": []
   },
   "source": [
    "<h3 align=\"left\"><font color='green'>Creating Function - Binning</font></h3>"
   ]
  },
  {
   "cell_type": "code",
   "execution_count": 54,
   "id": "a9461d67",
   "metadata": {
    "papermill": {
     "duration": 0.158268,
     "end_time": "2023-10-21T18:24:24.796010",
     "exception": false,
     "start_time": "2023-10-21T18:24:24.637742",
     "status": "completed"
    },
    "tags": []
   },
   "outputs": [],
   "source": [
    "def custom_binning(year):\n",
    "    if year == 0:\n",
    "        return 0\n",
    "    elif 1934 <= year <= 1950:\n",
    "        return 1\n",
    "    elif 1951 <= year <= 1970:\n",
    "        return 2\n",
    "    elif 1971 <= year <= 1990:\n",
    "        return 3\n",
    "    elif 1991 <= year <= 2010:\n",
    "        return 4\n",
    "    else:\n",
    "        return 5\n",
    "\n",
    "# Apply the custom binning function to the yr_renovated column\n",
    "X_train['yr_renovated'] = X_train['yr_renovated'].apply(custom_binning)\n",
    "X_test['yr_renovated'] = X_test['yr_renovated'].apply(custom_binning)"
   ]
  },
  {
   "cell_type": "code",
   "execution_count": 55,
   "id": "8ca78c06",
   "metadata": {
    "papermill": {
     "duration": 0.13851,
     "end_time": "2023-10-21T18:24:25.061482",
     "exception": false,
     "start_time": "2023-10-21T18:24:24.922972",
     "status": "completed"
    },
    "tags": []
   },
   "outputs": [],
   "source": [
    "from sklearn.preprocessing import LabelEncoder\n",
    "le = LabelEncoder()\n",
    "\n",
    "X_train['zipcode'] = le.fit_transform(X_train['zipcode'])\n",
    "X_test['zipcode'] = le.fit_transform(X_test['zipcode'])"
   ]
  },
  {
   "cell_type": "markdown",
   "id": "f7f104a9",
   "metadata": {
    "execution": {
     "iopub.execute_input": "2023-10-13T14:48:41.251357Z",
     "iopub.status.busy": "2023-10-13T14:48:41.250907Z",
     "iopub.status.idle": "2023-10-13T14:48:41.257649Z",
     "shell.execute_reply": "2023-10-13T14:48:41.256288Z",
     "shell.execute_reply.started": "2023-10-13T14:48:41.251327Z"
    },
    "papermill": {
     "duration": 0.126002,
     "end_time": "2023-10-21T18:24:25.314796",
     "exception": false,
     "start_time": "2023-10-21T18:24:25.188794",
     "status": "completed"
    },
    "tags": []
   },
   "source": [
    "<div class=\"alert alert-block alert-warning\" style=\"margin-bottom: 20px; font-size: 16px;\">\n",
    "    <b>⚙️ Modeling Insights: </b>\n",
    "    <ul>\n",
    "        <li>From Data Exploration we can say that certain features which exhibited categorical characteristics were by default encoded. \n",
    "                <li>view, condition,floors, grade, bedrooms, bathrooms - Default Ordinal Encoded</li>\n",
    "                <li>waterfront - Default Nominal Encoded</li>\n",
    "        <li>Zipcode  - Nominal Caegory - Having 70 Unique Values, One-hot Dummy Encoding (k-1) would increase the dimension and lead to overfitting, hence the best suitable method over here would be label Encoding </li>\n",
    "        <li>For 'yr_built' and 'yr_renovated,' binning or discretization was deemed appropriate to condense and rank the years effectively.r</li>\n",
    "    </ul>\n",
    "</div>"
   ]
  },
  {
   "cell_type": "markdown",
   "id": "59381b9e",
   "metadata": {
    "papermill": {
     "duration": 0.126662,
     "end_time": "2023-10-21T18:24:25.568951",
     "exception": false,
     "start_time": "2023-10-21T18:24:25.442289",
     "status": "completed"
    },
    "tags": []
   },
   "source": [
    "<h3 align=\"left\"><font color='green'>Creating Function - Evaluation Metrics</font></h3>"
   ]
  },
  {
   "cell_type": "code",
   "execution_count": 56,
   "id": "e3bd1234",
   "metadata": {
    "_kg_hide-input": true,
    "papermill": {
     "duration": 0.139776,
     "end_time": "2023-10-21T18:24:25.835576",
     "exception": false,
     "start_time": "2023-10-21T18:24:25.695800",
     "status": "completed"
    },
    "tags": []
   },
   "outputs": [],
   "source": [
    "def evaluate_linear_regression(model, X_train, y_train, X_test, y_test):\n",
    "    # Predict on training and testing data\n",
    "    train_pred = model.predict(X_train)\n",
    "    test_pred = model.predict(X_test)\n",
    "    \n",
    "    # Calculate R-squared (R2) for training and testing data\n",
    "    r2_train = r2_score(y_train, train_pred)\n",
    "    r2_test = r2_score(y_test, test_pred)\n",
    "    \n",
    "    # Calculate RMSE (Root Mean Square Error) for training and testing data\n",
    "    rmse_test = np.sqrt(mean_squared_error(y_test, test_pred))\n",
    "    \n",
    "    # Return the evaluation metrics\n",
    "    print(\"R-squared (R2) Train:\", r2_train)\n",
    "    print(\"R-squared (R2) Test:\", r2_test)\n",
    "    print(\"RMSE Test:\", rmse_test)"
   ]
  },
  {
   "cell_type": "markdown",
   "id": "fd70806f",
   "metadata": {
    "papermill": {
     "duration": 0.124595,
     "end_time": "2023-10-21T18:24:26.085438",
     "exception": false,
     "start_time": "2023-10-21T18:24:25.960843",
     "status": "completed"
    },
    "tags": []
   },
   "source": [
    "<h3 align=\"left\"><font color='green'>Creating Function - Visualizing the Importance of Features</font></h3>"
   ]
  },
  {
   "cell_type": "code",
   "execution_count": 57,
   "id": "c82a082b",
   "metadata": {
    "_kg_hide-input": true,
    "papermill": {
     "duration": 0.140484,
     "end_time": "2023-10-21T18:24:26.352370",
     "exception": false,
     "start_time": "2023-10-21T18:24:26.211886",
     "status": "completed"
    },
    "tags": []
   },
   "outputs": [],
   "source": [
    "# def plot_coefficients(model):\n",
    "#     # Get coefficients and corresponding feature names\n",
    "#     coefficients = model.coef_.ravel()\n",
    "\n",
    "#     # Feature names (your provided feature names)\n",
    "#     feature_names = X_train.columns\n",
    "\n",
    "#     # Create a DataFrame to store the coefficients and feature names\n",
    "#     coefficients_df = pd.DataFrame({'Feature': feature_names, 'Coefficient': coefficients})\n",
    "\n",
    "#     # Calculate absolute coefficients and sort by absolute coefficient value\n",
    "#     coefficients_df['Absolute_Coefficient'] = coefficients_df['Coefficient'].abs()\n",
    "#     coefficients_df = coefficients_df.sort_values(by='Absolute_Coefficient', ascending=False)\n",
    "\n",
    "#     # Create a bar plot with rank labels\n",
    "#     plt.figure(figsize=(10, 6))\n",
    "#     sns.barplot(data=coefficients_df, x='Feature', y='Coefficient', palette='Spectral_r')\n",
    "#     plt.xlabel('Feature')\n",
    "#     plt.ylabel('Coefficient')\n",
    "#     plt.title('Ridge Regression Coefficients (Ranked by Absolute Value)')\n",
    "#     plt.xticks(rotation=90)  # Rotate x-axis labels for better readability\n",
    "\n",
    "#     # Add rank labels to the plot\n",
    "#     for i, rank in enumerate(range(1, len(coefficients_df) + 1)):\n",
    "#         plt.text(i, coefficients_df['Coefficient'].iloc[i], f'{rank}', horizontalalignment='center')\n",
    "\n",
    "#     plt.tight_layout()\n",
    "\n",
    "#     # Display the plot\n",
    "#     plt.show()"
   ]
  },
  {
   "cell_type": "code",
   "execution_count": 58,
   "id": "cb28c03e",
   "metadata": {
    "papermill": {
     "duration": 0.133531,
     "end_time": "2023-10-21T18:24:26.611315",
     "exception": false,
     "start_time": "2023-10-21T18:24:26.477784",
     "status": "completed"
    },
    "tags": []
   },
   "outputs": [],
   "source": [
    "# from sklearn.metrics import r2_score,mean_squared_error"
   ]
  },
  {
   "cell_type": "markdown",
   "id": "2d25ae5f",
   "metadata": {
    "papermill": {
     "duration": 0.124828,
     "end_time": "2023-10-21T18:24:26.861420",
     "exception": false,
     "start_time": "2023-10-21T18:24:26.736592",
     "status": "completed"
    },
    "tags": []
   },
   "source": [
    "<div style=\"color:white;\n",
    "           display:fill;\n",
    "           border-radius:20px;\n",
    "           background-color:#FFA500;\n",
    "           font-size:200%;\n",
    "           font-family:Verdana;\n",
    "           letter-spacing:1px\">\n",
    "<a class=\"anchor\" id=\"CH-5\"></a> \n",
    "<p style=\"padding: 10px;\n",
    "              color:white;\">\n",
    "              5. Linear Regression \n",
    "</p>\n",
    "</div>"
   ]
  },
  {
   "cell_type": "markdown",
   "id": "01f6def1",
   "metadata": {
    "papermill": {
     "duration": 0.125756,
     "end_time": "2023-10-21T18:24:27.112807",
     "exception": false,
     "start_time": "2023-10-21T18:24:26.987051",
     "status": "completed"
    },
    "tags": []
   },
   "source": [
    "<h2 align=\"left\"><font color='FF8C00'><u>Building Model </u></font></h2>"
   ]
  },
  {
   "cell_type": "code",
   "execution_count": 59,
   "id": "bbab53af",
   "metadata": {
    "papermill": {
     "duration": 0.364041,
     "end_time": "2023-10-21T18:24:27.603833",
     "exception": false,
     "start_time": "2023-10-21T18:24:27.239792",
     "status": "completed"
    },
    "tags": []
   },
   "outputs": [],
   "source": [
    "# from sklearn.linear_model import LinearRegression\n",
    "\n",
    "# # Perform Linear Regression\n",
    "# linear_model = LinearRegression()\n",
    "# linear_model.fit(X_train,y_train)"
   ]
  },
  {
   "cell_type": "code",
   "execution_count": 60,
   "id": "2aabe12e",
   "metadata": {
    "papermill": {
     "duration": 0.146604,
     "end_time": "2023-10-21T18:24:27.922922",
     "exception": false,
     "start_time": "2023-10-21T18:24:27.776318",
     "status": "completed"
    },
    "tags": []
   },
   "outputs": [],
   "source": [
    "# # Evaluate linar Regression\n",
    "# train_pred = linear_model.predict(X_train)\n",
    "# test_pred = linear_model.predict(X_test)"
   ]
  },
  {
   "cell_type": "markdown",
   "id": "841c42ec",
   "metadata": {
    "papermill": {
     "duration": 0.125495,
     "end_time": "2023-10-21T18:24:28.234260",
     "exception": false,
     "start_time": "2023-10-21T18:24:28.108765",
     "status": "completed"
    },
    "tags": []
   },
   "source": [
    "<h2 align=\"left\"><font color='FF8C00'><u>Model Evaluation</u></font></h2>"
   ]
  },
  {
   "cell_type": "code",
   "execution_count": 61,
   "id": "f8de492a",
   "metadata": {
    "papermill": {
     "duration": 0.159246,
     "end_time": "2023-10-21T18:24:28.518419",
     "exception": false,
     "start_time": "2023-10-21T18:24:28.359173",
     "status": "completed"
    },
    "tags": []
   },
   "outputs": [],
   "source": [
    "# evaluate_linear_regression(linear_model, X_train, y_train, X_test, y_test)"
   ]
  },
  {
   "cell_type": "code",
   "execution_count": 62,
   "id": "63da06eb",
   "metadata": {
    "papermill": {
     "duration": 0.853113,
     "end_time": "2023-10-21T18:24:29.554970",
     "exception": false,
     "start_time": "2023-10-21T18:24:28.701857",
     "status": "completed"
    },
    "tags": []
   },
   "outputs": [],
   "source": [
    "# plot_coefficients(linear_model)"
   ]
  },
  {
   "cell_type": "markdown",
   "id": "a1ddeae9",
   "metadata": {
    "papermill": {
     "duration": 0.14421,
     "end_time": "2023-10-21T18:24:29.894821",
     "exception": false,
     "start_time": "2023-10-21T18:24:29.750611",
     "status": "completed"
    },
    "tags": []
   },
   "source": [
    "<!-- <div class=\"alert alert-block alert-info\" style=\"margin-bottom: 20px;font-size: 16px;\">\n",
    "    <b>📊 Observation and Insights:  </b>\n",
    "    <ul>\n",
    "        <li> The model demonstrates strong predictive performance with an R-squared score of 0.77. It effectively explains the variance in both the training and test data, indicating a good balance between fitting the training data and generalizing to new, unseen data. </li>\n",
    "        <li>There are no apparent issues of overfitting or underfitting, signifying a well-fitted model.</li>\n",
    "        <li>Among the features, the most influential (top-ranked) are 'latitude,' 'waterfront,' and 'sqft_basement.' In contrast, the least influential (bottom-ranked) features are 'zipcode,' 'sqft_lot,' and 'yr_renovated.' These rankings suggest the varying impact of each feature on predicting property prices.</li>   \n",
    "    </ul>\n",
    "</div>\n",
    " -->"
   ]
  },
  {
   "cell_type": "markdown",
   "id": "55785df4",
   "metadata": {
    "papermill": {
     "duration": 0.127145,
     "end_time": "2023-10-21T18:24:30.148433",
     "exception": false,
     "start_time": "2023-10-21T18:24:30.021288",
     "status": "completed"
    },
    "tags": []
   },
   "source": [
    "<div style=\"color:white;\n",
    "           display:fill;\n",
    "           border-radius:20px;\n",
    "           background-color:#FFA500;\n",
    "           font-size:200%;\n",
    "           font-family:Verdana;\n",
    "           letter-spacing:1px\">\n",
    "<a class=\"anchor\" id=\"CH-6\"></a> \n",
    "<p style=\"padding: 10px;\n",
    "              color:white;\">\n",
    "              6. Ridge Regression \n",
    "</p>\n",
    "</div>"
   ]
  },
  {
   "cell_type": "markdown",
   "id": "3799177b",
   "metadata": {
    "papermill": {
     "duration": 0.127554,
     "end_time": "2023-10-21T18:24:30.404629",
     "exception": false,
     "start_time": "2023-10-21T18:24:30.277075",
     "status": "completed"
    },
    "tags": []
   },
   "source": [
    "<h2 align=\"left\"><font color='FF8C00'><u>Building Model </u></font></h2>"
   ]
  },
  {
   "cell_type": "code",
   "execution_count": 63,
   "id": "45c6b5f0",
   "metadata": {
    "papermill": {
     "duration": 3.61207,
     "end_time": "2023-10-21T18:24:34.144430",
     "exception": false,
     "start_time": "2023-10-21T18:24:30.532360",
     "status": "completed"
    },
    "tags": []
   },
   "outputs": [],
   "source": [
    "# from sklearn.model_selection import GridSearchCV\n",
    "# from sklearn.linear_model import Ridge\n",
    "\n",
    "# ridge_model = Ridge()\n",
    "\n",
    "# # Define a range of alpha values to search\n",
    "# param_grid = {'alpha': [0.001, 0.01, 0.05, 0.1, 0.2, 0.3, 0.4, 0.5, \n",
    "#                         0.6, 0.7, 0.8, 0.9, 1.0, 2.0, 3.0, 4.0, 5.0, \n",
    "#                         6.0, 7.0, 8.0, 9.0, 10.0, 20, 50, 100, 500, 1000]}\n",
    "\n",
    "# # Perform hyperparameter tuning with GridSearchCV\n",
    "# grid_search = GridSearchCV(ridge_model, param_grid, cv=5, scoring='neg_mean_squared_error')\n",
    "# grid_search.fit(X_train, y_train)\n",
    "\n",
    "# # Get the best alpha value\n",
    "# best_alpha_ridge = grid_search.best_params_['alpha']\n",
    "# print(\"Best Parameter (alpha):\", best_alpha_ridge)"
   ]
  },
  {
   "cell_type": "code",
   "execution_count": 64,
   "id": "62fd4d6c",
   "metadata": {
    "papermill": {
     "duration": 0.193171,
     "end_time": "2023-10-21T18:24:34.529412",
     "exception": false,
     "start_time": "2023-10-21T18:24:34.336241",
     "status": "completed"
    },
    "tags": []
   },
   "outputs": [],
   "source": [
    "# # Fitting the Model\n",
    "# ridge_model = Ridge(alpha=best_alpha_ridge)\n",
    "# ridge_model.fit(X_train, y_train)\n",
    "\n",
    "# # Predicttion\n",
    "# ridge_train_pred = ridge_model.predict(X_train)\n",
    "# ridge_test_pred = ridge_model.predict(X_test)"
   ]
  },
  {
   "cell_type": "markdown",
   "id": "a038e3e6",
   "metadata": {
    "papermill": {
     "duration": 0.147973,
     "end_time": "2023-10-21T18:24:34.884829",
     "exception": false,
     "start_time": "2023-10-21T18:24:34.736856",
     "status": "completed"
    },
    "tags": []
   },
   "source": [
    "<h2 align=\"left\"><font color='FF8C00'><u>Model Evaluation</u></font></h2>"
   ]
  },
  {
   "cell_type": "code",
   "execution_count": 65,
   "id": "ded4183d",
   "metadata": {
    "papermill": {
     "duration": 0.171001,
     "end_time": "2023-10-21T18:24:35.183832",
     "exception": false,
     "start_time": "2023-10-21T18:24:35.012831",
     "status": "completed"
    },
    "tags": []
   },
   "outputs": [],
   "source": [
    "# evaluate_linear_regression(ridge_model, X_train, y_train, X_test, y_test)"
   ]
  },
  {
   "cell_type": "code",
   "execution_count": 66,
   "id": "3036d5ee",
   "metadata": {
    "papermill": {
     "duration": 0.747841,
     "end_time": "2023-10-21T18:24:36.140651",
     "exception": false,
     "start_time": "2023-10-21T18:24:35.392810",
     "status": "completed"
    },
    "tags": []
   },
   "outputs": [],
   "source": [
    "# plot_coefficients(ridge_model)"
   ]
  },
  {
   "cell_type": "markdown",
   "id": "342016d7",
   "metadata": {
    "papermill": {
     "duration": 0.129507,
     "end_time": "2023-10-21T18:24:36.405512",
     "exception": false,
     "start_time": "2023-10-21T18:24:36.276005",
     "status": "completed"
    },
    "tags": []
   },
   "source": [
    "<div class=\"alert alert-block alert-info\" style=\"margin-bottom: 20px;font-size: 16px;\">\n",
    "    <b>📊 Observation and Insights:  </b>\n",
    "    <ul>\n",
    "        <li>Ridge Regression did not yield a substantial improvement in accuracy compared to Linear Regression. While it helped reduce the values of coefficients, pushing them closer to 0 (which can assist in reducing multicollinearity), the ranking of features remained largely unchanged. </li>\n",
    "            <li>This suggests that for this particular dataset, the added complexity introduced by Ridge Regression did not lead to a significant enhancement in predictive performance.</li>\n",
    "    </ul>\n",
    "</div>\n"
   ]
  },
  {
   "cell_type": "markdown",
   "id": "1556fae2",
   "metadata": {
    "papermill": {
     "duration": 0.12967,
     "end_time": "2023-10-21T18:24:36.665795",
     "exception": false,
     "start_time": "2023-10-21T18:24:36.536125",
     "status": "completed"
    },
    "tags": []
   },
   "source": [
    "<div style=\"color:white;\n",
    "           display:fill;\n",
    "           border-radius:20px;\n",
    "           background-color:#FFA500;\n",
    "           font-size:200%;\n",
    "           font-family:Verdana;\n",
    "           letter-spacing:1px\">\n",
    "<a class=\"anchor\" id=\"CH-7\"></a> \n",
    "<p style=\"padding: 10px;\n",
    "              color:white;\">\n",
    "              7. Lasso Regression \n",
    "</p>\n",
    "</div>"
   ]
  },
  {
   "cell_type": "markdown",
   "id": "e314d186",
   "metadata": {
    "papermill": {
     "duration": 0.129795,
     "end_time": "2023-10-21T18:24:36.925345",
     "exception": false,
     "start_time": "2023-10-21T18:24:36.795550",
     "status": "completed"
    },
    "tags": []
   },
   "source": [
    "<h2 align=\"left\"><font color='FF8C00'><u>Building Model </u></font></h2>"
   ]
  },
  {
   "cell_type": "code",
   "execution_count": 67,
   "id": "974ed635",
   "metadata": {
    "papermill": {
     "duration": 5.996373,
     "end_time": "2023-10-21T18:24:43.050991",
     "exception": false,
     "start_time": "2023-10-21T18:24:37.054618",
     "status": "completed"
    },
    "tags": []
   },
   "outputs": [],
   "source": [
    "# from sklearn.linear_model import Lasso\n",
    "# from sklearn.model_selection import GridSearchCV\n",
    "# lasso_model = Lasso()\n",
    "# param_grid = {'alpha': [0.001, 0.01, 0.05, 0.1, \n",
    "#  0.2, 0.3, 0.4, 0.5, 0.6, 0.7, 0.8, 0.9, 1.0, 2.0, 3.0, \n",
    "#  4.0, 5.0, 6.0, 7.0, 8.0, 9.0, 10.0, 20, 50, 100, 500, 1000 ]}\n",
    "\n",
    "# grid_search = GridSearchCV(lasso_model, param_grid, cv=5,scoring='neg_mean_squared_error')\n",
    "# grid_search.fit(X_train, y_train)\n",
    "\n",
    "# best_alpha_lasso = grid_search.best_params_['alpha']\n",
    "# print(\"Best Parameter (alpha):\", best_alpha_lasso)"
   ]
  },
  {
   "cell_type": "code",
   "execution_count": 68,
   "id": "23d4c643",
   "metadata": {
    "papermill": {
     "duration": 0.183047,
     "end_time": "2023-10-21T18:24:43.429876",
     "exception": false,
     "start_time": "2023-10-21T18:24:43.246829",
     "status": "completed"
    },
    "tags": []
   },
   "outputs": [],
   "source": [
    "# lasso_model = Lasso(alpha=best_alpha_lasso)\n",
    "# lasso_model.fit(X_train, y_train)"
   ]
  },
  {
   "cell_type": "code",
   "execution_count": 69,
   "id": "23bc7af8",
   "metadata": {
    "papermill": {
     "duration": 0.151816,
     "end_time": "2023-10-21T18:24:43.766798",
     "exception": false,
     "start_time": "2023-10-21T18:24:43.614982",
     "status": "completed"
    },
    "tags": []
   },
   "outputs": [],
   "source": [
    "# # Evaluate linar Regression\n",
    "# lasso_train_pred = lasso_model.predict(X_train)\n",
    "# lasso_test_pred = lasso_model.predict(X_test)"
   ]
  },
  {
   "cell_type": "markdown",
   "id": "9c623887",
   "metadata": {
    "papermill": {
     "duration": 0.130193,
     "end_time": "2023-10-21T18:24:44.090536",
     "exception": false,
     "start_time": "2023-10-21T18:24:43.960343",
     "status": "completed"
    },
    "tags": []
   },
   "source": [
    "<h2 align=\"left\"><font color='FF8C00'><u>Model Evaluation</u></font></h2>"
   ]
  },
  {
   "cell_type": "code",
   "execution_count": 70,
   "id": "40ab16cc",
   "metadata": {
    "papermill": {
     "duration": 0.166435,
     "end_time": "2023-10-21T18:24:44.385164",
     "exception": false,
     "start_time": "2023-10-21T18:24:44.218729",
     "status": "completed"
    },
    "tags": []
   },
   "outputs": [],
   "source": [
    "# evaluate_linear_regression(lasso_model, X_train, y_train, X_test, y_test)"
   ]
  },
  {
   "cell_type": "code",
   "execution_count": 71,
   "id": "d676cc06",
   "metadata": {
    "papermill": {
     "duration": 0.862293,
     "end_time": "2023-10-21T18:24:45.432325",
     "exception": false,
     "start_time": "2023-10-21T18:24:44.570032",
     "status": "completed"
    },
    "tags": []
   },
   "outputs": [],
   "source": [
    "# plot_coefficients(lasso_model)"
   ]
  },
  {
   "cell_type": "markdown",
   "id": "7d8e1c78",
   "metadata": {
    "papermill": {
     "duration": 0.130791,
     "end_time": "2023-10-21T18:24:45.692596",
     "exception": false,
     "start_time": "2023-10-21T18:24:45.561805",
     "status": "completed"
    },
    "tags": []
   },
   "source": [
    "<div class=\"alert alert-block alert-info\" style=\"margin-bottom: 20px;font-size: 16px;\">\n",
    "    <b>📊 Observation and Insights:  </b>\n",
    "    <ul>\n",
    "        <li>The model demonstrates strong predictive performance with an R-squared score of 0.77, indicating its ability to effectively explain the variance in both the training and test data.</li>\n",
    "        <li>Lasso Regression, in particular, performed exceptionally well by driving the coefficients of four features ('zipcode,' 'sqft_basement,' 'long,' 'sqft_lot') to exactly 0. </li>\n",
    "           <li> This outcome implies that Lasso successfully eliminated these features from the model, emphasizing its feature selection capabilities and simplifying the model without compromising its predictive performance.</li>\n",
    "    </ul>\n",
    "</div>\n"
   ]
  },
  {
   "cell_type": "markdown",
   "id": "c13090a2",
   "metadata": {
    "papermill": {
     "duration": 0.130657,
     "end_time": "2023-10-21T18:24:45.954353",
     "exception": false,
     "start_time": "2023-10-21T18:24:45.823696",
     "status": "completed"
    },
    "tags": []
   },
   "source": [
    "<div style=\"color:white;\n",
    "           display:fill;\n",
    "           border-radius:20px;\n",
    "           background-color:#FFA500;\n",
    "           font-size:200%;\n",
    "           font-family:Verdana;\n",
    "           letter-spacing:1px\">\n",
    "<a class=\"anchor\" id=\"CH-8\"></a> \n",
    "<p style=\"padding: 10px;\n",
    "              color:white;\">\n",
    "              8. Result and Discussion 📈✔️\n",
    "</p>\n",
    "</div>"
   ]
  },
  {
   "cell_type": "code",
   "execution_count": 72,
   "id": "8bac6904",
   "metadata": {
    "_kg_hide-input": true,
    "papermill": {
     "duration": 0.932488,
     "end_time": "2023-10-21T18:24:47.018705",
     "exception": false,
     "start_time": "2023-10-21T18:24:46.086217",
     "status": "completed"
    },
    "tags": []
   },
   "outputs": [],
   "source": [
    "# feature_names = X_train.columns # Defining the Feature Names\n",
    "# coefficients_df = pd.DataFrame()\n",
    "\n",
    "# # Create DataFrames for each model's coefficients and feature names\n",
    "# linear_coefficients = pd.DataFrame({'Feature': feature_names, 'Linear Coefficient': linear_model.coef_.ravel()})\n",
    "# ridge_coefficients = pd.DataFrame({'Feature': feature_names, 'Ridge Coefficient': ridge_model.coef_.ravel()})\n",
    "# lasso_coefficients = pd.DataFrame({'Feature': feature_names, 'Lasso Coefficient': lasso_model.coef_.ravel()})\n",
    "\n",
    "# # Merge the DataFrames based on the 'Feature' column\n",
    "# coefficients_df = linear_coefficients.merge(ridge_coefficients, on='Feature').merge(lasso_coefficients, on='Feature')\n",
    "# ticks = range(len(feature_names))  \n",
    "# labels = feature_names  \n",
    "\n",
    "# # Create a line plot for the coefficients\n",
    "# plt.figure(figsize=(15, 9))\n",
    "# plt.plot(ticks, coefficients_df['Linear Coefficient'], marker='o', label='Linear Coefficient')\n",
    "# plt.plot(ticks, coefficients_df['Ridge Coefficient'], marker='x', label='Ridge Coefficient')\n",
    "# plt.plot(ticks, coefficients_df['Lasso Coefficient'], marker='*', label='Lasso Coefficient')\n",
    "# plt.xticks(ticks, labels, rotation=90, fontsize=15)\n",
    "# plt.xlabel('Feature',fontsize=12)\n",
    "# plt.ylabel('Coefficient',fontsize=12)\n",
    "# plt.title('Regression Coefficients',fontsize=15)\n",
    "# plt.tight_layout()\n",
    "# plt.legend(loc='upper left',fontsize=14,labelspacing=1.5)  \n",
    "\n",
    "# # Add a horizontal red line at zero\n",
    "# plt.axhline(0, color='red', linestyle='--', linewidth=1.7)\n",
    "# plt.show()"
   ]
  },
  {
   "cell_type": "markdown",
   "id": "83d19991",
   "metadata": {
    "execution": {
     "iopub.execute_input": "2023-10-17T00:08:22.615810Z",
     "iopub.status.busy": "2023-10-17T00:08:22.615461Z",
     "iopub.status.idle": "2023-10-17T00:08:22.623089Z",
     "shell.execute_reply": "2023-10-17T00:08:22.621695Z",
     "shell.execute_reply.started": "2023-10-17T00:08:22.615782Z"
    },
    "papermill": {
     "duration": 0.133349,
     "end_time": "2023-10-21T18:24:47.287662",
     "exception": false,
     "start_time": "2023-10-21T18:24:47.154313",
     "status": "completed"
    },
    "tags": []
   },
   "source": [
    "<div class=\"alert alert-block alert-success\" style=\"margin-bottom: 20px; font-size: 16px;\">  \n",
    "    <b>Result and Discussion:</b>\n",
    "    <ul>\n",
    "        <b>Positive Impact on Price:</b>\n",
    "        <li>Features such as 'sqft_living,' 'grade,' 'sqft_above,' 'sqft_basement,' 'view,' 'waterfront,' 'lat,' and 'sqft_living15' have positive coefficients in all three models. This indicates that an increase in these features tends to result in a higher predicted price for the property.</li>\n",
    "                <b>Negative Impact on Price:</b>\n",
    "        <li>Features like 'bedrooms,' 'yr_built,' 'long,' 'sqft_lot,' 'zipcode,' and 'sqft_lot15' have negative coefficients in all three models. This means that an increase in these features is associated with a lower predicted price for the property.</li>\n",
    "                <b>Comparison of Models</b>\n",
    "        <li>The magnitude of coefficients may vary between models. For example, 'sqft_living' has the highest positive coefficient in all three models, but the values differ slightly.\n",
    "Lasso regression, due to its feature selection property, sets some coefficients to zero. In this case, it sets zipcode,sqft_basement,' 'sqft_lot,' and 'long' coefficients to zero, indicating that these features are not essential in predicting the price.</li>\n",
    "                <b>Effect of Regularization:</b>\n",
    "        <li>Ridge and Lasso regression introduce regularization to the model. This is reflected in the Ridge and Lasso coefficients, which are slightly smaller than the Linear coefficients for most features. Regularization helps prevent overfitting and can make the model more robust.</li>\n",
    "                <b>Feature Importance:</b>\n",
    "        <li>'lat' and 'sqft_living' appear to be among the most influential features, with high positive coefficients in all three models.</li>\n",
    "        <li>'sqft_basement' is essentially eliminated in the Lasso model, suggesting it has a limited impact on the price.</li>\n",
    "        <li>The 'yr_renovated' feature has relatively small coefficients in all models, indicating it may not be a strong predictor of price.</li>\n",
    "    </ul>\n",
    "</div>"
   ]
  },
  {
   "cell_type": "markdown",
   "id": "86032599",
   "metadata": {
    "papermill": {
     "duration": 0.134255,
     "end_time": "2023-10-21T18:24:47.555303",
     "exception": false,
     "start_time": "2023-10-21T18:24:47.421048",
     "status": "completed"
    },
    "tags": []
   },
   "source": [
    "<div style=\"color:white;\n",
    "           display:fill;\n",
    "           border-radius:20px;\n",
    "           background-color:#FFA500;\n",
    "           font-size:200%;\n",
    "           font-family:Verdana;\n",
    "           letter-spacing:1px\">\n",
    "<a class=\"anchor\" id=\"CH-9\"></a> \n",
    "<p style=\"padding: 10px;\n",
    "              color:white;\">\n",
    "              9. Way Forward 📌\n",
    "</p>\n",
    "</div>"
   ]
  },
  {
   "cell_type": "markdown",
   "id": "d5029bc9",
   "metadata": {
    "execution": {
     "iopub.execute_input": "2023-10-13T14:48:41.251357Z",
     "iopub.status.busy": "2023-10-13T14:48:41.250907Z",
     "iopub.status.idle": "2023-10-13T14:48:41.257649Z",
     "shell.execute_reply": "2023-10-13T14:48:41.256288Z",
     "shell.execute_reply.started": "2023-10-13T14:48:41.251327Z"
    },
    "papermill": {
     "duration": 0.13363,
     "end_time": "2023-10-21T18:24:47.822403",
     "exception": false,
     "start_time": "2023-10-21T18:24:47.688773",
     "status": "completed"
    },
    "tags": []
   },
   "source": [
    "<div class=\"alert alert-block alert-warning\" style=\"margin-bottom: 20px; font-size: 16px;\">\n",
    "    <b>⚙️ Modeling Insights: </b>\n",
    "    <ul>\n",
    "         <li>Exploring geospatial information through map integration could help to gain further insights, especially considering the significance of 'latitude' with predictive feature.</li>\n",
    "        <li>Utilizing an advanced approach for outlier detection and treatment, leveraging clustering methods like K-means and DBSCAN, allowing for more sophisticated handling of outliers.</li>\n",
    "        <li>The creation of a pipeline might help in streamlining and expedite the modeling process, reducing the time required for trial and error.</li>\n",
    "        <li>Additionally, experimentation with other feature selection methods, particularly embedded methods such as tree-based algorithms, should be undertaken to identify the most relevant features for modeling.</li>\n",
    "        <li>Furthermore, various advanced algorithms should be tested, including Decision Trees, Random Forest, AdaBoost, Gradient Boosting, and XGBoost, with the goal of identifying models that require minimal data pre-processing and offer improved predictive performance. </li>\n",
    "    </ul>\n",
    "</div>"
   ]
  }
 ],
 "metadata": {
  "kernelspec": {
   "display_name": "Python 3",
   "language": "python",
   "name": "python3"
  },
  "language_info": {
   "codemirror_mode": {
    "name": "ipython",
    "version": 3
   },
   "file_extension": ".py",
   "mimetype": "text/x-python",
   "name": "python",
   "nbconvert_exporter": "python",
   "pygments_lexer": "ipython3",
   "version": "3.8.8"
  },
  "papermill": {
   "default_parameters": {},
   "duration": 148.377032,
   "end_time": "2023-10-21T18:24:49.380019",
   "environment_variables": {},
   "exception": null,
   "input_path": "__notebook__.ipynb",
   "output_path": "__notebook__.ipynb",
   "parameters": {},
   "start_time": "2023-10-21T18:22:21.002987",
   "version": "2.4.0"
  }
 },
 "nbformat": 4,
 "nbformat_minor": 5
}
