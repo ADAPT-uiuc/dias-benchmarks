{
 "cells": [
  {
   "cell_type": "code",
   "execution_count": 1,
   "metadata": {
    "execution": {
     "iopub.execute_input": "2023-10-15T06:40:25.892446Z",
     "iopub.status.busy": "2023-10-15T06:40:25.891500Z",
     "iopub.status.idle": "2023-10-15T06:40:28.924391Z",
     "shell.execute_reply": "2023-10-15T06:40:28.923287Z",
     "shell.execute_reply.started": "2023-10-15T06:40:25.892400Z"
    }
   },
   "outputs": [],
   "source": [
    "import pandas as pd\n",
    "import numpy as np\n",
    "pd.set_option('display.max_columns', 50)"
   ]
  },
  {
   "cell_type": "code",
   "execution_count": 2,
   "metadata": {
    "execution": {
     "iopub.execute_input": "2023-10-15T06:40:28.926750Z",
     "iopub.status.busy": "2023-10-15T06:40:28.925933Z",
     "iopub.status.idle": "2023-10-15T06:40:29.482460Z",
     "shell.execute_reply": "2023-10-15T06:40:29.481633Z",
     "shell.execute_reply.started": "2023-10-15T06:40:28.926712Z"
    }
   },
   "outputs": [],
   "source": [
    "df = pd.read_csv('../input/cybersecurity_attacks.csv', parse_dates=['Timestamp'], dtype={'Protocol':'category', 'Packet Type':'category', 'Traffic Type':'category', 'Attack Type':'category', 'Attack Signature':'category', 'Action Taken':'category', 'Severity Level':'category', 'Network Segment':'category', 'Log Source':'category'}).drop(columns=['Malware Indicators', 'Alerts/Warnings', 'Proxy Information', 'Firewall Logs', 'IDS/IPS Alerts'])"
   ]
  },
  {
   "cell_type": "code",
   "execution_count": 3,
   "metadata": {},
   "outputs": [
    {
     "name": "stdout",
     "output_type": "stream",
     "text": [
      "<class 'pandas.core.frame.DataFrame'>\n",
      "RangeIndex: 2760000 entries, 0 to 2759999\n",
      "Data columns (total 20 columns):\n",
      " #   Column                  Dtype         \n",
      "---  ------                  -----         \n",
      " 0   Timestamp               datetime64[ns]\n",
      " 1   Source IP Address       object        \n",
      " 2   Destination IP Address  object        \n",
      " 3   Source Port             int64         \n",
      " 4   Destination Port        int64         \n",
      " 5   Protocol                category      \n",
      " 6   Packet Length           int64         \n",
      " 7   Packet Type             category      \n",
      " 8   Traffic Type            category      \n",
      " 9   Payload Data            object        \n",
      " 10  Anomaly Scores          float64       \n",
      " 11  Attack Type             category      \n",
      " 12  Attack Signature        category      \n",
      " 13  Action Taken            category      \n",
      " 14  Severity Level          category      \n",
      " 15  User Information        object        \n",
      " 16  Device Information      object        \n",
      " 17  Network Segment         category      \n",
      " 18  Geo-location Data       object        \n",
      " 19  Log Source              category      \n",
      "dtypes: category(9), datetime64[ns](1), float64(1), int64(3), object(6)\n",
      "memory usage: 255.3+ MB\n"
     ]
    }
   ],
   "source": [
    "df = df\n",
    "intended_df_size_in_MB = 256\n",
    "factor = intended_df_size_in_MB*(2**20)/df.memory_usage(index=True).sum()\n",
    "if int(factor) > 0:\n",
    "    df = pd.concat([df]*int(factor), ignore_index=True)\n",
    "else:\n",
    "    rowCount = int(df.shape[0]*factor)\n",
    "    df = df[0:rowCount]\n",
    "df = df\n",
    "df.info()"
   ]
  },
  {
   "cell_type": "markdown",
   "metadata": {},
   "source": [
    "# EDA"
   ]
  },
  {
   "cell_type": "code",
   "execution_count": null,
   "metadata": {
    "execution": {
     "iopub.execute_input": "2023-10-15T06:40:29.539688Z",
     "iopub.status.busy": "2023-10-15T06:40:29.539271Z",
     "iopub.status.idle": "2023-10-15T06:40:29.565690Z",
     "shell.execute_reply": "2023-10-15T06:40:29.564509Z",
     "shell.execute_reply.started": "2023-10-15T06:40:29.539658Z"
    }
   },
   "outputs": [],
   "source": [
    "df.head()"
   ]
  },
  {
   "cell_type": "code",
   "execution_count": null,
   "metadata": {
    "execution": {
     "iopub.execute_input": "2023-10-15T06:40:29.567505Z",
     "iopub.status.busy": "2023-10-15T06:40:29.566973Z",
     "iopub.status.idle": "2023-10-15T06:40:29.598104Z",
     "shell.execute_reply": "2023-10-15T06:40:29.597212Z",
     "shell.execute_reply.started": "2023-10-15T06:40:29.567476Z"
    }
   },
   "outputs": [],
   "source": [
    "df.describe().T"
   ]
  },
  {
   "cell_type": "code",
   "execution_count": null,
   "metadata": {
    "execution": {
     "iopub.execute_input": "2023-10-15T06:40:29.602566Z",
     "iopub.status.busy": "2023-10-15T06:40:29.602132Z",
     "iopub.status.idle": "2023-10-15T06:40:30.198716Z",
     "shell.execute_reply": "2023-10-15T06:40:30.197747Z",
     "shell.execute_reply.started": "2023-10-15T06:40:29.602541Z"
    }
   },
   "outputs": [],
   "source": [
    "df.resample('M', on='Timestamp')['Attack Type']\n",
    "\n",
    "df.resample('Y', on='Timestamp')['Attack Type']"
   ]
  },
  {
   "cell_type": "code",
   "execution_count": null,
   "metadata": {
    "execution": {
     "iopub.execute_input": "2023-10-15T06:40:30.200481Z",
     "iopub.status.busy": "2023-10-15T06:40:30.200080Z",
     "iopub.status.idle": "2023-10-15T06:40:31.443381Z",
     "shell.execute_reply": "2023-10-15T06:40:31.442457Z",
     "shell.execute_reply.started": "2023-10-15T06:40:30.200451Z"
    }
   },
   "outputs": [],
   "source": [
    "data = pd.crosstab(df['Timestamp'], df['Attack Type']).resample('M').count().melt(ignore_index=False)"
   ]
  },
  {
   "cell_type": "code",
   "execution_count": null,
   "metadata": {
    "execution": {
     "iopub.execute_input": "2023-10-15T06:40:31.445689Z",
     "iopub.status.busy": "2023-10-15T06:40:31.444837Z",
     "iopub.status.idle": "2023-10-15T06:40:31.830885Z",
     "shell.execute_reply": "2023-10-15T06:40:31.829774Z",
     "shell.execute_reply.started": "2023-10-15T06:40:31.445648Z"
    }
   },
   "outputs": [],
   "source": [
    "df.groupby(df['Timestamp'].dt.time).agg({'Attack Type':'count'}).nlargest(10, 'Attack Type')"
   ]
  },
  {
   "cell_type": "code",
   "execution_count": null,
   "metadata": {
    "execution": {
     "iopub.execute_input": "2023-10-15T06:40:47.644174Z",
     "iopub.status.busy": "2023-10-15T06:40:47.643844Z",
     "iopub.status.idle": "2023-10-15T06:40:47.701645Z",
     "shell.execute_reply": "2023-10-15T06:40:47.700502Z",
     "shell.execute_reply.started": "2023-10-15T06:40:47.644145Z"
    }
   },
   "outputs": [],
   "source": [
    "df.groupby('Attack Type')['Anomaly Scores'].mean().reset_index()"
   ]
  },
  {
   "cell_type": "code",
   "execution_count": null,
   "metadata": {
    "execution": {
     "iopub.execute_input": "2023-10-15T06:40:47.703503Z",
     "iopub.status.busy": "2023-10-15T06:40:47.703178Z",
     "iopub.status.idle": "2023-10-15T06:40:48.337556Z",
     "shell.execute_reply": "2023-10-15T06:40:48.336126Z",
     "shell.execute_reply.started": "2023-10-15T06:40:47.703478Z"
    }
   },
   "outputs": [],
   "source": [
    "pd.crosstab(df['Geo-location Data'], df['Attack Type']).nlargest(5, columns='DDoS')['DDoS']"
   ]
  },
  {
   "cell_type": "code",
   "execution_count": null,
   "metadata": {
    "execution": {
     "iopub.execute_input": "2023-10-15T06:40:48.340133Z",
     "iopub.status.busy": "2023-10-15T06:40:48.338997Z",
     "iopub.status.idle": "2023-10-15T06:40:48.913660Z",
     "shell.execute_reply": "2023-10-15T06:40:48.912571Z",
     "shell.execute_reply.started": "2023-10-15T06:40:48.340100Z"
    }
   },
   "outputs": [],
   "source": [
    "pd.crosstab(df['Geo-location Data'], df['Attack Type']).nlargest(5, columns='Malware')['Malware']"
   ]
  },
  {
   "cell_type": "code",
   "execution_count": null,
   "metadata": {
    "execution": {
     "iopub.execute_input": "2023-10-15T06:40:48.916516Z",
     "iopub.status.busy": "2023-10-15T06:40:48.915649Z",
     "iopub.status.idle": "2023-10-15T06:40:49.467994Z",
     "shell.execute_reply": "2023-10-15T06:40:49.466828Z",
     "shell.execute_reply.started": "2023-10-15T06:40:48.916473Z"
    }
   },
   "outputs": [],
   "source": [
    "pd.crosstab(df['Geo-location Data'], df['Attack Type']).nlargest(5, columns='Intrusion')['Intrusion']"
   ]
  }
 ],
 "metadata": {
  "kernelspec": {
   "display_name": "Python 3 (ipykernel)",
   "language": "python",
   "name": "python3"
  },
  "language_info": {
   "codemirror_mode": {
    "name": "ipython",
    "version": 3
   },
   "file_extension": ".py",
   "mimetype": "text/x-python",
   "name": "python",
   "nbconvert_exporter": "python",
   "pygments_lexer": "ipython3",
   "version": "3.10.13"
  }
 },
 "nbformat": 4,
 "nbformat_minor": 4
}
