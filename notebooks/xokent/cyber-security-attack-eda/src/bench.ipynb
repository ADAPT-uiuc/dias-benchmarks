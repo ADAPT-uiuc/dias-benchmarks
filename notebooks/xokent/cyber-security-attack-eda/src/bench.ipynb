{
 "cells": [
  {
   "cell_type": "code",
   "execution_count": 39,
   "metadata": {
    "execution": {
     "iopub.execute_input": "2023-10-15T06:40:25.892446Z",
     "iopub.status.busy": "2023-10-15T06:40:25.891500Z",
     "iopub.status.idle": "2023-10-15T06:40:28.924391Z",
     "shell.execute_reply": "2023-10-15T06:40:28.923287Z",
     "shell.execute_reply.started": "2023-10-15T06:40:25.892400Z"
    }
   },
   "outputs": [
    {
     "ename": "TypeError",
     "evalue": "unhashable type: 'dict'",
     "output_type": "error",
     "traceback": [
      "\u001b[0;31m---------------------------------------------------------------------------\u001b[0m",
      "\u001b[0;31mTypeError\u001b[0m                                 Traceback (most recent call last)",
      "Cell \u001b[0;32mIn[39], line 6\u001b[0m\n\u001b[1;32m      4\u001b[0m num_cpus\u001b[38;5;241m=\u001b[39m\u001b[38;5;241m4\u001b[39m\n\u001b[1;32m      5\u001b[0m os\u001b[38;5;241m.\u001b[39menviron[\u001b[38;5;124m'\u001b[39m\u001b[38;5;124mMODIN_CPUS\u001b[39m\u001b[38;5;124m'\u001b[39m] \u001b[38;5;241m=\u001b[39m \u001b[38;5;124m\"\u001b[39m\u001b[38;5;132;01m{num_cpus}\u001b[39;00m\u001b[38;5;124m\"\u001b[39m\n\u001b[0;32m----> 6\u001b[0m ray\u001b[38;5;241m.\u001b[39minit(num_cpus\u001b[38;5;241m=\u001b[39m{num_cpus}, runtime_env\u001b[38;5;241m=\u001b[39m{{\u001b[38;5;124m'\u001b[39m\u001b[38;5;124menv_vars\u001b[39m\u001b[38;5;124m'\u001b[39m: {{\u001b[38;5;124m'\u001b[39m\u001b[38;5;124m__MODIN_AUTOIMPORT_PANDAS__\u001b[39m\u001b[38;5;124m'\u001b[39m: \u001b[38;5;124m'\u001b[39m\u001b[38;5;124m1\u001b[39m\u001b[38;5;124m'\u001b[39m}}}})\n\u001b[1;32m      7\u001b[0m \u001b[38;5;28;01mimport\u001b[39;00m \u001b[38;5;21;01mmodin\u001b[39;00m\u001b[38;5;21;01m.\u001b[39;00m\u001b[38;5;21;01mpandas\u001b[39;00m \u001b[38;5;28;01mas\u001b[39;00m \u001b[38;5;21;01mpd\u001b[39;00m\n\u001b[1;32m      8\u001b[0m \u001b[38;5;66;03m#import pandas as pd\u001b[39;00m\n",
      "\u001b[0;31mTypeError\u001b[0m: unhashable type: 'dict'"
     ]
    }
   ],
   "source": [
    "import pandas as pd\n",
    "import numpy as np\n",
    "pd.set_option('display.max_columns', 50)"
   ]
  },
  {
   "cell_type": "code",
   "execution_count": 15,
   "metadata": {
    "execution": {
     "iopub.execute_input": "2023-10-15T06:40:28.926750Z",
     "iopub.status.busy": "2023-10-15T06:40:28.925933Z",
     "iopub.status.idle": "2023-10-15T06:40:29.482460Z",
     "shell.execute_reply": "2023-10-15T06:40:29.481633Z",
     "shell.execute_reply.started": "2023-10-15T06:40:28.926712Z"
    }
   },
   "outputs": [],
   "source": [
    "df = pd.read_csv('../input/cybersecurity_attacks.csv', parse_dates=['Timestamp'], dtype={'Protocol':'category', 'Packet Type':'category', 'Traffic Type':'category', 'Attack Type':'category', 'Attack Signature':'category', 'Action Taken':'category', 'Severity Level':'category', 'Network Segment':'category', 'Log Source':'category'}).drop(columns=['Malware Indicators', 'Alerts/Warnings', 'Proxy Information', 'Firewall Logs', 'IDS/IPS Alerts'])"
   ]
  },
  {
   "cell_type": "code",
   "execution_count": 16,
   "metadata": {
    "execution": {
     "iopub.execute_input": "2023-10-15T06:40:29.484160Z",
     "iopub.status.busy": "2023-10-15T06:40:29.483767Z",
     "iopub.status.idle": "2023-10-15T06:40:29.537996Z",
     "shell.execute_reply": "2023-10-15T06:40:29.536894Z",
     "shell.execute_reply.started": "2023-10-15T06:40:29.484133Z"
    }
   },
   "outputs": [
    {
     "name": "stdout",
     "output_type": "stream",
     "text": [
      "<class 'pandas.core.frame.DataFrame'>\n",
      "RangeIndex: 40000 entries, 0 to 39999\n",
      "Data columns (total 20 columns):\n",
      " #   Column                  Non-Null Count  Dtype         \n",
      "---  ------                  --------------  -----         \n",
      " 0   Timestamp               40000 non-null  datetime64[ns]\n",
      " 1   Source IP Address       40000 non-null  object        \n",
      " 2   Destination IP Address  40000 non-null  object        \n",
      " 3   Source Port             40000 non-null  int64         \n",
      " 4   Destination Port        40000 non-null  int64         \n",
      " 5   Protocol                40000 non-null  category      \n",
      " 6   Packet Length           40000 non-null  int64         \n",
      " 7   Packet Type             40000 non-null  category      \n",
      " 8   Traffic Type            40000 non-null  category      \n",
      " 9   Payload Data            40000 non-null  object        \n",
      " 10  Anomaly Scores          40000 non-null  float64       \n",
      " 11  Attack Type             40000 non-null  category      \n",
      " 12  Attack Signature        40000 non-null  category      \n",
      " 13  Action Taken            40000 non-null  category      \n",
      " 14  Severity Level          40000 non-null  category      \n",
      " 15  User Information        40000 non-null  object        \n",
      " 16  Device Information      40000 non-null  object        \n",
      " 17  Network Segment         40000 non-null  category      \n",
      " 18  Geo-location Data       40000 non-null  object        \n",
      " 19  Log Source              40000 non-null  category      \n",
      "dtypes: category(9), datetime64[ns](1), float64(1), int64(3), object(6)\n",
      "memory usage: 3.7+ MB\n"
     ]
    }
   ],
   "source": [
    "df.info()"
   ]
  },
  {
   "cell_type": "markdown",
   "metadata": {},
   "source": [
    "# EDA"
   ]
  },
  {
   "cell_type": "code",
   "execution_count": 17,
   "metadata": {
    "execution": {
     "iopub.execute_input": "2023-10-15T06:40:29.539688Z",
     "iopub.status.busy": "2023-10-15T06:40:29.539271Z",
     "iopub.status.idle": "2023-10-15T06:40:29.565690Z",
     "shell.execute_reply": "2023-10-15T06:40:29.564509Z",
     "shell.execute_reply.started": "2023-10-15T06:40:29.539658Z"
    }
   },
   "outputs": [
    {
     "data": {
      "text/html": [
       "<div>\n",
       "<style scoped>\n",
       "    .dataframe tbody tr th:only-of-type {\n",
       "        vertical-align: middle;\n",
       "    }\n",
       "\n",
       "    .dataframe tbody tr th {\n",
       "        vertical-align: top;\n",
       "    }\n",
       "\n",
       "    .dataframe thead th {\n",
       "        text-align: right;\n",
       "    }\n",
       "</style>\n",
       "<table border=\"1\" class=\"dataframe\">\n",
       "  <thead>\n",
       "    <tr style=\"text-align: right;\">\n",
       "      <th></th>\n",
       "      <th>Timestamp</th>\n",
       "      <th>Source IP Address</th>\n",
       "      <th>Destination IP Address</th>\n",
       "      <th>Source Port</th>\n",
       "      <th>Destination Port</th>\n",
       "      <th>Protocol</th>\n",
       "      <th>Packet Length</th>\n",
       "      <th>Packet Type</th>\n",
       "      <th>Traffic Type</th>\n",
       "      <th>Payload Data</th>\n",
       "      <th>Anomaly Scores</th>\n",
       "      <th>Attack Type</th>\n",
       "      <th>Attack Signature</th>\n",
       "      <th>Action Taken</th>\n",
       "      <th>Severity Level</th>\n",
       "      <th>User Information</th>\n",
       "      <th>Device Information</th>\n",
       "      <th>Network Segment</th>\n",
       "      <th>Geo-location Data</th>\n",
       "      <th>Log Source</th>\n",
       "    </tr>\n",
       "  </thead>\n",
       "  <tbody>\n",
       "    <tr>\n",
       "      <th>0</th>\n",
       "      <td>2023-05-30 06:33:58</td>\n",
       "      <td>103.216.15.12</td>\n",
       "      <td>84.9.164.252</td>\n",
       "      <td>31225</td>\n",
       "      <td>17616</td>\n",
       "      <td>ICMP</td>\n",
       "      <td>503</td>\n",
       "      <td>Data</td>\n",
       "      <td>HTTP</td>\n",
       "      <td>Qui natus odio asperiores nam. Optio nobis ius...</td>\n",
       "      <td>28.67</td>\n",
       "      <td>Malware</td>\n",
       "      <td>Known Pattern B</td>\n",
       "      <td>Logged</td>\n",
       "      <td>Low</td>\n",
       "      <td>Reyansh Dugal</td>\n",
       "      <td>Mozilla/5.0 (compatible; MSIE 8.0; Windows NT ...</td>\n",
       "      <td>Segment A</td>\n",
       "      <td>Jamshedpur, Sikkim</td>\n",
       "      <td>Server</td>\n",
       "    </tr>\n",
       "    <tr>\n",
       "      <th>1</th>\n",
       "      <td>2020-08-26 07:08:30</td>\n",
       "      <td>78.199.217.198</td>\n",
       "      <td>66.191.137.154</td>\n",
       "      <td>17245</td>\n",
       "      <td>48166</td>\n",
       "      <td>ICMP</td>\n",
       "      <td>1174</td>\n",
       "      <td>Data</td>\n",
       "      <td>HTTP</td>\n",
       "      <td>Aperiam quos modi officiis veritatis rem. Omni...</td>\n",
       "      <td>51.50</td>\n",
       "      <td>Malware</td>\n",
       "      <td>Known Pattern A</td>\n",
       "      <td>Blocked</td>\n",
       "      <td>Low</td>\n",
       "      <td>Sumer Rana</td>\n",
       "      <td>Mozilla/5.0 (compatible; MSIE 8.0; Windows NT ...</td>\n",
       "      <td>Segment B</td>\n",
       "      <td>Bilaspur, Nagaland</td>\n",
       "      <td>Firewall</td>\n",
       "    </tr>\n",
       "    <tr>\n",
       "      <th>2</th>\n",
       "      <td>2022-11-13 08:23:25</td>\n",
       "      <td>63.79.210.48</td>\n",
       "      <td>198.219.82.17</td>\n",
       "      <td>16811</td>\n",
       "      <td>53600</td>\n",
       "      <td>UDP</td>\n",
       "      <td>306</td>\n",
       "      <td>Control</td>\n",
       "      <td>HTTP</td>\n",
       "      <td>Perferendis sapiente vitae soluta. Hic delectu...</td>\n",
       "      <td>87.42</td>\n",
       "      <td>DDoS</td>\n",
       "      <td>Known Pattern B</td>\n",
       "      <td>Ignored</td>\n",
       "      <td>Low</td>\n",
       "      <td>Himmat Karpe</td>\n",
       "      <td>Mozilla/5.0 (compatible; MSIE 9.0; Windows NT ...</td>\n",
       "      <td>Segment C</td>\n",
       "      <td>Bokaro, Rajasthan</td>\n",
       "      <td>Firewall</td>\n",
       "    </tr>\n",
       "    <tr>\n",
       "      <th>3</th>\n",
       "      <td>2023-07-02 10:38:46</td>\n",
       "      <td>163.42.196.10</td>\n",
       "      <td>101.228.192.255</td>\n",
       "      <td>20018</td>\n",
       "      <td>32534</td>\n",
       "      <td>UDP</td>\n",
       "      <td>385</td>\n",
       "      <td>Data</td>\n",
       "      <td>HTTP</td>\n",
       "      <td>Totam maxime beatae expedita explicabo porro l...</td>\n",
       "      <td>15.79</td>\n",
       "      <td>Malware</td>\n",
       "      <td>Known Pattern B</td>\n",
       "      <td>Blocked</td>\n",
       "      <td>Medium</td>\n",
       "      <td>Fateh Kibe</td>\n",
       "      <td>Mozilla/5.0 (Macintosh; PPC Mac OS X 10_11_5; ...</td>\n",
       "      <td>Segment B</td>\n",
       "      <td>Jaunpur, Rajasthan</td>\n",
       "      <td>Firewall</td>\n",
       "    </tr>\n",
       "    <tr>\n",
       "      <th>4</th>\n",
       "      <td>2023-07-16 13:11:07</td>\n",
       "      <td>71.166.185.76</td>\n",
       "      <td>189.243.174.238</td>\n",
       "      <td>6131</td>\n",
       "      <td>26646</td>\n",
       "      <td>TCP</td>\n",
       "      <td>1462</td>\n",
       "      <td>Data</td>\n",
       "      <td>DNS</td>\n",
       "      <td>Odit nesciunt dolorem nisi iste iusto. Animi v...</td>\n",
       "      <td>0.52</td>\n",
       "      <td>DDoS</td>\n",
       "      <td>Known Pattern B</td>\n",
       "      <td>Blocked</td>\n",
       "      <td>Low</td>\n",
       "      <td>Dhanush Chad</td>\n",
       "      <td>Mozilla/5.0 (compatible; MSIE 5.0; Windows NT ...</td>\n",
       "      <td>Segment C</td>\n",
       "      <td>Anantapur, Tripura</td>\n",
       "      <td>Firewall</td>\n",
       "    </tr>\n",
       "  </tbody>\n",
       "</table>\n",
       "</div>"
      ],
      "text/plain": [
       "            Timestamp Source IP Address Destination IP Address  Source Port  \\\n",
       "0 2023-05-30 06:33:58     103.216.15.12           84.9.164.252        31225   \n",
       "1 2020-08-26 07:08:30    78.199.217.198         66.191.137.154        17245   \n",
       "2 2022-11-13 08:23:25      63.79.210.48          198.219.82.17        16811   \n",
       "3 2023-07-02 10:38:46     163.42.196.10        101.228.192.255        20018   \n",
       "4 2023-07-16 13:11:07     71.166.185.76        189.243.174.238         6131   \n",
       "\n",
       "   Destination Port Protocol  Packet Length Packet Type Traffic Type  \\\n",
       "0             17616     ICMP            503        Data         HTTP   \n",
       "1             48166     ICMP           1174        Data         HTTP   \n",
       "2             53600      UDP            306     Control         HTTP   \n",
       "3             32534      UDP            385        Data         HTTP   \n",
       "4             26646      TCP           1462        Data          DNS   \n",
       "\n",
       "                                        Payload Data  Anomaly Scores  \\\n",
       "0  Qui natus odio asperiores nam. Optio nobis ius...           28.67   \n",
       "1  Aperiam quos modi officiis veritatis rem. Omni...           51.50   \n",
       "2  Perferendis sapiente vitae soluta. Hic delectu...           87.42   \n",
       "3  Totam maxime beatae expedita explicabo porro l...           15.79   \n",
       "4  Odit nesciunt dolorem nisi iste iusto. Animi v...            0.52   \n",
       "\n",
       "  Attack Type Attack Signature Action Taken Severity Level User Information  \\\n",
       "0     Malware  Known Pattern B       Logged            Low    Reyansh Dugal   \n",
       "1     Malware  Known Pattern A      Blocked            Low       Sumer Rana   \n",
       "2        DDoS  Known Pattern B      Ignored            Low     Himmat Karpe   \n",
       "3     Malware  Known Pattern B      Blocked         Medium       Fateh Kibe   \n",
       "4        DDoS  Known Pattern B      Blocked            Low     Dhanush Chad   \n",
       "\n",
       "                                  Device Information Network Segment  \\\n",
       "0  Mozilla/5.0 (compatible; MSIE 8.0; Windows NT ...       Segment A   \n",
       "1  Mozilla/5.0 (compatible; MSIE 8.0; Windows NT ...       Segment B   \n",
       "2  Mozilla/5.0 (compatible; MSIE 9.0; Windows NT ...       Segment C   \n",
       "3  Mozilla/5.0 (Macintosh; PPC Mac OS X 10_11_5; ...       Segment B   \n",
       "4  Mozilla/5.0 (compatible; MSIE 5.0; Windows NT ...       Segment C   \n",
       "\n",
       "    Geo-location Data Log Source  \n",
       "0  Jamshedpur, Sikkim     Server  \n",
       "1  Bilaspur, Nagaland   Firewall  \n",
       "2   Bokaro, Rajasthan   Firewall  \n",
       "3  Jaunpur, Rajasthan   Firewall  \n",
       "4  Anantapur, Tripura   Firewall  "
      ]
     },
     "execution_count": 17,
     "metadata": {},
     "output_type": "execute_result"
    }
   ],
   "source": [
    "df.head()"
   ]
  },
  {
   "cell_type": "code",
   "execution_count": 18,
   "metadata": {
    "execution": {
     "iopub.execute_input": "2023-10-15T06:40:29.567505Z",
     "iopub.status.busy": "2023-10-15T06:40:29.566973Z",
     "iopub.status.idle": "2023-10-15T06:40:29.598104Z",
     "shell.execute_reply": "2023-10-15T06:40:29.597212Z",
     "shell.execute_reply.started": "2023-10-15T06:40:29.567476Z"
    }
   },
   "outputs": [
    {
     "data": {
      "text/html": [
       "<div>\n",
       "<style scoped>\n",
       "    .dataframe tbody tr th:only-of-type {\n",
       "        vertical-align: middle;\n",
       "    }\n",
       "\n",
       "    .dataframe tbody tr th {\n",
       "        vertical-align: top;\n",
       "    }\n",
       "\n",
       "    .dataframe thead th {\n",
       "        text-align: right;\n",
       "    }\n",
       "</style>\n",
       "<table border=\"1\" class=\"dataframe\">\n",
       "  <thead>\n",
       "    <tr style=\"text-align: right;\">\n",
       "      <th></th>\n",
       "      <th>count</th>\n",
       "      <th>mean</th>\n",
       "      <th>std</th>\n",
       "      <th>min</th>\n",
       "      <th>25%</th>\n",
       "      <th>50%</th>\n",
       "      <th>75%</th>\n",
       "      <th>max</th>\n",
       "    </tr>\n",
       "  </thead>\n",
       "  <tbody>\n",
       "    <tr>\n",
       "      <th>Source Port</th>\n",
       "      <td>40000.0</td>\n",
       "      <td>32970.356450</td>\n",
       "      <td>18560.425604</td>\n",
       "      <td>1027.0</td>\n",
       "      <td>16850.75</td>\n",
       "      <td>32856.000</td>\n",
       "      <td>48928.25</td>\n",
       "      <td>65530.0</td>\n",
       "    </tr>\n",
       "    <tr>\n",
       "      <th>Destination Port</th>\n",
       "      <td>40000.0</td>\n",
       "      <td>33150.868650</td>\n",
       "      <td>18574.668842</td>\n",
       "      <td>1024.0</td>\n",
       "      <td>17094.75</td>\n",
       "      <td>33004.500</td>\n",
       "      <td>49287.00</td>\n",
       "      <td>65535.0</td>\n",
       "    </tr>\n",
       "    <tr>\n",
       "      <th>Packet Length</th>\n",
       "      <td>40000.0</td>\n",
       "      <td>781.452725</td>\n",
       "      <td>416.044192</td>\n",
       "      <td>64.0</td>\n",
       "      <td>420.00</td>\n",
       "      <td>782.000</td>\n",
       "      <td>1143.00</td>\n",
       "      <td>1500.0</td>\n",
       "    </tr>\n",
       "    <tr>\n",
       "      <th>Anomaly Scores</th>\n",
       "      <td>40000.0</td>\n",
       "      <td>50.113473</td>\n",
       "      <td>28.853598</td>\n",
       "      <td>0.0</td>\n",
       "      <td>25.15</td>\n",
       "      <td>50.345</td>\n",
       "      <td>75.03</td>\n",
       "      <td>100.0</td>\n",
       "    </tr>\n",
       "  </tbody>\n",
       "</table>\n",
       "</div>"
      ],
      "text/plain": [
       "                    count          mean           std     min       25%  \\\n",
       "Source Port       40000.0  32970.356450  18560.425604  1027.0  16850.75   \n",
       "Destination Port  40000.0  33150.868650  18574.668842  1024.0  17094.75   \n",
       "Packet Length     40000.0    781.452725    416.044192    64.0    420.00   \n",
       "Anomaly Scores    40000.0     50.113473     28.853598     0.0     25.15   \n",
       "\n",
       "                        50%       75%      max  \n",
       "Source Port       32856.000  48928.25  65530.0  \n",
       "Destination Port  33004.500  49287.00  65535.0  \n",
       "Packet Length       782.000   1143.00   1500.0  \n",
       "Anomaly Scores       50.345     75.03    100.0  "
      ]
     },
     "execution_count": 18,
     "metadata": {},
     "output_type": "execute_result"
    }
   ],
   "source": [
    "df.describe().T"
   ]
  },
  {
   "cell_type": "code",
   "execution_count": 43,
   "metadata": {
    "execution": {
     "iopub.execute_input": "2023-10-15T06:40:29.602566Z",
     "iopub.status.busy": "2023-10-15T06:40:29.602132Z",
     "iopub.status.idle": "2023-10-15T06:40:30.198716Z",
     "shell.execute_reply": "2023-10-15T06:40:30.197747Z",
     "shell.execute_reply.started": "2023-10-15T06:40:29.602541Z"
    }
   },
   "outputs": [
    {
     "ename": "KeyError",
     "evalue": "'The grouper name Timestamp is not found'",
     "output_type": "error",
     "traceback": [
      "\u001b[0;31m---------------------------------------------------------------------------\u001b[0m",
      "\u001b[0;31mKeyError\u001b[0m                                  Traceback (most recent call last)",
      "Cell \u001b[0;32mIn[43], line 5\u001b[0m\n\u001b[1;32m      2\u001b[0m df \u001b[38;5;241m=\u001b[39m df[\u001b[38;5;124m'\u001b[39m\u001b[38;5;124mAttack Type\u001b[39m\u001b[38;5;124m'\u001b[39m]\n\u001b[1;32m      3\u001b[0m df\u001b[38;5;241m.\u001b[39mcount()\n\u001b[0;32m----> 5\u001b[0m \u001b[43mdf\u001b[49m\u001b[38;5;241;43m.\u001b[39;49m\u001b[43mresample\u001b[49m\u001b[43m(\u001b[49m\u001b[38;5;124;43m'\u001b[39;49m\u001b[38;5;124;43mY\u001b[39;49m\u001b[38;5;124;43m'\u001b[39;49m\u001b[43m,\u001b[49m\u001b[43m \u001b[49m\u001b[43mon\u001b[49m\u001b[38;5;241;43m=\u001b[39;49m\u001b[38;5;124;43m'\u001b[39;49m\u001b[38;5;124;43mTimestamp\u001b[39;49m\u001b[38;5;124;43m'\u001b[39;49m\u001b[43m)\u001b[49m[\u001b[38;5;124m'\u001b[39m\u001b[38;5;124mAttack Type\u001b[39m\u001b[38;5;124m'\u001b[39m]\u001b[38;5;241m.\u001b[39mcount()\n",
      "File \u001b[0;32m~/opt/anaconda3/envs/py3.10/lib/python3.10/site-packages/pandas/core/groupby/groupby.py:2803\u001b[0m, in \u001b[0;36mGroupBy.resample\u001b[0;34m(self, rule, *args, **kwargs)\u001b[0m\n\u001b[1;32m   2705\u001b[0m \u001b[38;5;124;03m\"\"\"\u001b[39;00m\n\u001b[1;32m   2706\u001b[0m \u001b[38;5;124;03mProvide resampling when using a TimeGrouper.\u001b[39;00m\n\u001b[1;32m   2707\u001b[0m \n\u001b[0;32m   (...)\u001b[0m\n\u001b[1;32m   2799\u001b[0m \u001b[38;5;124;03m5   2000-01-01 00:03:00  5  1\u001b[39;00m\n\u001b[1;32m   2800\u001b[0m \u001b[38;5;124;03m\"\"\"\u001b[39;00m\n\u001b[1;32m   2801\u001b[0m \u001b[38;5;28;01mfrom\u001b[39;00m \u001b[38;5;21;01mpandas\u001b[39;00m\u001b[38;5;21;01m.\u001b[39;00m\u001b[38;5;21;01mcore\u001b[39;00m\u001b[38;5;21;01m.\u001b[39;00m\u001b[38;5;21;01mresample\u001b[39;00m \u001b[38;5;28;01mimport\u001b[39;00m get_resampler_for_grouping\n\u001b[0;32m-> 2803\u001b[0m \u001b[38;5;28;01mreturn\u001b[39;00m \u001b[43mget_resampler_for_grouping\u001b[49m\u001b[43m(\u001b[49m\u001b[38;5;28;43mself\u001b[39;49m\u001b[43m,\u001b[49m\u001b[43m \u001b[49m\u001b[43mrule\u001b[49m\u001b[43m,\u001b[49m\u001b[43m \u001b[49m\u001b[38;5;241;43m*\u001b[39;49m\u001b[43margs\u001b[49m\u001b[43m,\u001b[49m\u001b[43m \u001b[49m\u001b[38;5;241;43m*\u001b[39;49m\u001b[38;5;241;43m*\u001b[39;49m\u001b[43mkwargs\u001b[49m\u001b[43m)\u001b[49m\n",
      "File \u001b[0;32m~/opt/anaconda3/envs/py3.10/lib/python3.10/site-packages/pandas/core/resample.py:1558\u001b[0m, in \u001b[0;36mget_resampler_for_grouping\u001b[0;34m(groupby, rule, how, fill_method, limit, kind, on, **kwargs)\u001b[0m\n\u001b[1;32m   1556\u001b[0m \u001b[38;5;66;03m# .resample uses 'on' similar to how .groupby uses 'key'\u001b[39;00m\n\u001b[1;32m   1557\u001b[0m tg \u001b[38;5;241m=\u001b[39m TimeGrouper(freq\u001b[38;5;241m=\u001b[39mrule, key\u001b[38;5;241m=\u001b[39mon, \u001b[38;5;241m*\u001b[39m\u001b[38;5;241m*\u001b[39mkwargs)\n\u001b[0;32m-> 1558\u001b[0m resampler \u001b[38;5;241m=\u001b[39m \u001b[43mtg\u001b[49m\u001b[38;5;241;43m.\u001b[39;49m\u001b[43m_get_resampler\u001b[49m\u001b[43m(\u001b[49m\u001b[43mgroupby\u001b[49m\u001b[38;5;241;43m.\u001b[39;49m\u001b[43mobj\u001b[49m\u001b[43m,\u001b[49m\u001b[43m \u001b[49m\u001b[43mkind\u001b[49m\u001b[38;5;241;43m=\u001b[39;49m\u001b[43mkind\u001b[49m\u001b[43m)\u001b[49m\n\u001b[1;32m   1559\u001b[0m \u001b[38;5;28;01mreturn\u001b[39;00m resampler\u001b[38;5;241m.\u001b[39m_get_resampler_for_grouping(groupby\u001b[38;5;241m=\u001b[39mgroupby, key\u001b[38;5;241m=\u001b[39mtg\u001b[38;5;241m.\u001b[39mkey)\n",
      "File \u001b[0;32m~/opt/anaconda3/envs/py3.10/lib/python3.10/site-packages/pandas/core/resample.py:1709\u001b[0m, in \u001b[0;36mTimeGrouper._get_resampler\u001b[0;34m(self, obj, kind)\u001b[0m\n\u001b[1;32m   1690\u001b[0m \u001b[38;5;28;01mdef\u001b[39;00m \u001b[38;5;21m_get_resampler\u001b[39m(\u001b[38;5;28mself\u001b[39m, obj, kind\u001b[38;5;241m=\u001b[39m\u001b[38;5;28;01mNone\u001b[39;00m):\n\u001b[1;32m   1691\u001b[0m     \u001b[38;5;124;03m\"\"\"\u001b[39;00m\n\u001b[1;32m   1692\u001b[0m \u001b[38;5;124;03m    Return my resampler or raise if we have an invalid axis.\u001b[39;00m\n\u001b[1;32m   1693\u001b[0m \n\u001b[0;32m   (...)\u001b[0m\n\u001b[1;32m   1707\u001b[0m \n\u001b[1;32m   1708\u001b[0m \u001b[38;5;124;03m    \"\"\"\u001b[39;00m\n\u001b[0;32m-> 1709\u001b[0m     \u001b[38;5;28;43mself\u001b[39;49m\u001b[38;5;241;43m.\u001b[39;49m\u001b[43m_set_grouper\u001b[49m\u001b[43m(\u001b[49m\u001b[43mobj\u001b[49m\u001b[43m)\u001b[49m\n\u001b[1;32m   1711\u001b[0m     ax \u001b[38;5;241m=\u001b[39m \u001b[38;5;28mself\u001b[39m\u001b[38;5;241m.\u001b[39max\n\u001b[1;32m   1712\u001b[0m     \u001b[38;5;28;01mif\u001b[39;00m \u001b[38;5;28misinstance\u001b[39m(ax, DatetimeIndex):\n",
      "File \u001b[0;32m~/opt/anaconda3/envs/py3.10/lib/python3.10/site-packages/pandas/core/groupby/grouper.py:384\u001b[0m, in \u001b[0;36mGrouper._set_grouper\u001b[0;34m(self, obj, sort)\u001b[0m\n\u001b[1;32m    382\u001b[0m     \u001b[38;5;28;01melse\u001b[39;00m:\n\u001b[1;32m    383\u001b[0m         \u001b[38;5;28;01mif\u001b[39;00m key \u001b[38;5;129;01mnot\u001b[39;00m \u001b[38;5;129;01min\u001b[39;00m obj\u001b[38;5;241m.\u001b[39m_info_axis:\n\u001b[0;32m--> 384\u001b[0m             \u001b[38;5;28;01mraise\u001b[39;00m \u001b[38;5;167;01mKeyError\u001b[39;00m(\u001b[38;5;124mf\u001b[39m\u001b[38;5;124m\"\u001b[39m\u001b[38;5;124mThe grouper name \u001b[39m\u001b[38;5;132;01m{\u001b[39;00mkey\u001b[38;5;132;01m}\u001b[39;00m\u001b[38;5;124m is not found\u001b[39m\u001b[38;5;124m\"\u001b[39m)\n\u001b[1;32m    385\u001b[0m         ax \u001b[38;5;241m=\u001b[39m Index(obj[key], name\u001b[38;5;241m=\u001b[39mkey)\n\u001b[1;32m    387\u001b[0m \u001b[38;5;28;01melse\u001b[39;00m:\n",
      "\u001b[0;31mKeyError\u001b[0m: 'The grouper name Timestamp is not found'"
     ]
    }
   ],
   "source": [
    "df.resample('M', on='Timestamp')['Attack Type']\n",
    "\n",
    "df.resample('Y', on='Timestamp')['Attack Type']"
   ]
  },
  {
   "cell_type": "code",
   "execution_count": 21,
   "metadata": {
    "execution": {
     "iopub.execute_input": "2023-10-15T06:40:30.200481Z",
     "iopub.status.busy": "2023-10-15T06:40:30.200080Z",
     "iopub.status.idle": "2023-10-15T06:40:31.443381Z",
     "shell.execute_reply": "2023-10-15T06:40:31.442457Z",
     "shell.execute_reply.started": "2023-10-15T06:40:30.200451Z"
    }
   },
   "outputs": [],
   "source": [
    "data = pd.crosstab(df['Timestamp'], df['Attack Type']).resample('M').count().melt(ignore_index=False)"
   ]
  },
  {
   "cell_type": "code",
   "execution_count": 8,
   "metadata": {
    "execution": {
     "iopub.execute_input": "2023-10-15T06:40:31.445689Z",
     "iopub.status.busy": "2023-10-15T06:40:31.444837Z",
     "iopub.status.idle": "2023-10-15T06:40:31.830885Z",
     "shell.execute_reply": "2023-10-15T06:40:31.829774Z",
     "shell.execute_reply.started": "2023-10-15T06:40:31.445648Z"
    }
   },
   "outputs": [
    {
     "data": {
      "text/html": [
       "<div>\n",
       "<style scoped>\n",
       "    .dataframe tbody tr th:only-of-type {\n",
       "        vertical-align: middle;\n",
       "    }\n",
       "\n",
       "    .dataframe tbody tr th {\n",
       "        vertical-align: top;\n",
       "    }\n",
       "\n",
       "    .dataframe thead th {\n",
       "        text-align: right;\n",
       "    }\n",
       "</style>\n",
       "<table border=\"1\" class=\"dataframe\">\n",
       "  <thead>\n",
       "    <tr style=\"text-align: right;\">\n",
       "      <th></th>\n",
       "      <th>Attack Type</th>\n",
       "    </tr>\n",
       "    <tr>\n",
       "      <th>Timestamp</th>\n",
       "      <th></th>\n",
       "    </tr>\n",
       "  </thead>\n",
       "  <tbody>\n",
       "    <tr>\n",
       "      <th>00:56:06</th>\n",
       "      <td>5</td>\n",
       "    </tr>\n",
       "    <tr>\n",
       "      <th>02:24:56</th>\n",
       "      <td>5</td>\n",
       "    </tr>\n",
       "    <tr>\n",
       "      <th>02:53:42</th>\n",
       "      <td>5</td>\n",
       "    </tr>\n",
       "    <tr>\n",
       "      <th>05:31:26</th>\n",
       "      <td>5</td>\n",
       "    </tr>\n",
       "    <tr>\n",
       "      <th>05:40:36</th>\n",
       "      <td>5</td>\n",
       "    </tr>\n",
       "    <tr>\n",
       "      <th>06:47:06</th>\n",
       "      <td>5</td>\n",
       "    </tr>\n",
       "    <tr>\n",
       "      <th>07:26:03</th>\n",
       "      <td>5</td>\n",
       "    </tr>\n",
       "    <tr>\n",
       "      <th>12:57:32</th>\n",
       "      <td>5</td>\n",
       "    </tr>\n",
       "    <tr>\n",
       "      <th>15:43:03</th>\n",
       "      <td>5</td>\n",
       "    </tr>\n",
       "    <tr>\n",
       "      <th>00:15:25</th>\n",
       "      <td>4</td>\n",
       "    </tr>\n",
       "  </tbody>\n",
       "</table>\n",
       "</div>"
      ],
      "text/plain": [
       "           Attack Type\n",
       "Timestamp             \n",
       "00:56:06             5\n",
       "02:24:56             5\n",
       "02:53:42             5\n",
       "05:31:26             5\n",
       "05:40:36             5\n",
       "06:47:06             5\n",
       "07:26:03             5\n",
       "12:57:32             5\n",
       "15:43:03             5\n",
       "00:15:25             4"
      ]
     },
     "execution_count": 8,
     "metadata": {},
     "output_type": "execute_result"
    }
   ],
   "source": [
    "df.groupby(df['Timestamp'].dt.time).agg({'Attack Type':'count'}).nlargest(10, 'Attack Type')"
   ]
  },
  {
   "cell_type": "code",
   "execution_count": 9,
   "metadata": {
    "execution": {
     "iopub.execute_input": "2023-10-15T06:40:47.644174Z",
     "iopub.status.busy": "2023-10-15T06:40:47.643844Z",
     "iopub.status.idle": "2023-10-15T06:40:47.701645Z",
     "shell.execute_reply": "2023-10-15T06:40:47.700502Z",
     "shell.execute_reply.started": "2023-10-15T06:40:47.644145Z"
    }
   },
   "outputs": [
    {
     "data": {
      "text/html": [
       "<div>\n",
       "<style scoped>\n",
       "    .dataframe tbody tr th:only-of-type {\n",
       "        vertical-align: middle;\n",
       "    }\n",
       "\n",
       "    .dataframe tbody tr th {\n",
       "        vertical-align: top;\n",
       "    }\n",
       "\n",
       "    .dataframe thead th {\n",
       "        text-align: right;\n",
       "    }\n",
       "</style>\n",
       "<table border=\"1\" class=\"dataframe\">\n",
       "  <thead>\n",
       "    <tr style=\"text-align: right;\">\n",
       "      <th></th>\n",
       "      <th>Attack Type</th>\n",
       "      <th>Anomaly Scores</th>\n",
       "    </tr>\n",
       "  </thead>\n",
       "  <tbody>\n",
       "    <tr>\n",
       "      <th>0</th>\n",
       "      <td>DDoS</td>\n",
       "      <td>50.235063</td>\n",
       "    </tr>\n",
       "    <tr>\n",
       "      <th>1</th>\n",
       "      <td>Intrusion</td>\n",
       "      <td>49.978029</td>\n",
       "    </tr>\n",
       "    <tr>\n",
       "      <th>2</th>\n",
       "      <td>Malware</td>\n",
       "      <td>50.125794</td>\n",
       "    </tr>\n",
       "  </tbody>\n",
       "</table>\n",
       "</div>"
      ],
      "text/plain": [
       "  Attack Type  Anomaly Scores\n",
       "0        DDoS       50.235063\n",
       "1   Intrusion       49.978029\n",
       "2     Malware       50.125794"
      ]
     },
     "execution_count": 9,
     "metadata": {},
     "output_type": "execute_result"
    }
   ],
   "source": [
    "df.groupby('Attack Type')['Anomaly Scores'].mean().reset_index()"
   ]
  },
  {
   "cell_type": "code",
   "execution_count": 10,
   "metadata": {
    "execution": {
     "iopub.execute_input": "2023-10-15T06:40:47.703503Z",
     "iopub.status.busy": "2023-10-15T06:40:47.703178Z",
     "iopub.status.idle": "2023-10-15T06:40:48.337556Z",
     "shell.execute_reply": "2023-10-15T06:40:48.336126Z",
     "shell.execute_reply.started": "2023-10-15T06:40:47.703478Z"
    }
   },
   "outputs": [
    {
     "data": {
      "text/plain": [
       "Geo-location Data\n",
       "Erode, Uttar Pradesh    7\n",
       "Fatehpur, Gujarat       7\n",
       "Hospet, Karnataka       7\n",
       "Junagadh, Telangana     7\n",
       "Kochi, Tamil Nadu       7\n",
       "Name: DDoS, dtype: int64"
      ]
     },
     "execution_count": 10,
     "metadata": {},
     "output_type": "execute_result"
    }
   ],
   "source": [
    "pd.crosstab(df['Geo-location Data'], df['Attack Type']).nlargest(5, columns='DDoS')['DDoS']"
   ]
  },
  {
   "cell_type": "code",
   "execution_count": 11,
   "metadata": {
    "execution": {
     "iopub.execute_input": "2023-10-15T06:40:48.340133Z",
     "iopub.status.busy": "2023-10-15T06:40:48.338997Z",
     "iopub.status.idle": "2023-10-15T06:40:48.913660Z",
     "shell.execute_reply": "2023-10-15T06:40:48.912571Z",
     "shell.execute_reply.started": "2023-10-15T06:40:48.340100Z"
    }
   },
   "outputs": [
    {
     "data": {
      "text/plain": [
       "Geo-location Data\n",
       "Aligarh, Chhattisgarh             9\n",
       "Aurangabad, Nagaland              9\n",
       "Jalgaon, Mizoram                  8\n",
       "Yamunanagar, Arunachal Pradesh    8\n",
       "Bettiah, Chhattisgarh             7\n",
       "Name: Malware, dtype: int64"
      ]
     },
     "execution_count": 11,
     "metadata": {},
     "output_type": "execute_result"
    }
   ],
   "source": [
    "pd.crosstab(df['Geo-location Data'], df['Attack Type']).nlargest(5, columns='Malware')['Malware']"
   ]
  },
  {
   "cell_type": "code",
   "execution_count": 12,
   "metadata": {
    "execution": {
     "iopub.execute_input": "2023-10-15T06:40:48.916516Z",
     "iopub.status.busy": "2023-10-15T06:40:48.915649Z",
     "iopub.status.idle": "2023-10-15T06:40:49.467994Z",
     "shell.execute_reply": "2023-10-15T06:40:49.466828Z",
     "shell.execute_reply.started": "2023-10-15T06:40:48.916473Z"
    }
   },
   "outputs": [
    {
     "data": {
      "text/plain": [
       "Geo-location Data\n",
       "Ghaziabad, Jharkhand       10\n",
       "Amroha, Sikkim              8\n",
       "Panvel, Jharkhand           8\n",
       "Rampur, Gujarat             8\n",
       "Srikakulam, Uttarakhand     8\n",
       "Name: Intrusion, dtype: int64"
      ]
     },
     "execution_count": 12,
     "metadata": {},
     "output_type": "execute_result"
    }
   ],
   "source": [
    "pd.crosstab(df['Geo-location Data'], df['Attack Type']).nlargest(5, columns='Intrusion')['Intrusion']"
   ]
  }
 ],
 "metadata": {
  "kernelspec": {
   "display_name": "Python 3 (ipykernel)",
   "language": "python",
   "name": "python3"
  },
  "language_info": {
   "codemirror_mode": {
    "name": "ipython",
    "version": 3
   },
   "file_extension": ".py",
   "mimetype": "text/x-python",
   "name": "python",
   "nbconvert_exporter": "python",
   "pygments_lexer": "ipython3",
   "version": "3.10.13"
  }
 },
 "nbformat": 4,
 "nbformat_minor": 4
}
