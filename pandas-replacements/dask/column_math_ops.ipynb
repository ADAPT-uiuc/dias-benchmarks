{
 "cells": [
  {
   "cell_type": "code",
   "execution_count": 1,
   "metadata": {},
   "outputs": [
    {
     "name": "stdout",
     "output_type": "stream",
     "text": [
      "   VendorID tpep_pickup_datetime tpep_dropoff_datetime  passenger_count  \\\n",
      "0         2  2015-01-15 19:05:39   2015-01-15 19:23:42                1   \n",
      "1         1  2015-01-10 20:33:38   2015-01-10 20:53:28                1   \n",
      "2         1  2015-01-10 20:33:38   2015-01-10 20:43:41                1   \n",
      "3         1  2015-01-10 20:33:39   2015-01-10 20:35:31                1   \n",
      "4         1  2015-01-10 20:33:39   2015-01-10 20:52:58                1   \n",
      "\n",
      "   trip_distance  pickup_longitude  pickup_latitude  RateCodeID  \\\n",
      "0           1.59        -73.993896        40.750111           1   \n",
      "1           3.30        -74.001648        40.724243           1   \n",
      "2           1.80        -73.963341        40.802788           1   \n",
      "3           0.50        -74.009087        40.713818           1   \n",
      "4           3.00        -73.971176        40.762428           1   \n",
      "\n",
      "  store_and_fwd_flag  dropoff_longitude  dropoff_latitude  payment_type  \\\n",
      "0                  N         -73.974785         40.750618             1   \n",
      "1                  N         -73.994415         40.759109             1   \n",
      "2                  N         -73.951820         40.824413             2   \n",
      "3                  N         -74.004326         40.719986             2   \n",
      "4                  N         -74.004181         40.742653             2   \n",
      "\n",
      "   fare_amount  extra  mta_tax  tip_amount  tolls_amount  \\\n",
      "0         12.0    1.0      0.5        3.25           0.0   \n",
      "1         14.5    0.5      0.5        2.00           0.0   \n",
      "2          9.5    0.5      0.5        0.00           0.0   \n",
      "3          3.5    0.5      0.5        0.00           0.0   \n",
      "4         15.0    0.5      0.5        0.00           0.0   \n",
      "\n",
      "   improvement_surcharge  total_amount  \n",
      "0                    0.3         17.05  \n",
      "1                    0.3         17.80  \n",
      "2                    0.3         10.80  \n",
      "3                    0.3          4.80  \n",
      "4                    0.3         16.30  \n"
     ]
    }
   ],
   "source": [
    "import utils\n",
    "import pandas as pd\n",
    "import dask.dataframe as dd\n",
    "\n",
    "dask_df = dd.read_csv('../datasets/yellow_tripdata_2015-01.csv')\n",
    "pandas_df = pd.read_csv('../datasets/yellow_tripdata_2015-01.csv')\n",
    "# Trigger some computatoin before timing anything because read_csv() with Dask is very fast (so, either it's actually\n",
    "# fast or we need to trigger a computation)\n",
    "print(dask_df.head())"
   ]
  },
  {
   "attachments": {},
   "cell_type": "markdown",
   "metadata": {},
   "source": [
    "## Example 1 - Math Ops Series to Series"
   ]
  },
  {
   "cell_type": "code",
   "execution_count": 2,
   "metadata": {},
   "outputs": [
    {
     "name": "stdout",
     "output_type": "stream",
     "text": [
      "0        -33.243786\n",
      "1        -33.277405\n",
      "2        -33.160553\n",
      "3        -33.295269\n",
      "4        -33.208748\n",
      "            ...    \n",
      "411302   -33.165771\n",
      "411303   -33.254559\n",
      "411304   -33.229774\n",
      "411305   -33.261082\n",
      "411306   -33.193951\n",
      "Length: 12748986, dtype: float64\n"
     ]
    }
   ],
   "source": [
    "%%time_cell\n",
    "x = dask_df['pickup_longitude'] + dask_df['pickup_latitude']\n",
    "print(x.compute())"
   ]
  },
  {
   "cell_type": "code",
   "execution_count": 3,
   "metadata": {},
   "outputs": [
    {
     "name": "stdout",
     "output_type": "stream",
     "text": [
      "Dask time: 3.8s\n"
     ]
    }
   ],
   "source": [
    "dask_time = _TIMED_CELL\n",
    "print(f\"Dask time: {dask_time:.1f}s\")"
   ]
  },
  {
   "cell_type": "code",
   "execution_count": 4,
   "metadata": {},
   "outputs": [
    {
     "name": "stdout",
     "output_type": "stream",
     "text": [
      "0          -33.243786\n",
      "1          -33.277405\n",
      "2          -33.160553\n",
      "3          -33.295269\n",
      "4          -33.208748\n",
      "              ...    \n",
      "12748981   -33.165771\n",
      "12748982   -33.254559\n",
      "12748983   -33.229774\n",
      "12748984   -33.261082\n",
      "12748985   -33.193951\n",
      "Length: 12748986, dtype: float64\n"
     ]
    }
   ],
   "source": [
    "%%time_cell\n",
    "y = pandas_df['pickup_longitude'] + pandas_df['pickup_latitude']\n",
    "print(y)"
   ]
  },
  {
   "cell_type": "code",
   "execution_count": 5,
   "metadata": {},
   "outputs": [
    {
     "name": "stdout",
     "output_type": "stream",
     "text": [
      "Pandas time: 0.0s\n"
     ]
    }
   ],
   "source": [
    "pandas_time = _TIMED_CELL\n",
    "print(f\"Pandas time: {pandas_time:.1f}s\")"
   ]
  },
  {
   "cell_type": "code",
   "execution_count": 6,
   "metadata": {},
   "outputs": [
    {
     "data": {
      "text/markdown": [
       "### Dask is 136.8x slower."
      ],
      "text/plain": [
       "<IPython.core.display.Markdown object>"
      ]
     },
     "metadata": {},
     "output_type": "display_data"
    }
   ],
   "source": [
    "slowdown = dask_time / pandas_time\n",
    "utils.print_md(f\"### Dask is {slowdown:.1f}x slower.\")"
   ]
  },
  {
   "attachments": {},
   "cell_type": "markdown",
   "metadata": {},
   "source": [
    "## Example 2 - Math Ops Series to Constant"
   ]
  },
  {
   "cell_type": "code",
   "execution_count": 7,
   "metadata": {},
   "outputs": [
    {
     "name": "stdout",
     "output_type": "stream",
     "text": [
      "0        -147.987793\n",
      "1        -148.003296\n",
      "2        -147.926682\n",
      "3        -148.018173\n",
      "4        -147.942352\n",
      "             ...    \n",
      "411302   -147.903976\n",
      "411303   -147.965485\n",
      "411304   -147.958649\n",
      "411305   -147.999130\n",
      "411306   -147.920700\n",
      "Name: pickup_longitude, Length: 12748986, dtype: float64\n"
     ]
    }
   ],
   "source": [
    "%%time_cell\n",
    "x = dask_df['pickup_longitude'] * 2\n",
    "print(x.compute())"
   ]
  },
  {
   "cell_type": "code",
   "execution_count": 8,
   "metadata": {},
   "outputs": [
    {
     "name": "stdout",
     "output_type": "stream",
     "text": [
      "Dask time: 3.8s\n"
     ]
    }
   ],
   "source": [
    "dask_time = _TIMED_CELL\n",
    "print(f\"Dask time: {dask_time:.1f}s\")"
   ]
  },
  {
   "cell_type": "code",
   "execution_count": 9,
   "metadata": {},
   "outputs": [
    {
     "name": "stdout",
     "output_type": "stream",
     "text": [
      "0          -147.987793\n",
      "1          -148.003296\n",
      "2          -147.926682\n",
      "3          -148.018173\n",
      "4          -147.942352\n",
      "               ...    \n",
      "12748981   -147.903976\n",
      "12748982   -147.965485\n",
      "12748983   -147.958649\n",
      "12748984   -147.999130\n",
      "12748985   -147.920700\n",
      "Name: pickup_longitude, Length: 12748986, dtype: float64\n"
     ]
    }
   ],
   "source": [
    "%%time_cell\n",
    "y = pandas_df['pickup_longitude'] * 2\n",
    "print(y)"
   ]
  },
  {
   "cell_type": "code",
   "execution_count": 10,
   "metadata": {},
   "outputs": [
    {
     "name": "stdout",
     "output_type": "stream",
     "text": [
      "Pandas time: 0.0s\n"
     ]
    }
   ],
   "source": [
    "pandas_time = _TIMED_CELL\n",
    "print(f\"Pandas time: {pandas_time:.1f}s\")"
   ]
  },
  {
   "cell_type": "code",
   "execution_count": 11,
   "metadata": {},
   "outputs": [
    {
     "data": {
      "text/markdown": [
       "### Dask is 158.1x slower."
      ],
      "text/plain": [
       "<IPython.core.display.Markdown object>"
      ]
     },
     "metadata": {},
     "output_type": "display_data"
    }
   ],
   "source": [
    "slowdown = dask_time / pandas_time\n",
    "utils.print_md(f\"### Dask is {slowdown:.1f}x slower.\")"
   ]
  },
  {
   "attachments": {},
   "cell_type": "markdown",
   "metadata": {},
   "source": [
    "## Example 3 - Compare Series to Series"
   ]
  },
  {
   "cell_type": "code",
   "execution_count": 12,
   "metadata": {},
   "outputs": [],
   "source": [
    "%%time_cell\n",
    "x = dask_df['pickup_longitude'] < dask_df['pickup_latitude']\n",
    "assert x.compute().any()"
   ]
  },
  {
   "cell_type": "code",
   "execution_count": 13,
   "metadata": {},
   "outputs": [
    {
     "name": "stdout",
     "output_type": "stream",
     "text": [
      "Dask time: 3.8s\n"
     ]
    }
   ],
   "source": [
    "dask_time = _TIMED_CELL\n",
    "print(f\"Dask time: {dask_time:.1f}s\")"
   ]
  },
  {
   "cell_type": "code",
   "execution_count": 14,
   "metadata": {},
   "outputs": [],
   "source": [
    "%%time_cell\n",
    "y = pandas_df['pickup_longitude'] < pandas_df['pickup_latitude']\n",
    "assert y.any()"
   ]
  },
  {
   "cell_type": "code",
   "execution_count": 15,
   "metadata": {},
   "outputs": [
    {
     "name": "stdout",
     "output_type": "stream",
     "text": [
      "Pandas time: 0.0s\n"
     ]
    }
   ],
   "source": [
    "pandas_time = _TIMED_CELL\n",
    "print(f\"Pandas time: {pandas_time:.1f}s\")"
   ]
  },
  {
   "cell_type": "code",
   "execution_count": 16,
   "metadata": {},
   "outputs": [
    {
     "data": {
      "text/markdown": [
       "### Dask is 181.4x slower."
      ],
      "text/plain": [
       "<IPython.core.display.Markdown object>"
      ]
     },
     "metadata": {},
     "output_type": "display_data"
    }
   ],
   "source": [
    "slowdown = dask_time / pandas_time\n",
    "utils.print_md(f\"### Dask is {slowdown:.1f}x slower.\")"
   ]
  },
  {
   "attachments": {},
   "cell_type": "markdown",
   "metadata": {},
   "source": [
    "## Example 4 - Compare Series to Constant"
   ]
  },
  {
   "cell_type": "code",
   "execution_count": 17,
   "metadata": {},
   "outputs": [],
   "source": [
    "%%time_cell\n",
    "x = dask_df['pickup_longitude'] < 2.3\n",
    "assert x.compute().any()"
   ]
  },
  {
   "cell_type": "code",
   "execution_count": 18,
   "metadata": {},
   "outputs": [
    {
     "name": "stdout",
     "output_type": "stream",
     "text": [
      "Dask time: 3.7s\n"
     ]
    }
   ],
   "source": [
    "dask_time = _TIMED_CELL\n",
    "print(f\"Dask time: {dask_time:.1f}s\")"
   ]
  },
  {
   "cell_type": "code",
   "execution_count": 19,
   "metadata": {},
   "outputs": [
    {
     "name": "stdout",
     "output_type": "stream",
     "text": [
      "0           True\n",
      "1           True\n",
      "2           True\n",
      "3           True\n",
      "4           True\n",
      "            ... \n",
      "12748981    True\n",
      "12748982    True\n",
      "12748983    True\n",
      "12748984    True\n",
      "12748985    True\n",
      "Name: pickup_longitude, Length: 12748986, dtype: bool\n"
     ]
    }
   ],
   "source": [
    "%%time_cell\n",
    "y = pandas_df['pickup_longitude'] < 2.3\n",
    "print(y)"
   ]
  },
  {
   "cell_type": "code",
   "execution_count": 20,
   "metadata": {},
   "outputs": [
    {
     "name": "stdout",
     "output_type": "stream",
     "text": [
      "Pandas time: 0.0s\n"
     ]
    }
   ],
   "source": [
    "pandas_time = _TIMED_CELL\n",
    "print(f\"Pandas time: {pandas_time:.1f}s\")"
   ]
  },
  {
   "cell_type": "code",
   "execution_count": 21,
   "metadata": {},
   "outputs": [
    {
     "data": {
      "text/markdown": [
       "### Dask is 295.8x slower."
      ],
      "text/plain": [
       "<IPython.core.display.Markdown object>"
      ]
     },
     "metadata": {},
     "output_type": "display_data"
    }
   ],
   "source": [
    "slowdown = dask_time / pandas_time\n",
    "utils.print_md(f\"### Dask is {slowdown:.1f}x slower.\")"
   ]
  },
  {
   "attachments": {},
   "cell_type": "markdown",
   "metadata": {},
   "source": [
    "## Example 5 - Unary Reductions 1"
   ]
  },
  {
   "cell_type": "code",
   "execution_count": 22,
   "metadata": {},
   "outputs": [
    {
     "name": "stdout",
     "output_type": "stream",
     "text": [
      "10.12510359297291\n"
     ]
    }
   ],
   "source": [
    "%%time_cell\n",
    "x = dask_df['pickup_longitude'].std()\n",
    "print(x.compute())"
   ]
  },
  {
   "cell_type": "code",
   "execution_count": 23,
   "metadata": {},
   "outputs": [
    {
     "name": "stdout",
     "output_type": "stream",
     "text": [
      "Dask time: 3.7s\n"
     ]
    }
   ],
   "source": [
    "dask_time = _TIMED_CELL\n",
    "print(f\"Dask time: {dask_time:.1f}s\")"
   ]
  },
  {
   "cell_type": "code",
   "execution_count": 24,
   "metadata": {},
   "outputs": [
    {
     "name": "stdout",
     "output_type": "stream",
     "text": [
      "10.125103592972902\n"
     ]
    }
   ],
   "source": [
    "%%time_cell\n",
    "y = pandas_df['pickup_longitude'].std()\n",
    "print(y)"
   ]
  },
  {
   "cell_type": "code",
   "execution_count": 25,
   "metadata": {},
   "outputs": [
    {
     "name": "stdout",
     "output_type": "stream",
     "text": [
      "Pandas time: 0.1s\n"
     ]
    }
   ],
   "source": [
    "pandas_time = _TIMED_CELL\n",
    "print(f\"Pandas time: {pandas_time:.1f}s\")"
   ]
  },
  {
   "cell_type": "code",
   "execution_count": 26,
   "metadata": {},
   "outputs": [
    {
     "data": {
      "text/markdown": [
       "### Dask is 33.5x slower."
      ],
      "text/plain": [
       "<IPython.core.display.Markdown object>"
      ]
     },
     "metadata": {},
     "output_type": "display_data"
    }
   ],
   "source": [
    "slowdown = dask_time / pandas_time\n",
    "utils.print_md(f\"### Dask is {slowdown:.1f}x slower.\")"
   ]
  },
  {
   "attachments": {},
   "cell_type": "markdown",
   "metadata": {},
   "source": [
    "## Example 6 - Unary Reductions 2"
   ]
  },
  {
   "cell_type": "code",
   "execution_count": 27,
   "metadata": {},
   "outputs": [
    {
     "name": "stdout",
     "output_type": "stream",
     "text": [
      "0          2015-01-15 19:05:39\n",
      "1          2015-01-10 20:33:38\n",
      "2          2015-01-10 20:33:39\n",
      "3          2015-01-10 20:33:40\n",
      "4          2015-01-10 20:33:41\n",
      "                  ...         \n",
      "2438279    2015-01-26 10:54:04\n",
      "2438280    2015-01-02 13:33:23\n",
      "2438281    2015-01-10 18:16:49\n",
      "2438282    2015-01-26 06:45:05\n",
      "2438283    2015-01-09 15:04:28\n",
      "Name: tpep_pickup_datetime, Length: 2438284, dtype: object\n"
     ]
    }
   ],
   "source": [
    "%%time_cell\n",
    "x = dask_df[\"tpep_pickup_datetime\"].unique()\n",
    "# Tigger computation, Dask is lazy.\n",
    "print(x.compute())"
   ]
  },
  {
   "cell_type": "code",
   "execution_count": 28,
   "metadata": {},
   "outputs": [
    {
     "name": "stdout",
     "output_type": "stream",
     "text": [
      "Dask time: 8.1s\n"
     ]
    }
   ],
   "source": [
    "dask_time = _TIMED_CELL\n",
    "print(f\"Dask time: {dask_time:.1f}s\")"
   ]
  },
  {
   "cell_type": "code",
   "execution_count": 29,
   "metadata": {},
   "outputs": [
    {
     "name": "stdout",
     "output_type": "stream",
     "text": [
      "['2015-01-15 19:05:39' '2015-01-10 20:33:38' '2015-01-10 20:33:39' ...\n",
      " '2015-01-10 18:16:49' '2015-01-26 06:45:05' '2015-01-09 15:04:28']\n"
     ]
    }
   ],
   "source": [
    "%%time_cell\n",
    "y = pandas_df[\"tpep_pickup_datetime\"].unique()\n",
    "print(y)"
   ]
  },
  {
   "cell_type": "code",
   "execution_count": 30,
   "metadata": {},
   "outputs": [
    {
     "name": "stdout",
     "output_type": "stream",
     "text": [
      "Pandas time: 1.7s\n"
     ]
    }
   ],
   "source": [
    "pandas_time = _TIMED_CELL\n",
    "print(f\"Pandas time: {pandas_time:.1f}s\")"
   ]
  },
  {
   "cell_type": "code",
   "execution_count": 31,
   "metadata": {},
   "outputs": [
    {
     "data": {
      "text/markdown": [
       "### Dask is 4.8x slower."
      ],
      "text/plain": [
       "<IPython.core.display.Markdown object>"
      ]
     },
     "metadata": {},
     "output_type": "display_data"
    }
   ],
   "source": [
    "slowdown = dask_time / pandas_time\n",
    "utils.print_md(f\"### Dask is {slowdown:.1f}x slower.\")"
   ]
  }
 ],
 "metadata": {
  "kernelspec": {
   "display_name": "modin_env",
   "language": "python",
   "name": "python3"
  },
  "language_info": {
   "codemirror_mode": {
    "name": "ipython",
    "version": 3
   },
   "file_extension": ".py",
   "mimetype": "text/x-python",
   "name": "python",
   "nbconvert_exporter": "python",
   "pygments_lexer": "ipython3",
   "version": "3.10.6"
  },
  "orig_nbformat": 4,
  "vscode": {
   "interpreter": {
    "hash": "43c543fca5f3a799ecd45653622d4fbfc41f8d33c65907b2d8962b3afc37f2d7"
   }
  }
 },
 "nbformat": 4,
 "nbformat_minor": 2
}
