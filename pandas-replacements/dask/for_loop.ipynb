{
 "cells": [
  {
   "attachments": {},
   "cell_type": "markdown",
   "metadata": {},
   "source": [
    "## Why it doesn't make sense in Dask\n",
    "To support the kinds of loops we want, we need to access individual elements. Dask is not good at that and any worarounds are so complex that nobody would write code like this. To see why this is, suppose that we want to do the following: Access the first element of the column. If you do `.loc[0, \"VendorID\"]` it won't work because the Dask DataFrame is split into multiple partitions across rows (AFAIK). So, if you index `0`, you will in fact get 31 rows back (the number of partitions), which is not what you want. Working around that becomes too complex.\n",
    "\n",
    "Nevertheless, I will show some code below on why indexing individual elements of a Dask DataFrame is _really_ slow. I will index one element of the Dask DataFrame while doing _20 whole iterations_ in Pandas, and Pandas will still be faster."
   ]
  },
  {
   "cell_type": "code",
   "execution_count": 1,
   "metadata": {},
   "outputs": [
    {
     "name": "stdout",
     "output_type": "stream",
     "text": [
      "   VendorID tpep_pickup_datetime tpep_dropoff_datetime  passenger_count  \\\n",
      "0         2  2015-01-15 19:05:39   2015-01-15 19:23:42                1   \n",
      "1         1  2015-01-10 20:33:38   2015-01-10 20:53:28                1   \n",
      "2         1  2015-01-10 20:33:38   2015-01-10 20:43:41                1   \n",
      "3         1  2015-01-10 20:33:39   2015-01-10 20:35:31                1   \n",
      "4         1  2015-01-10 20:33:39   2015-01-10 20:52:58                1   \n",
      "\n",
      "   trip_distance  pickup_longitude  pickup_latitude  RateCodeID  \\\n",
      "0           1.59        -73.993896        40.750111           1   \n",
      "1           3.30        -74.001648        40.724243           1   \n",
      "2           1.80        -73.963341        40.802788           1   \n",
      "3           0.50        -74.009087        40.713818           1   \n",
      "4           3.00        -73.971176        40.762428           1   \n",
      "\n",
      "  store_and_fwd_flag  dropoff_longitude  dropoff_latitude  payment_type  \\\n",
      "0                  N         -73.974785         40.750618             1   \n",
      "1                  N         -73.994415         40.759109             1   \n",
      "2                  N         -73.951820         40.824413             2   \n",
      "3                  N         -74.004326         40.719986             2   \n",
      "4                  N         -74.004181         40.742653             2   \n",
      "\n",
      "   fare_amount  extra  mta_tax  tip_amount  tolls_amount  \\\n",
      "0         12.0    1.0      0.5        3.25           0.0   \n",
      "1         14.5    0.5      0.5        2.00           0.0   \n",
      "2          9.5    0.5      0.5        0.00           0.0   \n",
      "3          3.5    0.5      0.5        0.00           0.0   \n",
      "4         15.0    0.5      0.5        0.00           0.0   \n",
      "\n",
      "   improvement_surcharge  total_amount  \n",
      "0                    0.3         17.05  \n",
      "1                    0.3         17.80  \n",
      "2                    0.3         10.80  \n",
      "3                    0.3          4.80  \n",
      "4                    0.3         16.30  \n"
     ]
    }
   ],
   "source": [
    "import utils\n",
    "import pandas as pd\n",
    "import dask.dataframe as dd\n",
    "\n",
    "dask_df = dd.read_csv('../datasets/yellow_tripdata_2015-01.csv')\n",
    "pandas_df = pd.read_csv('../datasets/yellow_tripdata_2015-01.csv')\n",
    "# Trigger some computatoin before timing anything because read_csv() with Dask is very fast (so, either it's actually\n",
    "# fast or we need to trigger a computation)\n",
    "print(dask_df.head())"
   ]
  },
  {
   "cell_type": "code",
   "execution_count": 2,
   "metadata": {},
   "outputs": [
    {
     "data": {
      "text/plain": [
       "2"
      ]
     },
     "execution_count": 2,
     "metadata": {},
     "output_type": "execute_result"
    }
   ],
   "source": [
    "%%time_cell\n",
    "# Compute one element\n",
    "dask_df.loc[0, \"VendorID\"].compute().iloc[0]"
   ]
  },
  {
   "cell_type": "code",
   "execution_count": 3,
   "metadata": {},
   "outputs": [
    {
     "name": "stdout",
     "output_type": "stream",
     "text": [
      "Dask time: 14.7s\n"
     ]
    }
   ],
   "source": [
    "dask_time = _TIMED_CELL\n",
    "print(f\"Dask time: {dask_time:.1f}s\")"
   ]
  },
  {
   "cell_type": "code",
   "execution_count": 4,
   "metadata": {},
   "outputs": [],
   "source": [
    "%%time_cell\n",
    "\n",
    "# Do a whole loop with 15 iterations and multiple operations\n",
    "\n",
    "pandas_df['discourse_nr'] = 1\n",
    "counter = 1\n",
    "\n",
    "for i in range(1, 15):\n",
    "  if pandas_df.loc[i, 'VendorID'] == pandas_df.loc[i-1, 'VendorID']:\n",
    "    counter += 1\n",
    "    pandas_df.loc[i, 'discourse_nr'] = counter\n",
    "  else:\n",
    "    counter = 1\n",
    "    pandas_df.loc[i, 'discourse_nr'] = counter"
   ]
  },
  {
   "cell_type": "code",
   "execution_count": 5,
   "metadata": {},
   "outputs": [
    {
     "name": "stdout",
     "output_type": "stream",
     "text": [
      "Pandas time: 0.0s\n"
     ]
    }
   ],
   "source": [
    "pandas_time = _TIMED_CELL\n",
    "print(f\"Pandas time: {pandas_time:.1f}s\")"
   ]
  },
  {
   "cell_type": "code",
   "execution_count": 6,
   "metadata": {},
   "outputs": [
    {
     "data": {
      "text/markdown": [
       "### Dask is 506.2x slower."
      ],
      "text/plain": [
       "<IPython.core.display.Markdown object>"
      ]
     },
     "metadata": {},
     "output_type": "display_data"
    }
   ],
   "source": [
    "slowdown = dask_time / pandas_time\n",
    "utils.print_md(f\"### Dask is {slowdown:.1f}x slower.\")"
   ]
  }
 ],
 "metadata": {
  "kernelspec": {
   "display_name": "modin_env",
   "language": "python",
   "name": "python3"
  },
  "language_info": {
   "codemirror_mode": {
    "name": "ipython",
    "version": 3
   },
   "file_extension": ".py",
   "mimetype": "text/x-python",
   "name": "python",
   "nbconvert_exporter": "python",
   "pygments_lexer": "ipython3",
   "version": "3.10.6"
  },
  "orig_nbformat": 4,
  "vscode": {
   "interpreter": {
    "hash": "43c543fca5f3a799ecd45653622d4fbfc41f8d33c65907b2d8962b3afc37f2d7"
   }
  }
 },
 "nbformat": 4,
 "nbformat_minor": 2
}
