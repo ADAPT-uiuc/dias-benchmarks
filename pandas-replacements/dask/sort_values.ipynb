{
 "cells": [
  {
   "cell_type": "code",
   "execution_count": 1,
   "metadata": {},
   "outputs": [
    {
     "name": "stdout",
     "output_type": "stream",
     "text": [
      "   VendorID tpep_pickup_datetime tpep_dropoff_datetime  passenger_count  \\\n",
      "0         2  2015-01-15 19:05:39   2015-01-15 19:23:42                1   \n",
      "1         1  2015-01-10 20:33:38   2015-01-10 20:53:28                1   \n",
      "2         1  2015-01-10 20:33:38   2015-01-10 20:43:41                1   \n",
      "3         1  2015-01-10 20:33:39   2015-01-10 20:35:31                1   \n",
      "4         1  2015-01-10 20:33:39   2015-01-10 20:52:58                1   \n",
      "\n",
      "   trip_distance  pickup_longitude  pickup_latitude  RateCodeID  \\\n",
      "0           1.59        -73.993896        40.750111           1   \n",
      "1           3.30        -74.001648        40.724243           1   \n",
      "2           1.80        -73.963341        40.802788           1   \n",
      "3           0.50        -74.009087        40.713818           1   \n",
      "4           3.00        -73.971176        40.762428           1   \n",
      "\n",
      "  store_and_fwd_flag  dropoff_longitude  dropoff_latitude  payment_type  \\\n",
      "0                  N         -73.974785         40.750618             1   \n",
      "1                  N         -73.994415         40.759109             1   \n",
      "2                  N         -73.951820         40.824413             2   \n",
      "3                  N         -74.004326         40.719986             2   \n",
      "4                  N         -74.004181         40.742653             2   \n",
      "\n",
      "   fare_amount  extra  mta_tax  tip_amount  tolls_amount  \\\n",
      "0         12.0    1.0      0.5        3.25           0.0   \n",
      "1         14.5    0.5      0.5        2.00           0.0   \n",
      "2          9.5    0.5      0.5        0.00           0.0   \n",
      "3          3.5    0.5      0.5        0.00           0.0   \n",
      "4         15.0    0.5      0.5        0.00           0.0   \n",
      "\n",
      "   improvement_surcharge  total_amount  \n",
      "0                    0.3         17.05  \n",
      "1                    0.3         17.80  \n",
      "2                    0.3         10.80  \n",
      "3                    0.3          4.80  \n",
      "4                    0.3         16.30  \n"
     ]
    }
   ],
   "source": [
    "import utils\n",
    "import pandas as pd\n",
    "import dask.dataframe as dd\n",
    "\n",
    "dask_df = dd.read_csv('../datasets/yellow_tripdata_2015-01.csv')\n",
    "pandas_df = pd.read_csv('../datasets/yellow_tripdata_2015-01.csv')\n",
    "# Trigger some computatoin before timing anything because read_csv() with Dask is very fast (so, either it's actually\n",
    "# fast or we need to trigger a computation)\n",
    "print(dask_df.head())"
   ]
  },
  {
   "cell_type": "code",
   "execution_count": 2,
   "metadata": {},
   "outputs": [
    {
     "name": "stdout",
     "output_type": "stream",
     "text": [
      "        VendorID tpep_pickup_datetime tpep_dropoff_datetime  passenger_count  \\\n",
      "207014         2  2015-01-27 04:01:58   2015-01-27 04:11:58                2   \n",
      "254581         2  2015-01-27 05:00:26   2015-01-27 05:03:26                2   \n",
      "173010         1  2015-01-16 11:05:51   2015-01-16 11:30:22                1   \n",
      "385056         1  2015-01-09 19:53:01   2015-01-09 20:05:54                1   \n",
      "331321         1  2015-01-08 08:19:21   2015-01-08 08:31:31                3   \n",
      "...          ...                  ...                   ...              ...   \n",
      "32040          1  2015-01-18 19:24:36   2015-01-18 19:42:44                2   \n",
      "32047          1  2015-01-18 19:24:37   2015-01-18 19:34:49                1   \n",
      "31781          2  2015-01-06 12:44:43   2015-01-06 13:06:50                5   \n",
      "411207         1  2015-01-14 14:25:18   2015-01-14 14:31:30                1   \n",
      "184333         1  2015-01-06 20:36:33   2015-01-06 20:46:56                1   \n",
      "\n",
      "        trip_distance  pickup_longitude  pickup_latitude  RateCodeID  \\\n",
      "207014           0.00       -121.925812        37.372154           1   \n",
      "254581           0.00       -121.925812        37.372154           1   \n",
      "173010           4.10       -119.314651        59.504623           1   \n",
      "385056           2.50       -108.165337        42.396538           1   \n",
      "331321           1.50       -105.759560        56.952297           1   \n",
      "...               ...               ...              ...         ...   \n",
      "32040            6.80          0.000000         0.000000           1   \n",
      "32047            2.30          0.000000         0.000000           1   \n",
      "31781            3.55          0.000000         0.000000           1   \n",
      "411207           0.90          0.000000         0.000000           1   \n",
      "184333           2.40         78.662651         2.410967           1   \n",
      "\n",
      "       store_and_fwd_flag  dropoff_longitude  dropoff_latitude  payment_type  \\\n",
      "207014                  N           0.000000          0.000000             2   \n",
      "254581                  N           0.000000          0.000000             2   \n",
      "173010                  N         -74.009033         40.711014             2   \n",
      "385056                  N         -73.993912         40.770569             2   \n",
      "331321                  N         -73.981636         40.747051             2   \n",
      "...                   ...                ...               ...           ...   \n",
      "32040                   N           0.000000          0.000000             2   \n",
      "32047                   N           0.000000          0.000000             1   \n",
      "31781                   N           0.000000          0.000000             1   \n",
      "411207                  N           0.000000          0.000000             1   \n",
      "184333                  N          78.662651          2.410967             1   \n",
      "\n",
      "        fare_amount  extra  mta_tax  tip_amount  tolls_amount  \\\n",
      "207014          1.9    0.0      0.0        0.00           0.0   \n",
      "254581          1.8    0.0      0.5        0.00           0.0   \n",
      "173010         17.5    0.0      0.5        0.00           0.0   \n",
      "385056         12.0    1.0      0.5        0.00           0.0   \n",
      "331321          9.0    0.0      0.5        0.00           0.0   \n",
      "...             ...    ...      ...         ...           ...   \n",
      "32040          21.0    0.0      0.5        0.00           0.0   \n",
      "32047           9.5    0.0      0.5        2.05           0.0   \n",
      "31781          16.5    0.0      0.5        3.30           0.0   \n",
      "411207          6.0    0.0      0.5        2.00           0.0   \n",
      "184333         10.0    0.5      0.5        2.20           0.0   \n",
      "\n",
      "        improvement_surcharge  total_amount  \n",
      "207014                    0.0          1.90  \n",
      "254581                    0.3          2.60  \n",
      "173010                    0.3         18.30  \n",
      "385056                    0.3         13.80  \n",
      "331321                    0.3          9.80  \n",
      "...                       ...           ...  \n",
      "32040                     0.3         21.80  \n",
      "32047                     0.3         12.35  \n",
      "31781                     0.3         20.60  \n",
      "411207                    0.3          8.80  \n",
      "184333                    0.3         13.50  \n",
      "\n",
      "[12748986 rows x 19 columns]\n"
     ]
    }
   ],
   "source": [
    "%%time_cell\n",
    "x = dask_df.sort_values('pickup_longitude').compute()\n",
    "print(x)"
   ]
  },
  {
   "cell_type": "code",
   "execution_count": 3,
   "metadata": {},
   "outputs": [
    {
     "name": "stdout",
     "output_type": "stream",
     "text": [
      "Dask time: 61.0s\n"
     ]
    }
   ],
   "source": [
    "dask_time = _TIMED_CELL\n",
    "print(f\"Dask time: {dask_time:.1f}s\")"
   ]
  },
  {
   "cell_type": "code",
   "execution_count": 4,
   "metadata": {},
   "outputs": [
    {
     "name": "stdout",
     "output_type": "stream",
     "text": [
      "         VendorID tpep_pickup_datetime tpep_dropoff_datetime  passenger_count  \\\n",
      "1488441         2  2015-01-27 05:00:26   2015-01-27 05:03:26                2   \n",
      "1440874         2  2015-01-27 04:01:58   2015-01-27 04:11:58                2   \n",
      "8398001         1  2015-01-16 11:05:51   2015-01-16 11:30:22                1   \n",
      "3263783         1  2015-01-09 19:53:01   2015-01-09 20:05:54                1   \n",
      "6088791         1  2015-01-08 08:19:21   2015-01-08 08:31:31                3   \n",
      "\n",
      "         trip_distance  pickup_longitude  pickup_latitude  RateCodeID  \\\n",
      "1488441            0.0       -121.925812        37.372154           1   \n",
      "1440874            0.0       -121.925812        37.372154           1   \n",
      "8398001            4.1       -119.314651        59.504623           1   \n",
      "3263783            2.5       -108.165337        42.396538           1   \n",
      "6088791            1.5       -105.759560        56.952297           1   \n",
      "\n",
      "        store_and_fwd_flag  dropoff_longitude  dropoff_latitude  payment_type  \\\n",
      "1488441                  N           0.000000          0.000000             2   \n",
      "1440874                  N           0.000000          0.000000             2   \n",
      "8398001                  N         -74.009033         40.711014             2   \n",
      "3263783                  N         -73.993912         40.770569             2   \n",
      "6088791                  N         -73.981636         40.747051             2   \n",
      "\n",
      "         fare_amount  extra  mta_tax  tip_amount  tolls_amount  \\\n",
      "1488441          1.8    0.0      0.5         0.0           0.0   \n",
      "1440874          1.9    0.0      0.0         0.0           0.0   \n",
      "8398001         17.5    0.0      0.5         0.0           0.0   \n",
      "3263783         12.0    1.0      0.5         0.0           0.0   \n",
      "6088791          9.0    0.0      0.5         0.0           0.0   \n",
      "\n",
      "         improvement_surcharge  total_amount  \n",
      "1488441                    0.3           2.6  \n",
      "1440874                    0.0           1.9  \n",
      "8398001                    0.3          18.3  \n",
      "3263783                    0.3          13.8  \n",
      "6088791                    0.3           9.8  \n"
     ]
    }
   ],
   "source": [
    "%%time_cell\n",
    "y = pandas_df.sort_values('pickup_longitude')\n",
    "print(y.head())"
   ]
  },
  {
   "cell_type": "code",
   "execution_count": 5,
   "metadata": {},
   "outputs": [
    {
     "name": "stdout",
     "output_type": "stream",
     "text": [
      "Pandas time: 11.5s\n"
     ]
    }
   ],
   "source": [
    "pandas_time = _TIMED_CELL\n",
    "print(f\"Pandas time: {pandas_time:.1f}s\")"
   ]
  },
  {
   "cell_type": "code",
   "execution_count": 6,
   "metadata": {},
   "outputs": [
    {
     "data": {
      "text/markdown": [
       "### Dask is 5.3x slower."
      ],
      "text/plain": [
       "<IPython.core.display.Markdown object>"
      ]
     },
     "metadata": {},
     "output_type": "display_data"
    }
   ],
   "source": [
    "slowdown = dask_time / pandas_time\n",
    "utils.print_md(f\"### Dask is {slowdown:.1f}x slower.\")"
   ]
  }
 ],
 "metadata": {
  "kernelspec": {
   "display_name": "modin_env",
   "language": "python",
   "name": "python3"
  },
  "language_info": {
   "codemirror_mode": {
    "name": "ipython",
    "version": 3
   },
   "file_extension": ".py",
   "mimetype": "text/x-python",
   "name": "python",
   "nbconvert_exporter": "python",
   "pygments_lexer": "ipython3",
   "version": "3.10.6"
  },
  "orig_nbformat": 4,
  "vscode": {
   "interpreter": {
    "hash": "43c543fca5f3a799ecd45653622d4fbfc41f8d33c65907b2d8962b3afc37f2d7"
   }
  }
 },
 "nbformat": 4,
 "nbformat_minor": 2
}
