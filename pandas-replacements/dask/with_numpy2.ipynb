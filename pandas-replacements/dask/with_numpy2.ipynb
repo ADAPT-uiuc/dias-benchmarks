{
 "cells": [
  {
   "cell_type": "code",
   "execution_count": 1,
   "id": "97b245e5",
   "metadata": {
    "slideshow": {
     "slide_type": "slide"
    }
   },
   "outputs": [
    {
     "name": "stdout",
     "output_type": "stream",
     "text": [
      "   VendorID tpep_pickup_datetime tpep_dropoff_datetime  passenger_count  \\\n",
      "0         2  2015-01-15 19:05:39   2015-01-15 19:23:42                1   \n",
      "1         1  2015-01-10 20:33:38   2015-01-10 20:53:28                1   \n",
      "2         1  2015-01-10 20:33:38   2015-01-10 20:43:41                1   \n",
      "3         1  2015-01-10 20:33:39   2015-01-10 20:35:31                1   \n",
      "4         1  2015-01-10 20:33:39   2015-01-10 20:52:58                1   \n",
      "\n",
      "   trip_distance  pickup_longitude  pickup_latitude  RateCodeID  \\\n",
      "0           1.59        -73.993896        40.750111           1   \n",
      "1           3.30        -74.001648        40.724243           1   \n",
      "2           1.80        -73.963341        40.802788           1   \n",
      "3           0.50        -74.009087        40.713818           1   \n",
      "4           3.00        -73.971176        40.762428           1   \n",
      "\n",
      "  store_and_fwd_flag  dropoff_longitude  dropoff_latitude  payment_type  \\\n",
      "0                  N         -73.974785         40.750618             1   \n",
      "1                  N         -73.994415         40.759109             1   \n",
      "2                  N         -73.951820         40.824413             2   \n",
      "3                  N         -74.004326         40.719986             2   \n",
      "4                  N         -74.004181         40.742653             2   \n",
      "\n",
      "   fare_amount  extra  mta_tax  tip_amount  tolls_amount  \\\n",
      "0         12.0    1.0      0.5        3.25           0.0   \n",
      "1         14.5    0.5      0.5        2.00           0.0   \n",
      "2          9.5    0.5      0.5        0.00           0.0   \n",
      "3          3.5    0.5      0.5        0.00           0.0   \n",
      "4         15.0    0.5      0.5        0.00           0.0   \n",
      "\n",
      "   improvement_surcharge  total_amount  \n",
      "0                    0.3         17.05  \n",
      "1                    0.3         17.80  \n",
      "2                    0.3         10.80  \n",
      "3                    0.3          4.80  \n",
      "4                    0.3         16.30  \n"
     ]
    }
   ],
   "source": [
    "import utils\n",
    "import pandas as pd\n",
    "import dask.dataframe as dd\n",
    "import numpy as np\n",
    "\n",
    "dask_df = dd.read_csv('../datasets/yellow_tripdata_2015-01.csv')\n",
    "pandas_df = pd.read_csv('../datasets/yellow_tripdata_2015-01.csv')\n",
    "# Trigger some computatoin before timing anything because read_csv() with Dask is very fast (so, either it's actually\n",
    "# fast or we need to trigger a computation)\n",
    "print(dask_df.head())"
   ]
  },
  {
   "cell_type": "code",
   "execution_count": 2,
   "id": "8d7eaa88",
   "metadata": {},
   "outputs": [
    {
     "name": "stdout",
     "output_type": "stream",
     "text": [
      "-925089853.9790651\n"
     ]
    }
   ],
   "source": [
    "%%time_cell\n",
    "x = np.sum(dask_df['pickup_longitude']).compute()\n",
    "print(x)"
   ]
  },
  {
   "cell_type": "code",
   "execution_count": 3,
   "id": "2137c73d",
   "metadata": {},
   "outputs": [
    {
     "name": "stdout",
     "output_type": "stream",
     "text": [
      "Dask time: 3.7s\n"
     ]
    }
   ],
   "source": [
    "dask_time = _TIMED_CELL\n",
    "print(f\"Dask time: {dask_time:.1f}s\")"
   ]
  },
  {
   "cell_type": "code",
   "execution_count": 4,
   "id": "96cfb614",
   "metadata": {},
   "outputs": [
    {
     "name": "stdout",
     "output_type": "stream",
     "text": [
      "-925089853.9790651\n"
     ]
    }
   ],
   "source": [
    "%%time_cell\n",
    "y = np.sum(pandas_df['pickup_longitude'])\n",
    "print(y)"
   ]
  },
  {
   "cell_type": "code",
   "execution_count": 5,
   "id": "e1fca5fe",
   "metadata": {},
   "outputs": [
    {
     "name": "stdout",
     "output_type": "stream",
     "text": [
      "Pandas time: 0.020s\n"
     ]
    }
   ],
   "source": [
    "pandas_time = _TIMED_CELL\n",
    "print(f\"Pandas time: {pandas_time:.3f}s\")"
   ]
  },
  {
   "cell_type": "code",
   "execution_count": 6,
   "id": "8adab7c1",
   "metadata": {},
   "outputs": [
    {
     "data": {
      "text/markdown": [
       "### Dask is 179.8x slower."
      ],
      "text/plain": [
       "<IPython.core.display.Markdown object>"
      ]
     },
     "metadata": {},
     "output_type": "display_data"
    }
   ],
   "source": [
    "slowdown = dask_time / pandas_time\n",
    "utils.print_md(f\"### Dask is {slowdown:.1f}x slower.\")"
   ]
  },
  {
   "cell_type": "code",
   "execution_count": 7,
   "id": "1a4bb3ea",
   "metadata": {},
   "outputs": [],
   "source": [
    "assert x == y"
   ]
  }
 ],
 "metadata": {
  "kernelspec": {
   "display_name": "modin_env",
   "language": "python",
   "name": "python3"
  },
  "language_info": {
   "codemirror_mode": {
    "name": "ipython",
    "version": 3
   },
   "file_extension": ".py",
   "mimetype": "text/x-python",
   "name": "python",
   "nbconvert_exporter": "python",
   "pygments_lexer": "ipython3",
   "version": "3.10.6"
  },
  "vscode": {
   "interpreter": {
    "hash": "43c543fca5f3a799ecd45653622d4fbfc41f8d33c65907b2d8962b3afc37f2d7"
   }
  }
 },
 "nbformat": 4,
 "nbformat_minor": 5
}
