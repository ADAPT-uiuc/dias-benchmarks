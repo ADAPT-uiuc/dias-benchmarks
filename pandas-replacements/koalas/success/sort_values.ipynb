{
 "cells": [
  {
   "attachments": {},
   "cell_type": "markdown",
   "metadata": {},
   "source": [
    "## SUCCESS here"
   ]
  },
  {
   "cell_type": "code",
   "execution_count": 1,
   "metadata": {},
   "outputs": [
    {
     "name": "stderr",
     "output_type": "stream",
     "text": [
      "Setting default log level to \"WARN\".\n",
      "To adjust logging level use sc.setLogLevel(newLevel). For SparkR, use setLogLevel(newLevel).\n"
     ]
    },
    {
     "name": "stdout",
     "output_type": "stream",
     "text": [
      "22/12/25 09:36:04 WARN NativeCodeLoader: Unable to load native-hadoop library for your platform... using builtin-java classes where applicable\n",
      "22/12/25 09:36:04 WARN Utils: Service 'SparkUI' could not bind on port 4040. Attempting port 4041.\n"
     ]
    },
    {
     "name": "stderr",
     "output_type": "stream",
     "text": [
      "                                                                                \r"
     ]
    }
   ],
   "source": [
    "import pandas as pd\n",
    "import numpy as np\n",
    "import collections.abc\n",
    "# Koalas needs these mappings\n",
    "collections.Iterable = collections.abc.Iterable\n",
    "collections.Callable = collections.abc.Callable\n",
    "import databricks.koalas as ks\n",
    "import sys\n",
    "sys.path.insert(1, \"../\")\n",
    "import utils\n",
    "\n",
    "# It seems you need to set this option for performance reasons.\n",
    "# See: https://github.com/databricks/koalas/issues/1769 (it seems the issue is not only related to apply())\n",
    "ks.set_option('compute.default_index_type', 'distributed')\n",
    "\n",
    "pandas_df = pd.read_csv('../../datasets/yellow_tripdata_2015-01.csv')\n",
    "koalas_df = ks.read_csv('../../datasets/yellow_tripdata_2015-01.csv')"
   ]
  },
  {
   "cell_type": "code",
   "execution_count": 2,
   "metadata": {},
   "outputs": [
    {
     "name": "stderr",
     "output_type": "stream",
     "text": [
      "[Stage 2:========>                                               (14 + 82) / 96]\r"
     ]
    },
    {
     "name": "stdout",
     "output_type": "stream",
     "text": [
      "              VendorID tpep_pickup_datetime tpep_dropoff_datetime  passenger_count  trip_distance  pickup_longitude  pickup_latitude  RateCodeID store_and_fwd_flag  dropoff_longitude  dropoff_latitude  payment_type  fare_amount  extra  mta_tax  tip_amount  tolls_amount  improvement_surcharge  total_amount\n",
      "85899455881          2  2015-01-27 04:01:58   2015-01-27 04:11:58                2            0.0       -121.925812        37.372154           1                  N           0.000000          0.000000             2          1.9    0.0      0.0         0.0           0.0                    0.0           1.9\n",
      "94489304946          2  2015-01-27 05:00:26   2015-01-27 05:03:26                2            0.0       -121.925812        37.372154           1                  N           0.000000          0.000000             2          1.8    0.0      0.5         0.0           0.0                    0.3           2.6\n",
      "541165893216         1  2015-01-16 11:05:51   2015-01-16 11:30:22                1            4.1       -119.314651        59.504623           1                  N         -74.009033         40.711014             2         17.5    0.0      0.5         0.0           0.0                    0.3          18.3\n",
      "206158500093         1  2015-01-09 19:53:01   2015-01-09 20:05:54                1            2.5       -108.165337        42.396538           1                  N         -73.993912         40.770569             2         12.0    1.0      0.5         0.0           0.0                    0.3          13.8\n",
      "386547156876         1  2015-01-08 08:19:21   2015-01-08 08:31:31                3            1.5       -105.759560        56.952297           1                  N         -73.981636         40.747051             2          9.0    0.0      0.5         0.0           0.0                    0.3           9.8\n"
     ]
    },
    {
     "name": "stderr",
     "output_type": "stream",
     "text": [
      "/home/ubuntu/pandas-alt-exps/koalas/koalas_env/lib/python3.10/site-packages/pyspark/sql/pandas/conversion.py:248: FutureWarning: Passing unit-less datetime64 dtype to .astype is deprecated and will raise in a future version. Pass 'datetime64[ns]' instead\n",
      "  series = series.astype(t, copy=False)\n",
      "/home/ubuntu/pandas-alt-exps/koalas/koalas_env/lib/python3.10/site-packages/pyspark/sql/pandas/conversion.py:248: FutureWarning: Passing unit-less datetime64 dtype to .astype is deprecated and will raise in a future version. Pass 'datetime64[ns]' instead\n",
      "  series = series.astype(t, copy=False)\n"
     ]
    }
   ],
   "source": [
    "%%time_cell\n",
    "x = koalas_df.sort_values('pickup_longitude')\n",
    "print(x.head())"
   ]
  },
  {
   "cell_type": "code",
   "execution_count": 3,
   "metadata": {},
   "outputs": [
    {
     "name": "stdout",
     "output_type": "stream",
     "text": [
      "Koalas time: 3.0s\n"
     ]
    }
   ],
   "source": [
    "koalas_time = _TIMED_CELL\n",
    "print(f\"Koalas time: {koalas_time:.1f}s\")"
   ]
  },
  {
   "cell_type": "code",
   "execution_count": 4,
   "metadata": {},
   "outputs": [
    {
     "name": "stdout",
     "output_type": "stream",
     "text": [
      "         VendorID tpep_pickup_datetime tpep_dropoff_datetime  passenger_count  \\\n",
      "1488441         2  2015-01-27 05:00:26   2015-01-27 05:03:26                2   \n",
      "1440874         2  2015-01-27 04:01:58   2015-01-27 04:11:58                2   \n",
      "8398001         1  2015-01-16 11:05:51   2015-01-16 11:30:22                1   \n",
      "3263783         1  2015-01-09 19:53:01   2015-01-09 20:05:54                1   \n",
      "6088791         1  2015-01-08 08:19:21   2015-01-08 08:31:31                3   \n",
      "\n",
      "         trip_distance  pickup_longitude  pickup_latitude  RateCodeID  \\\n",
      "1488441            0.0       -121.925812        37.372154           1   \n",
      "1440874            0.0       -121.925812        37.372154           1   \n",
      "8398001            4.1       -119.314651        59.504623           1   \n",
      "3263783            2.5       -108.165337        42.396538           1   \n",
      "6088791            1.5       -105.759560        56.952297           1   \n",
      "\n",
      "        store_and_fwd_flag  dropoff_longitude  dropoff_latitude  payment_type  \\\n",
      "1488441                  N           0.000000          0.000000             2   \n",
      "1440874                  N           0.000000          0.000000             2   \n",
      "8398001                  N         -74.009033         40.711014             2   \n",
      "3263783                  N         -73.993912         40.770569             2   \n",
      "6088791                  N         -73.981636         40.747051             2   \n",
      "\n",
      "         fare_amount  extra  mta_tax  tip_amount  tolls_amount  \\\n",
      "1488441          1.8    0.0      0.5         0.0           0.0   \n",
      "1440874          1.9    0.0      0.0         0.0           0.0   \n",
      "8398001         17.5    0.0      0.5         0.0           0.0   \n",
      "3263783         12.0    1.0      0.5         0.0           0.0   \n",
      "6088791          9.0    0.0      0.5         0.0           0.0   \n",
      "\n",
      "         improvement_surcharge  total_amount  \n",
      "1488441                    0.3           2.6  \n",
      "1440874                    0.0           1.9  \n",
      "8398001                    0.3          18.3  \n",
      "3263783                    0.3          13.8  \n",
      "6088791                    0.3           9.8  \n"
     ]
    }
   ],
   "source": [
    "%%time_cell\n",
    "y = pandas_df.sort_values('pickup_longitude')\n",
    "print(y.head())"
   ]
  },
  {
   "cell_type": "code",
   "execution_count": 5,
   "metadata": {},
   "outputs": [
    {
     "name": "stdout",
     "output_type": "stream",
     "text": [
      "Pandas time: 11.6s\n"
     ]
    }
   ],
   "source": [
    "pandas_time = _TIMED_CELL\n",
    "print(f\"Pandas time: {pandas_time:.1f}s\")"
   ]
  },
  {
   "cell_type": "code",
   "execution_count": 6,
   "metadata": {},
   "outputs": [
    {
     "data": {
      "text/markdown": [
       "### Koalas is 3.8x faster."
      ],
      "text/plain": [
       "<IPython.core.display.Markdown object>"
      ]
     },
     "metadata": {},
     "output_type": "display_data"
    }
   ],
   "source": [
    "speedup = pandas_time / koalas_time\n",
    "utils.print_md(f\"### Koalas is {speedup:.1f}x faster.\")"
   ]
  }
 ],
 "metadata": {
  "kernelspec": {
   "display_name": "Koalas-Kernel",
   "language": "python",
   "name": "koalas_env"
  },
  "language_info": {
   "codemirror_mode": {
    "name": "ipython",
    "version": 3
   },
   "file_extension": ".py",
   "mimetype": "text/x-python",
   "name": "python",
   "nbconvert_exporter": "python",
   "pygments_lexer": "ipython3",
   "version": "3.10.6"
  },
  "orig_nbformat": 4,
  "vscode": {
   "interpreter": {
    "hash": "43c543fca5f3a799ecd45653622d4fbfc41f8d33c65907b2d8962b3afc37f2d7"
   }
  }
 },
 "nbformat": 4,
 "nbformat_minor": 2
}
