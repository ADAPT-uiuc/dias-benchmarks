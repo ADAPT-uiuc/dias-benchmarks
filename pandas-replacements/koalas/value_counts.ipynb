{
 "cells": [
  {
   "cell_type": "code",
   "execution_count": 1,
   "metadata": {},
   "outputs": [
    {
     "name": "stderr",
     "output_type": "stream",
     "text": [
      "Setting default log level to \"WARN\".\n",
      "To adjust logging level use sc.setLogLevel(newLevel). For SparkR, use setLogLevel(newLevel).\n"
     ]
    },
    {
     "name": "stdout",
     "output_type": "stream",
     "text": [
      "22/12/25 09:16:52 WARN NativeCodeLoader: Unable to load native-hadoop library for your platform... using builtin-java classes where applicable\n"
     ]
    }
   ],
   "source": [
    "import pandas as pd\n",
    "import numpy as np\n",
    "import collections.abc\n",
    "# Koalas needs these mappings\n",
    "collections.Iterable = collections.abc.Iterable\n",
    "collections.Callable = collections.abc.Callable\n",
    "import databricks.koalas as ks\n",
    "import utils\n",
    "\n",
    "# It seems you need to set this option for performance reasons.\n",
    "# See: https://github.com/databricks/koalas/issues/1769 (it seems the issue is not only related to apply())\n",
    "ks.set_option('compute.default_index_type', 'distributed')"
   ]
  },
  {
   "cell_type": "code",
   "execution_count": 2,
   "metadata": {},
   "outputs": [
    {
     "name": "stderr",
     "output_type": "stream",
     "text": [
      "                                                                                \r"
     ]
    }
   ],
   "source": [
    "pandas_df = pd.read_csv('../datasets/yellow_tripdata_2015-01.csv')\n",
    "koalas_df = ks.read_csv('../datasets/yellow_tripdata_2015-01.csv')"
   ]
  },
  {
   "attachments": {},
   "cell_type": "markdown",
   "metadata": {},
   "source": [
    "## Koalas Fails Here\n",
    "First, Koalas doesn't support `.value_counts()` for the Koalas DataFrame. I tried the same I did for Dask which was manually call it for every column. But, for multiple columns, like the `tpep_pickup_datetime` or the `pickup_longitude` column, the Java backend runs out-of-memory and the process gets killed. And then it seems no Koalas operation works. So, we do `.value_counts()` on one column that works in Koalas, for both Koalas and Pandas."
   ]
  },
  {
   "cell_type": "code",
   "execution_count": 3,
   "metadata": {},
   "outputs": [
    {
     "name": "stderr",
     "output_type": "stream",
     "text": [
      "[Stage 2:========================================================>(95 + 1) / 96]\r"
     ]
    },
    {
     "name": "stdout",
     "output_type": "stream",
     "text": [
      "2    6647797\n",
      "1    6101189\n",
      "Name: VendorID, dtype: int64\n"
     ]
    },
    {
     "name": "stderr",
     "output_type": "stream",
     "text": [
      "                                                                                \r"
     ]
    }
   ],
   "source": [
    "%%time_cell\n",
    "# The Koalas DataFrame doesn't seem to have value_counts(), so it seems we need to it for individual Series. This is a bit unfair\n",
    "# because this loop could be done in parallel, but on the other hand, if it is that simple, then why Koalas doesn't do it?\n",
    "print(koalas_df[\"VendorID\"].value_counts())"
   ]
  },
  {
   "cell_type": "code",
   "execution_count": 4,
   "metadata": {},
   "outputs": [
    {
     "name": "stdout",
     "output_type": "stream",
     "text": [
      "Koalas time: 2.5s\n"
     ]
    }
   ],
   "source": [
    "koalas_time = _TIMED_CELL\n",
    "print(f\"Koalas time: {koalas_time:.1f}s\")"
   ]
  },
  {
   "cell_type": "code",
   "execution_count": 5,
   "metadata": {},
   "outputs": [
    {
     "name": "stdout",
     "output_type": "stream",
     "text": [
      "2    6647797\n",
      "1    6101189\n",
      "Name: VendorID, dtype: int64\n"
     ]
    }
   ],
   "source": [
    "%%time_cell\n",
    "print(pandas_df[\"VendorID\"].value_counts())"
   ]
  },
  {
   "cell_type": "code",
   "execution_count": 6,
   "metadata": {},
   "outputs": [
    {
     "name": "stdout",
     "output_type": "stream",
     "text": [
      "Pandas time: 0.1s\n"
     ]
    }
   ],
   "source": [
    "pandas_time = _TIMED_CELL\n",
    "print(f\"Pandas time: {pandas_time:.1f}s\")"
   ]
  },
  {
   "cell_type": "code",
   "execution_count": 7,
   "metadata": {},
   "outputs": [
    {
     "data": {
      "text/markdown": [
       "### Koalas is 42.6x slower."
      ],
      "text/plain": [
       "<IPython.core.display.Markdown object>"
      ]
     },
     "metadata": {},
     "output_type": "display_data"
    }
   ],
   "source": [
    "slowdown = koalas_time / pandas_time\n",
    "utils.print_md(f\"### Koalas is {slowdown:.1f}x slower.\")"
   ]
  }
 ],
 "metadata": {
  "kernelspec": {
   "display_name": "Koalas-Kernel",
   "language": "python",
   "name": "koalas_env"
  },
  "language_info": {
   "codemirror_mode": {
    "name": "ipython",
    "version": 3
   },
   "file_extension": ".py",
   "mimetype": "text/x-python",
   "name": "python",
   "nbconvert_exporter": "python",
   "pygments_lexer": "ipython3",
   "version": "3.10.6"
  },
  "orig_nbformat": 4,
  "vscode": {
   "interpreter": {
    "hash": "43c543fca5f3a799ecd45653622d4fbfc41f8d33c65907b2d8962b3afc37f2d7"
   }
  }
 },
 "nbformat": 4,
 "nbformat_minor": 2
}
