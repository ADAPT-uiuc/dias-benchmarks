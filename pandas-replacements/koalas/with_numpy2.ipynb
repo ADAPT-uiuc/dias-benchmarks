{
 "cells": [
  {
   "attachments": {},
   "cell_type": "markdown",
   "id": "75e7c69c",
   "metadata": {},
   "source": [
    "## Koalas fails with the NYC Taxi\n",
    "Again OOM error. No matter how much I limited the number of rows, it kept happening. I also tried multiple columns. Nothing worked, so I used a smaller dataset (generally, I want to use big datasets because these frameworks specialize there)."
   ]
  },
  {
   "cell_type": "code",
   "execution_count": 1,
   "id": "97b245e5",
   "metadata": {
    "slideshow": {
     "slide_type": "slide"
    }
   },
   "outputs": [
    {
     "name": "stderr",
     "output_type": "stream",
     "text": [
      "Setting default log level to \"WARN\".\n",
      "To adjust logging level use sc.setLogLevel(newLevel). For SparkR, use setLogLevel(newLevel).\n"
     ]
    },
    {
     "name": "stdout",
     "output_type": "stream",
     "text": [
      "22/12/25 09:20:05 WARN NativeCodeLoader: Unable to load native-hadoop library for your platform... using builtin-java classes where applicable\n"
     ]
    }
   ],
   "source": [
    "import pandas as pd\n",
    "import numpy as np\n",
    "import collections.abc\n",
    "# Koalas needs these mappings\n",
    "collections.Iterable = collections.abc.Iterable\n",
    "collections.Callable = collections.abc.Callable\n",
    "import databricks.koalas as ks\n",
    "import utils\n",
    "\n",
    "# It seems you need to set this option for performance reasons.\n",
    "# See: https://github.com/databricks/koalas/issues/1769 (it seems the issue is not only related to apply())\n",
    "ks.set_option('compute.default_index_type', 'distributed')\n",
    "\n",
    "koalas_df = ks.read_csv('../datasets/iris.csv')\n",
    "pandas_df = pd.read_csv('../datasets/iris.csv')"
   ]
  },
  {
   "attachments": {},
   "cell_type": "markdown",
   "id": "a9dde55a",
   "metadata": {},
   "source": [
    "## Koalas fails\n",
    "\n",
    "Runs out of memory again with `pickup_longitude`. See `value_counts.ipynb`.\n",
    "Also, we have to use `.to_numpy()`, which I guess makes sense because numpy doesn't understand Koalas."
   ]
  },
  {
   "cell_type": "code",
   "execution_count": 2,
   "id": "8d7eaa88",
   "metadata": {},
   "outputs": [
    {
     "name": "stdout",
     "output_type": "stream",
     "text": [
      "458.6\n"
     ]
    }
   ],
   "source": [
    "%%time_cell\n",
    "x = np.sum(koalas_df['sepal_width'].to_numpy())\n",
    "print(x)"
   ]
  },
  {
   "cell_type": "code",
   "execution_count": 3,
   "id": "2137c73d",
   "metadata": {},
   "outputs": [
    {
     "name": "stdout",
     "output_type": "stream",
     "text": [
      "Koalas time: 0.2s\n"
     ]
    }
   ],
   "source": [
    "koalas_time = _TIMED_CELL\n",
    "print(f\"Koalas time: {koalas_time:.1f}s\")"
   ]
  },
  {
   "cell_type": "code",
   "execution_count": 4,
   "id": "96cfb614",
   "metadata": {},
   "outputs": [
    {
     "name": "stdout",
     "output_type": "stream",
     "text": [
      "458.6\n"
     ]
    }
   ],
   "source": [
    "%%time_cell\n",
    "y = np.sum(pandas_df['sepal_width'])\n",
    "print(y)"
   ]
  },
  {
   "cell_type": "code",
   "execution_count": 5,
   "id": "e1fca5fe",
   "metadata": {},
   "outputs": [
    {
     "name": "stdout",
     "output_type": "stream",
     "text": [
      "Pandas time: 0.001s\n"
     ]
    }
   ],
   "source": [
    "pandas_time = _TIMED_CELL\n",
    "print(f\"Pandas time: {pandas_time:.3f}s\")"
   ]
  },
  {
   "cell_type": "code",
   "execution_count": 6,
   "id": "8adab7c1",
   "metadata": {},
   "outputs": [
    {
     "data": {
      "text/markdown": [
       "### Koalas is 190.4x slower."
      ],
      "text/plain": [
       "<IPython.core.display.Markdown object>"
      ]
     },
     "metadata": {},
     "output_type": "display_data"
    }
   ],
   "source": [
    "slowdown = koalas_time / pandas_time\n",
    "utils.print_md(f\"### Koalas is {slowdown:.1f}x slower.\")"
   ]
  },
  {
   "cell_type": "code",
   "execution_count": 7,
   "id": "1a4bb3ea",
   "metadata": {},
   "outputs": [],
   "source": [
    "assert x == y"
   ]
  }
 ],
 "metadata": {
  "kernelspec": {
   "display_name": "Koalas-Kernel",
   "language": "python",
   "name": "koalas_env"
  },
  "language_info": {
   "codemirror_mode": {
    "name": "ipython",
    "version": 3
   },
   "file_extension": ".py",
   "mimetype": "text/x-python",
   "name": "python",
   "nbconvert_exporter": "python",
   "pygments_lexer": "ipython3",
   "version": "3.10.6"
  },
  "vscode": {
   "interpreter": {
    "hash": "43c543fca5f3a799ecd45653622d4fbfc41f8d33c65907b2d8962b3afc37f2d7"
   }
  }
 },
 "nbformat": 4,
 "nbformat_minor": 5
}
