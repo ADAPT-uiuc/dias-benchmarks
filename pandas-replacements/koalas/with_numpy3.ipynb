{
 "cells": [
  {
   "attachments": {},
   "cell_type": "markdown",
   "id": "8669ac5a",
   "metadata": {},
   "source": [
    "## Description - `np.where()`\n",
    "Interacting with numpy seems to cause slowdowns."
   ]
  },
  {
   "cell_type": "code",
   "execution_count": 1,
   "id": "97b245e5",
   "metadata": {
    "slideshow": {
     "slide_type": "slide"
    }
   },
   "outputs": [
    {
     "name": "stderr",
     "output_type": "stream",
     "text": [
      "Setting default log level to \"WARN\".\n",
      "To adjust logging level use sc.setLogLevel(newLevel). For SparkR, use setLogLevel(newLevel).\n"
     ]
    },
    {
     "name": "stdout",
     "output_type": "stream",
     "text": [
      "22/12/28 02:43:32 WARN NativeCodeLoader: Unable to load native-hadoop library for your platform... using builtin-java classes where applicable\n"
     ]
    }
   ],
   "source": [
    "import pandas as pd\n",
    "import numpy as np\n",
    "import collections.abc\n",
    "# Koalas needs these mappings\n",
    "collections.Iterable = collections.abc.Iterable\n",
    "collections.Callable = collections.abc.Callable\n",
    "import databricks.koalas as ks\n",
    "import utils\n",
    "\n",
    "# It seems you need to set this option for performance reasons.\n",
    "# See: https://github.com/databricks/koalas/issues/1769 (it seems the issue is not only related to apply())\n",
    "ks.set_option('compute.default_index_type', 'distributed')\n",
    "\n",
    "koalas_df = ks.read_csv('../datasets/iris.csv')\n",
    "pandas_df = pd.read_csv('../datasets/iris.csv')"
   ]
  },
  {
   "cell_type": "code",
   "execution_count": 2,
   "id": "8d7eaa88",
   "metadata": {},
   "outputs": [
    {
     "name": "stdout",
     "output_type": "stream",
     "text": [
      "[10 10 10 10 10 10 10 10 10 10 10 10 10 10 10 10 10 10 10 10 10 10 10 10\n",
      " 10 10 10 10 10 10 10 10 10 10 10 10 10 10 10 10 10 10 10 10 10 10 10 10\n",
      " 10 10 10 10 10 10 10 10 10 10 10 10 10 10 10 10 10 10 10 10 10 10 10 10\n",
      " 10 10 10 10 10 10 10 10 10 10 10 10 10 10 10 10 10 10 10 10 10 10 10 10\n",
      " 10 10 10 10 10 10 10 10 10 10 10 10 10 10 10 10 10 10 10 10 10 10 10 10\n",
      " 10 10 10 10 10 10 10 10 10 10 10 10 10 10 10 10 10 10 10 10 10 10 10 10\n",
      " 10 10 10 10 10 10]\n"
     ]
    }
   ],
   "source": [
    "%%time_cell\n",
    "# We have to use .to_numpy(). I tried both versions below. Both were slow. I picked the fastest.\n",
    "# koalas_arr = np.where(koalas_df['sepal_width'].to_numpy() < koalas_df['sepal_length'].to_numpy(), 10, 20)\n",
    "koalas_arr = np.where((koalas_df['sepal_width'] < koalas_df['sepal_length']).to_numpy(), 10, 20)\n",
    "print(koalas_arr)"
   ]
  },
  {
   "cell_type": "code",
   "execution_count": 3,
   "id": "bf87418c",
   "metadata": {},
   "outputs": [
    {
     "name": "stdout",
     "output_type": "stream",
     "text": [
      "Koalas time: 0.2s\n"
     ]
    }
   ],
   "source": [
    "koalas_time = _TIMED_CELL\n",
    "print(f\"Koalas time: {koalas_time:.1f}s\")"
   ]
  },
  {
   "cell_type": "code",
   "execution_count": 4,
   "id": "96cfb614",
   "metadata": {},
   "outputs": [
    {
     "name": "stdout",
     "output_type": "stream",
     "text": [
      "[10 10 10 10 10 10 10 10 10 10 10 10 10 10 10 10 10 10 10 10 10 10 10 10\n",
      " 10 10 10 10 10 10 10 10 10 10 10 10 10 10 10 10 10 10 10 10 10 10 10 10\n",
      " 10 10 10 10 10 10 10 10 10 10 10 10 10 10 10 10 10 10 10 10 10 10 10 10\n",
      " 10 10 10 10 10 10 10 10 10 10 10 10 10 10 10 10 10 10 10 10 10 10 10 10\n",
      " 10 10 10 10 10 10 10 10 10 10 10 10 10 10 10 10 10 10 10 10 10 10 10 10\n",
      " 10 10 10 10 10 10 10 10 10 10 10 10 10 10 10 10 10 10 10 10 10 10 10 10\n",
      " 10 10 10 10 10 10]\n"
     ]
    }
   ],
   "source": [
    "%%time_cell\n",
    "pandas_arr = np.where(pandas_df['sepal_width'] < pandas_df['sepal_length'], 10, 20)\n",
    "print(pandas_arr)"
   ]
  },
  {
   "cell_type": "code",
   "execution_count": 5,
   "id": "8297b0c3",
   "metadata": {},
   "outputs": [
    {
     "name": "stdout",
     "output_type": "stream",
     "text": [
      "Pandas time: 0.001s\n"
     ]
    }
   ],
   "source": [
    "pandas_time = _TIMED_CELL\n",
    "print(f\"Pandas time: {pandas_time:.3f}s\")"
   ]
  },
  {
   "cell_type": "code",
   "execution_count": 6,
   "id": "8adab7c1",
   "metadata": {},
   "outputs": [
    {
     "data": {
      "text/markdown": [
       "### Koalas is 202.3x slower."
      ],
      "text/plain": [
       "<IPython.core.display.Markdown object>"
      ]
     },
     "metadata": {},
     "output_type": "display_data"
    }
   ],
   "source": [
    "slowdown = koalas_time / pandas_time\n",
    "utils.print_md(f\"### Koalas is {slowdown:.1f}x slower.\")"
   ]
  },
  {
   "cell_type": "code",
   "execution_count": 7,
   "id": "1a4bb3ea",
   "metadata": {},
   "outputs": [],
   "source": [
    "assert (koalas_arr == pandas_arr).all()"
   ]
  }
 ],
 "metadata": {
  "kernelspec": {
   "display_name": "Koalas-Kernel",
   "language": "python",
   "name": "koalas_env"
  },
  "language_info": {
   "codemirror_mode": {
    "name": "ipython",
    "version": 3
   },
   "file_extension": ".py",
   "mimetype": "text/x-python",
   "name": "python",
   "nbconvert_exporter": "python",
   "pygments_lexer": "ipython3",
   "version": "3.10.6"
  },
  "vscode": {
   "interpreter": {
    "hash": "43c543fca5f3a799ecd45653622d4fbfc41f8d33c65907b2d8962b3afc37f2d7"
   }
  }
 },
 "nbformat": 4,
 "nbformat_minor": 5
}
