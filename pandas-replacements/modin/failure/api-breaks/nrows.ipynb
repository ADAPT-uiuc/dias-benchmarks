{
 "cells": [
  {
   "attachments": {},
   "cell_type": "markdown",
   "id": "8669ac5a",
   "metadata": {},
   "source": [
    "It seems that adding `nrows` causes an error. See: https://modin.readthedocs.io/en/stable/getting_started/troubleshooting.html#importing-heterogeneous-data-using-read-csv\n",
    "\n",
    "TODO: This seems like an API problem. What about performance?"
   ]
  },
  {
   "cell_type": "code",
   "execution_count": null,
   "id": "97b245e5",
   "metadata": {
    "slideshow": {
     "slide_type": "slide"
    }
   },
   "outputs": [],
   "source": [
    "import utils\n",
    "%include preamble.py"
   ]
  },
  {
   "cell_type": "code",
   "execution_count": null,
   "id": "48b99754",
   "metadata": {},
   "outputs": [],
   "source": [
    "path = \"../../../datasets/yellow_tripdata_2015-01.csv\"\n",
    "%time modin_df = modin_pd.read_csv(path, nrows=10_000_000)"
   ]
  },
  {
   "cell_type": "code",
   "execution_count": null,
   "id": "efaf1bb5",
   "metadata": {},
   "outputs": [],
   "source": [
    "print(modin_df)"
   ]
  }
 ],
 "metadata": {
  "kernelspec": {
   "display_name": "Python 3 (ipykernel)",
   "language": "python",
   "name": "python3"
  },
  "language_info": {
   "codemirror_mode": {
    "name": "ipython",
    "version": 3
   },
   "file_extension": ".py",
   "mimetype": "text/x-python",
   "name": "python",
   "nbconvert_exporter": "python",
   "pygments_lexer": "ipython3",
   "version": "3.8.11"
  }
 },
 "nbformat": 4,
 "nbformat_minor": 5
}
