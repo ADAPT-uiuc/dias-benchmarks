{
 "cells": [
  {
   "attachments": {},
   "cell_type": "markdown",
   "metadata": {},
   "source": [
    "## Description\n",
    "It seems that the order of operands matters. See comparing Series below with `==`. This is interesting because when we have `<modin_type> <op> <pandas_type>`, then this goes to Modin's implementation of `<op>` and Modin knows how to interoperate with Pandas. However, when we have `<pandas_type> <op> <modin_type>`, it goes to Pandas' implementation of `<op>` and Pandas doesn't know how to interoperate with Modin."
   ]
  },
  {
   "cell_type": "code",
   "execution_count": 1,
   "metadata": {},
   "outputs": [
    {
     "name": "stderr",
     "output_type": "stream",
     "text": [
      "2022-12-24 23:59:41,479\tINFO worker.py:1528 -- Started a local Ray instance.\n"
     ]
    }
   ],
   "source": [
    "import utils\n",
    "%include preamble.py\n",
    "modin_df, pandas_df = utils.get_two_dfs(\"../../datasets/iris.csv\")"
   ]
  },
  {
   "cell_type": "code",
   "execution_count": 2,
   "metadata": {},
   "outputs": [],
   "source": [
    "# THIS WORKS\n",
    "assert (modin_df[\"sepal_width\"] == pandas_df[\"sepal_width\"]).all()"
   ]
  },
  {
   "cell_type": "code",
   "execution_count": 3,
   "metadata": {},
   "outputs": [
    {
     "ename": "ValueError",
     "evalue": "The truth value of a Series is ambiguous. Use a.empty, a.bool(), a.item(), a.any() or a.all().",
     "output_type": "error",
     "traceback": [
      "\u001b[0;31m---------------------------------------------------------------------------\u001b[0m",
      "\u001b[0;31mValueError\u001b[0m                                Traceback (most recent call last)",
      "Cell \u001b[0;32mIn[3], line 2\u001b[0m\n\u001b[1;32m      1\u001b[0m \u001b[39m# THIS DOESN'T\u001b[39;00m\n\u001b[0;32m----> 2\u001b[0m \u001b[39massert\u001b[39;00m (pandas_df[\u001b[39m\"\u001b[39;49m\u001b[39msepal_width\u001b[39;49m\u001b[39m\"\u001b[39;49m] \u001b[39m==\u001b[39;49m modin_df[\u001b[39m\"\u001b[39;49m\u001b[39msepal_width\u001b[39;49m\u001b[39m\"\u001b[39;49m])\u001b[39m.\u001b[39mall()\n",
      "File \u001b[0;32m~/pandas-alt-exps/modin/modin_env/lib/python3.10/site-packages/pandas/core/ops/common.py:72\u001b[0m, in \u001b[0;36m_unpack_zerodim_and_defer.<locals>.new_method\u001b[0;34m(self, other)\u001b[0m\n\u001b[1;32m     68\u001b[0m             \u001b[39mreturn\u001b[39;00m \u001b[39mNotImplemented\u001b[39m\n\u001b[1;32m     70\u001b[0m other \u001b[39m=\u001b[39m item_from_zerodim(other)\n\u001b[0;32m---> 72\u001b[0m \u001b[39mreturn\u001b[39;00m method(\u001b[39mself\u001b[39;49m, other)\n",
      "File \u001b[0;32m~/pandas-alt-exps/modin/modin_env/lib/python3.10/site-packages/pandas/core/arraylike.py:42\u001b[0m, in \u001b[0;36mOpsMixin.__eq__\u001b[0;34m(self, other)\u001b[0m\n\u001b[1;32m     40\u001b[0m \u001b[39m@unpack_zerodim_and_defer\u001b[39m(\u001b[39m\"\u001b[39m\u001b[39m__eq__\u001b[39m\u001b[39m\"\u001b[39m)\n\u001b[1;32m     41\u001b[0m \u001b[39mdef\u001b[39;00m \u001b[39m__eq__\u001b[39m(\u001b[39mself\u001b[39m, other):\n\u001b[0;32m---> 42\u001b[0m     \u001b[39mreturn\u001b[39;00m \u001b[39mself\u001b[39;49m\u001b[39m.\u001b[39;49m_cmp_method(other, operator\u001b[39m.\u001b[39;49meq)\n",
      "File \u001b[0;32m~/pandas-alt-exps/modin/modin_env/lib/python3.10/site-packages/pandas/core/series.py:6245\u001b[0m, in \u001b[0;36mSeries._cmp_method\u001b[0;34m(self, other, op)\u001b[0m\n\u001b[1;32m   6242\u001b[0m \u001b[39mwith\u001b[39;00m np\u001b[39m.\u001b[39merrstate(\u001b[39mall\u001b[39m\u001b[39m=\u001b[39m\u001b[39m\"\u001b[39m\u001b[39mignore\u001b[39m\u001b[39m\"\u001b[39m):\n\u001b[1;32m   6243\u001b[0m     res_values \u001b[39m=\u001b[39m ops\u001b[39m.\u001b[39mcomparison_op(lvalues, rvalues, op)\n\u001b[0;32m-> 6245\u001b[0m \u001b[39mreturn\u001b[39;00m \u001b[39mself\u001b[39;49m\u001b[39m.\u001b[39;49m_construct_result(res_values, name\u001b[39m=\u001b[39;49mres_name)\n",
      "File \u001b[0;32m~/pandas-alt-exps/modin/modin_env/lib/python3.10/site-packages/pandas/core/series.py:3223\u001b[0m, in \u001b[0;36mSeries._construct_result\u001b[0;34m(self, result, name)\u001b[0m\n\u001b[1;32m   3219\u001b[0m     \u001b[39mreturn\u001b[39;00m (res1, res2)\n\u001b[1;32m   3221\u001b[0m \u001b[39m# We do not pass dtype to ensure that the Series constructor\u001b[39;00m\n\u001b[1;32m   3222\u001b[0m \u001b[39m#  does inference in the case where `result` has object-dtype.\u001b[39;00m\n\u001b[0;32m-> 3223\u001b[0m out \u001b[39m=\u001b[39m \u001b[39mself\u001b[39;49m\u001b[39m.\u001b[39;49m_constructor(result, index\u001b[39m=\u001b[39;49m\u001b[39mself\u001b[39;49m\u001b[39m.\u001b[39;49mindex)\n\u001b[1;32m   3224\u001b[0m out \u001b[39m=\u001b[39m out\u001b[39m.\u001b[39m__finalize__(\u001b[39mself\u001b[39m)\n\u001b[1;32m   3226\u001b[0m \u001b[39m# Set the result's name after __finalize__ is called because __finalize__\u001b[39;00m\n\u001b[1;32m   3227\u001b[0m \u001b[39m#  would set it back to self.name\u001b[39;00m\n",
      "File \u001b[0;32m~/pandas-alt-exps/modin/modin_env/lib/python3.10/site-packages/pandas/core/series.py:436\u001b[0m, in \u001b[0;36mSeries.__init__\u001b[0;34m(self, data, index, dtype, name, copy, fastpath)\u001b[0m\n\u001b[1;32m    434\u001b[0m     data \u001b[39m=\u001b[39m data\u001b[39m.\u001b[39m_mgr\n\u001b[1;32m    435\u001b[0m \u001b[39melif\u001b[39;00m is_dict_like(data):\n\u001b[0;32m--> 436\u001b[0m     data, index \u001b[39m=\u001b[39m \u001b[39mself\u001b[39;49m\u001b[39m.\u001b[39;49m_init_dict(data, index, dtype)\n\u001b[1;32m    437\u001b[0m     dtype \u001b[39m=\u001b[39m \u001b[39mNone\u001b[39;00m\n\u001b[1;32m    438\u001b[0m     copy \u001b[39m=\u001b[39m \u001b[39mFalse\u001b[39;00m\n",
      "File \u001b[0;32m~/pandas-alt-exps/modin/modin_env/lib/python3.10/site-packages/pandas/core/series.py:511\u001b[0m, in \u001b[0;36mSeries._init_dict\u001b[0;34m(self, data, index, dtype)\u001b[0m\n\u001b[1;32m    507\u001b[0m keys: Index \u001b[39m|\u001b[39m \u001b[39mtuple\u001b[39m\n\u001b[1;32m    509\u001b[0m \u001b[39m# Looking for NaN in dict doesn't work ({np.nan : 1}[float('nan')]\u001b[39;00m\n\u001b[1;32m    510\u001b[0m \u001b[39m# raises KeyError), so we iterate the entire dict, and align\u001b[39;00m\n\u001b[0;32m--> 511\u001b[0m \u001b[39mif\u001b[39;00m data:\n\u001b[1;32m    512\u001b[0m     \u001b[39m# GH:34717, issue was using zip to extract key and values from data.\u001b[39;00m\n\u001b[1;32m    513\u001b[0m     \u001b[39m# using generators in effects the performance.\u001b[39;00m\n\u001b[1;32m    514\u001b[0m     \u001b[39m# Below is the new way of extracting the keys and values\u001b[39;00m\n\u001b[1;32m    516\u001b[0m     keys \u001b[39m=\u001b[39m \u001b[39mtuple\u001b[39m(data\u001b[39m.\u001b[39mkeys())\n\u001b[1;32m    517\u001b[0m     values \u001b[39m=\u001b[39m \u001b[39mlist\u001b[39m(data\u001b[39m.\u001b[39mvalues())  \u001b[39m# Generating list of values- faster way\u001b[39;00m\n",
      "File \u001b[0;32m~/pandas-alt-exps/modin/modin_env/lib/python3.10/site-packages/modin/logging/logger_decorator.py:128\u001b[0m, in \u001b[0;36menable_logging.<locals>.decorator.<locals>.run_and_log\u001b[0;34m(*args, **kwargs)\u001b[0m\n\u001b[1;32m    113\u001b[0m \u001b[39m\"\"\"\u001b[39;00m\n\u001b[1;32m    114\u001b[0m \u001b[39mCompute function with logging if Modin logging is enabled.\u001b[39;00m\n\u001b[1;32m    115\u001b[0m \n\u001b[0;32m   (...)\u001b[0m\n\u001b[1;32m    125\u001b[0m \u001b[39mAny\u001b[39;00m\n\u001b[1;32m    126\u001b[0m \u001b[39m\"\"\"\u001b[39;00m\n\u001b[1;32m    127\u001b[0m \u001b[39mif\u001b[39;00m LogMode\u001b[39m.\u001b[39mget() \u001b[39m==\u001b[39m \u001b[39m\"\u001b[39m\u001b[39mdisable\u001b[39m\u001b[39m\"\u001b[39m:\n\u001b[0;32m--> 128\u001b[0m     \u001b[39mreturn\u001b[39;00m obj(\u001b[39m*\u001b[39;49margs, \u001b[39m*\u001b[39;49m\u001b[39m*\u001b[39;49mkwargs)\n\u001b[1;32m    130\u001b[0m logger \u001b[39m=\u001b[39m get_logger()\n\u001b[1;32m    131\u001b[0m logger_level \u001b[39m=\u001b[39m \u001b[39mgetattr\u001b[39m(logger, log_level)\n",
      "File \u001b[0;32m~/pandas-alt-exps/modin/modin_env/lib/python3.10/site-packages/modin/pandas/base.py:3338\u001b[0m, in \u001b[0;36mBasePandasDataset.__nonzero__\u001b[0;34m(self)\u001b[0m\n\u001b[1;32m   3329\u001b[0m \u001b[39mdef\u001b[39;00m \u001b[39m__nonzero__\u001b[39m(\u001b[39mself\u001b[39m):\n\u001b[1;32m   3330\u001b[0m     \u001b[39m\"\"\"\u001b[39;00m\n\u001b[1;32m   3331\u001b[0m \u001b[39m    Evaluate `BasePandasDataset` as boolean object.\u001b[39;00m\n\u001b[1;32m   3332\u001b[0m \n\u001b[0;32m   (...)\u001b[0m\n\u001b[1;32m   3336\u001b[0m \u001b[39m        Always since truth value for self is ambiguous.\u001b[39;00m\n\u001b[1;32m   3337\u001b[0m \u001b[39m    \"\"\"\u001b[39;00m\n\u001b[0;32m-> 3338\u001b[0m     \u001b[39mraise\u001b[39;00m \u001b[39mValueError\u001b[39;00m(\n\u001b[1;32m   3339\u001b[0m         \u001b[39mf\u001b[39m\u001b[39m\"\u001b[39m\u001b[39mThe truth value of a \u001b[39m\u001b[39m{\u001b[39;00m\u001b[39mself\u001b[39m\u001b[39m.\u001b[39m\u001b[39m__class__\u001b[39m\u001b[39m.\u001b[39m\u001b[39m__name__\u001b[39m\u001b[39m}\u001b[39;00m\u001b[39m is ambiguous. \u001b[39m\u001b[39m\"\u001b[39m\n\u001b[1;32m   3340\u001b[0m         \u001b[39m+\u001b[39m \u001b[39m\"\u001b[39m\u001b[39mUse a.empty, a.bool(), a.item(), a.any() or a.all().\u001b[39m\u001b[39m\"\u001b[39m\n\u001b[1;32m   3341\u001b[0m     )\n",
      "\u001b[0;31mValueError\u001b[0m: The truth value of a Series is ambiguous. Use a.empty, a.bool(), a.item(), a.any() or a.all()."
     ]
    }
   ],
   "source": [
    "# THIS DOESN'T\n",
    "assert (pandas_df[\"sepal_width\"] == modin_df[\"sepal_width\"]).all()"
   ]
  }
 ],
 "metadata": {
  "kernelspec": {
   "display_name": "modin_env",
   "language": "python",
   "name": "python3"
  },
  "language_info": {
   "codemirror_mode": {
    "name": "ipython",
    "version": 3
   },
   "file_extension": ".py",
   "mimetype": "text/x-python",
   "name": "python",
   "nbconvert_exporter": "python",
   "pygments_lexer": "ipython3",
   "version": "3.10.6"
  },
  "orig_nbformat": 4,
  "vscode": {
   "interpreter": {
    "hash": "43c543fca5f3a799ecd45653622d4fbfc41f8d33c65907b2d8962b3afc37f2d7"
   }
  }
 },
 "nbformat": 4,
 "nbformat_minor": 2
}
