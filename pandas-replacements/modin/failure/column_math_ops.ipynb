{
 "cells": [
  {
   "cell_type": "code",
   "execution_count": 1,
   "metadata": {},
   "outputs": [
    {
     "name": "stderr",
     "output_type": "stream",
     "text": [
      "2022-12-25 01:59:59,381\tINFO worker.py:1528 -- Started a local Ray instance.\n"
     ]
    }
   ],
   "source": [
    "import utils\n",
    "%include preamble.py"
   ]
  },
  {
   "cell_type": "code",
   "execution_count": 2,
   "metadata": {},
   "outputs": [],
   "source": [
    "modin_df, pandas_df = utils.get_two_dfs(\"../../datasets/yellow_tripdata_2015-01.csv\")"
   ]
  },
  {
   "attachments": {},
   "cell_type": "markdown",
   "metadata": {},
   "source": [
    "## Example 1 - Math Ops Series to Series"
   ]
  },
  {
   "cell_type": "code",
   "execution_count": 3,
   "metadata": {},
   "outputs": [
    {
     "name": "stdout",
     "output_type": "stream",
     "text": [
      "0          -33.243786\n",
      "1          -33.277405\n",
      "2          -33.160553\n",
      "3          -33.295269\n",
      "4          -33.208748\n",
      "              ...    \n",
      "12748981   -33.165771\n",
      "12748982   -33.254559\n",
      "12748983   -33.229774\n",
      "12748984   -33.261082\n",
      "12748985   -33.193951\n",
      "Length: 12748986, dtype: float64\n"
     ]
    }
   ],
   "source": [
    "%%time_cell\n",
    "x = modin_df['pickup_longitude'] + modin_df['pickup_latitude']\n",
    "# Trigger computation. Modin is lazy.\n",
    "print(x)"
   ]
  },
  {
   "cell_type": "code",
   "execution_count": 4,
   "metadata": {},
   "outputs": [
    {
     "name": "stdout",
     "output_type": "stream",
     "text": [
      "Modin time: 1.5s\n"
     ]
    }
   ],
   "source": [
    "modin_time = _TIMED_CELL\n",
    "print(f\"Modin time: {modin_time:.1f}s\")"
   ]
  },
  {
   "cell_type": "code",
   "execution_count": 5,
   "metadata": {},
   "outputs": [
    {
     "name": "stdout",
     "output_type": "stream",
     "text": [
      "0          -33.243786\n",
      "1          -33.277405\n",
      "2          -33.160553\n",
      "3          -33.295269\n",
      "4          -33.208748\n",
      "              ...    \n",
      "12748981   -33.165771\n",
      "12748982   -33.254559\n",
      "12748983   -33.229774\n",
      "12748984   -33.261082\n",
      "12748985   -33.193951\n",
      "Length: 12748986, dtype: float64\n"
     ]
    }
   ],
   "source": [
    "%%time_cell\n",
    "y = pandas_df['pickup_longitude'] + pandas_df['pickup_latitude']\n",
    "print(y)"
   ]
  },
  {
   "cell_type": "code",
   "execution_count": 6,
   "metadata": {},
   "outputs": [
    {
     "name": "stdout",
     "output_type": "stream",
     "text": [
      "Pandas time: 0.0s\n"
     ]
    }
   ],
   "source": [
    "pandas_time = _TIMED_CELL\n",
    "print(f\"Pandas time: {pandas_time:.1f}s\")"
   ]
  },
  {
   "cell_type": "code",
   "execution_count": 7,
   "metadata": {},
   "outputs": [
    {
     "data": {
      "text/markdown": [
       "### Modin is 55.1x slower."
      ],
      "text/plain": [
       "<IPython.core.display.Markdown object>"
      ]
     },
     "metadata": {},
     "output_type": "display_data"
    }
   ],
   "source": [
    "slowdown = modin_time / pandas_time\n",
    "utils.print_md(f\"### Modin is {slowdown:.1f}x slower.\")"
   ]
  },
  {
   "attachments": {},
   "cell_type": "markdown",
   "metadata": {},
   "source": [
    "## Example 2 - Math Ops Series to Constant"
   ]
  },
  {
   "cell_type": "code",
   "execution_count": 8,
   "metadata": {},
   "outputs": [
    {
     "name": "stdout",
     "output_type": "stream",
     "text": [
      "0          -147.987793\n",
      "1          -148.003296\n",
      "2          -147.926682\n",
      "3          -148.018173\n",
      "4          -147.942352\n",
      "               ...    \n",
      "12748981   -147.903976\n",
      "12748982   -147.965485\n",
      "12748983   -147.958649\n",
      "12748984   -147.999130\n",
      "12748985   -147.920700\n",
      "Name: pickup_longitude, Length: 12748986, dtype: float64\n"
     ]
    }
   ],
   "source": [
    "%%time_cell\n",
    "x = modin_df['pickup_longitude'] * 2\n",
    "# Trigger computation. Modin is lazy.\n",
    "print(x)"
   ]
  },
  {
   "cell_type": "code",
   "execution_count": 9,
   "metadata": {},
   "outputs": [
    {
     "name": "stdout",
     "output_type": "stream",
     "text": [
      "Modin time: 0.3s\n"
     ]
    }
   ],
   "source": [
    "modin_time = _TIMED_CELL\n",
    "print(f\"Modin time: {modin_time:.1f}s\")"
   ]
  },
  {
   "cell_type": "code",
   "execution_count": 10,
   "metadata": {},
   "outputs": [
    {
     "name": "stdout",
     "output_type": "stream",
     "text": [
      "0          -147.987793\n",
      "1          -148.003296\n",
      "2          -147.926682\n",
      "3          -148.018173\n",
      "4          -147.942352\n",
      "               ...    \n",
      "12748981   -147.903976\n",
      "12748982   -147.965485\n",
      "12748983   -147.958649\n",
      "12748984   -147.999130\n",
      "12748985   -147.920700\n",
      "Name: pickup_longitude, Length: 12748986, dtype: float64\n"
     ]
    }
   ],
   "source": [
    "%%time_cell\n",
    "y = pandas_df['pickup_longitude'] * 2\n",
    "print(y)"
   ]
  },
  {
   "cell_type": "code",
   "execution_count": 11,
   "metadata": {},
   "outputs": [
    {
     "name": "stdout",
     "output_type": "stream",
     "text": [
      "Pandas time: 0.0s\n"
     ]
    }
   ],
   "source": [
    "pandas_time = _TIMED_CELL\n",
    "print(f\"Pandas time: {pandas_time:.1f}s\")"
   ]
  },
  {
   "cell_type": "code",
   "execution_count": 12,
   "metadata": {},
   "outputs": [
    {
     "data": {
      "text/markdown": [
       "### Modin is 16.5x slower."
      ],
      "text/plain": [
       "<IPython.core.display.Markdown object>"
      ]
     },
     "metadata": {},
     "output_type": "display_data"
    }
   ],
   "source": [
    "slowdown = modin_time / pandas_time\n",
    "utils.print_md(f\"### Modin is {slowdown:.1f}x slower.\")"
   ]
  },
  {
   "attachments": {},
   "cell_type": "markdown",
   "metadata": {},
   "source": [
    "## Example 3 - Compare Series to Series"
   ]
  },
  {
   "cell_type": "code",
   "execution_count": 13,
   "metadata": {},
   "outputs": [],
   "source": [
    "%%time_cell\n",
    "x = modin_df['pickup_longitude'] < modin_df['pickup_latitude']\n",
    "# Trigger computation. Modin is lazy.\n",
    "assert x.any()"
   ]
  },
  {
   "cell_type": "code",
   "execution_count": 14,
   "metadata": {},
   "outputs": [
    {
     "name": "stdout",
     "output_type": "stream",
     "text": [
      "Modin time: 0.7s\n"
     ]
    }
   ],
   "source": [
    "modin_time = _TIMED_CELL\n",
    "print(f\"Modin time: {modin_time:.1f}s\")"
   ]
  },
  {
   "cell_type": "code",
   "execution_count": 15,
   "metadata": {},
   "outputs": [],
   "source": [
    "%%time_cell\n",
    "y = pandas_df['pickup_longitude'] < pandas_df['pickup_latitude']\n",
    "assert y.any()"
   ]
  },
  {
   "cell_type": "code",
   "execution_count": 16,
   "metadata": {},
   "outputs": [
    {
     "name": "stdout",
     "output_type": "stream",
     "text": [
      "Pandas time: 0.0s\n"
     ]
    }
   ],
   "source": [
    "pandas_time = _TIMED_CELL\n",
    "print(f\"Pandas time: {pandas_time:.1f}s\")"
   ]
  },
  {
   "cell_type": "code",
   "execution_count": 17,
   "metadata": {},
   "outputs": [
    {
     "data": {
      "text/markdown": [
       "### Modin is 30.7x slower."
      ],
      "text/plain": [
       "<IPython.core.display.Markdown object>"
      ]
     },
     "metadata": {},
     "output_type": "display_data"
    }
   ],
   "source": [
    "slowdown = modin_time / pandas_time\n",
    "utils.print_md(f\"### Modin is {slowdown:.1f}x slower.\")"
   ]
  },
  {
   "attachments": {},
   "cell_type": "markdown",
   "metadata": {},
   "source": [
    "## Example 4 - Compare Series to Constant"
   ]
  },
  {
   "cell_type": "code",
   "execution_count": 18,
   "metadata": {},
   "outputs": [],
   "source": [
    "%%time_cell\n",
    "x = modin_df['pickup_longitude'] < 2.3\n",
    "# Trigger computation. Modin is lazy.\n",
    "assert x.any()"
   ]
  },
  {
   "cell_type": "code",
   "execution_count": 19,
   "metadata": {},
   "outputs": [
    {
     "name": "stdout",
     "output_type": "stream",
     "text": [
      "Modin time: 0.3s\n"
     ]
    }
   ],
   "source": [
    "modin_time = _TIMED_CELL\n",
    "print(f\"Modin time: {modin_time:.1f}s\")"
   ]
  },
  {
   "cell_type": "code",
   "execution_count": 20,
   "metadata": {},
   "outputs": [
    {
     "name": "stdout",
     "output_type": "stream",
     "text": [
      "0           True\n",
      "1           True\n",
      "2           True\n",
      "3           True\n",
      "4           True\n",
      "            ... \n",
      "12748981    True\n",
      "12748982    True\n",
      "12748983    True\n",
      "12748984    True\n",
      "12748985    True\n",
      "Name: pickup_longitude, Length: 12748986, dtype: bool\n"
     ]
    }
   ],
   "source": [
    "%%time_cell\n",
    "y = pandas_df['pickup_longitude'] < 2.3\n",
    "print(y)"
   ]
  },
  {
   "cell_type": "code",
   "execution_count": 21,
   "metadata": {},
   "outputs": [
    {
     "name": "stdout",
     "output_type": "stream",
     "text": [
      "Pandas time: 0.0s\n"
     ]
    }
   ],
   "source": [
    "pandas_time = _TIMED_CELL\n",
    "print(f\"Pandas time: {pandas_time:.1f}s\")"
   ]
  },
  {
   "cell_type": "code",
   "execution_count": 22,
   "metadata": {},
   "outputs": [
    {
     "data": {
      "text/markdown": [
       "### Modin is 20.4x slower."
      ],
      "text/plain": [
       "<IPython.core.display.Markdown object>"
      ]
     },
     "metadata": {},
     "output_type": "display_data"
    }
   ],
   "source": [
    "slowdown = modin_time / pandas_time\n",
    "utils.print_md(f\"### Modin is {slowdown:.1f}x slower.\")"
   ]
  },
  {
   "attachments": {},
   "cell_type": "markdown",
   "metadata": {},
   "source": [
    "## Example 5 - Unary Reductions 1"
   ]
  },
  {
   "cell_type": "code",
   "execution_count": 23,
   "metadata": {},
   "outputs": [
    {
     "name": "stdout",
     "output_type": "stream",
     "text": [
      "10.125103592972902\n"
     ]
    }
   ],
   "source": [
    "%%time_cell\n",
    "x = modin_df['pickup_longitude'].std()\n",
    "# Trigger computation. Modin is lazy.\n",
    "print(x)"
   ]
  },
  {
   "cell_type": "code",
   "execution_count": 24,
   "metadata": {},
   "outputs": [
    {
     "name": "stdout",
     "output_type": "stream",
     "text": [
      "Modin time: 0.6s\n"
     ]
    }
   ],
   "source": [
    "modin_time = _TIMED_CELL\n",
    "print(f\"Modin time: {modin_time:.1f}s\")"
   ]
  },
  {
   "cell_type": "code",
   "execution_count": 25,
   "metadata": {},
   "outputs": [
    {
     "name": "stdout",
     "output_type": "stream",
     "text": [
      "10.125103592972902\n"
     ]
    }
   ],
   "source": [
    "%%time_cell\n",
    "y = pandas_df['pickup_longitude'].std()\n",
    "print(y)"
   ]
  },
  {
   "cell_type": "code",
   "execution_count": 26,
   "metadata": {},
   "outputs": [
    {
     "name": "stdout",
     "output_type": "stream",
     "text": [
      "Pandas time: 0.1s\n"
     ]
    }
   ],
   "source": [
    "pandas_time = _TIMED_CELL\n",
    "print(f\"Pandas time: {pandas_time:.1f}s\")"
   ]
  },
  {
   "cell_type": "code",
   "execution_count": 27,
   "metadata": {},
   "outputs": [
    {
     "data": {
      "text/markdown": [
       "### Modin is 5.3x slower."
      ],
      "text/plain": [
       "<IPython.core.display.Markdown object>"
      ]
     },
     "metadata": {},
     "output_type": "display_data"
    }
   ],
   "source": [
    "slowdown = modin_time / pandas_time\n",
    "utils.print_md(f\"### Modin is {slowdown:.1f}x slower.\")"
   ]
  },
  {
   "attachments": {},
   "cell_type": "markdown",
   "metadata": {},
   "source": [
    "## Example 6 - Unary Reductions 2"
   ]
  },
  {
   "cell_type": "code",
   "execution_count": 28,
   "metadata": {},
   "outputs": [
    {
     "name": "stdout",
     "output_type": "stream",
     "text": [
      "['2015-01-15 19:05:39' '2015-01-10 20:33:38' '2015-01-10 20:33:39'\n",
      " '2015-01-10 20:33:40' '2015-01-10 20:33:41' '2015-01-15 19:05:40'\n",
      " '2015-01-15 19:05:41' '2015-01-15 19:05:42' '2015-01-15 19:05:43'\n",
      " '2015-01-15 19:05:44']\n"
     ]
    }
   ],
   "source": [
    "%%time_cell\n",
    "x = modin_df[\"tpep_pickup_datetime\"].unique()\n",
    "# Tigger computation, Modin is lazy.\n",
    "print(x[:10])"
   ]
  },
  {
   "cell_type": "code",
   "execution_count": 29,
   "metadata": {},
   "outputs": [
    {
     "name": "stdout",
     "output_type": "stream",
     "text": [
      "Modin time: 4.5s\n"
     ]
    }
   ],
   "source": [
    "modin_time = _TIMED_CELL\n",
    "print(f\"Modin time: {modin_time:.1f}s\")"
   ]
  },
  {
   "cell_type": "code",
   "execution_count": 30,
   "metadata": {},
   "outputs": [
    {
     "name": "stdout",
     "output_type": "stream",
     "text": [
      "['2015-01-15 19:05:39' '2015-01-10 20:33:38' '2015-01-10 20:33:39'\n",
      " '2015-01-10 20:33:40' '2015-01-10 20:33:41' '2015-01-15 19:05:40'\n",
      " '2015-01-15 19:05:41' '2015-01-15 19:05:42' '2015-01-15 19:05:43'\n",
      " '2015-01-15 19:05:44']\n"
     ]
    }
   ],
   "source": [
    "%%time_cell\n",
    "y = pandas_df[\"tpep_pickup_datetime\"].unique()\n",
    "print(y[:10])"
   ]
  },
  {
   "cell_type": "code",
   "execution_count": 31,
   "metadata": {},
   "outputs": [
    {
     "name": "stdout",
     "output_type": "stream",
     "text": [
      "Pandas time: 1.7s\n"
     ]
    }
   ],
   "source": [
    "pandas_time = _TIMED_CELL\n",
    "print(f\"Pandas time: {pandas_time:.1f}s\")"
   ]
  },
  {
   "cell_type": "code",
   "execution_count": 32,
   "metadata": {},
   "outputs": [
    {
     "data": {
      "text/markdown": [
       "### Modin is 2.6x slower."
      ],
      "text/plain": [
       "<IPython.core.display.Markdown object>"
      ]
     },
     "metadata": {},
     "output_type": "display_data"
    }
   ],
   "source": [
    "slowdown = modin_time / pandas_time\n",
    "utils.print_md(f\"### Modin is {slowdown:.1f}x slower.\")"
   ]
  }
 ],
 "metadata": {
  "kernelspec": {
   "display_name": "modin_env",
   "language": "python",
   "name": "python3"
  },
  "language_info": {
   "codemirror_mode": {
    "name": "ipython",
    "version": 3
   },
   "file_extension": ".py",
   "mimetype": "text/x-python",
   "name": "python",
   "nbconvert_exporter": "python",
   "pygments_lexer": "ipython3",
   "version": "3.10.6"
  },
  "orig_nbformat": 4,
  "vscode": {
   "interpreter": {
    "hash": "43c543fca5f3a799ecd45653622d4fbfc41f8d33c65907b2d8962b3afc37f2d7"
   }
  }
 },
 "nbformat": 4,
 "nbformat_minor": 2
}
