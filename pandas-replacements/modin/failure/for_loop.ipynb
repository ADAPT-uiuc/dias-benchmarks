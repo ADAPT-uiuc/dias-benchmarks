{
 "cells": [
  {
   "attachments": {},
   "cell_type": "markdown",
   "metadata": {},
   "source": [
    "When operating in individual elements, we observe big slowdowns in Modin.\n",
    "TODO: The code below crosses rows in every iteration. Create another version that deals with one row at a time."
   ]
  },
  {
   "cell_type": "code",
   "execution_count": 1,
   "metadata": {},
   "outputs": [
    {
     "name": "stderr",
     "output_type": "stream",
     "text": [
      "2022-12-24 07:15:47,558\tINFO worker.py:1528 -- Started a local Ray instance.\n"
     ]
    }
   ],
   "source": [
    "import utils\n",
    "%include preamble.py"
   ]
  },
  {
   "cell_type": "code",
   "execution_count": 2,
   "metadata": {},
   "outputs": [],
   "source": [
    "modin_df, pandas_df = utils.get_two_dfs(\"../../datasets/yellow_tripdata_2015-01.csv\")"
   ]
  },
  {
   "cell_type": "code",
   "execution_count": 3,
   "metadata": {},
   "outputs": [],
   "source": [
    "%%run_twice DF_PH, modin_df, pandas_df\n",
    "\n",
    "# Taken from: erikbruin/nlp-on-student-writing-eda\n",
    "\n",
    "DF_PH['discourse_nr'] = 1\n",
    "counter = 1\n",
    "\n",
    "# I had to reduce the number of iterations to 15 otherwise, it takes _A LOT_ of time for\n",
    "# Modin.\n",
    "for i in range(1, 15):\n",
    "  if DF_PH.loc[i, 'VendorID'] == DF_PH.loc[i-1, 'VendorID']:\n",
    "    counter += 1\n",
    "    DF_PH.loc[i, 'discourse_nr'] = counter\n",
    "  else:\n",
    "    counter = 1\n",
    "    DF_PH.loc[i, 'discourse_nr'] = counter"
   ]
  },
  {
   "cell_type": "code",
   "execution_count": 4,
   "metadata": {},
   "outputs": [
    {
     "name": "stdout",
     "output_type": "stream",
     "text": [
      "Modin time: 48.3s\n",
      "Pandas time: 0.0s\n"
     ]
    },
    {
     "data": {
      "text/markdown": [
       "### Modin is 1914.5x slower."
      ],
      "text/plain": [
       "<IPython.core.display.Markdown object>"
      ]
     },
     "metadata": {},
     "output_type": "display_data"
    }
   ],
   "source": [
    "modin_time = _TIMED_CELL1\n",
    "pandas_time = _TIMED_CELL2\n",
    "print(f\"Modin time: {modin_time:.1f}s\")\n",
    "print(f\"Pandas time: {pandas_time:.1f}s\")\n",
    "slowdown = modin_time / pandas_time\n",
    "utils.print_md(f\"### Modin is {slowdown:.1f}x slower.\")"
   ]
  },
  {
   "cell_type": "code",
   "execution_count": 5,
   "metadata": {},
   "outputs": [],
   "source": [
    "assert (modin_df['discourse_nr'] == pandas_df['discourse_nr']).all()"
   ]
  }
 ],
 "metadata": {
  "kernelspec": {
   "display_name": "modin_env",
   "language": "python",
   "name": "python3"
  },
  "language_info": {
   "codemirror_mode": {
    "name": "ipython",
    "version": 3
   },
   "file_extension": ".py",
   "mimetype": "text/x-python",
   "name": "python",
   "nbconvert_exporter": "python",
   "pygments_lexer": "ipython3",
   "version": "3.10.6"
  },
  "orig_nbformat": 4,
  "vscode": {
   "interpreter": {
    "hash": "43c543fca5f3a799ecd45653622d4fbfc41f8d33c65907b2d8962b3afc37f2d7"
   }
  }
 },
 "nbformat": 4,
 "nbformat_minor": 2
}
