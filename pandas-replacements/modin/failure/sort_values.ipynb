{
 "cells": [
  {
   "cell_type": "code",
   "execution_count": 1,
   "metadata": {},
   "outputs": [
    {
     "name": "stderr",
     "output_type": "stream",
     "text": [
      "2022-12-25 01:48:02,002\tINFO worker.py:1528 -- Started a local Ray instance.\n"
     ]
    }
   ],
   "source": [
    "import utils\n",
    "%include preamble.py"
   ]
  },
  {
   "cell_type": "code",
   "execution_count": 2,
   "metadata": {},
   "outputs": [],
   "source": [
    "modin_df, pandas_df = utils.get_two_dfs(\"../../datasets/yellow_tripdata_2015-01.csv\")"
   ]
  },
  {
   "cell_type": "code",
   "execution_count": 3,
   "metadata": {},
   "outputs": [
    {
     "name": "stderr",
     "output_type": "stream",
     "text": [
      "UserWarning: sort_values is not currently supported by PandasOnRay, defaulting to pandas implementation.\n",
      "Please refer to https://modin.readthedocs.io/en/stable/supported_apis/defaulting_to_pandas.html for explanation.\n"
     ]
    },
    {
     "name": "stdout",
     "output_type": "stream",
     "text": [
      "         VendorID tpep_pickup_datetime tpep_dropoff_datetime  passenger_count  \\\n",
      "1488441         2  2015-01-27 05:00:26   2015-01-27 05:03:26                2   \n",
      "1440874         2  2015-01-27 04:01:58   2015-01-27 04:11:58                2   \n",
      "8398001         1  2015-01-16 11:05:51   2015-01-16 11:30:22                1   \n",
      "3263783         1  2015-01-09 19:53:01   2015-01-09 20:05:54                1   \n",
      "6088791         1  2015-01-08 08:19:21   2015-01-08 08:31:31                3   \n",
      "\n",
      "         trip_distance  pickup_longitude  pickup_latitude  RateCodeID  \\\n",
      "1488441            0.0       -121.925812        37.372154           1   \n",
      "1440874            0.0       -121.925812        37.372154           1   \n",
      "8398001            4.1       -119.314651        59.504623           1   \n",
      "3263783            2.5       -108.165337        42.396538           1   \n",
      "6088791            1.5       -105.759560        56.952297           1   \n",
      "\n",
      "        store_and_fwd_flag  dropoff_longitude  dropoff_latitude  payment_type  \\\n",
      "1488441                  N           0.000000          0.000000             2   \n",
      "1440874                  N           0.000000          0.000000             2   \n",
      "8398001                  N         -74.009033         40.711014             2   \n",
      "3263783                  N         -73.993912         40.770569             2   \n",
      "6088791                  N         -73.981636         40.747051             2   \n",
      "\n",
      "         fare_amount  extra  mta_tax  tip_amount  tolls_amount  \\\n",
      "1488441          1.8    0.0      0.5         0.0           0.0   \n",
      "1440874          1.9    0.0      0.0         0.0           0.0   \n",
      "8398001         17.5    0.0      0.5         0.0           0.0   \n",
      "3263783         12.0    1.0      0.5         0.0           0.0   \n",
      "6088791          9.0    0.0      0.5         0.0           0.0   \n",
      "\n",
      "         improvement_surcharge  total_amount  \n",
      "1488441                    0.3           2.6  \n",
      "1440874                    0.0           1.9  \n",
      "8398001                    0.3          18.3  \n",
      "3263783                    0.3          13.8  \n",
      "6088791                    0.3           9.8  \n"
     ]
    }
   ],
   "source": [
    "%%time_cell\n",
    "x = modin_df.sort_values('pickup_longitude')\n",
    "# Tigger computation, Modin is lazy.\n",
    "print(x.head())"
   ]
  },
  {
   "cell_type": "code",
   "execution_count": 4,
   "metadata": {},
   "outputs": [
    {
     "name": "stdout",
     "output_type": "stream",
     "text": [
      "Modin time: 49.0s\n"
     ]
    }
   ],
   "source": [
    "modin_time = _TIMED_CELL\n",
    "print(f\"Modin time: {modin_time:.1f}s\")"
   ]
  },
  {
   "cell_type": "code",
   "execution_count": 5,
   "metadata": {},
   "outputs": [
    {
     "name": "stdout",
     "output_type": "stream",
     "text": [
      "         VendorID tpep_pickup_datetime tpep_dropoff_datetime  passenger_count  \\\n",
      "1488441         2  2015-01-27 05:00:26   2015-01-27 05:03:26                2   \n",
      "1440874         2  2015-01-27 04:01:58   2015-01-27 04:11:58                2   \n",
      "8398001         1  2015-01-16 11:05:51   2015-01-16 11:30:22                1   \n",
      "3263783         1  2015-01-09 19:53:01   2015-01-09 20:05:54                1   \n",
      "6088791         1  2015-01-08 08:19:21   2015-01-08 08:31:31                3   \n",
      "\n",
      "         trip_distance  pickup_longitude  pickup_latitude  RateCodeID  \\\n",
      "1488441            0.0       -121.925812        37.372154           1   \n",
      "1440874            0.0       -121.925812        37.372154           1   \n",
      "8398001            4.1       -119.314651        59.504623           1   \n",
      "3263783            2.5       -108.165337        42.396538           1   \n",
      "6088791            1.5       -105.759560        56.952297           1   \n",
      "\n",
      "        store_and_fwd_flag  dropoff_longitude  dropoff_latitude  payment_type  \\\n",
      "1488441                  N           0.000000          0.000000             2   \n",
      "1440874                  N           0.000000          0.000000             2   \n",
      "8398001                  N         -74.009033         40.711014             2   \n",
      "3263783                  N         -73.993912         40.770569             2   \n",
      "6088791                  N         -73.981636         40.747051             2   \n",
      "\n",
      "         fare_amount  extra  mta_tax  tip_amount  tolls_amount  \\\n",
      "1488441          1.8    0.0      0.5         0.0           0.0   \n",
      "1440874          1.9    0.0      0.0         0.0           0.0   \n",
      "8398001         17.5    0.0      0.5         0.0           0.0   \n",
      "3263783         12.0    1.0      0.5         0.0           0.0   \n",
      "6088791          9.0    0.0      0.5         0.0           0.0   \n",
      "\n",
      "         improvement_surcharge  total_amount  \n",
      "1488441                    0.3           2.6  \n",
      "1440874                    0.0           1.9  \n",
      "8398001                    0.3          18.3  \n",
      "3263783                    0.3          13.8  \n",
      "6088791                    0.3           9.8  \n"
     ]
    }
   ],
   "source": [
    "%%time_cell\n",
    "y = pandas_df.sort_values('pickup_longitude')\n",
    "print(y.head())"
   ]
  },
  {
   "cell_type": "code",
   "execution_count": 6,
   "metadata": {},
   "outputs": [
    {
     "name": "stdout",
     "output_type": "stream",
     "text": [
      "Pandas time: 12.0s\n"
     ]
    }
   ],
   "source": [
    "pandas_time = _TIMED_CELL\n",
    "print(f\"Pandas time: {pandas_time:.1f}s\")"
   ]
  },
  {
   "cell_type": "code",
   "execution_count": 7,
   "metadata": {},
   "outputs": [
    {
     "data": {
      "text/markdown": [
       "### Modin is 4.1x slower."
      ],
      "text/plain": [
       "<IPython.core.display.Markdown object>"
      ]
     },
     "metadata": {},
     "output_type": "display_data"
    }
   ],
   "source": [
    "slowdown = modin_time / pandas_time\n",
    "utils.print_md(f\"### Modin is {slowdown:.1f}x slower.\")"
   ]
  }
 ],
 "metadata": {
  "kernelspec": {
   "display_name": "modin_env",
   "language": "python",
   "name": "python3"
  },
  "language_info": {
   "codemirror_mode": {
    "name": "ipython",
    "version": 3
   },
   "file_extension": ".py",
   "mimetype": "text/x-python",
   "name": "python",
   "nbconvert_exporter": "python",
   "pygments_lexer": "ipython3",
   "version": "3.10.6 (main, Nov 14 2022, 16:10:14) [GCC 11.3.0]"
  },
  "orig_nbformat": 4,
  "vscode": {
   "interpreter": {
    "hash": "43c543fca5f3a799ecd45653622d4fbfc41f8d33c65907b2d8962b3afc37f2d7"
   }
  }
 },
 "nbformat": 4,
 "nbformat_minor": 2
}
