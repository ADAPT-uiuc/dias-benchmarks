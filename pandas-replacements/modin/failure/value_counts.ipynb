{
 "cells": [
  {
   "cell_type": "code",
   "execution_count": 1,
   "metadata": {},
   "outputs": [
    {
     "name": "stderr",
     "output_type": "stream",
     "text": [
      "2022-12-25 02:09:55,423\tINFO worker.py:1528 -- Started a local Ray instance.\n"
     ]
    }
   ],
   "source": [
    "import utils\n",
    "%include preamble.py"
   ]
  },
  {
   "cell_type": "code",
   "execution_count": 2,
   "metadata": {},
   "outputs": [],
   "source": [
    "modin_df, pandas_df = utils.get_two_dfs(\"../../datasets/yellow_tripdata_2015-01.csv\")"
   ]
  },
  {
   "cell_type": "code",
   "execution_count": 3,
   "metadata": {},
   "outputs": [
    {
     "name": "stderr",
     "output_type": "stream",
     "text": [
      "UserWarning: sort_values is not currently supported by PandasOnRay, defaulting to pandas implementation.\n",
      "Please refer to https://modin.readthedocs.io/en/stable/supported_apis/defaulting_to_pandas.html for explanation.\n"
     ]
    },
    {
     "name": "stdout",
     "output_type": "stream",
     "text": [
      "VendorID  tpep_pickup_datetime  tpep_dropoff_datetime  passenger_count  trip_distance  pickup_longitude  pickup_latitude  RateCodeID  store_and_fwd_flag  dropoff_longitude  dropoff_latitude  payment_type  fare_amount  extra  mta_tax  tip_amount  tolls_amount  improvement_surcharge  total_amount\n",
      "2         2015-01-05 09:39:49   2015-01-05 09:39:52    1                0.00            0.000000         0.000000         1           N                    0.000000          0.000000          2             2.5          0.0    0.5      0.00        0.0           0.3                    3.30            92\n",
      "          2015-01-12 19:02:27   2015-01-12 19:04:07    1                0.00            0.000000         0.000000         1           N                    0.000000          0.000000          2             2.1          0.0    0.5      0.00        0.0           0.3                    2.90            33\n",
      "          2015-01-12 18:55:17   2015-01-12 18:56:27    1                0.00            0.000000         0.000000         1           N                    0.000000          0.000000          2             2.1          0.0    0.5      0.00        0.0           0.3                    2.90            32\n",
      "          2015-01-14 13:33:20   2015-01-14 13:35:19    1                0.00            0.000000         0.000000         1           N                    0.000000          0.000000          2             2.1          0.0    0.5      0.00        0.0           0.3                    2.90            21\n",
      "          2015-01-14 13:26:46   2015-01-14 13:27:24    1                0.00            0.000000         0.000000         1           N                    0.000000          0.000000          2             2.0          0.0    0.5      0.00        0.0           0.3                    2.80            21\n",
      "                                                                                                                                                                                                                                                                                                           ..\n",
      "1         2015-01-22 08:30:21   2015-01-22 08:47:01    1                2.70           -73.963303        40.793682        1           N                   -73.980194         40.761913         1             13.0         0.0    0.5      2.75        0.0           0.3                    16.55            1\n",
      "          2015-01-22 08:30:22   2015-01-22 08:38:02    1                1.30           -73.977280        40.752533        1           N                   -73.993301         40.747398         1             7.5          0.0    0.5      2.01        0.0           0.3                    10.31            1\n",
      "                                2015-01-22 08:41:44    1                1.70           -73.986748        40.743092        1           N                   -73.969528         40.761635         1             9.5          0.0    0.5      2.05        0.0           0.3                    12.35            1\n",
      "                                2015-01-22 08:43:13    1                1.70           -73.999329        40.744019        1           N                   -73.981361         40.758972         1             10.0         0.0    0.5      2.15        0.0           0.3                    12.95            1\n",
      "2         2015-01-31 23:59:59   2015-02-01 00:25:54    3                3.26           -73.971092        40.755676        1           N                   -73.995338         40.717506         1             17.5         0.5    0.5      2.00        0.0           0.3                    20.80            1\n",
      "Length: 12748600, dtype: int64\n"
     ]
    }
   ],
   "source": [
    "%%time_cell\n",
    "# Trigger computation. Modin is lazy.\n",
    "print(modin_df.value_counts())"
   ]
  },
  {
   "cell_type": "code",
   "execution_count": 4,
   "metadata": {},
   "outputs": [
    {
     "name": "stdout",
     "output_type": "stream",
     "text": [
      "Modin time: 223.4s\n"
     ]
    }
   ],
   "source": [
    "modin_time = _TIMED_CELL\n",
    "print(f\"Modin time: {modin_time:.1f}s\")"
   ]
  },
  {
   "cell_type": "code",
   "execution_count": 5,
   "metadata": {},
   "outputs": [
    {
     "name": "stdout",
     "output_type": "stream",
     "text": [
      "VendorID  tpep_pickup_datetime  tpep_dropoff_datetime  passenger_count  trip_distance  pickup_longitude  pickup_latitude  RateCodeID  store_and_fwd_flag  dropoff_longitude  dropoff_latitude  payment_type  fare_amount  extra  mta_tax  tip_amount  tolls_amount  improvement_surcharge  total_amount\n",
      "2         2015-01-05 09:39:49   2015-01-05 09:39:52    1                0.00            0.000000         0.000000         1           N                    0.000000          0.000000          2             2.5          0.0    0.5      0.00        0.0           0.3                    3.30            92\n",
      "          2015-01-12 19:02:27   2015-01-12 19:04:07    1                0.00            0.000000         0.000000         1           N                    0.000000          0.000000          2             2.1          0.0    0.5      0.00        0.0           0.3                    2.90            33\n",
      "          2015-01-12 18:55:17   2015-01-12 18:56:27    1                0.00            0.000000         0.000000         1           N                    0.000000          0.000000          2             2.1          0.0    0.5      0.00        0.0           0.3                    2.90            32\n",
      "          2015-01-14 13:33:20   2015-01-14 13:35:19    1                0.00            0.000000         0.000000         1           N                    0.000000          0.000000          2             2.1          0.0    0.5      0.00        0.0           0.3                    2.90            21\n",
      "          2015-01-14 13:26:46   2015-01-14 13:27:24    1                0.00            0.000000         0.000000         1           N                    0.000000          0.000000          2             2.0          0.0    0.5      0.00        0.0           0.3                    2.80            21\n",
      "                                                                                                                                                                                                                                                                                                           ..\n",
      "1         2015-01-22 08:30:21   2015-01-22 08:47:01    1                2.70           -73.963303        40.793682        1           N                   -73.980194         40.761913         1             13.0         0.0    0.5      2.75        0.0           0.3                    16.55            1\n",
      "          2015-01-22 08:30:22   2015-01-22 08:38:02    1                1.30           -73.977280        40.752533        1           N                   -73.993301         40.747398         1             7.5          0.0    0.5      2.01        0.0           0.3                    10.31            1\n",
      "                                2015-01-22 08:41:44    1                1.70           -73.986748        40.743092        1           N                   -73.969528         40.761635         1             9.5          0.0    0.5      2.05        0.0           0.3                    12.35            1\n",
      "                                2015-01-22 08:43:13    1                1.70           -73.999329        40.744019        1           N                   -73.981361         40.758972         1             10.0         0.0    0.5      2.15        0.0           0.3                    12.95            1\n",
      "2         2015-01-31 23:59:59   2015-02-01 00:25:54    3                3.26           -73.971092        40.755676        1           N                   -73.995338         40.717506         1             17.5         0.5    0.5      2.00        0.0           0.3                    20.80            1\n",
      "Length: 12748600, dtype: int64\n"
     ]
    }
   ],
   "source": [
    "%%time_cell\n",
    "print(pandas_df.value_counts())"
   ]
  },
  {
   "cell_type": "code",
   "execution_count": 6,
   "metadata": {},
   "outputs": [
    {
     "name": "stdout",
     "output_type": "stream",
     "text": [
      "Pandas time: 43.8s\n"
     ]
    }
   ],
   "source": [
    "pandas_time = _TIMED_CELL\n",
    "print(f\"Pandas time: {pandas_time:.1f}s\")"
   ]
  },
  {
   "cell_type": "code",
   "execution_count": 7,
   "metadata": {},
   "outputs": [
    {
     "data": {
      "text/markdown": [
       "### Modin is 5.1x slower."
      ],
      "text/plain": [
       "<IPython.core.display.Markdown object>"
      ]
     },
     "metadata": {},
     "output_type": "display_data"
    }
   ],
   "source": [
    "slowdown = modin_time / pandas_time\n",
    "utils.print_md(f\"### Modin is {slowdown:.1f}x slower.\")"
   ]
  }
 ],
 "metadata": {
  "kernelspec": {
   "display_name": "modin_env",
   "language": "python",
   "name": "python3"
  },
  "language_info": {
   "codemirror_mode": {
    "name": "ipython",
    "version": 3
   },
   "file_extension": ".py",
   "mimetype": "text/x-python",
   "name": "python",
   "nbconvert_exporter": "python",
   "pygments_lexer": "ipython3",
   "version": "3.10.6 (main, Nov 14 2022, 16:10:14) [GCC 11.3.0]"
  },
  "orig_nbformat": 4,
  "vscode": {
   "interpreter": {
    "hash": "43c543fca5f3a799ecd45653622d4fbfc41f8d33c65907b2d8962b3afc37f2d7"
   }
  }
 },
 "nbformat": 4,
 "nbformat_minor": 2
}
