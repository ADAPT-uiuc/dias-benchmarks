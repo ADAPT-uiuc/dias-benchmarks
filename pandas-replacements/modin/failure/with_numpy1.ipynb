{
 "cells": [
  {
   "attachments": {},
   "cell_type": "markdown",
   "id": "8669ac5a",
   "metadata": {},
   "source": [
    "## Interaction with NumPy - `np.count_nonzero()`\n",
    "Interacting with numpy seems to cause slowdowns."
   ]
  },
  {
   "cell_type": "code",
   "execution_count": 1,
   "id": "97b245e5",
   "metadata": {
    "slideshow": {
     "slide_type": "slide"
    }
   },
   "outputs": [
    {
     "name": "stderr",
     "output_type": "stream",
     "text": [
      "2022-12-24 05:59:45,627\tINFO worker.py:1528 -- Started a local Ray instance.\n"
     ]
    }
   ],
   "source": [
    "import utils\n",
    "%include preamble.py"
   ]
  },
  {
   "cell_type": "code",
   "execution_count": 2,
   "id": "48b99754",
   "metadata": {},
   "outputs": [],
   "source": [
    "modin_df, pandas_df = utils.get_two_dfs(\"../../datasets/yellow_tripdata_2015-01.csv\")"
   ]
  },
  {
   "cell_type": "code",
   "execution_count": 3,
   "id": "efaf1bb5",
   "metadata": {},
   "outputs": [
    {
     "name": "stdout",
     "output_type": "stream",
     "text": [
      "Modin time: 31.1s\n"
     ]
    }
   ],
   "source": [
    "modin_time, modin_count = %my_time np.count_nonzero(modin_df)\n",
    "print(f\"Modin time: {modin_time:.1f}s\")"
   ]
  },
  {
   "cell_type": "code",
   "execution_count": 4,
   "id": "0495c893",
   "metadata": {},
   "outputs": [
    {
     "name": "stdout",
     "output_type": "stream",
     "text": [
      "Pandas time: 15.0s\n"
     ]
    }
   ],
   "source": [
    "pandas_time, pandas_count = %my_time np.count_nonzero(pandas_df)\n",
    "print(f\"Pandas time: {pandas_time:.1f}s\")"
   ]
  },
  {
   "cell_type": "code",
   "execution_count": 5,
   "id": "460770bc",
   "metadata": {},
   "outputs": [
    {
     "data": {
      "text/markdown": [
       "### Modin is 2.1x slower."
      ],
      "text/plain": [
       "<IPython.core.display.Markdown object>"
      ]
     },
     "metadata": {},
     "output_type": "display_data"
    }
   ],
   "source": [
    "slowdown = modin_time / pandas_time\n",
    "utils.print_md(f\"### Modin is {slowdown:.1f}x slower.\")"
   ]
  },
  {
   "cell_type": "code",
   "execution_count": 6,
   "id": "a61b43e2",
   "metadata": {},
   "outputs": [],
   "source": [
    "assert pandas_count == modin_count"
   ]
  }
 ],
 "metadata": {
  "kernelspec": {
   "display_name": "modin_env",
   "language": "python",
   "name": "python3"
  },
  "language_info": {
   "codemirror_mode": {
    "name": "ipython",
    "version": 3
   },
   "file_extension": ".py",
   "mimetype": "text/x-python",
   "name": "python",
   "nbconvert_exporter": "python",
   "pygments_lexer": "ipython3",
   "version": "3.10.6"
  },
  "vscode": {
   "interpreter": {
    "hash": "43c543fca5f3a799ecd45653622d4fbfc41f8d33c65907b2d8962b3afc37f2d7"
   }
  }
 },
 "nbformat": 4,
 "nbformat_minor": 5
}
