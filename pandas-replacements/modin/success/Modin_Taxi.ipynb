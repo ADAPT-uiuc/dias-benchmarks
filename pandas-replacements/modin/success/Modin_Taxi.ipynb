{
 "cells": [
  {
   "cell_type": "code",
   "execution_count": 1,
   "id": "193fa1bc",
   "metadata": {},
   "outputs": [],
   "source": [
    "NUM_CPUS = 12\n",
    "ENGINE = \"ray\"\n",
    "ENGINE = \"dask\""
   ]
  },
  {
   "cell_type": "code",
   "execution_count": 2,
   "id": "cc4bd9e9",
   "metadata": {
    "slideshow": {
     "slide_type": "skip"
    }
   },
   "outputs": [],
   "source": [
    "from modin.config import Engine, CpuCount\n",
    "Engine.put(ENGINE)\n",
    "CpuCount.put(NUM_CPUS)\n",
    "\n",
    "if ENGINE == \"ray\":\n",
    "  import ray\n",
    "  # NOTE: We suppress ray warnings\n",
    "  ray.init(num_cpus=NUM_CPUS, runtime_env={'env_vars': {'__MODIN_AUTOIMPORT_PANDAS__': '1'}}, log_to_driver=False)\n",
    "else:\n",
    "  assert ENGINE == \"dask\"\n",
    "  from dask.distributed import Client\n",
    "  client = Client(n_workers=12)\n",
    "\n",
    "from modin.config import BenchmarkMode\n",
    "BenchmarkMode.put(True)"
   ]
  },
  {
   "cell_type": "code",
   "execution_count": 3,
   "id": "97b245e5",
   "metadata": {
    "slideshow": {
     "slide_type": "slide"
    }
   },
   "outputs": [],
   "source": [
    "import modin.pandas as pd"
   ]
  },
  {
   "cell_type": "code",
   "execution_count": 4,
   "id": "b65b121c",
   "metadata": {
    "slideshow": {
     "slide_type": "slide"
    }
   },
   "outputs": [
    {
     "name": "stdout",
     "output_type": "stream",
     "text": [
      "CPU times: user 450 ms, sys: 29.3 ms, total: 479 ms\n",
      "Wall time: 3.93 s\n"
     ]
    }
   ],
   "source": [
    "%time df = pd.read_csv(\"../../datasets/yellow_tripdata_2015-01.csv\", parse_dates=[\"tpep_pickup_datetime\", \"tpep_dropoff_datetime\"], quoting=3)"
   ]
  },
  {
   "cell_type": "code",
   "execution_count": 5,
   "id": "c48193b2",
   "metadata": {
    "slideshow": {
     "slide_type": "slide"
    }
   },
   "outputs": [
    {
     "name": "stdout",
     "output_type": "stream",
     "text": [
      "CPU times: user 83.2 ms, sys: 0 ns, total: 83.2 ms\n",
      "Wall time: 218 ms\n"
     ]
    }
   ],
   "source": [
    "%time isnull = df.isnull()"
   ]
  },
  {
   "cell_type": "code",
   "execution_count": 6,
   "id": "1d32ed7c",
   "metadata": {
    "slideshow": {
     "slide_type": "slide"
    }
   },
   "outputs": [
    {
     "name": "stdout",
     "output_type": "stream",
     "text": [
      "CPU times: user 84.4 ms, sys: 0 ns, total: 84.4 ms\n",
      "Wall time: 411 ms\n"
     ]
    }
   ],
   "source": [
    "%time rounded_trip_distance = df[[\"pickup_longitude\"]].applymap(round)"
   ]
  },
  {
   "cell_type": "code",
   "execution_count": null,
   "id": "3ef271dc",
   "metadata": {},
   "outputs": [],
   "source": []
  }
 ],
 "metadata": {
  "kernelspec": {
   "display_name": "modin_env",
   "language": "python",
   "name": "python3"
  },
  "language_info": {
   "codemirror_mode": {
    "name": "ipython",
    "version": 3
   },
   "file_extension": ".py",
   "mimetype": "text/x-python",
   "name": "python",
   "nbconvert_exporter": "python",
   "pygments_lexer": "ipython3",
   "version": "3.10.6"
  },
  "vscode": {
   "interpreter": {
    "hash": "43c543fca5f3a799ecd45653622d4fbfc41f8d33c65907b2d8962b3afc37f2d7"
   }
  }
 },
 "nbformat": 4,
 "nbformat_minor": 5
}
