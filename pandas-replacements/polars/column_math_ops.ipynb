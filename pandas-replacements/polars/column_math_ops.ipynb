{
 "cells": [
  {
   "attachments": {},
   "cell_type": "markdown",
   "metadata": {},
   "source": [
    "## Summary\n",
    "\n",
    "PolaRS seems about the same as Pandas, sometimes even faster. I think any slowdowns we see are due to going to Rust and because PolaRS has a query optimizer. Given that a cell will probably have some more computation, which can be computed faster than eagerly, I think PolaRS should be at least about the same as Pandas.\n",
    "\n",
    "Also, interestingly, for these simple operations, the PolaRS API agrees with the Pandas one."
   ]
  },
  {
   "cell_type": "code",
   "execution_count": 1,
   "metadata": {},
   "outputs": [],
   "source": [
    "!export POLARS_MAX_THREADS=12"
   ]
  },
  {
   "cell_type": "code",
   "execution_count": 2,
   "metadata": {},
   "outputs": [],
   "source": [
    "import pandas as pd\n",
    "import numpy as np\n",
    "import polars as pl\n",
    "import utils\n",
    "\n",
    "polars_df = pl.read_csv(\"../datasets/yellow_tripdata_2015-01.csv\")\n",
    "pandas_df = pd.read_csv('../datasets/yellow_tripdata_2015-01.csv')"
   ]
  },
  {
   "attachments": {},
   "cell_type": "markdown",
   "metadata": {},
   "source": [
    "## Example 1 - Math Ops Series to Series"
   ]
  },
  {
   "cell_type": "code",
   "execution_count": 3,
   "metadata": {},
   "outputs": [
    {
     "name": "stdout",
     "output_type": "stream",
     "text": [
      "shape: (4,)\n",
      "Series: 'pickup_longitude' [f64]\n",
      "[\n",
      "\t-33.243786\n",
      "\t-33.277405\n",
      "\t-33.160553\n",
      "\t-33.295269\n",
      "] shape: (4,)\n",
      "Series: 'pickup_longitude' [f64]\n",
      "[\n",
      "\t-33.254559\n",
      "\t-33.229774\n",
      "\t-33.261082\n",
      "\t-33.193951\n",
      "]\n"
     ]
    }
   ],
   "source": [
    "%%time_cell\n",
    "x = polars_df['pickup_longitude'] + polars_df['pickup_latitude']\n",
    "print(x[:4], x[-4:])"
   ]
  },
  {
   "cell_type": "code",
   "execution_count": 4,
   "metadata": {},
   "outputs": [
    {
     "name": "stdout",
     "output_type": "stream",
     "text": [
      "PolaRS time: 0.2s\n"
     ]
    }
   ],
   "source": [
    "polars_time = _TIMED_CELL\n",
    "print(f\"PolaRS time: {polars_time:.1f}s\")"
   ]
  },
  {
   "cell_type": "code",
   "execution_count": 5,
   "metadata": {},
   "outputs": [
    {
     "name": "stdout",
     "output_type": "stream",
     "text": [
      "0          -33.243786\n",
      "1          -33.277405\n",
      "2          -33.160553\n",
      "3          -33.295269\n",
      "4          -33.208748\n",
      "              ...    \n",
      "12748981   -33.165771\n",
      "12748982   -33.254559\n",
      "12748983   -33.229774\n",
      "12748984   -33.261082\n",
      "12748985   -33.193951\n",
      "Length: 12748986, dtype: float64\n"
     ]
    }
   ],
   "source": [
    "%%time_cell\n",
    "y = pandas_df['pickup_longitude'] + pandas_df['pickup_latitude']\n",
    "print(y)"
   ]
  },
  {
   "cell_type": "code",
   "execution_count": 6,
   "metadata": {},
   "outputs": [
    {
     "name": "stdout",
     "output_type": "stream",
     "text": [
      "Pandas time: 0.0s\n"
     ]
    }
   ],
   "source": [
    "pandas_time = _TIMED_CELL\n",
    "print(f\"Pandas time: {pandas_time:.1f}s\")"
   ]
  },
  {
   "cell_type": "code",
   "execution_count": 7,
   "metadata": {},
   "outputs": [
    {
     "data": {
      "text/markdown": [
       "### PolaRS is 7.6x slower."
      ],
      "text/plain": [
       "<IPython.core.display.Markdown object>"
      ]
     },
     "metadata": {},
     "output_type": "display_data"
    }
   ],
   "source": [
    "slowdown = polars_time / pandas_time\n",
    "utils.print_md(f\"### PolaRS is {slowdown:.1f}x slower.\")"
   ]
  },
  {
   "attachments": {},
   "cell_type": "markdown",
   "metadata": {},
   "source": [
    "## Example 2 - Math Ops Series to Constant"
   ]
  },
  {
   "cell_type": "code",
   "execution_count": 8,
   "metadata": {},
   "outputs": [
    {
     "name": "stdout",
     "output_type": "stream",
     "text": [
      "shape: (4,)\n",
      "Series: 'pickup_longitude' [f64]\n",
      "[\n",
      "\t-147.987793\n",
      "\t-148.003296\n",
      "\t-147.926682\n",
      "\t-148.018173\n",
      "] shape: (4,)\n",
      "Series: 'pickup_longitude' [f64]\n",
      "[\n",
      "\t-147.965485\n",
      "\t-147.958649\n",
      "\t-147.99913\n",
      "\t-147.9207\n",
      "]\n"
     ]
    }
   ],
   "source": [
    "%%time_cell\n",
    "x = polars_df['pickup_longitude'] * 2\n",
    "print(x[:4], x[-4:])"
   ]
  },
  {
   "cell_type": "code",
   "execution_count": 9,
   "metadata": {},
   "outputs": [
    {
     "name": "stdout",
     "output_type": "stream",
     "text": [
      "PolaRS time: 0.1s\n"
     ]
    }
   ],
   "source": [
    "polars_time = _TIMED_CELL\n",
    "print(f\"PolaRS time: {polars_time:.1f}s\")"
   ]
  },
  {
   "cell_type": "code",
   "execution_count": 10,
   "metadata": {},
   "outputs": [
    {
     "name": "stdout",
     "output_type": "stream",
     "text": [
      "0          -147.987793\n",
      "1          -148.003296\n",
      "2          -147.926682\n",
      "3          -148.018173\n",
      "4          -147.942352\n",
      "               ...    \n",
      "12748981   -147.903976\n",
      "12748982   -147.965485\n",
      "12748983   -147.958649\n",
      "12748984   -147.999130\n",
      "12748985   -147.920700\n",
      "Name: pickup_longitude, Length: 12748986, dtype: float64\n"
     ]
    }
   ],
   "source": [
    "%%time_cell\n",
    "y = pandas_df['pickup_longitude'] * 2\n",
    "print(y)"
   ]
  },
  {
   "cell_type": "code",
   "execution_count": 11,
   "metadata": {},
   "outputs": [
    {
     "name": "stdout",
     "output_type": "stream",
     "text": [
      "Pandas time: 0.0s\n"
     ]
    }
   ],
   "source": [
    "pandas_time = _TIMED_CELL\n",
    "print(f\"Pandas time: {pandas_time:.1f}s\")"
   ]
  },
  {
   "cell_type": "code",
   "execution_count": 12,
   "metadata": {},
   "outputs": [
    {
     "data": {
      "text/markdown": [
       "### PolaRS is 2.6x slower."
      ],
      "text/plain": [
       "<IPython.core.display.Markdown object>"
      ]
     },
     "metadata": {},
     "output_type": "display_data"
    }
   ],
   "source": [
    "slowdown = polars_time / pandas_time\n",
    "utils.print_md(f\"### PolaRS is {slowdown:.1f}x slower.\")"
   ]
  },
  {
   "attachments": {},
   "cell_type": "markdown",
   "metadata": {},
   "source": [
    "## Example 3 - Compare Series to Series"
   ]
  },
  {
   "cell_type": "code",
   "execution_count": 13,
   "metadata": {},
   "outputs": [],
   "source": [
    "%%time_cell\n",
    "x = polars_df['pickup_longitude'] < polars_df['pickup_latitude']\n",
    "assert x.any()"
   ]
  },
  {
   "cell_type": "code",
   "execution_count": 14,
   "metadata": {},
   "outputs": [
    {
     "name": "stdout",
     "output_type": "stream",
     "text": [
      "PolaRS time: 0.0s\n"
     ]
    }
   ],
   "source": [
    "polars_time = _TIMED_CELL\n",
    "print(f\"PolaRS time: {polars_time:.1f}s\")"
   ]
  },
  {
   "cell_type": "code",
   "execution_count": 15,
   "metadata": {},
   "outputs": [],
   "source": [
    "%%time_cell\n",
    "y = pandas_df['pickup_longitude'] < pandas_df['pickup_latitude']\n",
    "assert y.any()"
   ]
  },
  {
   "cell_type": "code",
   "execution_count": 16,
   "metadata": {},
   "outputs": [
    {
     "name": "stdout",
     "output_type": "stream",
     "text": [
      "Pandas time: 0.0s\n"
     ]
    }
   ],
   "source": [
    "pandas_time = _TIMED_CELL\n",
    "print(f\"Pandas time: {pandas_time:.1f}s\")"
   ]
  },
  {
   "cell_type": "code",
   "execution_count": 17,
   "metadata": {},
   "outputs": [
    {
     "data": {
      "text/markdown": [
       "### PolaRS is 1.2x slower."
      ],
      "text/plain": [
       "<IPython.core.display.Markdown object>"
      ]
     },
     "metadata": {},
     "output_type": "display_data"
    }
   ],
   "source": [
    "slowdown = polars_time / pandas_time\n",
    "utils.print_md(f\"### PolaRS is {slowdown:.1f}x slower.\")"
   ]
  },
  {
   "attachments": {},
   "cell_type": "markdown",
   "metadata": {},
   "source": [
    "## Example 4 - Compare Series to Constant"
   ]
  },
  {
   "cell_type": "code",
   "execution_count": 18,
   "metadata": {},
   "outputs": [],
   "source": [
    "%%time_cell\n",
    "x = polars_df['pickup_longitude'] < 2.3\n",
    "assert x.any()"
   ]
  },
  {
   "cell_type": "code",
   "execution_count": 19,
   "metadata": {},
   "outputs": [
    {
     "name": "stdout",
     "output_type": "stream",
     "text": [
      "PolaRS time: 0.0s\n"
     ]
    }
   ],
   "source": [
    "polars_time = _TIMED_CELL\n",
    "print(f\"PolaRS time: {polars_time:.1f}s\")"
   ]
  },
  {
   "cell_type": "code",
   "execution_count": 20,
   "metadata": {},
   "outputs": [
    {
     "name": "stdout",
     "output_type": "stream",
     "text": [
      "0           True\n",
      "1           True\n",
      "2           True\n",
      "3           True\n",
      "4           True\n",
      "            ... \n",
      "12748981    True\n",
      "12748982    True\n",
      "12748983    True\n",
      "12748984    True\n",
      "12748985    True\n",
      "Name: pickup_longitude, Length: 12748986, dtype: bool\n"
     ]
    }
   ],
   "source": [
    "%%time_cell\n",
    "y = pandas_df['pickup_longitude'] < 2.3\n",
    "print(y)"
   ]
  },
  {
   "cell_type": "code",
   "execution_count": 21,
   "metadata": {},
   "outputs": [
    {
     "name": "stdout",
     "output_type": "stream",
     "text": [
      "Pandas time: 0.0s\n"
     ]
    }
   ],
   "source": [
    "pandas_time = _TIMED_CELL\n",
    "print(f\"Pandas time: {pandas_time:.1f}s\")"
   ]
  },
  {
   "cell_type": "code",
   "execution_count": 22,
   "metadata": {},
   "outputs": [
    {
     "data": {
      "text/markdown": [
       "### PolaRS is 1.0x slower."
      ],
      "text/plain": [
       "<IPython.core.display.Markdown object>"
      ]
     },
     "metadata": {},
     "output_type": "display_data"
    }
   ],
   "source": [
    "slowdown = polars_time / pandas_time\n",
    "utils.print_md(f\"### PolaRS is {slowdown:.1f}x slower.\")"
   ]
  },
  {
   "attachments": {},
   "cell_type": "markdown",
   "metadata": {},
   "source": [
    "## Example 5 - Unary Reductions 1"
   ]
  },
  {
   "cell_type": "code",
   "execution_count": 23,
   "metadata": {},
   "outputs": [
    {
     "name": "stdout",
     "output_type": "stream",
     "text": [
      "10.12510359296947\n"
     ]
    }
   ],
   "source": [
    "%%time_cell\n",
    "x = polars_df['pickup_longitude'].std()\n",
    "print(x)"
   ]
  },
  {
   "cell_type": "code",
   "execution_count": 24,
   "metadata": {},
   "outputs": [
    {
     "name": "stdout",
     "output_type": "stream",
     "text": [
      "PolaRS time: 0.1s\n"
     ]
    }
   ],
   "source": [
    "polars_time = _TIMED_CELL\n",
    "print(f\"PolaRS time: {polars_time:.1f}s\")"
   ]
  },
  {
   "cell_type": "code",
   "execution_count": 25,
   "metadata": {},
   "outputs": [
    {
     "name": "stdout",
     "output_type": "stream",
     "text": [
      "10.125103592972902\n"
     ]
    }
   ],
   "source": [
    "%%time_cell\n",
    "y = pandas_df['pickup_longitude'].std()\n",
    "print(y)"
   ]
  },
  {
   "cell_type": "code",
   "execution_count": 26,
   "metadata": {},
   "outputs": [
    {
     "name": "stdout",
     "output_type": "stream",
     "text": [
      "Pandas time: 0.1s\n"
     ]
    }
   ],
   "source": [
    "pandas_time = _TIMED_CELL\n",
    "print(f\"Pandas time: {pandas_time:.1f}s\")"
   ]
  },
  {
   "cell_type": "code",
   "execution_count": 27,
   "metadata": {},
   "outputs": [
    {
     "data": {
      "text/markdown": [
       "### PolaRS is 0.9x slower."
      ],
      "text/plain": [
       "<IPython.core.display.Markdown object>"
      ]
     },
     "metadata": {},
     "output_type": "display_data"
    }
   ],
   "source": [
    "slowdown = polars_time / pandas_time\n",
    "utils.print_md(f\"### PolaRS is {slowdown:.1f}x slower.\")"
   ]
  },
  {
   "attachments": {},
   "cell_type": "markdown",
   "metadata": {},
   "source": [
    "## Example 6 - Unary Reductions 2\n",
    "\n",
    "Koalas fails here! See `value_counts.ipynb`. Same effect, same reason. We will again use `VendorID`."
   ]
  },
  {
   "cell_type": "code",
   "execution_count": 28,
   "metadata": {},
   "outputs": [
    {
     "name": "stdout",
     "output_type": "stream",
     "text": [
      "shape: (2,)\n",
      "Series: 'VendorID' [i64]\n",
      "[\n",
      "\t1\n",
      "\t2\n",
      "]\n"
     ]
    }
   ],
   "source": [
    "%%time_cell\n",
    "x = polars_df[\"VendorID\"].unique()\n",
    "print(x)"
   ]
  },
  {
   "cell_type": "code",
   "execution_count": 29,
   "metadata": {},
   "outputs": [
    {
     "name": "stdout",
     "output_type": "stream",
     "text": [
      "PolaRS time: 0.2s\n"
     ]
    }
   ],
   "source": [
    "polars_time = _TIMED_CELL\n",
    "print(f\"PolaRS time: {polars_time:.1f}s\")"
   ]
  },
  {
   "cell_type": "code",
   "execution_count": 30,
   "metadata": {},
   "outputs": [
    {
     "name": "stdout",
     "output_type": "stream",
     "text": [
      "[2 1]\n"
     ]
    }
   ],
   "source": [
    "%%time_cell\n",
    "y = pandas_df[\"VendorID\"].unique()\n",
    "print(y)"
   ]
  },
  {
   "cell_type": "code",
   "execution_count": 31,
   "metadata": {},
   "outputs": [
    {
     "name": "stdout",
     "output_type": "stream",
     "text": [
      "Pandas time: 0.1s\n"
     ]
    }
   ],
   "source": [
    "pandas_time = _TIMED_CELL\n",
    "print(f\"Pandas time: {pandas_time:.1f}s\")"
   ]
  },
  {
   "cell_type": "code",
   "execution_count": 32,
   "metadata": {},
   "outputs": [
    {
     "data": {
      "text/markdown": [
       "### PolaRS is 3.1x slower."
      ],
      "text/plain": [
       "<IPython.core.display.Markdown object>"
      ]
     },
     "metadata": {},
     "output_type": "display_data"
    }
   ],
   "source": [
    "slowdown = polars_time / pandas_time\n",
    "utils.print_md(f\"### PolaRS is {slowdown:.1f}x slower.\")"
   ]
  }
 ],
 "metadata": {
  "kernelspec": {
   "display_name": "PolaRS-Kernel",
   "language": "python",
   "name": "polars_env"
  },
  "language_info": {
   "codemirror_mode": {
    "name": "ipython",
    "version": 3
   },
   "file_extension": ".py",
   "mimetype": "text/x-python",
   "name": "python",
   "nbconvert_exporter": "python",
   "pygments_lexer": "ipython3",
   "version": "3.10.6"
  },
  "orig_nbformat": 4,
  "vscode": {
   "interpreter": {
    "hash": "43c543fca5f3a799ecd45653622d4fbfc41f8d33c65907b2d8962b3afc37f2d7"
   }
  }
 },
 "nbformat": 4,
 "nbformat_minor": 2
}
