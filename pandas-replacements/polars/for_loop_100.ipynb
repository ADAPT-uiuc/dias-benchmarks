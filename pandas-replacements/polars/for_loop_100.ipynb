{
 "cells": [
  {
   "attachments": {},
   "cell_type": "markdown",
   "metadata": {},
   "source": [
    "## Comments\n",
    "\n",
    "PolaRS is quite slower than Pandas but still faster than all other frameworks. Notice that we're doing 100 iterations. 100 iterations in the other frameworks would take _a lot_ more than 3.2s."
   ]
  },
  {
   "cell_type": "code",
   "execution_count": 1,
   "metadata": {},
   "outputs": [],
   "source": [
    "!export POLARS_MAX_THREADS=12"
   ]
  },
  {
   "cell_type": "code",
   "execution_count": 2,
   "metadata": {},
   "outputs": [],
   "source": [
    "import pandas as pd\n",
    "import numpy as np\n",
    "import polars as pl\n",
    "import utils\n",
    "\n",
    "polars_df = pl.read_csv(\"../datasets/yellow_tripdata_2015-01.csv\")\n",
    "pandas_df = pd.read_csv('../datasets/yellow_tripdata_2015-01.csv')\n",
    "NUM_ITERATIONS = 100"
   ]
  },
  {
   "cell_type": "code",
   "execution_count": 3,
   "metadata": {},
   "outputs": [],
   "source": [
    "%%time_cell\n",
    "\n",
    "# Taken from: erikbruin/nlp-on-student-writing-eda\n",
    "\n",
    "# The PolRS API starts being a bit weird here.\n",
    "polars_df = polars_df.with_column(pl.lit(1).alias('discourse_nr'))\n",
    "counter = 1\n",
    "\n",
    "for i in range(1, NUM_ITERATIONS):\n",
    "  if polars_df[i, 'VendorID'] == polars_df[i-1, 'VendorID']:\n",
    "    counter += 1\n",
    "    polars_df[i, 'discourse_nr'] = counter\n",
    "  else:\n",
    "    counter = 1\n",
    "    polars_df[i, 'discourse_nr'] = counter"
   ]
  },
  {
   "cell_type": "code",
   "execution_count": 4,
   "metadata": {},
   "outputs": [
    {
     "name": "stdout",
     "output_type": "stream",
     "text": [
      "PolaRS time: 3.1s\n"
     ]
    }
   ],
   "source": [
    "polars_time = _TIMED_CELL\n",
    "print(f\"PolaRS time: {polars_time:.1f}s\")"
   ]
  },
  {
   "cell_type": "code",
   "execution_count": 5,
   "metadata": {},
   "outputs": [],
   "source": [
    "%%time_cell\n",
    "\n",
    "# Taken from: erikbruin/nlp-on-student-writing-eda\n",
    "\n",
    "pandas_df['discourse_nr'] = 1\n",
    "counter = 1\n",
    "\n",
    "for i in range(1, NUM_ITERATIONS):\n",
    "  if pandas_df.loc[i, 'VendorID'] == pandas_df.loc[i-1, 'VendorID']:\n",
    "    counter += 1\n",
    "    pandas_df.loc[i, 'discourse_nr'] = counter\n",
    "  else:\n",
    "    counter = 1\n",
    "    pandas_df.loc[i, 'discourse_nr'] = counter"
   ]
  },
  {
   "cell_type": "code",
   "execution_count": 6,
   "metadata": {},
   "outputs": [
    {
     "name": "stdout",
     "output_type": "stream",
     "text": [
      "Pandas time: 0.0s\n"
     ]
    }
   ],
   "source": [
    "pandas_time = _TIMED_CELL\n",
    "print(f\"Pandas time: {pandas_time:.1f}s\")"
   ]
  },
  {
   "cell_type": "code",
   "execution_count": 7,
   "metadata": {},
   "outputs": [
    {
     "data": {
      "text/markdown": [
       "### PolaRS is 99.7x slower."
      ],
      "text/plain": [
       "<IPython.core.display.Markdown object>"
      ]
     },
     "metadata": {},
     "output_type": "display_data"
    }
   ],
   "source": [
    "slowdown = polars_time / pandas_time\n",
    "utils.print_md(f\"### PolaRS is {slowdown:.1f}x slower.\")"
   ]
  },
  {
   "cell_type": "code",
   "execution_count": 8,
   "metadata": {},
   "outputs": [],
   "source": [
    "# Had to do .to_pandas()\n",
    "assert (polars_df['discourse_nr'].to_pandas() == pandas_df['discourse_nr']).all()"
   ]
  }
 ],
 "metadata": {
  "kernelspec": {
   "display_name": "PolaRS-Kernel",
   "language": "python",
   "name": "polars_env"
  },
  "language_info": {
   "codemirror_mode": {
    "name": "ipython",
    "version": 3
   },
   "file_extension": ".py",
   "mimetype": "text/x-python",
   "name": "python",
   "nbconvert_exporter": "python",
   "pygments_lexer": "ipython3",
   "version": "3.10.6"
  },
  "orig_nbformat": 4,
  "vscode": {
   "interpreter": {
    "hash": "43c543fca5f3a799ecd45653622d4fbfc41f8d33c65907b2d8962b3afc37f2d7"
   }
  }
 },
 "nbformat": 4,
 "nbformat_minor": 2
}
