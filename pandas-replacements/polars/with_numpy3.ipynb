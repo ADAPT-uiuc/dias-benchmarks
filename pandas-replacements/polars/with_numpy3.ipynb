{
 "cells": [
  {
   "attachments": {},
   "cell_type": "markdown",
   "id": "8669ac5a",
   "metadata": {},
   "source": [
    "## Comments\n",
    "\n",
    "We see a small slowdown here but this is probably only because PolaRS-to-Numpy conversion is not as fast as for Pandas or sth."
   ]
  },
  {
   "cell_type": "code",
   "execution_count": 1,
   "id": "f600558a",
   "metadata": {},
   "outputs": [],
   "source": [
    "!export POLARS_MAX_THREADS=12"
   ]
  },
  {
   "cell_type": "code",
   "execution_count": 2,
   "id": "97b245e5",
   "metadata": {
    "slideshow": {
     "slide_type": "slide"
    }
   },
   "outputs": [],
   "source": [
    "import pandas as pd\n",
    "import numpy as np\n",
    "import polars as pl\n",
    "import utils\n",
    "\n",
    "polars_df = pl.read_csv(\"../datasets/yellow_tripdata_2015-01.csv\")\n",
    "pandas_df = pd.read_csv('../datasets/yellow_tripdata_2015-01.csv')"
   ]
  },
  {
   "cell_type": "code",
   "execution_count": 3,
   "id": "8d7eaa88",
   "metadata": {},
   "outputs": [
    {
     "name": "stdout",
     "output_type": "stream",
     "text": [
      "[10 10 10 ... 10 10 10]\n"
     ]
    }
   ],
   "source": [
    "%%time_cell\n",
    "polars_arr = np.where(polars_df['pickup_longitude'] < polars_df['pickup_latitude'], 10, 20)\n",
    "print(polars_arr)"
   ]
  },
  {
   "cell_type": "code",
   "execution_count": 4,
   "id": "bf87418c",
   "metadata": {},
   "outputs": [
    {
     "name": "stdout",
     "output_type": "stream",
     "text": [
      "PolaRS time: 0.2s\n"
     ]
    }
   ],
   "source": [
    "polars_time = _TIMED_CELL\n",
    "print(f\"PolaRS time: {polars_time:.1f}s\")"
   ]
  },
  {
   "cell_type": "code",
   "execution_count": 5,
   "id": "96cfb614",
   "metadata": {},
   "outputs": [
    {
     "name": "stdout",
     "output_type": "stream",
     "text": [
      "[10 10 10 ... 10 10 10]\n"
     ]
    }
   ],
   "source": [
    "%%time_cell\n",
    "pandas_arr = np.where(pandas_df['pickup_longitude'] < pandas_df['pickup_latitude'], 10, 20)\n",
    "print(pandas_arr)"
   ]
  },
  {
   "cell_type": "code",
   "execution_count": 6,
   "id": "8297b0c3",
   "metadata": {},
   "outputs": [
    {
     "name": "stdout",
     "output_type": "stream",
     "text": [
      "Pandas time: 0.064s\n"
     ]
    }
   ],
   "source": [
    "pandas_time = _TIMED_CELL\n",
    "print(f\"Pandas time: {pandas_time:.3f}s\")"
   ]
  },
  {
   "cell_type": "code",
   "execution_count": 7,
   "id": "8adab7c1",
   "metadata": {},
   "outputs": [
    {
     "data": {
      "text/markdown": [
       "### PolaRS is 3.0x slower."
      ],
      "text/plain": [
       "<IPython.core.display.Markdown object>"
      ]
     },
     "metadata": {},
     "output_type": "display_data"
    }
   ],
   "source": [
    "slowdown = polars_time / pandas_time\n",
    "utils.print_md(f\"### PolaRS is {slowdown:.1f}x slower.\")"
   ]
  },
  {
   "cell_type": "code",
   "execution_count": 8,
   "id": "1a4bb3ea",
   "metadata": {},
   "outputs": [],
   "source": [
    "assert (polars_arr == pandas_arr).all()"
   ]
  }
 ],
 "metadata": {
  "kernelspec": {
   "display_name": "PolaRS-Kernel",
   "language": "python",
   "name": "polars_env"
  },
  "language_info": {
   "codemirror_mode": {
    "name": "ipython",
    "version": 3
   },
   "file_extension": ".py",
   "mimetype": "text/x-python",
   "name": "python",
   "nbconvert_exporter": "python",
   "pygments_lexer": "ipython3",
   "version": "3.10.6"
  },
  "vscode": {
   "interpreter": {
    "hash": "43c543fca5f3a799ecd45653622d4fbfc41f8d33c65907b2d8962b3afc37f2d7"
   }
  }
 },
 "nbformat": 4,
 "nbformat_minor": 5
}
