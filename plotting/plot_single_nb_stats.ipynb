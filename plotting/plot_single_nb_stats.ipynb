{
 "cells": [
  {
   "cell_type": "code",
   "execution_count": 1,
   "id": "8a795577",
   "metadata": {},
   "outputs": [],
   "source": [
    "import pandas as pd\n",
    "import numpy as np\n",
    "import json\n",
    "import os\n",
    "from scipy import stats\n",
    "import matplotlib.pyplot as plt\n",
    "import matplotlib\n",
    "import seaborn as sns"
   ]
  },
  {
   "cell_type": "code",
   "execution_count": 2,
   "id": "1aaa3607",
   "metadata": {},
   "outputs": [],
   "source": [
    "sns.set_palette(\"colorblind\")"
   ]
  },
  {
   "cell_type": "code",
   "execution_count": 3,
   "id": "b6050bb5",
   "metadata": {},
   "outputs": [],
   "source": [
    "def ns_to_ms(ns):\n",
    "  return ns / 1_000_000"
   ]
  },
  {
   "cell_type": "markdown",
   "id": "3acfe739",
   "metadata": {},
   "source": [
    "## Data Loading"
   ]
  },
  {
   "cell_type": "code",
   "execution_count": 4,
   "id": "7ea28972",
   "metadata": {},
   "outputs": [],
   "source": [
    "pwd = \".\"\n",
    "figs_dir = \"./figs\"\n",
    "!mkdir -p figs"
   ]
  },
  {
   "cell_type": "code",
   "execution_count": 5,
   "id": "195972f0",
   "metadata": {},
   "outputs": [],
   "source": [
    "def read_json(path):\n",
    "  fp = open(path, 'r')\n",
    "  nb_stats = json.load(fp)\n",
    "  fp.close()\n",
    "  return nb_stats"
   ]
  },
  {
   "cell_type": "code",
   "execution_count": 6,
   "id": "b9f5fd77",
   "metadata": {},
   "outputs": [],
   "source": [
    "filepath = \"roopahegde_cryptocurrency-price-correlation\"\n",
    "\n",
    "modin_path = \"../../../stats/modin_256MB/\" + filepath + \".json\"\n",
    "pandas_path = \"../../../stats/pandas_256MB/\" + filepath + \".json\"\n",
    "\n",
    "modin_stats = read_json(modin_path)\n",
    "pandas_stats = read_json(pandas_path)\n",
    "\n",
    "assert len(modin_stats['cells']) == len(pandas_stats['cells'])\n",
    "d = {'Code': [], 'Pandas Time': [], 'Modin Time': []}\n",
    "for i in range(len(pandas_stats['cells'])):\n",
    "  pd_cell = pandas_stats['cells'][i]\n",
    "  modin_cell = modin_stats['cells'][i]\n",
    "  # The cell that imports is different for the pandas and modin versions\n",
    "  if \"import pandas\" not in pd_cell['raw']:\n",
    "    assert pd_cell['raw'] == modin_cell['raw']\n",
    "  d['Code'].append(pd_cell['raw'])\n",
    "  d['Pandas Time'].append(ns_to_ms(pd_cell['total-ns']))\n",
    "  d['Modin Time'].append(ns_to_ms(modin_cell['total-ns']))"
   ]
  },
  {
   "cell_type": "code",
   "execution_count": 7,
   "id": "de985984",
   "metadata": {},
   "outputs": [],
   "source": [
    "df = pd.DataFrame(d)"
   ]
  },
  {
   "cell_type": "markdown",
   "id": "995745c4",
   "metadata": {},
   "source": [
    "## Stats"
   ]
  },
  {
   "cell_type": "code",
   "execution_count": 8,
   "id": "ec9caf49",
   "metadata": {},
   "outputs": [],
   "source": [
    "abs_diff = df['Pandas Time'] - df['Modin Time']\n",
    "rel_diff = df['Pandas Time'] / df['Modin Time']"
   ]
  },
  {
   "cell_type": "code",
   "execution_count": 9,
   "id": "83aaa004",
   "metadata": {},
   "outputs": [
    {
     "data": {
      "text/plain": [
       "9    10556.599401\n",
       "dtype: float64"
      ]
     },
     "execution_count": 9,
     "metadata": {},
     "output_type": "execute_result"
    }
   ],
   "source": [
    "abs_diff[abs_diff > 200]"
   ]
  },
  {
   "cell_type": "code",
   "execution_count": 10,
   "id": "bcf0419d",
   "metadata": {},
   "outputs": [
    {
     "data": {
      "text/plain": [
       "9     116.128015\n",
       "10      3.571899\n",
       "dtype: float64"
      ]
     },
     "execution_count": 10,
     "metadata": {},
     "output_type": "execute_result"
    }
   ],
   "source": [
    "rel_diff[rel_diff > 1.1]"
   ]
  },
  {
   "cell_type": "code",
   "execution_count": 11,
   "id": "01579e46",
   "metadata": {},
   "outputs": [
    {
     "data": {
      "text/plain": [
       "<AxesSubplot:xlabel='Notebook index', ylabel='Time (ms)'>"
      ]
     },
     "execution_count": 11,
     "metadata": {},
     "output_type": "execute_result"
    },
    {
     "data": {
      "image/png": "[encoded data removed]",
      "text/plain": [
       "<Figure size 640x480 with 1 Axes>"
      ]
     },
     "metadata": {},
     "output_type": "display_data"
    }
   ],
   "source": [
    "abs_diff.plot(kind='bar', xlabel='Notebook index', ylabel=\"Time (ms)\")"
   ]
  },
  {
   "cell_type": "code",
   "execution_count": 14,
   "id": "5a6f6932",
   "metadata": {},
   "outputs": [
    {
     "name": "stdout",
     "output_type": "stream",
     "text": [
      "12\n",
      "#get all the records in bitcoin dataset but not in ethereum dataset\n",
      "btc_master[~(btc_master['Date'].isin(eth_master[\"Date\"]))]\n",
      "14\n",
      "#get all the records in litecoin dataset but not in bitcoin dataset\n",
      "ltc_master[~(ltc_master['Date'].isin(btc_master[\"Date\"]))].count()\n",
      "15\n",
      "#get all the records in litecoin dataset but not in ethereum dataset\n",
      "ltc_master[~(ltc_master['Date'].isin(eth_master[\"Date\"]))].count()\n",
      "16\n",
      "#Loose the time information\n",
      "btc_master['Date'] = btc_master['Date'].dt.date\n",
      "\n",
      "#Aggregate by date\n",
      "btc_grouped = pd.pivot_table(btc_master, values=['Close', 'Volume'], index=['Date'],\n",
      "                    aggfunc={'Close': np.mean,\n",
      "                             'Volume': np.sum})\n",
      "\n",
      "btc_grouped.head()\n",
      "18\n",
      "#Loose the time information\n",
      "eth_master['Date'] = eth_master['Date'].dt.date\n",
      "\n",
      "#Aggregate by date\n",
      "eth_grouped = pd.pivot_table(eth_master, values=['Close', 'Volume'], index=['Date'],\n",
      "                    aggfunc={'Close': np.mean,\n",
      "                             'Volume': np.sum})\n",
      "eth_grouped.head()\n",
      "20\n",
      "#Loose the time information\n",
      "ltc_master['Date'] = ltc_master['Date'].dt.date\n",
      "\n",
      "#Aggregate by date\n",
      "ltc_grouped = pd.pivot_table(ltc_master, values=['Close', 'Volume'], index=['Date'],\n",
      "                    aggfunc={'Close': np.mean,\n",
      "                             'Volume': np.sum})\n",
      "ltc_grouped.head()\n"
     ]
    }
   ],
   "source": [
    "# If we want to check the code of a notebook\n",
    "print(12)\n",
    "print(df.iloc[11]['Code'])\n",
    "print(14)\n",
    "print(df.iloc[13]['Code'])\n",
    "print(15)\n",
    "print(df.iloc[14]['Code'])\n",
    "print(16)\n",
    "print(df.iloc[15]['Code'])\n",
    "print(18)\n",
    "print(df.iloc[17]['Code'])\n",
    "print(20)\n",
    "print(df.iloc[19]['Code'])\n"
   ]
  },
  {
   "cell_type": "code",
   "execution_count": null,
   "id": "f02d6ffc",
   "metadata": {},
   "outputs": [],
   "source": []
  }
 ],
 "metadata": {
  "kernelspec": {
   "display_name": "Python 3 (ipykernel)",
   "language": "python",
   "name": "python3"
  },
  "language_info": {
   "codemirror_mode": {
    "name": "ipython",
    "version": 3
   },
   "file_extension": ".py",
   "mimetype": "text/x-python",
   "name": "python",
   "nbconvert_exporter": "python",
   "pygments_lexer": "ipython3",
   "version": "3.9.13"
  }
 },
 "nbformat": 4,
 "nbformat_minor": 5
}
