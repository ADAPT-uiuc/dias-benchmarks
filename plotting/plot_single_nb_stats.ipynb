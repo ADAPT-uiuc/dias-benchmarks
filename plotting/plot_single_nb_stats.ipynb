{
 "cells": [
  {
   "cell_type": "code",
   "execution_count": null,
   "id": "8a795577",
   "metadata": {},
   "outputs": [],
   "source": [
    "import pandas as pd\n",
    "import numpy as np\n",
    "import json\n",
    "import os\n",
    "from scipy import stats\n",
    "import matplotlib.pyplot as plt\n",
    "import matplotlib\n",
    "import seaborn as sns"
   ]
  },
  {
   "cell_type": "code",
   "execution_count": null,
   "id": "1aaa3607",
   "metadata": {},
   "outputs": [],
   "source": [
    "sns.set_palette(\"colorblind\")"
   ]
  },
  {
   "cell_type": "code",
   "execution_count": null,
   "id": "b6050bb5",
   "metadata": {},
   "outputs": [],
   "source": [
    "def ns_to_ms(ns):\n",
    "  return ns / 1_000_000"
   ]
  },
  {
   "cell_type": "markdown",
   "id": "3acfe739",
   "metadata": {},
   "source": [
    "## Data Loading"
   ]
  },
  {
   "cell_type": "code",
   "execution_count": null,
   "id": "7ea28972",
   "metadata": {},
   "outputs": [],
   "source": [
    "pwd = \".\"\n",
    "figs_dir = \"./figs\"\n",
    "!mkdir -p figs"
   ]
  },
  {
   "cell_type": "code",
   "execution_count": null,
   "id": "195972f0",
   "metadata": {},
   "outputs": [],
   "source": [
    "def read_json(path):\n",
    "  fp = open(path, 'r')\n",
    "  nb_stats = json.load(fp)\n",
    "  fp.close()\n",
    "  return nb_stats"
   ]
  },
  {
   "cell_type": "code",
   "execution_count": null,
   "id": "b9f5fd77",
   "metadata": {},
   "outputs": [],
   "source": [
    "modin_path = \"stats_modin.json\"\n",
    "pandas_path = \"stats_pd.json\"\n",
    "\n",
    "modin_stats = read_json(modin_path)\n",
    "pandas_stats = read_json(pandas_path)\n",
    "\n",
    "assert len(modin_stats['cells']) == len(pandas_stats['cells'])\n",
    "d = {'Code': [], 'Pandas Time': [], 'Modin Time': []}\n",
    "for i in range(len(pandas_stats['cells'])):\n",
    "  pd_cell = pandas_stats['cells'][i]\n",
    "  modin_cell = modin_stats['cells'][i]\n",
    "  # The cell that imports is different for the pandas and modin versions\n",
    "  if \"import pandas\" not in pd_cell['raw']:\n",
    "    assert pd_cell['raw'] == modin_cell['raw']\n",
    "  d['Code'].append(pd_cell['raw'])\n",
    "  d['Pandas Time'].append(ns_to_ms(pd_cell['total-ns']))\n",
    "  d['Modin Time'].append(ns_to_ms(modin_cell['total-ns']))"
   ]
  },
  {
   "cell_type": "code",
   "execution_count": null,
   "id": "de985984",
   "metadata": {},
   "outputs": [],
   "source": [
    "df = pd.DataFrame(d)"
   ]
  },
  {
   "cell_type": "markdown",
   "id": "995745c4",
   "metadata": {},
   "source": [
    "## Stats"
   ]
  },
  {
   "cell_type": "code",
   "execution_count": null,
   "id": "ec9caf49",
   "metadata": {},
   "outputs": [],
   "source": [
    "abs_diff = df['Pandas Time'] - df['Modin Time']\n",
    "rel_diff = df['Pandas Time'] / df['Modin Time']"
   ]
  },
  {
   "cell_type": "code",
   "execution_count": null,
   "id": "83aaa004",
   "metadata": {},
   "outputs": [],
   "source": [
    "abs_diff[abs_diff > 200]"
   ]
  },
  {
   "cell_type": "code",
   "execution_count": null,
   "id": "bcf0419d",
   "metadata": {},
   "outputs": [],
   "source": [
    "rel_diff[rel_diff > 1.1]"
   ]
  },
  {
   "cell_type": "code",
   "execution_count": null,
   "id": "01579e46",
   "metadata": {},
   "outputs": [],
   "source": [
    "abs_diff.plot(kind='bar', xlabel='Notebook index', ylabel=\"Time (ms)\")"
   ]
  },
  {
   "cell_type": "code",
   "execution_count": null,
   "id": "5a6f6932",
   "metadata": {},
   "outputs": [],
   "source": [
    "# If we want to check the code of a notebook\n",
    "print(df.iloc[10]['Code'])"
   ]
  }
 ],
 "metadata": {
  "kernelspec": {
   "display_name": "Python 3 (ipykernel)",
   "language": "python",
   "name": "python3"
  },
  "language_info": {
   "codemirror_mode": {
    "name": "ipython",
    "version": 3
   },
   "file_extension": ".py",
   "mimetype": "text/x-python",
   "name": "python",
   "nbconvert_exporter": "python",
   "pygments_lexer": "ipython3",
   "version": "3.10.12"
  }
 },
 "nbformat": 4,
 "nbformat_minor": 5
}
