{
 "cells": [
  {
   "cell_type": "code",
   "execution_count": null,
   "metadata": {
    "executionInfo": {
     "elapsed": 2437,
     "status": "ok",
     "timestamp": 1675451905918,
     "user": {
      "displayName": "Stefanos Baziotis",
      "userId": "18398596100745288229"
     },
     "user_tz": 360
    },
    "id": "5rbJQHDPLstg"
   },
   "outputs": [],
   "source": [
    "import pandas as pd\n",
    "import numpy as np\n",
    "import json\n",
    "import os\n",
    "from scipy import stats\n",
    "import matplotlib.pyplot as plt\n",
    "import matplotlib\n",
    "import seaborn as sns"
   ]
  },
  {
   "cell_type": "code",
   "execution_count": null,
   "metadata": {},
   "outputs": [],
   "source": [
    "sns.set_palette(\"colorblind\")"
   ]
  },
  {
   "cell_type": "markdown",
   "metadata": {
    "id": "1LrgEYm5Mw-r"
   },
   "source": [
    "# Data Loading"
   ]
  },
  {
   "cell_type": "code",
   "execution_count": null,
   "metadata": {
    "id": "NsbnimryL2jj"
   },
   "outputs": [],
   "source": [
    "pwd = \".\"\n",
    "figs_dir = \"./figs\"\n",
    "!mkdir -p figs"
   ]
  },
  {
   "cell_type": "code",
   "execution_count": null,
   "metadata": {
    "colab": {
     "base_uri": "https://localhost:8080/"
    },
    "executionInfo": {
     "elapsed": 112,
     "status": "ok",
     "timestamp": 1675118021723,
     "user": {
      "displayName": "Stefanos Baziotis",
      "userId": "18398596100745288229"
     },
     "user_tz": 360
    },
    "id": "Mq03NF2nNkFD",
    "outputId": "833d9d27-9f3e-4a7d-a378-0ad579629531"
   },
   "outputs": [],
   "source": [
    "nbs = [\n",
    "  \"lextoumbourou/feedback3-eda-hf-custom-trainer-sift\",\n",
    "  \"paultimothymooney/kaggle-survey-2022-all-results\",\n",
    "  \"dataranch/supermarket-sales-prediction-xgboost-fastai\",\n",
    "  \"kkhandekar/environmental-vs-ai-startups-india-eda\",\n",
    "  \"ampiiere/animal-crossing-villager-popularity-analysis\",\n",
    "  \"aieducation/what-course-are-you-going-to-take\",\n",
    "  \"saisandeepjallepalli/adidas-retail-eda-data-visualization\",\n",
    "  \"joshuaswords/netflix-data-visualization\",\n",
    "  \"spscientist/student-performance-in-exams\",\n",
    "  \"ibtesama/getting-started-with-a-movie-recommendation-system\",\n",
    "\n",
    "  \"nickwan/creating-player-stats-using-tracking-data\",\n",
    "  \"erikbruin/nlp-on-student-writing-eda\",\n",
    "  \"madhurpant/beautiful-kaggle-2022-analysis\",\n",
    "  \"pmarcelino/comprehensive-data-exploration-with-python\",\n",
    "  \"gksriharsha/eda-speedtests\",\n",
    "  \"mpwolke/just-you-wait-rishi-sunak\",\n",
    "  \"sanket7994/imdb-dataset-eda-project\",\n",
    "  \"roopacalistus/retail-supermarket-store-analysis\",\n",
    "  \"sandhyakrishnan02/indian-startup-growth-analysis\",\n",
    "  \"roopacalistus/exploratory-data-analysis-retail-supermarket\"\n",
    "]\n",
    "nb_labels = [\n",
    "  \"feedb-eda-hf-sift\",\n",
    "  \"kaggle-survey-2022\",\n",
    "  \"sales-pred-xgboost\",\n",
    "  \"env-ai-startups-eda\",\n",
    "  \"animal-crossing\",\n",
    "  \"course-prediction\",\n",
    "  \"adidas-retail-eda\",\n",
    "  \"netflix-data-viz\",\n",
    "  \"student-perf\",\n",
    "  \"movie-recomm\",\n",
    "\n",
    "  \"player-stats-tracking\",\n",
    "  \"nlp-stud-writ-eda\",\n",
    "  \"kaggle-2022-analysis\",\n",
    "  \"data-expl-with-python\",\n",
    "  \"eda-speedtests\",\n",
    "  \"just-you-wait-rishi-sunak\",\n",
    "  \"imdb-dataset-eda\",\n",
    "  \"smarket-store-analysis\",\n",
    "  \"indian-startup-growth\",\n",
    "  \"eda-retail-supermarket\"\n",
    "]\n",
    "\n",
    "def only_hits_nb(df):\n",
    "  assert (type(df) == pd.DataFrame or type(df) == pd.Series)\n",
    "  return df[:10]\n",
    "\n",
    "def only_hits_cell(df):\n",
    "  assert (type(df) == pd.DataFrame or type(df) == pd.Series)\n",
    "  hits = [s for s in df.index if int(s.split('_')[1]) < 10]\n",
    "  return df.loc[hits]\n",
    "  \n",
    "\n",
    "num_runs = 10\n",
    "len(nbs)"
   ]
  },
  {
   "cell_type": "code",
   "execution_count": null,
   "metadata": {
    "id": "yPYOP_7JL3LT"
   },
   "outputs": [],
   "source": [
    "def read_stats(version, read_mem=True):\n",
    "  cell_to_all_runs = {}\n",
    "  nb_to_mem_runs = {}\n",
    "  # mem_version = \"pandas\"\n",
    "  # if read_mem and version.split('-')[2] != \"modin_OFF\":\n",
    "  #   mem_version = \"modin\"\n",
    "  for nb_idx, nb in enumerate(nbs):\n",
    "    for r in range(num_runs):\n",
    "      nb_filename = '_'.join(nb.split('/')) + '.json'\n",
    "      filepath = f\"{pwd}/{version}/s-{r}/{nb_filename}\"\n",
    "      fp = open(filepath, 'r')\n",
    "      d = json.load(fp)\n",
    "      fp.close()\n",
    "      nb_mem_key = f'NB_{nb_idx}'\n",
    "      if read_mem:\n",
    "        # Store Memory Results. One per notebook\n",
    "        try:\n",
    "          nb_to_mem_runs[nb_mem_key].append(d[f'max-mem-in-mb'])\n",
    "        except:\n",
    "          nb_to_mem_runs[nb_mem_key] = [d[f'max-mem-in-mb']]\n",
    "      # Store timing results. One per cell.\n",
    "      for c_idx, c in enumerate(d['cells']):\n",
    "        key = f\"C_{nb_idx}_{c_idx}\"\n",
    "        cell_time = c[f'wall-time']\n",
    "        try:\n",
    "          cell_to_all_runs[key].append(cell_time)\n",
    "        except:\n",
    "          cell_to_all_runs[key] = [cell_time]\n",
    "\n",
    "  ### Verify all cells have same number of timings ###\n",
    "  keys = list(cell_to_all_runs)\n",
    "  for i in range(len(keys)):\n",
    "    for j in range(i+1, len(keys)):\n",
    "      ki = keys[i]\n",
    "      kj = keys[j]\n",
    "      vi = cell_to_all_runs[ki]\n",
    "      vj = cell_to_all_runs[kj]\n",
    "      assert len(vi) == len(vj)\n",
    "\n",
    "  time_df = pd.DataFrame(cell_to_all_runs)\n",
    "  if read_mem:\n",
    "    mem_df = pd.DataFrame(nb_to_mem_runs)\n",
    "  else:\n",
    "    mem_df = None\n",
    "  return time_df, mem_df"
   ]
  },
  {
   "cell_type": "code",
   "execution_count": null,
   "metadata": {
    "id": "jzt3bvKYNYiM"
   },
   "outputs": [],
   "source": [
    "# All versions have the raw cells. Pick one at random and get the raw.\n",
    "def find_raw(cell_name):\n",
    "  spl = cell_name.split('_')\n",
    "  search_nb_idx = int(spl[1])\n",
    "  search_cell_idx = int(spl[2])\n",
    "  nb = nbs[search_nb_idx]\n",
    "  print(f\"--- {nb} ---\")\n",
    "  nb_filename = '_'.join(nb.split('/')) + '.json'\n",
    "  random_run = 4\n",
    "  filepath = f\"{pwd}/stats-rewr_OFF-modin_OFF-repl_STD-sliced_exec_ON/s-{random_run}/{nb_filename}\"\n",
    "  fp = open(filepath, 'r')\n",
    "  d = json.load(fp)\n",
    "  fp.close()\n",
    "  for c_idx, c in enumerate(d['cells']):\n",
    "    if c_idx == search_cell_idx:\n",
    "      return c['raw']\n",
    "  assert 0"
   ]
  },
  {
   "cell_type": "markdown",
   "metadata": {
    "id": "z3F1DB9YGuSu"
   },
   "source": [
    "# Rewriter vs Pandas"
   ]
  },
  {
   "cell_type": "code",
   "execution_count": null,
   "metadata": {
    "id": "Gd2x-kz5GC4X"
   },
   "outputs": [],
   "source": [
    "orig, _ = read_stats(\"stats-rewr_OFF-modin_OFF-repl_STD-sliced_exec_ON\")\n",
    "rewr, _ = read_stats(\"stats-rewr_ON-modin_OFF-repl_STD-sliced_exec_ON\")"
   ]
  },
  {
   "cell_type": "markdown",
   "metadata": {
    "id": "IATlTC-8SqUp"
   },
   "source": [
    "## Discard Very Fast Cells"
   ]
  },
  {
   "cell_type": "code",
   "execution_count": null,
   "metadata": {
    "colab": {
     "base_uri": "https://localhost:8080/"
    },
    "executionInfo": {
     "elapsed": 1245,
     "status": "ok",
     "timestamp": 1675116990089,
     "user": {
      "displayName": "Stefanos Baziotis",
      "userId": "18398596100745288229"
     },
     "user_tz": 360
    },
    "id": "6dL2BB9KSsSJ",
    "outputId": "b94cf1e7-b026-404d-f6ea-1eeea45a719e"
   },
   "outputs": [],
   "source": [
    "cells_to_drop = []\n",
    "for c in orig.columns:\n",
    "  if orig[c].mean() < 50:\n",
    "    orig = orig.drop(c, axis=1)\n",
    "    rewr = rewr.drop(c, axis=1)\n",
    "    cells_to_drop.append(c)\n",
    "\n",
    "print(len(rewr.columns))"
   ]
  },
  {
   "cell_type": "markdown",
   "metadata": {
    "id": "VjLlnBRVMyxz"
   },
   "source": [
    "## Coefficient of Variation"
   ]
  },
  {
   "cell_type": "code",
   "execution_count": null,
   "metadata": {
    "colab": {
     "base_uri": "https://localhost:8080/",
     "height": 282
    },
    "executionInfo": {
     "elapsed": 722,
     "status": "ok",
     "timestamp": 1675116990810,
     "user": {
      "displayName": "Stefanos Baziotis",
      "userId": "18398596100745288229"
     },
     "user_tz": 360
    },
    "id": "vuGRxgA-MmBt",
    "outputId": "422884e5-fb22-4d66-cac1-104c55a71cb8"
   },
   "outputs": [],
   "source": [
    "# Coefficient of variation\n",
    "def coef_of_var(df):\n",
    "  return df.apply(lambda cell: cell.std() / cell.mean())\n",
    "\n",
    "CV_orig = coef_of_var(orig)\n",
    "CV_orig.hist(bins=60, figsize=(20, 4))"
   ]
  },
  {
   "cell_type": "markdown",
   "metadata": {
    "id": "wfTSAy4oM43z"
   },
   "source": [
    "## Geomean Difference"
   ]
  },
  {
   "cell_type": "code",
   "execution_count": null,
   "metadata": {
    "colab": {
     "base_uri": "https://localhost:8080/",
     "height": 282
    },
    "executionInfo": {
     "elapsed": 826,
     "status": "ok",
     "timestamp": 1675116991634,
     "user": {
      "displayName": "Stefanos Baziotis",
      "userId": "18398596100745288229"
     },
     "user_tz": 360
    },
    "id": "PhRd-0qpM8PL",
    "outputId": "03ea7cf2-f318-4606-a0ea-343f4cdc6c05"
   },
   "outputs": [],
   "source": [
    "mean_orig = orig.apply(lambda cell: cell.mean())\n",
    "mean_rewr = rewr.apply(lambda cell: cell.mean())\n",
    "mean_diff = mean_orig - mean_rewr\n",
    "mean_df = pd.DataFrame({'Mean Diff': mean_diff})"
   ]
  },
  {
   "cell_type": "code",
   "execution_count": null,
   "metadata": {
    "id": "T-PGjNJHRrra"
   },
   "outputs": [],
   "source": [
    "mean_df['Std. Dev.'] = mean_df.apply(lambda c: orig[c.name].std(), axis=1)"
   ]
  },
  {
   "cell_type": "markdown",
   "metadata": {
    "id": "CK_EXQhSNLVE"
   },
   "source": [
    "### Largest Speedups"
   ]
  },
  {
   "cell_type": "code",
   "execution_count": null,
   "metadata": {
    "colab": {
     "base_uri": "https://localhost:8080/",
     "height": 676
    },
    "executionInfo": {
     "elapsed": 10,
     "status": "ok",
     "timestamp": 1675116991836,
     "user": {
      "displayName": "Stefanos Baziotis",
      "userId": "18398596100745288229"
     },
     "user_tz": 360
    },
    "id": "fOjREpBrNN6r",
    "outputId": "a89d2005-864b-4dd9-dac5-ba8314d5518e"
   },
   "outputs": [],
   "source": [
    "mean_df.nlargest(n=20, columns='Mean Diff')"
   ]
  },
  {
   "cell_type": "markdown",
   "metadata": {
    "id": "x_gh6X38PI8L"
   },
   "source": [
    "### Largest Slowdowns"
   ]
  },
  {
   "cell_type": "code",
   "execution_count": null,
   "metadata": {
    "colab": {
     "base_uri": "https://localhost:8080/",
     "height": 363
    },
    "executionInfo": {
     "elapsed": 8,
     "status": "ok",
     "timestamp": 1675116991987,
     "user": {
      "displayName": "Stefanos Baziotis",
      "userId": "18398596100745288229"
     },
     "user_tz": 360
    },
    "id": "t4wRb8B_PCLD",
    "outputId": "b925d6a6-e2cc-4d7a-92fc-206b16e18db2"
   },
   "outputs": [],
   "source": [
    "largest_abs_slowdowns = mean_df.nsmallest(n=10, columns='Mean Diff')\n",
    "largest_abs_slowdowns"
   ]
  },
  {
   "cell_type": "markdown",
   "metadata": {
    "id": "9PdYJClWb4g7"
   },
   "source": [
    "## Relative Speedups"
   ]
  },
  {
   "cell_type": "code",
   "execution_count": null,
   "metadata": {
    "colab": {
     "base_uri": "https://localhost:8080/",
     "height": 297
    },
    "executionInfo": {
     "elapsed": 1866,
     "status": "ok",
     "timestamp": 1675116994651,
     "user": {
      "displayName": "Stefanos Baziotis",
      "userId": "18398596100745288229"
     },
     "user_tz": 360
    },
    "id": "p_QsX5Fdb3ER",
    "outputId": "a9a62c6a-e2b3-498d-9533-16eb61dd819f"
   },
   "outputs": [],
   "source": [
    "mean_speedup = mean_orig / mean_rewr\n",
    "mean_speedup = only_hits_cell(mean_speedup)\n",
    "index_to_nums = mean_speedup.reset_index().drop('index', axis=1)\n",
    "index_to_nums = index_to_nums.sort_values(by=0)[0]\n",
    "drop_within_10_perc = index_to_nums.drop(index_to_nums[(0.9 < index_to_nums) & (index_to_nums < 1.1)].index)\n",
    "\n",
    "print(len(drop_within_10_perc))\n",
    "\n",
    "thing_to_plot = drop_within_10_perc\n",
    "ax = thing_to_plot.plot(kind=\"bar\", figsize=(20, 4) )\n",
    "\n",
    "ax.axhline(1, color='red')\n",
    "ax.axhline(2, color=(0.1, 0.2, 0.5, 0.6), dashes=(5, 2, 1, 2))\n",
    "ax.axhline(5, color=(0.1, 0.2, 0.5, 0.6), dashes=(5, 2, 1, 2))\n",
    "\n",
    "ax.yaxis.set_tick_params(labelsize=18)\n",
    "\n",
    "ax.set_xlabel(\"Cells\", fontsize=20)\n",
    "ax.set_ylabel(\"Relative Speedup\", fontsize=20)\n",
    "\n",
    "ax.set_yscale(\"log\")\n",
    "\n",
    "ax.set_xticks([])\n",
    "ax.set_yticks([0.2, 0.5, 1, 2, 5, 10, 20, 50])\n",
    "ax.get_yaxis().set_major_formatter(matplotlib.ticker.ScalarFormatter())\n",
    "# ax.set_xticks([])\n",
    "plt.savefig(f'{figs_dir}/cell_level.pdf', bbox_inches='tight')\n",
    "ax"
   ]
  },
  {
   "cell_type": "code",
   "execution_count": null,
   "metadata": {},
   "outputs": [],
   "source": [
    "only_cell_slowdowns = mean_speedup.drop(mean_speedup[(0.9 < mean_speedup)].index)\n",
    "only_cell_slowdowns = only_cell_slowdowns.sort_values()\n",
    "\n",
    "# ax = only_cell_slowdowns.plot(kind=\"bar\", figsize=(6, 2), color=(56/255, 176/255, 194/255, 1))\n",
    "# ax = only_cell_slowdowns.plot(kind=\"bar\", figsize=(8, 2), color=(183/255, 19/255, 104/255, 1))\n",
    "ax = only_cell_slowdowns.plot(kind=\"bar\", figsize=(12, 4))\n",
    "ax.set_ylabel('Relative Speedup', fontsize=17)\n",
    "ax.set_xlabel('Cells', fontsize=17)\n",
    "# ax.axhline(1, color='red')\n",
    "ax.yaxis.set_tick_params(labelsize=15)\n",
    "ax.grid(visible=True, axis='y')\n",
    "plt.ylim(top=1.0, bottom=0.6)\n",
    "ax.set_xticks([])\n",
    "ax.set_yticks([x for x in np.arange(0.6, 1.0 + 0.001, 0.1)])\n",
    "\n",
    "rects = ax.patches\n",
    "\n",
    "abs_values = [-mean_df.loc[i]['Mean Diff'] for i in only_cell_slowdowns.index]\n",
    "\n",
    "for rect, label in zip(rects, abs_values):\n",
    "    height = rect.get_height()\n",
    "    ax.text(\n",
    "        rect.get_x() + rect.get_width() / 2, height + 0.01, str(int(label)) + \"ms\", ha=\"center\", va=\"bottom\", fontsize=15\n",
    "    )\n",
    "\n",
    "\n",
    "plt.savefig(f'{figs_dir}/cells_only_slowdowns.pdf', bbox_inches='tight', pad_inches=0)\n",
    "ax"
   ]
  },
  {
   "cell_type": "code",
   "execution_count": null,
   "metadata": {
    "colab": {
     "base_uri": "https://localhost:8080/"
    },
    "executionInfo": {
     "elapsed": 7,
     "status": "ok",
     "timestamp": 1675116994651,
     "user": {
      "displayName": "Stefanos Baziotis",
      "userId": "18398596100745288229"
     },
     "user_tz": 360
    },
    "id": "fgG7_hwPdroy",
    "outputId": "ed7a1b4b-b8be-41c4-ae96-a2c4305a83c7"
   },
   "outputs": [],
   "source": [
    "mean_speedup.nlargest(10)"
   ]
  },
  {
   "cell_type": "code",
   "execution_count": null,
   "metadata": {
    "colab": {
     "base_uri": "https://localhost:8080/"
    },
    "executionInfo": {
     "elapsed": 149,
     "status": "ok",
     "timestamp": 1675116994797,
     "user": {
      "displayName": "Stefanos Baziotis",
      "userId": "18398596100745288229"
     },
     "user_tz": 360
    },
    "id": "hLVHO_bOgTHL",
    "outputId": "b348f2df-8e56-4499-d64f-9ca1ec50088d"
   },
   "outputs": [],
   "source": [
    "mean_speedup.nsmallest(10)"
   ]
  },
  {
   "cell_type": "markdown",
   "metadata": {},
   "source": [
    "## Geomean Per-Cell Relative Speedup"
   ]
  },
  {
   "cell_type": "code",
   "execution_count": null,
   "metadata": {},
   "outputs": [],
   "source": [
    "stats.gmean(mean_speedup)"
   ]
  },
  {
   "cell_type": "markdown",
   "metadata": {
    "id": "6fT3OoD1mFsF"
   },
   "source": [
    "## Whole Notebooks"
   ]
  },
  {
   "cell_type": "code",
   "execution_count": null,
   "metadata": {
    "id": "-daMVVrXnSlr"
   },
   "outputs": [],
   "source": [
    "max_nb = max([int(nb.split(\"_\")[1]) for nb in orig.columns])\n",
    "def get_whole_mean(df):\n",
    "    nb_means = []\n",
    "    for i in range(max_nb + 1):\n",
    "        # All columns (i.e., cells) of the i-th notebook\n",
    "        col_set = [col for col in df.columns if col.split(\"_\")[1] == str(i)]\n",
    "        # Sum horizontally. Each element of the resulting Series is one run of the whole notebook\n",
    "        nb_runs = df[col_set].sum(axis=1)\n",
    "        # Take the mean (across runs)\n",
    "        nb_means.append(nb_runs.mean())\n",
    "    \n",
    "    return pd.Series(nb_means)"
   ]
  },
  {
   "cell_type": "code",
   "execution_count": null,
   "metadata": {
    "id": "KdWDXtIN-QQN"
   },
   "outputs": [],
   "source": [
    "orig_whole = get_whole_mean(orig)\n",
    "rewr_whole = get_whole_mean(rewr)"
   ]
  },
  {
   "cell_type": "code",
   "execution_count": null,
   "metadata": {
    "colab": {
     "base_uri": "https://localhost:8080/",
     "height": 531
    },
    "executionInfo": {
     "elapsed": 709,
     "status": "ok",
     "timestamp": 1675117605511,
     "user": {
      "displayName": "Stefanos Baziotis",
      "userId": "18398596100745288229"
     },
     "user_tz": 360
    },
    "id": "0c39lVihuH1K",
    "outputId": "76d383b6-73e8-416a-9eca-824e1be7a9b5"
   },
   "outputs": [],
   "source": [
    "mean_whole_speedup = orig_whole / rewr_whole\n",
    "\n",
    "mean_whole_speedup = only_hits_nb(mean_whole_speedup)\n",
    "\n",
    "new_index = []\n",
    "for nb_idx in mean_whole_speedup.index:\n",
    "  new_index.append(nb_labels[nb_idx])\n",
    "mean_whole_speedup.index = pd.Series(new_index)\n",
    "\n",
    "to_plot_sorted = mean_whole_speedup.sort_values()\n",
    "ax = to_plot_sorted.plot(kind=\"bar\", figsize=(10, 6) )\n",
    "ax.set_ylabel('Relative Speedup', fontsize=20)\n",
    "ax.set_xlabel('Notebooks', fontsize=20)\n",
    "ax.axhline(1, color='red')\n",
    "ax.grid(visible=True, axis='y')\n",
    "ax.yaxis.set_tick_params(labelsize=18)\n",
    "plt.xticks(rotation=70, fontsize=14)\n",
    "plt.savefig(f'{figs_dir}/nb_level.pdf', bbox_inches='tight')\n",
    "ax"
   ]
  },
  {
   "cell_type": "code",
   "execution_count": null,
   "metadata": {},
   "outputs": [],
   "source": [
    "mean_whole_speedup.sort_values()"
   ]
  },
  {
   "cell_type": "markdown",
   "metadata": {},
   "source": [
    "## Geomean Per-NB Relative Speedup"
   ]
  },
  {
   "cell_type": "code",
   "execution_count": null,
   "metadata": {},
   "outputs": [],
   "source": [
    "stats.gmean(mean_whole_speedup)"
   ]
  },
  {
   "cell_type": "markdown",
   "metadata": {
    "id": "1iQMjGF4LmlI"
   },
   "source": [
    "# Compare with Modin"
   ]
  },
  {
   "cell_type": "code",
   "execution_count": null,
   "metadata": {
    "id": "dJHzzqN-LvkI"
   },
   "outputs": [],
   "source": [
    "base_less_repl, mem_base = read_stats(\"stats-rewr_OFF-modin_OFF-repl_LESS-sliced_exec_ON\")\n",
    "rewr_less_repl, mem_rewr = read_stats(\"stats-rewr_ON-modin_OFF-repl_LESS-sliced_exec_ON\")\n",
    "modin_12, mem_modin12 = read_stats(\"stats-rewr_OFF-modin_12-repl_LESS-sliced_exec_ON\")\n",
    "modin_8, mem_modin8 = read_stats(\"stats-rewr_OFF-modin_8-repl_LESS-sliced_exec_ON\")\n",
    "modin_4, mem_modin4 = read_stats(\"stats-rewr_OFF-modin_4-repl_LESS-sliced_exec_ON\")"
   ]
  },
  {
   "cell_type": "code",
   "execution_count": null,
   "metadata": {
    "colab": {
     "base_uri": "https://localhost:8080/",
     "height": 333
    },
    "executionInfo": {
     "elapsed": 759,
     "status": "ok",
     "timestamp": 1675117134859,
     "user": {
      "displayName": "Stefanos Baziotis",
      "userId": "18398596100745288229"
     },
     "user_tz": 360
    },
    "id": "zQpBgZqxMFUR",
    "outputId": "a46157ba-96dd-4c78-c6e9-90c493aecf6e"
   },
   "outputs": [],
   "source": [
    "_mod_mean_base = base_less_repl.apply(lambda cell: cell.mean())\n",
    "_mod_mean_rewr = rewr_less_repl.apply(lambda cell: cell.mean())\n",
    "_mod_mean_modin12 = modin_12.apply(lambda cell: cell.mean())\n",
    "_mod_mean_modin8 = modin_8.apply(lambda cell: cell.mean())\n",
    "_mod_mean_modin4 = modin_4.apply(lambda cell: cell.mean())\n",
    "\n",
    "\n",
    "_mod_rewr_diff = _mod_mean_base - _mod_mean_rewr\n",
    "_mod_modin12_diff = _mod_mean_base - _mod_mean_modin12\n",
    "_mod_mean_df = pd.DataFrame({'Mean Rewr': _mod_rewr_diff, 'Mean Modin-12': _mod_modin12_diff})"
   ]
  },
  {
   "cell_type": "code",
   "execution_count": null,
   "metadata": {
    "colab": {
     "base_uri": "https://localhost:8080/",
     "height": 363
    },
    "executionInfo": {
     "elapsed": 7,
     "status": "ok",
     "timestamp": 1675117134859,
     "user": {
      "displayName": "Stefanos Baziotis",
      "userId": "18398596100745288229"
     },
     "user_tz": 360
    },
    "id": "7AlGDuYuNVcQ",
    "outputId": "6a81b9d9-2f9b-4e02-a768-2be3c1a5944e"
   },
   "outputs": [],
   "source": [
    "_mod_mean_df.nlargest(n=10, columns='Mean Modin-12')"
   ]
  },
  {
   "cell_type": "code",
   "execution_count": null,
   "metadata": {},
   "outputs": [],
   "source": [
    "(_mod_mean_modin12 / _mod_mean_rewr).max()"
   ]
  },
  {
   "cell_type": "markdown",
   "metadata": {
    "id": "gvFWjA8D2WfH"
   },
   "source": [
    "## Whole Notebooks"
   ]
  },
  {
   "cell_type": "code",
   "execution_count": null,
   "metadata": {
    "id": "hvaII2_L2YOO"
   },
   "outputs": [],
   "source": [
    "_mod_base_whole = get_whole_mean(base_less_repl)\n",
    "_mod_rewr_whole = get_whole_mean(rewr_less_repl)\n",
    "_mod_mod12_whole = get_whole_mean(modin_12)\n",
    "_mod_mod8_whole = get_whole_mean(modin_8)\n",
    "_mod_mod4_whole = get_whole_mean(modin_4)"
   ]
  },
  {
   "cell_type": "code",
   "execution_count": null,
   "metadata": {
    "colab": {
     "base_uri": "https://localhost:8080/",
     "height": 422
    },
    "executionInfo": {
     "elapsed": 1214,
     "status": "ok",
     "timestamp": 1675117137961,
     "user": {
      "displayName": "Stefanos Baziotis",
      "userId": "18398596100745288229"
     },
     "user_tz": 360
    },
    "id": "deqhJGKG2oQg",
    "outputId": "1c3b9077-38de-40da-ec35-2030513bb694"
   },
   "outputs": [],
   "source": [
    "_mod_gmean_rewr_whole_speedup = _mod_base_whole / _mod_rewr_whole\n",
    "_mod_gmean_mod12_whole_speedup = _mod_base_whole / _mod_mod12_whole\n",
    "_mod_gmean_mod8_whole_speedup = _mod_base_whole / _mod_mod8_whole\n",
    "_mod_gmean_mod4_whole_speedup = _mod_base_whole / _mod_mod4_whole\n",
    "whole_nb_df = pd.DataFrame({'Dias': _mod_gmean_rewr_whole_speedup, \n",
    "                            'Modin-4': _mod_gmean_mod4_whole_speedup,\n",
    "                            'Modin-8': _mod_gmean_mod8_whole_speedup,\n",
    "                            'Modin-12': _mod_gmean_mod12_whole_speedup\n",
    "                            })\n",
    "\n",
    "whole_nb_df = only_hits_nb(whole_nb_df)\n",
    "\n",
    "new_index = []\n",
    "for nb_idx in whole_nb_df.index:\n",
    "  new_index.append(nb_labels[nb_idx])\n",
    "whole_nb_df = whole_nb_df.set_index(pd.Series(new_index))\n",
    "\n",
    "\n",
    "ax = whole_nb_df.plot(kind=\"bar\", width=0.7, figsize=(20, 4) )\n",
    "ax.set_ylabel('Relative Speedup', fontsize=20)\n",
    "ax.set_xlabel('Notebooks', fontsize=20)\n",
    "ax.axhline(1, color='red')\n",
    "ax.set_yticks([x for x in np.arange(0, 3.6, 0.5)])\n",
    "ax.grid(visible=True, axis='y')\n",
    "ax.yaxis.set_tick_params(labelsize=20)\n",
    "ax.legend(fontsize=20)\n",
    "plt.xticks(rotation=70, fontsize=14)\n",
    "plt.savefig(f'{figs_dir}/modin_nb.pdf', bbox_inches='tight')\n",
    "ax"
   ]
  },
  {
   "cell_type": "markdown",
   "metadata": {},
   "source": [
    "## Summary Numbers vs Modin"
   ]
  },
  {
   "cell_type": "code",
   "execution_count": null,
   "metadata": {},
   "outputs": [],
   "source": [
    "speedup_vs_modin = (_mod_mod12_whole / _mod_rewr_whole)"
   ]
  },
  {
   "cell_type": "code",
   "execution_count": null,
   "metadata": {},
   "outputs": [],
   "source": [
    "speedup_vs_modin.max()"
   ]
  },
  {
   "cell_type": "code",
   "execution_count": null,
   "metadata": {},
   "outputs": [],
   "source": [
    "stats.gmean(speedup_vs_modin)"
   ]
  },
  {
   "cell_type": "markdown",
   "metadata": {
    "id": "l--QGfc1UkiF"
   },
   "source": [
    "# Memory Consumption"
   ]
  },
  {
   "cell_type": "code",
   "execution_count": null,
   "metadata": {
    "id": "nOqku2HXT6cc"
   },
   "outputs": [],
   "source": [
    "mean_mem_base = mem_base.apply(lambda nb: nb.mean())\n",
    "mean_mem_rewr = mem_rewr.apply(lambda nb: nb.mean())\n",
    "mean_mem_modin4 = mem_modin4.apply(lambda nb: nb.mean())\n",
    "rewr_mem_diff = mean_mem_rewr - mean_mem_base\n",
    "modin12_mem_diff = mean_mem_modin4 - mean_mem_base\n",
    "# mean_mem_df = pd.DataFrame({'SYSTEM': rewr_mem_diff, 'Modin-4': modin12_mem_diff})"
   ]
  },
  {
   "cell_type": "code",
   "execution_count": null,
   "metadata": {
    "id": "c-1HaAhyncHb"
   },
   "outputs": [],
   "source": [
    "# Mem Usage .csv\n",
    "mean_mem_df = pd.DataFrame({'Pandas': mean_mem_base, 'Modin-4': mean_mem_modin4, 'Dias': mean_mem_rewr})\n",
    "mean_mem_df.to_csv(f'{figs_dir}/test.csv')"
   ]
  },
  {
   "cell_type": "code",
   "execution_count": null,
   "metadata": {},
   "outputs": [],
   "source": [
    "mean_mem_df = only_hits_nb(mean_mem_df)"
   ]
  },
  {
   "cell_type": "code",
   "execution_count": null,
   "metadata": {
    "colab": {
     "base_uri": "https://localhost:8080/",
     "height": 614
    },
    "executionInfo": {
     "elapsed": 9,
     "status": "ok",
     "timestamp": 1675117138183,
     "user": {
      "displayName": "Stefanos Baziotis",
      "userId": "18398596100745288229"
     },
     "user_tz": 360
    },
    "id": "GnBHPaoQYxta",
    "outputId": "6f79ada4-6bc5-4eba-edaf-f7ef182d9fb4"
   },
   "outputs": [],
   "source": [
    "# Remove those we could not measure\n",
    "mean_mem_df = mean_mem_df.loc[mean_mem_modin4 != -1]\n",
    "mean_mem_df"
   ]
  },
  {
   "cell_type": "code",
   "execution_count": null,
   "metadata": {
    "id": "bH7DI7qpVDti"
   },
   "outputs": [],
   "source": [
    "# gmean_mem_df['Modin-4'] = 1 - gmean_mem_df['Modin-4']\n"
   ]
  },
  {
   "cell_type": "code",
   "execution_count": null,
   "metadata": {
    "colab": {
     "base_uri": "https://localhost:8080/",
     "height": 614
    },
    "executionInfo": {
     "elapsed": 8,
     "status": "ok",
     "timestamp": 1675117138183,
     "user": {
      "displayName": "Stefanos Baziotis",
      "userId": "18398596100745288229"
     },
     "user_tz": 360
    },
    "id": "SBVNszlk9QHs",
    "outputId": "9e9b7dce-cb10-483b-956c-a85ff9c38ea2"
   },
   "outputs": [],
   "source": [
    "new_index = []\n",
    "for nb in mean_mem_df.index:\n",
    "  nb_idx = int(nb.split('_')[1])\n",
    "  new_index.append(nb_labels[nb_idx])\n",
    "mean_mem_df_names = mean_mem_df.set_index(pd.Series(new_index))\n",
    "\n",
    "for col in mean_mem_df_names.columns:\n",
    "  mean_mem_df_names[col] = mean_mem_df_names[col] / 1024\n",
    "mean_mem_df_names"
   ]
  },
  {
   "cell_type": "code",
   "execution_count": null,
   "metadata": {
    "colab": {
     "base_uri": "https://localhost:8080/",
     "height": 774
    },
    "executionInfo": {
     "elapsed": 1448,
     "status": "ok",
     "timestamp": 1675117139624,
     "user": {
      "displayName": "Stefanos Baziotis",
      "userId": "18398596100745288229"
     },
     "user_tz": 360
    },
    "id": "Z3imcTyjEmrp",
    "outputId": "c09d7a4b-61d7-4cc9-ac53-bc18ff4f2114"
   },
   "outputs": [],
   "source": [
    "import matplotlib.gridspec as gridspec\n",
    "\n",
    "nrows = 2\n",
    "ncols = 1\n",
    "gs = gridspec.GridSpec(nrows, ncols, height_ratios=[0.2, 0.8])\n",
    "fig = plt.figure(figsize=(16, 6), dpi=100)\n",
    "ax1 = fig.add_subplot(gs[0])\n",
    "ax2 = fig.add_subplot(gs[1])\n",
    "fig.subplots_adjust(hspace=0.2)\n",
    "\n",
    "# -.5 otherwise some bars are hidden on the left.\n",
    "xlim = [-0.5, len(mean_mem_df_names)]\n",
    "top_y = [40, 90]\n",
    "bott_y = [0, 20]\n",
    "ylim = [[], top_y, bott_y]\n",
    "\n",
    "bar_width = 0.8\n",
    "\n",
    "# three_colors = [(0.643, 0.424, 0.718, 1), (0.478, 0.643, 0.341, 1), (0.796, 0.416, 0.286, 1)]\n",
    "# mean_mem_df_names.plot(kind='bar', width=bar_width, ax=ax1, legend=False, color=three_colors)\n",
    "mean_mem_df_names.plot(kind='bar', width=bar_width, ax=ax1, legend=False)\n",
    "\n",
    "ax1.set_xlim(*xlim)\n",
    "ax1.set_ylim(*ylim[1])\n",
    "# ax1.grid(color='lightgrey')\n",
    "\n",
    "# mean_mem_df_names.plot(kind='bar', width=bar_width, ax=ax2, legend=True, color=three_colors)\n",
    "mean_mem_df_names.plot(kind='bar', width=bar_width, ax=ax2, legend=True)\n",
    "ax2.legend(fontsize=20)\n",
    "ax2.set_xlim(*xlim)\n",
    "ax2.set_ylim(*ylim[2])\n",
    "ax2.set_xlabel('Notebooks', labelpad=20, fontsize=25)\n",
    "ax2.set_ylabel('Memory+Disk Usage (GB)', fontsize=25)\n",
    "# ax2.grid(color='lightgrey')\n",
    "ax2.yaxis.set_label_coords(-0.08, 0.7)\n",
    "\n",
    "ax2.xaxis.set_tick_params(labelsize=20, rotation=70)\n",
    "\n",
    "ax1.yaxis.set_tick_params(labelsize=25)\n",
    "ax2.yaxis.set_tick_params(labelsize=25)\n",
    "# ax2.yaxis.offsetText.set_visible(False)\n",
    "# ax2.yaxis.get_major_ticks()[0].label1.set_visible(False)\n",
    "# ax2.ticklabel_format(axis='y', style='sci', scilimits=(6, 6))\n",
    "\n",
    "ax1.spines['bottom'].set_visible(False)\n",
    "ax2.spines['top'].set_visible(False)\n",
    "ax1.set_xticks([])\n",
    "\n",
    "ax1.set_yticks([40, 90])\n",
    "ax2.set_yticks([0, 5, 10, 20])\n",
    "\n",
    "ax1.axhline(40+0.1, color=(0.1, 0.2, 0.5, 0.3), dashes=(5, 2, 1, 2))\n",
    "ax2.axhline(20 - 0.1, color=(0.1, 0.2, 0.5, 0.3), dashes=(5, 2, 1, 2))\n",
    "ax2.axhline(10, color=(0.1, 0.2, 0.5, 0.3), dashes=(5, 2, 1, 2))\n",
    "ax2.axhline(5, color=(0.1, 0.2, 0.5, 0.3), dashes=(5, 2, 1, 2))\n",
    "\n",
    "slant = 0.5\n",
    "kwargs = dict(marker=[(-1, -slant), (1, slant)], markersize=12,\n",
    "        linestyle='none', color='k', mec='k', mew=1, clip_on=False)\n",
    "ax1.plot([0, 1], [0, 0], transform=ax1.transAxes, **kwargs)\n",
    "ax2.plot([0, 1], [1, 1], transform=ax2.transAxes, **kwargs)\n",
    "\n",
    "plt.savefig(f'{figs_dir}/mem_usage.pdf', bbox_inches='tight')"
   ]
  },
  {
   "cell_type": "code",
   "execution_count": null,
   "metadata": {
    "colab": {
     "base_uri": "https://localhost:8080/"
    },
    "executionInfo": {
     "elapsed": 10,
     "status": "ok",
     "timestamp": 1675117139624,
     "user": {
      "displayName": "Stefanos Baziotis",
      "userId": "18398596100745288229"
     },
     "user_tz": 360
    },
    "id": "-ndwRkJMYWWM",
    "outputId": "efc7b3d6-2ca8-4781-f5da-1db4bd2034f7"
   },
   "outputs": [],
   "source": [
    "rewr_mem_diff"
   ]
  },
  {
   "cell_type": "code",
   "execution_count": null,
   "metadata": {
    "colab": {
     "base_uri": "https://localhost:8080/"
    },
    "executionInfo": {
     "elapsed": 7,
     "status": "ok",
     "timestamp": 1675117139624,
     "user": {
      "displayName": "Stefanos Baziotis",
      "userId": "18398596100745288229"
     },
     "user_tz": 360
    },
    "id": "1xVhc6H_Yb6z",
    "outputId": "160cfe48-57d9-44d5-a65e-c206fee8d817"
   },
   "outputs": [],
   "source": [
    "rewr_mem_diff['NB_7']"
   ]
  },
  {
   "cell_type": "markdown",
   "metadata": {
    "id": "ilw4yHeFY0iK"
   },
   "source": [
    "# Ablation Sliced Execution"
   ]
  },
  {
   "cell_type": "code",
   "execution_count": null,
   "metadata": {
    "id": "vK7Y5HzcY2eC"
   },
   "outputs": [],
   "source": [
    "rewr_se_off, _ = read_stats(\"stats-rewr_ON-modin_OFF-repl_STD-sliced_exec_OFF\")"
   ]
  },
  {
   "cell_type": "code",
   "execution_count": null,
   "metadata": {
    "id": "FcFsB_o-ZIE5"
   },
   "outputs": [],
   "source": [
    "for c in orig.columns:\n",
    "  if orig[c].mean() < 50:\n",
    "    rewr_se_off = rewr_se_off.drop(c, axis=1)"
   ]
  },
  {
   "cell_type": "code",
   "execution_count": null,
   "metadata": {
    "id": "6-jsUsL5ZWNq"
   },
   "outputs": [],
   "source": [
    "mean_rewr_se_off = rewr_se_off.apply(lambda cell: cell.mean())"
   ]
  },
  {
   "cell_type": "code",
   "execution_count": null,
   "metadata": {
    "id": "mSMe1O-6Zgpo"
   },
   "outputs": [],
   "source": [
    "rewr_se_off_whole = get_whole_mean(rewr_se_off)\n",
    "rewr_se_off_speedup = rewr_se_off_whole / rewr_whole"
   ]
  },
  {
   "cell_type": "code",
   "execution_count": null,
   "metadata": {
    "colab": {
     "base_uri": "https://localhost:8080/",
     "height": 257
    },
    "executionInfo": {
     "elapsed": 707,
     "status": "ok",
     "timestamp": 1675117182049,
     "user": {
      "displayName": "Stefanos Baziotis",
      "userId": "18398596100745288229"
     },
     "user_tz": 360
    },
    "id": "D5PzsanBaKHK",
    "outputId": "b6e0a59c-31ff-430e-e174-372ce4bab1e8"
   },
   "outputs": [],
   "source": [
    "rewr_se_off_speedup = only_hits_nb(rewr_se_off_speedup)\n",
    "\n",
    "new_index = []\n",
    "for nb_idx in rewr_se_off_speedup.index:\n",
    "  new_index.append(nb_labels[int(nb_idx)])\n",
    "rewr_se_off_speedup.index = pd.Series(new_index)\n",
    "\n",
    "# ax = rewr_se_off_speedup.plot(kind=\"bar\", figsize=(6, 2), color=(0.2, 0.4, 0.6, 0.6))\n",
    "ax = rewr_se_off_speedup.plot(kind=\"bar\", figsize=(6, 2))\n",
    "ax.set_ylabel('Relative Slowdown')\n",
    "ax.set_xlabel('Notebooks')\n",
    "ax.axhline(1, color='red')\n",
    "ax.grid(visible=True, axis='y')\n",
    "ax.xaxis.set_tick_params(labelsize=8, rotation=70)\n",
    "plt.ylim(top=1.15, bottom=0.9)\n",
    "plt.savefig(f'{figs_dir}/no_sliced_exec.pdf', bbox_inches='tight', pad_inches=0)\n",
    "ax"
   ]
  },
  {
   "cell_type": "markdown",
   "metadata": {
    "id": "qDzgHRhtt8IE"
   },
   "source": [
    "# Rewriter Stats"
   ]
  },
  {
   "cell_type": "code",
   "execution_count": null,
   "metadata": {
    "id": "mOwq-A-zaS6Z"
   },
   "outputs": [],
   "source": [
    "cell_rewr_stats = dict()\n",
    "for nb_idx, nb in enumerate(nbs):\n",
    "  for r in range(num_runs):\n",
    "    nb_filename = '_'.join(nb.split('/')) + '.json'\n",
    "    filepath = f\"{pwd}/stats-rewr_stats/s-{r}/{nb_filename}\"\n",
    "    fp = open(filepath, 'r')\n",
    "    d = json.load(fp)\n",
    "    fp.close()\n",
    "    for c_idx, c in enumerate(d['cells']):\n",
    "      key = f\"C_{nb_idx}_{c_idx}\"\n",
    "      try:\n",
    "        cell_rewr_stats[key].append(c)\n",
    "      except:\n",
    "        cell_rewr_stats[key] = [c]"
   ]
  },
  {
   "cell_type": "markdown",
   "metadata": {},
   "source": [
    "## How Many Patterns We Needed"
   ]
  },
  {
   "cell_type": "code",
   "execution_count": null,
   "metadata": {},
   "outputs": [],
   "source": [
    "patts_needed = set()\n",
    "for cell_key in cell_rewr_stats:\n",
    "  cell = cell_rewr_stats[cell_key]\n",
    "  for run in cell:\n",
    "    patts_needed |= set(run['patts-hit'].keys())\n",
    "\n",
    "len(patts_needed)"
   ]
  },
  {
   "cell_type": "markdown",
   "metadata": {
    "id": "viCe5DsIxNo8"
   },
   "source": [
    "## Max and Mean Absolute Overheads (in any run)"
   ]
  },
  {
   "cell_type": "code",
   "execution_count": null,
   "metadata": {
    "colab": {
     "base_uri": "https://localhost:8080/"
    },
    "executionInfo": {
     "elapsed": 12,
     "status": "ok",
     "timestamp": 1675117224208,
     "user": {
      "displayName": "Stefanos Baziotis",
      "userId": "18398596100745288229"
     },
     "user_tz": 360
    },
    "id": "X0PRbbR2xLfo",
    "outputId": "b4790230-a8ae-4403-b630-84270bda18e4"
   },
   "outputs": [],
   "source": [
    "# NOTE: We find the max overhead _in any run_, not means.\n",
    "\n",
    "all_ohs = []\n",
    "for cell_key in cell_rewr_stats:\n",
    "  cell = cell_rewr_stats[cell_key]\n",
    "  for run in cell:\n",
    "    oh = run['wall-time'] - run['rewritten-exec-time']\n",
    "    all_ohs.append(oh)\n",
    "\n",
    "max_oh = max(all_ohs)\n",
    "print(f\"Maximum Overhead: {max_oh: .2f}ms\")\n",
    "mean_oh = stats.gmean(all_ohs)\n",
    "print(f\"GMean Overhead: {mean_oh: .2f}ms\")"
   ]
  },
  {
   "cell_type": "markdown",
   "metadata": {
    "id": "7d285IBJ25cx"
   },
   "source": [
    "## Do we every slow down a rewritten cell (beyond interactive latency) ?"
   ]
  },
  {
   "cell_type": "code",
   "execution_count": null,
   "metadata": {
    "colab": {
     "base_uri": "https://localhost:8080/"
    },
    "executionInfo": {
     "elapsed": 11,
     "status": "ok",
     "timestamp": 1675117224209,
     "user": {
      "displayName": "Stefanos Baziotis",
      "userId": "18398596100745288229"
     },
     "user_tz": 360
    },
    "id": "cXm-f3-Sz2tA",
    "outputId": "6921473c-586e-4503-8e6c-3f9c78e911bc"
   },
   "outputs": [],
   "source": [
    "# Pretty small value for interactive latency\n",
    "interactive_latency = 10\n",
    "slowdown_rewr_cell = False\n",
    "\n",
    "# Go through each cell in the stats. If we hit on this cell, then check the\n",
    "# original stats and see if there's a difference outside the interactive\n",
    "# latency.\n",
    "for cell_key in cell_rewr_stats:\n",
    "  if cell_key not in orig.columns:\n",
    "    # Dropped as very fast. Skip\n",
    "    continue\n",
    "  # Get only one run. If we hit, we hit in all the runs.\n",
    "  cell = cell_rewr_stats[cell_key][0]\n",
    "  if cell['patts-hit'] != {}:\n",
    "    diff = mean_rewr[cell_key] - mean_orig[cell_key]\n",
    "    if diff > interactive_latency:\n",
    "      print(f\"Slowdown: {diff: .2f}\")\n",
    "      slowdown_rewr_cell = True\n",
    "\n",
    "if not slowdown_rewr_cell:\n",
    "  print(\"NO!\")"
   ]
  }
 ],
 "metadata": {
  "colab": {
   "provenance": []
  },
  "kernelspec": {
   "display_name": "Python (env)",
   "language": "python",
   "name": "env"
  },
  "language_info": {
   "codemirror_mode": {
    "name": "ipython",
    "version": 3
   },
   "file_extension": ".py",
   "mimetype": "text/x-python",
   "name": "python",
   "nbconvert_exporter": "python",
   "pygments_lexer": "ipython3",
   "version": "3.10.6"
  }
 },
 "nbformat": 4,
 "nbformat_minor": 1
}
