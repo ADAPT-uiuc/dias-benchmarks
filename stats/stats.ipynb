{
 "cells": [
  {
   "cell_type": "code",
   "execution_count": 1,
   "metadata": {
    "executionInfo": {
     "elapsed": 2437,
     "status": "ok",
     "timestamp": 1675451905918,
     "user": {
      "displayName": "Stefanos Baziotis",
      "userId": "18398596100745288229"
     },
     "user_tz": 360
    },
    "id": "5rbJQHDPLstg"
   },
   "outputs": [],
   "source": [
    "import pandas as pd\n",
    "import numpy as np\n",
    "import json\n",
    "import os\n",
    "from scipy import stats\n",
    "import matplotlib.pyplot as plt\n",
    "import matplotlib\n",
    "# import seaborn as sns"
   ]
  },
  {
   "cell_type": "code",
   "execution_count": 2,
   "metadata": {},
   "outputs": [],
   "source": [
    "# sns.set_palette(\"colorblind\")"
   ]
  },
  {
   "cell_type": "markdown",
   "metadata": {
    "id": "1LrgEYm5Mw-r"
   },
   "source": [
    "# Data Loading"
   ]
  },
  {
   "cell_type": "code",
   "execution_count": 3,
   "metadata": {
    "id": "NsbnimryL2jj"
   },
   "outputs": [],
   "source": [
    "pwd = \".\"\n",
    "figs_dir = \"./figs\"\n",
    "!mkdir -p figs"
   ]
  },
  {
   "cell_type": "code",
   "execution_count": 4,
   "metadata": {},
   "outputs": [],
   "source": [
    "APPENDIX_RESUTLS = False"
   ]
  },
  {
   "cell_type": "code",
   "execution_count": 5,
   "metadata": {
    "colab": {
     "base_uri": "https://localhost:8080/"
    },
    "executionInfo": {
     "elapsed": 112,
     "status": "ok",
     "timestamp": 1675118021723,
     "user": {
      "displayName": "Stefanos Baziotis",
      "userId": "18398596100745288229"
     },
     "user_tz": 360
    },
    "id": "Mq03NF2nNkFD",
    "outputId": "833d9d27-9f3e-4a7d-a378-0ad579629531"
   },
   "outputs": [
    {
     "data": {
      "text/plain": [
       "20"
      ]
     },
     "execution_count": 5,
     "metadata": {},
     "output_type": "execute_result"
    }
   ],
   "source": [
    "nbs = [\n",
    "  \"lextoumbourou/feedback3-eda-hf-custom-trainer-sift\",\n",
    "  \"paultimothymooney/kaggle-survey-2022-all-results\",\n",
    "  \"dataranch/supermarket-sales-prediction-xgboost-fastai\",\n",
    "  \"kkhandekar/environmental-vs-ai-startups-india-eda\",\n",
    "  \"ampiiere/animal-crossing-villager-popularity-analysis\",\n",
    "  \"aieducation/what-course-are-you-going-to-take\",\n",
    "  \"saisandeepjallepalli/adidas-retail-eda-data-visualization\",\n",
    "  \"joshuaswords/netflix-data-visualization\",\n",
    "  \"spscientist/student-performance-in-exams\",\n",
    "  \"ibtesama/getting-started-with-a-movie-recommendation-system\",\n",
    "\n",
    "  \"nickwan/creating-player-stats-using-tracking-data\",\n",
    "  \"erikbruin/nlp-on-student-writing-eda\",\n",
    "  \"madhurpant/beautiful-kaggle-2022-analysis\",\n",
    "  \"pmarcelino/comprehensive-data-exploration-with-python\",\n",
    "  \"gksriharsha/eda-speedtests\",\n",
    "  \"mpwolke/just-you-wait-rishi-sunak\",\n",
    "  \"sanket7994/imdb-dataset-eda-project\",\n",
    "  \"roopacalistus/retail-supermarket-store-analysis\",\n",
    "  \"sandhyakrishnan02/indian-startup-growth-analysis\",\n",
    "  \"josecode1/billionaires-statistics-2023\"\n",
    "]\n",
    "nb_labels = [\n",
    "  \"feedb-eda-hf-sift\",\n",
    "  \"kaggle-survey-2022\",\n",
    "  \"sales-pred-xgboost\",\n",
    "  \"env-ai-startups-eda\",\n",
    "  \"animal-crossing\",\n",
    "  \"course-prediction\",\n",
    "  \"adidas-retail-eda\",\n",
    "  \"netflix-data-viz\",\n",
    "  \"student-perf\",\n",
    "  \"movie-recomm\",\n",
    "\n",
    "  \"player-stats-tracking\",\n",
    "  \"nlp-stud-writ-eda\",\n",
    "  \"kaggle-2022-analysis\",\n",
    "  \"data-expl-with-python\",\n",
    "  \"eda-speedtests\",\n",
    "  \"just-you-wait-rishi-sunak\",\n",
    "  \"imdb-dataset-eda\",\n",
    "  \"smarket-store-analysis\",\n",
    "  \"indian-startup-growth\",\n",
    "#   \"eda-airline-dataset\",\n",
    "  \"billionaires-statistics\"\n",
    "]\n",
    "\n",
    "def only_hits_nb(df):\n",
    "  global APPENDIX_RESUTLS\n",
    "  if not APPENDIX_RESUTLS:\n",
    "    assert (type(df) == pd.DataFrame or type(df) == pd.Series or type(df) == pd.Index)\n",
    "    return df[:10]\n",
    "  else:\n",
    "    return df\n",
    "\n",
    "def only_hits_cell(df):\n",
    "  global APPENDIX_RESUTLS\n",
    "  if not APPENDIX_RESUTLS:\n",
    "    assert (type(df) == pd.DataFrame or type(df) == pd.Series)\n",
    "    hits = [s for s in df.index if int(s.split('_')[1]) < 10]\n",
    "    return df.loc[hits]\n",
    "  else:\n",
    "    return df\n",
    "\n",
    "def ns_to_ms(ns):\n",
    "  return ns / 1_000_000\n",
    "\n",
    "num_runs = 10\n",
    "len(nbs)"
   ]
  },
  {
   "cell_type": "code",
   "execution_count": 6,
   "metadata": {
    "id": "yPYOP_7JL3LT"
   },
   "outputs": [],
   "source": [
    "def read_stats(version, read_mem=True):\n",
    "  cell_to_all_runs = {}\n",
    "  nb_to_mem_runs = {}\n",
    "  for nb_idx, nb in enumerate(nbs):\n",
    "    for r in range(num_runs):\n",
    "      nb_filename = '_'.join(nb.split('/')) + '.json'\n",
    "      filepath = f\"{pwd}/{version}/s-{r}/{nb_filename}\"\n",
    "      fp = open(filepath, 'r')\n",
    "      d = json.load(fp)\n",
    "      fp.close()\n",
    "      nb_mem_key = f'NB_{nb_idx}'\n",
    "      if read_mem:\n",
    "        # Store Memory Results. One per notebook\n",
    "        try:\n",
    "          nb_to_mem_runs[nb_mem_key].append(d['max-mem-in-mb'])\n",
    "        except:\n",
    "          nb_to_mem_runs[nb_mem_key] = [d['max-mem-in-mb']]\n",
    "      # Store timing results. One per cell.\n",
    "      for c_idx, c in enumerate(d['cells']):\n",
    "        key = f\"C_{nb_idx}_{c_idx}\"\n",
    "        cell_time = ns_to_ms(c['total-ns'])\n",
    "        try:\n",
    "          cell_to_all_runs[key].append(cell_time)\n",
    "        except:\n",
    "          cell_to_all_runs[key] = [cell_time]\n",
    "\n",
    "  ### Verify all cells have same number of timings ###\n",
    "  keys = list(cell_to_all_runs)\n",
    "  for i in range(len(keys)):\n",
    "    for j in range(i+1, len(keys)):\n",
    "      ki = keys[i]\n",
    "      kj = keys[j]\n",
    "      vi = cell_to_all_runs[ki]\n",
    "      vj = cell_to_all_runs[kj]\n",
    "      assert len(vi) == len(vj)\n",
    "\n",
    "  time_df = pd.DataFrame(cell_to_all_runs)\n",
    "  if read_mem:\n",
    "    mem_df = pd.DataFrame(nb_to_mem_runs)\n",
    "  else:\n",
    "    mem_df = None\n",
    "  return time_df, mem_df"
   ]
  },
  {
   "cell_type": "code",
   "execution_count": 7,
   "metadata": {},
   "outputs": [],
   "source": [
    "def read_modin_stats(version):\n",
    "  cell_to_all_runs = {}\n",
    "  nb_to_mem_runs = {}\n",
    "  for nb_idx, nb in enumerate(nbs):\n",
    "    for r in range(num_runs):\n",
    "      nb_filename = '_'.join(nb.split('/')) + '.json'\n",
    "      nb_timing_filepath = f\"{pwd}/{version}/s-{r}/{nb_filename}\"\n",
    "      timing_fp = open(nb_timing_filepath, 'r')\n",
    "      timing_d = json.load(timing_fp)\n",
    "      timing_fp.close()\n",
    "      \n",
    "      mem_split = version.split(\"_\")\n",
    "      mem_suff = mem_split[-1]\n",
    "      assert mem_suff == \"OFF\"\n",
    "      mem_suff = \"ON\"\n",
    "      mem_version = \"_\".join(mem_split[:-1] + [mem_suff])\n",
    "      nb_mem_filepath = f\"{pwd}/{mem_version}/s-{r}/{nb_filename}\"\n",
    "      mem_fp = open(nb_mem_filepath, 'r')\n",
    "      mem_d = json.load(mem_fp)\n",
    "      mem_fp.close()\n",
    "      \n",
    "      \n",
    "      nb_mem_key = f'NB_{nb_idx}'\n",
    "      # Store Memory Results. One per notebook\n",
    "      try:\n",
    "        nb_to_mem_runs[nb_mem_key].append(mem_d['max-mem-in-mb'])\n",
    "      except:\n",
    "        nb_to_mem_runs[nb_mem_key] = [mem_d['max-mem-in-mb']]\n",
    "      # Store timing results. One per cell.\n",
    "      for c_idx, c in enumerate(timing_d['cells']):\n",
    "        key = f\"C_{nb_idx}_{c_idx}\"\n",
    "        cell_time = ns_to_ms(c['total-ns'])\n",
    "        try:\n",
    "          cell_to_all_runs[key].append(cell_time)\n",
    "        except:\n",
    "          cell_to_all_runs[key] = [cell_time]\n",
    "\n",
    "  ### Verify all cells have same number of timings ###\n",
    "  keys = list(cell_to_all_runs)\n",
    "  for i in range(len(keys)):\n",
    "    for j in range(i+1, len(keys)):\n",
    "      ki = keys[i]\n",
    "      kj = keys[j]\n",
    "      vi = cell_to_all_runs[ki]\n",
    "      vj = cell_to_all_runs[kj]\n",
    "      assert len(vi) == len(vj)\n",
    "\n",
    "  time_df = pd.DataFrame(cell_to_all_runs)\n",
    "  mem_df = pd.DataFrame(nb_to_mem_runs)\n",
    "  return time_df, mem_df"
   ]
  },
  {
   "cell_type": "code",
   "execution_count": 8,
   "metadata": {
    "id": "jzt3bvKYNYiM"
   },
   "outputs": [],
   "source": [
    "# All versions have the raw cells. Pick one at random and get the raw.\n",
    "def find_raw(cell_name):\n",
    "  spl = cell_name.split('_')\n",
    "  search_nb_idx = int(spl[1])\n",
    "  search_cell_idx = int(spl[2])\n",
    "  nb = nbs[search_nb_idx]\n",
    "  print(f\"--- {nb} ---\")\n",
    "  nb_filename = '_'.join(nb.split('/')) + '.json'\n",
    "  random_run = 4\n",
    "  filepath = f\"{pwd}/stats-rewr_OFF-modin_OFF-repl_STD-sliced_exec_ON/s-{random_run}/{nb_filename}\"\n",
    "  fp = open(filepath, 'r')\n",
    "  d = json.load(fp)\n",
    "  fp.close()\n",
    "  for c_idx, c in enumerate(d['cells']):\n",
    "    if c_idx == search_cell_idx:\n",
    "      return c['raw']\n",
    "  assert 0"
   ]
  },
  {
   "cell_type": "markdown",
   "metadata": {
    "id": "z3F1DB9YGuSu"
   },
   "source": [
    "# Rewriter vs Pandas"
   ]
  },
  {
   "cell_type": "code",
   "execution_count": 9,
   "metadata": {
    "id": "Gd2x-kz5GC4X",
    "scrolled": true
   },
   "outputs": [],
   "source": [
    "orig, _ = read_stats(\"stats-rewr_OFF-modin_OFF-repl_STD-modin_mem_OFF\")\n",
    "rewr, _ = read_stats(\"stats-rewr_ON-modin_OFF-repl_STD-modin_mem_OFF\")"
   ]
  },
  {
   "cell_type": "code",
   "execution_count": 10,
   "metadata": {},
   "outputs": [
    {
     "data": {
      "text/html": [
       "<div>\n",
       "<style scoped>\n",
       "    .dataframe tbody tr th:only-of-type {\n",
       "        vertical-align: middle;\n",
       "    }\n",
       "\n",
       "    .dataframe tbody tr th {\n",
       "        vertical-align: top;\n",
       "    }\n",
       "\n",
       "    .dataframe thead th {\n",
       "        text-align: right;\n",
       "    }\n",
       "</style>\n",
       "<table border=\"1\" class=\"dataframe\">\n",
       "  <thead>\n",
       "    <tr style=\"text-align: right;\">\n",
       "      <th></th>\n",
       "      <th>C_0_0</th>\n",
       "      <th>C_0_1</th>\n",
       "      <th>C_0_2</th>\n",
       "      <th>C_0_3</th>\n",
       "      <th>C_0_4</th>\n",
       "      <th>C_0_5</th>\n",
       "      <th>C_0_6</th>\n",
       "      <th>C_0_7</th>\n",
       "      <th>C_0_8</th>\n",
       "      <th>C_0_9</th>\n",
       "      <th>...</th>\n",
       "      <th>C_19_9</th>\n",
       "      <th>C_19_10</th>\n",
       "      <th>C_19_11</th>\n",
       "      <th>C_19_12</th>\n",
       "      <th>C_19_13</th>\n",
       "      <th>C_19_14</th>\n",
       "      <th>C_19_15</th>\n",
       "      <th>C_19_16</th>\n",
       "      <th>C_19_17</th>\n",
       "      <th>C_19_18</th>\n",
       "    </tr>\n",
       "  </thead>\n",
       "  <tbody>\n",
       "    <tr>\n",
       "      <th>0</th>\n",
       "      <td>211.668543</td>\n",
       "      <td>73.763627</td>\n",
       "      <td>73.002557</td>\n",
       "      <td>0.408526</td>\n",
       "      <td>0.176132</td>\n",
       "      <td>0.171262</td>\n",
       "      <td>0.184143</td>\n",
       "      <td>171.934676</td>\n",
       "      <td>273.680820</td>\n",
       "      <td>309.014469</td>\n",
       "      <td>...</td>\n",
       "      <td>823.858707</td>\n",
       "      <td>16.732487</td>\n",
       "      <td>19.105987</td>\n",
       "      <td>0.291992</td>\n",
       "      <td>70.557745</td>\n",
       "      <td>2292.407763</td>\n",
       "      <td>2811.414582</td>\n",
       "      <td>0.393564</td>\n",
       "      <td>258.165185</td>\n",
       "      <td>5.276077</td>\n",
       "    </tr>\n",
       "    <tr>\n",
       "      <th>1</th>\n",
       "      <td>212.699649</td>\n",
       "      <td>73.802335</td>\n",
       "      <td>73.966894</td>\n",
       "      <td>0.399275</td>\n",
       "      <td>0.173782</td>\n",
       "      <td>0.170092</td>\n",
       "      <td>0.192452</td>\n",
       "      <td>172.515982</td>\n",
       "      <td>271.663915</td>\n",
       "      <td>310.944972</td>\n",
       "      <td>...</td>\n",
       "      <td>823.091280</td>\n",
       "      <td>16.743277</td>\n",
       "      <td>19.210320</td>\n",
       "      <td>0.289363</td>\n",
       "      <td>74.536606</td>\n",
       "      <td>2245.590653</td>\n",
       "      <td>2800.726569</td>\n",
       "      <td>0.377743</td>\n",
       "      <td>258.053405</td>\n",
       "      <td>5.593539</td>\n",
       "    </tr>\n",
       "    <tr>\n",
       "      <th>2</th>\n",
       "      <td>213.914843</td>\n",
       "      <td>74.773784</td>\n",
       "      <td>76.834751</td>\n",
       "      <td>0.408066</td>\n",
       "      <td>0.172562</td>\n",
       "      <td>0.169892</td>\n",
       "      <td>0.197653</td>\n",
       "      <td>175.811411</td>\n",
       "      <td>278.429922</td>\n",
       "      <td>314.354855</td>\n",
       "      <td>...</td>\n",
       "      <td>821.422222</td>\n",
       "      <td>16.750119</td>\n",
       "      <td>19.197129</td>\n",
       "      <td>0.290983</td>\n",
       "      <td>69.784241</td>\n",
       "      <td>2275.009548</td>\n",
       "      <td>2836.680658</td>\n",
       "      <td>0.390894</td>\n",
       "      <td>259.999813</td>\n",
       "      <td>5.361148</td>\n",
       "    </tr>\n",
       "    <tr>\n",
       "      <th>3</th>\n",
       "      <td>213.459771</td>\n",
       "      <td>74.192973</td>\n",
       "      <td>74.909234</td>\n",
       "      <td>0.408916</td>\n",
       "      <td>0.172492</td>\n",
       "      <td>0.169602</td>\n",
       "      <td>0.182132</td>\n",
       "      <td>173.464391</td>\n",
       "      <td>274.425780</td>\n",
       "      <td>317.654272</td>\n",
       "      <td>...</td>\n",
       "      <td>821.856052</td>\n",
       "      <td>16.727141</td>\n",
       "      <td>19.161662</td>\n",
       "      <td>0.251512</td>\n",
       "      <td>74.250317</td>\n",
       "      <td>2281.086503</td>\n",
       "      <td>2807.982376</td>\n",
       "      <td>0.383613</td>\n",
       "      <td>259.934725</td>\n",
       "      <td>5.713442</td>\n",
       "    </tr>\n",
       "    <tr>\n",
       "      <th>4</th>\n",
       "      <td>213.781021</td>\n",
       "      <td>73.926655</td>\n",
       "      <td>73.569699</td>\n",
       "      <td>0.406096</td>\n",
       "      <td>0.173882</td>\n",
       "      <td>0.171693</td>\n",
       "      <td>0.185212</td>\n",
       "      <td>174.819428</td>\n",
       "      <td>275.389033</td>\n",
       "      <td>312.485463</td>\n",
       "      <td>...</td>\n",
       "      <td>821.935000</td>\n",
       "      <td>16.726812</td>\n",
       "      <td>19.126213</td>\n",
       "      <td>0.294062</td>\n",
       "      <td>69.811363</td>\n",
       "      <td>2266.679346</td>\n",
       "      <td>2818.257554</td>\n",
       "      <td>0.390604</td>\n",
       "      <td>258.154948</td>\n",
       "      <td>5.308738</td>\n",
       "    </tr>\n",
       "    <tr>\n",
       "      <th>5</th>\n",
       "      <td>212.498512</td>\n",
       "      <td>74.018247</td>\n",
       "      <td>73.019845</td>\n",
       "      <td>0.403115</td>\n",
       "      <td>0.174752</td>\n",
       "      <td>0.171662</td>\n",
       "      <td>0.183522</td>\n",
       "      <td>171.644537</td>\n",
       "      <td>272.623780</td>\n",
       "      <td>317.628154</td>\n",
       "      <td>...</td>\n",
       "      <td>823.608397</td>\n",
       "      <td>16.631984</td>\n",
       "      <td>18.847031</td>\n",
       "      <td>0.244473</td>\n",
       "      <td>74.069476</td>\n",
       "      <td>2266.431809</td>\n",
       "      <td>2834.116187</td>\n",
       "      <td>0.365914</td>\n",
       "      <td>259.722083</td>\n",
       "      <td>5.714902</td>\n",
       "    </tr>\n",
       "    <tr>\n",
       "      <th>6</th>\n",
       "      <td>212.556041</td>\n",
       "      <td>73.769614</td>\n",
       "      <td>74.950709</td>\n",
       "      <td>0.396635</td>\n",
       "      <td>0.175263</td>\n",
       "      <td>0.169782</td>\n",
       "      <td>0.183613</td>\n",
       "      <td>172.999630</td>\n",
       "      <td>272.804737</td>\n",
       "      <td>317.941953</td>\n",
       "      <td>...</td>\n",
       "      <td>820.902617</td>\n",
       "      <td>16.746844</td>\n",
       "      <td>19.182016</td>\n",
       "      <td>0.286813</td>\n",
       "      <td>76.107542</td>\n",
       "      <td>2229.644597</td>\n",
       "      <td>2816.143189</td>\n",
       "      <td>0.366273</td>\n",
       "      <td>258.847585</td>\n",
       "      <td>5.660723</td>\n",
       "    </tr>\n",
       "    <tr>\n",
       "      <th>7</th>\n",
       "      <td>213.162579</td>\n",
       "      <td>73.701766</td>\n",
       "      <td>73.892428</td>\n",
       "      <td>0.399435</td>\n",
       "      <td>0.177323</td>\n",
       "      <td>0.171532</td>\n",
       "      <td>0.186032</td>\n",
       "      <td>171.746855</td>\n",
       "      <td>272.941605</td>\n",
       "      <td>314.820736</td>\n",
       "      <td>...</td>\n",
       "      <td>820.412235</td>\n",
       "      <td>16.735625</td>\n",
       "      <td>19.106548</td>\n",
       "      <td>0.284162</td>\n",
       "      <td>69.762888</td>\n",
       "      <td>2267.198432</td>\n",
       "      <td>2827.055009</td>\n",
       "      <td>0.393884</td>\n",
       "      <td>262.783311</td>\n",
       "      <td>5.269579</td>\n",
       "    </tr>\n",
       "    <tr>\n",
       "      <th>8</th>\n",
       "      <td>215.743213</td>\n",
       "      <td>74.335241</td>\n",
       "      <td>75.358634</td>\n",
       "      <td>0.406246</td>\n",
       "      <td>0.176112</td>\n",
       "      <td>0.176993</td>\n",
       "      <td>0.187902</td>\n",
       "      <td>173.748313</td>\n",
       "      <td>275.383745</td>\n",
       "      <td>312.714402</td>\n",
       "      <td>...</td>\n",
       "      <td>825.050279</td>\n",
       "      <td>16.760546</td>\n",
       "      <td>19.167209</td>\n",
       "      <td>0.291313</td>\n",
       "      <td>69.707261</td>\n",
       "      <td>2232.882046</td>\n",
       "      <td>2822.241841</td>\n",
       "      <td>0.393133</td>\n",
       "      <td>256.341058</td>\n",
       "      <td>5.308931</td>\n",
       "    </tr>\n",
       "    <tr>\n",
       "      <th>9</th>\n",
       "      <td>214.095520</td>\n",
       "      <td>74.152991</td>\n",
       "      <td>73.140666</td>\n",
       "      <td>0.405265</td>\n",
       "      <td>0.172912</td>\n",
       "      <td>0.169532</td>\n",
       "      <td>0.182363</td>\n",
       "      <td>173.518477</td>\n",
       "      <td>276.098178</td>\n",
       "      <td>313.490458</td>\n",
       "      <td>...</td>\n",
       "      <td>820.404703</td>\n",
       "      <td>16.733328</td>\n",
       "      <td>19.131730</td>\n",
       "      <td>0.290993</td>\n",
       "      <td>70.049731</td>\n",
       "      <td>2238.546459</td>\n",
       "      <td>2829.417078</td>\n",
       "      <td>0.377284</td>\n",
       "      <td>259.639338</td>\n",
       "      <td>5.246680</td>\n",
       "    </tr>\n",
       "  </tbody>\n",
       "</table>\n",
       "<p>10 rows × 644 columns</p>\n",
       "</div>"
      ],
      "text/plain": [
       "        C_0_0      C_0_1      C_0_2     C_0_3     C_0_4     C_0_5     C_0_6  \\\n",
       "0  211.668543  73.763627  73.002557  0.408526  0.176132  0.171262  0.184143   \n",
       "1  212.699649  73.802335  73.966894  0.399275  0.173782  0.170092  0.192452   \n",
       "2  213.914843  74.773784  76.834751  0.408066  0.172562  0.169892  0.197653   \n",
       "3  213.459771  74.192973  74.909234  0.408916  0.172492  0.169602  0.182132   \n",
       "4  213.781021  73.926655  73.569699  0.406096  0.173882  0.171693  0.185212   \n",
       "5  212.498512  74.018247  73.019845  0.403115  0.174752  0.171662  0.183522   \n",
       "6  212.556041  73.769614  74.950709  0.396635  0.175263  0.169782  0.183613   \n",
       "7  213.162579  73.701766  73.892428  0.399435  0.177323  0.171532  0.186032   \n",
       "8  215.743213  74.335241  75.358634  0.406246  0.176112  0.176993  0.187902   \n",
       "9  214.095520  74.152991  73.140666  0.405265  0.172912  0.169532  0.182363   \n",
       "\n",
       "        C_0_7       C_0_8       C_0_9  ...      C_19_9    C_19_10    C_19_11  \\\n",
       "0  171.934676  273.680820  309.014469  ...  823.858707  16.732487  19.105987   \n",
       "1  172.515982  271.663915  310.944972  ...  823.091280  16.743277  19.210320   \n",
       "2  175.811411  278.429922  314.354855  ...  821.422222  16.750119  19.197129   \n",
       "3  173.464391  274.425780  317.654272  ...  821.856052  16.727141  19.161662   \n",
       "4  174.819428  275.389033  312.485463  ...  821.935000  16.726812  19.126213   \n",
       "5  171.644537  272.623780  317.628154  ...  823.608397  16.631984  18.847031   \n",
       "6  172.999630  272.804737  317.941953  ...  820.902617  16.746844  19.182016   \n",
       "7  171.746855  272.941605  314.820736  ...  820.412235  16.735625  19.106548   \n",
       "8  173.748313  275.383745  312.714402  ...  825.050279  16.760546  19.167209   \n",
       "9  173.518477  276.098178  313.490458  ...  820.404703  16.733328  19.131730   \n",
       "\n",
       "    C_19_12    C_19_13      C_19_14      C_19_15   C_19_16     C_19_17  \\\n",
       "0  0.291992  70.557745  2292.407763  2811.414582  0.393564  258.165185   \n",
       "1  0.289363  74.536606  2245.590653  2800.726569  0.377743  258.053405   \n",
       "2  0.290983  69.784241  2275.009548  2836.680658  0.390894  259.999813   \n",
       "3  0.251512  74.250317  2281.086503  2807.982376  0.383613  259.934725   \n",
       "4  0.294062  69.811363  2266.679346  2818.257554  0.390604  258.154948   \n",
       "5  0.244473  74.069476  2266.431809  2834.116187  0.365914  259.722083   \n",
       "6  0.286813  76.107542  2229.644597  2816.143189  0.366273  258.847585   \n",
       "7  0.284162  69.762888  2267.198432  2827.055009  0.393884  262.783311   \n",
       "8  0.291313  69.707261  2232.882046  2822.241841  0.393133  256.341058   \n",
       "9  0.290993  70.049731  2238.546459  2829.417078  0.377284  259.639338   \n",
       "\n",
       "    C_19_18  \n",
       "0  5.276077  \n",
       "1  5.593539  \n",
       "2  5.361148  \n",
       "3  5.713442  \n",
       "4  5.308738  \n",
       "5  5.714902  \n",
       "6  5.660723  \n",
       "7  5.269579  \n",
       "8  5.308931  \n",
       "9  5.246680  \n",
       "\n",
       "[10 rows x 644 columns]"
      ]
     },
     "execution_count": 10,
     "metadata": {},
     "output_type": "execute_result"
    }
   ],
   "source": [
    "orig"
   ]
  },
  {
   "cell_type": "markdown",
   "metadata": {
    "id": "IATlTC-8SqUp"
   },
   "source": [
    "## Discard Very Fast Cells"
   ]
  },
  {
   "cell_type": "code",
   "execution_count": 11,
   "metadata": {
    "colab": {
     "base_uri": "https://localhost:8080/"
    },
    "executionInfo": {
     "elapsed": 1245,
     "status": "ok",
     "timestamp": 1675116990089,
     "user": {
      "displayName": "Stefanos Baziotis",
      "userId": "18398596100745288229"
     },
     "user_tz": 360
    },
    "id": "6dL2BB9KSsSJ",
    "outputId": "b94cf1e7-b026-404d-f6ea-1eeea45a719e"
   },
   "outputs": [
    {
     "name": "stdout",
     "output_type": "stream",
     "text": [
      "265\n"
     ]
    }
   ],
   "source": [
    "cells_to_drop = []\n",
    "for c in orig.columns:\n",
    "  if orig[c].mean() < 50:\n",
    "    orig = orig.drop(c, axis=1)\n",
    "    rewr = rewr.drop(c, axis=1)\n",
    "    cells_to_drop.append(c)\n",
    "\n",
    "print(len(rewr.columns))"
   ]
  },
  {
   "cell_type": "code",
   "execution_count": 12,
   "metadata": {},
   "outputs": [
    {
     "data": {
      "text/html": [
       "<div>\n",
       "<style scoped>\n",
       "    .dataframe tbody tr th:only-of-type {\n",
       "        vertical-align: middle;\n",
       "    }\n",
       "\n",
       "    .dataframe tbody tr th {\n",
       "        vertical-align: top;\n",
       "    }\n",
       "\n",
       "    .dataframe thead th {\n",
       "        text-align: right;\n",
       "    }\n",
       "</style>\n",
       "<table border=\"1\" class=\"dataframe\">\n",
       "  <thead>\n",
       "    <tr style=\"text-align: right;\">\n",
       "      <th></th>\n",
       "      <th>C_0_0</th>\n",
       "      <th>C_0_1</th>\n",
       "      <th>C_0_2</th>\n",
       "      <th>C_0_7</th>\n",
       "      <th>C_0_8</th>\n",
       "      <th>C_0_9</th>\n",
       "      <th>C_0_10</th>\n",
       "      <th>C_1_0</th>\n",
       "      <th>C_1_4</th>\n",
       "      <th>C_1_5</th>\n",
       "      <th>...</th>\n",
       "      <th>C_18_8</th>\n",
       "      <th>C_19_0</th>\n",
       "      <th>C_19_2</th>\n",
       "      <th>C_19_4</th>\n",
       "      <th>C_19_5</th>\n",
       "      <th>C_19_9</th>\n",
       "      <th>C_19_13</th>\n",
       "      <th>C_19_14</th>\n",
       "      <th>C_19_15</th>\n",
       "      <th>C_19_17</th>\n",
       "    </tr>\n",
       "  </thead>\n",
       "  <tbody>\n",
       "    <tr>\n",
       "      <th>0</th>\n",
       "      <td>211.668543</td>\n",
       "      <td>73.763627</td>\n",
       "      <td>73.002557</td>\n",
       "      <td>171.934676</td>\n",
       "      <td>273.680820</td>\n",
       "      <td>309.014469</td>\n",
       "      <td>22899.541126</td>\n",
       "      <td>910.980727</td>\n",
       "      <td>2692.358768</td>\n",
       "      <td>91.402536</td>\n",
       "      <td>...</td>\n",
       "      <td>447.280572</td>\n",
       "      <td>859.355056</td>\n",
       "      <td>791.627352</td>\n",
       "      <td>1127.802859</td>\n",
       "      <td>55.972529</td>\n",
       "      <td>823.858707</td>\n",
       "      <td>70.557745</td>\n",
       "      <td>2292.407763</td>\n",
       "      <td>2811.414582</td>\n",
       "      <td>258.165185</td>\n",
       "    </tr>\n",
       "    <tr>\n",
       "      <th>1</th>\n",
       "      <td>212.699649</td>\n",
       "      <td>73.802335</td>\n",
       "      <td>73.966894</td>\n",
       "      <td>172.515982</td>\n",
       "      <td>271.663915</td>\n",
       "      <td>310.944972</td>\n",
       "      <td>22587.408316</td>\n",
       "      <td>917.065744</td>\n",
       "      <td>2700.146220</td>\n",
       "      <td>91.143956</td>\n",
       "      <td>...</td>\n",
       "      <td>465.582013</td>\n",
       "      <td>861.960862</td>\n",
       "      <td>796.631003</td>\n",
       "      <td>1129.119936</td>\n",
       "      <td>55.958784</td>\n",
       "      <td>823.091280</td>\n",
       "      <td>74.536606</td>\n",
       "      <td>2245.590653</td>\n",
       "      <td>2800.726569</td>\n",
       "      <td>258.053405</td>\n",
       "    </tr>\n",
       "    <tr>\n",
       "      <th>2</th>\n",
       "      <td>213.914843</td>\n",
       "      <td>74.773784</td>\n",
       "      <td>76.834751</td>\n",
       "      <td>175.811411</td>\n",
       "      <td>278.429922</td>\n",
       "      <td>314.354855</td>\n",
       "      <td>22575.365872</td>\n",
       "      <td>915.205192</td>\n",
       "      <td>2702.949799</td>\n",
       "      <td>91.899641</td>\n",
       "      <td>...</td>\n",
       "      <td>492.905835</td>\n",
       "      <td>860.703690</td>\n",
       "      <td>794.191407</td>\n",
       "      <td>1115.908741</td>\n",
       "      <td>55.972877</td>\n",
       "      <td>821.422222</td>\n",
       "      <td>69.784241</td>\n",
       "      <td>2275.009548</td>\n",
       "      <td>2836.680658</td>\n",
       "      <td>259.999813</td>\n",
       "    </tr>\n",
       "    <tr>\n",
       "      <th>3</th>\n",
       "      <td>213.459771</td>\n",
       "      <td>74.192973</td>\n",
       "      <td>74.909234</td>\n",
       "      <td>173.464391</td>\n",
       "      <td>274.425780</td>\n",
       "      <td>317.654272</td>\n",
       "      <td>22600.673772</td>\n",
       "      <td>908.842063</td>\n",
       "      <td>2696.194109</td>\n",
       "      <td>91.304531</td>\n",
       "      <td>...</td>\n",
       "      <td>495.375577</td>\n",
       "      <td>855.460005</td>\n",
       "      <td>796.334961</td>\n",
       "      <td>1122.476089</td>\n",
       "      <td>56.545128</td>\n",
       "      <td>821.856052</td>\n",
       "      <td>74.250317</td>\n",
       "      <td>2281.086503</td>\n",
       "      <td>2807.982376</td>\n",
       "      <td>259.934725</td>\n",
       "    </tr>\n",
       "    <tr>\n",
       "      <th>4</th>\n",
       "      <td>213.781021</td>\n",
       "      <td>73.926655</td>\n",
       "      <td>73.569699</td>\n",
       "      <td>174.819428</td>\n",
       "      <td>275.389033</td>\n",
       "      <td>312.485463</td>\n",
       "      <td>23080.723494</td>\n",
       "      <td>909.769110</td>\n",
       "      <td>2696.392326</td>\n",
       "      <td>91.676029</td>\n",
       "      <td>...</td>\n",
       "      <td>457.797023</td>\n",
       "      <td>867.846304</td>\n",
       "      <td>798.830525</td>\n",
       "      <td>1273.793149</td>\n",
       "      <td>56.461570</td>\n",
       "      <td>821.935000</td>\n",
       "      <td>69.811363</td>\n",
       "      <td>2266.679346</td>\n",
       "      <td>2818.257554</td>\n",
       "      <td>258.154948</td>\n",
       "    </tr>\n",
       "    <tr>\n",
       "      <th>5</th>\n",
       "      <td>212.498512</td>\n",
       "      <td>74.018247</td>\n",
       "      <td>73.019845</td>\n",
       "      <td>171.644537</td>\n",
       "      <td>272.623780</td>\n",
       "      <td>317.628154</td>\n",
       "      <td>22600.733586</td>\n",
       "      <td>908.445610</td>\n",
       "      <td>2711.698564</td>\n",
       "      <td>90.332500</td>\n",
       "      <td>...</td>\n",
       "      <td>425.189823</td>\n",
       "      <td>859.943191</td>\n",
       "      <td>797.290545</td>\n",
       "      <td>1119.511992</td>\n",
       "      <td>55.937771</td>\n",
       "      <td>823.608397</td>\n",
       "      <td>74.069476</td>\n",
       "      <td>2266.431809</td>\n",
       "      <td>2834.116187</td>\n",
       "      <td>259.722083</td>\n",
       "    </tr>\n",
       "    <tr>\n",
       "      <th>6</th>\n",
       "      <td>212.556041</td>\n",
       "      <td>73.769614</td>\n",
       "      <td>74.950709</td>\n",
       "      <td>172.999630</td>\n",
       "      <td>272.804737</td>\n",
       "      <td>317.941953</td>\n",
       "      <td>22717.031077</td>\n",
       "      <td>915.400941</td>\n",
       "      <td>2689.204095</td>\n",
       "      <td>90.604406</td>\n",
       "      <td>...</td>\n",
       "      <td>473.052137</td>\n",
       "      <td>864.143026</td>\n",
       "      <td>795.825025</td>\n",
       "      <td>1378.877022</td>\n",
       "      <td>55.969896</td>\n",
       "      <td>820.902617</td>\n",
       "      <td>76.107542</td>\n",
       "      <td>2229.644597</td>\n",
       "      <td>2816.143189</td>\n",
       "      <td>258.847585</td>\n",
       "    </tr>\n",
       "    <tr>\n",
       "      <th>7</th>\n",
       "      <td>213.162579</td>\n",
       "      <td>73.701766</td>\n",
       "      <td>73.892428</td>\n",
       "      <td>171.746855</td>\n",
       "      <td>272.941605</td>\n",
       "      <td>314.820736</td>\n",
       "      <td>23134.812968</td>\n",
       "      <td>910.065075</td>\n",
       "      <td>2692.972521</td>\n",
       "      <td>91.479349</td>\n",
       "      <td>...</td>\n",
       "      <td>448.240675</td>\n",
       "      <td>856.211678</td>\n",
       "      <td>798.042995</td>\n",
       "      <td>1125.840330</td>\n",
       "      <td>55.954298</td>\n",
       "      <td>820.412235</td>\n",
       "      <td>69.762888</td>\n",
       "      <td>2267.198432</td>\n",
       "      <td>2827.055009</td>\n",
       "      <td>262.783311</td>\n",
       "    </tr>\n",
       "    <tr>\n",
       "      <th>8</th>\n",
       "      <td>215.743213</td>\n",
       "      <td>74.335241</td>\n",
       "      <td>75.358634</td>\n",
       "      <td>173.748313</td>\n",
       "      <td>275.383745</td>\n",
       "      <td>312.714402</td>\n",
       "      <td>22777.819598</td>\n",
       "      <td>910.697823</td>\n",
       "      <td>2681.425900</td>\n",
       "      <td>91.409282</td>\n",
       "      <td>...</td>\n",
       "      <td>403.830394</td>\n",
       "      <td>862.043276</td>\n",
       "      <td>797.749882</td>\n",
       "      <td>1130.291455</td>\n",
       "      <td>55.946032</td>\n",
       "      <td>825.050279</td>\n",
       "      <td>69.707261</td>\n",
       "      <td>2232.882046</td>\n",
       "      <td>2822.241841</td>\n",
       "      <td>256.341058</td>\n",
       "    </tr>\n",
       "    <tr>\n",
       "      <th>9</th>\n",
       "      <td>214.095520</td>\n",
       "      <td>74.152991</td>\n",
       "      <td>73.140666</td>\n",
       "      <td>173.518477</td>\n",
       "      <td>276.098178</td>\n",
       "      <td>313.490458</td>\n",
       "      <td>22885.963336</td>\n",
       "      <td>912.453685</td>\n",
       "      <td>2671.184085</td>\n",
       "      <td>90.482939</td>\n",
       "      <td>...</td>\n",
       "      <td>522.495389</td>\n",
       "      <td>860.030489</td>\n",
       "      <td>794.418086</td>\n",
       "      <td>1107.063758</td>\n",
       "      <td>55.948748</td>\n",
       "      <td>820.404703</td>\n",
       "      <td>70.049731</td>\n",
       "      <td>2238.546459</td>\n",
       "      <td>2829.417078</td>\n",
       "      <td>259.639338</td>\n",
       "    </tr>\n",
       "  </tbody>\n",
       "</table>\n",
       "<p>10 rows × 265 columns</p>\n",
       "</div>"
      ],
      "text/plain": [
       "        C_0_0      C_0_1      C_0_2       C_0_7       C_0_8       C_0_9  \\\n",
       "0  211.668543  73.763627  73.002557  171.934676  273.680820  309.014469   \n",
       "1  212.699649  73.802335  73.966894  172.515982  271.663915  310.944972   \n",
       "2  213.914843  74.773784  76.834751  175.811411  278.429922  314.354855   \n",
       "3  213.459771  74.192973  74.909234  173.464391  274.425780  317.654272   \n",
       "4  213.781021  73.926655  73.569699  174.819428  275.389033  312.485463   \n",
       "5  212.498512  74.018247  73.019845  171.644537  272.623780  317.628154   \n",
       "6  212.556041  73.769614  74.950709  172.999630  272.804737  317.941953   \n",
       "7  213.162579  73.701766  73.892428  171.746855  272.941605  314.820736   \n",
       "8  215.743213  74.335241  75.358634  173.748313  275.383745  312.714402   \n",
       "9  214.095520  74.152991  73.140666  173.518477  276.098178  313.490458   \n",
       "\n",
       "         C_0_10       C_1_0        C_1_4      C_1_5  ...      C_18_8  \\\n",
       "0  22899.541126  910.980727  2692.358768  91.402536  ...  447.280572   \n",
       "1  22587.408316  917.065744  2700.146220  91.143956  ...  465.582013   \n",
       "2  22575.365872  915.205192  2702.949799  91.899641  ...  492.905835   \n",
       "3  22600.673772  908.842063  2696.194109  91.304531  ...  495.375577   \n",
       "4  23080.723494  909.769110  2696.392326  91.676029  ...  457.797023   \n",
       "5  22600.733586  908.445610  2711.698564  90.332500  ...  425.189823   \n",
       "6  22717.031077  915.400941  2689.204095  90.604406  ...  473.052137   \n",
       "7  23134.812968  910.065075  2692.972521  91.479349  ...  448.240675   \n",
       "8  22777.819598  910.697823  2681.425900  91.409282  ...  403.830394   \n",
       "9  22885.963336  912.453685  2671.184085  90.482939  ...  522.495389   \n",
       "\n",
       "       C_19_0      C_19_2       C_19_4     C_19_5      C_19_9    C_19_13  \\\n",
       "0  859.355056  791.627352  1127.802859  55.972529  823.858707  70.557745   \n",
       "1  861.960862  796.631003  1129.119936  55.958784  823.091280  74.536606   \n",
       "2  860.703690  794.191407  1115.908741  55.972877  821.422222  69.784241   \n",
       "3  855.460005  796.334961  1122.476089  56.545128  821.856052  74.250317   \n",
       "4  867.846304  798.830525  1273.793149  56.461570  821.935000  69.811363   \n",
       "5  859.943191  797.290545  1119.511992  55.937771  823.608397  74.069476   \n",
       "6  864.143026  795.825025  1378.877022  55.969896  820.902617  76.107542   \n",
       "7  856.211678  798.042995  1125.840330  55.954298  820.412235  69.762888   \n",
       "8  862.043276  797.749882  1130.291455  55.946032  825.050279  69.707261   \n",
       "9  860.030489  794.418086  1107.063758  55.948748  820.404703  70.049731   \n",
       "\n",
       "       C_19_14      C_19_15     C_19_17  \n",
       "0  2292.407763  2811.414582  258.165185  \n",
       "1  2245.590653  2800.726569  258.053405  \n",
       "2  2275.009548  2836.680658  259.999813  \n",
       "3  2281.086503  2807.982376  259.934725  \n",
       "4  2266.679346  2818.257554  258.154948  \n",
       "5  2266.431809  2834.116187  259.722083  \n",
       "6  2229.644597  2816.143189  258.847585  \n",
       "7  2267.198432  2827.055009  262.783311  \n",
       "8  2232.882046  2822.241841  256.341058  \n",
       "9  2238.546459  2829.417078  259.639338  \n",
       "\n",
       "[10 rows x 265 columns]"
      ]
     },
     "execution_count": 12,
     "metadata": {},
     "output_type": "execute_result"
    }
   ],
   "source": [
    "orig"
   ]
  },
  {
   "cell_type": "markdown",
   "metadata": {
    "id": "VjLlnBRVMyxz"
   },
   "source": [
    "## Coefficient of Variation"
   ]
  },
  {
   "cell_type": "code",
   "execution_count": 13,
   "metadata": {
    "colab": {
     "base_uri": "https://localhost:8080/",
     "height": 282
    },
    "executionInfo": {
     "elapsed": 722,
     "status": "ok",
     "timestamp": 1675116990810,
     "user": {
      "displayName": "Stefanos Baziotis",
      "userId": "18398596100745288229"
     },
     "user_tz": 360
    },
    "id": "vuGRxgA-MmBt",
    "outputId": "422884e5-fb22-4d66-cac1-104c55a71cb8"
   },
   "outputs": [
    {
     "data": {
      "text/plain": [
       "<Axes: >"
      ]
     },
     "execution_count": 13,
     "metadata": {},
     "output_type": "execute_result"
    },
    {
     "data": {
      "image/png": "[encoded data removed]",
      "text/plain": [
       "<Figure size 2000x400 with 1 Axes>"
      ]
     },
     "metadata": {},
     "output_type": "display_data"
    }
   ],
   "source": [
    "# Coefficient of variation\n",
    "def coef_of_var(df):\n",
    "  return df.apply(lambda cell: cell.std() / cell.mean())\n",
    "\n",
    "CV_orig = coef_of_var(orig)\n",
    "CV_orig.hist(bins=60, figsize=(20, 4))"
   ]
  },
  {
   "cell_type": "markdown",
   "metadata": {
    "id": "wfTSAy4oM43z"
   },
   "source": [
    "## Geomean Difference"
   ]
  },
  {
   "cell_type": "code",
   "execution_count": 14,
   "metadata": {
    "colab": {
     "base_uri": "https://localhost:8080/",
     "height": 282
    },
    "executionInfo": {
     "elapsed": 826,
     "status": "ok",
     "timestamp": 1675116991634,
     "user": {
      "displayName": "Stefanos Baziotis",
      "userId": "18398596100745288229"
     },
     "user_tz": 360
    },
    "id": "PhRd-0qpM8PL",
    "outputId": "03ea7cf2-f318-4606-a0ea-343f4cdc6c05"
   },
   "outputs": [],
   "source": [
    "mean_orig = orig.apply(lambda cell: cell.mean())\n",
    "mean_rewr = rewr.apply(lambda cell: cell.mean())\n",
    "mean_diff = mean_orig - mean_rewr\n",
    "mean_df = pd.DataFrame({'Mean Diff': mean_diff})"
   ]
  },
  {
   "cell_type": "code",
   "execution_count": 15,
   "metadata": {
    "id": "T-PGjNJHRrra"
   },
   "outputs": [],
   "source": [
    "mean_df['Std. Dev.'] = mean_df.apply(lambda c: orig[c.name].std(), axis=1)"
   ]
  },
  {
   "cell_type": "markdown",
   "metadata": {
    "id": "CK_EXQhSNLVE"
   },
   "source": [
    "### Largest Speedups"
   ]
  },
  {
   "cell_type": "code",
   "execution_count": 16,
   "metadata": {
    "colab": {
     "base_uri": "https://localhost:8080/",
     "height": 676
    },
    "executionInfo": {
     "elapsed": 10,
     "status": "ok",
     "timestamp": 1675116991836,
     "user": {
      "displayName": "Stefanos Baziotis",
      "userId": "18398596100745288229"
     },
     "user_tz": 360
    },
    "id": "fOjREpBrNN6r",
    "outputId": "a89d2005-864b-4dd9-dac5-ba8314d5518e"
   },
   "outputs": [
    {
     "data": {
      "text/html": [
       "<div>\n",
       "<style scoped>\n",
       "    .dataframe tbody tr th:only-of-type {\n",
       "        vertical-align: middle;\n",
       "    }\n",
       "\n",
       "    .dataframe tbody tr th {\n",
       "        vertical-align: top;\n",
       "    }\n",
       "\n",
       "    .dataframe thead th {\n",
       "        text-align: right;\n",
       "    }\n",
       "</style>\n",
       "<table border=\"1\" class=\"dataframe\">\n",
       "  <thead>\n",
       "    <tr style=\"text-align: right;\">\n",
       "      <th></th>\n",
       "      <th>Mean Diff</th>\n",
       "      <th>Std. Dev.</th>\n",
       "    </tr>\n",
       "  </thead>\n",
       "  <tbody>\n",
       "    <tr>\n",
       "      <th>C_2_10</th>\n",
       "      <td>11158.886879</td>\n",
       "      <td>48.018738</td>\n",
       "    </tr>\n",
       "    <tr>\n",
       "      <th>C_8_17</th>\n",
       "      <td>6191.441970</td>\n",
       "      <td>58.202982</td>\n",
       "    </tr>\n",
       "    <tr>\n",
       "      <th>C_5_9</th>\n",
       "      <td>3164.089337</td>\n",
       "      <td>42.388038</td>\n",
       "    </tr>\n",
       "    <tr>\n",
       "      <th>C_1_18</th>\n",
       "      <td>1640.357471</td>\n",
       "      <td>14.887223</td>\n",
       "    </tr>\n",
       "    <tr>\n",
       "      <th>C_7_13</th>\n",
       "      <td>1277.211227</td>\n",
       "      <td>52.841800</td>\n",
       "    </tr>\n",
       "    <tr>\n",
       "      <th>C_6_19</th>\n",
       "      <td>1024.354920</td>\n",
       "      <td>16.229899</td>\n",
       "    </tr>\n",
       "    <tr>\n",
       "      <th>C_5_22</th>\n",
       "      <td>1008.156062</td>\n",
       "      <td>26.100311</td>\n",
       "    </tr>\n",
       "    <tr>\n",
       "      <th>C_6_18</th>\n",
       "      <td>784.091062</td>\n",
       "      <td>14.089235</td>\n",
       "    </tr>\n",
       "    <tr>\n",
       "      <th>C_6_14</th>\n",
       "      <td>598.072587</td>\n",
       "      <td>6.903175</td>\n",
       "    </tr>\n",
       "    <tr>\n",
       "      <th>C_9_24</th>\n",
       "      <td>538.937951</td>\n",
       "      <td>18.792507</td>\n",
       "    </tr>\n",
       "    <tr>\n",
       "      <th>C_1_9</th>\n",
       "      <td>487.185266</td>\n",
       "      <td>2.120446</td>\n",
       "    </tr>\n",
       "    <tr>\n",
       "      <th>C_1_10</th>\n",
       "      <td>412.798612</td>\n",
       "      <td>2.879222</td>\n",
       "    </tr>\n",
       "    <tr>\n",
       "      <th>C_3_4</th>\n",
       "      <td>336.946041</td>\n",
       "      <td>39.469620</td>\n",
       "    </tr>\n",
       "    <tr>\n",
       "      <th>C_1_32</th>\n",
       "      <td>267.618406</td>\n",
       "      <td>7.849031</td>\n",
       "    </tr>\n",
       "    <tr>\n",
       "      <th>C_7_5</th>\n",
       "      <td>243.515972</td>\n",
       "      <td>63.411386</td>\n",
       "    </tr>\n",
       "    <tr>\n",
       "      <th>C_19_0</th>\n",
       "      <td>225.286098</td>\n",
       "      <td>3.600958</td>\n",
       "    </tr>\n",
       "    <tr>\n",
       "      <th>C_8_0</th>\n",
       "      <td>224.275945</td>\n",
       "      <td>5.525986</td>\n",
       "    </tr>\n",
       "    <tr>\n",
       "      <th>C_18_0</th>\n",
       "      <td>224.170433</td>\n",
       "      <td>2.889417</td>\n",
       "    </tr>\n",
       "    <tr>\n",
       "      <th>C_11_0</th>\n",
       "      <td>223.876918</td>\n",
       "      <td>3.787154</td>\n",
       "    </tr>\n",
       "    <tr>\n",
       "      <th>C_3_0</th>\n",
       "      <td>223.532987</td>\n",
       "      <td>1.718073</td>\n",
       "    </tr>\n",
       "  </tbody>\n",
       "</table>\n",
       "</div>"
      ],
      "text/plain": [
       "           Mean Diff  Std. Dev.\n",
       "C_2_10  11158.886879  48.018738\n",
       "C_8_17   6191.441970  58.202982\n",
       "C_5_9    3164.089337  42.388038\n",
       "C_1_18   1640.357471  14.887223\n",
       "C_7_13   1277.211227  52.841800\n",
       "C_6_19   1024.354920  16.229899\n",
       "C_5_22   1008.156062  26.100311\n",
       "C_6_18    784.091062  14.089235\n",
       "C_6_14    598.072587   6.903175\n",
       "C_9_24    538.937951  18.792507\n",
       "C_1_9     487.185266   2.120446\n",
       "C_1_10    412.798612   2.879222\n",
       "C_3_4     336.946041  39.469620\n",
       "C_1_32    267.618406   7.849031\n",
       "C_7_5     243.515972  63.411386\n",
       "C_19_0    225.286098   3.600958\n",
       "C_8_0     224.275945   5.525986\n",
       "C_18_0    224.170433   2.889417\n",
       "C_11_0    223.876918   3.787154\n",
       "C_3_0     223.532987   1.718073"
      ]
     },
     "execution_count": 16,
     "metadata": {},
     "output_type": "execute_result"
    }
   ],
   "source": [
    "mean_df.nlargest(n=20, columns='Mean Diff')"
   ]
  },
  {
   "cell_type": "markdown",
   "metadata": {
    "id": "x_gh6X38PI8L"
   },
   "source": [
    "### Largest Slowdowns"
   ]
  },
  {
   "cell_type": "code",
   "execution_count": 17,
   "metadata": {
    "colab": {
     "base_uri": "https://localhost:8080/",
     "height": 363
    },
    "executionInfo": {
     "elapsed": 8,
     "status": "ok",
     "timestamp": 1675116991987,
     "user": {
      "displayName": "Stefanos Baziotis",
      "userId": "18398596100745288229"
     },
     "user_tz": 360
    },
    "id": "t4wRb8B_PCLD",
    "outputId": "b925d6a6-e2cc-4d7a-92fc-206b16e18db2"
   },
   "outputs": [
    {
     "data": {
      "text/html": [
       "<div>\n",
       "<style scoped>\n",
       "    .dataframe tbody tr th:only-of-type {\n",
       "        vertical-align: middle;\n",
       "    }\n",
       "\n",
       "    .dataframe tbody tr th {\n",
       "        vertical-align: top;\n",
       "    }\n",
       "\n",
       "    .dataframe thead th {\n",
       "        text-align: right;\n",
       "    }\n",
       "</style>\n",
       "<table border=\"1\" class=\"dataframe\">\n",
       "  <thead>\n",
       "    <tr style=\"text-align: right;\">\n",
       "      <th></th>\n",
       "      <th>Mean Diff</th>\n",
       "      <th>Std. Dev.</th>\n",
       "    </tr>\n",
       "  </thead>\n",
       "  <tbody>\n",
       "    <tr>\n",
       "      <th>C_9_18</th>\n",
       "      <td>-7990.551538</td>\n",
       "      <td>2581.332707</td>\n",
       "    </tr>\n",
       "    <tr>\n",
       "      <th>C_15_9</th>\n",
       "      <td>-616.752212</td>\n",
       "      <td>350.154442</td>\n",
       "    </tr>\n",
       "    <tr>\n",
       "      <th>C_1_30</th>\n",
       "      <td>-322.449852</td>\n",
       "      <td>39.802125</td>\n",
       "    </tr>\n",
       "    <tr>\n",
       "      <th>C_1_27</th>\n",
       "      <td>-264.969663</td>\n",
       "      <td>1.059390</td>\n",
       "    </tr>\n",
       "    <tr>\n",
       "      <th>C_4_21</th>\n",
       "      <td>-205.814311</td>\n",
       "      <td>109.181008</td>\n",
       "    </tr>\n",
       "    <tr>\n",
       "      <th>C_5_14</th>\n",
       "      <td>-175.034914</td>\n",
       "      <td>10.528305</td>\n",
       "    </tr>\n",
       "    <tr>\n",
       "      <th>C_5_11</th>\n",
       "      <td>-115.771639</td>\n",
       "      <td>1.628433</td>\n",
       "    </tr>\n",
       "    <tr>\n",
       "      <th>C_17_12</th>\n",
       "      <td>-98.728119</td>\n",
       "      <td>1.998952</td>\n",
       "    </tr>\n",
       "    <tr>\n",
       "      <th>C_4_29</th>\n",
       "      <td>-98.087023</td>\n",
       "      <td>74.319835</td>\n",
       "    </tr>\n",
       "    <tr>\n",
       "      <th>C_17_5</th>\n",
       "      <td>-67.300952</td>\n",
       "      <td>15.880906</td>\n",
       "    </tr>\n",
       "  </tbody>\n",
       "</table>\n",
       "</div>"
      ],
      "text/plain": [
       "           Mean Diff    Std. Dev.\n",
       "C_9_18  -7990.551538  2581.332707\n",
       "C_15_9   -616.752212   350.154442\n",
       "C_1_30   -322.449852    39.802125\n",
       "C_1_27   -264.969663     1.059390\n",
       "C_4_21   -205.814311   109.181008\n",
       "C_5_14   -175.034914    10.528305\n",
       "C_5_11   -115.771639     1.628433\n",
       "C_17_12   -98.728119     1.998952\n",
       "C_4_29    -98.087023    74.319835\n",
       "C_17_5    -67.300952    15.880906"
      ]
     },
     "execution_count": 17,
     "metadata": {},
     "output_type": "execute_result"
    }
   ],
   "source": [
    "largest_abs_slowdowns = mean_df.nsmallest(n=10, columns='Mean Diff')\n",
    "largest_abs_slowdowns"
   ]
  },
  {
   "cell_type": "markdown",
   "metadata": {
    "id": "9PdYJClWb4g7"
   },
   "source": [
    "## Relative Speedups"
   ]
  },
  {
   "cell_type": "code",
   "execution_count": 18,
   "metadata": {
    "colab": {
     "base_uri": "https://localhost:8080/",
     "height": 297
    },
    "executionInfo": {
     "elapsed": 1866,
     "status": "ok",
     "timestamp": 1675116994651,
     "user": {
      "displayName": "Stefanos Baziotis",
      "userId": "18398596100745288229"
     },
     "user_tz": 360
    },
    "id": "p_QsX5Fdb3ER",
    "outputId": "a9a62c6a-e2b3-498d-9533-16eb61dd819f"
   },
   "outputs": [
    {
     "name": "stdout",
     "output_type": "stream",
     "text": [
      "59\n"
     ]
    },
    {
     "data": {
      "text/plain": [
       "<Axes: xlabel='Cells', ylabel='Relative Speedup'>"
      ]
     },
     "execution_count": 18,
     "metadata": {},
     "output_type": "execute_result"
    },
    {
     "data": {
      "image/png": "[encoded data removed]",
      "text/plain": [
       "<Figure size 2000x400 with 1 Axes>"
      ]
     },
     "metadata": {},
     "output_type": "display_data"
    }
   ],
   "source": [
    "mean_speedup = mean_orig / mean_rewr\n",
    "mean_speedup = only_hits_cell(mean_speedup)\n",
    "index_to_nums = mean_speedup.reset_index().drop('index', axis=1)\n",
    "index_to_nums = index_to_nums.sort_values(by=0)[0]\n",
    "drop_within_10_perc = index_to_nums.drop(index_to_nums[(0.9 < index_to_nums) & (index_to_nums < 1.1)].index)\n",
    "\n",
    "print(len(drop_within_10_perc))\n",
    "\n",
    "thing_to_plot = drop_within_10_perc\n",
    "ax = thing_to_plot.plot(kind=\"bar\", figsize=(20, 4) )\n",
    "\n",
    "ax.axhline(1, color='red')\n",
    "ax.axhline(2, color=(0.1, 0.2, 0.5, 0.6), dashes=(5, 2, 1, 2))\n",
    "ax.axhline(5, color=(0.1, 0.2, 0.5, 0.6), dashes=(5, 2, 1, 2))\n",
    "\n",
    "ax.yaxis.set_tick_params(labelsize=18)\n",
    "\n",
    "ax.set_xlabel(\"Cells\", fontsize=20)\n",
    "ax.set_ylabel(\"Relative Speedup\", fontsize=20)\n",
    "\n",
    "ax.set_yscale(\"log\")\n",
    "\n",
    "ax.set_xticks([])\n",
    "ax.set_yticks([0.2, 0.5, 1, 2, 5, 10, 20, 50])\n",
    "ax.get_yaxis().set_major_formatter(matplotlib.ticker.ScalarFormatter())\n",
    "# ax.set_xticks([])\n",
    "plt.savefig(f'{figs_dir}/cell_level.pdf', bbox_inches='tight')\n",
    "ax"
   ]
  },
  {
   "cell_type": "code",
   "execution_count": 19,
   "metadata": {},
   "outputs": [
    {
     "data": {
      "text/plain": [
       "<Axes: xlabel='Cells', ylabel='Relative Speedup'>"
      ]
     },
     "execution_count": 19,
     "metadata": {},
     "output_type": "execute_result"
    },
    {
     "data": {
      "image/png": "[encoded data removed]",
      "text/plain": [
       "<Figure size 1200x400 with 1 Axes>"
      ]
     },
     "metadata": {},
     "output_type": "display_data"
    }
   ],
   "source": [
    "only_cell_slowdowns = mean_speedup.drop(mean_speedup[(0.9 < mean_speedup)].index)\n",
    "only_cell_slowdowns = only_cell_slowdowns.sort_values()\n",
    "\n",
    "# ax = only_cell_slowdowns.plot(kind=\"bar\", figsize=(6, 2), color=(56/255, 176/255, 194/255, 1))\n",
    "# ax = only_cell_slowdowns.plot(kind=\"bar\", figsize=(8, 2), color=(183/255, 19/255, 104/255, 1))\n",
    "ax = only_cell_slowdowns.plot(kind=\"bar\", figsize=(12, 4))\n",
    "ax.set_ylabel('Relative Speedup', fontsize=17)\n",
    "ax.set_xlabel('Cells', fontsize=17)\n",
    "# ax.axhline(1, color='red')\n",
    "ax.yaxis.set_tick_params(labelsize=15)\n",
    "ax.grid(visible=True, axis='y')\n",
    "plt.ylim(top=1.0, bottom=0.6)\n",
    "ax.set_xticks([])\n",
    "ax.set_yticks([x for x in np.arange(0.6, 1.0 + 0.001, 0.1)])\n",
    "\n",
    "rects = ax.patches\n",
    "\n",
    "abs_values = [-mean_df.loc[i]['Mean Diff'] for i in only_cell_slowdowns.index]\n",
    "\n",
    "for rect, label in zip(rects, abs_values):\n",
    "    height = rect.get_height()\n",
    "    ax.text(\n",
    "        rect.get_x() + rect.get_width() / 2, height + 0.01, str(int(label)) + \"ms\", ha=\"center\", va=\"bottom\", fontsize=15\n",
    "    )\n",
    "\n",
    "\n",
    "plt.savefig(f'{figs_dir}/cells_only_slowdowns.pdf', bbox_inches='tight', pad_inches=0)\n",
    "ax"
   ]
  },
  {
   "cell_type": "code",
   "execution_count": 20,
   "metadata": {
    "colab": {
     "base_uri": "https://localhost:8080/"
    },
    "executionInfo": {
     "elapsed": 7,
     "status": "ok",
     "timestamp": 1675116994651,
     "user": {
      "displayName": "Stefanos Baziotis",
      "userId": "18398596100745288229"
     },
     "user_tz": 360
    },
    "id": "fgG7_hwPdroy",
    "outputId": "ed7a1b4b-b8be-41c4-ae96-a2c4305a83c7"
   },
   "outputs": [
    {
     "data": {
      "text/plain": [
       "C_9_8     56.434005\n",
       "C_0_0     46.686228\n",
       "C_7_0     37.119927\n",
       "C_8_17    36.155426\n",
       "C_2_10    14.439058\n",
       "C_6_19     5.515624\n",
       "C_6_18     5.511805\n",
       "C_1_9      5.126495\n",
       "C_3_0      4.331924\n",
       "C_6_14     3.571321\n",
       "dtype: float64"
      ]
     },
     "execution_count": 20,
     "metadata": {},
     "output_type": "execute_result"
    }
   ],
   "source": [
    "mean_speedup.nlargest(10)"
   ]
  },
  {
   "cell_type": "code",
   "execution_count": 21,
   "metadata": {
    "colab": {
     "base_uri": "https://localhost:8080/"
    },
    "executionInfo": {
     "elapsed": 149,
     "status": "ok",
     "timestamp": 1675116994797,
     "user": {
      "displayName": "Stefanos Baziotis",
      "userId": "18398596100745288229"
     },
     "user_tz": 360
    },
    "id": "hLVHO_bOgTHL",
    "outputId": "b348f2df-8e56-4499-d64f-9ca1ec50088d"
   },
   "outputs": [
    {
     "data": {
      "text/plain": [
       "C_1_27    0.640411\n",
       "C_1_28    0.647992\n",
       "C_1_29    0.682809\n",
       "C_1_30    0.749646\n",
       "C_5_11    0.896888\n",
       "C_6_8     0.898016\n",
       "C_5_14    0.935346\n",
       "C_1_5     0.948591\n",
       "C_1_37    0.960133\n",
       "C_8_6     0.961602\n",
       "dtype: float64"
      ]
     },
     "execution_count": 21,
     "metadata": {},
     "output_type": "execute_result"
    }
   ],
   "source": [
    "mean_speedup.nsmallest(10)"
   ]
  },
  {
   "cell_type": "markdown",
   "metadata": {},
   "source": [
    "## Geomean Per-Cell Relative Speedup"
   ]
  },
  {
   "cell_type": "code",
   "execution_count": 22,
   "metadata": {},
   "outputs": [
    {
     "data": {
      "text/plain": [
       "1.27642853328204"
      ]
     },
     "execution_count": 22,
     "metadata": {},
     "output_type": "execute_result"
    }
   ],
   "source": [
    "stats.gmean(mean_speedup)"
   ]
  },
  {
   "cell_type": "markdown",
   "metadata": {
    "id": "6fT3OoD1mFsF"
   },
   "source": [
    "## Whole Notebooks"
   ]
  },
  {
   "cell_type": "code",
   "execution_count": 23,
   "metadata": {
    "id": "-daMVVrXnSlr"
   },
   "outputs": [],
   "source": [
    "max_nb = max([int(nb.split(\"_\")[1]) for nb in orig.columns])\n",
    "def get_whole_mean(df):\n",
    "    nb_means = []\n",
    "    for i in range(max_nb + 1):\n",
    "        # All columns (i.e., cells) of the i-th notebook\n",
    "        col_set = [col for col in df.columns if col.split(\"_\")[1] == str(i)]\n",
    "        # Sum horizontally. Each element of the resulting Series is one run of the whole notebook\n",
    "        nb_runs = df[col_set].sum(axis=1)\n",
    "        # Take the mean (across runs)\n",
    "        nb_means.append(nb_runs.mean())\n",
    "    \n",
    "    return pd.Series(nb_means)"
   ]
  },
  {
   "cell_type": "code",
   "execution_count": 24,
   "metadata": {
    "id": "KdWDXtIN-QQN"
   },
   "outputs": [],
   "source": [
    "orig_whole = get_whole_mean(orig)\n",
    "rewr_whole = get_whole_mean(rewr)"
   ]
  },
  {
   "cell_type": "code",
   "execution_count": 25,
   "metadata": {
    "colab": {
     "base_uri": "https://localhost:8080/",
     "height": 531
    },
    "executionInfo": {
     "elapsed": 709,
     "status": "ok",
     "timestamp": 1675117605511,
     "user": {
      "displayName": "Stefanos Baziotis",
      "userId": "18398596100745288229"
     },
     "user_tz": 360
    },
    "id": "0c39lVihuH1K",
    "outputId": "76d383b6-73e8-416a-9eca-824e1be7a9b5"
   },
   "outputs": [
    {
     "data": {
      "text/plain": [
       "<Axes: xlabel='Notebooks', ylabel='Relative Speedup'>"
      ]
     },
     "execution_count": 25,
     "metadata": {},
     "output_type": "execute_result"
    },
    {
     "data": {
      "image/png": "[encoded data removed]",
      "text/plain": [
       "<Figure size 1000x600 with 1 Axes>"
      ]
     },
     "metadata": {},
     "output_type": "display_data"
    }
   ],
   "source": [
    "mean_whole_speedup = orig_whole / rewr_whole\n",
    "\n",
    "mean_whole_speedup = only_hits_nb(mean_whole_speedup)\n",
    "\n",
    "new_index = []\n",
    "for nb_idx in mean_whole_speedup.index:\n",
    "  new_index.append(nb_labels[nb_idx])\n",
    "mean_whole_speedup.index = pd.Series(new_index)\n",
    "\n",
    "to_plot_sorted = mean_whole_speedup.sort_values()\n",
    "ax = to_plot_sorted.plot(kind=\"bar\", figsize=(10, 6) )\n",
    "ax.set_ylabel('Relative Speedup', fontsize=20)\n",
    "ax.set_xlabel('Notebooks', fontsize=20)\n",
    "ax.axhline(1, color='red')\n",
    "ax.grid(visible=True, axis='y')\n",
    "ax.yaxis.set_tick_params(labelsize=18)\n",
    "plt.xticks(rotation=70, fontsize=14)\n",
    "plt.savefig(f'{figs_dir}/nb_level.pdf', bbox_inches='tight')\n",
    "ax"
   ]
  },
  {
   "cell_type": "code",
   "execution_count": 26,
   "metadata": {},
   "outputs": [
    {
     "data": {
      "text/plain": [
       "movie-recomm           0.974532\n",
       "animal-crossing        0.998260\n",
       "feedb-eda-hf-sift      1.020132\n",
       "netflix-data-viz       1.052871\n",
       "env-ai-startups-eda    1.109086\n",
       "kaggle-survey-2022     1.159023\n",
       "course-prediction      1.220664\n",
       "adidas-retail-eda      1.352785\n",
       "student-perf           1.947642\n",
       "sales-pred-xgboost     3.553830\n",
       "dtype: float64"
      ]
     },
     "execution_count": 26,
     "metadata": {},
     "output_type": "execute_result"
    }
   ],
   "source": [
    "mean_whole_speedup.sort_values()"
   ]
  },
  {
   "cell_type": "markdown",
   "metadata": {},
   "source": [
    "## Geomean Per-NB Relative Speedup"
   ]
  },
  {
   "cell_type": "code",
   "execution_count": 27,
   "metadata": {},
   "outputs": [
    {
     "data": {
      "text/plain": [
       "1.3140621761615716"
      ]
     },
     "execution_count": 27,
     "metadata": {},
     "output_type": "execute_result"
    }
   ],
   "source": [
    "stats.gmean(mean_whole_speedup)"
   ]
  },
  {
   "cell_type": "markdown",
   "metadata": {
    "id": "1iQMjGF4LmlI"
   },
   "source": [
    "# Compare with Modin"
   ]
  },
  {
   "cell_type": "code",
   "execution_count": 28,
   "metadata": {
    "id": "dJHzzqN-LvkI"
   },
   "outputs": [],
   "source": [
    "base_less_repl, mem_base = read_stats(\"stats-rewr_OFF-modin_OFF-repl_LESS-modin_mem_OFF\")\n",
    "rewr_less_repl, mem_rewr = read_stats(\"stats-rewr_ON-modin_OFF-repl_LESS-modin_mem_OFF\")\n",
    "modin_12, mem_modin12 = read_modin_stats(\"stats-rewr_OFF-modin_12-repl_LESS-modin_mem_OFF\")\n",
    "modin_8, mem_modin8 = read_modin_stats(\"stats-rewr_OFF-modin_8-repl_LESS-modin_mem_OFF\")\n",
    "modin_4, mem_modin4 = read_modin_stats(\"stats-rewr_OFF-modin_4-repl_LESS-modin_mem_OFF\")"
   ]
  },
  {
   "cell_type": "code",
   "execution_count": 29,
   "metadata": {
    "colab": {
     "base_uri": "https://localhost:8080/",
     "height": 333
    },
    "executionInfo": {
     "elapsed": 759,
     "status": "ok",
     "timestamp": 1675117134859,
     "user": {
      "displayName": "Stefanos Baziotis",
      "userId": "18398596100745288229"
     },
     "user_tz": 360
    },
    "id": "zQpBgZqxMFUR",
    "outputId": "a46157ba-96dd-4c78-c6e9-90c493aecf6e"
   },
   "outputs": [],
   "source": [
    "_mod_mean_base = base_less_repl.apply(lambda cell: cell.mean())\n",
    "_mod_mean_rewr = rewr_less_repl.apply(lambda cell: cell.mean())\n",
    "_mod_mean_modin12 = modin_12.apply(lambda cell: cell.mean())\n",
    "_mod_mean_modin8 = modin_8.apply(lambda cell: cell.mean())\n",
    "# _mod_mean_modin4 = modin_4.apply(lambda cell: cell.mean())\n",
    "\n",
    "\n",
    "_mod_rewr_diff = _mod_mean_base - _mod_mean_rewr\n",
    "_mod_modin12_diff = _mod_mean_base - _mod_mean_modin12\n",
    "_mod_mean_df = pd.DataFrame({'Mean Rewr': _mod_rewr_diff, 'Mean Modin-12': _mod_modin12_diff})"
   ]
  },
  {
   "cell_type": "code",
   "execution_count": 30,
   "metadata": {
    "colab": {
     "base_uri": "https://localhost:8080/",
     "height": 363
    },
    "executionInfo": {
     "elapsed": 7,
     "status": "ok",
     "timestamp": 1675117134859,
     "user": {
      "displayName": "Stefanos Baziotis",
      "userId": "18398596100745288229"
     },
     "user_tz": 360
    },
    "id": "7AlGDuYuNVcQ",
    "outputId": "6a81b9d9-2f9b-4e02-a768-2be3c1a5944e"
   },
   "outputs": [
    {
     "data": {
      "text/html": [
       "<div>\n",
       "<style scoped>\n",
       "    .dataframe tbody tr th:only-of-type {\n",
       "        vertical-align: middle;\n",
       "    }\n",
       "\n",
       "    .dataframe tbody tr th {\n",
       "        vertical-align: top;\n",
       "    }\n",
       "\n",
       "    .dataframe thead th {\n",
       "        text-align: right;\n",
       "    }\n",
       "</style>\n",
       "<table border=\"1\" class=\"dataframe\">\n",
       "  <thead>\n",
       "    <tr style=\"text-align: right;\">\n",
       "      <th></th>\n",
       "      <th>Mean Rewr</th>\n",
       "      <th>Mean Modin-12</th>\n",
       "    </tr>\n",
       "  </thead>\n",
       "  <tbody>\n",
       "    <tr>\n",
       "      <th>C_9_18</th>\n",
       "      <td>-2506.797368</td>\n",
       "      <td>67989.418671</td>\n",
       "    </tr>\n",
       "    <tr>\n",
       "      <th>C_16_1</th>\n",
       "      <td>-19.134946</td>\n",
       "      <td>8521.989304</td>\n",
       "    </tr>\n",
       "    <tr>\n",
       "      <th>C_7_13</th>\n",
       "      <td>1296.081816</td>\n",
       "      <td>4731.018392</td>\n",
       "    </tr>\n",
       "    <tr>\n",
       "      <th>C_0_10</th>\n",
       "      <td>35.787889</td>\n",
       "      <td>4506.288612</td>\n",
       "    </tr>\n",
       "    <tr>\n",
       "      <th>C_8_17</th>\n",
       "      <td>6242.235867</td>\n",
       "      <td>3449.606852</td>\n",
       "    </tr>\n",
       "    <tr>\n",
       "      <th>C_5_8</th>\n",
       "      <td>63.263030</td>\n",
       "      <td>3178.263602</td>\n",
       "    </tr>\n",
       "    <tr>\n",
       "      <th>C_19_15</th>\n",
       "      <td>-12.917920</td>\n",
       "      <td>2794.472060</td>\n",
       "    </tr>\n",
       "    <tr>\n",
       "      <th>C_5_14</th>\n",
       "      <td>-196.330659</td>\n",
       "      <td>2428.740041</td>\n",
       "    </tr>\n",
       "    <tr>\n",
       "      <th>C_13_14</th>\n",
       "      <td>-22.474461</td>\n",
       "      <td>2388.197588</td>\n",
       "    </tr>\n",
       "    <tr>\n",
       "      <th>C_7_8</th>\n",
       "      <td>-2.364877</td>\n",
       "      <td>1456.252973</td>\n",
       "    </tr>\n",
       "  </tbody>\n",
       "</table>\n",
       "</div>"
      ],
      "text/plain": [
       "           Mean Rewr  Mean Modin-12\n",
       "C_9_18  -2506.797368   67989.418671\n",
       "C_16_1    -19.134946    8521.989304\n",
       "C_7_13   1296.081816    4731.018392\n",
       "C_0_10     35.787889    4506.288612\n",
       "C_8_17   6242.235867    3449.606852\n",
       "C_5_8      63.263030    3178.263602\n",
       "C_19_15   -12.917920    2794.472060\n",
       "C_5_14   -196.330659    2428.740041\n",
       "C_13_14   -22.474461    2388.197588\n",
       "C_7_8      -2.364877    1456.252973"
      ]
     },
     "execution_count": 30,
     "metadata": {},
     "output_type": "execute_result"
    }
   ],
   "source": [
    "_mod_mean_df.nlargest(n=10, columns='Mean Modin-12')"
   ]
  },
  {
   "cell_type": "code",
   "execution_count": 31,
   "metadata": {},
   "outputs": [
    {
     "data": {
      "text/plain": [
       "2143.3279407418963"
      ]
     },
     "execution_count": 31,
     "metadata": {},
     "output_type": "execute_result"
    }
   ],
   "source": [
    "(_mod_mean_modin12 / _mod_mean_rewr).max()"
   ]
  },
  {
   "cell_type": "markdown",
   "metadata": {
    "id": "gvFWjA8D2WfH"
   },
   "source": [
    "## Whole Notebooks"
   ]
  },
  {
   "cell_type": "code",
   "execution_count": 32,
   "metadata": {
    "id": "hvaII2_L2YOO"
   },
   "outputs": [],
   "source": [
    "_mod_base_whole = get_whole_mean(base_less_repl)\n",
    "_mod_rewr_whole = get_whole_mean(rewr_less_repl)\n",
    "_mod_mod12_whole = get_whole_mean(modin_12)\n",
    "_mod_mod8_whole = get_whole_mean(modin_8)\n",
    "_mod_mod4_whole = get_whole_mean(modin_4)"
   ]
  },
  {
   "cell_type": "code",
   "execution_count": 33,
   "metadata": {
    "colab": {
     "base_uri": "https://localhost:8080/",
     "height": 422
    },
    "executionInfo": {
     "elapsed": 1214,
     "status": "ok",
     "timestamp": 1675117137961,
     "user": {
      "displayName": "Stefanos Baziotis",
      "userId": "18398596100745288229"
     },
     "user_tz": 360
    },
    "id": "deqhJGKG2oQg",
    "outputId": "1c3b9077-38de-40da-ec35-2030513bb694"
   },
   "outputs": [
    {
     "data": {
      "text/plain": [
       "<Axes: xlabel='Notebooks', ylabel='Relative Speedup'>"
      ]
     },
     "execution_count": 33,
     "metadata": {},
     "output_type": "execute_result"
    },
    {
     "data": {
      "image/png": "[encoded data removed]",
      "text/plain": [
       "<Figure size 2000x400 with 1 Axes>"
      ]
     },
     "metadata": {},
     "output_type": "display_data"
    }
   ],
   "source": [
    "_mod_gmean_rewr_whole_speedup = _mod_base_whole / _mod_rewr_whole\n",
    "_mod_gmean_mod12_whole_speedup = _mod_base_whole / _mod_mod12_whole\n",
    "_mod_gmean_mod8_whole_speedup = _mod_base_whole / _mod_mod8_whole\n",
    "_mod_gmean_mod4_whole_speedup = _mod_base_whole / _mod_mod4_whole\n",
    "whole_nb_df = pd.DataFrame({'Dias': _mod_gmean_rewr_whole_speedup, \n",
    "                            'Modin-4': _mod_gmean_mod4_whole_speedup,\n",
    "                            'Modin-8': _mod_gmean_mod8_whole_speedup,\n",
    "                            'Modin-12': _mod_gmean_mod12_whole_speedup\n",
    "                            })\n",
    "\n",
    "whole_nb_df = only_hits_nb(whole_nb_df)\n",
    "\n",
    "new_index = []\n",
    "for nb_idx in whole_nb_df.index:\n",
    "  new_index.append(nb_labels[nb_idx])\n",
    "whole_nb_df = whole_nb_df.set_index(pd.Series(new_index))\n",
    "\n",
    "\n",
    "ax = whole_nb_df.plot(kind=\"bar\", width=0.7, figsize=(20, 4) )\n",
    "ax.set_ylabel('Relative Speedup', fontsize=20)\n",
    "ax.set_xlabel('Notebooks', fontsize=20)\n",
    "ax.axhline(1, color='red')\n",
    "ax.set_yticks([x for x in np.arange(0, 3.6, 0.5)])\n",
    "ax.grid(visible=True, axis='y')\n",
    "ax.yaxis.set_tick_params(labelsize=20)\n",
    "ax.legend(fontsize=20)\n",
    "plt.xticks(rotation=70, fontsize=14)\n",
    "plt.savefig(f'{figs_dir}/modin_nb.pdf', bbox_inches='tight')\n",
    "ax"
   ]
  },
  {
   "cell_type": "markdown",
   "metadata": {},
   "source": [
    "## Summary Numbers vs Modin"
   ]
  },
  {
   "cell_type": "code",
   "execution_count": 34,
   "metadata": {},
   "outputs": [],
   "source": [
    "speedup_vs_modin = (_mod_mod12_whole / _mod_rewr_whole)"
   ]
  },
  {
   "cell_type": "code",
   "execution_count": 35,
   "metadata": {},
   "outputs": [
    {
     "data": {
      "text/plain": [
       "27.122784625778884"
      ]
     },
     "execution_count": 35,
     "metadata": {},
     "output_type": "execute_result"
    }
   ],
   "source": [
    "speedup_vs_modin.max()"
   ]
  },
  {
   "cell_type": "code",
   "execution_count": 36,
   "metadata": {},
   "outputs": [
    {
     "data": {
      "text/plain": [
       "4.928076717839034"
      ]
     },
     "execution_count": 36,
     "metadata": {},
     "output_type": "execute_result"
    }
   ],
   "source": [
    "stats.gmean(speedup_vs_modin)"
   ]
  },
  {
   "cell_type": "markdown",
   "metadata": {
    "id": "l--QGfc1UkiF"
   },
   "source": [
    "# Memory Consumption"
   ]
  },
  {
   "cell_type": "code",
   "execution_count": 37,
   "metadata": {
    "id": "nOqku2HXT6cc"
   },
   "outputs": [],
   "source": [
    "mean_mem_base = mem_base.apply(lambda nb: nb.mean())\n",
    "mean_mem_rewr = mem_rewr.apply(lambda nb: nb.mean())\n",
    "mean_mem_modin4 = mem_modin4.apply(lambda nb: nb.mean())\n",
    "rewr_mem_diff = mean_mem_rewr - mean_mem_base\n",
    "modin4_mem_diff = mean_mem_modin4 - mean_mem_base\n",
    "mean_mem_df = pd.DataFrame({'SYSTEM': rewr_mem_diff, 'Modin-4': modin4_mem_diff})"
   ]
  },
  {
   "cell_type": "code",
   "execution_count": 38,
   "metadata": {
    "id": "c-1HaAhyncHb"
   },
   "outputs": [],
   "source": [
    "# Mem Usage .csv\n",
    "mean_mem_df = pd.DataFrame({'Pandas': mean_mem_base, 'Modin-4': mean_mem_modin4, 'Dias': mean_mem_rewr})\n",
    "mean_mem_df.to_csv(f'{figs_dir}/test.csv')"
   ]
  },
  {
   "cell_type": "code",
   "execution_count": 39,
   "metadata": {},
   "outputs": [],
   "source": [
    "mean_mem_df = only_hits_nb(mean_mem_df)"
   ]
  },
  {
   "cell_type": "code",
   "execution_count": 40,
   "metadata": {
    "colab": {
     "base_uri": "https://localhost:8080/",
     "height": 614
    },
    "executionInfo": {
     "elapsed": 9,
     "status": "ok",
     "timestamp": 1675117138183,
     "user": {
      "displayName": "Stefanos Baziotis",
      "userId": "18398596100745288229"
     },
     "user_tz": 360
    },
    "id": "GnBHPaoQYxta",
    "outputId": "6f79ada4-6bc5-4eba-edaf-f7ef182d9fb4"
   },
   "outputs": [
    {
     "data": {
      "text/html": [
       "<div>\n",
       "<style scoped>\n",
       "    .dataframe tbody tr th:only-of-type {\n",
       "        vertical-align: middle;\n",
       "    }\n",
       "\n",
       "    .dataframe tbody tr th {\n",
       "        vertical-align: top;\n",
       "    }\n",
       "\n",
       "    .dataframe thead th {\n",
       "        text-align: right;\n",
       "    }\n",
       "</style>\n",
       "<table border=\"1\" class=\"dataframe\">\n",
       "  <thead>\n",
       "    <tr style=\"text-align: right;\">\n",
       "      <th></th>\n",
       "      <th>Pandas</th>\n",
       "      <th>Modin-4</th>\n",
       "      <th>Dias</th>\n",
       "    </tr>\n",
       "  </thead>\n",
       "  <tbody>\n",
       "    <tr>\n",
       "      <th>NB_0</th>\n",
       "      <td>269.3</td>\n",
       "      <td>6176.1</td>\n",
       "      <td>266.8</td>\n",
       "    </tr>\n",
       "    <tr>\n",
       "      <th>NB_1</th>\n",
       "      <td>1043.2</td>\n",
       "      <td>4921.0</td>\n",
       "      <td>931.4</td>\n",
       "    </tr>\n",
       "    <tr>\n",
       "      <th>NB_2</th>\n",
       "      <td>532.1</td>\n",
       "      <td>0.0</td>\n",
       "      <td>557.0</td>\n",
       "    </tr>\n",
       "    <tr>\n",
       "      <th>NB_3</th>\n",
       "      <td>2024.5</td>\n",
       "      <td>3152.5</td>\n",
       "      <td>2037.2</td>\n",
       "    </tr>\n",
       "    <tr>\n",
       "      <th>NB_4</th>\n",
       "      <td>2250.0</td>\n",
       "      <td>13161.0</td>\n",
       "      <td>2251.0</td>\n",
       "    </tr>\n",
       "    <tr>\n",
       "      <th>NB_5</th>\n",
       "      <td>2821.7</td>\n",
       "      <td>16923.4</td>\n",
       "      <td>2206.9</td>\n",
       "    </tr>\n",
       "    <tr>\n",
       "      <th>NB_6</th>\n",
       "      <td>693.0</td>\n",
       "      <td>90665.4</td>\n",
       "      <td>576.6</td>\n",
       "    </tr>\n",
       "    <tr>\n",
       "      <th>NB_7</th>\n",
       "      <td>4617.7</td>\n",
       "      <td>107626.8</td>\n",
       "      <td>5660.0</td>\n",
       "    </tr>\n",
       "    <tr>\n",
       "      <th>NB_8</th>\n",
       "      <td>568.2</td>\n",
       "      <td>1554.8</td>\n",
       "      <td>566.7</td>\n",
       "    </tr>\n",
       "    <tr>\n",
       "      <th>NB_9</th>\n",
       "      <td>4511.1</td>\n",
       "      <td>13445.6</td>\n",
       "      <td>4525.7</td>\n",
       "    </tr>\n",
       "  </tbody>\n",
       "</table>\n",
       "</div>"
      ],
      "text/plain": [
       "      Pandas   Modin-4    Dias\n",
       "NB_0   269.3    6176.1   266.8\n",
       "NB_1  1043.2    4921.0   931.4\n",
       "NB_2   532.1       0.0   557.0\n",
       "NB_3  2024.5    3152.5  2037.2\n",
       "NB_4  2250.0   13161.0  2251.0\n",
       "NB_5  2821.7   16923.4  2206.9\n",
       "NB_6   693.0   90665.4   576.6\n",
       "NB_7  4617.7  107626.8  5660.0\n",
       "NB_8   568.2    1554.8   566.7\n",
       "NB_9  4511.1   13445.6  4525.7"
      ]
     },
     "execution_count": 40,
     "metadata": {},
     "output_type": "execute_result"
    }
   ],
   "source": [
    "# Remove those we could not measure\n",
    "mean_mem_df = mean_mem_df.loc[mean_mem_modin4 != -1]\n",
    "mean_mem_df"
   ]
  },
  {
   "cell_type": "code",
   "execution_count": 41,
   "metadata": {
    "id": "bH7DI7qpVDti"
   },
   "outputs": [],
   "source": [
    "# gmean_mem_df['Modin-4'] = 1 - gmean_mem_df['Modin-4']\n"
   ]
  },
  {
   "cell_type": "code",
   "execution_count": 42,
   "metadata": {
    "colab": {
     "base_uri": "https://localhost:8080/",
     "height": 614
    },
    "executionInfo": {
     "elapsed": 8,
     "status": "ok",
     "timestamp": 1675117138183,
     "user": {
      "displayName": "Stefanos Baziotis",
      "userId": "18398596100745288229"
     },
     "user_tz": 360
    },
    "id": "SBVNszlk9QHs",
    "outputId": "9e9b7dce-cb10-483b-956c-a85ff9c38ea2"
   },
   "outputs": [
    {
     "data": {
      "text/html": [
       "<div>\n",
       "<style scoped>\n",
       "    .dataframe tbody tr th:only-of-type {\n",
       "        vertical-align: middle;\n",
       "    }\n",
       "\n",
       "    .dataframe tbody tr th {\n",
       "        vertical-align: top;\n",
       "    }\n",
       "\n",
       "    .dataframe thead th {\n",
       "        text-align: right;\n",
       "    }\n",
       "</style>\n",
       "<table border=\"1\" class=\"dataframe\">\n",
       "  <thead>\n",
       "    <tr style=\"text-align: right;\">\n",
       "      <th></th>\n",
       "      <th>Pandas</th>\n",
       "      <th>Modin-4</th>\n",
       "      <th>Dias</th>\n",
       "    </tr>\n",
       "  </thead>\n",
       "  <tbody>\n",
       "    <tr>\n",
       "      <th>feedb-eda-hf-sift</th>\n",
       "      <td>0.262988</td>\n",
       "      <td>6.031348</td>\n",
       "      <td>0.260547</td>\n",
       "    </tr>\n",
       "    <tr>\n",
       "      <th>kaggle-survey-2022</th>\n",
       "      <td>1.018750</td>\n",
       "      <td>4.805664</td>\n",
       "      <td>0.909570</td>\n",
       "    </tr>\n",
       "    <tr>\n",
       "      <th>sales-pred-xgboost</th>\n",
       "      <td>0.519629</td>\n",
       "      <td>0.000000</td>\n",
       "      <td>0.543945</td>\n",
       "    </tr>\n",
       "    <tr>\n",
       "      <th>env-ai-startups-eda</th>\n",
       "      <td>1.977051</td>\n",
       "      <td>3.078613</td>\n",
       "      <td>1.989453</td>\n",
       "    </tr>\n",
       "    <tr>\n",
       "      <th>animal-crossing</th>\n",
       "      <td>2.197266</td>\n",
       "      <td>12.852539</td>\n",
       "      <td>2.198242</td>\n",
       "    </tr>\n",
       "    <tr>\n",
       "      <th>course-prediction</th>\n",
       "      <td>2.755566</td>\n",
       "      <td>16.526758</td>\n",
       "      <td>2.155176</td>\n",
       "    </tr>\n",
       "    <tr>\n",
       "      <th>adidas-retail-eda</th>\n",
       "      <td>0.676758</td>\n",
       "      <td>88.540430</td>\n",
       "      <td>0.563086</td>\n",
       "    </tr>\n",
       "    <tr>\n",
       "      <th>netflix-data-viz</th>\n",
       "      <td>4.509473</td>\n",
       "      <td>105.104297</td>\n",
       "      <td>5.527344</td>\n",
       "    </tr>\n",
       "    <tr>\n",
       "      <th>student-perf</th>\n",
       "      <td>0.554883</td>\n",
       "      <td>1.518359</td>\n",
       "      <td>0.553418</td>\n",
       "    </tr>\n",
       "    <tr>\n",
       "      <th>movie-recomm</th>\n",
       "      <td>4.405371</td>\n",
       "      <td>13.130469</td>\n",
       "      <td>4.419629</td>\n",
       "    </tr>\n",
       "  </tbody>\n",
       "</table>\n",
       "</div>"
      ],
      "text/plain": [
       "                       Pandas     Modin-4      Dias\n",
       "feedb-eda-hf-sift    0.262988    6.031348  0.260547\n",
       "kaggle-survey-2022   1.018750    4.805664  0.909570\n",
       "sales-pred-xgboost   0.519629    0.000000  0.543945\n",
       "env-ai-startups-eda  1.977051    3.078613  1.989453\n",
       "animal-crossing      2.197266   12.852539  2.198242\n",
       "course-prediction    2.755566   16.526758  2.155176\n",
       "adidas-retail-eda    0.676758   88.540430  0.563086\n",
       "netflix-data-viz     4.509473  105.104297  5.527344\n",
       "student-perf         0.554883    1.518359  0.553418\n",
       "movie-recomm         4.405371   13.130469  4.419629"
      ]
     },
     "execution_count": 42,
     "metadata": {},
     "output_type": "execute_result"
    }
   ],
   "source": [
    "new_index = []\n",
    "for nb in mean_mem_df.index:\n",
    "  nb_idx = int(nb.split('_')[1])\n",
    "  new_index.append(nb_labels[nb_idx])\n",
    "mean_mem_df_names = mean_mem_df.set_index(pd.Series(new_index))\n",
    "\n",
    "for col in mean_mem_df_names.columns:\n",
    "  mean_mem_df_names[col] = mean_mem_df_names[col] / 1024\n",
    "mean_mem_df_names"
   ]
  },
  {
   "cell_type": "code",
   "execution_count": 43,
   "metadata": {},
   "outputs": [],
   "source": [
    "# Drop this row because we were not able to obtain memory measurements (the memory measurement is 0)\n",
    "mean_mem_df_names = mean_mem_df_names.drop('sales-pred-xgboost')"
   ]
  },
  {
   "cell_type": "code",
   "execution_count": 44,
   "metadata": {
    "colab": {
     "base_uri": "https://localhost:8080/",
     "height": 774
    },
    "executionInfo": {
     "elapsed": 1448,
     "status": "ok",
     "timestamp": 1675117139624,
     "user": {
      "displayName": "Stefanos Baziotis",
      "userId": "18398596100745288229"
     },
     "user_tz": 360
    },
    "id": "Z3imcTyjEmrp",
    "outputId": "c09d7a4b-61d7-4cc9-ac53-bc18ff4f2114"
   },
   "outputs": [
    {
     "data": {
      "image/png": "[encoded data removed]",
      "text/plain": [
       "<Figure size 1600x600 with 2 Axes>"
      ]
     },
     "metadata": {},
     "output_type": "display_data"
    }
   ],
   "source": [
    "import matplotlib.gridspec as gridspec\n",
    "\n",
    "nrows = 2\n",
    "ncols = 1\n",
    "gs = gridspec.GridSpec(nrows, ncols, height_ratios=[0.2, 0.8])\n",
    "fig = plt.figure(figsize=(16, 6), dpi=100)\n",
    "ax1 = fig.add_subplot(gs[0])\n",
    "ax2 = fig.add_subplot(gs[1])\n",
    "fig.subplots_adjust(hspace=0.2)\n",
    "\n",
    "# -.5 otherwise some bars are hidden on the left.\n",
    "xlim = [-0.5, len(mean_mem_df_names)]\n",
    "top_y = [40, 90]\n",
    "bott_y = [0, 20]\n",
    "ylim = [[], top_y, bott_y]\n",
    "\n",
    "bar_width = 0.8\n",
    "\n",
    "# three_colors = [(0.643, 0.424, 0.718, 1), (0.478, 0.643, 0.341, 1), (0.796, 0.416, 0.286, 1)]\n",
    "# mean_mem_df_names.plot(kind='bar', width=bar_width, ax=ax1, legend=False, color=three_colors)\n",
    "mean_mem_df_names.plot(kind='bar', width=bar_width, ax=ax1, legend=False)\n",
    "\n",
    "ax1.set_xlim(*xlim)\n",
    "ax1.set_ylim(*ylim[1])\n",
    "# ax1.grid(color='lightgrey')\n",
    "\n",
    "# mean_mem_df_names.plot(kind='bar', width=bar_width, ax=ax2, legend=True, color=three_colors)\n",
    "mean_mem_df_names.plot(kind='bar', width=bar_width, ax=ax2, legend=True)\n",
    "ax2.legend(fontsize=20)\n",
    "ax2.set_xlim(*xlim)\n",
    "ax2.set_ylim(*ylim[2])\n",
    "ax2.set_xlabel('Notebooks', labelpad=20, fontsize=25)\n",
    "ax2.set_ylabel('Memory+Disk Usage (GB)', fontsize=25)\n",
    "# ax2.grid(color='lightgrey')\n",
    "ax2.yaxis.set_label_coords(-0.08, 0.7)\n",
    "\n",
    "ax2.xaxis.set_tick_params(labelsize=20, rotation=70)\n",
    "\n",
    "ax1.yaxis.set_tick_params(labelsize=25)\n",
    "ax2.yaxis.set_tick_params(labelsize=25)\n",
    "# ax2.yaxis.offsetText.set_visible(False)\n",
    "# ax2.yaxis.get_major_ticks()[0].label1.set_visible(False)\n",
    "# ax2.ticklabel_format(axis='y', style='sci', scilimits=(6, 6))\n",
    "\n",
    "ax1.spines['bottom'].set_visible(False)\n",
    "ax2.spines['top'].set_visible(False)\n",
    "ax1.set_xticks([])\n",
    "\n",
    "if APPENDIX_RESUTLS:\n",
    "  ax1.set_yticks([60, 250])\n",
    "  ax2.set_yticks([0, 5, 10, 15, 20, 25])\n",
    "\n",
    "  ax1.axhline(40+0.1, color=(0.1, 0.2, 0.5, 0.3), dashes=(5, 2, 1, 2))\n",
    "  ax2.axhline(25 - 0.1, color=(0.1, 0.2, 0.5, 0.3), dashes=(5, 2, 1, 2))\n",
    "  ax2.axhline(20, color=(0.1, 0.2, 0.5, 0.3), dashes=(5, 2, 1, 2))\n",
    "  ax2.axhline(15, color=(0.1, 0.2, 0.5, 0.3), dashes=(5, 2, 1, 2))\n",
    "  ax2.axhline(10, color=(0.1, 0.2, 0.5, 0.3), dashes=(5, 2, 1, 2))\n",
    "  ax2.axhline(5, color=(0.1, 0.2, 0.5, 0.3), dashes=(5, 2, 1, 2))\n",
    "else:\n",
    "  ax1.set_yticks([40, 90])\n",
    "  ax2.set_yticks([0, 5, 10, 20])\n",
    "\n",
    "  ax1.axhline(40+0.1, color=(0.1, 0.2, 0.5, 0.3), dashes=(5, 2, 1, 2))\n",
    "  ax2.axhline(20 - 0.1, color=(0.1, 0.2, 0.5, 0.3), dashes=(5, 2, 1, 2))\n",
    "  ax2.axhline(10, color=(0.1, 0.2, 0.5, 0.3), dashes=(5, 2, 1, 2))\n",
    "  ax2.axhline(5, color=(0.1, 0.2, 0.5, 0.3), dashes=(5, 2, 1, 2))\n",
    "\n",
    "slant = 0.5\n",
    "kwargs = dict(marker=[(-1, -slant), (1, slant)], markersize=12,\n",
    "        linestyle='none', color='k', mec='k', mew=1, clip_on=False)\n",
    "ax1.plot([0, 1], [0, 0], transform=ax1.transAxes, **kwargs)\n",
    "ax2.plot([0, 1], [1, 1], transform=ax2.transAxes, **kwargs)\n",
    "\n",
    "plt.savefig(f'{figs_dir}/mem_usage.pdf', bbox_inches='tight')"
   ]
  },
  {
   "cell_type": "markdown",
   "metadata": {},
   "source": [
    "## Relative Memory vs Modin"
   ]
  },
  {
   "cell_type": "code",
   "execution_count": 45,
   "metadata": {},
   "outputs": [],
   "source": [
    "rel_mem = mean_mem_df_names['Modin-4'] / mean_mem_df_names['Pandas']"
   ]
  },
  {
   "cell_type": "code",
   "execution_count": 46,
   "metadata": {},
   "outputs": [
    {
     "data": {
      "text/plain": [
       "130.830303030303"
      ]
     },
     "execution_count": 46,
     "metadata": {},
     "output_type": "execute_result"
    }
   ],
   "source": [
    "rel_mem.max()"
   ]
  },
  {
   "cell_type": "code",
   "execution_count": 47,
   "metadata": {},
   "outputs": [
    {
     "data": {
      "text/plain": [
       "22.32332077563654"
      ]
     },
     "execution_count": 47,
     "metadata": {},
     "output_type": "execute_result"
    }
   ],
   "source": [
    "rel_mem.mean()"
   ]
  },
  {
   "cell_type": "markdown",
   "metadata": {
    "id": "qDzgHRhtt8IE"
   },
   "source": [
    "# Rewriter Stats"
   ]
  },
  {
   "cell_type": "code",
   "execution_count": 48,
   "metadata": {
    "id": "mOwq-A-zaS6Z"
   },
   "outputs": [],
   "source": [
    "cell_rewr_stats = dict()\n",
    "version = \"stats-rewr_ON-modin_OFF-repl_STD-modin_mem_OFF\"\n",
    "for nb_idx, nb in enumerate(nbs):\n",
    "  for r in range(num_runs):\n",
    "    nb_filename = '_'.join(nb.split('/')) + '.json'\n",
    "    filepath = f\"{pwd}/{version}/s-{r}/{nb_filename}\"\n",
    "    fp = open(filepath, 'r')\n",
    "    d = json.load(fp)\n",
    "    fp.close()\n",
    "    for c_idx, c in enumerate(d['cells']):\n",
    "      key = f\"C_{nb_idx}_{c_idx}\"\n",
    "      try:\n",
    "        cell_rewr_stats[key].append(c)\n",
    "      except:\n",
    "        cell_rewr_stats[key] = [c]"
   ]
  },
  {
   "cell_type": "markdown",
   "metadata": {},
   "source": [
    "## How Many Patterns We Needed"
   ]
  },
  {
   "cell_type": "code",
   "execution_count": 49,
   "metadata": {},
   "outputs": [
    {
     "data": {
      "text/plain": [
       "10"
      ]
     },
     "execution_count": 49,
     "metadata": {},
     "output_type": "execute_result"
    }
   ],
   "source": [
    "patts_needed = set()\n",
    "for cell_key in cell_rewr_stats:\n",
    "  cell = cell_rewr_stats[cell_key]\n",
    "  for run in cell:\n",
    "    patts_needed |= set(run['patts-hit'].keys())\n",
    "\n",
    "len(patts_needed)"
   ]
  },
  {
   "cell_type": "markdown",
   "metadata": {
    "id": "viCe5DsIxNo8"
   },
   "source": [
    "## Max and Mean Absolute Overheads (in any run)"
   ]
  },
  {
   "cell_type": "code",
   "execution_count": 50,
   "metadata": {
    "colab": {
     "base_uri": "https://localhost:8080/"
    },
    "executionInfo": {
     "elapsed": 12,
     "status": "ok",
     "timestamp": 1675117224208,
     "user": {
      "displayName": "Stefanos Baziotis",
      "userId": "18398596100745288229"
     },
     "user_tz": 360
    },
    "id": "X0PRbbR2xLfo",
    "outputId": "b4790230-a8ae-4403-b630-84270bda18e4"
   },
   "outputs": [
    {
     "name": "stdout",
     "output_type": "stream",
     "text": [
      "Maximum Overhead:  22.77ms\n",
      "GMean Overhead:  0.41ms\n"
     ]
    }
   ],
   "source": [
    "# NOTE: We find the max overhead _in any run_, not means.\n",
    "\n",
    "all_ohs = []\n",
    "for cell_key in cell_rewr_stats:\n",
    "  cell = cell_rewr_stats[cell_key]\n",
    "  for run in cell:\n",
    "    oh = ns_to_ms(run['overhead-ns'])\n",
    "    all_ohs.append(oh)\n",
    "\n",
    "max_oh = max(all_ohs)\n",
    "print(f\"Maximum Overhead: {max_oh: .2f}ms\")\n",
    "mean_oh = stats.gmean(all_ohs)\n",
    "print(f\"GMean Overhead: {mean_oh: .2f}ms\")"
   ]
  },
  {
   "cell_type": "markdown",
   "metadata": {
    "id": "7d285IBJ25cx"
   },
   "source": [
    "## Do we every slow down a rewritten cell (beyond interactive latency) ?"
   ]
  },
  {
   "cell_type": "code",
   "execution_count": 51,
   "metadata": {
    "colab": {
     "base_uri": "https://localhost:8080/"
    },
    "executionInfo": {
     "elapsed": 11,
     "status": "ok",
     "timestamp": 1675117224209,
     "user": {
      "displayName": "Stefanos Baziotis",
      "userId": "18398596100745288229"
     },
     "user_tz": 360
    },
    "id": "cXm-f3-Sz2tA",
    "outputId": "6921473c-586e-4503-8e6c-3f9c78e911bc"
   },
   "outputs": [
    {
     "name": "stdout",
     "output_type": "stream",
     "text": [
      "NO!\n"
     ]
    }
   ],
   "source": [
    "# Pretty small value for interactive latency\n",
    "interactive_latency = 10\n",
    "slowdown_rewr_cell = False\n",
    "\n",
    "# Go through each cell in the stats. If we hit on this cell, then check the\n",
    "# original stats and see if there's a difference outside the interactive\n",
    "# latency.\n",
    "for cell_key in cell_rewr_stats:\n",
    "  if cell_key not in orig.columns:\n",
    "    # Dropped as very fast. Skip\n",
    "    continue\n",
    "  # Get only one run. If we hit, we hit in all the runs.\n",
    "  cell = cell_rewr_stats[cell_key][0]\n",
    "  if cell['patts-hit'] != {}:\n",
    "    diff = mean_rewr[cell_key] - mean_orig[cell_key]\n",
    "    if diff > interactive_latency:\n",
    "      print(f\"Slowdown: {diff: .2f}\")\n",
    "      slowdown_rewr_cell = True\n",
    "\n",
    "if not slowdown_rewr_cell:\n",
    "  print(\"NO!\")"
   ]
  }
 ],
 "metadata": {
  "colab": {
   "provenance": []
  },
  "kernelspec": {
   "display_name": "Python 3 (ipykernel)",
   "language": "python",
   "name": "python3"
  },
  "language_info": {
   "codemirror_mode": {
    "name": "ipython",
    "version": 3
   },
   "file_extension": ".py",
   "mimetype": "text/x-python",
   "name": "python",
   "nbconvert_exporter": "python",
   "pygments_lexer": "ipython3",
   "version": "3.10.11"
  }
 },
 "nbformat": 4,
 "nbformat_minor": 1
}
